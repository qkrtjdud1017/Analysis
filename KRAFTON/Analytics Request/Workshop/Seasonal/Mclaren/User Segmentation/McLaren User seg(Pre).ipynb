{
 "cells": [
  {
   "cell_type": "code",
   "execution_count": 2,
   "metadata": {},
   "outputs": [
    {
     "name": "stdout",
     "output_type": "stream",
     "text": [
      "Spark cluster not assigned. creating a new one...\n",
      "Node spec: 8 executors with 48G RAM each\n",
      "Job Port 4049 is assigned for requested cluster\n",
      "Waiting for Spark master to be available...\n",
      "Spark master launched!\n",
      "Creating new Spark session, name: west0_mclaren...\n",
      "Waiting for all executors ready...\n",
      "All executors connected!\n",
      "Complete! elapsed time: 00:00:25\n"
     ]
    }
   ],
   "source": [
    "from pubg_util import mysql, load_schema, notifier\n",
    "from sphynx import sphynx, NODE_SMALL, NODE_MEDIUM, NODE_LARGE\n",
    "from pyspark.sql.functions import *\n",
    "import pandas as pd\n",
    "import pickle\n",
    "\n",
    "spark = sphynx.get_spark(executor_count=8, app_name='west0_mclaren', node_spec=NODE_LARGE)"
   ]
  },
  {
   "cell_type": "code",
   "execution_count": 63,
   "metadata": {},
   "outputs": [
    {
     "name": "stdout",
     "output_type": "stream",
     "text": [
      "Stopping Spark session...\n",
      "Destroying Spark cluster...\n"
     ]
    },
    {
     "name": "stderr",
     "output_type": "stream",
     "text": [
      "/usr/local/spark/python/pyspark/context.py:446: RuntimeWarning: Unable to cleanly shutdown Spark JVM process. It is possible that the process has crashed, been killed or may also be in a zombie state.\n",
      "  RuntimeWarning\n"
     ]
    },
    {
     "name": "stdout",
     "output_type": "stream",
     "text": [
      "Done!\n",
      "You can safely ignore the warning message if there is any.\n"
     ]
    }
   ],
   "source": [
    "sphynx.stop()"
   ]
  },
  {
   "cell_type": "code",
   "execution_count": 1,
   "metadata": {},
   "outputs": [],
   "source": [
    "pre_start_date = \"2022-07-13\"\n",
    "pre_end_date = \"2022-09-06\"\n",
    "\n",
    "post_start_date = \"2022-09-07\"\n",
    "post_gcoin_end_date = \"2022-11-02\"\n",
    "post_craft_end_date = \"2022-11-07\""
   ]
  },
  {
   "cell_type": "code",
   "execution_count": 26,
   "metadata": {},
   "outputs": [],
   "source": [
    "gcoin = load_data_mart(\"pc\", pre_start_date, pre_end_date, \"gcoin_use\")"
   ]
  },
  {
   "cell_type": "code",
   "execution_count": 4,
   "metadata": {},
   "outputs": [],
   "source": [
    "# pre기간동안 과금에 따라 유저 나누기\n",
    "gcoin_by_user = gcoin.groupBy(\"account_id\").agg(sum('paid_use').alias(\"paid_use\"), sum(col(\"paid_use\") + col(\"free_use\")).alias(\"total_use\"))"
   ]
  },
  {
   "cell_type": "code",
   "execution_count": 27,
   "metadata": {},
   "outputs": [
    {
     "name": "stdout",
     "output_type": "stream",
     "text": [
      "+-----+-----+------+------+\n",
      "|0.2  |0.4  |0.6   |0.8   |\n",
      "+-----+-----+------+------+\n",
      "|390.0|580.0|1230.0|2090.0|\n",
      "+-----+-----+------+------+\n",
      "\n"
     ]
    }
   ],
   "source": [
    "gcoin_by_user.select(expr('percentile(total_use, 0.2)').alias(\"0.2\"), expr('percentile(total_use, 0.4)').alias(\"0.4\"), expr('percentile(total_use, 0.6)').alias(\"0.6\"), expr('percentile(total_use, 0.8)').alias(\"0.8\")).show(truncate=False)"
   ]
  },
  {
   "cell_type": "code",
   "execution_count": 29,
   "metadata": {
    "collapsed": true,
    "jupyter": {
     "outputs_hidden": true
    }
   },
   "outputs": [
    {
     "name": "stdout",
     "output_type": "stream",
     "text": [
      "+----------------------------------------+----------+--------+-----------------+--------+------------+--------+------------+-----+---+-------------+----------------------------+-------------------+---------------------------------------------------------+------------------+----------------+-----------------------+------+--------+-----------------------+-----------+-------------------------+------------+--------+------------+----------+----------+----+-----+----+------+-------------------+-------------------+---------------+-------------------+--------+---------+\n",
      "|account_id                              |date      |platform|product_id       |free_use|free_balance|paid_use|paid_balance|price|qty|reason       |time                        |transaction_id     |gcoin_by_expiry                                          |type              |is_salesid_exist|sales_id_              |device|currency|sales_id               |exchange_id|product_name             |product_type|category|sub_category|event_type|event_name|tags|part |tier|price_|start_time         |end_time           |catalog_version|update_time        |paid_use|total_use|\n",
      "+----------------------------------------+----------+--------+-----------------+--------+------------+--------+------------+-----+---+-------------+----------------------------+-------------------+---------------------------------------------------------+------------------+----------------+-----------------------+------+--------+-----------------------+-----------+-------------------------+------------+--------+------------+----------+----------+----+-----+----+------+-------------------+-------------------+---------------+-------------------+--------+---------+\n",
      "|account.0547a25e90044b5a844401611f2a63e5|2022-07-30|STEAM   |itemdesc.11010326|80      |0           |0       |0           |80   |1  |buy-cash-item|2022-07-30T14:01:38.3596446Z|1553365940693906379|[[2027-06-13, 80, 0, 0, 0]]                              |UseGCoinCurrencyV2|1               |yourshopitem.7_11010326|PC    |gcoin   |yourshopitem.7_11010326|null       |Legend Status Jersey     |ingame      |skin    |costume     |yourshop  |yourshop7 |null|torso|5   |200.00|2022-07-27 02:00:00|2022-08-17 02:00:00|6bc3109a       |2022-11-01 10:38:22|0       |80       |\n",
      "|account.06def652ee8b4da691e8f86b4d98c264|2022-07-28|STEAM   |itemdesc.11010326|80      |230         |0       |0           |80   |1  |buy-cash-item|2022-07-28T09:39:31.093089Z |1552542880554337916|[[2027-01-14, 80, 230, 0, 0]]                            |UseGCoinCurrencyV2|1               |yourshopitem.7_11010326|PC    |gcoin   |yourshopitem.7_11010326|null       |Legend Status Jersey     |ingame      |skin    |costume     |yourshop  |yourshop7 |null|torso|5   |200.00|2022-07-27 02:00:00|2022-08-17 02:00:00|6bc3109a       |2022-11-01 10:38:22|0       |80       |\n",
      "|account.0b6585c1e1e24ecdbc0861ee05681fcd|2022-08-14|STEAM   |itemdesc.11030183|70      |20          |0       |0           |70   |1  |buy-cash-item|2022-08-14T16:16:00.9319749Z|1558817398042150162|[[2027-01-13, 70, 20, 0, 0]]                             |UseGCoinCurrencyV2|1               |yourshopitem.7_11030183|PC    |gcoin   |yourshopitem.7_11030183|null       |Legend Basketball Shoes  |ingame      |skin    |costume     |yourshop  |yourshop7 |null|feet |5   |150.00|2022-07-27 02:00:00|2022-08-17 02:00:00|6bc3109a       |2022-11-01 10:38:22|0       |70       |\n",
      "|account.0e1c6f2a9ba544b2a2634f777d978e2f|2022-08-11|STEAM   |itemdesc.11010326|80      |420         |0       |0           |80   |1  |buy-cash-item|2022-08-11T11:25:36.4464216Z|1557673315873602268|[[2027-06-26, 80, 420, 0, 0]]                            |UseGCoinCurrencyV2|1               |yourshopitem.7_11010326|PC    |gcoin   |yourshopitem.7_11010326|null       |Legend Status Jersey     |ingame      |skin    |costume     |yourshop  |yourshop7 |null|torso|5   |200.00|2022-07-27 02:00:00|2022-08-17 02:00:00|6bc3109a       |2022-11-01 10:38:22|0       |80       |\n",
      "|account.0fd576f714844fc2bae0ae79c15f393c|2022-07-29|STEAM   |itemdesc.11010326|80      |0           |0       |0           |80   |1  |buy-cash-item|2022-07-29T17:12:13.1682749Z|1553017395730228802|[[2027-02-07, 80, 0, 0, 0]]                              |UseGCoinCurrencyV2|1               |yourshopitem.7_11010326|PC    |gcoin   |yourshopitem.7_11010326|null       |Legend Status Jersey     |ingame      |skin    |costume     |yourshop  |yourshop7 |null|torso|5   |200.00|2022-07-27 02:00:00|2022-08-17 02:00:00|6bc3109a       |2022-11-01 10:38:22|0       |80       |\n",
      "|account.17481d2f730b4543971deb3166c33c37|2022-07-28|STEAM   |itemdesc.11010326|80      |40          |0       |0           |80   |1  |buy-cash-item|2022-07-28T10:02:06.4030406Z|1552554259029994416|[[2027-05-05, 60, 40, 0, 0], [2027-04-28, 20, 0, 0, 0]]  |UseGCoinCurrencyV2|1               |yourshopitem.7_11010326|PC    |gcoin   |yourshopitem.7_11010326|null       |Legend Status Jersey     |ingame      |skin    |costume     |yourshop  |yourshop7 |null|torso|5   |200.00|2022-07-27 02:00:00|2022-08-17 02:00:00|6bc3109a       |2022-11-01 10:38:22|0       |80       |\n",
      "|account.186cd72eff1643c99525c7436d53bf95|2022-07-27|STEAM   |itemdesc.11030183|0       |10          |40      |0           |40   |1  |buy-cash-item|2022-07-27T05:27:38.6147984Z|1552135799577821668|[[2027-05-29, 0, 10, 40, 0]]                             |UseGCoinCurrencyV2|1               |yourshopitem.7_11030183|PC    |gcoin   |yourshopitem.7_11030183|null       |Legend Basketball Shoes  |ingame      |skin    |costume     |yourshop  |yourshop7 |null|feet |5   |150.00|2022-07-27 02:00:00|2022-08-17 02:00:00|6bc3109a       |2022-11-01 10:38:22|40      |40       |\n",
      "|account.1a19175a2b974a8181d75b269d386b39|2022-07-27|STEAM   |itemdesc.11030183|60      |0           |0       |0           |60   |1  |buy-cash-item|2022-07-27T09:59:24.4092734Z|1552205495467546412|[[2022-08-23, 30, 0, 0, 0], [2022-08-24, 30, 0, 0, 0]]   |UseGCoinCurrencyV2|1               |yourshopitem.7_11030183|PC    |gcoin   |yourshopitem.7_11030183|null       |Legend Basketball Shoes  |ingame      |skin    |costume     |yourshop  |yourshop7 |null|feet |5   |150.00|2022-07-27 02:00:00|2022-08-17 02:00:00|6bc3109a       |2022-11-01 10:38:22|0       |60       |\n",
      "|account.1d313ca7fb2148809d9afe7a3569200e|2022-07-30|STEAM   |itemdesc.11010326|0       |0           |80      |10          |80   |1  |buy-cash-item|2022-07-30T19:11:28.4040167Z|1553411430500307669|[[2027-06-05, 0, 0, 80, 10]]                             |UseGCoinCurrencyV2|1               |yourshopitem.7_11010326|PC    |gcoin   |yourshopitem.7_11010326|null       |Legend Status Jersey     |ingame      |skin    |costume     |yourshop  |yourshop7 |null|torso|5   |200.00|2022-07-27 02:00:00|2022-08-17 02:00:00|6bc3109a       |2022-11-01 10:38:22|80      |80       |\n",
      "|account.1f1f32dc32154f77afb2b20769d4b51b|2022-08-14|STEAM   |itemdesc.11040071|90      |10          |0       |0           |90   |1  |buy-cash-item|2022-08-14T05:59:59.7999015Z|1558665301116083052|[[2027-05-14, 90, 10, 0, 0]]                             |UseGCoinCurrencyV2|1               |yourshopitem.7_11040071|PC    |gcoin   |yourshopitem.7_11040071|null       |Crimson Hex's Gloves     |ingame      |skin    |costume     |yourshop  |yourshop7 |null|hands|6   |300.00|2022-07-27 02:00:00|2022-08-17 02:00:00|6bc3109a       |2022-11-01 10:38:22|0       |90       |\n",
      "|account.2012477cc7634350b2533a44c78a3c2c|2022-08-09|STEAM   |itemdesc.11030184|60      |0           |0       |0           |60   |1  |buy-cash-item|2022-08-09T17:42:48.7117845Z|1557050486635370440|[[2027-05-18, 60, 0, 0, 0]]                              |UseGCoinCurrencyV2|1               |yourshopitem.7_11030184|PC    |gcoin   |yourshopitem.7_11030184|null       |Legend Status Shoes      |ingame      |skin    |costume     |yourshop  |yourshop7 |null|feet |5   |150.00|2022-07-27 02:00:00|2022-08-17 02:00:00|6bc3109a       |2022-11-01 10:38:22|0       |60       |\n",
      "|account.26736b757840400c9ada7092c76697f6|2022-07-30|KAKAO   |itemdesc.11030184|0       |50          |60      |50          |60   |1  |buy-cash-item|2022-07-30T11:54:58.3969349Z|1553338277379975285|[[2099-12-31, 0, 50, 60, 50]]                            |UseGCoinCurrencyV2|1               |yourshopitem.7_11030184|PC    |gcoin   |yourshopitem.7_11030184|null       |Legend Status Shoes      |ingame      |skin    |costume     |yourshop  |yourshop7 |null|feet |5   |150.00|2022-07-27 02:00:00|2022-08-17 02:00:00|6bc3109a       |2022-11-01 10:38:22|60      |60       |\n",
      "|account.267657174eb3469383c6f3eeb059cbf3|2022-08-07|STEAM   |itemdesc.11010326|80      |20          |0       |0           |80   |1  |buy-cash-item|2022-08-07T09:05:48.6564256Z|1556146657127608369|[[2027-03-07, 80, 20, 0, 0]]                             |UseGCoinCurrencyV2|1               |yourshopitem.7_11010326|PC    |gcoin   |yourshopitem.7_11010326|null       |Legend Status Jersey     |ingame      |skin    |costume     |yourshop  |yourshop7 |null|torso|5   |200.00|2022-07-27 02:00:00|2022-08-17 02:00:00|6bc3109a       |2022-11-01 10:38:22|0       |80       |\n",
      "|account.3619cf886e9a4d0ba3d6d9a3f62903b5|2022-08-07|STEAM   |itemdesc.11010326|60      |10          |20      |480         |80   |1  |buy-cash-item|2022-08-07T08:33:31.3399817Z|1556152168342389908|[[2027-08-08, 0, 10, 20, 480], [2027-06-24, 60, 0, 0, 0]]|UseGCoinCurrencyV2|1               |yourshopitem.7_11010326|PC    |gcoin   |yourshopitem.7_11010326|null       |Legend Status Jersey     |ingame      |skin    |costume     |yourshop  |yourshop7 |null|torso|5   |200.00|2022-07-27 02:00:00|2022-08-17 02:00:00|6bc3109a       |2022-11-01 10:38:22|20      |80       |\n",
      "|account.38ffe31621ae413d85ea303f24bd07b6|2022-08-05|STEAM   |itemdesc.11010326|50      |10          |30      |0           |80   |1  |buy-cash-item|2022-08-05T07:34:27.2284592Z|1555452495956807083|[[2027-05-27, 50, 10, 30, 0]]                            |UseGCoinCurrencyV2|1               |yourshopitem.7_11010326|PC    |gcoin   |yourshopitem.7_11010326|null       |Legend Status Jersey     |ingame      |skin    |costume     |yourshop  |yourshop7 |null|torso|5   |200.00|2022-07-27 02:00:00|2022-08-17 02:00:00|6bc3109a       |2022-11-01 10:38:22|30      |80       |\n",
      "|account.3d777a7d2e5345b0822e606fd6981254|2022-08-10|STEAM   |itemdesc.11040068|60      |0           |30      |0           |90   |1  |buy-cash-item|2022-08-10T19:03:19.1557825Z|1557380927288558154|[[2027-01-31, 60, 0, 30, 0]]                             |UseGCoinCurrencyV2|1               |yourshopitem.7_11040068|PC    |gcoin   |yourshopitem.7_11040068|null       |Purrple Periwinkle Gloves|ingame      |skin    |costume     |yourshop  |yourshop7 |null|hands|6   |300.00|2022-07-27 02:00:00|2022-08-17 02:00:00|6bc3109a       |2022-11-01 10:38:22|30      |90       |\n",
      "|account.3ecd02b863534251a030517bdca8b0aa|2022-07-27|STEAM   |itemdesc.11030184|60      |40          |0       |0           |60   |1  |buy-cash-item|2022-07-27T06:13:05.0550094Z|1552165108501727208|[[2027-01-16, 60, 40, 0, 0]]                             |UseGCoinCurrencyV2|1               |yourshopitem.7_11030184|PC    |gcoin   |yourshopitem.7_11030184|null       |Legend Status Shoes      |ingame      |skin    |costume     |yourshop  |yourshop7 |null|feet |5   |150.00|2022-07-27 02:00:00|2022-08-17 02:00:00|6bc3109a       |2022-11-01 10:38:22|0       |60       |\n",
      "|account.40a08404039741d0828372ad0e5bb454|2022-08-15|STEAM   |itemdesc.11030183|60      |10          |0       |0           |60   |1  |buy-cash-item|2022-08-15T05:27:34.4105431Z|1559027296738755074|[[2027-01-21, 60, 10, 0, 0]]                             |UseGCoinCurrencyV2|1               |yourshopitem.7_11030183|PC    |gcoin   |yourshopitem.7_11030183|null       |Legend Basketball Shoes  |ingame      |skin    |costume     |yourshop  |yourshop7 |null|feet |5   |150.00|2022-07-27 02:00:00|2022-08-17 02:00:00|6bc3109a       |2022-11-01 10:38:22|0       |60       |\n",
      "|account.474182aedb3e4a1eb1a93710b63b3d80|2022-08-16|STEAM   |itemdesc.11010326|80      |60          |0       |0           |80   |1  |buy-cash-item|2022-08-16T22:37:40.8265298Z|1559663467055548741|[[2027-05-17, 80, 60, 0, 0]]                             |UseGCoinCurrencyV2|1               |yourshopitem.7_11010326|PC    |gcoin   |yourshopitem.7_11010326|null       |Legend Status Jersey     |ingame      |skin    |costume     |yourshop  |yourshop7 |null|torso|5   |200.00|2022-07-27 02:00:00|2022-08-17 02:00:00|6bc3109a       |2022-11-01 10:38:22|0       |80       |\n",
      "|account.4745e66ffba24db783a4beb009f313cb|2022-08-08|STEAM   |itemdesc.11030183|60      |0           |0       |0           |60   |1  |buy-cash-item|2022-08-08T14:19:41.9462674Z|1556599968876235721|[[2027-01-28, 60, 0, 0, 0]]                              |UseGCoinCurrencyV2|1               |yourshopitem.7_11030183|PC    |gcoin   |yourshopitem.7_11030183|null       |Legend Basketball Shoes  |ingame      |skin    |costume     |yourshop  |yourshop7 |null|feet |5   |150.00|2022-07-27 02:00:00|2022-08-17 02:00:00|6bc3109a       |2022-11-01 10:38:22|0       |60       |\n",
      "+----------------------------------------+----------+--------+-----------------+--------+------------+--------+------------+-----+---+-------------+----------------------------+-------------------+---------------------------------------------------------+------------------+----------------+-----------------------+------+--------+-----------------------+-----------+-------------------------+------------+--------+------------+----------+----------+----+-----+----+------+-------------------+-------------------+---------------+-------------------+--------+---------+\n",
      "only showing top 20 rows\n",
      "\n"
     ]
    }
   ],
   "source": [
    "gcoin.join(gcoin_by_user.where(col(\"total_use\") < 100), \"account_id\").show(truncate=False)"
   ]
  },
  {
   "cell_type": "code",
   "execution_count": 30,
   "metadata": {},
   "outputs": [],
   "source": [
    "gcoin_by_user = gcoin_by_user.withColumn(\"gcoin_use_group\", when(col(\"total_use\") <= 2000, lit(\"A\")) \\\n",
    "                         .when((col(\"total_use\") > 2000) & (col(\"total_use\") <= 10000), lit(\"B\")) \\\n",
    "                         .when((col(\"total_use\") > 10000) & (col(\"total_use\") <= 20000), lit(\"C\")) \\\n",
    "                         .when((col(\"total_use\") > 20000) & (col(\"total_use\") <= 40000), lit(\"D\")) \\\n",
    "                         .when((col(\"total_use\") > 40000), lit(\"E\")) \\\n",
    "                         .otherwise(None)\n",
    "                        )"
   ]
  },
  {
   "cell_type": "code",
   "execution_count": 32,
   "metadata": {},
   "outputs": [],
   "source": [
    "workshop_gcoin = gcoin.where(col(\"event_name\") == \"202207_workshop\").groupBy(\"account_id\").agg(sum(col(\"paid_use\")+col(\"free_use\")).alias(\"workshop_gcoin\"))\n",
    "gcoin_by_user = gcoin_by_user.join(workshop_gcoin, \"account_id\", \"left\").withColumn(\"if_workshop\", when(col(\"workshop_gcoin\").isNull(), lit(\"0\")).otherwise(lit(\"0\")))"
   ]
  },
  {
   "cell_type": "code",
   "execution_count": 35,
   "metadata": {},
   "outputs": [
    {
     "name": "stdout",
     "output_type": "stream",
     "text": [
      "+-------------+\n",
      "|event_type   |\n",
      "+-------------+\n",
      "|yourshop     |\n",
      "|other        |\n",
      "|wsus         |\n",
      "|other        |\n",
      "|survivorpass |\n",
      "|workshop     |\n",
      "|streamer     |\n",
      "|esports      |\n",
      "|streamer     |\n",
      "|holiday      |\n",
      "|collaboration|\n",
      "+-------------+\n",
      "\n"
     ]
    }
   ],
   "source": [
    "gcoin.select(\"event_type\").distinct().show(truncate=False)"
   ]
  },
  {
   "cell_type": "code",
   "execution_count": 38,
   "metadata": {},
   "outputs": [],
   "source": [
    "from pyspark.sql.window import Window\n",
    "\n",
    "gcoin_by_user_and_type = gcoin.groupBy(\"account_id\", \"event_type\").agg(sum(col(\"paid_use\") + col(\"free_use\")).alias(\"type_total_use\"))\n",
    "windowDept = Window.partitionBy(\"account_id\").orderBy(col(\"type_total_use\").desc())"
   ]
  },
  {
   "cell_type": "code",
   "execution_count": 40,
   "metadata": {},
   "outputs": [],
   "source": [
    "user_top_type = gcoin_by_user_and_type.withColumn(\"row\",row_number().over(windowDept)).filter(col(\"row\") == 1).drop(\"row\")"
   ]
  },
  {
   "cell_type": "code",
   "execution_count": 42,
   "metadata": {},
   "outputs": [],
   "source": [
    "gcoin_by_user = gcoin_by_user.join(user_top_type, \"account_id\", \"left\").withColumnRenamed(\"event_type\", \"main_use_event_type\")"
   ]
  },
  {
   "cell_type": "code",
   "execution_count": 43,
   "metadata": {},
   "outputs": [],
   "source": [
    "mysql.drop_table(\"labs\", \"gcoin_by_user\")\n",
    "mysql.insert_table(gcoin_by_user, \"labs\", \"gcoin_by_user\")"
   ]
  },
  {
   "cell_type": "code",
   "execution_count": null,
   "metadata": {},
   "outputs": [],
   "source": []
  },
  {
   "cell_type": "code",
   "execution_count": 44,
   "metadata": {},
   "outputs": [],
   "source": [
    "def load_data_mart(table, startdate, enddate, device=None):\n",
    "    df = None\n",
    "    if device is None:\n",
    "        for i in range(int((datetime.strptime(enddate, '%Y-%m-%d') - datetime.strptime(startdate, '%Y-%m-%d')).days)+1):\n",
    "            try:\n",
    "                if df is None:\n",
    "                    df = spark.read.parquet(\"s3a://pubg-log-labs/data_mart/{table}/{startdate}\".format(table=table, startdate=startdate))   \n",
    "                else :\n",
    "                    df = df.unionAll(spark.read.parquet(\"s3a://pubg-log-labs/data_mart/{table}/{startdate}\".format(table=table, startdate=startdate)))  \n",
    "            except Exception as e:\n",
    "                pass\n",
    "            startdate = (datetime.strptime(startdate, '%Y-%m-%d') + timedelta(days = 1)).strftime('%Y-%m-%d')\n",
    "    else:\n",
    "        device = device.upper()\n",
    "        for i in range(int((datetime.strptime(enddate, '%Y-%m-%d') - datetime.strptime(startdate, '%Y-%m-%d')).days)+1):\n",
    "            try:\n",
    "                if df is None:\n",
    "                    df = spark.read.parquet(\"s3a://pubg-log-labs/data_mart/{table}/{startdate}/{device}\".format(table=table, startdate=startdate, device=device))   \n",
    "                else :\n",
    "                    df = df.unionAll(spark.read.parquet(\"s3a://pubg-log-labs/data_mart/{table}/{startdate}/{device}\".format(table=table, startdate=startdate, device=device)))  \n",
    "            except Exception as e:\n",
    "                pass\n",
    "            startdate = (datetime.strptime(startdate, '%Y-%m-%d') + timedelta(days = 1)).strftime('%Y-%m-%d')\n",
    "    return df\n"
   ]
  },
  {
   "cell_type": "code",
   "execution_count": 56,
   "metadata": {},
   "outputs": [],
   "source": [
    "gameplay = load_data_mart('official_gameplay_master', pre_start_date, pre_end_date)"
   ]
  },
  {
   "cell_type": "code",
   "execution_count": 57,
   "metadata": {},
   "outputs": [
    {
     "name": "stdout",
     "output_type": "stream",
     "text": [
      "+--------+\n",
      "|Platform|\n",
      "+--------+\n",
      "|KAKAO   |\n",
      "|STEAM   |\n",
      "+--------+\n",
      "\n"
     ]
    }
   ],
   "source": [
    "gameplay.select(\"Platform\").distinct().show(truncate=False)"
   ]
  },
  {
   "cell_type": "code",
   "execution_count": 58,
   "metadata": {},
   "outputs": [],
   "source": [
    "gameplay_df = gameplay.groupBy(\"AccountId\").agg(countDistinct(\"date\").alias(\"play_date_cnt\"), \\\n",
    "    sum(col(\"TppSoloPlayCount\") + col(\"TppDuoPlayCount\") + col(\"TppSquadPlayCount\") + col(\"FppSoloPlayCount\") + col(\"FppDuoPlayCount\") + col(\"FppSquadPlayCount\")).alias(\"play_cnt\"), \\\n",
    "    sum(col(\"TppSoloGameMinute\") + col(\"TppDuoGameMinute\") + col(\"TppSquadGameMinute\") + col(\"FppSoloGameMinute\") + col(\"FppDuoGameMinute\") + col(\"FppSquadGameMinute\")).alias(\"play_min\"))"
   ]
  },
  {
   "cell_type": "code",
   "execution_count": 59,
   "metadata": {},
   "outputs": [],
   "source": [
    "df = gcoin_by_user.join(gameplay_df.withColumnRenamed(\"AccountId\", \"account_id\"), \"account_id\", \"full_outer\")"
   ]
  },
  {
   "cell_type": "code",
   "execution_count": 62,
   "metadata": {},
   "outputs": [],
   "source": [
    "mysql.drop_table(\"labs\", \"gcoin_by_user\")\n",
    "mysql.insert_table(df, \"labs\", \"gcoin_by_user\")"
   ]
  },
  {
   "cell_type": "code",
   "execution_count": null,
   "metadata": {},
   "outputs": [],
   "source": []
  }
 ],
 "metadata": {
  "kernelspec": {
   "display_name": "Python 3",
   "language": "python",
   "name": "python3"
  },
  "language_info": {
   "codemirror_mode": {
    "name": "ipython",
    "version": 3
   },
   "file_extension": ".py",
   "mimetype": "text/x-python",
   "name": "python",
   "nbconvert_exporter": "python",
   "pygments_lexer": "ipython3",
   "version": "3.6.7"
  }
 },
 "nbformat": 4,
 "nbformat_minor": 4
}
