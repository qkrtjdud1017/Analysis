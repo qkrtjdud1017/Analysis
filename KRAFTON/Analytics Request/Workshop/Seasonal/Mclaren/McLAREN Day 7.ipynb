{
 "cells": [
  {
   "cell_type": "code",
   "execution_count": 1,
   "metadata": {},
   "outputs": [
    {
     "name": "stdout",
     "output_type": "stream",
     "text": [
      "Spark cluster not assigned. creating a new one...\n",
      "Node spec: 4 executors with 48G RAM each\n",
      "Job Port 4049 is assigned for requested cluster\n",
      "Waiting for Spark master to be available...\n",
      "Spark master launched!\n",
      "Creating new Spark session, name: west0_mclaren...\n",
      "Waiting for all executors ready...\n",
      "All executors connected!\n",
      "Complete! elapsed time: 00:00:24\n"
     ]
    }
   ],
   "source": [
    "from pubg_util import mysql, load_schema, notifier\n",
    "from sphynx import sphynx, NODE_SMALL, NODE_MEDIUM, NODE_LARGE\n",
    "from pyspark.sql.functions import *\n",
    "import pandas as pd\n",
    "import pickle\n",
    "\n",
    "spark = sphynx.get_spark(executor_count=4, app_name='west0_mclaren', node_spec=NODE_LARGE)"
   ]
  },
  {
   "cell_type": "code",
   "execution_count": 77,
   "metadata": {},
   "outputs": [
    {
     "name": "stdout",
     "output_type": "stream",
     "text": [
      "Stopping Spark session...\n",
      "Destroying Spark cluster...\n",
      "Done!\n",
      "You can safely ignore the warning message if there is any.\n"
     ]
    }
   ],
   "source": [
    "sphynx.stop()"
   ]
  },
  {
   "cell_type": "code",
   "execution_count": 81,
   "metadata": {},
   "outputs": [],
   "source": [
    "date = \"2022-08-24\"\n",
    "crate_increased = load_schema.lobby(spark, \"pc\", \"live\", \"WorkshopCrateIncreased\", date, date)"
   ]
  },
  {
   "cell_type": "code",
   "execution_count": 84,
   "metadata": {},
   "outputs": [
    {
     "data": {
      "text/html": [
       "<div>\n",
       "<style scoped>\n",
       "    .dataframe tbody tr th:only-of-type {\n",
       "        vertical-align: middle;\n",
       "    }\n",
       "\n",
       "    .dataframe tbody tr th {\n",
       "        vertical-align: top;\n",
       "    }\n",
       "\n",
       "    .dataframe thead th {\n",
       "        text-align: right;\n",
       "    }\n",
       "</style>\n",
       "<table border=\"1\" class=\"dataframe\">\n",
       "  <thead>\n",
       "    <tr style=\"text-align: right;\">\n",
       "      <th></th>\n",
       "      <th>ItemDescId</th>\n",
       "      <th>Reason</th>\n",
       "      <th>sum(Amount)</th>\n",
       "    </tr>\n",
       "  </thead>\n",
       "  <tbody>\n",
       "    <tr>\n",
       "      <th>0</th>\n",
       "      <td>itemdesc.14300002</td>\n",
       "      <td>buy-item</td>\n",
       "      <td>47838</td>\n",
       "    </tr>\n",
       "    <tr>\n",
       "      <th>1</th>\n",
       "      <td>itemdesc.14300002</td>\n",
       "      <td>buy-cash-item</td>\n",
       "      <td>130244</td>\n",
       "    </tr>\n",
       "    <tr>\n",
       "      <th>2</th>\n",
       "      <td>itemdesc.14300002</td>\n",
       "      <td>open-crate</td>\n",
       "      <td>-409923</td>\n",
       "    </tr>\n",
       "    <tr>\n",
       "      <th>3</th>\n",
       "      <td>itemdesc.14300002</td>\n",
       "      <td>by-support</td>\n",
       "      <td>18204</td>\n",
       "    </tr>\n",
       "    <tr>\n",
       "      <th>4</th>\n",
       "      <td>itemdesc.14300002</td>\n",
       "      <td>battlepass-level-reward</td>\n",
       "      <td>9140</td>\n",
       "    </tr>\n",
       "    <tr>\n",
       "      <th>5</th>\n",
       "      <td>itemdesc.14300002</td>\n",
       "      <td>open-crate-bonus</td>\n",
       "      <td>41098</td>\n",
       "    </tr>\n",
       "  </tbody>\n",
       "</table>\n",
       "</div>"
      ],
      "text/plain": [
       "          ItemDescId                   Reason  sum(Amount)\n",
       "0  itemdesc.14300002                 buy-item        47838\n",
       "1  itemdesc.14300002            buy-cash-item       130244\n",
       "2  itemdesc.14300002               open-crate      -409923\n",
       "3  itemdesc.14300002               by-support        18204\n",
       "4  itemdesc.14300002  battlepass-level-reward         9140\n",
       "5  itemdesc.14300002         open-crate-bonus        41098"
      ]
     },
     "execution_count": 84,
     "metadata": {},
     "output_type": "execute_result"
    }
   ],
   "source": [
    "crate_increased.where(col(\"ItemDescId\") == \"itemdesc.14300002\").groupBy(\"ItemDescId\", \"Reason\").agg(sum(\"Amount\")).toPandas()"
   ]
  },
  {
   "cell_type": "code",
   "execution_count": 85,
   "metadata": {},
   "outputs": [],
   "source": [
    "crate_opened = load_schema.lobby(spark, \"pc\", \"live\", \"WorkshopCrateOpened\", date, date)"
   ]
  },
  {
   "cell_type": "code",
   "execution_count": 86,
   "metadata": {},
   "outputs": [
    {
     "name": "stdout",
     "output_type": "stream",
     "text": [
      "root\n",
      " |-- date: string (nullable = true)\n",
      " |-- AccountId: string (nullable = true)\n",
      " |-- CurrencyObtained: struct (nullable = true)\n",
      " |    |-- currencydesc.artisanstoken: long (nullable = true)\n",
      " |    |-- currencydesc.credit: long (nullable = true)\n",
      " |-- EventName: string (nullable = true)\n",
      " |-- ItemDescId: string (nullable = true)\n",
      " |-- ItemsObtained: array (nullable = true)\n",
      " |    |-- element: string (containsNull = true)\n",
      " |-- OpenAmount: long (nullable = true)\n",
      " |-- Provider: string (nullable = true)\n",
      " |-- Time: string (nullable = true)\n",
      " |-- TransactionId: string (nullable = true)\n",
      " |-- Type: string (nullable = true)\n",
      "\n"
     ]
    }
   ],
   "source": [
    "crate_opened.printSchema()"
   ]
  },
  {
   "cell_type": "code",
   "execution_count": 88,
   "metadata": {},
   "outputs": [
    {
     "name": "stdout",
     "output_type": "stream",
     "text": [
      "+--------+---------------+\n",
      "|Provider|sum(OpenAmount)|\n",
      "+--------+---------------+\n",
      "|     bro|          26833|\n",
      "|   steam|         383090|\n",
      "+--------+---------------+\n",
      "\n"
     ]
    }
   ],
   "source": [
    "crate_opened.where(col(\"ItemDescId\") == \"itemdesc.14300002\").groupBy(\"Provider\").agg(sum(\"OpenAmount\")).show()"
   ]
  },
  {
   "cell_type": "code",
   "execution_count": 4,
   "metadata": {},
   "outputs": [],
   "source": [
    "start_date = \"2022-09-07\"\n",
    "end_date = \"2022-09-13\"\n",
    "gcoin = load_data_mart(\"pc\", start_date, end_date, \"gcoin_use\")"
   ]
  },
  {
   "cell_type": "code",
   "execution_count": 80,
   "metadata": {},
   "outputs": [],
   "source": [
    "wk_before_mclaren = load_data_mart('pc', \"2022-08-31\", \"2022-09-06\", \"gcoin_use\").where(col(\"event_name\").like(\"%workshop%\"))\n",
    "wk_after_mclaren = load_data_mart('pc', \"2022-09-07\", \"2022-09-13\", \"gcoin_use\").where(col(\"event_name\").like(\"%workshop%\"))"
   ]
  },
  {
   "cell_type": "code",
   "execution_count": 5,
   "metadata": {},
   "outputs": [],
   "source": [
    "from pyspark.sql.types import * \n",
    "\n",
    "def classify_country(country_os, country_ip):\n",
    "    if country_os != 'CN':\n",
    "        return country_ip\n",
    "    else:\n",
    "        return country_os\n",
    "\n",
    "country_type_udf = udf(classify_country, StringType())\n",
    "\n",
    "meta_region = mysql.read_table(spark, 'metainfo', 'meta_bi_regions')\n",
    "\n",
    "user = load_data_mart(\"pc\", end_date, end_date, \"user_master\")\n",
    "user = user.withColumn(\"country_new\", country_type_udf(\"country_os\", \"country_ip\"))\n",
    "user = user.join(meta_region, user.country_new == meta_region.country_code_iso2, \"left\").withColumnRenamed(\"accountid\", \"account_id\")"
   ]
  },
  {
   "cell_type": "code",
   "execution_count": 7,
   "metadata": {},
   "outputs": [],
   "source": [
    "gcoin = gcoin.join(user.select(\"account_id\", \"pubg_region\"), \"account_id\")"
   ]
  },
  {
   "cell_type": "code",
   "execution_count": 6,
   "metadata": {},
   "outputs": [
    {
     "data": {
      "text/html": [
       "<div>\n",
       "<style scoped>\n",
       "    .dataframe tbody tr th:only-of-type {\n",
       "        vertical-align: middle;\n",
       "    }\n",
       "\n",
       "    .dataframe tbody tr th {\n",
       "        vertical-align: top;\n",
       "    }\n",
       "\n",
       "    .dataframe thead th {\n",
       "        text-align: right;\n",
       "    }\n",
       "</style>\n",
       "<table border=\"1\" class=\"dataframe\">\n",
       "  <thead>\n",
       "    <tr style=\"text-align: right;\">\n",
       "      <th></th>\n",
       "      <th>pubg_region</th>\n",
       "      <th>au</th>\n",
       "    </tr>\n",
       "  </thead>\n",
       "  <tbody>\n",
       "    <tr>\n",
       "      <th>0</th>\n",
       "      <td>CN</td>\n",
       "      <td>3233533</td>\n",
       "    </tr>\n",
       "    <tr>\n",
       "      <th>1</th>\n",
       "      <td>NA</td>\n",
       "      <td>117465</td>\n",
       "    </tr>\n",
       "    <tr>\n",
       "      <th>2</th>\n",
       "      <td>SA</td>\n",
       "      <td>106221</td>\n",
       "    </tr>\n",
       "    <tr>\n",
       "      <th>3</th>\n",
       "      <td>KR</td>\n",
       "      <td>621740</td>\n",
       "    </tr>\n",
       "    <tr>\n",
       "      <th>4</th>\n",
       "      <td>SEA</td>\n",
       "      <td>203621</td>\n",
       "    </tr>\n",
       "    <tr>\n",
       "      <th>5</th>\n",
       "      <td>Undefined</td>\n",
       "      <td>313</td>\n",
       "    </tr>\n",
       "    <tr>\n",
       "      <th>6</th>\n",
       "      <td>JP</td>\n",
       "      <td>13554</td>\n",
       "    </tr>\n",
       "    <tr>\n",
       "      <th>7</th>\n",
       "      <td>TW/HK</td>\n",
       "      <td>28736</td>\n",
       "    </tr>\n",
       "    <tr>\n",
       "      <th>8</th>\n",
       "      <td>CIS</td>\n",
       "      <td>300753</td>\n",
       "    </tr>\n",
       "    <tr>\n",
       "      <th>9</th>\n",
       "      <td>EMEA</td>\n",
       "      <td>339667</td>\n",
       "    </tr>\n",
       "    <tr>\n",
       "      <th>10</th>\n",
       "      <td>OC</td>\n",
       "      <td>19202</td>\n",
       "    </tr>\n",
       "  </tbody>\n",
       "</table>\n",
       "</div>"
      ],
      "text/plain": [
       "   pubg_region       au\n",
       "0           CN  3233533\n",
       "1           NA   117465\n",
       "2           SA   106221\n",
       "3           KR   621740\n",
       "4          SEA   203621\n",
       "5    Undefined      313\n",
       "6           JP    13554\n",
       "7        TW/HK    28736\n",
       "8          CIS   300753\n",
       "9         EMEA   339667\n",
       "10          OC    19202"
      ]
     },
     "execution_count": 6,
     "metadata": {},
     "output_type": "execute_result"
    }
   ],
   "source": [
    "user.where(col(\"lastlogindate\") >= start_date).groupBy(\"pubg_region\").agg(countDistinct(\"account_id\").alias(\"au\")).toPandas()"
   ]
  },
  {
   "cell_type": "code",
   "execution_count": 5,
   "metadata": {},
   "outputs": [],
   "source": [
    "mclaren_gcoin = gcoin.where(col(\"event_name\") == \"202209_season_workshop\")"
   ]
  },
  {
   "cell_type": "code",
   "execution_count": 6,
   "metadata": {},
   "outputs": [],
   "source": [
    "gcoin_master = load_data_mart('pc', \"2022-09-13\", \"2022-09-13\", \"gcoin_master\")"
   ]
  },
  {
   "cell_type": "code",
   "execution_count": 8,
   "metadata": {},
   "outputs": [
    {
     "name": "stdout",
     "output_type": "stream",
     "text": [
      "+-----+\n",
      "|npu  |\n",
      "+-----+\n",
      "|23606|\n",
      "+-----+\n",
      "\n"
     ]
    }
   ],
   "source": [
    "mclaren_gcoin.join(gcoin_master.select(\"account_id\", \"first_use_date\"), \"account_id\").where(col(\"first_use_date\") == col(\"date\")).select(countDistinct(\"account_id\").alias(\"npu\")).show(truncate=False)"
   ]
  },
  {
   "cell_type": "code",
   "execution_count": 9,
   "metadata": {},
   "outputs": [
    {
     "name": "stdout",
     "output_type": "stream",
     "text": [
      "+--------+---------+-------+\n",
      "|paid_use|total_use|paid_pu|\n",
      "+--------+---------+-------+\n",
      "|91624860|114668410|5106   |\n",
      "+--------+---------+-------+\n",
      "\n"
     ]
    }
   ],
   "source": [
    "mclaren_gcoin.join(gcoin_master.select(\"account_id\", \"first_use_date\"), \"account_id\").where(col(\"first_use_date\") == col(\"date\")) \\\n",
    "    .withColumn(\"paid_account_id\", when(col(\"paid_use\") > 0, col(\"account_id\")).otherwise(lit(None))) \\\n",
    "    .select(sum(\"paid_use\").alias(\"paid_use\"), sum(col(\"paid_use\") + col(\"free_use\")).alias(\"total_use\"), countDistinct(\"paid_account_id\").alias(\"paid_pu\")).show(truncate=False)"
   ]
  },
  {
   "cell_type": "code",
   "execution_count": 16,
   "metadata": {},
   "outputs": [],
   "source": [
    "mclaren_npu = mclaren_gcoin.join(gcoin_master.select(\"account_id\", \"first_use_date\"), \"account_id\").where(col(\"first_use_date\") == col(\"date\")).select(\"account_id\").distinct()"
   ]
  },
  {
   "cell_type": "code",
   "execution_count": 18,
   "metadata": {},
   "outputs": [
    {
     "name": "stdout",
     "output_type": "stream",
     "text": [
      "+---------+---------+-------+\n",
      "|paid_use |total_use|paid_pu|\n",
      "+---------+---------+-------+\n",
      "|100037830|125731470|5457   |\n",
      "+---------+---------+-------+\n",
      "\n"
     ]
    }
   ],
   "source": [
    "mclaren_gcoin.join(mclaren_npu, \"account_id\") \\\n",
    "    .withColumn(\"paid_account_id\", when(col(\"paid_use\") > 0, col(\"account_id\")).otherwise(lit(None))) \\\n",
    "    .select(sum(\"paid_use\").alias(\"paid_use\"), sum(col(\"paid_use\") + col(\"free_use\")).alias(\"total_use\"), countDistinct(\"paid_account_id\").alias(\"paid_pu\")).show(truncate=False)"
   ]
  },
  {
   "cell_type": "code",
   "execution_count": 20,
   "metadata": {},
   "outputs": [
    {
     "data": {
      "text/plain": [
       "6.711609028304147"
      ]
     },
     "execution_count": 20,
     "metadata": {},
     "output_type": "execute_result"
    }
   ],
   "source": [
    "# 전체 total gcoin중 npu의 total gcoin 차지율\n",
    "125731470/1873343180*100"
   ]
  },
  {
   "cell_type": "code",
   "execution_count": 19,
   "metadata": {},
   "outputs": [
    {
     "data": {
      "text/plain": [
       "6.393348400097346"
      ]
     },
     "execution_count": 19,
     "metadata": {},
     "output_type": "execute_result"
    }
   ],
   "source": [
    "# 전체 paid gcoin중 npu의 paid gcoin 차지율\n",
    "100037830/1564717324*100"
   ]
  },
  {
   "cell_type": "code",
   "execution_count": 13,
   "metadata": {},
   "outputs": [
    {
     "data": {
      "text/plain": [
       "79.90418634042278"
      ]
     },
     "execution_count": 13,
     "metadata": {},
     "output_type": "execute_result"
    }
   ],
   "source": [
    "91624860/114668410*100"
   ]
  },
  {
   "cell_type": "code",
   "execution_count": 14,
   "metadata": {},
   "outputs": [
    {
     "data": {
      "text/plain": [
       "21.630094043887148"
      ]
     },
     "execution_count": 14,
     "metadata": {},
     "output_type": "execute_result"
    }
   ],
   "source": [
    "5106/23606*100"
   ]
  },
  {
   "cell_type": "code",
   "execution_count": 43,
   "metadata": {},
   "outputs": [
    {
     "data": {
      "text/html": [
       "<div>\n",
       "<style scoped>\n",
       "    .dataframe tbody tr th:only-of-type {\n",
       "        vertical-align: middle;\n",
       "    }\n",
       "\n",
       "    .dataframe tbody tr th {\n",
       "        vertical-align: top;\n",
       "    }\n",
       "\n",
       "    .dataframe thead th {\n",
       "        text-align: right;\n",
       "    }\n",
       "</style>\n",
       "<table border=\"1\" class=\"dataframe\">\n",
       "  <thead>\n",
       "    <tr style=\"text-align: right;\">\n",
       "      <th></th>\n",
       "      <th>date</th>\n",
       "      <th>paid_use</th>\n",
       "      <th>total_use</th>\n",
       "    </tr>\n",
       "  </thead>\n",
       "  <tbody>\n",
       "    <tr>\n",
       "      <th>0</th>\n",
       "      <td>2022-09-07</td>\n",
       "      <td>476573575</td>\n",
       "      <td>593070310</td>\n",
       "    </tr>\n",
       "    <tr>\n",
       "      <th>1</th>\n",
       "      <td>2022-09-08</td>\n",
       "      <td>307528540</td>\n",
       "      <td>365256740</td>\n",
       "    </tr>\n",
       "    <tr>\n",
       "      <th>2</th>\n",
       "      <td>2022-09-09</td>\n",
       "      <td>221905145</td>\n",
       "      <td>260472620</td>\n",
       "    </tr>\n",
       "    <tr>\n",
       "      <th>3</th>\n",
       "      <td>2022-09-10</td>\n",
       "      <td>180901484</td>\n",
       "      <td>211473270</td>\n",
       "    </tr>\n",
       "    <tr>\n",
       "      <th>4</th>\n",
       "      <td>2022-09-11</td>\n",
       "      <td>143542520</td>\n",
       "      <td>168413710</td>\n",
       "    </tr>\n",
       "    <tr>\n",
       "      <th>5</th>\n",
       "      <td>2022-09-12</td>\n",
       "      <td>128094440</td>\n",
       "      <td>150236580</td>\n",
       "    </tr>\n",
       "    <tr>\n",
       "      <th>6</th>\n",
       "      <td>2022-09-13</td>\n",
       "      <td>106171620</td>\n",
       "      <td>124419950</td>\n",
       "    </tr>\n",
       "  </tbody>\n",
       "</table>\n",
       "</div>"
      ],
      "text/plain": [
       "         date   paid_use  total_use\n",
       "0  2022-09-07  476573575  593070310\n",
       "1  2022-09-08  307528540  365256740\n",
       "2  2022-09-09  221905145  260472620\n",
       "3  2022-09-10  180901484  211473270\n",
       "4  2022-09-11  143542520  168413710\n",
       "5  2022-09-12  128094440  150236580\n",
       "6  2022-09-13  106171620  124419950"
      ]
     },
     "execution_count": 43,
     "metadata": {},
     "output_type": "execute_result"
    }
   ],
   "source": [
    "mclaren_gcoin.groupBy(\"date\").agg(sum('paid_use').alias('paid_use'), sum(col('paid_use') + col('free_use')).alias(\"total_use\")).orderBy('date').toPandas()"
   ]
  },
  {
   "cell_type": "code",
   "execution_count": 24,
   "metadata": {},
   "outputs": [],
   "source": [
    "gcoin_master = load_data_mart(\"pc\", end_date, end_date, \"gcoin_master\")"
   ]
  },
  {
   "cell_type": "code",
   "execution_count": 26,
   "metadata": {},
   "outputs": [],
   "source": [
    "mclaren_gcoin = mclaren_gcoin.join(gcoin_master.select(\"account_id\", \"first_use_date\"), \"account_id\", \"left\")"
   ]
  },
  {
   "cell_type": "code",
   "execution_count": 10,
   "metadata": {},
   "outputs": [
    {
     "data": {
      "text/html": [
       "<div>\n",
       "<style scoped>\n",
       "    .dataframe tbody tr th:only-of-type {\n",
       "        vertical-align: middle;\n",
       "    }\n",
       "\n",
       "    .dataframe tbody tr th {\n",
       "        vertical-align: top;\n",
       "    }\n",
       "\n",
       "    .dataframe thead th {\n",
       "        text-align: right;\n",
       "    }\n",
       "</style>\n",
       "<table border=\"1\" class=\"dataframe\">\n",
       "  <thead>\n",
       "    <tr style=\"text-align: right;\">\n",
       "      <th></th>\n",
       "      <th>pubg_region</th>\n",
       "      <th>sum(paid_use)</th>\n",
       "      <th>total</th>\n",
       "    </tr>\n",
       "  </thead>\n",
       "  <tbody>\n",
       "    <tr>\n",
       "      <th>0</th>\n",
       "      <td>CN</td>\n",
       "      <td>1110377925</td>\n",
       "      <td>1334715990</td>\n",
       "    </tr>\n",
       "    <tr>\n",
       "      <th>1</th>\n",
       "      <td>NA</td>\n",
       "      <td>31431140</td>\n",
       "      <td>37818340</td>\n",
       "    </tr>\n",
       "    <tr>\n",
       "      <th>2</th>\n",
       "      <td>SA</td>\n",
       "      <td>5514390</td>\n",
       "      <td>9822250</td>\n",
       "    </tr>\n",
       "    <tr>\n",
       "      <th>3</th>\n",
       "      <td>KR</td>\n",
       "      <td>330074290</td>\n",
       "      <td>376557580</td>\n",
       "    </tr>\n",
       "    <tr>\n",
       "      <th>4</th>\n",
       "      <td>SEA</td>\n",
       "      <td>15775280</td>\n",
       "      <td>21112470</td>\n",
       "    </tr>\n",
       "    <tr>\n",
       "      <th>5</th>\n",
       "      <td>JP</td>\n",
       "      <td>3110190</td>\n",
       "      <td>3812970</td>\n",
       "    </tr>\n",
       "    <tr>\n",
       "      <th>6</th>\n",
       "      <td>TW/HK</td>\n",
       "      <td>11589770</td>\n",
       "      <td>13501280</td>\n",
       "    </tr>\n",
       "    <tr>\n",
       "      <th>7</th>\n",
       "      <td>CIS</td>\n",
       "      <td>14097939</td>\n",
       "      <td>20419530</td>\n",
       "    </tr>\n",
       "    <tr>\n",
       "      <th>8</th>\n",
       "      <td>EMEA</td>\n",
       "      <td>37007320</td>\n",
       "      <td>48773620</td>\n",
       "    </tr>\n",
       "    <tr>\n",
       "      <th>9</th>\n",
       "      <td>OC</td>\n",
       "      <td>5739080</td>\n",
       "      <td>6809150</td>\n",
       "    </tr>\n",
       "  </tbody>\n",
       "</table>\n",
       "</div>"
      ],
      "text/plain": [
       "  pubg_region  sum(paid_use)       total\n",
       "0          CN     1110377925  1334715990\n",
       "1          NA       31431140    37818340\n",
       "2          SA        5514390     9822250\n",
       "3          KR      330074290   376557580\n",
       "4         SEA       15775280    21112470\n",
       "5          JP        3110190     3812970\n",
       "6       TW/HK       11589770    13501280\n",
       "7         CIS       14097939    20419530\n",
       "8        EMEA       37007320    48773620\n",
       "9          OC        5739080     6809150"
      ]
     },
     "execution_count": 10,
     "metadata": {},
     "output_type": "execute_result"
    }
   ],
   "source": [
    "mclaren_gcoin.groupBy(\"pubg_region\").agg(sum('paid_use'), sum(col(\"paid_use\")+col(\"free_use\")).alias(\"total\")).toPandas()"
   ]
  },
  {
   "cell_type": "code",
   "execution_count": 11,
   "metadata": {},
   "outputs": [],
   "source": [
    "mclaren_gcoin = mclaren_gcoin.withColumn(\"paid_pu\", when(col(\"paid_use\") > 0, col(\"account_id\")).otherwise(lit(None)))"
   ]
  },
  {
   "cell_type": "code",
   "execution_count": 13,
   "metadata": {},
   "outputs": [
    {
     "data": {
      "text/html": [
       "<div>\n",
       "<style scoped>\n",
       "    .dataframe tbody tr th:only-of-type {\n",
       "        vertical-align: middle;\n",
       "    }\n",
       "\n",
       "    .dataframe tbody tr th {\n",
       "        vertical-align: top;\n",
       "    }\n",
       "\n",
       "    .dataframe thead th {\n",
       "        text-align: right;\n",
       "    }\n",
       "</style>\n",
       "<table border=\"1\" class=\"dataframe\">\n",
       "  <thead>\n",
       "    <tr style=\"text-align: right;\">\n",
       "      <th></th>\n",
       "      <th>pubg_region</th>\n",
       "      <th>paid_pu</th>\n",
       "      <th>total_pu</th>\n",
       "    </tr>\n",
       "  </thead>\n",
       "  <tbody>\n",
       "    <tr>\n",
       "      <th>0</th>\n",
       "      <td>CN</td>\n",
       "      <td>141432</td>\n",
       "      <td>211835</td>\n",
       "    </tr>\n",
       "    <tr>\n",
       "      <th>1</th>\n",
       "      <td>NA</td>\n",
       "      <td>5208</td>\n",
       "      <td>6780</td>\n",
       "    </tr>\n",
       "    <tr>\n",
       "      <th>2</th>\n",
       "      <td>SA</td>\n",
       "      <td>2629</td>\n",
       "      <td>5112</td>\n",
       "    </tr>\n",
       "    <tr>\n",
       "      <th>3</th>\n",
       "      <td>KR</td>\n",
       "      <td>30470</td>\n",
       "      <td>38456</td>\n",
       "    </tr>\n",
       "    <tr>\n",
       "      <th>4</th>\n",
       "      <td>SEA</td>\n",
       "      <td>3352</td>\n",
       "      <td>5586</td>\n",
       "    </tr>\n",
       "    <tr>\n",
       "      <th>5</th>\n",
       "      <td>JP</td>\n",
       "      <td>474</td>\n",
       "      <td>630</td>\n",
       "    </tr>\n",
       "    <tr>\n",
       "      <th>6</th>\n",
       "      <td>TW/HK</td>\n",
       "      <td>1250</td>\n",
       "      <td>1624</td>\n",
       "    </tr>\n",
       "    <tr>\n",
       "      <th>7</th>\n",
       "      <td>CIS</td>\n",
       "      <td>5235</td>\n",
       "      <td>9008</td>\n",
       "    </tr>\n",
       "    <tr>\n",
       "      <th>8</th>\n",
       "      <td>EMEA</td>\n",
       "      <td>11263</td>\n",
       "      <td>16876</td>\n",
       "    </tr>\n",
       "    <tr>\n",
       "      <th>9</th>\n",
       "      <td>OC</td>\n",
       "      <td>1165</td>\n",
       "      <td>1458</td>\n",
       "    </tr>\n",
       "  </tbody>\n",
       "</table>\n",
       "</div>"
      ],
      "text/plain": [
       "  pubg_region  paid_pu  total_pu\n",
       "0          CN   141432    211835\n",
       "1          NA     5208      6780\n",
       "2          SA     2629      5112\n",
       "3          KR    30470     38456\n",
       "4         SEA     3352      5586\n",
       "5          JP      474       630\n",
       "6       TW/HK     1250      1624\n",
       "7         CIS     5235      9008\n",
       "8        EMEA    11263     16876\n",
       "9          OC     1165      1458"
      ]
     },
     "execution_count": 13,
     "metadata": {},
     "output_type": "execute_result"
    }
   ],
   "source": [
    "mclaren_gcoin.groupBy(\"pubg_region\").agg(countDistinct(\"paid_pu\").alias(\"paid_pu\"), countDistinct(\"account_id\").alias(\"total_pu\")).toPandas()"
   ]
  },
  {
   "cell_type": "code",
   "execution_count": 27,
   "metadata": {},
   "outputs": [
    {
     "data": {
      "text/html": [
       "<div>\n",
       "<style scoped>\n",
       "    .dataframe tbody tr th:only-of-type {\n",
       "        vertical-align: middle;\n",
       "    }\n",
       "\n",
       "    .dataframe tbody tr th {\n",
       "        vertical-align: top;\n",
       "    }\n",
       "\n",
       "    .dataframe thead th {\n",
       "        text-align: right;\n",
       "    }\n",
       "</style>\n",
       "<table border=\"1\" class=\"dataframe\">\n",
       "  <thead>\n",
       "    <tr style=\"text-align: right;\">\n",
       "      <th></th>\n",
       "      <th>pubg_region</th>\n",
       "      <th>npu</th>\n",
       "    </tr>\n",
       "  </thead>\n",
       "  <tbody>\n",
       "    <tr>\n",
       "      <th>0</th>\n",
       "      <td>CN</td>\n",
       "      <td>17082</td>\n",
       "    </tr>\n",
       "    <tr>\n",
       "      <th>1</th>\n",
       "      <td>NA</td>\n",
       "      <td>542</td>\n",
       "    </tr>\n",
       "    <tr>\n",
       "      <th>2</th>\n",
       "      <td>SA</td>\n",
       "      <td>390</td>\n",
       "    </tr>\n",
       "    <tr>\n",
       "      <th>3</th>\n",
       "      <td>KR</td>\n",
       "      <td>2404</td>\n",
       "    </tr>\n",
       "    <tr>\n",
       "      <th>4</th>\n",
       "      <td>SEA</td>\n",
       "      <td>442</td>\n",
       "    </tr>\n",
       "    <tr>\n",
       "      <th>5</th>\n",
       "      <td>JP</td>\n",
       "      <td>36</td>\n",
       "    </tr>\n",
       "    <tr>\n",
       "      <th>6</th>\n",
       "      <td>TW/HK</td>\n",
       "      <td>89</td>\n",
       "    </tr>\n",
       "    <tr>\n",
       "      <th>7</th>\n",
       "      <td>CIS</td>\n",
       "      <td>1086</td>\n",
       "    </tr>\n",
       "    <tr>\n",
       "      <th>8</th>\n",
       "      <td>EMEA</td>\n",
       "      <td>1448</td>\n",
       "    </tr>\n",
       "    <tr>\n",
       "      <th>9</th>\n",
       "      <td>OC</td>\n",
       "      <td>87</td>\n",
       "    </tr>\n",
       "  </tbody>\n",
       "</table>\n",
       "</div>"
      ],
      "text/plain": [
       "  pubg_region    npu\n",
       "0          CN  17082\n",
       "1          NA    542\n",
       "2          SA    390\n",
       "3          KR   2404\n",
       "4         SEA    442\n",
       "5          JP     36\n",
       "6       TW/HK     89\n",
       "7         CIS   1086\n",
       "8        EMEA   1448\n",
       "9          OC     87"
      ]
     },
     "execution_count": 27,
     "metadata": {},
     "output_type": "execute_result"
    }
   ],
   "source": [
    "mclaren_gcoin.where(col(\"date\") == col(\"first_use_date\")).groupBy(\"pubg_region\").agg(countDistinct(\"account_id\").alias(\"npu\")).toPandas()"
   ]
  },
  {
   "cell_type": "code",
   "execution_count": 31,
   "metadata": {},
   "outputs": [
    {
     "data": {
      "text/html": [
       "<div>\n",
       "<style scoped>\n",
       "    .dataframe tbody tr th:only-of-type {\n",
       "        vertical-align: middle;\n",
       "    }\n",
       "\n",
       "    .dataframe tbody tr th {\n",
       "        vertical-align: top;\n",
       "    }\n",
       "\n",
       "    .dataframe thead th {\n",
       "        text-align: right;\n",
       "    }\n",
       "</style>\n",
       "<table border=\"1\" class=\"dataframe\">\n",
       "  <thead>\n",
       "    <tr style=\"text-align: right;\">\n",
       "      <th></th>\n",
       "      <th>product_name</th>\n",
       "      <th>pu</th>\n",
       "      <th>paid_pu</th>\n",
       "      <th>unit_sold</th>\n",
       "      <th>paid_use</th>\n",
       "      <th>total_use</th>\n",
       "    </tr>\n",
       "  </thead>\n",
       "  <tbody>\n",
       "    <tr>\n",
       "      <th>0</th>\n",
       "      <td>CRAFTER PASS: McLAREN TOKEN &amp; LEVEL PACK</td>\n",
       "      <td>50495</td>\n",
       "      <td>49719</td>\n",
       "      <td>50495</td>\n",
       "      <td>146662625</td>\n",
       "      <td>165118650</td>\n",
       "    </tr>\n",
       "    <tr>\n",
       "      <th>1</th>\n",
       "      <td>McLAREN LOOT CACHE PACK (x11)</td>\n",
       "      <td>46936</td>\n",
       "      <td>45738</td>\n",
       "      <td>79639</td>\n",
       "      <td>177509370</td>\n",
       "      <td>199097500</td>\n",
       "    </tr>\n",
       "    <tr>\n",
       "      <th>2</th>\n",
       "      <td>McLaren Level UP</td>\n",
       "      <td>55409</td>\n",
       "      <td>44753</td>\n",
       "      <td>996031</td>\n",
       "      <td>83187875</td>\n",
       "      <td>99603100</td>\n",
       "    </tr>\n",
       "    <tr>\n",
       "      <th>3</th>\n",
       "      <td>McLAREN LOOT CACHE PACK (x27)</td>\n",
       "      <td>37743</td>\n",
       "      <td>37374</td>\n",
       "      <td>52201</td>\n",
       "      <td>296402710</td>\n",
       "      <td>326256250</td>\n",
       "    </tr>\n",
       "    <tr>\n",
       "      <th>4</th>\n",
       "      <td>McLAREN LOOT CACHE PACK (x55)</td>\n",
       "      <td>39570</td>\n",
       "      <td>39372</td>\n",
       "      <td>64309</td>\n",
       "      <td>745149925</td>\n",
       "      <td>803862500</td>\n",
       "    </tr>\n",
       "    <tr>\n",
       "      <th>5</th>\n",
       "      <td>CRAFTER PASS: McLAREN TOKEN PACK</td>\n",
       "      <td>193707</td>\n",
       "      <td>110060</td>\n",
       "      <td>193707</td>\n",
       "      <td>77990879</td>\n",
       "      <td>191769930</td>\n",
       "    </tr>\n",
       "    <tr>\n",
       "      <th>6</th>\n",
       "      <td>McLAREN LOOT CACHE PACK (x1)</td>\n",
       "      <td>104932</td>\n",
       "      <td>55477</td>\n",
       "      <td>350541</td>\n",
       "      <td>37813940</td>\n",
       "      <td>87635250</td>\n",
       "    </tr>\n",
       "  </tbody>\n",
       "</table>\n",
       "</div>"
      ],
      "text/plain": [
       "                               product_name      pu  paid_pu  unit_sold  \\\n",
       "0  CRAFTER PASS: McLAREN TOKEN & LEVEL PACK   50495    49719      50495   \n",
       "1             McLAREN LOOT CACHE PACK (x11)   46936    45738      79639   \n",
       "2                          McLaren Level UP   55409    44753     996031   \n",
       "3             McLAREN LOOT CACHE PACK (x27)   37743    37374      52201   \n",
       "4             McLAREN LOOT CACHE PACK (x55)   39570    39372      64309   \n",
       "5          CRAFTER PASS: McLAREN TOKEN PACK  193707   110060     193707   \n",
       "6              McLAREN LOOT CACHE PACK (x1)  104932    55477     350541   \n",
       "\n",
       "    paid_use  total_use  \n",
       "0  146662625  165118650  \n",
       "1  177509370  199097500  \n",
       "2   83187875   99603100  \n",
       "3  296402710  326256250  \n",
       "4  745149925  803862500  \n",
       "5   77990879  191769930  \n",
       "6   37813940   87635250  "
      ]
     },
     "execution_count": 31,
     "metadata": {},
     "output_type": "execute_result"
    }
   ],
   "source": [
    "mclaren_gcoin.groupBy(\"product_name\").agg(countDistinct(\"account_id\").alias(\"pu\"), countDistinct(\"paid_pu\").alias(\"paid_pu\"), \\\n",
    "                                              sum(\"qty\").alias(\"unit_sold\"), sum('paid_use').alias(\"paid_use\"), sum(col(\"paid_use\") + col(\"free_use\")).alias(\"total_use\")).toPandas()"
   ]
  },
  {
   "cell_type": "code",
   "execution_count": null,
   "metadata": {},
   "outputs": [],
   "source": []
  },
  {
   "cell_type": "markdown",
   "metadata": {},
   "source": [
    "### 기존 스킨제작소 구매자 vs McLAREN 구매자"
   ]
  },
  {
   "cell_type": "code",
   "execution_count": 14,
   "metadata": {},
   "outputs": [],
   "source": [
    "workshop_gcoin = load_data_mart(\"pc\", \"2022-07-13\", end_date, \"gcoin_use\").where(col(\"event_name\") == \"202207_workshop\")\n",
    "workshop_first_buy_by_user = workshop_gcoin.groupBy(\"account_id\").agg(min(\"date\").alias(\"first_date\"))"
   ]
  },
  {
   "cell_type": "code",
   "execution_count": 16,
   "metadata": {},
   "outputs": [],
   "source": [
    "mclaren_first_buy_by_user = mclaren_gcoin.groupBy(\"account_id\").agg(min(\"date\").alias(\"mclaren_first_date\"))"
   ]
  },
  {
   "cell_type": "code",
   "execution_count": 17,
   "metadata": {},
   "outputs": [],
   "source": [
    "first_buy_by_user = workshop_first_buy_by_user.join(mclaren_first_buy_by_user, \"account_id\", \"full_outer\")"
   ]
  },
  {
   "cell_type": "code",
   "execution_count": 22,
   "metadata": {},
   "outputs": [],
   "source": [
    "# a: 기존 스킨제작소 구매자가 시즈널 상품 구매\n",
    "# b: 시즈널 상품, 기존 스킨제작소 동시 구매\n",
    "# c: 시즈널 상품을 구매하고난 후 기존 스킨제작소 구매\n",
    "# d: 시즈널 상품만 구매\n",
    "# e: 기존 스킨제작소만 구매\n",
    "first_buy_by_user = first_buy_by_user.withColumn(\"case\",\n",
    "                                                    when(col(\"first_date\") < col(\"mclaren_first_date\"), \"a\"). \\\n",
    "                                                    when(col(\"first_date\") == col(\"mclaren_first_date\"), \"b\"). \\\n",
    "                                                    when(col(\"first_date\") > col(\"mclaren_first_date\"), \"c\"). \\\n",
    "                                                    when(col(\"first_date\").isNull(), \"d\"). \\\n",
    "                                                    when(col(\"mclaren_first_date\").isNull(), \"e\"). \\\n",
    "                                                    otherwise(lit(None))\n",
    "                                                )"
   ]
  },
  {
   "cell_type": "code",
   "execution_count": 23,
   "metadata": {},
   "outputs": [
    {
     "data": {
      "text/html": [
       "<div>\n",
       "<style scoped>\n",
       "    .dataframe tbody tr th:only-of-type {\n",
       "        vertical-align: middle;\n",
       "    }\n",
       "\n",
       "    .dataframe tbody tr th {\n",
       "        vertical-align: top;\n",
       "    }\n",
       "\n",
       "    .dataframe thead th {\n",
       "        text-align: right;\n",
       "    }\n",
       "</style>\n",
       "<table border=\"1\" class=\"dataframe\">\n",
       "  <thead>\n",
       "    <tr style=\"text-align: right;\">\n",
       "      <th></th>\n",
       "      <th>case</th>\n",
       "      <th>user_cnt</th>\n",
       "    </tr>\n",
       "  </thead>\n",
       "  <tbody>\n",
       "    <tr>\n",
       "      <th>0</th>\n",
       "      <td>a</td>\n",
       "      <td>152029</td>\n",
       "    </tr>\n",
       "    <tr>\n",
       "      <th>1</th>\n",
       "      <td>b</td>\n",
       "      <td>5525</td>\n",
       "    </tr>\n",
       "    <tr>\n",
       "      <th>2</th>\n",
       "      <td>c</td>\n",
       "      <td>2990</td>\n",
       "    </tr>\n",
       "    <tr>\n",
       "      <th>3</th>\n",
       "      <td>d</td>\n",
       "      <td>136821</td>\n",
       "    </tr>\n",
       "    <tr>\n",
       "      <th>4</th>\n",
       "      <td>e</td>\n",
       "      <td>872576</td>\n",
       "    </tr>\n",
       "  </tbody>\n",
       "</table>\n",
       "</div>"
      ],
      "text/plain": [
       "  case  user_cnt\n",
       "0    a    152029\n",
       "1    b      5525\n",
       "2    c      2990\n",
       "3    d    136821\n",
       "4    e    872576"
      ]
     },
     "execution_count": 23,
     "metadata": {},
     "output_type": "execute_result"
    }
   ],
   "source": [
    "first_buy_by_user.groupBy(\"case\").agg(countDistinct(\"account_id\").alias(\"user_cnt\")).orderBy(\"case\").toPandas()"
   ]
  },
  {
   "cell_type": "markdown",
   "metadata": {},
   "source": [
    "### 멕라렌 제작소 사용률"
   ]
  },
  {
   "cell_type": "code",
   "execution_count": 56,
   "metadata": {},
   "outputs": [],
   "source": [
    "pass_user_meta = spark.read.parquet(\"s3a://pubg-log-labs/data_mart/pass_user_meta/\"+end_date)"
   ]
  },
  {
   "cell_type": "code",
   "execution_count": 38,
   "metadata": {},
   "outputs": [
    {
     "name": "stdout",
     "output_type": "stream",
     "text": [
      "+----------------------------------------+---------+---------+---------------+\n",
      "|accountid                               |pass_type|pass_name|pass_start_date|\n",
      "+----------------------------------------+---------+---------+---------------+\n",
      "|account.24590f854bc44496998977577c73955a|season   |mclaren  |2022-09-08     |\n",
      "|account.ece1c2c554b64f85affd2d0b1de7b300|season   |mclaren  |2022-09-10     |\n",
      "|account.6ff71f978feb46a480d214fa46125e1c|season   |mclaren  |2022-09-11     |\n",
      "|account.5d319c8627b14ca4be97bc854aa5e52c|season   |mclaren  |2022-09-11     |\n",
      "|account.86d47624adbd4577b086804fcb928dbf|season   |mclaren  |2022-09-12     |\n",
      "|account.7e88411c656c48cf8a5e91517ac58abd|season   |mclaren  |2022-09-09     |\n",
      "|account.cfe7015a561340908196e7d236254170|season   |mclaren  |2022-09-08     |\n",
      "|account.88de7fd3fe1d41e1b1b6e378a9c8fff7|season   |mclaren  |2022-09-08     |\n",
      "|account.3a6aec62807f4ddfb6c4dba89e2c399b|season   |mclaren  |2022-09-09     |\n",
      "|account.7849d9b7a71d41c497290f150cb818cd|season   |mclaren  |2022-09-08     |\n",
      "|account.b7157fd481b146bcaaca23fbf733005c|season   |mclaren  |2022-09-11     |\n",
      "|account.26b78c51eb0b450da62f1349c5f13a58|season   |mclaren  |2022-09-08     |\n",
      "|account.6e7e9a1c8bdd4959a6a495287f70836d|season   |mclaren  |2022-09-10     |\n",
      "|account.8e5b04ae89ce4f45a147039bc3cb91c7|season   |mclaren  |2022-09-10     |\n",
      "|account.62b4e8144a6c4e3a9957f306e3184c8b|season   |mclaren  |2022-09-08     |\n",
      "|account.4ddefb1482fb4693a374307485e570c7|season   |mclaren  |2022-09-08     |\n",
      "|account.7b7af64577b941f2a282f7155ab8c456|season   |mclaren  |2022-09-13     |\n",
      "|account.4cfd1804649843efab9ee02581106a16|season   |mclaren  |2022-09-10     |\n",
      "|account.552c2987cd314aaaac72c709540851d9|season   |mclaren  |2022-09-11     |\n",
      "|account.99954e878a854522918b3d7b54a16bea|season   |mclaren  |2022-09-09     |\n",
      "+----------------------------------------+---------+---------+---------------+\n",
      "only showing top 20 rows\n",
      "\n"
     ]
    }
   ],
   "source": [
    "pass_user_meta.where(col(\"pass_name\") == \"mclaren\").show(truncate=False)"
   ]
  },
  {
   "cell_type": "code",
   "execution_count": 58,
   "metadata": {},
   "outputs": [
    {
     "name": "stdout",
     "output_type": "stream",
     "text": [
      "+-----------+\n",
      "|  pass_name|\n",
      "+-----------+\n",
      "|    mclaren|\n",
      "|galaxysquad|\n",
      "|     deston|\n",
      "|   punkwave|\n",
      "+-----------+\n",
      "\n"
     ]
    }
   ],
   "source": [
    "pass_user_meta.where(col(\"pass_start_date\") >= \"2022-01-12\").select(\"pass_name\").distinct().show()"
   ]
  },
  {
   "cell_type": "code",
   "execution_count": 61,
   "metadata": {},
   "outputs": [
    {
     "name": "stdout",
     "output_type": "stream",
     "text": [
      "+--------+-------------+\n",
      "|punkwave|pass_user_cnt|\n",
      "+--------+-------------+\n",
      "|punkwave|       415938|\n",
      "+--------+-------------+\n",
      "\n"
     ]
    }
   ],
   "source": [
    "pass_user_meta.where((col(\"pass_name\") == \"punkwave\") & (col(\"pass_start_date\") <= \"2022-03-22\")).select(lit(\"punkwave\"), countDistinct(\"accountid\").alias(\"pass_user_cnt\")).show()"
   ]
  },
  {
   "cell_type": "code",
   "execution_count": 63,
   "metadata": {},
   "outputs": [
    {
     "name": "stdout",
     "output_type": "stream",
     "text": [
      "+-----------+-------------+\n",
      "|galaxysquad|pass_user_cnt|\n",
      "+-----------+-------------+\n",
      "|galaxysquad|       236867|\n",
      "+-----------+-------------+\n",
      "\n"
     ]
    }
   ],
   "source": [
    "pass_user_meta.where((col(\"pass_name\") == \"galaxysquad\") & (col(\"pass_start_date\") <= \"2022-05-17\")).select(lit(\"galaxysquad\"), countDistinct(\"accountid\").alias(\"pass_user_cnt\")).show()"
   ]
  },
  {
   "cell_type": "code",
   "execution_count": 65,
   "metadata": {},
   "outputs": [
    {
     "name": "stdout",
     "output_type": "stream",
     "text": [
      "+------+-------------+\n",
      "|deston|pass_user_cnt|\n",
      "+------+-------------+\n",
      "|deston|       182415|\n",
      "+------+-------------+\n",
      "\n"
     ]
    }
   ],
   "source": [
    "pass_user_meta.where((col(\"pass_name\") == \"deston\") & (col(\"pass_start_date\") <= \"2022-07-19\")).select(lit(\"deston\"), countDistinct(\"accountid\").alias(\"pass_user_cnt\")).show()"
   ]
  },
  {
   "cell_type": "code",
   "execution_count": 66,
   "metadata": {},
   "outputs": [
    {
     "name": "stdout",
     "output_type": "stream",
     "text": [
      "+-------+-------------+\n",
      "|mclaren|pass_user_cnt|\n",
      "+-------+-------------+\n",
      "|mclaren|       130101|\n",
      "+-------+-------------+\n",
      "\n"
     ]
    }
   ],
   "source": [
    "pass_user_meta.where((col(\"pass_name\") == \"mclaren\") & (col(\"pass_start_date\") <= end_date)).select(lit(\"mclaren\"), countDistinct(\"accountid\").alias(\"pass_user_cnt\")).show()"
   ]
  },
  {
   "cell_type": "code",
   "execution_count": 70,
   "metadata": {},
   "outputs": [],
   "source": [
    "punkwave_pass_level = load_schema.lobby(spark, \"pc\", \"live\", \"RewardLevel\", \"2022-03-16\", \"2022-03-22\")\n",
    "galaxysquad_pass_level = load_schema.lobby(spark, \"pc\", \"live\", \"RewardLevel\", \"2022-05-11\", \"2022-05-17\")\n",
    "deston_pass_level = load_schema.lobby(spark, \"pc\", \"live\", \"RewardLevel\", \"2022-07-13\", \"2022-07-19\")\n",
    "mclaren_pass_level = load_schema.lobby(spark, \"pc\", \"live\", \"RewardLevel\", start_date, end_date)"
   ]
  },
  {
   "cell_type": "code",
   "execution_count": 71,
   "metadata": {},
   "outputs": [],
   "source": [
    "pass_level = (punkwave_pass_level.groupBy(\"AccountId\").agg(max(\"Level\").alias(\"max_level\")).withColumn(\"pass_name\", lit(\"punkwave\"))).union(\n",
    "    (galaxysquad_pass_level.groupBy(\"AccountId\").agg(max(\"Level\").alias(\"max_level\")).withColumn(\"pass_name\", lit(\"galaxysquad\")))\n",
    ").union(\n",
    "    (deston_pass_level.groupBy(\"AccountId\").agg(max(\"Level\").alias(\"max_level\")).withColumn(\"pass_name\", lit(\"deston\")))\n",
    ").union(\n",
    "    (mclaren_pass_level.groupBy(\"AccountId\").agg(max(\"Level\").alias(\"max_level\")).withColumn(\"pass_name\", lit(\"mclaren\")))\n",
    ")"
   ]
  },
  {
   "cell_type": "code",
   "execution_count": 76,
   "metadata": {},
   "outputs": [
    {
     "data": {
      "text/html": [
       "<div>\n",
       "<style scoped>\n",
       "    .dataframe tbody tr th:only-of-type {\n",
       "        vertical-align: middle;\n",
       "    }\n",
       "\n",
       "    .dataframe tbody tr th {\n",
       "        vertical-align: top;\n",
       "    }\n",
       "\n",
       "    .dataframe thead th {\n",
       "        text-align: right;\n",
       "    }\n",
       "</style>\n",
       "<table border=\"1\" class=\"dataframe\">\n",
       "  <thead>\n",
       "    <tr style=\"text-align: right;\">\n",
       "      <th></th>\n",
       "      <th>pass_name</th>\n",
       "      <th>user_cnt</th>\n",
       "    </tr>\n",
       "  </thead>\n",
       "  <tbody>\n",
       "    <tr>\n",
       "      <th>0</th>\n",
       "      <td>mclaren</td>\n",
       "      <td>1201077</td>\n",
       "    </tr>\n",
       "    <tr>\n",
       "      <th>1</th>\n",
       "      <td>galaxysquad</td>\n",
       "      <td>1344438</td>\n",
       "    </tr>\n",
       "    <tr>\n",
       "      <th>2</th>\n",
       "      <td>deston</td>\n",
       "      <td>858901</td>\n",
       "    </tr>\n",
       "    <tr>\n",
       "      <th>3</th>\n",
       "      <td>punkwave</td>\n",
       "      <td>1663923</td>\n",
       "    </tr>\n",
       "  </tbody>\n",
       "</table>\n",
       "</div>"
      ],
      "text/plain": [
       "     pass_name  user_cnt\n",
       "0      mclaren   1201077\n",
       "1  galaxysquad   1344438\n",
       "2       deston    858901\n",
       "3     punkwave   1663923"
      ]
     },
     "execution_count": 76,
     "metadata": {},
     "output_type": "execute_result"
    }
   ],
   "source": [
    "pass_level.groupBy(\"pass_name\").agg(countDistinct(\"AccountId\").alias(\"user_cnt\")).toPandas()"
   ]
  },
  {
   "cell_type": "code",
   "execution_count": 73,
   "metadata": {},
   "outputs": [],
   "source": [
    "pass_level_df = pass_level.groupBy(\"pass_name\", \"max_level\").agg(countDistinct(\"AccountId\").alias(\"user_cnt\"))"
   ]
  },
  {
   "cell_type": "code",
   "execution_count": 74,
   "metadata": {},
   "outputs": [],
   "source": [
    "mysql.insert_table(pass_level_df, \"labs\", \"pass_level_df\")"
   ]
  },
  {
   "cell_type": "code",
   "execution_count": null,
   "metadata": {},
   "outputs": [],
   "source": []
  },
  {
   "cell_type": "code",
   "execution_count": null,
   "metadata": {},
   "outputs": [],
   "source": []
  },
  {
   "cell_type": "code",
   "execution_count": null,
   "metadata": {},
   "outputs": [],
   "source": [
    "pass_user = mclaren_gcoin.where(col(\"product_id\").isin([\"itemdesc.13000628\", \"itemdesc.13000629\"]))"
   ]
  },
  {
   "cell_type": "code",
   "execution_count": null,
   "metadata": {},
   "outputs": [],
   "source": [
    "def pass_user_rate(start_date, end_date):\n",
    "    user = load_data_mart(\"pc\", end_date, end_date, \"user_master\").where(col('lastlogindate') >= start_date)\n",
    "    pass_level = load_schema.lobby(spark, \"pc\", \"live\", \"RewardLevel\", start_date, end_date).select(\"AccountId\").distinct()\n",
    "    pass_purchase = load_schema.lobby(spark, \"pc\", \"live\", \"PurchaseResult\", \"2022-07-13\", \"2022-07-13\").where(col(\"AnalyticEventType\").like(\"%pass%\")).select(\"AccountId\").distinct()\n",
    "    pass_user = pass_level.union(pass_purchase)\n",
    "    \n",
    "    au = user.select(countDistinct(\"accountid\").alias(\"au\")).collect()[0][0]\n",
    "    user_cnt = pass_user.select(countDistinct(\"AccountId\")).collect()[0][0]\n",
    "    return au, user_cnt"
   ]
  }
 ],
 "metadata": {
  "kernelspec": {
   "display_name": "Python 3",
   "language": "python",
   "name": "python3"
  },
  "language_info": {
   "codemirror_mode": {
    "name": "ipython",
    "version": 3
   },
   "file_extension": ".py",
   "mimetype": "text/x-python",
   "name": "python",
   "nbconvert_exporter": "python",
   "pygments_lexer": "ipython3",
   "version": "3.6.7"
  }
 },
 "nbformat": 4,
 "nbformat_minor": 4
}
