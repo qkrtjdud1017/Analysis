{
 "cells": [
  {
   "cell_type": "code",
   "execution_count": 289,
   "metadata": {
    "collapsed": true,
    "jupyter": {
     "outputs_hidden": true
    }
   },
   "outputs": [
    {
     "name": "stdout",
     "output_type": "stream",
     "text": [
      "Spark cluster not assigned. creating a new one...\n",
      "Node spec: 8 executors with 48G RAM each\n",
      "Job Port 4049 is assigned for requested cluster\n",
      "Waiting for Spark master to be available...\n"
     ]
    },
    {
     "name": "stderr",
     "output_type": "stream",
     "text": [
      "ERROR:py4j.java_gateway:An error occurred while trying to connect to the Java server (127.0.0.1:34209)\n",
      "Traceback (most recent call last):\n",
      "  File \"/usr/local/spark/python/lib/py4j-0.10.7-src.zip/py4j/java_gateway.py\", line 929, in _get_connection\n",
      "    connection = self.deque.pop()\n",
      "IndexError: pop from an empty deque\n",
      "\n",
      "During handling of the above exception, another exception occurred:\n",
      "\n",
      "Traceback (most recent call last):\n",
      "  File \"/usr/local/spark/python/lib/py4j-0.10.7-src.zip/py4j/java_gateway.py\", line 1067, in start\n",
      "    self.socket.connect((self.address, self.port))\n",
      "ConnectionRefusedError: [Errno 111] Connection refused\n",
      "ERROR:py4j.java_gateway:An error occurred while trying to connect to the Java server (127.0.0.1:34209)\n",
      "Traceback (most recent call last):\n",
      "  File \"/usr/local/spark/python/lib/py4j-0.10.7-src.zip/py4j/java_gateway.py\", line 929, in _get_connection\n",
      "    connection = self.deque.pop()\n",
      "IndexError: pop from an empty deque\n",
      "\n",
      "During handling of the above exception, another exception occurred:\n",
      "\n",
      "Traceback (most recent call last):\n",
      "  File \"/usr/local/spark/python/lib/py4j-0.10.7-src.zip/py4j/java_gateway.py\", line 1067, in start\n",
      "    self.socket.connect((self.address, self.port))\n",
      "ConnectionRefusedError: [Errno 111] Connection refused\n",
      "ERROR:py4j.java_gateway:An error occurred while trying to connect to the Java server (127.0.0.1:34209)\n",
      "Traceback (most recent call last):\n",
      "  File \"/usr/local/spark/python/lib/py4j-0.10.7-src.zip/py4j/java_gateway.py\", line 929, in _get_connection\n",
      "    connection = self.deque.pop()\n",
      "IndexError: pop from an empty deque\n",
      "\n",
      "During handling of the above exception, another exception occurred:\n",
      "\n",
      "Traceback (most recent call last):\n",
      "  File \"/usr/local/spark/python/lib/py4j-0.10.7-src.zip/py4j/java_gateway.py\", line 1067, in start\n",
      "    self.socket.connect((self.address, self.port))\n",
      "ConnectionRefusedError: [Errno 111] Connection refused\n",
      "ERROR:py4j.java_gateway:An error occurred while trying to connect to the Java server (127.0.0.1:34209)\n",
      "Traceback (most recent call last):\n",
      "  File \"/usr/local/spark/python/lib/py4j-0.10.7-src.zip/py4j/java_gateway.py\", line 929, in _get_connection\n",
      "    connection = self.deque.pop()\n",
      "IndexError: pop from an empty deque\n",
      "\n",
      "During handling of the above exception, another exception occurred:\n",
      "\n",
      "Traceback (most recent call last):\n",
      "  File \"/usr/local/spark/python/lib/py4j-0.10.7-src.zip/py4j/java_gateway.py\", line 1067, in start\n",
      "    self.socket.connect((self.address, self.port))\n",
      "ConnectionRefusedError: [Errno 111] Connection refused\n"
     ]
    },
    {
     "name": "stdout",
     "output_type": "stream",
     "text": [
      "Spark master launched!\n",
      "Creating new Spark session, name: west0_ws_seg2...\n",
      "Waiting for all executors ready...\n",
      "All executors connected!\n",
      "Complete! elapsed time: 00:00:48\n"
     ]
    }
   ],
   "source": [
    "from pubg_util import mysql, load_schema, notifier\n",
    "from sphynx import sphynx, NODE_SMALL, NODE_MEDIUM, NODE_LARGE\n",
    "from pyspark.sql.functions import *\n",
    "import pandas as pd\n",
    "import pickle\n",
    "\n",
    "spark = sphynx.get_spark(executor_count=8, app_name='west0_ws_seg2', node_spec=NODE_LARGE)"
   ]
  },
  {
   "cell_type": "code",
   "execution_count": 291,
   "metadata": {},
   "outputs": [],
   "source": [
    "# 각 day 28\n",
    "start_date = \"2022-06-08\"\n",
    "end_date = \"2022-07-05\"\n",
    "\n",
    "ws_start_date = \"2022-07-13\"\n",
    "ws_day_28 = \"2022-08-09\""
   ]
  },
  {
   "cell_type": "code",
   "execution_count": 292,
   "metadata": {},
   "outputs": [],
   "source": [
    "ws_gcoin = load_data_mart(\"pc\", ws_start_date, ws_day_28, \"gcoin_use\")"
   ]
  },
  {
   "cell_type": "code",
   "execution_count": 293,
   "metadata": {},
   "outputs": [
    {
     "name": "stdout",
     "output_type": "stream",
     "text": [
      "+-------------+--------------------------+\n",
      "|sum(paid_use)|sum((paid_use + free_use))|\n",
      "+-------------+--------------------------+\n",
      "|1874838675   |2341605700                |\n",
      "+-------------+--------------------------+\n",
      "\n"
     ]
    }
   ],
   "source": [
    "ws_gcoin.where(col(\"event_name\").like(\"%workshop%\")).select(sum(\"paid_use\"), sum(col(\"paid_use\") + col(\"free_use\"))).show(truncate=False)"
   ]
  },
  {
   "cell_type": "code",
   "execution_count": 288,
   "metadata": {},
   "outputs": [],
   "source": [
    "sphynx.stop()"
   ]
  },
  {
   "cell_type": "code",
   "execution_count": 268,
   "metadata": {},
   "outputs": [],
   "source": [
    "def get_workshop_rate(start_date, end_date):\n",
    "    open_crate = load_schema.lobby(spark, \"pc\", \"live\", \"WorkshopCrateOpened\", start_date, end_date)\n",
    "    craft = load_schema.lobby(spark, \"pc\", \"live\", \"WorkshopCrafted\", start_date, end_date)\n",
    "    disassemble = load_schema.lobby(spark, \"pc\", \"live\", \"WorkshopDisassembled\", start_date, end_date)\n",
    "    repurpose = load_schema.lobby(spark, \"pc\", \"live\", \"WorkshopRepurposed\", start_date, end_date)\n",
    "    special_craft = load_schema.lobby(spark, \"pc\", \"live\", \"PurchaseResult\", start_date, end_date).where(col(\"Currency\") == \"artisanstoken\")\n",
    "    \n",
    "    workshop_user = (open_crate.groupBy(\"AccountId\").agg(sum(\"OpenAmount\").alias(\"amount\")).withColumn(\"action\", lit(\"open\"))) \\\n",
    "        .unionByName(craft.groupBy(\"AccountId\").agg(count(\"*\").alias(\"amount\")).withColumn(\"action\", lit(\"craft\"))) \\\n",
    "        .unionByName(disassemble.groupBy(\"AccountId\").agg(count(\"*\").alias(\"amount\")).withColumn(\"action\", lit(\"disassemble\"))) \\\n",
    "        .unionByName(repurpose.groupBy(\"AccountId\").agg(count(\"*\").alias(\"amount\")).withColumn(\"action\", lit(\"repurpose\"))) \\\n",
    "        .unionByName(special_craft.groupBy(\"AccountId\").agg(sum(\"Amount\").alias(\"amount\")).withColumn(\"action\", lit(\"special_craft\")))\n",
    "\n",
    "    return workshop_user"
   ]
  },
  {
   "cell_type": "code",
   "execution_count": 271,
   "metadata": {
    "collapsed": true,
    "jupyter": {
     "outputs_hidden": true
    }
   },
   "outputs": [
    {
     "name": "stderr",
     "output_type": "stream",
     "text": [
      "ERROR:py4j.java_gateway:An error occurred while trying to connect to the Java server (127.0.0.1:46407)\n",
      "Traceback (most recent call last):\n",
      "  File \"/usr/local/spark/python/lib/py4j-0.10.7-src.zip/py4j/java_gateway.py\", line 929, in _get_connection\n",
      "    connection = self.deque.pop()\n",
      "IndexError: pop from an empty deque\n",
      "\n",
      "During handling of the above exception, another exception occurred:\n",
      "\n",
      "Traceback (most recent call last):\n",
      "  File \"/usr/local/spark/python/lib/py4j-0.10.7-src.zip/py4j/java_gateway.py\", line 1067, in start\n",
      "    self.socket.connect((self.address, self.port))\n",
      "ConnectionRefusedError: [Errno 111] Connection refused\n",
      "ERROR:py4j.java_gateway:An error occurred while trying to connect to the Java server (127.0.0.1:46407)\n",
      "Traceback (most recent call last):\n",
      "  File \"/usr/local/spark/python/lib/py4j-0.10.7-src.zip/py4j/java_gateway.py\", line 929, in _get_connection\n",
      "    connection = self.deque.pop()\n",
      "IndexError: pop from an empty deque\n",
      "\n",
      "During handling of the above exception, another exception occurred:\n",
      "\n",
      "Traceback (most recent call last):\n",
      "  File \"/usr/local/spark/python/lib/py4j-0.10.7-src.zip/py4j/java_gateway.py\", line 1067, in start\n",
      "    self.socket.connect((self.address, self.port))\n",
      "ConnectionRefusedError: [Errno 111] Connection refused\n",
      "ERROR:py4j.java_gateway:An error occurred while trying to connect to the Java server (127.0.0.1:46407)\n",
      "Traceback (most recent call last):\n",
      "  File \"/usr/local/spark/python/lib/py4j-0.10.7-src.zip/py4j/java_gateway.py\", line 929, in _get_connection\n",
      "    connection = self.deque.pop()\n",
      "IndexError: pop from an empty deque\n",
      "\n",
      "During handling of the above exception, another exception occurred:\n",
      "\n",
      "Traceback (most recent call last):\n",
      "  File \"/usr/local/spark/python/lib/py4j-0.10.7-src.zip/py4j/java_gateway.py\", line 1067, in start\n",
      "    self.socket.connect((self.address, self.port))\n",
      "ConnectionRefusedError: [Errno 111] Connection refused\n"
     ]
    }
   ],
   "source": [
    "ws_user = get_workshop_rate(ws_start_date, ws_day_28)"
   ]
  },
  {
   "cell_type": "code",
   "execution_count": 272,
   "metadata": {},
   "outputs": [
    {
     "data": {
      "text/plain": [
       "DataFrame[AccountId: string, amount: bigint, action: string]"
      ]
     },
     "execution_count": 272,
     "metadata": {},
     "output_type": "execute_result"
    }
   ],
   "source": [
    "ws_user"
   ]
  },
  {
   "cell_type": "code",
   "execution_count": 74,
   "metadata": {},
   "outputs": [],
   "source": [
    "only_costume_gcoin_by_user = spark.createDataFrame(pd.read_csv(\"./only_costume_gcoin_by_user.csv\"))\n",
    "costume_and_wsus_gcoin_by_user = spark.createDataFrame(pd.read_csv(\"./costume_and_wsus_gcoin_by_user.csv\"))\n",
    "only_wsus_gcoin_by_user = spark.createDataFrame(pd.read_csv(\"./only_wsus_gcoin_by_user.csv\"))"
   ]
  },
  {
   "cell_type": "code",
   "execution_count": 75,
   "metadata": {},
   "outputs": [],
   "source": [
    "only_costume_gcoin_by_user = only_costume_gcoin_by_user.withColumnRenamed(\"total_gcoin\", \"total_use\").withColumn(\"wsus_cnt\", lit(0))"
   ]
  },
  {
   "cell_type": "code",
   "execution_count": 76,
   "metadata": {},
   "outputs": [],
   "source": [
    "only_costume_gcoin_by_user = only_costume_gcoin_by_user.withColumn(\"seg_group\", lit(\"a\"))\n",
    "costume_and_wsus_gcoin_by_user = costume_and_wsus_gcoin_by_user.withColumn(\"seg_group\", lit(\"b\"))\n",
    "only_wsus_gcoin_by_user = only_wsus_gcoin_by_user.withColumn(\"seg_group\", lit(\"c\"))"
   ]
  },
  {
   "cell_type": "code",
   "execution_count": 77,
   "metadata": {},
   "outputs": [],
   "source": [
    "pre_seg = only_costume_gcoin_by_user.unionByName(costume_and_wsus_gcoin_by_user).unionByName(only_wsus_gcoin_by_user).withColumn(\"pre_seg\", concat(col(\"seg_group\"), col(\"group\")))"
   ]
  },
  {
   "cell_type": "code",
   "execution_count": 49,
   "metadata": {},
   "outputs": [],
   "source": [
    "only_costume_gcoin_by_user2 = spark.createDataFrame(pd.read_csv(\"./only_costume_gcoin_by_user2.csv\"))\n",
    "costume_and_wsus_gcoin_by_user2 = spark.createDataFrame(pd.read_csv(\"./costume_and_wsus_gcoin_by_user2.csv\"))\n",
    "only_wsus_gcoin_by_user2 = spark.createDataFrame(pd.read_csv(\"./only_wsus_gcoin_by_user2.csv\"))"
   ]
  },
  {
   "cell_type": "code",
   "execution_count": 50,
   "metadata": {},
   "outputs": [],
   "source": [
    "only_costume_gcoin_by_user2 = only_costume_gcoin_by_user2.withColumnRenamed(\"group\", \"group2\").withColumn(\"wsus_cnt\", lit(0)).withColumn(\"seg_group2\", lit(\"a\"))\n",
    "costume_and_wsus_gcoin_by_user2 = costume_and_wsus_gcoin_by_user2.withColumnRenamed(\"group\", \"group2\").withColumn(\"seg_group2\", lit(\"b\"))\n",
    "only_wsus_gcoin_by_user2 = only_wsus_gcoin_by_user2.withColumnRenamed(\"group\", \"group2\").withColumn(\"seg_group2\", lit(\"c\")).withColumn(\"type\", lit(\"wsus\")).withColumn(\"chest_cnt\", lit(0))"
   ]
  },
  {
   "cell_type": "code",
   "execution_count": 52,
   "metadata": {},
   "outputs": [],
   "source": [
    "post_seg = only_costume_gcoin_by_user2.unionByName(costume_and_wsus_gcoin_by_user2).unionByName(only_wsus_gcoin_by_user2)"
   ]
  },
  {
   "cell_type": "code",
   "execution_count": 53,
   "metadata": {},
   "outputs": [],
   "source": [
    "post_seg = post_seg.withColumnRenamed(\"paid_use\", \"paid_use2\").withColumnRenamed(\"total_use\", \"total_use2\").withColumnRenamed(\"wsus_cnt\", \"wsus_cnt2\").withColumn(\"post_seg\", concat(col(\"seg_group2\"), col(\"group2\")))"
   ]
  },
  {
   "cell_type": "code",
   "execution_count": 65,
   "metadata": {},
   "outputs": [
    {
     "name": "stdout",
     "output_type": "stream",
     "text": [
      "root\n",
      " |-- account_id: string (nullable = true)\n",
      " |-- total_use: long (nullable = true)\n",
      " |-- paid_use: long (nullable = true)\n",
      " |-- group: string (nullable = true)\n",
      " |-- wsus_cnt: long (nullable = true)\n",
      " |-- seg_group: string (nullable = false)\n",
      " |-- pre_seg: string (nullable = true)\n",
      "\n"
     ]
    }
   ],
   "source": [
    "pre_seg.printSchema()"
   ]
  },
  {
   "cell_type": "code",
   "execution_count": 66,
   "metadata": {},
   "outputs": [
    {
     "name": "stdout",
     "output_type": "stream",
     "text": [
      "root\n",
      " |-- type: string (nullable = true)\n",
      " |-- account_id: string (nullable = true)\n",
      " |-- group2: string (nullable = true)\n",
      " |-- paid_use2: long (nullable = true)\n",
      " |-- total_use2: long (nullable = true)\n",
      " |-- chest_cnt: long (nullable = true)\n",
      " |-- wsus_cnt2: long (nullable = true)\n",
      " |-- seg_group2: string (nullable = false)\n",
      " |-- post_seg: string (nullable = true)\n",
      "\n"
     ]
    }
   ],
   "source": [
    "post_seg.printSchema()"
   ]
  },
  {
   "cell_type": "code",
   "execution_count": 68,
   "metadata": {},
   "outputs": [],
   "source": [
    "df = pre_seg.join(post_seg, \"account_id\", \"full_outer\")\n",
    "mysql.insert_table(df, \"labs\", \"workshop_user_seg_df\")"
   ]
  },
  {
   "cell_type": "code",
   "execution_count": null,
   "metadata": {},
   "outputs": [],
   "source": []
  },
  {
   "cell_type": "code",
   "execution_count": 78,
   "metadata": {},
   "outputs": [],
   "source": [
    "only_costume_gcoin_by_user3 = spark.createDataFrame(pd.read_csv(\"./only_costume_gcoin_by_user3.csv\"))\n",
    "costume_and_wsus_gcoin_by_user3 = spark.createDataFrame(pd.read_csv(\"./costume_and_wsus_gcoin_by_user3.csv\"))\n",
    "only_wsus_gcoin_by_user3 = spark.createDataFrame(pd.read_csv(\"./only_wsus_gcoin_by_user3.csv\"))"
   ]
  },
  {
   "cell_type": "code",
   "execution_count": 79,
   "metadata": {},
   "outputs": [],
   "source": [
    "only_costume_gcoin_by_user3 = only_costume_gcoin_by_user3.withColumnRenamed(\"group\", \"group2\").withColumn(\"wsus_cnt\", lit(0)).withColumn(\"seg_group2\", lit(\"a\"))\n",
    "costume_and_wsus_gcoin_by_user3 = costume_and_wsus_gcoin_by_user3.withColumnRenamed(\"group\", \"group2\").withColumn(\"seg_group2\", lit(\"b\"))\n",
    "only_wsus_gcoin_by_user3 = only_wsus_gcoin_by_user3.withColumnRenamed(\"group\", \"group2\").withColumn(\"seg_group2\", lit(\"c\")).withColumn(\"type\", lit(\"wsus\")).withColumn(\"chest_cnt\", lit(0))"
   ]
  },
  {
   "cell_type": "code",
   "execution_count": 80,
   "metadata": {},
   "outputs": [],
   "source": [
    "post_seg = only_costume_gcoin_by_user3.unionByName(costume_and_wsus_gcoin_by_user3).unionByName(only_wsus_gcoin_by_user3)"
   ]
  },
  {
   "cell_type": "code",
   "execution_count": 83,
   "metadata": {},
   "outputs": [],
   "source": [
    "post_seg = post_seg.withColumnRenamed(\"paid_use\", \"paid_use2\").withColumnRenamed(\"total_use\", \"total_use2\").withColumnRenamed(\"wsus_cnt\", \"wsus_cnt2\").withColumn(\"post_seg\", concat(col(\"seg_group2\"), col(\"group2\")))"
   ]
  },
  {
   "cell_type": "code",
   "execution_count": 84,
   "metadata": {},
   "outputs": [],
   "source": [
    "df = pre_seg.join(post_seg, \"account_id\", \"full_outer\")"
   ]
  },
  {
   "cell_type": "code",
   "execution_count": 85,
   "metadata": {
    "collapsed": true,
    "jupyter": {
     "outputs_hidden": true
    }
   },
   "outputs": [
    {
     "name": "stderr",
     "output_type": "stream",
     "text": [
      "----------------------------------------\n",
      "Exception happened during processing of request from ('127.0.0.1', 60280)\n",
      "Traceback (most recent call last):\n",
      "  File \"/opt/conda/lib/python3.6/socketserver.py\", line 317, in _handle_request_noblock\n",
      "    self.process_request(request, client_address)\n",
      "  File \"/opt/conda/lib/python3.6/socketserver.py\", line 348, in process_request\n",
      "    self.finish_request(request, client_address)\n",
      "  File \"/opt/conda/lib/python3.6/socketserver.py\", line 361, in finish_request\n",
      "    self.RequestHandlerClass(request, client_address, self)\n",
      "  File \"/opt/conda/lib/python3.6/socketserver.py\", line 721, in __init__\n",
      "    self.handle()\n",
      "  File \"/usr/local/spark/python/pyspark/accumulators.py\", line 269, in handle\n",
      "    poll(accum_updates)\n",
      "  File \"/usr/local/spark/python/pyspark/accumulators.py\", line 241, in poll\n",
      "    if func():\n",
      "  File \"/usr/local/spark/python/pyspark/accumulators.py\", line 245, in accum_updates\n",
      "    num_updates = read_int(self.rfile)\n",
      "  File \"/usr/local/spark/python/pyspark/serializers.py\", line 717, in read_int\n",
      "    raise EOFError\n",
      "EOFError\n",
      "----------------------------------------\n"
     ]
    }
   ],
   "source": [
    "mysql.insert_table(df, \"labs\", \"workshop_user_seg_df2\")"
   ]
  },
  {
   "cell_type": "code",
   "execution_count": null,
   "metadata": {},
   "outputs": [],
   "source": []
  },
  {
   "cell_type": "markdown",
   "metadata": {},
   "source": [
    "## Day 28"
   ]
  },
  {
   "cell_type": "markdown",
   "metadata": {},
   "source": [
    "### Costume = Costume & Workshop"
   ]
  },
  {
   "cell_type": "code",
   "execution_count": 90,
   "metadata": {},
   "outputs": [],
   "source": [
    "only_costume_gcoin_by_user_day28 = spark.createDataFrame(pd.read_csv(\"./only_costume_gcoin_by_user_day28.csv\")) \\\n",
    "    .withColumnRenamed(\"total_gcoin\", \"total_use\").withColumn(\"wsus_cnt\", lit(0)) \\\n",
    "    .withColumn(\"seg_group\", lit(\"a\"))\n",
    "costume_and_wsus_gcoin_by_user_day28 = spark.createDataFrame(pd.read_csv(\"./costume_and_wsus_gcoin_by_user_day28.csv\")) \\\n",
    "    .withColumn(\"seg_group\", lit(\"b\"))\n",
    "only_wsus_gcoin_by_user_day28 = spark.createDataFrame(pd.read_csv(\"./only_wsus_gcoin_by_user.csv\")) \\\n",
    "    .withColumn(\"seg_group\", lit(\"c\"))"
   ]
  },
  {
   "cell_type": "code",
   "execution_count": 91,
   "metadata": {},
   "outputs": [],
   "source": [
    "pre_seg28 = only_costume_gcoin_by_user_day28 \\\n",
    "    .unionByName(costume_and_wsus_gcoin_by_user_day28) \\\n",
    "    .unionByName(only_wsus_gcoin_by_user_day28) \\\n",
    "    .withColumn(\"pre_seg\", concat(col(\"seg_group\"), col(\"group\")))"
   ]
  },
  {
   "cell_type": "code",
   "execution_count": null,
   "metadata": {},
   "outputs": [],
   "source": []
  },
  {
   "cell_type": "code",
   "execution_count": 92,
   "metadata": {},
   "outputs": [],
   "source": [
    "only_costume_gcoin_by_user2_day28 = spark.createDataFrame(pd.read_csv(\"./only_costume_gcoin_by_user2_day28.csv\")) \\\n",
    "    .withColumnRenamed(\"group\", \"group2\").withColumn(\"wsus_cnt\", lit(0)).withColumn(\"seg_group2\", lit(\"a\"))\n",
    "costume_and_wsus_gcoin_by_user2_day28 = spark.createDataFrame(pd.read_csv(\"./costume_and_wsus_gcoin_by_user2_day28.csv\")) \\\n",
    "    .withColumnRenamed(\"group\", \"group2\").withColumn(\"seg_group2\", lit(\"b\"))\n",
    "only_wsus_gcoin_by_user2_day28 = spark.createDataFrame(pd.read_csv(\"./only_wsus_gcoin_by_user2_day28.csv\")) \\\n",
    "    .withColumnRenamed(\"group\", \"group2\").withColumn(\"seg_group2\", lit(\"c\")).withColumn(\"type\", lit(\"wsus\")).withColumn(\"chest_cnt\", lit(0))"
   ]
  },
  {
   "cell_type": "code",
   "execution_count": 93,
   "metadata": {},
   "outputs": [],
   "source": [
    "post_seg28 = only_costume_gcoin_by_user2_day28.unionByName(costume_and_wsus_gcoin_by_user2_day28).unionByName(only_wsus_gcoin_by_user2_day28) \\\n",
    "    .withColumnRenamed(\"paid_use\", \"paid_use2\").withColumnRenamed(\"total_use\", \"total_use2\") \\\n",
    "    .withColumnRenamed(\"wsus_cnt\", \"wsus_cnt2\").withColumn(\"post_seg\", concat(col(\"seg_group2\"), col(\"group2\")))"
   ]
  },
  {
   "cell_type": "code",
   "execution_count": null,
   "metadata": {},
   "outputs": [],
   "source": []
  },
  {
   "cell_type": "code",
   "execution_count": 94,
   "metadata": {},
   "outputs": [],
   "source": [
    "df = pre_seg28.join(post_seg28, \"account_id\", \"full_outer\")\n",
    "mysql.insert_table(df, \"labs\", \"workshop_user_seg_df_day28\")"
   ]
  },
  {
   "cell_type": "code",
   "execution_count": 273,
   "metadata": {},
   "outputs": [],
   "source": [
    "df1 = mysql.read_table(spark, \"labs\", \"workshop_user_seg_df_day28\")"
   ]
  },
  {
   "cell_type": "code",
   "execution_count": 274,
   "metadata": {},
   "outputs": [],
   "source": [
    "df1_ws_user = ws_user.join(df1.withColumnRenamed(\"account_id\", \"AccountId\"), \"AccountId\")"
   ]
  },
  {
   "cell_type": "code",
   "execution_count": 283,
   "metadata": {},
   "outputs": [],
   "source": [
    "df1_user_cnt = df1.groupBy(\"seg_group\", \"group\", \"seg_group2\", \"group2\").agg(countDistinct(\"account_id\").alias(\"total_user_cnt\")).toPandas()"
   ]
  },
  {
   "cell_type": "code",
   "execution_count": 279,
   "metadata": {},
   "outputs": [],
   "source": [
    "df1_ws_user_by_action = df1_ws_user.groupBy(\"seg_group\", \"group\", \"seg_group2\", \"group2\", \"action\").agg(countDistinct(\"AccountId\").alias(\"user_cnt\")).toPandas()"
   ]
  },
  {
   "cell_type": "code",
   "execution_count": 286,
   "metadata": {
    "collapsed": true,
    "jupyter": {
     "outputs_hidden": true
    }
   },
   "outputs": [
    {
     "name": "stderr",
     "output_type": "stream",
     "text": [
      "----------------------------------------\n",
      "Exception happened during processing of request from ('127.0.0.1', 42946)\n",
      "Traceback (most recent call last):\n",
      "  File \"/opt/conda/lib/python3.6/socketserver.py\", line 317, in _handle_request_noblock\n",
      "    self.process_request(request, client_address)\n",
      "  File \"/opt/conda/lib/python3.6/socketserver.py\", line 348, in process_request\n",
      "    self.finish_request(request, client_address)\n",
      "  File \"/opt/conda/lib/python3.6/socketserver.py\", line 361, in finish_request\n",
      "    self.RequestHandlerClass(request, client_address, self)\n",
      "  File \"/opt/conda/lib/python3.6/socketserver.py\", line 721, in __init__\n",
      "    self.handle()\n",
      "  File \"/usr/local/spark/python/pyspark/accumulators.py\", line 269, in handle\n",
      "    poll(accum_updates)\n",
      "  File \"/usr/local/spark/python/pyspark/accumulators.py\", line 241, in poll\n",
      "    if func():\n",
      "  File \"/usr/local/spark/python/pyspark/accumulators.py\", line 245, in accum_updates\n",
      "    num_updates = read_int(self.rfile)\n",
      "  File \"/usr/local/spark/python/pyspark/serializers.py\", line 717, in read_int\n",
      "    raise EOFError\n",
      "EOFError\n",
      "----------------------------------------\n"
     ]
    }
   ],
   "source": [
    "pd.merge(df1_user_cnt, df1_ws_user_by_action, on=[\"seg_group\", \"group\", \"seg_group2\", \"group2\"], how=\"outer\").to_csv(\"./df1_ws_user_by_action_and_total_user_cnt.csv\", index=False)"
   ]
  },
  {
   "cell_type": "code",
   "execution_count": 280,
   "metadata": {},
   "outputs": [],
   "source": [
    "df1_ws_user_by_action.to_csv(\"./df1_ws_user_by_action.csv\", index=False)"
   ]
  },
  {
   "cell_type": "code",
   "execution_count": 101,
   "metadata": {},
   "outputs": [
    {
     "name": "stdout",
     "output_type": "stream",
     "text": [
      "root\n",
      " |-- account_id: string (nullable = true)\n",
      " |-- total_use: long (nullable = true)\n",
      " |-- paid_use: long (nullable = true)\n",
      " |-- group: string (nullable = true)\n",
      " |-- wsus_cnt: long (nullable = true)\n",
      " |-- seg_group: string (nullable = true)\n",
      " |-- pre_seg: string (nullable = true)\n",
      " |-- type: string (nullable = true)\n",
      " |-- group2: string (nullable = true)\n",
      " |-- paid_use2: long (nullable = true)\n",
      " |-- total_use2: long (nullable = true)\n",
      " |-- chest_cnt: long (nullable = true)\n",
      " |-- wsus_cnt2: long (nullable = true)\n",
      " |-- seg_group2: string (nullable = true)\n",
      " |-- post_seg: string (nullable = true)\n",
      "\n"
     ]
    }
   ],
   "source": [
    "df1.printSchema()"
   ]
  },
  {
   "cell_type": "code",
   "execution_count": 161,
   "metadata": {},
   "outputs": [
    {
     "name": "stdout",
     "output_type": "stream",
     "text": [
      "+----------------------------------------+---------+--------+-----+--------+---------+-------+--------+------+---------+----------+---------+---------+----------+--------+\n",
      "|account_id                              |total_use|paid_use|group|wsus_cnt|seg_group|pre_seg|type    |group2|paid_use2|total_use2|chest_cnt|wsus_cnt2|seg_group2|post_seg|\n",
      "+----------------------------------------+---------+--------+-----+--------+---------+-------+--------+------+---------+----------+---------+---------+----------+--------+\n",
      "|account.0003fac446d14dafac335fdd29d5ba64|null     |null    |null |null    |null     |null   |workshop|A     |0        |100       |0        |0        |b         |bA      |\n",
      "|account.0003fac446d14dafac335fdd29d5ba64|null     |null    |null |null    |null     |null   |wsus    |A     |0        |400       |0        |2        |b         |bA      |\n",
      "|account.0004a9456c2444758567dd8b5650151d|null     |null    |null |null    |null     |null   |wsus    |A     |0        |400       |0        |2        |c         |cA      |\n",
      "|account.000db3dadc0343719f036232b83ed58b|null     |null    |null |null    |null     |null   |workshop|A     |0        |100       |0        |0        |a         |aA      |\n",
      "|account.000f0e4f55fa428e94e3079c4a127fda|2140     |880     |B    |0       |a        |aB     |null    |null  |null     |null      |null     |null     |null      |null    |\n",
      "|account.0013fa7ef20d458aa3f37d39b7811cf6|1800     |0       |A    |10      |c        |cA     |null    |null  |null     |null      |null     |null     |null      |null    |\n",
      "|account.002e232f32e642868ef2c372c378928a|300      |0       |A    |0       |a        |aA     |null    |null  |null     |null      |null     |null     |null      |null    |\n",
      "|account.00309c1bef03472bb6a0023e20d8d370|1190     |0       |B    |0       |a        |aB     |null    |null  |null     |null      |null     |null     |null      |null    |\n",
      "|account.00320ce42a4d41c8a196c30bab2935ca|null     |null    |null |null    |null     |null   |workshop|B     |1200     |1200      |5        |0        |a         |aB      |\n",
      "|account.00320ce42a4d41c8a196c30bab2935ca|null     |null    |null |null    |null     |null   |costume |B     |1780     |2980      |0        |0        |a         |aB      |\n",
      "|account.00363da12ea045259e84f00a2d3cc123|null     |null    |null |null    |null     |null   |costume |A     |0        |200       |0        |0        |a         |aA      |\n",
      "|account.0038fbdf08ac4773ae5b741b90cee578|null     |null    |null |null    |null     |null   |costume |A     |0        |500       |0        |0        |a         |aA      |\n",
      "|account.003f15c523d847938983372cd9b41727|null     |null    |null |null    |null     |null   |costume |B     |1400     |1420      |0        |0        |a         |aB      |\n",
      "|account.0050d0421fc74612835b5221b2e376a8|1500     |0       |B    |0       |a        |aB     |null    |null  |null     |null      |null     |null     |null      |null    |\n",
      "|account.005a62bd29a140b38070847e00a4a314|null     |null    |null |null    |null     |null   |costume |B     |0        |390       |0        |0        |b         |bB      |\n",
      "|account.005a62bd29a140b38070847e00a4a314|null     |null    |null |null    |null     |null   |wsus    |B     |0        |800       |0        |4        |b         |bB      |\n",
      "|account.005c1a7497634bae8083a2da553a640c|3180     |1500    |B    |6       |b        |bB     |null    |null  |null     |null      |null     |null     |null      |null    |\n",
      "|account.005e4e20a6d54e568f1ef89d9814a7bc|null     |null    |null |null    |null     |null   |wsus    |A     |0        |200       |0        |1        |c         |cA      |\n",
      "|account.005fe3f12aac44ad8e806f8388a35bd5|null     |null    |null |null    |null     |null   |wsus    |A     |0        |1800      |0        |10       |c         |cA      |\n",
      "|account.00627de7b41c451abc43d86025046406|null     |null    |null |null    |null     |null   |costume |B     |0        |1270      |0        |0        |a         |aB      |\n",
      "+----------------------------------------+---------+--------+-----+--------+---------+-------+--------+------+---------+----------+---------+---------+----------+--------+\n",
      "only showing top 20 rows\n",
      "\n"
     ]
    }
   ],
   "source": [
    "df1.show(truncate=False)"
   ]
  },
  {
   "cell_type": "code",
   "execution_count": 241,
   "metadata": {},
   "outputs": [],
   "source": [
    "wsus_and_ws = df1.where((col(\"seg_group\") == \"c\") & (col(\"seg_group2\") == \"b\"))"
   ]
  },
  {
   "cell_type": "code",
   "execution_count": 242,
   "metadata": {},
   "outputs": [],
   "source": [
    "wsus_and_ws = wsus_and_ws.withColumn(\"wsus_use\", when(col(\"type\") == \"wsus\", col(\"total_use2\")).otherwise(lit(0))) \\\n",
    "    .withColumn(\"wsus_paid\", when(col(\"type\") == \"wsus\", col(\"paid_use2\")).otherwise(lit(0))) \\\n",
    "    .withColumn(\"workshop_use\", when(col(\"type\") == \"workshop\", col(\"total_use2\")).otherwise(lit(0))) \\\n",
    "    .withColumn(\"workshop_paid\", when(col(\"type\") == \"workshop\", col(\"paid_use2\")).otherwise(lit(0))) \\\n",
    "    .groupBy(\"account_id\").agg(sum(\"chest_cnt\").alias(\"chest_cnt\"), sum(\"wsus_cnt2\").alias(\"wsus_cnt\"), sum(\"wsus_use\").alias(\"wsus_use\"), sum(\"wsus_paid\").alias(\"wsus_paid\"), sum(\"workshop_use\").alias(\"workshop_use\"), sum(\"workshop_paid\").alias(\"workshop_paid\")) \\\n",
    "    .withColumn(\"chest ratio\", round(col(\"wsus_cnt\")/col(\"chest_cnt\")))"
   ]
  },
  {
   "cell_type": "code",
   "execution_count": 257,
   "metadata": {},
   "outputs": [],
   "source": [
    "wsus_ws_df = wsus_and_ws.toPandas()"
   ]
  },
  {
   "cell_type": "code",
   "execution_count": 258,
   "metadata": {},
   "outputs": [],
   "source": [
    "wsus_ws_df['group'] = np.where(wsus_ws_df['wsus_cnt']<=10, 'A',\n",
    "                   np.where(wsus_ws_df['wsus_cnt']<=50, 'B',\n",
    "                   np.where(wsus_ws_df['wsus_cnt']<=100, 'C', \n",
    "                   np.where(wsus_ws_df['wsus_cnt']<=800, 'D', \n",
    "                            'E'))))"
   ]
  },
  {
   "cell_type": "code",
   "execution_count": 259,
   "metadata": {},
   "outputs": [
    {
     "data": {
      "text/html": [
       "<div>\n",
       "<style scoped>\n",
       "    .dataframe tbody tr th:only-of-type {\n",
       "        vertical-align: middle;\n",
       "    }\n",
       "\n",
       "    .dataframe tbody tr th {\n",
       "        vertical-align: top;\n",
       "    }\n",
       "\n",
       "    .dataframe thead th {\n",
       "        text-align: right;\n",
       "    }\n",
       "</style>\n",
       "<table border=\"1\" class=\"dataframe\">\n",
       "  <thead>\n",
       "    <tr style=\"text-align: right;\">\n",
       "      <th></th>\n",
       "      <th>account_id</th>\n",
       "      <th>chest_cnt</th>\n",
       "      <th>wsus_cnt</th>\n",
       "      <th>wsus_use</th>\n",
       "      <th>wsus_paid</th>\n",
       "      <th>workshop_use</th>\n",
       "      <th>workshop_paid</th>\n",
       "      <th>chest ratio</th>\n",
       "      <th>group</th>\n",
       "    </tr>\n",
       "  </thead>\n",
       "  <tbody>\n",
       "    <tr>\n",
       "      <th>0</th>\n",
       "      <td>account.03d1f364caf5450a89a674378cb50685</td>\n",
       "      <td>3</td>\n",
       "      <td>2</td>\n",
       "      <td>400</td>\n",
       "      <td>20</td>\n",
       "      <td>1140</td>\n",
       "      <td>500</td>\n",
       "      <td>1.0</td>\n",
       "      <td>A</td>\n",
       "    </tr>\n",
       "    <tr>\n",
       "      <th>1</th>\n",
       "      <td>account.049c8d20adc0493590e3825b1d6f25bd</td>\n",
       "      <td>2</td>\n",
       "      <td>71</td>\n",
       "      <td>12800</td>\n",
       "      <td>11800</td>\n",
       "      <td>480</td>\n",
       "      <td>390</td>\n",
       "      <td>36.0</td>\n",
       "      <td>C</td>\n",
       "    </tr>\n",
       "    <tr>\n",
       "      <th>2</th>\n",
       "      <td>account.0a5ec48e491648329117116dabf13147</td>\n",
       "      <td>1</td>\n",
       "      <td>3</td>\n",
       "      <td>600</td>\n",
       "      <td>100</td>\n",
       "      <td>180</td>\n",
       "      <td>180</td>\n",
       "      <td>3.0</td>\n",
       "      <td>A</td>\n",
       "    </tr>\n",
       "    <tr>\n",
       "      <th>3</th>\n",
       "      <td>account.0abb0c3f005b406ab9c198443057adae</td>\n",
       "      <td>11</td>\n",
       "      <td>30</td>\n",
       "      <td>5400</td>\n",
       "      <td>5000</td>\n",
       "      <td>2880</td>\n",
       "      <td>2400</td>\n",
       "      <td>3.0</td>\n",
       "      <td>B</td>\n",
       "    </tr>\n",
       "    <tr>\n",
       "      <th>4</th>\n",
       "      <td>account.0b558a0f8bcb46d8b0246c96efb03c87</td>\n",
       "      <td>0</td>\n",
       "      <td>3</td>\n",
       "      <td>600</td>\n",
       "      <td>0</td>\n",
       "      <td>0</td>\n",
       "      <td>0</td>\n",
       "      <td>NaN</td>\n",
       "      <td>A</td>\n",
       "    </tr>\n",
       "  </tbody>\n",
       "</table>\n",
       "</div>"
      ],
      "text/plain": [
       "                                 account_id  chest_cnt  wsus_cnt  wsus_use  \\\n",
       "0  account.03d1f364caf5450a89a674378cb50685          3         2       400   \n",
       "1  account.049c8d20adc0493590e3825b1d6f25bd          2        71     12800   \n",
       "2  account.0a5ec48e491648329117116dabf13147          1         3       600   \n",
       "3  account.0abb0c3f005b406ab9c198443057adae         11        30      5400   \n",
       "4  account.0b558a0f8bcb46d8b0246c96efb03c87          0         3       600   \n",
       "\n",
       "   wsus_paid  workshop_use  workshop_paid  chest ratio group  \n",
       "0         20          1140            500          1.0     A  \n",
       "1      11800           480            390         36.0     C  \n",
       "2        100           180            180          3.0     A  \n",
       "3       5000          2880           2400          3.0     B  \n",
       "4          0             0              0          NaN     A  "
      ]
     },
     "execution_count": 259,
     "metadata": {},
     "output_type": "execute_result"
    }
   ],
   "source": [
    "wsus_ws_df.head()"
   ]
  },
  {
   "cell_type": "code",
   "execution_count": 261,
   "metadata": {},
   "outputs": [
    {
     "data": {
      "text/html": [
       "<div>\n",
       "<style scoped>\n",
       "    .dataframe tbody tr th:only-of-type {\n",
       "        vertical-align: middle;\n",
       "    }\n",
       "\n",
       "    .dataframe tbody tr th {\n",
       "        vertical-align: top;\n",
       "    }\n",
       "\n",
       "    .dataframe thead th {\n",
       "        text-align: right;\n",
       "    }\n",
       "</style>\n",
       "<table border=\"1\" class=\"dataframe\">\n",
       "  <thead>\n",
       "    <tr style=\"text-align: right;\">\n",
       "      <th></th>\n",
       "      <th>group</th>\n",
       "      <th>account_id</th>\n",
       "    </tr>\n",
       "  </thead>\n",
       "  <tbody>\n",
       "    <tr>\n",
       "      <th>0</th>\n",
       "      <td>A</td>\n",
       "      <td>17656</td>\n",
       "    </tr>\n",
       "    <tr>\n",
       "      <th>1</th>\n",
       "      <td>B</td>\n",
       "      <td>7643</td>\n",
       "    </tr>\n",
       "    <tr>\n",
       "      <th>2</th>\n",
       "      <td>C</td>\n",
       "      <td>2524</td>\n",
       "    </tr>\n",
       "    <tr>\n",
       "      <th>3</th>\n",
       "      <td>D</td>\n",
       "      <td>2330</td>\n",
       "    </tr>\n",
       "    <tr>\n",
       "      <th>4</th>\n",
       "      <td>E</td>\n",
       "      <td>72</td>\n",
       "    </tr>\n",
       "  </tbody>\n",
       "</table>\n",
       "</div>"
      ],
      "text/plain": [
       "  group  account_id\n",
       "0     A       17656\n",
       "1     B        7643\n",
       "2     C        2524\n",
       "3     D        2330\n",
       "4     E          72"
      ]
     },
     "execution_count": 261,
     "metadata": {},
     "output_type": "execute_result"
    }
   ],
   "source": [
    "wsus_ws_df.groupby(\"group\", as_index=False)[\"account_id\"].count()"
   ]
  },
  {
   "cell_type": "code",
   "execution_count": 263,
   "metadata": {},
   "outputs": [
    {
     "data": {
      "text/html": [
       "<div>\n",
       "<style scoped>\n",
       "    .dataframe tbody tr th:only-of-type {\n",
       "        vertical-align: middle;\n",
       "    }\n",
       "\n",
       "    .dataframe tbody tr th {\n",
       "        vertical-align: top;\n",
       "    }\n",
       "\n",
       "    .dataframe thead th {\n",
       "        text-align: right;\n",
       "    }\n",
       "</style>\n",
       "<table border=\"1\" class=\"dataframe\">\n",
       "  <thead>\n",
       "    <tr style=\"text-align: right;\">\n",
       "      <th></th>\n",
       "      <th>group</th>\n",
       "      <th>chest ratio</th>\n",
       "    </tr>\n",
       "  </thead>\n",
       "  <tbody>\n",
       "    <tr>\n",
       "      <th>0</th>\n",
       "      <td>A</td>\n",
       "      <td>1.118558</td>\n",
       "    </tr>\n",
       "    <tr>\n",
       "      <th>1</th>\n",
       "      <td>B</td>\n",
       "      <td>5.239241</td>\n",
       "    </tr>\n",
       "    <tr>\n",
       "      <th>2</th>\n",
       "      <td>C</td>\n",
       "      <td>13.130009</td>\n",
       "    </tr>\n",
       "    <tr>\n",
       "      <th>3</th>\n",
       "      <td>D</td>\n",
       "      <td>28.488043</td>\n",
       "    </tr>\n",
       "    <tr>\n",
       "      <th>4</th>\n",
       "      <td>E</td>\n",
       "      <td>29.484375</td>\n",
       "    </tr>\n",
       "  </tbody>\n",
       "</table>\n",
       "</div>"
      ],
      "text/plain": [
       "  group  chest ratio\n",
       "0     A     1.118558\n",
       "1     B     5.239241\n",
       "2     C    13.130009\n",
       "3     D    28.488043\n",
       "4     E    29.484375"
      ]
     },
     "execution_count": 263,
     "metadata": {},
     "output_type": "execute_result"
    }
   ],
   "source": [
    "wsus_ws_df.groupby(\"group\", as_index=False)[\"chest ratio\"].mean()"
   ]
  },
  {
   "cell_type": "code",
   "execution_count": 264,
   "metadata": {},
   "outputs": [
    {
     "data": {
      "text/html": [
       "<div>\n",
       "<style scoped>\n",
       "    .dataframe tbody tr th:only-of-type {\n",
       "        vertical-align: middle;\n",
       "    }\n",
       "\n",
       "    .dataframe tbody tr th {\n",
       "        vertical-align: top;\n",
       "    }\n",
       "\n",
       "    .dataframe thead th {\n",
       "        text-align: right;\n",
       "    }\n",
       "</style>\n",
       "<table border=\"1\" class=\"dataframe\">\n",
       "  <thead>\n",
       "    <tr style=\"text-align: right;\">\n",
       "      <th></th>\n",
       "      <th>group</th>\n",
       "      <th>chest_cnt</th>\n",
       "      <th>wsus_cnt</th>\n",
       "      <th>workshop_use</th>\n",
       "      <th>workshop_paid</th>\n",
       "      <th>wsus_use</th>\n",
       "      <th>wsus_paid</th>\n",
       "    </tr>\n",
       "  </thead>\n",
       "  <tbody>\n",
       "    <tr>\n",
       "      <th>0</th>\n",
       "      <td>A</td>\n",
       "      <td>254055</td>\n",
       "      <td>56784</td>\n",
       "      <td>77509660</td>\n",
       "      <td>66782390</td>\n",
       "      <td>10853200</td>\n",
       "      <td>5538060</td>\n",
       "    </tr>\n",
       "    <tr>\n",
       "      <th>1</th>\n",
       "      <td>B</td>\n",
       "      <td>233815</td>\n",
       "      <td>187697</td>\n",
       "      <td>72545280</td>\n",
       "      <td>63921565</td>\n",
       "      <td>34450200</td>\n",
       "      <td>29300955</td>\n",
       "    </tr>\n",
       "    <tr>\n",
       "      <th>2</th>\n",
       "      <td>C</td>\n",
       "      <td>105297</td>\n",
       "      <td>178314</td>\n",
       "      <td>34535050</td>\n",
       "      <td>30349475</td>\n",
       "      <td>32436200</td>\n",
       "      <td>28909645</td>\n",
       "    </tr>\n",
       "    <tr>\n",
       "      <th>3</th>\n",
       "      <td>D</td>\n",
       "      <td>143708</td>\n",
       "      <td>484478</td>\n",
       "      <td>49845890</td>\n",
       "      <td>43865340</td>\n",
       "      <td>87654600</td>\n",
       "      <td>79067040</td>\n",
       "    </tr>\n",
       "    <tr>\n",
       "      <th>4</th>\n",
       "      <td>E</td>\n",
       "      <td>7537</td>\n",
       "      <td>77011</td>\n",
       "      <td>3264090</td>\n",
       "      <td>2876880</td>\n",
       "      <td>13910600</td>\n",
       "      <td>12527690</td>\n",
       "    </tr>\n",
       "  </tbody>\n",
       "</table>\n",
       "</div>"
      ],
      "text/plain": [
       "  group  chest_cnt  wsus_cnt  workshop_use  workshop_paid  wsus_use  wsus_paid\n",
       "0     A     254055     56784      77509660       66782390  10853200    5538060\n",
       "1     B     233815    187697      72545280       63921565  34450200   29300955\n",
       "2     C     105297    178314      34535050       30349475  32436200   28909645\n",
       "3     D     143708    484478      49845890       43865340  87654600   79067040\n",
       "4     E       7537     77011       3264090        2876880  13910600   12527690"
      ]
     },
     "execution_count": 264,
     "metadata": {},
     "output_type": "execute_result"
    }
   ],
   "source": [
    "wsus_ws_df.groupby(\"group\", as_index=False)[[\"chest_cnt\", \"wsus_cnt\", \"workshop_use\", \"workshop_paid\", \"wsus_use\", \"wsus_paid\"]].sum()"
   ]
  },
  {
   "cell_type": "code",
   "execution_count": null,
   "metadata": {},
   "outputs": [],
   "source": []
  },
  {
   "cell_type": "code",
   "execution_count": 172,
   "metadata": {},
   "outputs": [],
   "source": [
    "wsus_and_ws_ratio = wsus_and_ws.groupBy(\"chest ratio\").agg(countDistinct(\"account_id\").alias(\"user_cnt\")).toPandas()"
   ]
  },
  {
   "cell_type": "code",
   "execution_count": 194,
   "metadata": {},
   "outputs": [
    {
     "data": {
      "text/html": [
       "<div>\n",
       "<style scoped>\n",
       "    .dataframe tbody tr th:only-of-type {\n",
       "        vertical-align: middle;\n",
       "    }\n",
       "\n",
       "    .dataframe tbody tr th {\n",
       "        vertical-align: top;\n",
       "    }\n",
       "\n",
       "    .dataframe thead th {\n",
       "        text-align: right;\n",
       "    }\n",
       "</style>\n",
       "<table border=\"1\" class=\"dataframe\">\n",
       "  <thead>\n",
       "    <tr style=\"text-align: right;\">\n",
       "      <th></th>\n",
       "      <th>chest ratio</th>\n",
       "      <th>user_cnt</th>\n",
       "    </tr>\n",
       "  </thead>\n",
       "  <tbody>\n",
       "    <tr>\n",
       "      <th>10</th>\n",
       "      <td>0.0</td>\n",
       "      <td>7880</td>\n",
       "    </tr>\n",
       "    <tr>\n",
       "      <th>58</th>\n",
       "      <td>1.0</td>\n",
       "      <td>6238</td>\n",
       "    </tr>\n",
       "    <tr>\n",
       "      <th>145</th>\n",
       "      <td>2.0</td>\n",
       "      <td>2407</td>\n",
       "    </tr>\n",
       "    <tr>\n",
       "      <th>135</th>\n",
       "      <td>3.0</td>\n",
       "      <td>1306</td>\n",
       "    </tr>\n",
       "    <tr>\n",
       "      <th>76</th>\n",
       "      <td>4.0</td>\n",
       "      <td>764</td>\n",
       "    </tr>\n",
       "    <tr>\n",
       "      <th>183</th>\n",
       "      <td>5.0</td>\n",
       "      <td>611</td>\n",
       "    </tr>\n",
       "    <tr>\n",
       "      <th>176</th>\n",
       "      <td>6.0</td>\n",
       "      <td>416</td>\n",
       "    </tr>\n",
       "    <tr>\n",
       "      <th>12</th>\n",
       "      <td>7.0</td>\n",
       "      <td>317</td>\n",
       "    </tr>\n",
       "  </tbody>\n",
       "</table>\n",
       "</div>"
      ],
      "text/plain": [
       "     chest ratio  user_cnt\n",
       "10           0.0      7880\n",
       "58           1.0      6238\n",
       "145          2.0      2407\n",
       "135          3.0      1306\n",
       "76           4.0       764\n",
       "183          5.0       611\n",
       "176          6.0       416\n",
       "12           7.0       317"
      ]
     },
     "execution_count": 194,
     "metadata": {},
     "output_type": "execute_result"
    }
   ],
   "source": [
    "wsus_and_ws_ratio[wsus_and_ws_ratio[\"chest ratio\"] <= 7].sort_values(\"chest ratio\")"
   ]
  },
  {
   "cell_type": "code",
   "execution_count": 213,
   "metadata": {},
   "outputs": [
    {
     "data": {
      "text/html": [
       "<div>\n",
       "<style scoped>\n",
       "    .dataframe tbody tr th:only-of-type {\n",
       "        vertical-align: middle;\n",
       "    }\n",
       "\n",
       "    .dataframe tbody tr th {\n",
       "        vertical-align: top;\n",
       "    }\n",
       "\n",
       "    .dataframe thead th {\n",
       "        text-align: right;\n",
       "    }\n",
       "</style>\n",
       "<table border=\"1\" class=\"dataframe\">\n",
       "  <thead>\n",
       "    <tr style=\"text-align: right;\">\n",
       "      <th></th>\n",
       "      <th>chest_cnt</th>\n",
       "      <th>wsus_cnt</th>\n",
       "      <th>wsus_use</th>\n",
       "      <th>workshop_use</th>\n",
       "      <th>chest ratio</th>\n",
       "    </tr>\n",
       "  </thead>\n",
       "  <tbody>\n",
       "    <tr>\n",
       "      <th>count</th>\n",
       "      <td>20290.000000</td>\n",
       "      <td>20290.000000</td>\n",
       "      <td>20290.000000</td>\n",
       "      <td>20290.000000</td>\n",
       "      <td>20290.000000</td>\n",
       "    </tr>\n",
       "    <tr>\n",
       "      <th>mean</th>\n",
       "      <td>36.131345</td>\n",
       "      <td>28.000641</td>\n",
       "      <td>5111.158206</td>\n",
       "      <td>11506.772302</td>\n",
       "      <td>1.416658</td>\n",
       "    </tr>\n",
       "    <tr>\n",
       "      <th>std</th>\n",
       "      <td>58.623364</td>\n",
       "      <td>70.020715</td>\n",
       "      <td>12654.639977</td>\n",
       "      <td>22723.311124</td>\n",
       "      <td>1.854158</td>\n",
       "    </tr>\n",
       "    <tr>\n",
       "      <th>min</th>\n",
       "      <td>1.000000</td>\n",
       "      <td>1.000000</td>\n",
       "      <td>200.000000</td>\n",
       "      <td>120.000000</td>\n",
       "      <td>0.000000</td>\n",
       "    </tr>\n",
       "    <tr>\n",
       "      <th>25%</th>\n",
       "      <td>3.000000</td>\n",
       "      <td>1.000000</td>\n",
       "      <td>200.000000</td>\n",
       "      <td>720.000000</td>\n",
       "      <td>0.000000</td>\n",
       "    </tr>\n",
       "    <tr>\n",
       "      <th>50%</th>\n",
       "      <td>13.000000</td>\n",
       "      <td>6.000000</td>\n",
       "      <td>1200.000000</td>\n",
       "      <td>3350.000000</td>\n",
       "      <td>1.000000</td>\n",
       "    </tr>\n",
       "    <tr>\n",
       "      <th>75%</th>\n",
       "      <td>44.000000</td>\n",
       "      <td>24.000000</td>\n",
       "      <td>4400.000000</td>\n",
       "      <td>12240.000000</td>\n",
       "      <td>2.000000</td>\n",
       "    </tr>\n",
       "    <tr>\n",
       "      <th>max</th>\n",
       "      <td>841.000000</td>\n",
       "      <td>2031.000000</td>\n",
       "      <td>365600.000000</td>\n",
       "      <td>538220.000000</td>\n",
       "      <td>9.000000</td>\n",
       "    </tr>\n",
       "  </tbody>\n",
       "</table>\n",
       "</div>"
      ],
      "text/plain": [
       "          chest_cnt      wsus_cnt       wsus_use   workshop_use   chest ratio\n",
       "count  20290.000000  20290.000000   20290.000000   20290.000000  20290.000000\n",
       "mean      36.131345     28.000641    5111.158206   11506.772302      1.416658\n",
       "std       58.623364     70.020715   12654.639977   22723.311124      1.854158\n",
       "min        1.000000      1.000000     200.000000     120.000000      0.000000\n",
       "25%        3.000000      1.000000     200.000000     720.000000      0.000000\n",
       "50%       13.000000      6.000000    1200.000000    3350.000000      1.000000\n",
       "75%       44.000000     24.000000    4400.000000   12240.000000      2.000000\n",
       "max      841.000000   2031.000000  365600.000000  538220.000000      9.000000"
      ]
     },
     "execution_count": 213,
     "metadata": {},
     "output_type": "execute_result"
    }
   ],
   "source": [
    "wsus_ws_df[wsus_ws_df[\"chest ratio\"] < 10].describe()"
   ]
  },
  {
   "cell_type": "code",
   "execution_count": 214,
   "metadata": {},
   "outputs": [
    {
     "data": {
      "text/html": [
       "<div>\n",
       "<style scoped>\n",
       "    .dataframe tbody tr th:only-of-type {\n",
       "        vertical-align: middle;\n",
       "    }\n",
       "\n",
       "    .dataframe tbody tr th {\n",
       "        vertical-align: top;\n",
       "    }\n",
       "\n",
       "    .dataframe thead th {\n",
       "        text-align: right;\n",
       "    }\n",
       "</style>\n",
       "<table border=\"1\" class=\"dataframe\">\n",
       "  <thead>\n",
       "    <tr style=\"text-align: right;\">\n",
       "      <th></th>\n",
       "      <th>chest_cnt</th>\n",
       "      <th>wsus_cnt</th>\n",
       "      <th>wsus_use</th>\n",
       "      <th>workshop_use</th>\n",
       "      <th>chest ratio</th>\n",
       "    </tr>\n",
       "  </thead>\n",
       "  <tbody>\n",
       "    <tr>\n",
       "      <th>count</th>\n",
       "      <td>2777.000000</td>\n",
       "      <td>2777.000000</td>\n",
       "      <td>2777.000000</td>\n",
       "      <td>2777.000000</td>\n",
       "      <td>2777.000000</td>\n",
       "    </tr>\n",
       "    <tr>\n",
       "      <th>mean</th>\n",
       "      <td>4.071660</td>\n",
       "      <td>99.455167</td>\n",
       "      <td>18022.182211</td>\n",
       "      <td>1348.311127</td>\n",
       "      <td>38.380627</td>\n",
       "    </tr>\n",
       "    <tr>\n",
       "      <th>std</th>\n",
       "      <td>8.386785</td>\n",
       "      <td>164.058119</td>\n",
       "      <td>29586.394723</td>\n",
       "      <td>4504.512434</td>\n",
       "      <td>56.309230</td>\n",
       "    </tr>\n",
       "    <tr>\n",
       "      <th>min</th>\n",
       "      <td>1.000000</td>\n",
       "      <td>10.000000</td>\n",
       "      <td>1800.000000</td>\n",
       "      <td>120.000000</td>\n",
       "      <td>10.000000</td>\n",
       "    </tr>\n",
       "    <tr>\n",
       "      <th>25%</th>\n",
       "      <td>1.000000</td>\n",
       "      <td>20.000000</td>\n",
       "      <td>3600.000000</td>\n",
       "      <td>240.000000</td>\n",
       "      <td>12.000000</td>\n",
       "    </tr>\n",
       "    <tr>\n",
       "      <th>50%</th>\n",
       "      <td>1.000000</td>\n",
       "      <td>50.000000</td>\n",
       "      <td>9000.000000</td>\n",
       "      <td>360.000000</td>\n",
       "      <td>20.000000</td>\n",
       "    </tr>\n",
       "    <tr>\n",
       "      <th>75%</th>\n",
       "      <td>3.000000</td>\n",
       "      <td>110.000000</td>\n",
       "      <td>19800.000000</td>\n",
       "      <td>1060.000000</td>\n",
       "      <td>40.000000</td>\n",
       "    </tr>\n",
       "    <tr>\n",
       "      <th>max</th>\n",
       "      <td>130.000000</td>\n",
       "      <td>2500.000000</td>\n",
       "      <td>450000.000000</td>\n",
       "      <td>124060.000000</td>\n",
       "      <td>780.000000</td>\n",
       "    </tr>\n",
       "  </tbody>\n",
       "</table>\n",
       "</div>"
      ],
      "text/plain": [
       "         chest_cnt     wsus_cnt       wsus_use   workshop_use  chest ratio\n",
       "count  2777.000000  2777.000000    2777.000000    2777.000000  2777.000000\n",
       "mean      4.071660    99.455167   18022.182211    1348.311127    38.380627\n",
       "std       8.386785   164.058119   29586.394723    4504.512434    56.309230\n",
       "min       1.000000    10.000000    1800.000000     120.000000    10.000000\n",
       "25%       1.000000    20.000000    3600.000000     240.000000    12.000000\n",
       "50%       1.000000    50.000000    9000.000000     360.000000    20.000000\n",
       "75%       3.000000   110.000000   19800.000000    1060.000000    40.000000\n",
       "max     130.000000  2500.000000  450000.000000  124060.000000   780.000000"
      ]
     },
     "execution_count": 214,
     "metadata": {},
     "output_type": "execute_result"
    }
   ],
   "source": [
    "wsus_ws_df[wsus_ws_df[\"chest ratio\"] >= 10].describe()"
   ]
  },
  {
   "cell_type": "code",
   "execution_count": 244,
   "metadata": {},
   "outputs": [],
   "source": [
    "b_wsus_ws_df = wsus_ws_df[wsus_ws_df[\"chest ratio\"] < 10]\n",
    "c_wsus_ws_df = wsus_ws_df[wsus_ws_df[\"chest ratio\"] >= 10]"
   ]
  },
  {
   "cell_type": "code",
   "execution_count": 245,
   "metadata": {},
   "outputs": [
    {
     "name": "stderr",
     "output_type": "stream",
     "text": [
      "/opt/conda/lib/python3.6/site-packages/ipykernel_launcher.py:6: SettingWithCopyWarning: \n",
      "A value is trying to be set on a copy of a slice from a DataFrame.\n",
      "Try using .loc[row_indexer,col_indexer] = value instead\n",
      "\n",
      "See the caveats in the documentation: http://pandas.pydata.org/pandas-docs/stable/indexing.html#indexing-view-versus-copy\n",
      "  \n"
     ]
    }
   ],
   "source": [
    "import numpy as np\n",
    "b_wsus_ws_df['group'] = np.where(b_wsus_ws_df['wsus_cnt']<=3, 'A',\n",
    "                   np.where(b_wsus_ws_df['wsus_cnt']<=15, 'B',\n",
    "                   np.where(b_wsus_ws_df['wsus_cnt']<=30, 'C', \n",
    "                   np.where(b_wsus_ws_df['wsus_cnt']<=240, 'D', \n",
    "                            'E'))))"
   ]
  },
  {
   "cell_type": "code",
   "execution_count": 246,
   "metadata": {},
   "outputs": [
    {
     "data": {
      "text/html": [
       "<div>\n",
       "<style scoped>\n",
       "    .dataframe tbody tr th:only-of-type {\n",
       "        vertical-align: middle;\n",
       "    }\n",
       "\n",
       "    .dataframe tbody tr th {\n",
       "        vertical-align: top;\n",
       "    }\n",
       "\n",
       "    .dataframe thead th {\n",
       "        text-align: right;\n",
       "    }\n",
       "</style>\n",
       "<table border=\"1\" class=\"dataframe\">\n",
       "  <thead>\n",
       "    <tr style=\"text-align: right;\">\n",
       "      <th></th>\n",
       "      <th>group</th>\n",
       "      <th>account_id</th>\n",
       "    </tr>\n",
       "  </thead>\n",
       "  <tbody>\n",
       "    <tr>\n",
       "      <th>0</th>\n",
       "      <td>A</td>\n",
       "      <td>8548</td>\n",
       "    </tr>\n",
       "    <tr>\n",
       "      <th>1</th>\n",
       "      <td>B</td>\n",
       "      <td>5119</td>\n",
       "    </tr>\n",
       "    <tr>\n",
       "      <th>2</th>\n",
       "      <td>C</td>\n",
       "      <td>2355</td>\n",
       "    </tr>\n",
       "    <tr>\n",
       "      <th>3</th>\n",
       "      <td>D</td>\n",
       "      <td>3952</td>\n",
       "    </tr>\n",
       "    <tr>\n",
       "      <th>4</th>\n",
       "      <td>E</td>\n",
       "      <td>316</td>\n",
       "    </tr>\n",
       "  </tbody>\n",
       "</table>\n",
       "</div>"
      ],
      "text/plain": [
       "  group  account_id\n",
       "0     A        8548\n",
       "1     B        5119\n",
       "2     C        2355\n",
       "3     D        3952\n",
       "4     E         316"
      ]
     },
     "execution_count": 246,
     "metadata": {},
     "output_type": "execute_result"
    }
   ],
   "source": [
    "b_wsus_ws_df.groupby(\"group\")[\"account_id\"].count().reset_index()"
   ]
  },
  {
   "cell_type": "code",
   "execution_count": 247,
   "metadata": {},
   "outputs": [
    {
     "data": {
      "text/html": [
       "<div>\n",
       "<style scoped>\n",
       "    .dataframe tbody tr th:only-of-type {\n",
       "        vertical-align: middle;\n",
       "    }\n",
       "\n",
       "    .dataframe tbody tr th {\n",
       "        vertical-align: top;\n",
       "    }\n",
       "\n",
       "    .dataframe thead th {\n",
       "        text-align: right;\n",
       "    }\n",
       "</style>\n",
       "<table border=\"1\" class=\"dataframe\">\n",
       "  <thead>\n",
       "    <tr style=\"text-align: right;\">\n",
       "      <th></th>\n",
       "      <th>group</th>\n",
       "      <th>chest ratio</th>\n",
       "    </tr>\n",
       "  </thead>\n",
       "  <tbody>\n",
       "    <tr>\n",
       "      <th>0</th>\n",
       "      <td>A</td>\n",
       "      <td>0.641788</td>\n",
       "    </tr>\n",
       "    <tr>\n",
       "      <th>1</th>\n",
       "      <td>B</td>\n",
       "      <td>1.619262</td>\n",
       "    </tr>\n",
       "    <tr>\n",
       "      <th>2</th>\n",
       "      <td>C</td>\n",
       "      <td>1.597028</td>\n",
       "    </tr>\n",
       "    <tr>\n",
       "      <th>3</th>\n",
       "      <td>D</td>\n",
       "      <td>2.501771</td>\n",
       "    </tr>\n",
       "    <tr>\n",
       "      <th>4</th>\n",
       "      <td>E</td>\n",
       "      <td>4.180380</td>\n",
       "    </tr>\n",
       "  </tbody>\n",
       "</table>\n",
       "</div>"
      ],
      "text/plain": [
       "  group  chest ratio\n",
       "0     A     0.641788\n",
       "1     B     1.619262\n",
       "2     C     1.597028\n",
       "3     D     2.501771\n",
       "4     E     4.180380"
      ]
     },
     "execution_count": 247,
     "metadata": {},
     "output_type": "execute_result"
    }
   ],
   "source": [
    "b_wsus_ws_df.groupby(\"group\")[\"chest ratio\"].mean().reset_index()"
   ]
  },
  {
   "cell_type": "code",
   "execution_count": 254,
   "metadata": {},
   "outputs": [
    {
     "data": {
      "text/html": [
       "<div>\n",
       "<style scoped>\n",
       "    .dataframe tbody tr th:only-of-type {\n",
       "        vertical-align: middle;\n",
       "    }\n",
       "\n",
       "    .dataframe tbody tr th {\n",
       "        vertical-align: top;\n",
       "    }\n",
       "\n",
       "    .dataframe thead th {\n",
       "        text-align: right;\n",
       "    }\n",
       "</style>\n",
       "<table border=\"1\" class=\"dataframe\">\n",
       "  <thead>\n",
       "    <tr style=\"text-align: right;\">\n",
       "      <th></th>\n",
       "      <th>group</th>\n",
       "      <th>wsus_use</th>\n",
       "      <th>wsus_paid</th>\n",
       "      <th>workshop_use</th>\n",
       "      <th>workshop_paid</th>\n",
       "    </tr>\n",
       "  </thead>\n",
       "  <tbody>\n",
       "    <tr>\n",
       "      <th>0</th>\n",
       "      <td>A</td>\n",
       "      <td>2598000</td>\n",
       "      <td>858205</td>\n",
       "      <td>42718810</td>\n",
       "      <td>36388295</td>\n",
       "    </tr>\n",
       "    <tr>\n",
       "      <th>1</th>\n",
       "      <td>B</td>\n",
       "      <td>8310200</td>\n",
       "      <td>5801960</td>\n",
       "      <td>48988930</td>\n",
       "      <td>43131155</td>\n",
       "    </tr>\n",
       "    <tr>\n",
       "      <th>2</th>\n",
       "      <td>C</td>\n",
       "      <td>9904600</td>\n",
       "      <td>8453620</td>\n",
       "      <td>33910850</td>\n",
       "      <td>30055460</td>\n",
       "    </tr>\n",
       "    <tr>\n",
       "      <th>3</th>\n",
       "      <td>D</td>\n",
       "      <td>57685800</td>\n",
       "      <td>51757470</td>\n",
       "      <td>90624340</td>\n",
       "      <td>80175785</td>\n",
       "    </tr>\n",
       "    <tr>\n",
       "      <th>4</th>\n",
       "      <td>E</td>\n",
       "      <td>25206800</td>\n",
       "      <td>22811410</td>\n",
       "      <td>17229480</td>\n",
       "      <td>15234350</td>\n",
       "    </tr>\n",
       "  </tbody>\n",
       "</table>\n",
       "</div>"
      ],
      "text/plain": [
       "  group  wsus_use  wsus_paid  workshop_use  workshop_paid\n",
       "0     A   2598000     858205      42718810       36388295\n",
       "1     B   8310200    5801960      48988930       43131155\n",
       "2     C   9904600    8453620      33910850       30055460\n",
       "3     D  57685800   51757470      90624340       80175785\n",
       "4     E  25206800   22811410      17229480       15234350"
      ]
     },
     "execution_count": 254,
     "metadata": {},
     "output_type": "execute_result"
    }
   ],
   "source": [
    "b_wsus_ws_df.groupby(\"group\")[[\"wsus_use\", \"wsus_paid\", \"workshop_use\", \"workshop_paid\"]].sum().reset_index()"
   ]
  },
  {
   "cell_type": "code",
   "execution_count": null,
   "metadata": {},
   "outputs": [],
   "source": []
  },
  {
   "cell_type": "code",
   "execution_count": 249,
   "metadata": {},
   "outputs": [
    {
     "name": "stderr",
     "output_type": "stream",
     "text": [
      "/opt/conda/lib/python3.6/site-packages/ipykernel_launcher.py:6: SettingWithCopyWarning: \n",
      "A value is trying to be set on a copy of a slice from a DataFrame.\n",
      "Try using .loc[row_indexer,col_indexer] = value instead\n",
      "\n",
      "See the caveats in the documentation: http://pandas.pydata.org/pandas-docs/stable/indexing.html#indexing-view-versus-copy\n",
      "  \n"
     ]
    }
   ],
   "source": [
    "import numpy as np\n",
    "c_wsus_ws_df['group'] = np.where(c_wsus_ws_df['wsus_cnt']<=10, 'A',\n",
    "                   np.where(c_wsus_ws_df['wsus_cnt']<=50, 'B',\n",
    "                   np.where(c_wsus_ws_df['wsus_cnt']<=100, 'C', \n",
    "                   np.where(c_wsus_ws_df['wsus_cnt']<=800, 'D', \n",
    "                            'E'))))"
   ]
  },
  {
   "cell_type": "code",
   "execution_count": 250,
   "metadata": {},
   "outputs": [
    {
     "data": {
      "text/html": [
       "<div>\n",
       "<style scoped>\n",
       "    .dataframe tbody tr th:only-of-type {\n",
       "        vertical-align: middle;\n",
       "    }\n",
       "\n",
       "    .dataframe tbody tr th {\n",
       "        vertical-align: top;\n",
       "    }\n",
       "\n",
       "    .dataframe thead th {\n",
       "        text-align: right;\n",
       "    }\n",
       "</style>\n",
       "<table border=\"1\" class=\"dataframe\">\n",
       "  <thead>\n",
       "    <tr style=\"text-align: right;\">\n",
       "      <th></th>\n",
       "      <th>group</th>\n",
       "      <th>account_id</th>\n",
       "    </tr>\n",
       "  </thead>\n",
       "  <tbody>\n",
       "    <tr>\n",
       "      <th>0</th>\n",
       "      <td>A</td>\n",
       "      <td>229</td>\n",
       "    </tr>\n",
       "    <tr>\n",
       "      <th>1</th>\n",
       "      <td>B</td>\n",
       "      <td>1195</td>\n",
       "    </tr>\n",
       "    <tr>\n",
       "      <th>2</th>\n",
       "      <td>C</td>\n",
       "      <td>586</td>\n",
       "    </tr>\n",
       "    <tr>\n",
       "      <th>3</th>\n",
       "      <td>D</td>\n",
       "      <td>729</td>\n",
       "    </tr>\n",
       "    <tr>\n",
       "      <th>4</th>\n",
       "      <td>E</td>\n",
       "      <td>38</td>\n",
       "    </tr>\n",
       "  </tbody>\n",
       "</table>\n",
       "</div>"
      ],
      "text/plain": [
       "  group  account_id\n",
       "0     A         229\n",
       "1     B        1195\n",
       "2     C         586\n",
       "3     D         729\n",
       "4     E          38"
      ]
     },
     "execution_count": 250,
     "metadata": {},
     "output_type": "execute_result"
    }
   ],
   "source": [
    "c_wsus_ws_df.groupby(\"group\")[\"account_id\"].count().reset_index()"
   ]
  },
  {
   "cell_type": "code",
   "execution_count": 251,
   "metadata": {},
   "outputs": [
    {
     "data": {
      "text/html": [
       "<div>\n",
       "<style scoped>\n",
       "    .dataframe tbody tr th:only-of-type {\n",
       "        vertical-align: middle;\n",
       "    }\n",
       "\n",
       "    .dataframe tbody tr th {\n",
       "        vertical-align: top;\n",
       "    }\n",
       "\n",
       "    .dataframe thead th {\n",
       "        text-align: right;\n",
       "    }\n",
       "</style>\n",
       "<table border=\"1\" class=\"dataframe\">\n",
       "  <thead>\n",
       "    <tr style=\"text-align: right;\">\n",
       "      <th></th>\n",
       "      <th>group</th>\n",
       "      <th>chest ratio</th>\n",
       "    </tr>\n",
       "  </thead>\n",
       "  <tbody>\n",
       "    <tr>\n",
       "      <th>0</th>\n",
       "      <td>A</td>\n",
       "      <td>10.000000</td>\n",
       "    </tr>\n",
       "    <tr>\n",
       "      <th>1</th>\n",
       "      <td>B</td>\n",
       "      <td>20.249372</td>\n",
       "    </tr>\n",
       "    <tr>\n",
       "      <th>2</th>\n",
       "      <td>C</td>\n",
       "      <td>41.305461</td>\n",
       "    </tr>\n",
       "    <tr>\n",
       "      <th>3</th>\n",
       "      <td>D</td>\n",
       "      <td>74.279835</td>\n",
       "    </tr>\n",
       "    <tr>\n",
       "      <th>4</th>\n",
       "      <td>E</td>\n",
       "      <td>45.789474</td>\n",
       "    </tr>\n",
       "  </tbody>\n",
       "</table>\n",
       "</div>"
      ],
      "text/plain": [
       "  group  chest ratio\n",
       "0     A    10.000000\n",
       "1     B    20.249372\n",
       "2     C    41.305461\n",
       "3     D    74.279835\n",
       "4     E    45.789474"
      ]
     },
     "execution_count": 251,
     "metadata": {},
     "output_type": "execute_result"
    }
   ],
   "source": [
    "c_wsus_ws_df.groupby(\"group\")[\"chest ratio\"].mean().reset_index()"
   ]
  },
  {
   "cell_type": "code",
   "execution_count": 253,
   "metadata": {},
   "outputs": [
    {
     "data": {
      "text/html": [
       "<div>\n",
       "<style scoped>\n",
       "    .dataframe tbody tr th:only-of-type {\n",
       "        vertical-align: middle;\n",
       "    }\n",
       "\n",
       "    .dataframe tbody tr th {\n",
       "        vertical-align: top;\n",
       "    }\n",
       "\n",
       "    .dataframe thead th {\n",
       "        text-align: right;\n",
       "    }\n",
       "</style>\n",
       "<table border=\"1\" class=\"dataframe\">\n",
       "  <thead>\n",
       "    <tr style=\"text-align: right;\">\n",
       "      <th></th>\n",
       "      <th>group</th>\n",
       "      <th>wsus_use</th>\n",
       "      <th>wsus_paid</th>\n",
       "      <th>workshop_use</th>\n",
       "      <th>workshop_paid</th>\n",
       "    </tr>\n",
       "  </thead>\n",
       "  <tbody>\n",
       "    <tr>\n",
       "      <th>0</th>\n",
       "      <td>A</td>\n",
       "      <td>416200</td>\n",
       "      <td>282800</td>\n",
       "      <td>74680</td>\n",
       "      <td>32990</td>\n",
       "    </tr>\n",
       "    <tr>\n",
       "      <th>1</th>\n",
       "      <td>B</td>\n",
       "      <td>5432000</td>\n",
       "      <td>4549135</td>\n",
       "      <td>439150</td>\n",
       "      <td>191570</td>\n",
       "    </tr>\n",
       "    <tr>\n",
       "      <th>2</th>\n",
       "      <td>C</td>\n",
       "      <td>7486400</td>\n",
       "      <td>6678935</td>\n",
       "      <td>441660</td>\n",
       "      <td>225955</td>\n",
       "    </tr>\n",
       "    <tr>\n",
       "      <th>3</th>\n",
       "      <td>D</td>\n",
       "      <td>29382800</td>\n",
       "      <td>26387900</td>\n",
       "      <td>1966010</td>\n",
       "      <td>1459220</td>\n",
       "    </tr>\n",
       "    <tr>\n",
       "      <th>4</th>\n",
       "      <td>E</td>\n",
       "      <td>7330200</td>\n",
       "      <td>6591860</td>\n",
       "      <td>822760</td>\n",
       "      <td>712380</td>\n",
       "    </tr>\n",
       "  </tbody>\n",
       "</table>\n",
       "</div>"
      ],
      "text/plain": [
       "  group  wsus_use  wsus_paid  workshop_use  workshop_paid\n",
       "0     A    416200     282800         74680          32990\n",
       "1     B   5432000    4549135        439150         191570\n",
       "2     C   7486400    6678935        441660         225955\n",
       "3     D  29382800   26387900       1966010        1459220\n",
       "4     E   7330200    6591860        822760         712380"
      ]
     },
     "execution_count": 253,
     "metadata": {},
     "output_type": "execute_result"
    }
   ],
   "source": [
    "c_wsus_ws_df.groupby(\"group\")[[\"wsus_use\", \"wsus_paid\", \"workshop_use\", \"workshop_paid\"]].sum().reset_index()"
   ]
  },
  {
   "cell_type": "code",
   "execution_count": null,
   "metadata": {},
   "outputs": [],
   "source": []
  },
  {
   "cell_type": "code",
   "execution_count": 110,
   "metadata": {},
   "outputs": [],
   "source": [
    "from pyspark.sql.types import * \n",
    "\n",
    "def get_user_info(end_date):\n",
    "    def classify_country(country_os, country_ip):\n",
    "        if country_os != 'CN':\n",
    "            return country_ip\n",
    "        else:\n",
    "            return country_os\n",
    "\n",
    "    country_type_udf = udf(classify_country, StringType())\n",
    "    meta_region = mysql.read_table(spark, 'metainfo', 'meta_bi_regions')\n",
    "\n",
    "    user = load_data_mart(\"pc\", end_date, end_date, \"user_master\")\n",
    "    user = user.withColumn(\"country_new\", country_type_udf(\"country_os\", \"country_ip\"))\n",
    "    user = user.join(meta_region, user.country_new == meta_region.country_code_iso2, \"left\").withColumnRenamed(\"accountid\", \"AccountId\").select(\"AccountId\", \"pubg_region\", \"lastlogindate\")\n",
    "    return user"
   ]
  },
  {
   "cell_type": "code",
   "execution_count": 111,
   "metadata": {},
   "outputs": [],
   "source": [
    "def get_workshop_rate(start_date, end_date):\n",
    "    user = get_user_info(end_date)\n",
    "    \n",
    "    bp_purchase = load_schema.lobby(spark, \"pc\", \"live\", \"PurchaseResult\", start_date, end_date).where((col(\"Currency\").like(\"%bp%\")) & (col(\"AnalyticEventType\") == \"workshop\")) \\\n",
    "        .join(user, \"AccountId\")\n",
    "    gcoin = load_data_mart(\"pc\", start_date, end_date, \"gcoin_use\").where(col(\"event_name\").like(\"%workshop%\")).withColumnRenamed(\"account_id\", \"AccountId\") \\\n",
    "        .join(user, \"AccountId\")\n",
    "    open_crate = load_schema.lobby(spark, \"pc\", \"live\", \"WorkshopCrateOpened\", start_date, end_date) \\\n",
    "        .join(user, \"AccountId\")\n",
    "    craft = load_schema.lobby(spark, \"pc\", \"live\", \"WorkshopCrafted\", start_date, end_date) \\\n",
    "        .join(user, \"AccountId\")\n",
    "    disassemble = load_schema.lobby(spark, \"pc\", \"live\", \"WorkshopDisassembled\", start_date, end_date) \\\n",
    "        .join(user, \"AccountId\")\n",
    "    repurpose = load_schema.lobby(spark, \"pc\", \"live\", \"WorkshopRepurposed\", start_date, end_date) \\\n",
    "        .join(user, \"AccountId\")\n",
    "    special_craft = load_schema.lobby(spark, \"pc\", \"live\", \"PurchaseResult\", start_date, end_date).where(col(\"Currency\") == \"artisanstoken\") \\\n",
    "        .join(user, \"AccountId\")\n",
    "    \n",
    "    workshop_user = (open_crate.groupBy(\"pubg_region\", \"AccountId\").agg(sum(\"OpenAmount\").alias(\"amount\")).withColumn(\"action\", lit(\"open\"))) \\\n",
    "        .unionByName(craft.groupBy(\"pubg_region\", \"AccountId\").agg(count(\"*\").alias(\"amount\")).withColumn(\"action\", lit(\"craft\"))) \\\n",
    "        .unionByName(disassemble.groupBy(\"pubg_region\", \"AccountId\").agg(count(\"*\").alias(\"amount\")).withColumn(\"action\", lit(\"disassemble\"))) \\\n",
    "        .unionByName(repurpose.groupBy(\"pubg_region\", \"AccountId\").agg(count(\"*\").alias(\"amount\")).withColumn(\"action\", lit(\"repurpose\"))) \\\n",
    "        .unionByName(special_craft.groupBy(\"pubg_region\", \"AccountId\").agg(sum(\"Amount\").alias(\"amount\")).withColumn(\"action\", lit(\"special_craft\"))) \\\n",
    "        .unionByName(gcoin.groupBy(\"pubg_region\", \"AccountId\").agg(sum(\"qty\").alias(\"amount\")).withColumn(\"action\", lit(\"gcoin\"))) \\\n",
    "        .unionByName(bp_purchase.groupBy(\"pubg_region\", \"AccountId\").agg(count(\"*\").alias(\"amount\")).withColumn(\"action\", lit(\"bp_workshop\")))\n",
    "    \n",
    "    return workshop_user"
   ]
  },
  {
   "cell_type": "code",
   "execution_count": 103,
   "metadata": {},
   "outputs": [],
   "source": [
    "# 각 day 28\n",
    "start_date = \"2022-06-08\"\n",
    "end_date = \"2022-07-05\"\n",
    "\n",
    "ws_start_date = \"2022-07-13\"\n",
    "ws_day_28 = \"2022-08-09\""
   ]
  },
  {
   "cell_type": "code",
   "execution_count": 122,
   "metadata": {},
   "outputs": [
    {
     "name": "stdout",
     "output_type": "stream",
     "text": [
      "+-------+\n",
      "|     au|\n",
      "+-------+\n",
      "|9660517|\n",
      "+-------+\n",
      "\n"
     ]
    },
    {
     "name": "stderr",
     "output_type": "stream",
     "text": [
      "----------------------------------------\n",
      "Exception happened during processing of request from ('127.0.0.1', 43902)\n",
      "Traceback (most recent call last):\n",
      "  File \"/opt/conda/lib/python3.6/socketserver.py\", line 317, in _handle_request_noblock\n",
      "    self.process_request(request, client_address)\n",
      "  File \"/opt/conda/lib/python3.6/socketserver.py\", line 348, in process_request\n",
      "    self.finish_request(request, client_address)\n",
      "  File \"/opt/conda/lib/python3.6/socketserver.py\", line 361, in finish_request\n",
      "    self.RequestHandlerClass(request, client_address, self)\n",
      "  File \"/opt/conda/lib/python3.6/socketserver.py\", line 721, in __init__\n",
      "    self.handle()\n",
      "  File \"/usr/local/spark/python/pyspark/accumulators.py\", line 269, in handle\n",
      "    poll(accum_updates)\n",
      "  File \"/usr/local/spark/python/pyspark/accumulators.py\", line 241, in poll\n",
      "    if func():\n",
      "  File \"/usr/local/spark/python/pyspark/accumulators.py\", line 245, in accum_updates\n",
      "    num_updates = read_int(self.rfile)\n",
      "  File \"/usr/local/spark/python/pyspark/serializers.py\", line 717, in read_int\n",
      "    raise EOFError\n",
      "EOFError\n",
      "----------------------------------------\n"
     ]
    }
   ],
   "source": [
    "get_user_info(ws_day_28).where(col(\"lastlogindate\") >= ws_start_date).select(countDistinct(\"AccountId\").alias(\"au\")).show()"
   ]
  },
  {
   "cell_type": "code",
   "execution_count": 113,
   "metadata": {},
   "outputs": [
    {
     "name": "stdout",
     "output_type": "stream",
     "text": [
      "+-------------------+\n",
      "|workshop user count|\n",
      "+-------------------+\n",
      "|            2845464|\n",
      "+-------------------+\n",
      "\n"
     ]
    },
    {
     "data": {
      "text/html": [
       "<div>\n",
       "<style scoped>\n",
       "    .dataframe tbody tr th:only-of-type {\n",
       "        vertical-align: middle;\n",
       "    }\n",
       "\n",
       "    .dataframe tbody tr th {\n",
       "        vertical-align: top;\n",
       "    }\n",
       "\n",
       "    .dataframe thead th {\n",
       "        text-align: right;\n",
       "    }\n",
       "</style>\n",
       "<table border=\"1\" class=\"dataframe\">\n",
       "  <thead>\n",
       "    <tr style=\"text-align: right;\">\n",
       "      <th></th>\n",
       "      <th>action</th>\n",
       "      <th>workshop user count</th>\n",
       "    </tr>\n",
       "  </thead>\n",
       "  <tbody>\n",
       "    <tr>\n",
       "      <th>0</th>\n",
       "      <td>bp_workshop</td>\n",
       "      <td>1966678</td>\n",
       "    </tr>\n",
       "    <tr>\n",
       "      <th>1</th>\n",
       "      <td>craft</td>\n",
       "      <td>1333668</td>\n",
       "    </tr>\n",
       "    <tr>\n",
       "      <th>2</th>\n",
       "      <td>disassemble</td>\n",
       "      <td>1222985</td>\n",
       "    </tr>\n",
       "    <tr>\n",
       "      <th>3</th>\n",
       "      <td>gcoin</td>\n",
       "      <td>677314</td>\n",
       "    </tr>\n",
       "    <tr>\n",
       "      <th>4</th>\n",
       "      <td>open</td>\n",
       "      <td>2680502</td>\n",
       "    </tr>\n",
       "    <tr>\n",
       "      <th>5</th>\n",
       "      <td>repurpose</td>\n",
       "      <td>239705</td>\n",
       "    </tr>\n",
       "    <tr>\n",
       "      <th>6</th>\n",
       "      <td>special_craft</td>\n",
       "      <td>270200</td>\n",
       "    </tr>\n",
       "  </tbody>\n",
       "</table>\n",
       "</div>"
      ],
      "text/plain": [
       "          action  workshop user count\n",
       "0    bp_workshop              1966678\n",
       "1          craft              1333668\n",
       "2    disassemble              1222985\n",
       "3          gcoin               677314\n",
       "4           open              2680502\n",
       "5      repurpose               239705\n",
       "6  special_craft               270200"
      ]
     },
     "execution_count": 113,
     "metadata": {},
     "output_type": "execute_result"
    }
   ],
   "source": [
    "ws_user = get_workshop_rate(ws_start_date, ws_day_28)\n",
    "ws_user.select(countDistinct(\"AccountId\").alias(\"workshop user count\")).show()\n",
    "ws_user.groupBy(\"action\").agg(countDistinct(\"AccountId\").alias(\"workshop user count\")).orderBy(\"action\").toPandas()"
   ]
  },
  {
   "cell_type": "code",
   "execution_count": 115,
   "metadata": {},
   "outputs": [],
   "source": [
    "ws_user_by_post_seg = ws_user.join(df1.withColumnRenamed(\"account_id\", \"AccountId\"), \"AccountId\").groupBy(\"post_seg\").agg(countDistinct(\"AccountId\").alias(\"workshop user cnt\")).orderBy(\"post_seg\").toPandas()\n",
    "ws_user_by_post_seg_and_action = ws_user.join(df1.withColumnRenamed(\"account_id\", \"AccountId\"), \"AccountId\").groupBy(\"post_seg\", \"action\").agg(countDistinct(\"AccountId\").alias(\"workshop user cnt\")).orderBy(\"post_seg\", \"action\").toPandas()"
   ]
  },
  {
   "cell_type": "code",
   "execution_count": 116,
   "metadata": {},
   "outputs": [],
   "source": [
    "ws_user_by_post_seg.to_csv(\"./ws_user_by_post_seg.csv\", index=False)\n",
    "ws_user_by_post_seg_and_action.to_csv(\"./ws_user_by_post_seg_and_action.csv\", index=False)"
   ]
  },
  {
   "cell_type": "code",
   "execution_count": 121,
   "metadata": {},
   "outputs": [
    {
     "data": {
      "text/html": [
       "<div>\n",
       "<style scoped>\n",
       "    .dataframe tbody tr th:only-of-type {\n",
       "        vertical-align: middle;\n",
       "    }\n",
       "\n",
       "    .dataframe tbody tr th {\n",
       "        vertical-align: top;\n",
       "    }\n",
       "\n",
       "    .dataframe thead th {\n",
       "        text-align: right;\n",
       "    }\n",
       "</style>\n",
       "<table border=\"1\" class=\"dataframe\">\n",
       "  <thead>\n",
       "    <tr style=\"text-align: right;\">\n",
       "      <th></th>\n",
       "      <th>post_seg</th>\n",
       "      <th>workshop user cnt</th>\n",
       "    </tr>\n",
       "  </thead>\n",
       "  <tbody>\n",
       "    <tr>\n",
       "      <th>0</th>\n",
       "      <td>None</td>\n",
       "      <td>188899</td>\n",
       "    </tr>\n",
       "    <tr>\n",
       "      <th>1</th>\n",
       "      <td>aA</td>\n",
       "      <td>510300</td>\n",
       "    </tr>\n",
       "    <tr>\n",
       "      <th>2</th>\n",
       "      <td>aB</td>\n",
       "      <td>203356</td>\n",
       "    </tr>\n",
       "    <tr>\n",
       "      <th>3</th>\n",
       "      <td>aC</td>\n",
       "      <td>25017</td>\n",
       "    </tr>\n",
       "    <tr>\n",
       "      <th>4</th>\n",
       "      <td>aD</td>\n",
       "      <td>22680</td>\n",
       "    </tr>\n",
       "    <tr>\n",
       "      <th>5</th>\n",
       "      <td>aE</td>\n",
       "      <td>9032</td>\n",
       "    </tr>\n",
       "    <tr>\n",
       "      <th>6</th>\n",
       "      <td>bA</td>\n",
       "      <td>88093</td>\n",
       "    </tr>\n",
       "    <tr>\n",
       "      <th>7</th>\n",
       "      <td>bB</td>\n",
       "      <td>39731</td>\n",
       "    </tr>\n",
       "    <tr>\n",
       "      <th>8</th>\n",
       "      <td>bC</td>\n",
       "      <td>12722</td>\n",
       "    </tr>\n",
       "    <tr>\n",
       "      <th>9</th>\n",
       "      <td>bD</td>\n",
       "      <td>21599</td>\n",
       "    </tr>\n",
       "    <tr>\n",
       "      <th>10</th>\n",
       "      <td>bE</td>\n",
       "      <td>2715</td>\n",
       "    </tr>\n",
       "    <tr>\n",
       "      <th>11</th>\n",
       "      <td>cA</td>\n",
       "      <td>139188</td>\n",
       "    </tr>\n",
       "    <tr>\n",
       "      <th>12</th>\n",
       "      <td>cB</td>\n",
       "      <td>9042</td>\n",
       "    </tr>\n",
       "    <tr>\n",
       "      <th>13</th>\n",
       "      <td>cC</td>\n",
       "      <td>1602</td>\n",
       "    </tr>\n",
       "    <tr>\n",
       "      <th>14</th>\n",
       "      <td>cD</td>\n",
       "      <td>1060</td>\n",
       "    </tr>\n",
       "    <tr>\n",
       "      <th>15</th>\n",
       "      <td>cE</td>\n",
       "      <td>25</td>\n",
       "    </tr>\n",
       "  </tbody>\n",
       "</table>\n",
       "</div>"
      ],
      "text/plain": [
       "   post_seg  workshop user cnt\n",
       "0      None             188899\n",
       "1        aA             510300\n",
       "2        aB             203356\n",
       "3        aC              25017\n",
       "4        aD              22680\n",
       "5        aE               9032\n",
       "6        bA              88093\n",
       "7        bB              39731\n",
       "8        bC              12722\n",
       "9        bD              21599\n",
       "10       bE               2715\n",
       "11       cA             139188\n",
       "12       cB               9042\n",
       "13       cC               1602\n",
       "14       cD               1060\n",
       "15       cE                 25"
      ]
     },
     "execution_count": 121,
     "metadata": {},
     "output_type": "execute_result"
    }
   ],
   "source": [
    "ws_user_by_post_seg"
   ]
  },
  {
   "cell_type": "code",
   "execution_count": 296,
   "metadata": {
    "collapsed": true,
    "jupyter": {
     "outputs_hidden": true
    }
   },
   "outputs": [
    {
     "name": "stderr",
     "output_type": "stream",
     "text": [
      "ERROR:py4j.java_gateway:An error occurred while trying to connect to the Java server (127.0.0.1:39317)\n",
      "Traceback (most recent call last):\n",
      "  File \"/usr/local/spark/python/lib/py4j-0.10.7-src.zip/py4j/java_gateway.py\", line 929, in _get_connection\n",
      "    connection = self.deque.pop()\n",
      "IndexError: pop from an empty deque\n",
      "\n",
      "During handling of the above exception, another exception occurred:\n",
      "\n",
      "Traceback (most recent call last):\n",
      "  File \"/usr/local/spark/python/lib/py4j-0.10.7-src.zip/py4j/java_gateway.py\", line 1067, in start\n",
      "    self.socket.connect((self.address, self.port))\n",
      "ConnectionRefusedError: [Errno 111] Connection refused\n",
      "ERROR:py4j.java_gateway:An error occurred while trying to connect to the Java server (127.0.0.1:39317)\n",
      "Traceback (most recent call last):\n",
      "  File \"/usr/local/spark/python/lib/py4j-0.10.7-src.zip/py4j/java_gateway.py\", line 929, in _get_connection\n",
      "    connection = self.deque.pop()\n",
      "IndexError: pop from an empty deque\n",
      "\n",
      "During handling of the above exception, another exception occurred:\n",
      "\n",
      "Traceback (most recent call last):\n",
      "  File \"/usr/local/spark/python/lib/py4j-0.10.7-src.zip/py4j/java_gateway.py\", line 1067, in start\n",
      "    self.socket.connect((self.address, self.port))\n",
      "ConnectionRefusedError: [Errno 111] Connection refused\n",
      "ERROR:py4j.java_gateway:An error occurred while trying to connect to the Java server (127.0.0.1:39317)\n",
      "Traceback (most recent call last):\n",
      "  File \"/usr/local/spark/python/lib/py4j-0.10.7-src.zip/py4j/java_gateway.py\", line 929, in _get_connection\n",
      "    connection = self.deque.pop()\n",
      "IndexError: pop from an empty deque\n",
      "\n",
      "During handling of the above exception, another exception occurred:\n",
      "\n",
      "Traceback (most recent call last):\n",
      "  File \"/usr/local/spark/python/lib/py4j-0.10.7-src.zip/py4j/java_gateway.py\", line 1067, in start\n",
      "    self.socket.connect((self.address, self.port))\n",
      "ConnectionRefusedError: [Errno 111] Connection refused\n",
      "ERROR:py4j.java_gateway:An error occurred while trying to connect to the Java server (127.0.0.1:39317)\n",
      "Traceback (most recent call last):\n",
      "  File \"/usr/local/spark/python/lib/py4j-0.10.7-src.zip/py4j/java_gateway.py\", line 929, in _get_connection\n",
      "    connection = self.deque.pop()\n",
      "IndexError: pop from an empty deque\n",
      "\n",
      "During handling of the above exception, another exception occurred:\n",
      "\n",
      "Traceback (most recent call last):\n",
      "  File \"/usr/local/spark/python/lib/py4j-0.10.7-src.zip/py4j/java_gateway.py\", line 1067, in start\n",
      "    self.socket.connect((self.address, self.port))\n",
      "ConnectionRefusedError: [Errno 111] Connection refused\n",
      "ERROR:py4j.java_gateway:An error occurred while trying to connect to the Java server (127.0.0.1:39317)\n",
      "Traceback (most recent call last):\n",
      "  File \"/usr/local/spark/python/lib/py4j-0.10.7-src.zip/py4j/java_gateway.py\", line 929, in _get_connection\n",
      "    connection = self.deque.pop()\n",
      "IndexError: pop from an empty deque\n",
      "\n",
      "During handling of the above exception, another exception occurred:\n",
      "\n",
      "Traceback (most recent call last):\n",
      "  File \"/usr/local/spark/python/lib/py4j-0.10.7-src.zip/py4j/java_gateway.py\", line 1067, in start\n",
      "    self.socket.connect((self.address, self.port))\n",
      "ConnectionRefusedError: [Errno 111] Connection refused\n",
      "ERROR:py4j.java_gateway:An error occurred while trying to connect to the Java server (127.0.0.1:39317)\n",
      "Traceback (most recent call last):\n",
      "  File \"/usr/local/spark/python/lib/py4j-0.10.7-src.zip/py4j/java_gateway.py\", line 929, in _get_connection\n",
      "    connection = self.deque.pop()\n",
      "IndexError: pop from an empty deque\n",
      "\n",
      "During handling of the above exception, another exception occurred:\n",
      "\n",
      "Traceback (most recent call last):\n",
      "  File \"/usr/local/spark/python/lib/py4j-0.10.7-src.zip/py4j/java_gateway.py\", line 1067, in start\n",
      "    self.socket.connect((self.address, self.port))\n",
      "ConnectionRefusedError: [Errno 111] Connection refused\n",
      "ERROR:py4j.java_gateway:An error occurred while trying to connect to the Java server (127.0.0.1:46407)\n",
      "Traceback (most recent call last):\n",
      "  File \"/usr/local/spark/python/lib/py4j-0.10.7-src.zip/py4j/java_gateway.py\", line 929, in _get_connection\n",
      "    connection = self.deque.pop()\n",
      "IndexError: pop from an empty deque\n",
      "\n",
      "During handling of the above exception, another exception occurred:\n",
      "\n",
      "Traceback (most recent call last):\n",
      "  File \"/usr/local/spark/python/lib/py4j-0.10.7-src.zip/py4j/java_gateway.py\", line 1067, in start\n",
      "    self.socket.connect((self.address, self.port))\n",
      "ConnectionRefusedError: [Errno 111] Connection refused\n",
      "ERROR:py4j.java_gateway:An error occurred while trying to connect to the Java server (127.0.0.1:34209)\n",
      "Traceback (most recent call last):\n",
      "  File \"/usr/local/spark/python/lib/py4j-0.10.7-src.zip/py4j/java_gateway.py\", line 929, in _get_connection\n",
      "    connection = self.deque.pop()\n",
      "IndexError: pop from an empty deque\n",
      "\n",
      "During handling of the above exception, another exception occurred:\n",
      "\n",
      "Traceback (most recent call last):\n",
      "  File \"/usr/local/spark/python/lib/py4j-0.10.7-src.zip/py4j/java_gateway.py\", line 1067, in start\n",
      "    self.socket.connect((self.address, self.port))\n",
      "ConnectionRefusedError: [Errno 111] Connection refused\n",
      "ERROR:py4j.java_gateway:An error occurred while trying to connect to the Java server (127.0.0.1:34209)\n",
      "Traceback (most recent call last):\n",
      "  File \"/usr/local/spark/python/lib/py4j-0.10.7-src.zip/py4j/java_gateway.py\", line 929, in _get_connection\n",
      "    connection = self.deque.pop()\n",
      "IndexError: pop from an empty deque\n",
      "\n",
      "During handling of the above exception, another exception occurred:\n",
      "\n",
      "Traceback (most recent call last):\n",
      "  File \"/usr/local/spark/python/lib/py4j-0.10.7-src.zip/py4j/java_gateway.py\", line 1067, in start\n",
      "    self.socket.connect((self.address, self.port))\n",
      "ConnectionRefusedError: [Errno 111] Connection refused\n",
      "ERROR:py4j.java_gateway:An error occurred while trying to connect to the Java server (127.0.0.1:34209)\n",
      "Traceback (most recent call last):\n",
      "  File \"/usr/local/spark/python/lib/py4j-0.10.7-src.zip/py4j/java_gateway.py\", line 929, in _get_connection\n",
      "    connection = self.deque.pop()\n",
      "IndexError: pop from an empty deque\n",
      "\n",
      "During handling of the above exception, another exception occurred:\n",
      "\n",
      "Traceback (most recent call last):\n",
      "  File \"/usr/local/spark/python/lib/py4j-0.10.7-src.zip/py4j/java_gateway.py\", line 1067, in start\n",
      "    self.socket.connect((self.address, self.port))\n",
      "ConnectionRefusedError: [Errno 111] Connection refused\n",
      "ERROR:py4j.java_gateway:An error occurred while trying to connect to the Java server (127.0.0.1:34209)\n",
      "Traceback (most recent call last):\n",
      "  File \"/usr/local/spark/python/lib/py4j-0.10.7-src.zip/py4j/java_gateway.py\", line 929, in _get_connection\n",
      "    connection = self.deque.pop()\n",
      "IndexError: pop from an empty deque\n",
      "\n",
      "During handling of the above exception, another exception occurred:\n",
      "\n",
      "Traceback (most recent call last):\n",
      "  File \"/usr/local/spark/python/lib/py4j-0.10.7-src.zip/py4j/java_gateway.py\", line 1067, in start\n",
      "    self.socket.connect((self.address, self.port))\n",
      "ConnectionRefusedError: [Errno 111] Connection refused\n",
      "ERROR:py4j.java_gateway:An error occurred while trying to connect to the Java server (127.0.0.1:34209)\n",
      "Traceback (most recent call last):\n",
      "  File \"/usr/local/spark/python/lib/py4j-0.10.7-src.zip/py4j/java_gateway.py\", line 929, in _get_connection\n",
      "    connection = self.deque.pop()\n",
      "IndexError: pop from an empty deque\n",
      "\n",
      "During handling of the above exception, another exception occurred:\n",
      "\n",
      "Traceback (most recent call last):\n",
      "  File \"/usr/local/spark/python/lib/py4j-0.10.7-src.zip/py4j/java_gateway.py\", line 1067, in start\n",
      "    self.socket.connect((self.address, self.port))\n",
      "ConnectionRefusedError: [Errno 111] Connection refused\n",
      "ERROR:py4j.java_gateway:An error occurred while trying to connect to the Java server (127.0.0.1:34209)\n",
      "Traceback (most recent call last):\n",
      "  File \"/usr/local/spark/python/lib/py4j-0.10.7-src.zip/py4j/java_gateway.py\", line 929, in _get_connection\n",
      "    connection = self.deque.pop()\n",
      "IndexError: pop from an empty deque\n",
      "\n",
      "During handling of the above exception, another exception occurred:\n",
      "\n",
      "Traceback (most recent call last):\n",
      "  File \"/usr/local/spark/python/lib/py4j-0.10.7-src.zip/py4j/java_gateway.py\", line 1067, in start\n",
      "    self.socket.connect((self.address, self.port))\n",
      "ConnectionRefusedError: [Errno 111] Connection refused\n",
      "ERROR:py4j.java_gateway:An error occurred while trying to connect to the Java server (127.0.0.1:34209)\n",
      "Traceback (most recent call last):\n",
      "  File \"/usr/local/spark/python/lib/py4j-0.10.7-src.zip/py4j/java_gateway.py\", line 929, in _get_connection\n",
      "    connection = self.deque.pop()\n",
      "IndexError: pop from an empty deque\n",
      "\n",
      "During handling of the above exception, another exception occurred:\n",
      "\n",
      "Traceback (most recent call last):\n",
      "  File \"/usr/local/spark/python/lib/py4j-0.10.7-src.zip/py4j/java_gateway.py\", line 1067, in start\n",
      "    self.socket.connect((self.address, self.port))\n",
      "ConnectionRefusedError: [Errno 111] Connection refused\n",
      "ERROR:py4j.java_gateway:An error occurred while trying to connect to the Java server (127.0.0.1:34209)\n",
      "Traceback (most recent call last):\n",
      "  File \"/usr/local/spark/python/lib/py4j-0.10.7-src.zip/py4j/java_gateway.py\", line 929, in _get_connection\n",
      "    connection = self.deque.pop()\n",
      "IndexError: pop from an empty deque\n",
      "\n",
      "During handling of the above exception, another exception occurred:\n",
      "\n",
      "Traceback (most recent call last):\n",
      "  File \"/usr/local/spark/python/lib/py4j-0.10.7-src.zip/py4j/java_gateway.py\", line 1067, in start\n",
      "    self.socket.connect((self.address, self.port))\n",
      "ConnectionRefusedError: [Errno 111] Connection refused\n",
      "ERROR:py4j.java_gateway:An error occurred while trying to connect to the Java server (127.0.0.1:34209)\n",
      "Traceback (most recent call last):\n",
      "  File \"/usr/local/spark/python/lib/py4j-0.10.7-src.zip/py4j/java_gateway.py\", line 929, in _get_connection\n",
      "    connection = self.deque.pop()\n",
      "IndexError: pop from an empty deque\n",
      "\n",
      "During handling of the above exception, another exception occurred:\n",
      "\n",
      "Traceback (most recent call last):\n",
      "  File \"/usr/local/spark/python/lib/py4j-0.10.7-src.zip/py4j/java_gateway.py\", line 1067, in start\n",
      "    self.socket.connect((self.address, self.port))\n",
      "ConnectionRefusedError: [Errno 111] Connection refused\n",
      "ERROR:py4j.java_gateway:An error occurred while trying to connect to the Java server (127.0.0.1:34209)\n",
      "Traceback (most recent call last):\n",
      "  File \"/usr/local/spark/python/lib/py4j-0.10.7-src.zip/py4j/java_gateway.py\", line 929, in _get_connection\n",
      "    connection = self.deque.pop()\n",
      "IndexError: pop from an empty deque\n",
      "\n",
      "During handling of the above exception, another exception occurred:\n",
      "\n",
      "Traceback (most recent call last):\n",
      "  File \"/usr/local/spark/python/lib/py4j-0.10.7-src.zip/py4j/java_gateway.py\", line 1067, in start\n",
      "    self.socket.connect((self.address, self.port))\n",
      "ConnectionRefusedError: [Errno 111] Connection refused\n",
      "ERROR:py4j.java_gateway:An error occurred while trying to connect to the Java server (127.0.0.1:34209)\n",
      "Traceback (most recent call last):\n",
      "  File \"/usr/local/spark/python/lib/py4j-0.10.7-src.zip/py4j/java_gateway.py\", line 929, in _get_connection\n",
      "    connection = self.deque.pop()\n",
      "IndexError: pop from an empty deque\n",
      "\n",
      "During handling of the above exception, another exception occurred:\n",
      "\n",
      "Traceback (most recent call last):\n",
      "  File \"/usr/local/spark/python/lib/py4j-0.10.7-src.zip/py4j/java_gateway.py\", line 1067, in start\n",
      "    self.socket.connect((self.address, self.port))\n",
      "ConnectionRefusedError: [Errno 111] Connection refused\n",
      "ERROR:py4j.java_gateway:An error occurred while trying to connect to the Java server (127.0.0.1:34209)\n",
      "Traceback (most recent call last):\n",
      "  File \"/usr/local/spark/python/lib/py4j-0.10.7-src.zip/py4j/java_gateway.py\", line 929, in _get_connection\n",
      "    connection = self.deque.pop()\n",
      "IndexError: pop from an empty deque\n",
      "\n",
      "During handling of the above exception, another exception occurred:\n",
      "\n",
      "Traceback (most recent call last):\n",
      "  File \"/usr/local/spark/python/lib/py4j-0.10.7-src.zip/py4j/java_gateway.py\", line 1067, in start\n",
      "    self.socket.connect((self.address, self.port))\n",
      "ConnectionRefusedError: [Errno 111] Connection refused\n",
      "ERROR:py4j.java_gateway:An error occurred while trying to connect to the Java server (127.0.0.1:34209)\n",
      "Traceback (most recent call last):\n",
      "  File \"/usr/local/spark/python/lib/py4j-0.10.7-src.zip/py4j/java_gateway.py\", line 929, in _get_connection\n",
      "    connection = self.deque.pop()\n",
      "IndexError: pop from an empty deque\n",
      "\n",
      "During handling of the above exception, another exception occurred:\n",
      "\n",
      "Traceback (most recent call last):\n",
      "  File \"/usr/local/spark/python/lib/py4j-0.10.7-src.zip/py4j/java_gateway.py\", line 1067, in start\n",
      "    self.socket.connect((self.address, self.port))\n",
      "ConnectionRefusedError: [Errno 111] Connection refused\n",
      "ERROR:py4j.java_gateway:An error occurred while trying to connect to the Java server (127.0.0.1:34209)\n",
      "Traceback (most recent call last):\n",
      "  File \"/usr/local/spark/python/lib/py4j-0.10.7-src.zip/py4j/java_gateway.py\", line 929, in _get_connection\n",
      "    connection = self.deque.pop()\n",
      "IndexError: pop from an empty deque\n",
      "\n",
      "During handling of the above exception, another exception occurred:\n",
      "\n",
      "Traceback (most recent call last):\n",
      "  File \"/usr/local/spark/python/lib/py4j-0.10.7-src.zip/py4j/java_gateway.py\", line 1067, in start\n",
      "    self.socket.connect((self.address, self.port))\n",
      "ConnectionRefusedError: [Errno 111] Connection refused\n",
      "ERROR:py4j.java_gateway:An error occurred while trying to connect to the Java server (127.0.0.1:34209)\n",
      "Traceback (most recent call last):\n",
      "  File \"/usr/local/spark/python/lib/py4j-0.10.7-src.zip/py4j/java_gateway.py\", line 929, in _get_connection\n",
      "    connection = self.deque.pop()\n",
      "IndexError: pop from an empty deque\n",
      "\n",
      "During handling of the above exception, another exception occurred:\n",
      "\n",
      "Traceback (most recent call last):\n",
      "  File \"/usr/local/spark/python/lib/py4j-0.10.7-src.zip/py4j/java_gateway.py\", line 1067, in start\n",
      "    self.socket.connect((self.address, self.port))\n",
      "ConnectionRefusedError: [Errno 111] Connection refused\n",
      "ERROR:py4j.java_gateway:An error occurred while trying to connect to the Java server (127.0.0.1:34209)\n",
      "Traceback (most recent call last):\n",
      "  File \"/usr/local/spark/python/lib/py4j-0.10.7-src.zip/py4j/java_gateway.py\", line 929, in _get_connection\n",
      "    connection = self.deque.pop()\n",
      "IndexError: pop from an empty deque\n",
      "\n",
      "During handling of the above exception, another exception occurred:\n",
      "\n",
      "Traceback (most recent call last):\n",
      "  File \"/usr/local/spark/python/lib/py4j-0.10.7-src.zip/py4j/java_gateway.py\", line 1067, in start\n",
      "    self.socket.connect((self.address, self.port))\n",
      "ConnectionRefusedError: [Errno 111] Connection refused\n",
      "ERROR:py4j.java_gateway:An error occurred while trying to connect to the Java server (127.0.0.1:34209)\n",
      "Traceback (most recent call last):\n",
      "  File \"/usr/local/spark/python/lib/py4j-0.10.7-src.zip/py4j/java_gateway.py\", line 929, in _get_connection\n",
      "    connection = self.deque.pop()\n",
      "IndexError: pop from an empty deque\n",
      "\n",
      "During handling of the above exception, another exception occurred:\n",
      "\n",
      "Traceback (most recent call last):\n",
      "  File \"/usr/local/spark/python/lib/py4j-0.10.7-src.zip/py4j/java_gateway.py\", line 1067, in start\n",
      "    self.socket.connect((self.address, self.port))\n",
      "ConnectionRefusedError: [Errno 111] Connection refused\n",
      "ERROR:py4j.java_gateway:An error occurred while trying to connect to the Java server (127.0.0.1:34209)\n",
      "Traceback (most recent call last):\n",
      "  File \"/usr/local/spark/python/lib/py4j-0.10.7-src.zip/py4j/java_gateway.py\", line 929, in _get_connection\n",
      "    connection = self.deque.pop()\n",
      "IndexError: pop from an empty deque\n",
      "\n",
      "During handling of the above exception, another exception occurred:\n",
      "\n",
      "Traceback (most recent call last):\n",
      "  File \"/usr/local/spark/python/lib/py4j-0.10.7-src.zip/py4j/java_gateway.py\", line 1067, in start\n",
      "    self.socket.connect((self.address, self.port))\n",
      "ConnectionRefusedError: [Errno 111] Connection refused\n"
     ]
    }
   ],
   "source": [
    "special_craft = load_schema.lobby(spark, \"pc\", \"live\", \"PurchaseResult\", ws_start_date, ws_day_28).where(col(\"Currency\") == \"artisanstoken\")"
   ]
  },
  {
   "cell_type": "code",
   "execution_count": 297,
   "metadata": {},
   "outputs": [
    {
     "name": "stdout",
     "output_type": "stream",
     "text": [
      "root\n",
      " |-- date: string (nullable = true)\n",
      " |-- AccountId: string (nullable = true)\n",
      " |-- Amount: long (nullable = true)\n",
      " |-- AnalyticEventName: string (nullable = true)\n",
      " |-- AnalyticEventType: string (nullable = true)\n",
      " |-- Currency: string (nullable = true)\n",
      " |-- IsOption: boolean (nullable = true)\n",
      " |-- ItemId: string (nullable = true)\n",
      " |-- LocalPrice: long (nullable = true)\n",
      " |-- OptionSalesIds: array (nullable = true)\n",
      " |    |-- element: string (containsNull = true)\n",
      " |-- PlatformProvider: string (nullable = true)\n",
      " |-- ProductId: string (nullable = true)\n",
      " |-- Remain: long (nullable = true)\n",
      " |-- SalesId: string (nullable = true)\n",
      " |-- Time: string (nullable = true)\n",
      " |-- TransactionId: string (nullable = true)\n",
      " |-- Type: string (nullable = true)\n",
      "\n"
     ]
    }
   ],
   "source": [
    "special_craft.printSchema()"
   ]
  },
  {
   "cell_type": "code",
   "execution_count": 298,
   "metadata": {},
   "outputs": [
    {
     "name": "stdout",
     "output_type": "stream",
     "text": [
      "+-----------------------------------------+\n",
      "|ItemId                                   |\n",
      "+-----------------------------------------+\n",
      "|itemdesc.13000612                        |\n",
      "|itemdesc.13000611                        |\n",
      "|itemdesc.14300002,currencydesc.chestkey*1|\n",
      "+-----------------------------------------+\n",
      "\n"
     ]
    }
   ],
   "source": [
    "special_craft.select(\"ItemId\").distinct().show(truncate=False)"
   ]
  },
  {
   "cell_type": "code",
   "execution_count": 301,
   "metadata": {},
   "outputs": [],
   "source": [
    "special_craft_set = special_craft.where(col(\"ItemId\").isin([\"itemdesc.13000612\", \"itemdesc.13000611\"])).join(df1.withColumnRenamed(\"account_id\", \"AccountId\"), \"AccountId\") \\\n",
    "    .groupBy(\"seg_group\", \"group\", \"seg_group2\", \"group2\").agg(countDistinct(\"AccountId\").alias(\"user_cnt\"), countDistinct(\"ItemId\").alias(\"craft_cnt\")).toPandas()"
   ]
  },
  {
   "cell_type": "code",
   "execution_count": 302,
   "metadata": {},
   "outputs": [
    {
     "name": "stderr",
     "output_type": "stream",
     "text": [
      "----------------------------------------\n",
      "Exception happened during processing of request from ('127.0.0.1', 37602)\n",
      "Traceback (most recent call last):\n",
      "  File \"/opt/conda/lib/python3.6/socketserver.py\", line 317, in _handle_request_noblock\n",
      "    self.process_request(request, client_address)\n",
      "  File \"/opt/conda/lib/python3.6/socketserver.py\", line 348, in process_request\n",
      "    self.finish_request(request, client_address)\n",
      "  File \"/opt/conda/lib/python3.6/socketserver.py\", line 361, in finish_request\n",
      "    self.RequestHandlerClass(request, client_address, self)\n",
      "  File \"/opt/conda/lib/python3.6/socketserver.py\", line 721, in __init__\n",
      "    self.handle()\n",
      "  File \"/usr/local/spark/python/pyspark/accumulators.py\", line 269, in handle\n",
      "    poll(accum_updates)\n",
      "  File \"/usr/local/spark/python/pyspark/accumulators.py\", line 241, in poll\n",
      "    if func():\n",
      "  File \"/usr/local/spark/python/pyspark/accumulators.py\", line 245, in accum_updates\n",
      "    num_updates = read_int(self.rfile)\n",
      "  File \"/usr/local/spark/python/pyspark/serializers.py\", line 717, in read_int\n",
      "    raise EOFError\n",
      "EOFError\n",
      "----------------------------------------\n"
     ]
    }
   ],
   "source": [
    "df1_user_cnt = df1.groupBy(\"seg_group\", \"group\", \"seg_group2\", \"group2\").agg(countDistinct(\"account_id\").alias(\"total_user_cnt\")).toPandas()\n",
    "pd.merge(df1_user_cnt, special_craft_set, on=[\"seg_group\", \"group\", \"seg_group2\", \"group2\"], how=\"outer\").to_csv(\"./special_craft_set.csv\", index=False)"
   ]
  },
  {
   "cell_type": "code",
   "execution_count": null,
   "metadata": {},
   "outputs": [],
   "source": []
  },
  {
   "cell_type": "code",
   "execution_count": 95,
   "metadata": {},
   "outputs": [],
   "source": [
    "only_costume_gcoin_by_user3_day28 = spark.createDataFrame(pd.read_csv(\"./only_costume_gcoin_by_user3_day28.csv\")) \\\n",
    "    .withColumnRenamed(\"group\", \"group2\").withColumn(\"wsus_cnt\", lit(0)).withColumn(\"seg_group2\", lit(\"a\"))\n",
    "costume_and_wsus_gcoin_by_user3_day28 = spark.createDataFrame(pd.read_csv(\"./costume_and_wsus_gcoin_by_user3_day28.csv\")) \\\n",
    "    .withColumnRenamed(\"group\", \"group2\").withColumn(\"seg_group2\", lit(\"b\"))\n",
    "only_wsus_gcoin_by_user3_day28 = spark.createDataFrame(pd.read_csv(\"./only_wsus_gcoin_by_user3_day28.csv\")) \\\n",
    "    .withColumnRenamed(\"group\", \"group2\").withColumn(\"seg_group2\", lit(\"c\")).withColumn(\"type\", lit(\"wsus\")).withColumn(\"chest_cnt\", lit(0))"
   ]
  },
  {
   "cell_type": "code",
   "execution_count": 96,
   "metadata": {},
   "outputs": [],
   "source": [
    "post_seg28_2 = only_costume_gcoin_by_user3_day28.unionByName(costume_and_wsus_gcoin_by_user3_day28).unionByName(only_wsus_gcoin_by_user3_day28) \\\n",
    "    .withColumnRenamed(\"paid_use\", \"paid_use2\").withColumnRenamed(\"total_use\", \"total_use2\") \\\n",
    "    .withColumnRenamed(\"wsus_cnt\", \"wsus_cnt2\").withColumn(\"post_seg\", concat(col(\"seg_group2\"), col(\"group2\")))"
   ]
  },
  {
   "cell_type": "code",
   "execution_count": 97,
   "metadata": {},
   "outputs": [],
   "source": [
    "df = pre_seg28.join(post_seg28_2, \"account_id\", \"full_outer\")\n",
    "mysql.insert_table(df, \"labs\", \"workshop_user_seg_df_day28_2\")"
   ]
  },
  {
   "cell_type": "code",
   "execution_count": 117,
   "metadata": {},
   "outputs": [],
   "source": [
    "df2 = mysql.read_table(spark, \"labs\", \"workshop_user_seg_df_day28_2\")"
   ]
  },
  {
   "cell_type": "code",
   "execution_count": 118,
   "metadata": {},
   "outputs": [],
   "source": [
    "ws_user_by_post_seg2 = ws_user.join(df2.withColumnRenamed(\"account_id\", \"AccountId\"), \"AccountId\").groupBy(\"post_seg\").agg(countDistinct(\"AccountId\").alias(\"workshop user cnt\")).orderBy(\"post_seg\").toPandas()\n",
    "ws_user_by_post_seg_and_action2 = ws_user.join(df2.withColumnRenamed(\"account_id\", \"AccountId\"), \"AccountId\").groupBy(\"post_seg\", \"action\").agg(countDistinct(\"AccountId\").alias(\"workshop user cnt\")).orderBy(\"post_seg\", \"action\").toPandas()"
   ]
  },
  {
   "cell_type": "code",
   "execution_count": 119,
   "metadata": {},
   "outputs": [],
   "source": [
    "ws_user_by_post_seg2.to_csv(\"./ws_user_by_post_seg2.csv\", index=False)\n",
    "ws_user_by_post_seg_and_action2.to_csv(\"./ws_user_by_post_seg_and_action2.csv\", index=False)"
   ]
  },
  {
   "cell_type": "code",
   "execution_count": null,
   "metadata": {},
   "outputs": [],
   "source": []
  }
 ],
 "metadata": {
  "kernelspec": {
   "display_name": "Python 3",
   "language": "python",
   "name": "python3"
  },
  "language_info": {
   "codemirror_mode": {
    "name": "ipython",
    "version": 3
   },
   "file_extension": ".py",
   "mimetype": "text/x-python",
   "name": "python",
   "nbconvert_exporter": "python",
   "pygments_lexer": "ipython3",
   "version": "3.6.7"
  }
 },
 "nbformat": 4,
 "nbformat_minor": 4
}
