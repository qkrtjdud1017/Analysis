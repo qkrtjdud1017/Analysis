{
 "cells": [
  {
   "cell_type": "code",
   "execution_count": 1,
   "metadata": {},
   "outputs": [
    {
     "name": "stdout",
     "output_type": "stream",
     "text": [
      "Spark cluster not assigned. creating a new one...\n",
      "Node spec: 4 executors with 48G RAM each\n",
      "Job Port 4049 is assigned for requested cluster\n",
      "Waiting for Spark master to be available...\n",
      "Spark master launched!\n",
      "Creating new Spark session, name: syp...\n",
      "Waiting for all executors ready...\n",
      "All executors connected!\n",
      "Complete! elapsed time: 00:00:44\n"
     ]
    }
   ],
   "source": [
    "from pubg_util import mysql, load_schema, notifier\n",
    "from sphynx import sphynx, NODE_SMALL, NODE_MEDIUM, NODE_LARGE\n",
    "from pyspark.sql.functions import *\n",
    "import pandas as pd\n",
    "import pickle\n",
    "\n",
    "spark = sphynx.get_spark(executor_count=4, app_name='syp', node_spec=NODE_LARGE)"
   ]
  },
  {
   "cell_type": "code",
   "execution_count": 31,
   "metadata": {},
   "outputs": [],
   "source": [
    "# dau = mysql.read_table(spark, \"pubg_gi\", \"all_traffic_activity_daily\")"
   ]
  },
  {
   "cell_type": "code",
   "execution_count": 32,
   "metadata": {},
   "outputs": [],
   "source": [
    "# wau = mysql.read_table(spark, \"pubg_gi\", \"all_traffic_activity_weekly\")"
   ]
  },
  {
   "cell_type": "markdown",
   "metadata": {},
   "source": [
    "wau\n",
    "- startdate = \"2021-09-02\"\n",
    "- enddate = \"2021-09-08\""
   ]
  },
  {
   "cell_type": "code",
   "execution_count": 36,
   "metadata": {},
   "outputs": [
    {
     "name": "stdout",
     "output_type": "stream",
     "text": [
      "+----------+----------+-------+\n",
      "| startdate|   enddate|    wau|\n",
      "+----------+----------+-------+\n",
      "|2021-09-02|2021-09-08|7430010|\n",
      "+----------+----------+-------+\n",
      "\n"
     ]
    }
   ],
   "source": [
    "wau.where((col(\"startdate\") == \"2021-09-02\") & (col(\"device\") == \"PC\")).groupBy(\"startdate\", \"enddate\").agg(sum(\"wau\").alias(\"wau\")).show()"
   ]
  },
  {
   "cell_type": "code",
   "execution_count": 37,
   "metadata": {},
   "outputs": [
    {
     "name": "stdout",
     "output_type": "stream",
     "text": [
      "+----------+----------+-------+\n",
      "| startdate|   enddate|    wau|\n",
      "+----------+----------+-------+\n",
      "|2021-09-09|2021-09-15|7005556|\n",
      "+----------+----------+-------+\n",
      "\n"
     ]
    }
   ],
   "source": [
    "wau.where((col(\"startdate\") == \"2021-09-09\") & (col(\"device\") == \"PC\")).groupBy(\"startdate\", \"enddate\").agg(sum(\"wau\").alias(\"wau\")).show()"
   ]
  },
  {
   "cell_type": "markdown",
   "metadata": {},
   "source": [
    "event_name = 202109_pcs5"
   ]
  },
  {
   "cell_type": "code",
   "execution_count": 3,
   "metadata": {},
   "outputs": [],
   "source": [
    "user = load_data_mart(device=\"pc\", start_date=\"2021-09-01\", end_date=\"2021-09-30\", table_name=\"user_master\")"
   ]
  },
  {
   "cell_type": "code",
   "execution_count": null,
   "metadata": {},
   "outputs": [],
   "source": []
  },
  {
   "cell_type": "code",
   "execution_count": 63,
   "metadata": {},
   "outputs": [],
   "source": [
    "items = mysql.read_table(spark, \"metainfo\", \"meta_vc_sales_items\")\n",
    "pcs5_items = items.where(col(\"event_name\") == \"202109_pcs5\").select(\"product_id\", \"product_name\").distinct().toPandas()\n",
    "pcs5_product_id_list = pcs5_items.product_id.tolist()"
   ]
  },
  {
   "cell_type": "code",
   "execution_count": 4,
   "metadata": {},
   "outputs": [],
   "source": [
    "gcoin = mysql.read_table(spark, \"pubg_gi\", \"all_economy_gcoin_used_by_product_daily\")"
   ]
  },
  {
   "cell_type": "code",
   "execution_count": null,
   "metadata": {},
   "outputs": [],
   "source": []
  },
  {
   "cell_type": "markdown",
   "metadata": {},
   "source": [
    "pcs5 시작 전 일주일 ARPU"
   ]
  },
  {
   "cell_type": "code",
   "execution_count": 42,
   "metadata": {},
   "outputs": [
    {
     "name": "stdout",
     "output_type": "stream",
     "text": [
      "+-------+\n",
      "|    wau|\n",
      "+-------+\n",
      "|3752598|\n",
      "+-------+\n",
      "\n"
     ]
    }
   ],
   "source": [
    "user.where((col(\"date\") >= \"2021-09-01\") & (col(\"date\") <= \"2021-09-07\") & (col(\"lastlogindate\") >= \"2021-09-01\")).select(countDistinct(\"accountid\").alias(\"wau\")).show()"
   ]
  },
  {
   "cell_type": "code",
   "execution_count": 5,
   "metadata": {},
   "outputs": [
    {
     "data": {
      "text/html": [
       "<div>\n",
       "<style scoped>\n",
       "    .dataframe tbody tr th:only-of-type {\n",
       "        vertical-align: middle;\n",
       "    }\n",
       "\n",
       "    .dataframe tbody tr th {\n",
       "        vertical-align: top;\n",
       "    }\n",
       "\n",
       "    .dataframe thead th {\n",
       "        text-align: right;\n",
       "    }\n",
       "</style>\n",
       "<table border=\"1\" class=\"dataframe\">\n",
       "  <thead>\n",
       "    <tr style=\"text-align: right;\">\n",
       "      <th></th>\n",
       "      <th>free</th>\n",
       "      <th>paid</th>\n",
       "      <th>total</th>\n",
       "    </tr>\n",
       "  </thead>\n",
       "  <tbody>\n",
       "    <tr>\n",
       "      <th>0</th>\n",
       "      <td>414693.5</td>\n",
       "      <td>4230066.5</td>\n",
       "      <td>4644760.0</td>\n",
       "    </tr>\n",
       "  </tbody>\n",
       "</table>\n",
       "</div>"
      ],
      "text/plain": [
       "       free       paid      total\n",
       "0  414693.5  4230066.5  4644760.0"
      ]
     },
     "execution_count": 5,
     "metadata": {},
     "output_type": "execute_result"
    }
   ],
   "source": [
    "gcoin.where((col(\"device\") == \"PC\") & (col(\"date\")>=\"2021-09-01\") & (col(\"date\")<=\"2021-09-07\") & (col(\"product_id\") == \"total\")).select((sum(\"free_gcoin_used\")/100).alias(\"free\"), (sum(\"paid_gcoin_used\")/100).alias(\"paid\"), ((sum(col(\"paid_gcoin_used\")+col(\"free_gcoin_used\"))/100).alias(\"total\"))).toPandas()"
   ]
  },
  {
   "cell_type": "markdown",
   "metadata": {},
   "source": [
    "pcs5 시작 후 pcs5 상품 일주일 ARPU (week1)"
   ]
  },
  {
   "cell_type": "code",
   "execution_count": 46,
   "metadata": {},
   "outputs": [
    {
     "name": "stdout",
     "output_type": "stream",
     "text": [
      "+-------+\n",
      "|    wau|\n",
      "+-------+\n",
      "|3500350|\n",
      "+-------+\n",
      "\n"
     ]
    }
   ],
   "source": [
    "user.where((col(\"date\") >= \"2021-09-08\") & (col(\"date\") <= \"2021-09-14\") & (col(\"lastlogindate\") >= \"2021-09-08\")).select(countDistinct(\"accountid\").alias(\"wau\")).show()"
   ]
  },
  {
   "cell_type": "code",
   "execution_count": 75,
   "metadata": {},
   "outputs": [
    {
     "data": {
      "text/html": [
       "<div>\n",
       "<style scoped>\n",
       "    .dataframe tbody tr th:only-of-type {\n",
       "        vertical-align: middle;\n",
       "    }\n",
       "\n",
       "    .dataframe tbody tr th {\n",
       "        vertical-align: top;\n",
       "    }\n",
       "\n",
       "    .dataframe thead th {\n",
       "        text-align: right;\n",
       "    }\n",
       "</style>\n",
       "<table border=\"1\" class=\"dataframe\">\n",
       "  <thead>\n",
       "    <tr style=\"text-align: right;\">\n",
       "      <th></th>\n",
       "      <th>free</th>\n",
       "      <th>paid</th>\n",
       "      <th>total</th>\n",
       "    </tr>\n",
       "  </thead>\n",
       "  <tbody>\n",
       "    <tr>\n",
       "      <th>0</th>\n",
       "      <td>503908.6</td>\n",
       "      <td>1753469.6</td>\n",
       "      <td>2257378.2</td>\n",
       "    </tr>\n",
       "  </tbody>\n",
       "</table>\n",
       "</div>"
      ],
      "text/plain": [
       "       free       paid      total\n",
       "0  503908.6  1753469.6  2257378.2"
      ]
     },
     "execution_count": 75,
     "metadata": {},
     "output_type": "execute_result"
    }
   ],
   "source": [
    "gcoin.where((col(\"date\") >= \"2021-09-08\") & (col(\"date\") <= \"2021-09-14\") & (col(\"device\") == \"PC\") & (col(\"product_id\").isin(pcs5_product_id_list))).select((sum(\"free_gcoin_used\")/100).alias(\"free\"), (sum(\"paid_gcoin_used\")/100).alias(\"paid\"), ((sum(col(\"paid_gcoin_used\")+col(\"free_gcoin_used\"))/100).alias(\"total\"))).toPandas()"
   ]
  },
  {
   "cell_type": "code",
   "execution_count": 78,
   "metadata": {},
   "outputs": [
    {
     "data": {
      "text/plain": [
       "0.6449007099290072"
      ]
     },
     "execution_count": 78,
     "metadata": {},
     "output_type": "execute_result"
    }
   ],
   "source": [
    "2257378.2/3500350"
   ]
  },
  {
   "cell_type": "markdown",
   "metadata": {},
   "source": [
    "pcs5 week2 "
   ]
  },
  {
   "cell_type": "code",
   "execution_count": 47,
   "metadata": {},
   "outputs": [
    {
     "name": "stdout",
     "output_type": "stream",
     "text": [
      "+-------+\n",
      "|    wau|\n",
      "+-------+\n",
      "|3740217|\n",
      "+-------+\n",
      "\n"
     ]
    }
   ],
   "source": [
    "user.where((col(\"date\") >= \"2021-09-15\") & (col(\"date\") <= \"2021-09-21\") & (col(\"lastlogindate\") >= \"2021-09-15\")).select(countDistinct(\"accountid\").alias(\"wau\")).show()"
   ]
  },
  {
   "cell_type": "code",
   "execution_count": 84,
   "metadata": {},
   "outputs": [
    {
     "data": {
      "text/html": [
       "<div>\n",
       "<style scoped>\n",
       "    .dataframe tbody tr th:only-of-type {\n",
       "        vertical-align: middle;\n",
       "    }\n",
       "\n",
       "    .dataframe tbody tr th {\n",
       "        vertical-align: top;\n",
       "    }\n",
       "\n",
       "    .dataframe thead th {\n",
       "        text-align: right;\n",
       "    }\n",
       "</style>\n",
       "<table border=\"1\" class=\"dataframe\">\n",
       "  <thead>\n",
       "    <tr style=\"text-align: right;\">\n",
       "      <th></th>\n",
       "      <th>free</th>\n",
       "      <th>paid</th>\n",
       "      <th>total</th>\n",
       "    </tr>\n",
       "  </thead>\n",
       "  <tbody>\n",
       "    <tr>\n",
       "      <th>0</th>\n",
       "      <td>106907.7</td>\n",
       "      <td>439008.0</td>\n",
       "      <td>545915.7</td>\n",
       "    </tr>\n",
       "  </tbody>\n",
       "</table>\n",
       "</div>"
      ],
      "text/plain": [
       "       free      paid     total\n",
       "0  106907.7  439008.0  545915.7"
      ]
     },
     "execution_count": 84,
     "metadata": {},
     "output_type": "execute_result"
    }
   ],
   "source": [
    "gcoin.where((col(\"date\") >= \"2021-09-15\") & (col(\"date\") <= \"2021-09-21\") & (col(\"device\") == \"PC\") & (col(\"product_id\").isin(pcs5_product_id_list))).select((sum(\"free_gcoin_used\")/100).alias(\"free\"), (sum(\"paid_gcoin_used\")/100).alias(\"paid\"), ((sum(col(\"paid_gcoin_used\")+col(\"free_gcoin_used\"))/100).alias(\"total\"))).toPandas()"
   ]
  },
  {
   "cell_type": "code",
   "execution_count": 85,
   "metadata": {},
   "outputs": [
    {
     "data": {
      "text/plain": [
       "0.1459582960026116"
      ]
     },
     "execution_count": 85,
     "metadata": {},
     "output_type": "execute_result"
    }
   ],
   "source": [
    "545915.7/3740217"
   ]
  },
  {
   "cell_type": "markdown",
   "metadata": {},
   "source": [
    "pcs5 week3"
   ]
  },
  {
   "cell_type": "code",
   "execution_count": 62,
   "metadata": {},
   "outputs": [
    {
     "name": "stdout",
     "output_type": "stream",
     "text": [
      "+-------+\n",
      "|    wau|\n",
      "+-------+\n",
      "|3447821|\n",
      "+-------+\n",
      "\n"
     ]
    }
   ],
   "source": [
    "user.where((col(\"date\") >= \"2021-09-22\") & (col(\"date\") <= \"2021-09-28\") & (col(\"lastlogindate\") >= \"2021-09-22\")).select(countDistinct(\"accountid\").alias(\"wau\")).show()"
   ]
  },
  {
   "cell_type": "code",
   "execution_count": 86,
   "metadata": {},
   "outputs": [
    {
     "data": {
      "text/html": [
       "<div>\n",
       "<style scoped>\n",
       "    .dataframe tbody tr th:only-of-type {\n",
       "        vertical-align: middle;\n",
       "    }\n",
       "\n",
       "    .dataframe tbody tr th {\n",
       "        vertical-align: top;\n",
       "    }\n",
       "\n",
       "    .dataframe thead th {\n",
       "        text-align: right;\n",
       "    }\n",
       "</style>\n",
       "<table border=\"1\" class=\"dataframe\">\n",
       "  <thead>\n",
       "    <tr style=\"text-align: right;\">\n",
       "      <th></th>\n",
       "      <th>free</th>\n",
       "      <th>paid</th>\n",
       "      <th>total</th>\n",
       "    </tr>\n",
       "  </thead>\n",
       "  <tbody>\n",
       "    <tr>\n",
       "      <th>0</th>\n",
       "      <td>73273.7</td>\n",
       "      <td>316024.0</td>\n",
       "      <td>389297.7</td>\n",
       "    </tr>\n",
       "  </tbody>\n",
       "</table>\n",
       "</div>"
      ],
      "text/plain": [
       "      free      paid     total\n",
       "0  73273.7  316024.0  389297.7"
      ]
     },
     "execution_count": 86,
     "metadata": {},
     "output_type": "execute_result"
    }
   ],
   "source": [
    "gcoin.where((col(\"date\") >= \"2021-09-22\") & (col(\"date\") <= \"2021-09-28\") & (col(\"device\") == \"PC\") & (col(\"product_id\").isin(pcs5_product_id_list))).select((sum(\"free_gcoin_used\")/100).alias(\"free\"), (sum(\"paid_gcoin_used\")/100).alias(\"paid\"), ((sum(col(\"paid_gcoin_used\")+col(\"free_gcoin_used\"))/100).alias(\"total\"))).toPandas()"
   ]
  },
  {
   "cell_type": "code",
   "execution_count": 87,
   "metadata": {},
   "outputs": [
    {
     "data": {
      "text/plain": [
       "0.1129112271199694"
      ]
     },
     "execution_count": 87,
     "metadata": {},
     "output_type": "execute_result"
    }
   ],
   "source": [
    "389297.7/3447821"
   ]
  },
  {
   "cell_type": "code",
   "execution_count": null,
   "metadata": {},
   "outputs": [],
   "source": []
  },
  {
   "cell_type": "markdown",
   "metadata": {},
   "source": [
    "16.1 업데이트 전 일주일 ARPU"
   ]
  },
  {
   "cell_type": "code",
   "execution_count": 81,
   "metadata": {},
   "outputs": [],
   "source": [
    "user2 = load_data_mart(device=\"pc\", start_date=\"2022-02-02\", end_date=\"2022-02-15\", table_name=\"user_master\")"
   ]
  },
  {
   "cell_type": "code",
   "execution_count": 82,
   "metadata": {},
   "outputs": [
    {
     "name": "stdout",
     "output_type": "stream",
     "text": [
      "+-------+\n",
      "|    wau|\n",
      "+-------+\n",
      "|6458125|\n",
      "+-------+\n",
      "\n"
     ]
    }
   ],
   "source": [
    "user2.where((col(\"date\") >= \"2022-02-09\") & (col(\"date\") <= \"2022-02-15\") & (col(\"lastlogindate\") >= \"2022-02-09\")).select(countDistinct(\"accountid\").alias(\"wau\")).show()"
   ]
  },
  {
   "cell_type": "code",
   "execution_count": 6,
   "metadata": {},
   "outputs": [
    {
     "data": {
      "text/html": [
       "<div>\n",
       "<style scoped>\n",
       "    .dataframe tbody tr th:only-of-type {\n",
       "        vertical-align: middle;\n",
       "    }\n",
       "\n",
       "    .dataframe tbody tr th {\n",
       "        vertical-align: top;\n",
       "    }\n",
       "\n",
       "    .dataframe thead th {\n",
       "        text-align: right;\n",
       "    }\n",
       "</style>\n",
       "<table border=\"1\" class=\"dataframe\">\n",
       "  <thead>\n",
       "    <tr style=\"text-align: right;\">\n",
       "      <th></th>\n",
       "      <th>free</th>\n",
       "      <th>paid</th>\n",
       "      <th>total</th>\n",
       "    </tr>\n",
       "  </thead>\n",
       "  <tbody>\n",
       "    <tr>\n",
       "      <th>0</th>\n",
       "      <td>7170584.85</td>\n",
       "      <td>3178324.25</td>\n",
       "      <td>10348909.1</td>\n",
       "    </tr>\n",
       "  </tbody>\n",
       "</table>\n",
       "</div>"
      ],
      "text/plain": [
       "         free        paid       total\n",
       "0  7170584.85  3178324.25  10348909.1"
      ]
     },
     "execution_count": 6,
     "metadata": {},
     "output_type": "execute_result"
    }
   ],
   "source": [
    "gcoin.where((col(\"device\") == \"PC\") & (col(\"date\")>=\"2022-02-09\") & (col(\"date\")<=\"2022-02-15\") & (col(\"product_id\") == \"total\")).select((sum(\"free_gcoin_used\")/100).alias(\"free\"), (sum(\"paid_gcoin_used\")/100).alias(\"paid\"), ((sum(col(\"paid_gcoin_used\")+col(\"free_gcoin_used\"))/100).alias(\"total\"))).toPandas()"
   ]
  },
  {
   "cell_type": "code",
   "execution_count": null,
   "metadata": {},
   "outputs": [],
   "source": []
  },
  {
   "cell_type": "markdown",
   "metadata": {},
   "source": [
    "16.1 update week 1"
   ]
  },
  {
   "cell_type": "code",
   "execution_count": 88,
   "metadata": {},
   "outputs": [
    {
     "name": "stdout",
     "output_type": "stream",
     "text": [
      "no data exists in\n",
      "s3a://pubg-log-labs/data_mart/user_master_ver2/2022-02-22/PC\n",
      "+-------+\n",
      "|    wau|\n",
      "+-------+\n",
      "|5450240|\n",
      "+-------+\n",
      "\n"
     ]
    }
   ],
   "source": [
    "load_data_mart(device=\"pc\", start_date=\"2022-02-16\", end_date=\"2022-02-22\", table_name=\"user_master\").where((col(\"lastlogindate\") >= \"2022-02-16\")).select(countDistinct(\"accountid\").alias(\"wau\")).show()"
   ]
  },
  {
   "cell_type": "code",
   "execution_count": null,
   "metadata": {},
   "outputs": [],
   "source": [
    "gcoin.where((col(\"date\") >= \"2021-09-08\") & (col(\"date\") <= \"2021-09-14\") & (col(\"device\") == \"PC\") & (col(\"product_id\").isin(pcs5_product_id_list))).select((sum(\"free_gcoin_used\")/100).alias(\"free\"), (sum(\"paid_gcoin_used\")/100).alias(\"paid\"), ((sum(col(\"paid_gcoin_used\")+col(\"free_gcoin_used\"))/100).alias(\"total\"))).toPandas()"
   ]
  },
  {
   "cell_type": "code",
   "execution_count": null,
   "metadata": {},
   "outputs": [],
   "source": []
  },
  {
   "cell_type": "code",
   "execution_count": null,
   "metadata": {},
   "outputs": [],
   "source": []
  },
  {
   "cell_type": "code",
   "execution_count": null,
   "metadata": {},
   "outputs": [],
   "source": []
  },
  {
   "cell_type": "code",
   "execution_count": null,
   "metadata": {},
   "outputs": [],
   "source": []
  },
  {
   "cell_type": "markdown",
   "metadata": {},
   "source": [
    "pcs6 가 앞에 붙여져 있는것들은 pcs6 실제 데이터가 아닌 예측을 위한 것들"
   ]
  },
  {
   "cell_type": "code",
   "execution_count": 12,
   "metadata": {},
   "outputs": [],
   "source": [
    "pcs6_dau = dau.where((col(\"date\") >= \"2022-02-09\")  & (col(\"date\") <= \"2022-02-15\")).groupBy(\"device\", \"date\").agg(sum(\"dau\").alias(\"dau\")).orderBy(\"device\", \"date\").toPandas()"
   ]
  },
  {
   "cell_type": "code",
   "execution_count": 13,
   "metadata": {},
   "outputs": [
    {
     "data": {
      "text/html": [
       "<div>\n",
       "<style scoped>\n",
       "    .dataframe tbody tr th:only-of-type {\n",
       "        vertical-align: middle;\n",
       "    }\n",
       "\n",
       "    .dataframe tbody tr th {\n",
       "        vertical-align: top;\n",
       "    }\n",
       "\n",
       "    .dataframe thead th {\n",
       "        text-align: right;\n",
       "    }\n",
       "</style>\n",
       "<table border=\"1\" class=\"dataframe\">\n",
       "  <thead>\n",
       "    <tr style=\"text-align: right;\">\n",
       "      <th></th>\n",
       "      <th>device</th>\n",
       "      <th>date</th>\n",
       "      <th>dau</th>\n",
       "    </tr>\n",
       "  </thead>\n",
       "  <tbody>\n",
       "    <tr>\n",
       "      <th>0</th>\n",
       "      <td>CONSOLE</td>\n",
       "      <td>2022-02-09</td>\n",
       "      <td>358547</td>\n",
       "    </tr>\n",
       "    <tr>\n",
       "      <th>1</th>\n",
       "      <td>CONSOLE</td>\n",
       "      <td>2022-02-10</td>\n",
       "      <td>351334</td>\n",
       "    </tr>\n",
       "    <tr>\n",
       "      <th>2</th>\n",
       "      <td>CONSOLE</td>\n",
       "      <td>2022-02-11</td>\n",
       "      <td>365587</td>\n",
       "    </tr>\n",
       "    <tr>\n",
       "      <th>3</th>\n",
       "      <td>CONSOLE</td>\n",
       "      <td>2022-02-12</td>\n",
       "      <td>409421</td>\n",
       "    </tr>\n",
       "    <tr>\n",
       "      <th>4</th>\n",
       "      <td>CONSOLE</td>\n",
       "      <td>2022-02-13</td>\n",
       "      <td>411590</td>\n",
       "    </tr>\n",
       "    <tr>\n",
       "      <th>5</th>\n",
       "      <td>CONSOLE</td>\n",
       "      <td>2022-02-14</td>\n",
       "      <td>317772</td>\n",
       "    </tr>\n",
       "    <tr>\n",
       "      <th>6</th>\n",
       "      <td>CONSOLE</td>\n",
       "      <td>2022-02-15</td>\n",
       "      <td>327516</td>\n",
       "    </tr>\n",
       "    <tr>\n",
       "      <th>7</th>\n",
       "      <td>PC</td>\n",
       "      <td>2022-02-09</td>\n",
       "      <td>2279462</td>\n",
       "    </tr>\n",
       "    <tr>\n",
       "      <th>8</th>\n",
       "      <td>PC</td>\n",
       "      <td>2022-02-10</td>\n",
       "      <td>2259991</td>\n",
       "    </tr>\n",
       "    <tr>\n",
       "      <th>9</th>\n",
       "      <td>PC</td>\n",
       "      <td>2022-02-11</td>\n",
       "      <td>2372755</td>\n",
       "    </tr>\n",
       "    <tr>\n",
       "      <th>10</th>\n",
       "      <td>PC</td>\n",
       "      <td>2022-02-12</td>\n",
       "      <td>2502000</td>\n",
       "    </tr>\n",
       "    <tr>\n",
       "      <th>11</th>\n",
       "      <td>PC</td>\n",
       "      <td>2022-02-13</td>\n",
       "      <td>2487126</td>\n",
       "    </tr>\n",
       "    <tr>\n",
       "      <th>12</th>\n",
       "      <td>PC</td>\n",
       "      <td>2022-02-14</td>\n",
       "      <td>2127411</td>\n",
       "    </tr>\n",
       "    <tr>\n",
       "      <th>13</th>\n",
       "      <td>PC</td>\n",
       "      <td>2022-02-15</td>\n",
       "      <td>2162092</td>\n",
       "    </tr>\n",
       "  </tbody>\n",
       "</table>\n",
       "</div>"
      ],
      "text/plain": [
       "     device        date      dau\n",
       "0   CONSOLE  2022-02-09   358547\n",
       "1   CONSOLE  2022-02-10   351334\n",
       "2   CONSOLE  2022-02-11   365587\n",
       "3   CONSOLE  2022-02-12   409421\n",
       "4   CONSOLE  2022-02-13   411590\n",
       "5   CONSOLE  2022-02-14   317772\n",
       "6   CONSOLE  2022-02-15   327516\n",
       "7        PC  2022-02-09  2279462\n",
       "8        PC  2022-02-10  2259991\n",
       "9        PC  2022-02-11  2372755\n",
       "10       PC  2022-02-12  2502000\n",
       "11       PC  2022-02-13  2487126\n",
       "12       PC  2022-02-14  2127411\n",
       "13       PC  2022-02-15  2162092"
      ]
     },
     "execution_count": 13,
     "metadata": {},
     "output_type": "execute_result"
    }
   ],
   "source": [
    "pcs6_dau"
   ]
  },
  {
   "cell_type": "code",
   "execution_count": null,
   "metadata": {},
   "outputs": [],
   "source": []
  }
 ],
 "metadata": {
  "kernelspec": {
   "display_name": "Python 3",
   "language": "python",
   "name": "python3"
  },
  "language_info": {
   "codemirror_mode": {
    "name": "ipython",
    "version": 3
   },
   "file_extension": ".py",
   "mimetype": "text/x-python",
   "name": "python",
   "nbconvert_exporter": "python",
   "pygments_lexer": "ipython3",
   "version": "3.6.7"
  }
 },
 "nbformat": 4,
 "nbformat_minor": 4
}
