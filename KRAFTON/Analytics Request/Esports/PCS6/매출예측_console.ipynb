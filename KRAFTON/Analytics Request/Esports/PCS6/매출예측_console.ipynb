{
 "cells": [
  {
   "cell_type": "code",
   "execution_count": 1,
   "metadata": {},
   "outputs": [
    {
     "name": "stdout",
     "output_type": "stream",
     "text": [
      "Spark cluster not assigned. creating a new one...\n",
      "Node spec: 4 executors with 48G RAM each\n",
      "Job Port 4049 is assigned for requested cluster\n",
      "Waiting for Spark master to be available...\n",
      "Spark master launched!\n",
      "Creating new Spark session, name: syp...\n",
      "Waiting for all executors ready...\n",
      "All executors connected!\n",
      "Complete! elapsed time: 00:00:24\n"
     ]
    }
   ],
   "source": [
    "from pubg_util import mysql, load_schema, notifier\n",
    "from sphynx import sphynx, NODE_SMALL, NODE_MEDIUM, NODE_LARGE\n",
    "from pyspark.sql.functions import *\n",
    "import pandas as pd\n",
    "import pickle\n",
    "\n",
    "spark = sphynx.get_spark(executor_count=4, app_name='syp', node_spec=NODE_LARGE)"
   ]
  },
  {
   "cell_type": "code",
   "execution_count": 14,
   "metadata": {},
   "outputs": [
    {
     "name": "stdout",
     "output_type": "stream",
     "text": [
      "Stopping Spark session...\n",
      "Destroying Spark cluster...\n",
      "Done!\n",
      "You can safely ignore the warning message if there is any.\n"
     ]
    }
   ],
   "source": [
    "sphynx.stop()"
   ]
  },
  {
   "cell_type": "code",
   "execution_count": 8,
   "metadata": {},
   "outputs": [],
   "source": [
    "user = load_data_mart(device=\"console\", start_date=\"2021-09-09\", end_date=\"2021-10-20\", table_name=\"user_master\")"
   ]
  },
  {
   "cell_type": "code",
   "execution_count": 4,
   "metadata": {},
   "outputs": [],
   "source": [
    "gcoin = mysql.read_table(spark, \"pubg_gi\", \"all_economy_gcoin_used_by_product_daily\")"
   ]
  },
  {
   "cell_type": "code",
   "execution_count": 9,
   "metadata": {},
   "outputs": [],
   "source": [
    "items = mysql.read_table(spark, \"metainfo\", \"meta_vc_sales_items\")\n",
    "pcs5_items = items.where(col(\"event_name\") == \"202109_pcs5\").select(\"product_id\", \"product_name\").distinct().toPandas()\n",
    "pcs5_product_id_list = pcs5_items.product_id.tolist()"
   ]
  },
  {
   "cell_type": "code",
   "execution_count": 10,
   "metadata": {},
   "outputs": [],
   "source": [
    "startdate = \"2021-09-09\"\n",
    "enddate = \"2021-09-15\"\n",
    "wau = user.where((col(\"date\") >= startdate) & (col(\"date\") <= enddate) & (col(\"lastlogindate\") >= startdate)).select(countDistinct(\"accountid\").alias(\"wau\")).collect()[0][0]\n",
    "gc = gcoin.where((col(\"device\") == \"CONSOLE\") & (col(\"date\") >= startdate) & (col(\"date\") <= enddate) & (col(\"product_id\") == \"total\")).select((sum(\"free_gcoin_used\")/100).alias(\"free\"), (sum(\"paid_gcoin_used\")/100).alias(\"paid\"), ((sum(col(\"paid_gcoin_used\")+col(\"free_gcoin_used\"))/100).alias(\"total\"))).collect()"
   ]
  },
  {
   "cell_type": "code",
   "execution_count": 11,
   "metadata": {},
   "outputs": [
    {
     "name": "stdout",
     "output_type": "stream",
     "text": [
      "2021-09-09~2021-09-15\n",
      "wau 426810\n",
      "free 53971.8\n",
      "paid 326463.8\n",
      "total 380435.6\n"
     ]
    }
   ],
   "source": [
    "print(startdate + \"~\" + enddate)\n",
    "print(\"wau\", wau)\n",
    "print(\"free\", gc[0][0])\n",
    "print(\"paid\", gc[0][1])\n",
    "print(\"total\", gc[0][2])"
   ]
  },
  {
   "cell_type": "code",
   "execution_count": 26,
   "metadata": {},
   "outputs": [],
   "source": [
    "startdates = [\"2021-09-16\", \"2021-09-23\", \"2021-09-30\", \"2021-10-07\", \"2021-10-14\"]\n",
    "enddates = [\"2021-09-22\", \"2021-09-29\", \"2021-10-06\", \"2021-10-13\", \"2021-10-20\"]\n",
    "wau_list = []\n",
    "free_gcoin = []\n",
    "paid_gcoin = []\n",
    "total_gcoin = []"
   ]
  },
  {
   "cell_type": "code",
   "execution_count": 28,
   "metadata": {},
   "outputs": [
    {
     "name": "stdout",
     "output_type": "stream",
     "text": [
      "2021-09-16~2021-09-22\n",
      "2021-09-23~2021-09-29\n",
      "2021-09-30~2021-10-06\n",
      "2021-10-07~2021-10-13\n",
      "2021-10-14~2021-10-20\n"
     ]
    }
   ],
   "source": [
    "for i in range(len(startdates)):\n",
    "    startdate = startdates[i]\n",
    "    enddate = enddates[i]\n",
    "    print(startdate + \" ~ \" + enddate)\n",
    "    wau = user.where((col(\"date\") >= startdate) & (col(\"date\") <= enddate) & (col(\"lastlogindate\") >= startdate)).select(countDistinct(\"accountid\").alias(\"wau\")).collect()[0][0]\n",
    "    wau_list.append(wau)\n",
    "    gc = gcoin.where((col(\"device\") == \"CONSOLE\") & (col(\"date\") >= startdate) & (col(\"date\") <= enddate) & (col(\"product_id\").isin(pcs5_product_id_list))).select((sum(\"free_gcoin_used\")/100).alias(\"free\"), (sum(\"paid_gcoin_used\")/100).alias(\"paid\"), ((sum(col(\"paid_gcoin_used\")+col(\"free_gcoin_used\"))/100).alias(\"total\"))).collect()\n",
    "    free_gcoin.append(gc[0][0])\n",
    "    paid_gcoin.append(gc[0][1])\n",
    "    total_gcoin.append(gc[0][2])"
   ]
  },
  {
   "cell_type": "code",
   "execution_count": 31,
   "metadata": {},
   "outputs": [],
   "source": [
    "d = {\n",
    "    \"start_date\": startdates,\n",
    "    \"end_date\": enddates,\n",
    "    \"wau\": wau_list,\n",
    "    \"free\": free_gcoin,\n",
    "    \"paid\": paid_gcoin,\n",
    "    \"total\": total_gcoin\n",
    "}\n",
    "df = pd.DataFrame.from_dict(d)\n",
    "df.to_csv(\"./data/console_arpu.csv\", index=False)"
   ]
  },
  {
   "cell_type": "code",
   "execution_count": 32,
   "metadata": {},
   "outputs": [
    {
     "data": {
      "text/html": [
       "<div>\n",
       "<style scoped>\n",
       "    .dataframe tbody tr th:only-of-type {\n",
       "        vertical-align: middle;\n",
       "    }\n",
       "\n",
       "    .dataframe tbody tr th {\n",
       "        vertical-align: top;\n",
       "    }\n",
       "\n",
       "    .dataframe thead th {\n",
       "        text-align: right;\n",
       "    }\n",
       "</style>\n",
       "<table border=\"1\" class=\"dataframe\">\n",
       "  <thead>\n",
       "    <tr style=\"text-align: right;\">\n",
       "      <th></th>\n",
       "      <th>start_date</th>\n",
       "      <th>end_date</th>\n",
       "      <th>wau</th>\n",
       "      <th>free</th>\n",
       "      <th>paid</th>\n",
       "      <th>total</th>\n",
       "    </tr>\n",
       "  </thead>\n",
       "  <tbody>\n",
       "    <tr>\n",
       "      <th>0</th>\n",
       "      <td>2021-09-16</td>\n",
       "      <td>2021-09-22</td>\n",
       "      <td>417293</td>\n",
       "      <td>23567.2</td>\n",
       "      <td>228960.4</td>\n",
       "      <td>252527.6</td>\n",
       "    </tr>\n",
       "    <tr>\n",
       "      <th>1</th>\n",
       "      <td>2021-09-23</td>\n",
       "      <td>2021-09-29</td>\n",
       "      <td>395959</td>\n",
       "      <td>4715.8</td>\n",
       "      <td>48933.8</td>\n",
       "      <td>53649.6</td>\n",
       "    </tr>\n",
       "    <tr>\n",
       "      <th>2</th>\n",
       "      <td>2021-09-30</td>\n",
       "      <td>2021-10-06</td>\n",
       "      <td>392569</td>\n",
       "      <td>3394.6</td>\n",
       "      <td>37104.0</td>\n",
       "      <td>40498.6</td>\n",
       "    </tr>\n",
       "    <tr>\n",
       "      <th>3</th>\n",
       "      <td>2021-10-07</td>\n",
       "      <td>2021-10-13</td>\n",
       "      <td>382593</td>\n",
       "      <td>2573.4</td>\n",
       "      <td>29287.4</td>\n",
       "      <td>31860.8</td>\n",
       "    </tr>\n",
       "    <tr>\n",
       "      <th>4</th>\n",
       "      <td>2021-10-14</td>\n",
       "      <td>2021-10-20</td>\n",
       "      <td>354577</td>\n",
       "      <td>3246.6</td>\n",
       "      <td>30987.4</td>\n",
       "      <td>34234.0</td>\n",
       "    </tr>\n",
       "  </tbody>\n",
       "</table>\n",
       "</div>"
      ],
      "text/plain": [
       "   start_date    end_date     wau     free      paid     total\n",
       "0  2021-09-16  2021-09-22  417293  23567.2  228960.4  252527.6\n",
       "1  2021-09-23  2021-09-29  395959   4715.8   48933.8   53649.6\n",
       "2  2021-09-30  2021-10-06  392569   3394.6   37104.0   40498.6\n",
       "3  2021-10-07  2021-10-13  382593   2573.4   29287.4   31860.8\n",
       "4  2021-10-14  2021-10-20  354577   3246.6   30987.4   34234.0"
      ]
     },
     "execution_count": 32,
     "metadata": {},
     "output_type": "execute_result"
    }
   ],
   "source": [
    "df"
   ]
  },
  {
   "cell_type": "code",
   "execution_count": 5,
   "metadata": {},
   "outputs": [],
   "source": [
    "user2 = load_data_mart(device=\"console\", start_date=\"2022-02-17\", end_date=\"2022-02-23\", table_name=\"user_master\")"
   ]
  },
  {
   "cell_type": "code",
   "execution_count": 6,
   "metadata": {},
   "outputs": [
    {
     "name": "stdout",
     "output_type": "stream",
     "text": [
      "+-------------------------+\n",
      "|count(DISTINCT accountid)|\n",
      "+-------------------------+\n",
      "|                  1067741|\n",
      "+-------------------------+\n",
      "\n"
     ]
    }
   ],
   "source": [
    "user2.where((col(\"lastlogindate\") >= \"2022-02-17\")).select(countDistinct(\"accountid\")).show()"
   ]
  },
  {
   "cell_type": "code",
   "execution_count": 7,
   "metadata": {},
   "outputs": [
    {
     "data": {
      "text/html": [
       "<div>\n",
       "<style scoped>\n",
       "    .dataframe tbody tr th:only-of-type {\n",
       "        vertical-align: middle;\n",
       "    }\n",
       "\n",
       "    .dataframe tbody tr th {\n",
       "        vertical-align: top;\n",
       "    }\n",
       "\n",
       "    .dataframe thead th {\n",
       "        text-align: right;\n",
       "    }\n",
       "</style>\n",
       "<table border=\"1\" class=\"dataframe\">\n",
       "  <thead>\n",
       "    <tr style=\"text-align: right;\">\n",
       "      <th></th>\n",
       "      <th>free</th>\n",
       "      <th>paid</th>\n",
       "      <th>total</th>\n",
       "    </tr>\n",
       "  </thead>\n",
       "  <tbody>\n",
       "    <tr>\n",
       "      <th>0</th>\n",
       "      <td>893567.2</td>\n",
       "      <td>376649.4</td>\n",
       "      <td>1270216.6</td>\n",
       "    </tr>\n",
       "  </tbody>\n",
       "</table>\n",
       "</div>"
      ],
      "text/plain": [
       "       free      paid      total\n",
       "0  893567.2  376649.4  1270216.6"
      ]
     },
     "execution_count": 7,
     "metadata": {},
     "output_type": "execute_result"
    }
   ],
   "source": [
    "gcoin.where((col(\"device\") == \"CONSOLE\") & (col(\"date\") >= \"2022-02-17\") & (col(\"date\") <= \"2022-02-23\") & (col(\"product_id\") == \"total\")).select((sum(\"free_gcoin_used\")/100).alias(\"free\"), (sum(\"paid_gcoin_used\")/100).alias(\"paid\"), ((sum(col(\"paid_gcoin_used\")+col(\"free_gcoin_used\"))/100).alias(\"total\"))).toPandas()"
   ]
  },
  {
   "cell_type": "code",
   "execution_count": null,
   "metadata": {},
   "outputs": [],
   "source": []
  }
 ],
 "metadata": {
  "kernelspec": {
   "display_name": "Python 3",
   "language": "python",
   "name": "python3"
  },
  "language_info": {
   "codemirror_mode": {
    "name": "ipython",
    "version": 3
   },
   "file_extension": ".py",
   "mimetype": "text/x-python",
   "name": "python",
   "nbconvert_exporter": "python",
   "pygments_lexer": "ipython3",
   "version": "3.6.7"
  }
 },
 "nbformat": 4,
 "nbformat_minor": 4
}
