{
 "cells": [
  {
   "cell_type": "code",
   "execution_count": 64,
   "metadata": {},
   "outputs": [
    {
     "name": "stdout",
     "output_type": "stream",
     "text": [
      "Spark cluster not assigned. creating a new one...\n",
      "Node spec: 4 executors with 48G RAM each\n",
      "Job Port 4049 is assigned for requested cluster\n",
      "Waiting for Spark master to be available...\n",
      "Spark master launched!\n",
      "Creating new Spark session, name: west0_sales...\n",
      "Waiting for all executors ready...\n",
      "All executors connected!\n",
      "Complete! elapsed time: 00:00:24\n"
     ]
    }
   ],
   "source": [
    "from pubg_util import mysql, load_schema, notifier\n",
    "from sphynx import sphynx, NODE_SMALL, NODE_MEDIUM, NODE_LARGE\n",
    "from pyspark.sql.functions import *\n",
    "import pandas as pd\n",
    "import pickle\n",
    "\n",
    "spark = sphynx.get_spark(executor_count=4, app_name='west0_sales', node_spec=NODE_LARGE)"
   ]
  },
  {
   "cell_type": "code",
   "execution_count": 84,
   "metadata": {},
   "outputs": [
    {
     "name": "stdout",
     "output_type": "stream",
     "text": [
      "Stopping Spark session...\n",
      "Destroying Spark cluster...\n",
      "Done!\n",
      "You can safely ignore the warning message if there is any.\n"
     ]
    }
   ],
   "source": [
    "sphynx.stop()"
   ]
  },
  {
   "cell_type": "code",
   "execution_count": 4,
   "metadata": {},
   "outputs": [],
   "source": [
    "pc_pcs5_start_date = \"2021-09-08\"\n",
    "pc_pcs5_end_date = \"2021-09-30\"\n",
    "console_pcs5_start_date = \"2021-09-16\"\n",
    "console_pcs5_end_date = \"2021-10-20\"\n",
    "\n",
    "pgc2021_start_date = \"2021-11-12\"\n",
    "pgc2021_end_date = \"2021-12-18\""
   ]
  },
  {
   "cell_type": "code",
   "execution_count": 63,
   "metadata": {},
   "outputs": [],
   "source": [
    "pc_pcs1_start_date = \"2020-06-17\"\n",
    "pc_pcs1_end_date = \"2020-07-02\"\n",
    "console_pcs1_start_date = \"2020-06-23\"\n",
    "console_pcs1_end_date = \"2020-07-02\"\n",
    "\n",
    "pc_pcs2_start_date = \"2020-08-19\"\n",
    "pc_pcs2_end_date = \"2020-09-08\"\n",
    "console_pcs2_start_date = \"2020-08-27\"\n",
    "console_pcs2_end_date = \"2020-09-10\"\n",
    "\n",
    "pc_pcs3_start_date = \"2020-10-28\"\n",
    "pc_pcs3_end_date = \"2020-11-19\"\n",
    "console_pcs3_start_date = \"2020-10-29\"\n",
    "console_pcs3_end_date = \"2020-11-19\"\n",
    "\n",
    "pc_pcs4_start_date = \"2021-06-02\"\n",
    "pc_pcs4_end_date = \"2021-06-24\"\n",
    "console_pcs4_start_date = \"2021-06-10\"\n",
    "console_pcs4_end_date = \"2021-07-14\""
   ]
  },
  {
   "cell_type": "code",
   "execution_count": 72,
   "metadata": {},
   "outputs": [],
   "source": [
    "def get_pcs_paid_kpi(device, start_date, end_date):\n",
    "    gcoin = pre_load_data_mart(device, start_date, end_date, \"gcoin_use\").where(col(\"event_name\").like(\"%pcs%\"))\n",
    "    return gcoin.where(col(\"paid_use\") > 0).select(countDistinct(\"account_id\").alias(\"paid_pu\"), sum(\"paid_use\").alias(\"paid_use\")).show(truncate=False)"
   ]
  },
  {
   "cell_type": "code",
   "execution_count": 74,
   "metadata": {},
   "outputs": [
    {
     "name": "stdout",
     "output_type": "stream",
     "text": [
      "+-------+---------+\n",
      "|paid_pu|paid_use |\n",
      "+-------+---------+\n",
      "|120313 |204457500|\n",
      "+-------+---------+\n",
      "\n"
     ]
    }
   ],
   "source": [
    "get_pcs_paid_kpi(\"pc\", pc_pcs3_start_date, pc_pcs3_end_date)"
   ]
  },
  {
   "cell_type": "code",
   "execution_count": 75,
   "metadata": {},
   "outputs": [
    {
     "name": "stdout",
     "output_type": "stream",
     "text": [
      "+-------+--------+\n",
      "|paid_pu|paid_use|\n",
      "+-------+--------+\n",
      "|9038   |13717270|\n",
      "+-------+--------+\n",
      "\n"
     ]
    }
   ],
   "source": [
    "get_pcs_paid_kpi(\"console\", console_pcs3_start_date, console_pcs3_end_date)"
   ]
  },
  {
   "cell_type": "code",
   "execution_count": 81,
   "metadata": {},
   "outputs": [
    {
     "name": "stdout",
     "output_type": "stream",
     "text": [
      "+--------------------------+--------------------------+-------------+\n",
      "|count(DISTINCT account_id)|sum((free_use + paid_use))|sum(paid_use)|\n",
      "+--------------------------+--------------------------+-------------+\n",
      "|9990                      |17173990                  |13717270     |\n",
      "+--------------------------+--------------------------+-------------+\n",
      "\n"
     ]
    }
   ],
   "source": [
    "pre_load_data_mart(\"console\", console_pcs3_start_date, console_pcs3_end_date, \"gcoin_use\").where(col(\"event_name\").like(\"%pcs%\")).select(countDistinct(\"account_id\"), sum(col(\"free_use\") + col(\"paid_use\")), sum(\"paid_use\")).show(truncate=False)"
   ]
  },
  {
   "cell_type": "code",
   "execution_count": 76,
   "metadata": {},
   "outputs": [
    {
     "name": "stdout",
     "output_type": "stream",
     "text": [
      "+-------+---------+\n",
      "|paid_pu|paid_use |\n",
      "+-------+---------+\n",
      "|82231  |116746050|\n",
      "+-------+---------+\n",
      "\n"
     ]
    }
   ],
   "source": [
    "get_pcs_paid_kpi(\"pc\", pc_pcs4_start_date, pc_pcs4_end_date)"
   ]
  },
  {
   "cell_type": "code",
   "execution_count": 77,
   "metadata": {},
   "outputs": [
    {
     "name": "stdout",
     "output_type": "stream",
     "text": [
      "+-------+--------+\n",
      "|paid_pu|paid_use|\n",
      "+-------+--------+\n",
      "|11416  |14927960|\n",
      "+-------+--------+\n",
      "\n"
     ]
    }
   ],
   "source": [
    "get_pcs_paid_kpi(\"console\", console_pcs4_start_date, console_pcs4_end_date)"
   ]
  },
  {
   "cell_type": "code",
   "execution_count": 83,
   "metadata": {},
   "outputs": [
    {
     "name": "stdout",
     "output_type": "stream",
     "text": [
      "+-------------------------+\n",
      "|count(DISTINCT accountid)|\n",
      "+-------------------------+\n",
      "|                  1085232|\n",
      "+-------------------------+\n",
      "\n"
     ]
    }
   ],
   "source": [
    "pre_load_data_mart(\"console\", console_pcs4_end_date, console_pcs4_end_date, \"user_master\").where(col(\"lastlogindate\") >= console_pcs4_start_date).select(countDistinct(\"accountid\")).show()"
   ]
  },
  {
   "cell_type": "code",
   "execution_count": 82,
   "metadata": {},
   "outputs": [
    {
     "name": "stdout",
     "output_type": "stream",
     "text": [
      "+--------------------------+--------------------------+-------------+\n",
      "|count(DISTINCT account_id)|sum((free_use + paid_use))|sum(paid_use)|\n",
      "+--------------------------+--------------------------+-------------+\n",
      "|11982                     |16827030                  |14927960     |\n",
      "+--------------------------+--------------------------+-------------+\n",
      "\n"
     ]
    }
   ],
   "source": [
    "pre_load_data_mart(\"console\", console_pcs4_start_date, console_pcs4_end_date, \"gcoin_use\").where(col(\"event_name\").like(\"%pcs%\")).select(countDistinct(\"account_id\"), sum(col(\"free_use\") + col(\"paid_use\")), sum(\"paid_use\")).show(truncate=False)"
   ]
  },
  {
   "cell_type": "code",
   "execution_count": 5,
   "metadata": {},
   "outputs": [],
   "source": [
    "pc_pcs5_gcoin = load_data_mart(\"pc\", pc_pcs5_start_date, pc_pcs5_end_date, \"gcoin_use\").where(col(\"event_name\").like(\"%pcs%\"))\n",
    "console_pcs5_gcoin = load_data_mart(\"console\", console_pcs5_start_date, console_pcs5_end_date, \"gcoin_use\").where(col(\"event_name\").like(\"%pcs%\"))\n",
    "\n",
    "pc_pgc2021_gcoin = load_data_mart(\"pc\", pgc2021_start_date, pgc2021_end_date, \"gcoin_use\").where(col(\"event_name\").like(\"%pgc%\"))\n",
    "console_pgc2021_gcoin = load_data_mart(\"console\", pgc2021_start_date, pgc2021_end_date, \"gcoin_use\").where(col(\"event_name\").like(\"%pgc%\"))"
   ]
  },
  {
   "cell_type": "code",
   "execution_count": 59,
   "metadata": {},
   "outputs": [],
   "source": [
    "from pyspark.sql.types import * \n",
    "\n",
    "def classify_country(country_os, country_ip):\n",
    "    if country_os != 'CN':\n",
    "        return country_ip\n",
    "    else:\n",
    "        return country_os\n",
    "\n",
    "country_type_udf = udf(classify_country, StringType())\n",
    "meta_region = mysql.read_table(spark, 'metainfo', 'meta_bi_regions')"
   ]
  },
  {
   "cell_type": "code",
   "execution_count": 15,
   "metadata": {},
   "outputs": [],
   "source": [
    "pc_pcs5_user = load_data_mart(\"pc\", pc_pcs5_end_date, pc_pcs5_end_date, \"user_master\").where(col(\"lastlogindate\") >= pc_pcs5_start_date)\n",
    "pc_pcs5_user = pc_pcs5_user.withColumn(\"country_new\", country_type_udf(\"country_os\", \"country_ip\"))\n",
    "pc_pcs5_user = pc_pcs5_user.join(meta_region, pc_pcs5_user.country_new == meta_region.country_code_iso2, \"left\")\n",
    "\n",
    "console_pcs5_user = load_data_mart(\"console\", console_pcs5_end_date, console_pcs5_end_date, \"user_master\").where(col(\"lastlogindate\") >= console_pcs5_start_date)\n",
    "console_pcs5_user = console_pcs5_user.withColumn(\"country_new\", country_type_udf(\"country_os\", \"country_ip\"))\n",
    "console_pcs5_user = console_pcs5_user.join(meta_region, console_pcs5_user.country_new == meta_region.country_code_iso2, \"left\")"
   ]
  },
  {
   "cell_type": "code",
   "execution_count": 27,
   "metadata": {},
   "outputs": [],
   "source": [
    "pc_pgc2021_user = load_data_mart(\"pc\", pgc2021_end_date, pgc2021_end_date, \"user_master\").where(col(\"lastlogindate\") >= pgc2021_start_date)\n",
    "pc_pgc2021_user = pc_pgc2021_user.withColumn(\"country_new\", country_type_udf(\"country_os\", \"country_ip\"))\n",
    "pc_pgc2021_user = pc_pgc2021_user.join(meta_region, pc_pgc2021_user.country_new == meta_region.country_code_iso2, \"left\")\n",
    "\n",
    "console_pgc2021_user = load_data_mart(\"console\", pgc2021_end_date, pgc2021_end_date, \"user_master\").where(col(\"lastlogindate\") >= pgc2021_start_date)\n",
    "console_pgc2021_user = console_pgc2021_user.withColumn(\"country_new\", country_type_udf(\"country_os\", \"country_ip\"))\n",
    "console_pgc2021_user = console_pgc2021_user.join(meta_region, console_pgc2021_user.country_new == meta_region.country_code_iso2, \"left\")"
   ]
  },
  {
   "cell_type": "code",
   "execution_count": 19,
   "metadata": {},
   "outputs": [],
   "source": [
    "pc_pcs5_user = pc_pcs5_user.withColumnRenamed(\"accountid\", \"account_id\")\n",
    "pc_pcs5_gcoin = pc_pcs5_gcoin.join(pc_pcs5_user.select(\"account_id\", \"pubg_region\"), \"account_id\")\n",
    "\n",
    "console_pcs5_user = console_pcs5_user.withColumnRenamed(\"accountid\", \"account_id\")\n",
    "console_pcs5_gcoin = console_pcs5_gcoin.join(console_pcs5_user.select(\"account_id\", \"pubg_region\"), \"account_id\")"
   ]
  },
  {
   "cell_type": "code",
   "execution_count": 28,
   "metadata": {},
   "outputs": [],
   "source": [
    "pc_pgc2021_user = pc_pgc2021_user.withColumnRenamed(\"accountid\", \"account_id\")\n",
    "pc_pgc2021_gcoin = pc_pgc2021_gcoin.join(pc_pgc2021_user.select(\"account_id\", \"pubg_region\"), \"account_id\")\n",
    "\n",
    "console_pgc2021_user = console_pgc2021_user.withColumnRenamed(\"accountid\", \"account_id\")\n",
    "console_pgc2021_gcoin = console_pgc2021_gcoin.join(console_pgc2021_user.select(\"account_id\", \"pubg_region\"), \"account_id\")"
   ]
  },
  {
   "cell_type": "markdown",
   "metadata": {},
   "source": [
    "## PCS5"
   ]
  },
  {
   "cell_type": "markdown",
   "metadata": {},
   "source": [
    "### PC"
   ]
  },
  {
   "cell_type": "code",
   "execution_count": 17,
   "metadata": {},
   "outputs": [
    {
     "name": "stdout",
     "output_type": "stream",
     "text": [
      "+-----------+-------+\n",
      "|pubg_region|au     |\n",
      "+-----------+-------+\n",
      "|CN         |3576753|\n",
      "|NA         |134887 |\n",
      "|null       |1      |\n",
      "|SA         |93907  |\n",
      "|KR         |1116576|\n",
      "|SEA        |220259 |\n",
      "|Undefined  |97     |\n",
      "|JP         |23967  |\n",
      "|TW/HK      |46065  |\n",
      "|CIS        |217876 |\n",
      "|EMEA       |374403 |\n",
      "|OC         |31035  |\n",
      "+-----------+-------+\n",
      "\n"
     ]
    }
   ],
   "source": [
    "pc_pcs5_user.groupBy(\"pubg_region\").agg(countDistinct(\"accountid\").alias(\"au\")).show(truncate=False)"
   ]
  },
  {
   "cell_type": "code",
   "execution_count": 22,
   "metadata": {},
   "outputs": [
    {
     "name": "stdout",
     "output_type": "stream",
     "text": [
      "+-----------+------+---------+\n",
      "|pubg_region|pu    |total_use|\n",
      "+-----------+------+---------+\n",
      "|CN         |128873|234727220|\n",
      "|NA         |2173  |4233890  |\n",
      "|SA         |1864  |3040840  |\n",
      "|KR         |33547 |66805470 |\n",
      "|SEA        |9090  |16424010 |\n",
      "|JP         |589   |1319950  |\n",
      "|TW/HK      |1291  |2536750  |\n",
      "|CIS        |3160  |5090800  |\n",
      "|EMEA       |6562  |12470880 |\n",
      "|OC         |748   |1412660  |\n",
      "+-----------+------+---------+\n",
      "\n"
     ]
    }
   ],
   "source": [
    "pc_pcs5_gcoin.groupBy(\"pubg_region\").agg(countDistinct(\"account_id\").alias(\"pu\"), sum(col(\"free_use\") + col(\"paid_use\")).alias(\"total_use\")).show(truncate=False)"
   ]
  },
  {
   "cell_type": "code",
   "execution_count": 23,
   "metadata": {},
   "outputs": [
    {
     "name": "stdout",
     "output_type": "stream",
     "text": [
      "+-----------+-------+---------+\n",
      "|pubg_region|paid_pu|paid_use |\n",
      "+-----------+-------+---------+\n",
      "|CN         |112177 |178741490|\n",
      "|NA         |2076   |3725640  |\n",
      "|SA         |1609   |2205660  |\n",
      "|KR         |30867  |56143030 |\n",
      "|SEA        |7964   |11738140 |\n",
      "|JP         |570    |1164740  |\n",
      "|TW/HK      |1175   |2059520  |\n",
      "|CIS        |2830   |3881230  |\n",
      "|EMEA       |6174   |10537040 |\n",
      "|OC         |704    |1227790  |\n",
      "+-----------+-------+---------+\n",
      "\n"
     ]
    }
   ],
   "source": [
    "pc_pcs5_gcoin.where(col(\"paid_use\") > 0).groupBy(\"pubg_region\").agg(countDistinct(\"account_id\").alias(\"paid_pu\"), sum(col(\"paid_use\")).alias(\"paid_use\")).show(truncate=False)"
   ]
  },
  {
   "cell_type": "code",
   "execution_count": 6,
   "metadata": {},
   "outputs": [
    {
     "name": "stdout",
     "output_type": "stream",
     "text": [
      "+-------------+-------------+--------------------------+\n",
      "|sum(free_use)|sum(paid_use)|sum((free_use + paid_use))|\n",
      "+-------------+-------------+--------------------------+\n",
      "|76638190     |271424280    |348062470                 |\n",
      "+-------------+-------------+--------------------------+\n",
      "\n"
     ]
    }
   ],
   "source": [
    "pc_pcs5_gcoin.select(sum(\"free_use\"), sum(\"paid_use\"), sum(col(\"free_use\") + col(\"paid_use\"))).show(truncate=False)"
   ]
  },
  {
   "cell_type": "code",
   "execution_count": 7,
   "metadata": {},
   "outputs": [
    {
     "name": "stdout",
     "output_type": "stream",
     "text": [
      "+-------+\n",
      "|paid_pu|\n",
      "+-------+\n",
      "| 166146|\n",
      "+-------+\n",
      "\n"
     ]
    }
   ],
   "source": [
    "pc_pcs5_gcoin.where(col(\"paid_use\") > 0).select(countDistinct(\"account_id\").alias(\"paid_pu\")).show()"
   ]
  },
  {
   "cell_type": "markdown",
   "metadata": {},
   "source": [
    "### CONSOLE"
   ]
  },
  {
   "cell_type": "code",
   "execution_count": 18,
   "metadata": {},
   "outputs": [
    {
     "name": "stdout",
     "output_type": "stream",
     "text": [
      "+-----------+------+\n",
      "|pubg_region|au    |\n",
      "+-----------+------+\n",
      "|CN         |6294  |\n",
      "|NA         |502989|\n",
      "|SA         |133085|\n",
      "|KR         |5857  |\n",
      "|SEA        |9261  |\n",
      "|Undefined  |506   |\n",
      "|JP         |17520 |\n",
      "|TW/HK      |4209  |\n",
      "|CIS        |23143 |\n",
      "|EMEA       |221459|\n",
      "|OC         |28680 |\n",
      "+-----------+------+\n",
      "\n"
     ]
    }
   ],
   "source": [
    "console_pcs5_user.groupBy(\"pubg_region\").agg(countDistinct(\"accountid\").alias(\"au\")).show(truncate=False)"
   ]
  },
  {
   "cell_type": "code",
   "execution_count": 24,
   "metadata": {},
   "outputs": [
    {
     "name": "stdout",
     "output_type": "stream",
     "text": [
      "+-----------+----+---------+\n",
      "|pubg_region|pu  |total_use|\n",
      "+-----------+----+---------+\n",
      "|CN         |48  |95120    |\n",
      "|NA         |9633|12960030 |\n",
      "|SA         |1275|2203680  |\n",
      "|KR         |128 |226030   |\n",
      "|SEA        |84  |141260   |\n",
      "|JP         |481 |732650   |\n",
      "|TW/HK      |66  |131330   |\n",
      "|CIS        |180 |348810   |\n",
      "|EMEA       |2831|4513790  |\n",
      "|OC         |573 |758330   |\n",
      "+-----------+----+---------+\n",
      "\n"
     ]
    }
   ],
   "source": [
    "console_pcs5_gcoin.groupBy(\"pubg_region\").agg(countDistinct(\"account_id\").alias(\"pu\"), sum(col(\"free_use\") + col(\"paid_use\")).alias(\"total_use\")).show(truncate=False)"
   ]
  },
  {
   "cell_type": "code",
   "execution_count": 25,
   "metadata": {},
   "outputs": [
    {
     "name": "stdout",
     "output_type": "stream",
     "text": [
      "+-----------+-------+--------+\n",
      "|pubg_region|paid_pu|paid_use|\n",
      "+-----------+-------+--------+\n",
      "|CN         |47     |83720   |\n",
      "|NA         |9218   |11633340|\n",
      "|SA         |1244   |2026960 |\n",
      "|KR         |123    |202170  |\n",
      "|SEA        |82     |126870  |\n",
      "|JP         |454    |641750  |\n",
      "|TW/HK      |62     |113900  |\n",
      "|CIS        |176    |322930  |\n",
      "|EMEA       |2735   |4108680 |\n",
      "|OC         |555    |689280  |\n",
      "+-----------+-------+--------+\n",
      "\n"
     ]
    }
   ],
   "source": [
    "console_pcs5_gcoin.where(col(\"paid_use\") > 0).groupBy(\"pubg_region\").agg(countDistinct(\"account_id\").alias(\"paid_pu\"), sum(col(\"paid_use\")).alias(\"paid_use\")).show(truncate=False)"
   ]
  },
  {
   "cell_type": "code",
   "execution_count": 8,
   "metadata": {},
   "outputs": [
    {
     "name": "stdout",
     "output_type": "stream",
     "text": [
      "+-------------+-------------+--------------------------+\n",
      "|sum(free_use)|sum(paid_use)|sum((free_use + paid_use))|\n",
      "+-------------+-------------+--------------------------+\n",
      "|2161430      |19949600     |22111030                  |\n",
      "+-------------+-------------+--------------------------+\n",
      "\n"
     ]
    }
   ],
   "source": [
    "console_pcs5_gcoin.select(sum(\"free_use\"), sum(\"paid_use\"), sum(col(\"free_use\") + col(\"paid_use\"))).show(truncate=False)"
   ]
  },
  {
   "cell_type": "code",
   "execution_count": 9,
   "metadata": {},
   "outputs": [
    {
     "name": "stdout",
     "output_type": "stream",
     "text": [
      "+-------+\n",
      "|paid_pu|\n",
      "+-------+\n",
      "|  14696|\n",
      "+-------+\n",
      "\n"
     ]
    }
   ],
   "source": [
    "console_pcs5_gcoin.where(col(\"paid_use\") > 0).select(countDistinct(\"account_id\").alias(\"paid_pu\")).show()"
   ]
  },
  {
   "cell_type": "markdown",
   "metadata": {},
   "source": [
    "## PGC 2021"
   ]
  },
  {
   "cell_type": "markdown",
   "metadata": {},
   "source": [
    "### PC"
   ]
  },
  {
   "cell_type": "code",
   "execution_count": 30,
   "metadata": {},
   "outputs": [
    {
     "name": "stdout",
     "output_type": "stream",
     "text": [
      "+-----------+-------+\n",
      "|pubg_region|au     |\n",
      "+-----------+-------+\n",
      "|CN         |3759401|\n",
      "|NA         |151684 |\n",
      "|SA         |110431 |\n",
      "|KR         |1372092|\n",
      "|SEA        |249255 |\n",
      "|Undefined  |172    |\n",
      "|JP         |26079  |\n",
      "|TW/HK      |52045  |\n",
      "|CIS        |297852 |\n",
      "|EMEA       |468838 |\n",
      "|OC         |26975  |\n",
      "+-----------+-------+\n",
      "\n"
     ]
    }
   ],
   "source": [
    "pc_pgc2021_user.groupBy(\"pubg_region\").agg(countDistinct(\"account_id\").alias(\"au\")).show(truncate=False)"
   ]
  },
  {
   "cell_type": "code",
   "execution_count": 31,
   "metadata": {},
   "outputs": [
    {
     "name": "stdout",
     "output_type": "stream",
     "text": [
      "+-----------+------+---------+\n",
      "|pubg_region|pu    |total_use|\n",
      "+-----------+------+---------+\n",
      "|CN         |199891|949379860|\n",
      "|NA         |3159  |12718410 |\n",
      "|SA         |1894  |8085310  |\n",
      "|KR         |56946 |248751260|\n",
      "|SEA        |9859  |47873400 |\n",
      "|JP         |688   |3085020  |\n",
      "|TW/HK      |1890  |8898900  |\n",
      "|CIS        |4637  |17815910 |\n",
      "|EMEA       |8557  |37180560 |\n",
      "|OC         |888   |3831050  |\n",
      "+-----------+------+---------+\n",
      "\n"
     ]
    }
   ],
   "source": [
    "pc_pgc2021_gcoin.groupBy(\"pubg_region\").agg(countDistinct(\"account_id\").alias(\"pu\"), sum(col(\"free_use\") + col(\"paid_use\")).alias(\"total_use\")).show(truncate=False)"
   ]
  },
  {
   "cell_type": "code",
   "execution_count": 32,
   "metadata": {},
   "outputs": [
    {
     "name": "stdout",
     "output_type": "stream",
     "text": [
      "+-----------+-------+---------+\n",
      "|pubg_region|paid_pu|paid_use |\n",
      "+-----------+-------+---------+\n",
      "|CN         |189450 |659925595|\n",
      "|NA         |3016   |9268630  |\n",
      "|SA         |1757   |5055260  |\n",
      "|KR         |54049  |179230860|\n",
      "|SEA        |9486   |31373950 |\n",
      "|JP         |655    |2290750  |\n",
      "|TW/HK      |1796   |6498140  |\n",
      "|CIS        |4268   |11640690 |\n",
      "|EMEA       |8221   |25635040 |\n",
      "|OC         |850    |2848150  |\n",
      "+-----------+-------+---------+\n",
      "\n"
     ]
    }
   ],
   "source": [
    "pc_pgc2021_gcoin.where(col(\"paid_use\") > 0).groupBy(\"pubg_region\").agg(countDistinct(\"account_id\").alias(\"paid_pu\"), sum(col(\"paid_use\")).alias(\"paid_use\")).show(truncate=False)"
   ]
  },
  {
   "cell_type": "code",
   "execution_count": 10,
   "metadata": {},
   "outputs": [
    {
     "name": "stdout",
     "output_type": "stream",
     "text": [
      "+-------------+-------------+--------------------------+\n",
      "|sum(free_use)|sum(paid_use)|sum((free_use + paid_use))|\n",
      "+-------------+-------------+--------------------------+\n",
      "|403852615    |933767065    |1337619680                |\n",
      "+-------------+-------------+--------------------------+\n",
      "\n"
     ]
    }
   ],
   "source": [
    "pc_pgc2021_gcoin.select(sum(\"free_use\"), sum(\"paid_use\"), sum(col(\"free_use\") + col(\"paid_use\"))).show(truncate=False)"
   ]
  },
  {
   "cell_type": "code",
   "execution_count": 11,
   "metadata": {},
   "outputs": [
    {
     "name": "stdout",
     "output_type": "stream",
     "text": [
      "+-------+\n",
      "|paid_pu|\n",
      "+-------+\n",
      "| 273548|\n",
      "+-------+\n",
      "\n"
     ]
    }
   ],
   "source": [
    "pc_pgc2021_gcoin.where(col(\"paid_use\") > 0).select(countDistinct(\"account_id\").alias(\"paid_pu\")).show()"
   ]
  },
  {
   "cell_type": "markdown",
   "metadata": {},
   "source": [
    "### CONSOLE"
   ]
  },
  {
   "cell_type": "code",
   "execution_count": 33,
   "metadata": {},
   "outputs": [
    {
     "name": "stdout",
     "output_type": "stream",
     "text": [
      "+-----------+------+\n",
      "|pubg_region|au    |\n",
      "+-----------+------+\n",
      "|CN         |6502  |\n",
      "|NA         |537764|\n",
      "|null       |1     |\n",
      "|SA         |135219|\n",
      "|KR         |5543  |\n",
      "|SEA        |8381  |\n",
      "|Undefined  |454   |\n",
      "|JP         |15807 |\n",
      "|TW/HK      |3464  |\n",
      "|CIS        |26849 |\n",
      "|EMEA       |227671|\n",
      "|OC         |24498 |\n",
      "+-----------+------+\n",
      "\n"
     ]
    }
   ],
   "source": [
    "console_pgc2021_user.groupBy(\"pubg_region\").agg(countDistinct(\"account_id\").alias(\"au\")).show(truncate=False)"
   ]
  },
  {
   "cell_type": "code",
   "execution_count": 34,
   "metadata": {},
   "outputs": [
    {
     "name": "stdout",
     "output_type": "stream",
     "text": [
      "+-----------+-----+---------+\n",
      "|pubg_region|pu   |total_use|\n",
      "+-----------+-----+---------+\n",
      "|CN         |59   |247170   |\n",
      "|NA         |10886|28239960 |\n",
      "|SA         |1446 |4945550  |\n",
      "|KR         |138  |531990   |\n",
      "|SEA        |117  |333220   |\n",
      "|JP         |564  |1780650  |\n",
      "|TW/HK      |93   |386010   |\n",
      "|CIS        |266  |801560   |\n",
      "|EMEA       |2949 |8728890  |\n",
      "|OC         |582  |1557380  |\n",
      "+-----------+-----+---------+\n",
      "\n"
     ]
    }
   ],
   "source": [
    "console_pgc2021_gcoin.groupBy(\"pubg_region\").agg(countDistinct(\"account_id\").alias(\"pu\"), sum(col(\"free_use\") + col(\"paid_use\")).alias(\"total_use\")).show(truncate=False)"
   ]
  },
  {
   "cell_type": "code",
   "execution_count": 35,
   "metadata": {},
   "outputs": [
    {
     "name": "stdout",
     "output_type": "stream",
     "text": [
      "+-----------+-------+--------+\n",
      "|pubg_region|paid_pu|paid_use|\n",
      "+-----------+-------+--------+\n",
      "|CN         |57     |165800  |\n",
      "|NA         |9764   |18704690|\n",
      "|SA         |1306   |3193230 |\n",
      "|KR         |122    |356220  |\n",
      "|SEA        |103    |219180  |\n",
      "|JP         |514    |1188280 |\n",
      "|TW/HK      |87     |263850  |\n",
      "|CIS        |237    |536030  |\n",
      "|EMEA       |2689   |5758190 |\n",
      "|OC         |526    |1029810 |\n",
      "+-----------+-------+--------+\n",
      "\n"
     ]
    }
   ],
   "source": [
    "console_pgc2021_gcoin.where(col(\"paid_use\") > 0).groupBy(\"pubg_region\").agg(countDistinct(\"account_id\").alias(\"paid_pu\"), sum(col(\"paid_use\")).alias(\"paid_use\")).show(truncate=False)"
   ]
  },
  {
   "cell_type": "code",
   "execution_count": 12,
   "metadata": {},
   "outputs": [
    {
     "name": "stdout",
     "output_type": "stream",
     "text": [
      "+-------------+-------------+--------------------------+\n",
      "|sum(free_use)|sum(paid_use)|sum((free_use + paid_use))|\n",
      "+-------------+-------------+--------------------------+\n",
      "|16137100     |31415280     |47552380                  |\n",
      "+-------------+-------------+--------------------------+\n",
      "\n"
     ]
    }
   ],
   "source": [
    "console_pgc2021_gcoin.select(sum(\"free_use\"), sum(\"paid_use\"), sum(col(\"free_use\") + col(\"paid_use\"))).show(truncate=False)"
   ]
  },
  {
   "cell_type": "code",
   "execution_count": 13,
   "metadata": {},
   "outputs": [
    {
     "name": "stdout",
     "output_type": "stream",
     "text": [
      "+-------+\n",
      "|paid_pu|\n",
      "+-------+\n",
      "|  15405|\n",
      "+-------+\n",
      "\n"
     ]
    }
   ],
   "source": [
    "console_pgc2021_gcoin.where(col(\"paid_use\") > 0).select(countDistinct(\"account_id\").alias(\"paid_pu\")).show()"
   ]
  },
  {
   "cell_type": "markdown",
   "metadata": {},
   "source": [
    "## PCS6"
   ]
  },
  {
   "cell_type": "code",
   "execution_count": 36,
   "metadata": {},
   "outputs": [],
   "source": [
    "pc_pcs6_start_date = \"2022-03-16\"\n",
    "pc_pcs6_end_date = \"2022-05-06\"\n",
    "console_pcs6_start_date = \"2022-03-24\"\n",
    "console_pcs6_end_date = \"2022-05-06\""
   ]
  },
  {
   "cell_type": "code",
   "execution_count": 37,
   "metadata": {},
   "outputs": [],
   "source": [
    "pc_pcs6_gcoin = load_data_mart(\"pc\", pc_pcs6_start_date, pc_pcs6_end_date, \"gcoin_use\").where(col(\"event_name\").like(\"%pcs%\"))\n",
    "console_pcs6_gcoin = load_data_mart(\"console\", console_pcs6_start_date, console_pcs6_end_date, \"gcoin_use\").where(col(\"event_name\").like(\"%pcs%\"))"
   ]
  },
  {
   "cell_type": "code",
   "execution_count": 38,
   "metadata": {},
   "outputs": [],
   "source": [
    "pc_pcs6_user = load_data_mart(\"pc\", pc_pcs6_end_date, pc_pcs6_end_date, \"user_master\").where(col(\"lastlogindate\") >= pc_pcs6_start_date)\n",
    "pc_pcs6_user = pc_pcs6_user.withColumn(\"country_new\", country_type_udf(\"country_os\", \"country_ip\"))\n",
    "pc_pcs6_user = pc_pcs6_user.join(meta_region, pc_pcs6_user.country_new == meta_region.country_code_iso2, \"left\")\n",
    "\n",
    "console_pcs6_user = load_data_mart(\"console\", console_pcs6_end_date, console_pcs6_end_date, \"user_master\").where(col(\"lastlogindate\") >= console_pcs6_start_date)\n",
    "console_pcs6_user = console_pcs6_user.withColumn(\"country_new\", country_type_udf(\"country_os\", \"country_ip\"))\n",
    "console_pcs6_user = console_pcs6_user.join(meta_region, console_pcs6_user.country_new == meta_region.country_code_iso2, \"left\")"
   ]
  },
  {
   "cell_type": "code",
   "execution_count": 40,
   "metadata": {},
   "outputs": [],
   "source": [
    "pc_pcs6_user = pc_pcs6_user.withColumnRenamed(\"accountid\", \"account_id\")\n",
    "pc_pcs6_gcoin = pc_pcs6_gcoin.join(pc_pcs6_user.select(\"account_id\", \"pubg_region\"), \"account_id\")\n",
    "\n",
    "console_pcs6_user = console_pcs6_user.withColumnRenamed(\"accountid\", \"account_id\")\n",
    "console_pcs6_gcoin = console_pcs6_gcoin.join(console_pcs6_user.select(\"account_id\", \"pubg_region\"), \"account_id\")"
   ]
  },
  {
   "cell_type": "code",
   "execution_count": 47,
   "metadata": {},
   "outputs": [],
   "source": [
    "pc_pcs6_membership = load_membership(\"pubg\", \"pc\", pc_pcs6_end_date, pc_pcs6_end_date).select(\"account_id\", \"membership\").distinct()\n",
    "console_pcs6_membership = load_membership(\"pubg\", \"console\", console_pcs6_end_date, console_pcs6_end_date).select(\"account_id\", \"membership\").distinct()"
   ]
  },
  {
   "cell_type": "code",
   "execution_count": 48,
   "metadata": {},
   "outputs": [],
   "source": [
    "pc_pcs6_gcoin = pc_pcs6_gcoin.join(pc_pcs6_membership, \"account_id\")\n",
    "console_pcs6_gcoin = console_pcs6_gcoin.join(console_pcs6_membership, \"account_id\")"
   ]
  },
  {
   "cell_type": "code",
   "execution_count": 51,
   "metadata": {},
   "outputs": [],
   "source": [
    "pc_pcs6_user = pc_pcs6_user.join(pc_pcs6_membership, \"account_id\")\n",
    "console_pcs6_user = console_pcs6_user.join(console_pcs6_membership, \"account_id\")"
   ]
  },
  {
   "cell_type": "markdown",
   "metadata": {},
   "source": [
    "### PC"
   ]
  },
  {
   "cell_type": "code",
   "execution_count": 41,
   "metadata": {},
   "outputs": [
    {
     "name": "stdout",
     "output_type": "stream",
     "text": [
      "+-----------+-------+\n",
      "|pubg_region|au     |\n",
      "+-----------+-------+\n",
      "|CN         |8845877|\n",
      "|NA         |457574 |\n",
      "|null       |2      |\n",
      "|SA         |421949 |\n",
      "|KR         |1727283|\n",
      "|SEA        |711910 |\n",
      "|Undefined  |2517   |\n",
      "|JP         |63022  |\n",
      "|TW/HK      |123303 |\n",
      "|CIS        |1204593|\n",
      "|EMEA       |1407592|\n",
      "|OC         |62663  |\n",
      "+-----------+-------+\n",
      "\n"
     ]
    }
   ],
   "source": [
    "pc_pcs6_user.groupBy(\"pubg_region\").agg(countDistinct(\"account_id\").alias(\"au\")).show(truncate=False)"
   ]
  },
  {
   "cell_type": "code",
   "execution_count": 42,
   "metadata": {},
   "outputs": [
    {
     "name": "stdout",
     "output_type": "stream",
     "text": [
      "+-----------+-----+---------+\n",
      "|pubg_region|pu   |total_use|\n",
      "+-----------+-----+---------+\n",
      "|CN         |84583|134979320|\n",
      "|NA         |4309 |6870730  |\n",
      "|SA         |4255 |5603320  |\n",
      "|KR         |25375|39829890 |\n",
      "|SEA        |7144 |10171210 |\n",
      "|JP         |476  |868270   |\n",
      "|TW/HK      |1246 |2131520  |\n",
      "|CIS        |10793|11652990 |\n",
      "|EMEA       |15413|21982000 |\n",
      "|OC         |824  |1417040  |\n",
      "+-----------+-----+---------+\n",
      "\n"
     ]
    }
   ],
   "source": [
    "pc_pcs6_gcoin.groupBy(\"pubg_region\").agg(countDistinct(\"account_id\").alias(\"pu\"), sum(col(\"free_use\") + col(\"paid_use\")).alias(\"total_use\")).show(truncate=False)"
   ]
  },
  {
   "cell_type": "code",
   "execution_count": 43,
   "metadata": {},
   "outputs": [
    {
     "name": "stdout",
     "output_type": "stream",
     "text": [
      "+-----------+-----+--------+\n",
      "|pubg_region|pu   |paid_use|\n",
      "+-----------+-----+--------+\n",
      "|CN         |52879|85301235|\n",
      "|NA         |2724 |4402320 |\n",
      "|SA         |1800 |2204920 |\n",
      "|KR         |15987|26471160|\n",
      "|SEA        |3914 |5405820 |\n",
      "|JP         |291  |542390  |\n",
      "|TW/HK      |741  |1347020 |\n",
      "|CIS        |2697 |2909391 |\n",
      "|EMEA       |7602 |11139990|\n",
      "|OC         |547  |947610  |\n",
      "+-----------+-----+--------+\n",
      "\n"
     ]
    }
   ],
   "source": [
    "pc_pcs6_gcoin.where(col(\"paid_use\") > 0).groupBy(\"pubg_region\").agg(countDistinct(\"account_id\").alias(\"pu\"), sum(col(\"paid_use\")).alias(\"paid_use\")).show(truncate=False)"
   ]
  },
  {
   "cell_type": "code",
   "execution_count": 52,
   "metadata": {},
   "outputs": [
    {
     "name": "stdout",
     "output_type": "stream",
     "text": [
      "+----------+-------+\n",
      "|membership|au     |\n",
      "+----------+-------+\n",
      "|plus      |197802 |\n",
      "|basic     |7901193|\n",
      "|legacy    |6854020|\n",
      "+----------+-------+\n",
      "\n"
     ]
    }
   ],
   "source": [
    "pc_pcs6_user.groupBy(\"membership\").agg(countDistinct(\"account_id\").alias(\"au\")).show(truncate=False)"
   ]
  },
  {
   "cell_type": "code",
   "execution_count": 50,
   "metadata": {},
   "outputs": [
    {
     "name": "stdout",
     "output_type": "stream",
     "text": [
      "+----------+------+---------+------------------+\n",
      "|membership|pu    |total    |arppu             |\n",
      "+----------+------+---------+------------------+\n",
      "|plus      |12602 |210645.4 |16.715235676876684|\n",
      "|basic     |8257  |82471.0  |9.988010173186387 |\n",
      "|legacy    |133559|2061946.5|15.438469140978894|\n",
      "+----------+------+---------+------------------+\n",
      "\n"
     ]
    }
   ],
   "source": [
    "pc_pcs6_gcoin.groupBy(\"membership\").agg(countDistinct(\"account_id\").alias(\"pu\"), (sum(col(\"paid_use\") + col(\"free_use\"))/100).alias(\"total\")).withColumn(\"arppu\", col(\"total\")/col(\"pu\")).show(truncate=False)"
   ]
  },
  {
   "cell_type": "code",
   "execution_count": 53,
   "metadata": {},
   "outputs": [
    {
     "name": "stdout",
     "output_type": "stream",
     "text": [
      "+----------+-------+----------+------------------+\n",
      "|membership|paid_pu|paid      |arppu             |\n",
      "+----------+-------+----------+------------------+\n",
      "|plus      |8569   |136281.0  |15.903956120900922|\n",
      "|basic     |3803   |47044.6   |12.370391795950566|\n",
      "|legacy    |76810  |1223392.96|15.927521937247754|\n",
      "+----------+-------+----------+------------------+\n",
      "\n"
     ]
    }
   ],
   "source": [
    "pc_pcs6_gcoin.where(col(\"paid_use\") > 0).groupBy(\"membership\").agg(countDistinct(\"account_id\").alias(\"paid_pu\"), (sum(col(\"paid_use\"))/100).alias(\"paid\")).withColumn(\"arppu\", col(\"paid\")/col(\"paid_pu\")).show(truncate=False)"
   ]
  },
  {
   "cell_type": "markdown",
   "metadata": {},
   "source": [
    "### CONSOLE"
   ]
  },
  {
   "cell_type": "code",
   "execution_count": 44,
   "metadata": {},
   "outputs": [
    {
     "name": "stdout",
     "output_type": "stream",
     "text": [
      "+-----------+------+\n",
      "|pubg_region|au    |\n",
      "+-----------+------+\n",
      "|CN         |23281 |\n",
      "|NA         |904545|\n",
      "|null       |3     |\n",
      "|SA         |392697|\n",
      "|KR         |9455  |\n",
      "|SEA        |44461 |\n",
      "|Undefined  |783   |\n",
      "|JP         |32441 |\n",
      "|TW/HK      |8900  |\n",
      "|CIS        |95850 |\n",
      "|EMEA       |636935|\n",
      "|OC         |44418 |\n",
      "+-----------+------+\n",
      "\n"
     ]
    }
   ],
   "source": [
    "console_pcs6_user.groupBy(\"pubg_region\").agg(countDistinct(\"account_id\").alias(\"au\")).show(truncate=False)"
   ]
  },
  {
   "cell_type": "code",
   "execution_count": 45,
   "metadata": {},
   "outputs": [
    {
     "name": "stdout",
     "output_type": "stream",
     "text": [
      "+-----------+-----+---------+\n",
      "|pubg_region|pu   |total_use|\n",
      "+-----------+-----+---------+\n",
      "|CN         |83   |140720   |\n",
      "|NA         |12839|17310790 |\n",
      "|SA         |2850 |3592430  |\n",
      "|KR         |107  |152230   |\n",
      "|SEA        |109  |156590   |\n",
      "|JP         |356  |565060   |\n",
      "|TW/HK      |68   |89240    |\n",
      "|CIS        |281  |325000   |\n",
      "|EMEA       |4729 |6432160  |\n",
      "|OC         |674  |923060   |\n",
      "+-----------+-----+---------+\n",
      "\n"
     ]
    }
   ],
   "source": [
    "console_pcs6_gcoin.groupBy(\"pubg_region\").agg(countDistinct(\"account_id\").alias(\"pu\"), sum(col(\"free_use\") + col(\"paid_use\")).alias(\"total_use\")).show(truncate=False)"
   ]
  },
  {
   "cell_type": "code",
   "execution_count": 46,
   "metadata": {},
   "outputs": [
    {
     "name": "stdout",
     "output_type": "stream",
     "text": [
      "+-----------+----+--------+\n",
      "|pubg_region|pu  |paid_use|\n",
      "+-----------+----+--------+\n",
      "|CN         |52  |90240   |\n",
      "|NA         |7754|11092830|\n",
      "|SA         |1268|1721870 |\n",
      "|KR         |77  |108310  |\n",
      "|SEA        |67  |111460  |\n",
      "|JP         |274 |418290  |\n",
      "|TW/HK      |55  |67200   |\n",
      "|CIS        |66  |91210   |\n",
      "|EMEA       |2486|3678000 |\n",
      "|OC         |420 |596850  |\n",
      "+-----------+----+--------+\n",
      "\n"
     ]
    }
   ],
   "source": [
    "console_pcs6_gcoin.where(col(\"paid_use\") > 0).groupBy(\"pubg_region\").agg(countDistinct(\"account_id\").alias(\"pu\"), sum(col(\"paid_use\")).alias(\"paid_use\")).show(truncate=False)"
   ]
  },
  {
   "cell_type": "code",
   "execution_count": 54,
   "metadata": {},
   "outputs": [
    {
     "name": "stdout",
     "output_type": "stream",
     "text": [
      "+----------+-------+\n",
      "|membership|au     |\n",
      "+----------+-------+\n",
      "|plus      |29408  |\n",
      "|basic     |1426680|\n",
      "|legacy    |737681 |\n",
      "+----------+-------+\n",
      "\n"
     ]
    }
   ],
   "source": [
    "console_pcs6_user.groupBy(\"membership\").agg(countDistinct(\"account_id\").alias(\"au\")).show(truncate=False)"
   ]
  },
  {
   "cell_type": "code",
   "execution_count": 55,
   "metadata": {},
   "outputs": [
    {
     "name": "stdout",
     "output_type": "stream",
     "text": [
      "+----------+-----+--------+------------------+\n",
      "|membership|pu   |total   |arppu             |\n",
      "+----------+-----+--------+------------------+\n",
      "|plus      |2429 |36355.6 |14.967311650885136|\n",
      "|basic     |1403 |15934.3 |11.357305773342837|\n",
      "|legacy    |18264|244582.9|13.391529785370127|\n",
      "+----------+-----+--------+------------------+\n",
      "\n"
     ]
    }
   ],
   "source": [
    "console_pcs6_gcoin.groupBy(\"membership\").agg(countDistinct(\"account_id\").alias(\"pu\"), (sum(col(\"paid_use\") + col(\"free_use\"))/100).alias(\"total\")).withColumn(\"arppu\", col(\"total\")/col(\"pu\")).show(truncate=False)"
   ]
  },
  {
   "cell_type": "code",
   "execution_count": 56,
   "metadata": {},
   "outputs": [
    {
     "name": "stdout",
     "output_type": "stream",
     "text": [
      "+----------+-------+--------+------------------+\n",
      "|membership|paid_pu|paid    |arppu             |\n",
      "+----------+-------+--------+------------------+\n",
      "|plus      |1736   |25369.5 |14.613767281105991|\n",
      "|basic     |1110   |13148.1 |11.845135135135136|\n",
      "|legacy    |9673   |141245.0|14.601984906440608|\n",
      "+----------+-------+--------+------------------+\n",
      "\n"
     ]
    }
   ],
   "source": [
    "console_pcs6_gcoin.where(col(\"paid_use\") > 0).groupBy(\"membership\").agg(countDistinct(\"account_id\").alias(\"paid_pu\"), (sum(col(\"paid_use\"))/100).alias(\"paid\")).withColumn(\"arppu\", col(\"paid\")/col(\"paid_pu\")).show(truncate=False)"
   ]
  },
  {
   "cell_type": "code",
   "execution_count": null,
   "metadata": {},
   "outputs": [],
   "source": []
  }
 ],
 "metadata": {
  "kernelspec": {
   "display_name": "Python 3",
   "language": "python",
   "name": "python3"
  },
  "language_info": {
   "codemirror_mode": {
    "name": "ipython",
    "version": 3
   },
   "file_extension": ".py",
   "mimetype": "text/x-python",
   "name": "python",
   "nbconvert_exporter": "python",
   "pygments_lexer": "ipython3",
   "version": "3.6.7"
  }
 },
 "nbformat": 4,
 "nbformat_minor": 4
}
