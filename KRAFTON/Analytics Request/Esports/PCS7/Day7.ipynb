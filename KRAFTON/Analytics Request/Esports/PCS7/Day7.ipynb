{
 "cells": [
  {
   "cell_type": "code",
   "execution_count": 25,
   "metadata": {},
   "outputs": [
    {
     "name": "stdout",
     "output_type": "stream",
     "text": [
      "Spark cluster not assigned. creating a new one...\n",
      "Node spec: 4 executors with 48G RAM each\n",
      "Job Port 4049 is assigned for requested cluster\n",
      "Waiting for Spark master to be available...\n",
      "Spark master launched!\n",
      "Creating new Spark session, name: pcs7_day7...\n",
      "Waiting for all executors ready...\n",
      "All executors connected!\n",
      "Complete! elapsed time: 00:00:25\n"
     ]
    }
   ],
   "source": [
    "from pubg_util import mysql, load_schema, notifier\n",
    "from sphynx import sphynx, NODE_SMALL, NODE_MEDIUM, NODE_LARGE\n",
    "from pyspark.sql.functions import *\n",
    "import pandas as pd\n",
    "import pickle\n",
    "\n",
    "spark = sphynx.get_spark(executor_count=4, app_name='pcs7_day7', node_spec=NODE_LARGE)"
   ]
  },
  {
   "cell_type": "code",
   "execution_count": 24,
   "metadata": {},
   "outputs": [
    {
     "name": "stdout",
     "output_type": "stream",
     "text": [
      "Stopping Spark session...\n",
      "Destroying Spark cluster...\n",
      "Done!\n",
      "You can safely ignore the warning message if there is any.\n"
     ]
    }
   ],
   "source": [
    "sphynx.stop()"
   ]
  },
  {
   "cell_type": "code",
   "execution_count": 19,
   "metadata": {},
   "outputs": [],
   "source": [
    "pcs6_start_date = \"2022-03-16\"\n",
    "pcs6_end_date = \"2022-03-22\"\n",
    "pcs6_gcoin = load_data_mart(\"pc\", pcs6_start_date, pcs6_end_date, \"gcoin_use\").where(col('event_name').like(\"%pcs%\"))"
   ]
  },
  {
   "cell_type": "code",
   "execution_count": 20,
   "metadata": {},
   "outputs": [],
   "source": [
    "pcs6_gcoin = pcs6_gcoin.withColumn(\"paid_pu\", when(col(\"paid_use\") > 0, col(\"account_id\")).otherwise(lit(None)))"
   ]
  },
  {
   "cell_type": "code",
   "execution_count": 21,
   "metadata": {},
   "outputs": [
    {
     "name": "stdout",
     "output_type": "stream",
     "text": [
      "+-------------+---------+-------+--------+\n",
      "|sum(paid_use)|total_use|paid_pu|total_pu|\n",
      "+-------------+---------+-------+--------+\n",
      "|74265946     |109324730|41456  |62372   |\n",
      "+-------------+---------+-------+--------+\n",
      "\n"
     ]
    }
   ],
   "source": [
    "pcs6_gcoin.select(sum(\"paid_use\"), sum(col(\"paid_use\") + col(\"free_use\")).alias(\"total_use\"), countDistinct(\"paid_pu\").alias(\"paid_pu\"), countDistinct(\"account_id\").alias(\"total_pu\")).show(truncate=False)"
   ]
  },
  {
   "cell_type": "code",
   "execution_count": 22,
   "metadata": {},
   "outputs": [
    {
     "data": {
      "text/html": [
       "<div>\n",
       "<style scoped>\n",
       "    .dataframe tbody tr th:only-of-type {\n",
       "        vertical-align: middle;\n",
       "    }\n",
       "\n",
       "    .dataframe tbody tr th {\n",
       "        vertical-align: top;\n",
       "    }\n",
       "\n",
       "    .dataframe thead th {\n",
       "        text-align: right;\n",
       "    }\n",
       "</style>\n",
       "<table border=\"1\" class=\"dataframe\">\n",
       "  <thead>\n",
       "    <tr style=\"text-align: right;\">\n",
       "      <th></th>\n",
       "      <th>product_name</th>\n",
       "      <th>unit_sold</th>\n",
       "      <th>paid_use</th>\n",
       "      <th>total_use</th>\n",
       "      <th>paid_pu</th>\n",
       "      <th>total_pu</th>\n",
       "    </tr>\n",
       "  </thead>\n",
       "  <tbody>\n",
       "    <tr>\n",
       "      <th>0</th>\n",
       "      <td>PCS6 PARACHUTE</td>\n",
       "      <td>6755</td>\n",
       "      <td>3783141</td>\n",
       "      <td>6687450</td>\n",
       "      <td>4850</td>\n",
       "      <td>6755</td>\n",
       "    </tr>\n",
       "    <tr>\n",
       "      <th>1</th>\n",
       "      <td>PCS6 - TRIUMPH &amp; ANGUISH DANCE</td>\n",
       "      <td>9508</td>\n",
       "      <td>2303690</td>\n",
       "      <td>4754000</td>\n",
       "      <td>5331</td>\n",
       "      <td>9508</td>\n",
       "    </tr>\n",
       "    <tr>\n",
       "      <th>2</th>\n",
       "      <td>PCS6 BRUSHSTROKE MINI14</td>\n",
       "      <td>6770</td>\n",
       "      <td>2800985</td>\n",
       "      <td>6702300</td>\n",
       "      <td>4060</td>\n",
       "      <td>6770</td>\n",
       "    </tr>\n",
       "    <tr>\n",
       "      <th>3</th>\n",
       "      <td>PCS6 BRUSHSTROKE K2</td>\n",
       "      <td>2365</td>\n",
       "      <td>1240850</td>\n",
       "      <td>2341350</td>\n",
       "      <td>1644</td>\n",
       "      <td>2365</td>\n",
       "    </tr>\n",
       "    <tr>\n",
       "      <th>4</th>\n",
       "      <td>PCS6 BRUSHSTROKE CLOTHING SET</td>\n",
       "      <td>17660</td>\n",
       "      <td>6341460</td>\n",
       "      <td>17483400</td>\n",
       "      <td>8504</td>\n",
       "      <td>17660</td>\n",
       "    </tr>\n",
       "    <tr>\n",
       "      <th>5</th>\n",
       "      <td>PCS6 WEAPON &amp; PARACHUTE BUNDLE</td>\n",
       "      <td>8206</td>\n",
       "      <td>12270505</td>\n",
       "      <td>16247880</td>\n",
       "      <td>7515</td>\n",
       "      <td>8206</td>\n",
       "    </tr>\n",
       "    <tr>\n",
       "      <th>6</th>\n",
       "      <td>PCS6 MEGA BUNDLE</td>\n",
       "      <td>11679</td>\n",
       "      <td>41152475</td>\n",
       "      <td>46248840</td>\n",
       "      <td>11388</td>\n",
       "      <td>11679</td>\n",
       "    </tr>\n",
       "    <tr>\n",
       "      <th>7</th>\n",
       "      <td>PCS6 GEAR BUNDLE</td>\n",
       "      <td>8949</td>\n",
       "      <td>4372840</td>\n",
       "      <td>8859510</td>\n",
       "      <td>5707</td>\n",
       "      <td>8949</td>\n",
       "    </tr>\n",
       "  </tbody>\n",
       "</table>\n",
       "</div>"
      ],
      "text/plain": [
       "                     product_name  unit_sold  paid_use  total_use  paid_pu  \\\n",
       "0                  PCS6 PARACHUTE       6755   3783141    6687450     4850   \n",
       "1  PCS6 - TRIUMPH & ANGUISH DANCE       9508   2303690    4754000     5331   \n",
       "2         PCS6 BRUSHSTROKE MINI14       6770   2800985    6702300     4060   \n",
       "3             PCS6 BRUSHSTROKE K2       2365   1240850    2341350     1644   \n",
       "4   PCS6 BRUSHSTROKE CLOTHING SET      17660   6341460   17483400     8504   \n",
       "5  PCS6 WEAPON & PARACHUTE BUNDLE       8206  12270505   16247880     7515   \n",
       "6                PCS6 MEGA BUNDLE      11679  41152475   46248840    11388   \n",
       "7                PCS6 GEAR BUNDLE       8949   4372840    8859510     5707   \n",
       "\n",
       "   total_pu  \n",
       "0      6755  \n",
       "1      9508  \n",
       "2      6770  \n",
       "3      2365  \n",
       "4     17660  \n",
       "5      8206  \n",
       "6     11679  \n",
       "7      8949  "
      ]
     },
     "execution_count": 22,
     "metadata": {},
     "output_type": "execute_result"
    }
   ],
   "source": [
    "pcs6_gcoin.groupBy(\"product_name\").agg(sum(\"qty\").alias(\"unit_sold\"), sum(\"paid_use\").alias(\"paid_use\"), sum(col(\"paid_use\") + col(\"free_use\")).alias(\"total_use\"), countDistinct(\"paid_pu\").alias(\"paid_pu\"), countDistinct(\"account_id\").alias(\"total_pu\")).toPandas()"
   ]
  },
  {
   "cell_type": "code",
   "execution_count": null,
   "metadata": {},
   "outputs": [],
   "source": []
  },
  {
   "cell_type": "code",
   "execution_count": 3,
   "metadata": {},
   "outputs": [],
   "source": [
    "start_date = \"2022-09-09\"\n",
    "end_date = \"2022-09-15\""
   ]
  },
  {
   "cell_type": "code",
   "execution_count": 4,
   "metadata": {},
   "outputs": [],
   "source": [
    "gcoin = load_data_mart('pc', start_date, end_date, \"gcoin_use\")\n",
    "pcs_gcoin = gcoin.where(col('event_name').like(\"%pcs%\"))"
   ]
  },
  {
   "cell_type": "code",
   "execution_count": 5,
   "metadata": {},
   "outputs": [],
   "source": [
    "from pyspark.sql.types import * \n",
    "\n",
    "def classify_country(country_os, country_ip):\n",
    "    if country_os != 'CN':\n",
    "        return country_ip\n",
    "    else:\n",
    "        return country_os\n",
    "\n",
    "country_type_udf = udf(classify_country, StringType())\n",
    "\n",
    "meta_region = mysql.read_table(spark, 'metainfo', 'meta_bi_regions')\n",
    "\n",
    "user = load_data_mart(\"pc\", end_date, end_date, \"user_master\")\n",
    "user = user.withColumn(\"country_new\", country_type_udf(\"country_os\", \"country_ip\"))\n",
    "user = user.join(meta_region, user.country_new == meta_region.country_code_iso2, \"left\").withColumnRenamed(\"accountid\", \"account_id\")"
   ]
  },
  {
   "cell_type": "code",
   "execution_count": null,
   "metadata": {},
   "outputs": [],
   "source": []
  },
  {
   "cell_type": "code",
   "execution_count": 28,
   "metadata": {},
   "outputs": [],
   "source": [
    "console_start_date = \"2022-09-15\"\n",
    "console_end_date = \"2022-09-21\""
   ]
  },
  {
   "cell_type": "code",
   "execution_count": 31,
   "metadata": {},
   "outputs": [],
   "source": [
    "console_pcs_gcoin = load_data_mart('console', console_start_date, console_end_date, \"gcoin_use\").where(col(\"event_name\").like(\"%pcs%\"))"
   ]
  },
  {
   "cell_type": "code",
   "execution_count": 32,
   "metadata": {},
   "outputs": [
    {
     "name": "stdout",
     "output_type": "stream",
     "text": [
      "+--------+---------+\n",
      "|paid_use|total_use|\n",
      "+--------+---------+\n",
      "| 6376760|  7990380|\n",
      "+--------+---------+\n",
      "\n"
     ]
    }
   ],
   "source": [
    "console_pcs_gcoin.select(sum(\"paid_use\").alias(\"paid_use\"), sum(col(\"paid_use\") + col(\"free_use\")).alias(\"total_use\")).show()"
   ]
  },
  {
   "cell_type": "code",
   "execution_count": 34,
   "metadata": {},
   "outputs": [],
   "source": [
    "console_user = load_data_mart(\"console\", console_end_date, console_end_date, \"user_master\").where(col(\"lastlogindate\") >= console_start_date)"
   ]
  },
  {
   "cell_type": "code",
   "execution_count": 35,
   "metadata": {},
   "outputs": [
    {
     "name": "stdout",
     "output_type": "stream",
     "text": [
      "+------+\n",
      "|    au|\n",
      "+------+\n",
      "|621588|\n",
      "+------+\n",
      "\n"
     ]
    }
   ],
   "source": [
    "console_user.select(countDistinct(\"accountid\").alias(\"au\")).show()"
   ]
  },
  {
   "cell_type": "code",
   "execution_count": null,
   "metadata": {},
   "outputs": [],
   "source": []
  },
  {
   "cell_type": "code",
   "execution_count": 6,
   "metadata": {},
   "outputs": [
    {
     "name": "stdout",
     "output_type": "stream",
     "text": [
      "+-------+\n",
      "|    wau|\n",
      "+-------+\n",
      "|5133445|\n",
      "+-------+\n",
      "\n"
     ]
    }
   ],
   "source": [
    "user.where(col('lastlogindate')>=start_date).select(countDistinct(\"account_id\").alias(\"wau\")).show()"
   ]
  },
  {
   "cell_type": "code",
   "execution_count": 14,
   "metadata": {},
   "outputs": [
    {
     "data": {
      "text/html": [
       "<div>\n",
       "<style scoped>\n",
       "    .dataframe tbody tr th:only-of-type {\n",
       "        vertical-align: middle;\n",
       "    }\n",
       "\n",
       "    .dataframe tbody tr th {\n",
       "        vertical-align: top;\n",
       "    }\n",
       "\n",
       "    .dataframe thead th {\n",
       "        text-align: right;\n",
       "    }\n",
       "</style>\n",
       "<table border=\"1\" class=\"dataframe\">\n",
       "  <thead>\n",
       "    <tr style=\"text-align: right;\">\n",
       "      <th></th>\n",
       "      <th>pubg_region</th>\n",
       "      <th>wau</th>\n",
       "    </tr>\n",
       "  </thead>\n",
       "  <tbody>\n",
       "    <tr>\n",
       "      <th>0</th>\n",
       "      <td>CN</td>\n",
       "      <td>3366337</td>\n",
       "    </tr>\n",
       "    <tr>\n",
       "      <th>1</th>\n",
       "      <td>NA</td>\n",
       "      <td>119054</td>\n",
       "    </tr>\n",
       "    <tr>\n",
       "      <th>2</th>\n",
       "      <td>SA</td>\n",
       "      <td>106954</td>\n",
       "    </tr>\n",
       "    <tr>\n",
       "      <th>3</th>\n",
       "      <td>KR</td>\n",
       "      <td>606733</td>\n",
       "    </tr>\n",
       "    <tr>\n",
       "      <th>4</th>\n",
       "      <td>SEA</td>\n",
       "      <td>211994</td>\n",
       "    </tr>\n",
       "    <tr>\n",
       "      <th>5</th>\n",
       "      <td>Undefined</td>\n",
       "      <td>189</td>\n",
       "    </tr>\n",
       "    <tr>\n",
       "      <th>6</th>\n",
       "      <td>JP</td>\n",
       "      <td>14209</td>\n",
       "    </tr>\n",
       "    <tr>\n",
       "      <th>7</th>\n",
       "      <td>TW/HK</td>\n",
       "      <td>28739</td>\n",
       "    </tr>\n",
       "    <tr>\n",
       "      <th>8</th>\n",
       "      <td>CIS</td>\n",
       "      <td>312665</td>\n",
       "    </tr>\n",
       "    <tr>\n",
       "      <th>9</th>\n",
       "      <td>EMEA</td>\n",
       "      <td>346842</td>\n",
       "    </tr>\n",
       "    <tr>\n",
       "      <th>10</th>\n",
       "      <td>OC</td>\n",
       "      <td>19729</td>\n",
       "    </tr>\n",
       "  </tbody>\n",
       "</table>\n",
       "</div>"
      ],
      "text/plain": [
       "   pubg_region      wau\n",
       "0           CN  3366337\n",
       "1           NA   119054\n",
       "2           SA   106954\n",
       "3           KR   606733\n",
       "4          SEA   211994\n",
       "5    Undefined      189\n",
       "6           JP    14209\n",
       "7        TW/HK    28739\n",
       "8          CIS   312665\n",
       "9         EMEA   346842\n",
       "10          OC    19729"
      ]
     },
     "execution_count": 14,
     "metadata": {},
     "output_type": "execute_result"
    }
   ],
   "source": [
    "user.where(col('lastlogindate')>=start_date).groupBy(\"pubg_region\").agg(countDistinct(\"account_id\").alias(\"wau\")).toPandas()"
   ]
  },
  {
   "cell_type": "code",
   "execution_count": 9,
   "metadata": {},
   "outputs": [],
   "source": [
    "pcs_gcoin = pcs_gcoin.join(user.select(\"account_id\", \"pubg_region\"), \"account_id\").withColumn(\"paid_pu\", when(col(\"paid_use\") > 0, col(\"account_id\")).otherwise(lit(None)))"
   ]
  },
  {
   "cell_type": "code",
   "execution_count": 12,
   "metadata": {},
   "outputs": [
    {
     "data": {
      "text/html": [
       "<div>\n",
       "<style scoped>\n",
       "    .dataframe tbody tr th:only-of-type {\n",
       "        vertical-align: middle;\n",
       "    }\n",
       "\n",
       "    .dataframe tbody tr th {\n",
       "        vertical-align: top;\n",
       "    }\n",
       "\n",
       "    .dataframe thead th {\n",
       "        text-align: right;\n",
       "    }\n",
       "</style>\n",
       "<table border=\"1\" class=\"dataframe\">\n",
       "  <thead>\n",
       "    <tr style=\"text-align: right;\">\n",
       "      <th></th>\n",
       "      <th>pubg_region</th>\n",
       "      <th>paid_pu</th>\n",
       "      <th>total_pu</th>\n",
       "      <th>paid_use</th>\n",
       "      <th>total_use</th>\n",
       "    </tr>\n",
       "  </thead>\n",
       "  <tbody>\n",
       "    <tr>\n",
       "      <th>0</th>\n",
       "      <td>CN</td>\n",
       "      <td>22558</td>\n",
       "      <td>29422</td>\n",
       "      <td>34750315</td>\n",
       "      <td>48819610</td>\n",
       "    </tr>\n",
       "    <tr>\n",
       "      <th>1</th>\n",
       "      <td>NA</td>\n",
       "      <td>829</td>\n",
       "      <td>1035</td>\n",
       "      <td>1312370</td>\n",
       "      <td>1743920</td>\n",
       "    </tr>\n",
       "    <tr>\n",
       "      <th>2</th>\n",
       "      <td>SA</td>\n",
       "      <td>370</td>\n",
       "      <td>606</td>\n",
       "      <td>466690</td>\n",
       "      <td>834860</td>\n",
       "    </tr>\n",
       "    <tr>\n",
       "      <th>3</th>\n",
       "      <td>KR</td>\n",
       "      <td>5694</td>\n",
       "      <td>7214</td>\n",
       "      <td>8772370</td>\n",
       "      <td>11484070</td>\n",
       "    </tr>\n",
       "    <tr>\n",
       "      <th>4</th>\n",
       "      <td>SEA</td>\n",
       "      <td>682</td>\n",
       "      <td>993</td>\n",
       "      <td>944910</td>\n",
       "      <td>1508030</td>\n",
       "    </tr>\n",
       "    <tr>\n",
       "      <th>5</th>\n",
       "      <td>JP</td>\n",
       "      <td>84</td>\n",
       "      <td>104</td>\n",
       "      <td>131010</td>\n",
       "      <td>182300</td>\n",
       "    </tr>\n",
       "    <tr>\n",
       "      <th>6</th>\n",
       "      <td>TW/HK</td>\n",
       "      <td>211</td>\n",
       "      <td>266</td>\n",
       "      <td>347080</td>\n",
       "      <td>468690</td>\n",
       "    </tr>\n",
       "    <tr>\n",
       "      <th>7</th>\n",
       "      <td>CIS</td>\n",
       "      <td>852</td>\n",
       "      <td>1371</td>\n",
       "      <td>1129130</td>\n",
       "      <td>1784310</td>\n",
       "    </tr>\n",
       "    <tr>\n",
       "      <th>8</th>\n",
       "      <td>EMEA</td>\n",
       "      <td>1614</td>\n",
       "      <td>2241</td>\n",
       "      <td>2346470</td>\n",
       "      <td>3400970</td>\n",
       "    </tr>\n",
       "    <tr>\n",
       "      <th>9</th>\n",
       "      <td>OC</td>\n",
       "      <td>173</td>\n",
       "      <td>225</td>\n",
       "      <td>282980</td>\n",
       "      <td>369040</td>\n",
       "    </tr>\n",
       "  </tbody>\n",
       "</table>\n",
       "</div>"
      ],
      "text/plain": [
       "  pubg_region  paid_pu  total_pu  paid_use  total_use\n",
       "0          CN    22558     29422  34750315   48819610\n",
       "1          NA      829      1035   1312370    1743920\n",
       "2          SA      370       606    466690     834860\n",
       "3          KR     5694      7214   8772370   11484070\n",
       "4         SEA      682       993    944910    1508030\n",
       "5          JP       84       104    131010     182300\n",
       "6       TW/HK      211       266    347080     468690\n",
       "7         CIS      852      1371   1129130    1784310\n",
       "8        EMEA     1614      2241   2346470    3400970\n",
       "9          OC      173       225    282980     369040"
      ]
     },
     "execution_count": 12,
     "metadata": {},
     "output_type": "execute_result"
    }
   ],
   "source": [
    "pcs_gcoin.groupBy(\"pubg_region\").agg(countDistinct(\"paid_pu\").alias(\"paid_pu\"), countDistinct(\"account_id\").alias(\"total_pu\"), \\\n",
    "                                        sum(\"paid_use\").alias(\"paid_use\"), sum(col(\"paid_use\") + col(\"free_use\")).alias(\"total_use\")).toPandas()"
   ]
  },
  {
   "cell_type": "code",
   "execution_count": 15,
   "metadata": {},
   "outputs": [
    {
     "data": {
      "text/html": [
       "<div>\n",
       "<style scoped>\n",
       "    .dataframe tbody tr th:only-of-type {\n",
       "        vertical-align: middle;\n",
       "    }\n",
       "\n",
       "    .dataframe tbody tr th {\n",
       "        vertical-align: top;\n",
       "    }\n",
       "\n",
       "    .dataframe thead th {\n",
       "        text-align: right;\n",
       "    }\n",
       "</style>\n",
       "<table border=\"1\" class=\"dataframe\">\n",
       "  <thead>\n",
       "    <tr style=\"text-align: right;\">\n",
       "      <th></th>\n",
       "      <th>product_name</th>\n",
       "      <th>unit_sold</th>\n",
       "      <th>paid_use</th>\n",
       "      <th>total_use</th>\n",
       "      <th>paid_pu</th>\n",
       "      <th>total_pu</th>\n",
       "    </tr>\n",
       "  </thead>\n",
       "  <tbody>\n",
       "    <tr>\n",
       "      <th>0</th>\n",
       "      <td>PCS7 CLOTHING BUNDLE</td>\n",
       "      <td>6781</td>\n",
       "      <td>3598875</td>\n",
       "      <td>6713190</td>\n",
       "      <td>4497</td>\n",
       "      <td>6781</td>\n",
       "    </tr>\n",
       "    <tr>\n",
       "      <th>1</th>\n",
       "      <td>PCS7 GEAR SET</td>\n",
       "      <td>13890</td>\n",
       "      <td>7580795</td>\n",
       "      <td>13751100</td>\n",
       "      <td>9743</td>\n",
       "      <td>13890</td>\n",
       "    </tr>\n",
       "    <tr>\n",
       "      <th>2</th>\n",
       "      <td>PCS7 PARACHUTE PACK</td>\n",
       "      <td>1850</td>\n",
       "      <td>1068240</td>\n",
       "      <td>1831500</td>\n",
       "      <td>1354</td>\n",
       "      <td>1850</td>\n",
       "    </tr>\n",
       "    <tr>\n",
       "      <th>3</th>\n",
       "      <td>PCS7 MK12 PACK</td>\n",
       "      <td>4278</td>\n",
       "      <td>2749920</td>\n",
       "      <td>4235220</td>\n",
       "      <td>3373</td>\n",
       "      <td>4278</td>\n",
       "    </tr>\n",
       "    <tr>\n",
       "      <th>4</th>\n",
       "      <td>PCS7 EMOTE PACK</td>\n",
       "      <td>7007</td>\n",
       "      <td>1813720</td>\n",
       "      <td>3503500</td>\n",
       "      <td>4191</td>\n",
       "      <td>7007</td>\n",
       "    </tr>\n",
       "    <tr>\n",
       "      <th>5</th>\n",
       "      <td>PCS7 SKS PACK</td>\n",
       "      <td>1317</td>\n",
       "      <td>658790</td>\n",
       "      <td>1303830</td>\n",
       "      <td>866</td>\n",
       "      <td>1317</td>\n",
       "    </tr>\n",
       "    <tr>\n",
       "      <th>6</th>\n",
       "      <td>PCS7 MEGA BUNDLE</td>\n",
       "      <td>11912</td>\n",
       "      <td>29987385</td>\n",
       "      <td>35378640</td>\n",
       "      <td>11612</td>\n",
       "      <td>11912</td>\n",
       "    </tr>\n",
       "    <tr>\n",
       "      <th>7</th>\n",
       "      <td>PCS7 WEAPON + PARACHUTE SET</td>\n",
       "      <td>1959</td>\n",
       "      <td>3025600</td>\n",
       "      <td>3878820</td>\n",
       "      <td>1838</td>\n",
       "      <td>1959</td>\n",
       "    </tr>\n",
       "  </tbody>\n",
       "</table>\n",
       "</div>"
      ],
      "text/plain": [
       "                  product_name  unit_sold  paid_use  total_use  paid_pu  \\\n",
       "0         PCS7 CLOTHING BUNDLE       6781   3598875    6713190     4497   \n",
       "1                PCS7 GEAR SET      13890   7580795   13751100     9743   \n",
       "2          PCS7 PARACHUTE PACK       1850   1068240    1831500     1354   \n",
       "3               PCS7 MK12 PACK       4278   2749920    4235220     3373   \n",
       "4              PCS7 EMOTE PACK       7007   1813720    3503500     4191   \n",
       "5                PCS7 SKS PACK       1317    658790    1303830      866   \n",
       "6             PCS7 MEGA BUNDLE      11912  29987385   35378640    11612   \n",
       "7  PCS7 WEAPON + PARACHUTE SET       1959   3025600    3878820     1838   \n",
       "\n",
       "   total_pu  \n",
       "0      6781  \n",
       "1     13890  \n",
       "2      1850  \n",
       "3      4278  \n",
       "4      7007  \n",
       "5      1317  \n",
       "6     11912  \n",
       "7      1959  "
      ]
     },
     "execution_count": 15,
     "metadata": {},
     "output_type": "execute_result"
    }
   ],
   "source": [
    "pcs_gcoin.groupBy(\"product_name\").agg(sum(\"qty\").alias(\"unit_sold\"), sum(\"paid_use\").alias(\"paid_use\"), sum(col(\"paid_use\") + col(\"free_use\")).alias(\"total_use\"), countDistinct(\"paid_pu\").alias(\"paid_pu\"), countDistinct(\"account_id\").alias(\"total_pu\")).toPandas()"
   ]
  },
  {
   "cell_type": "code",
   "execution_count": null,
   "metadata": {},
   "outputs": [],
   "source": []
  }
 ],
 "metadata": {
  "kernelspec": {
   "display_name": "Python 3",
   "language": "python",
   "name": "python3"
  },
  "language_info": {
   "codemirror_mode": {
    "name": "ipython",
    "version": 3
   },
   "file_extension": ".py",
   "mimetype": "text/x-python",
   "name": "python",
   "nbconvert_exporter": "python",
   "pygments_lexer": "ipython3",
   "version": "3.6.7"
  }
 },
 "nbformat": 4,
 "nbformat_minor": 4
}
