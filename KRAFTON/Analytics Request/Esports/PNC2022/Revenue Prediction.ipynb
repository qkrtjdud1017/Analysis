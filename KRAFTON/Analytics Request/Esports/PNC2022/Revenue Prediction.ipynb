{
 "cells": [
  {
   "cell_type": "code",
   "execution_count": 29,
   "metadata": {},
   "outputs": [
    {
     "name": "stdout",
     "output_type": "stream",
     "text": [
      "Spark cluster not assigned. creating a new one...\n",
      "Node spec: 4 executors with 48G RAM each\n",
      "Job Port 4049 is assigned for requested cluster\n",
      "Waiting for Spark master to be available...\n",
      "Spark master launched!\n",
      "Creating new Spark session, name: pnc...\n",
      "Waiting for all executors ready...\n",
      "All executors connected!\n",
      "Complete! elapsed time: 00:00:24\n"
     ]
    }
   ],
   "source": [
    "from pubg_util import mysql, load_schema, notifier\n",
    "from sphynx import sphynx, NODE_SMALL, NODE_MEDIUM, NODE_LARGE\n",
    "from pyspark.sql.functions import *\n",
    "import pandas as pd\n",
    "import pickle\n",
    "\n",
    "spark = sphynx.get_spark(executor_count=4, app_name='pnc', node_spec=NODE_LARGE)"
   ]
  },
  {
   "cell_type": "code",
   "execution_count": 39,
   "metadata": {},
   "outputs": [
    {
     "name": "stdout",
     "output_type": "stream",
     "text": [
      "Stopping Spark session...\n",
      "Destroying Spark cluster...\n",
      "Done!\n",
      "You can safely ignore the warning message if there is any.\n"
     ]
    }
   ],
   "source": [
    "sphynx.stop()"
   ]
  },
  {
   "cell_type": "code",
   "execution_count": 31,
   "metadata": {},
   "outputs": [],
   "source": [
    "item_meta = mysql.read_table(spark, \"metainfo\", \"meta_vc_sales_items\")"
   ]
  },
  {
   "cell_type": "code",
   "execution_count": 32,
   "metadata": {},
   "outputs": [],
   "source": [
    "item_meta.createOrReplaceTempView(\"item_meta\")"
   ]
  },
  {
   "cell_type": "code",
   "execution_count": 33,
   "metadata": {},
   "outputs": [],
   "source": [
    "pcs4_ep_q = \"\"\"\n",
    "    select product_id\n",
    "    from item_meta\n",
    "    where platform = \"STEAM\" and event_name like '%pcs4%' and currency = \"esportspoint\"\n",
    "\"\"\"\n",
    "pcs4_ep = spark.sql(pcs4_ep_q).toPandas()[\"product_id\"].tolist()\n",
    "\n",
    "pcs5_ep_q = \"\"\"\n",
    "    select product_id\n",
    "    from item_meta\n",
    "    where platform = \"STEAM\" and event_name like '%pcs5%' and currency = \"esportspoint\"\n",
    "\"\"\"\n",
    "pcs5_ep = spark.sql(pcs5_ep_q).toPandas()[\"product_id\"].tolist()\n",
    "\n",
    "pcs6_ep_q = \"\"\"\n",
    "    select product_id\n",
    "    from item_meta\n",
    "    where platform = \"STEAM\" and event_name like '%pcs6%' and currency = \"esportspoint\"\n",
    "\"\"\"\n",
    "pcs6_ep = spark.sql(pcs6_ep_q).toPandas()[\"product_id\"].tolist()"
   ]
  },
  {
   "cell_type": "code",
   "execution_count": 7,
   "metadata": {},
   "outputs": [],
   "source": [
    "# pcs4_pc = pre_load_data_mart(\"pc\", \"2021-06-02\", \"2021-06-11\", \"gcoin_use\").where(lower(col(\"event_name\")).like(\"%pcs%\")).groupBy(\"account_id\").agg(sum(\"price\").alias(\"total_use\"))\n",
    "pcs4_console = pre_load_data_mart(\"console\", \"2021-06-10\", \"2021-06-23\", \"gcoin_use\").where(lower(col(\"event_name\")).like(\"%pcs%\"))\\\n",
    "    .withColumn(\"ep\", when(col(\"product_id\").isin(pcs4_ep), \"ep\").otherwise(\"no_ep\"))\\\n",
    "    .groupBy(\"ep\", \"account_id\").agg(sum(\"price\").alias(\"total_use\"))"
   ]
  },
  {
   "cell_type": "code",
   "execution_count": 8,
   "metadata": {},
   "outputs": [],
   "source": [
    "# pcs5_pc = load_data_mart(\"pc\", \"2021-09-08\", \"2021-09-17\", \"gcoin_use\").where(lower(col(\"event_name\")).like(\"%pcs%\")).groupBy(\"account_id\").agg(sum(\"price\").alias(\"total_use\"))\n",
    "pcs5_console = load_data_mart(\"console\", \"2021-09-16\", \"2021-09-29\", \"gcoin_use\").where(lower(col(\"event_name\")).like(\"%pcs%\"))\\\n",
    "    .withColumn(\"ep\", when(col(\"product_id\").isin(pcs5_ep), \"ep\").otherwise(\"no_ep\"))\\\n",
    "    .groupBy(\"ep\", \"account_id\").agg(sum(\"price\").alias(\"total_use\"))"
   ]
  },
  {
   "cell_type": "code",
   "execution_count": 9,
   "metadata": {},
   "outputs": [],
   "source": [
    "# pcs6_pc = load_data_mart(\"pc\", \"2022-03-16\", \"2022-03-25\", \"gcoin_use\").where(lower(col(\"event_name\")).like(\"%pcs%\")).groupBy(\"account_id\").agg(sum(\"price\").alias(\"total_use\"))\n",
    "pcs6_console = load_data_mart(\"console\", \"2022-03-24\", \"2022-04-06\", \"gcoin_use\").where(lower(col(\"event_name\")).like(\"%pcs%\"))\\\n",
    "    .withColumn(\"ep\", when(col(\"product_id\").isin(pcs6_ep), \"ep\").otherwise(\"no_ep\"))\\\n",
    "    .groupBy(\"ep\", \"account_id\").agg(sum(\"price\").alias(\"total_use\"))"
   ]
  },
  {
   "cell_type": "code",
   "execution_count": 10,
   "metadata": {},
   "outputs": [],
   "source": [
    "# pcs6_pc_membership = load_membership(\"pubg\", \"pc\", \"2022-03-25\", \"2022-03-25\").join(pcs6_pc, \"account_id\")\n",
    "pcs6_console_membership = load_membership(\"pubg\", \"console\", \"2022-04-06\", \"2022-04-06\").join(pcs6_console, \"account_id\")"
   ]
  },
  {
   "cell_type": "markdown",
   "metadata": {},
   "source": [
    "### PCS4"
   ]
  },
  {
   "cell_type": "code",
   "execution_count": 11,
   "metadata": {},
   "outputs": [
    {
     "name": "stdout",
     "output_type": "stream",
     "text": [
      "+-----------------+\n",
      "|count(account_id)|\n",
      "+-----------------+\n",
      "|            20661|\n",
      "+-----------------+\n",
      "\n"
     ]
    }
   ],
   "source": [
    "pcs4_pc.where(col(\"total_use\") >= 1400).select(count(\"account_id\")).show()"
   ]
  },
  {
   "cell_type": "code",
   "execution_count": 11,
   "metadata": {},
   "outputs": [
    {
     "name": "stdout",
     "output_type": "stream",
     "text": [
      "+-----------------+\n",
      "|count(account_id)|\n",
      "+-----------------+\n",
      "|             1151|\n",
      "+-----------------+\n",
      "\n"
     ]
    }
   ],
   "source": [
    "pcs4_console.where((col(\"ep\") == \"no_ep\") & (col(\"total_use\") >= 1400)).select(count(\"account_id\")).show()"
   ]
  },
  {
   "cell_type": "code",
   "execution_count": 12,
   "metadata": {},
   "outputs": [
    {
     "name": "stdout",
     "output_type": "stream",
     "text": [
      "+-----------------+\n",
      "|count(account_id)|\n",
      "+-----------------+\n",
      "|             5035|\n",
      "+-----------------+\n",
      "\n"
     ]
    }
   ],
   "source": [
    "pcs4_console.where(col(\"ep\") == \"ep\").select(count(\"account_id\")).show()"
   ]
  },
  {
   "cell_type": "markdown",
   "metadata": {},
   "source": [
    "### PCS5"
   ]
  },
  {
   "cell_type": "code",
   "execution_count": 13,
   "metadata": {},
   "outputs": [
    {
     "name": "stdout",
     "output_type": "stream",
     "text": [
      "+-----------------+\n",
      "|count(account_id)|\n",
      "+-----------------+\n",
      "|            72529|\n",
      "+-----------------+\n",
      "\n"
     ]
    }
   ],
   "source": [
    "pcs5_pc.where(col(\"total_use\") >= 1400).select(count(\"account_id\")).show()"
   ]
  },
  {
   "cell_type": "code",
   "execution_count": 13,
   "metadata": {},
   "outputs": [
    {
     "name": "stdout",
     "output_type": "stream",
     "text": [
      "+-----------------+\n",
      "|count(account_id)|\n",
      "+-----------------+\n",
      "|             2492|\n",
      "+-----------------+\n",
      "\n"
     ]
    }
   ],
   "source": [
    "pcs5_console.where((col(\"ep\") == \"no_ep\") & (col(\"total_use\") >= 1400)).select(count(\"account_id\")).show()"
   ]
  },
  {
   "cell_type": "code",
   "execution_count": 14,
   "metadata": {},
   "outputs": [
    {
     "name": "stdout",
     "output_type": "stream",
     "text": [
      "+-----------------+\n",
      "|count(account_id)|\n",
      "+-----------------+\n",
      "|             5983|\n",
      "+-----------------+\n",
      "\n"
     ]
    }
   ],
   "source": [
    "pcs5_console.where(col(\"ep\") == \"ep\").select(count(\"account_id\")).show()"
   ]
  },
  {
   "cell_type": "markdown",
   "metadata": {},
   "source": [
    "### PCS6"
   ]
  },
  {
   "cell_type": "code",
   "execution_count": 15,
   "metadata": {},
   "outputs": [
    {
     "name": "stdout",
     "output_type": "stream",
     "text": [
      "+-----------------+\n",
      "|count(account_id)|\n",
      "+-----------------+\n",
      "|            25671|\n",
      "+-----------------+\n",
      "\n"
     ]
    }
   ],
   "source": [
    "pcs6_pc.where(col(\"total_use\") >= 1400).select(count(\"account_id\")).show()"
   ]
  },
  {
   "cell_type": "code",
   "execution_count": 15,
   "metadata": {},
   "outputs": [
    {
     "name": "stdout",
     "output_type": "stream",
     "text": [
      "+-----------------+\n",
      "|count(account_id)|\n",
      "+-----------------+\n",
      "|             2383|\n",
      "+-----------------+\n",
      "\n"
     ]
    }
   ],
   "source": [
    "pcs6_console.where((col(\"ep\") == \"no_ep\") & (col(\"total_use\") >= 1400)).select(count(\"account_id\")).show()"
   ]
  },
  {
   "cell_type": "code",
   "execution_count": 16,
   "metadata": {},
   "outputs": [
    {
     "name": "stdout",
     "output_type": "stream",
     "text": [
      "+-----------------+\n",
      "|count(account_id)|\n",
      "+-----------------+\n",
      "|             4268|\n",
      "+-----------------+\n",
      "\n"
     ]
    }
   ],
   "source": [
    "pcs6_console.where(col(\"ep\") == \"ep\").select(count(\"account_id\")).show()"
   ]
  },
  {
   "cell_type": "code",
   "execution_count": null,
   "metadata": {},
   "outputs": [],
   "source": []
  },
  {
   "cell_type": "code",
   "execution_count": 23,
   "metadata": {},
   "outputs": [
    {
     "name": "stdout",
     "output_type": "stream",
     "text": [
      "+-----------------+\n",
      "|count(account_id)|\n",
      "+-----------------+\n",
      "|             2980|\n",
      "+-----------------+\n",
      "\n"
     ]
    }
   ],
   "source": [
    "pcs6_pc_membership.where((col('total_use') >= 1400) & (col(\"membership\").isin([\"plus\", \"basic\"]))).select(count(\"account_id\")).show()"
   ]
  },
  {
   "cell_type": "code",
   "execution_count": 17,
   "metadata": {},
   "outputs": [
    {
     "name": "stdout",
     "output_type": "stream",
     "text": [
      "+-----------------+\n",
      "|count(account_id)|\n",
      "+-----------------+\n",
      "|              429|\n",
      "+-----------------+\n",
      "\n"
     ]
    }
   ],
   "source": [
    "pcs6_console_membership.where((col(\"ep\") == \"no_ep\") & (col('total_use') >= 1400) & (col(\"membership\").isin([\"plus\", \"basic\"]))).select(count(\"account_id\")).show()"
   ]
  },
  {
   "cell_type": "code",
   "execution_count": 18,
   "metadata": {},
   "outputs": [
    {
     "name": "stdout",
     "output_type": "stream",
     "text": [
      "+-----------------+\n",
      "|count(account_id)|\n",
      "+-----------------+\n",
      "|              723|\n",
      "+-----------------+\n",
      "\n"
     ]
    }
   ],
   "source": [
    "pcs6_console_membership.where((col(\"ep\") == \"ep\") & (col(\"membership\").isin([\"plus\", \"basic\"]))).select(count(\"account_id\")).show()"
   ]
  },
  {
   "cell_type": "code",
   "execution_count": null,
   "metadata": {},
   "outputs": [],
   "source": []
  },
  {
   "cell_type": "code",
   "execution_count": 17,
   "metadata": {},
   "outputs": [],
   "source": [
    "pgc_pc = load_data_mart(\"pc\", \"2021-11-12\", \"2021-11-21\", \"gcoin_use\").where(lower(col(\"event_name\")).like(\"%pgc%\")).groupBy(\"account_id\").agg(sum(\"price\").alias(\"total_use\"))\n",
    "pgc_console = load_data_mart(\"console\", \"2021-11-12\", \"2021-11-21\", \"gcoin_use\").where(lower(col(\"event_name\")).like(\"%pgc%\")).groupBy(\"account_id\").agg(sum(\"price\").alias(\"total_use\"))"
   ]
  },
  {
   "cell_type": "code",
   "execution_count": 18,
   "metadata": {},
   "outputs": [
    {
     "name": "stdout",
     "output_type": "stream",
     "text": [
      "+-----------------+\n",
      "|count(account_id)|\n",
      "+-----------------+\n",
      "|           187710|\n",
      "+-----------------+\n",
      "\n"
     ]
    }
   ],
   "source": [
    "pgc_pc.where(col(\"total_use\") >= 1400).select(count(\"account_id\")).show()"
   ]
  },
  {
   "cell_type": "code",
   "execution_count": 19,
   "metadata": {},
   "outputs": [
    {
     "name": "stdout",
     "output_type": "stream",
     "text": [
      "+-----------------+\n",
      "|count(account_id)|\n",
      "+-----------------+\n",
      "|             5216|\n",
      "+-----------------+\n",
      "\n"
     ]
    }
   ],
   "source": [
    "pgc_console.where(col(\"total_use\") >= 1400).select(count(\"account_id\")).show()"
   ]
  },
  {
   "cell_type": "code",
   "execution_count": 25,
   "metadata": {},
   "outputs": [],
   "source": [
    "pgc_pc_m416_buyer = load_data_mart(\"pc\", \"2021-11-12\", \"2021-11-21\", \"gcoin_use\").where((lower(col(\"event_name\")).like(\"%pgc%\")) & (lower(col('product_name')).like(\"%m416%\"))).select(\"account_id\").distinct()\n",
    "pgc_console_m416_buyer = load_data_mart(\"console\", \"2021-11-12\", \"2021-11-21\", \"gcoin_use\").where((lower(col(\"event_name\")).like(\"%pgc%\")) & (lower(col('product_name')).like(\"%m416%\"))).select(\"account_id\").distinct()"
   ]
  },
  {
   "cell_type": "code",
   "execution_count": 29,
   "metadata": {},
   "outputs": [
    {
     "data": {
      "text/plain": [
       "[]"
      ]
     },
     "execution_count": 29,
     "metadata": {},
     "output_type": "execute_result"
    }
   ],
   "source": [
    "pgc_pc_m416_buyer.collect()"
   ]
  },
  {
   "cell_type": "code",
   "execution_count": 27,
   "metadata": {},
   "outputs": [
    {
     "name": "stdout",
     "output_type": "stream",
     "text": [
      "+-----------------+\n",
      "|count(account_id)|\n",
      "+-----------------+\n",
      "|                0|\n",
      "+-----------------+\n",
      "\n"
     ]
    }
   ],
   "source": [
    "pgc_pc.where((col(\"total_use\") >= 1400) & (col(\"account_id\").isin(pgc_pc_m416_buyer.collect()))).select(count(\"account_id\")).show()"
   ]
  },
  {
   "cell_type": "code",
   "execution_count": null,
   "metadata": {},
   "outputs": [],
   "source": []
  }
 ],
 "metadata": {
  "kernelspec": {
   "display_name": "Python 3",
   "language": "python",
   "name": "python3"
  },
  "language_info": {
   "codemirror_mode": {
    "name": "ipython",
    "version": 3
   },
   "file_extension": ".py",
   "mimetype": "text/x-python",
   "name": "python",
   "nbconvert_exporter": "python",
   "pygments_lexer": "ipython3",
   "version": "3.6.7"
  }
 },
 "nbformat": 4,
 "nbformat_minor": 4
}
