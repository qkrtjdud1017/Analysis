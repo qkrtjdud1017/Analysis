{
 "cells": [
  {
   "cell_type": "code",
   "execution_count": null,
   "metadata": {},
   "outputs": [],
   "source": [
    "from pubg_util import mysql, load_schema, notifier\n",
    "from sphynx import sphynx, NODE_SMALL, NODE_MEDIUM, NODE_LARGE\n",
    "from pyspark.sql.functions import *\n",
    "\n",
    "spark = sphynx.get_spark(executor_count=2, app_name='pdu_syp', node_spec=NODE_LARGE)"
   ]
  },
  {
   "cell_type": "code",
   "execution_count": 124,
   "metadata": {},
   "outputs": [
    {
     "name": "stdout",
     "output_type": "stream",
     "text": [
      "Stopping Spark session...\n",
      "Destroying Spark cluster...\n",
      "Done!\n",
      "You can safely ignore the warning message if there is any.\n"
     ]
    }
   ],
   "source": [
    "sphynx.stop()"
   ]
  },
  {
   "cell_type": "markdown",
   "metadata": {},
   "source": [
    "### eSports PU & SALES 구하는 조건"
   ]
  },
  {
   "cell_type": "code",
   "execution_count": 26,
   "metadata": {},
   "outputs": [],
   "source": [
    "pcs1_cash = pre_load_data_mart(start_date='2020-06-17', end_date='2020-07-02', device='pc', table_name='cash_mtx')"
   ]
  },
  {
   "cell_type": "code",
   "execution_count": 27,
   "metadata": {},
   "outputs": [
    {
     "name": "stdout",
     "output_type": "stream",
     "text": [
      "+-----------+--------------------------+\n",
      "| event_name|count(DISTINCT account_id)|\n",
      "+-----------+--------------------------+\n",
      "|pcs_sales_1|                    240295|\n",
      "+-----------+--------------------------+\n",
      "\n"
     ]
    }
   ],
   "source": [
    "pcs1_cash.where(\"event_type = 'esports' and status = 'Succeeded'\").groupBy(\"event_name\").agg(countDistinct(\"account_id\")).show()"
   ]
  },
  {
   "cell_type": "code",
   "execution_count": 29,
   "metadata": {},
   "outputs": [
    {
     "name": "stdout",
     "output_type": "stream",
     "text": [
      "+-----------+-----------+-----------------+\n",
      "| event_name|sum(price_)|sum(ingame_price)|\n",
      "+-----------+-----------+-----------------+\n",
      "|pcs_sales_1| 2711918.49|       2711918.49|\n",
      "+-----------+-----------+-----------------+\n",
      "\n"
     ]
    }
   ],
   "source": [
    "pcs1_cash.where(\"event_type = 'esports' and status = 'Succeeded'\").groupBy(\"event_name\").agg(sum(\"price_\"), sum('ingame_price')).show()"
   ]
  },
  {
   "cell_type": "code",
   "execution_count": 30,
   "metadata": {},
   "outputs": [],
   "source": [
    "pcs3_gcoin = pre_load_data_mart(start_date='2020-10-28', end_date='2020-11-19', device='pc', table_name='gcoin_use')"
   ]
  },
  {
   "cell_type": "code",
   "execution_count": 33,
   "metadata": {},
   "outputs": [
    {
     "name": "stdout",
     "output_type": "stream",
     "text": [
      "+-----------+----------+\n",
      "| event_name|sum(price)|\n",
      "+-----------+----------+\n",
      "|pcs_sales_3| 234061120|\n",
      "+-----------+----------+\n",
      "\n"
     ]
    }
   ],
   "source": [
    "pcs3_gcoin.where(\"event_type = 'esports'\").groupBy(\"event_name\").agg(sum(\"price\")).show()"
   ]
  },
  {
   "cell_type": "code",
   "execution_count": null,
   "metadata": {},
   "outputs": [],
   "source": []
  },
  {
   "cell_type": "code",
   "execution_count": 3,
   "metadata": {},
   "outputs": [],
   "source": [
    "cash = load_data_mart(device='pc', start_date='2021-10-04', end_date='2021-10-10', table_name='cash_mtx')"
   ]
  },
  {
   "cell_type": "code",
   "execution_count": 4,
   "metadata": {},
   "outputs": [],
   "source": [
    "gcoin = load_data_mart(device='pc', start_date='2021-10-04', end_date='2021-10-10', table_name='gcoin_use')"
   ]
  },
  {
   "cell_type": "code",
   "execution_count": 9,
   "metadata": {},
   "outputs": [
    {
     "name": "stdout",
     "output_type": "stream",
     "text": [
      "+----------+-----------+-----------------+\n",
      "|      date|sum(price_)|sum(ingame_price)|\n",
      "+----------+-----------+-----------------+\n",
      "|2021-10-04|  480187.16|        480187.16|\n",
      "|2021-10-05|  445938.34|        445938.34|\n",
      "|2021-10-06| 2957925.66|       2957925.66|\n",
      "|2021-10-07| 1998655.99|       1998655.99|\n",
      "|2021-10-08| 1389152.35|       1389152.35|\n",
      "|2021-10-09| 1237633.30|       1237633.30|\n",
      "|2021-10-10| 1150840.68|       1150840.68|\n",
      "+----------+-----------+-----------------+\n",
      "\n"
     ]
    }
   ],
   "source": [
    "cash.groupBy('date').sum('price_', 'ingame_price').orderBy('date').show()"
   ]
  },
  {
   "cell_type": "code",
   "execution_count": 16,
   "metadata": {},
   "outputs": [
    {
     "name": "stdout",
     "output_type": "stream",
     "text": [
      "+----------+-------------+-------------+----------+\n",
      "|      date|sum(free_use)|sum(paid_use)|sum(price)|\n",
      "+----------+-------------+-------------+----------+\n",
      "|2021-10-04|     29048710|     46457120|  74195050|\n",
      "|2021-10-05|     32186380|     42495970|  73323380|\n",
      "|2021-10-06|     77771950|    330871780| 407601440|\n",
      "|2021-10-07|     64016030|    216198850| 278781290|\n",
      "|2021-10-08|     48176380|    147526740| 194522980|\n",
      "|2021-10-09|     67472790|    130231080| 196183330|\n",
      "|2021-10-10|     75282140|    119551120| 193197790|\n",
      "+----------+-------------+-------------+----------+\n",
      "\n"
     ]
    }
   ],
   "source": [
    "gcoin.groupBy('date').sum('free_use', 'paid_use', 'price').orderBy('date').show()"
   ]
  },
  {
   "cell_type": "code",
   "execution_count": null,
   "metadata": {},
   "outputs": [],
   "source": []
  },
  {
   "cell_type": "code",
   "execution_count": 34,
   "metadata": {},
   "outputs": [
    {
     "data": {
      "text/plain": [
       "460408"
      ]
     },
     "execution_count": 34,
     "metadata": {},
     "output_type": "execute_result"
    }
   ],
   "source": [
    "cash.count()"
   ]
  },
  {
   "cell_type": "code",
   "execution_count": 19,
   "metadata": {},
   "outputs": [
    {
     "name": "stdout",
     "output_type": "stream",
     "text": [
      "+----------+----------+\n",
      "|      date|sum(price)|\n",
      "+----------+----------+\n",
      "|2021-10-04|  10509230|\n",
      "|2021-10-05|   9894820|\n",
      "|2021-10-06|   8327570|\n",
      "|2021-10-07|  10078080|\n",
      "|2021-10-08|   9492510|\n",
      "|2021-10-09|  12735440|\n",
      "|2021-10-10|  15316250|\n",
      "+----------+----------+\n",
      "\n"
     ]
    }
   ],
   "source": [
    "gcoin.where(''' lower(product_name) like '%bundle%' ''').groupBy('date').sum('price').orderBy(\"date\").show()"
   ]
  },
  {
   "cell_type": "code",
   "execution_count": null,
   "metadata": {},
   "outputs": [],
   "source": []
  },
  {
   "cell_type": "code",
   "execution_count": 24,
   "metadata": {},
   "outputs": [
    {
     "name": "stdout",
     "output_type": "stream",
     "text": [
      "+----------+-----------+----------+----------+--------------------+\n",
      "|      date|total_price|      date|bundle_sum|               ratio|\n",
      "+----------+-----------+----------+----------+--------------------+\n",
      "|2021-10-04|   74195050|2021-10-04|  10509230|  0.1416432767415077|\n",
      "|2021-10-05|   73323380|2021-10-05|   9894820| 0.13494767971689248|\n",
      "|2021-10-06|  407601440|2021-10-06|   8327570|0.020430668743466655|\n",
      "|2021-10-07|  278781290|2021-10-07|  10078080|   0.036150489152267|\n",
      "|2021-10-08|  194522980|2021-10-08|   9492510| 0.04879891311556095|\n",
      "|2021-10-09|  196183330|2021-10-09|  12735440| 0.06491601503552825|\n",
      "|2021-10-10|  193197790|2021-10-10|  15316250| 0.07927756316467181|\n",
      "+----------+-----------+----------+----------+--------------------+\n",
      "\n"
     ]
    }
   ],
   "source": [
    "total = gcoin.groupBy('date').agg(sum('price').alias('total_price'))\n",
    "bundle = gcoin.where(''' lower(product_name) like '%bundle%' ''').groupBy('date').agg(sum('price').alias('bundle_sum'))\n",
    "\n",
    "total.join(bundle, total.date == bundle.date).withColumn('ratio', bundle.bundle_sum/total.total_price ).orderBy(total.date).show()"
   ]
  },
  {
   "cell_type": "code",
   "execution_count": 49,
   "metadata": {},
   "outputs": [
    {
     "name": "stdout",
     "output_type": "stream",
     "text": [
      "+----------+-----------+----------+----------+----------+\n",
      "|      date|total_price|      date|bundle_sum|percentage|\n",
      "+----------+-----------+----------+----------+----------+\n",
      "|2021-10-04|   74195050|2021-10-04|  10509230|     14.16|\n",
      "|2021-10-05|   73323380|2021-10-05|   9894820|     13.49|\n",
      "|2021-10-06|  407601440|2021-10-06|   8327570|      2.04|\n",
      "|2021-10-07|  278781290|2021-10-07|  10078080|      3.62|\n",
      "|2021-10-08|  194522980|2021-10-08|   9492510|      4.88|\n",
      "|2021-10-09|  196183330|2021-10-09|  12735440|      6.49|\n",
      "|2021-10-10|  193197790|2021-10-10|  15316250|      7.93|\n",
      "+----------+-----------+----------+----------+----------+\n",
      "\n"
     ]
    }
   ],
   "source": [
    "total.join(bundle, total.date == bundle.date).withColumn('percentage', round(bundle.bundle_sum/total.total_price*100, 2) ).orderBy(total.date).show()"
   ]
  },
  {
   "cell_type": "code",
   "execution_count": null,
   "metadata": {},
   "outputs": [],
   "source": []
  },
  {
   "cell_type": "markdown",
   "metadata": {},
   "source": [
    "- blackpink mega bundle: itemdesc.13000318\n",
    "    - 9900 gcoin, $100 "
   ]
  },
  {
   "cell_type": "code",
   "execution_count": 41,
   "metadata": {},
   "outputs": [
    {
     "name": "stdout",
     "output_type": "stream",
     "text": [
      "+----------+--------+----------+\n",
      "|      date|count(1)|sum(price)|\n",
      "+----------+--------+----------+\n",
      "|2021-10-04|     119|   1178100|\n",
      "|2021-10-05|     118|   1168200|\n",
      "|2021-10-06|     101|    999900|\n",
      "|2021-10-07|     115|   1138500|\n",
      "|2021-10-08|      92|    910800|\n",
      "|2021-10-09|     119|   1178100|\n",
      "|2021-10-10|     132|   1306800|\n",
      "+----------+--------+----------+\n",
      "\n"
     ]
    }
   ],
   "source": [
    "gcoin.where(\" product_id ==  'itemdesc.13000318' \").groupBy(\"date\").agg(count(\"*\"), sum(\"price\")).orderBy('date').show()"
   ]
  },
  {
   "cell_type": "code",
   "execution_count": 44,
   "metadata": {},
   "outputs": [
    {
     "name": "stdout",
     "output_type": "stream",
     "text": [
      "+----------+--------+--------+----------+\n",
      "|      date|platform|count(1)|sum(price)|\n",
      "+----------+--------+--------+----------+\n",
      "|2021-10-04|   KAKAO|       9|     89100|\n",
      "|2021-10-04|   STEAM|     110|   1089000|\n",
      "|2021-10-05|   KAKAO|      13|    128700|\n",
      "|2021-10-05|   STEAM|     105|   1039500|\n",
      "|2021-10-06|   KAKAO|      13|    128700|\n",
      "|2021-10-06|   STEAM|      88|    871200|\n",
      "|2021-10-07|   KAKAO|       9|     89100|\n",
      "|2021-10-07|   STEAM|     106|   1049400|\n",
      "|2021-10-08|   KAKAO|       9|     89100|\n",
      "|2021-10-08|   STEAM|      83|    821700|\n",
      "|2021-10-09|   KAKAO|      12|    118800|\n",
      "|2021-10-09|   STEAM|     107|   1059300|\n",
      "|2021-10-10|   KAKAO|      11|    108900|\n",
      "|2021-10-10|   STEAM|     121|   1197900|\n",
      "+----------+--------+--------+----------+\n",
      "\n"
     ]
    }
   ],
   "source": [
    "# Blackpink BUNDLE\n",
    "gcoin.where(\" product_id ==  'itemdesc.13000318' \").groupBy(\"date\", \"platform\").agg(count(\"*\"), sum(\"price\")).orderBy('date', 'platform').show()"
   ]
  },
  {
   "cell_type": "code",
   "execution_count": 47,
   "metadata": {},
   "outputs": [
    {
     "name": "stdout",
     "output_type": "stream",
     "text": [
      "+----------+--------+----+---------+\n",
      "|      date|platform| cnt|sum_price|\n",
      "+----------+--------+----+---------+\n",
      "|2021-10-04|   KAKAO| 595|  1199210|\n",
      "|2021-10-04|   STEAM|5033|  9310020|\n",
      "|2021-10-05|   KAKAO| 455|  1002420|\n",
      "|2021-10-05|   STEAM|4842|  8892400|\n",
      "|2021-10-06|   KAKAO| 339|   742200|\n",
      "|2021-10-06|  MAILRU|   1|      990|\n",
      "|2021-10-06|   STEAM|4336|  7584380|\n",
      "|2021-10-07|   KAKAO| 358|   742630|\n",
      "|2021-10-07|   STEAM|5337|  9335450|\n",
      "|2021-10-08|   KAKAO| 517|  1072150|\n",
      "|2021-10-08|   STEAM|4817|  8420360|\n",
      "|2021-10-09|   KAKAO| 503|  1051460|\n",
      "|2021-10-09|  MAILRU|   1|      560|\n",
      "|2021-10-09|   STEAM|7244| 11683420|\n",
      "|2021-10-10|   KAKAO| 598|  1256160|\n",
      "|2021-10-10|  MAILRU|   1|     1590|\n",
      "|2021-10-10|   STEAM|8685| 14058500|\n",
      "+----------+--------+----+---------+\n",
      "\n"
     ]
    }
   ],
   "source": [
    "# Total BUNDLE\n",
    "gcoin.where(\"\"\" lower(product_name) like '%bundle%' \"\"\").groupBy(\"date\", \"platform\").agg(count('*').alias('cnt'), sum('price').alias('sum_price')).orderBy('date', 'platform').show()"
   ]
  },
  {
   "cell_type": "code",
   "execution_count": null,
   "metadata": {},
   "outputs": [],
   "source": []
  },
  {
   "cell_type": "markdown",
   "metadata": {},
   "source": [
    "#### 2주간 추이 \n",
    "- 21.09.27 ~ 21.10.10"
   ]
  },
  {
   "cell_type": "code",
   "execution_count": 72,
   "metadata": {},
   "outputs": [],
   "source": [
    "user = load_data_mart(device='pc', start_date='2021-09-27', end_date='2021-10-10', table_name='user_master')\n",
    "user = user.where(col('lastlogindate') >= '2021-09-27')"
   ]
  },
  {
   "cell_type": "code",
   "execution_count": 74,
   "metadata": {},
   "outputs": [],
   "source": [
    "gcoin = load_data_mart(device='pc', start_date='2021-09-27', end_date='2021-10-10', table_name='gcoin_use')"
   ]
  },
  {
   "cell_type": "code",
   "execution_count": 75,
   "metadata": {},
   "outputs": [
    {
     "name": "stdout",
     "output_type": "stream",
     "text": [
      "The length of the user_master 47890492\n"
     ]
    }
   ],
   "source": [
    "print('The length of the user_master', user.count())"
   ]
  },
  {
   "cell_type": "code",
   "execution_count": 80,
   "metadata": {},
   "outputs": [
    {
     "name": "stdout",
     "output_type": "stream",
     "text": [
      "+----------+--------+-------+\n",
      "|      date|platform|     AU|\n",
      "+----------+--------+-------+\n",
      "|2021-09-27|   KAKAO|  96944|\n",
      "|2021-09-27|  MAILRU|   1606|\n",
      "|2021-09-27|   STEAM|1166259|\n",
      "|2021-09-28|   KAKAO| 144150|\n",
      "|2021-09-28|  MAILRU|   2180|\n",
      "|2021-09-28|   STEAM|1690297|\n",
      "|2021-09-29|   KAKAO| 179386|\n",
      "|2021-09-29|  MAILRU|   2557|\n",
      "|2021-09-29|   STEAM|2043186|\n",
      "|2021-09-30|   KAKAO| 207068|\n",
      "|2021-09-30|  MAILRU|   2835|\n",
      "|2021-09-30|   STEAM|2391340|\n",
      "|2021-10-01|   KAKAO| 241013|\n",
      "|2021-10-01|  MAILRU|   3112|\n",
      "|2021-10-01|   STEAM|2745819|\n",
      "|2021-10-02|   KAKAO| 281921|\n",
      "|2021-10-02|  MAILRU|   3436|\n",
      "|2021-10-02|   STEAM|3042003|\n",
      "|2021-10-03|   KAKAO| 316433|\n",
      "|2021-10-03|  MAILRU|   3710|\n",
      "+----------+--------+-------+\n",
      "only showing top 20 rows\n",
      "\n"
     ]
    }
   ],
   "source": [
    "user.groupBy('date', 'platform').agg(countDistinct('accountid').alias('AU')).orderBy('date', 'platform').show()"
   ]
  },
  {
   "cell_type": "code",
   "execution_count": 85,
   "metadata": {},
   "outputs": [
    {
     "name": "stdout",
     "output_type": "stream",
     "text": [
      "+----------+--------+------+---------+\n",
      "|      date|platform|    PU|gcoin_sum|\n",
      "+----------+--------+------+---------+\n",
      "|2021-09-27|   KAKAO|  1932|  4148130|\n",
      "|2021-09-27|  MAILRU|    13|     9660|\n",
      "|2021-09-27|   STEAM| 22246| 53744060|\n",
      "|2021-09-28|   KAKAO|  1985|  4548370|\n",
      "|2021-09-28|  MAILRU|     9|    12290|\n",
      "|2021-09-28|   STEAM| 32455| 60633980|\n",
      "|2021-09-29|   KAKAO|  7447|  9670350|\n",
      "|2021-09-29|  MAILRU|    29|    23780|\n",
      "|2021-09-29|   STEAM|105587|128246410|\n",
      "|2021-09-30|   KAKAO|  4233|  6655730|\n",
      "|2021-09-30|  MAILRU|    20|    46300|\n",
      "|2021-09-30|   STEAM| 75866| 82555890|\n",
      "|2021-10-01|   KAKAO|  4291|  7450650|\n",
      "|2021-10-01|  MAILRU|    12|     9790|\n",
      "|2021-10-01|   STEAM| 79679| 75406580|\n",
      "|2021-10-02|   KAKAO|  4285|  7246160|\n",
      "|2021-10-02|  MAILRU|    11|     8870|\n",
      "|2021-10-02|   STEAM| 84533| 70624090|\n",
      "|2021-10-03|   KAKAO|  3979|  6533420|\n",
      "|2021-10-03|  MAILRU|    12|     3870|\n",
      "+----------+--------+------+---------+\n",
      "only showing top 20 rows\n",
      "\n"
     ]
    }
   ],
   "source": [
    "gcoin.groupBy('date', 'platform').agg(countDistinct('account_id').alias('PU'), sum('price').alias('gcoin_sum')).orderBy('date', 'platform').show()"
   ]
  },
  {
   "cell_type": "code",
   "execution_count": 115,
   "metadata": {},
   "outputs": [],
   "source": [
    "au = user.groupBy('date', 'platform').agg(countDistinct('accountid').alias('au'))\n",
    "pu = gcoin.groupBy('date', 'platform').agg(countDistinct('account_id').alias('pu'), sum('price').alias('gcoin_sum'))\n",
    "pur = au.join(pu, [\"date\", \"platform\"], 'left').withColumn('pur', round(pu.pu/au.au, 4))"
   ]
  },
  {
   "cell_type": "code",
   "execution_count": 116,
   "metadata": {},
   "outputs": [
    {
     "name": "stdout",
     "output_type": "stream",
     "text": [
      "+----------+--------+-------+------+---------+------+\n",
      "|      date|platform|     au|    pu|gcoin_sum|   pur|\n",
      "+----------+--------+-------+------+---------+------+\n",
      "|2021-09-27|   KAKAO|  96944|  1932|  4148130|0.0199|\n",
      "|2021-09-27|  MAILRU|   1606|    13|     9660|0.0081|\n",
      "|2021-09-27|   STEAM|1166259| 22246| 53744060|0.0191|\n",
      "|2021-09-28|   KAKAO| 144150|  1985|  4548370|0.0138|\n",
      "|2021-09-28|  MAILRU|   2180|     9|    12290|0.0041|\n",
      "|2021-09-28|   STEAM|1690297| 32455| 60633980|0.0192|\n",
      "|2021-09-29|   KAKAO| 179386|  7447|  9670350|0.0415|\n",
      "|2021-09-29|  MAILRU|   2557|    29|    23780|0.0113|\n",
      "|2021-09-29|   STEAM|2043186|105587|128246410|0.0517|\n",
      "|2021-09-30|   KAKAO| 207068|  4233|  6655730|0.0204|\n",
      "|2021-09-30|  MAILRU|   2835|    20|    46300|0.0071|\n",
      "|2021-09-30|   STEAM|2391340| 75866| 82555890|0.0317|\n",
      "|2021-10-01|   KAKAO| 241013|  4291|  7450650|0.0178|\n",
      "|2021-10-01|  MAILRU|   3112|    12|     9790|0.0039|\n",
      "|2021-10-01|   STEAM|2745819| 79679| 75406580| 0.029|\n",
      "|2021-10-02|   KAKAO| 281921|  4285|  7246160|0.0152|\n",
      "|2021-10-02|  MAILRU|   3436|    11|     8870|0.0032|\n",
      "|2021-10-02|   STEAM|3042003| 84533| 70624090|0.0278|\n",
      "|2021-10-03|   KAKAO| 316433|  3979|  6533420|0.0126|\n",
      "|2021-10-03|  MAILRU|   3710|    12|     3870|0.0032|\n",
      "+----------+--------+-------+------+---------+------+\n",
      "only showing top 20 rows\n",
      "\n"
     ]
    }
   ],
   "source": [
    "pur.orderBy('date', 'platform').show()"
   ]
  },
  {
   "cell_type": "code",
   "execution_count": null,
   "metadata": {},
   "outputs": [],
   "source": []
  }
 ],
 "metadata": {
  "kernelspec": {
   "display_name": "Python 3",
   "language": "python",
   "name": "python3"
  },
  "language_info": {
   "codemirror_mode": {
    "name": "ipython",
    "version": 3
   },
   "file_extension": ".py",
   "mimetype": "text/x-python",
   "name": "python",
   "nbconvert_exporter": "python",
   "pygments_lexer": "ipython3",
   "version": "3.6.7"
  }
 },
 "nbformat": 4,
 "nbformat_minor": 4
}
