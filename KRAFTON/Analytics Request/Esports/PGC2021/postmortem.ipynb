{
 "cells": [
  {
   "cell_type": "code",
   "execution_count": 247,
   "metadata": {},
   "outputs": [
    {
     "name": "stdout",
     "output_type": "stream",
     "text": [
      "Spark cluster not assigned. creating a new one...\n",
      "Node spec: 8 executors with 48G RAM each\n",
      "Job Port 4049 is assigned for requested cluster\n",
      "Waiting for Spark master to be available...\n",
      "Spark master launched!\n",
      "Creating new Spark session, name: pdu_syp2...\n",
      "Waiting for all executors ready...\n",
      "All executors connected!\n",
      "Complete! elapsed time: 00:00:25\n"
     ]
    }
   ],
   "source": [
    "from pubg_util import mysql, load_schema, notifier\n",
    "from sphynx import sphynx, NODE_SMALL, NODE_MEDIUM, NODE_LARGE\n",
    "from pyspark.sql.functions import *\n",
    "import pandas as pd\n",
    "import pickle\n",
    "\n",
    "spark = sphynx.get_spark(executor_count=8, app_name='pdu_syp2', node_spec=NODE_LARGE)"
   ]
  },
  {
   "cell_type": "code",
   "execution_count": 248,
   "metadata": {},
   "outputs": [],
   "source": [
    "start_date = \"2021-11-12\"\n",
    "end_date = \"2021-12-18\""
   ]
  },
  {
   "cell_type": "code",
   "execution_count": 69,
   "metadata": {},
   "outputs": [],
   "source": [
    "pc_au = load_data_mart(start_date=start_date, end_date=end_date, table_name=\"user_master\", device=\"pc\").where(col(\"lastlogindate\") == col(\"date\"))"
   ]
  },
  {
   "cell_type": "code",
   "execution_count": 267,
   "metadata": {},
   "outputs": [],
   "source": [
    "console_au = load_data_mart(start_date=start_date, end_date=end_date, table_name=\"user_master\", device=\"console\").where(col(\"lastlogindate\") == col(\"date\"))"
   ]
  },
  {
   "cell_type": "code",
   "execution_count": 268,
   "metadata": {},
   "outputs": [],
   "source": [
    "# user 지역\n",
    "from pyspark.sql.types import * \n",
    "\n",
    "def classify_country(country_os, country_ip):\n",
    "    if country_os != 'CN':\n",
    "        return country_ip\n",
    "    else:\n",
    "        return country_os\n",
    "\n",
    "country_type_udf = udf(classify_country, StringType())\n",
    "\n",
    "meta_region = mysql.read_table(spark, 'metainfo', 'meta_bi_regions')"
   ]
  },
  {
   "cell_type": "code",
   "execution_count": 269,
   "metadata": {},
   "outputs": [],
   "source": [
    "# pc_au = pc_au.withColumn(\"country_new\", country_type_udf(\"country_os\", \"country_ip\"))\n",
    "# pc_au = pc_au.join(meta_region, pc_au.country_new == meta_region.country_code_iso2, \"left\")\n",
    "\n",
    "console_au = console_au.withColumn(\"country_new\", country_type_udf(\"country_os\", \"country_ip\"))\n",
    "console_au = console_au.join(meta_region, console_au.country_new == meta_region.country_code_iso2, \"left\")"
   ]
  },
  {
   "cell_type": "code",
   "execution_count": 270,
   "metadata": {},
   "outputs": [],
   "source": [
    "# pc_user = pc_au.select(\"accountid\", \"pubg_region\").distinct()\n",
    "console_user = console_au.select(\"accountid\", \"pubg_region\").distinct()"
   ]
  },
  {
   "cell_type": "code",
   "execution_count": 99,
   "metadata": {},
   "outputs": [],
   "source": [
    "pc_au_df = pc_au.groupBy(\"date\", \"platform\", \"pubg_region\").agg(countDistinct(\"accountid\").alias(\"au\")).toPandas()\n",
    "console_au_df = console_au.groupBy(\"date\", \"platform\", \"pubg_region\").agg(countDistinct(\"accountid\").alias(\"au\")).toPandas()"
   ]
  },
  {
   "cell_type": "code",
   "execution_count": 100,
   "metadata": {},
   "outputs": [
    {
     "data": {
      "text/html": [
       "<div>\n",
       "<style scoped>\n",
       "    .dataframe tbody tr th:only-of-type {\n",
       "        vertical-align: middle;\n",
       "    }\n",
       "\n",
       "    .dataframe tbody tr th {\n",
       "        vertical-align: top;\n",
       "    }\n",
       "\n",
       "    .dataframe thead th {\n",
       "        text-align: right;\n",
       "    }\n",
       "</style>\n",
       "<table border=\"1\" class=\"dataframe\">\n",
       "  <thead>\n",
       "    <tr style=\"text-align: right;\">\n",
       "      <th></th>\n",
       "      <th>date</th>\n",
       "      <th>platform</th>\n",
       "      <th>pubg_region</th>\n",
       "      <th>au</th>\n",
       "    </tr>\n",
       "  </thead>\n",
       "  <tbody>\n",
       "    <tr>\n",
       "      <th>0</th>\n",
       "      <td>2021-12-04</td>\n",
       "      <td>STEAM</td>\n",
       "      <td>EMEA</td>\n",
       "      <td>98663</td>\n",
       "    </tr>\n",
       "    <tr>\n",
       "      <th>1</th>\n",
       "      <td>2021-11-20</td>\n",
       "      <td>STEAM</td>\n",
       "      <td>CIS</td>\n",
       "      <td>60547</td>\n",
       "    </tr>\n",
       "    <tr>\n",
       "      <th>2</th>\n",
       "      <td>2021-12-04</td>\n",
       "      <td>MAILRU</td>\n",
       "      <td>CIS</td>\n",
       "      <td>1179</td>\n",
       "    </tr>\n",
       "    <tr>\n",
       "      <th>3</th>\n",
       "      <td>2021-12-06</td>\n",
       "      <td>KAKAO</td>\n",
       "      <td>CN</td>\n",
       "      <td>27</td>\n",
       "    </tr>\n",
       "    <tr>\n",
       "      <th>4</th>\n",
       "      <td>2021-12-11</td>\n",
       "      <td>KAKAO</td>\n",
       "      <td>CN</td>\n",
       "      <td>23</td>\n",
       "    </tr>\n",
       "  </tbody>\n",
       "</table>\n",
       "</div>"
      ],
      "text/plain": [
       "         date platform pubg_region     au\n",
       "0  2021-12-04    STEAM        EMEA  98663\n",
       "1  2021-11-20    STEAM         CIS  60547\n",
       "2  2021-12-04   MAILRU         CIS   1179\n",
       "3  2021-12-06    KAKAO          CN     27\n",
       "4  2021-12-11    KAKAO          CN     23"
      ]
     },
     "execution_count": 100,
     "metadata": {},
     "output_type": "execute_result"
    }
   ],
   "source": [
    "pc_au_df.head()"
   ]
  },
  {
   "cell_type": "code",
   "execution_count": 102,
   "metadata": {},
   "outputs": [],
   "source": [
    "pc_au_df.to_csv(\"./data/pc_au_df.csv\", index=False)\n",
    "console_au_df.to_csv(\"./data/console_au_df.csv\", index=False)"
   ]
  },
  {
   "cell_type": "code",
   "execution_count": null,
   "metadata": {},
   "outputs": [],
   "source": []
  },
  {
   "cell_type": "code",
   "execution_count": 227,
   "metadata": {},
   "outputs": [],
   "source": [
    "pc_product_list = [\"itemdesc.13000383\", \"itemdesc.13000384\", \"itemdesc.13000385\", \"itemdesc.13000386\"]\n",
    "console_product_list = [\"itemdesc.13000387\", \"itemdesc.13000388\", \"itemdesc.16100298\", \"itemdesc.13000389\", \"itemdesc.12032102\", \"itemdesc.12031102\", \"itemdesc.12020036\", \"itemdesc.12010510\", \"itemdesc.12010501\"]"
   ]
  },
  {
   "cell_type": "code",
   "execution_count": 251,
   "metadata": {},
   "outputs": [
    {
     "data": {
      "text/plain": [
       "9"
      ]
     },
     "execution_count": 251,
     "metadata": {},
     "output_type": "execute_result"
    }
   ],
   "source": [
    "len(console_product_list)"
   ]
  },
  {
   "cell_type": "code",
   "execution_count": 249,
   "metadata": {},
   "outputs": [],
   "source": [
    "pc_gcoin = load_data_mart(start_date=start_date, end_date=end_date, table_name=\"gcoin_use\", device=\"pc\").where(col(\"product_id\").isin(pc_product_list))\n",
    "console_gcoin = load_data_mart(start_date=start_date, end_date=end_date, table_name=\"gcoin_use\", device=\"console\").where(col(\"product_id\").isin(console_product_list))"
   ]
  },
  {
   "cell_type": "code",
   "execution_count": 283,
   "metadata": {},
   "outputs": [
    {
     "name": "stdout",
     "output_type": "stream",
     "text": [
      "+-------------------------------+\n",
      "|(sum(free_use) + sum(paid_use))|\n",
      "+-------------------------------+\n",
      "|1337673360                     |\n",
      "+-------------------------------+\n",
      "\n"
     ]
    }
   ],
   "source": [
    "pc_gcoin.select(sum(\"free_use\") + sum(\"paid_use\")).show(truncate=False)"
   ]
  },
  {
   "cell_type": "code",
   "execution_count": 271,
   "metadata": {},
   "outputs": [],
   "source": [
    "# pc_gcoin_with_region = pc_gcoin.join(pc_user, pc_gcoin.account_id == pc_user.accountid, how=\"left\")\n",
    "console_gcoin_with_region = console_gcoin.join(console_user, console_gcoin.account_id == console_user.accountid, how=\"left\")"
   ]
  },
  {
   "cell_type": "code",
   "execution_count": 235,
   "metadata": {},
   "outputs": [],
   "source": [
    "pc_daily_pu = pc_gcoin.groupBy(\"date\").agg(countDistinct(\"account_id\").alias(\"pu\")).toPandas()\n",
    "console_daily_pu = console_gcoin.groupBy(\"date\").agg(countDistinct(\"account_id\").alias(\"pu\")).toPandas()"
   ]
  },
  {
   "cell_type": "code",
   "execution_count": 236,
   "metadata": {},
   "outputs": [],
   "source": [
    "pc_daily_au = pc_au_df.groupby(\"date\", as_index=False)[\"au\"].sum()\n",
    "console_daily_au = console_au_df.groupby(\"date\", as_index=False)[\"au\"].sum()"
   ]
  },
  {
   "cell_type": "code",
   "execution_count": 240,
   "metadata": {},
   "outputs": [],
   "source": [
    "pd.merge(pc_daily_au, pc_daily_pu, on=\"date\").to_csv(\"./data/pc_daily_pur.csv\", index=False)\n",
    "pd.merge(console_daily_au, console_daily_pu, on=\"date\").to_csv(\"./data/console_daily_pur.csv\", index=False)"
   ]
  },
  {
   "cell_type": "markdown",
   "metadata": {},
   "source": [
    "### Daily AU & PU by Platform"
   ]
  },
  {
   "cell_type": "code",
   "execution_count": 149,
   "metadata": {},
   "outputs": [],
   "source": [
    "pc_platform_daily_pu = pc_gcoin.groupBy(\"date\", \"platform\").agg(countDistinct(\"account_id\").alias(\"pu\")).toPandas()\n",
    "console_platform_daily_pu = console_gcoin.groupBy(\"date\", \"platform\").agg(countDistinct(\"account_id\").alias(\"pu\")).toPandas()"
   ]
  },
  {
   "cell_type": "code",
   "execution_count": 150,
   "metadata": {},
   "outputs": [],
   "source": [
    "pc_platform_daily_pu.to_csv(\"./data/pc_platform_daily_pu.csv\", index=False)\n",
    "console_platform_daily_pu.to_csv(\"./data/console_platform_daily_pu.csv\", index=False)"
   ]
  },
  {
   "cell_type": "code",
   "execution_count": 151,
   "metadata": {},
   "outputs": [
    {
     "data": {
      "text/html": [
       "<div>\n",
       "<style scoped>\n",
       "    .dataframe tbody tr th:only-of-type {\n",
       "        vertical-align: middle;\n",
       "    }\n",
       "\n",
       "    .dataframe tbody tr th {\n",
       "        vertical-align: top;\n",
       "    }\n",
       "\n",
       "    .dataframe thead th {\n",
       "        text-align: right;\n",
       "    }\n",
       "</style>\n",
       "<table border=\"1\" class=\"dataframe\">\n",
       "  <thead>\n",
       "    <tr style=\"text-align: right;\">\n",
       "      <th></th>\n",
       "      <th>date</th>\n",
       "      <th>platform</th>\n",
       "      <th>pu</th>\n",
       "    </tr>\n",
       "  </thead>\n",
       "  <tbody>\n",
       "    <tr>\n",
       "      <th>0</th>\n",
       "      <td>2021-11-12</td>\n",
       "      <td>KAKAO</td>\n",
       "      <td>5395</td>\n",
       "    </tr>\n",
       "    <tr>\n",
       "      <th>79</th>\n",
       "      <td>2021-11-12</td>\n",
       "      <td>MAILRU</td>\n",
       "      <td>9</td>\n",
       "    </tr>\n",
       "    <tr>\n",
       "      <th>37</th>\n",
       "      <td>2021-11-12</td>\n",
       "      <td>STEAM</td>\n",
       "      <td>84473</td>\n",
       "    </tr>\n",
       "    <tr>\n",
       "      <th>32</th>\n",
       "      <td>2021-11-13</td>\n",
       "      <td>KAKAO</td>\n",
       "      <td>3100</td>\n",
       "    </tr>\n",
       "    <tr>\n",
       "      <th>74</th>\n",
       "      <td>2021-11-13</td>\n",
       "      <td>MAILRU</td>\n",
       "      <td>4</td>\n",
       "    </tr>\n",
       "  </tbody>\n",
       "</table>\n",
       "</div>"
      ],
      "text/plain": [
       "          date platform     pu\n",
       "0   2021-11-12    KAKAO   5395\n",
       "79  2021-11-12   MAILRU      9\n",
       "37  2021-11-12    STEAM  84473\n",
       "32  2021-11-13    KAKAO   3100\n",
       "74  2021-11-13   MAILRU      4"
      ]
     },
     "execution_count": 151,
     "metadata": {},
     "output_type": "execute_result"
    }
   ],
   "source": [
    "pc_platform_daily_pu.sort_values([\"date\", \"platform\"]).head()"
   ]
  },
  {
   "cell_type": "code",
   "execution_count": 188,
   "metadata": {},
   "outputs": [],
   "source": [
    "pc_platform_daily_au = pc_au_df.groupby([\"date\", \"platform\"], as_index=False)[\"au\"].sum()\n",
    "console_platform_daily_au = console_au_df.groupby([\"date\", \"platform\"], as_index=False)[\"au\"].sum()"
   ]
  },
  {
   "cell_type": "code",
   "execution_count": 189,
   "metadata": {},
   "outputs": [],
   "source": [
    "# pc_platform_daily_pu.date = pc_platform_daily_pu.date.astype(str)\n",
    "# pc_platform_daily_au.date = pc_platform_daily_au.date.astype(str)\n",
    "# console_platform_daily_au.date = console_platform_daily_au.date.astype(str)\n",
    "# console_platform_daily_pu.date = console_platform_daily_pu.date.astype(str)"
   ]
  },
  {
   "cell_type": "code",
   "execution_count": 187,
   "metadata": {},
   "outputs": [],
   "source": [
    "pc_platform_daily = pd.merge(pc_platform_daily_au, pc_platform_daily_pu, on=[\"date\", \"platform\"])\n",
    "pc_platform_daily.to_csv(\"./data/pc_platform_daily.csv\", index=False)"
   ]
  },
  {
   "cell_type": "code",
   "execution_count": 202,
   "metadata": {},
   "outputs": [
    {
     "data": {
      "text/html": [
       "<div>\n",
       "<style scoped>\n",
       "    .dataframe tbody tr th:only-of-type {\n",
       "        vertical-align: middle;\n",
       "    }\n",
       "\n",
       "    .dataframe tbody tr th {\n",
       "        vertical-align: top;\n",
       "    }\n",
       "\n",
       "    .dataframe thead th {\n",
       "        text-align: right;\n",
       "    }\n",
       "</style>\n",
       "<table border=\"1\" class=\"dataframe\">\n",
       "  <thead>\n",
       "    <tr style=\"text-align: right;\">\n",
       "      <th></th>\n",
       "      <th>date</th>\n",
       "      <th>platform</th>\n",
       "      <th>au</th>\n",
       "      <th>pu</th>\n",
       "    </tr>\n",
       "  </thead>\n",
       "  <tbody>\n",
       "    <tr>\n",
       "      <th>0</th>\n",
       "      <td>2021-11-12</td>\n",
       "      <td>KAKAO</td>\n",
       "      <td>105555</td>\n",
       "      <td>5395</td>\n",
       "    </tr>\n",
       "    <tr>\n",
       "      <th>1</th>\n",
       "      <td>2021-11-12</td>\n",
       "      <td>MAILRU</td>\n",
       "      <td>1872</td>\n",
       "      <td>9</td>\n",
       "    </tr>\n",
       "    <tr>\n",
       "      <th>2</th>\n",
       "      <td>2021-11-12</td>\n",
       "      <td>STEAM</td>\n",
       "      <td>1136535</td>\n",
       "      <td>84473</td>\n",
       "    </tr>\n",
       "    <tr>\n",
       "      <th>3</th>\n",
       "      <td>2021-11-13</td>\n",
       "      <td>KAKAO</td>\n",
       "      <td>118307</td>\n",
       "      <td>3100</td>\n",
       "    </tr>\n",
       "    <tr>\n",
       "      <th>4</th>\n",
       "      <td>2021-11-13</td>\n",
       "      <td>MAILRU</td>\n",
       "      <td>1960</td>\n",
       "      <td>4</td>\n",
       "    </tr>\n",
       "  </tbody>\n",
       "</table>\n",
       "</div>"
      ],
      "text/plain": [
       "         date platform       au     pu\n",
       "0  2021-11-12    KAKAO   105555   5395\n",
       "1  2021-11-12   MAILRU     1872      9\n",
       "2  2021-11-12    STEAM  1136535  84473\n",
       "3  2021-11-13    KAKAO   118307   3100\n",
       "4  2021-11-13   MAILRU     1960      4"
      ]
     },
     "execution_count": 202,
     "metadata": {},
     "output_type": "execute_result"
    }
   ],
   "source": [
    "pc_platform_daily.head()"
   ]
  },
  {
   "cell_type": "code",
   "execution_count": 191,
   "metadata": {},
   "outputs": [],
   "source": [
    "console_platform_daily = pd.merge(console_platform_daily_au, console_platform_daily_pu, on=[\"date\", \"platform\"])\n",
    "console_platform_daily.to_csv(\"./data/console_platform_daily.csv\", index=False)"
   ]
  },
  {
   "cell_type": "code",
   "execution_count": null,
   "metadata": {},
   "outputs": [],
   "source": []
  },
  {
   "cell_type": "markdown",
   "metadata": {},
   "source": [
    "### Total AU & PU by Platform"
   ]
  },
  {
   "cell_type": "code",
   "execution_count": 152,
   "metadata": {},
   "outputs": [],
   "source": [
    "pc_platform_pu = pc_gcoin.groupBy(\"platform\").agg(countDistinct(\"account_id\").alias(\"pu\")).toPandas()\n",
    "console_platform_pu = console_gcoin.groupBy(\"platform\").agg(countDistinct(\"account_id\").alias(\"pu\")).toPandas()"
   ]
  },
  {
   "cell_type": "code",
   "execution_count": 153,
   "metadata": {},
   "outputs": [],
   "source": [
    "pc_platform_pu.to_csv(\"./data/pc_platform_pu.csv\", index=False)\n",
    "console_platform_pu.to_csv(\"./data/console_platform_pu.csv\", index=False)"
   ]
  },
  {
   "cell_type": "code",
   "execution_count": 154,
   "metadata": {},
   "outputs": [
    {
     "data": {
      "text/html": [
       "<div>\n",
       "<style scoped>\n",
       "    .dataframe tbody tr th:only-of-type {\n",
       "        vertical-align: middle;\n",
       "    }\n",
       "\n",
       "    .dataframe tbody tr th {\n",
       "        vertical-align: top;\n",
       "    }\n",
       "\n",
       "    .dataframe thead th {\n",
       "        text-align: right;\n",
       "    }\n",
       "</style>\n",
       "<table border=\"1\" class=\"dataframe\">\n",
       "  <thead>\n",
       "    <tr style=\"text-align: right;\">\n",
       "      <th></th>\n",
       "      <th>platform</th>\n",
       "      <th>pu</th>\n",
       "    </tr>\n",
       "  </thead>\n",
       "  <tbody>\n",
       "    <tr>\n",
       "      <th>0</th>\n",
       "      <td>KAKAO</td>\n",
       "      <td>25541</td>\n",
       "    </tr>\n",
       "    <tr>\n",
       "      <th>1</th>\n",
       "      <td>STEAM</td>\n",
       "      <td>262868</td>\n",
       "    </tr>\n",
       "    <tr>\n",
       "      <th>2</th>\n",
       "      <td>MAILRU</td>\n",
       "      <td>29</td>\n",
       "    </tr>\n",
       "  </tbody>\n",
       "</table>\n",
       "</div>"
      ],
      "text/plain": [
       "  platform      pu\n",
       "0    KAKAO   25541\n",
       "1    STEAM  262868\n",
       "2   MAILRU      29"
      ]
     },
     "execution_count": 154,
     "metadata": {},
     "output_type": "execute_result"
    }
   ],
   "source": [
    "pc_platform_pu"
   ]
  },
  {
   "cell_type": "code",
   "execution_count": 42,
   "metadata": {},
   "outputs": [],
   "source": [
    "pc_platform_au = pc_au.groupBy(\"platform\").agg(countDistinct(\"accountid\").alias(\"au\")).toPandas()\n",
    "console_platform_au = console_au.groupBy(\"platform\").agg(countDistinct(\"accountid\").alias(\"au\")).toPandas()\n",
    "\n",
    "# pc_platform_au.to_csv(\"./data/pc_platform_au.csv\", index=False)\n",
    "# console_platform_au.to_csv(\"./data/console_platform_au.csv\", index=False)"
   ]
  },
  {
   "cell_type": "code",
   "execution_count": 86,
   "metadata": {},
   "outputs": [
    {
     "data": {
      "text/html": [
       "<div>\n",
       "<style scoped>\n",
       "    .dataframe tbody tr th:only-of-type {\n",
       "        vertical-align: middle;\n",
       "    }\n",
       "\n",
       "    .dataframe tbody tr th {\n",
       "        vertical-align: top;\n",
       "    }\n",
       "\n",
       "    .dataframe thead th {\n",
       "        text-align: right;\n",
       "    }\n",
       "</style>\n",
       "<table border=\"1\" class=\"dataframe\">\n",
       "  <thead>\n",
       "    <tr style=\"text-align: right;\">\n",
       "      <th></th>\n",
       "      <th>platform</th>\n",
       "      <th>au</th>\n",
       "    </tr>\n",
       "  </thead>\n",
       "  <tbody>\n",
       "    <tr>\n",
       "      <th>0</th>\n",
       "      <td>KAKAO</td>\n",
       "      <td>726358</td>\n",
       "    </tr>\n",
       "    <tr>\n",
       "      <th>1</th>\n",
       "      <td>STEAM</td>\n",
       "      <td>5782798</td>\n",
       "    </tr>\n",
       "    <tr>\n",
       "      <th>2</th>\n",
       "      <td>MAILRU</td>\n",
       "      <td>7682</td>\n",
       "    </tr>\n",
       "  </tbody>\n",
       "</table>\n",
       "</div>"
      ],
      "text/plain": [
       "  platform       au\n",
       "0    KAKAO   726358\n",
       "1    STEAM  5782798\n",
       "2   MAILRU     7682"
      ]
     },
     "execution_count": 86,
     "metadata": {},
     "output_type": "execute_result"
    }
   ],
   "source": [
    "pc_platform_au"
   ]
  },
  {
   "cell_type": "code",
   "execution_count": 193,
   "metadata": {},
   "outputs": [
    {
     "data": {
      "text/html": [
       "<div>\n",
       "<style scoped>\n",
       "    .dataframe tbody tr th:only-of-type {\n",
       "        vertical-align: middle;\n",
       "    }\n",
       "\n",
       "    .dataframe tbody tr th {\n",
       "        vertical-align: top;\n",
       "    }\n",
       "\n",
       "    .dataframe thead th {\n",
       "        text-align: right;\n",
       "    }\n",
       "</style>\n",
       "<table border=\"1\" class=\"dataframe\">\n",
       "  <thead>\n",
       "    <tr style=\"text-align: right;\">\n",
       "      <th></th>\n",
       "      <th>platform</th>\n",
       "      <th>pu</th>\n",
       "      <th>au</th>\n",
       "    </tr>\n",
       "  </thead>\n",
       "  <tbody>\n",
       "    <tr>\n",
       "      <th>0</th>\n",
       "      <td>KAKAO</td>\n",
       "      <td>25541</td>\n",
       "      <td>726358</td>\n",
       "    </tr>\n",
       "    <tr>\n",
       "      <th>1</th>\n",
       "      <td>STEAM</td>\n",
       "      <td>262868</td>\n",
       "      <td>5782798</td>\n",
       "    </tr>\n",
       "    <tr>\n",
       "      <th>2</th>\n",
       "      <td>MAILRU</td>\n",
       "      <td>29</td>\n",
       "      <td>7682</td>\n",
       "    </tr>\n",
       "  </tbody>\n",
       "</table>\n",
       "</div>"
      ],
      "text/plain": [
       "  platform      pu       au\n",
       "0    KAKAO   25541   726358\n",
       "1    STEAM  262868  5782798\n",
       "2   MAILRU      29     7682"
      ]
     },
     "execution_count": 193,
     "metadata": {},
     "output_type": "execute_result"
    }
   ],
   "source": [
    "pd.merge(pc_platform_pu, pc_platform_au, on=\"platform\")"
   ]
  },
  {
   "cell_type": "code",
   "execution_count": 194,
   "metadata": {},
   "outputs": [
    {
     "data": {
      "text/html": [
       "<div>\n",
       "<style scoped>\n",
       "    .dataframe tbody tr th:only-of-type {\n",
       "        vertical-align: middle;\n",
       "    }\n",
       "\n",
       "    .dataframe tbody tr th {\n",
       "        vertical-align: top;\n",
       "    }\n",
       "\n",
       "    .dataframe thead th {\n",
       "        text-align: right;\n",
       "    }\n",
       "</style>\n",
       "<table border=\"1\" class=\"dataframe\">\n",
       "  <thead>\n",
       "    <tr style=\"text-align: right;\">\n",
       "      <th></th>\n",
       "      <th>platform</th>\n",
       "      <th>pu</th>\n",
       "      <th>au</th>\n",
       "    </tr>\n",
       "  </thead>\n",
       "  <tbody>\n",
       "    <tr>\n",
       "      <th>0</th>\n",
       "      <td>XBOX</td>\n",
       "      <td>11625</td>\n",
       "      <td>677807</td>\n",
       "    </tr>\n",
       "    <tr>\n",
       "      <th>1</th>\n",
       "      <td>STADIA</td>\n",
       "      <td>39</td>\n",
       "      <td>7441</td>\n",
       "    </tr>\n",
       "    <tr>\n",
       "      <th>2</th>\n",
       "      <td>PSN</td>\n",
       "      <td>4406</td>\n",
       "      <td>306905</td>\n",
       "    </tr>\n",
       "  </tbody>\n",
       "</table>\n",
       "</div>"
      ],
      "text/plain": [
       "  platform     pu      au\n",
       "0     XBOX  11625  677807\n",
       "1   STADIA     39    7441\n",
       "2      PSN   4406  306905"
      ]
     },
     "execution_count": 194,
     "metadata": {},
     "output_type": "execute_result"
    }
   ],
   "source": [
    "pd.merge(console_platform_pu, console_platform_au, on=\"platform\")"
   ]
  },
  {
   "cell_type": "code",
   "execution_count": null,
   "metadata": {},
   "outputs": [],
   "source": []
  },
  {
   "cell_type": "markdown",
   "metadata": {},
   "source": [
    "### Daily AU & PU by Region"
   ]
  },
  {
   "cell_type": "code",
   "execution_count": 155,
   "metadata": {},
   "outputs": [],
   "source": [
    "pc_region_daily_pu = pc_gcoin_with_region.groupBy(\"date\", \"pubg_region\").agg(countDistinct(\"account_id\").alias(\"pu\")).toPandas()\n",
    "console_region_daily_pu = console_gcoin_with_region.groupBy(\"date\", \"pubg_region\").agg(countDistinct(\"account_id\").alias(\"pu\")).toPandas()"
   ]
  },
  {
   "cell_type": "code",
   "execution_count": 156,
   "metadata": {},
   "outputs": [],
   "source": [
    "pc_region_daily_pu.to_csv(\"./data/pc_region_daily_pu.csv\", index=False)\n",
    "console_region_daily_pu.to_csv(\"./data/console_region_daily_pu.csv\", index=False)"
   ]
  },
  {
   "cell_type": "code",
   "execution_count": 157,
   "metadata": {},
   "outputs": [
    {
     "data": {
      "text/html": [
       "<div>\n",
       "<style scoped>\n",
       "    .dataframe tbody tr th:only-of-type {\n",
       "        vertical-align: middle;\n",
       "    }\n",
       "\n",
       "    .dataframe tbody tr th {\n",
       "        vertical-align: top;\n",
       "    }\n",
       "\n",
       "    .dataframe thead th {\n",
       "        text-align: right;\n",
       "    }\n",
       "</style>\n",
       "<table border=\"1\" class=\"dataframe\">\n",
       "  <thead>\n",
       "    <tr style=\"text-align: right;\">\n",
       "      <th></th>\n",
       "      <th>date</th>\n",
       "      <th>pubg_region</th>\n",
       "      <th>pu</th>\n",
       "    </tr>\n",
       "  </thead>\n",
       "  <tbody>\n",
       "    <tr>\n",
       "      <th>357</th>\n",
       "      <td>2021-11-12</td>\n",
       "      <td>CIS</td>\n",
       "      <td>1191</td>\n",
       "    </tr>\n",
       "    <tr>\n",
       "      <th>242</th>\n",
       "      <td>2021-11-12</td>\n",
       "      <td>CN</td>\n",
       "      <td>69040</td>\n",
       "    </tr>\n",
       "    <tr>\n",
       "      <th>150</th>\n",
       "      <td>2021-11-12</td>\n",
       "      <td>EMEA</td>\n",
       "      <td>2101</td>\n",
       "    </tr>\n",
       "    <tr>\n",
       "      <th>333</th>\n",
       "      <td>2021-11-12</td>\n",
       "      <td>JP</td>\n",
       "      <td>169</td>\n",
       "    </tr>\n",
       "    <tr>\n",
       "      <th>290</th>\n",
       "      <td>2021-11-12</td>\n",
       "      <td>KR</td>\n",
       "      <td>13037</td>\n",
       "    </tr>\n",
       "  </tbody>\n",
       "</table>\n",
       "</div>"
      ],
      "text/plain": [
       "           date pubg_region     pu\n",
       "357  2021-11-12         CIS   1191\n",
       "242  2021-11-12          CN  69040\n",
       "150  2021-11-12        EMEA   2101\n",
       "333  2021-11-12          JP    169\n",
       "290  2021-11-12          KR  13037"
      ]
     },
     "execution_count": 157,
     "metadata": {},
     "output_type": "execute_result"
    }
   ],
   "source": [
    "pc_region_daily_pu.sort_values([\"date\", \"pubg_region\"]).head()"
   ]
  },
  {
   "cell_type": "code",
   "execution_count": 195,
   "metadata": {},
   "outputs": [],
   "source": [
    "pc_region_daily_au = pc_au_df.groupby([\"date\", \"pubg_region\"], as_index=False)[\"au\"].sum()\n",
    "console_region_daily_au = console_au_df.groupby([\"date\", \"pubg_region\"], as_index=False)[\"au\"].sum()\n",
    "pc_region_daily_au.date = pc_region_daily_au.date.astype(str)\n",
    "console_region_daily_au.date = console_region_daily_au.date.astype(str)\n",
    "pc_region_daily_pu.date = pc_region_daily_pu.date.astype(str)\n",
    "console_region_daily_pu.date = console_region_daily_pu.date.astype(str)"
   ]
  },
  {
   "cell_type": "code",
   "execution_count": 198,
   "metadata": {},
   "outputs": [],
   "source": [
    "pc_region_daily = pd.merge(pc_region_daily_au, pc_region_daily_pu, on=[\"date\", \"pubg_region\"])\n",
    "pc_region_daily.to_csv(\"./data/pc_region_daily.csv\", index=False)\n",
    "\n",
    "console_region_daily = pd.merge(console_region_daily_au, console_region_daily_pu, on=[\"date\", \"pubg_region\"])\n",
    "console_region_daily.to_csv(\"./data/console_region_daily.csv\", index=False)"
   ]
  },
  {
   "cell_type": "code",
   "execution_count": null,
   "metadata": {},
   "outputs": [],
   "source": []
  },
  {
   "cell_type": "markdown",
   "metadata": {},
   "source": [
    "### Total AU & PU by Region"
   ]
  },
  {
   "cell_type": "code",
   "execution_count": 158,
   "metadata": {},
   "outputs": [],
   "source": [
    "pc_region_pu = pc_gcoin_with_region.groupBy(\"pubg_region\").agg(countDistinct(\"account_id\").alias(\"pu\")).toPandas()\n",
    "console_region_pu = console_gcoin_with_region.groupBy(\"pubg_region\").agg(countDistinct(\"account_id\").alias(\"pu\")).toPandas()"
   ]
  },
  {
   "cell_type": "code",
   "execution_count": 159,
   "metadata": {},
   "outputs": [],
   "source": [
    "pc_region_pu.to_csv(\"./data/pc_region_pu.csv\", index=False)\n",
    "console_region_pu.to_csv(\"./data/console_region_pu.csv\", index=False)"
   ]
  },
  {
   "cell_type": "code",
   "execution_count": 111,
   "metadata": {},
   "outputs": [],
   "source": [
    "pc_region_au = pc_au.groupBy(\"pubg_region\").agg(countDistinct(\"accountid\").alias(\"au\")).toPandas()\n",
    "console_region_au = console_au.groupBy(\"pubg_region\").agg(countDistinct(\"accountid\").alias(\"au\")).toPandas()\n",
    "\n",
    "pc_region_au.to_csv(\"./data/pc_region_au.csv\", index=False)\n",
    "console_region_au.to_csv(\"./data/console_region_au.csv\", index=False)"
   ]
  },
  {
   "cell_type": "code",
   "execution_count": 199,
   "metadata": {},
   "outputs": [
    {
     "data": {
      "text/html": [
       "<div>\n",
       "<style scoped>\n",
       "    .dataframe tbody tr th:only-of-type {\n",
       "        vertical-align: middle;\n",
       "    }\n",
       "\n",
       "    .dataframe tbody tr th {\n",
       "        vertical-align: top;\n",
       "    }\n",
       "\n",
       "    .dataframe thead th {\n",
       "        text-align: right;\n",
       "    }\n",
       "</style>\n",
       "<table border=\"1\" class=\"dataframe\">\n",
       "  <thead>\n",
       "    <tr style=\"text-align: right;\">\n",
       "      <th></th>\n",
       "      <th>pubg_region</th>\n",
       "      <th>au</th>\n",
       "      <th>pu</th>\n",
       "    </tr>\n",
       "  </thead>\n",
       "  <tbody>\n",
       "    <tr>\n",
       "      <th>0</th>\n",
       "      <td>CN</td>\n",
       "      <td>3759605</td>\n",
       "      <td>199891</td>\n",
       "    </tr>\n",
       "    <tr>\n",
       "      <th>1</th>\n",
       "      <td>NA</td>\n",
       "      <td>151755</td>\n",
       "      <td>3162</td>\n",
       "    </tr>\n",
       "    <tr>\n",
       "      <th>2</th>\n",
       "      <td>SA</td>\n",
       "      <td>110434</td>\n",
       "      <td>1894</td>\n",
       "    </tr>\n",
       "    <tr>\n",
       "      <th>3</th>\n",
       "      <td>KR</td>\n",
       "      <td>1376148</td>\n",
       "      <td>57098</td>\n",
       "    </tr>\n",
       "    <tr>\n",
       "      <th>4</th>\n",
       "      <td>SEA</td>\n",
       "      <td>249764</td>\n",
       "      <td>9870</td>\n",
       "    </tr>\n",
       "    <tr>\n",
       "      <th>5</th>\n",
       "      <td>Undefined</td>\n",
       "      <td>558</td>\n",
       "      <td>6</td>\n",
       "    </tr>\n",
       "    <tr>\n",
       "      <th>6</th>\n",
       "      <td>JP</td>\n",
       "      <td>26119</td>\n",
       "      <td>690</td>\n",
       "    </tr>\n",
       "    <tr>\n",
       "      <th>7</th>\n",
       "      <td>TW/HK</td>\n",
       "      <td>52970</td>\n",
       "      <td>1930</td>\n",
       "    </tr>\n",
       "    <tr>\n",
       "      <th>8</th>\n",
       "      <td>CIS</td>\n",
       "      <td>297871</td>\n",
       "      <td>4663</td>\n",
       "    </tr>\n",
       "    <tr>\n",
       "      <th>9</th>\n",
       "      <td>EMEA</td>\n",
       "      <td>468911</td>\n",
       "      <td>8564</td>\n",
       "    </tr>\n",
       "    <tr>\n",
       "      <th>10</th>\n",
       "      <td>OC</td>\n",
       "      <td>26984</td>\n",
       "      <td>888</td>\n",
       "    </tr>\n",
       "  </tbody>\n",
       "</table>\n",
       "</div>"
      ],
      "text/plain": [
       "   pubg_region       au      pu\n",
       "0           CN  3759605  199891\n",
       "1           NA   151755    3162\n",
       "2           SA   110434    1894\n",
       "3           KR  1376148   57098\n",
       "4          SEA   249764    9870\n",
       "5    Undefined      558       6\n",
       "6           JP    26119     690\n",
       "7        TW/HK    52970    1930\n",
       "8          CIS   297871    4663\n",
       "9         EMEA   468911    8564\n",
       "10          OC    26984     888"
      ]
     },
     "execution_count": 199,
     "metadata": {},
     "output_type": "execute_result"
    }
   ],
   "source": [
    "pd.merge(pc_region_au, pc_region_pu, on=\"pubg_region\")"
   ]
  },
  {
   "cell_type": "code",
   "execution_count": 200,
   "metadata": {},
   "outputs": [
    {
     "data": {
      "text/html": [
       "<div>\n",
       "<style scoped>\n",
       "    .dataframe tbody tr th:only-of-type {\n",
       "        vertical-align: middle;\n",
       "    }\n",
       "\n",
       "    .dataframe tbody tr th {\n",
       "        vertical-align: top;\n",
       "    }\n",
       "\n",
       "    .dataframe thead th {\n",
       "        text-align: right;\n",
       "    }\n",
       "</style>\n",
       "<table border=\"1\" class=\"dataframe\">\n",
       "  <thead>\n",
       "    <tr style=\"text-align: right;\">\n",
       "      <th></th>\n",
       "      <th>pubg_region</th>\n",
       "      <th>au</th>\n",
       "      <th>pu</th>\n",
       "    </tr>\n",
       "  </thead>\n",
       "  <tbody>\n",
       "    <tr>\n",
       "      <th>0</th>\n",
       "      <td>CN</td>\n",
       "      <td>6502</td>\n",
       "      <td>57</td>\n",
       "    </tr>\n",
       "    <tr>\n",
       "      <th>1</th>\n",
       "      <td>NA</td>\n",
       "      <td>537764</td>\n",
       "      <td>10218</td>\n",
       "    </tr>\n",
       "    <tr>\n",
       "      <th>2</th>\n",
       "      <td>SA</td>\n",
       "      <td>135219</td>\n",
       "      <td>1391</td>\n",
       "    </tr>\n",
       "    <tr>\n",
       "      <th>3</th>\n",
       "      <td>KR</td>\n",
       "      <td>5543</td>\n",
       "      <td>130</td>\n",
       "    </tr>\n",
       "    <tr>\n",
       "      <th>4</th>\n",
       "      <td>SEA</td>\n",
       "      <td>8381</td>\n",
       "      <td>111</td>\n",
       "    </tr>\n",
       "    <tr>\n",
       "      <th>5</th>\n",
       "      <td>JP</td>\n",
       "      <td>15807</td>\n",
       "      <td>482</td>\n",
       "    </tr>\n",
       "    <tr>\n",
       "      <th>6</th>\n",
       "      <td>TW/HK</td>\n",
       "      <td>3464</td>\n",
       "      <td>88</td>\n",
       "    </tr>\n",
       "    <tr>\n",
       "      <th>7</th>\n",
       "      <td>CIS</td>\n",
       "      <td>26849</td>\n",
       "      <td>258</td>\n",
       "    </tr>\n",
       "    <tr>\n",
       "      <th>8</th>\n",
       "      <td>EMEA</td>\n",
       "      <td>227671</td>\n",
       "      <td>2791</td>\n",
       "    </tr>\n",
       "    <tr>\n",
       "      <th>9</th>\n",
       "      <td>OC</td>\n",
       "      <td>24498</td>\n",
       "      <td>544</td>\n",
       "    </tr>\n",
       "  </tbody>\n",
       "</table>\n",
       "</div>"
      ],
      "text/plain": [
       "  pubg_region      au     pu\n",
       "0          CN    6502     57\n",
       "1          NA  537764  10218\n",
       "2          SA  135219   1391\n",
       "3          KR    5543    130\n",
       "4         SEA    8381    111\n",
       "5          JP   15807    482\n",
       "6       TW/HK    3464     88\n",
       "7         CIS   26849    258\n",
       "8        EMEA  227671   2791\n",
       "9          OC   24498    544"
      ]
     },
     "execution_count": 200,
     "metadata": {},
     "output_type": "execute_result"
    }
   ],
   "source": [
    "pd.merge(console_region_au, console_region_pu, on=\"pubg_region\")"
   ]
  },
  {
   "cell_type": "code",
   "execution_count": null,
   "metadata": {},
   "outputs": [],
   "source": []
  },
  {
   "cell_type": "code",
   "execution_count": 45,
   "metadata": {},
   "outputs": [
    {
     "name": "stdout",
     "output_type": "stream",
     "text": [
      "+-------------------------+\n",
      "|count(DISTINCT accountid)|\n",
      "+-------------------------+\n",
      "|6514824                  |\n",
      "+-------------------------+\n",
      "\n"
     ]
    }
   ],
   "source": [
    "pc_au.select(countDistinct(\"accountid\")).show(truncate=False)"
   ]
  },
  {
   "cell_type": "code",
   "execution_count": 46,
   "metadata": {},
   "outputs": [
    {
     "name": "stdout",
     "output_type": "stream",
     "text": [
      "+-------------------------+\n",
      "|count(DISTINCT accountid)|\n",
      "+-------------------------+\n",
      "|992153                   |\n",
      "+-------------------------+\n",
      "\n"
     ]
    }
   ],
   "source": [
    "console_au.select(countDistinct(\"accountid\")).show(truncate=False)"
   ]
  },
  {
   "cell_type": "code",
   "execution_count": 160,
   "metadata": {},
   "outputs": [
    {
     "name": "stdout",
     "output_type": "stream",
     "text": [
      "+--------------------------+\n",
      "|count(DISTINCT account_id)|\n",
      "+--------------------------+\n",
      "|288435                    |\n",
      "+--------------------------+\n",
      "\n"
     ]
    }
   ],
   "source": [
    "pc_gcoin.select(countDistinct(\"account_id\")).show(truncate=False)"
   ]
  },
  {
   "cell_type": "code",
   "execution_count": 161,
   "metadata": {},
   "outputs": [
    {
     "name": "stdout",
     "output_type": "stream",
     "text": [
      "+--------------------------+\n",
      "|count(DISTINCT account_id)|\n",
      "+--------------------------+\n",
      "|16070                     |\n",
      "+--------------------------+\n",
      "\n"
     ]
    }
   ],
   "source": [
    "console_gcoin.select(countDistinct(\"account_id\")).show(truncate=False)"
   ]
  },
  {
   "cell_type": "code",
   "execution_count": 163,
   "metadata": {},
   "outputs": [],
   "source": [
    "pc_sales = pd.read_csv(\"./data/pc_daily_sales.csv\").fillna(0)"
   ]
  },
  {
   "cell_type": "code",
   "execution_count": 255,
   "metadata": {},
   "outputs": [],
   "source": [
    "console_sales = pd.read_csv(\"./data/console_daily_sales.csv\")"
   ]
  },
  {
   "cell_type": "code",
   "execution_count": 170,
   "metadata": {},
   "outputs": [
    {
     "data": {
      "text/html": [
       "<div>\n",
       "<style scoped>\n",
       "    .dataframe tbody tr th:only-of-type {\n",
       "        vertical-align: middle;\n",
       "    }\n",
       "\n",
       "    .dataframe tbody tr th {\n",
       "        vertical-align: top;\n",
       "    }\n",
       "\n",
       "    .dataframe thead th {\n",
       "        text-align: right;\n",
       "    }\n",
       "</style>\n",
       "<table border=\"1\" class=\"dataframe\">\n",
       "  <thead>\n",
       "    <tr style=\"text-align: right;\">\n",
       "      <th></th>\n",
       "      <th>date</th>\n",
       "      <th>platform</th>\n",
       "      <th>pubg_region</th>\n",
       "      <th>au</th>\n",
       "    </tr>\n",
       "  </thead>\n",
       "  <tbody>\n",
       "    <tr>\n",
       "      <th>0</th>\n",
       "      <td>2021-12-04</td>\n",
       "      <td>STEAM</td>\n",
       "      <td>EMEA</td>\n",
       "      <td>98663</td>\n",
       "    </tr>\n",
       "    <tr>\n",
       "      <th>1</th>\n",
       "      <td>2021-11-20</td>\n",
       "      <td>STEAM</td>\n",
       "      <td>CIS</td>\n",
       "      <td>60547</td>\n",
       "    </tr>\n",
       "    <tr>\n",
       "      <th>2</th>\n",
       "      <td>2021-12-04</td>\n",
       "      <td>MAILRU</td>\n",
       "      <td>CIS</td>\n",
       "      <td>1179</td>\n",
       "    </tr>\n",
       "    <tr>\n",
       "      <th>3</th>\n",
       "      <td>2021-12-06</td>\n",
       "      <td>KAKAO</td>\n",
       "      <td>CN</td>\n",
       "      <td>27</td>\n",
       "    </tr>\n",
       "    <tr>\n",
       "      <th>4</th>\n",
       "      <td>2021-12-11</td>\n",
       "      <td>KAKAO</td>\n",
       "      <td>CN</td>\n",
       "      <td>23</td>\n",
       "    </tr>\n",
       "  </tbody>\n",
       "</table>\n",
       "</div>"
      ],
      "text/plain": [
       "         date platform pubg_region     au\n",
       "0  2021-12-04    STEAM        EMEA  98663\n",
       "1  2021-11-20    STEAM         CIS  60547\n",
       "2  2021-12-04   MAILRU         CIS   1179\n",
       "3  2021-12-06    KAKAO          CN     27\n",
       "4  2021-12-11    KAKAO          CN     23"
      ]
     },
     "execution_count": 170,
     "metadata": {},
     "output_type": "execute_result"
    }
   ],
   "source": [
    "pc_au_df.head()"
   ]
  },
  {
   "cell_type": "code",
   "execution_count": 176,
   "metadata": {},
   "outputs": [],
   "source": [
    "# pc_au_df.date = pc_au_df.date.astype(str)\n",
    "# pc_sales.date = pc_sales.date.astype(str)\n",
    "\n",
    "# pd.merge(pc_au_df, pc_sales, on=[\"date\", \"platform\", \"pubg_region\"]).sort_values([\"date\", \"platform\", \"pubg_region\", \"product_id\"]).to_csv(\"./data/pc_pur.csv\", index=False)\n",
    "pc_pur = pd.read_csv(\"./data/pc_pur.csv\")"
   ]
  },
  {
   "cell_type": "code",
   "execution_count": 177,
   "metadata": {},
   "outputs": [],
   "source": [
    "# console_au_df.date = console_au_df.date.astype(str)\n",
    "# console_sales.date = console_sales.date.astype(str)\n",
    "\n",
    "# pd.merge(console_au_df, console_sales, on=[\"date\", \"platform\", \"pubg_region\"]).sort_values([\"date\", \"platform\", \"pubg_region\", \"product_id\"]).to_csv(\"./data/console_pur.csv\", index=False)\n",
    "console_pur = pd.read_csv(\"./data/console_pur.csv\")"
   ]
  },
  {
   "cell_type": "code",
   "execution_count": null,
   "metadata": {},
   "outputs": [],
   "source": []
  },
  {
   "cell_type": "code",
   "execution_count": 60,
   "metadata": {},
   "outputs": [
    {
     "data": {
      "text/plain": [
       "9338152.15"
      ]
     },
     "execution_count": 60,
     "metadata": {},
     "output_type": "execute_result"
    }
   ],
   "source": [
    "pc_sales.paid_in_dollar.sum()"
   ]
  },
  {
   "cell_type": "code",
   "execution_count": 61,
   "metadata": {},
   "outputs": [
    {
     "data": {
      "text/plain": [
       "501302.39999999997"
      ]
     },
     "execution_count": 61,
     "metadata": {},
     "output_type": "execute_result"
    }
   ],
   "source": [
    "console_sales.paid_in_dollar.sum()"
   ]
  },
  {
   "cell_type": "code",
   "execution_count": 181,
   "metadata": {},
   "outputs": [
    {
     "data": {
      "text/plain": [
       "92394800.0"
      ]
     },
     "execution_count": 181,
     "metadata": {},
     "output_type": "execute_result"
    }
   ],
   "source": [
    "9.23948e+07"
   ]
  },
  {
   "cell_type": "code",
   "execution_count": 242,
   "metadata": {},
   "outputs": [
    {
     "data": {
      "text/html": [
       "<div>\n",
       "<style scoped>\n",
       "    .dataframe tbody tr th:only-of-type {\n",
       "        vertical-align: middle;\n",
       "    }\n",
       "\n",
       "    .dataframe tbody tr th {\n",
       "        vertical-align: top;\n",
       "    }\n",
       "\n",
       "    .dataframe thead th {\n",
       "        text-align: right;\n",
       "    }\n",
       "</style>\n",
       "<table border=\"1\" class=\"dataframe\">\n",
       "  <thead>\n",
       "    <tr style=\"text-align: right;\">\n",
       "      <th></th>\n",
       "      <th>platform</th>\n",
       "      <th>sales</th>\n",
       "    </tr>\n",
       "  </thead>\n",
       "  <tbody>\n",
       "    <tr>\n",
       "      <th>0</th>\n",
       "      <td>KAKAO</td>\n",
       "      <td>1074412.0</td>\n",
       "    </tr>\n",
       "    <tr>\n",
       "      <th>1</th>\n",
       "      <td>MAILRU</td>\n",
       "      <td>636.9</td>\n",
       "    </tr>\n",
       "    <tr>\n",
       "      <th>2</th>\n",
       "      <td>STEAM</td>\n",
       "      <td>12301528.2</td>\n",
       "    </tr>\n",
       "  </tbody>\n",
       "</table>\n",
       "</div>"
      ],
      "text/plain": [
       "  platform       sales\n",
       "0    KAKAO   1074412.0\n",
       "1   MAILRU       636.9\n",
       "2    STEAM  12301528.2"
      ]
     },
     "execution_count": 242,
     "metadata": {},
     "output_type": "execute_result"
    }
   ],
   "source": [
    "pc_sales.groupby(\"platform\", as_index=False)[\"sales\"].sum()"
   ]
  },
  {
   "cell_type": "code",
   "execution_count": 243,
   "metadata": {},
   "outputs": [
    {
     "data": {
      "text/html": [
       "<div>\n",
       "<style scoped>\n",
       "    .dataframe tbody tr th:only-of-type {\n",
       "        vertical-align: middle;\n",
       "    }\n",
       "\n",
       "    .dataframe tbody tr th {\n",
       "        vertical-align: top;\n",
       "    }\n",
       "\n",
       "    .dataframe thead th {\n",
       "        text-align: right;\n",
       "    }\n",
       "</style>\n",
       "<table border=\"1\" class=\"dataframe\">\n",
       "  <thead>\n",
       "    <tr style=\"text-align: right;\">\n",
       "      <th></th>\n",
       "      <th>platform</th>\n",
       "      <th>sales</th>\n",
       "    </tr>\n",
       "  </thead>\n",
       "  <tbody>\n",
       "    <tr>\n",
       "      <th>0</th>\n",
       "      <td>PSN</td>\n",
       "      <td>271402.4</td>\n",
       "    </tr>\n",
       "    <tr>\n",
       "      <th>1</th>\n",
       "      <td>STADIA</td>\n",
       "      <td>1523.6</td>\n",
       "    </tr>\n",
       "    <tr>\n",
       "      <th>2</th>\n",
       "      <td>XBOX</td>\n",
       "      <td>651021.6</td>\n",
       "    </tr>\n",
       "  </tbody>\n",
       "</table>\n",
       "</div>"
      ],
      "text/plain": [
       "  platform     sales\n",
       "0      PSN  271402.4\n",
       "1   STADIA    1523.6\n",
       "2     XBOX  651021.6"
      ]
     },
     "execution_count": 243,
     "metadata": {},
     "output_type": "execute_result"
    }
   ],
   "source": [
    "console_sales.groupby(\"platform\", as_index=False)[\"sales\"].sum()"
   ]
  },
  {
   "cell_type": "code",
   "execution_count": 210,
   "metadata": {},
   "outputs": [
    {
     "data": {
      "text/html": [
       "<div>\n",
       "<style scoped>\n",
       "    .dataframe tbody tr th:only-of-type {\n",
       "        vertical-align: middle;\n",
       "    }\n",
       "\n",
       "    .dataframe tbody tr th {\n",
       "        vertical-align: top;\n",
       "    }\n",
       "\n",
       "    .dataframe thead th {\n",
       "        text-align: right;\n",
       "    }\n",
       "</style>\n",
       "<table border=\"1\" class=\"dataframe\">\n",
       "  <thead>\n",
       "    <tr style=\"text-align: right;\">\n",
       "      <th></th>\n",
       "      <th>pubg_region</th>\n",
       "      <th>sales</th>\n",
       "    </tr>\n",
       "  </thead>\n",
       "  <tbody>\n",
       "    <tr>\n",
       "      <th>0</th>\n",
       "      <td>0</td>\n",
       "      <td>127280.2</td>\n",
       "    </tr>\n",
       "    <tr>\n",
       "      <th>1</th>\n",
       "      <td>CIS</td>\n",
       "      <td>178704.9</td>\n",
       "    </tr>\n",
       "    <tr>\n",
       "      <th>2</th>\n",
       "      <td>CN</td>\n",
       "      <td>9489277.3</td>\n",
       "    </tr>\n",
       "    <tr>\n",
       "      <th>3</th>\n",
       "      <td>EMEA</td>\n",
       "      <td>371896.7</td>\n",
       "    </tr>\n",
       "    <tr>\n",
       "      <th>4</th>\n",
       "      <td>JP</td>\n",
       "      <td>30909.6</td>\n",
       "    </tr>\n",
       "    <tr>\n",
       "      <th>5</th>\n",
       "      <td>KR</td>\n",
       "      <td>2490809.9</td>\n",
       "    </tr>\n",
       "    <tr>\n",
       "      <th>6</th>\n",
       "      <td>OC</td>\n",
       "      <td>38310.5</td>\n",
       "    </tr>\n",
       "    <tr>\n",
       "      <th>7</th>\n",
       "      <td>SA</td>\n",
       "      <td>80853.1</td>\n",
       "    </tr>\n",
       "    <tr>\n",
       "      <th>8</th>\n",
       "      <td>SEA</td>\n",
       "      <td>478793.4</td>\n",
       "    </tr>\n",
       "    <tr>\n",
       "      <th>9</th>\n",
       "      <td>TW/HK</td>\n",
       "      <td>89622.7</td>\n",
       "    </tr>\n",
       "    <tr>\n",
       "      <th>10</th>\n",
       "      <td>Undefined</td>\n",
       "      <td>118.8</td>\n",
       "    </tr>\n",
       "  </tbody>\n",
       "</table>\n",
       "</div>"
      ],
      "text/plain": [
       "   pubg_region      sales\n",
       "0            0   127280.2\n",
       "1          CIS   178704.9\n",
       "2           CN  9489277.3\n",
       "3         EMEA   371896.7\n",
       "4           JP    30909.6\n",
       "5           KR  2490809.9\n",
       "6           OC    38310.5\n",
       "7           SA    80853.1\n",
       "8          SEA   478793.4\n",
       "9        TW/HK    89622.7\n",
       "10   Undefined      118.8"
      ]
     },
     "execution_count": 210,
     "metadata": {},
     "output_type": "execute_result"
    }
   ],
   "source": [
    "pc_sales.groupby(\"pubg_region\", as_index=False)[\"sales\"].sum()"
   ]
  },
  {
   "cell_type": "code",
   "execution_count": 211,
   "metadata": {},
   "outputs": [
    {
     "data": {
      "text/html": [
       "<div>\n",
       "<style scoped>\n",
       "    .dataframe tbody tr th:only-of-type {\n",
       "        vertical-align: middle;\n",
       "    }\n",
       "\n",
       "    .dataframe tbody tr th {\n",
       "        vertical-align: top;\n",
       "    }\n",
       "\n",
       "    .dataframe thead th {\n",
       "        text-align: right;\n",
       "    }\n",
       "</style>\n",
       "<table border=\"1\" class=\"dataframe\">\n",
       "  <thead>\n",
       "    <tr style=\"text-align: right;\">\n",
       "      <th></th>\n",
       "      <th>pubg_region</th>\n",
       "      <th>sales</th>\n",
       "    </tr>\n",
       "  </thead>\n",
       "  <tbody>\n",
       "    <tr>\n",
       "      <th>0</th>\n",
       "      <td>0</td>\n",
       "      <td>548189.2</td>\n",
       "    </tr>\n",
       "    <tr>\n",
       "      <th>1</th>\n",
       "      <td>CIS</td>\n",
       "      <td>15831.2</td>\n",
       "    </tr>\n",
       "    <tr>\n",
       "      <th>2</th>\n",
       "      <td>CN</td>\n",
       "      <td>4773.4</td>\n",
       "    </tr>\n",
       "    <tr>\n",
       "      <th>3</th>\n",
       "      <td>EMEA</td>\n",
       "      <td>169937.8</td>\n",
       "    </tr>\n",
       "    <tr>\n",
       "      <th>4</th>\n",
       "      <td>JP</td>\n",
       "      <td>33703.0</td>\n",
       "    </tr>\n",
       "    <tr>\n",
       "      <th>5</th>\n",
       "      <td>KR</td>\n",
       "      <td>10229.8</td>\n",
       "    </tr>\n",
       "    <tr>\n",
       "      <th>6</th>\n",
       "      <td>OC</td>\n",
       "      <td>30187.6</td>\n",
       "    </tr>\n",
       "    <tr>\n",
       "      <th>7</th>\n",
       "      <td>SA</td>\n",
       "      <td>97101.0</td>\n",
       "    </tr>\n",
       "    <tr>\n",
       "      <th>8</th>\n",
       "      <td>SEA</td>\n",
       "      <td>6454.4</td>\n",
       "    </tr>\n",
       "    <tr>\n",
       "      <th>9</th>\n",
       "      <td>TW/HK</td>\n",
       "      <td>7540.2</td>\n",
       "    </tr>\n",
       "    <tr>\n",
       "      <th>10</th>\n",
       "      <td>Undefined</td>\n",
       "      <td>0.0</td>\n",
       "    </tr>\n",
       "  </tbody>\n",
       "</table>\n",
       "</div>"
      ],
      "text/plain": [
       "   pubg_region     sales\n",
       "0            0  548189.2\n",
       "1          CIS   15831.2\n",
       "2           CN    4773.4\n",
       "3         EMEA  169937.8\n",
       "4           JP   33703.0\n",
       "5           KR   10229.8\n",
       "6           OC   30187.6\n",
       "7           SA   97101.0\n",
       "8          SEA    6454.4\n",
       "9        TW/HK    7540.2\n",
       "10   Undefined       0.0"
      ]
     },
     "execution_count": 211,
     "metadata": {},
     "output_type": "execute_result"
    }
   ],
   "source": [
    "console_sales.groupby(\"pubg_region\", as_index=False)[\"sales\"].sum()"
   ]
  },
  {
   "cell_type": "code",
   "execution_count": 224,
   "metadata": {},
   "outputs": [
    {
     "data": {
      "text/html": [
       "<div>\n",
       "<style scoped>\n",
       "    .dataframe tbody tr th:only-of-type {\n",
       "        vertical-align: middle;\n",
       "    }\n",
       "\n",
       "    .dataframe tbody tr th {\n",
       "        vertical-align: top;\n",
       "    }\n",
       "\n",
       "    .dataframe thead th {\n",
       "        text-align: right;\n",
       "    }\n",
       "</style>\n",
       "<table border=\"1\" class=\"dataframe\">\n",
       "  <thead>\n",
       "    <tr style=\"text-align: right;\">\n",
       "      <th></th>\n",
       "      <th>product_name</th>\n",
       "      <th>unit_sold</th>\n",
       "      <th>sales</th>\n",
       "      <th>paid_sales</th>\n",
       "    </tr>\n",
       "  </thead>\n",
       "  <tbody>\n",
       "    <tr>\n",
       "      <th>3</th>\n",
       "      <td>PGC 2021 MEGA BUNDLE + VOTING COUPONS</td>\n",
       "      <td>166566.0</td>\n",
       "      <td>9894020.4</td>\n",
       "      <td>6896149.10</td>\n",
       "    </tr>\n",
       "    <tr>\n",
       "      <th>0</th>\n",
       "      <td>PGC 2021 CONTINGENT CHAOS DUSTER BUNDLE + VOTI...</td>\n",
       "      <td>68954.0</td>\n",
       "      <td>2185841.8</td>\n",
       "      <td>1647499.45</td>\n",
       "    </tr>\n",
       "    <tr>\n",
       "      <th>1</th>\n",
       "      <td>PGC 2021 CONTINGENT CHAOS JACKET BUNDLE + VOTI...</td>\n",
       "      <td>26897.0</td>\n",
       "      <td>852634.9</td>\n",
       "      <td>608678.15</td>\n",
       "    </tr>\n",
       "    <tr>\n",
       "      <th>2</th>\n",
       "      <td>PGC 2021 DANCE SPLASH EMOTE + VOTING COUPON BU...</td>\n",
       "      <td>88816.0</td>\n",
       "      <td>444080.0</td>\n",
       "      <td>185825.45</td>\n",
       "    </tr>\n",
       "  </tbody>\n",
       "</table>\n",
       "</div>"
      ],
      "text/plain": [
       "                                        product_name  unit_sold      sales  \\\n",
       "3              PGC 2021 MEGA BUNDLE + VOTING COUPONS   166566.0  9894020.4   \n",
       "0  PGC 2021 CONTINGENT CHAOS DUSTER BUNDLE + VOTI...    68954.0  2185841.8   \n",
       "1  PGC 2021 CONTINGENT CHAOS JACKET BUNDLE + VOTI...    26897.0   852634.9   \n",
       "2  PGC 2021 DANCE SPLASH EMOTE + VOTING COUPON BU...    88816.0   444080.0   \n",
       "\n",
       "   paid_sales  \n",
       "3  6896149.10  \n",
       "0  1647499.45  \n",
       "1   608678.15  \n",
       "2   185825.45  "
      ]
     },
     "execution_count": 224,
     "metadata": {},
     "output_type": "execute_result"
    }
   ],
   "source": [
    "pc_sales.groupby(\"product_name\", as_index=False)[[\"unit_sold\", \"sales\", \"paid_sales\"]].sum().sort_values(\"sales\", ascending=False)"
   ]
  },
  {
   "cell_type": "code",
   "execution_count": 225,
   "metadata": {},
   "outputs": [
    {
     "data": {
      "text/html": [
       "<div>\n",
       "<style scoped>\n",
       "    .dataframe tbody tr th:only-of-type {\n",
       "        vertical-align: middle;\n",
       "    }\n",
       "\n",
       "    .dataframe tbody tr th {\n",
       "        vertical-align: top;\n",
       "    }\n",
       "\n",
       "    .dataframe thead th {\n",
       "        text-align: right;\n",
       "    }\n",
       "</style>\n",
       "<table border=\"1\" class=\"dataframe\">\n",
       "  <thead>\n",
       "    <tr style=\"text-align: right;\">\n",
       "      <th></th>\n",
       "      <th>product_name</th>\n",
       "      <th>unit_sold</th>\n",
       "      <th>sales</th>\n",
       "      <th>paid_sales</th>\n",
       "    </tr>\n",
       "  </thead>\n",
       "  <tbody>\n",
       "    <tr>\n",
       "      <th>8</th>\n",
       "      <td>PGC 2021 MEGA BUNDLE</td>\n",
       "      <td>6252.0</td>\n",
       "      <td>371368.8</td>\n",
       "      <td>273436.2</td>\n",
       "    </tr>\n",
       "    <tr>\n",
       "      <th>1</th>\n",
       "      <td>PGC 2021 CONTINGENT CHAOS DUSTER BUNDLE</td>\n",
       "      <td>5342.0</td>\n",
       "      <td>169341.4</td>\n",
       "      <td>117309.0</td>\n",
       "    </tr>\n",
       "    <tr>\n",
       "      <th>5</th>\n",
       "      <td>PGC 2021 Contingent Chaos - Pan</td>\n",
       "      <td>9926.0</td>\n",
       "      <td>98267.4</td>\n",
       "      <td>53888.2</td>\n",
       "    </tr>\n",
       "    <tr>\n",
       "      <th>2</th>\n",
       "      <td>PGC 2021 CONTINGENT CHAOS JACKET BUNDLE</td>\n",
       "      <td>2998.0</td>\n",
       "      <td>95036.6</td>\n",
       "      <td>64374.2</td>\n",
       "    </tr>\n",
       "    <tr>\n",
       "      <th>6</th>\n",
       "      <td>PGC 2021 Dance - Splash Damage</td>\n",
       "      <td>14312.0</td>\n",
       "      <td>71560.0</td>\n",
       "      <td>46183.0</td>\n",
       "    </tr>\n",
       "    <tr>\n",
       "      <th>0</th>\n",
       "      <td>\"PGC 2021 Contingent Chaos\" UAZ</td>\n",
       "      <td>3560.0</td>\n",
       "      <td>35244.0</td>\n",
       "      <td>17264.8</td>\n",
       "    </tr>\n",
       "    <tr>\n",
       "      <th>4</th>\n",
       "      <td>PGC 2021 Contingent Chaos - P90</td>\n",
       "      <td>3506.0</td>\n",
       "      <td>34709.4</td>\n",
       "      <td>17874.2</td>\n",
       "    </tr>\n",
       "    <tr>\n",
       "      <th>3</th>\n",
       "      <td>PGC 2021 Contingent Chaos - Helmet (Level 3)</td>\n",
       "      <td>4842.0</td>\n",
       "      <td>24210.0</td>\n",
       "      <td>10906.8</td>\n",
       "    </tr>\n",
       "    <tr>\n",
       "      <th>7</th>\n",
       "      <td>PGC 2021 Giltslate Contagion Backpack (Level 3)</td>\n",
       "      <td>4842.0</td>\n",
       "      <td>24210.0</td>\n",
       "      <td>11771.8</td>\n",
       "    </tr>\n",
       "  </tbody>\n",
       "</table>\n",
       "</div>"
      ],
      "text/plain": [
       "                                      product_name  unit_sold     sales  \\\n",
       "8                             PGC 2021 MEGA BUNDLE     6252.0  371368.8   \n",
       "1          PGC 2021 CONTINGENT CHAOS DUSTER BUNDLE     5342.0  169341.4   \n",
       "5                  PGC 2021 Contingent Chaos - Pan     9926.0   98267.4   \n",
       "2          PGC 2021 CONTINGENT CHAOS JACKET BUNDLE     2998.0   95036.6   \n",
       "6                   PGC 2021 Dance - Splash Damage    14312.0   71560.0   \n",
       "0                  \"PGC 2021 Contingent Chaos\" UAZ     3560.0   35244.0   \n",
       "4                  PGC 2021 Contingent Chaos - P90     3506.0   34709.4   \n",
       "3     PGC 2021 Contingent Chaos - Helmet (Level 3)     4842.0   24210.0   \n",
       "7  PGC 2021 Giltslate Contagion Backpack (Level 3)     4842.0   24210.0   \n",
       "\n",
       "   paid_sales  \n",
       "8    273436.2  \n",
       "1    117309.0  \n",
       "5     53888.2  \n",
       "2     64374.2  \n",
       "6     46183.0  \n",
       "0     17264.8  \n",
       "4     17874.2  \n",
       "3     10906.8  \n",
       "7     11771.8  "
      ]
     },
     "execution_count": 225,
     "metadata": {},
     "output_type": "execute_result"
    }
   ],
   "source": [
    "console_sales.groupby(\"product_name\", as_index=False)[[\"unit_sold\", \"sales\", \"paid_sales\"]].sum().sort_values(\"sales\", ascending=False)"
   ]
  },
  {
   "cell_type": "code",
   "execution_count": 207,
   "metadata": {},
   "outputs": [],
   "source": [
    "pc_au_df.date = pc_au_df.date.astype(str)\n",
    "pc_sales.date = pc_sales.date.astype(str)\n",
    "pd.merge(pc_au_df, pc_sales, on=[\"date\", \"platform\", \"pubg_region\"]).to_csv(\"./data/pc_daily_product_sales.csv\", index=False)\n",
    "\n",
    "console_au_df.date = console_au_df.date.astype(str)\n",
    "console_sales.date = console_sales.date.astype(str)\n",
    "pd.merge(console_au_df, console_sales, on=[\"date\", \"platform\", \"pubg_region\"]).to_csv(\"./data/console_daily_product_sales.csv\", index=False)"
   ]
  },
  {
   "cell_type": "code",
   "execution_count": null,
   "metadata": {},
   "outputs": [],
   "source": []
  },
  {
   "cell_type": "code",
   "execution_count": 276,
   "metadata": {},
   "outputs": [
    {
     "name": "stdout",
     "output_type": "stream",
     "text": [
      "+-------------------------------+\n",
      "|(sum(paid_use) + sum(free_use))|\n",
      "+-------------------------------+\n",
      "|46197380                       |\n",
      "+-------------------------------+\n",
      "\n"
     ]
    }
   ],
   "source": [
    "console_gcoin_with_region.select(((sum(\"paid_use\") + sum(\"free_use\")))).show(truncate=False)"
   ]
  },
  {
   "cell_type": "code",
   "execution_count": 277,
   "metadata": {},
   "outputs": [
    {
     "name": "stdout",
     "output_type": "stream",
     "text": [
      "+-----------------------------------------------+--------+\n",
      "|product_name                                   |count(1)|\n",
      "+-----------------------------------------------+--------+\n",
      "|PGC 2021 CONTINGENT CHAOS DUSTER BUNDLE        |2671    |\n",
      "|PGC 2021 Dance - Splash Damage                 |7156    |\n",
      "|PGC 2021 Giltslate Contagion Backpack (Level 3)|2421    |\n",
      "|PGC 2021 CONTINGENT CHAOS JACKET BUNDLE        |1499    |\n",
      "|PGC 2021 MEGA BUNDLE                           |3126    |\n",
      "|PGC 2021 Contingent Chaos - P90                |1753    |\n",
      "|PGC 2021 Contingent Chaos - Pan                |4963    |\n",
      "|PGC 2021 Contingent Chaos - Helmet (Level 3)   |2421    |\n",
      "|\"PGC 2021 Contingent Chaos\" UAZ                |1780    |\n",
      "+-----------------------------------------------+--------+\n",
      "\n"
     ]
    }
   ],
   "source": [
    "console_gcoin_with_region.groupBy(\"product_name\").agg(count(\"*\")).show(truncate=False)"
   ]
  },
  {
   "cell_type": "code",
   "execution_count": 274,
   "metadata": {},
   "outputs": [
    {
     "name": "stdout",
     "output_type": "stream",
     "text": [
      "+-----------------------------------------------+---------------------------------------+\n",
      "|product_name                                   |((sum(paid_use) + sum(free_use)) / 100)|\n",
      "+-----------------------------------------------+---------------------------------------+\n",
      "|PGC 2021 CONTINGENT CHAOS DUSTER BUNDLE        |84670.7                                |\n",
      "|PGC 2021 Dance - Splash Damage                 |35780.0                                |\n",
      "|PGC 2021 Giltslate Contagion Backpack (Level 3)|12105.0                                |\n",
      "|PGC 2021 CONTINGENT CHAOS JACKET BUNDLE        |47518.3                                |\n",
      "|PGC 2021 MEGA BUNDLE                           |185684.4                               |\n",
      "|PGC 2021 Contingent Chaos - P90                |17354.7                                |\n",
      "|PGC 2021 Contingent Chaos - Pan                |49133.7                                |\n",
      "|PGC 2021 Contingent Chaos - Helmet (Level 3)   |12105.0                                |\n",
      "|\"PGC 2021 Contingent Chaos\" UAZ                |17622.0                                |\n",
      "+-----------------------------------------------+---------------------------------------+\n",
      "\n"
     ]
    }
   ],
   "source": [
    "console_gcoin_with_region.groupBy(\"product_name\").agg(((sum(\"paid_use\") + sum(\"free_use\"))/100)).show(truncate=False)"
   ]
  },
  {
   "cell_type": "code",
   "execution_count": 278,
   "metadata": {},
   "outputs": [
    {
     "name": "stdout",
     "output_type": "stream",
     "text": [
      "+--------+---------------------------------------+\n",
      "|platform|((sum(paid_use) + sum(free_use)) / 100)|\n",
      "+--------+---------------------------------------+\n",
      "|XBOX    |325510.8                               |\n",
      "|STADIA  |761.8                                  |\n",
      "|PSN     |135701.2                               |\n",
      "+--------+---------------------------------------+\n",
      "\n"
     ]
    }
   ],
   "source": [
    "console_gcoin_with_region.groupBy(\"platform\").agg(((sum(\"paid_use\") + sum(\"free_use\"))/100)).show(truncate=False)"
   ]
  },
  {
   "cell_type": "code",
   "execution_count": 281,
   "metadata": {},
   "outputs": [
    {
     "name": "stdout",
     "output_type": "stream",
     "text": [
      "+--------+--------------------------+\n",
      "|platform|count(DISTINCT account_id)|\n",
      "+--------+--------------------------+\n",
      "|XBOX    |11625                     |\n",
      "|STADIA  |39                        |\n",
      "|PSN     |4406                      |\n",
      "+--------+--------------------------+\n",
      "\n"
     ]
    }
   ],
   "source": [
    "console_gcoin_with_region.groupBy(\"platform\").agg(countDistinct(\"account_id\")).show(truncate=False)"
   ]
  },
  {
   "cell_type": "code",
   "execution_count": 279,
   "metadata": {},
   "outputs": [
    {
     "name": "stdout",
     "output_type": "stream",
     "text": [
      "+-----------+---------------------------------------+\n",
      "|pubg_region|((sum(paid_use) + sum(free_use)) / 100)|\n",
      "+-----------+---------------------------------------+\n",
      "|CN         |2386.7                                 |\n",
      "|NA         |274094.6                               |\n",
      "|SA         |48550.5                                |\n",
      "|KR         |5114.9                                 |\n",
      "|SEA        |3227.2                                 |\n",
      "|JP         |16851.5                                |\n",
      "|TW/HK      |3770.1                                 |\n",
      "|CIS        |7915.6                                 |\n",
      "|EMEA       |84968.9                                |\n",
      "|OC         |15093.8                                |\n",
      "+-----------+---------------------------------------+\n",
      "\n"
     ]
    }
   ],
   "source": [
    "console_gcoin_with_region.groupBy(\"pubg_region\").agg(((sum(\"paid_use\") + sum(\"free_use\"))/100)).show(truncate=False)"
   ]
  },
  {
   "cell_type": "code",
   "execution_count": null,
   "metadata": {},
   "outputs": [],
   "source": []
  }
 ],
 "metadata": {
  "kernelspec": {
   "display_name": "Python 3",
   "language": "python",
   "name": "python3"
  },
  "language_info": {
   "codemirror_mode": {
    "name": "ipython",
    "version": 3
   },
   "file_extension": ".py",
   "mimetype": "text/x-python",
   "name": "python",
   "nbconvert_exporter": "python",
   "pygments_lexer": "ipython3",
   "version": "3.6.7"
  }
 },
 "nbformat": 4,
 "nbformat_minor": 4
}
