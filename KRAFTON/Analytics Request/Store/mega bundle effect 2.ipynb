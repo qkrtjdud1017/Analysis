{
 "cells": [
  {
   "cell_type": "code",
   "execution_count": 146,
   "metadata": {},
   "outputs": [
    {
     "name": "stdout",
     "output_type": "stream",
     "text": [
      "Spark cluster not assigned. creating a new one...\n",
      "Node spec: 8 executors with 48G RAM each\n",
      "Job Port 4049 is assigned for requested cluster\n",
      "Waiting for Spark master to be available...\n",
      "Spark master launched!\n",
      "Creating new Spark session, name: pdu_syp...\n",
      "Waiting for all executors ready...\n",
      "All executors connected!\n",
      "Complete! elapsed time: 00:00:26\n"
     ]
    }
   ],
   "source": [
    "from pubg_util import mysql, load_schema, notifier\n",
    "from sphynx import sphynx, NODE_SMALL, NODE_MEDIUM, NODE_LARGE\n",
    "from pyspark.sql.functions import *\n",
    "import pandas as pd\n",
    "\n",
    "spark = sphynx.get_spark(executor_count=8, app_name='pdu_syp', node_spec=NODE_LARGE)"
   ]
  },
  {
   "cell_type": "code",
   "execution_count": 145,
   "metadata": {},
   "outputs": [],
   "source": [
    "sphynx.stop()"
   ]
  },
  {
   "cell_type": "code",
   "execution_count": 137,
   "metadata": {},
   "outputs": [],
   "source": [
    "device=\"pc\"\n",
    "\n",
    "bp_event_name = \"202108_blackpink\"\n",
    "bp_start_date = \"2021-08-04\"\n",
    "bp_end_date = \"2021-08-10\"\n",
    "\n",
    "pcs5_event_name = \"202109_pcs5\"\n",
    "pcs5_start_date = \"2021-09-08\"\n",
    "pcs5_end_date = \"2021-09-14\"\n",
    "\n",
    "tg_event_name = \"202109_thanksgiving\"\n",
    "tg_start_date = \"2021-09-17\"\n",
    "tg_end_date = \"2021-09-23\"\n",
    "\n",
    "hw_event_name = \"202110_halloween\"\n",
    "hw_start_date = \"2021-10-20\"\n",
    "hw_end_date = \"2021-10-26\"\n",
    "\n",
    "pgc_event_name = \"202111_pgc\"\n",
    "pgc_start_date = \"2021-11-12\"\n",
    "pgc_end_date = \"2021-11-18\""
   ]
  },
  {
   "cell_type": "code",
   "execution_count": 114,
   "metadata": {},
   "outputs": [],
   "source": [
    "# bp_user = load_data_mart(start_date=bp_start_date, end_date=bp_end_date, device=device, table_name=\"user_master\").where(col(\"lastlogindate\") >= bp_start_date)\n",
    "bp_gcoin = load_data_mart(start_date=bp_start_date, end_date=bp_end_date, device=device, table_name=\"gcoin_use\").where(col(\"event_name\") == bp_event_name)"
   ]
  },
  {
   "cell_type": "code",
   "execution_count": 117,
   "metadata": {},
   "outputs": [
    {
     "data": {
      "text/html": [
       "<div>\n",
       "<style scoped>\n",
       "    .dataframe tbody tr th:only-of-type {\n",
       "        vertical-align: middle;\n",
       "    }\n",
       "\n",
       "    .dataframe tbody tr th {\n",
       "        vertical-align: top;\n",
       "    }\n",
       "\n",
       "    .dataframe thead th {\n",
       "        text-align: right;\n",
       "    }\n",
       "</style>\n",
       "<table border=\"1\" class=\"dataframe\">\n",
       "  <thead>\n",
       "    <tr style=\"text-align: right;\">\n",
       "      <th></th>\n",
       "      <th>date</th>\n",
       "      <th>product_group</th>\n",
       "      <th>pu</th>\n",
       "    </tr>\n",
       "  </thead>\n",
       "  <tbody>\n",
       "    <tr>\n",
       "      <th>0</th>\n",
       "      <td>2021-08-04</td>\n",
       "      <td>BUNDLE</td>\n",
       "      <td>22888</td>\n",
       "    </tr>\n",
       "    <tr>\n",
       "      <th>1</th>\n",
       "      <td>2021-08-04</td>\n",
       "      <td>MEGA BUNDLE</td>\n",
       "      <td>22570</td>\n",
       "    </tr>\n",
       "    <tr>\n",
       "      <th>2</th>\n",
       "      <td>2021-08-05</td>\n",
       "      <td>BUNDLE</td>\n",
       "      <td>16427</td>\n",
       "    </tr>\n",
       "    <tr>\n",
       "      <th>3</th>\n",
       "      <td>2021-08-05</td>\n",
       "      <td>MEGA BUNDLE</td>\n",
       "      <td>11095</td>\n",
       "    </tr>\n",
       "    <tr>\n",
       "      <th>4</th>\n",
       "      <td>2021-08-06</td>\n",
       "      <td>BUNDLE</td>\n",
       "      <td>11327</td>\n",
       "    </tr>\n",
       "    <tr>\n",
       "      <th>5</th>\n",
       "      <td>2021-08-06</td>\n",
       "      <td>MEGA BUNDLE</td>\n",
       "      <td>6441</td>\n",
       "    </tr>\n",
       "    <tr>\n",
       "      <th>6</th>\n",
       "      <td>2021-08-07</td>\n",
       "      <td>BUNDLE</td>\n",
       "      <td>9700</td>\n",
       "    </tr>\n",
       "    <tr>\n",
       "      <th>7</th>\n",
       "      <td>2021-08-07</td>\n",
       "      <td>MEGA BUNDLE</td>\n",
       "      <td>4915</td>\n",
       "    </tr>\n",
       "    <tr>\n",
       "      <th>8</th>\n",
       "      <td>2021-08-08</td>\n",
       "      <td>BUNDLE</td>\n",
       "      <td>7663</td>\n",
       "    </tr>\n",
       "    <tr>\n",
       "      <th>9</th>\n",
       "      <td>2021-08-08</td>\n",
       "      <td>MEGA BUNDLE</td>\n",
       "      <td>3496</td>\n",
       "    </tr>\n",
       "    <tr>\n",
       "      <th>10</th>\n",
       "      <td>2021-08-09</td>\n",
       "      <td>BUNDLE</td>\n",
       "      <td>5677</td>\n",
       "    </tr>\n",
       "    <tr>\n",
       "      <th>11</th>\n",
       "      <td>2021-08-09</td>\n",
       "      <td>MEGA BUNDLE</td>\n",
       "      <td>2476</td>\n",
       "    </tr>\n",
       "    <tr>\n",
       "      <th>12</th>\n",
       "      <td>2021-08-10</td>\n",
       "      <td>BUNDLE</td>\n",
       "      <td>5365</td>\n",
       "    </tr>\n",
       "    <tr>\n",
       "      <th>13</th>\n",
       "      <td>2021-08-10</td>\n",
       "      <td>MEGA BUNDLE</td>\n",
       "      <td>2500</td>\n",
       "    </tr>\n",
       "  </tbody>\n",
       "</table>\n",
       "</div>"
      ],
      "text/plain": [
       "          date product_group     pu\n",
       "0   2021-08-04        BUNDLE  22888\n",
       "1   2021-08-04   MEGA BUNDLE  22570\n",
       "2   2021-08-05        BUNDLE  16427\n",
       "3   2021-08-05   MEGA BUNDLE  11095\n",
       "4   2021-08-06        BUNDLE  11327\n",
       "5   2021-08-06   MEGA BUNDLE   6441\n",
       "6   2021-08-07        BUNDLE   9700\n",
       "7   2021-08-07   MEGA BUNDLE   4915\n",
       "8   2021-08-08        BUNDLE   7663\n",
       "9   2021-08-08   MEGA BUNDLE   3496\n",
       "10  2021-08-09        BUNDLE   5677\n",
       "11  2021-08-09   MEGA BUNDLE   2476\n",
       "12  2021-08-10        BUNDLE   5365\n",
       "13  2021-08-10   MEGA BUNDLE   2500"
      ]
     },
     "execution_count": 117,
     "metadata": {},
     "output_type": "execute_result"
    }
   ],
   "source": [
    "bp_gcoin.withColumn(\"product_group\", when(col(\"product_id\") == \"itemdesc.13000318\", \"MEGA BUNDLE\").otherwise(\"BUNDLE\")).groupBy(\"date\", \"product_group\").agg(countDistinct(\"account_id\").alias(\"pu\")).orderBy(\"date\", \"product_group\").toPandas()"
   ]
  },
  {
   "cell_type": "code",
   "execution_count": 118,
   "metadata": {},
   "outputs": [],
   "source": [
    "pcs5_gcoin = load_data_mart(start_date=pcs5_start_date, end_date=pcs5_end_date, device=device, table_name=\"gcoin_use\").where(col(\"event_name\") == pcs5_event_name)"
   ]
  },
  {
   "cell_type": "code",
   "execution_count": 121,
   "metadata": {},
   "outputs": [
    {
     "data": {
      "text/html": [
       "<div>\n",
       "<style scoped>\n",
       "    .dataframe tbody tr th:only-of-type {\n",
       "        vertical-align: middle;\n",
       "    }\n",
       "\n",
       "    .dataframe tbody tr th {\n",
       "        vertical-align: top;\n",
       "    }\n",
       "\n",
       "    .dataframe thead th {\n",
       "        text-align: right;\n",
       "    }\n",
       "</style>\n",
       "<table border=\"1\" class=\"dataframe\">\n",
       "  <thead>\n",
       "    <tr style=\"text-align: right;\">\n",
       "      <th></th>\n",
       "      <th>date</th>\n",
       "      <th>product_group</th>\n",
       "      <th>pu</th>\n",
       "      <th>revenue</th>\n",
       "    </tr>\n",
       "  </thead>\n",
       "  <tbody>\n",
       "    <tr>\n",
       "      <th>0</th>\n",
       "      <td>2021-09-08</td>\n",
       "      <td>OTHERS</td>\n",
       "      <td>24815</td>\n",
       "      <td>143853.0</td>\n",
       "    </tr>\n",
       "    <tr>\n",
       "      <th>1</th>\n",
       "      <td>2021-09-08</td>\n",
       "      <td>SET</td>\n",
       "      <td>15614</td>\n",
       "      <td>244688.5</td>\n",
       "    </tr>\n",
       "    <tr>\n",
       "      <th>2</th>\n",
       "      <td>2021-09-08</td>\n",
       "      <td>ULTIMATE BUNDLE</td>\n",
       "      <td>10760</td>\n",
       "      <td>393024.2</td>\n",
       "    </tr>\n",
       "    <tr>\n",
       "      <th>3</th>\n",
       "      <td>2021-09-09</td>\n",
       "      <td>OTHERS</td>\n",
       "      <td>11822</td>\n",
       "      <td>73580.9</td>\n",
       "    </tr>\n",
       "    <tr>\n",
       "      <th>4</th>\n",
       "      <td>2021-09-09</td>\n",
       "      <td>SET</td>\n",
       "      <td>6767</td>\n",
       "      <td>104793.1</td>\n",
       "    </tr>\n",
       "    <tr>\n",
       "      <th>5</th>\n",
       "      <td>2021-09-09</td>\n",
       "      <td>ULTIMATE BUNDLE</td>\n",
       "      <td>4009</td>\n",
       "      <td>145287.5</td>\n",
       "    </tr>\n",
       "    <tr>\n",
       "      <th>6</th>\n",
       "      <td>2021-09-10</td>\n",
       "      <td>OTHERS</td>\n",
       "      <td>8618</td>\n",
       "      <td>56216.2</td>\n",
       "    </tr>\n",
       "    <tr>\n",
       "      <th>7</th>\n",
       "      <td>2021-09-10</td>\n",
       "      <td>SET</td>\n",
       "      <td>4184</td>\n",
       "      <td>66579.2</td>\n",
       "    </tr>\n",
       "    <tr>\n",
       "      <th>8</th>\n",
       "      <td>2021-09-10</td>\n",
       "      <td>ULTIMATE BUNDLE</td>\n",
       "      <td>2399</td>\n",
       "      <td>87296.6</td>\n",
       "    </tr>\n",
       "    <tr>\n",
       "      <th>9</th>\n",
       "      <td>2021-09-11</td>\n",
       "      <td>OTHERS</td>\n",
       "      <td>7260</td>\n",
       "      <td>48934.1</td>\n",
       "    </tr>\n",
       "    <tr>\n",
       "      <th>10</th>\n",
       "      <td>2021-09-11</td>\n",
       "      <td>SET</td>\n",
       "      <td>3456</td>\n",
       "      <td>55166.3</td>\n",
       "    </tr>\n",
       "    <tr>\n",
       "      <th>11</th>\n",
       "      <td>2021-09-11</td>\n",
       "      <td>ULTIMATE BUNDLE</td>\n",
       "      <td>1713</td>\n",
       "      <td>62307.0</td>\n",
       "    </tr>\n",
       "    <tr>\n",
       "      <th>12</th>\n",
       "      <td>2021-09-12</td>\n",
       "      <td>OTHERS</td>\n",
       "      <td>5756</td>\n",
       "      <td>39651.2</td>\n",
       "    </tr>\n",
       "    <tr>\n",
       "      <th>13</th>\n",
       "      <td>2021-09-12</td>\n",
       "      <td>SET</td>\n",
       "      <td>2468</td>\n",
       "      <td>39225.2</td>\n",
       "    </tr>\n",
       "    <tr>\n",
       "      <th>14</th>\n",
       "      <td>2021-09-12</td>\n",
       "      <td>ULTIMATE BUNDLE</td>\n",
       "      <td>1229</td>\n",
       "      <td>44643.1</td>\n",
       "    </tr>\n",
       "    <tr>\n",
       "      <th>15</th>\n",
       "      <td>2021-09-13</td>\n",
       "      <td>OTHERS</td>\n",
       "      <td>3869</td>\n",
       "      <td>27129.6</td>\n",
       "    </tr>\n",
       "    <tr>\n",
       "      <th>16</th>\n",
       "      <td>2021-09-13</td>\n",
       "      <td>SET</td>\n",
       "      <td>1623</td>\n",
       "      <td>25997.1</td>\n",
       "    </tr>\n",
       "    <tr>\n",
       "      <th>17</th>\n",
       "      <td>2021-09-13</td>\n",
       "      <td>ULTIMATE BUNDLE</td>\n",
       "      <td>794</td>\n",
       "      <td>28763.4</td>\n",
       "    </tr>\n",
       "    <tr>\n",
       "      <th>18</th>\n",
       "      <td>2021-09-14</td>\n",
       "      <td>OTHERS</td>\n",
       "      <td>3091</td>\n",
       "      <td>21742.4</td>\n",
       "    </tr>\n",
       "    <tr>\n",
       "      <th>19</th>\n",
       "      <td>2021-09-14</td>\n",
       "      <td>SET</td>\n",
       "      <td>1378</td>\n",
       "      <td>22165.3</td>\n",
       "    </tr>\n",
       "    <tr>\n",
       "      <th>20</th>\n",
       "      <td>2021-09-14</td>\n",
       "      <td>ULTIMATE BUNDLE</td>\n",
       "      <td>618</td>\n",
       "      <td>22425.7</td>\n",
       "    </tr>\n",
       "  </tbody>\n",
       "</table>\n",
       "</div>"
      ],
      "text/plain": [
       "          date    product_group     pu   revenue\n",
       "0   2021-09-08           OTHERS  24815  143853.0\n",
       "1   2021-09-08              SET  15614  244688.5\n",
       "2   2021-09-08  ULTIMATE BUNDLE  10760  393024.2\n",
       "3   2021-09-09           OTHERS  11822   73580.9\n",
       "4   2021-09-09              SET   6767  104793.1\n",
       "5   2021-09-09  ULTIMATE BUNDLE   4009  145287.5\n",
       "6   2021-09-10           OTHERS   8618   56216.2\n",
       "7   2021-09-10              SET   4184   66579.2\n",
       "8   2021-09-10  ULTIMATE BUNDLE   2399   87296.6\n",
       "9   2021-09-11           OTHERS   7260   48934.1\n",
       "10  2021-09-11              SET   3456   55166.3\n",
       "11  2021-09-11  ULTIMATE BUNDLE   1713   62307.0\n",
       "12  2021-09-12           OTHERS   5756   39651.2\n",
       "13  2021-09-12              SET   2468   39225.2\n",
       "14  2021-09-12  ULTIMATE BUNDLE   1229   44643.1\n",
       "15  2021-09-13           OTHERS   3869   27129.6\n",
       "16  2021-09-13              SET   1623   25997.1\n",
       "17  2021-09-13  ULTIMATE BUNDLE    794   28763.4\n",
       "18  2021-09-14           OTHERS   3091   21742.4\n",
       "19  2021-09-14              SET   1378   22165.3\n",
       "20  2021-09-14  ULTIMATE BUNDLE    618   22425.7"
      ]
     },
     "execution_count": 121,
     "metadata": {},
     "output_type": "execute_result"
    }
   ],
   "source": [
    "pcs5_gcoin.withColumn(\"product_group\", when(col(\"product_id\") == \"itemdesc.13000328\", \"ULTIMATE BUNDLE\").when(col(\"product_id\").isin([\"itemdesc.13000329\"]), \"SET\").otherwise(\"OTHERS\")).groupBy(\"date\", \"product_group\").agg(countDistinct(\"account_id\").alias(\"pu\"), (sum(col(\"paid_use\"))/100).alias(\"revenue\")).orderBy(\"date\", \"product_group\").toPandas()"
   ]
  },
  {
   "cell_type": "code",
   "execution_count": null,
   "metadata": {},
   "outputs": [],
   "source": []
  },
  {
   "cell_type": "code",
   "execution_count": 122,
   "metadata": {},
   "outputs": [],
   "source": [
    "tg_gcoin = load_data_mart(start_date=tg_start_date, end_date=tg_end_date, device=\"pc\", table_name=\"gcoin_use\").where(col(\"event_name\") == tg_event_name)"
   ]
  },
  {
   "cell_type": "code",
   "execution_count": 125,
   "metadata": {},
   "outputs": [],
   "source": [
    "# bundle_list = [\"itemdesc.13000354\", \"itemdesc.13000350\", \"itemdesc.13000349\", \"itemdesc.13000351\", \"itemdesc.13000352\", \"itemdesc.13000353\"]"
   ]
  },
  {
   "cell_type": "code",
   "execution_count": 126,
   "metadata": {},
   "outputs": [
    {
     "data": {
      "text/html": [
       "<div>\n",
       "<style scoped>\n",
       "    .dataframe tbody tr th:only-of-type {\n",
       "        vertical-align: middle;\n",
       "    }\n",
       "\n",
       "    .dataframe tbody tr th {\n",
       "        vertical-align: top;\n",
       "    }\n",
       "\n",
       "    .dataframe thead th {\n",
       "        text-align: right;\n",
       "    }\n",
       "</style>\n",
       "<table border=\"1\" class=\"dataframe\">\n",
       "  <thead>\n",
       "    <tr style=\"text-align: right;\">\n",
       "      <th></th>\n",
       "      <th>date</th>\n",
       "      <th>product_group</th>\n",
       "      <th>pu</th>\n",
       "      <th>revenue</th>\n",
       "    </tr>\n",
       "  </thead>\n",
       "  <tbody>\n",
       "    <tr>\n",
       "      <th>0</th>\n",
       "      <td>2021-09-17</td>\n",
       "      <td>BUNDLE</td>\n",
       "      <td>29257</td>\n",
       "      <td>473607.1</td>\n",
       "    </tr>\n",
       "    <tr>\n",
       "      <th>1</th>\n",
       "      <td>2021-09-17</td>\n",
       "      <td>OTHERS</td>\n",
       "      <td>23428</td>\n",
       "      <td>198959.5</td>\n",
       "    </tr>\n",
       "    <tr>\n",
       "      <th>2</th>\n",
       "      <td>2021-09-17</td>\n",
       "      <td>ULTIMATE BUNDLE</td>\n",
       "      <td>12720</td>\n",
       "      <td>619795.6</td>\n",
       "    </tr>\n",
       "    <tr>\n",
       "      <th>3</th>\n",
       "      <td>2021-09-18</td>\n",
       "      <td>BUNDLE</td>\n",
       "      <td>15145</td>\n",
       "      <td>237553.0</td>\n",
       "    </tr>\n",
       "    <tr>\n",
       "      <th>4</th>\n",
       "      <td>2021-09-18</td>\n",
       "      <td>OTHERS</td>\n",
       "      <td>12602</td>\n",
       "      <td>104848.9</td>\n",
       "    </tr>\n",
       "    <tr>\n",
       "      <th>5</th>\n",
       "      <td>2021-09-18</td>\n",
       "      <td>ULTIMATE BUNDLE</td>\n",
       "      <td>4581</td>\n",
       "      <td>226838.8</td>\n",
       "    </tr>\n",
       "    <tr>\n",
       "      <th>6</th>\n",
       "      <td>2021-09-19</td>\n",
       "      <td>BUNDLE</td>\n",
       "      <td>10547</td>\n",
       "      <td>162585.8</td>\n",
       "    </tr>\n",
       "    <tr>\n",
       "      <th>7</th>\n",
       "      <td>2021-09-19</td>\n",
       "      <td>OTHERS</td>\n",
       "      <td>9151</td>\n",
       "      <td>73284.7</td>\n",
       "    </tr>\n",
       "    <tr>\n",
       "      <th>8</th>\n",
       "      <td>2021-09-19</td>\n",
       "      <td>ULTIMATE BUNDLE</td>\n",
       "      <td>2743</td>\n",
       "      <td>136055.0</td>\n",
       "    </tr>\n",
       "    <tr>\n",
       "      <th>9</th>\n",
       "      <td>2021-09-20</td>\n",
       "      <td>BUNDLE</td>\n",
       "      <td>8035</td>\n",
       "      <td>122578.7</td>\n",
       "    </tr>\n",
       "    <tr>\n",
       "      <th>10</th>\n",
       "      <td>2021-09-20</td>\n",
       "      <td>OTHERS</td>\n",
       "      <td>7338</td>\n",
       "      <td>57326.5</td>\n",
       "    </tr>\n",
       "    <tr>\n",
       "      <th>11</th>\n",
       "      <td>2021-09-20</td>\n",
       "      <td>ULTIMATE BUNDLE</td>\n",
       "      <td>1939</td>\n",
       "      <td>96641.6</td>\n",
       "    </tr>\n",
       "    <tr>\n",
       "      <th>12</th>\n",
       "      <td>2021-09-21</td>\n",
       "      <td>BUNDLE</td>\n",
       "      <td>6715</td>\n",
       "      <td>103698.6</td>\n",
       "    </tr>\n",
       "    <tr>\n",
       "      <th>13</th>\n",
       "      <td>2021-09-21</td>\n",
       "      <td>OTHERS</td>\n",
       "      <td>6089</td>\n",
       "      <td>47887.0</td>\n",
       "    </tr>\n",
       "    <tr>\n",
       "      <th>14</th>\n",
       "      <td>2021-09-21</td>\n",
       "      <td>ULTIMATE BUNDLE</td>\n",
       "      <td>1378</td>\n",
       "      <td>68771.7</td>\n",
       "    </tr>\n",
       "    <tr>\n",
       "      <th>15</th>\n",
       "      <td>2021-09-22</td>\n",
       "      <td>BUNDLE</td>\n",
       "      <td>5341</td>\n",
       "      <td>83600.8</td>\n",
       "    </tr>\n",
       "    <tr>\n",
       "      <th>16</th>\n",
       "      <td>2021-09-22</td>\n",
       "      <td>OTHERS</td>\n",
       "      <td>4584</td>\n",
       "      <td>36078.1</td>\n",
       "    </tr>\n",
       "    <tr>\n",
       "      <th>17</th>\n",
       "      <td>2021-09-22</td>\n",
       "      <td>ULTIMATE BUNDLE</td>\n",
       "      <td>1175</td>\n",
       "      <td>58625.4</td>\n",
       "    </tr>\n",
       "    <tr>\n",
       "      <th>18</th>\n",
       "      <td>2021-09-23</td>\n",
       "      <td>BUNDLE</td>\n",
       "      <td>4228</td>\n",
       "      <td>66486.3</td>\n",
       "    </tr>\n",
       "    <tr>\n",
       "      <th>19</th>\n",
       "      <td>2021-09-23</td>\n",
       "      <td>OTHERS</td>\n",
       "      <td>3677</td>\n",
       "      <td>28304.0</td>\n",
       "    </tr>\n",
       "    <tr>\n",
       "      <th>20</th>\n",
       "      <td>2021-09-23</td>\n",
       "      <td>ULTIMATE BUNDLE</td>\n",
       "      <td>801</td>\n",
       "      <td>39822.6</td>\n",
       "    </tr>\n",
       "  </tbody>\n",
       "</table>\n",
       "</div>"
      ],
      "text/plain": [
       "          date    product_group     pu   revenue\n",
       "0   2021-09-17           BUNDLE  29257  473607.1\n",
       "1   2021-09-17           OTHERS  23428  198959.5\n",
       "2   2021-09-17  ULTIMATE BUNDLE  12720  619795.6\n",
       "3   2021-09-18           BUNDLE  15145  237553.0\n",
       "4   2021-09-18           OTHERS  12602  104848.9\n",
       "5   2021-09-18  ULTIMATE BUNDLE   4581  226838.8\n",
       "6   2021-09-19           BUNDLE  10547  162585.8\n",
       "7   2021-09-19           OTHERS   9151   73284.7\n",
       "8   2021-09-19  ULTIMATE BUNDLE   2743  136055.0\n",
       "9   2021-09-20           BUNDLE   8035  122578.7\n",
       "10  2021-09-20           OTHERS   7338   57326.5\n",
       "11  2021-09-20  ULTIMATE BUNDLE   1939   96641.6\n",
       "12  2021-09-21           BUNDLE   6715  103698.6\n",
       "13  2021-09-21           OTHERS   6089   47887.0\n",
       "14  2021-09-21  ULTIMATE BUNDLE   1378   68771.7\n",
       "15  2021-09-22           BUNDLE   5341   83600.8\n",
       "16  2021-09-22           OTHERS   4584   36078.1\n",
       "17  2021-09-22  ULTIMATE BUNDLE   1175   58625.4\n",
       "18  2021-09-23           BUNDLE   4228   66486.3\n",
       "19  2021-09-23           OTHERS   3677   28304.0\n",
       "20  2021-09-23  ULTIMATE BUNDLE    801   39822.6"
      ]
     },
     "execution_count": 126,
     "metadata": {},
     "output_type": "execute_result"
    }
   ],
   "source": [
    "bundle_list = [\"itemdesc.13000354\", \"itemdesc.13000350\", \"itemdesc.13000349\", \"itemdesc.13000351\", \"itemdesc.13000352\", \"itemdesc.13000353\"]\n",
    "tg_gcoin.withColumn(\"product_group\", when(col(\"product_id\") == \"itemdesc.13000348\", \"ULTIMATE BUNDLE\").when(col(\"product_id\").isin(bundle_list), \"BUNDLE\").otherwise(\"OTHERS\")).groupBy(\"date\", \"product_group\").agg(countDistinct(\"account_id\").alias(\"pu\"), (sum(\"paid_use\")/100).alias(\"revenue\")).orderBy(\"date\", \"product_group\").toPandas()"
   ]
  },
  {
   "cell_type": "code",
   "execution_count": null,
   "metadata": {},
   "outputs": [],
   "source": []
  },
  {
   "cell_type": "code",
   "execution_count": 128,
   "metadata": {},
   "outputs": [],
   "source": [
    "hw_gcoin = load_data_mart(start_date=hw_start_date, end_date=hw_end_date, device=\"pc\", table_name=\"gcoin_use\").where(col(\"event_name\") == hw_event_name)"
   ]
  },
  {
   "cell_type": "code",
   "execution_count": 130,
   "metadata": {},
   "outputs": [],
   "source": [
    "# hw_bundle_list = [\"itemdesc.13000358\", \"itemdesc.13000360\", \"itemdesc.13000357\", \"itemdesc.13000359\", \"itemdesc.13000361\"]"
   ]
  },
  {
   "cell_type": "code",
   "execution_count": 131,
   "metadata": {},
   "outputs": [
    {
     "data": {
      "text/html": [
       "<div>\n",
       "<style scoped>\n",
       "    .dataframe tbody tr th:only-of-type {\n",
       "        vertical-align: middle;\n",
       "    }\n",
       "\n",
       "    .dataframe tbody tr th {\n",
       "        vertical-align: top;\n",
       "    }\n",
       "\n",
       "    .dataframe thead th {\n",
       "        text-align: right;\n",
       "    }\n",
       "</style>\n",
       "<table border=\"1\" class=\"dataframe\">\n",
       "  <thead>\n",
       "    <tr style=\"text-align: right;\">\n",
       "      <th></th>\n",
       "      <th>date</th>\n",
       "      <th>product_group</th>\n",
       "      <th>pu</th>\n",
       "      <th>revenue</th>\n",
       "    </tr>\n",
       "  </thead>\n",
       "  <tbody>\n",
       "    <tr>\n",
       "      <th>0</th>\n",
       "      <td>2021-10-20</td>\n",
       "      <td>BUNDLE</td>\n",
       "      <td>3861</td>\n",
       "      <td>55190.35</td>\n",
       "    </tr>\n",
       "    <tr>\n",
       "      <th>1</th>\n",
       "      <td>2021-10-20</td>\n",
       "      <td>OTHERS</td>\n",
       "      <td>10157</td>\n",
       "      <td>44776.95</td>\n",
       "    </tr>\n",
       "    <tr>\n",
       "      <th>2</th>\n",
       "      <td>2021-10-20</td>\n",
       "      <td>ULTIMATE BUNDLE</td>\n",
       "      <td>1249</td>\n",
       "      <td>86677.50</td>\n",
       "    </tr>\n",
       "    <tr>\n",
       "      <th>3</th>\n",
       "      <td>2021-10-21</td>\n",
       "      <td>BUNDLE</td>\n",
       "      <td>1619</td>\n",
       "      <td>22941.90</td>\n",
       "    </tr>\n",
       "    <tr>\n",
       "      <th>4</th>\n",
       "      <td>2021-10-21</td>\n",
       "      <td>OTHERS</td>\n",
       "      <td>4689</td>\n",
       "      <td>19354.80</td>\n",
       "    </tr>\n",
       "    <tr>\n",
       "      <th>5</th>\n",
       "      <td>2021-10-21</td>\n",
       "      <td>ULTIMATE BUNDLE</td>\n",
       "      <td>399</td>\n",
       "      <td>27929.50</td>\n",
       "    </tr>\n",
       "    <tr>\n",
       "      <th>6</th>\n",
       "      <td>2021-10-22</td>\n",
       "      <td>BUNDLE</td>\n",
       "      <td>1154</td>\n",
       "      <td>16705.00</td>\n",
       "    </tr>\n",
       "    <tr>\n",
       "      <th>7</th>\n",
       "      <td>2021-10-22</td>\n",
       "      <td>OTHERS</td>\n",
       "      <td>3213</td>\n",
       "      <td>13058.35</td>\n",
       "    </tr>\n",
       "    <tr>\n",
       "      <th>8</th>\n",
       "      <td>2021-10-22</td>\n",
       "      <td>ULTIMATE BUNDLE</td>\n",
       "      <td>216</td>\n",
       "      <td>15265.50</td>\n",
       "    </tr>\n",
       "    <tr>\n",
       "      <th>9</th>\n",
       "      <td>2021-10-23</td>\n",
       "      <td>BUNDLE</td>\n",
       "      <td>988</td>\n",
       "      <td>14080.20</td>\n",
       "    </tr>\n",
       "    <tr>\n",
       "      <th>10</th>\n",
       "      <td>2021-10-23</td>\n",
       "      <td>OTHERS</td>\n",
       "      <td>2873</td>\n",
       "      <td>11760.30</td>\n",
       "    </tr>\n",
       "    <tr>\n",
       "      <th>11</th>\n",
       "      <td>2021-10-23</td>\n",
       "      <td>ULTIMATE BUNDLE</td>\n",
       "      <td>176</td>\n",
       "      <td>12426.00</td>\n",
       "    </tr>\n",
       "    <tr>\n",
       "      <th>12</th>\n",
       "      <td>2021-10-24</td>\n",
       "      <td>BUNDLE</td>\n",
       "      <td>777</td>\n",
       "      <td>11064.50</td>\n",
       "    </tr>\n",
       "    <tr>\n",
       "      <th>13</th>\n",
       "      <td>2021-10-24</td>\n",
       "      <td>OTHERS</td>\n",
       "      <td>2327</td>\n",
       "      <td>9257.15</td>\n",
       "    </tr>\n",
       "    <tr>\n",
       "      <th>14</th>\n",
       "      <td>2021-10-24</td>\n",
       "      <td>ULTIMATE BUNDLE</td>\n",
       "      <td>152</td>\n",
       "      <td>10819.10</td>\n",
       "    </tr>\n",
       "    <tr>\n",
       "      <th>15</th>\n",
       "      <td>2021-10-25</td>\n",
       "      <td>BUNDLE</td>\n",
       "      <td>532</td>\n",
       "      <td>7624.30</td>\n",
       "    </tr>\n",
       "    <tr>\n",
       "      <th>16</th>\n",
       "      <td>2021-10-25</td>\n",
       "      <td>OTHERS</td>\n",
       "      <td>1422</td>\n",
       "      <td>5684.60</td>\n",
       "    </tr>\n",
       "    <tr>\n",
       "      <th>17</th>\n",
       "      <td>2021-10-25</td>\n",
       "      <td>ULTIMATE BUNDLE</td>\n",
       "      <td>88</td>\n",
       "      <td>6227.80</td>\n",
       "    </tr>\n",
       "    <tr>\n",
       "      <th>18</th>\n",
       "      <td>2021-10-26</td>\n",
       "      <td>BUNDLE</td>\n",
       "      <td>407</td>\n",
       "      <td>5864.90</td>\n",
       "    </tr>\n",
       "    <tr>\n",
       "      <th>19</th>\n",
       "      <td>2021-10-26</td>\n",
       "      <td>OTHERS</td>\n",
       "      <td>1200</td>\n",
       "      <td>4681.40</td>\n",
       "    </tr>\n",
       "    <tr>\n",
       "      <th>20</th>\n",
       "      <td>2021-10-26</td>\n",
       "      <td>ULTIMATE BUNDLE</td>\n",
       "      <td>75</td>\n",
       "      <td>5379.50</td>\n",
       "    </tr>\n",
       "  </tbody>\n",
       "</table>\n",
       "</div>"
      ],
      "text/plain": [
       "          date    product_group     pu   revenue\n",
       "0   2021-10-20           BUNDLE   3861  55190.35\n",
       "1   2021-10-20           OTHERS  10157  44776.95\n",
       "2   2021-10-20  ULTIMATE BUNDLE   1249  86677.50\n",
       "3   2021-10-21           BUNDLE   1619  22941.90\n",
       "4   2021-10-21           OTHERS   4689  19354.80\n",
       "5   2021-10-21  ULTIMATE BUNDLE    399  27929.50\n",
       "6   2021-10-22           BUNDLE   1154  16705.00\n",
       "7   2021-10-22           OTHERS   3213  13058.35\n",
       "8   2021-10-22  ULTIMATE BUNDLE    216  15265.50\n",
       "9   2021-10-23           BUNDLE    988  14080.20\n",
       "10  2021-10-23           OTHERS   2873  11760.30\n",
       "11  2021-10-23  ULTIMATE BUNDLE    176  12426.00\n",
       "12  2021-10-24           BUNDLE    777  11064.50\n",
       "13  2021-10-24           OTHERS   2327   9257.15\n",
       "14  2021-10-24  ULTIMATE BUNDLE    152  10819.10\n",
       "15  2021-10-25           BUNDLE    532   7624.30\n",
       "16  2021-10-25           OTHERS   1422   5684.60\n",
       "17  2021-10-25  ULTIMATE BUNDLE     88   6227.80\n",
       "18  2021-10-26           BUNDLE    407   5864.90\n",
       "19  2021-10-26           OTHERS   1200   4681.40\n",
       "20  2021-10-26  ULTIMATE BUNDLE     75   5379.50"
      ]
     },
     "execution_count": 131,
     "metadata": {},
     "output_type": "execute_result"
    }
   ],
   "source": [
    "hw_bundle_list = [\"itemdesc.13000358\", \"itemdesc.13000360\", \"itemdesc.13000357\", \"itemdesc.13000359\", \"itemdesc.13000361\"]\n",
    "hw_gcoin.withColumn(\"product_group\", when(col(\"product_id\") == \"itemdesc.13000362\", \"ULTIMATE BUNDLE\").when(col(\"product_id\").isin(hw_bundle_list), \"BUNDLE\").otherwise(\"OTHERS\")).groupBy(\"date\", \"product_group\").agg(countDistinct(\"account_id\").alias(\"pu\"), (sum(\"paid_use\")/100).alias(\"revenue\")).orderBy(\"date\", \"product_group\").toPandas()"
   ]
  },
  {
   "cell_type": "code",
   "execution_count": null,
   "metadata": {},
   "outputs": [],
   "source": []
  },
  {
   "cell_type": "code",
   "execution_count": 132,
   "metadata": {},
   "outputs": [],
   "source": [
    "pgc_gcoin = load_data_mart(start_date=pgc_start_date, end_date=pgc_end_date, device=\"pc\", table_name=\"gcoin_use\").where(col(\"event_name\") == pgc_event_name)"
   ]
  },
  {
   "cell_type": "code",
   "execution_count": 133,
   "metadata": {},
   "outputs": [
    {
     "name": "stdout",
     "output_type": "stream",
     "text": [
      "+--------------------+\n",
      "|        product_name|\n",
      "+--------------------+\n",
      "|PGC 2021 CONTINGE...|\n",
      "|PGC 2021 MEGA BUN...|\n",
      "|PGC 2021 CONTINGE...|\n",
      "+--------------------+\n",
      "\n"
     ]
    }
   ],
   "source": [
    "pgc_gcoin.select(\"product_name\").distinct().show()"
   ]
  },
  {
   "cell_type": "code",
   "execution_count": 134,
   "metadata": {},
   "outputs": [
    {
     "data": {
      "text/html": [
       "<div>\n",
       "<style scoped>\n",
       "    .dataframe tbody tr th:only-of-type {\n",
       "        vertical-align: middle;\n",
       "    }\n",
       "\n",
       "    .dataframe tbody tr th {\n",
       "        vertical-align: top;\n",
       "    }\n",
       "\n",
       "    .dataframe thead th {\n",
       "        text-align: right;\n",
       "    }\n",
       "</style>\n",
       "<table border=\"1\" class=\"dataframe\">\n",
       "  <thead>\n",
       "    <tr style=\"text-align: right;\">\n",
       "      <th></th>\n",
       "      <th>date</th>\n",
       "      <th>product_group</th>\n",
       "      <th>pu</th>\n",
       "      <th>revenue</th>\n",
       "    </tr>\n",
       "  </thead>\n",
       "  <tbody>\n",
       "    <tr>\n",
       "      <th>0</th>\n",
       "      <td>2021-11-12</td>\n",
       "      <td>BUNDLE</td>\n",
       "      <td>20807</td>\n",
       "      <td>510329.25</td>\n",
       "    </tr>\n",
       "    <tr>\n",
       "      <th>1</th>\n",
       "      <td>2021-11-12</td>\n",
       "      <td>MEGA BUNDLE</td>\n",
       "      <td>64834</td>\n",
       "      <td>2627735.00</td>\n",
       "    </tr>\n",
       "    <tr>\n",
       "      <th>2</th>\n",
       "      <td>2021-11-13</td>\n",
       "      <td>BUNDLE</td>\n",
       "      <td>8722</td>\n",
       "      <td>215884.65</td>\n",
       "    </tr>\n",
       "    <tr>\n",
       "      <th>3</th>\n",
       "      <td>2021-11-13</td>\n",
       "      <td>MEGA BUNDLE</td>\n",
       "      <td>19546</td>\n",
       "      <td>823725.40</td>\n",
       "    </tr>\n",
       "    <tr>\n",
       "      <th>4</th>\n",
       "      <td>2021-11-14</td>\n",
       "      <td>BUNDLE</td>\n",
       "      <td>5774</td>\n",
       "      <td>142335.10</td>\n",
       "    </tr>\n",
       "    <tr>\n",
       "      <th>5</th>\n",
       "      <td>2021-11-14</td>\n",
       "      <td>MEGA BUNDLE</td>\n",
       "      <td>11249</td>\n",
       "      <td>475714.50</td>\n",
       "    </tr>\n",
       "    <tr>\n",
       "      <th>6</th>\n",
       "      <td>2021-11-15</td>\n",
       "      <td>BUNDLE</td>\n",
       "      <td>4201</td>\n",
       "      <td>103091.45</td>\n",
       "    </tr>\n",
       "    <tr>\n",
       "      <th>7</th>\n",
       "      <td>2021-11-15</td>\n",
       "      <td>MEGA BUNDLE</td>\n",
       "      <td>8776</td>\n",
       "      <td>370286.35</td>\n",
       "    </tr>\n",
       "    <tr>\n",
       "      <th>8</th>\n",
       "      <td>2021-11-16</td>\n",
       "      <td>BUNDLE</td>\n",
       "      <td>3355</td>\n",
       "      <td>82044.30</td>\n",
       "    </tr>\n",
       "    <tr>\n",
       "      <th>9</th>\n",
       "      <td>2021-11-16</td>\n",
       "      <td>MEGA BUNDLE</td>\n",
       "      <td>6430</td>\n",
       "      <td>270158.40</td>\n",
       "    </tr>\n",
       "    <tr>\n",
       "      <th>10</th>\n",
       "      <td>2021-11-17</td>\n",
       "      <td>BUNDLE</td>\n",
       "      <td>2772</td>\n",
       "      <td>67053.85</td>\n",
       "    </tr>\n",
       "    <tr>\n",
       "      <th>11</th>\n",
       "      <td>2021-11-17</td>\n",
       "      <td>MEGA BUNDLE</td>\n",
       "      <td>5327</td>\n",
       "      <td>224474.35</td>\n",
       "    </tr>\n",
       "    <tr>\n",
       "      <th>12</th>\n",
       "      <td>2021-11-18</td>\n",
       "      <td>BUNDLE</td>\n",
       "      <td>2596</td>\n",
       "      <td>62071.45</td>\n",
       "    </tr>\n",
       "    <tr>\n",
       "      <th>13</th>\n",
       "      <td>2021-11-18</td>\n",
       "      <td>MEGA BUNDLE</td>\n",
       "      <td>5002</td>\n",
       "      <td>210331.15</td>\n",
       "    </tr>\n",
       "  </tbody>\n",
       "</table>\n",
       "</div>"
      ],
      "text/plain": [
       "          date product_group     pu     revenue\n",
       "0   2021-11-12        BUNDLE  20807   510329.25\n",
       "1   2021-11-12   MEGA BUNDLE  64834  2627735.00\n",
       "2   2021-11-13        BUNDLE   8722   215884.65\n",
       "3   2021-11-13   MEGA BUNDLE  19546   823725.40\n",
       "4   2021-11-14        BUNDLE   5774   142335.10\n",
       "5   2021-11-14   MEGA BUNDLE  11249   475714.50\n",
       "6   2021-11-15        BUNDLE   4201   103091.45\n",
       "7   2021-11-15   MEGA BUNDLE   8776   370286.35\n",
       "8   2021-11-16        BUNDLE   3355    82044.30\n",
       "9   2021-11-16   MEGA BUNDLE   6430   270158.40\n",
       "10  2021-11-17        BUNDLE   2772    67053.85\n",
       "11  2021-11-17   MEGA BUNDLE   5327   224474.35\n",
       "12  2021-11-18        BUNDLE   2596    62071.45\n",
       "13  2021-11-18   MEGA BUNDLE   5002   210331.15"
      ]
     },
     "execution_count": 134,
     "metadata": {},
     "output_type": "execute_result"
    }
   ],
   "source": [
    "pgc_gcoin.withColumn(\"product_group\", when(col(\"product_id\") == \"itemdesc.13000386\", \"MEGA BUNDLE\").otherwise(\"BUNDLE\")).groupBy(\"date\", \"product_group\").agg(countDistinct(\"account_id\").alias(\"pu\"), (sum(\"paid_use\")/100).alias(\"revenue\")).orderBy(\"date\", \"product_group\").toPandas()"
   ]
  },
  {
   "cell_type": "code",
   "execution_count": null,
   "metadata": {},
   "outputs": [],
   "source": []
  },
  {
   "cell_type": "code",
   "execution_count": 28,
   "metadata": {},
   "outputs": [],
   "source": [
    "bp_user = bp_user.groupBy(\"date\").agg(countDistinct(\"accountid\").alias(\"au\")).orderBy(\"date\").toPandas()"
   ]
  },
  {
   "cell_type": "code",
   "execution_count": 29,
   "metadata": {},
   "outputs": [
    {
     "data": {
      "text/html": [
       "<div>\n",
       "<style scoped>\n",
       "    .dataframe tbody tr th:only-of-type {\n",
       "        vertical-align: middle;\n",
       "    }\n",
       "\n",
       "    .dataframe tbody tr th {\n",
       "        vertical-align: top;\n",
       "    }\n",
       "\n",
       "    .dataframe thead th {\n",
       "        text-align: right;\n",
       "    }\n",
       "</style>\n",
       "<table border=\"1\" class=\"dataframe\">\n",
       "  <thead>\n",
       "    <tr style=\"text-align: right;\">\n",
       "      <th></th>\n",
       "      <th>date</th>\n",
       "      <th>au</th>\n",
       "    </tr>\n",
       "  </thead>\n",
       "  <tbody>\n",
       "    <tr>\n",
       "      <th>0</th>\n",
       "      <td>2021-08-04</td>\n",
       "      <td>1261340</td>\n",
       "    </tr>\n",
       "    <tr>\n",
       "      <th>1</th>\n",
       "      <td>2021-08-05</td>\n",
       "      <td>1968652</td>\n",
       "    </tr>\n",
       "    <tr>\n",
       "      <th>2</th>\n",
       "      <td>2021-08-06</td>\n",
       "      <td>2446718</td>\n",
       "    </tr>\n",
       "    <tr>\n",
       "      <th>3</th>\n",
       "      <td>2021-08-07</td>\n",
       "      <td>2899098</td>\n",
       "    </tr>\n",
       "    <tr>\n",
       "      <th>4</th>\n",
       "      <td>2021-08-08</td>\n",
       "      <td>3253513</td>\n",
       "    </tr>\n",
       "    <tr>\n",
       "      <th>5</th>\n",
       "      <td>2021-08-09</td>\n",
       "      <td>3498561</td>\n",
       "    </tr>\n",
       "    <tr>\n",
       "      <th>6</th>\n",
       "      <td>2021-08-10</td>\n",
       "      <td>4068393</td>\n",
       "    </tr>\n",
       "  </tbody>\n",
       "</table>\n",
       "</div>"
      ],
      "text/plain": [
       "         date       au\n",
       "0  2021-08-04  1261340\n",
       "1  2021-08-05  1968652\n",
       "2  2021-08-06  2446718\n",
       "3  2021-08-07  2899098\n",
       "4  2021-08-08  3253513\n",
       "5  2021-08-09  3498561\n",
       "6  2021-08-10  4068393"
      ]
     },
     "execution_count": 29,
     "metadata": {},
     "output_type": "execute_result"
    }
   ],
   "source": [
    "bp_user"
   ]
  },
  {
   "cell_type": "code",
   "execution_count": 12,
   "metadata": {},
   "outputs": [],
   "source": [
    "bp_product_daily = bp_gcoin.groupBy(\"date\", \"product_name\").agg(count(\"*\").alias(\"unit_sold\"), countDistinct(\"account_id\").alias(\"pu\"), (sum(\"price\")/100).alias(\"revenue\")).toPandas()"
   ]
  },
  {
   "cell_type": "code",
   "execution_count": 13,
   "metadata": {},
   "outputs": [
    {
     "data": {
      "text/html": [
       "<div>\n",
       "<style scoped>\n",
       "    .dataframe tbody tr th:only-of-type {\n",
       "        vertical-align: middle;\n",
       "    }\n",
       "\n",
       "    .dataframe tbody tr th {\n",
       "        vertical-align: top;\n",
       "    }\n",
       "\n",
       "    .dataframe thead th {\n",
       "        text-align: right;\n",
       "    }\n",
       "</style>\n",
       "<table border=\"1\" class=\"dataframe\">\n",
       "  <thead>\n",
       "    <tr style=\"text-align: right;\">\n",
       "      <th></th>\n",
       "      <th>date</th>\n",
       "      <th>product_name</th>\n",
       "      <th>unit_sold</th>\n",
       "      <th>pu</th>\n",
       "      <th>revenue</th>\n",
       "    </tr>\n",
       "  </thead>\n",
       "  <tbody>\n",
       "    <tr>\n",
       "      <th>0</th>\n",
       "      <td>2021-08-05</td>\n",
       "      <td>JENNIE'S BLACKPINK BUNDLE</td>\n",
       "      <td>5036</td>\n",
       "      <td>5036</td>\n",
       "      <td>140000.8</td>\n",
       "    </tr>\n",
       "    <tr>\n",
       "      <th>1</th>\n",
       "      <td>2021-08-09</td>\n",
       "      <td>JISOO'S BLACKPINK BUNDLE</td>\n",
       "      <td>1479</td>\n",
       "      <td>1479</td>\n",
       "      <td>41116.2</td>\n",
       "    </tr>\n",
       "    <tr>\n",
       "      <th>2</th>\n",
       "      <td>2021-08-09</td>\n",
       "      <td>LISA'S BLACKPINK BUNDLE</td>\n",
       "      <td>1143</td>\n",
       "      <td>1143</td>\n",
       "      <td>31775.4</td>\n",
       "    </tr>\n",
       "    <tr>\n",
       "      <th>3</th>\n",
       "      <td>2021-08-08</td>\n",
       "      <td>BLACKPINK MEGA BUNDLE</td>\n",
       "      <td>3496</td>\n",
       "      <td>3496</td>\n",
       "      <td>346104.0</td>\n",
       "    </tr>\n",
       "    <tr>\n",
       "      <th>4</th>\n",
       "      <td>2021-08-04</td>\n",
       "      <td>JISOO'S BLACKPINK BUNDLE</td>\n",
       "      <td>5804</td>\n",
       "      <td>5804</td>\n",
       "      <td>161351.2</td>\n",
       "    </tr>\n",
       "  </tbody>\n",
       "</table>\n",
       "</div>"
      ],
      "text/plain": [
       "         date               product_name  unit_sold    pu   revenue\n",
       "0  2021-08-05  JENNIE'S BLACKPINK BUNDLE       5036  5036  140000.8\n",
       "1  2021-08-09   JISOO'S BLACKPINK BUNDLE       1479  1479   41116.2\n",
       "2  2021-08-09    LISA'S BLACKPINK BUNDLE       1143  1143   31775.4\n",
       "3  2021-08-08      BLACKPINK MEGA BUNDLE       3496  3496  346104.0\n",
       "4  2021-08-04   JISOO'S BLACKPINK BUNDLE       5804  5804  161351.2"
      ]
     },
     "execution_count": 13,
     "metadata": {},
     "output_type": "execute_result"
    }
   ],
   "source": [
    "bp_product_daily.head()"
   ]
  },
  {
   "cell_type": "code",
   "execution_count": 30,
   "metadata": {},
   "outputs": [
    {
     "data": {
      "text/html": [
       "<div>\n",
       "<style scoped>\n",
       "    .dataframe tbody tr th:only-of-type {\n",
       "        vertical-align: middle;\n",
       "    }\n",
       "\n",
       "    .dataframe tbody tr th {\n",
       "        vertical-align: top;\n",
       "    }\n",
       "\n",
       "    .dataframe thead th {\n",
       "        text-align: right;\n",
       "    }\n",
       "</style>\n",
       "<table border=\"1\" class=\"dataframe\">\n",
       "  <thead>\n",
       "    <tr style=\"text-align: right;\">\n",
       "      <th></th>\n",
       "      <th>date</th>\n",
       "      <th>au</th>\n",
       "      <th>product_name</th>\n",
       "      <th>unit_sold</th>\n",
       "      <th>pu</th>\n",
       "      <th>revenue</th>\n",
       "    </tr>\n",
       "  </thead>\n",
       "  <tbody>\n",
       "    <tr>\n",
       "      <th>0</th>\n",
       "      <td>2021-08-04</td>\n",
       "      <td>1261340</td>\n",
       "      <td>JISOO'S BLACKPINK BUNDLE</td>\n",
       "      <td>5804</td>\n",
       "      <td>5804</td>\n",
       "      <td>161351.2</td>\n",
       "    </tr>\n",
       "    <tr>\n",
       "      <th>1</th>\n",
       "      <td>2021-08-04</td>\n",
       "      <td>1261340</td>\n",
       "      <td>BLACKPINK MEGA BUNDLE</td>\n",
       "      <td>22570</td>\n",
       "      <td>22570</td>\n",
       "      <td>2234430.0</td>\n",
       "    </tr>\n",
       "    <tr>\n",
       "      <th>2</th>\n",
       "      <td>2021-08-04</td>\n",
       "      <td>1261340</td>\n",
       "      <td>LISA'S BLACKPINK BUNDLE</td>\n",
       "      <td>6205</td>\n",
       "      <td>6205</td>\n",
       "      <td>172499.0</td>\n",
       "    </tr>\n",
       "    <tr>\n",
       "      <th>3</th>\n",
       "      <td>2021-08-04</td>\n",
       "      <td>1261340</td>\n",
       "      <td>JENNIE'S BLACKPINK BUNDLE</td>\n",
       "      <td>6655</td>\n",
       "      <td>6655</td>\n",
       "      <td>185009.0</td>\n",
       "    </tr>\n",
       "    <tr>\n",
       "      <th>4</th>\n",
       "      <td>2021-08-04</td>\n",
       "      <td>1261340</td>\n",
       "      <td>ROSÉ'S BLACKPINK BUNDLE</td>\n",
       "      <td>8131</td>\n",
       "      <td>8131</td>\n",
       "      <td>226041.8</td>\n",
       "    </tr>\n",
       "    <tr>\n",
       "      <th>5</th>\n",
       "      <td>2021-08-05</td>\n",
       "      <td>1968652</td>\n",
       "      <td>JENNIE'S BLACKPINK BUNDLE</td>\n",
       "      <td>5036</td>\n",
       "      <td>5036</td>\n",
       "      <td>140000.8</td>\n",
       "    </tr>\n",
       "    <tr>\n",
       "      <th>6</th>\n",
       "      <td>2021-08-05</td>\n",
       "      <td>1968652</td>\n",
       "      <td>JISOO'S BLACKPINK BUNDLE</td>\n",
       "      <td>4229</td>\n",
       "      <td>4229</td>\n",
       "      <td>117566.2</td>\n",
       "    </tr>\n",
       "    <tr>\n",
       "      <th>7</th>\n",
       "      <td>2021-08-05</td>\n",
       "      <td>1968652</td>\n",
       "      <td>ROSÉ'S BLACKPINK BUNDLE</td>\n",
       "      <td>5439</td>\n",
       "      <td>5439</td>\n",
       "      <td>151204.2</td>\n",
       "    </tr>\n",
       "    <tr>\n",
       "      <th>8</th>\n",
       "      <td>2021-08-05</td>\n",
       "      <td>1968652</td>\n",
       "      <td>BLACKPINK MEGA BUNDLE</td>\n",
       "      <td>11095</td>\n",
       "      <td>11095</td>\n",
       "      <td>1098405.0</td>\n",
       "    </tr>\n",
       "    <tr>\n",
       "      <th>9</th>\n",
       "      <td>2021-08-05</td>\n",
       "      <td>1968652</td>\n",
       "      <td>LISA'S BLACKPINK BUNDLE</td>\n",
       "      <td>3693</td>\n",
       "      <td>3693</td>\n",
       "      <td>102665.4</td>\n",
       "    </tr>\n",
       "    <tr>\n",
       "      <th>10</th>\n",
       "      <td>2021-08-06</td>\n",
       "      <td>2446718</td>\n",
       "      <td>LISA'S BLACKPINK BUNDLE</td>\n",
       "      <td>2451</td>\n",
       "      <td>2451</td>\n",
       "      <td>68137.8</td>\n",
       "    </tr>\n",
       "    <tr>\n",
       "      <th>11</th>\n",
       "      <td>2021-08-06</td>\n",
       "      <td>2446718</td>\n",
       "      <td>ROSÉ'S BLACKPINK BUNDLE</td>\n",
       "      <td>3656</td>\n",
       "      <td>3656</td>\n",
       "      <td>101636.8</td>\n",
       "    </tr>\n",
       "    <tr>\n",
       "      <th>12</th>\n",
       "      <td>2021-08-06</td>\n",
       "      <td>2446718</td>\n",
       "      <td>JISOO'S BLACKPINK BUNDLE</td>\n",
       "      <td>2947</td>\n",
       "      <td>2947</td>\n",
       "      <td>81926.6</td>\n",
       "    </tr>\n",
       "    <tr>\n",
       "      <th>13</th>\n",
       "      <td>2021-08-06</td>\n",
       "      <td>2446718</td>\n",
       "      <td>JENNIE'S BLACKPINK BUNDLE</td>\n",
       "      <td>3490</td>\n",
       "      <td>3490</td>\n",
       "      <td>97022.0</td>\n",
       "    </tr>\n",
       "    <tr>\n",
       "      <th>14</th>\n",
       "      <td>2021-08-06</td>\n",
       "      <td>2446718</td>\n",
       "      <td>BLACKPINK MEGA BUNDLE</td>\n",
       "      <td>6441</td>\n",
       "      <td>6441</td>\n",
       "      <td>637659.0</td>\n",
       "    </tr>\n",
       "    <tr>\n",
       "      <th>15</th>\n",
       "      <td>2021-08-07</td>\n",
       "      <td>2899098</td>\n",
       "      <td>JISOO'S BLACKPINK BUNDLE</td>\n",
       "      <td>2512</td>\n",
       "      <td>2512</td>\n",
       "      <td>69833.6</td>\n",
       "    </tr>\n",
       "    <tr>\n",
       "      <th>16</th>\n",
       "      <td>2021-08-07</td>\n",
       "      <td>2899098</td>\n",
       "      <td>ROSÉ'S BLACKPINK BUNDLE</td>\n",
       "      <td>3202</td>\n",
       "      <td>3202</td>\n",
       "      <td>89015.6</td>\n",
       "    </tr>\n",
       "    <tr>\n",
       "      <th>17</th>\n",
       "      <td>2021-08-07</td>\n",
       "      <td>2899098</td>\n",
       "      <td>BLACKPINK MEGA BUNDLE</td>\n",
       "      <td>4915</td>\n",
       "      <td>4915</td>\n",
       "      <td>486585.0</td>\n",
       "    </tr>\n",
       "    <tr>\n",
       "      <th>18</th>\n",
       "      <td>2021-08-07</td>\n",
       "      <td>2899098</td>\n",
       "      <td>JENNIE'S BLACKPINK BUNDLE</td>\n",
       "      <td>2965</td>\n",
       "      <td>2965</td>\n",
       "      <td>82427.0</td>\n",
       "    </tr>\n",
       "    <tr>\n",
       "      <th>19</th>\n",
       "      <td>2021-08-07</td>\n",
       "      <td>2899098</td>\n",
       "      <td>LISA'S BLACKPINK BUNDLE</td>\n",
       "      <td>1963</td>\n",
       "      <td>1963</td>\n",
       "      <td>54571.4</td>\n",
       "    </tr>\n",
       "    <tr>\n",
       "      <th>20</th>\n",
       "      <td>2021-08-08</td>\n",
       "      <td>3253513</td>\n",
       "      <td>BLACKPINK MEGA BUNDLE</td>\n",
       "      <td>3496</td>\n",
       "      <td>3496</td>\n",
       "      <td>346104.0</td>\n",
       "    </tr>\n",
       "    <tr>\n",
       "      <th>21</th>\n",
       "      <td>2021-08-08</td>\n",
       "      <td>3253513</td>\n",
       "      <td>ROSÉ'S BLACKPINK BUNDLE</td>\n",
       "      <td>2533</td>\n",
       "      <td>2533</td>\n",
       "      <td>70417.4</td>\n",
       "    </tr>\n",
       "    <tr>\n",
       "      <th>22</th>\n",
       "      <td>2021-08-08</td>\n",
       "      <td>3253513</td>\n",
       "      <td>JISOO'S BLACKPINK BUNDLE</td>\n",
       "      <td>1949</td>\n",
       "      <td>1949</td>\n",
       "      <td>54182.2</td>\n",
       "    </tr>\n",
       "    <tr>\n",
       "      <th>23</th>\n",
       "      <td>2021-08-08</td>\n",
       "      <td>3253513</td>\n",
       "      <td>LISA'S BLACKPINK BUNDLE</td>\n",
       "      <td>1461</td>\n",
       "      <td>1461</td>\n",
       "      <td>40615.8</td>\n",
       "    </tr>\n",
       "    <tr>\n",
       "      <th>24</th>\n",
       "      <td>2021-08-08</td>\n",
       "      <td>3253513</td>\n",
       "      <td>JENNIE'S BLACKPINK BUNDLE</td>\n",
       "      <td>2428</td>\n",
       "      <td>2428</td>\n",
       "      <td>67498.4</td>\n",
       "    </tr>\n",
       "    <tr>\n",
       "      <th>25</th>\n",
       "      <td>2021-08-09</td>\n",
       "      <td>3498561</td>\n",
       "      <td>JISOO'S BLACKPINK BUNDLE</td>\n",
       "      <td>1479</td>\n",
       "      <td>1479</td>\n",
       "      <td>41116.2</td>\n",
       "    </tr>\n",
       "    <tr>\n",
       "      <th>26</th>\n",
       "      <td>2021-08-09</td>\n",
       "      <td>3498561</td>\n",
       "      <td>LISA'S BLACKPINK BUNDLE</td>\n",
       "      <td>1143</td>\n",
       "      <td>1143</td>\n",
       "      <td>31775.4</td>\n",
       "    </tr>\n",
       "    <tr>\n",
       "      <th>27</th>\n",
       "      <td>2021-08-09</td>\n",
       "      <td>3498561</td>\n",
       "      <td>BLACKPINK MEGA BUNDLE</td>\n",
       "      <td>2476</td>\n",
       "      <td>2476</td>\n",
       "      <td>245124.0</td>\n",
       "    </tr>\n",
       "    <tr>\n",
       "      <th>28</th>\n",
       "      <td>2021-08-09</td>\n",
       "      <td>3498561</td>\n",
       "      <td>JENNIE'S BLACKPINK BUNDLE</td>\n",
       "      <td>1767</td>\n",
       "      <td>1767</td>\n",
       "      <td>49122.6</td>\n",
       "    </tr>\n",
       "    <tr>\n",
       "      <th>29</th>\n",
       "      <td>2021-08-09</td>\n",
       "      <td>3498561</td>\n",
       "      <td>ROSÉ'S BLACKPINK BUNDLE</td>\n",
       "      <td>1769</td>\n",
       "      <td>1769</td>\n",
       "      <td>49178.2</td>\n",
       "    </tr>\n",
       "    <tr>\n",
       "      <th>30</th>\n",
       "      <td>2021-08-10</td>\n",
       "      <td>4068393</td>\n",
       "      <td>JENNIE'S BLACKPINK BUNDLE</td>\n",
       "      <td>1706</td>\n",
       "      <td>1706</td>\n",
       "      <td>47426.8</td>\n",
       "    </tr>\n",
       "    <tr>\n",
       "      <th>31</th>\n",
       "      <td>2021-08-10</td>\n",
       "      <td>4068393</td>\n",
       "      <td>BLACKPINK MEGA BUNDLE</td>\n",
       "      <td>2500</td>\n",
       "      <td>2500</td>\n",
       "      <td>247500.0</td>\n",
       "    </tr>\n",
       "    <tr>\n",
       "      <th>32</th>\n",
       "      <td>2021-08-10</td>\n",
       "      <td>4068393</td>\n",
       "      <td>JISOO'S BLACKPINK BUNDLE</td>\n",
       "      <td>1399</td>\n",
       "      <td>1399</td>\n",
       "      <td>38892.2</td>\n",
       "    </tr>\n",
       "    <tr>\n",
       "      <th>33</th>\n",
       "      <td>2021-08-10</td>\n",
       "      <td>4068393</td>\n",
       "      <td>ROSÉ'S BLACKPINK BUNDLE</td>\n",
       "      <td>1700</td>\n",
       "      <td>1700</td>\n",
       "      <td>47260.0</td>\n",
       "    </tr>\n",
       "    <tr>\n",
       "      <th>34</th>\n",
       "      <td>2021-08-10</td>\n",
       "      <td>4068393</td>\n",
       "      <td>LISA'S BLACKPINK BUNDLE</td>\n",
       "      <td>994</td>\n",
       "      <td>994</td>\n",
       "      <td>27633.2</td>\n",
       "    </tr>\n",
       "  </tbody>\n",
       "</table>\n",
       "</div>"
      ],
      "text/plain": [
       "          date       au               product_name  unit_sold     pu  \\\n",
       "0   2021-08-04  1261340   JISOO'S BLACKPINK BUNDLE       5804   5804   \n",
       "1   2021-08-04  1261340      BLACKPINK MEGA BUNDLE      22570  22570   \n",
       "2   2021-08-04  1261340    LISA'S BLACKPINK BUNDLE       6205   6205   \n",
       "3   2021-08-04  1261340  JENNIE'S BLACKPINK BUNDLE       6655   6655   \n",
       "4   2021-08-04  1261340    ROSÉ'S BLACKPINK BUNDLE       8131   8131   \n",
       "5   2021-08-05  1968652  JENNIE'S BLACKPINK BUNDLE       5036   5036   \n",
       "6   2021-08-05  1968652   JISOO'S BLACKPINK BUNDLE       4229   4229   \n",
       "7   2021-08-05  1968652    ROSÉ'S BLACKPINK BUNDLE       5439   5439   \n",
       "8   2021-08-05  1968652      BLACKPINK MEGA BUNDLE      11095  11095   \n",
       "9   2021-08-05  1968652    LISA'S BLACKPINK BUNDLE       3693   3693   \n",
       "10  2021-08-06  2446718    LISA'S BLACKPINK BUNDLE       2451   2451   \n",
       "11  2021-08-06  2446718    ROSÉ'S BLACKPINK BUNDLE       3656   3656   \n",
       "12  2021-08-06  2446718   JISOO'S BLACKPINK BUNDLE       2947   2947   \n",
       "13  2021-08-06  2446718  JENNIE'S BLACKPINK BUNDLE       3490   3490   \n",
       "14  2021-08-06  2446718      BLACKPINK MEGA BUNDLE       6441   6441   \n",
       "15  2021-08-07  2899098   JISOO'S BLACKPINK BUNDLE       2512   2512   \n",
       "16  2021-08-07  2899098    ROSÉ'S BLACKPINK BUNDLE       3202   3202   \n",
       "17  2021-08-07  2899098      BLACKPINK MEGA BUNDLE       4915   4915   \n",
       "18  2021-08-07  2899098  JENNIE'S BLACKPINK BUNDLE       2965   2965   \n",
       "19  2021-08-07  2899098    LISA'S BLACKPINK BUNDLE       1963   1963   \n",
       "20  2021-08-08  3253513      BLACKPINK MEGA BUNDLE       3496   3496   \n",
       "21  2021-08-08  3253513    ROSÉ'S BLACKPINK BUNDLE       2533   2533   \n",
       "22  2021-08-08  3253513   JISOO'S BLACKPINK BUNDLE       1949   1949   \n",
       "23  2021-08-08  3253513    LISA'S BLACKPINK BUNDLE       1461   1461   \n",
       "24  2021-08-08  3253513  JENNIE'S BLACKPINK BUNDLE       2428   2428   \n",
       "25  2021-08-09  3498561   JISOO'S BLACKPINK BUNDLE       1479   1479   \n",
       "26  2021-08-09  3498561    LISA'S BLACKPINK BUNDLE       1143   1143   \n",
       "27  2021-08-09  3498561      BLACKPINK MEGA BUNDLE       2476   2476   \n",
       "28  2021-08-09  3498561  JENNIE'S BLACKPINK BUNDLE       1767   1767   \n",
       "29  2021-08-09  3498561    ROSÉ'S BLACKPINK BUNDLE       1769   1769   \n",
       "30  2021-08-10  4068393  JENNIE'S BLACKPINK BUNDLE       1706   1706   \n",
       "31  2021-08-10  4068393      BLACKPINK MEGA BUNDLE       2500   2500   \n",
       "32  2021-08-10  4068393   JISOO'S BLACKPINK BUNDLE       1399   1399   \n",
       "33  2021-08-10  4068393    ROSÉ'S BLACKPINK BUNDLE       1700   1700   \n",
       "34  2021-08-10  4068393    LISA'S BLACKPINK BUNDLE        994    994   \n",
       "\n",
       "      revenue  \n",
       "0    161351.2  \n",
       "1   2234430.0  \n",
       "2    172499.0  \n",
       "3    185009.0  \n",
       "4    226041.8  \n",
       "5    140000.8  \n",
       "6    117566.2  \n",
       "7    151204.2  \n",
       "8   1098405.0  \n",
       "9    102665.4  \n",
       "10    68137.8  \n",
       "11   101636.8  \n",
       "12    81926.6  \n",
       "13    97022.0  \n",
       "14   637659.0  \n",
       "15    69833.6  \n",
       "16    89015.6  \n",
       "17   486585.0  \n",
       "18    82427.0  \n",
       "19    54571.4  \n",
       "20   346104.0  \n",
       "21    70417.4  \n",
       "22    54182.2  \n",
       "23    40615.8  \n",
       "24    67498.4  \n",
       "25    41116.2  \n",
       "26    31775.4  \n",
       "27   245124.0  \n",
       "28    49122.6  \n",
       "29    49178.2  \n",
       "30    47426.8  \n",
       "31   247500.0  \n",
       "32    38892.2  \n",
       "33    47260.0  \n",
       "34    27633.2  "
      ]
     },
     "execution_count": 30,
     "metadata": {},
     "output_type": "execute_result"
    }
   ],
   "source": [
    "bp_user[\"date\"] = bp_user[\"date\"].astype(str)\n",
    "bp_product_daily[\"date\"] = bp_product_daily[\"date\"].astype(str)\n",
    "bp_daily = pd.merge(bp_user, bp_product_daily, on='date')"
   ]
  },
  {
   "cell_type": "code",
   "execution_count": 16,
   "metadata": {},
   "outputs": [],
   "source": [
    "bp_mega_buyer_list = bp_gcoin.where(col(\"product_name\") == \"BLACKPINK MEGA BUNDLE\").select(col(\"account_id\")).distinct().toPandas()[\"account_id\"].tolist()"
   ]
  },
  {
   "cell_type": "code",
   "execution_count": 17,
   "metadata": {},
   "outputs": [],
   "source": [
    "bp_bundle_buyer_list = bp_gcoin.where(col(\"product_name\") != \"BLACKPINK MEGA BUNDLE\").select(col(\"account_id\")).distinct().toPandas()[\"account_id\"].tolist()"
   ]
  },
  {
   "cell_type": "code",
   "execution_count": 18,
   "metadata": {},
   "outputs": [
    {
     "data": {
      "text/plain": [
       "53493"
      ]
     },
     "execution_count": 18,
     "metadata": {},
     "output_type": "execute_result"
    }
   ],
   "source": [
    "len(bp_mega_buyer_list)"
   ]
  },
  {
   "cell_type": "code",
   "execution_count": 19,
   "metadata": {},
   "outputs": [
    {
     "data": {
      "text/plain": [
       "75088"
      ]
     },
     "execution_count": 19,
     "metadata": {},
     "output_type": "execute_result"
    }
   ],
   "source": [
    "len(bp_bundle_buyer_list)"
   ]
  },
  {
   "cell_type": "code",
   "execution_count": 20,
   "metadata": {},
   "outputs": [
    {
     "name": "stdout",
     "output_type": "stream",
     "text": [
      "+--------+\n",
      "|count(1)|\n",
      "+--------+\n",
      "|   88706|\n",
      "+--------+\n",
      "\n"
     ]
    }
   ],
   "source": [
    "bp_gcoin.where(col(\"product_name\") != \"BLACKPINK MEGA BUNDLE\").select(count(\"*\")).show()"
   ]
  },
  {
   "cell_type": "code",
   "execution_count": 21,
   "metadata": {},
   "outputs": [],
   "source": [
    "both = []\n",
    "for i in bp_bundle_buyer_list:\n",
    "    if i in bp_mega_buyer_list:\n",
    "        both.append(i)"
   ]
  },
  {
   "cell_type": "code",
   "execution_count": 22,
   "metadata": {},
   "outputs": [
    {
     "data": {
      "text/plain": [
       "40"
      ]
     },
     "execution_count": 22,
     "metadata": {},
     "output_type": "execute_result"
    }
   ],
   "source": [
    "len(both)"
   ]
  },
  {
   "cell_type": "code",
   "execution_count": 40,
   "metadata": {},
   "outputs": [
    {
     "data": {
      "text/html": [
       "<div>\n",
       "<style scoped>\n",
       "    .dataframe tbody tr th:only-of-type {\n",
       "        vertical-align: middle;\n",
       "    }\n",
       "\n",
       "    .dataframe tbody tr th {\n",
       "        vertical-align: top;\n",
       "    }\n",
       "\n",
       "    .dataframe thead th {\n",
       "        text-align: right;\n",
       "    }\n",
       "</style>\n",
       "<table border=\"1\" class=\"dataframe\">\n",
       "  <thead>\n",
       "    <tr style=\"text-align: right;\">\n",
       "      <th></th>\n",
       "      <th>account_id</th>\n",
       "      <th>count(DISTINCT product_name)</th>\n",
       "    </tr>\n",
       "  </thead>\n",
       "  <tbody>\n",
       "    <tr>\n",
       "      <th>0</th>\n",
       "      <td>account.2a1a88c4f04d4eeb8c2761d27ff72eca</td>\n",
       "      <td>2</td>\n",
       "    </tr>\n",
       "    <tr>\n",
       "      <th>1</th>\n",
       "      <td>account.0b4029542281404ebbe974beeb8c947f</td>\n",
       "      <td>2</td>\n",
       "    </tr>\n",
       "    <tr>\n",
       "      <th>2</th>\n",
       "      <td>account.2d28f1fb893840c5b117420c1d4cb76a</td>\n",
       "      <td>2</td>\n",
       "    </tr>\n",
       "    <tr>\n",
       "      <th>3</th>\n",
       "      <td>account.2f11a8e8b105402690521d60002bcb92</td>\n",
       "      <td>2</td>\n",
       "    </tr>\n",
       "    <tr>\n",
       "      <th>4</th>\n",
       "      <td>account.94118523cbda4768ad6df800350b9dc2</td>\n",
       "      <td>2</td>\n",
       "    </tr>\n",
       "    <tr>\n",
       "      <th>5</th>\n",
       "      <td>account.7efd8efa390b4b6a9b2b3df839fc97e0</td>\n",
       "      <td>2</td>\n",
       "    </tr>\n",
       "    <tr>\n",
       "      <th>6</th>\n",
       "      <td>account.533687c983d148148ab8302ed0460559</td>\n",
       "      <td>2</td>\n",
       "    </tr>\n",
       "    <tr>\n",
       "      <th>7</th>\n",
       "      <td>account.203bacd3d01b404a918fb18cf62871d0</td>\n",
       "      <td>2</td>\n",
       "    </tr>\n",
       "    <tr>\n",
       "      <th>8</th>\n",
       "      <td>account.93c44711f9f741bdbda1bcb15456b0bc</td>\n",
       "      <td>3</td>\n",
       "    </tr>\n",
       "    <tr>\n",
       "      <th>9</th>\n",
       "      <td>account.2b2127abe7ee4b8cb0c4f84aa52393c2</td>\n",
       "      <td>2</td>\n",
       "    </tr>\n",
       "    <tr>\n",
       "      <th>10</th>\n",
       "      <td>account.a2432cca12b049aca539c78ea0c0d0ca</td>\n",
       "      <td>2</td>\n",
       "    </tr>\n",
       "    <tr>\n",
       "      <th>11</th>\n",
       "      <td>account.9e62e815e61044dcbf034071efb2276a</td>\n",
       "      <td>2</td>\n",
       "    </tr>\n",
       "    <tr>\n",
       "      <th>12</th>\n",
       "      <td>account.52431228eea94697bd75a8bcdd7bca60</td>\n",
       "      <td>2</td>\n",
       "    </tr>\n",
       "    <tr>\n",
       "      <th>13</th>\n",
       "      <td>account.0aaee70d667b4771918a436ae6f76831</td>\n",
       "      <td>2</td>\n",
       "    </tr>\n",
       "    <tr>\n",
       "      <th>14</th>\n",
       "      <td>account.2371b2af077c49e9aa4dc360714bc915</td>\n",
       "      <td>3</td>\n",
       "    </tr>\n",
       "    <tr>\n",
       "      <th>15</th>\n",
       "      <td>account.30929279568d453999ff0c4a0fe576e1</td>\n",
       "      <td>3</td>\n",
       "    </tr>\n",
       "    <tr>\n",
       "      <th>16</th>\n",
       "      <td>account.85a433e43fe1497db4e809d703feec1a</td>\n",
       "      <td>2</td>\n",
       "    </tr>\n",
       "    <tr>\n",
       "      <th>17</th>\n",
       "      <td>account.f1283d46cead480c9562395b6cb6c7e0</td>\n",
       "      <td>3</td>\n",
       "    </tr>\n",
       "    <tr>\n",
       "      <th>18</th>\n",
       "      <td>account.933228816ea54e08850d1756f4b702a2</td>\n",
       "      <td>2</td>\n",
       "    </tr>\n",
       "    <tr>\n",
       "      <th>19</th>\n",
       "      <td>account.2e17a732807745e8b7e514b2c0376c52</td>\n",
       "      <td>2</td>\n",
       "    </tr>\n",
       "    <tr>\n",
       "      <th>20</th>\n",
       "      <td>account.2d567db5b740413795a10b807ba4f6cb</td>\n",
       "      <td>2</td>\n",
       "    </tr>\n",
       "    <tr>\n",
       "      <th>21</th>\n",
       "      <td>account.0faa75c18c0c4c8cbfaac7154135a919</td>\n",
       "      <td>2</td>\n",
       "    </tr>\n",
       "    <tr>\n",
       "      <th>22</th>\n",
       "      <td>account.fedce8ddf0f54e76b62bd16e364dc388</td>\n",
       "      <td>2</td>\n",
       "    </tr>\n",
       "    <tr>\n",
       "      <th>23</th>\n",
       "      <td>account.ff715cbefa514c69a654d17eeaadd8de</td>\n",
       "      <td>2</td>\n",
       "    </tr>\n",
       "    <tr>\n",
       "      <th>24</th>\n",
       "      <td>account.89e90279e8d44b84a3239961395ebe9d</td>\n",
       "      <td>2</td>\n",
       "    </tr>\n",
       "    <tr>\n",
       "      <th>25</th>\n",
       "      <td>account.ed61af97653543cd9b61eedaf24f704e</td>\n",
       "      <td>2</td>\n",
       "    </tr>\n",
       "    <tr>\n",
       "      <th>26</th>\n",
       "      <td>account.be2872f7d1e54a92893c62f29a706e74</td>\n",
       "      <td>2</td>\n",
       "    </tr>\n",
       "    <tr>\n",
       "      <th>27</th>\n",
       "      <td>account.88d2c3539d2d47b2aa9c86e1a4ef0388</td>\n",
       "      <td>2</td>\n",
       "    </tr>\n",
       "    <tr>\n",
       "      <th>28</th>\n",
       "      <td>account.113eb88839a34fdda0aa20f2dca91308</td>\n",
       "      <td>2</td>\n",
       "    </tr>\n",
       "    <tr>\n",
       "      <th>29</th>\n",
       "      <td>account.bebd5ee2e1ec4350a72ac9f408c42c37</td>\n",
       "      <td>2</td>\n",
       "    </tr>\n",
       "    <tr>\n",
       "      <th>...</th>\n",
       "      <td>...</td>\n",
       "      <td>...</td>\n",
       "    </tr>\n",
       "    <tr>\n",
       "      <th>451</th>\n",
       "      <td>account.f3eefe821dbd47c191b47c01bdb95709</td>\n",
       "      <td>4</td>\n",
       "    </tr>\n",
       "    <tr>\n",
       "      <th>452</th>\n",
       "      <td>account.389fad1004434a6d99e1fe135f6cdf6b</td>\n",
       "      <td>3</td>\n",
       "    </tr>\n",
       "    <tr>\n",
       "      <th>453</th>\n",
       "      <td>account.ebd257379cfb45a2b2e9c18439e1f63f</td>\n",
       "      <td>2</td>\n",
       "    </tr>\n",
       "    <tr>\n",
       "      <th>454</th>\n",
       "      <td>account.c25f5e5b2fbc498b8e0d7a35f60de750</td>\n",
       "      <td>2</td>\n",
       "    </tr>\n",
       "    <tr>\n",
       "      <th>455</th>\n",
       "      <td>account.358b5bae1f3344cfa94d5a1820622d97</td>\n",
       "      <td>2</td>\n",
       "    </tr>\n",
       "    <tr>\n",
       "      <th>456</th>\n",
       "      <td>account.80f6948e6fec4d29976fa9bcbc12b7f4</td>\n",
       "      <td>2</td>\n",
       "    </tr>\n",
       "    <tr>\n",
       "      <th>457</th>\n",
       "      <td>account.695568c32d63481dbd4e90fa1efcef85</td>\n",
       "      <td>2</td>\n",
       "    </tr>\n",
       "    <tr>\n",
       "      <th>458</th>\n",
       "      <td>account.f74c47c597ec4beea604c64513a6a203</td>\n",
       "      <td>2</td>\n",
       "    </tr>\n",
       "    <tr>\n",
       "      <th>459</th>\n",
       "      <td>account.0e97cc5dd76347daa15010a5cd1210db</td>\n",
       "      <td>3</td>\n",
       "    </tr>\n",
       "    <tr>\n",
       "      <th>460</th>\n",
       "      <td>account.e53b715d29df49e0a0b5a890709517a2</td>\n",
       "      <td>4</td>\n",
       "    </tr>\n",
       "    <tr>\n",
       "      <th>461</th>\n",
       "      <td>account.0029a66e539b42dcbff50117b6eaeb12</td>\n",
       "      <td>2</td>\n",
       "    </tr>\n",
       "    <tr>\n",
       "      <th>462</th>\n",
       "      <td>account.7b26f4c1fcda4751aafeb13739db83fc</td>\n",
       "      <td>2</td>\n",
       "    </tr>\n",
       "    <tr>\n",
       "      <th>463</th>\n",
       "      <td>account.a404baf7532e4bda9bd16ccfcc51740a</td>\n",
       "      <td>2</td>\n",
       "    </tr>\n",
       "    <tr>\n",
       "      <th>464</th>\n",
       "      <td>account.94530f8afa9a441cbc3e646437cacfb2</td>\n",
       "      <td>2</td>\n",
       "    </tr>\n",
       "    <tr>\n",
       "      <th>465</th>\n",
       "      <td>account.602b40a9f3ac405f93dd380d13ee9f16</td>\n",
       "      <td>2</td>\n",
       "    </tr>\n",
       "    <tr>\n",
       "      <th>466</th>\n",
       "      <td>account.3e2bc20b1ebc4ec9aa3067e5d78b3f85</td>\n",
       "      <td>2</td>\n",
       "    </tr>\n",
       "    <tr>\n",
       "      <th>467</th>\n",
       "      <td>account.a35967efc97940c99c6bd5400a9ca76f</td>\n",
       "      <td>2</td>\n",
       "    </tr>\n",
       "    <tr>\n",
       "      <th>468</th>\n",
       "      <td>account.d0ba72a7657c40ef98f6eb9ce0429850</td>\n",
       "      <td>2</td>\n",
       "    </tr>\n",
       "    <tr>\n",
       "      <th>469</th>\n",
       "      <td>account.5c614439ebd94a57a14749809227c727</td>\n",
       "      <td>2</td>\n",
       "    </tr>\n",
       "    <tr>\n",
       "      <th>470</th>\n",
       "      <td>account.968d4b2a01d94561a23abd8e531c2975</td>\n",
       "      <td>2</td>\n",
       "    </tr>\n",
       "    <tr>\n",
       "      <th>471</th>\n",
       "      <td>account.e0ffd4ce067b495b8681c169c4c597d9</td>\n",
       "      <td>2</td>\n",
       "    </tr>\n",
       "    <tr>\n",
       "      <th>472</th>\n",
       "      <td>account.a018e119f8374d14b7d1245bdf14b9b4</td>\n",
       "      <td>2</td>\n",
       "    </tr>\n",
       "    <tr>\n",
       "      <th>473</th>\n",
       "      <td>account.bb5cd84eb9d24066b2279f781f2e041a</td>\n",
       "      <td>2</td>\n",
       "    </tr>\n",
       "    <tr>\n",
       "      <th>474</th>\n",
       "      <td>account.68c434ffee224ee8ad34d27078794f8e</td>\n",
       "      <td>2</td>\n",
       "    </tr>\n",
       "    <tr>\n",
       "      <th>475</th>\n",
       "      <td>account.85f70f81d8ed4c829c69aea4c51b95a1</td>\n",
       "      <td>2</td>\n",
       "    </tr>\n",
       "    <tr>\n",
       "      <th>476</th>\n",
       "      <td>account.3a32b39cea5e4dae87344b6643fb2c05</td>\n",
       "      <td>2</td>\n",
       "    </tr>\n",
       "    <tr>\n",
       "      <th>477</th>\n",
       "      <td>account.507e32303d4048319102e2eae15f4ca4</td>\n",
       "      <td>2</td>\n",
       "    </tr>\n",
       "    <tr>\n",
       "      <th>478</th>\n",
       "      <td>account.54ffe02718654853b1b144da5b98a910</td>\n",
       "      <td>3</td>\n",
       "    </tr>\n",
       "    <tr>\n",
       "      <th>479</th>\n",
       "      <td>account.4205e5fc03e148768beb34dc8edfd31b</td>\n",
       "      <td>5</td>\n",
       "    </tr>\n",
       "    <tr>\n",
       "      <th>480</th>\n",
       "      <td>account.74c0a4900ac04af0957601aa5d594c44</td>\n",
       "      <td>2</td>\n",
       "    </tr>\n",
       "  </tbody>\n",
       "</table>\n",
       "<p>481 rows × 2 columns</p>\n",
       "</div>"
      ],
      "text/plain": [
       "                                   account_id  count(DISTINCT product_name)\n",
       "0    account.2a1a88c4f04d4eeb8c2761d27ff72eca                             2\n",
       "1    account.0b4029542281404ebbe974beeb8c947f                             2\n",
       "2    account.2d28f1fb893840c5b117420c1d4cb76a                             2\n",
       "3    account.2f11a8e8b105402690521d60002bcb92                             2\n",
       "4    account.94118523cbda4768ad6df800350b9dc2                             2\n",
       "5    account.7efd8efa390b4b6a9b2b3df839fc97e0                             2\n",
       "6    account.533687c983d148148ab8302ed0460559                             2\n",
       "7    account.203bacd3d01b404a918fb18cf62871d0                             2\n",
       "8    account.93c44711f9f741bdbda1bcb15456b0bc                             3\n",
       "9    account.2b2127abe7ee4b8cb0c4f84aa52393c2                             2\n",
       "10   account.a2432cca12b049aca539c78ea0c0d0ca                             2\n",
       "11   account.9e62e815e61044dcbf034071efb2276a                             2\n",
       "12   account.52431228eea94697bd75a8bcdd7bca60                             2\n",
       "13   account.0aaee70d667b4771918a436ae6f76831                             2\n",
       "14   account.2371b2af077c49e9aa4dc360714bc915                             3\n",
       "15   account.30929279568d453999ff0c4a0fe576e1                             3\n",
       "16   account.85a433e43fe1497db4e809d703feec1a                             2\n",
       "17   account.f1283d46cead480c9562395b6cb6c7e0                             3\n",
       "18   account.933228816ea54e08850d1756f4b702a2                             2\n",
       "19   account.2e17a732807745e8b7e514b2c0376c52                             2\n",
       "20   account.2d567db5b740413795a10b807ba4f6cb                             2\n",
       "21   account.0faa75c18c0c4c8cbfaac7154135a919                             2\n",
       "22   account.fedce8ddf0f54e76b62bd16e364dc388                             2\n",
       "23   account.ff715cbefa514c69a654d17eeaadd8de                             2\n",
       "24   account.89e90279e8d44b84a3239961395ebe9d                             2\n",
       "25   account.ed61af97653543cd9b61eedaf24f704e                             2\n",
       "26   account.be2872f7d1e54a92893c62f29a706e74                             2\n",
       "27   account.88d2c3539d2d47b2aa9c86e1a4ef0388                             2\n",
       "28   account.113eb88839a34fdda0aa20f2dca91308                             2\n",
       "29   account.bebd5ee2e1ec4350a72ac9f408c42c37                             2\n",
       "..                                        ...                           ...\n",
       "451  account.f3eefe821dbd47c191b47c01bdb95709                             4\n",
       "452  account.389fad1004434a6d99e1fe135f6cdf6b                             3\n",
       "453  account.ebd257379cfb45a2b2e9c18439e1f63f                             2\n",
       "454  account.c25f5e5b2fbc498b8e0d7a35f60de750                             2\n",
       "455  account.358b5bae1f3344cfa94d5a1820622d97                             2\n",
       "456  account.80f6948e6fec4d29976fa9bcbc12b7f4                             2\n",
       "457  account.695568c32d63481dbd4e90fa1efcef85                             2\n",
       "458  account.f74c47c597ec4beea604c64513a6a203                             2\n",
       "459  account.0e97cc5dd76347daa15010a5cd1210db                             3\n",
       "460  account.e53b715d29df49e0a0b5a890709517a2                             4\n",
       "461  account.0029a66e539b42dcbff50117b6eaeb12                             2\n",
       "462  account.7b26f4c1fcda4751aafeb13739db83fc                             2\n",
       "463  account.a404baf7532e4bda9bd16ccfcc51740a                             2\n",
       "464  account.94530f8afa9a441cbc3e646437cacfb2                             2\n",
       "465  account.602b40a9f3ac405f93dd380d13ee9f16                             2\n",
       "466  account.3e2bc20b1ebc4ec9aa3067e5d78b3f85                             2\n",
       "467  account.a35967efc97940c99c6bd5400a9ca76f                             2\n",
       "468  account.d0ba72a7657c40ef98f6eb9ce0429850                             2\n",
       "469  account.5c614439ebd94a57a14749809227c727                             2\n",
       "470  account.968d4b2a01d94561a23abd8e531c2975                             2\n",
       "471  account.e0ffd4ce067b495b8681c169c4c597d9                             2\n",
       "472  account.a018e119f8374d14b7d1245bdf14b9b4                             2\n",
       "473  account.bb5cd84eb9d24066b2279f781f2e041a                             2\n",
       "474  account.68c434ffee224ee8ad34d27078794f8e                             2\n",
       "475  account.85f70f81d8ed4c829c69aea4c51b95a1                             2\n",
       "476  account.3a32b39cea5e4dae87344b6643fb2c05                             2\n",
       "477  account.507e32303d4048319102e2eae15f4ca4                             2\n",
       "478  account.54ffe02718654853b1b144da5b98a910                             3\n",
       "479  account.4205e5fc03e148768beb34dc8edfd31b                             5\n",
       "480  account.74c0a4900ac04af0957601aa5d594c44                             2\n",
       "\n",
       "[481 rows x 2 columns]"
      ]
     },
     "execution_count": 40,
     "metadata": {},
     "output_type": "execute_result"
    }
   ],
   "source": [
    "bp_gcoin.where(col(\"account_id\").isin(both)).groupBy(\"account_id\").agg(countDistinct(\"product_name\")).toPandas()"
   ]
  },
  {
   "cell_type": "code",
   "execution_count": 24,
   "metadata": {},
   "outputs": [
    {
     "data": {
      "text/plain": [
       "0.8991830706821453"
      ]
     },
     "execution_count": 24,
     "metadata": {},
     "output_type": "execute_result"
    }
   ],
   "source": [
    "len(both)/len(bp_mega_buyer_list) * 100"
   ]
  },
  {
   "cell_type": "code",
   "execution_count": 147,
   "metadata": {},
   "outputs": [],
   "source": [
    "pcs5_gcoin = load_data_mart(start_date=pcs5_start_date, end_date=pcs5_end_date, device=device, table_name=\"gcoin_use\").where(col(\"event_name\") == pcs5_event_name)"
   ]
  },
  {
   "cell_type": "code",
   "execution_count": 33,
   "metadata": {},
   "outputs": [
    {
     "name": "stdout",
     "output_type": "stream",
     "text": [
      "+--------------------+\n",
      "|        product_name|\n",
      "+--------------------+\n",
      "|       PCS5 GEAR BOX|\n",
      "|PCS5 SHRAPNEL SCR...|\n",
      "|PCS5 ULTIMATE BUNDLE|\n",
      "|     PCS5 POWER PACK|\n",
      "| PCS5 SQUAD WIPE SET|\n",
      "|PCS5 SHRAPNEL SCR...|\n",
      "|PCS5 PARACHUTE & ...|\n",
      "+--------------------+\n",
      "\n"
     ]
    }
   ],
   "source": [
    "pcs5_gcoin.select(col(\"product_name\")).distinct().show()"
   ]
  },
  {
   "cell_type": "code",
   "execution_count": 149,
   "metadata": {},
   "outputs": [],
   "source": [
    "pcs5_gcoin = pcs5_gcoin.withColumn(\"product_group\", when(col(\"product_id\") == \"itemdesc.13000328\", \"ULTIMATE BUNDLE\").when(col(\"product_id\").isin([\"itemdesc.13000329\"]), \"SET\").otherwise(\"OTHERS\"))"
   ]
  },
  {
   "cell_type": "code",
   "execution_count": 152,
   "metadata": {},
   "outputs": [
    {
     "name": "stdout",
     "output_type": "stream",
     "text": [
      "+---------------+\n",
      "|  product_group|\n",
      "+---------------+\n",
      "|         OTHERS|\n",
      "|            SET|\n",
      "|ULTIMATE BUNDLE|\n",
      "+---------------+\n",
      "\n"
     ]
    }
   ],
   "source": [
    "pcs5_gcoin.select(\"product_group\").distinct().show()"
   ]
  },
  {
   "cell_type": "code",
   "execution_count": 153,
   "metadata": {},
   "outputs": [],
   "source": [
    "pcs5_mega_buyer_list = pcs5_gcoin.where(col(\"product_group\") == \"ULTIMATE BUNDLE\").select(col(\"account_id\")).distinct().toPandas()[\"account_id\"].tolist()"
   ]
  },
  {
   "cell_type": "code",
   "execution_count": 155,
   "metadata": {},
   "outputs": [],
   "source": [
    "pcs5_set_buyer_list = pcs5_gcoin.where(col(\"product_group\") == \"SET\").select(col(\"account_id\")).distinct().toPandas()[\"account_id\"].tolist()"
   ]
  },
  {
   "cell_type": "code",
   "execution_count": 156,
   "metadata": {},
   "outputs": [],
   "source": [
    "pcs5_other_buyer_list = pcs5_gcoin.where(col(\"product_group\") == \"OTHERS\").select(col(\"account_id\")).distinct().toPandas()[\"account_id\"].tolist()"
   ]
  },
  {
   "cell_type": "code",
   "execution_count": 157,
   "metadata": {},
   "outputs": [
    {
     "data": {
      "text/plain": [
       "21522"
      ]
     },
     "execution_count": 157,
     "metadata": {},
     "output_type": "execute_result"
    }
   ],
   "source": [
    "len(pcs5_mega_buyer_list)"
   ]
  },
  {
   "cell_type": "code",
   "execution_count": 158,
   "metadata": {},
   "outputs": [
    {
     "data": {
      "text/plain": [
       "35490"
      ]
     },
     "execution_count": 158,
     "metadata": {},
     "output_type": "execute_result"
    }
   ],
   "source": [
    "len(pcs5_set_buyer_list)"
   ]
  },
  {
   "cell_type": "code",
   "execution_count": 159,
   "metadata": {},
   "outputs": [
    {
     "data": {
      "text/plain": [
       "62933"
      ]
     },
     "execution_count": 159,
     "metadata": {},
     "output_type": "execute_result"
    }
   ],
   "source": [
    "len(pcs5_other_buyer_list)"
   ]
  },
  {
   "cell_type": "code",
   "execution_count": 161,
   "metadata": {},
   "outputs": [],
   "source": [
    "pcs5_mega_set = []\n",
    "for i in pcs5_set_buyer_list:\n",
    "    if i in pcs5_mega_buyer_list:\n",
    "        pcs5_mega_set.append(i)"
   ]
  },
  {
   "cell_type": "code",
   "execution_count": 162,
   "metadata": {},
   "outputs": [
    {
     "data": {
      "text/plain": [
       "189"
      ]
     },
     "execution_count": 162,
     "metadata": {},
     "output_type": "execute_result"
    }
   ],
   "source": [
    "len(pcs5_mega_set)"
   ]
  },
  {
   "cell_type": "code",
   "execution_count": 164,
   "metadata": {},
   "outputs": [
    {
     "data": {
      "text/plain": [
       "258"
      ]
     },
     "execution_count": 164,
     "metadata": {},
     "output_type": "execute_result"
    }
   ],
   "source": [
    "pcs5_mega_other = [i for i in pcs5_mega_buyer_list if i in pcs5_other_buyer_list ]\n",
    "len(pcs5_mega_other)"
   ]
  },
  {
   "cell_type": "code",
   "execution_count": null,
   "metadata": {},
   "outputs": [],
   "source": []
  },
  {
   "cell_type": "code",
   "execution_count": 165,
   "metadata": {},
   "outputs": [],
   "source": [
    "tg_gcoin = load_data_mart(start_date=tg_start_date, end_date=tg_end_date, device=device, table_name=\"gcoin_use\").where(col(\"event_name\") == tg_event_name)"
   ]
  },
  {
   "cell_type": "code",
   "execution_count": 166,
   "metadata": {},
   "outputs": [],
   "source": [
    "bundle_list = [\"itemdesc.13000354\", \"itemdesc.13000350\", \"itemdesc.13000349\", \"itemdesc.13000351\", \"itemdesc.13000352\", \"itemdesc.13000353\"]\n",
    "tg_gcoin = tg_gcoin.withColumn(\"product_group\", when(col(\"product_id\") == \"itemdesc.13000348\", \"ULTIMATE BUNDLE\").when(col(\"product_id\").isin(bundle_list), \"BUNDLE\").otherwise(\"OTHERS\"))"
   ]
  },
  {
   "cell_type": "code",
   "execution_count": 167,
   "metadata": {},
   "outputs": [
    {
     "name": "stdout",
     "output_type": "stream",
     "text": [
      "+---------------+\n",
      "|  product_group|\n",
      "+---------------+\n",
      "|         OTHERS|\n",
      "|         BUNDLE|\n",
      "|ULTIMATE BUNDLE|\n",
      "+---------------+\n",
      "\n"
     ]
    }
   ],
   "source": [
    "tg_gcoin.select(\"product_group\").distinct().show()"
   ]
  },
  {
   "cell_type": "code",
   "execution_count": 49,
   "metadata": {},
   "outputs": [
    {
     "name": "stdout",
     "output_type": "stream",
     "text": [
      "+----------------------------+\n",
      "|count(DISTINCT product_name)|\n",
      "+----------------------------+\n",
      "|                          25|\n",
      "+----------------------------+\n",
      "\n"
     ]
    }
   ],
   "source": [
    "tg_gcoin.select(countDistinct(\"product_name\")).show()"
   ]
  },
  {
   "cell_type": "code",
   "execution_count": 52,
   "metadata": {},
   "outputs": [
    {
     "name": "stdout",
     "output_type": "stream",
     "text": [
      "+------------------------------------+-----+\n",
      "|product_name                        |price|\n",
      "+------------------------------------+-----+\n",
      "|SPACE BUNNY ULTIMATE BUNDLE         |5440 |\n",
      "|BUNNY AERONAUTICS WEAPON SET        |2000 |\n",
      "|MOON RABBIT BUNDLE                  |1590 |\n",
      "|B.A.S.A. BUNNY BUNDLE               |1590 |\n",
      "|MOON SEEKER BUNDLE                  |1190 |\n",
      "|Moon Rabbit Outfit                  |1190 |\n",
      "|B.A.S.A. Bunny Outfit               |1190 |\n",
      "|BUNNY AERONAUTICS HELMET SET        |1000 |\n",
      "|BUNNY AERONAUTICS BACKPACK SET      |1000 |\n",
      "|White Rabbit - Pan                  |990  |\n",
      "|Bunny Aeronautics - M416            |990  |\n",
      "|B.A.S.A. Bunny Jacket               |990  |\n",
      "|Bunny Aeronautics - Mini14          |990  |\n",
      "|Moon Rabbit Jacket                  |990  |\n",
      "|Moon Seeker Costume                 |800  |\n",
      "|Bunny Aeronautics Backpack (Level 3)|500  |\n",
      "|Bunny Aeronautics - Helmet (Level 3)|500  |\n",
      "|Bunny Aeronautics Backpack (Level 1)|500  |\n",
      "|Bunny Aeronautics - Helmet (Level 1)|500  |\n",
      "|Bunny Aeronautics Backpack (Level 2)|500  |\n",
      "+------------------------------------+-----+\n",
      "only showing top 20 rows\n",
      "\n"
     ]
    }
   ],
   "source": [
    "tg_gcoin.select(\"product_name\", \"price\").distinct().orderBy(\"price\", ascending=False).show(truncate=False)"
   ]
  },
  {
   "cell_type": "code",
   "execution_count": 170,
   "metadata": {},
   "outputs": [],
   "source": [
    "tg_mg_buyer_list = tg_gcoin.where(col(\"product_group\") == \"ULTIMATE BUNDLE\").select(\"account_id\").distinct().toPandas()[\"account_id\"].tolist()"
   ]
  },
  {
   "cell_type": "code",
   "execution_count": 169,
   "metadata": {},
   "outputs": [],
   "source": [
    "tg_bundle_buyer_list = tg_gcoin.where(col(\"product_group\") == \"BUNDLE\").select(\"account_id\").distinct().toPandas()[\"account_id\"].tolist()"
   ]
  },
  {
   "cell_type": "code",
   "execution_count": 171,
   "metadata": {},
   "outputs": [],
   "source": [
    "tg_other_buyer_list = tg_gcoin.where(col(\"product_group\") == \"OTHERS\").select(\"account_id\").distinct().toPandas()[\"account_id\"].tolist()"
   ]
  },
  {
   "cell_type": "code",
   "execution_count": 172,
   "metadata": {},
   "outputs": [
    {
     "data": {
      "text/plain": [
       "25337"
      ]
     },
     "execution_count": 172,
     "metadata": {},
     "output_type": "execute_result"
    }
   ],
   "source": [
    "len(tg_mg_buyer_list)"
   ]
  },
  {
   "cell_type": "code",
   "execution_count": 173,
   "metadata": {},
   "outputs": [
    {
     "data": {
      "text/plain": [
       "76938"
      ]
     },
     "execution_count": 173,
     "metadata": {},
     "output_type": "execute_result"
    }
   ],
   "source": [
    "len(tg_bundle_buyer_list)"
   ]
  },
  {
   "cell_type": "code",
   "execution_count": 174,
   "metadata": {},
   "outputs": [
    {
     "data": {
      "text/plain": [
       "63452"
      ]
     },
     "execution_count": 174,
     "metadata": {},
     "output_type": "execute_result"
    }
   ],
   "source": [
    "len(tg_other_buyer_list)"
   ]
  },
  {
   "cell_type": "code",
   "execution_count": 175,
   "metadata": {},
   "outputs": [
    {
     "name": "stdout",
     "output_type": "stream",
     "text": [
      "303\n"
     ]
    }
   ],
   "source": [
    "mg_bundle_both = []\n",
    "for i in tg_bundle_buyer_list:\n",
    "    if i in tg_mg_buyer_list:\n",
    "        mg_bundle_both.append(i)\n",
    "\n",
    "print(len(mg_bundle_both))"
   ]
  },
  {
   "cell_type": "code",
   "execution_count": 176,
   "metadata": {},
   "outputs": [
    {
     "name": "stdout",
     "output_type": "stream",
     "text": [
      "228\n"
     ]
    }
   ],
   "source": [
    "mg_other_both = []\n",
    "for i in tg_other_buyer_list:\n",
    "    if i in tg_mg_buyer_list:\n",
    "        mg_other_both.append(i)\n",
    "\n",
    "print(len(mg_other_both))"
   ]
  },
  {
   "cell_type": "code",
   "execution_count": null,
   "metadata": {},
   "outputs": [],
   "source": []
  },
  {
   "cell_type": "code",
   "execution_count": 177,
   "metadata": {},
   "outputs": [],
   "source": [
    "hw_gcoin = load_data_mart(start_date=hw_start_date, end_date=hw_end_date, device=\"pc\", table_name=\"gcoin_use\").where(col(\"event_name\") == hw_event_name)"
   ]
  },
  {
   "cell_type": "code",
   "execution_count": 178,
   "metadata": {},
   "outputs": [],
   "source": [
    "hw_bundle_list = [\"itemdesc.13000358\", \"itemdesc.13000360\", \"itemdesc.13000357\", \"itemdesc.13000359\", \"itemdesc.13000361\"]\n",
    "hw_gcoin = hw_gcoin.withColumn(\"product_group\", when(col(\"product_id\") == \"itemdesc.13000362\", \"ULTIMATE BUNDLE\").when(col(\"product_id\").isin(hw_bundle_list), \"BUNDLE\").otherwise(\"OTHERS\"))"
   ]
  },
  {
   "cell_type": "code",
   "execution_count": 181,
   "metadata": {},
   "outputs": [
    {
     "name": "stdout",
     "output_type": "stream",
     "text": [
      "+---------------+\n",
      "|  product_group|\n",
      "+---------------+\n",
      "|         OTHERS|\n",
      "|         BUNDLE|\n",
      "|ULTIMATE BUNDLE|\n",
      "+---------------+\n",
      "\n"
     ]
    }
   ],
   "source": [
    "hw_gcoin.select(\"product_group\").distinct().show()"
   ]
  },
  {
   "cell_type": "code",
   "execution_count": 182,
   "metadata": {},
   "outputs": [],
   "source": [
    "hw_mg_buyer_list = hw_gcoin.where(col(\"product_group\") == \"ULTIMATE BUNDLE\").select(\"account_id\").distinct().toPandas()[\"account_id\"].tolist()"
   ]
  },
  {
   "cell_type": "code",
   "execution_count": 184,
   "metadata": {},
   "outputs": [],
   "source": [
    "hw_bundle_buyer_list = hw_gcoin.where(col(\"product_group\") == \"BUNDLE\").select(\"account_id\").distinct().toPandas()[\"account_id\"].tolist()"
   ]
  },
  {
   "cell_type": "code",
   "execution_count": 185,
   "metadata": {},
   "outputs": [],
   "source": [
    "hw_other_buyer_list = hw_gcoin.where(col(\"product_group\") == \"OTHERS\").select(\"account_id\").distinct().toPandas()[\"account_id\"].tolist()"
   ]
  },
  {
   "cell_type": "code",
   "execution_count": 186,
   "metadata": {},
   "outputs": [
    {
     "data": {
      "text/plain": [
       "2355"
      ]
     },
     "execution_count": 186,
     "metadata": {},
     "output_type": "execute_result"
    }
   ],
   "source": [
    "len(hw_mg_buyer_list)"
   ]
  },
  {
   "cell_type": "code",
   "execution_count": 187,
   "metadata": {},
   "outputs": [
    {
     "data": {
      "text/plain": [
       "9213"
      ]
     },
     "execution_count": 187,
     "metadata": {},
     "output_type": "execute_result"
    }
   ],
   "source": [
    "len(hw_bundle_buyer_list)"
   ]
  },
  {
   "cell_type": "code",
   "execution_count": 188,
   "metadata": {},
   "outputs": [
    {
     "data": {
      "text/plain": [
       "25356"
      ]
     },
     "execution_count": 188,
     "metadata": {},
     "output_type": "execute_result"
    }
   ],
   "source": [
    "len(hw_other_buyer_list)"
   ]
  },
  {
   "cell_type": "code",
   "execution_count": 189,
   "metadata": {},
   "outputs": [
    {
     "name": "stdout",
     "output_type": "stream",
     "text": [
      "74\n"
     ]
    }
   ],
   "source": [
    "mg_bundle_both = []\n",
    "for i in hw_bundle_buyer_list:\n",
    "    if i in hw_mg_buyer_list:\n",
    "        mg_bundle_both.append(i)\n",
    "        \n",
    "print(len(mg_bundle_both))"
   ]
  },
  {
   "cell_type": "code",
   "execution_count": 190,
   "metadata": {},
   "outputs": [
    {
     "name": "stdout",
     "output_type": "stream",
     "text": [
      "1219\n"
     ]
    }
   ],
   "source": [
    "mg_other_both = []\n",
    "for i in hw_other_buyer_list:\n",
    "    if i in hw_mg_buyer_list:\n",
    "        mg_other_both.append(i)\n",
    "\n",
    "print(len(mg_other_both))"
   ]
  },
  {
   "cell_type": "code",
   "execution_count": 192,
   "metadata": {},
   "outputs": [
    {
     "data": {
      "text/html": [
       "<div>\n",
       "<style scoped>\n",
       "    .dataframe tbody tr th:only-of-type {\n",
       "        vertical-align: middle;\n",
       "    }\n",
       "\n",
       "    .dataframe tbody tr th {\n",
       "        vertical-align: top;\n",
       "    }\n",
       "\n",
       "    .dataframe thead th {\n",
       "        text-align: right;\n",
       "    }\n",
       "</style>\n",
       "<table border=\"1\" class=\"dataframe\">\n",
       "  <thead>\n",
       "    <tr style=\"text-align: right;\">\n",
       "      <th></th>\n",
       "      <th>product_name</th>\n",
       "      <th>pu</th>\n",
       "    </tr>\n",
       "  </thead>\n",
       "  <tbody>\n",
       "    <tr>\n",
       "      <th>0</th>\n",
       "      <td>Victory Dance 70</td>\n",
       "      <td>995</td>\n",
       "    </tr>\n",
       "    <tr>\n",
       "      <th>1</th>\n",
       "      <td>Dear Air</td>\n",
       "      <td>478</td>\n",
       "    </tr>\n",
       "    <tr>\n",
       "      <th>2</th>\n",
       "      <td>Halloween Jackpot</td>\n",
       "      <td>377</td>\n",
       "    </tr>\n",
       "    <tr>\n",
       "      <th>3</th>\n",
       "      <td>Molten Mayhem - M249</td>\n",
       "      <td>9</td>\n",
       "    </tr>\n",
       "    <tr>\n",
       "      <th>4</th>\n",
       "      <td>Night Slayer - Crossbow</td>\n",
       "      <td>5</td>\n",
       "    </tr>\n",
       "    <tr>\n",
       "      <th>5</th>\n",
       "      <td>Lycan Hunter - S686</td>\n",
       "      <td>3</td>\n",
       "    </tr>\n",
       "  </tbody>\n",
       "</table>\n",
       "</div>"
      ],
      "text/plain": [
       "              product_name   pu\n",
       "0         Victory Dance 70  995\n",
       "1                 Dear Air  478\n",
       "2        Halloween Jackpot  377\n",
       "3     Molten Mayhem - M249    9\n",
       "4  Night Slayer - Crossbow    5\n",
       "5      Lycan Hunter - S686    3"
      ]
     },
     "execution_count": 192,
     "metadata": {},
     "output_type": "execute_result"
    }
   ],
   "source": [
    "hw_gcoin.where(col(\"product_group\") == \"OTHERS\").where(col(\"account_id\").isin(mg_other_both)).groupBy(\"product_name\").agg(countDistinct(\"account_id\").alias(\"pu\")).orderBy(\"pu\", ascending=False).toPandas()"
   ]
  },
  {
   "cell_type": "code",
   "execution_count": null,
   "metadata": {},
   "outputs": [],
   "source": []
  },
  {
   "cell_type": "code",
   "execution_count": 87,
   "metadata": {},
   "outputs": [
    {
     "name": "stdout",
     "output_type": "stream",
     "text": [
      "no data exists in\n",
      "s3a://pubg-log-labs/data_mart/economy_v3/gcoin_use/pc/2021-11-18\n"
     ]
    }
   ],
   "source": [
    "pgc_gcoin = load_data_mart(start_date=pgc_start_date, end_date=pgc_end_date, device=device, table_name=\"gcoin_use\")"
   ]
  },
  {
   "cell_type": "code",
   "execution_count": 88,
   "metadata": {},
   "outputs": [],
   "source": [
    "pgc_gcoin = pgc_gcoin.where(col(\"event_name\") == pgc_event_name)"
   ]
  },
  {
   "cell_type": "code",
   "execution_count": 90,
   "metadata": {},
   "outputs": [
    {
     "name": "stdout",
     "output_type": "stream",
     "text": [
      "+--------------------------------------------------------+-----------------+-----+\n",
      "|product_name                                            |product_id       |price|\n",
      "+--------------------------------------------------------+-----------------+-----+\n",
      "|PGC 2021 MEGA BUNDLE + VOTING COUPONS                   |itemdesc.13000386|5940 |\n",
      "|PGC 2021 CONTINGENT CHAOS JACKET BUNDLE + VOTING COUPONS|itemdesc.13000384|3170 |\n",
      "|PGC 2021 CONTINGENT CHAOS DUSTER BUNDLE + VOTING COUPONS|itemdesc.13000383|3170 |\n",
      "+--------------------------------------------------------+-----------------+-----+\n",
      "\n"
     ]
    }
   ],
   "source": [
    "pgc_gcoin.select(\"product_name\", \"product_id\", \"price\").distinct().orderBy(\"price\", ascending=False).show(truncate=False)"
   ]
  },
  {
   "cell_type": "code",
   "execution_count": 92,
   "metadata": {},
   "outputs": [],
   "source": [
    "pgc_mg_buyer_list = pgc_gcoin.where(col(\"product_id\") == \"itemdesc.13000386\").select(\"account_id\").distinct().toPandas()[\"account_id\"].tolist()"
   ]
  },
  {
   "cell_type": "code",
   "execution_count": 93,
   "metadata": {},
   "outputs": [],
   "source": [
    "pgc_bundle_buyer_list = pgc_gcoin.where(col(\"product_id\").isin([\"itemdesc.13000384\", \"itemdesc.13000383\"])).select(\"account_id\").distinct().toPandas()[\"account_id\"].tolist()"
   ]
  },
  {
   "cell_type": "code",
   "execution_count": 94,
   "metadata": {},
   "outputs": [
    {
     "data": {
      "text/plain": [
       "116162"
      ]
     },
     "execution_count": 94,
     "metadata": {},
     "output_type": "execute_result"
    }
   ],
   "source": [
    "len(pgc_mg_buyer_list)"
   ]
  },
  {
   "cell_type": "code",
   "execution_count": 95,
   "metadata": {},
   "outputs": [
    {
     "data": {
      "text/plain": [
       "45000"
      ]
     },
     "execution_count": 95,
     "metadata": {},
     "output_type": "execute_result"
    }
   ],
   "source": [
    "len(pgc_bundle_buyer_list)"
   ]
  },
  {
   "cell_type": "code",
   "execution_count": 96,
   "metadata": {},
   "outputs": [
    {
     "name": "stdout",
     "output_type": "stream",
     "text": [
      "427\n"
     ]
    }
   ],
   "source": [
    "both = []\n",
    "for i in pgc_bundle_buyer_list:\n",
    "    if i in pgc_mg_buyer_list:\n",
    "        both.append(i)\n",
    "    \n",
    "print(len(both))"
   ]
  },
  {
   "cell_type": "code",
   "execution_count": null,
   "metadata": {},
   "outputs": [],
   "source": []
  },
  {
   "cell_type": "code",
   "execution_count": null,
   "metadata": {},
   "outputs": [],
   "source": []
  }
 ],
 "metadata": {
  "kernelspec": {
   "display_name": "Python 3",
   "language": "python",
   "name": "python3"
  },
  "language_info": {
   "codemirror_mode": {
    "name": "ipython",
    "version": 3
   },
   "file_extension": ".py",
   "mimetype": "text/x-python",
   "name": "python",
   "nbconvert_exporter": "python",
   "pygments_lexer": "ipython3",
   "version": "3.6.7"
  }
 },
 "nbformat": 4,
 "nbformat_minor": 4
}
