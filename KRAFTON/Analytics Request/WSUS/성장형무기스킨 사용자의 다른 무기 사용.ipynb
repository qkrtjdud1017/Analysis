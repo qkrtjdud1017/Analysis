{
 "cells": [
  {
   "cell_type": "code",
   "execution_count": 1,
   "metadata": {},
   "outputs": [
    {
     "name": "stdout",
     "output_type": "stream",
     "text": [
      "Spark cluster not assigned. creating a new one...\n",
      "Node spec: 8 executors with 48G RAM each\n",
      "Job Port 4049 is assigned for requested cluster\n",
      "Waiting for Spark master to be available...\n",
      "Spark master launched!\n",
      "Creating new Spark session, name: pdu_syp2...\n",
      "Waiting for all executors ready...\n",
      "All executors connected!\n",
      "Complete! elapsed time: 00:00:25\n"
     ]
    }
   ],
   "source": [
    "from pubg_util import mysql, load_schema, notifier\n",
    "from sphynx import sphynx, NODE_SMALL, NODE_MEDIUM, NODE_LARGE\n",
    "from pyspark.sql.functions import *\n",
    "import pandas as pd\n",
    "\n",
    "spark = sphynx.get_spark(executor_count=8, app_name='pdu_syp2', node_spec=NODE_LARGE)"
   ]
  },
  {
   "cell_type": "code",
   "execution_count": 58,
   "metadata": {},
   "outputs": [],
   "source": [
    "sphynx.stop()"
   ]
  },
  {
   "cell_type": "code",
   "execution_count": 2,
   "metadata": {},
   "outputs": [],
   "source": [
    "items = mysql.read_table(spark, \"metainfo\", \"item_meta_sales\")\n",
    "wsus_product_id = items.where(lower(col(\"product_name\")).like(\"%progressive%\")).select(col(\"product_id\")).distinct().toPandas()[\"product_id\"].tolist()\n",
    "weapon_product_list = items.where(col(\"sub_category\") == \"weapon\").select(col(\"product_id\")).distinct().toPandas().product_id.tolist()"
   ]
  },
  {
   "cell_type": "code",
   "execution_count": 3,
   "metadata": {},
   "outputs": [],
   "source": [
    "weapon_name = items.where(col(\"sub_category\").isin([\"weapon\", \"crate\"])).select(\"product_id\", \"product_name\", \"part\").distinct().toPandas()"
   ]
  },
  {
   "cell_type": "code",
   "execution_count": 4,
   "metadata": {},
   "outputs": [
    {
     "data": {
      "text/html": [
       "<div>\n",
       "<style scoped>\n",
       "    .dataframe tbody tr th:only-of-type {\n",
       "        vertical-align: middle;\n",
       "    }\n",
       "\n",
       "    .dataframe tbody tr th {\n",
       "        vertical-align: top;\n",
       "    }\n",
       "\n",
       "    .dataframe thead th {\n",
       "        text-align: right;\n",
       "    }\n",
       "</style>\n",
       "<table border=\"1\" class=\"dataframe\">\n",
       "  <thead>\n",
       "    <tr style=\"text-align: right;\">\n",
       "      <th></th>\n",
       "      <th>product_id</th>\n",
       "      <th>product_name</th>\n",
       "      <th>part</th>\n",
       "    </tr>\n",
       "  </thead>\n",
       "  <tbody>\n",
       "    <tr>\n",
       "      <th>0</th>\n",
       "      <td>itemdesc.13000250</td>\n",
       "      <td>ROSEBOUND WEAPON BUNDLE</td>\n",
       "      <td>crate</td>\n",
       "    </tr>\n",
       "    <tr>\n",
       "      <th>1</th>\n",
       "      <td>itemdesc.12012003</td>\n",
       "      <td>[PROGRESSIVE] Trick-or-treat - M416</td>\n",
       "      <td>m416</td>\n",
       "    </tr>\n",
       "    <tr>\n",
       "      <th>2</th>\n",
       "      <td>itemdesc.13000377</td>\n",
       "      <td>COMMANDO NECK SLEEVE</td>\n",
       "      <td>crate</td>\n",
       "    </tr>\n",
       "    <tr>\n",
       "      <th>3</th>\n",
       "      <td>itemdesc.13000368</td>\n",
       "      <td>PURE HOODIE</td>\n",
       "      <td>crate</td>\n",
       "    </tr>\n",
       "    <tr>\n",
       "      <th>4</th>\n",
       "      <td>itemdesc.14200002</td>\n",
       "      <td>BLUE COUPON</td>\n",
       "      <td>crate</td>\n",
       "    </tr>\n",
       "  </tbody>\n",
       "</table>\n",
       "</div>"
      ],
      "text/plain": [
       "          product_id                         product_name   part\n",
       "0  itemdesc.13000250              ROSEBOUND WEAPON BUNDLE  crate\n",
       "1  itemdesc.12012003  [PROGRESSIVE] Trick-or-treat - M416   m416\n",
       "2  itemdesc.13000377                 COMMANDO NECK SLEEVE  crate\n",
       "3  itemdesc.13000368                          PURE HOODIE  crate\n",
       "4  itemdesc.14200002                          BLUE COUPON  crate"
      ]
     },
     "execution_count": 4,
     "metadata": {},
     "output_type": "execute_result"
    }
   ],
   "source": [
    "weapon_name.head()"
   ]
  },
  {
   "cell_type": "code",
   "execution_count": null,
   "metadata": {},
   "outputs": [],
   "source": []
  },
  {
   "cell_type": "code",
   "execution_count": 3,
   "metadata": {},
   "outputs": [],
   "source": [
    "# 6월 성장형 무기 스킨 출시 후 2주간 contraband로 아이템 획득\n",
    "\n",
    "device = 'pc' \n",
    "env = 'live' \n",
    "log_name = 'ItemUpgraded'\n",
    "start_date = '2021-06-02'\n",
    "end_date = '2021-06-15' \n",
    "june_item_upgrade = load_schema.lobby(spark, device, env, log_name, start_date, end_date)"
   ]
  },
  {
   "cell_type": "code",
   "execution_count": 12,
   "metadata": {},
   "outputs": [],
   "source": [
    "# 8월 성장형 무기 스킨 출시 후 2주간 contraband로 아이템 획득\n",
    "\n",
    "device = 'pc' \n",
    "env = 'live' \n",
    "log_name = 'ItemUpgraded'\n",
    "start_date = '2021-08-11'\n",
    "end_date = '2021-08-24' \n",
    "aug_item_upgrade = load_schema.lobby(spark, device, env, log_name, start_date, end_date)"
   ]
  },
  {
   "cell_type": "code",
   "execution_count": 18,
   "metadata": {},
   "outputs": [],
   "source": [
    "# 10월 성장형 무기 스킨 출시 후 2주간 contraband로 아이템 획득\n",
    "\n",
    "device = 'pc' \n",
    "env = 'live' \n",
    "log_name = 'ItemUpgraded'\n",
    "start_date = '2021-10-06'\n",
    "end_date = '2021-10-19' \n",
    "oct_item_upgrade = load_schema.lobby(spark, device, env, log_name, start_date, end_date)"
   ]
  },
  {
   "cell_type": "code",
   "execution_count": 5,
   "metadata": {},
   "outputs": [],
   "source": [
    "# 6월 성장형 무기 스킨 출시 후 4주간 아이템 착용\n",
    "\n",
    "device = 'pc' \n",
    "env = 'live' \n",
    "log_name = 'ItemEquipped'\n",
    "start_date = '2021-06-02'\n",
    "end_date = '2021-06-29' \n",
    "june_item_equipped = load_schema.lobby(spark, device, env, log_name, start_date, end_date)"
   ]
  },
  {
   "cell_type": "code",
   "execution_count": 13,
   "metadata": {},
   "outputs": [],
   "source": [
    "# 8월 성장형 무기 스킨 출시 후 4주간 아이템 착용\n",
    "\n",
    "device = 'pc' \n",
    "env = 'live' \n",
    "log_name = 'ItemEquipped'\n",
    "start_date = '2021-08-11'\n",
    "end_date = '2021-09-07' \n",
    "aug_item_equipped = load_schema.lobby(spark, device, env, log_name, start_date, end_date)"
   ]
  },
  {
   "cell_type": "code",
   "execution_count": 19,
   "metadata": {},
   "outputs": [],
   "source": [
    "# 10월 성장형 무기 스킨 출시 후 4주간 아이템 착용\n",
    "\n",
    "device = 'pc' \n",
    "env = 'live' \n",
    "log_name = 'ItemEquipped'\n",
    "start_date = '2021-10-06'\n",
    "end_date = '2021-11-02' \n",
    "oct_item_equipped = load_schema.lobby(spark, device, env, log_name, start_date, end_date)"
   ]
  },
  {
   "cell_type": "code",
   "execution_count": 9,
   "metadata": {},
   "outputs": [
    {
     "name": "stdout",
     "output_type": "stream",
     "text": [
      "root\n",
      " |-- date: string (nullable = true)\n",
      " |-- AccountId: string (nullable = true)\n",
      " |-- ItemId: string (nullable = true)\n",
      " |-- PartId: string (nullable = true)\n",
      " |-- PlatformProvider: string (nullable = true)\n",
      " |-- Provider: string (nullable = true)\n",
      " |-- Time: string (nullable = true)\n",
      " |-- Type: string (nullable = true)\n",
      "\n"
     ]
    }
   ],
   "source": [
    "june_item_equipped.printSchema()"
   ]
  },
  {
   "cell_type": "code",
   "execution_count": null,
   "metadata": {},
   "outputs": [],
   "source": []
  },
  {
   "cell_type": "code",
   "execution_count": 6,
   "metadata": {},
   "outputs": [],
   "source": [
    "june_wsus_user = june_item_upgrade.where(col(\"ItemDescId\") == \"itemdesc.12012001\").select(\"AccountId\").distinct().toPandas()[\"AccountId\"].tolist()"
   ]
  },
  {
   "cell_type": "code",
   "execution_count": 14,
   "metadata": {},
   "outputs": [],
   "source": [
    "aug_wsus_user = aug_item_upgrade.where(col(\"ItemDescId\") == \"itemdesc.12012002\").select(\"AccountId\").distinct().toPandas()[\"AccountId\"].tolist()"
   ]
  },
  {
   "cell_type": "code",
   "execution_count": 20,
   "metadata": {},
   "outputs": [],
   "source": [
    "oct_wsus_user = oct_item_upgrade.where(col(\"ItemDescId\") == \"itemdesc.12012003\").select(\"AccountId\").distinct().toPandas()[\"AccountId\"].tolist()"
   ]
  },
  {
   "cell_type": "code",
   "execution_count": null,
   "metadata": {},
   "outputs": [],
   "source": []
  },
  {
   "cell_type": "code",
   "execution_count": 7,
   "metadata": {},
   "outputs": [],
   "source": [
    "import pickle\n",
    "with open(\"./data/june_wsus_user.pickle\", \"wb\") as f:\n",
    "    pickle.dump(june_wsus_user, f)"
   ]
  },
  {
   "cell_type": "code",
   "execution_count": 15,
   "metadata": {},
   "outputs": [],
   "source": [
    "import pickle\n",
    "with open(\"./data/aug_wsus_user.pickle\", \"wb\") as f:\n",
    "    pickle.dump(aug_wsus_user, f)"
   ]
  },
  {
   "cell_type": "code",
   "execution_count": 21,
   "metadata": {},
   "outputs": [],
   "source": [
    "import pickle\n",
    "with open(\"./data/oct_wsus_user.pickle\", \"wb\") as f:\n",
    "    pickle.dump(oct_wsus_user, f)"
   ]
  },
  {
   "cell_type": "code",
   "execution_count": null,
   "metadata": {},
   "outputs": [],
   "source": []
  },
  {
   "cell_type": "code",
   "execution_count": 12,
   "metadata": {},
   "outputs": [],
   "source": [
    "june_item_equipped_df2 = pd.read_csv(\"./data/june_item_equipped_df.csv\")"
   ]
  },
  {
   "cell_type": "code",
   "execution_count": 17,
   "metadata": {},
   "outputs": [],
   "source": [
    "part_list = june_item_equipped_df2.PartId.unique().tolist()\n",
    "with open(\"./data/partId_list.pickle\", \"wb\") as f:\n",
    "    pickle.dump(part_list, f)"
   ]
  },
  {
   "cell_type": "code",
   "execution_count": 10,
   "metadata": {},
   "outputs": [],
   "source": [
    "june_item_equipped_df = june_item_equipped.where((col(\"AccountId\").isin(june_wsus_user)) & (col(\"ItemId\").isin(weapon_product_list))).toPandas()"
   ]
  },
  {
   "cell_type": "code",
   "execution_count": 11,
   "metadata": {},
   "outputs": [],
   "source": [
    "june_item_equipped_df.to_csv(\"./data/june_item_equipped_df.csv\", index=False)"
   ]
  },
  {
   "cell_type": "markdown",
   "metadata": {},
   "source": [
    "weapon이 아닌 crate도 넣었을 때 "
   ]
  },
  {
   "cell_type": "code",
   "execution_count": 19,
   "metadata": {
    "collapsed": true,
    "jupyter": {
     "outputs_hidden": true
    }
   },
   "outputs": [
    {
     "name": "stderr",
     "output_type": "stream",
     "text": [
      "----------------------------------------\n",
      "Exception happened during processing of request from ('127.0.0.1', 58686)\n",
      "Traceback (most recent call last):\n",
      "  File \"/opt/conda/lib/python3.6/socketserver.py\", line 317, in _handle_request_noblock\n",
      "    self.process_request(request, client_address)\n",
      "  File \"/opt/conda/lib/python3.6/socketserver.py\", line 348, in process_request\n",
      "    self.finish_request(request, client_address)\n",
      "  File \"/opt/conda/lib/python3.6/socketserver.py\", line 361, in finish_request\n",
      "    self.RequestHandlerClass(request, client_address, self)\n",
      "  File \"/opt/conda/lib/python3.6/socketserver.py\", line 721, in __init__\n",
      "    self.handle()\n",
      "  File \"/usr/local/spark/python/pyspark/accumulators.py\", line 269, in handle\n",
      "    poll(accum_updates)\n",
      "  File \"/usr/local/spark/python/pyspark/accumulators.py\", line 241, in poll\n",
      "    if func():\n",
      "  File \"/usr/local/spark/python/pyspark/accumulators.py\", line 245, in accum_updates\n",
      "    num_updates = read_int(self.rfile)\n",
      "  File \"/usr/local/spark/python/pyspark/serializers.py\", line 717, in read_int\n",
      "    raise EOFError\n",
      "EOFError\n",
      "----------------------------------------\n"
     ]
    }
   ],
   "source": [
    "import pickle\n",
    "with open(\"./data/june_wsus_user.pickle\", \"rb\") as f:\n",
    "    june_wsus_user = pickle.load(f)\n",
    "june_item_equipped_df = june_item_equipped.where((col(\"AccountId\").isin(june_wsus_user)) & (col(\"PartId\").isin(part_list))).toPandas()"
   ]
  },
  {
   "cell_type": "code",
   "execution_count": 9,
   "metadata": {},
   "outputs": [],
   "source": [
    "june_item_equipped_df.to_csv(\"./data/june_item_equipped_df2.csv\", index=False)"
   ]
  },
  {
   "cell_type": "code",
   "execution_count": null,
   "metadata": {},
   "outputs": [],
   "source": []
  },
  {
   "cell_type": "code",
   "execution_count": 16,
   "metadata": {},
   "outputs": [],
   "source": [
    "aug_item_equipped_df = aug_item_equipped.where((col(\"AccountId\").isin(aug_wsus_user)) & (col(\"ItemId\").isin(weapon_product_list))).toPandas()"
   ]
  },
  {
   "cell_type": "code",
   "execution_count": 17,
   "metadata": {},
   "outputs": [],
   "source": [
    "aug_item_equipped_df.to_csv(\"./data/aug_item_equipped_df.csv\", index=False)"
   ]
  },
  {
   "cell_type": "code",
   "execution_count": 22,
   "metadata": {},
   "outputs": [],
   "source": [
    "oct_item_equipped_df = oct_item_equipped.where((col(\"AccountId\").isin(oct_wsus_user)) & (col(\"ItemId\").isin(weapon_product_list))).toPandas()"
   ]
  },
  {
   "cell_type": "code",
   "execution_count": 23,
   "metadata": {},
   "outputs": [],
   "source": [
    "oct_item_equipped_df.to_csv(\"./data/oct_item_equipped_df.csv\", index=False)"
   ]
  },
  {
   "cell_type": "code",
   "execution_count": null,
   "metadata": {},
   "outputs": [],
   "source": []
  },
  {
   "cell_type": "code",
   "execution_count": 28,
   "metadata": {},
   "outputs": [],
   "source": [
    "june_wsus_equip_user = june_item_equipped_df[june_item_equipped_df.ItemId == \"itemdesc.12012001\"].AccountId.unique().tolist()"
   ]
  },
  {
   "cell_type": "code",
   "execution_count": 35,
   "metadata": {},
   "outputs": [],
   "source": [
    "aug_wsus_equip_user = aug_item_equipped_df[aug_item_equipped_df.ItemId == \"itemdesc.12012002\"].AccountId.unique().tolist()"
   ]
  },
  {
   "cell_type": "code",
   "execution_count": 33,
   "metadata": {},
   "outputs": [],
   "source": [
    "oct_wsus_equip_user = oct_item_equipped_df[oct_item_equipped_df.ItemId == \"itemdesc.12012003\"].AccountId.unique().tolist()"
   ]
  },
  {
   "cell_type": "code",
   "execution_count": null,
   "metadata": {},
   "outputs": [],
   "source": []
  },
  {
   "cell_type": "code",
   "execution_count": 44,
   "metadata": {},
   "outputs": [],
   "source": [
    "june_item_equipped_df = pd.merge(june_item_equipped_df, weapon_name, left_on=\"ItemId\", right_on=\"product_id\")\n",
    "aug_item_equipped_df = pd.merge(aug_item_equipped_df, weapon_name, left_on=\"ItemId\", right_on=\"product_id\")\n",
    "oct_item_equipped_df = pd.merge(oct_item_equipped_df, weapon_name, left_on=\"ItemId\", right_on=\"product_id\")"
   ]
  },
  {
   "cell_type": "code",
   "execution_count": null,
   "metadata": {},
   "outputs": [],
   "source": []
  },
  {
   "cell_type": "markdown",
   "metadata": {},
   "source": [
    "### 사용 무기"
   ]
  },
  {
   "cell_type": "code",
   "execution_count": 48,
   "metadata": {},
   "outputs": [],
   "source": [
    "june_item_equipped_df[(june_item_equipped_df.AccountId.isin(june_wsus_equip_user))].groupby([\"AccountId\", \"part\", \"date\"], as_index=False)[\"Time\"].count().sort_values([\"AccountId\", \"date\"]).to_csv(\"./data/june_equip.csv\", index=False)"
   ]
  },
  {
   "cell_type": "code",
   "execution_count": 49,
   "metadata": {},
   "outputs": [],
   "source": [
    "aug_item_equipped_df[(aug_item_equipped_df.AccountId.isin(aug_wsus_equip_user))].groupby([\"AccountId\", \"part\", \"date\"], as_index=False)[\"Time\"].count().sort_values([\"AccountId\", \"date\"]).to_csv(\"./data/aug_equip.csv\", index=False)"
   ]
  },
  {
   "cell_type": "code",
   "execution_count": 50,
   "metadata": {},
   "outputs": [],
   "source": [
    "oct_item_equipped_df[(oct_item_equipped_df.AccountId.isin(oct_wsus_equip_user))].groupby([\"AccountId\", \"part\", \"date\"], as_index=False)[\"Time\"].count().sort_values([\"AccountId\", \"date\"]).to_csv(\"./data/oct_equip.csv\", index=False)"
   ]
  },
  {
   "cell_type": "code",
   "execution_count": null,
   "metadata": {},
   "outputs": [],
   "source": []
  },
  {
   "cell_type": "markdown",
   "metadata": {},
   "source": [
    "### 사용 스킨"
   ]
  },
  {
   "cell_type": "code",
   "execution_count": 51,
   "metadata": {},
   "outputs": [],
   "source": [
    "june_item_equipped_df[(june_item_equipped_df.AccountId.isin(june_wsus_equip_user))].groupby([\"AccountId\", \"product_name\", \"date\"], as_index=False)[\"Time\"].count().sort_values([\"AccountId\", \"date\"]).to_csv(\"./data/june_equip_product.csv\", index=False)"
   ]
  },
  {
   "cell_type": "code",
   "execution_count": 52,
   "metadata": {},
   "outputs": [],
   "source": [
    "aug_item_equipped_df[(aug_item_equipped_df.AccountId.isin(aug_wsus_equip_user))].groupby([\"AccountId\", \"product_name\", \"date\"], as_index=False)[\"Time\"].count().sort_values([\"AccountId\", \"date\"]).to_csv(\"./data/aug_equip_product.csv\", index=False)"
   ]
  },
  {
   "cell_type": "code",
   "execution_count": 53,
   "metadata": {
    "collapsed": true,
    "jupyter": {
     "outputs_hidden": true
    }
   },
   "outputs": [
    {
     "name": "stderr",
     "output_type": "stream",
     "text": [
      "----------------------------------------\n",
      "Exception happened during processing of request from ('127.0.0.1', 38862)\n",
      "Traceback (most recent call last):\n",
      "  File \"/opt/conda/lib/python3.6/socketserver.py\", line 317, in _handle_request_noblock\n",
      "    self.process_request(request, client_address)\n",
      "  File \"/opt/conda/lib/python3.6/socketserver.py\", line 348, in process_request\n",
      "    self.finish_request(request, client_address)\n",
      "  File \"/opt/conda/lib/python3.6/socketserver.py\", line 361, in finish_request\n",
      "    self.RequestHandlerClass(request, client_address, self)\n",
      "  File \"/opt/conda/lib/python3.6/socketserver.py\", line 721, in __init__\n",
      "    self.handle()\n",
      "  File \"/usr/local/spark/python/pyspark/accumulators.py\", line 269, in handle\n",
      "    poll(accum_updates)\n",
      "  File \"/usr/local/spark/python/pyspark/accumulators.py\", line 241, in poll\n",
      "    if func():\n",
      "  File \"/usr/local/spark/python/pyspark/accumulators.py\", line 245, in accum_updates\n",
      "    num_updates = read_int(self.rfile)\n",
      "  File \"/usr/local/spark/python/pyspark/serializers.py\", line 717, in read_int\n",
      "    raise EOFError\n",
      "EOFError\n",
      "----------------------------------------\n"
     ]
    }
   ],
   "source": [
    "oct_item_equipped_df[(oct_item_equipped_df.AccountId.isin(oct_wsus_equip_user))].groupby([\"AccountId\", \"product_name\", \"date\"], as_index=False)[\"Time\"].count().sort_values([\"AccountId\", \"date\"]).to_csv(\"./data/oct_equip_product.csv\", index=False)"
   ]
  },
  {
   "cell_type": "code",
   "execution_count": null,
   "metadata": {},
   "outputs": [],
   "source": []
  }
 ],
 "metadata": {
  "kernelspec": {
   "display_name": "Python 3",
   "language": "python",
   "name": "python3"
  },
  "language_info": {
   "codemirror_mode": {
    "name": "ipython",
    "version": 3
   },
   "file_extension": ".py",
   "mimetype": "text/x-python",
   "name": "python",
   "nbconvert_exporter": "python",
   "pygments_lexer": "ipython3",
   "version": "3.6.7"
  }
 },
 "nbformat": 4,
 "nbformat_minor": 4
}
