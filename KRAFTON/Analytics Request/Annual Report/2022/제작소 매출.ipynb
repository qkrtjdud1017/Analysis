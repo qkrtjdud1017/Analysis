{
 "cells": [
  {
   "cell_type": "code",
   "execution_count": 23,
   "metadata": {},
   "outputs": [
    {
     "name": "stdout",
     "output_type": "stream",
     "text": [
      "Spark cluster not assigned. creating a new one...\n",
      "Node spec: 8 executors with 48G RAM each\n",
      "Job Port 4049 is assigned for requested cluster\n",
      "Waiting for Spark master to be available...\n",
      "Spark master launched!\n",
      "Creating new Spark session, name: west0_workshop...\n",
      "Waiting for all executors ready...\n",
      "All executors connected!\n",
      "Complete! elapsed time: 00:00:36\n"
     ]
    }
   ],
   "source": [
    "from pubg_util import mysql, load_schema, notifier\n",
    "from sphynx import sphynx, NODE_SMALL, NODE_MEDIUM, NODE_LARGE\n",
    "from pyspark.sql.functions import *\n",
    "import pandas as pd\n",
    "import pickle\n",
    "\n",
    "spark = sphynx.get_spark(executor_count=8, app_name='west0_workshop', node_spec=NODE_LARGE)"
   ]
  },
  {
   "cell_type": "code",
   "execution_count": 22,
   "metadata": {},
   "outputs": [
    {
     "name": "stdout",
     "output_type": "stream",
     "text": [
      "Stopping Spark session...\n",
      "Destroying Spark cluster...\n",
      "Done!\n",
      "You can safely ignore the warning message if there is any.\n"
     ]
    }
   ],
   "source": [
    "sphynx.stop()"
   ]
  },
  {
   "cell_type": "code",
   "execution_count": 25,
   "metadata": {},
   "outputs": [],
   "source": [
    "pc_patch = {\n",
    "    \"18.2\": [\"2022-07-13\", \"2022-08-09\"],\n",
    "    \"19.1\": [\"2022-08-10\", \"2022-09-06\"],\n",
    "    \"19.2\": [\"2022-09-07\", \"2022-10-11\"],\n",
    "    \"20.1\": [\"2022-10-12\", \"2022-11-08\"]\n",
    "}\n",
    "\n",
    "console_patch = {\n",
    "    \"18.2\": [\"2022-07-21\", \"2022-08-17\"],\n",
    "    \"19.1\": [\"2022-08-18\", \"2022-09-14\"],\n",
    "    \"19.2\": [\"2022-09-15\", \"2022-10-19\"],\n",
    "    \"20.1\": [\"2022-10-20\", \"2022-11-16\"]\n",
    "}\n",
    "\n",
    "# pc_patch = {\n",
    "#     \"18.2\": [\"2022-07-13\", \"2022-08-09\"],\n",
    "#     \"19.1\": [\"2022-08-10\", \"2022-09-06\"],\n",
    "#     \"19.2\": [\"2022-09-07\", \"2022-10-11\"],\n",
    "#     \"20.1\": [\"2022-10-12\", \"2022-11-08\"],\n",
    "#     \"20.2\": [\"2022-11-09\", \"2022-12-05\"]\n",
    "# }\n",
    "\n",
    "# console_patch = {\n",
    "#     \"18.2\": [\"2022-07-21\", \"2022-08-17\"],\n",
    "#     \"19.1\": [\"2022-08-18\", \"2022-09-14\"],\n",
    "#     \"19.2\": [\"2022-09-15\", \"2022-10-19\"],\n",
    "#     \"20.1\": [\"2022-10-20\", \"2022-11-16\"],\n",
    "#     \"20.2\": [\"2022-11-17\", \"2022-12-14\"]  \n",
    "# }"
   ]
  },
  {
   "cell_type": "code",
   "execution_count": 28,
   "metadata": {},
   "outputs": [],
   "source": [
    "pc_df = {\n",
    "    \"patch\": [],\n",
    "    \"au\": [],\n",
    "    \"paid_pu\": [],\n",
    "    \"total_pu\": [],\n",
    "    \"paid_use\": [],\n",
    "    \"total_use\": []\n",
    "}\n",
    "\n",
    "for patch, date in pc_patch.items():\n",
    "    start_date = date[0]\n",
    "    end_date = date[1]\n",
    "    au = load_data_mart(\"pc\", end_date, end_date, \"user_master\").where(col(\"lastlogindate\") >= start_date).select(countDistinct(\"accountid\")).collect()[0][0]\n",
    "    gcoin = load_data_mart(\"pc\", start_date, end_date, \"gcoin_use\").where(col(\"event_name\") == \"202207_workshop\") \\\n",
    "        .withColumn(\"paid_account_id\", when(col(\"paid_use\") > 0, col(\"account_id\")).otherwise(lit(None)))\n",
    "    paid_pu = gcoin.select(countDistinct(\"paid_account_id\")).collect()[0][0]\n",
    "    total_pu = gcoin.select(countDistinct(\"account_id\")).collect()[0][0]\n",
    "    paid_use = gcoin.select(sum(\"paid_use\")).collect()[0][0]\n",
    "    total_use = gcoin.select(sum(col(\"paid_use\") + col(\"free_use\"))).collect()[0][0]\n",
    "    \n",
    "    pc_df[\"patch\"].append(patch)\n",
    "    pc_df[\"au\"].append(au)\n",
    "    pc_df[\"paid_pu\"].append(paid_pu)\n",
    "    pc_df[\"total_pu\"].append(total_pu)\n",
    "    pc_df[\"paid_use\"].append(paid_use)\n",
    "    pc_df[\"total_use\"].append(total_use)"
   ]
  },
  {
   "cell_type": "code",
   "execution_count": 29,
   "metadata": {},
   "outputs": [],
   "source": [
    "pc_pd = pd.DataFrame.from_dict(pc_df)"
   ]
  },
  {
   "cell_type": "code",
   "execution_count": 30,
   "metadata": {},
   "outputs": [
    {
     "data": {
      "text/html": [
       "<div>\n",
       "<style scoped>\n",
       "    .dataframe tbody tr th:only-of-type {\n",
       "        vertical-align: middle;\n",
       "    }\n",
       "\n",
       "    .dataframe tbody tr th {\n",
       "        vertical-align: top;\n",
       "    }\n",
       "\n",
       "    .dataframe thead th {\n",
       "        text-align: right;\n",
       "    }\n",
       "</style>\n",
       "<table border=\"1\" class=\"dataframe\">\n",
       "  <thead>\n",
       "    <tr style=\"text-align: right;\">\n",
       "      <th></th>\n",
       "      <th>patch</th>\n",
       "      <th>au</th>\n",
       "      <th>paid_pu</th>\n",
       "      <th>total_pu</th>\n",
       "      <th>paid_use</th>\n",
       "      <th>total_use</th>\n",
       "    </tr>\n",
       "  </thead>\n",
       "  <tbody>\n",
       "    <tr>\n",
       "      <th>0</th>\n",
       "      <td>18.2</td>\n",
       "      <td>9660517</td>\n",
       "      <td>289044</td>\n",
       "      <td>677314</td>\n",
       "      <td>1874838675</td>\n",
       "      <td>2341605700</td>\n",
       "    </tr>\n",
       "    <tr>\n",
       "      <th>1</th>\n",
       "      <td>19.1</td>\n",
       "      <td>9349556</td>\n",
       "      <td>217104</td>\n",
       "      <td>496025</td>\n",
       "      <td>822832986</td>\n",
       "      <td>1087156860</td>\n",
       "    </tr>\n",
       "    <tr>\n",
       "      <th>2</th>\n",
       "      <td>19.2</td>\n",
       "      <td>11048805</td>\n",
       "      <td>118306</td>\n",
       "      <td>282129</td>\n",
       "      <td>267465330</td>\n",
       "      <td>388553520</td>\n",
       "    </tr>\n",
       "    <tr>\n",
       "      <th>3</th>\n",
       "      <td>20.1</td>\n",
       "      <td>8557149</td>\n",
       "      <td>107493</td>\n",
       "      <td>280646</td>\n",
       "      <td>211822685</td>\n",
       "      <td>322723130</td>\n",
       "    </tr>\n",
       "  </tbody>\n",
       "</table>\n",
       "</div>"
      ],
      "text/plain": [
       "  patch        au  paid_pu  total_pu    paid_use   total_use\n",
       "0  18.2   9660517   289044    677314  1874838675  2341605700\n",
       "1  19.1   9349556   217104    496025   822832986  1087156860\n",
       "2  19.2  11048805   118306    282129   267465330   388553520\n",
       "3  20.1   8557149   107493    280646   211822685   322723130"
      ]
     },
     "execution_count": 30,
     "metadata": {},
     "output_type": "execute_result"
    }
   ],
   "source": [
    "pc_pd"
   ]
  },
  {
   "cell_type": "code",
   "execution_count": 31,
   "metadata": {},
   "outputs": [],
   "source": [
    "console_df = {\n",
    "    \"patch\": [],\n",
    "    \"au\": [],\n",
    "    \"paid_pu\": [],\n",
    "    \"total_pu\": [],\n",
    "    \"paid_use\": [],\n",
    "    \"total_use\": []\n",
    "}\n",
    "\n",
    "for patch, date in console_patch.items():\n",
    "    start_date = date[0]\n",
    "    end_date = date[1]\n",
    "    au = load_data_mart(\"console\", end_date, end_date, \"user_master\").where(col(\"lastlogindate\") >= start_date).select(countDistinct(\"accountid\")).collect()[0][0]\n",
    "    gcoin = load_data_mart(\"console\", start_date, end_date, \"gcoin_use\").where(col(\"event_name\") == \"202207_workshop\") \\\n",
    "        .withColumn(\"paid_account_id\", when(col(\"paid_use\") > 0, col(\"account_id\")).otherwise(lit(None)))\n",
    "    paid_pu = gcoin.select(countDistinct(\"paid_account_id\")).collect()[0][0]\n",
    "    total_pu = gcoin.select(countDistinct(\"account_id\")).collect()[0][0]\n",
    "    paid_use = gcoin.select(sum(\"paid_use\")).collect()[0][0]\n",
    "    total_use = gcoin.select(sum(col(\"paid_use\") + col(\"free_use\"))).collect()[0][0]\n",
    "    \n",
    "    console_df[\"patch\"].append(patch)\n",
    "    console_df[\"au\"].append(au)\n",
    "    console_df[\"paid_pu\"].append(paid_pu)\n",
    "    console_df[\"total_pu\"].append(total_pu)\n",
    "    console_df[\"paid_use\"].append(paid_use)\n",
    "    console_df[\"total_use\"].append(total_use)"
   ]
  },
  {
   "cell_type": "code",
   "execution_count": 32,
   "metadata": {},
   "outputs": [],
   "source": [
    "console_pd = pd.DataFrame.from_dict(console_df)"
   ]
  },
  {
   "cell_type": "code",
   "execution_count": 33,
   "metadata": {},
   "outputs": [
    {
     "data": {
      "text/html": [
       "<div>\n",
       "<style scoped>\n",
       "    .dataframe tbody tr th:only-of-type {\n",
       "        vertical-align: middle;\n",
       "    }\n",
       "\n",
       "    .dataframe tbody tr th {\n",
       "        vertical-align: top;\n",
       "    }\n",
       "\n",
       "    .dataframe thead th {\n",
       "        text-align: right;\n",
       "    }\n",
       "</style>\n",
       "<table border=\"1\" class=\"dataframe\">\n",
       "  <thead>\n",
       "    <tr style=\"text-align: right;\">\n",
       "      <th></th>\n",
       "      <th>patch</th>\n",
       "      <th>au</th>\n",
       "      <th>paid_pu</th>\n",
       "      <th>total_pu</th>\n",
       "      <th>paid_use</th>\n",
       "      <th>total_use</th>\n",
       "    </tr>\n",
       "  </thead>\n",
       "  <tbody>\n",
       "    <tr>\n",
       "      <th>0</th>\n",
       "      <td>18.2</td>\n",
       "      <td>1714847</td>\n",
       "      <td>28866</td>\n",
       "      <td>56685</td>\n",
       "      <td>87631180</td>\n",
       "      <td>119930980</td>\n",
       "    </tr>\n",
       "    <tr>\n",
       "      <th>1</th>\n",
       "      <td>19.1</td>\n",
       "      <td>1510832</td>\n",
       "      <td>19267</td>\n",
       "      <td>39333</td>\n",
       "      <td>52242410</td>\n",
       "      <td>74210790</td>\n",
       "    </tr>\n",
       "    <tr>\n",
       "      <th>2</th>\n",
       "      <td>19.2</td>\n",
       "      <td>1662100</td>\n",
       "      <td>10554</td>\n",
       "      <td>19954</td>\n",
       "      <td>21279110</td>\n",
       "      <td>30154940</td>\n",
       "    </tr>\n",
       "    <tr>\n",
       "      <th>3</th>\n",
       "      <td>20.1</td>\n",
       "      <td>1386610</td>\n",
       "      <td>9201</td>\n",
       "      <td>19707</td>\n",
       "      <td>17255650</td>\n",
       "      <td>25621140</td>\n",
       "    </tr>\n",
       "  </tbody>\n",
       "</table>\n",
       "</div>"
      ],
      "text/plain": [
       "  patch       au  paid_pu  total_pu  paid_use  total_use\n",
       "0  18.2  1714847    28866     56685  87631180  119930980\n",
       "1  19.1  1510832    19267     39333  52242410   74210790\n",
       "2  19.2  1662100    10554     19954  21279110   30154940\n",
       "3  20.1  1386610     9201     19707  17255650   25621140"
      ]
     },
     "execution_count": 33,
     "metadata": {},
     "output_type": "execute_result"
    }
   ],
   "source": [
    "console_pd"
   ]
  },
  {
   "cell_type": "code",
   "execution_count": null,
   "metadata": {},
   "outputs": [],
   "source": []
  },
  {
   "cell_type": "code",
   "execution_count": 35,
   "metadata": {},
   "outputs": [],
   "source": [
    "pc_cum_gcoin = load_data_mart(\"pc\", \"2022-07-13\", \"2022-11-08\", \"gcoin_use\").where(col(\"event_name\") == \"202207_workshop\")"
   ]
  },
  {
   "cell_type": "code",
   "execution_count": 36,
   "metadata": {},
   "outputs": [],
   "source": [
    "# user 지역\n",
    "from pyspark.sql.types import * \n",
    "\n",
    "def classify_country(country_os, country_ip):\n",
    "    if country_os != 'CN':\n",
    "        return country_ip\n",
    "    else:\n",
    "        return country_os\n",
    "\n",
    "country_type_udf = udf(classify_country, StringType())\n",
    "\n",
    "meta_region = mysql.read_table(spark, 'metainfo', 'meta_bi_regions')\n",
    "\n",
    "user = load_data_mart(\"pc\", \"2022-11-08\", \"2022-11-08\", \"user_master\")\n",
    "user = user.withColumn(\"country_new\", country_type_udf(\"country_os\", \"country_ip\"))\n",
    "user = user.join(meta_region, user.country_new == meta_region.country_code_iso2, \"left\")"
   ]
  },
  {
   "cell_type": "code",
   "execution_count": 37,
   "metadata": {},
   "outputs": [],
   "source": [
    "user = user.withColumnRenamed(\"accountid\", \"account_id\").select(\"account_id\", \"pubg_region\")\n",
    "pc_cum_gcoin = pc_cum_gcoin.join(user, \"account_id\", \"left\")"
   ]
  },
  {
   "cell_type": "code",
   "execution_count": 38,
   "metadata": {},
   "outputs": [
    {
     "data": {
      "text/html": [
       "<div>\n",
       "<style scoped>\n",
       "    .dataframe tbody tr th:only-of-type {\n",
       "        vertical-align: middle;\n",
       "    }\n",
       "\n",
       "    .dataframe tbody tr th {\n",
       "        vertical-align: top;\n",
       "    }\n",
       "\n",
       "    .dataframe thead th {\n",
       "        text-align: right;\n",
       "    }\n",
       "</style>\n",
       "<table border=\"1\" class=\"dataframe\">\n",
       "  <thead>\n",
       "    <tr style=\"text-align: right;\">\n",
       "      <th></th>\n",
       "      <th>pubg_region</th>\n",
       "      <th>paid_use</th>\n",
       "      <th>total_use</th>\n",
       "    </tr>\n",
       "  </thead>\n",
       "  <tbody>\n",
       "    <tr>\n",
       "      <th>0</th>\n",
       "      <td>CN</td>\n",
       "      <td>2471531185</td>\n",
       "      <td>3138902550</td>\n",
       "    </tr>\n",
       "    <tr>\n",
       "      <th>1</th>\n",
       "      <td>NA</td>\n",
       "      <td>61630610</td>\n",
       "      <td>87251590</td>\n",
       "    </tr>\n",
       "    <tr>\n",
       "      <th>2</th>\n",
       "      <td>SA</td>\n",
       "      <td>12961120</td>\n",
       "      <td>32332680</td>\n",
       "    </tr>\n",
       "    <tr>\n",
       "      <th>3</th>\n",
       "      <td>KR</td>\n",
       "      <td>405666480</td>\n",
       "      <td>512045230</td>\n",
       "    </tr>\n",
       "    <tr>\n",
       "      <th>4</th>\n",
       "      <td>SEA</td>\n",
       "      <td>32961680</td>\n",
       "      <td>52171180</td>\n",
       "    </tr>\n",
       "    <tr>\n",
       "      <th>5</th>\n",
       "      <td>Undefined</td>\n",
       "      <td>0</td>\n",
       "      <td>2930</td>\n",
       "    </tr>\n",
       "    <tr>\n",
       "      <th>6</th>\n",
       "      <td>JP</td>\n",
       "      <td>4895320</td>\n",
       "      <td>6821600</td>\n",
       "    </tr>\n",
       "    <tr>\n",
       "      <th>7</th>\n",
       "      <td>TW/HK</td>\n",
       "      <td>15418380</td>\n",
       "      <td>19481270</td>\n",
       "    </tr>\n",
       "    <tr>\n",
       "      <th>8</th>\n",
       "      <td>CIS</td>\n",
       "      <td>54132571</td>\n",
       "      <td>100815370</td>\n",
       "    </tr>\n",
       "    <tr>\n",
       "      <th>9</th>\n",
       "      <td>EMEA</td>\n",
       "      <td>103020300</td>\n",
       "      <td>170599880</td>\n",
       "    </tr>\n",
       "    <tr>\n",
       "      <th>10</th>\n",
       "      <td>OC</td>\n",
       "      <td>14742030</td>\n",
       "      <td>19614930</td>\n",
       "    </tr>\n",
       "  </tbody>\n",
       "</table>\n",
       "</div>"
      ],
      "text/plain": [
       "   pubg_region    paid_use   total_use\n",
       "0           CN  2471531185  3138902550\n",
       "1           NA    61630610    87251590\n",
       "2           SA    12961120    32332680\n",
       "3           KR   405666480   512045230\n",
       "4          SEA    32961680    52171180\n",
       "5    Undefined           0        2930\n",
       "6           JP     4895320     6821600\n",
       "7        TW/HK    15418380    19481270\n",
       "8          CIS    54132571   100815370\n",
       "9         EMEA   103020300   170599880\n",
       "10          OC    14742030    19614930"
      ]
     },
     "execution_count": 38,
     "metadata": {},
     "output_type": "execute_result"
    }
   ],
   "source": [
    "pc_cum_gcoin.groupBy(\"pubg_region\").agg(sum(\"paid_use\").alias(\"paid_use\"), sum(col(\"paid_use\") + col(\"free_use\")).alias(\"total_use\")).toPandas()"
   ]
  },
  {
   "cell_type": "code",
   "execution_count": null,
   "metadata": {},
   "outputs": [],
   "source": []
  },
  {
   "cell_type": "code",
   "execution_count": 39,
   "metadata": {},
   "outputs": [],
   "source": [
    "console_cum_gcoin = load_data_mart(\"console\", \"2022-07-21\", \"2022-11-16\", \"gcoin_use\").where(col(\"event_name\") == \"202207_workshop\")\n",
    "console_user = load_data_mart(\"console\", \"2022-11-16\", \"2022-11-16\", \"user_master\")\n",
    "console_user = console_user.withColumn(\"country_new\", country_type_udf(\"country_os\", \"country_ip\"))\n",
    "console_user = console_user.join(meta_region, console_user.country_new == meta_region.country_code_iso2, \"left\")"
   ]
  },
  {
   "cell_type": "code",
   "execution_count": 40,
   "metadata": {},
   "outputs": [],
   "source": [
    "console_user = console_user.withColumnRenamed(\"accountid\", \"account_id\").select(\"account_id\", \"pubg_region\")\n",
    "console_cum_gcoin = console_cum_gcoin.join(console_user, \"account_id\", \"left\")"
   ]
  },
  {
   "cell_type": "code",
   "execution_count": 41,
   "metadata": {},
   "outputs": [
    {
     "data": {
      "text/html": [
       "<div>\n",
       "<style scoped>\n",
       "    .dataframe tbody tr th:only-of-type {\n",
       "        vertical-align: middle;\n",
       "    }\n",
       "\n",
       "    .dataframe tbody tr th {\n",
       "        vertical-align: top;\n",
       "    }\n",
       "\n",
       "    .dataframe thead th {\n",
       "        text-align: right;\n",
       "    }\n",
       "</style>\n",
       "<table border=\"1\" class=\"dataframe\">\n",
       "  <thead>\n",
       "    <tr style=\"text-align: right;\">\n",
       "      <th></th>\n",
       "      <th>pubg_region</th>\n",
       "      <th>paid_use</th>\n",
       "      <th>total_use</th>\n",
       "    </tr>\n",
       "  </thead>\n",
       "  <tbody>\n",
       "    <tr>\n",
       "      <th>0</th>\n",
       "      <td>CN</td>\n",
       "      <td>1328550</td>\n",
       "      <td>1700480</td>\n",
       "    </tr>\n",
       "    <tr>\n",
       "      <th>1</th>\n",
       "      <td>NA</td>\n",
       "      <td>119073840</td>\n",
       "      <td>163419180</td>\n",
       "    </tr>\n",
       "    <tr>\n",
       "      <th>2</th>\n",
       "      <td>SA</td>\n",
       "      <td>8271230</td>\n",
       "      <td>13005100</td>\n",
       "    </tr>\n",
       "    <tr>\n",
       "      <th>3</th>\n",
       "      <td>KR</td>\n",
       "      <td>1666650</td>\n",
       "      <td>2136280</td>\n",
       "    </tr>\n",
       "    <tr>\n",
       "      <th>4</th>\n",
       "      <td>SEA</td>\n",
       "      <td>389720</td>\n",
       "      <td>523780</td>\n",
       "    </tr>\n",
       "    <tr>\n",
       "      <th>5</th>\n",
       "      <td>JP</td>\n",
       "      <td>4535240</td>\n",
       "      <td>5709240</td>\n",
       "    </tr>\n",
       "    <tr>\n",
       "      <th>6</th>\n",
       "      <td>TW/HK</td>\n",
       "      <td>1314940</td>\n",
       "      <td>1609780</td>\n",
       "    </tr>\n",
       "    <tr>\n",
       "      <th>7</th>\n",
       "      <td>CIS</td>\n",
       "      <td>1630370</td>\n",
       "      <td>5084920</td>\n",
       "    </tr>\n",
       "    <tr>\n",
       "      <th>8</th>\n",
       "      <td>EMEA</td>\n",
       "      <td>32720990</td>\n",
       "      <td>46877750</td>\n",
       "    </tr>\n",
       "    <tr>\n",
       "      <th>9</th>\n",
       "      <td>OC</td>\n",
       "      <td>7476820</td>\n",
       "      <td>9851340</td>\n",
       "    </tr>\n",
       "  </tbody>\n",
       "</table>\n",
       "</div>"
      ],
      "text/plain": [
       "  pubg_region   paid_use  total_use\n",
       "0          CN    1328550    1700480\n",
       "1          NA  119073840  163419180\n",
       "2          SA    8271230   13005100\n",
       "3          KR    1666650    2136280\n",
       "4         SEA     389720     523780\n",
       "5          JP    4535240    5709240\n",
       "6       TW/HK    1314940    1609780\n",
       "7         CIS    1630370    5084920\n",
       "8        EMEA   32720990   46877750\n",
       "9          OC    7476820    9851340"
      ]
     },
     "execution_count": 41,
     "metadata": {},
     "output_type": "execute_result"
    }
   ],
   "source": [
    "console_cum_gcoin.groupBy(\"pubg_region\").agg(sum(\"paid_use\").alias(\"paid_use\"), sum(col(\"paid_use\") + col(\"free_use\")).alias(\"total_use\")).toPandas()"
   ]
  },
  {
   "cell_type": "code",
   "execution_count": null,
   "metadata": {},
   "outputs": [],
   "source": []
  },
  {
   "cell_type": "code",
   "execution_count": 18,
   "metadata": {},
   "outputs": [
    {
     "name": "stdout",
     "output_type": "stream",
     "text": [
      "+------+\n",
      "|au    |\n",
      "+------+\n",
      "|739339|\n",
      "+------+\n",
      "\n"
     ]
    }
   ],
   "source": [
    "load_data_mart(\"console\", \"2022-07-27\", \"2022-07-27\", \"user_master\").where(col(\"lastlogindate\") >= \"2022-07-21\").select(countDistinct(\"accountid\").alias(\"au\")).show(truncate=False)"
   ]
  },
  {
   "cell_type": "code",
   "execution_count": 17,
   "metadata": {},
   "outputs": [],
   "source": [
    "workshop_console_gcoin = load_data_mart(\"console\", \"2022-07-21\", \"2022-07-27\", \"gcoin_use\").where(col(\"event_name\") == \"202207_workshop\")"
   ]
  },
  {
   "cell_type": "code",
   "execution_count": 19,
   "metadata": {},
   "outputs": [],
   "source": [
    "workshop_console_gcoin = workshop_console_gcoin.withColumn(\"paid_account_id\", when(col(\"paid_use\") > 0, col(\"account_id\")).otherwise(lit(None)))"
   ]
  },
  {
   "cell_type": "code",
   "execution_count": 20,
   "metadata": {},
   "outputs": [
    {
     "name": "stdout",
     "output_type": "stream",
     "text": [
      "+--------+---------+\n",
      "|paid_use|total_use|\n",
      "+--------+---------+\n",
      "|33123100|46028640 |\n",
      "+--------+---------+\n",
      "\n"
     ]
    }
   ],
   "source": [
    "workshop_console_gcoin.select(sum(\"paid_use\").alias(\"paid_use\"), sum(col(\"paid_use\") + col(\"free_use\")).alias(\"total_use\")).show(truncate=False)"
   ]
  },
  {
   "cell_type": "code",
   "execution_count": 21,
   "metadata": {},
   "outputs": [
    {
     "name": "stdout",
     "output_type": "stream",
     "text": [
      "+-------+--------+\n",
      "|paid_pu|total_pu|\n",
      "+-------+--------+\n",
      "|14327  |26681   |\n",
      "+-------+--------+\n",
      "\n"
     ]
    }
   ],
   "source": [
    "workshop_console_gcoin.select(countDistinct(\"paid_account_id\").alias(\"paid_pu\"), countDistinct(\"account_id\").alias(\"total_pu\")).show(truncate=False)"
   ]
  },
  {
   "cell_type": "code",
   "execution_count": null,
   "metadata": {},
   "outputs": [],
   "source": []
  }
 ],
 "metadata": {
  "kernelspec": {
   "display_name": "Python 3",
   "language": "python",
   "name": "python3"
  },
  "language_info": {
   "codemirror_mode": {
    "name": "ipython",
    "version": 3
   },
   "file_extension": ".py",
   "mimetype": "text/x-python",
   "name": "python",
   "nbconvert_exporter": "python",
   "pygments_lexer": "ipython3",
   "version": "3.6.7"
  }
 },
 "nbformat": 4,
 "nbformat_minor": 4
}
