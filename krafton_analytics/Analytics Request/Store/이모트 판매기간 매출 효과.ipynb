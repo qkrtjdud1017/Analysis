{
 "cells": [
  {
   "cell_type": "code",
   "execution_count": 17,
   "metadata": {
    "collapsed": true,
    "jupyter": {
     "outputs_hidden": true
    }
   },
   "outputs": [
    {
     "name": "stdout",
     "output_type": "stream",
     "text": [
      "Spark cluster not assigned. creating a new one...\n",
      "Node spec: 8 executors with 48G RAM each\n",
      "Job Port 4049 is assigned for requested cluster\n",
      "Waiting for Spark master to be available...\n",
      "Spark master launched!\n",
      "Creating new Spark session, name: west0_collabo_emote...\n"
     ]
    },
    {
     "name": "stderr",
     "output_type": "stream",
     "text": [
      "ERROR:root:Exception while sending command.\n",
      "Traceback (most recent call last):\n",
      "  File \"/usr/local/spark/python/lib/py4j-0.10.7-src.zip/py4j/java_gateway.py\", line 1159, in send_command\n",
      "    raise Py4JNetworkError(\"Answer from Java side is empty\")\n",
      "py4j.protocol.Py4JNetworkError: Answer from Java side is empty\n",
      "\n",
      "During handling of the above exception, another exception occurred:\n",
      "\n",
      "Traceback (most recent call last):\n",
      "  File \"/usr/local/spark/python/lib/py4j-0.10.7-src.zip/py4j/java_gateway.py\", line 985, in send_command\n",
      "    response = connection.send_command(command)\n",
      "  File \"/usr/local/spark/python/lib/py4j-0.10.7-src.zip/py4j/java_gateway.py\", line 1164, in send_command\n",
      "    \"Error while receiving\", e, proto.ERROR_ON_RECEIVE)\n",
      "py4j.protocol.Py4JNetworkError: Error while receiving\n",
      "ERROR:py4j.java_gateway:An error occurred while trying to connect to the Java server (127.0.0.1:46475)\n",
      "Traceback (most recent call last):\n",
      "  File \"/usr/local/spark/python/lib/py4j-0.10.7-src.zip/py4j/java_gateway.py\", line 929, in _get_connection\n",
      "    connection = self.deque.pop()\n",
      "IndexError: pop from an empty deque\n",
      "\n",
      "During handling of the above exception, another exception occurred:\n",
      "\n",
      "Traceback (most recent call last):\n",
      "  File \"/usr/local/spark/python/lib/py4j-0.10.7-src.zip/py4j/java_gateway.py\", line 1067, in start\n",
      "    self.socket.connect((self.address, self.port))\n",
      "ConnectionRefusedError: [Errno 111] Connection refused\n",
      "ERROR:py4j.java_gateway:An error occurred while trying to connect to the Java server (127.0.0.1:46475)\n",
      "Traceback (most recent call last):\n",
      "  File \"/usr/local/spark/python/lib/py4j-0.10.7-src.zip/py4j/java_gateway.py\", line 929, in _get_connection\n",
      "    connection = self.deque.pop()\n",
      "IndexError: pop from an empty deque\n",
      "\n",
      "During handling of the above exception, another exception occurred:\n",
      "\n",
      "Traceback (most recent call last):\n",
      "  File \"/usr/local/spark/python/lib/py4j-0.10.7-src.zip/py4j/java_gateway.py\", line 1067, in start\n",
      "    self.socket.connect((self.address, self.port))\n",
      "ConnectionRefusedError: [Errno 111] Connection refused\n",
      "ERROR:py4j.java_gateway:An error occurred while trying to connect to the Java server (127.0.0.1:46475)\n",
      "Traceback (most recent call last):\n",
      "  File \"/usr/local/spark/python/lib/py4j-0.10.7-src.zip/py4j/java_gateway.py\", line 929, in _get_connection\n",
      "    connection = self.deque.pop()\n",
      "IndexError: pop from an empty deque\n",
      "\n",
      "During handling of the above exception, another exception occurred:\n",
      "\n",
      "Traceback (most recent call last):\n",
      "  File \"/usr/local/spark/python/lib/py4j-0.10.7-src.zip/py4j/java_gateway.py\", line 1067, in start\n",
      "    self.socket.connect((self.address, self.port))\n",
      "ConnectionRefusedError: [Errno 111] Connection refused\n",
      "ERROR:py4j.java_gateway:An error occurred while trying to connect to the Java server (127.0.0.1:46475)\n",
      "Traceback (most recent call last):\n",
      "  File \"/usr/local/spark/python/lib/py4j-0.10.7-src.zip/py4j/java_gateway.py\", line 929, in _get_connection\n",
      "    connection = self.deque.pop()\n",
      "IndexError: pop from an empty deque\n",
      "\n",
      "During handling of the above exception, another exception occurred:\n",
      "\n",
      "Traceback (most recent call last):\n",
      "  File \"/usr/local/spark/python/lib/py4j-0.10.7-src.zip/py4j/java_gateway.py\", line 1067, in start\n",
      "    self.socket.connect((self.address, self.port))\n",
      "ConnectionRefusedError: [Errno 111] Connection refused\n",
      "ERROR:py4j.java_gateway:An error occurred while trying to connect to the Java server (127.0.0.1:46475)\n",
      "Traceback (most recent call last):\n",
      "  File \"/usr/local/spark/python/lib/py4j-0.10.7-src.zip/py4j/java_gateway.py\", line 929, in _get_connection\n",
      "    connection = self.deque.pop()\n",
      "IndexError: pop from an empty deque\n",
      "\n",
      "During handling of the above exception, another exception occurred:\n",
      "\n",
      "Traceback (most recent call last):\n",
      "  File \"/usr/local/spark/python/lib/py4j-0.10.7-src.zip/py4j/java_gateway.py\", line 1067, in start\n",
      "    self.socket.connect((self.address, self.port))\n",
      "ConnectionRefusedError: [Errno 111] Connection refused\n",
      "ERROR:py4j.java_gateway:An error occurred while trying to connect to the Java server (127.0.0.1:46475)\n",
      "Traceback (most recent call last):\n",
      "  File \"/usr/local/spark/python/lib/py4j-0.10.7-src.zip/py4j/java_gateway.py\", line 929, in _get_connection\n",
      "    connection = self.deque.pop()\n",
      "IndexError: pop from an empty deque\n",
      "\n",
      "During handling of the above exception, another exception occurred:\n",
      "\n",
      "Traceback (most recent call last):\n",
      "  File \"/usr/local/spark/python/lib/py4j-0.10.7-src.zip/py4j/java_gateway.py\", line 1067, in start\n",
      "    self.socket.connect((self.address, self.port))\n",
      "ConnectionRefusedError: [Errno 111] Connection refused\n",
      "ERROR:py4j.java_gateway:An error occurred while trying to connect to the Java server (127.0.0.1:46475)\n",
      "Traceback (most recent call last):\n",
      "  File \"/usr/local/spark/python/lib/py4j-0.10.7-src.zip/py4j/java_gateway.py\", line 929, in _get_connection\n",
      "    connection = self.deque.pop()\n",
      "IndexError: pop from an empty deque\n",
      "\n",
      "During handling of the above exception, another exception occurred:\n",
      "\n",
      "Traceback (most recent call last):\n",
      "  File \"/usr/local/spark/python/lib/py4j-0.10.7-src.zip/py4j/java_gateway.py\", line 1067, in start\n",
      "    self.socket.connect((self.address, self.port))\n",
      "ConnectionRefusedError: [Errno 111] Connection refused\n",
      "ERROR:py4j.java_gateway:An error occurred while trying to connect to the Java server (127.0.0.1:46475)\n",
      "Traceback (most recent call last):\n",
      "  File \"/usr/local/spark/python/lib/py4j-0.10.7-src.zip/py4j/java_gateway.py\", line 929, in _get_connection\n",
      "    connection = self.deque.pop()\n",
      "IndexError: pop from an empty deque\n",
      "\n",
      "During handling of the above exception, another exception occurred:\n",
      "\n",
      "Traceback (most recent call last):\n",
      "  File \"/usr/local/spark/python/lib/py4j-0.10.7-src.zip/py4j/java_gateway.py\", line 1067, in start\n",
      "    self.socket.connect((self.address, self.port))\n",
      "ConnectionRefusedError: [Errno 111] Connection refused\n",
      "ERROR:py4j.java_gateway:An error occurred while trying to connect to the Java server (127.0.0.1:46475)\n",
      "Traceback (most recent call last):\n",
      "  File \"/usr/local/spark/python/lib/py4j-0.10.7-src.zip/py4j/java_gateway.py\", line 929, in _get_connection\n",
      "    connection = self.deque.pop()\n",
      "IndexError: pop from an empty deque\n",
      "\n",
      "During handling of the above exception, another exception occurred:\n",
      "\n",
      "Traceback (most recent call last):\n",
      "  File \"/usr/local/spark/python/lib/py4j-0.10.7-src.zip/py4j/java_gateway.py\", line 1067, in start\n",
      "    self.socket.connect((self.address, self.port))\n",
      "ConnectionRefusedError: [Errno 111] Connection refused\n",
      "ERROR:py4j.java_gateway:An error occurred while trying to connect to the Java server (127.0.0.1:46475)\n",
      "Traceback (most recent call last):\n",
      "  File \"/usr/local/spark/python/lib/py4j-0.10.7-src.zip/py4j/java_gateway.py\", line 929, in _get_connection\n",
      "    connection = self.deque.pop()\n",
      "IndexError: pop from an empty deque\n",
      "\n",
      "During handling of the above exception, another exception occurred:\n",
      "\n",
      "Traceback (most recent call last):\n",
      "  File \"/usr/local/spark/python/lib/py4j-0.10.7-src.zip/py4j/java_gateway.py\", line 1067, in start\n",
      "    self.socket.connect((self.address, self.port))\n",
      "ConnectionRefusedError: [Errno 111] Connection refused\n",
      "ERROR:py4j.java_gateway:An error occurred while trying to connect to the Java server (127.0.0.1:46475)\n",
      "Traceback (most recent call last):\n",
      "  File \"/usr/local/spark/python/lib/py4j-0.10.7-src.zip/py4j/java_gateway.py\", line 929, in _get_connection\n",
      "    connection = self.deque.pop()\n",
      "IndexError: pop from an empty deque\n",
      "\n",
      "During handling of the above exception, another exception occurred:\n",
      "\n",
      "Traceback (most recent call last):\n",
      "  File \"/usr/local/spark/python/lib/py4j-0.10.7-src.zip/py4j/java_gateway.py\", line 1067, in start\n",
      "    self.socket.connect((self.address, self.port))\n",
      "ConnectionRefusedError: [Errno 111] Connection refused\n",
      "ERROR:py4j.java_gateway:An error occurred while trying to connect to the Java server (127.0.0.1:46475)\n",
      "Traceback (most recent call last):\n",
      "  File \"/usr/local/spark/python/lib/py4j-0.10.7-src.zip/py4j/java_gateway.py\", line 929, in _get_connection\n",
      "    connection = self.deque.pop()\n",
      "IndexError: pop from an empty deque\n",
      "\n",
      "During handling of the above exception, another exception occurred:\n",
      "\n",
      "Traceback (most recent call last):\n",
      "  File \"/usr/local/spark/python/lib/py4j-0.10.7-src.zip/py4j/java_gateway.py\", line 1067, in start\n",
      "    self.socket.connect((self.address, self.port))\n",
      "ConnectionRefusedError: [Errno 111] Connection refused\n",
      "ERROR:py4j.java_gateway:An error occurred while trying to connect to the Java server (127.0.0.1:46475)\n",
      "Traceback (most recent call last):\n",
      "  File \"/usr/local/spark/python/lib/py4j-0.10.7-src.zip/py4j/java_gateway.py\", line 929, in _get_connection\n",
      "    connection = self.deque.pop()\n",
      "IndexError: pop from an empty deque\n",
      "\n",
      "During handling of the above exception, another exception occurred:\n",
      "\n",
      "Traceback (most recent call last):\n",
      "  File \"/usr/local/spark/python/lib/py4j-0.10.7-src.zip/py4j/java_gateway.py\", line 1067, in start\n",
      "    self.socket.connect((self.address, self.port))\n",
      "ConnectionRefusedError: [Errno 111] Connection refused\n",
      "ERROR:py4j.java_gateway:An error occurred while trying to connect to the Java server (127.0.0.1:46475)\n",
      "Traceback (most recent call last):\n",
      "  File \"/usr/local/spark/python/lib/py4j-0.10.7-src.zip/py4j/java_gateway.py\", line 929, in _get_connection\n",
      "    connection = self.deque.pop()\n",
      "IndexError: pop from an empty deque\n",
      "\n",
      "During handling of the above exception, another exception occurred:\n",
      "\n",
      "Traceback (most recent call last):\n",
      "  File \"/usr/local/spark/python/lib/py4j-0.10.7-src.zip/py4j/java_gateway.py\", line 1067, in start\n",
      "    self.socket.connect((self.address, self.port))\n",
      "ConnectionRefusedError: [Errno 111] Connection refused\n",
      "ERROR:py4j.java_gateway:An error occurred while trying to connect to the Java server (127.0.0.1:46475)\n",
      "Traceback (most recent call last):\n",
      "  File \"/usr/local/spark/python/lib/py4j-0.10.7-src.zip/py4j/java_gateway.py\", line 929, in _get_connection\n",
      "    connection = self.deque.pop()\n",
      "IndexError: pop from an empty deque\n",
      "\n",
      "During handling of the above exception, another exception occurred:\n",
      "\n",
      "Traceback (most recent call last):\n",
      "  File \"/usr/local/spark/python/lib/py4j-0.10.7-src.zip/py4j/java_gateway.py\", line 1067, in start\n",
      "    self.socket.connect((self.address, self.port))\n",
      "ConnectionRefusedError: [Errno 111] Connection refused\n",
      "ERROR:py4j.java_gateway:An error occurred while trying to connect to the Java server (127.0.0.1:46475)\n",
      "Traceback (most recent call last):\n",
      "  File \"/usr/local/spark/python/lib/py4j-0.10.7-src.zip/py4j/java_gateway.py\", line 929, in _get_connection\n",
      "    connection = self.deque.pop()\n",
      "IndexError: pop from an empty deque\n",
      "\n",
      "During handling of the above exception, another exception occurred:\n",
      "\n",
      "Traceback (most recent call last):\n",
      "  File \"/usr/local/spark/python/lib/py4j-0.10.7-src.zip/py4j/java_gateway.py\", line 1067, in start\n",
      "    self.socket.connect((self.address, self.port))\n",
      "ConnectionRefusedError: [Errno 111] Connection refused\n",
      "ERROR:py4j.java_gateway:An error occurred while trying to connect to the Java server (127.0.0.1:46475)\n",
      "Traceback (most recent call last):\n",
      "  File \"/usr/local/spark/python/lib/py4j-0.10.7-src.zip/py4j/java_gateway.py\", line 929, in _get_connection\n",
      "    connection = self.deque.pop()\n",
      "IndexError: pop from an empty deque\n",
      "\n",
      "During handling of the above exception, another exception occurred:\n",
      "\n",
      "Traceback (most recent call last):\n",
      "  File \"/usr/local/spark/python/lib/py4j-0.10.7-src.zip/py4j/java_gateway.py\", line 1067, in start\n",
      "    self.socket.connect((self.address, self.port))\n",
      "ConnectionRefusedError: [Errno 111] Connection refused\n",
      "ERROR:py4j.java_gateway:An error occurred while trying to connect to the Java server (127.0.0.1:46475)\n",
      "Traceback (most recent call last):\n",
      "  File \"/usr/local/spark/python/lib/py4j-0.10.7-src.zip/py4j/java_gateway.py\", line 929, in _get_connection\n",
      "    connection = self.deque.pop()\n",
      "IndexError: pop from an empty deque\n",
      "\n",
      "During handling of the above exception, another exception occurred:\n",
      "\n",
      "Traceback (most recent call last):\n",
      "  File \"/usr/local/spark/python/lib/py4j-0.10.7-src.zip/py4j/java_gateway.py\", line 1067, in start\n",
      "    self.socket.connect((self.address, self.port))\n",
      "ConnectionRefusedError: [Errno 111] Connection refused\n",
      "ERROR:py4j.java_gateway:An error occurred while trying to connect to the Java server (127.0.0.1:46475)\n",
      "Traceback (most recent call last):\n",
      "  File \"/usr/local/spark/python/lib/py4j-0.10.7-src.zip/py4j/java_gateway.py\", line 929, in _get_connection\n",
      "    connection = self.deque.pop()\n",
      "IndexError: pop from an empty deque\n",
      "\n",
      "During handling of the above exception, another exception occurred:\n",
      "\n",
      "Traceback (most recent call last):\n",
      "  File \"/usr/local/spark/python/lib/py4j-0.10.7-src.zip/py4j/java_gateway.py\", line 1067, in start\n",
      "    self.socket.connect((self.address, self.port))\n",
      "ConnectionRefusedError: [Errno 111] Connection refused\n",
      "ERROR:py4j.java_gateway:An error occurred while trying to connect to the Java server (127.0.0.1:46475)\n",
      "Traceback (most recent call last):\n",
      "  File \"/usr/local/spark/python/lib/py4j-0.10.7-src.zip/py4j/java_gateway.py\", line 929, in _get_connection\n",
      "    connection = self.deque.pop()\n",
      "IndexError: pop from an empty deque\n",
      "\n",
      "During handling of the above exception, another exception occurred:\n",
      "\n",
      "Traceback (most recent call last):\n",
      "  File \"/usr/local/spark/python/lib/py4j-0.10.7-src.zip/py4j/java_gateway.py\", line 1067, in start\n",
      "    self.socket.connect((self.address, self.port))\n",
      "ConnectionRefusedError: [Errno 111] Connection refused\n",
      "ERROR:py4j.java_gateway:An error occurred while trying to connect to the Java server (127.0.0.1:46475)\n",
      "Traceback (most recent call last):\n",
      "  File \"/usr/local/spark/python/lib/py4j-0.10.7-src.zip/py4j/java_gateway.py\", line 929, in _get_connection\n",
      "    connection = self.deque.pop()\n",
      "IndexError: pop from an empty deque\n",
      "\n",
      "During handling of the above exception, another exception occurred:\n",
      "\n",
      "Traceback (most recent call last):\n",
      "  File \"/usr/local/spark/python/lib/py4j-0.10.7-src.zip/py4j/java_gateway.py\", line 1067, in start\n",
      "    self.socket.connect((self.address, self.port))\n",
      "ConnectionRefusedError: [Errno 111] Connection refused\n"
     ]
    },
    {
     "name": "stdout",
     "output_type": "stream",
     "text": [
      "Waiting for all executors ready...\n",
      "All executors connected!\n",
      "Complete! elapsed time: 00:00:23\n"
     ]
    }
   ],
   "source": [
    "from pubg_util import mysql, load_schema, notifier\n",
    "from sphynx import sphynx, NODE_SMALL, NODE_MEDIUM, NODE_LARGE\n",
    "from pyspark.sql.functions import *\n",
    "import pandas as pd\n",
    "import pickle\n",
    "\n",
    "spark = sphynx.get_spark(executor_count=8, app_name='west0_collabo_emote', node_spec=NODE_LARGE)"
   ]
  },
  {
   "cell_type": "code",
   "execution_count": 16,
   "metadata": {},
   "outputs": [
    {
     "name": "stdout",
     "output_type": "stream",
     "text": [
      "Stopping Spark session...\n",
      "Destroying Spark cluster...\n",
      "Done!\n",
      "You can safely ignore the warning message if there is any.\n"
     ]
    }
   ],
   "source": [
    "sphynx.stop()"
   ]
  },
  {
   "cell_type": "code",
   "execution_count": 20,
   "metadata": {},
   "outputs": [],
   "source": [
    "item_meta = mysql.read_table(spark, \"metainfo\", \"meta_vc_sales_items\")\n",
    "collabo_emote = item_meta.where((col(\"event_type\") == \"collaboration\") & (col(\"event_name\").like(\"%emote%\"))) \\\n",
    "    .select(\"device\", \"product_id\", \"product_name\", \"event_name\", \"start_time\", \"end_time\").distinct()"
   ]
  },
  {
   "cell_type": "code",
   "execution_count": 62,
   "metadata": {},
   "outputs": [
    {
     "data": {
      "text/html": [
       "<div>\n",
       "<style scoped>\n",
       "    .dataframe tbody tr th:only-of-type {\n",
       "        vertical-align: middle;\n",
       "    }\n",
       "\n",
       "    .dataframe tbody tr th {\n",
       "        vertical-align: top;\n",
       "    }\n",
       "\n",
       "    .dataframe thead th {\n",
       "        text-align: right;\n",
       "    }\n",
       "</style>\n",
       "<table border=\"1\" class=\"dataframe\">\n",
       "  <thead>\n",
       "    <tr style=\"text-align: right;\">\n",
       "      <th></th>\n",
       "      <th>device</th>\n",
       "      <th>product_id</th>\n",
       "      <th>product_name</th>\n",
       "      <th>event_name</th>\n",
       "      <th>start_time</th>\n",
       "      <th>end_time</th>\n",
       "    </tr>\n",
       "  </thead>\n",
       "  <tbody>\n",
       "    <tr>\n",
       "      <th>0</th>\n",
       "      <td>PC</td>\n",
       "      <td>itemdesc.16100250</td>\n",
       "      <td>Victory Dance - LEENALCHI x JINJO CREW</td>\n",
       "      <td>2021_emote_mar2</td>\n",
       "      <td>2021-03-13 02:00:00</td>\n",
       "      <td>2021-06-12 02:00:00</td>\n",
       "    </tr>\n",
       "    <tr>\n",
       "      <th>1</th>\n",
       "      <td>PC</td>\n",
       "      <td>itemdesc.13000312</td>\n",
       "      <td>VICTORY DANCE - 2 PHUT HON (KAIZ REMIX)</td>\n",
       "      <td>202107_phao_emote</td>\n",
       "      <td>2021-07-07 02:00:00</td>\n",
       "      <td>2021-10-06 01:59:59</td>\n",
       "    </tr>\n",
       "    <tr>\n",
       "      <th>2</th>\n",
       "      <td>PC</td>\n",
       "      <td>itemdesc.16100302</td>\n",
       "      <td>Victory Dance - NEO's Crazy Night</td>\n",
       "      <td>202112_kakaofriend_emote</td>\n",
       "      <td>2021-12-08 02:00:00</td>\n",
       "      <td>2022-01-06 02:00:00</td>\n",
       "    </tr>\n",
       "    <tr>\n",
       "      <th>3</th>\n",
       "      <td>PC</td>\n",
       "      <td>itemdesc.16100303</td>\n",
       "      <td>Victory Dance - TUBE's Moves</td>\n",
       "      <td>202112_kakaofriend_emote</td>\n",
       "      <td>2021-12-08 02:00:00</td>\n",
       "      <td>2022-01-06 02:00:00</td>\n",
       "    </tr>\n",
       "    <tr>\n",
       "      <th>4</th>\n",
       "      <td>PC</td>\n",
       "      <td>itemdesc.16100306</td>\n",
       "      <td>Victory Dance - The Magic Bomb</td>\n",
       "      <td>202201_themagicbomb_emote</td>\n",
       "      <td>2022-02-02 02:00:00</td>\n",
       "      <td>2022-04-27 02:00:00</td>\n",
       "    </tr>\n",
       "    <tr>\n",
       "      <th>5</th>\n",
       "      <td>PC</td>\n",
       "      <td>itemdesc.16100311</td>\n",
       "      <td>Victory Dance - Samsara by Jane Kim Choreography</td>\n",
       "      <td>202202_samsara_emote</td>\n",
       "      <td>2022-02-23 02:00:00</td>\n",
       "      <td>2022-05-18 02:00:00</td>\n",
       "    </tr>\n",
       "    <tr>\n",
       "      <th>6</th>\n",
       "      <td>PC</td>\n",
       "      <td>itemdesc.16100323</td>\n",
       "      <td>Victory Dance - HANA</td>\n",
       "      <td>202204_xiajunsu_emote</td>\n",
       "      <td>2022-04-13 02:00:00</td>\n",
       "      <td>2022-07-06 02:00:00</td>\n",
       "    </tr>\n",
       "    <tr>\n",
       "      <th>7</th>\n",
       "      <td>PC</td>\n",
       "      <td>itemdesc.16100341</td>\n",
       "      <td>Victory Dance - Roll 'n Rock</td>\n",
       "      <td>202207_balibandits_emote</td>\n",
       "      <td>2022-07-20 02:00:00</td>\n",
       "      <td>2022-10-12 02:00:00</td>\n",
       "    </tr>\n",
       "  </tbody>\n",
       "</table>\n",
       "</div>"
      ],
      "text/plain": [
       "  device         product_id                                      product_name  \\\n",
       "0     PC  itemdesc.16100250            Victory Dance - LEENALCHI x JINJO CREW   \n",
       "1     PC  itemdesc.13000312           VICTORY DANCE - 2 PHUT HON (KAIZ REMIX)   \n",
       "2     PC  itemdesc.16100302                 Victory Dance - NEO's Crazy Night   \n",
       "3     PC  itemdesc.16100303                      Victory Dance - TUBE's Moves   \n",
       "4     PC  itemdesc.16100306                    Victory Dance - The Magic Bomb   \n",
       "5     PC  itemdesc.16100311  Victory Dance - Samsara by Jane Kim Choreography   \n",
       "6     PC  itemdesc.16100323                              Victory Dance - HANA   \n",
       "7     PC  itemdesc.16100341                      Victory Dance - Roll 'n Rock   \n",
       "\n",
       "                  event_name           start_time             end_time  \n",
       "0            2021_emote_mar2  2021-03-13 02:00:00  2021-06-12 02:00:00  \n",
       "1          202107_phao_emote  2021-07-07 02:00:00  2021-10-06 01:59:59  \n",
       "2   202112_kakaofriend_emote  2021-12-08 02:00:00  2022-01-06 02:00:00  \n",
       "3   202112_kakaofriend_emote  2021-12-08 02:00:00  2022-01-06 02:00:00  \n",
       "4  202201_themagicbomb_emote  2022-02-02 02:00:00  2022-04-27 02:00:00  \n",
       "5       202202_samsara_emote  2022-02-23 02:00:00  2022-05-18 02:00:00  \n",
       "6      202204_xiajunsu_emote  2022-04-13 02:00:00  2022-07-06 02:00:00  \n",
       "7   202207_balibandits_emote  2022-07-20 02:00:00  2022-10-12 02:00:00  "
      ]
     },
     "execution_count": 62,
     "metadata": {},
     "output_type": "execute_result"
    }
   ],
   "source": [
    "collabo_emote.where((col(\"device\") == \"PC\") & (col(\"end_time\") <= current_timestamp())).orderBy(\"start_time\").toPandas()"
   ]
  },
  {
   "cell_type": "code",
   "execution_count": 11,
   "metadata": {},
   "outputs": [
    {
     "name": "stdout",
     "output_type": "stream",
     "text": [
      "+------+-----------------+------------------------------------------------+-------------------------+-------------------+-------------------+\n",
      "|device|product_id       |product_name                                    |event_name               |start_time         |end_time           |\n",
      "+------+-----------------+------------------------------------------------+-------------------------+-------------------+-------------------+\n",
      "|PC    |itemdesc.16100250|Victory Dance - LEENALCHI x JINJO CREW          |2021_emote_mar2          |2021-03-13 02:00:00|2021-06-12 02:00:00|\n",
      "|PC    |itemdesc.13000312|VICTORY DANCE - 2 PHUT HON (KAIZ REMIX)         |202107_phao_emote        |2021-07-07 02:00:00|2021-10-06 01:59:59|\n",
      "|PC    |itemdesc.16100302|Victory Dance - NEO's Crazy Night               |202112_kakaofriend_emote |2021-12-08 02:00:00|2022-01-06 02:00:00|\n",
      "|PC    |itemdesc.16100303|Victory Dance - TUBE's Moves                    |202112_kakaofriend_emote |2021-12-08 02:00:00|2022-01-06 02:00:00|\n",
      "|PC    |itemdesc.16100306|Victory Dance - The Magic Bomb                  |202201_themagicbomb_emote|2022-02-02 02:00:00|2022-04-27 02:00:00|\n",
      "|PC    |itemdesc.16100311|Victory Dance - Samsara by Jane Kim Choreography|202202_samsara_emote     |2022-02-23 02:00:00|2022-05-18 02:00:00|\n",
      "|PC    |itemdesc.16100323|Victory Dance - HANA                            |202204_xiajunsu_emote    |2022-04-13 02:00:00|2022-07-06 02:00:00|\n",
      "|PC    |itemdesc.16100341|Victory Dance - Roll 'n Rock                    |202207_balibandits_emote |2022-07-20 02:00:00|2022-10-12 02:00:00|\n",
      "+------+-----------------+------------------------------------------------+-------------------------+-------------------+-------------------+\n",
      "\n"
     ]
    }
   ],
   "source": [
    "collabo_emote.where((col(\"device\") == \"PC\") & (col(\"end_time\") <= current_timestamp())).orderBy(\"start_time\").show(truncate=False)"
   ]
  },
  {
   "cell_type": "code",
   "execution_count": 12,
   "metadata": {},
   "outputs": [
    {
     "name": "stdout",
     "output_type": "stream",
     "text": [
      "+-------+-----------------+------------------------------------------------+-------------------------+-------------------+-------------------+\n",
      "|device |product_id       |product_name                                    |event_name               |start_time         |end_time           |\n",
      "+-------+-----------------+------------------------------------------------+-------------------------+-------------------+-------------------+\n",
      "|CONSOLE|itemdesc.16100250|Victory Dance - LEENALCHI x JINJO CREW          |2021_emote_mar2          |2021-03-18 05:00:00|2021-06-17 05:00:00|\n",
      "|CONSOLE|itemdesc.13000312|VICTORY DANCE - 2 PHUT HON (KAIZ REMIX)         |202107_phao_emote        |2021-07-15 04:00:00|2021-10-14 03:59:59|\n",
      "|CONSOLE|itemdesc.16100303|Victory Dance - TUBE's Moves                    |202112_kakaofriend_emote |2021-12-09 04:00:00|2022-01-07 04:00:00|\n",
      "|CONSOLE|itemdesc.16100302|Victory Dance - NEO's Crazy Night               |202112_kakaofriend_emote |2021-12-09 04:00:00|2022-01-07 04:00:00|\n",
      "|CONSOLE|itemdesc.16100306|Victory Dance - The Magic Bomb                  |202201_themagicbomb_emote|2022-02-02 04:00:00|2022-04-28 04:00:00|\n",
      "|CONSOLE|itemdesc.16100311|Victory Dance - Samsara by Jane Kim Choreography|202202_samsara_emote     |2022-02-24 04:00:00|2022-05-19 04:00:00|\n",
      "|CONSOLE|itemdesc.16100323|Victory Dance - HANA                            |202204_xiajunsu_emote    |2022-04-21 04:00:00|2022-07-14 04:00:00|\n",
      "|CONSOLE|itemdesc.16100341|Victory Dance - Roll 'n Rock                    |202207_balibandits_emote |2022-07-21 04:00:00|2022-10-13 04:00:00|\n",
      "+-------+-----------------+------------------------------------------------+-------------------------+-------------------+-------------------+\n",
      "\n"
     ]
    }
   ],
   "source": [
    "collabo_emote.where((col(\"device\") == \"CONSOLE\") & (col(\"end_time\") <= current_timestamp())).orderBy(\"start_time\").show(truncate=False)"
   ]
  },
  {
   "cell_type": "code",
   "execution_count": 23,
   "metadata": {},
   "outputs": [],
   "source": [
    "pc_leenalchi = pre_load_data_mart(\"pc\", \"2021-03-13\", \"2021-06-12\", \"gcoin_use\").where(col(\"product_id\") == \"itemdesc.16100250\")\n",
    "pc_phao = load_data_mart(\"pc\", \"2021-07-07\", \"2021-10-06\", \"gcoin_use\").where(col(\"product_id\") == \"itemdesc.13000312\")\n",
    "pc_kakao_neo = load_data_mart(\"pc\", \"2021-12-08\", \"2022-01-06\", \"gcoin_use\").where(col(\"product_id\") == \"itemdesc.16100302\")\n",
    "pc_kakao_tube = load_data_mart(\"pc\", \"2021-12-08\", \"2022-01-06\", \"gcoin_use\").where(col(\"product_id\") == \"itemdesc.16100303\")\n",
    "pc_magicbomb = load_data_mart(\"pc\", \"2022-02-02\", \"2022-04-27\", \"gcoin_use\").where(col(\"product_id\") == \"itemdesc.16100306\")\n",
    "pc_samsara = load_data_mart(\"pc\", \"2022-02-23\", \"2022-05-18\", \"gcoin_use\").where(col(\"product_id\") == \"itemdesc.16100311\")\n",
    "pc_xia = load_data_mart(\"pc\", \"2022-04-13\", \"2022-07-06\", \"gcoin_use\").where(col(\"product_id\") == \"itemdesc.16100323\")\n",
    "pc_rollnrock = load_data_mart(\"pc\", \"2022-07-20\", \"2022-10-12\", \"gcoin_use\").where(col(\"product_id\") == \"itemdesc.16100341\")"
   ]
  },
  {
   "cell_type": "code",
   "execution_count": 65,
   "metadata": {},
   "outputs": [
    {
     "name": "stdout",
     "output_type": "stream",
     "text": [
      "+-------------+--------------------------+\n",
      "|sum(paid_use)|sum((free_use + paid_use))|\n",
      "+-------------+--------------------------+\n",
      "|185726960    |222378600                 |\n",
      "+-------------+--------------------------+\n",
      "\n"
     ]
    }
   ],
   "source": [
    "pc_phao.select(sum(\"paid_use\"), sum(col(\"free_use\") + col(\"paid_use\"))).show(truncate=False)"
   ]
  },
  {
   "cell_type": "code",
   "execution_count": 25,
   "metadata": {},
   "outputs": [],
   "source": [
    "pc_leenalchi = pc_leenalchi.withColumn(\"within_1month\", when(col(\"date\") < \"2021-04-13\", \"1month\").otherwise(\"over_month\"))\n",
    "pc_phao = pc_phao.withColumn(\"within_1month\", when(col(\"date\") < \"2021-08-07\", \"1month\").otherwise(\"over_month\"))\n",
    "pc_kakao_neo = pc_kakao_neo.withColumn(\"within_1month\", when(col(\"date\") < \"2022-01-08\", \"1month\").otherwise(\"over_month\"))\n",
    "pc_kakao_tube = pc_kakao_tube.withColumn(\"within_1month\", when(col(\"date\") < \"2022-01-08\", \"1month\").otherwise(\"over_month\"))\n",
    "pc_magicbomb = pc_magicbomb.withColumn(\"within_1month\", when(col(\"date\") < \"2022-03-02\", \"1month\").otherwise(\"over_month\"))\n",
    "pc_samsara = pc_samsara.withColumn(\"within_1month\", when(col(\"date\") < \"2022-03-23\", \"1month\").otherwise(\"over_month\"))\n",
    "pc_xia = pc_xia.withColumn(\"within_1month\", when(col(\"date\") < \"2022-05-13\", \"1month\").otherwise(\"over_month\"))\n",
    "pc_rollnrock = pc_rollnrock.withColumn(\"within_1month\", when(col(\"date\") < \"2022-08-20\", \"1month\").otherwise(\"over_month\"))"
   ]
  },
  {
   "cell_type": "code",
   "execution_count": 37,
   "metadata": {},
   "outputs": [],
   "source": [
    "pc_leenalchi_use = pc_leenalchi.groupBy(\"product_id\", \"within_1month\").agg(sum(\"paid_use\").alias(\"paid_use\"), sum(col(\"paid_use\") + col(\"free_use\")).alias(\"total_use\"))\n",
    "pc_phao_use = pc_phao.groupBy(\"product_id\", \"within_1month\").agg(sum(\"paid_use\").alias(\"paid_use\"), sum(col(\"paid_use\") + col(\"free_use\")).alias(\"total_use\"))\n",
    "pc_kakao_neo_use = pc_kakao_neo.groupBy(\"product_id\", \"within_1month\").agg(sum(\"paid_use\").alias(\"paid_use\"), sum(col(\"paid_use\") + col(\"free_use\")).alias(\"total_use\"))\n",
    "pc_kakao_tube_use = pc_kakao_tube.groupBy(\"product_id\", \"within_1month\").agg(sum(\"paid_use\").alias(\"paid_use\"), sum(col(\"paid_use\") + col(\"free_use\")).alias(\"total_use\"))\n",
    "pc_magicbomb_use = pc_magicbomb.groupBy(\"product_id\", \"within_1month\").agg(sum(\"paid_use\").alias(\"paid_use\"), sum(col(\"paid_use\") + col(\"free_use\")).alias(\"total_use\"))\n",
    "pc_samsara_use = pc_samsara.groupBy(\"product_id\", \"within_1month\").agg(sum(\"paid_use\").alias(\"paid_use\"), sum(col(\"paid_use\") + col(\"free_use\")).alias(\"total_use\"))\n",
    "pc_xia_use = pc_xia.groupBy(\"product_id\", \"within_1month\").agg(sum(\"paid_use\").alias(\"paid_use\"), sum(col(\"paid_use\") + col(\"free_use\")).alias(\"total_use\"))\n",
    "pc_rollnrock_use = pc_rollnrock.groupBy(\"product_id\", \"within_1month\").agg(sum(\"paid_use\").alias(\"paid_use\"), sum(col(\"paid_use\") + col(\"free_use\")).alias(\"total_use\"))"
   ]
  },
  {
   "cell_type": "code",
   "execution_count": 38,
   "metadata": {},
   "outputs": [],
   "source": [
    "pc_collabo_emote = pc_leenalchi_use.unionByName(pc_phao_use).unionByName(pc_kakao_neo_use).unionByName(pc_kakao_tube_use) \\\n",
    "    .unionByName(pc_magicbomb_use).unionByName(pc_samsara_use).unionByName(pc_xia_use).unionByName(pc_rollnrock_use) \\\n",
    "    .withColumn(\"device\", lit(\"pc\"))"
   ]
  },
  {
   "cell_type": "code",
   "execution_count": null,
   "metadata": {},
   "outputs": [],
   "source": []
  },
  {
   "cell_type": "code",
   "execution_count": 29,
   "metadata": {},
   "outputs": [],
   "source": [
    "console_leenalchi = pre_load_data_mart(\"console\", \"2021-03-18\", \"2021-06-17\", \"gcoin_use\").where(col(\"product_id\") == \"itemdesc.16100250\")\n",
    "console_phao = load_data_mart(\"console\", \"2021-07-15\", \"2021-10-14\", \"gcoin_use\").where(col(\"product_id\") == \"itemdesc.13000312\")\n",
    "console_kakao_neo = load_data_mart(\"console\", \"2021-12-09\", \"2022-01-07\", \"gcoin_use\").where(col(\"product_id\") == \"itemdesc.16100302\")\n",
    "console_kakao_tube = load_data_mart(\"console\", \"2021-12-09\", \"2022-01-07\", \"gcoin_use\").where(col(\"product_id\") == \"itemdesc.16100303\")\n",
    "console_magicbomb = load_data_mart(\"console\", \"2022-02-02\", \"2022-04-28\", \"gcoin_use\").where(col(\"product_id\") == \"itemdesc.16100306\")\n",
    "console_samsara = load_data_mart(\"console\", \"2022-02-24\", \"2022-05-19\", \"gcoin_use\").where(col(\"product_id\") == \"itemdesc.16100311\")\n",
    "console_xia = load_data_mart(\"console\", \"2022-04-21\", \"2022-07-14\", \"gcoin_use\").where(col(\"product_id\") == \"itemdesc.16100323\")\n",
    "console_rollnrock = load_data_mart(\"console\", \"2022-07-21\", \"2022-10-13\", \"gcoin_use\").where(col(\"product_id\") == \"itemdesc.16100341\")"
   ]
  },
  {
   "cell_type": "code",
   "execution_count": 31,
   "metadata": {},
   "outputs": [],
   "source": [
    "console_leenalchi = console_leenalchi.withColumn(\"within_1month\", when(col(\"date\") < \"2021-04-18\", \"1month\").otherwise(\"over_month\"))\n",
    "console_phao = console_phao.withColumn(\"within_1month\", when(col(\"date\") < \"2021-08-15\", \"1month\").otherwise(\"over_month\"))\n",
    "console_kakao_neo = console_kakao_neo.withColumn(\"within_1month\", when(col(\"date\") < \"2022-01-09\", \"1month\").otherwise(\"over_month\"))\n",
    "console_kakao_tube = console_kakao_tube.withColumn(\"within_1month\", when(col(\"date\") < \"2022-01-09\", \"1month\").otherwise(\"over_month\"))\n",
    "console_magicbomb = console_magicbomb.withColumn(\"within_1month\", when(col(\"date\") < \"2022-03-02\", \"1month\").otherwise(\"over_month\"))\n",
    "console_samsara = console_samsara.withColumn(\"within_1month\", when(col(\"date\") < \"2022-03-24\", \"1month\").otherwise(\"over_month\"))\n",
    "console_xia = console_xia.withColumn(\"within_1month\", when(col(\"date\") < \"2022-05-21\", \"1month\").otherwise(\"over_month\"))\n",
    "console_rollnrock = console_rollnrock.withColumn(\"within_1month\", when(col(\"date\") < \"2022-08-21\", \"1month\").otherwise(\"over_month\"))"
   ]
  },
  {
   "cell_type": "code",
   "execution_count": 39,
   "metadata": {},
   "outputs": [],
   "source": [
    "console_leenalchi_use = console_leenalchi.groupBy(\"product_id\", \"within_1month\").agg(sum(\"paid_use\").alias(\"paid_use\"), sum(col(\"paid_use\") + col(\"free_use\")).alias(\"total_use\"))\n",
    "console_phao_use = console_phao.groupBy(\"product_id\", \"within_1month\").agg(sum(\"paid_use\").alias(\"paid_use\"), sum(col(\"paid_use\") + col(\"free_use\")).alias(\"total_use\"))\n",
    "console_kakao_neo_use = console_kakao_neo.groupBy(\"product_id\", \"within_1month\").agg(sum(\"paid_use\").alias(\"paid_use\"), sum(col(\"paid_use\") + col(\"free_use\")).alias(\"total_use\"))\n",
    "console_kakao_tube_use = console_kakao_tube.groupBy(\"product_id\", \"within_1month\").agg(sum(\"paid_use\").alias(\"paid_use\"), sum(col(\"paid_use\") + col(\"free_use\")).alias(\"total_use\"))\n",
    "console_magicbomb_use = console_magicbomb.groupBy(\"product_id\", \"within_1month\").agg(sum(\"paid_use\").alias(\"paid_use\"), sum(col(\"paid_use\") + col(\"free_use\")).alias(\"total_use\"))\n",
    "console_samsara_use = console_samsara.groupBy(\"product_id\", \"within_1month\").agg(sum(\"paid_use\").alias(\"paid_use\"), sum(col(\"paid_use\") + col(\"free_use\")).alias(\"total_use\"))\n",
    "console_xia_use = console_xia.groupBy(\"product_id\", \"within_1month\").agg(sum(\"paid_use\").alias(\"paid_use\"), sum(col(\"paid_use\") + col(\"free_use\")).alias(\"total_use\"))\n",
    "console_rollnrock_use = console_rollnrock.groupBy(\"product_id\", \"within_1month\").agg(sum(\"paid_use\").alias(\"paid_use\"), sum(col(\"paid_use\") + col(\"free_use\")).alias(\"total_use\"))"
   ]
  },
  {
   "cell_type": "code",
   "execution_count": 50,
   "metadata": {},
   "outputs": [
    {
     "name": "stdout",
     "output_type": "stream",
     "text": [
      "+-----------------+-------------+--------+---------+\n",
      "|product_id       |within_1month|paid_use|total_use|\n",
      "+-----------------+-------------+--------+---------+\n",
      "|itemdesc.13000312|over_month   |3066380 |3607800  |\n",
      "|itemdesc.13000312|1month       |5669000 |6621000  |\n",
      "+-----------------+-------------+--------+---------+\n",
      "\n"
     ]
    }
   ],
   "source": [
    "console_phao_use.show(truncate=False)"
   ]
  },
  {
   "cell_type": "code",
   "execution_count": 40,
   "metadata": {},
   "outputs": [],
   "source": [
    "console_collabo_emote = console_leenalchi_use.unionByName(console_phao_use).unionByName(console_kakao_neo_use).unionByName(console_kakao_tube_use) \\\n",
    "    .unionByName(console_magicbomb_use).unionByName(console_samsara_use).unionByName(console_xia_use).unionByName(console_rollnrock_use) \\\n",
    "    .withColumn(\"device\", lit(\"console\"))"
   ]
  },
  {
   "cell_type": "code",
   "execution_count": null,
   "metadata": {},
   "outputs": [],
   "source": []
  },
  {
   "cell_type": "code",
   "execution_count": 58,
   "metadata": {},
   "outputs": [],
   "source": [
    "all_device_collabo_emote = pc_collabo_emote.unionByName(console_collabo_emote)"
   ]
  },
  {
   "cell_type": "code",
   "execution_count": null,
   "metadata": {},
   "outputs": [],
   "source": [
    "all_device_collabo_emote.groupBy(\"device\").agg(count(\"*\")).show(truncate=False)"
   ]
  },
  {
   "cell_type": "code",
   "execution_count": 52,
   "metadata": {},
   "outputs": [],
   "source": [
    "all_device_collabo_emote = all_device_collabo_emote.join(collabo_emote.select(\"product_id\", \"product_name\").distinct(), \"product_id\")"
   ]
  },
  {
   "cell_type": "code",
   "execution_count": 57,
   "metadata": {},
   "outputs": [
    {
     "name": "stdout",
     "output_type": "stream",
     "text": [
      "+-----------------+------------------------------------------------+\n",
      "|product_id       |product_name                                    |\n",
      "+-----------------+------------------------------------------------+\n",
      "|itemdesc.16100303|Victory Dance - TUBE's Moves                    |\n",
      "|itemdesc.16100311|Victory Dance - Samsara by Jane Kim Choreography|\n",
      "|itemdesc.16100323|Victory Dance - HANA                            |\n",
      "|itemdesc.13000627|VICTORY DANCE - BBOOM BBOOM                     |\n",
      "|itemdesc.16100346|Victory Dance - BBoom BBoom (Part 2)            |\n",
      "|itemdesc.13000711|VICTORY DANCE - EMETSOUND                       |\n",
      "|itemdesc.16100302|Victory Dance - NEO's Crazy Night               |\n",
      "|itemdesc.16100250|Victory Dance - LEENALCHI x JINJO CREW          |\n",
      "|itemdesc.16100341|Victory Dance - Roll 'n Rock                    |\n",
      "|itemdesc.16100345|Victory Dance - BBoom BBoom (Part 1)            |\n",
      "|itemdesc.13000312|VICTORY DANCE - 2 PHUT HON (KAIZ REMIX)         |\n",
      "|itemdesc.16100306|Victory Dance - The Magic Bomb                  |\n",
      "|itemdesc.16100352|Victory Dance - Hey Mama                        |\n",
      "+-----------------+------------------------------------------------+\n",
      "\n"
     ]
    }
   ],
   "source": [
    "collabo_emote.select(\"product_id\", \"product_name\").distinct().show(truncate=False)"
   ]
  },
  {
   "cell_type": "code",
   "execution_count": 61,
   "metadata": {},
   "outputs": [
    {
     "name": "stdout",
     "output_type": "stream",
     "text": [
      "root\n",
      " |-- product_id: string (nullable = true)\n",
      " |-- within_1month: string (nullable = false)\n",
      " |-- paid_use: long (nullable = true)\n",
      " |-- total_use: long (nullable = true)\n",
      " |-- device: string (nullable = false)\n",
      "\n"
     ]
    }
   ],
   "source": [
    "all_device_collabo_emote.printSchema()"
   ]
  },
  {
   "cell_type": "code",
   "execution_count": 55,
   "metadata": {},
   "outputs": [],
   "source": [
    "mysql.drop_table(\"labs\", \"all_device_collabo_emote\")"
   ]
  },
  {
   "cell_type": "code",
   "execution_count": 56,
   "metadata": {},
   "outputs": [],
   "source": [
    "mysql.insert_table(all_device_collabo_emote, \"labs\", \"all_device_collabo_emote\")"
   ]
  },
  {
   "cell_type": "code",
   "execution_count": null,
   "metadata": {},
   "outputs": [],
   "source": []
  },
  {
   "cell_type": "code",
   "execution_count": null,
   "metadata": {},
   "outputs": [],
   "source": [
    "all_device_collabo_emote_pd = all_device_collabo_emote.toPandas()"
   ]
  },
  {
   "cell_type": "code",
   "execution_count": null,
   "metadata": {},
   "outputs": [],
   "source": [
    "all_device_collabo_emote_pd"
   ]
  },
  {
   "cell_type": "code",
   "execution_count": 43,
   "metadata": {},
   "outputs": [],
   "source": [
    "all_device_collabo_emote_pd.to_csv(\"./all_device_collabo_emote.csv\", index=False)"
   ]
  }
 ],
 "metadata": {
  "kernelspec": {
   "display_name": "Python 3",
   "language": "python",
   "name": "python3"
  },
  "language_info": {
   "codemirror_mode": {
    "name": "ipython",
    "version": 3
   },
   "file_extension": ".py",
   "mimetype": "text/x-python",
   "name": "python",
   "nbconvert_exporter": "python",
   "pygments_lexer": "ipython3",
   "version": "3.6.7"
  }
 },
 "nbformat": 4,
 "nbformat_minor": 4
}
