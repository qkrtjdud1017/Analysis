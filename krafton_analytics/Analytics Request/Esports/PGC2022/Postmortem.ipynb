{
 "cells": [
  {
   "cell_type": "code",
   "execution_count": 362,
   "metadata": {},
   "outputs": [
    {
     "name": "stdout",
     "output_type": "stream",
     "text": [
      "Spark cluster not assigned. creating a new one...\n",
      "Node spec: 8 executors with 48G RAM each\n",
      "Job Port 4049 is assigned for requested cluster\n",
      "Waiting for Spark master to be available...\n",
      "Spark master launched!\n",
      "Creating new Spark session, name: west0_pgc...\n",
      "Waiting for all executors ready...\n",
      "All executors connected!\n",
      "Complete! elapsed time: 00:00:37\n"
     ]
    }
   ],
   "source": [
    "from pubg_util import mysql, load_schema, notifier\n",
    "from sphynx import sphynx, NODE_SMALL, NODE_MEDIUM, NODE_LARGE\n",
    "from pyspark.sql.functions import *\n",
    "import pandas as pd\n",
    "import pickle\n",
    "\n",
    "spark = sphynx.get_spark(executor_count=8, app_name='west0_pgc', node_spec=NODE_LARGE)"
   ]
  },
  {
   "cell_type": "code",
   "execution_count": 364,
   "metadata": {},
   "outputs": [],
   "source": [
    "start_date = \"2022-10-26\"\n",
    "end_date = \"2022-12-07\"\n",
    "pc_gcoin = load_data_mart(\"pc\", start_date, end_date, \"gcoin_use\").where(col(\"event_name\").like(\"%pgc%\"))\n",
    "console_gcoin = load_data_mart(\"console\", start_date, end_date, \"gcoin_use\").where(col(\"event_name\").like(\"%pgc%\"))"
   ]
  },
  {
   "cell_type": "code",
   "execution_count": 372,
   "metadata": {},
   "outputs": [],
   "source": [
    "pc_gcoin_by_user = pc_gcoin.groupBy(\"account_id\").agg(min(\"date\").alias(\"first_buy_date\"), min(\"time\").alias(\"first_buy_time\"), countDistinct(\"product_id\").alias(\"buy_cnt\"))"
   ]
  },
  {
   "cell_type": "code",
   "execution_count": 215,
   "metadata": {},
   "outputs": [],
   "source": [
    "pc_gcoin_by_user.groupBy(\"first_buy_date\").agg(countDistinct(\"account_id\").alias(\"user_cnt\")).orderBy(\"first_buy_date\").toPandas().to_csv(\"./user_cnt_by_first_buy_date.csv\", index=False)"
   ]
  },
  {
   "cell_type": "code",
   "execution_count": 216,
   "metadata": {},
   "outputs": [
    {
     "name": "stdout",
     "output_type": "stream",
     "text": [
      "+-------+--------------------------+\n",
      "|buy_cnt|count(DISTINCT account_id)|\n",
      "+-------+--------------------------+\n",
      "|1      |166258                    |\n",
      "|3      |276                       |\n",
      "|2      |6525                      |\n",
      "|4      |118                       |\n",
      "+-------+--------------------------+\n",
      "\n"
     ]
    }
   ],
   "source": [
    "pc_gcoin_by_user.groupBy(\"buy_cnt\").agg(countDistinct(\"account_id\")).show(truncate=False)"
   ]
  },
  {
   "cell_type": "code",
   "execution_count": 296,
   "metadata": {},
   "outputs": [],
   "source": [
    "cash = load_data_mart(\"pc\", \"2022-11-23\", \"2022-11-28\", \"cash_mtx\")"
   ]
  },
  {
   "cell_type": "code",
   "execution_count": 297,
   "metadata": {},
   "outputs": [],
   "source": [
    "double_gcoin = cash.where(col(\"event_name\") == \"202211_gcoinx2\")"
   ]
  },
  {
   "cell_type": "code",
   "execution_count": 225,
   "metadata": {},
   "outputs": [
    {
     "name": "stdout",
     "output_type": "stream",
     "text": [
      "+--------------------------+\n",
      "|count(DISTINCT account_id)|\n",
      "+--------------------------+\n",
      "|39991                     |\n",
      "+--------------------------+\n",
      "\n"
     ]
    }
   ],
   "source": [
    "double_gcoin = double_gcoin.withColumnRenamed(\"account_id\", \"cash_account_id\")\n",
    "# double gcoin 구매 이후 pgc 상품 구매한 유저\n",
    "pc_gcoin.join(double_gcoin, (pc_gcoin.account_id == double_gcoin.cash_account_id) & (pc_gcoin.time > double_gcoin.time)) \\\n",
    "    .select(countDistinct(\"account_id\")).show(truncate=False)"
   ]
  },
  {
   "cell_type": "code",
   "execution_count": 300,
   "metadata": {},
   "outputs": [],
   "source": [
    "double_gcoin = double_gcoin.withColumnRenamed(\"account_id\", \"cash_account_id\")\n",
    "double_gcoin_pgc_user = pc_gcoin_by_user.join(double_gcoin, (pc_gcoin_by_user.account_id == double_gcoin.cash_account_id) & (pc_gcoin_by_user.first_buy_time > double_gcoin.time)) \\\n",
    "    .groupBy(\"account_id\").agg(min(\"first_buy_time\").alias(\"pgc_by_time\"))"
   ]
  },
  {
   "cell_type": "code",
   "execution_count": null,
   "metadata": {},
   "outputs": [],
   "source": [
    "double_gcoin_pgc_user = pc_gcoin_by_user.join(double_gcoin, (pc_gcoin_by_user.account_id == double_gcoin.cash_account_id) & (pc_gcoin_by_user.first_buy_time > double_gcoin.time)) \\\n",
    "    .groupBy(\"account_id\").agg(min(\"first_buy_time\").alias(\"pgc_by_time\"))"
   ]
  },
  {
   "cell_type": "code",
   "execution_count": 230,
   "metadata": {},
   "outputs": [
    {
     "name": "stdout",
     "output_type": "stream",
     "text": [
      "+--------------------------+\n",
      "|count(DISTINCT account_id)|\n",
      "+--------------------------+\n",
      "|39149                     |\n",
      "+--------------------------+\n",
      "\n"
     ]
    }
   ],
   "source": [
    "# double gcoin 구매 이후 찻 pgc 상품 구매한 유저\n",
    "double_gcoin_pgc_user.select(countDistinct(\"account_id\")).show(truncate=False)"
   ]
  },
  {
   "cell_type": "code",
   "execution_count": 283,
   "metadata": {},
   "outputs": [],
   "source": [
    "pgc2021_gcoin = load_data_mart(\"pc\", \"2021-11-12\", \"2021-12-18\", \"gcoin_use\").where(col(\"event_name\").like(\"%pgc%\"))"
   ]
  },
  {
   "cell_type": "code",
   "execution_count": null,
   "metadata": {},
   "outputs": [],
   "source": []
  },
  {
   "cell_type": "code",
   "execution_count": 264,
   "metadata": {},
   "outputs": [
    {
     "name": "stdout",
     "output_type": "stream",
     "text": [
      "+-----------+--------------------------+\n",
      "|product_cnt|count(DISTINCT account_id)|\n",
      "+-----------+--------------------------+\n",
      "|1          |227963                    |\n",
      "|3          |2110                      |\n",
      "|2          |58219                     |\n",
      "|4          |117                       |\n",
      "+-----------+--------------------------+\n",
      "\n"
     ]
    }
   ],
   "source": [
    "pgc2021_gcoin.groupBy(\"account_id\").agg(countDistinct(\"product_id\").alias(\"product_cnt\")).groupBy(\"product_cnt\").agg(countDistinct(\"account_id\")).show(truncate=False)"
   ]
  },
  {
   "cell_type": "code",
   "execution_count": null,
   "metadata": {},
   "outputs": [],
   "source": []
  },
  {
   "cell_type": "code",
   "execution_count": 57,
   "metadata": {},
   "outputs": [],
   "source": [
    "pc_gcoin = pc_gcoin.withColumn(\"paid_account_id\", when(col(\"paid_use\") > 0, col(\"account_id\")).otherwise(lit(None)))\n",
    "console_gcoin = console_gcoin.withColumn(\"paid_account_id\", when(col(\"paid_use\") > 0, col(\"account_id\")).otherwise(lit(None)))"
   ]
  },
  {
   "cell_type": "code",
   "execution_count": 53,
   "metadata": {},
   "outputs": [],
   "source": [
    "# user 지역\n",
    "from pyspark.sql.types import * \n",
    "\n",
    "def classify_country(country_os, country_ip):\n",
    "    if country_os != 'CN':\n",
    "        return country_ip\n",
    "    else:\n",
    "        return country_os\n",
    "\n",
    "country_type_udf = udf(classify_country, StringType())\n",
    "\n",
    "meta_region = mysql.read_table(spark, 'metainfo', 'meta_bi_regions')\n",
    "pc_user = load_data_mart(\"pc\", end_date, end_date, \"user_master\")\n",
    "pc_user = pc_user.withColumn(\"country_new\", country_type_udf(\"country_os\", \"country_ip\"))\n",
    "pc_user = pc_user.join(meta_region, pc_user.country_new == meta_region.country_code_iso2, \"left\")\n",
    "\n",
    "\n",
    "console_user = load_data_mart(\"console\", end_date, end_date, \"user_master\")\n",
    "console_user = console_user.withColumn(\"country_new\", country_type_udf(\"country_os\", \"country_ip\"))\n",
    "console_user = console_user.join(meta_region, console_user.country_new == meta_region.country_code_iso2, \"left\")"
   ]
  },
  {
   "cell_type": "markdown",
   "metadata": {},
   "source": [
    "## PC"
   ]
  },
  {
   "cell_type": "code",
   "execution_count": 10,
   "metadata": {},
   "outputs": [
    {
     "name": "stdout",
     "output_type": "stream",
     "text": [
      "+--------+\n",
      "|pc_au   |\n",
      "+--------+\n",
      "|10680789|\n",
      "+--------+\n",
      "\n"
     ]
    }
   ],
   "source": [
    "pc_user.where((col(\"lastlogindate\") >= start_date) & (col(\"server_type\") == \"LIVE\")).select(countDistinct(\"accountid\").alias(\"pc_au\")).show(truncate=False)"
   ]
  },
  {
   "cell_type": "code",
   "execution_count": 6,
   "metadata": {},
   "outputs": [
    {
     "name": "stdout",
     "output_type": "stream",
     "text": [
      "+-------+------+---------+---------+\n",
      "|paid_pu|pu    |paid_use |total_use|\n",
      "+-------+------+---------+---------+\n",
      "|168165 |173177|735800759|870188960|\n",
      "+-------+------+---------+---------+\n",
      "\n"
     ]
    }
   ],
   "source": [
    "pc_gcoin.select(countDistinct(\"paid_account_id\").alias(\"paid_pu\"), countDistinct(\"account_id\").alias(\"pu\"), sum(\"paid_use\").alias(\"paid_use\"), sum(col(\"paid_use\") + col(\"free_use\")).alias(\"total_use\")).show(truncate=False)"
   ]
  },
  {
   "cell_type": "code",
   "execution_count": 6,
   "metadata": {},
   "outputs": [
    {
     "data": {
      "text/html": [
       "<div>\n",
       "<style scoped>\n",
       "    .dataframe tbody tr th:only-of-type {\n",
       "        vertical-align: middle;\n",
       "    }\n",
       "\n",
       "    .dataframe tbody tr th {\n",
       "        vertical-align: top;\n",
       "    }\n",
       "\n",
       "    .dataframe thead th {\n",
       "        text-align: right;\n",
       "    }\n",
       "</style>\n",
       "<table border=\"1\" class=\"dataframe\">\n",
       "  <thead>\n",
       "    <tr style=\"text-align: right;\">\n",
       "      <th></th>\n",
       "      <th>pubg_region</th>\n",
       "      <th>au</th>\n",
       "    </tr>\n",
       "  </thead>\n",
       "  <tbody>\n",
       "    <tr>\n",
       "      <th>0</th>\n",
       "      <td>CN</td>\n",
       "      <td>6859470</td>\n",
       "    </tr>\n",
       "    <tr>\n",
       "      <th>1</th>\n",
       "      <td>NA</td>\n",
       "      <td>313289</td>\n",
       "    </tr>\n",
       "    <tr>\n",
       "      <th>2</th>\n",
       "      <td>SA</td>\n",
       "      <td>326091</td>\n",
       "    </tr>\n",
       "    <tr>\n",
       "      <th>3</th>\n",
       "      <td>KR</td>\n",
       "      <td>1198589</td>\n",
       "    </tr>\n",
       "    <tr>\n",
       "      <th>4</th>\n",
       "      <td>SEA</td>\n",
       "      <td>552008</td>\n",
       "    </tr>\n",
       "    <tr>\n",
       "      <th>5</th>\n",
       "      <td>Undefined</td>\n",
       "      <td>1172</td>\n",
       "    </tr>\n",
       "    <tr>\n",
       "      <th>6</th>\n",
       "      <td>JP</td>\n",
       "      <td>34685</td>\n",
       "    </tr>\n",
       "    <tr>\n",
       "      <th>7</th>\n",
       "      <td>TW/HK</td>\n",
       "      <td>73907</td>\n",
       "    </tr>\n",
       "    <tr>\n",
       "      <th>8</th>\n",
       "      <td>CIS</td>\n",
       "      <td>958799</td>\n",
       "    </tr>\n",
       "    <tr>\n",
       "      <th>9</th>\n",
       "      <td>EMEA</td>\n",
       "      <td>946661</td>\n",
       "    </tr>\n",
       "    <tr>\n",
       "      <th>10</th>\n",
       "      <td>OC</td>\n",
       "      <td>41000</td>\n",
       "    </tr>\n",
       "  </tbody>\n",
       "</table>\n",
       "</div>"
      ],
      "text/plain": [
       "   pubg_region       au\n",
       "0           CN  6859470\n",
       "1           NA   313289\n",
       "2           SA   326091\n",
       "3           KR  1198589\n",
       "4          SEA   552008\n",
       "5    Undefined     1172\n",
       "6           JP    34685\n",
       "7        TW/HK    73907\n",
       "8          CIS   958799\n",
       "9         EMEA   946661\n",
       "10          OC    41000"
      ]
     },
     "execution_count": 6,
     "metadata": {},
     "output_type": "execute_result"
    }
   ],
   "source": [
    "pc_user.where((col(\"lastlogindate\") >= start_date) & (col(\"server_type\") == \"LIVE\")).groupBy(\"pubg_region\").agg(countDistinct(\"accountid\").alias(\"au\")).toPandas()"
   ]
  },
  {
   "cell_type": "code",
   "execution_count": 58,
   "metadata": {},
   "outputs": [
    {
     "data": {
      "text/html": [
       "<div>\n",
       "<style scoped>\n",
       "    .dataframe tbody tr th:only-of-type {\n",
       "        vertical-align: middle;\n",
       "    }\n",
       "\n",
       "    .dataframe tbody tr th {\n",
       "        vertical-align: top;\n",
       "    }\n",
       "\n",
       "    .dataframe thead th {\n",
       "        text-align: right;\n",
       "    }\n",
       "</style>\n",
       "<table border=\"1\" class=\"dataframe\">\n",
       "  <thead>\n",
       "    <tr style=\"text-align: right;\">\n",
       "      <th></th>\n",
       "      <th>pubg_region</th>\n",
       "      <th>paid_pu</th>\n",
       "      <th>pu</th>\n",
       "      <th>paid_use</th>\n",
       "      <th>total_use</th>\n",
       "    </tr>\n",
       "  </thead>\n",
       "  <tbody>\n",
       "    <tr>\n",
       "      <th>0</th>\n",
       "      <td>CN</td>\n",
       "      <td>128611</td>\n",
       "      <td>131552</td>\n",
       "      <td>565253970</td>\n",
       "      <td>667682590</td>\n",
       "    </tr>\n",
       "    <tr>\n",
       "      <th>1</th>\n",
       "      <td>NA</td>\n",
       "      <td>3019</td>\n",
       "      <td>3205</td>\n",
       "      <td>12537730</td>\n",
       "      <td>14919500</td>\n",
       "    </tr>\n",
       "    <tr>\n",
       "      <th>2</th>\n",
       "      <td>SA</td>\n",
       "      <td>1345</td>\n",
       "      <td>1666</td>\n",
       "      <td>5056230</td>\n",
       "      <td>7419400</td>\n",
       "    </tr>\n",
       "    <tr>\n",
       "      <th>3</th>\n",
       "      <td>KR</td>\n",
       "      <td>18004</td>\n",
       "      <td>18511</td>\n",
       "      <td>81865160</td>\n",
       "      <td>93291330</td>\n",
       "    </tr>\n",
       "    <tr>\n",
       "      <th>4</th>\n",
       "      <td>SEA</td>\n",
       "      <td>3945</td>\n",
       "      <td>4083</td>\n",
       "      <td>16486640</td>\n",
       "      <td>20406370</td>\n",
       "    </tr>\n",
       "    <tr>\n",
       "      <th>5</th>\n",
       "      <td>JP</td>\n",
       "      <td>347</td>\n",
       "      <td>363</td>\n",
       "      <td>1525720</td>\n",
       "      <td>1780690</td>\n",
       "    </tr>\n",
       "    <tr>\n",
       "      <th>6</th>\n",
       "      <td>TW/HK</td>\n",
       "      <td>1212</td>\n",
       "      <td>1258</td>\n",
       "      <td>5531790</td>\n",
       "      <td>6427770</td>\n",
       "    </tr>\n",
       "    <tr>\n",
       "      <th>7</th>\n",
       "      <td>CIS</td>\n",
       "      <td>4402</td>\n",
       "      <td>4624</td>\n",
       "      <td>17815329</td>\n",
       "      <td>21759760</td>\n",
       "    </tr>\n",
       "    <tr>\n",
       "      <th>8</th>\n",
       "      <td>EMEA</td>\n",
       "      <td>6631</td>\n",
       "      <td>7246</td>\n",
       "      <td>26974760</td>\n",
       "      <td>33330830</td>\n",
       "    </tr>\n",
       "    <tr>\n",
       "      <th>9</th>\n",
       "      <td>OC</td>\n",
       "      <td>649</td>\n",
       "      <td>669</td>\n",
       "      <td>2753430</td>\n",
       "      <td>3170720</td>\n",
       "    </tr>\n",
       "  </tbody>\n",
       "</table>\n",
       "</div>"
      ],
      "text/plain": [
       "  pubg_region  paid_pu      pu   paid_use  total_use\n",
       "0          CN   128611  131552  565253970  667682590\n",
       "1          NA     3019    3205   12537730   14919500\n",
       "2          SA     1345    1666    5056230    7419400\n",
       "3          KR    18004   18511   81865160   93291330\n",
       "4         SEA     3945    4083   16486640   20406370\n",
       "5          JP      347     363    1525720    1780690\n",
       "6       TW/HK     1212    1258    5531790    6427770\n",
       "7         CIS     4402    4624   17815329   21759760\n",
       "8        EMEA     6631    7246   26974760   33330830\n",
       "9          OC      649     669    2753430    3170720"
      ]
     },
     "execution_count": 58,
     "metadata": {},
     "output_type": "execute_result"
    }
   ],
   "source": [
    "pc_gcoin.join(pc_user.select(\"accountid\", \"pubg_region\").withColumnRenamed(\"accountid\", \"account_id\"), \"account_id\", \"left\").groupBy(\"pubg_region\").agg(countDistinct(\"paid_account_id\").alias(\"paid_pu\"), countDistinct(\"account_id\").alias(\"pu\"), sum(\"paid_use\").alias(\"paid_use\"), sum(col(\"paid_use\") + col(\"free_use\")).alias(\"total_use\")).toPandas()"
   ]
  },
  {
   "cell_type": "code",
   "execution_count": 59,
   "metadata": {},
   "outputs": [
    {
     "data": {
      "text/html": [
       "<div>\n",
       "<style scoped>\n",
       "    .dataframe tbody tr th:only-of-type {\n",
       "        vertical-align: middle;\n",
       "    }\n",
       "\n",
       "    .dataframe tbody tr th {\n",
       "        vertical-align: top;\n",
       "    }\n",
       "\n",
       "    .dataframe thead th {\n",
       "        text-align: right;\n",
       "    }\n",
       "</style>\n",
       "<table border=\"1\" class=\"dataframe\">\n",
       "  <thead>\n",
       "    <tr style=\"text-align: right;\">\n",
       "      <th></th>\n",
       "      <th>product_id</th>\n",
       "      <th>product_name</th>\n",
       "      <th>unit_sold</th>\n",
       "      <th>paid_use</th>\n",
       "      <th>total_use</th>\n",
       "    </tr>\n",
       "  </thead>\n",
       "  <tbody>\n",
       "    <tr>\n",
       "      <th>0</th>\n",
       "      <td>itemdesc.13000673</td>\n",
       "      <td>PGC 2022 MEGA BUNDLE + VOTING COUPON</td>\n",
       "      <td>115289</td>\n",
       "      <td>586016579</td>\n",
       "      <td>680205100</td>\n",
       "    </tr>\n",
       "    <tr>\n",
       "      <th>1</th>\n",
       "      <td>itemdesc.13000670</td>\n",
       "      <td>PGC 2022 IRIDESCENT DANGER BUNDLE + VOTING COUPON</td>\n",
       "      <td>21092</td>\n",
       "      <td>53987480</td>\n",
       "      <td>67494400</td>\n",
       "    </tr>\n",
       "    <tr>\n",
       "      <th>2</th>\n",
       "      <td>itemdesc.13000671</td>\n",
       "      <td>PGC 2022 TAC-TECH BUNDLE + VOTING COUPON</td>\n",
       "      <td>35613</td>\n",
       "      <td>90462660</td>\n",
       "      <td>113961600</td>\n",
       "    </tr>\n",
       "    <tr>\n",
       "      <th>3</th>\n",
       "      <td>itemdesc.13000672</td>\n",
       "      <td>PGC 2022 EMOTE SET</td>\n",
       "      <td>8614</td>\n",
       "      <td>5334040</td>\n",
       "      <td>8527860</td>\n",
       "    </tr>\n",
       "  </tbody>\n",
       "</table>\n",
       "</div>"
      ],
      "text/plain": [
       "          product_id                                       product_name  \\\n",
       "0  itemdesc.13000673               PGC 2022 MEGA BUNDLE + VOTING COUPON   \n",
       "1  itemdesc.13000670  PGC 2022 IRIDESCENT DANGER BUNDLE + VOTING COUPON   \n",
       "2  itemdesc.13000671           PGC 2022 TAC-TECH BUNDLE + VOTING COUPON   \n",
       "3  itemdesc.13000672                                 PGC 2022 EMOTE SET   \n",
       "\n",
       "   unit_sold   paid_use  total_use  \n",
       "0     115289  586016579  680205100  \n",
       "1      21092   53987480   67494400  \n",
       "2      35613   90462660  113961600  \n",
       "3       8614    5334040    8527860  "
      ]
     },
     "execution_count": 59,
     "metadata": {},
     "output_type": "execute_result"
    }
   ],
   "source": [
    "pc_gcoin.groupBy(\"product_id\", \"product_name\").agg(sum(\"qty\").alias(\"unit_sold\"), sum(\"paid_use\").alias(\"paid_use\"), sum(col(\"paid_use\") + col(\"free_use\")).alias(\"total_use\")).toPandas()"
   ]
  },
  {
   "cell_type": "markdown",
   "metadata": {},
   "source": [
    "### pgc 2021 vs pgc 2022 유저당 상품 구매 갯수"
   ]
  },
  {
   "cell_type": "code",
   "execution_count": 289,
   "metadata": {},
   "outputs": [],
   "source": [
    "pgc2021_gcoin.groupBy(\"account_id\").agg(collect_set(\"product_name\").alias(\"products\")).groupBy(\"products\").agg(count(\"*\").alias(\"user_cnt\")).orderBy(\"user_cnt\", ascending=False).toPandas() \\\n",
    "    .to_csv(\"./pgc2021_products_by_user.csv\", index=False)"
   ]
  },
  {
   "cell_type": "code",
   "execution_count": 290,
   "metadata": {},
   "outputs": [],
   "source": [
    "pc_gcoin.groupBy(\"account_id\").agg(collect_set(\"product_name\").alias(\"products\")).groupBy(\"products\").agg(count(\"*\").alias(\"user_cnt\")).orderBy(\"user_cnt\", ascending=False).toPandas() \\\n",
    "    .to_csv(\"./pgc2022_products_by_user.csv\", index=False)"
   ]
  },
  {
   "cell_type": "code",
   "execution_count": 284,
   "metadata": {},
   "outputs": [],
   "source": [
    "pgc2021_by_user = pgc2021_gcoin.groupBy(\"account_id\").agg(countDistinct(\"product_name\").alias(\"cnt\"), sum(\"paid_use\").alias(\"paid_use\"), sum(col(\"paid_use\") + col(\"free_use\")).alias(\"total_use\"))\n",
    "pgc2022_by_user = pc_gcoin.groupBy(\"account_id\").agg(count(\"*\").alias(\"cnt\"), sum(\"paid_use\").alias(\"paid_use\"), sum(col(\"paid_use\") + col(\"free_use\")).alias(\"total_use\"))"
   ]
  },
  {
   "cell_type": "code",
   "execution_count": 91,
   "metadata": {},
   "outputs": [
    {
     "data": {
      "text/html": [
       "<div>\n",
       "<style scoped>\n",
       "    .dataframe tbody tr th:only-of-type {\n",
       "        vertical-align: middle;\n",
       "    }\n",
       "\n",
       "    .dataframe tbody tr th {\n",
       "        vertical-align: top;\n",
       "    }\n",
       "\n",
       "    .dataframe thead th {\n",
       "        text-align: right;\n",
       "    }\n",
       "</style>\n",
       "<table border=\"1\" class=\"dataframe\">\n",
       "  <thead>\n",
       "    <tr style=\"text-align: right;\">\n",
       "      <th></th>\n",
       "      <th>cnt</th>\n",
       "      <th>user_cnt</th>\n",
       "      <th>total_use</th>\n",
       "      <th>arppu</th>\n",
       "    </tr>\n",
       "  </thead>\n",
       "  <tbody>\n",
       "    <tr>\n",
       "      <th>0</th>\n",
       "      <td>1</td>\n",
       "      <td>227963</td>\n",
       "      <td>980367960</td>\n",
       "      <td>4300.557371</td>\n",
       "    </tr>\n",
       "    <tr>\n",
       "      <th>1</th>\n",
       "      <td>2</td>\n",
       "      <td>58219</td>\n",
       "      <td>339902680</td>\n",
       "      <td>5838.346244</td>\n",
       "    </tr>\n",
       "    <tr>\n",
       "      <th>2</th>\n",
       "      <td>3</td>\n",
       "      <td>2110</td>\n",
       "      <td>15853780</td>\n",
       "      <td>7513.639810</td>\n",
       "    </tr>\n",
       "    <tr>\n",
       "      <th>3</th>\n",
       "      <td>4</td>\n",
       "      <td>117</td>\n",
       "      <td>1495260</td>\n",
       "      <td>12780.000000</td>\n",
       "    </tr>\n",
       "  </tbody>\n",
       "</table>\n",
       "</div>"
      ],
      "text/plain": [
       "   cnt  user_cnt  total_use         arppu\n",
       "0    1    227963  980367960   4300.557371\n",
       "1    2     58219  339902680   5838.346244\n",
       "2    3      2110   15853780   7513.639810\n",
       "3    4       117    1495260  12780.000000"
      ]
     },
     "execution_count": 91,
     "metadata": {},
     "output_type": "execute_result"
    }
   ],
   "source": [
    "pgc2021_by_user.groupBy(\"cnt\").agg(countDistinct(\"account_id\").alias(\"user_cnt\"), sum(\"total_use\").alias(\"total_use\")).withColumn(\"arppu\", col(\"total_use\")/col(\"user_cnt\")).orderBy(\"cnt\").toPandas()"
   ]
  },
  {
   "cell_type": "code",
   "execution_count": 285,
   "metadata": {},
   "outputs": [
    {
     "name": "stdout",
     "output_type": "stream",
     "text": [
      "+--------------------------------------------------------------------------------------------------------------------+--------+\n",
      "|products                                                                                                            |user_cnt|\n",
      "+--------------------------------------------------------------------------------------------------------------------+--------+\n",
      "|[PGC 2021 CONTINGENT CHAOS JACKET BUNDLE + VOTING COUPONS, PGC 2021 MEGA BUNDLE + VOTING COUPONS]                   |165     |\n",
      "|[PGC 2021 MEGA BUNDLE + VOTING COUPONS, PGC 2021 CONTINGENT CHAOS DUSTER BUNDLE + VOTING COUPONS]                   |291     |\n",
      "|[PGC 2021 CONTINGENT CHAOS JACKET BUNDLE + VOTING COUPONS, PGC 2021 DANCE SPLASH EMOTE + VOTING COUPON BUNDLE]      |4113    |\n",
      "|[PGC 2021 CONTINGENT CHAOS JACKET BUNDLE + VOTING COUPONS, PGC 2021 CONTINGENT CHAOS DUSTER BUNDLE + VOTING COUPONS]|4308    |\n",
      "|[PGC 2021 DANCE SPLASH EMOTE + VOTING COUPON BUNDLE, PGC 2021 CONTINGENT CHAOS DUSTER BUNDLE + VOTING COUPONS]      |8821    |\n",
      "|[PGC 2021 DANCE SPLASH EMOTE + VOTING COUPON BUNDLE, PGC 2021 MEGA BUNDLE + VOTING COUPONS]                         |40521   |\n",
      "+--------------------------------------------------------------------------------------------------------------------+--------+\n",
      "\n"
     ]
    }
   ],
   "source": [
    "purchase_2 = pgc2021_gcoin.join(pgc2021_by_user.where(col(\"cnt\") == 2).select(\"account_id\"), \"account_id\").groupBy(\"account_id\").agg(collect_set('product_name').alias(\"products\"))\n",
    "purchase_2.groupBy(\"products\").agg(count(\"*\").alias(\"user_cnt\")).orderBy(\"user_cnt\").show(truncate=False)"
   ]
  },
  {
   "cell_type": "code",
   "execution_count": 89,
   "metadata": {},
   "outputs": [],
   "source": [
    "purchase_3 = pgc2021_gcoin.join(pgc2021_by_user.where(col(\"cnt\") == 3).select(\"account_id\"), \"account_id\").groupBy(\"account_id\").agg(collect_set('product_name').alias(\"products\"))"
   ]
  },
  {
   "cell_type": "code",
   "execution_count": 90,
   "metadata": {},
   "outputs": [
    {
     "name": "stdout",
     "output_type": "stream",
     "text": [
      "+------------------------------------------------------------------------------------------------------------------------------------------------------------------------+--------+\n",
      "|products                                                                                                                                                                |user_cnt|\n",
      "+------------------------------------------------------------------------------------------------------------------------------------------------------------------------+--------+\n",
      "|[PGC 2021 CONTINGENT CHAOS JACKET BUNDLE + VOTING COUPONS, PGC 2021 MEGA BUNDLE + VOTING COUPONS, PGC 2021 CONTINGENT CHAOS DUSTER BUNDLE + VOTING COUPONS]             |24      |\n",
      "|[PGC 2021 CONTINGENT CHAOS JACKET BUNDLE + VOTING COUPONS, PGC 2021 DANCE SPLASH EMOTE + VOTING COUPON BUNDLE, PGC 2021 MEGA BUNDLE + VOTING COUPONS]                   |187     |\n",
      "|[PGC 2021 DANCE SPLASH EMOTE + VOTING COUPON BUNDLE, PGC 2021 MEGA BUNDLE + VOTING COUPONS, PGC 2021 CONTINGENT CHAOS DUSTER BUNDLE + VOTING COUPONS]                   |279     |\n",
      "|[PGC 2021 CONTINGENT CHAOS JACKET BUNDLE + VOTING COUPONS, PGC 2021 DANCE SPLASH EMOTE + VOTING COUPON BUNDLE, PGC 2021 CONTINGENT CHAOS DUSTER BUNDLE + VOTING COUPONS]|1620    |\n",
      "+------------------------------------------------------------------------------------------------------------------------------------------------------------------------+--------+\n",
      "\n"
     ]
    }
   ],
   "source": [
    "purchase_3.groupBy(\"products\").agg(count(\"*\").alias(\"user_cnt\")).orderBy(\"user_cnt\").show(truncate=False)"
   ]
  },
  {
   "cell_type": "code",
   "execution_count": 77,
   "metadata": {},
   "outputs": [
    {
     "data": {
      "text/html": [
       "<div>\n",
       "<style scoped>\n",
       "    .dataframe tbody tr th:only-of-type {\n",
       "        vertical-align: middle;\n",
       "    }\n",
       "\n",
       "    .dataframe tbody tr th {\n",
       "        vertical-align: top;\n",
       "    }\n",
       "\n",
       "    .dataframe thead th {\n",
       "        text-align: right;\n",
       "    }\n",
       "</style>\n",
       "<table border=\"1\" class=\"dataframe\">\n",
       "  <thead>\n",
       "    <tr style=\"text-align: right;\">\n",
       "      <th></th>\n",
       "      <th>cnt</th>\n",
       "      <th>user_cnt</th>\n",
       "      <th>total_use</th>\n",
       "      <th>arppu</th>\n",
       "    </tr>\n",
       "  </thead>\n",
       "  <tbody>\n",
       "    <tr>\n",
       "      <th>0</th>\n",
       "      <td>1</td>\n",
       "      <td>166258</td>\n",
       "      <td>820477980</td>\n",
       "      <td>4934.968423</td>\n",
       "    </tr>\n",
       "    <tr>\n",
       "      <th>1</th>\n",
       "      <td>2</td>\n",
       "      <td>6525</td>\n",
       "      <td>45214720</td>\n",
       "      <td>6929.459004</td>\n",
       "    </tr>\n",
       "    <tr>\n",
       "      <th>2</th>\n",
       "      <td>3</td>\n",
       "      <td>276</td>\n",
       "      <td>2928040</td>\n",
       "      <td>10608.840580</td>\n",
       "    </tr>\n",
       "    <tr>\n",
       "      <th>3</th>\n",
       "      <td>4</td>\n",
       "      <td>118</td>\n",
       "      <td>1568220</td>\n",
       "      <td>13290.000000</td>\n",
       "    </tr>\n",
       "  </tbody>\n",
       "</table>\n",
       "</div>"
      ],
      "text/plain": [
       "   cnt  user_cnt  total_use         arppu\n",
       "0    1    166258  820477980   4934.968423\n",
       "1    2      6525   45214720   6929.459004\n",
       "2    3       276    2928040  10608.840580\n",
       "3    4       118    1568220  13290.000000"
      ]
     },
     "execution_count": 77,
     "metadata": {},
     "output_type": "execute_result"
    }
   ],
   "source": [
    "pgc2022_by_user.groupBy(\"cnt\").agg(countDistinct(\"account_id\").alias(\"user_cnt\"), sum(\"total_use\").alias(\"total_use\")).withColumn(\"arppu\", col(\"total_use\")/col(\"user_cnt\")).orderBy(\"cnt\").toPandas()"
   ]
  },
  {
   "cell_type": "code",
   "execution_count": 85,
   "metadata": {},
   "outputs": [
    {
     "name": "stdout",
     "output_type": "stream",
     "text": [
      "+-----------------------------------------------------------------------------------------------------------------------------------+--------+\n",
      "|products                                                                                                                           |user_cnt|\n",
      "+-----------------------------------------------------------------------------------------------------------------------------------+--------+\n",
      "|[PGC 2022 IRIDESCENT DANGER BUNDLE + VOTING COUPON, PGC 2022 TAC-TECH BUNDLE + VOTING COUPON, PGC 2022 EMOTE SET]                  |37      |\n",
      "|[PGC 2022 IRIDESCENT DANGER BUNDLE + VOTING COUPON, PGC 2022 MEGA BUNDLE + VOTING COUPON, PGC 2022 EMOTE SET]                      |40      |\n",
      "|[PGC 2022 MEGA BUNDLE + VOTING COUPON, PGC 2022 TAC-TECH BUNDLE + VOTING COUPON, PGC 2022 EMOTE SET]                               |89      |\n",
      "|[PGC 2022 IRIDESCENT DANGER BUNDLE + VOTING COUPON, PGC 2022 MEGA BUNDLE + VOTING COUPON, PGC 2022 TAC-TECH BUNDLE + VOTING COUPON]|110     |\n",
      "+-----------------------------------------------------------------------------------------------------------------------------------+--------+\n",
      "\n"
     ]
    }
   ],
   "source": [
    "purchase_3_2022 = pc_gcoin.join(pgc2022_by_user.where(col(\"cnt\") == 3).select(\"account_id\"), \"account_id\").groupBy(\"account_id\").agg(collect_set('product_name').alias(\"products\"))\n",
    "purchase_3_2022.groupBy(\"products\").agg(count(\"*\").alias(\"user_cnt\")).orderBy(\"user_cnt\").show(truncate=False)"
   ]
  },
  {
   "cell_type": "markdown",
   "metadata": {},
   "source": [
    "## Console"
   ]
  },
  {
   "cell_type": "code",
   "execution_count": 23,
   "metadata": {},
   "outputs": [
    {
     "name": "stdout",
     "output_type": "stream",
     "text": [
      "+----------+\n",
      "|console_au|\n",
      "+----------+\n",
      "|1652826   |\n",
      "+----------+\n",
      "\n"
     ]
    }
   ],
   "source": [
    "console_user.where((col(\"lastlogindate\") >= start_date) & (col(\"server_type\") == \"LIVE\")).select(countDistinct(\"accountid\").alias(\"console_au\")).show(truncate=False)"
   ]
  },
  {
   "cell_type": "code",
   "execution_count": 7,
   "metadata": {},
   "outputs": [
    {
     "name": "stdout",
     "output_type": "stream",
     "text": [
      "+-------+-----+--------+---------+\n",
      "|paid_pu|pu   |paid_use|total_use|\n",
      "+-------+-----+--------+---------+\n",
      "|13451  |17943|39248660|50331480 |\n",
      "+-------+-----+--------+---------+\n",
      "\n"
     ]
    }
   ],
   "source": [
    "console_gcoin.select(countDistinct(\"paid_account_id\").alias(\"paid_pu\"), countDistinct(\"account_id\").alias(\"pu\"), sum(\"paid_use\").alias(\"paid_use\"), sum(col(\"paid_use\") + col(\"free_use\")).alias(\"total_use\")).show(truncate=False)"
   ]
  },
  {
   "cell_type": "code",
   "execution_count": 7,
   "metadata": {},
   "outputs": [
    {
     "data": {
      "text/html": [
       "<div>\n",
       "<style scoped>\n",
       "    .dataframe tbody tr th:only-of-type {\n",
       "        vertical-align: middle;\n",
       "    }\n",
       "\n",
       "    .dataframe tbody tr th {\n",
       "        vertical-align: top;\n",
       "    }\n",
       "\n",
       "    .dataframe thead th {\n",
       "        text-align: right;\n",
       "    }\n",
       "</style>\n",
       "<table border=\"1\" class=\"dataframe\">\n",
       "  <thead>\n",
       "    <tr style=\"text-align: right;\">\n",
       "      <th></th>\n",
       "      <th>pubg_region</th>\n",
       "      <th>au</th>\n",
       "    </tr>\n",
       "  </thead>\n",
       "  <tbody>\n",
       "    <tr>\n",
       "      <th>0</th>\n",
       "      <td>CN</td>\n",
       "      <td>23610</td>\n",
       "    </tr>\n",
       "    <tr>\n",
       "      <th>1</th>\n",
       "      <td>NA</td>\n",
       "      <td>709023</td>\n",
       "    </tr>\n",
       "    <tr>\n",
       "      <th>2</th>\n",
       "      <td>SA</td>\n",
       "      <td>300261</td>\n",
       "    </tr>\n",
       "    <tr>\n",
       "      <th>3</th>\n",
       "      <td>KR</td>\n",
       "      <td>7359</td>\n",
       "    </tr>\n",
       "    <tr>\n",
       "      <th>4</th>\n",
       "      <td>SEA</td>\n",
       "      <td>33484</td>\n",
       "    </tr>\n",
       "    <tr>\n",
       "      <th>5</th>\n",
       "      <td>Undefined</td>\n",
       "      <td>435</td>\n",
       "    </tr>\n",
       "    <tr>\n",
       "      <th>6</th>\n",
       "      <td>JP</td>\n",
       "      <td>23396</td>\n",
       "    </tr>\n",
       "    <tr>\n",
       "      <th>7</th>\n",
       "      <td>TW/HK</td>\n",
       "      <td>5767</td>\n",
       "    </tr>\n",
       "    <tr>\n",
       "      <th>8</th>\n",
       "      <td>CIS</td>\n",
       "      <td>75168</td>\n",
       "    </tr>\n",
       "    <tr>\n",
       "      <th>9</th>\n",
       "      <td>EMEA</td>\n",
       "      <td>438700</td>\n",
       "    </tr>\n",
       "    <tr>\n",
       "      <th>10</th>\n",
       "      <td>OC</td>\n",
       "      <td>35623</td>\n",
       "    </tr>\n",
       "  </tbody>\n",
       "</table>\n",
       "</div>"
      ],
      "text/plain": [
       "   pubg_region      au\n",
       "0           CN   23610\n",
       "1           NA  709023\n",
       "2           SA  300261\n",
       "3           KR    7359\n",
       "4          SEA   33484\n",
       "5    Undefined     435\n",
       "6           JP   23396\n",
       "7        TW/HK    5767\n",
       "8          CIS   75168\n",
       "9         EMEA  438700\n",
       "10          OC   35623"
      ]
     },
     "execution_count": 7,
     "metadata": {},
     "output_type": "execute_result"
    }
   ],
   "source": [
    "console_user.where((col(\"lastlogindate\") >= start_date) & (col(\"server_type\") == \"LIVE\")).groupBy(\"pubg_region\").agg(countDistinct(\"accountid\").alias(\"au\")).toPandas()"
   ]
  },
  {
   "cell_type": "code",
   "execution_count": 24,
   "metadata": {},
   "outputs": [
    {
     "data": {
      "text/html": [
       "<div>\n",
       "<style scoped>\n",
       "    .dataframe tbody tr th:only-of-type {\n",
       "        vertical-align: middle;\n",
       "    }\n",
       "\n",
       "    .dataframe tbody tr th {\n",
       "        vertical-align: top;\n",
       "    }\n",
       "\n",
       "    .dataframe thead th {\n",
       "        text-align: right;\n",
       "    }\n",
       "</style>\n",
       "<table border=\"1\" class=\"dataframe\">\n",
       "  <thead>\n",
       "    <tr style=\"text-align: right;\">\n",
       "      <th></th>\n",
       "      <th>pubg_region</th>\n",
       "      <th>paid_pu</th>\n",
       "      <th>pu</th>\n",
       "      <th>paid_use</th>\n",
       "      <th>total_use</th>\n",
       "    </tr>\n",
       "  </thead>\n",
       "  <tbody>\n",
       "    <tr>\n",
       "      <th>0</th>\n",
       "      <td>CN</td>\n",
       "      <td>102</td>\n",
       "      <td>163</td>\n",
       "      <td>359730</td>\n",
       "      <td>459810</td>\n",
       "    </tr>\n",
       "    <tr>\n",
       "      <th>1</th>\n",
       "      <td>NA</td>\n",
       "      <td>8549</td>\n",
       "      <td>10727</td>\n",
       "      <td>25216410</td>\n",
       "      <td>31314420</td>\n",
       "    </tr>\n",
       "    <tr>\n",
       "      <th>2</th>\n",
       "      <td>SA</td>\n",
       "      <td>1304</td>\n",
       "      <td>1992</td>\n",
       "      <td>3596110</td>\n",
       "      <td>4910020</td>\n",
       "    </tr>\n",
       "    <tr>\n",
       "      <th>3</th>\n",
       "      <td>KR</td>\n",
       "      <td>82</td>\n",
       "      <td>100</td>\n",
       "      <td>271860</td>\n",
       "      <td>345630</td>\n",
       "    </tr>\n",
       "    <tr>\n",
       "      <th>4</th>\n",
       "      <td>SEA</td>\n",
       "      <td>84</td>\n",
       "      <td>121</td>\n",
       "      <td>221780</td>\n",
       "      <td>307510</td>\n",
       "    </tr>\n",
       "    <tr>\n",
       "      <th>5</th>\n",
       "      <td>JP</td>\n",
       "      <td>376</td>\n",
       "      <td>445</td>\n",
       "      <td>1107860</td>\n",
       "      <td>1353870</td>\n",
       "    </tr>\n",
       "    <tr>\n",
       "      <th>6</th>\n",
       "      <td>TW/HK</td>\n",
       "      <td>76</td>\n",
       "      <td>92</td>\n",
       "      <td>276430</td>\n",
       "      <td>330850</td>\n",
       "    </tr>\n",
       "    <tr>\n",
       "      <th>7</th>\n",
       "      <td>CIS</td>\n",
       "      <td>130</td>\n",
       "      <td>437</td>\n",
       "      <td>433010</td>\n",
       "      <td>1376850</td>\n",
       "    </tr>\n",
       "    <tr>\n",
       "      <th>8</th>\n",
       "      <td>EMEA</td>\n",
       "      <td>2290</td>\n",
       "      <td>3270</td>\n",
       "      <td>6417260</td>\n",
       "      <td>8282990</td>\n",
       "    </tr>\n",
       "    <tr>\n",
       "      <th>9</th>\n",
       "      <td>OC</td>\n",
       "      <td>458</td>\n",
       "      <td>596</td>\n",
       "      <td>1348210</td>\n",
       "      <td>1649530</td>\n",
       "    </tr>\n",
       "  </tbody>\n",
       "</table>\n",
       "</div>"
      ],
      "text/plain": [
       "  pubg_region  paid_pu     pu  paid_use  total_use\n",
       "0          CN      102    163    359730     459810\n",
       "1          NA     8549  10727  25216410   31314420\n",
       "2          SA     1304   1992   3596110    4910020\n",
       "3          KR       82    100    271860     345630\n",
       "4         SEA       84    121    221780     307510\n",
       "5          JP      376    445   1107860    1353870\n",
       "6       TW/HK       76     92    276430     330850\n",
       "7         CIS      130    437    433010    1376850\n",
       "8        EMEA     2290   3270   6417260    8282990\n",
       "9          OC      458    596   1348210    1649530"
      ]
     },
     "execution_count": 24,
     "metadata": {},
     "output_type": "execute_result"
    },
    {
     "name": "stderr",
     "output_type": "stream",
     "text": [
      "----------------------------------------\n",
      "Exception happened during processing of request from ('127.0.0.1', 47216)\n",
      "Traceback (most recent call last):\n",
      "  File \"/opt/conda/lib/python3.6/socketserver.py\", line 317, in _handle_request_noblock\n",
      "    self.process_request(request, client_address)\n",
      "  File \"/opt/conda/lib/python3.6/socketserver.py\", line 348, in process_request\n",
      "    self.finish_request(request, client_address)\n",
      "  File \"/opt/conda/lib/python3.6/socketserver.py\", line 361, in finish_request\n",
      "    self.RequestHandlerClass(request, client_address, self)\n",
      "  File \"/opt/conda/lib/python3.6/socketserver.py\", line 721, in __init__\n",
      "    self.handle()\n",
      "  File \"/usr/local/spark/python/pyspark/accumulators.py\", line 269, in handle\n",
      "    poll(accum_updates)\n",
      "  File \"/usr/local/spark/python/pyspark/accumulators.py\", line 241, in poll\n",
      "    if func():\n",
      "  File \"/usr/local/spark/python/pyspark/accumulators.py\", line 245, in accum_updates\n",
      "    num_updates = read_int(self.rfile)\n",
      "  File \"/usr/local/spark/python/pyspark/serializers.py\", line 717, in read_int\n",
      "    raise EOFError\n",
      "EOFError\n",
      "----------------------------------------\n"
     ]
    }
   ],
   "source": [
    "console_gcoin.join(console_user.select(\"accountid\", \"pubg_region\").withColumnRenamed(\"accountid\", \"account_id\"), \"account_id\").groupBy(\"pubg_region\").agg(countDistinct(\"paid_account_id\").alias(\"paid_pu\"), countDistinct(\"account_id\").alias(\"pu\"), sum(\"paid_use\").alias(\"paid_use\"), sum(col(\"paid_use\") + col(\"free_use\")).alias(\"total_use\")).toPandas()"
   ]
  },
  {
   "cell_type": "code",
   "execution_count": 63,
   "metadata": {},
   "outputs": [
    {
     "data": {
      "text/html": [
       "<div>\n",
       "<style scoped>\n",
       "    .dataframe tbody tr th:only-of-type {\n",
       "        vertical-align: middle;\n",
       "    }\n",
       "\n",
       "    .dataframe tbody tr th {\n",
       "        vertical-align: top;\n",
       "    }\n",
       "\n",
       "    .dataframe thead th {\n",
       "        text-align: right;\n",
       "    }\n",
       "</style>\n",
       "<table border=\"1\" class=\"dataframe\">\n",
       "  <thead>\n",
       "    <tr style=\"text-align: right;\">\n",
       "      <th></th>\n",
       "      <th>product_id</th>\n",
       "      <th>product_name</th>\n",
       "      <th>unit_sold</th>\n",
       "      <th>paid_use</th>\n",
       "      <th>total_use</th>\n",
       "    </tr>\n",
       "  </thead>\n",
       "  <tbody>\n",
       "    <tr>\n",
       "      <th>0</th>\n",
       "      <td>itemdesc.13000676</td>\n",
       "      <td>PGC 2022 MEGA BUNDLE</td>\n",
       "      <td>4810</td>\n",
       "      <td>23584390</td>\n",
       "      <td>28379000</td>\n",
       "    </tr>\n",
       "    <tr>\n",
       "      <th>1</th>\n",
       "      <td>itemdesc.13000674</td>\n",
       "      <td>PGC 2022 IRIDESCENT DANGER BUNDLE</td>\n",
       "      <td>2010</td>\n",
       "      <td>5483870</td>\n",
       "      <td>6432000</td>\n",
       "    </tr>\n",
       "    <tr>\n",
       "      <th>2</th>\n",
       "      <td>itemdesc.13000675</td>\n",
       "      <td>PGC 2022 TAC-TECH BUNDLE</td>\n",
       "      <td>1515</td>\n",
       "      <td>4012220</td>\n",
       "      <td>4848000</td>\n",
       "    </tr>\n",
       "    <tr>\n",
       "      <th>3</th>\n",
       "      <td>itemdesc.12020040</td>\n",
       "      <td>\"PGC 2022\" Coupe RB</td>\n",
       "      <td>5582</td>\n",
       "      <td>1478830</td>\n",
       "      <td>2791000</td>\n",
       "    </tr>\n",
       "    <tr>\n",
       "      <th>4</th>\n",
       "      <td>itemdesc.16100356</td>\n",
       "      <td>PGC 2022 Dance - Rise Up, Beat Down</td>\n",
       "      <td>1765</td>\n",
       "      <td>1050890</td>\n",
       "      <td>1747350</td>\n",
       "    </tr>\n",
       "    <tr>\n",
       "      <th>5</th>\n",
       "      <td>itemdesc.17210052</td>\n",
       "      <td>Hairstyle 36</td>\n",
       "      <td>2883</td>\n",
       "      <td>875250</td>\n",
       "      <td>1441500</td>\n",
       "    </tr>\n",
       "    <tr>\n",
       "      <th>6</th>\n",
       "      <td>itemdesc.12031144</td>\n",
       "      <td>PGC 2022 Tac-Tech - Helmet (Level 3)</td>\n",
       "      <td>2858</td>\n",
       "      <td>705470</td>\n",
       "      <td>1429000</td>\n",
       "    </tr>\n",
       "    <tr>\n",
       "      <th>7</th>\n",
       "      <td>itemdesc.12010650</td>\n",
       "      <td>PGC 2022 - Pan</td>\n",
       "      <td>1367</td>\n",
       "      <td>919650</td>\n",
       "      <td>1353330</td>\n",
       "    </tr>\n",
       "    <tr>\n",
       "      <th>8</th>\n",
       "      <td>itemdesc.12032147</td>\n",
       "      <td>PGC 2022 Aced Backpack (Level 3)</td>\n",
       "      <td>2069</td>\n",
       "      <td>572130</td>\n",
       "      <td>1034500</td>\n",
       "    </tr>\n",
       "    <tr>\n",
       "      <th>9</th>\n",
       "      <td>itemdesc.12010658</td>\n",
       "      <td>PGC 2022 Aced - Groza</td>\n",
       "      <td>720</td>\n",
       "      <td>472780</td>\n",
       "      <td>712800</td>\n",
       "    </tr>\n",
       "    <tr>\n",
       "      <th>10</th>\n",
       "      <td>itemdesc.18040148</td>\n",
       "      <td>PGC 2022 Emblem</td>\n",
       "      <td>326</td>\n",
       "      <td>93180</td>\n",
       "      <td>163000</td>\n",
       "    </tr>\n",
       "  </tbody>\n",
       "</table>\n",
       "</div>"
      ],
      "text/plain": [
       "           product_id                          product_name  unit_sold  \\\n",
       "0   itemdesc.13000676                  PGC 2022 MEGA BUNDLE       4810   \n",
       "1   itemdesc.13000674     PGC 2022 IRIDESCENT DANGER BUNDLE       2010   \n",
       "2   itemdesc.13000675              PGC 2022 TAC-TECH BUNDLE       1515   \n",
       "3   itemdesc.12020040                   \"PGC 2022\" Coupe RB       5582   \n",
       "4   itemdesc.16100356   PGC 2022 Dance - Rise Up, Beat Down       1765   \n",
       "5   itemdesc.17210052                          Hairstyle 36       2883   \n",
       "6   itemdesc.12031144  PGC 2022 Tac-Tech - Helmet (Level 3)       2858   \n",
       "7   itemdesc.12010650                        PGC 2022 - Pan       1367   \n",
       "8   itemdesc.12032147      PGC 2022 Aced Backpack (Level 3)       2069   \n",
       "9   itemdesc.12010658                 PGC 2022 Aced - Groza        720   \n",
       "10  itemdesc.18040148                       PGC 2022 Emblem        326   \n",
       "\n",
       "    paid_use  total_use  \n",
       "0   23584390   28379000  \n",
       "1    5483870    6432000  \n",
       "2    4012220    4848000  \n",
       "3    1478830    2791000  \n",
       "4    1050890    1747350  \n",
       "5     875250    1441500  \n",
       "6     705470    1429000  \n",
       "7     919650    1353330  \n",
       "8     572130    1034500  \n",
       "9     472780     712800  \n",
       "10     93180     163000  "
      ]
     },
     "execution_count": 63,
     "metadata": {},
     "output_type": "execute_result"
    }
   ],
   "source": [
    "console_gcoin.groupBy(\"product_id\", \"product_name\").agg(sum(\"qty\").alias(\"unit_sold\"), sum(\"paid_use\").alias(\"paid_use\"), sum(col(\"paid_use\") + col(\"free_use\")).alias(\"total_use\")).orderBy(\"total_use\", ascending=False).toPandas()"
   ]
  },
  {
   "cell_type": "markdown",
   "metadata": {},
   "source": [
    "## EP 가 상품에 포함됨에 따른 영향 분석"
   ]
  },
  {
   "cell_type": "code",
   "execution_count": 153,
   "metadata": {},
   "outputs": [],
   "source": [
    "pickem_start_date = \"2022-10-26\"\n",
    "pickem_end_date = \"2022-11-18\""
   ]
  },
  {
   "cell_type": "code",
   "execution_count": 52,
   "metadata": {},
   "outputs": [
    {
     "name": "stdout",
     "output_type": "stream",
     "text": [
      "+-------------------------+\n",
      "|count(DISTINCT accountid)|\n",
      "+-------------------------+\n",
      "|8083049                  |\n",
      "+-------------------------+\n",
      "\n"
     ]
    }
   ],
   "source": [
    "user_master = load_data_mart(\"pc\", pickem_end_date, pickem_end_date, \"user_master\").where(col(\"lastlogindate\") >= pickem_start_date).select(countDistinct(\"accountid\")).show(truncate=False)"
   ]
  },
  {
   "cell_type": "code",
   "execution_count": 155,
   "metadata": {},
   "outputs": [],
   "source": [
    "pc_gcoin_user = pc_gcoin.select(\"account_id\").distinct().withColumnRenamed(\"account_id\", \"AccountId\")"
   ]
  },
  {
   "cell_type": "code",
   "execution_count": 366,
   "metadata": {},
   "outputs": [],
   "source": [
    "device = \"pc\"\n",
    "ep_purchase = load_schema.lobby(spark, device, \"live\", \"PurchaseResult\", start_date, end_date).where(col(\"currency\").like(\"%esportspoint%\"))"
   ]
  },
  {
   "cell_type": "code",
   "execution_count": 335,
   "metadata": {},
   "outputs": [
    {
     "data": {
      "text/plain": [
       "2294546"
      ]
     },
     "execution_count": 335,
     "metadata": {},
     "output_type": "execute_result"
    }
   ],
   "source": [
    "ep_purchase.count()"
   ]
  },
  {
   "cell_type": "code",
   "execution_count": 266,
   "metadata": {},
   "outputs": [],
   "source": [
    "ep_purchase_user = ep_purchase.select(\"AccountId\").distinct()"
   ]
  },
  {
   "cell_type": "code",
   "execution_count": 267,
   "metadata": {},
   "outputs": [
    {
     "data": {
      "text/plain": [
       "636394"
      ]
     },
     "execution_count": 267,
     "metadata": {},
     "output_type": "execute_result"
    }
   ],
   "source": [
    "ep_purchase_user.count()"
   ]
  },
  {
   "cell_type": "code",
   "execution_count": 270,
   "metadata": {},
   "outputs": [
    {
     "name": "stdout",
     "output_type": "stream",
     "text": [
      "+-------------------------+\n",
      "|count(DISTINCT AccountId)|\n",
      "+-------------------------+\n",
      "|158480                   |\n",
      "+-------------------------+\n",
      "\n"
     ]
    }
   ],
   "source": [
    "pc_gcoin.join(ep_purchase_user, (pc_gcoin.account_id == ep_purchase_user.AccountId)).select(countDistinct(\"AccountId\")).show(truncate=False)"
   ]
  },
  {
   "cell_type": "code",
   "execution_count": 379,
   "metadata": {},
   "outputs": [],
   "source": [
    "ep_purchase_gcoin = ep_purchase.join(pc_gcoin.select(\"account_id\").distinct().withColumnRenamed(\"account_id\", \"AccountId\"), \"AccountId\")\n",
    "\n",
    "from pyspark.sql import functions as F\n",
    "from pyspark.sql import Window\n",
    "\n",
    "w = Window.partitionBy('AccountId')\n",
    "\n",
    "ep_gcoin_purchase_products = ep_purchase_gcoin.withColumn(\n",
    "            'product_set', F.collect_set('product_name').over(w)\n",
    "        )"
   ]
  },
  {
   "cell_type": "code",
   "execution_count": 380,
   "metadata": {},
   "outputs": [],
   "source": [
    "ep_gcoin_purchase_products.groupBy(\"product_set\").agg(countDistinct(\"AccountId\").alias(\"user_cnt\")).orderBy(\"user_cnt\", ascending=False).toPandas() \\\n",
    "    .to_csv(\"./ep_gcoin_purchase_products.csv\", index=False)"
   ]
  },
  {
   "cell_type": "code",
   "execution_count": null,
   "metadata": {},
   "outputs": [],
   "source": []
  },
  {
   "cell_type": "code",
   "execution_count": 268,
   "metadata": {},
   "outputs": [
    {
     "name": "stdout",
     "output_type": "stream",
     "text": [
      "+-------------------------+\n",
      "|count(DISTINCT AccountId)|\n",
      "+-------------------------+\n",
      "|507695                   |\n",
      "+-------------------------+\n",
      "\n"
     ]
    }
   ],
   "source": [
    "ep_purchase_2021 = load_schema.lobby(spark, \"pc\", \"live\", \"PurchaseResult\", \"2021-11-12\", \"2022-01-12\").where(col(\"currency\").like(\"%esportspoint%\"))\n",
    "ep_purchase_2021.select(countDistinct('AccountId')).show(truncate=False)"
   ]
  },
  {
   "cell_type": "code",
   "execution_count": 272,
   "metadata": {},
   "outputs": [],
   "source": [
    "pgc_ep_item = mysql.read_table(spark, \"metainfo\", \"meta_vc_sales_items\").where(col(\"currency\") == \"esportspoint\").withColumn(\"product_name\", when(col(\"product_name\").isNull(), col(\"product_id\")).otherwise(col(\"product_name\")))\n",
    "ep_purchase_2021 = ep_purchase_2021.join(pgc_ep_item.withColumnRenamed(\"product_id\", \"ProductId\").select(\"ProductId\", \"product_name\").distinct(), \"ProductId\")"
   ]
  },
  {
   "cell_type": "code",
   "execution_count": 273,
   "metadata": {},
   "outputs": [
    {
     "data": {
      "text/html": [
       "<div>\n",
       "<style scoped>\n",
       "    .dataframe tbody tr th:only-of-type {\n",
       "        vertical-align: middle;\n",
       "    }\n",
       "\n",
       "    .dataframe tbody tr th {\n",
       "        vertical-align: top;\n",
       "    }\n",
       "\n",
       "    .dataframe thead th {\n",
       "        text-align: right;\n",
       "    }\n",
       "</style>\n",
       "<table border=\"1\" class=\"dataframe\">\n",
       "  <thead>\n",
       "    <tr style=\"text-align: right;\">\n",
       "      <th></th>\n",
       "      <th>product_name</th>\n",
       "      <th>count(DISTINCT AccountId)</th>\n",
       "      <th>amount</th>\n",
       "      <th>sum((LocalPrice * Amount))</th>\n",
       "    </tr>\n",
       "  </thead>\n",
       "  <tbody>\n",
       "    <tr>\n",
       "      <th>0</th>\n",
       "      <td>Nickname Change</td>\n",
       "      <td>268907</td>\n",
       "      <td>268920</td>\n",
       "      <td>16135200000</td>\n",
       "    </tr>\n",
       "    <tr>\n",
       "      <th>1</th>\n",
       "      <td>Hairstyle 28</td>\n",
       "      <td>230825</td>\n",
       "      <td>230842</td>\n",
       "      <td>13850520000</td>\n",
       "    </tr>\n",
       "    <tr>\n",
       "      <th>2</th>\n",
       "      <td>PGC 2021 Giltslate Contagion Backpack (Level 3)</td>\n",
       "      <td>209634</td>\n",
       "      <td>209639</td>\n",
       "      <td>12578340000</td>\n",
       "    </tr>\n",
       "    <tr>\n",
       "      <th>3</th>\n",
       "      <td>\"PGC 2021 Contingent Chaos\" UAZ</td>\n",
       "      <td>189201</td>\n",
       "      <td>189213</td>\n",
       "      <td>22705560000</td>\n",
       "    </tr>\n",
       "    <tr>\n",
       "      <th>4</th>\n",
       "      <td>PGC 2021 Contingent Chaos - Pan</td>\n",
       "      <td>184562</td>\n",
       "      <td>184569</td>\n",
       "      <td>36913800000</td>\n",
       "    </tr>\n",
       "    <tr>\n",
       "      <th>5</th>\n",
       "      <td>PGC 2021 Contingent Chaos - Helmet (Level 3)</td>\n",
       "      <td>118774</td>\n",
       "      <td>118778</td>\n",
       "      <td>14253360000</td>\n",
       "    </tr>\n",
       "    <tr>\n",
       "      <th>6</th>\n",
       "      <td>PGC 2021 Contingent Chaos - P90</td>\n",
       "      <td>115519</td>\n",
       "      <td>115527</td>\n",
       "      <td>13863240000</td>\n",
       "    </tr>\n",
       "  </tbody>\n",
       "</table>\n",
       "</div>"
      ],
      "text/plain": [
       "                                      product_name  count(DISTINCT AccountId)  \\\n",
       "0                                  Nickname Change                     268907   \n",
       "1                                     Hairstyle 28                     230825   \n",
       "2  PGC 2021 Giltslate Contagion Backpack (Level 3)                     209634   \n",
       "3                  \"PGC 2021 Contingent Chaos\" UAZ                     189201   \n",
       "4                  PGC 2021 Contingent Chaos - Pan                     184562   \n",
       "5     PGC 2021 Contingent Chaos - Helmet (Level 3)                     118774   \n",
       "6                  PGC 2021 Contingent Chaos - P90                     115519   \n",
       "\n",
       "   amount  sum((LocalPrice * Amount))  \n",
       "0  268920                 16135200000  \n",
       "1  230842                 13850520000  \n",
       "2  209639                 12578340000  \n",
       "3  189213                 22705560000  \n",
       "4  184569                 36913800000  \n",
       "5  118778                 14253360000  \n",
       "6  115527                 13863240000  "
      ]
     },
     "execution_count": 273,
     "metadata": {},
     "output_type": "execute_result"
    }
   ],
   "source": [
    "ep_purchase_2021.groupBy(\"product_name\").agg(countDistinct(\"AccountId\"), sum(\"Amount\").alias(\"amount\"), sum(col(\"LocalPrice\")*col(\"Amount\"))).orderBy(\"amount\", ascending=False).toPandas()"
   ]
  },
  {
   "cell_type": "code",
   "execution_count": 271,
   "metadata": {},
   "outputs": [
    {
     "name": "stdout",
     "output_type": "stream",
     "text": [
      "+-------------------------+\n",
      "|count(DISTINCT AccountId)|\n",
      "+-------------------------+\n",
      "|236410                   |\n",
      "+-------------------------+\n",
      "\n"
     ]
    }
   ],
   "source": [
    "pgc2021_gcoin.join(ep_purchase_2021, (pgc2021_gcoin.account_id == ep_purchase_2021.AccountId)).select(countDistinct(\"AccountId\")).show(truncate=False)"
   ]
  },
  {
   "cell_type": "code",
   "execution_count": null,
   "metadata": {},
   "outputs": [],
   "source": []
  },
  {
   "cell_type": "code",
   "execution_count": 242,
   "metadata": {},
   "outputs": [],
   "source": [
    "# ep 상품 구매 -> 상점 상품 구매 -> ep 상품 구매\n",
    "# ep_gcoin = ep 상품 구매 -> 상점 상품 구매 \n",
    "ep_purchase = ep_purchase.withColumnRenamed(\"date\", \"ep_date\").withColumnRenamed(\"Time\", \"ep_time\")\n",
    "# ep_gcoin = ep_purchase.join(pc_gcoin, (ep_purchase.ep_date == pc_gcoin.date) & (ep_purchase.AccountId == pc_gcoin.account_id) & (ep_purchase.ep_time < pc_gcoin.time))"
   ]
  },
  {
   "cell_type": "code",
   "execution_count": 237,
   "metadata": {},
   "outputs": [
    {
     "name": "stdout",
     "output_type": "stream",
     "text": [
      "+--------+--------------------------+\n",
      "|count(1)|count(DISTINCT account_id)|\n",
      "+--------+--------------------------+\n",
      "|7136    |3430                      |\n",
      "+--------+--------------------------+\n",
      "\n"
     ]
    }
   ],
   "source": [
    "ep_gcoin.select(count(\"*\"), countDistinct(\"account_id\")).show(truncate=False)"
   ]
  },
  {
   "cell_type": "code",
   "execution_count": 243,
   "metadata": {},
   "outputs": [],
   "source": [
    "gcoin_ep = ep_purchase.join(ep_gcoin, (ep_purchase.ep_date == ep_gcoin.date) & (ep_purchase.AccountId == ep_gcoin.account_id) & (ep_purchase.ep_time > ep_gcoin.time))"
   ]
  },
  {
   "cell_type": "code",
   "execution_count": 244,
   "metadata": {},
   "outputs": [
    {
     "name": "stdout",
     "output_type": "stream",
     "text": [
      "+--------+--------------------------+\n",
      "|count(1)|count(DISTINCT account_id)|\n",
      "+--------+--------------------------+\n",
      "|14042   |2477                      |\n",
      "+--------+--------------------------+\n",
      "\n"
     ]
    }
   ],
   "source": [
    "gcoin_ep.select(count(\"*\"), countDistinct(\"account_id\")).show(truncate=False)"
   ]
  },
  {
   "cell_type": "code",
   "execution_count": 245,
   "metadata": {},
   "outputs": [],
   "source": [
    "esports_store = load_schema.heimdall(spark, \"prod\", \"{}-prod\".format(\"pc\"), start_date, end_date).where(col(\"category\") == \"store_explore\") \\\n",
    "    .filter(col(\"action\") == \"click_store_esports\")"
   ]
  },
  {
   "cell_type": "code",
   "execution_count": 259,
   "metadata": {},
   "outputs": [],
   "source": [
    "# ep store 진입 -> 상품 구매\n",
    "pc_gcoin = pc_gcoin.withColumn(\"timestamp\", to_timestamp(\"time\"))\n",
    "ep_store_gcoin = esports_store.join(pc_gcoin, (esports_store.timestamp < pc_gcoin.timestamp) & (esports_store.dt == pc_gcoin.date) & (esports_store.user_id == pc_gcoin.account_id))"
   ]
  },
  {
   "cell_type": "code",
   "execution_count": 260,
   "metadata": {
    "collapsed": true,
    "jupyter": {
     "outputs_hidden": true
    }
   },
   "outputs": [
    {
     "name": "stdout",
     "output_type": "stream",
     "text": [
      "+-------------------+-------------+-------------------+-----------+-----+----------------------------------------+-------------------------------------------------------------------------+---------------------------------------+-----------+----------+---+----------+--------+----------------------------------------+-----------------+--------+------------+--------+------------+-----+---+-------------+----------------------------+-------------------+--------------------------------------------------------------+------------------+----------------+---------+------+--------+--------+-----------------+----------------------------------------+------------+-----------+------------+----------+----------+-------+-----+----+-------+-------------------+-------------------+---------------+-------------------+--------------------------+\n",
      "|timestamp          |category     |action             |label      |value|user_id                                 |session_id                                                               |tags                                   |tracking_id|dt        |hr |date      |platform|account_id                              |product_id       |free_use|free_balance|paid_use|paid_balance|price|qty|reason       |time                        |transaction_id     |gcoin_by_expiry                                               |type              |is_salesid_exist|sales_id_|device|currency|sales_id|exchange_id      |product_name                            |product_type|category   |sub_category|event_type|event_name|tags   |part |tier|price_ |start_time         |end_time           |catalog_version|update_time        |timestamp                 |\n",
      "+-------------------+-------------+-------------------+-----------+-----+----------------------------------------+-------------------------------------------------------------------------+---------------------------------------+-----------+----------+---+----------+--------+----------------------------------------+-----------------+--------+------------+--------+------------+-----+---+-------------+----------------------------+-------------------+--------------------------------------------------------------+------------------+----------------+---------+------+--------+--------+-----------------+----------------------------------------+------------+-----------+------------+----------+----------+-------+-----+----+-------+-------------------+-------------------+---------------+-------------------+--------------------------+\n",
      "|2022-10-26 12:41:03|store_explore|click_store_esports|null       |1    |account.04925de3a9e6471aa385d6d2e7eb1726|account.04925de3a9e6471aa385d6d2e7eb1726_23219026064f477789adb483d0e4efb8|[cc:cn, or:PcSteam, br:prod-live-front]|pc-prod    |2022-10-26|12 |2022-10-26|STEAM   |account.04925de3a9e6471aa385d6d2e7eb1726|itemdesc.13000673|50      |550         |5850    |150         |5900 |1  |buy-cash-item|2022-10-26T14:36:02.9794179Z|1585242983580582200|[[2027-10-03, 50, 0, 0, 0], [2027-10-27, 0, 550, 5850, 150]]  |UseGCoinCurrencyV2|1               |2342     |PC    |gcoin   |2342    |itemdesc.90001548|PGC 2022 MEGA BUNDLE + VOTING COUPON    |ingame      |crates&keys|crate       |esports   |202210_pgc|2022PGC|crate|1   |5900.00|2022-10-26 02:00:00|2022-12-07 02:00:00|892            |2022-12-14 10:40:32|2022-10-26 14:36:02.979417|\n",
      "|2022-10-26 12:41:03|store_explore|click_store_esports|from_lnb   |1    |account.04925de3a9e6471aa385d6d2e7eb1726|account.04925de3a9e6471aa385d6d2e7eb1726_23219026064f477789adb483d0e4efb8|[cc:cn, or:PcSteam, br:prod-live-front]|pc-prod    |2022-10-26|12 |2022-10-26|STEAM   |account.04925de3a9e6471aa385d6d2e7eb1726|itemdesc.13000673|50      |550         |5850    |150         |5900 |1  |buy-cash-item|2022-10-26T14:36:02.9794179Z|1585242983580582200|[[2027-10-03, 50, 0, 0, 0], [2027-10-27, 0, 550, 5850, 150]]  |UseGCoinCurrencyV2|1               |2342     |PC    |gcoin   |2342    |itemdesc.90001548|PGC 2022 MEGA BUNDLE + VOTING COUPON    |ingame      |crates&keys|crate       |esports   |202210_pgc|2022PGC|crate|1   |5900.00|2022-10-26 02:00:00|2022-12-07 02:00:00|892            |2022-12-14 10:40:32|2022-10-26 14:36:02.979417|\n",
      "|2022-10-26 04:58:08|store_explore|click_store_esports|from_lnb   |1    |account.05b6abf0eaad4b2ab1d77e3b6bf454fc|account.05b6abf0eaad4b2ab1d77e3b6bf454fc_bb7d1374406441aabefcb32ee337d083|[cc:cn, or:PcSteam, br:prod-live-front]|pc-prod    |2022-10-26|04 |2022-10-26|STEAM   |account.05b6abf0eaad4b2ab1d77e3b6bf454fc|itemdesc.13000671|200     |40          |3000    |0           |3200 |1  |buy-cash-item|2022-10-26T08:09:08.8933353Z|1585119251163826279|[[2027-10-27, 170, 40, 3000, 0], [2027-09-24, 30, 0, 0, 0]]   |UseGCoinCurrencyV2|1               |2344     |PC    |gcoin   |2344    |itemdesc.90001546|PGC 2022 TAC-TECH BUNDLE + VOTING COUPON|ingame      |crates&keys|crate       |esports   |202210_pgc|2022PGC|crate|1   |3200.00|2022-10-26 02:00:00|2022-12-07 02:00:00|892            |2022-12-14 10:40:32|2022-10-26 08:09:08.893335|\n",
      "|2022-10-26 04:54:40|store_explore|click_store_esports|from_lnb   |1    |account.05b6abf0eaad4b2ab1d77e3b6bf454fc|account.05b6abf0eaad4b2ab1d77e3b6bf454fc_bb7d1374406441aabefcb32ee337d083|[cc:cn, or:PcSteam, br:prod-live-front]|pc-prod    |2022-10-26|04 |2022-10-26|STEAM   |account.05b6abf0eaad4b2ab1d77e3b6bf454fc|itemdesc.13000671|200     |40          |3000    |0           |3200 |1  |buy-cash-item|2022-10-26T08:09:08.8933353Z|1585119251163826279|[[2027-10-27, 170, 40, 3000, 0], [2027-09-24, 30, 0, 0, 0]]   |UseGCoinCurrencyV2|1               |2344     |PC    |gcoin   |2344    |itemdesc.90001546|PGC 2022 TAC-TECH BUNDLE + VOTING COUPON|ingame      |crates&keys|crate       |esports   |202210_pgc|2022PGC|crate|1   |3200.00|2022-10-26 02:00:00|2022-12-07 02:00:00|892            |2022-12-14 10:40:32|2022-10-26 08:09:08.893335|\n",
      "|2022-10-26 04:55:07|store_explore|click_store_esports|null       |1    |account.05b6abf0eaad4b2ab1d77e3b6bf454fc|account.05b6abf0eaad4b2ab1d77e3b6bf454fc_bb7d1374406441aabefcb32ee337d083|[cc:cn, or:PcSteam, br:prod-live-front]|pc-prod    |2022-10-26|04 |2022-10-26|STEAM   |account.05b6abf0eaad4b2ab1d77e3b6bf454fc|itemdesc.13000671|200     |40          |3000    |0           |3200 |1  |buy-cash-item|2022-10-26T08:09:08.8933353Z|1585119251163826279|[[2027-10-27, 170, 40, 3000, 0], [2027-09-24, 30, 0, 0, 0]]   |UseGCoinCurrencyV2|1               |2344     |PC    |gcoin   |2344    |itemdesc.90001546|PGC 2022 TAC-TECH BUNDLE + VOTING COUPON|ingame      |crates&keys|crate       |esports   |202210_pgc|2022PGC|crate|1   |3200.00|2022-10-26 02:00:00|2022-12-07 02:00:00|892            |2022-12-14 10:40:32|2022-10-26 08:09:08.893335|\n",
      "|2022-10-26 04:55:07|store_explore|click_store_esports|from_pickem|1    |account.05b6abf0eaad4b2ab1d77e3b6bf454fc|account.05b6abf0eaad4b2ab1d77e3b6bf454fc_bb7d1374406441aabefcb32ee337d083|[cc:cn, or:PcSteam, br:prod-live-front]|pc-prod    |2022-10-26|04 |2022-10-26|STEAM   |account.05b6abf0eaad4b2ab1d77e3b6bf454fc|itemdesc.13000671|200     |40          |3000    |0           |3200 |1  |buy-cash-item|2022-10-26T08:09:08.8933353Z|1585119251163826279|[[2027-10-27, 170, 40, 3000, 0], [2027-09-24, 30, 0, 0, 0]]   |UseGCoinCurrencyV2|1               |2344     |PC    |gcoin   |2344    |itemdesc.90001546|PGC 2022 TAC-TECH BUNDLE + VOTING COUPON|ingame      |crates&keys|crate       |esports   |202210_pgc|2022PGC|crate|1   |3200.00|2022-10-26 02:00:00|2022-12-07 02:00:00|892            |2022-12-14 10:40:32|2022-10-26 08:09:08.893335|\n",
      "|2022-10-26 04:55:26|store_explore|click_store_esports|null       |1    |account.05b6abf0eaad4b2ab1d77e3b6bf454fc|account.05b6abf0eaad4b2ab1d77e3b6bf454fc_bb7d1374406441aabefcb32ee337d083|[cc:cn, or:PcSteam, br:prod-live-front]|pc-prod    |2022-10-26|04 |2022-10-26|STEAM   |account.05b6abf0eaad4b2ab1d77e3b6bf454fc|itemdesc.13000671|200     |40          |3000    |0           |3200 |1  |buy-cash-item|2022-10-26T08:09:08.8933353Z|1585119251163826279|[[2027-10-27, 170, 40, 3000, 0], [2027-09-24, 30, 0, 0, 0]]   |UseGCoinCurrencyV2|1               |2344     |PC    |gcoin   |2344    |itemdesc.90001546|PGC 2022 TAC-TECH BUNDLE + VOTING COUPON|ingame      |crates&keys|crate       |esports   |202210_pgc|2022PGC|crate|1   |3200.00|2022-10-26 02:00:00|2022-12-07 02:00:00|892            |2022-12-14 10:40:32|2022-10-26 08:09:08.893335|\n",
      "|2022-10-26 04:55:19|store_explore|click_store_esports|null       |1    |account.05b6abf0eaad4b2ab1d77e3b6bf454fc|account.05b6abf0eaad4b2ab1d77e3b6bf454fc_bb7d1374406441aabefcb32ee337d083|[cc:cn, or:PcSteam, br:prod-live-front]|pc-prod    |2022-10-26|04 |2022-10-26|STEAM   |account.05b6abf0eaad4b2ab1d77e3b6bf454fc|itemdesc.13000671|200     |40          |3000    |0           |3200 |1  |buy-cash-item|2022-10-26T08:09:08.8933353Z|1585119251163826279|[[2027-10-27, 170, 40, 3000, 0], [2027-09-24, 30, 0, 0, 0]]   |UseGCoinCurrencyV2|1               |2344     |PC    |gcoin   |2344    |itemdesc.90001546|PGC 2022 TAC-TECH BUNDLE + VOTING COUPON|ingame      |crates&keys|crate       |esports   |202210_pgc|2022PGC|crate|1   |3200.00|2022-10-26 02:00:00|2022-12-07 02:00:00|892            |2022-12-14 10:40:32|2022-10-26 08:09:08.893335|\n",
      "|2022-10-26 04:58:08|store_explore|click_store_esports|null       |1    |account.05b6abf0eaad4b2ab1d77e3b6bf454fc|account.05b6abf0eaad4b2ab1d77e3b6bf454fc_bb7d1374406441aabefcb32ee337d083|[cc:cn, or:PcSteam, br:prod-live-front]|pc-prod    |2022-10-26|04 |2022-10-26|STEAM   |account.05b6abf0eaad4b2ab1d77e3b6bf454fc|itemdesc.13000671|200     |40          |3000    |0           |3200 |1  |buy-cash-item|2022-10-26T08:09:08.8933353Z|1585119251163826279|[[2027-10-27, 170, 40, 3000, 0], [2027-09-24, 30, 0, 0, 0]]   |UseGCoinCurrencyV2|1               |2344     |PC    |gcoin   |2344    |itemdesc.90001546|PGC 2022 TAC-TECH BUNDLE + VOTING COUPON|ingame      |crates&keys|crate       |esports   |202210_pgc|2022PGC|crate|1   |3200.00|2022-10-26 02:00:00|2022-12-07 02:00:00|892            |2022-12-14 10:40:32|2022-10-26 08:09:08.893335|\n",
      "|2022-10-26 04:58:32|store_explore|click_store_esports|from_lnb   |1    |account.05b6abf0eaad4b2ab1d77e3b6bf454fc|account.05b6abf0eaad4b2ab1d77e3b6bf454fc_bb7d1374406441aabefcb32ee337d083|[cc:cn, or:PcSteam, br:prod-live-front]|pc-prod    |2022-10-26|04 |2022-10-26|STEAM   |account.05b6abf0eaad4b2ab1d77e3b6bf454fc|itemdesc.13000671|200     |40          |3000    |0           |3200 |1  |buy-cash-item|2022-10-26T08:09:08.8933353Z|1585119251163826279|[[2027-10-27, 170, 40, 3000, 0], [2027-09-24, 30, 0, 0, 0]]   |UseGCoinCurrencyV2|1               |2344     |PC    |gcoin   |2344    |itemdesc.90001546|PGC 2022 TAC-TECH BUNDLE + VOTING COUPON|ingame      |crates&keys|crate       |esports   |202210_pgc|2022PGC|crate|1   |3200.00|2022-10-26 02:00:00|2022-12-07 02:00:00|892            |2022-12-14 10:40:32|2022-10-26 08:09:08.893335|\n",
      "|2022-10-26 04:58:35|store_explore|click_store_esports|null       |1    |account.05b6abf0eaad4b2ab1d77e3b6bf454fc|account.05b6abf0eaad4b2ab1d77e3b6bf454fc_bb7d1374406441aabefcb32ee337d083|[cc:cn, or:PcSteam, br:prod-live-front]|pc-prod    |2022-10-26|04 |2022-10-26|STEAM   |account.05b6abf0eaad4b2ab1d77e3b6bf454fc|itemdesc.13000671|200     |40          |3000    |0           |3200 |1  |buy-cash-item|2022-10-26T08:09:08.8933353Z|1585119251163826279|[[2027-10-27, 170, 40, 3000, 0], [2027-09-24, 30, 0, 0, 0]]   |UseGCoinCurrencyV2|1               |2344     |PC    |gcoin   |2344    |itemdesc.90001546|PGC 2022 TAC-TECH BUNDLE + VOTING COUPON|ingame      |crates&keys|crate       |esports   |202210_pgc|2022PGC|crate|1   |3200.00|2022-10-26 02:00:00|2022-12-07 02:00:00|892            |2022-12-14 10:40:32|2022-10-26 08:09:08.893335|\n",
      "|2022-10-26 04:55:21|store_explore|click_store_esports|null       |1    |account.05b6abf0eaad4b2ab1d77e3b6bf454fc|account.05b6abf0eaad4b2ab1d77e3b6bf454fc_bb7d1374406441aabefcb32ee337d083|[cc:cn, or:PcSteam, br:prod-live-front]|pc-prod    |2022-10-26|04 |2022-10-26|STEAM   |account.05b6abf0eaad4b2ab1d77e3b6bf454fc|itemdesc.13000671|200     |40          |3000    |0           |3200 |1  |buy-cash-item|2022-10-26T08:09:08.8933353Z|1585119251163826279|[[2027-10-27, 170, 40, 3000, 0], [2027-09-24, 30, 0, 0, 0]]   |UseGCoinCurrencyV2|1               |2344     |PC    |gcoin   |2344    |itemdesc.90001546|PGC 2022 TAC-TECH BUNDLE + VOTING COUPON|ingame      |crates&keys|crate       |esports   |202210_pgc|2022PGC|crate|1   |3200.00|2022-10-26 02:00:00|2022-12-07 02:00:00|892            |2022-12-14 10:40:32|2022-10-26 08:09:08.893335|\n",
      "|2022-10-26 04:58:32|store_explore|click_store_esports|null       |1    |account.05b6abf0eaad4b2ab1d77e3b6bf454fc|account.05b6abf0eaad4b2ab1d77e3b6bf454fc_bb7d1374406441aabefcb32ee337d083|[cc:cn, or:PcSteam, br:prod-live-front]|pc-prod    |2022-10-26|04 |2022-10-26|STEAM   |account.05b6abf0eaad4b2ab1d77e3b6bf454fc|itemdesc.13000671|200     |40          |3000    |0           |3200 |1  |buy-cash-item|2022-10-26T08:09:08.8933353Z|1585119251163826279|[[2027-10-27, 170, 40, 3000, 0], [2027-09-24, 30, 0, 0, 0]]   |UseGCoinCurrencyV2|1               |2344     |PC    |gcoin   |2344    |itemdesc.90001546|PGC 2022 TAC-TECH BUNDLE + VOTING COUPON|ingame      |crates&keys|crate       |esports   |202210_pgc|2022PGC|crate|1   |3200.00|2022-10-26 02:00:00|2022-12-07 02:00:00|892            |2022-12-14 10:40:32|2022-10-26 08:09:08.893335|\n",
      "|2022-10-26 04:55:26|store_explore|click_store_esports|from_lnb   |1    |account.05b6abf0eaad4b2ab1d77e3b6bf454fc|account.05b6abf0eaad4b2ab1d77e3b6bf454fc_bb7d1374406441aabefcb32ee337d083|[cc:cn, or:PcSteam, br:prod-live-front]|pc-prod    |2022-10-26|04 |2022-10-26|STEAM   |account.05b6abf0eaad4b2ab1d77e3b6bf454fc|itemdesc.13000671|200     |40          |3000    |0           |3200 |1  |buy-cash-item|2022-10-26T08:09:08.8933353Z|1585119251163826279|[[2027-10-27, 170, 40, 3000, 0], [2027-09-24, 30, 0, 0, 0]]   |UseGCoinCurrencyV2|1               |2344     |PC    |gcoin   |2344    |itemdesc.90001546|PGC 2022 TAC-TECH BUNDLE + VOTING COUPON|ingame      |crates&keys|crate       |esports   |202210_pgc|2022PGC|crate|1   |3200.00|2022-10-26 02:00:00|2022-12-07 02:00:00|892            |2022-12-14 10:40:32|2022-10-26 08:09:08.893335|\n",
      "|2022-10-26 04:58:35|store_explore|click_store_esports|from_pickem|1    |account.05b6abf0eaad4b2ab1d77e3b6bf454fc|account.05b6abf0eaad4b2ab1d77e3b6bf454fc_bb7d1374406441aabefcb32ee337d083|[cc:cn, or:PcSteam, br:prod-live-front]|pc-prod    |2022-10-26|04 |2022-10-26|STEAM   |account.05b6abf0eaad4b2ab1d77e3b6bf454fc|itemdesc.13000671|200     |40          |3000    |0           |3200 |1  |buy-cash-item|2022-10-26T08:09:08.8933353Z|1585119251163826279|[[2027-10-27, 170, 40, 3000, 0], [2027-09-24, 30, 0, 0, 0]]   |UseGCoinCurrencyV2|1               |2344     |PC    |gcoin   |2344    |itemdesc.90001546|PGC 2022 TAC-TECH BUNDLE + VOTING COUPON|ingame      |crates&keys|crate       |esports   |202210_pgc|2022PGC|crate|1   |3200.00|2022-10-26 02:00:00|2022-12-07 02:00:00|892            |2022-12-14 10:40:32|2022-10-26 08:09:08.893335|\n",
      "|2022-10-26 04:54:40|store_explore|click_store_esports|null       |1    |account.05b6abf0eaad4b2ab1d77e3b6bf454fc|account.05b6abf0eaad4b2ab1d77e3b6bf454fc_bb7d1374406441aabefcb32ee337d083|[cc:cn, or:PcSteam, br:prod-live-front]|pc-prod    |2022-10-26|04 |2022-10-26|STEAM   |account.05b6abf0eaad4b2ab1d77e3b6bf454fc|itemdesc.13000671|200     |40          |3000    |0           |3200 |1  |buy-cash-item|2022-10-26T08:09:08.8933353Z|1585119251163826279|[[2027-10-27, 170, 40, 3000, 0], [2027-09-24, 30, 0, 0, 0]]   |UseGCoinCurrencyV2|1               |2344     |PC    |gcoin   |2344    |itemdesc.90001546|PGC 2022 TAC-TECH BUNDLE + VOTING COUPON|ingame      |crates&keys|crate       |esports   |202210_pgc|2022PGC|crate|1   |3200.00|2022-10-26 02:00:00|2022-12-07 02:00:00|892            |2022-12-14 10:40:32|2022-10-26 08:09:08.893335|\n",
      "|2022-10-26 04:55:19|store_explore|click_store_esports|from_lnb   |1    |account.05b6abf0eaad4b2ab1d77e3b6bf454fc|account.05b6abf0eaad4b2ab1d77e3b6bf454fc_bb7d1374406441aabefcb32ee337d083|[cc:cn, or:PcSteam, br:prod-live-front]|pc-prod    |2022-10-26|04 |2022-10-26|STEAM   |account.05b6abf0eaad4b2ab1d77e3b6bf454fc|itemdesc.13000671|200     |40          |3000    |0           |3200 |1  |buy-cash-item|2022-10-26T08:09:08.8933353Z|1585119251163826279|[[2027-10-27, 170, 40, 3000, 0], [2027-09-24, 30, 0, 0, 0]]   |UseGCoinCurrencyV2|1               |2344     |PC    |gcoin   |2344    |itemdesc.90001546|PGC 2022 TAC-TECH BUNDLE + VOTING COUPON|ingame      |crates&keys|crate       |esports   |202210_pgc|2022PGC|crate|1   |3200.00|2022-10-26 02:00:00|2022-12-07 02:00:00|892            |2022-12-14 10:40:32|2022-10-26 08:09:08.893335|\n",
      "|2022-10-26 04:55:21|store_explore|click_store_esports|from_lnb   |1    |account.05b6abf0eaad4b2ab1d77e3b6bf454fc|account.05b6abf0eaad4b2ab1d77e3b6bf454fc_bb7d1374406441aabefcb32ee337d083|[cc:cn, or:PcSteam, br:prod-live-front]|pc-prod    |2022-10-26|04 |2022-10-26|STEAM   |account.05b6abf0eaad4b2ab1d77e3b6bf454fc|itemdesc.13000671|200     |40          |3000    |0           |3200 |1  |buy-cash-item|2022-10-26T08:09:08.8933353Z|1585119251163826279|[[2027-10-27, 170, 40, 3000, 0], [2027-09-24, 30, 0, 0, 0]]   |UseGCoinCurrencyV2|1               |2344     |PC    |gcoin   |2344    |itemdesc.90001546|PGC 2022 TAC-TECH BUNDLE + VOTING COUPON|ingame      |crates&keys|crate       |esports   |202210_pgc|2022PGC|crate|1   |3200.00|2022-10-26 02:00:00|2022-12-07 02:00:00|892            |2022-12-14 10:40:32|2022-10-26 08:09:08.893335|\n",
      "|2022-10-26 09:41:57|store_explore|click_store_esports|from_lnb   |1    |account.064e6866b97d4df1abede16642c48eb0|account.064e6866b97d4df1abede16642c48eb0_77824040550f4b6dbe90db4c326491b9|[cc:cn, or:PcSteam, br:prod-live-front]|pc-prod    |2022-10-26|09 |2022-10-26|STEAM   |account.064e6866b97d4df1abede16642c48eb0|itemdesc.13000673|270     |190         |5630    |0           |5900 |1  |buy-cash-item|2022-10-26T09:43:42.4907425Z|1585183295308575471|[[2027-10-15, 50, 0, 130, 0], [2027-10-27, 220, 190, 5500, 0]]|UseGCoinCurrencyV2|1               |2342     |PC    |gcoin   |2342    |itemdesc.90001548|PGC 2022 MEGA BUNDLE + VOTING COUPON    |ingame      |crates&keys|crate       |esports   |202210_pgc|2022PGC|crate|1   |5900.00|2022-10-26 02:00:00|2022-12-07 02:00:00|892            |2022-12-14 10:40:32|2022-10-26 09:43:42.490742|\n",
      "|2022-10-26 06:19:09|store_explore|click_store_esports|from_lnb   |1    |account.064e6866b97d4df1abede16642c48eb0|account.064e6866b97d4df1abede16642c48eb0_bfdd53923b964b5e8ea3d9b4e52c6b86|[cc:cn, or:PcSteam, br:prod-live-front]|pc-prod    |2022-10-26|06 |2022-10-26|STEAM   |account.064e6866b97d4df1abede16642c48eb0|itemdesc.13000673|270     |190         |5630    |0           |5900 |1  |buy-cash-item|2022-10-26T09:43:42.4907425Z|1585183295308575471|[[2027-10-15, 50, 0, 130, 0], [2027-10-27, 220, 190, 5500, 0]]|UseGCoinCurrencyV2|1               |2342     |PC    |gcoin   |2342    |itemdesc.90001548|PGC 2022 MEGA BUNDLE + VOTING COUPON    |ingame      |crates&keys|crate       |esports   |202210_pgc|2022PGC|crate|1   |5900.00|2022-10-26 02:00:00|2022-12-07 02:00:00|892            |2022-12-14 10:40:32|2022-10-26 09:43:42.490742|\n",
      "+-------------------+-------------+-------------------+-----------+-----+----------------------------------------+-------------------------------------------------------------------------+---------------------------------------+-----------+----------+---+----------+--------+----------------------------------------+-----------------+--------+------------+--------+------------+-----+---+-------------+----------------------------+-------------------+--------------------------------------------------------------+------------------+----------------+---------+------+--------+--------+-----------------+----------------------------------------+------------+-----------+------------+----------+----------+-------+-----+----+-------+-------------------+-------------------+---------------+-------------------+--------------------------+\n",
      "only showing top 20 rows\n",
      "\n"
     ]
    }
   ],
   "source": [
    "ep_store_gcoin.show(truncate=False)"
   ]
  },
  {
   "cell_type": "code",
   "execution_count": 262,
   "metadata": {},
   "outputs": [
    {
     "name": "stdout",
     "output_type": "stream",
     "text": [
      "+-----------------------+\n",
      "|count(DISTINCT user_id)|\n",
      "+-----------------------+\n",
      "|1656553                |\n",
      "+-----------------------+\n",
      "\n"
     ]
    }
   ],
   "source": [
    "esports_store.select(countDistinct(\"user_id\")).show(truncate=False)"
   ]
  },
  {
   "cell_type": "code",
   "execution_count": 261,
   "metadata": {},
   "outputs": [
    {
     "name": "stdout",
     "output_type": "stream",
     "text": [
      "+--------------------------+\n",
      "|count(DISTINCT account_id)|\n",
      "+--------------------------+\n",
      "|88000                     |\n",
      "+--------------------------+\n",
      "\n"
     ]
    }
   ],
   "source": [
    "ep_store_gcoin.select(countDistinct(\"account_id\")).show(truncate=False)"
   ]
  },
  {
   "cell_type": "code",
   "execution_count": null,
   "metadata": {},
   "outputs": [],
   "source": []
  },
  {
   "cell_type": "code",
   "execution_count": 154,
   "metadata": {},
   "outputs": [],
   "source": [
    "pickem = load_schema.lobby(spark, device, \"live\", \"PickStatusChanged\", pickem_start_date, pickem_end_date)"
   ]
  },
  {
   "cell_type": "code",
   "execution_count": 119,
   "metadata": {},
   "outputs": [
    {
     "name": "stdout",
     "output_type": "stream",
     "text": [
      "+-------------------------+\n",
      "|count(DISTINCT AccountId)|\n",
      "+-------------------------+\n",
      "|1496187                  |\n",
      "+-------------------------+\n",
      "\n"
     ]
    }
   ],
   "source": [
    "pickem.select(countDistinct(\"AccountId\")).show(truncate=False)"
   ]
  },
  {
   "cell_type": "code",
   "execution_count": 38,
   "metadata": {},
   "outputs": [],
   "source": [
    "pickem = pickem.withColumn(\"game_id\", when(col(\"GameId\").like(\"%BR%\"), \"BR\").when(col(\"GameId\").like(\"%DUEL%\"), \"DUEL\").otherwise(lit(None)))"
   ]
  },
  {
   "cell_type": "code",
   "execution_count": 39,
   "metadata": {},
   "outputs": [
    {
     "name": "stdout",
     "output_type": "stream",
     "text": [
      "+-------+-------------------------+\n",
      "|game_id|count(DISTINCT AccountId)|\n",
      "+-------+-------------------------+\n",
      "|BR     |1433189                  |\n",
      "|DUEL   |721877                   |\n",
      "+-------+-------------------------+\n",
      "\n"
     ]
    }
   ],
   "source": [
    "pickem.groupBy(\"game_id\").agg(countDistinct(\"AccountId\")).show(truncate=False)"
   ]
  },
  {
   "cell_type": "code",
   "execution_count": 158,
   "metadata": {},
   "outputs": [],
   "source": [
    "pickem_user = pickem.select(\"AccountId\").distinct()"
   ]
  },
  {
   "cell_type": "code",
   "execution_count": 48,
   "metadata": {},
   "outputs": [],
   "source": [
    "pc_gcoin_user = pc_gcoin_user.withColumn(\"part\", lit(1))\n",
    "ep_purchase_user = ep_purchase_user.withColumn(\"part\", lit(3))\n",
    "pickem_user = pickem_user.withColumn(\"part\", lit(5))\n",
    "participate = pc_gcoin_user.unionByName(ep_purchase_user).unionByName(pickem_user)"
   ]
  },
  {
   "cell_type": "code",
   "execution_count": 49,
   "metadata": {},
   "outputs": [],
   "source": [
    "participate_by_user = participate.groupBy(\"AccountId\").agg(sum(\"part\").alias(\"part\"))"
   ]
  },
  {
   "cell_type": "code",
   "execution_count": 50,
   "metadata": {},
   "outputs": [
    {
     "name": "stdout",
     "output_type": "stream",
     "text": [
      "+----+-------------------------+\n",
      "|part|count(DISTINCT AccountId)|\n",
      "+----+-------------------------+\n",
      "|1   |11239                    |\n",
      "|3   |15773                    |\n",
      "|4   |17571                    |\n",
      "|5   |889679                   |\n",
      "|6   |3458                     |\n",
      "|8   |462141                   |\n",
      "|9   |140909                   |\n",
      "+----+-------------------------+\n",
      "\n"
     ]
    }
   ],
   "source": [
    "participate_by_user.groupBy(\"part\").agg(countDistinct(\"AccountId\")).orderBy(\"part\").show(truncate=False)"
   ]
  },
  {
   "cell_type": "code",
   "execution_count": null,
   "metadata": {},
   "outputs": [],
   "source": []
  },
  {
   "cell_type": "markdown",
   "metadata": {},
   "source": [
    "### 상품 구매 순서"
   ]
  },
  {
   "cell_type": "code",
   "execution_count": 14,
   "metadata": {},
   "outputs": [],
   "source": [
    "from pyspark.sql import functions as F\n",
    "from pyspark.sql import Window\n",
    "\n",
    "w = Window.partitionBy('account_id').orderBy('time')\n",
    "\n",
    "purchase_orderby_time = pc_gcoin.withColumn(\n",
    "            'sorted_list', F.collect_list('product_name').over(w)\n",
    "        ).groupBy(\"account_id\").agg(max(\"sorted_list\").alias(\"sorted_list\"))"
   ]
  },
  {
   "cell_type": "code",
   "execution_count": 17,
   "metadata": {},
   "outputs": [],
   "source": [
    "purchase_orderby_time = purchase_orderby_time.groupBy(\"sorted_list\").agg(countDistinct(\"account_id\").alias(\"user_cnt\")).orderBy(\"user_cnt\", ascending=False).toPandas()"
   ]
  },
  {
   "cell_type": "code",
   "execution_count": 19,
   "metadata": {},
   "outputs": [],
   "source": [
    "purchase_orderby_time.to_csv(\"./pc_purchase_orderby_time.csv\", index=False)"
   ]
  },
  {
   "cell_type": "markdown",
   "metadata": {},
   "source": [
    "### EP 상품 구매 순서"
   ]
  },
  {
   "cell_type": "code",
   "execution_count": 376,
   "metadata": {},
   "outputs": [],
   "source": [
    "pgc_ep_item = mysql.read_table(spark, \"metainfo\", \"meta_vc_sales_items\").where(col(\"currency\") == \"esportspoint\").withColumn(\"product_name\", when(col(\"product_name\").isNull(), col(\"product_id\")).otherwise(col(\"product_name\")))\n",
    "ep_purchase = ep_purchase.join(pgc_ep_item.withColumnRenamed(\"product_id\", \"ProductId\").select(\"ProductId\", \"product_name\").distinct(), \"ProductId\")"
   ]
  },
  {
   "cell_type": "code",
   "execution_count": 276,
   "metadata": {},
   "outputs": [
    {
     "data": {
      "text/html": [
       "<div>\n",
       "<style scoped>\n",
       "    .dataframe tbody tr th:only-of-type {\n",
       "        vertical-align: middle;\n",
       "    }\n",
       "\n",
       "    .dataframe tbody tr th {\n",
       "        vertical-align: top;\n",
       "    }\n",
       "\n",
       "    .dataframe thead th {\n",
       "        text-align: right;\n",
       "    }\n",
       "</style>\n",
       "<table border=\"1\" class=\"dataframe\">\n",
       "  <thead>\n",
       "    <tr style=\"text-align: right;\">\n",
       "      <th></th>\n",
       "      <th>product_name</th>\n",
       "      <th>count(DISTINCT AccountId)</th>\n",
       "      <th>amount</th>\n",
       "      <th>sum((LocalPrice * Amount))</th>\n",
       "    </tr>\n",
       "  </thead>\n",
       "  <tbody>\n",
       "    <tr>\n",
       "      <th>0</th>\n",
       "      <td>currencydesc.bp</td>\n",
       "      <td>474759</td>\n",
       "      <td>5567127</td>\n",
       "      <td>27835635000</td>\n",
       "    </tr>\n",
       "    <tr>\n",
       "      <th>1</th>\n",
       "      <td>currencydesc.chestkeypiece</td>\n",
       "      <td>229215</td>\n",
       "      <td>1450366</td>\n",
       "      <td>9427379000</td>\n",
       "    </tr>\n",
       "    <tr>\n",
       "      <th>2</th>\n",
       "      <td>Hairstyle 36</td>\n",
       "      <td>261986</td>\n",
       "      <td>261987</td>\n",
       "      <td>20958960000</td>\n",
       "    </tr>\n",
       "    <tr>\n",
       "      <th>3</th>\n",
       "      <td>Nickname Change</td>\n",
       "      <td>164896</td>\n",
       "      <td>164896</td>\n",
       "      <td>11542720000</td>\n",
       "    </tr>\n",
       "    <tr>\n",
       "      <th>4</th>\n",
       "      <td>PGC 2022 Aced Backpack (Level 3)</td>\n",
       "      <td>158931</td>\n",
       "      <td>158931</td>\n",
       "      <td>12714480000</td>\n",
       "    </tr>\n",
       "    <tr>\n",
       "      <th>5</th>\n",
       "      <td>\"PGC 2022\" Coupe RB</td>\n",
       "      <td>123817</td>\n",
       "      <td>123817</td>\n",
       "      <td>26001570000</td>\n",
       "    </tr>\n",
       "    <tr>\n",
       "      <th>6</th>\n",
       "      <td>PGC 2022 Tac-Tech - Helmet (Level 3)</td>\n",
       "      <td>123562</td>\n",
       "      <td>123564</td>\n",
       "      <td>9885120000</td>\n",
       "    </tr>\n",
       "    <tr>\n",
       "      <th>7</th>\n",
       "      <td>PGC 2022 - Pan</td>\n",
       "      <td>117880</td>\n",
       "      <td>117880</td>\n",
       "      <td>24754800000</td>\n",
       "    </tr>\n",
       "    <tr>\n",
       "      <th>8</th>\n",
       "      <td>PGC 2022 Aced - Groza</td>\n",
       "      <td>105789</td>\n",
       "      <td>105790</td>\n",
       "      <td>22215900000</td>\n",
       "    </tr>\n",
       "    <tr>\n",
       "      <th>9</th>\n",
       "      <td>PGC 2022 Emblem</td>\n",
       "      <td>53782</td>\n",
       "      <td>53782</td>\n",
       "      <td>3764740000</td>\n",
       "    </tr>\n",
       "  </tbody>\n",
       "</table>\n",
       "</div>"
      ],
      "text/plain": [
       "                           product_name  count(DISTINCT AccountId)   amount  \\\n",
       "0                       currencydesc.bp                     474759  5567127   \n",
       "1            currencydesc.chestkeypiece                     229215  1450366   \n",
       "2                          Hairstyle 36                     261986   261987   \n",
       "3                       Nickname Change                     164896   164896   \n",
       "4      PGC 2022 Aced Backpack (Level 3)                     158931   158931   \n",
       "5                   \"PGC 2022\" Coupe RB                     123817   123817   \n",
       "6  PGC 2022 Tac-Tech - Helmet (Level 3)                     123562   123564   \n",
       "7                        PGC 2022 - Pan                     117880   117880   \n",
       "8                 PGC 2022 Aced - Groza                     105789   105790   \n",
       "9                       PGC 2022 Emblem                      53782    53782   \n",
       "\n",
       "   sum((LocalPrice * Amount))  \n",
       "0                 27835635000  \n",
       "1                  9427379000  \n",
       "2                 20958960000  \n",
       "3                 11542720000  \n",
       "4                 12714480000  \n",
       "5                 26001570000  \n",
       "6                  9885120000  \n",
       "7                 24754800000  \n",
       "8                 22215900000  \n",
       "9                  3764740000  "
      ]
     },
     "execution_count": 276,
     "metadata": {},
     "output_type": "execute_result"
    }
   ],
   "source": [
    "ep_purchase.groupBy(\"product_name\").agg(countDistinct(\"AccountId\"), sum(\"Amount\").alias(\"amount\"), sum(col(\"LocalPrice\")*col(\"Amount\"))).orderBy(\"amount\", ascending=False).toPandas()"
   ]
  },
  {
   "cell_type": "code",
   "execution_count": 352,
   "metadata": {},
   "outputs": [],
   "source": [
    "from pyspark.sql import functions as F\n",
    "from pyspark.sql import Window\n",
    "\n",
    "w = Window.partitionBy('AccountId').orderBy('Time')\n",
    "\n",
    "ep_purchase_orderby_time = ep_purchase.withColumn(\n",
    "            'sorted_list', F.collect_list('product_name').over(w)\n",
    "        ).groupBy(\"AccountId\").agg(max(col(\"sorted_list\")).alias('sorted_list'))"
   ]
  },
  {
   "cell_type": "code",
   "execution_count": 353,
   "metadata": {},
   "outputs": [],
   "source": [
    "ep_purchase_orderby_time = ep_purchase_orderby_time.groupBy(\"sorted_list\").agg(countDistinct(\"AccountId\").alias(\"user_cnt\")).orderBy(\"user_cnt\", ascending=False).toPandas()"
   ]
  },
  {
   "cell_type": "code",
   "execution_count": 354,
   "metadata": {},
   "outputs": [
    {
     "data": {
      "text/plain": [
       "636394"
      ]
     },
     "execution_count": 354,
     "metadata": {},
     "output_type": "execute_result"
    }
   ],
   "source": [
    "ep_purchase_orderby_time.user_cnt.sum()"
   ]
  },
  {
   "cell_type": "code",
   "execution_count": 355,
   "metadata": {},
   "outputs": [],
   "source": [
    "ep_purchase_orderby_time.to_csv(\"./ep_purchase_orderby_time.csv\", index=False)"
   ]
  },
  {
   "cell_type": "code",
   "execution_count": null,
   "metadata": {},
   "outputs": [],
   "source": []
  },
  {
   "cell_type": "code",
   "execution_count": 356,
   "metadata": {},
   "outputs": [],
   "source": [
    "from pyspark.sql import functions as F\n",
    "from pyspark.sql import Window\n",
    "\n",
    "w = Window.partitionBy('AccountId')\n",
    "\n",
    "ep_purchase_products = ep_purchase.withColumn(\n",
    "            'product_set', F.collect_set('product_name').over(w)\n",
    "        )"
   ]
  },
  {
   "cell_type": "code",
   "execution_count": 357,
   "metadata": {},
   "outputs": [],
   "source": [
    "ep_purchase_products_user_cnt = ep_purchase_products.groupBy(\"product_set\").agg(countDistinct(\"AccountId\").alias(\"user_cnt\")).orderBy(\"user_cnt\", ascending=False).toPandas()"
   ]
  },
  {
   "cell_type": "code",
   "execution_count": 358,
   "metadata": {},
   "outputs": [
    {
     "data": {
      "text/plain": [
       "636394"
      ]
     },
     "execution_count": 358,
     "metadata": {},
     "output_type": "execute_result"
    }
   ],
   "source": [
    "ep_purchase_products_user_cnt.user_cnt.sum()"
   ]
  },
  {
   "cell_type": "code",
   "execution_count": 359,
   "metadata": {},
   "outputs": [],
   "source": [
    "ep_purchase_products_user_cnt.to_csv('./ep_purchase_products_user_cnt.csv', index=False)"
   ]
  },
  {
   "cell_type": "markdown",
   "metadata": {},
   "source": [
    "### 픽뎀 전후 구매한 유저"
   ]
  },
  {
   "cell_type": "code",
   "execution_count": 303,
   "metadata": {},
   "outputs": [],
   "source": [
    "pc_gcoin = pc_gcoin.withColumn(\"after_pickem\", when(col(\"time\")> \"2022-11-18T09:00:00\", lit(\"true\")).otherwise(lit(\"false\")))"
   ]
  },
  {
   "cell_type": "code",
   "execution_count": 96,
   "metadata": {},
   "outputs": [
    {
     "name": "stdout",
     "output_type": "stream",
     "text": [
      "+------------+--------+\n",
      "|after_pickem|user_cnt|\n",
      "+------------+--------+\n",
      "|1           |172021  |\n",
      "|2           |1156    |\n",
      "+------------+--------+\n",
      "\n"
     ]
    }
   ],
   "source": [
    "pc_gcoin.groupBy(\"account_id\").agg(countDistinct(\"after_pickem\").alias(\"after_pickem\")).groupBy(\"after_pickem\").agg(count(\"*\").alias(\"user_cnt\")).show(truncate=False)"
   ]
  },
  {
   "cell_type": "code",
   "execution_count": 279,
   "metadata": {},
   "outputs": [
    {
     "data": {
      "text/html": [
       "<div>\n",
       "<style scoped>\n",
       "    .dataframe tbody tr th:only-of-type {\n",
       "        vertical-align: middle;\n",
       "    }\n",
       "\n",
       "    .dataframe tbody tr th {\n",
       "        vertical-align: top;\n",
       "    }\n",
       "\n",
       "    .dataframe thead th {\n",
       "        text-align: right;\n",
       "    }\n",
       "</style>\n",
       "<table border=\"1\" class=\"dataframe\">\n",
       "  <thead>\n",
       "    <tr style=\"text-align: right;\">\n",
       "      <th></th>\n",
       "      <th>after_pickem</th>\n",
       "      <th>sum(paid_use)</th>\n",
       "      <th>sum((paid_use + free_use))</th>\n",
       "      <th>count(DISTINCT account_id)</th>\n",
       "    </tr>\n",
       "  </thead>\n",
       "  <tbody>\n",
       "    <tr>\n",
       "      <th>0</th>\n",
       "      <td>false</td>\n",
       "      <td>554672360</td>\n",
       "      <td>616623010</td>\n",
       "      <td>121214</td>\n",
       "    </tr>\n",
       "    <tr>\n",
       "      <th>1</th>\n",
       "      <td>true</td>\n",
       "      <td>181128399</td>\n",
       "      <td>253565950</td>\n",
       "      <td>53119</td>\n",
       "    </tr>\n",
       "  </tbody>\n",
       "</table>\n",
       "</div>"
      ],
      "text/plain": [
       "  after_pickem  sum(paid_use)  sum((paid_use + free_use))  \\\n",
       "0        false      554672360                   616623010   \n",
       "1         true      181128399                   253565950   \n",
       "\n",
       "   count(DISTINCT account_id)  \n",
       "0                      121214  \n",
       "1                       53119  "
      ]
     },
     "execution_count": 279,
     "metadata": {},
     "output_type": "execute_result"
    }
   ],
   "source": [
    "pc_gcoin.groupBy(\"after_pickem\").agg(sum(\"paid_use\"), sum(col(\"paid_use\") + col(\"free_use\")), countDistinct(\"account_id\")).toPandas()"
   ]
  },
  {
   "cell_type": "code",
   "execution_count": null,
   "metadata": {},
   "outputs": [],
   "source": []
  },
  {
   "cell_type": "code",
   "execution_count": 199,
   "metadata": {},
   "outputs": [],
   "source": [
    "after_pickem_user = pc_gcoin.groupBy(\"account_id\").agg(countDistinct(\"after_pickem\").alias(\"after_pickem\")).filter(col(\"after_pickem\") == 2)"
   ]
  },
  {
   "cell_type": "code",
   "execution_count": 201,
   "metadata": {},
   "outputs": [
    {
     "name": "stdout",
     "output_type": "stream",
     "text": [
      "+------------+--------+---------+------+\n",
      "|after_pickem|paid_use|total_use|pu_cnt|\n",
      "+------------+--------+---------+------+\n",
      "|false       |4087530 |4530900  |1156  |\n",
      "|true        |2854870 |3796600  |1156  |\n",
      "+------------+--------+---------+------+\n",
      "\n"
     ]
    }
   ],
   "source": [
    "pc_gcoin.join(after_pickem_user.select(\"account_id\"), \"account_id\").groupBy(\"after_pickem\").agg(sum(\"paid_use\").alias(\"paid_use\"), sum(col(\"paid_use\")+col(\"free_use\")).alias(\"total_use\"), countDistinct(\"account_id\").alias(\"pu_cnt\")).show(truncate=False)"
   ]
  },
  {
   "cell_type": "code",
   "execution_count": null,
   "metadata": {},
   "outputs": [],
   "source": []
  },
  {
   "cell_type": "code",
   "execution_count": 116,
   "metadata": {},
   "outputs": [],
   "source": [
    "# 픽뎀 전후로 구매한 유저들의 픽뎀 이후 상품 구매 후 ep 구매 여부\n",
    "after_pickem_purchase_time = pc_gcoin.join(after_pickem_user.select(\"account_id\"), \"account_id\").where(col(\"after_pickem\") == \"true\").groupBy(\"account_id\").agg(min(\"time\").alias(\"purchase_time\"))\n",
    "after_pickem_ep_purchse = ep_purchase.join(after_pickem_purchase_time.withColumnRenamed(\"account_id\", \"AccountId\"), \"AccountId\").where(col(\"Time\") > col(\"purchase_time\"))"
   ]
  },
  {
   "cell_type": "code",
   "execution_count": 117,
   "metadata": {},
   "outputs": [
    {
     "name": "stdout",
     "output_type": "stream",
     "text": [
      "+-------------------------+\n",
      "|count(DISTINCT AccountId)|\n",
      "+-------------------------+\n",
      "|940                      |\n",
      "+-------------------------+\n",
      "\n"
     ]
    }
   ],
   "source": [
    "after_pickem_ep_purchse.select(countDistinct(\"AccountId\")).show(truncate=False)"
   ]
  },
  {
   "cell_type": "code",
   "execution_count": null,
   "metadata": {},
   "outputs": [],
   "source": [
    "# 1156명중 \n",
    "1109: ep 상품 구매\n",
    "1086: 픽뎀 종료 이후 ep 상품 구매\n",
    "940: 픽뎀 종료 이후 상품 구매한 유저들의 ep 구매"
   ]
  },
  {
   "cell_type": "code",
   "execution_count": 114,
   "metadata": {},
   "outputs": [
    {
     "name": "stdout",
     "output_type": "stream",
     "text": [
      "+--------------------------+------+--------+---------+--------+\n",
      "|ProductId                 |amount|Price   |sum_price|user_cnt|\n",
      "+--------------------------+------+--------+---------+--------+\n",
      "|itemdesc.18040148         |291   |70000.0 |20370000 |291     |\n",
      "|itemdesc.17210052         |303   |80000.0 |24240000 |303     |\n",
      "|itemdesc.45000003         |353   |70000.0 |24710000 |353     |\n",
      "|itemdesc.12020040         |423   |210000.0|88830000 |423     |\n",
      "|currencydesc.chestkeypiece|4760  |6500.0  |5928000  |449     |\n",
      "|itemdesc.12031144         |449   |80000.0 |35920000 |449     |\n",
      "|itemdesc.12010650         |450   |210000.0|94500000 |450     |\n",
      "|itemdesc.12032147         |462   |80000.0 |36960000 |462     |\n",
      "|itemdesc.12010658         |463   |210000.0|97230000 |463     |\n",
      "|currencydesc.bp           |17717 |5000.0  |7645000  |748     |\n",
      "+--------------------------+------+--------+---------+--------+\n",
      "\n"
     ]
    }
   ],
   "source": [
    "after_pickem_ep_purchse.groupBy(\"ProductId\").agg(sum(\"Amount\").alias(\"amount\"), mean(\"LocalPrice\").alias(\"Price\"), sum(\"LocalPrice\").alias(\"sum_price\"), countDistinct(\"AccountId\").alias(\"user_cnt\")).orderBy(\"user_cnt\").show(truncate=False)"
   ]
  },
  {
   "cell_type": "code",
   "execution_count": 183,
   "metadata": {},
   "outputs": [],
   "source": [
    "ep_increased = load_schema.lobby(spark, \"pc\", \"live\", \"CurrencyIncreased\", start_date, end_date).where(col(\"Currency\") == \"currencydesc.esportspoint\").where(col(\"Amount\") > 0)"
   ]
  },
  {
   "cell_type": "code",
   "execution_count": 189,
   "metadata": {},
   "outputs": [],
   "source": [
    "ep_increased = ep_increased.withColumn(\"before_pickem_end\", when(col(\"Time\") <= \"2022-11-18T09:00:00\", col(\"Amount\")).otherwise(lit(None))) \\\n",
    "    .withColumn(\"after_pickem_end\", when(col(\"Time\") > \"2022-11-18T09:00:00\", col(\"Amount\")).otherwise(lit(None)))"
   ]
  },
  {
   "cell_type": "code",
   "execution_count": 190,
   "metadata": {},
   "outputs": [],
   "source": [
    "ep_increased_by_user = ep_increased.groupBy(\"AccountId\").agg(sum(\"before_pickem_end\").alias(\"before_pickem_end\"), sum(\"after_pickem_end\").alias(\"after_pickem_end\"))"
   ]
  },
  {
   "cell_type": "code",
   "execution_count": 191,
   "metadata": {},
   "outputs": [
    {
     "name": "stdout",
     "output_type": "stream",
     "text": [
      "+----------------------------------------+-----------------+----------------+\n",
      "|AccountId                               |before_pickem_end|after_pickem_end|\n",
      "+----------------------------------------+-----------------+----------------+\n",
      "|account.9541443551274eaab0ec32fc31b5a138|null             |547600          |\n",
      "|account.46ff42646894422e93e5856bbbed88eb|210000           |46800           |\n",
      "|account.aba58be4146047c08f0e0873e3cd32aa|500000           |613600          |\n",
      "|account.7f3c0937e6374bccac90fbaba241d5ea|210000           |223200          |\n",
      "|account.dc4be04728e54ce8bfb0d8199a110a51|210000           |39200           |\n",
      "|account.875bc3b4be474e38b1c6af8983747198|500000           |null            |\n",
      "|account.fac4e636fffa4124b5dfeecf6a2ed64f|210000           |null            |\n",
      "|account.ae42d88b7a88489fb9e3a24f9335df90|500000           |180000          |\n",
      "|account.c13f26a2289743e1990e56000ae56da6|500000           |561600          |\n",
      "|account.d48023a654c645cb8dda73c5524987ac|500000           |624800          |\n",
      "|account.563f550363764246a11f56ea9f771b3a|210000           |null            |\n",
      "|account.419c7089054a4853914680614d28c8e7|null             |101600          |\n",
      "|account.366f4290f01942568fbad7720eaa73e1|null             |290400          |\n",
      "|account.999733a2bb924427b60ebaae4135b3e8|null             |168750          |\n",
      "|account.61de74fb6c274f7b8f2ef9447b4c7b29|null             |530000          |\n",
      "|account.a4353d756e914138bc0caeab77d99f18|null             |155000          |\n",
      "|account.52848d387d1d409c8b77930c5ef0f165|null             |118850          |\n",
      "|account.fc3e3a6cd5f349e28d41185606c0e548|null             |522000          |\n",
      "|account.cb9fcb79886a4dfe99e58f6a53435f8e|500000           |253600          |\n",
      "|account.9acdf2ab7ae94556ae53f135bdbe32fb|null             |13600           |\n",
      "+----------------------------------------+-----------------+----------------+\n",
      "only showing top 20 rows\n",
      "\n"
     ]
    }
   ],
   "source": [
    "ep_increased_by_user.show(truncate=False)"
   ]
  },
  {
   "cell_type": "code",
   "execution_count": 192,
   "metadata": {},
   "outputs": [
    {
     "name": "stdout",
     "output_type": "stream",
     "text": [
      "+-------------------------+\n",
      "|count(DISTINCT AccountId)|\n",
      "+-------------------------+\n",
      "|741850                   |\n",
      "+-------------------------+\n",
      "\n"
     ]
    }
   ],
   "source": [
    "# 전체 ep 획득 유저\n",
    "ep_increased_by_user.select(countDistinct(\"AccountId\")).show(truncate=False)"
   ]
  },
  {
   "cell_type": "code",
   "execution_count": 194,
   "metadata": {},
   "outputs": [],
   "source": [
    "after_ep = ep_increased_by_user.where((col(\"before_pickem_end\").isNull()) & (~col(\"after_pickem_end\").isNull())).select(\"AccountId\").distinct()"
   ]
  },
  {
   "cell_type": "code",
   "execution_count": 193,
   "metadata": {},
   "outputs": [
    {
     "name": "stdout",
     "output_type": "stream",
     "text": [
      "+-------------------------+\n",
      "|count(DISTINCT AccountId)|\n",
      "+-------------------------+\n",
      "|504899                   |\n",
      "+-------------------------+\n",
      "\n"
     ]
    }
   ],
   "source": [
    "# pickem 종료 이후에 ep 획득 유저수\n",
    "after_ep.select(countDistinct(\"AccountId\")).show(truncate=False)"
   ]
  },
  {
   "cell_type": "code",
   "execution_count": null,
   "metadata": {},
   "outputs": [],
   "source": []
  },
  {
   "cell_type": "code",
   "execution_count": 195,
   "metadata": {},
   "outputs": [
    {
     "name": "stdout",
     "output_type": "stream",
     "text": [
      "+-------------------------+\n",
      "|count(DISTINCT AccountId)|\n",
      "+-------------------------+\n",
      "|29098                    |\n",
      "+-------------------------+\n",
      "\n"
     ]
    }
   ],
   "source": [
    "# pickem 종료이후로 ep를 획득해본 유저 중 첫 ep 획득이 상품 구매인 경우\n",
    "after_pickem_first_ep_get = ep_increased.join(after_ep, \"AccountId\").groupBy(\"AccountId\").agg(min(\"Time\").alias(\"Time\"))\n",
    "ep_increased.join(after_pickem_first_ep_get, [\"AccountId\", \"Time\"]).filter(col(\"Reason\") == \"buy-cash-item\").select(countDistinct(\"AccountId\")).show(truncate=False)"
   ]
  },
  {
   "cell_type": "code",
   "execution_count": 202,
   "metadata": {},
   "outputs": [],
   "source": [
    "after_pickem_first_ep_by_purchase_user = ep_increased.join(after_pickem_first_ep_get, [\"AccountId\", \"Time\"]).filter(col(\"Reason\") == \"buy-cash-item\").select(\"AccountId\").distinct()"
   ]
  },
  {
   "cell_type": "code",
   "execution_count": 204,
   "metadata": {},
   "outputs": [
    {
     "name": "stdout",
     "output_type": "stream",
     "text": [
      "+----------------------------+----------------------------+-------------+--------------------------+\n",
      "|min(time)                   |max(time)                   |sum(paid_use)|sum((paid_use + free_use))|\n",
      "+----------------------------+----------------------------+-------------+--------------------------+\n",
      "|2022-10-26T05:43:56.3896756Z|2022-12-07T03:17:28.2478969Z|101174615    |141473140                 |\n",
      "+----------------------------+----------------------------+-------------+--------------------------+\n",
      "\n"
     ]
    }
   ],
   "source": [
    "pc_gcoin.join(after_pickem_first_ep_by_purchase_user.withColumnRenamed(\"AccountId\", \"account_id\"), \"account_id\").select(min(\"time\"), max(\"time\"), sum(\"paid_use\"), sum(col(\"paid_use\") + col(\"free_use\"))).show(truncate=False)"
   ]
  },
  {
   "cell_type": "code",
   "execution_count": 206,
   "metadata": {},
   "outputs": [
    {
     "data": {
      "text/html": [
       "<div>\n",
       "<style scoped>\n",
       "    .dataframe tbody tr th:only-of-type {\n",
       "        vertical-align: middle;\n",
       "    }\n",
       "\n",
       "    .dataframe tbody tr th {\n",
       "        vertical-align: top;\n",
       "    }\n",
       "\n",
       "    .dataframe thead th {\n",
       "        text-align: right;\n",
       "    }\n",
       "</style>\n",
       "<table border=\"1\" class=\"dataframe\">\n",
       "  <thead>\n",
       "    <tr style=\"text-align: right;\">\n",
       "      <th></th>\n",
       "      <th>product_id</th>\n",
       "      <th>product_name</th>\n",
       "      <th>sum(paid_use)</th>\n",
       "      <th>sum((paid_use + free_use))</th>\n",
       "    </tr>\n",
       "  </thead>\n",
       "  <tbody>\n",
       "    <tr>\n",
       "      <th>0</th>\n",
       "      <td>itemdesc.13000673</td>\n",
       "      <td>PGC 2022 MEGA BUNDLE + VOTING COUPON</td>\n",
       "      <td>73207560</td>\n",
       "      <td>101816300</td>\n",
       "    </tr>\n",
       "    <tr>\n",
       "      <th>1</th>\n",
       "      <td>itemdesc.13000670</td>\n",
       "      <td>PGC 2022 IRIDESCENT DANGER BUNDLE + VOTING COUPON</td>\n",
       "      <td>9331490</td>\n",
       "      <td>13808000</td>\n",
       "    </tr>\n",
       "    <tr>\n",
       "      <th>2</th>\n",
       "      <td>itemdesc.13000671</td>\n",
       "      <td>PGC 2022 TAC-TECH BUNDLE + VOTING COUPON</td>\n",
       "      <td>18452205</td>\n",
       "      <td>25536000</td>\n",
       "    </tr>\n",
       "    <tr>\n",
       "      <th>3</th>\n",
       "      <td>itemdesc.13000672</td>\n",
       "      <td>PGC 2022 EMOTE SET</td>\n",
       "      <td>183360</td>\n",
       "      <td>312840</td>\n",
       "    </tr>\n",
       "  </tbody>\n",
       "</table>\n",
       "</div>"
      ],
      "text/plain": [
       "          product_id                                       product_name  \\\n",
       "0  itemdesc.13000673               PGC 2022 MEGA BUNDLE + VOTING COUPON   \n",
       "1  itemdesc.13000670  PGC 2022 IRIDESCENT DANGER BUNDLE + VOTING COUPON   \n",
       "2  itemdesc.13000671           PGC 2022 TAC-TECH BUNDLE + VOTING COUPON   \n",
       "3  itemdesc.13000672                                 PGC 2022 EMOTE SET   \n",
       "\n",
       "   sum(paid_use)  sum((paid_use + free_use))  \n",
       "0       73207560                   101816300  \n",
       "1        9331490                    13808000  \n",
       "2       18452205                    25536000  \n",
       "3         183360                      312840  "
      ]
     },
     "execution_count": 206,
     "metadata": {},
     "output_type": "execute_result"
    }
   ],
   "source": [
    "pc_gcoin.join(after_pickem_first_ep_by_purchase_user.withColumnRenamed(\"AccountId\", \"account_id\"), \"account_id\").groupBy(\"product_id\", \"product_name\").agg(sum(\"paid_use\"), sum(col(\"paid_use\") + col(\"free_use\"))).toPandas()"
   ]
  },
  {
   "cell_type": "code",
   "execution_count": 208,
   "metadata": {},
   "outputs": [
    {
     "name": "stdout",
     "output_type": "stream",
     "text": [
      "+-------------------------+\n",
      "|count(DISTINCT AccountId)|\n",
      "+-------------------------+\n",
      "|23512                    |\n",
      "+-------------------------+\n",
      "\n"
     ]
    },
    {
     "name": "stderr",
     "output_type": "stream",
     "text": [
      "----------------------------------------\n",
      "Exception happened during processing of request from ('127.0.0.1', 55818)\n",
      "Traceback (most recent call last):\n",
      "  File \"/opt/conda/lib/python3.6/socketserver.py\", line 317, in _handle_request_noblock\n",
      "    self.process_request(request, client_address)\n",
      "  File \"/opt/conda/lib/python3.6/socketserver.py\", line 348, in process_request\n",
      "    self.finish_request(request, client_address)\n",
      "  File \"/opt/conda/lib/python3.6/socketserver.py\", line 361, in finish_request\n",
      "    self.RequestHandlerClass(request, client_address, self)\n",
      "  File \"/opt/conda/lib/python3.6/socketserver.py\", line 721, in __init__\n",
      "    self.handle()\n",
      "  File \"/usr/local/spark/python/pyspark/accumulators.py\", line 269, in handle\n",
      "    poll(accum_updates)\n",
      "  File \"/usr/local/spark/python/pyspark/accumulators.py\", line 241, in poll\n",
      "    if func():\n",
      "  File \"/usr/local/spark/python/pyspark/accumulators.py\", line 245, in accum_updates\n",
      "    num_updates = read_int(self.rfile)\n",
      "  File \"/usr/local/spark/python/pyspark/serializers.py\", line 717, in read_int\n",
      "    raise EOFError\n",
      "EOFError\n",
      "----------------------------------------\n"
     ]
    }
   ],
   "source": [
    "ep_purchase.join(after_pickem_first_ep_by_purchase_user, \"AccountId\").select(countDistinct(\"AccountId\")).show(truncate=False)"
   ]
  },
  {
   "cell_type": "code",
   "execution_count": null,
   "metadata": {},
   "outputs": [],
   "source": []
  },
  {
   "cell_type": "code",
   "execution_count": 306,
   "metadata": {},
   "outputs": [],
   "source": [
    "before_or_after_user = pc_gcoin.groupBy(\"account_id\").agg(countDistinct(\"after_pickem\").alias(\"before_and_after\")).filter(col(\"before_and_after\") == 1)\n",
    "only_after_user = pc_gcoin.where(col(\"after_pickem\") == \"true\").join(before_or_after_user, \"account_id\").groupBy(\"account_id\").agg(min(\"time\").alias(\"min_time\"))"
   ]
  },
  {
   "cell_type": "code",
   "execution_count": 312,
   "metadata": {},
   "outputs": [],
   "source": [
    "only_after_not_double_gcoin_user = only_after_user.join(double_gcoin_pgc_user, \"account_id\", \"leftanti\")"
   ]
  },
  {
   "cell_type": "code",
   "execution_count": 314,
   "metadata": {},
   "outputs": [
    {
     "name": "stdout",
     "output_type": "stream",
     "text": [
      "+--------------------------+\n",
      "|count(DISTINCT account_id)|\n",
      "+--------------------------+\n",
      "|12814                     |\n",
      "+--------------------------+\n",
      "\n"
     ]
    }
   ],
   "source": [
    "only_after_not_double_gcoin_user.select(countDistinct(\"account_id\")).show(truncate=False)"
   ]
  },
  {
   "cell_type": "code",
   "execution_count": 315,
   "metadata": {},
   "outputs": [
    {
     "name": "stdout",
     "output_type": "stream",
     "text": [
      "+--------------------------+\n",
      "|count(DISTINCT account_id)|\n",
      "+--------------------------+\n",
      "|9132                      |\n",
      "+--------------------------+\n",
      "\n"
     ]
    }
   ],
   "source": [
    "only_after_not_double_gcoin_user.join(ep_purchase, (only_after_not_double_gcoin_user.account_id == ep_purchase.AccountId) & (only_after_not_double_gcoin_user.min_time < ep_purchase.Time)) \\\n",
    "    .select(countDistinct(\"account_id\")).show(truncate=False)"
   ]
  },
  {
   "cell_type": "code",
   "execution_count": null,
   "metadata": {},
   "outputs": [],
   "source": []
  },
  {
   "cell_type": "code",
   "execution_count": 145,
   "metadata": {},
   "outputs": [
    {
     "name": "stdout",
     "output_type": "stream",
     "text": [
      "+--------------------------+\n",
      "|count(DISTINCT account_id)|\n",
      "+--------------------------+\n",
      "|172021                    |\n",
      "+--------------------------+\n",
      "\n"
     ]
    }
   ],
   "source": [
    "# before or after\n",
    "before_or_after_user.select(countDistinct(\"account_id\")).show(truncate=False)"
   ]
  },
  {
   "cell_type": "code",
   "execution_count": 146,
   "metadata": {},
   "outputs": [
    {
     "name": "stdout",
     "output_type": "stream",
     "text": [
      "+--------------------------+\n",
      "|count(DISTINCT account_id)|\n",
      "+--------------------------+\n",
      "|1156                      |\n",
      "+--------------------------+\n",
      "\n"
     ]
    }
   ],
   "source": [
    "# before_and_after_user\n",
    "# after_pickem_user = pc_gcoin.groupBy(\"account_id\").agg(countDistinct(\"after_pickem\").alias(\"after_pickem\")).filter(col(\"after_pickem\") == 2)\n",
    "after_pickem_user.select(countDistinct(\"account_id\")).show(truncate=False)"
   ]
  },
  {
   "cell_type": "code",
   "execution_count": 144,
   "metadata": {},
   "outputs": [
    {
     "name": "stdout",
     "output_type": "stream",
     "text": [
      "+--------------------------+\n",
      "|count(DISTINCT account_id)|\n",
      "+--------------------------+\n",
      "|51004                     |\n",
      "+--------------------------+\n",
      "\n"
     ]
    }
   ],
   "source": [
    "# pickem 종료 이후에 ep 획득한 유저 중 \n",
    "# pickem 종료 이후에 상품 구매한 유저수\n",
    "only_after_user.join(after_ep.withColumnRenamed(\"AccountId\", \"account_id\"), \"account_id\").select(countDistinct(\"account_id\")).show(truncate=False)"
   ]
  },
  {
   "cell_type": "code",
   "execution_count": null,
   "metadata": {},
   "outputs": [],
   "source": [
    "ep_increased."
   ]
  }
 ],
 "metadata": {
  "kernelspec": {
   "display_name": "Python 3",
   "language": "python",
   "name": "python3"
  },
  "language_info": {
   "codemirror_mode": {
    "name": "ipython",
    "version": 3
   },
   "file_extension": ".py",
   "mimetype": "text/x-python",
   "name": "python",
   "nbconvert_exporter": "python",
   "pygments_lexer": "ipython3",
   "version": "3.6.7"
  }
 },
 "nbformat": 4,
 "nbformat_minor": 4
}
