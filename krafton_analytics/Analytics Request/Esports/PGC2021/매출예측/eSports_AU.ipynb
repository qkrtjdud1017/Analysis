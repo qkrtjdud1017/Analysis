{
 "cells": [
  {
   "cell_type": "code",
   "execution_count": 8,
   "metadata": {},
   "outputs": [],
   "source": [
    "def load_master(startdate, enddate, device):\n",
    "    startdate = datetime.strptime(startdate, '%Y-%m-%d')\n",
    "    enddate = datetime.strptime(enddate, '%Y-%m-%d')\n",
    "    device = device.upper()\n",
    "    date_list = [(startdate + timedelta(d)).strftime(\"%Y-%m-%d\") for d in range((enddate-startdate).days+1)]   \n",
    "    path_list = [\"s3a://pubg-log-labs/data_mart/user_master_ver2/{}/{}\" \\\n",
    "            .format(target_date, device) for target_date in date_list]\n",
    "    df = spark.read.parquet(*path_list)\n",
    "    return df"
   ]
  },
  {
   "cell_type": "markdown",
   "metadata": {},
   "source": [
    "### PCS1\n",
    "#### start_date='2020-06-17', end_date='2020-07-02'"
   ]
  },
  {
   "cell_type": "code",
   "execution_count": 9,
   "metadata": {},
   "outputs": [],
   "source": [
    "# pcs1_au = load_master(startdate='2020-06-17', enddate='2020-07-02', device='pc')"
   ]
  },
  {
   "cell_type": "code",
   "execution_count": 3,
   "metadata": {},
   "outputs": [],
   "source": [
    "pcs1_au = load_data_mart(start_date='2020-06-17', end_date='2020-07-02', device='pc', table_name='user_master')\n",
    "pcs1_cash = load_data_mart(start_date='2020-06-17', end_date='2020-07-02', device='pc', table_name='cash_mtx')"
   ]
  },
  {
   "cell_type": "code",
   "execution_count": 36,
   "metadata": {},
   "outputs": [
    {
     "name": "stdout",
     "output_type": "stream",
     "text": [
      "no gcoin_use data in given period 2020-06-17 00:00:00-2020-07-02 00:00:00\n"
     ]
    }
   ],
   "source": [
    "pcs1_gcoin = load_data_mart(start_date='2020-06-17', end_date='2020-07-02', device='pc', table_name='gcoin_use')"
   ]
  },
  {
   "cell_type": "code",
   "execution_count": 28,
   "metadata": {},
   "outputs": [
    {
     "data": {
      "text/plain": [
       "6771737"
      ]
     },
     "execution_count": 28,
     "metadata": {},
     "output_type": "execute_result"
    }
   ],
   "source": [
    "pcs1_au.where('''\n",
    "lastlogindate >= '2020-06-17'\n",
    "''').select(\"accountid\").distinct().count()"
   ]
  },
  {
   "cell_type": "code",
   "execution_count": 4,
   "metadata": {},
   "outputs": [
    {
     "data": {
      "text/plain": [
       "370670"
      ]
     },
     "execution_count": 4,
     "metadata": {},
     "output_type": "execute_result"
    }
   ],
   "source": [
    "pcs1_cash.where(''' product_name like '%PCS%' ''').select(\"account_id\").distinct().count()"
   ]
  },
  {
   "cell_type": "code",
   "execution_count": 11,
   "metadata": {},
   "outputs": [
    {
     "name": "stdout",
     "output_type": "stream",
     "text": [
      "+--------------+-----------------+\n",
      "|   sum(price_)|sum(ingame_price)|\n",
      "+--------------+-----------------+\n",
      "|7424858.280000|   7424858.280000|\n",
      "+--------------+-----------------+\n",
      "\n"
     ]
    }
   ],
   "source": [
    "pcs1_ = pcs1_cash.where((''' product_name like '%PCS%' ''')).groupBy('transaction_id').agg(avg('price_').alias('price_'), avg('ingame_price').alias('ingame_price'))\n",
    "pcs1_.select(sum('price_'), sum('ingame_price')).show()"
   ]
  },
  {
   "cell_type": "code",
   "execution_count": null,
   "metadata": {},
   "outputs": [],
   "source": []
  },
  {
   "cell_type": "code",
   "execution_count": null,
   "metadata": {},
   "outputs": [],
   "source": [
    "print(pcs1_cash.where((''' product_name like '%PCS%' ''')).count())\n",
    "print(pcs1_.count())"
   ]
  },
  {
   "cell_type": "code",
   "execution_count": 54,
   "metadata": {},
   "outputs": [
    {
     "name": "stdout",
     "output_type": "stream",
     "text": [
      "+--------------------+\n",
      "|        product_name|\n",
      "+--------------------+\n",
      "|        PCS1 - M16A4|\n",
      "|        PCS1 - UMP45|\n",
      "|  PCS1 - MK47 MUTANT|\n",
      "|   PCS1 CLOTHING SET|\n",
      "|PCS1 DANCE - TAKE...|\n",
      "|     PCS1 COMBAT SET|\n",
      "+--------------------+\n",
      "\n"
     ]
    }
   ],
   "source": [
    "pcs1_cash.where(''' product_name like '%PCS%' ''').select('product_name').distinct().show()"
   ]
  },
  {
   "cell_type": "markdown",
   "metadata": {},
   "source": [
    "## PCS2"
   ]
  },
  {
   "cell_type": "code",
   "execution_count": 13,
   "metadata": {},
   "outputs": [],
   "source": [
    "pcs2_au = load_data_mart(start_date='2020-08-19', end_date='2020-09-08', device='pc', table_name='user_master')\n",
    "pcs2_cash = load_data_mart(start_date='2020-08-19', end_date='2020-09-08', device='pc', table_name='cash_mtx')"
   ]
  },
  {
   "cell_type": "code",
   "execution_count": 37,
   "metadata": {},
   "outputs": [
    {
     "name": "stdout",
     "output_type": "stream",
     "text": [
      "no gcoin_use data in given period 2020-08-19 00:00:00-2020-09-08 00:00:00\n"
     ]
    }
   ],
   "source": [
    "pcs2_gcoin = load_data_mart(start_date='2020-08-19', end_date='2020-09-08', device='pc', table_name='gcoin_use')"
   ]
  },
  {
   "cell_type": "code",
   "execution_count": 17,
   "metadata": {},
   "outputs": [
    {
     "data": {
      "text/plain": [
       "6647746"
      ]
     },
     "execution_count": 17,
     "metadata": {},
     "output_type": "execute_result"
    }
   ],
   "source": [
    "pcs2_au.where('''\n",
    "lastlogindate >= '2020-08-19'\n",
    "''').select(\"accountid\").distinct().count()"
   ]
  },
  {
   "cell_type": "code",
   "execution_count": 19,
   "metadata": {},
   "outputs": [
    {
     "name": "stdout",
     "output_type": "stream",
     "text": [
      "+-----------+-----------------+\n",
      "|sum(price_)|sum(ingame_price)|\n",
      "+-----------+-----------------+\n",
      "|23930250.71|      23930250.71|\n",
      "+-----------+-----------------+\n",
      "\n"
     ]
    }
   ],
   "source": [
    "pcs2_cash.where((''' product_name like '%PCS%' ''')).select(sum('price_'), sum('ingame_price')).show()"
   ]
  },
  {
   "cell_type": "code",
   "execution_count": 20,
   "metadata": {},
   "outputs": [
    {
     "name": "stdout",
     "output_type": "stream",
     "text": [
      "+---------------+-----------------+\n",
      "|    sum(price_)|sum(ingame_price)|\n",
      "+---------------+-----------------+\n",
      "|23929140.640000|  23929140.640000|\n",
      "+---------------+-----------------+\n",
      "\n"
     ]
    }
   ],
   "source": [
    "pcs2_ = pcs2_cash.where((''' product_name like '%PCS%' ''')).groupBy('transaction_id').agg(avg('price_').alias('price_'), avg('ingame_price').alias('ingame_price'))\n",
    "pcs2_.select(sum('price_'), sum('ingame_price')).show()"
   ]
  },
  {
   "cell_type": "code",
   "execution_count": 21,
   "metadata": {},
   "outputs": [
    {
     "name": "stdout",
     "output_type": "stream",
     "text": [
      "1659129\n",
      "1659036\n"
     ]
    }
   ],
   "source": [
    "print(pcs2_cash.where((''' product_name like '%PCS%' ''')).count())\n",
    "print(pcs2_.count())"
   ]
  },
  {
   "cell_type": "code",
   "execution_count": null,
   "metadata": {},
   "outputs": [],
   "source": []
  },
  {
   "cell_type": "markdown",
   "metadata": {},
   "source": [
    "## PCS3"
   ]
  },
  {
   "cell_type": "code",
   "execution_count": 22,
   "metadata": {},
   "outputs": [],
   "source": [
    "pcs3_au = load_data_mart(start_date='2020-10-28', end_date='2020-11-19', device='pc', table_name='user_master')\n",
    "pcs3_cash = load_data_mart(start_date='2020-10-28', end_date='2020-11-19', device='pc', table_name='cash_mtx')"
   ]
  },
  {
   "cell_type": "code",
   "execution_count": null,
   "metadata": {},
   "outputs": [],
   "source": [
    "pcs3_gcoin.whepcs3_gcoin = load_data_mart(start_date='2020-10-28', end_date='2020-11-19', device='pc', table_name='gcoin_use')re('''  ''')"
   ]
  },
  {
   "cell_type": "code",
   "execution_count": 24,
   "metadata": {},
   "outputs": [
    {
     "data": {
      "text/plain": [
       "6490465"
      ]
     },
     "execution_count": 24,
     "metadata": {},
     "output_type": "execute_result"
    }
   ],
   "source": [
    "pcs3_au.where('''\n",
    "lastlogindate >= '2020-10-28'\n",
    "''').select(\"accountid\").distinct().count()"
   ]
  },
  {
   "cell_type": "code",
   "execution_count": 29,
   "metadata": {},
   "outputs": [
    {
     "name": "stdout",
     "output_type": "stream",
     "text": [
      "+--------------------+\n",
      "|        product_name|\n",
      "+--------------------+\n",
      "|500(+10 Bonus) G-...|\n",
      "|Survivor Pass: Hi...|\n",
      "|1000(+50 Bonus) G...|\n",
      "|          100 G-Coin|\n",
      "|5000(+500 Bonus) ...|\n",
      "|10000(+1200 Bonus...|\n",
      "|2500(+200 Bonus) ...|\n",
      "|Survivor Pass: Pa...|\n",
      "|Survivor Pass: Co...|\n",
      "+--------------------+\n",
      "\n"
     ]
    }
   ],
   "source": [
    "pcs3_cash.select('product_name').distinct().show()"
   ]
  },
  {
   "cell_type": "markdown",
   "metadata": {},
   "source": [
    "### PGI.S\n",
    "#### start_date='2021-01-20', end_date='2021-03-27'"
   ]
  },
  {
   "cell_type": "code",
   "execution_count": 82,
   "metadata": {},
   "outputs": [],
   "source": [
    "pgis_au = load_data_mart(start_date='2021-01-20', end_date='2021-03-27', device='pc', table_name='user_master')\n",
    "pgis_cash = load_data_mart(start_date='2021-01-20', end_date='2021-03-27', device='pc', table_name='cash_mtx')"
   ]
  },
  {
   "cell_type": "code",
   "execution_count": 83,
   "metadata": {},
   "outputs": [],
   "source": [
    "pgis = pgis_au.join(pgis_cash, pgis_au.accountid == pgis_cash.account_id, 'left')"
   ]
  }
 ],
 "metadata": {
  "kernelspec": {
   "display_name": "Python 3",
   "language": "python",
   "name": "python3"
  },
  "language_info": {
   "codemirror_mode": {
    "name": "ipython",
    "version": 3
   },
   "file_extension": ".py",
   "mimetype": "text/x-python",
   "name": "python",
   "nbconvert_exporter": "python",
   "pygments_lexer": "ipython3",
   "version": "3.6.7"
  }
 },
 "nbformat": 4,
 "nbformat_minor": 4
}
