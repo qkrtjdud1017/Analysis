{
 "cells": [
  {
   "cell_type": "code",
   "execution_count": 1,
   "metadata": {},
   "outputs": [
    {
     "name": "stdout",
     "output_type": "stream",
     "text": [
      "Spark cluster not assigned. creating a new one...\n",
      "Node spec: 4 executors with 48G RAM each\n",
      "Job Port 4049 is assigned for requested cluster\n",
      "Waiting for Spark master to be available...\n",
      "Spark master launched!\n",
      "Creating new Spark session, name: west0_pcs7...\n",
      "Waiting for all executors ready...\n",
      "All executors connected!\n",
      "Complete! elapsed time: 00:00:24\n"
     ]
    }
   ],
   "source": [
    "from pubg_util import mysql, load_schema, notifier\n",
    "from sphynx import sphynx, NODE_SMALL, NODE_MEDIUM, NODE_LARGE\n",
    "from pyspark.sql.functions import *\n",
    "import pandas as pd\n",
    "import pickle\n",
    "\n",
    "spark = sphynx.get_spark(executor_count=4, app_name='west0_pcs7', node_spec=NODE_LARGE)"
   ]
  },
  {
   "cell_type": "code",
   "execution_count": 3,
   "metadata": {},
   "outputs": [],
   "source": [
    "wau = mysql.read_table(spark, \"pubg_gi\", \"all_traffic_activity_weekly\")"
   ]
  },
  {
   "cell_type": "markdown",
   "metadata": {},
   "source": [
    "## PC"
   ]
  },
  {
   "cell_type": "code",
   "execution_count": 4,
   "metadata": {},
   "outputs": [],
   "source": [
    "wau.createOrReplaceTempView(\"wau\")\n",
    "sql_str = \"\"\"\n",
    "    select startdate, enddate, sum(wau) as wau\n",
    "    from wau\n",
    "    where startdate in (\"2022-08-12\", \"2022-08-19\", \"2022-08-26\", \"2022-09-02\") and device = \"PC\"\n",
    "    group by 1, 2\n",
    "\"\"\"\n",
    "\n",
    "wau_4wk = spark.sql(sql_str)"
   ]
  },
  {
   "cell_type": "code",
   "execution_count": 6,
   "metadata": {},
   "outputs": [
    {
     "data": {
      "text/html": [
       "<div>\n",
       "<style scoped>\n",
       "    .dataframe tbody tr th:only-of-type {\n",
       "        vertical-align: middle;\n",
       "    }\n",
       "\n",
       "    .dataframe tbody tr th {\n",
       "        vertical-align: top;\n",
       "    }\n",
       "\n",
       "    .dataframe thead th {\n",
       "        text-align: right;\n",
       "    }\n",
       "</style>\n",
       "<table border=\"1\" class=\"dataframe\">\n",
       "  <thead>\n",
       "    <tr style=\"text-align: right;\">\n",
       "      <th></th>\n",
       "      <th>startdate</th>\n",
       "      <th>enddate</th>\n",
       "      <th>wau</th>\n",
       "    </tr>\n",
       "  </thead>\n",
       "  <tbody>\n",
       "    <tr>\n",
       "      <th>0</th>\n",
       "      <td>2022-08-12</td>\n",
       "      <td>2022-08-18</td>\n",
       "      <td>4565299</td>\n",
       "    </tr>\n",
       "    <tr>\n",
       "      <th>1</th>\n",
       "      <td>2022-08-19</td>\n",
       "      <td>2022-08-25</td>\n",
       "      <td>4501558</td>\n",
       "    </tr>\n",
       "    <tr>\n",
       "      <th>2</th>\n",
       "      <td>2022-08-26</td>\n",
       "      <td>2022-09-01</td>\n",
       "      <td>4532848</td>\n",
       "    </tr>\n",
       "    <tr>\n",
       "      <th>3</th>\n",
       "      <td>2022-09-02</td>\n",
       "      <td>2022-09-08</td>\n",
       "      <td>4586889</td>\n",
       "    </tr>\n",
       "  </tbody>\n",
       "</table>\n",
       "</div>"
      ],
      "text/plain": [
       "    startdate     enddate      wau\n",
       "0  2022-08-12  2022-08-18  4565299\n",
       "1  2022-08-19  2022-08-25  4501558\n",
       "2  2022-08-26  2022-09-01  4532848\n",
       "3  2022-09-02  2022-09-08  4586889"
      ]
     },
     "execution_count": 6,
     "metadata": {},
     "output_type": "execute_result"
    }
   ],
   "source": [
    "wau_4wk.orderBy(\"startdate\").toPandas()"
   ]
  },
  {
   "cell_type": "code",
   "execution_count": 7,
   "metadata": {},
   "outputs": [],
   "source": [
    "wau.createOrReplaceTempView(\"wau\")\n",
    "sql_str = \"\"\"\n",
    "    select startdate, enddate, sum(wau) as wau\n",
    "    from wau\n",
    "    where startdate in (\"2022-03-16\", \"2022-03-23\", \"2022-03-30\", \"2022-04-06\") and device = \"PC\"\n",
    "    group by 1, 2\n",
    "\"\"\"\n",
    "\n",
    "pcs6_wau_4wk = spark.sql(sql_str)"
   ]
  },
  {
   "cell_type": "code",
   "execution_count": 8,
   "metadata": {},
   "outputs": [
    {
     "data": {
      "text/html": [
       "<div>\n",
       "<style scoped>\n",
       "    .dataframe tbody tr th:only-of-type {\n",
       "        vertical-align: middle;\n",
       "    }\n",
       "\n",
       "    .dataframe tbody tr th {\n",
       "        vertical-align: top;\n",
       "    }\n",
       "\n",
       "    .dataframe thead th {\n",
       "        text-align: right;\n",
       "    }\n",
       "</style>\n",
       "<table border=\"1\" class=\"dataframe\">\n",
       "  <thead>\n",
       "    <tr style=\"text-align: right;\">\n",
       "      <th></th>\n",
       "      <th>startdate</th>\n",
       "      <th>enddate</th>\n",
       "      <th>wau</th>\n",
       "    </tr>\n",
       "  </thead>\n",
       "  <tbody>\n",
       "    <tr>\n",
       "      <th>0</th>\n",
       "      <td>2022-03-16</td>\n",
       "      <td>2022-03-22</td>\n",
       "      <td>4954557</td>\n",
       "    </tr>\n",
       "    <tr>\n",
       "      <th>1</th>\n",
       "      <td>2022-03-23</td>\n",
       "      <td>2022-03-29</td>\n",
       "      <td>6226397</td>\n",
       "    </tr>\n",
       "    <tr>\n",
       "      <th>2</th>\n",
       "      <td>2022-03-30</td>\n",
       "      <td>2022-04-05</td>\n",
       "      <td>6309332</td>\n",
       "    </tr>\n",
       "    <tr>\n",
       "      <th>3</th>\n",
       "      <td>2022-04-06</td>\n",
       "      <td>2022-04-12</td>\n",
       "      <td>5009617</td>\n",
       "    </tr>\n",
       "  </tbody>\n",
       "</table>\n",
       "</div>"
      ],
      "text/plain": [
       "    startdate     enddate      wau\n",
       "0  2022-03-16  2022-03-22  4954557\n",
       "1  2022-03-23  2022-03-29  6226397\n",
       "2  2022-03-30  2022-04-05  6309332\n",
       "3  2022-04-06  2022-04-12  5009617"
      ]
     },
     "execution_count": 8,
     "metadata": {},
     "output_type": "execute_result"
    }
   ],
   "source": [
    "pcs6_wau_4wk.orderBy(\"startdate\").toPandas()"
   ]
  },
  {
   "cell_type": "code",
   "execution_count": 11,
   "metadata": {},
   "outputs": [],
   "source": [
    "pcs6_gcoin = load_data_mart('pc', \"2022-03-16\", \"2022-04-12\", \"gcoin_use\").where(col('event_name').like(\"%pcs%\"))\n",
    "pcs6_gcoin = pcs6_gcoin.withColumn(\"start_date\", when((col(\"date\") >= \"2022-03-16\") & (col('date') <= \"2022-03-22\"), \"2022-03-16\"). \\\n",
    "                                  when((col(\"date\") >= \"2022-03-23\") & (col('date') <= \"2022-03-29\"), \"2022-03-23\"). \\\n",
    "                                  when((col(\"date\") >= \"2022-03-30\") & (col('date') <= \"2022-04-05\"), \"2022-03-30\"). \\\n",
    "                                  when((col(\"date\") >= \"2022-04-06\") & (col('date') <= \"2022-04-12\"), \"2022-04-06\"). \\\n",
    "                                  otherwise(lit(None))\n",
    "                                )"
   ]
  },
  {
   "cell_type": "code",
   "execution_count": 12,
   "metadata": {},
   "outputs": [
    {
     "data": {
      "text/html": [
       "<div>\n",
       "<style scoped>\n",
       "    .dataframe tbody tr th:only-of-type {\n",
       "        vertical-align: middle;\n",
       "    }\n",
       "\n",
       "    .dataframe tbody tr th {\n",
       "        vertical-align: top;\n",
       "    }\n",
       "\n",
       "    .dataframe thead th {\n",
       "        text-align: right;\n",
       "    }\n",
       "</style>\n",
       "<table border=\"1\" class=\"dataframe\">\n",
       "  <thead>\n",
       "    <tr style=\"text-align: right;\">\n",
       "      <th></th>\n",
       "      <th>start_date</th>\n",
       "      <th>paid_use</th>\n",
       "      <th>total_use</th>\n",
       "    </tr>\n",
       "  </thead>\n",
       "  <tbody>\n",
       "    <tr>\n",
       "      <th>0</th>\n",
       "      <td>2022-03-16</td>\n",
       "      <td>74265946</td>\n",
       "      <td>109324730</td>\n",
       "    </tr>\n",
       "    <tr>\n",
       "      <th>1</th>\n",
       "      <td>2022-03-23</td>\n",
       "      <td>12785650</td>\n",
       "      <td>28708730</td>\n",
       "    </tr>\n",
       "    <tr>\n",
       "      <th>2</th>\n",
       "      <td>2022-03-30</td>\n",
       "      <td>10149040</td>\n",
       "      <td>19802330</td>\n",
       "    </tr>\n",
       "    <tr>\n",
       "      <th>3</th>\n",
       "      <td>2022-04-06</td>\n",
       "      <td>12307830</td>\n",
       "      <td>21510970</td>\n",
       "    </tr>\n",
       "  </tbody>\n",
       "</table>\n",
       "</div>"
      ],
      "text/plain": [
       "   start_date  paid_use  total_use\n",
       "0  2022-03-16  74265946  109324730\n",
       "1  2022-03-23  12785650   28708730\n",
       "2  2022-03-30  10149040   19802330\n",
       "3  2022-04-06  12307830   21510970"
      ]
     },
     "execution_count": 12,
     "metadata": {},
     "output_type": "execute_result"
    }
   ],
   "source": [
    "pcs6_gcoin.groupBy(\"start_date\").agg(sum(\"paid_use\").alias(\"paid_use\"), sum(col(\"paid_use\") + col(\"free_use\")).alias(\"total_use\")).orderBy(\"start_date\").toPandas()"
   ]
  },
  {
   "cell_type": "code",
   "execution_count": null,
   "metadata": {},
   "outputs": [],
   "source": []
  },
  {
   "cell_type": "code",
   "execution_count": 13,
   "metadata": {},
   "outputs": [],
   "source": [
    "before_workshop_wsus_1 = load_data_mart('pc', '2022-05-11', \"2022-06-07\", \"gcoin_use\").where(col(\"event_name\").like(\"%wsus%\"))\n",
    "before_workshop_wsus_2 = load_data_mart('pc', '2022-06-08', \"2022-07-05\", \"gcoin_use\").where(col(\"event_name\").like(\"%wsus%\"))\n",
    "\n",
    "after_workshop_wsus_1 = load_data_mart('pc', '2022-07-13', \"2022-08-09\", \"gcoin_use\").where(col(\"event_name\").like(\"%wsus%\"))\n",
    "after_workshop_wsus_2 = load_data_mart('pc', '2022-08-10', \"2022-09-06\", \"gcoin_use\").where(col(\"event_name\").like(\"%wsus%\"))"
   ]
  },
  {
   "cell_type": "code",
   "execution_count": 14,
   "metadata": {},
   "outputs": [
    {
     "data": {
      "text/html": [
       "<div>\n",
       "<style scoped>\n",
       "    .dataframe tbody tr th:only-of-type {\n",
       "        vertical-align: middle;\n",
       "    }\n",
       "\n",
       "    .dataframe tbody tr th {\n",
       "        vertical-align: top;\n",
       "    }\n",
       "\n",
       "    .dataframe thead th {\n",
       "        text-align: right;\n",
       "    }\n",
       "</style>\n",
       "<table border=\"1\" class=\"dataframe\">\n",
       "  <thead>\n",
       "    <tr style=\"text-align: right;\">\n",
       "      <th></th>\n",
       "      <th>paid_use</th>\n",
       "      <th>total_use</th>\n",
       "    </tr>\n",
       "  </thead>\n",
       "  <tbody>\n",
       "    <tr>\n",
       "      <th>0</th>\n",
       "      <td>702185151</td>\n",
       "      <td>1096487600</td>\n",
       "    </tr>\n",
       "  </tbody>\n",
       "</table>\n",
       "</div>"
      ],
      "text/plain": [
       "    paid_use   total_use\n",
       "0  702185151  1096487600"
      ]
     },
     "execution_count": 14,
     "metadata": {},
     "output_type": "execute_result"
    }
   ],
   "source": [
    "before_workshop_wsus_1.select(sum('paid_use').alias(\"paid_use\"), sum(col(\"free_use\") + col(\"paid_use\")).alias('total_use')).toPandas()"
   ]
  },
  {
   "cell_type": "code",
   "execution_count": 15,
   "metadata": {},
   "outputs": [
    {
     "data": {
      "text/html": [
       "<div>\n",
       "<style scoped>\n",
       "    .dataframe tbody tr th:only-of-type {\n",
       "        vertical-align: middle;\n",
       "    }\n",
       "\n",
       "    .dataframe tbody tr th {\n",
       "        vertical-align: top;\n",
       "    }\n",
       "\n",
       "    .dataframe thead th {\n",
       "        text-align: right;\n",
       "    }\n",
       "</style>\n",
       "<table border=\"1\" class=\"dataframe\">\n",
       "  <thead>\n",
       "    <tr style=\"text-align: right;\">\n",
       "      <th></th>\n",
       "      <th>paid_use</th>\n",
       "      <th>total_use</th>\n",
       "    </tr>\n",
       "  </thead>\n",
       "  <tbody>\n",
       "    <tr>\n",
       "      <th>0</th>\n",
       "      <td>1468762475</td>\n",
       "      <td>1980513400</td>\n",
       "    </tr>\n",
       "  </tbody>\n",
       "</table>\n",
       "</div>"
      ],
      "text/plain": [
       "     paid_use   total_use\n",
       "0  1468762475  1980513400"
      ]
     },
     "execution_count": 15,
     "metadata": {},
     "output_type": "execute_result"
    }
   ],
   "source": [
    "before_workshop_wsus_2.select(sum('paid_use').alias(\"paid_use\"), sum(col(\"free_use\") + col(\"paid_use\")).alias('total_use')).toPandas()"
   ]
  },
  {
   "cell_type": "code",
   "execution_count": 16,
   "metadata": {},
   "outputs": [
    {
     "data": {
      "text/html": [
       "<div>\n",
       "<style scoped>\n",
       "    .dataframe tbody tr th:only-of-type {\n",
       "        vertical-align: middle;\n",
       "    }\n",
       "\n",
       "    .dataframe tbody tr th {\n",
       "        vertical-align: top;\n",
       "    }\n",
       "\n",
       "    .dataframe thead th {\n",
       "        text-align: right;\n",
       "    }\n",
       "</style>\n",
       "<table border=\"1\" class=\"dataframe\">\n",
       "  <thead>\n",
       "    <tr style=\"text-align: right;\">\n",
       "      <th></th>\n",
       "      <th>paid_use</th>\n",
       "      <th>total_use</th>\n",
       "    </tr>\n",
       "  </thead>\n",
       "  <tbody>\n",
       "    <tr>\n",
       "      <th>0</th>\n",
       "      <td>694732370</td>\n",
       "      <td>994252600</td>\n",
       "    </tr>\n",
       "  </tbody>\n",
       "</table>\n",
       "</div>"
      ],
      "text/plain": [
       "    paid_use  total_use\n",
       "0  694732370  994252600"
      ]
     },
     "execution_count": 16,
     "metadata": {},
     "output_type": "execute_result"
    }
   ],
   "source": [
    "after_workshop_wsus_1.select(sum('paid_use').alias(\"paid_use\"), sum(col(\"free_use\") + col(\"paid_use\")).alias('total_use')).toPandas()"
   ]
  },
  {
   "cell_type": "code",
   "execution_count": 17,
   "metadata": {},
   "outputs": [
    {
     "data": {
      "text/html": [
       "<div>\n",
       "<style scoped>\n",
       "    .dataframe tbody tr th:only-of-type {\n",
       "        vertical-align: middle;\n",
       "    }\n",
       "\n",
       "    .dataframe tbody tr th {\n",
       "        vertical-align: top;\n",
       "    }\n",
       "\n",
       "    .dataframe thead th {\n",
       "        text-align: right;\n",
       "    }\n",
       "</style>\n",
       "<table border=\"1\" class=\"dataframe\">\n",
       "  <thead>\n",
       "    <tr style=\"text-align: right;\">\n",
       "      <th></th>\n",
       "      <th>paid_use</th>\n",
       "      <th>total_use</th>\n",
       "    </tr>\n",
       "  </thead>\n",
       "  <tbody>\n",
       "    <tr>\n",
       "      <th>0</th>\n",
       "      <td>1478755945</td>\n",
       "      <td>1846405000</td>\n",
       "    </tr>\n",
       "  </tbody>\n",
       "</table>\n",
       "</div>"
      ],
      "text/plain": [
       "     paid_use   total_use\n",
       "0  1478755945  1846405000"
      ]
     },
     "execution_count": 17,
     "metadata": {},
     "output_type": "execute_result"
    }
   ],
   "source": [
    "after_workshop_wsus_2.select(sum('paid_use').alias(\"paid_use\"), sum(col(\"free_use\") + col(\"paid_use\")).alias('total_use')).toPandas()"
   ]
  },
  {
   "cell_type": "code",
   "execution_count": null,
   "metadata": {},
   "outputs": [],
   "source": []
  },
  {
   "cell_type": "markdown",
   "metadata": {},
   "source": [
    "## CONSOLE"
   ]
  },
  {
   "cell_type": "code",
   "execution_count": 18,
   "metadata": {},
   "outputs": [
    {
     "data": {
      "text/html": [
       "<div>\n",
       "<style scoped>\n",
       "    .dataframe tbody tr th:only-of-type {\n",
       "        vertical-align: middle;\n",
       "    }\n",
       "\n",
       "    .dataframe tbody tr th {\n",
       "        vertical-align: top;\n",
       "    }\n",
       "\n",
       "    .dataframe thead th {\n",
       "        text-align: right;\n",
       "    }\n",
       "</style>\n",
       "<table border=\"1\" class=\"dataframe\">\n",
       "  <thead>\n",
       "    <tr style=\"text-align: right;\">\n",
       "      <th></th>\n",
       "      <th>startdate</th>\n",
       "      <th>enddate</th>\n",
       "      <th>wau</th>\n",
       "    </tr>\n",
       "  </thead>\n",
       "  <tbody>\n",
       "    <tr>\n",
       "      <th>0</th>\n",
       "      <td>2022-08-19</td>\n",
       "      <td>2022-08-25</td>\n",
       "      <td>670794</td>\n",
       "    </tr>\n",
       "    <tr>\n",
       "      <th>1</th>\n",
       "      <td>2022-08-26</td>\n",
       "      <td>2022-09-01</td>\n",
       "      <td>672968</td>\n",
       "    </tr>\n",
       "    <tr>\n",
       "      <th>2</th>\n",
       "      <td>2022-09-02</td>\n",
       "      <td>2022-09-08</td>\n",
       "      <td>676958</td>\n",
       "    </tr>\n",
       "  </tbody>\n",
       "</table>\n",
       "</div>"
      ],
      "text/plain": [
       "    startdate     enddate     wau\n",
       "0  2022-08-19  2022-08-25  670794\n",
       "1  2022-08-26  2022-09-01  672968\n",
       "2  2022-09-02  2022-09-08  676958"
      ]
     },
     "execution_count": 18,
     "metadata": {},
     "output_type": "execute_result"
    }
   ],
   "source": [
    "wau.createOrReplaceTempView(\"wau\")\n",
    "sql_str = \"\"\"\n",
    "    select startdate, enddate, sum(wau) as wau\n",
    "    from wau\n",
    "    where startdate in (\"2022-08-19\", \"2022-08-26\", \"2022-09-02\") and device = \"CONSOLE\"\n",
    "    group by 1, 2\n",
    "\"\"\"\n",
    "\n",
    "wau_3wk = spark.sql(sql_str)\n",
    "wau_3wk.orderBy(\"startdate\").toPandas()"
   ]
  },
  {
   "cell_type": "code",
   "execution_count": 19,
   "metadata": {},
   "outputs": [
    {
     "data": {
      "text/html": [
       "<div>\n",
       "<style scoped>\n",
       "    .dataframe tbody tr th:only-of-type {\n",
       "        vertical-align: middle;\n",
       "    }\n",
       "\n",
       "    .dataframe tbody tr th {\n",
       "        vertical-align: top;\n",
       "    }\n",
       "\n",
       "    .dataframe thead th {\n",
       "        text-align: right;\n",
       "    }\n",
       "</style>\n",
       "<table border=\"1\" class=\"dataframe\">\n",
       "  <thead>\n",
       "    <tr style=\"text-align: right;\">\n",
       "      <th></th>\n",
       "      <th>startdate</th>\n",
       "      <th>enddate</th>\n",
       "      <th>wau</th>\n",
       "    </tr>\n",
       "  </thead>\n",
       "  <tbody>\n",
       "    <tr>\n",
       "      <th>0</th>\n",
       "      <td>2022-03-24</td>\n",
       "      <td>2022-03-30</td>\n",
       "      <td>725847</td>\n",
       "    </tr>\n",
       "    <tr>\n",
       "      <th>1</th>\n",
       "      <td>2022-03-31</td>\n",
       "      <td>2022-04-06</td>\n",
       "      <td>734698</td>\n",
       "    </tr>\n",
       "    <tr>\n",
       "      <th>2</th>\n",
       "      <td>2022-04-07</td>\n",
       "      <td>2022-04-13</td>\n",
       "      <td>727668</td>\n",
       "    </tr>\n",
       "  </tbody>\n",
       "</table>\n",
       "</div>"
      ],
      "text/plain": [
       "    startdate     enddate     wau\n",
       "0  2022-03-24  2022-03-30  725847\n",
       "1  2022-03-31  2022-04-06  734698\n",
       "2  2022-04-07  2022-04-13  727668"
      ]
     },
     "execution_count": 19,
     "metadata": {},
     "output_type": "execute_result"
    }
   ],
   "source": [
    "wau.createOrReplaceTempView(\"wau\")\n",
    "sql_str = \"\"\"\n",
    "    select startdate, enddate, sum(wau) as wau\n",
    "    from wau\n",
    "    where startdate in (\"2022-03-24\", \"2022-03-31\", \"2022-04-07\") and device = \"CONSOLE\"\n",
    "    group by 1, 2\n",
    "\"\"\"\n",
    "\n",
    "pcs6_wau_3wk = spark.sql(sql_str)\n",
    "pcs6_wau_3wk.orderBy(\"startdate\").toPandas()"
   ]
  },
  {
   "cell_type": "code",
   "execution_count": 20,
   "metadata": {},
   "outputs": [
    {
     "data": {
      "text/html": [
       "<div>\n",
       "<style scoped>\n",
       "    .dataframe tbody tr th:only-of-type {\n",
       "        vertical-align: middle;\n",
       "    }\n",
       "\n",
       "    .dataframe tbody tr th {\n",
       "        vertical-align: top;\n",
       "    }\n",
       "\n",
       "    .dataframe thead th {\n",
       "        text-align: right;\n",
       "    }\n",
       "</style>\n",
       "<table border=\"1\" class=\"dataframe\">\n",
       "  <thead>\n",
       "    <tr style=\"text-align: right;\">\n",
       "      <th></th>\n",
       "      <th>start_date</th>\n",
       "      <th>paid_use</th>\n",
       "      <th>total_use</th>\n",
       "    </tr>\n",
       "  </thead>\n",
       "  <tbody>\n",
       "    <tr>\n",
       "      <th>0</th>\n",
       "      <td>2022-03-24</td>\n",
       "      <td>9457390</td>\n",
       "      <td>13970900</td>\n",
       "    </tr>\n",
       "    <tr>\n",
       "      <th>1</th>\n",
       "      <td>2022-03-31</td>\n",
       "      <td>2411960</td>\n",
       "      <td>4341140</td>\n",
       "    </tr>\n",
       "    <tr>\n",
       "      <th>2</th>\n",
       "      <td>2022-04-07</td>\n",
       "      <td>1589040</td>\n",
       "      <td>3049490</td>\n",
       "    </tr>\n",
       "  </tbody>\n",
       "</table>\n",
       "</div>"
      ],
      "text/plain": [
       "   start_date  paid_use  total_use\n",
       "0  2022-03-24   9457390   13970900\n",
       "1  2022-03-31   2411960    4341140\n",
       "2  2022-04-07   1589040    3049490"
      ]
     },
     "execution_count": 20,
     "metadata": {},
     "output_type": "execute_result"
    }
   ],
   "source": [
    "pcs6_gcoin = load_data_mart('console', \"2022-03-24\", \"2022-04-13\", \"gcoin_use\").where(col('event_name').like(\"%pcs%\"))\n",
    "pcs6_gcoin = pcs6_gcoin.withColumn(\"start_date\", when((col(\"date\") >= \"2022-03-24\") & (col('date') <= \"2022-03-30\"), \"2022-03-24\"). \\\n",
    "                                  when((col(\"date\") >= \"2022-03-31\") & (col('date') <= \"2022-04-06\"), \"2022-03-31\"). \\\n",
    "                                  when((col(\"date\") >= \"2022-04-07\") & (col('date') <= \"2022-04-13\"), \"2022-04-07\"). \\\n",
    "                                  otherwise(lit(None))\n",
    "                                )\n",
    "pcs6_gcoin.groupBy(\"start_date\").agg(sum(\"paid_use\").alias(\"paid_use\"), sum(col(\"paid_use\") + col(\"free_use\")).alias(\"total_use\")).orderBy(\"start_date\").toPandas()"
   ]
  },
  {
   "cell_type": "code",
   "execution_count": 21,
   "metadata": {},
   "outputs": [],
   "source": [
    "before_workshop_wsus_1 = load_data_mart('console', '2022-05-19', \"2022-06-08\", \"gcoin_use\").where(col(\"event_name\").like(\"%wsus%\"))\n",
    "before_workshop_wsus_2 = load_data_mart('console', '2022-06-16', \"2022-07-06\", \"gcoin_use\").where(col(\"event_name\").like(\"%wsus%\"))\n",
    "\n",
    "after_workshop_wsus_1 = load_data_mart('console', '2022-07-21', \"2022-08-10\", \"gcoin_use\").where(col(\"event_name\").like(\"%wsus%\"))\n",
    "after_workshop_wsus_2 = load_data_mart('console', '2022-08-18', \"2022-09-07\", \"gcoin_use\").where(col(\"event_name\").like(\"%wsus%\"))"
   ]
  },
  {
   "cell_type": "code",
   "execution_count": 22,
   "metadata": {},
   "outputs": [
    {
     "data": {
      "text/html": [
       "<div>\n",
       "<style scoped>\n",
       "    .dataframe tbody tr th:only-of-type {\n",
       "        vertical-align: middle;\n",
       "    }\n",
       "\n",
       "    .dataframe tbody tr th {\n",
       "        vertical-align: top;\n",
       "    }\n",
       "\n",
       "    .dataframe thead th {\n",
       "        text-align: right;\n",
       "    }\n",
       "</style>\n",
       "<table border=\"1\" class=\"dataframe\">\n",
       "  <thead>\n",
       "    <tr style=\"text-align: right;\">\n",
       "      <th></th>\n",
       "      <th>paid_use</th>\n",
       "      <th>total_use</th>\n",
       "    </tr>\n",
       "  </thead>\n",
       "  <tbody>\n",
       "    <tr>\n",
       "      <th>0</th>\n",
       "      <td>30479970</td>\n",
       "      <td>51677200</td>\n",
       "    </tr>\n",
       "  </tbody>\n",
       "</table>\n",
       "</div>"
      ],
      "text/plain": [
       "   paid_use  total_use\n",
       "0  30479970   51677200"
      ]
     },
     "execution_count": 22,
     "metadata": {},
     "output_type": "execute_result"
    }
   ],
   "source": [
    "before_workshop_wsus_1.select(sum('paid_use').alias(\"paid_use\"), sum(col(\"free_use\") + col(\"paid_use\")).alias('total_use')).toPandas()"
   ]
  },
  {
   "cell_type": "code",
   "execution_count": 23,
   "metadata": {},
   "outputs": [
    {
     "data": {
      "text/html": [
       "<div>\n",
       "<style scoped>\n",
       "    .dataframe tbody tr th:only-of-type {\n",
       "        vertical-align: middle;\n",
       "    }\n",
       "\n",
       "    .dataframe tbody tr th {\n",
       "        vertical-align: top;\n",
       "    }\n",
       "\n",
       "    .dataframe thead th {\n",
       "        text-align: right;\n",
       "    }\n",
       "</style>\n",
       "<table border=\"1\" class=\"dataframe\">\n",
       "  <thead>\n",
       "    <tr style=\"text-align: right;\">\n",
       "      <th></th>\n",
       "      <th>paid_use</th>\n",
       "      <th>total_use</th>\n",
       "    </tr>\n",
       "  </thead>\n",
       "  <tbody>\n",
       "    <tr>\n",
       "      <th>0</th>\n",
       "      <td>42761750</td>\n",
       "      <td>68067200</td>\n",
       "    </tr>\n",
       "  </tbody>\n",
       "</table>\n",
       "</div>"
      ],
      "text/plain": [
       "   paid_use  total_use\n",
       "0  42761750   68067200"
      ]
     },
     "execution_count": 23,
     "metadata": {},
     "output_type": "execute_result"
    }
   ],
   "source": [
    "before_workshop_wsus_2.select(sum('paid_use').alias(\"paid_use\"), sum(col(\"free_use\") + col(\"paid_use\")).alias('total_use')).toPandas()"
   ]
  },
  {
   "cell_type": "code",
   "execution_count": 24,
   "metadata": {},
   "outputs": [
    {
     "data": {
      "text/html": [
       "<div>\n",
       "<style scoped>\n",
       "    .dataframe tbody tr th:only-of-type {\n",
       "        vertical-align: middle;\n",
       "    }\n",
       "\n",
       "    .dataframe tbody tr th {\n",
       "        vertical-align: top;\n",
       "    }\n",
       "\n",
       "    .dataframe thead th {\n",
       "        text-align: right;\n",
       "    }\n",
       "</style>\n",
       "<table border=\"1\" class=\"dataframe\">\n",
       "  <thead>\n",
       "    <tr style=\"text-align: right;\">\n",
       "      <th></th>\n",
       "      <th>paid_use</th>\n",
       "      <th>total_use</th>\n",
       "    </tr>\n",
       "  </thead>\n",
       "  <tbody>\n",
       "    <tr>\n",
       "      <th>0</th>\n",
       "      <td>34953230</td>\n",
       "      <td>58502800</td>\n",
       "    </tr>\n",
       "  </tbody>\n",
       "</table>\n",
       "</div>"
      ],
      "text/plain": [
       "   paid_use  total_use\n",
       "0  34953230   58502800"
      ]
     },
     "execution_count": 24,
     "metadata": {},
     "output_type": "execute_result"
    }
   ],
   "source": [
    "after_workshop_wsus_1.select(sum('paid_use').alias(\"paid_use\"), sum(col(\"free_use\") + col(\"paid_use\")).alias('total_use')).toPandas()"
   ]
  },
  {
   "cell_type": "code",
   "execution_count": 25,
   "metadata": {},
   "outputs": [
    {
     "data": {
      "text/html": [
       "<div>\n",
       "<style scoped>\n",
       "    .dataframe tbody tr th:only-of-type {\n",
       "        vertical-align: middle;\n",
       "    }\n",
       "\n",
       "    .dataframe tbody tr th {\n",
       "        vertical-align: top;\n",
       "    }\n",
       "\n",
       "    .dataframe thead th {\n",
       "        text-align: right;\n",
       "    }\n",
       "</style>\n",
       "<table border=\"1\" class=\"dataframe\">\n",
       "  <thead>\n",
       "    <tr style=\"text-align: right;\">\n",
       "      <th></th>\n",
       "      <th>paid_use</th>\n",
       "      <th>total_use</th>\n",
       "    </tr>\n",
       "  </thead>\n",
       "  <tbody>\n",
       "    <tr>\n",
       "      <th>0</th>\n",
       "      <td>49091270</td>\n",
       "      <td>72530800</td>\n",
       "    </tr>\n",
       "  </tbody>\n",
       "</table>\n",
       "</div>"
      ],
      "text/plain": [
       "   paid_use  total_use\n",
       "0  49091270   72530800"
      ]
     },
     "execution_count": 25,
     "metadata": {},
     "output_type": "execute_result"
    }
   ],
   "source": [
    "after_workshop_wsus_2.select(sum('paid_use').alias(\"paid_use\"), sum(col(\"free_use\") + col(\"paid_use\")).alias('total_use')).toPandas()"
   ]
  },
  {
   "cell_type": "code",
   "execution_count": null,
   "metadata": {},
   "outputs": [],
   "source": []
  }
 ],
 "metadata": {
  "kernelspec": {
   "display_name": "Python 3",
   "language": "python",
   "name": "python3"
  },
  "language_info": {
   "codemirror_mode": {
    "name": "ipython",
    "version": 3
   },
   "file_extension": ".py",
   "mimetype": "text/x-python",
   "name": "python",
   "nbconvert_exporter": "python",
   "pygments_lexer": "ipython3",
   "version": "3.6.7"
  }
 },
 "nbformat": 4,
 "nbformat_minor": 4
}
