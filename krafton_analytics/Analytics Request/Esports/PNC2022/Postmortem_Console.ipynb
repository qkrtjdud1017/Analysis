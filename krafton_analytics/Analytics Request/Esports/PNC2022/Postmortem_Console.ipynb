{
 "cells": [
  {
   "cell_type": "code",
   "execution_count": 1,
   "metadata": {},
   "outputs": [
    {
     "name": "stdout",
     "output_type": "stream",
     "text": [
      "Spark cluster not assigned. creating a new one...\n",
      "Node spec: 4 executors with 48G RAM each\n",
      "Job Port 4049 is assigned for requested cluster\n",
      "Waiting for Spark master to be available...\n",
      "Spark master launched!\n",
      "Creating new Spark session, name: pnc...\n",
      "Waiting for all executors ready...\n",
      "All executors connected!\n",
      "Complete! elapsed time: 00:00:24\n"
     ]
    }
   ],
   "source": [
    "from pubg_util import mysql, load_schema, notifier\n",
    "from sphynx import sphynx, NODE_SMALL, NODE_MEDIUM, NODE_LARGE\n",
    "from pyspark.sql.functions import *\n",
    "import pandas as pd\n",
    "import pickle\n",
    "\n",
    "spark = sphynx.get_spark(executor_count=4, app_name='pnc', node_spec=NODE_LARGE)"
   ]
  },
  {
   "cell_type": "code",
   "execution_count": 45,
   "metadata": {},
   "outputs": [
    {
     "name": "stdout",
     "output_type": "stream",
     "text": [
      "Stopping Spark session...\n",
      "Destroying Spark cluster...\n",
      "Done!\n",
      "You can safely ignore the warning message if there is any.\n"
     ]
    }
   ],
   "source": [
    "sphynx.stop()"
   ]
  },
  {
   "cell_type": "markdown",
   "metadata": {},
   "source": [
    "Console\n",
    "- 6.16 ~ 6.29"
   ]
  },
  {
   "cell_type": "code",
   "execution_count": 20,
   "metadata": {},
   "outputs": [],
   "source": [
    "from pyspark.sql.types import * \n",
    "\n",
    "def classify_country(country_os, country_ip):\n",
    "    if country_os != 'CN':\n",
    "        return country_ip\n",
    "    else:\n",
    "        return country_os\n",
    "\n",
    "country_type_udf = udf(classify_country, StringType())\n",
    "\n",
    "meta_region = mysql.read_table(spark, 'metainfo', 'meta_bi_regions')\n",
    "\n",
    "user = load_data_mart(\"console\", \"2022-06-29\", \"2022-06-29\", \"user_master\").where(col('lastlogindate') >= \"2022-06-16\")\n",
    "user = user.withColumn(\"country_new\", country_type_udf(\"country_os\", \"country_ip\"))\n",
    "user = user.join(meta_region, user.country_new == meta_region.country_code_iso2, \"left\")"
   ]
  },
  {
   "cell_type": "code",
   "execution_count": 21,
   "metadata": {},
   "outputs": [],
   "source": [
    "gcoin = load_data_mart(\"console\", \"2022-06-16\", \"2022-06-29\", \"gcoin_use\").where(col(\"event_name\").like(\"%pnc%\"))\n",
    "user = user.withColumnRenamed(\"accountid\", \"account_id\")\n",
    "membership = load_membership(\"pubg\", \"console\", \"2022-06-29\", \"2022-06-29\")\n",
    "user = user.join(membership, \"account_id\")"
   ]
  },
  {
   "cell_type": "code",
   "execution_count": 22,
   "metadata": {},
   "outputs": [],
   "source": [
    "pnc = gcoin.join(user, \"account_id\", \"left\")"
   ]
  },
  {
   "cell_type": "code",
   "execution_count": 23,
   "metadata": {},
   "outputs": [],
   "source": [
    "region_au = user.groupBy(\"pubg_region\").agg(countDistinct(\"account_id\").alias(\"au\"))"
   ]
  },
  {
   "cell_type": "code",
   "execution_count": 24,
   "metadata": {},
   "outputs": [],
   "source": [
    "region_pu = pnc.groupBy(\"pubg_region\").agg(countDistinct(\"account_id\").alias(\"pu\"), sum(\"free_use\").alias(\"free_use\"), sum(\"paid_use\").alias(\"paid_use\"))"
   ]
  },
  {
   "cell_type": "code",
   "execution_count": 25,
   "metadata": {},
   "outputs": [],
   "source": [
    "region_paid_pu = pnc.where(col(\"paid_use\") > 0).groupBy(\"pubg_region\").agg(countDistinct(\"account_id\").alias(\"paid_pu\"))"
   ]
  },
  {
   "cell_type": "code",
   "execution_count": 26,
   "metadata": {},
   "outputs": [],
   "source": [
    "region_pu = region_pu.join(region_paid_pu, \"pubg_region\")"
   ]
  },
  {
   "cell_type": "code",
   "execution_count": 27,
   "metadata": {},
   "outputs": [],
   "source": [
    "region_kpi = region_au.join(region_pu, \"pubg_region\").withColumn(\"pur\", col(\"pu\")/col(\"au\")).withColumn(\"paid_pur\", col(\"paid_pu\")/col(\"au\")).withColumn(\"total_sales\", (col(\"free_use\") + col(\"paid_use\"))/100).withColumn(\"paid_sales\", col(\"paid_use\")/100).toPandas()"
   ]
  },
  {
   "cell_type": "code",
   "execution_count": 28,
   "metadata": {},
   "outputs": [
    {
     "data": {
      "text/html": [
       "<div>\n",
       "<style scoped>\n",
       "    .dataframe tbody tr th:only-of-type {\n",
       "        vertical-align: middle;\n",
       "    }\n",
       "\n",
       "    .dataframe tbody tr th {\n",
       "        vertical-align: top;\n",
       "    }\n",
       "\n",
       "    .dataframe thead th {\n",
       "        text-align: right;\n",
       "    }\n",
       "</style>\n",
       "<table border=\"1\" class=\"dataframe\">\n",
       "  <thead>\n",
       "    <tr style=\"text-align: right;\">\n",
       "      <th></th>\n",
       "      <th>pubg_region</th>\n",
       "      <th>au</th>\n",
       "      <th>pu</th>\n",
       "      <th>free_use</th>\n",
       "      <th>paid_use</th>\n",
       "      <th>paid_pu</th>\n",
       "      <th>pur</th>\n",
       "      <th>paid_pur</th>\n",
       "      <th>total_sales</th>\n",
       "      <th>paid_sales</th>\n",
       "    </tr>\n",
       "  </thead>\n",
       "  <tbody>\n",
       "    <tr>\n",
       "      <th>0</th>\n",
       "      <td>CN</td>\n",
       "      <td>8662</td>\n",
       "      <td>18</td>\n",
       "      <td>6180</td>\n",
       "      <td>11740</td>\n",
       "      <td>13</td>\n",
       "      <td>0.002078</td>\n",
       "      <td>0.001501</td>\n",
       "      <td>179.2</td>\n",
       "      <td>117.4</td>\n",
       "    </tr>\n",
       "    <tr>\n",
       "      <th>1</th>\n",
       "      <td>NA</td>\n",
       "      <td>416695</td>\n",
       "      <td>4796</td>\n",
       "      <td>1236470</td>\n",
       "      <td>3290830</td>\n",
       "      <td>3505</td>\n",
       "      <td>0.011510</td>\n",
       "      <td>0.008411</td>\n",
       "      <td>45273.0</td>\n",
       "      <td>32908.3</td>\n",
       "    </tr>\n",
       "    <tr>\n",
       "      <th>2</th>\n",
       "      <td>SA</td>\n",
       "      <td>137740</td>\n",
       "      <td>871</td>\n",
       "      <td>321090</td>\n",
       "      <td>521140</td>\n",
       "      <td>544</td>\n",
       "      <td>0.006324</td>\n",
       "      <td>0.003949</td>\n",
       "      <td>8422.3</td>\n",
       "      <td>5211.4</td>\n",
       "    </tr>\n",
       "    <tr>\n",
       "      <th>3</th>\n",
       "      <td>KR</td>\n",
       "      <td>3837</td>\n",
       "      <td>44</td>\n",
       "      <td>12550</td>\n",
       "      <td>36210</td>\n",
       "      <td>35</td>\n",
       "      <td>0.011467</td>\n",
       "      <td>0.009122</td>\n",
       "      <td>487.6</td>\n",
       "      <td>362.1</td>\n",
       "    </tr>\n",
       "    <tr>\n",
       "      <th>4</th>\n",
       "      <td>SEA</td>\n",
       "      <td>15799</td>\n",
       "      <td>37</td>\n",
       "      <td>11980</td>\n",
       "      <td>26840</td>\n",
       "      <td>25</td>\n",
       "      <td>0.002342</td>\n",
       "      <td>0.001582</td>\n",
       "      <td>388.2</td>\n",
       "      <td>268.4</td>\n",
       "    </tr>\n",
       "    <tr>\n",
       "      <th>5</th>\n",
       "      <td>JP</td>\n",
       "      <td>13814</td>\n",
       "      <td>177</td>\n",
       "      <td>44770</td>\n",
       "      <td>159270</td>\n",
       "      <td>143</td>\n",
       "      <td>0.012813</td>\n",
       "      <td>0.010352</td>\n",
       "      <td>2040.4</td>\n",
       "      <td>1592.7</td>\n",
       "    </tr>\n",
       "    <tr>\n",
       "      <th>6</th>\n",
       "      <td>TW/HK</td>\n",
       "      <td>3329</td>\n",
       "      <td>23</td>\n",
       "      <td>6130</td>\n",
       "      <td>13800</td>\n",
       "      <td>17</td>\n",
       "      <td>0.006909</td>\n",
       "      <td>0.005107</td>\n",
       "      <td>199.3</td>\n",
       "      <td>138.0</td>\n",
       "    </tr>\n",
       "    <tr>\n",
       "      <th>7</th>\n",
       "      <td>CIS</td>\n",
       "      <td>29982</td>\n",
       "      <td>84</td>\n",
       "      <td>64200</td>\n",
       "      <td>20920</td>\n",
       "      <td>21</td>\n",
       "      <td>0.002802</td>\n",
       "      <td>0.000700</td>\n",
       "      <td>851.2</td>\n",
       "      <td>209.2</td>\n",
       "    </tr>\n",
       "    <tr>\n",
       "      <th>8</th>\n",
       "      <td>EMEA</td>\n",
       "      <td>228053</td>\n",
       "      <td>1319</td>\n",
       "      <td>421780</td>\n",
       "      <td>886470</td>\n",
       "      <td>902</td>\n",
       "      <td>0.005784</td>\n",
       "      <td>0.003955</td>\n",
       "      <td>13082.5</td>\n",
       "      <td>8864.7</td>\n",
       "    </tr>\n",
       "    <tr>\n",
       "      <th>9</th>\n",
       "      <td>OC</td>\n",
       "      <td>18432</td>\n",
       "      <td>256</td>\n",
       "      <td>53460</td>\n",
       "      <td>206940</td>\n",
       "      <td>204</td>\n",
       "      <td>0.013889</td>\n",
       "      <td>0.011068</td>\n",
       "      <td>2604.0</td>\n",
       "      <td>2069.4</td>\n",
       "    </tr>\n",
       "  </tbody>\n",
       "</table>\n",
       "</div>"
      ],
      "text/plain": [
       "  pubg_region      au    pu  free_use  paid_use  paid_pu       pur  paid_pur  \\\n",
       "0          CN    8662    18      6180     11740       13  0.002078  0.001501   \n",
       "1          NA  416695  4796   1236470   3290830     3505  0.011510  0.008411   \n",
       "2          SA  137740   871    321090    521140      544  0.006324  0.003949   \n",
       "3          KR    3837    44     12550     36210       35  0.011467  0.009122   \n",
       "4         SEA   15799    37     11980     26840       25  0.002342  0.001582   \n",
       "5          JP   13814   177     44770    159270      143  0.012813  0.010352   \n",
       "6       TW/HK    3329    23      6130     13800       17  0.006909  0.005107   \n",
       "7         CIS   29982    84     64200     20920       21  0.002802  0.000700   \n",
       "8        EMEA  228053  1319    421780    886470      902  0.005784  0.003955   \n",
       "9          OC   18432   256     53460    206940      204  0.013889  0.011068   \n",
       "\n",
       "   total_sales  paid_sales  \n",
       "0        179.2       117.4  \n",
       "1      45273.0     32908.3  \n",
       "2       8422.3      5211.4  \n",
       "3        487.6       362.1  \n",
       "4        388.2       268.4  \n",
       "5       2040.4      1592.7  \n",
       "6        199.3       138.0  \n",
       "7        851.2       209.2  \n",
       "8      13082.5      8864.7  \n",
       "9       2604.0      2069.4  "
      ]
     },
     "execution_count": 28,
     "metadata": {},
     "output_type": "execute_result"
    }
   ],
   "source": [
    "region_kpi"
   ]
  },
  {
   "cell_type": "code",
   "execution_count": null,
   "metadata": {},
   "outputs": [],
   "source": []
  }
 ],
 "metadata": {
  "kernelspec": {
   "display_name": "Python 3",
   "language": "python",
   "name": "python3"
  },
  "language_info": {
   "codemirror_mode": {
    "name": "ipython",
    "version": 3
   },
   "file_extension": ".py",
   "mimetype": "text/x-python",
   "name": "python",
   "nbconvert_exporter": "python",
   "pygments_lexer": "ipython3",
   "version": "3.6.7"
  }
 },
 "nbformat": 4,
 "nbformat_minor": 4
}
