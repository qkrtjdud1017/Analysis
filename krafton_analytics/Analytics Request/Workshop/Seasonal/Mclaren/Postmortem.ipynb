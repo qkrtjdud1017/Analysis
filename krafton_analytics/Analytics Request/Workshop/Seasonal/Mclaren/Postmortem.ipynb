{
 "cells": [
  {
   "cell_type": "code",
   "execution_count": 1,
   "metadata": {},
   "outputs": [
    {
     "name": "stdout",
     "output_type": "stream",
     "text": [
      "Spark cluster not assigned. creating a new one...\n",
      "Node spec: 16 executors with 48G RAM each\n",
      "Job Port 4049 is assigned for requested cluster\n",
      "Waiting for Spark master to be available...\n",
      "Spark master launched!\n",
      "Creating new Spark session, name: west0_mclaren_p...\n",
      "Waiting for all executors ready...\n",
      "All executors connected!\n",
      "Complete! elapsed time: 00:00:25\n"
     ]
    }
   ],
   "source": [
    "from pubg_util import mysql, load_schema, notifier\n",
    "from sphynx import sphynx, NODE_SMALL, NODE_MEDIUM, NODE_LARGE\n",
    "from pyspark.sql.functions import *\n",
    "import pandas as pd\n",
    "import pickle\n",
    "\n",
    "spark = sphynx.get_spark(executor_count=16, app_name='west0_mclaren_p', node_spec=NODE_LARGE)"
   ]
  },
  {
   "cell_type": "code",
   "execution_count": 4,
   "metadata": {},
   "outputs": [],
   "source": [
    "pc_start_date = \"2022-09-07\"\n",
    "pc_end_date = \"2022-11-02\"\n",
    "console_start_date = \"2022-09-15\"\n",
    "console_end_date = \"2022-11-10\"\n",
    "event_name = \"202209_season_workshop\""
   ]
  },
  {
   "cell_type": "code",
   "execution_count": 42,
   "metadata": {},
   "outputs": [],
   "source": [
    "pc_gcoin = load_data_mart(\"pc\", pc_start_date, pc_end_date, \"gcoin_use\").where(col(\"event_name\") == event_name)\n",
    "console_gcoin = load_data_mart(\"console\", console_start_date, console_end_date, \"gcoin_use\").where(col(\"event_name\") == event_name)"
   ]
  },
  {
   "cell_type": "code",
   "execution_count": 56,
   "metadata": {},
   "outputs": [],
   "source": [
    "wsus_start_date = \"2021-06-02\"\n",
    "wsus_end_date = \"2021-09-30\"\n",
    "wsus_gcoin = load_data_mart(\"pc\", wsus_start_date, wsus_end_date, \"gcoin_use\").where(col(\"event_name\") == \"202106_wsus_progressive_apocalypse\")"
   ]
  },
  {
   "cell_type": "code",
   "execution_count": 59,
   "metadata": {},
   "outputs": [
    {
     "name": "stdout",
     "output_type": "stream",
     "text": [
      "+-------------------------+\n",
      "|count(DISTINCT accountid)|\n",
      "+-------------------------+\n",
      "|15055970                 |\n",
      "+-------------------------+\n",
      "\n"
     ]
    }
   ],
   "source": [
    "wsus_user = load_data_mart(\"pc\", wsus_end_date, wsus_end_date, \"user_master\").where(col(\"lastlogindate\") >= wsus_start_date)\n",
    "wsus_user.select(countDistinct(\"accountid\")).show(truncate=False)"
   ]
  },
  {
   "cell_type": "code",
   "execution_count": 57,
   "metadata": {},
   "outputs": [],
   "source": [
    "wsus_gcoin = wsus_gcoin.withColumn(\"paid_account_id\", when(col(\"paid_use\") > 0, col(\"account_id\")).otherwise(lit(None)))"
   ]
  },
  {
   "cell_type": "code",
   "execution_count": 58,
   "metadata": {},
   "outputs": [
    {
     "name": "stdout",
     "output_type": "stream",
     "text": [
      "+-------------+--------------------------+-------------------------------+--------------------------+\n",
      "|sum(paid_use)|sum((paid_use + free_use))|count(DISTINCT paid_account_id)|count(DISTINCT account_id)|\n",
      "+-------------+--------------------------+-------------------------------+--------------------------+\n",
      "|4497710380   |5054651200                |627910                         |848050                    |\n",
      "+-------------+--------------------------+-------------------------------+--------------------------+\n",
      "\n"
     ]
    }
   ],
   "source": [
    "wsus_gcoin.select(sum(\"paid_use\"), sum(col(\"paid_use\") + col(\"free_use\")), countDistinct(\"paid_account_id\"), countDistinct(\"account_id\")).show(truncate=False)"
   ]
  },
  {
   "cell_type": "code",
   "execution_count": null,
   "metadata": {},
   "outputs": [],
   "source": []
  },
  {
   "cell_type": "code",
   "execution_count": 38,
   "metadata": {},
   "outputs": [],
   "source": [
    "pc_user = load_data_mart(\"pc\", pc_end_date, pc_end_date, \"user_master\")\n",
    "console_user = load_data_mart(\"console\", console_end_date, console_end_date, \"user_master\")"
   ]
  },
  {
   "cell_type": "code",
   "execution_count": 39,
   "metadata": {},
   "outputs": [],
   "source": [
    "# user 지역\n",
    "from pyspark.sql.types import * \n",
    "\n",
    "def classify_country(country_os, country_ip):\n",
    "    if country_os != 'CN':\n",
    "        return country_ip\n",
    "    else:\n",
    "        return country_os\n",
    "\n",
    "country_type_udf = udf(classify_country, StringType())\n",
    "\n",
    "meta_region = mysql.read_table(spark, 'metainfo', 'meta_bi_regions')\n",
    "pc_user = pc_user.withColumn(\"country_new\", country_type_udf(\"country_os\", \"country_ip\"))\n",
    "pc_user =pc_user.join(meta_region, pc_user.country_new == meta_region.country_code_iso2, \"left\")\n",
    "\n",
    "console_user = console_user.withColumn(\"country_new\", country_type_udf(\"country_os\", \"country_ip\"))\n",
    "console_user = console_user.join(meta_region, console_user.country_new == meta_region.country_code_iso2, \"left\")"
   ]
  },
  {
   "cell_type": "code",
   "execution_count": 13,
   "metadata": {},
   "outputs": [
    {
     "name": "stdout",
     "output_type": "stream",
     "text": [
      "+-------------------------+\n",
      "|count(DISTINCT accountid)|\n",
      "+-------------------------+\n",
      "|14072022                 |\n",
      "+-------------------------+\n",
      "\n"
     ]
    }
   ],
   "source": [
    "pc_user.where((col(\"lastlogindate\") >= pc_start_date) & ((col(\"server_type\") == \"LIVE\"))).select(countDistinct(\"accountid\")).show(truncate=False)"
   ]
  },
  {
   "cell_type": "code",
   "execution_count": 49,
   "metadata": {},
   "outputs": [
    {
     "data": {
      "text/html": [
       "<div>\n",
       "<style scoped>\n",
       "    .dataframe tbody tr th:only-of-type {\n",
       "        vertical-align: middle;\n",
       "    }\n",
       "\n",
       "    .dataframe tbody tr th {\n",
       "        vertical-align: top;\n",
       "    }\n",
       "\n",
       "    .dataframe thead th {\n",
       "        text-align: right;\n",
       "    }\n",
       "</style>\n",
       "<table border=\"1\" class=\"dataframe\">\n",
       "  <thead>\n",
       "    <tr style=\"text-align: right;\">\n",
       "      <th></th>\n",
       "      <th>pubg_region</th>\n",
       "      <th>count(DISTINCT accountid)</th>\n",
       "    </tr>\n",
       "  </thead>\n",
       "  <tbody>\n",
       "    <tr>\n",
       "      <th>0</th>\n",
       "      <td>CN</td>\n",
       "      <td>8606890</td>\n",
       "    </tr>\n",
       "    <tr>\n",
       "      <th>1</th>\n",
       "      <td>NA</td>\n",
       "      <td>396802</td>\n",
       "    </tr>\n",
       "    <tr>\n",
       "      <th>2</th>\n",
       "      <td>SA</td>\n",
       "      <td>376320</td>\n",
       "    </tr>\n",
       "    <tr>\n",
       "      <th>3</th>\n",
       "      <td>KR</td>\n",
       "      <td>1556485</td>\n",
       "    </tr>\n",
       "    <tr>\n",
       "      <th>4</th>\n",
       "      <td>SEA</td>\n",
       "      <td>677685</td>\n",
       "    </tr>\n",
       "    <tr>\n",
       "      <th>5</th>\n",
       "      <td>Undefined</td>\n",
       "      <td>1678</td>\n",
       "    </tr>\n",
       "    <tr>\n",
       "      <th>6</th>\n",
       "      <td>JP</td>\n",
       "      <td>53996</td>\n",
       "    </tr>\n",
       "    <tr>\n",
       "      <th>7</th>\n",
       "      <td>TW/HK</td>\n",
       "      <td>86422</td>\n",
       "    </tr>\n",
       "    <tr>\n",
       "      <th>8</th>\n",
       "      <td>CIS</td>\n",
       "      <td>1107531</td>\n",
       "    </tr>\n",
       "    <tr>\n",
       "      <th>9</th>\n",
       "      <td>EMEA</td>\n",
       "      <td>1151710</td>\n",
       "    </tr>\n",
       "    <tr>\n",
       "      <th>10</th>\n",
       "      <td>OC</td>\n",
       "      <td>56503</td>\n",
       "    </tr>\n",
       "  </tbody>\n",
       "</table>\n",
       "</div>"
      ],
      "text/plain": [
       "   pubg_region  count(DISTINCT accountid)\n",
       "0           CN                    8606890\n",
       "1           NA                     396802\n",
       "2           SA                     376320\n",
       "3           KR                    1556485\n",
       "4          SEA                     677685\n",
       "5    Undefined                       1678\n",
       "6           JP                      53996\n",
       "7        TW/HK                      86422\n",
       "8          CIS                    1107531\n",
       "9         EMEA                    1151710\n",
       "10          OC                      56503"
      ]
     },
     "execution_count": 49,
     "metadata": {},
     "output_type": "execute_result"
    }
   ],
   "source": [
    "pc_user.where((col(\"lastlogindate\") >= pc_start_date) & ((col(\"server_type\") == \"LIVE\"))).groupBy(\"pubg_region\").agg(countDistinct(\"accountid\")).toPandas()"
   ]
  },
  {
   "cell_type": "code",
   "execution_count": 40,
   "metadata": {},
   "outputs": [
    {
     "name": "stdout",
     "output_type": "stream",
     "text": [
      "+-------------------------+\n",
      "|count(DISTINCT accountid)|\n",
      "+-------------------------+\n",
      "|2291967                  |\n",
      "+-------------------------+\n",
      "\n"
     ]
    }
   ],
   "source": [
    "console_user.where((col(\"lastlogindate\") >= console_start_date) & ((col(\"server_type\") == \"LIVE\"))).select(countDistinct(\"accountid\")).show(truncate=False)"
   ]
  },
  {
   "cell_type": "code",
   "execution_count": 50,
   "metadata": {},
   "outputs": [
    {
     "data": {
      "text/html": [
       "<div>\n",
       "<style scoped>\n",
       "    .dataframe tbody tr th:only-of-type {\n",
       "        vertical-align: middle;\n",
       "    }\n",
       "\n",
       "    .dataframe tbody tr th {\n",
       "        vertical-align: top;\n",
       "    }\n",
       "\n",
       "    .dataframe thead th {\n",
       "        text-align: right;\n",
       "    }\n",
       "</style>\n",
       "<table border=\"1\" class=\"dataframe\">\n",
       "  <thead>\n",
       "    <tr style=\"text-align: right;\">\n",
       "      <th></th>\n",
       "      <th>pubg_region</th>\n",
       "      <th>count(DISTINCT accountid)</th>\n",
       "    </tr>\n",
       "  </thead>\n",
       "  <tbody>\n",
       "    <tr>\n",
       "      <th>0</th>\n",
       "      <td>CN</td>\n",
       "      <td>32737</td>\n",
       "    </tr>\n",
       "    <tr>\n",
       "      <th>1</th>\n",
       "      <td>NA</td>\n",
       "      <td>982831</td>\n",
       "    </tr>\n",
       "    <tr>\n",
       "      <th>2</th>\n",
       "      <td>SA</td>\n",
       "      <td>392095</td>\n",
       "    </tr>\n",
       "    <tr>\n",
       "      <th>3</th>\n",
       "      <td>KR</td>\n",
       "      <td>10291</td>\n",
       "    </tr>\n",
       "    <tr>\n",
       "      <th>4</th>\n",
       "      <td>SEA</td>\n",
       "      <td>45239</td>\n",
       "    </tr>\n",
       "    <tr>\n",
       "      <th>5</th>\n",
       "      <td>Undefined</td>\n",
       "      <td>769</td>\n",
       "    </tr>\n",
       "    <tr>\n",
       "      <th>6</th>\n",
       "      <td>JP</td>\n",
       "      <td>36233</td>\n",
       "    </tr>\n",
       "    <tr>\n",
       "      <th>7</th>\n",
       "      <td>TW/HK</td>\n",
       "      <td>8383</td>\n",
       "    </tr>\n",
       "    <tr>\n",
       "      <th>8</th>\n",
       "      <td>CIS</td>\n",
       "      <td>90759</td>\n",
       "    </tr>\n",
       "    <tr>\n",
       "      <th>9</th>\n",
       "      <td>EMEA</td>\n",
       "      <td>641592</td>\n",
       "    </tr>\n",
       "    <tr>\n",
       "      <th>10</th>\n",
       "      <td>OC</td>\n",
       "      <td>51038</td>\n",
       "    </tr>\n",
       "  </tbody>\n",
       "</table>\n",
       "</div>"
      ],
      "text/plain": [
       "   pubg_region  count(DISTINCT accountid)\n",
       "0           CN                      32737\n",
       "1           NA                     982831\n",
       "2           SA                     392095\n",
       "3           KR                      10291\n",
       "4          SEA                      45239\n",
       "5    Undefined                        769\n",
       "6           JP                      36233\n",
       "7        TW/HK                       8383\n",
       "8          CIS                      90759\n",
       "9         EMEA                     641592\n",
       "10          OC                      51038"
      ]
     },
     "execution_count": 50,
     "metadata": {},
     "output_type": "execute_result"
    }
   ],
   "source": [
    "console_user.where((col(\"lastlogindate\") >= console_start_date) & ((col(\"server_type\") == \"LIVE\"))).groupBy(\"pubg_region\").agg(countDistinct(\"accountid\")).toPandas()"
   ]
  },
  {
   "cell_type": "code",
   "execution_count": null,
   "metadata": {},
   "outputs": [],
   "source": []
  },
  {
   "cell_type": "code",
   "execution_count": 6,
   "metadata": {},
   "outputs": [
    {
     "name": "stdout",
     "output_type": "stream",
     "text": [
      "+-------------+--------------------------+\n",
      "|sum(paid_use)|sum((paid_use + free_use))|\n",
      "+-------------+--------------------------+\n",
      "|3588856956   |4340361840                |\n",
      "+-------------+--------------------------+\n",
      "\n"
     ]
    }
   ],
   "source": [
    "pc_gcoin.select(sum(\"paid_use\"), sum(col(\"paid_use\") + col(\"free_use\"))).show(truncate=False)"
   ]
  },
  {
   "cell_type": "code",
   "execution_count": 47,
   "metadata": {},
   "outputs": [
    {
     "name": "stdout",
     "output_type": "stream",
     "text": [
      "+--------------------------+-------------------------------+\n",
      "|count(DISTINCT account_id)|count(DISTINCT paid_account_id)|\n",
      "+--------------------------+-------------------------------+\n",
      "|684410                    |452889                         |\n",
      "+--------------------------+-------------------------------+\n",
      "\n"
     ]
    }
   ],
   "source": [
    "pc_gcoin.select(countDistinct(\"account_id\"),countDistinct(\"paid_account_id\")).show(truncate=False)"
   ]
  },
  {
   "cell_type": "code",
   "execution_count": 7,
   "metadata": {},
   "outputs": [
    {
     "name": "stdout",
     "output_type": "stream",
     "text": [
      "+-------------+--------------------------+\n",
      "|sum(paid_use)|sum((paid_use + free_use))|\n",
      "+-------------+--------------------------+\n",
      "|201132180    |245824860                 |\n",
      "+-------------+--------------------------+\n",
      "\n"
     ]
    }
   ],
   "source": [
    "console_gcoin.select(sum(\"paid_use\"), sum(col(\"paid_use\") + col(\"free_use\"))).show(truncate=False)"
   ]
  },
  {
   "cell_type": "code",
   "execution_count": 48,
   "metadata": {},
   "outputs": [
    {
     "name": "stdout",
     "output_type": "stream",
     "text": [
      "+--------------------------+-------------------------------+\n",
      "|count(DISTINCT account_id)|count(DISTINCT paid_account_id)|\n",
      "+--------------------------+-------------------------------+\n",
      "|54306                     |42443                          |\n",
      "+--------------------------+-------------------------------+\n",
      "\n"
     ]
    }
   ],
   "source": [
    "console_gcoin.select(countDistinct(\"account_id\"),countDistinct(\"paid_account_id\")).show(truncate=False)"
   ]
  },
  {
   "cell_type": "code",
   "execution_count": 43,
   "metadata": {},
   "outputs": [],
   "source": [
    "pc_gcoin = pc_gcoin.join(pc_user.withColumnRenamed(\"accountid\", \"account_id\").select(\"account_id\", \"pubg_region\"), \"account_id\")\n",
    "console_gcoin = console_gcoin.join(console_user.withColumnRenamed(\"accountid\", \"account_id\").select(\"account_id\", \"pubg_region\"), \"account_id\")"
   ]
  },
  {
   "cell_type": "code",
   "execution_count": 44,
   "metadata": {},
   "outputs": [],
   "source": [
    "pc_gcoin = pc_gcoin.withColumn(\"paid_account_id\", when(col(\"paid_use\") > 0, col(\"account_id\")).otherwise(lit(None)))\n",
    "console_gcoin = console_gcoin.withColumn(\"paid_account_id\", when(col(\"paid_use\") > 0, col(\"account_id\")).otherwise(lit(None)))"
   ]
  },
  {
   "cell_type": "code",
   "execution_count": 36,
   "metadata": {},
   "outputs": [
    {
     "data": {
      "text/html": [
       "<div>\n",
       "<style scoped>\n",
       "    .dataframe tbody tr th:only-of-type {\n",
       "        vertical-align: middle;\n",
       "    }\n",
       "\n",
       "    .dataframe tbody tr th {\n",
       "        vertical-align: top;\n",
       "    }\n",
       "\n",
       "    .dataframe thead th {\n",
       "        text-align: right;\n",
       "    }\n",
       "</style>\n",
       "<table border=\"1\" class=\"dataframe\">\n",
       "  <thead>\n",
       "    <tr style=\"text-align: right;\">\n",
       "      <th></th>\n",
       "      <th>pubg_region</th>\n",
       "      <th>sum(paid_use)</th>\n",
       "      <th>sum((paid_use + free_use))</th>\n",
       "      <th>count(DISTINCT account_id)</th>\n",
       "      <th>count(DISTINCT paid_account_id)</th>\n",
       "    </tr>\n",
       "  </thead>\n",
       "  <tbody>\n",
       "    <tr>\n",
       "      <th>0</th>\n",
       "      <td>CN</td>\n",
       "      <td>2615241155</td>\n",
       "      <td>3166162830</td>\n",
       "      <td>484164</td>\n",
       "      <td>323739</td>\n",
       "    </tr>\n",
       "    <tr>\n",
       "      <th>1</th>\n",
       "      <td>NA</td>\n",
       "      <td>77625250</td>\n",
       "      <td>92793370</td>\n",
       "      <td>14506</td>\n",
       "      <td>10333</td>\n",
       "    </tr>\n",
       "    <tr>\n",
       "      <th>2</th>\n",
       "      <td>SA</td>\n",
       "      <td>17136400</td>\n",
       "      <td>29526770</td>\n",
       "      <td>13436</td>\n",
       "      <td>6331</td>\n",
       "    </tr>\n",
       "    <tr>\n",
       "      <th>3</th>\n",
       "      <td>KR</td>\n",
       "      <td>627388950</td>\n",
       "      <td>721356030</td>\n",
       "      <td>78210</td>\n",
       "      <td>58255</td>\n",
       "    </tr>\n",
       "    <tr>\n",
       "      <th>4</th>\n",
       "      <td>SEA</td>\n",
       "      <td>40429500</td>\n",
       "      <td>53886310</td>\n",
       "      <td>14532</td>\n",
       "      <td>8750</td>\n",
       "    </tr>\n",
       "    <tr>\n",
       "      <th>5</th>\n",
       "      <td>JP</td>\n",
       "      <td>7401650</td>\n",
       "      <td>9054070</td>\n",
       "      <td>1326</td>\n",
       "      <td>906</td>\n",
       "    </tr>\n",
       "    <tr>\n",
       "      <th>6</th>\n",
       "      <td>TW/HK</td>\n",
       "      <td>26638930</td>\n",
       "      <td>30961230</td>\n",
       "      <td>3363</td>\n",
       "      <td>2519</td>\n",
       "    </tr>\n",
       "    <tr>\n",
       "      <th>7</th>\n",
       "      <td>CIS</td>\n",
       "      <td>50096561</td>\n",
       "      <td>70751820</td>\n",
       "      <td>28260</td>\n",
       "      <td>14683</td>\n",
       "    </tr>\n",
       "    <tr>\n",
       "      <th>8</th>\n",
       "      <td>EMEA</td>\n",
       "      <td>111956750</td>\n",
       "      <td>148219090</td>\n",
       "      <td>43638</td>\n",
       "      <td>25128</td>\n",
       "    </tr>\n",
       "    <tr>\n",
       "      <th>9</th>\n",
       "      <td>OC</td>\n",
       "      <td>14941810</td>\n",
       "      <td>17650320</td>\n",
       "      <td>2975</td>\n",
       "      <td>2245</td>\n",
       "    </tr>\n",
       "  </tbody>\n",
       "</table>\n",
       "</div>"
      ],
      "text/plain": [
       "  pubg_region  sum(paid_use)  sum((paid_use + free_use))  \\\n",
       "0          CN     2615241155                  3166162830   \n",
       "1          NA       77625250                    92793370   \n",
       "2          SA       17136400                    29526770   \n",
       "3          KR      627388950                   721356030   \n",
       "4         SEA       40429500                    53886310   \n",
       "5          JP        7401650                     9054070   \n",
       "6       TW/HK       26638930                    30961230   \n",
       "7         CIS       50096561                    70751820   \n",
       "8        EMEA      111956750                   148219090   \n",
       "9          OC       14941810                    17650320   \n",
       "\n",
       "   count(DISTINCT account_id)  count(DISTINCT paid_account_id)  \n",
       "0                      484164                           323739  \n",
       "1                       14506                            10333  \n",
       "2                       13436                             6331  \n",
       "3                       78210                            58255  \n",
       "4                       14532                             8750  \n",
       "5                        1326                              906  \n",
       "6                        3363                             2519  \n",
       "7                       28260                            14683  \n",
       "8                       43638                            25128  \n",
       "9                        2975                             2245  "
      ]
     },
     "execution_count": 36,
     "metadata": {},
     "output_type": "execute_result"
    }
   ],
   "source": [
    "pc_gcoin.groupBy(\"pubg_region\").agg(sum(\"paid_use\"), sum(col(\"paid_use\") + col(\"free_use\")), countDistinct(\"account_id\"), countDistinct(\"paid_account_id\")).toPandas()"
   ]
  },
  {
   "cell_type": "code",
   "execution_count": 45,
   "metadata": {},
   "outputs": [
    {
     "data": {
      "text/html": [
       "<div>\n",
       "<style scoped>\n",
       "    .dataframe tbody tr th:only-of-type {\n",
       "        vertical-align: middle;\n",
       "    }\n",
       "\n",
       "    .dataframe tbody tr th {\n",
       "        vertical-align: top;\n",
       "    }\n",
       "\n",
       "    .dataframe thead th {\n",
       "        text-align: right;\n",
       "    }\n",
       "</style>\n",
       "<table border=\"1\" class=\"dataframe\">\n",
       "  <thead>\n",
       "    <tr style=\"text-align: right;\">\n",
       "      <th></th>\n",
       "      <th>pubg_region</th>\n",
       "      <th>sum(paid_use)</th>\n",
       "      <th>sum((paid_use + free_use))</th>\n",
       "      <th>count(DISTINCT account_id)</th>\n",
       "      <th>count(DISTINCT paid_account_id)</th>\n",
       "    </tr>\n",
       "  </thead>\n",
       "  <tbody>\n",
       "    <tr>\n",
       "      <th>0</th>\n",
       "      <td>CN</td>\n",
       "      <td>1471360</td>\n",
       "      <td>1767090</td>\n",
       "      <td>225</td>\n",
       "      <td>172</td>\n",
       "    </tr>\n",
       "    <tr>\n",
       "      <th>1</th>\n",
       "      <td>NA</td>\n",
       "      <td>140954970</td>\n",
       "      <td>169759390</td>\n",
       "      <td>34263</td>\n",
       "      <td>27524</td>\n",
       "    </tr>\n",
       "    <tr>\n",
       "      <th>2</th>\n",
       "      <td>SA</td>\n",
       "      <td>10263690</td>\n",
       "      <td>13147340</td>\n",
       "      <td>5027</td>\n",
       "      <td>3623</td>\n",
       "    </tr>\n",
       "    <tr>\n",
       "      <th>3</th>\n",
       "      <td>KR</td>\n",
       "      <td>1856650</td>\n",
       "      <td>2202250</td>\n",
       "      <td>287</td>\n",
       "      <td>243</td>\n",
       "    </tr>\n",
       "    <tr>\n",
       "      <th>4</th>\n",
       "      <td>SEA</td>\n",
       "      <td>600270</td>\n",
       "      <td>732050</td>\n",
       "      <td>187</td>\n",
       "      <td>145</td>\n",
       "    </tr>\n",
       "    <tr>\n",
       "      <th>5</th>\n",
       "      <td>JP</td>\n",
       "      <td>5514050</td>\n",
       "      <td>6516450</td>\n",
       "      <td>958</td>\n",
       "      <td>844</td>\n",
       "    </tr>\n",
       "    <tr>\n",
       "      <th>6</th>\n",
       "      <td>TW/HK</td>\n",
       "      <td>1232820</td>\n",
       "      <td>1454660</td>\n",
       "      <td>178</td>\n",
       "      <td>157</td>\n",
       "    </tr>\n",
       "    <tr>\n",
       "      <th>7</th>\n",
       "      <td>CIS</td>\n",
       "      <td>1517170</td>\n",
       "      <td>3898400</td>\n",
       "      <td>719</td>\n",
       "      <td>234</td>\n",
       "    </tr>\n",
       "    <tr>\n",
       "      <th>8</th>\n",
       "      <td>EMEA</td>\n",
       "      <td>30439100</td>\n",
       "      <td>37638570</td>\n",
       "      <td>10572</td>\n",
       "      <td>7939</td>\n",
       "    </tr>\n",
       "    <tr>\n",
       "      <th>9</th>\n",
       "      <td>OC</td>\n",
       "      <td>7282100</td>\n",
       "      <td>8708660</td>\n",
       "      <td>1890</td>\n",
       "      <td>1562</td>\n",
       "    </tr>\n",
       "  </tbody>\n",
       "</table>\n",
       "</div>"
      ],
      "text/plain": [
       "  pubg_region  sum(paid_use)  sum((paid_use + free_use))  \\\n",
       "0          CN        1471360                     1767090   \n",
       "1          NA      140954970                   169759390   \n",
       "2          SA       10263690                    13147340   \n",
       "3          KR        1856650                     2202250   \n",
       "4         SEA         600270                      732050   \n",
       "5          JP        5514050                     6516450   \n",
       "6       TW/HK        1232820                     1454660   \n",
       "7         CIS        1517170                     3898400   \n",
       "8        EMEA       30439100                    37638570   \n",
       "9          OC        7282100                     8708660   \n",
       "\n",
       "   count(DISTINCT account_id)  count(DISTINCT paid_account_id)  \n",
       "0                         225                              172  \n",
       "1                       34263                            27524  \n",
       "2                        5027                             3623  \n",
       "3                         287                              243  \n",
       "4                         187                              145  \n",
       "5                         958                              844  \n",
       "6                         178                              157  \n",
       "7                         719                              234  \n",
       "8                       10572                             7939  \n",
       "9                        1890                             1562  "
      ]
     },
     "execution_count": 45,
     "metadata": {},
     "output_type": "execute_result"
    }
   ],
   "source": [
    "console_gcoin.groupBy(\"pubg_region\").agg(sum(\"paid_use\"), sum(col(\"paid_use\") + col(\"free_use\")), countDistinct(\"account_id\"), countDistinct(\"paid_account_id\")).toPandas()"
   ]
  },
  {
   "cell_type": "code",
   "execution_count": null,
   "metadata": {},
   "outputs": [],
   "source": []
  },
  {
   "cell_type": "code",
   "execution_count": 54,
   "metadata": {},
   "outputs": [
    {
     "data": {
      "text/html": [
       "<div>\n",
       "<style scoped>\n",
       "    .dataframe tbody tr th:only-of-type {\n",
       "        vertical-align: middle;\n",
       "    }\n",
       "\n",
       "    .dataframe tbody tr th {\n",
       "        vertical-align: top;\n",
       "    }\n",
       "\n",
       "    .dataframe thead th {\n",
       "        text-align: right;\n",
       "    }\n",
       "</style>\n",
       "<table border=\"1\" class=\"dataframe\">\n",
       "  <thead>\n",
       "    <tr style=\"text-align: right;\">\n",
       "      <th></th>\n",
       "      <th>product_name</th>\n",
       "      <th>sum(qty)</th>\n",
       "      <th>sum(paid_use)</th>\n",
       "      <th>sum((paid_use + free_use))</th>\n",
       "    </tr>\n",
       "  </thead>\n",
       "  <tbody>\n",
       "    <tr>\n",
       "      <th>0</th>\n",
       "      <td>CRAFTER PASS: McLAREN TOKEN &amp; LEVEL PACK</td>\n",
       "      <td>100483</td>\n",
       "      <td>290783410</td>\n",
       "      <td>328579410</td>\n",
       "    </tr>\n",
       "    <tr>\n",
       "      <th>1</th>\n",
       "      <td>McLAREN LOOT CACHE PACK (x11)</td>\n",
       "      <td>263883</td>\n",
       "      <td>599719359</td>\n",
       "      <td>659707500</td>\n",
       "    </tr>\n",
       "    <tr>\n",
       "      <th>2</th>\n",
       "      <td>McLaren Level UP</td>\n",
       "      <td>3096871</td>\n",
       "      <td>251001176</td>\n",
       "      <td>309687100</td>\n",
       "    </tr>\n",
       "    <tr>\n",
       "      <th>3</th>\n",
       "      <td>McLAREN LOOT CACHE PACK (x27)</td>\n",
       "      <td>121476</td>\n",
       "      <td>697807760</td>\n",
       "      <td>759225000</td>\n",
       "    </tr>\n",
       "    <tr>\n",
       "      <th>4</th>\n",
       "      <td>McLAREN LOOT CACHE PACK (x55)</td>\n",
       "      <td>121974</td>\n",
       "      <td>1416681225</td>\n",
       "      <td>1524675000</td>\n",
       "    </tr>\n",
       "    <tr>\n",
       "      <th>5</th>\n",
       "      <td>CRAFTER PASS: McLAREN TOKEN PACK</td>\n",
       "      <td>381117</td>\n",
       "      <td>164100299</td>\n",
       "      <td>377305830</td>\n",
       "    </tr>\n",
       "    <tr>\n",
       "      <th>6</th>\n",
       "      <td>McLAREN LOOT CACHE PACK (x1)</td>\n",
       "      <td>1524728</td>\n",
       "      <td>168763727</td>\n",
       "      <td>381182000</td>\n",
       "    </tr>\n",
       "  </tbody>\n",
       "</table>\n",
       "</div>"
      ],
      "text/plain": [
       "                               product_name  sum(qty)  sum(paid_use)  \\\n",
       "0  CRAFTER PASS: McLAREN TOKEN & LEVEL PACK    100483      290783410   \n",
       "1             McLAREN LOOT CACHE PACK (x11)    263883      599719359   \n",
       "2                          McLaren Level UP   3096871      251001176   \n",
       "3             McLAREN LOOT CACHE PACK (x27)    121476      697807760   \n",
       "4             McLAREN LOOT CACHE PACK (x55)    121974     1416681225   \n",
       "5          CRAFTER PASS: McLAREN TOKEN PACK    381117      164100299   \n",
       "6              McLAREN LOOT CACHE PACK (x1)   1524728      168763727   \n",
       "\n",
       "   sum((paid_use + free_use))  \n",
       "0                   328579410  \n",
       "1                   659707500  \n",
       "2                   309687100  \n",
       "3                   759225000  \n",
       "4                  1524675000  \n",
       "5                   377305830  \n",
       "6                   381182000  "
      ]
     },
     "execution_count": 54,
     "metadata": {},
     "output_type": "execute_result"
    }
   ],
   "source": [
    "pc_gcoin.groupBy(\"product_name\").agg(sum(\"qty\"), sum(\"paid_use\"), sum(col(\"paid_use\") + col(\"free_use\"))).toPandas()"
   ]
  },
  {
   "cell_type": "code",
   "execution_count": 55,
   "metadata": {},
   "outputs": [
    {
     "data": {
      "text/html": [
       "<div>\n",
       "<style scoped>\n",
       "    .dataframe tbody tr th:only-of-type {\n",
       "        vertical-align: middle;\n",
       "    }\n",
       "\n",
       "    .dataframe tbody tr th {\n",
       "        vertical-align: top;\n",
       "    }\n",
       "\n",
       "    .dataframe thead th {\n",
       "        text-align: right;\n",
       "    }\n",
       "</style>\n",
       "<table border=\"1\" class=\"dataframe\">\n",
       "  <thead>\n",
       "    <tr style=\"text-align: right;\">\n",
       "      <th></th>\n",
       "      <th>product_name</th>\n",
       "      <th>sum(qty)</th>\n",
       "      <th>sum(paid_use)</th>\n",
       "      <th>sum((paid_use + free_use))</th>\n",
       "    </tr>\n",
       "  </thead>\n",
       "  <tbody>\n",
       "    <tr>\n",
       "      <th>0</th>\n",
       "      <td>CRAFTER PASS: McLAREN TOKEN &amp; LEVEL PACK</td>\n",
       "      <td>9112</td>\n",
       "      <td>27441110</td>\n",
       "      <td>29796240</td>\n",
       "    </tr>\n",
       "    <tr>\n",
       "      <th>1</th>\n",
       "      <td>McLAREN LOOT CACHE PACK (x11)</td>\n",
       "      <td>15968</td>\n",
       "      <td>34675720</td>\n",
       "      <td>39920000</td>\n",
       "    </tr>\n",
       "    <tr>\n",
       "      <th>2</th>\n",
       "      <td>None</td>\n",
       "      <td>206685</td>\n",
       "      <td>15537350</td>\n",
       "      <td>20668500</td>\n",
       "    </tr>\n",
       "    <tr>\n",
       "      <th>3</th>\n",
       "      <td>McLAREN LOOT CACHE PACK (x27)</td>\n",
       "      <td>7620</td>\n",
       "      <td>41685430</td>\n",
       "      <td>47625000</td>\n",
       "    </tr>\n",
       "    <tr>\n",
       "      <th>4</th>\n",
       "      <td>McLAREN LOOT CACHE PACK (x55)</td>\n",
       "      <td>3688</td>\n",
       "      <td>40350170</td>\n",
       "      <td>46100000</td>\n",
       "    </tr>\n",
       "    <tr>\n",
       "      <th>5</th>\n",
       "      <td>CRAFTER PASS: McLAREN TOKEN PACK</td>\n",
       "      <td>35313</td>\n",
       "      <td>25719180</td>\n",
       "      <td>34959870</td>\n",
       "    </tr>\n",
       "    <tr>\n",
       "      <th>6</th>\n",
       "      <td>McLAREN LOOT CACHE PACK (x1)</td>\n",
       "      <td>107021</td>\n",
       "      <td>15723220</td>\n",
       "      <td>26755250</td>\n",
       "    </tr>\n",
       "  </tbody>\n",
       "</table>\n",
       "</div>"
      ],
      "text/plain": [
       "                               product_name  sum(qty)  sum(paid_use)  \\\n",
       "0  CRAFTER PASS: McLAREN TOKEN & LEVEL PACK      9112       27441110   \n",
       "1             McLAREN LOOT CACHE PACK (x11)     15968       34675720   \n",
       "2                                      None    206685       15537350   \n",
       "3             McLAREN LOOT CACHE PACK (x27)      7620       41685430   \n",
       "4             McLAREN LOOT CACHE PACK (x55)      3688       40350170   \n",
       "5          CRAFTER PASS: McLAREN TOKEN PACK     35313       25719180   \n",
       "6              McLAREN LOOT CACHE PACK (x1)    107021       15723220   \n",
       "\n",
       "   sum((paid_use + free_use))  \n",
       "0                    29796240  \n",
       "1                    39920000  \n",
       "2                    20668500  \n",
       "3                    47625000  \n",
       "4                    46100000  \n",
       "5                    34959870  \n",
       "6                    26755250  "
      ]
     },
     "execution_count": 55,
     "metadata": {},
     "output_type": "execute_result"
    }
   ],
   "source": [
    "console_gcoin.groupBy(\"product_name\").agg(sum(\"qty\"), sum(\"paid_use\"), sum(col(\"paid_use\") + col(\"free_use\"))).toPandas()"
   ]
  },
  {
   "cell_type": "code",
   "execution_count": null,
   "metadata": {},
   "outputs": [],
   "source": []
  }
 ],
 "metadata": {
  "kernelspec": {
   "display_name": "Python 3",
   "language": "python",
   "name": "python3"
  },
  "language_info": {
   "codemirror_mode": {
    "name": "ipython",
    "version": 3
   },
   "file_extension": ".py",
   "mimetype": "text/x-python",
   "name": "python",
   "nbconvert_exporter": "python",
   "pygments_lexer": "ipython3",
   "version": "3.6.7"
  }
 },
 "nbformat": 4,
 "nbformat_minor": 4
}
