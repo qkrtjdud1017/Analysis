{
 "cells": [
  {
   "cell_type": "code",
   "execution_count": 1,
   "metadata": {},
   "outputs": [
    {
     "name": "stdout",
     "output_type": "stream",
     "text": [
      "Spark cluster not assigned. creating a new one...\n",
      "Node spec: 8 executors with 48G RAM each\n",
      "Job Port 4049 is assigned for requested cluster\n",
      "Waiting for Spark master to be available...\n",
      "Spark master launched!\n",
      "Creating new Spark session, name: west0_mclaren_pass...\n",
      "Waiting for all executors ready...\n",
      "All executors connected!\n",
      "Complete! elapsed time: 00:00:27\n"
     ]
    }
   ],
   "source": [
    "from pubg_util import mysql, load_schema, notifier\n",
    "from sphynx import sphynx, NODE_SMALL, NODE_MEDIUM, NODE_LARGE\n",
    "from pyspark.sql.functions import *\n",
    "import pandas as pd\n",
    "import pickle\n",
    "\n",
    "spark = sphynx.get_spark(executor_count=8, app_name='west0_mclaren_pass', node_spec=NODE_LARGE)"
   ]
  },
  {
   "cell_type": "code",
   "execution_count": 15,
   "metadata": {},
   "outputs": [
    {
     "name": "stdout",
     "output_type": "stream",
     "text": [
      "Stopping Spark session...\n",
      "Destroying Spark cluster...\n",
      "Done!\n",
      "You can safely ignore the warning message if there is any.\n"
     ]
    }
   ],
   "source": [
    "sphynx.stop()"
   ]
  },
  {
   "cell_type": "code",
   "execution_count": 5,
   "metadata": {},
   "outputs": [],
   "source": [
    "post_start_date = \"2022-09-07\"\n",
    "post_gcoin_end_date = \"2022-11-02\"\n",
    "post_craft_end_date = \"2022-11-07\""
   ]
  },
  {
   "cell_type": "code",
   "execution_count": 6,
   "metadata": {},
   "outputs": [],
   "source": [
    "gcoin = load_data_mart(\"pc\", post_start_date, post_gcoin_end_date, \"gcoin_use\").where(col(\"event_name\") == \"202209_season_workshop\")"
   ]
  },
  {
   "cell_type": "code",
   "execution_count": 7,
   "metadata": {},
   "outputs": [],
   "source": [
    "gcoin = gcoin.withColumn(\"level_up\", when(col(\"product_id\") == \"battlepasslevelup.202209\", col(\"qty\")).when(col(\"product_id\") == \"itemdesc.13000628\", lit(30)).otherwise(lit(None))) \\\n",
    "    .withColumn(\"level_up_gcoin\", when(col(\"product_id\") == \"battlepasslevelup.202209\", col(\"paid_use\") + col(\"free_use\")).otherwise(lit(None))) \\\n",
    "    .withColumn(\"is_product\", when(col(\"product_id\").isin([\"itemdesc.13000637\", \"itemdesc.13000638\", \"itemdesc.13000639\", \"itemdesc.13000640\"]), lit(1)).otherwise(lit(0))) \\\n",
    "    .withColumn(\"product_gcoin\", when(col(\"is_product\") == 1, col(\"paid_use\") + col(\"free_use\")).otherwise(lit(None))) \\\n",
    "    .withColumn(\"is_pass\", when(col(\"product_id\").isin([\"itemdesc.13000628\", \"itemdesc.13000629\"]), lit(1)).otherwise(lit(0))) \\\n",
    "    .withColumn(\"pass_gcoin\", when(col(\"is_pass\") == 1, col(\"paid_use\") + col(\"free_use\")).otherwise(lit(None)))"
   ]
  },
  {
   "cell_type": "markdown",
   "metadata": {},
   "source": [
    "## Pass User"
   ]
  },
  {
   "cell_type": "code",
   "execution_count": 8,
   "metadata": {},
   "outputs": [],
   "source": [
    "pass_user = gcoin.where(col(\"product_id\").isin([\"itemdesc.13000628\", \"itemdesc.13000629\"])).select(\"account_id\").distinct()\n",
    "pass_user_gcoin = gcoin.join(pass_user, \"account_id\")"
   ]
  },
  {
   "cell_type": "code",
   "execution_count": 197,
   "metadata": {},
   "outputs": [
    {
     "name": "stdout",
     "output_type": "stream",
     "text": [
      "+-------------+\n",
      "|pass_user_cnt|\n",
      "+-------------+\n",
      "|481597       |\n",
      "+-------------+\n",
      "\n"
     ]
    }
   ],
   "source": [
    "pass_user.select(count(\"*\").alias(\"pass_user_cnt\")).show(truncate=False)"
   ]
  },
  {
   "cell_type": "code",
   "execution_count": null,
   "metadata": {},
   "outputs": [],
   "source": []
  },
  {
   "cell_type": "markdown",
   "metadata": {},
   "source": [
    "### P-1"
   ]
  },
  {
   "cell_type": "code",
   "execution_count": 9,
   "metadata": {},
   "outputs": [],
   "source": [
    "p1_user = pass_user_gcoin.groupBy(\"account_id\").agg(count(\"*\").alias(\"buy_cnt\")).filter(col(\"buy_cnt\") == 1).select(\"account_id\").distinct()"
   ]
  },
  {
   "cell_type": "code",
   "execution_count": 199,
   "metadata": {},
   "outputs": [
    {
     "name": "stdout",
     "output_type": "stream",
     "text": [
      "+-----------+\n",
      "|p1_user_cnt|\n",
      "+-----------+\n",
      "|147774     |\n",
      "+-----------+\n",
      "\n"
     ]
    }
   ],
   "source": [
    "p1_user.select(count(\"*\").alias(\"p1_user_cnt\")).show(truncate=False)"
   ]
  },
  {
   "cell_type": "code",
   "execution_count": 10,
   "metadata": {},
   "outputs": [],
   "source": [
    "p1_gcoin = gcoin.join(p1_user, \"account_id\")"
   ]
  },
  {
   "cell_type": "code",
   "execution_count": 11,
   "metadata": {},
   "outputs": [
    {
     "name": "stdout",
     "output_type": "stream",
     "text": [
      "+----------------------------------------+--------+--------------------------+\n",
      "|product_name                            |count(1)|count(DISTINCT account_id)|\n",
      "+----------------------------------------+--------+--------------------------+\n",
      "|CRAFTER PASS: McLAREN TOKEN & LEVEL PACK|7816    |7816                      |\n",
      "|CRAFTER PASS: McLAREN TOKEN PACK        |139958  |139958                    |\n",
      "+----------------------------------------+--------+--------------------------+\n",
      "\n"
     ]
    }
   ],
   "source": [
    "p1_gcoin.groupBy(\"product_name\").agg(count(\"*\"), countDistinct(\"account_id\")).show(truncate=False)"
   ]
  },
  {
   "cell_type": "code",
   "execution_count": null,
   "metadata": {},
   "outputs": [],
   "source": []
  },
  {
   "cell_type": "markdown",
   "metadata": {},
   "source": [
    "################################"
   ]
  },
  {
   "cell_type": "code",
   "execution_count": 201,
   "metadata": {},
   "outputs": [
    {
     "name": "stdout",
     "output_type": "stream",
     "text": [
      "+--------+\n",
      "|count(1)|\n",
      "+--------+\n",
      "|  147774|\n",
      "+--------+\n",
      "\n"
     ]
    }
   ],
   "source": [
    "p1_gcoin.select(count(\"*\")).show()"
   ]
  },
  {
   "cell_type": "code",
   "execution_count": 202,
   "metadata": {},
   "outputs": [
    {
     "name": "stdout",
     "output_type": "stream",
     "text": [
      "+--------+--------+\n",
      "|count(1)|sum(cnt)|\n",
      "+--------+--------+\n",
      "|147774  |147774  |\n",
      "+--------+--------+\n",
      "\n"
     ]
    }
   ],
   "source": [
    "# check if all p1_user is buying only pass\n",
    "p1_check = p1_gcoin.groupBy(\"account_id\", \"product_id\").agg(count(\"*\").alias(\"cnt\"))\n",
    "# two values should be the same\n",
    "p1_check.select(count(\"*\"), sum(\"cnt\")).show(truncate=False)"
   ]
  },
  {
   "cell_type": "code",
   "execution_count": 203,
   "metadata": {},
   "outputs": [
    {
     "name": "stdout",
     "output_type": "stream",
     "text": [
      "+-----------------+\n",
      "|product_id       |\n",
      "+-----------------+\n",
      "|itemdesc.13000629|\n",
      "|itemdesc.13000628|\n",
      "+-----------------+\n",
      "\n"
     ]
    }
   ],
   "source": [
    "# only \"itemdesc.13000628\", \"itemdesc.13000629\" have to be shown\n",
    "p1_check.select(\"product_id\").distinct().show(truncate=False)"
   ]
  },
  {
   "cell_type": "markdown",
   "metadata": {},
   "source": [
    "################################"
   ]
  },
  {
   "cell_type": "code",
   "execution_count": 13,
   "metadata": {},
   "outputs": [],
   "source": [
    "p1_by_user = p1_gcoin.select(\"account_id\", \"pass_gcoin\", \"paid_use\", (col(\"paid_use\") + col(\"free_use\")).alias(\"total_use\"), \"level_up\")"
   ]
  },
  {
   "cell_type": "code",
   "execution_count": null,
   "metadata": {},
   "outputs": [],
   "source": []
  },
  {
   "cell_type": "markdown",
   "metadata": {},
   "source": [
    "### P-3"
   ]
  },
  {
   "cell_type": "markdown",
   "metadata": {},
   "source": [
    "\"itemdesc.13000637\", \"itemdesc.13000638\", \"itemdesc.13000639\", \"itemdesc.13000640\""
   ]
  },
  {
   "cell_type": "code",
   "execution_count": 205,
   "metadata": {},
   "outputs": [],
   "source": [
    "p3_user = pass_user_gcoin.join(p1_user, \"account_id\", \"left_anti\") \\\n",
    "    .where(col(\"product_id\").isin([\"itemdesc.13000637\", \"itemdesc.13000638\", \"itemdesc.13000639\", \"itemdesc.13000640\"])) \\\n",
    "    .select(\"account_id\").distinct()"
   ]
  },
  {
   "cell_type": "code",
   "execution_count": 206,
   "metadata": {},
   "outputs": [
    {
     "name": "stdout",
     "output_type": "stream",
     "text": [
      "+-----------+\n",
      "|p3_user_cnt|\n",
      "+-----------+\n",
      "|277093     |\n",
      "+-----------+\n",
      "\n"
     ]
    }
   ],
   "source": [
    "p3_user.select(count(\"*\").alias(\"p3_user_cnt\")).show(truncate=False)"
   ]
  },
  {
   "cell_type": "code",
   "execution_count": 207,
   "metadata": {},
   "outputs": [],
   "source": [
    "p3_gcoin = pass_user_gcoin.join(p3_user, \"account_id\")"
   ]
  },
  {
   "cell_type": "markdown",
   "metadata": {},
   "source": [
    "################################"
   ]
  },
  {
   "cell_type": "code",
   "execution_count": 208,
   "metadata": {},
   "outputs": [
    {
     "name": "stdout",
     "output_type": "stream",
     "text": [
      "+--------+\n",
      "|count(1)|\n",
      "+--------+\n",
      "|  277093|\n",
      "+--------+\n",
      "\n"
     ]
    }
   ],
   "source": [
    "# should be same as p-3 user count\n",
    "p3_gcoin.groupBy(\"account_id\").agg(sum(\"is_product\").alias(\"is_product\"), sum(\"is_pass\").alias(\"is_pass\")).filter((col(\"is_product\") > 0) & (col(\"is_pass\") > 0)).select(count(\"*\")).show()"
   ]
  },
  {
   "cell_type": "code",
   "execution_count": 209,
   "metadata": {},
   "outputs": [
    {
     "name": "stdout",
     "output_type": "stream",
     "text": [
      "+--------+\n",
      "|count(1)|\n",
      "+--------+\n",
      "|  198625|\n",
      "+--------+\n",
      "\n"
     ]
    }
   ],
   "source": [
    "# the p3 user cnt who has bought level up\n",
    "p3_gcoin.groupBy(\"account_id\").agg(sum(\"level_up\").alias(\"level_up_cnt\")).filter(col(\"level_up_cnt\") > 0).select(count(\"*\")).show()"
   ]
  },
  {
   "cell_type": "markdown",
   "metadata": {},
   "source": [
    "################################"
   ]
  },
  {
   "cell_type": "code",
   "execution_count": 210,
   "metadata": {},
   "outputs": [],
   "source": [
    "p3_by_user = p3_gcoin.groupBy(\"account_id\").agg(sum(\"pass_gcoin\").alias(\"pass_gcoin\"), sum(\"product_gcoin\").alias(\"product_gcoin\"), \\\n",
    "            sum(\"level_up\").alias(\"level_up\"), sum(\"level_up_gcoin\").alias(\"level_up_gcoin\"), sum(\"paid_use\").alias(\"paid_use\"), sum(col(\"paid_use\") + col(\"free_use\")).alias(\"total_use\"))"
   ]
  },
  {
   "cell_type": "markdown",
   "metadata": {},
   "source": [
    "### P-2"
   ]
  },
  {
   "cell_type": "code",
   "execution_count": 211,
   "metadata": {},
   "outputs": [],
   "source": [
    "p2_user = pass_user.join(p1_user, \"account_id\", \"leftanti\").join(p3_user, \"account_id\", \"leftanti\")"
   ]
  },
  {
   "cell_type": "code",
   "execution_count": 212,
   "metadata": {},
   "outputs": [
    {
     "name": "stdout",
     "output_type": "stream",
     "text": [
      "+-------------+\n",
      "|p2_user_count|\n",
      "+-------------+\n",
      "|        56730|\n",
      "+-------------+\n",
      "\n"
     ]
    }
   ],
   "source": [
    "p2_user.select(count(\"*\").alias(\"p2_user_count\")).show()"
   ]
  },
  {
   "cell_type": "code",
   "execution_count": 213,
   "metadata": {},
   "outputs": [],
   "source": [
    "p2_gcoin = gcoin.join(p2_user, \"account_id\")"
   ]
  },
  {
   "cell_type": "markdown",
   "metadata": {},
   "source": [
    "################################"
   ]
  },
  {
   "cell_type": "code",
   "execution_count": 97,
   "metadata": {},
   "outputs": [
    {
     "data": {
      "text/plain": [
       "56730"
      ]
     },
     "execution_count": 97,
     "metadata": {},
     "output_type": "execute_result"
    }
   ],
   "source": [
    "# total pass user - p1 user - p3 user\n",
    "481597 - 147774 - 277093"
   ]
  },
  {
   "cell_type": "code",
   "execution_count": 214,
   "metadata": {},
   "outputs": [
    {
     "name": "stdout",
     "output_type": "stream",
     "text": [
      "+--------+\n",
      "|count(1)|\n",
      "+--------+\n",
      "|       0|\n",
      "+--------+\n",
      "\n"
     ]
    }
   ],
   "source": [
    "p2_gcoin.groupBy(\"account_id\").agg(sum(\"is_product\").alias(\"is_product\")).filter(col(\"is_product\") > 0).select(count(\"*\")).show()"
   ]
  },
  {
   "cell_type": "markdown",
   "metadata": {},
   "source": [
    "################################"
   ]
  },
  {
   "cell_type": "code",
   "execution_count": 215,
   "metadata": {},
   "outputs": [],
   "source": [
    "p2_by_user = p2_gcoin.groupBy(\"account_id\").agg(sum(\"pass_gcoin\").alias(\"pass_gcoin\"), sum(\"level_up\").alias(\"level_up\"), sum(\"level_up_gcoin\").alias(\"level_up_gcoin\"), sum(\"paid_use\").alias(\"paid_use\"), sum(col(\"paid_use\") + col(\"free_use\")).alias(\"total_use\"))"
   ]
  },
  {
   "cell_type": "code",
   "execution_count": 103,
   "metadata": {},
   "outputs": [
    {
     "name": "stdout",
     "output_type": "stream",
     "text": [
      "root\n",
      " |-- account_id: string (nullable = true)\n",
      " |-- pass_gcoin: long (nullable = true)\n",
      " |-- level_up: long (nullable = true)\n",
      " |-- level_up_gcoin: long (nullable = true)\n",
      " |-- paid_use: long (nullable = true)\n",
      " |-- total_use: long (nullable = true)\n",
      "\n"
     ]
    }
   ],
   "source": [
    "p2_by_user.printSchema()"
   ]
  },
  {
   "cell_type": "code",
   "execution_count": null,
   "metadata": {},
   "outputs": [],
   "source": []
  },
  {
   "cell_type": "markdown",
   "metadata": {},
   "source": [
    "## Total"
   ]
  },
  {
   "cell_type": "code",
   "execution_count": 216,
   "metadata": {},
   "outputs": [],
   "source": [
    "pass_user_total = p1_by_user.withColumn(\"level_up_gcoin\", lit(None)).withColumn(\"product_gcoin\", lit(None)).withColumn(\"group\", lit(\"P-1\")) \\\n",
    "    .unionByName(p2_by_user.withColumn(\"product_gcoin\", lit(None)).withColumn(\"group\", lit(\"P-2\"))) \\\n",
    "    .unionByName(p3_by_user.withColumn(\"group\", lit(\"P-3\")))"
   ]
  },
  {
   "cell_type": "code",
   "execution_count": 217,
   "metadata": {},
   "outputs": [
    {
     "name": "stdout",
     "output_type": "stream",
     "text": [
      "+-----+--------+--------------------------+\n",
      "|group|count(1)|count(DISTINCT account_id)|\n",
      "+-----+--------+--------------------------+\n",
      "|P-1  |147774  |147774                    |\n",
      "|P-3  |277093  |277093                    |\n",
      "|P-2  |56730   |56730                     |\n",
      "+-----+--------+--------------------------+\n",
      "\n"
     ]
    }
   ],
   "source": [
    "pass_user_total.groupBy(\"group\").agg(count(\"*\"), countDistinct(\"account_id\")).show(truncate=False)"
   ]
  },
  {
   "cell_type": "code",
   "execution_count": 218,
   "metadata": {},
   "outputs": [],
   "source": [
    "mysql.drop_table(\"labs\", \"pass_user_total\")"
   ]
  },
  {
   "cell_type": "code",
   "execution_count": 219,
   "metadata": {},
   "outputs": [],
   "source": [
    "mysql.insert_table(pass_user_total, \"labs\", \"pass_user_total\")"
   ]
  },
  {
   "cell_type": "code",
   "execution_count": null,
   "metadata": {},
   "outputs": [],
   "source": []
  },
  {
   "cell_type": "markdown",
   "metadata": {},
   "source": [
    "## Mclaren "
   ]
  },
  {
   "cell_type": "code",
   "execution_count": 184,
   "metadata": {},
   "outputs": [],
   "source": [
    "mclaren = gcoin.join(pass_user, \"account_id\", \"leftanti\")"
   ]
  },
  {
   "cell_type": "code",
   "execution_count": 161,
   "metadata": {},
   "outputs": [
    {
     "name": "stdout",
     "output_type": "stream",
     "text": [
      "+-----------------------------+------------------------+--------+\n",
      "|product_name                 |product_id              |count(1)|\n",
      "+-----------------------------+------------------------+--------+\n",
      "|McLaren Level UP             |battlepasslevelup.202209|142     |\n",
      "|McLAREN LOOT CACHE PACK (x55)|itemdesc.13000640       |12570   |\n",
      "|McLAREN LOOT CACHE PACK (x27)|itemdesc.13000639       |10550   |\n",
      "|McLAREN LOOT CACHE PACK (x11)|itemdesc.13000638       |37683   |\n",
      "|McLAREN LOOT CACHE PACK (x1) |itemdesc.13000637       |293348  |\n",
      "+-----------------------------+------------------------+--------+\n",
      "\n"
     ]
    }
   ],
   "source": [
    "mclaren.groupBy(\"product_name\", \"product_id\").agg(count(\"*\")).show(truncate=False)"
   ]
  },
  {
   "cell_type": "code",
   "execution_count": 185,
   "metadata": {},
   "outputs": [],
   "source": [
    "level_up_user = mclaren.where(col(\"product_id\") == \"battlepasslevelup.202209\").select(\"account_id\").distinct()"
   ]
  },
  {
   "cell_type": "code",
   "execution_count": 162,
   "metadata": {},
   "outputs": [
    {
     "name": "stdout",
     "output_type": "stream",
     "text": [
      "+-----------+--------------------------+\n",
      "|product_cnt|count(DISTINCT account_id)|\n",
      "+-----------+--------------------------+\n",
      "|5          |1                         |\n",
      "|1          |45                        |\n",
      "|3          |10                        |\n",
      "|2          |27                        |\n",
      "|4          |8                         |\n",
      "+-----------+--------------------------+\n",
      "\n"
     ]
    }
   ],
   "source": [
    "mclaren.join(level_up_user, \"account_id\").groupBy(\"account_id\").agg(countDistinct(\"product_id\").alias(\"product_cnt\")).groupBy(\"product_cnt\").agg(countDistinct(\"account_id\")).show(truncate=False)"
   ]
  },
  {
   "cell_type": "code",
   "execution_count": 187,
   "metadata": {},
   "outputs": [
    {
     "data": {
      "text/plain": [
       "91"
      ]
     },
     "execution_count": 187,
     "metadata": {},
     "output_type": "execute_result"
    }
   ],
   "source": [
    "level_up_user.count()"
   ]
  },
  {
   "cell_type": "code",
   "execution_count": 186,
   "metadata": {},
   "outputs": [],
   "source": [
    "# pass를 구매하지 않고 소유하고 level up권을 구매한 유저들\n",
    "mysql.insert_table(level_up_user, \"labs\", \"level_up_buyer_without_pass\")"
   ]
  },
  {
   "cell_type": "code",
   "execution_count": null,
   "metadata": {},
   "outputs": [],
   "source": []
  },
  {
   "cell_type": "code",
   "execution_count": 116,
   "metadata": {},
   "outputs": [],
   "source": [
    "mclaren_by_user = mclaren.groupBy(\"account_id\").agg(sum(\"paid_use\").alias(\"paid_use\"), sum(col(\"free_use\") + col(\"paid_use\")).alias(\"total_use\")).withColumn(\"group\", lit(\"M-2\"))"
   ]
  },
  {
   "cell_type": "code",
   "execution_count": 117,
   "metadata": {},
   "outputs": [
    {
     "name": "stdout",
     "output_type": "stream",
     "text": [
      "+-----------+\n",
      "|m2_user_cnt|\n",
      "+-----------+\n",
      "|     202813|\n",
      "+-----------+\n",
      "\n"
     ]
    }
   ],
   "source": [
    "mclaren_by_user.select(count(\"*\").alias(\"m2_user_cnt\")).show()"
   ]
  },
  {
   "cell_type": "code",
   "execution_count": 120,
   "metadata": {},
   "outputs": [],
   "source": [
    "mysql.insert_table(mclaren_by_user, \"labs\", \"m2_user\")"
   ]
  },
  {
   "cell_type": "code",
   "execution_count": 118,
   "metadata": {},
   "outputs": [
    {
     "name": "stdout",
     "output_type": "stream",
     "text": [
      "+--------------------------+\n",
      "|count(DISTINCT account_id)|\n",
      "+--------------------------+\n",
      "|684410                    |\n",
      "+--------------------------+\n",
      "\n"
     ]
    }
   ],
   "source": [
    "gcoin.select(countDistinct(\"account_id\")).show(truncate=False)"
   ]
  },
  {
   "cell_type": "code",
   "execution_count": 122,
   "metadata": {},
   "outputs": [
    {
     "data": {
      "text/plain": [
       "684410"
      ]
     },
     "execution_count": 122,
     "metadata": {},
     "output_type": "execute_result"
    }
   ],
   "source": [
    "# mclaren user + pass user\n",
    "202813+481597"
   ]
  },
  {
   "cell_type": "code",
   "execution_count": null,
   "metadata": {},
   "outputs": [],
   "source": []
  }
 ],
 "metadata": {
  "kernelspec": {
   "display_name": "Python 3",
   "language": "python",
   "name": "python3"
  },
  "language_info": {
   "codemirror_mode": {
    "name": "ipython",
    "version": 3
   },
   "file_extension": ".py",
   "mimetype": "text/x-python",
   "name": "python",
   "nbconvert_exporter": "python",
   "pygments_lexer": "ipython3",
   "version": "3.6.7"
  }
 },
 "nbformat": 4,
 "nbformat_minor": 4
}
