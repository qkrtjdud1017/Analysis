{
 "cells": [
  {
   "cell_type": "code",
   "execution_count": 61,
   "metadata": {},
   "outputs": [
    {
     "name": "stdout",
     "output_type": "stream",
     "text": [
      "Spark cluster not assigned. creating a new one...\n",
      "Node spec: 16 executors with 48G RAM each\n",
      "Job Port 4049 is assigned for requested cluster\n",
      "Waiting for Spark master to be available...\n",
      "Spark master launched!\n",
      "Creating new Spark session, name: west0_mclaren...\n",
      "Waiting for all executors ready...\n",
      "All executors connected!\n",
      "Complete! elapsed time: 00:00:28\n"
     ]
    }
   ],
   "source": [
    "from pubg_util import mysql, load_schema, notifier\n",
    "from sphynx import sphynx, NODE_SMALL, NODE_MEDIUM, NODE_LARGE\n",
    "from pyspark.sql.functions import *\n",
    "import pandas as pd\n",
    "import pickle\n",
    "\n",
    "spark = sphynx.get_spark(executor_count=16, app_name='west0_mclaren', node_spec=NODE_LARGE)"
   ]
  },
  {
   "cell_type": "code",
   "execution_count": 65,
   "metadata": {},
   "outputs": [
    {
     "name": "stdout",
     "output_type": "stream",
     "text": [
      "Stopping Spark session...\n",
      "Destroying Spark cluster...\n",
      "Done!\n",
      "You can safely ignore the warning message if there is any.\n"
     ]
    }
   ],
   "source": [
    "sphynx.stop()"
   ]
  },
  {
   "cell_type": "code",
   "execution_count": 12,
   "metadata": {},
   "outputs": [],
   "source": [
    "pass_user = mysql.read_table(spark, \"labs\", \"pass_user_total\")\n",
    "m1_user = mysql.read_table(spark, \"labs\", \"m1_user\")\n",
    "m2_user = mysql.read_table(spark, \"labs\", \"m2_user\")\n",
    "mclaren_owner = mysql.read_table(spark, \"labs\", \"mclaren_user_group\") "
   ]
  },
  {
   "cell_type": "code",
   "execution_count": 3,
   "metadata": {},
   "outputs": [],
   "source": [
    "m2_user = m2_user.withColumn(\"pass_gcoin\", lit(None)).withColumn(\"product_gcoin\", col(\"total_use\")) \\\n",
    "    .withColumn(\"level_up\", lit(None)).withColumn(\"level_up_gcoin\", lit(None))\n",
    "m1_user = m1_user.select(\"account_id\", \"group\").distinct().withColumn(\"pass_gcoin\", lit(None)).withColumn(\"product_gcoin\", lit(None)) \\\n",
    "    .withColumn(\"level_up\", lit(None)).withColumn(\"level_up_gcoin\", lit(None)).withColumn(\"paid_use\", lit(None)).withColumn(\"total_use\", lit(None))"
   ]
  },
  {
   "cell_type": "code",
   "execution_count": 4,
   "metadata": {},
   "outputs": [],
   "source": [
    "m_user = m1_user.unionByName(m2_user)"
   ]
  },
  {
   "cell_type": "code",
   "execution_count": 5,
   "metadata": {},
   "outputs": [
    {
     "name": "stdout",
     "output_type": "stream",
     "text": [
      "+--------+--------------------------+\n",
      "|count(1)|count(DISTINCT account_id)|\n",
      "+--------+--------------------------+\n",
      "|3369930 |3369930                   |\n",
      "+--------+--------------------------+\n",
      "\n"
     ]
    }
   ],
   "source": [
    "m_user.select(count(\"*\"), countDistinct(\"account_id\")).show(truncate=False)"
   ]
  },
  {
   "cell_type": "code",
   "execution_count": null,
   "metadata": {},
   "outputs": [],
   "source": []
  },
  {
   "cell_type": "code",
   "execution_count": 6,
   "metadata": {},
   "outputs": [],
   "source": [
    "user_group = pass_user.unionByName(m_user)"
   ]
  },
  {
   "cell_type": "code",
   "execution_count": 7,
   "metadata": {},
   "outputs": [
    {
     "name": "stdout",
     "output_type": "stream",
     "text": [
      "+--------+--------------------------+\n",
      "|count(1)|count(DISTINCT account_id)|\n",
      "+--------+--------------------------+\n",
      "|3851527 |3851527                   |\n",
      "+--------+--------------------------+\n",
      "\n"
     ]
    }
   ],
   "source": [
    "user_group.select(count(\"*\"), countDistinct(\"account_id\")).show(truncate=False)"
   ]
  },
  {
   "cell_type": "code",
   "execution_count": 8,
   "metadata": {},
   "outputs": [
    {
     "name": "stdout",
     "output_type": "stream",
     "text": [
      "+-----+--------------------------+--------+\n",
      "|group|count(DISTINCT account_id)|count(1)|\n",
      "+-----+--------------------------+--------+\n",
      "|P-1  |147774                    |147774  |\n",
      "|P-3  |277093                    |277093  |\n",
      "|P-2  |56730                     |56730   |\n",
      "|M-1  |3167117                   |3167117 |\n",
      "|M-2  |202813                    |202813  |\n",
      "+-----+--------------------------+--------+\n",
      "\n"
     ]
    }
   ],
   "source": [
    "user_group.groupBy(\"group\").agg(countDistinct(\"account_id\"), count(\"*\")).show(truncate=False)"
   ]
  },
  {
   "cell_type": "code",
   "execution_count": null,
   "metadata": {},
   "outputs": [],
   "source": []
  },
  {
   "cell_type": "code",
   "execution_count": 32,
   "metadata": {},
   "outputs": [
    {
     "name": "stdout",
     "output_type": "stream",
     "text": [
      "+-----+-------------+--------+\n",
      "|group|mclaren_group|user_cnt|\n",
      "+-----+-------------+--------+\n",
      "|M-1  |null         |3153642 |\n",
      "|M-1  |EY           |1       |\n",
      "|M-1  |SB           |13467   |\n",
      "|M-1  |SW           |6       |\n",
      "|M-1  |TM           |1       |\n",
      "|M-2  |null         |190435  |\n",
      "|M-2  |EY           |392     |\n",
      "|M-2  |SB           |10259   |\n",
      "|M-2  |SW           |1108    |\n",
      "|M-2  |TM           |619     |\n",
      "|P-1  |null         |71176   |\n",
      "|P-1  |EY           |71      |\n",
      "|P-1  |SB           |4761    |\n",
      "|P-1  |SW           |71053   |\n",
      "|P-1  |TM           |713     |\n",
      "|P-2  |null         |14933   |\n",
      "|P-2  |EY           |85      |\n",
      "|P-2  |SB           |1309    |\n",
      "|P-2  |SW           |40094   |\n",
      "|P-2  |TM           |309     |\n",
      "|P-3  |null         |40879   |\n",
      "|P-3  |EY           |35163   |\n",
      "|P-3  |SB           |21271   |\n",
      "|P-3  |SW           |147475  |\n",
      "|P-3  |TM           |32305   |\n",
      "+-----+-------------+--------+\n",
      "\n"
     ]
    }
   ],
   "source": [
    "user_group.join(mclaren_owner.withColumnRenamed(\"AccountId\", \"account_id\"), \"account_id\", \"full_outer\") \\\n",
    "    .groupBy(\"group\", \"mclaren_group\").agg(countDistinct(\"account_id\").alias(\"user_cnt\")).orderBy(\"group\", \"mclaren_group\").show(40, truncate=False)"
   ]
  },
  {
   "cell_type": "code",
   "execution_count": 13,
   "metadata": {},
   "outputs": [],
   "source": [
    "user_group_with_mclaren_owner = user_group.join(mclaren_owner.withColumnRenamed(\"AccountId\", \"account_id\"), \"account_id\", \"full_outer\")"
   ]
  },
  {
   "cell_type": "code",
   "execution_count": null,
   "metadata": {},
   "outputs": [],
   "source": [
    "# if group is null then assign group = \"M-1\"\n",
    "# if mclaren_user_group is null then assign mclaren_user_group = \"N\""
   ]
  },
  {
   "cell_type": "code",
   "execution_count": 14,
   "metadata": {},
   "outputs": [],
   "source": [
    "user_group_with_mclaren_owner = user_group_with_mclaren_owner.withColumn(\"mclaren_group\", when(col(\"mclaren_group\").isNull(), lit(\"N\")).otherwise(col(\"mclaren_group\")))"
   ]
  },
  {
   "cell_type": "code",
   "execution_count": 15,
   "metadata": {},
   "outputs": [
    {
     "name": "stdout",
     "output_type": "stream",
     "text": [
      "+-----+-------------+--------+\n",
      "|group|mclaren_group|user_cnt|\n",
      "+-----+-------------+--------+\n",
      "|M-1  |EY           |1       |\n",
      "|M-1  |N            |3153642 |\n",
      "|M-1  |SB           |13467   |\n",
      "|M-1  |SW           |6       |\n",
      "|M-1  |TM           |1       |\n",
      "|M-2  |EY           |392     |\n",
      "|M-2  |N            |190435  |\n",
      "|M-2  |SB           |10259   |\n",
      "|M-2  |SW           |1108    |\n",
      "|M-2  |TM           |619     |\n",
      "|P-1  |EY           |71      |\n",
      "|P-1  |N            |71176   |\n",
      "|P-1  |SB           |4761    |\n",
      "|P-1  |SW           |71053   |\n",
      "|P-1  |TM           |713     |\n",
      "|P-2  |EY           |85      |\n",
      "|P-2  |N            |14933   |\n",
      "|P-2  |SB           |1309    |\n",
      "|P-2  |SW           |40094   |\n",
      "|P-2  |TM           |309     |\n",
      "|P-3  |EY           |35163   |\n",
      "|P-3  |N            |40879   |\n",
      "|P-3  |SB           |21271   |\n",
      "|P-3  |SW           |147475  |\n",
      "|P-3  |TM           |32305   |\n",
      "+-----+-------------+--------+\n",
      "\n"
     ]
    }
   ],
   "source": [
    "user_group_with_mclaren_owner.groupBy(\"group\", \"mclaren_group\").agg(countDistinct(\"account_id\").alias(\"user_cnt\")).orderBy(\"group\", \"mclaren_group\").show(40, truncate=False)"
   ]
  },
  {
   "cell_type": "code",
   "execution_count": 36,
   "metadata": {},
   "outputs": [],
   "source": []
  },
  {
   "cell_type": "code",
   "execution_count": 16,
   "metadata": {},
   "outputs": [],
   "source": [
    "from datetime import datetime, timedelta\n",
    "\n",
    "def load_data_mart(table, startdate, enddate, device=None):\n",
    "    df = None\n",
    "    if device is None:\n",
    "        for i in range(int((datetime.strptime(enddate, '%Y-%m-%d') - datetime.strptime(startdate, '%Y-%m-%d')).days)+1):\n",
    "            try:\n",
    "                if df is None:\n",
    "                    df = spark.read.parquet(\"s3a://pubg-log-labs/data_mart/{table}/{startdate}\".format(table=table, startdate=startdate))   \n",
    "                else :\n",
    "                    df = df.unionAll(spark.read.parquet(\"s3a://pubg-log-labs/data_mart/{table}/{startdate}\".format(table=table, startdate=startdate)))  \n",
    "            except Exception as e:\n",
    "                pass\n",
    "            startdate = (datetime.strptime(startdate, '%Y-%m-%d') + timedelta(days = 1)).strftime('%Y-%m-%d')\n",
    "    else:\n",
    "        device = device.upper()\n",
    "        for i in range(int((datetime.strptime(enddate, '%Y-%m-%d') - datetime.strptime(startdate, '%Y-%m-%d')).days)+1):\n",
    "            try:\n",
    "                if df is None:\n",
    "                    df = spark.read.parquet(\"s3a://pubg-log-labs/data_mart/{table}/{startdate}/{device}\".format(table=table, startdate=startdate, device=device))   \n",
    "                else :\n",
    "                    df = df.unionAll(spark.read.parquet(\"s3a://pubg-log-labs/data_mart/{table}/{startdate}/{device}\".format(table=table, startdate=startdate, device=device)))  \n",
    "            except Exception as e:\n",
    "                pass\n",
    "            startdate = (datetime.strptime(startdate, '%Y-%m-%d') + timedelta(days = 1)).strftime('%Y-%m-%d')\n",
    "    return df\n"
   ]
  },
  {
   "cell_type": "code",
   "execution_count": 17,
   "metadata": {},
   "outputs": [],
   "source": [
    "# 멕라렌 패스 기간\n",
    "gameplay = load_data_mart('official_gameplay_master', \"2022-09-07\", \"2022-11-01\")"
   ]
  },
  {
   "cell_type": "code",
   "execution_count": 18,
   "metadata": {},
   "outputs": [],
   "source": [
    "gameplay_df = gameplay.groupBy(\"AccountId\").agg(countDistinct(\"date\").alias(\"play_date_cnt\"), \\\n",
    "    sum(col(\"TppSoloPlayCount\") + col(\"TppDuoPlayCount\") + col(\"TppSquadPlayCount\") + col(\"FppSoloPlayCount\") + col(\"FppDuoPlayCount\") + col(\"FppSquadPlayCount\")).alias(\"play_cnt\"), \\\n",
    "    sum(col(\"TppSoloGameMinute\") + col(\"TppDuoGameMinute\") + col(\"TppSquadGameMinute\") + col(\"FppSoloGameMinute\") + col(\"FppDuoGameMinute\") + col(\"FppSquadGameMinute\")).alias(\"play_min\"))"
   ]
  },
  {
   "cell_type": "code",
   "execution_count": 19,
   "metadata": {},
   "outputs": [],
   "source": [
    "user_group_with_mclaren_owner = user_group_with_mclaren_owner.join(gameplay_df.withColumnRenamed(\"AccountId\", \"account_id\"), \"account_id\", \"left\")"
   ]
  },
  {
   "cell_type": "code",
   "execution_count": 20,
   "metadata": {},
   "outputs": [
    {
     "name": "stdout",
     "output_type": "stream",
     "text": [
      "+--------+--------------------------+\n",
      "|count(1)|count(DISTINCT account_id)|\n",
      "+--------+--------------------------+\n",
      "|3851527 |3851527                   |\n",
      "+--------+--------------------------+\n",
      "\n"
     ]
    }
   ],
   "source": [
    "user_group_with_mclaren_owner.select(count(\"*\"), countDistinct(\"account_id\")).show(truncate=False)"
   ]
  },
  {
   "cell_type": "code",
   "execution_count": 22,
   "metadata": {},
   "outputs": [],
   "source": [
    "gcoin = load_data_mart(\"pc\", \"2022-09-07\", \"2022-11-02\", \"gcoin_use\")"
   ]
  },
  {
   "cell_type": "code",
   "execution_count": 23,
   "metadata": {},
   "outputs": [],
   "source": [
    "workshop_gcoin = gcoin.where(col(\"event_name\") == \"202207_workshop\")"
   ]
  },
  {
   "cell_type": "code",
   "execution_count": 24,
   "metadata": {},
   "outputs": [],
   "source": [
    "workshop_gcoin_by_user = workshop_gcoin.groupBy(\"account_id\") \\\n",
    "    .agg(sum(col(\"paid_use\")+col(\"free_use\")).alias(\"workshop_total_use\"), sum(\"paid_use\").alias(\"workshop_paid_use\"))"
   ]
  },
  {
   "cell_type": "code",
   "execution_count": 25,
   "metadata": {},
   "outputs": [],
   "source": [
    "user_group_with_mclaren_owner = user_group_with_mclaren_owner.join(workshop_gcoin_by_user, \"account_id\", \"left\")"
   ]
  },
  {
   "cell_type": "code",
   "execution_count": null,
   "metadata": {},
   "outputs": [],
   "source": []
  },
  {
   "cell_type": "code",
   "execution_count": 26,
   "metadata": {},
   "outputs": [],
   "source": [
    "non_mclaren_gcoin = gcoin.where(col(\"event_name\") != \"202209_season_workshop\")\n",
    "non_mclaren_gcoin_by_user = non_mclaren_gcoin.groupBy(\"account_id\") \\\n",
    "    .agg(sum(\"paid_use\").alias(\"non_mclaren_paid_use\"), sum(col(\"paid_use\") + col(\"free_use\")).alias(\"non_mclaren_total_use\"))"
   ]
  },
  {
   "cell_type": "code",
   "execution_count": 27,
   "metadata": {},
   "outputs": [],
   "source": [
    "user_group_with_mclaren_owner = user_group_with_mclaren_owner.join(non_mclaren_gcoin_by_user, \"account_id\", \"left\")"
   ]
  },
  {
   "cell_type": "code",
   "execution_count": null,
   "metadata": {},
   "outputs": [],
   "source": []
  },
  {
   "cell_type": "code",
   "execution_count": 62,
   "metadata": {},
   "outputs": [],
   "source": [
    "## Pass Reward\n",
    "reward_level = load_schema.lobby(spark, \"pc\", \"live\", \"RewardLevel\", \"2022-09-07\", \"2022-11-01\")"
   ]
  },
  {
   "cell_type": "code",
   "execution_count": 64,
   "metadata": {},
   "outputs": [
    {
     "name": "stdout",
     "output_type": "stream",
     "text": [
      "+----------+\n",
      "|max(Level)|\n",
      "+----------+\n",
      "|       171|\n",
      "+----------+\n",
      "\n"
     ]
    }
   ],
   "source": [
    "reward_level.select(max(\"Level\")).show()"
   ]
  },
  {
   "cell_type": "code",
   "execution_count": 29,
   "metadata": {},
   "outputs": [],
   "source": [
    "reward_level_max = reward_level.groupBy(\"AccountId\").agg(max(\"level\").alias(\"max_level\"))"
   ]
  },
  {
   "cell_type": "code",
   "execution_count": 30,
   "metadata": {},
   "outputs": [],
   "source": [
    "user_group_with_mclaren_owner = user_group_with_mclaren_owner.join(reward_level_max.withColumnRenamed(\"AccountId\", \"account_id\"), \"account_id\", \"left\")"
   ]
  },
  {
   "cell_type": "code",
   "execution_count": null,
   "metadata": {},
   "outputs": [],
   "source": []
  },
  {
   "cell_type": "code",
   "execution_count": 32,
   "metadata": {},
   "outputs": [],
   "source": [
    "mclaren_user_group = mysql.read_table(spark, \"labs\", \"mclaren_user_group\")"
   ]
  },
  {
   "cell_type": "code",
   "execution_count": 49,
   "metadata": {},
   "outputs": [],
   "source": [
    "user_group_with_mclaren_owner = user_group_with_mclaren_owner.drop(\"mclaren_own_date_num\")"
   ]
  },
  {
   "cell_type": "code",
   "execution_count": 51,
   "metadata": {},
   "outputs": [],
   "source": [
    "user_group_with_mclaren_owner = user_group_with_mclaren_owner.join(mclaren_user_group.withColumnRenamed(\"AccountId\", \"account_id\").select(\"account_id\", \"mclaren_own_date_num\"), \"account_id\", \"left\")"
   ]
  },
  {
   "cell_type": "code",
   "execution_count": 52,
   "metadata": {},
   "outputs": [
    {
     "name": "stdout",
     "output_type": "stream",
     "text": [
      "root\n",
      " |-- account_id: string (nullable = true)\n",
      " |-- pass_gcoin: long (nullable = true)\n",
      " |-- paid_use: long (nullable = true)\n",
      " |-- total_use: long (nullable = true)\n",
      " |-- level_up: long (nullable = true)\n",
      " |-- level_up_gcoin: long (nullable = true)\n",
      " |-- product_gcoin: long (nullable = true)\n",
      " |-- group: string (nullable = true)\n",
      " |-- mclaren_group: string (nullable = true)\n",
      " |-- play_date_cnt: long (nullable = true)\n",
      " |-- play_cnt: long (nullable = true)\n",
      " |-- play_min: double (nullable = true)\n",
      " |-- workshop_total_use: long (nullable = true)\n",
      " |-- workshop_paid_use: long (nullable = true)\n",
      " |-- non_mclaren_paid_use: long (nullable = true)\n",
      " |-- non_mclaren_total_use: long (nullable = true)\n",
      " |-- max_level: long (nullable = true)\n",
      " |-- mclaren_own_date_num: integer (nullable = true)\n",
      "\n"
     ]
    }
   ],
   "source": [
    "user_group_with_mclaren_owner.printSchema()"
   ]
  },
  {
   "cell_type": "code",
   "execution_count": 53,
   "metadata": {},
   "outputs": [],
   "source": [
    "mysql.insert_table(user_group_with_mclaren_owner, \"labs\", \"user_group_with_mclaren_owner\")"
   ]
  },
  {
   "cell_type": "code",
   "execution_count": null,
   "metadata": {},
   "outputs": [],
   "source": []
  },
  {
   "cell_type": "code",
   "execution_count": 55,
   "metadata": {},
   "outputs": [],
   "source": [
    "pre_gcoin_user = mysql.read_table(spark, \"labs\", \"gcoin_by_user\")"
   ]
  },
  {
   "cell_type": "code",
   "execution_count": 56,
   "metadata": {},
   "outputs": [
    {
     "name": "stdout",
     "output_type": "stream",
     "text": [
      "root\n",
      " |-- account_id: string (nullable = true)\n",
      " |-- paid_use: long (nullable = true)\n",
      " |-- total_use: long (nullable = true)\n",
      " |-- gcoin_use_group: string (nullable = true)\n",
      " |-- workshop_gcoin: long (nullable = true)\n",
      " |-- if_workshop: string (nullable = true)\n",
      " |-- main_use_event_type: string (nullable = true)\n",
      " |-- type_total_use: long (nullable = true)\n",
      " |-- play_date_cnt: long (nullable = true)\n",
      " |-- play_cnt: long (nullable = true)\n",
      " |-- play_min: double (nullable = true)\n",
      "\n"
     ]
    }
   ],
   "source": [
    "pre_gcoin_user.printSchema()"
   ]
  },
  {
   "cell_type": "code",
   "execution_count": 57,
   "metadata": {},
   "outputs": [],
   "source": [
    "pre_gcoin_user = pre_gcoin_user.withColumnRenamed(\"paid_use\", \"pre_paid_use\").withColumnRenamed(\"total_use\", \"pre_total_use\") \\\n",
    "    .withColumnRenamed(\"gcoin_use_group\", \"pre_gcoin_use_group\").withColumnRenamed(\"workshop_gcoin\", \"pre_workshop_gcoin\") \\\n",
    "    .withColumnRenamed(\"if_workshop\", \"pre_if_workshop\").withColumnRenamed(\"main_use_event_type\", \"pre_main_use_event_type\") \\\n",
    "    .withColumnRenamed(\"type_total_use\", \"pre_main_use_event_type_total_use\").withColumnRenamed(\"play_date_cnt\", \"pre_play_date_cnt\") \\\n",
    "    .withColumnRenamed(\"play_cnt\", \"pre_play_cnt\").withColumnRenamed(\"play_min\", \"pre_play_min\")"
   ]
  },
  {
   "cell_type": "code",
   "execution_count": 58,
   "metadata": {},
   "outputs": [],
   "source": [
    "df = user_group_with_mclaren_owner.join(pre_gcoin_user, \"account_id\", \"left\")"
   ]
  },
  {
   "cell_type": "code",
   "execution_count": 59,
   "metadata": {},
   "outputs": [],
   "source": [
    "mysql.insert_table(df, \"labs\", \"mclaren_seg_pre_and_post_info\")"
   ]
  },
  {
   "cell_type": "code",
   "execution_count": null,
   "metadata": {},
   "outputs": [],
   "source": []
  }
 ],
 "metadata": {
  "kernelspec": {
   "display_name": "Python 3",
   "language": "python",
   "name": "python3"
  },
  "language_info": {
   "codemirror_mode": {
    "name": "ipython",
    "version": 3
   },
   "file_extension": ".py",
   "mimetype": "text/x-python",
   "name": "python",
   "nbconvert_exporter": "python",
   "pygments_lexer": "ipython3",
   "version": "3.6.7"
  }
 },
 "nbformat": 4,
 "nbformat_minor": 4
}
