{
 "cells": [
  {
   "cell_type": "code",
   "execution_count": 94,
   "metadata": {},
   "outputs": [
    {
     "name": "stdout",
     "output_type": "stream",
     "text": [
      "Spark cluster not assigned. creating a new one...\n",
      "Node spec: 8 executors with 48G RAM each\n",
      "Job Port 4048 is assigned for requested cluster\n",
      "Waiting for Spark master to be available...\n",
      "Spark master launched!\n",
      "Creating new Spark session, name: west0_mclaren_owner...\n",
      "Waiting for all executors ready...\n",
      "All executors connected!\n",
      "Complete! elapsed time: 00:00:24\n"
     ]
    }
   ],
   "source": [
    "from pubg_util import mysql, load_schema, notifier\n",
    "from sphynx import sphynx, NODE_SMALL, NODE_MEDIUM, NODE_LARGE\n",
    "from pyspark.sql.functions import *\n",
    "import pandas as pd\n",
    "import pickle\n",
    "\n",
    "spark = sphynx.get_spark(executor_count=8, app_name='west0_mclaren_owner', node_spec=NODE_LARGE)"
   ]
  },
  {
   "cell_type": "code",
   "execution_count": 93,
   "metadata": {},
   "outputs": [
    {
     "name": "stdout",
     "output_type": "stream",
     "text": [
      "Stopping Spark session...\n",
      "Destroying Spark cluster...\n",
      "Done!\n",
      "You can safely ignore the warning message if there is any.\n"
     ]
    }
   ],
   "source": [
    "sphynx.stop()"
   ]
  },
  {
   "cell_type": "code",
   "execution_count": 45,
   "metadata": {},
   "outputs": [],
   "source": [
    "post_start_date = \"2022-09-07\"\n",
    "post_gcoin_end_date = \"2022-11-02\"\n",
    "post_craft_end_date = \"2022-11-07\""
   ]
  },
  {
   "cell_type": "markdown",
   "metadata": {},
   "source": [
    "itemdesc.12021002 - standard black  \n",
    "itemdesc.12021003 - standard white  \n",
    "itemdesc.12021001 - elite yellow"
   ]
  },
  {
   "cell_type": "code",
   "execution_count": 46,
   "metadata": {
    "collapsed": true,
    "jupyter": {
     "outputs_hidden": true
    }
   },
   "outputs": [
    {
     "name": "stderr",
     "output_type": "stream",
     "text": [
      "ERROR:py4j.java_gateway:An error occurred while trying to connect to the Java server (127.0.0.1:41485)\n",
      "Traceback (most recent call last):\n",
      "  File \"/usr/local/spark/python/lib/py4j-0.10.7-src.zip/py4j/java_gateway.py\", line 929, in _get_connection\n",
      "    connection = self.deque.pop()\n",
      "IndexError: pop from an empty deque\n",
      "\n",
      "During handling of the above exception, another exception occurred:\n",
      "\n",
      "Traceback (most recent call last):\n",
      "  File \"/usr/local/spark/python/lib/py4j-0.10.7-src.zip/py4j/java_gateway.py\", line 1067, in start\n",
      "    self.socket.connect((self.address, self.port))\n",
      "ConnectionRefusedError: [Errno 111] Connection refused\n",
      "ERROR:py4j.java_gateway:An error occurred while trying to connect to the Java server (127.0.0.1:41485)\n",
      "Traceback (most recent call last):\n",
      "  File \"/usr/local/spark/python/lib/py4j-0.10.7-src.zip/py4j/java_gateway.py\", line 929, in _get_connection\n",
      "    connection = self.deque.pop()\n",
      "IndexError: pop from an empty deque\n",
      "\n",
      "During handling of the above exception, another exception occurred:\n",
      "\n",
      "Traceback (most recent call last):\n",
      "  File \"/usr/local/spark/python/lib/py4j-0.10.7-src.zip/py4j/java_gateway.py\", line 1067, in start\n",
      "    self.socket.connect((self.address, self.port))\n",
      "ConnectionRefusedError: [Errno 111] Connection refused\n"
     ]
    }
   ],
   "source": [
    "craft = load_schema.lobby(spark, \"pc\", \"live\", \"WorkshopCrafted\", post_start_date, post_craft_end_date)"
   ]
  },
  {
   "cell_type": "code",
   "execution_count": 47,
   "metadata": {},
   "outputs": [],
   "source": [
    "special_craft = load_schema.lobby(spark, \"pc\", \"live\", \"PurchaseResult\", post_start_date, post_craft_end_date).where(col(\"Currency\").like(\"%token%\"))"
   ]
  },
  {
   "cell_type": "code",
   "execution_count": 48,
   "metadata": {},
   "outputs": [],
   "source": [
    "standard_black = craft.where(col(\"ItemDescId\") == \"itemvoucherdesc.12021002\")\n",
    "standard_white = special_craft.where(col(\"ItemId\") == \"itemdesc.12021003\")\n",
    "elite_yellow = special_craft.where(col(\"ItemId\") == \"itemdesc.12021001\")"
   ]
  },
  {
   "cell_type": "code",
   "execution_count": 24,
   "metadata": {},
   "outputs": [
    {
     "name": "stdout",
     "output_type": "stream",
     "text": [
      "+--------+-------------------------+\n",
      "|count(1)|count(DISTINCT AccountId)|\n",
      "+--------+-------------------------+\n",
      "|90106   |84655                    |\n",
      "+--------+-------------------------+\n",
      "\n"
     ]
    }
   ],
   "source": [
    "standard_black.select(count(\"*\"), countDistinct(\"AccountId\")).show(truncate=False)"
   ]
  },
  {
   "cell_type": "code",
   "execution_count": 30,
   "metadata": {},
   "outputs": [
    {
     "name": "stdout",
     "output_type": "stream",
     "text": [
      "+---+--------+\n",
      "|cnt|user_cnt|\n",
      "+---+--------+\n",
      "|1  |79830   |\n",
      "|2  |4319    |\n",
      "|3  |412     |\n",
      "|4  |74      |\n",
      "|5  |15      |\n",
      "|6  |4       |\n",
      "|7  |1       |\n",
      "+---+--------+\n",
      "\n"
     ]
    }
   ],
   "source": [
    "standard_black.groupBy(\"AccountId\").agg(count(\"*\").alias(\"cnt\")).groupBy(\"cnt\").agg(countDistinct(\"AccountId\").alias(\"user_cnt\")).orderBy(\"cnt\").show(truncate=False)"
   ]
  },
  {
   "cell_type": "code",
   "execution_count": 25,
   "metadata": {},
   "outputs": [
    {
     "name": "stdout",
     "output_type": "stream",
     "text": [
      "+--------+-------------------------+\n",
      "|count(1)|count(DISTINCT AccountId)|\n",
      "+--------+-------------------------+\n",
      "|268579  |268578                   |\n",
      "+--------+-------------------------+\n",
      "\n"
     ]
    }
   ],
   "source": [
    "standard_white.select(count(\"*\"), countDistinct(\"AccountId\")).show(truncate=False)"
   ]
  },
  {
   "cell_type": "code",
   "execution_count": 20,
   "metadata": {},
   "outputs": [
    {
     "name": "stdout",
     "output_type": "stream",
     "text": [
      "+--------+-------------------------+\n",
      "|count(1)|count(DISTINCT AccountId)|\n",
      "+--------+-------------------------+\n",
      "|62049   |62049                    |\n",
      "+--------+-------------------------+\n",
      "\n"
     ]
    }
   ],
   "source": [
    "elite_yellow.select(count(\"*\"), countDistinct(\"AccountId\")).show(truncate=False)"
   ]
  },
  {
   "cell_type": "code",
   "execution_count": 49,
   "metadata": {},
   "outputs": [],
   "source": [
    "mclaren_user = standard_black.groupBy(\"AccountId\").agg(min(\"date\").alias(\"own_date\")).withColumn(\"mclaren\", lit(\"standard_black\")) \\\n",
    "    .unionByName(standard_white.groupBy(\"AccountId\").agg(min(\"date\").alias(\"own_date\")).withColumn(\"mclaren\", lit(\"standard_white\"))) \\\n",
    "    .unionByName(elite_yellow.groupBy(\"AccountId\").agg(min(\"date\").alias(\"own_date\")).withColumn(\"mclaren\", lit(\"elite_yellow\")))"
   ]
  },
  {
   "cell_type": "code",
   "execution_count": 29,
   "metadata": {},
   "outputs": [
    {
     "name": "stdout",
     "output_type": "stream",
     "text": [
      "+-------------------------+--------+\n",
      "|count(DISTINCT AccountId)|count(1)|\n",
      "+-------------------------+--------+\n",
      "|380462                   |415282  |\n",
      "+-------------------------+--------+\n",
      "\n"
     ]
    }
   ],
   "source": [
    "mclaren_user.select(countDistinct(\"AccountId\"), count(\"*\")).show(truncate=False)"
   ]
  },
  {
   "cell_type": "code",
   "execution_count": 51,
   "metadata": {},
   "outputs": [],
   "source": []
  },
  {
   "cell_type": "code",
   "execution_count": 52,
   "metadata": {},
   "outputs": [],
   "source": [
    "mysql.insert_table(mclaren_user, \"labs\", \"mclaren_owner\")"
   ]
  },
  {
   "cell_type": "code",
   "execution_count": 95,
   "metadata": {},
   "outputs": [],
   "source": [
    "mclaren_user = mysql.read_table(spark, \"labs\", \"mclaren_owner\")"
   ]
  },
  {
   "cell_type": "code",
   "execution_count": 96,
   "metadata": {},
   "outputs": [],
   "source": [
    "mclaren_distinct_user = mclaren_user.groupBy(\"AccountId\").agg(min(\"own_date\").alias(\"first_own_date\"))"
   ]
  },
  {
   "cell_type": "code",
   "execution_count": 98,
   "metadata": {},
   "outputs": [],
   "source": [
    "user_login = load_data_mart('pc', post_start_date, post_craft_end_date, \"user_master\").where(col(\"lastlogindate\") == col(\"date\")).withColumnRenamed(\"accountid\", \"account_id\")"
   ]
  },
  {
   "cell_type": "code",
   "execution_count": 100,
   "metadata": {},
   "outputs": [],
   "source": [
    "from pyspark.sql.window import Window\n",
    "Window_Spec  = Window.partitionBy(\"account_id\").orderBy(\"date\")\n",
    "login_with_num = user_login.withColumn(\"login_date_num\", row_number().over(Window_Spec))"
   ]
  },
  {
   "cell_type": "code",
   "execution_count": 101,
   "metadata": {},
   "outputs": [],
   "source": [
    "mclaren_distinct_user = mclaren_distinct_user.withColumnRenamed(\"AccountId\", \"account_id\").withColumnRenamed(\"first_own_date\", \"date\")\n",
    "login_with_num = login_with_num.select(\"date\", \"account_id\", \"login_date_num\")"
   ]
  },
  {
   "cell_type": "code",
   "execution_count": 102,
   "metadata": {},
   "outputs": [],
   "source": [
    "mclaren_own_login_date_num = mclaren_distinct_user.join(login_with_num, \\\n",
    "                           [\"account_id\", \"date\"], \"left\")"
   ]
  },
  {
   "cell_type": "code",
   "execution_count": 73,
   "metadata": {},
   "outputs": [
    {
     "name": "stdout",
     "output_type": "stream",
     "text": [
      "+--------+--------------------------+\n",
      "|count(1)|count(DISTINCT account_id)|\n",
      "+--------+--------------------------+\n",
      "|380462  |380462                    |\n",
      "+--------+--------------------------+\n",
      "\n"
     ]
    }
   ],
   "source": [
    "mclaren_own_login_date_num.select(count(\"*\"), countDistinct(\"account_id\")).show(truncate=False)"
   ]
  },
  {
   "cell_type": "code",
   "execution_count": 33,
   "metadata": {},
   "outputs": [
    {
     "name": "stdout",
     "output_type": "stream",
     "text": [
      "+-----------+--------+\n",
      "|mclaren_cnt|user_cnt|\n",
      "+-----------+--------+\n",
      "|1          |346515  |\n",
      "|2          |33074   |\n",
      "|3          |873     |\n",
      "+-----------+--------+\n",
      "\n"
     ]
    }
   ],
   "source": [
    "mclaren_user.groupBy(\"AccountId\").agg(count(\"*\").alias(\"mclaren_cnt\")).groupBy(\"mclaren_cnt\").agg(countDistinct(\"AccountId\").alias(\"user_cnt\")).orderBy(\"mclaren_cnt\").show(truncate=False)"
   ]
  },
  {
   "cell_type": "code",
   "execution_count": 103,
   "metadata": {},
   "outputs": [],
   "source": [
    "tm_user = mclaren_user.groupBy(\"AccountId\").agg(count(\"*\").alias(\"mclaren_cnt\")).filter(col(\"mclaren_cnt\") > 1)"
   ]
  },
  {
   "cell_type": "code",
   "execution_count": 35,
   "metadata": {},
   "outputs": [
    {
     "name": "stdout",
     "output_type": "stream",
     "text": [
      "+-------------------------+--------+\n",
      "|count(DISTINCT AccountId)|count(1)|\n",
      "+-------------------------+--------+\n",
      "|33947                    |33947   |\n",
      "+-------------------------+--------+\n",
      "\n"
     ]
    }
   ],
   "source": [
    "tm_user.select(countDistinct(\"AccountId\"), count(\"*\")).show(truncate=False)"
   ]
  },
  {
   "cell_type": "code",
   "execution_count": 106,
   "metadata": {},
   "outputs": [],
   "source": [
    "one_mclaren_user = mclaren_user.join(tm_user.select(\"AccountId\"), \"AccountId\", \"leftanti\")"
   ]
  },
  {
   "cell_type": "code",
   "execution_count": 107,
   "metadata": {},
   "outputs": [],
   "source": [
    "sb_user = one_mclaren_user.where(col(\"mclaren\") == \"standard_black\")\n",
    "sw_user = one_mclaren_user.where(col(\"mclaren\") == \"standard_white\")\n",
    "ey_user = one_mclaren_user.where(col(\"mclaren\") == \"elite_yellow\")"
   ]
  },
  {
   "cell_type": "code",
   "execution_count": 108,
   "metadata": {},
   "outputs": [
    {
     "name": "stdout",
     "output_type": "stream",
     "text": [
      "+-------------------------+--------+\n",
      "|count(DISTINCT AccountId)|count(1)|\n",
      "+-------------------------+--------+\n",
      "|51067                    |51067   |\n",
      "+-------------------------+--------+\n",
      "\n"
     ]
    }
   ],
   "source": [
    "sb_user.select(countDistinct(\"AccountId\"), count(\"*\")).show(truncate=False)"
   ]
  },
  {
   "cell_type": "code",
   "execution_count": 109,
   "metadata": {},
   "outputs": [
    {
     "name": "stdout",
     "output_type": "stream",
     "text": [
      "+-------------------------+--------+\n",
      "|count(DISTINCT AccountId)|count(1)|\n",
      "+-------------------------+--------+\n",
      "|259736                   |259736  |\n",
      "+-------------------------+--------+\n",
      "\n"
     ]
    }
   ],
   "source": [
    "sw_user.select(countDistinct(\"AccountId\"), count(\"*\")).show(truncate=False)"
   ]
  },
  {
   "cell_type": "code",
   "execution_count": 110,
   "metadata": {},
   "outputs": [
    {
     "name": "stdout",
     "output_type": "stream",
     "text": [
      "+-------------------------+--------+\n",
      "|count(DISTINCT AccountId)|count(1)|\n",
      "+-------------------------+--------+\n",
      "|35712                    |35712   |\n",
      "+-------------------------+--------+\n",
      "\n"
     ]
    }
   ],
   "source": [
    "ey_user.select(countDistinct(\"AccountId\"), count(\"*\")).show(truncate=False)"
   ]
  },
  {
   "cell_type": "code",
   "execution_count": null,
   "metadata": {},
   "outputs": [],
   "source": []
  },
  {
   "cell_type": "code",
   "execution_count": 111,
   "metadata": {},
   "outputs": [],
   "source": [
    "mclaren_user_group = sb_user.select(\"AccountId\").withColumn(\"mclaren_group\", lit(\"SB\")) \\\n",
    "    .unionByName(sw_user.select(\"AccountId\").withColumn(\"mclaren_group\", lit(\"SW\"))) \\\n",
    "    .unionByName(ey_user.select(\"AccountId\").withColumn(\"mclaren_group\", lit(\"EY\"))) \\\n",
    "    .unionByName(tm_user.select(\"AccountId\").withColumn(\"mclaren_group\", lit(\"TM\")))"
   ]
  },
  {
   "cell_type": "code",
   "execution_count": 114,
   "metadata": {},
   "outputs": [
    {
     "data": {
      "text/plain": [
       "380462"
      ]
     },
     "execution_count": 114,
     "metadata": {},
     "output_type": "execute_result"
    }
   ],
   "source": [
    "mclaren_user_group.count()"
   ]
  },
  {
   "cell_type": "code",
   "execution_count": 112,
   "metadata": {},
   "outputs": [],
   "source": []
  },
  {
   "cell_type": "code",
   "execution_count": 115,
   "metadata": {},
   "outputs": [],
   "source": [
    "mclaren_own_login_date_num = mclaren_own_login_date_num.withColumnRenamed(\"login_date_num\", \"mclaren_own_date_num\")"
   ]
  },
  {
   "cell_type": "code",
   "execution_count": 80,
   "metadata": {},
   "outputs": [
    {
     "name": "stdout",
     "output_type": "stream",
     "text": [
      "root\n",
      " |-- account_id: string (nullable = true)\n",
      " |-- date: string (nullable = true)\n",
      " |-- mclaren_own_date_num: integer (nullable = true)\n",
      "\n"
     ]
    }
   ],
   "source": [
    "mclaren_own_login_date_num.printSchema()"
   ]
  },
  {
   "cell_type": "code",
   "execution_count": 116,
   "metadata": {},
   "outputs": [],
   "source": [
    "mclaren_user_group = mclaren_user_group.join(mclaren_own_login_date_num.withColumnRenamed(\"account_id\", \"AccountId\").select(\"AccountId\", \"mclaren_own_date_num\"), \\\n",
    "                                            \"AccountId\")"
   ]
  },
  {
   "cell_type": "code",
   "execution_count": 118,
   "metadata": {},
   "outputs": [],
   "source": [
    "mysql.insert_table(mclaren_user_group, \"labs\", \"mclaren_user_group\")"
   ]
  },
  {
   "cell_type": "code",
   "execution_count": null,
   "metadata": {},
   "outputs": [],
   "source": []
  }
 ],
 "metadata": {
  "kernelspec": {
   "display_name": "Python 3",
   "language": "python",
   "name": "python3"
  },
  "language_info": {
   "codemirror_mode": {
    "name": "ipython",
    "version": 3
   },
   "file_extension": ".py",
   "mimetype": "text/x-python",
   "name": "python",
   "nbconvert_exporter": "python",
   "pygments_lexer": "ipython3",
   "version": "3.6.7"
  }
 },
 "nbformat": 4,
 "nbformat_minor": 4
}
