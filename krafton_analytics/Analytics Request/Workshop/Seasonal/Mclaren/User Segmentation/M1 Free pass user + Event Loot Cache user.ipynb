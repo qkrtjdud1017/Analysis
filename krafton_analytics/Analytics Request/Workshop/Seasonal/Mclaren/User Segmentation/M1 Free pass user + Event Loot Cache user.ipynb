{
 "cells": [
  {
   "cell_type": "code",
   "execution_count": 39,
   "metadata": {},
   "outputs": [
    {
     "name": "stdout",
     "output_type": "stream",
     "text": [
      "Spark cluster not assigned. creating a new one...\n",
      "Node spec: 8 executors with 48G RAM each\n",
      "Job Port 4048 is assigned for requested cluster\n",
      "Waiting for Spark master to be available...\n",
      "Spark master launched!\n",
      "Creating new Spark session, name: west0_mclaren_m1...\n",
      "Waiting for all executors ready...\n",
      "3/8 executors ready\n",
      "All executors connected!\n",
      "Complete! elapsed time: 00:00:46\n"
     ]
    }
   ],
   "source": [
    "from pubg_util import mysql, load_schema, notifier\n",
    "from sphynx import sphynx, NODE_SMALL, NODE_MEDIUM, NODE_LARGE\n",
    "from pyspark.sql.functions import *\n",
    "import pandas as pd\n",
    "import pickle\n",
    "\n",
    "spark = sphynx.get_spark(executor_count=8, app_name='west0_mclaren_m1', node_spec=NODE_LARGE)"
   ]
  },
  {
   "cell_type": "code",
   "execution_count": 62,
   "metadata": {},
   "outputs": [
    {
     "name": "stdout",
     "output_type": "stream",
     "text": [
      "Stopping Spark session...\n",
      "Destroying Spark cluster...\n",
      "Done!\n",
      "You can safely ignore the warning message if there is any.\n"
     ]
    }
   ],
   "source": [
    "sphynx.stop()"
   ]
  },
  {
   "cell_type": "code",
   "execution_count": 40,
   "metadata": {},
   "outputs": [],
   "source": [
    "from datetime import datetime, timedelta\n",
    "\n",
    "post_start_date = \"2022-09-07\"\n",
    "post_pass_end_date = \"2022-11-01\"\n",
    "post_craft_end_date = \"2022-11-07\""
   ]
  },
  {
   "cell_type": "code",
   "execution_count": 41,
   "metadata": {},
   "outputs": [],
   "source": [
    "def pass_user(startdate, enddate):\n",
    "    df = None\n",
    "    startdate = datetime.strptime(startdate, '%Y-%m-%d')\n",
    "    enddate = datetime.strptime(enddate, '%Y-%m-%d')\n",
    "    while startdate <= enddate :\n",
    "        startdate = startdate.strftime('%Y-%m-%d')\n",
    "        if df is None:\n",
    "            df = spark.read.parquet(\"s3a://pubg-log-labs/data_mart/pass_user_meta/\"+startdate)\n",
    "        else :\n",
    "            df = df.union(spark.read.parquet(\"s3a://pubg-log-labs/data_mart/pass_user_meta/\"+startdate))\n",
    "        startdate = datetime.strptime(startdate, '%Y-%m-%d') + timedelta(days = 1)\n",
    "    return df\n"
   ]
  },
  {
   "cell_type": "code",
   "execution_count": 42,
   "metadata": {},
   "outputs": [],
   "source": [
    "def load_pass(startdate, enddate):\n",
    "    df = None\n",
    "    startdate = datetime.strptime(startdate, '%Y-%m-%d')\n",
    "    enddate = datetime.strptime(enddate, '%Y-%m-%d')\n",
    "    while startdate <= enddate :\n",
    "        startdate = startdate.strftime('%Y-%m-%d')\n",
    "        if df is None:\n",
    "            df = spark.read.parquet(\"s3a://pubg-log-labs/data_mart/pass_master/pc/\"+startdate)\n",
    "        else :\n",
    "            df = df.union(spark.read.parquet(\"s3a://pubg-log-labs/data_mart/pass_master/pc/\"+startdate))\n",
    "        startdate = datetime.strptime(startdate, '%Y-%m-%d') + timedelta(days = 1)\n",
    "    return df\n"
   ]
  },
  {
   "cell_type": "code",
   "execution_count": 43,
   "metadata": {},
   "outputs": [],
   "source": [
    "pass_master = load_pass(post_pass_end_date, post_pass_end_date)"
   ]
  },
  {
   "cell_type": "code",
   "execution_count": 44,
   "metadata": {},
   "outputs": [],
   "source": [
    "mclaren_pass_master = pass_master.where(col(\"period_type\") == \"mclaren\")"
   ]
  },
  {
   "cell_type": "code",
   "execution_count": 45,
   "metadata": {},
   "outputs": [
    {
     "name": "stdout",
     "output_type": "stream",
     "text": [
      "+-------------+-------------------------+\n",
      "|period_status|count(DISTINCT AccountId)|\n",
      "+-------------+-------------------------+\n",
      "|active       |13466229                 |\n",
      "|non_active   |91974395                 |\n",
      "|pass         |481939                   |\n",
      "+-------------+-------------------------+\n",
      "\n"
     ]
    }
   ],
   "source": [
    "mclaren_pass_master.groupBy(\"period_status\").agg(countDistinct(\"AccountId\")).show(truncate=False)"
   ]
  },
  {
   "cell_type": "markdown",
   "metadata": {},
   "source": [
    "- active: 접속하였지만 pass를 구매하지 않은 유저  \n",
    "- non_active: 접속하지 않은 유저  \n",
    "- pass: pass 가지고 있는 유저  "
   ]
  },
  {
   "cell_type": "code",
   "execution_count": 46,
   "metadata": {},
   "outputs": [],
   "source": [
    "active_mclaren_pass_user = mclaren_pass_master.where(col(\"period_status\") == \"active\")"
   ]
  },
  {
   "cell_type": "code",
   "execution_count": null,
   "metadata": {},
   "outputs": [],
   "source": []
  },
  {
   "cell_type": "code",
   "execution_count": 47,
   "metadata": {},
   "outputs": [],
   "source": [
    "## Pass Reward\n",
    "reward_level = load_schema.lobby(spark,\"pc\", \"live\", \"RewardLevel\", post_start_date, post_pass_end_date)"
   ]
  },
  {
   "cell_type": "code",
   "execution_count": 48,
   "metadata": {},
   "outputs": [],
   "source": [
    "active_mclaren_pass_user_reward = reward_level.join(active_mclaren_pass_user, \"AccountId\")"
   ]
  },
  {
   "cell_type": "code",
   "execution_count": 49,
   "metadata": {},
   "outputs": [],
   "source": [
    "free_pass_user = active_mclaren_pass_user_reward.select(\"AccountId\").distinct()"
   ]
  },
  {
   "cell_type": "code",
   "execution_count": null,
   "metadata": {},
   "outputs": [],
   "source": []
  },
  {
   "cell_type": "code",
   "execution_count": 50,
   "metadata": {},
   "outputs": [],
   "source": [
    "# event loot cache = itemdesc.14300005\n",
    "crate_increased = load_schema.lobby(spark,\"pc\", \"live\", \"WorkshopCrateIncreased\", post_start_date, post_craft_end_date)"
   ]
  },
  {
   "cell_type": "code",
   "execution_count": 24,
   "metadata": {},
   "outputs": [
    {
     "name": "stdout",
     "output_type": "stream",
     "text": [
      "+-----------+-------------------------+\n",
      "|sum(Amount)|count(DISTINCT AccountId)|\n",
      "+-----------+-------------------------+\n",
      "|-47952309  |1826885                  |\n",
      "+-----------+-------------------------+\n",
      "\n"
     ]
    }
   ],
   "source": [
    "crate_increased.where((col(\"ItemDescId\") == \"itemdesc.14300005\") & (col(\"Amount\") < 0)).select(sum(\"Amount\"), countDistinct(\"AccountId\")).show(truncate=False)"
   ]
  },
  {
   "cell_type": "code",
   "execution_count": 52,
   "metadata": {},
   "outputs": [],
   "source": [
    "event_loot_cache_user = crate_increased.where((col(\"ItemDescId\") == \"itemdesc.14300005\") & (col(\"Amount\") < 0)).select(\"AccountId\").distinct()"
   ]
  },
  {
   "cell_type": "code",
   "execution_count": null,
   "metadata": {},
   "outputs": [],
   "source": []
  },
  {
   "cell_type": "markdown",
   "metadata": {},
   "source": [
    "## M-1 User"
   ]
  },
  {
   "cell_type": "code",
   "execution_count": 53,
   "metadata": {},
   "outputs": [],
   "source": [
    "p_user = mysql.read_table(spark, \"labs\", \"pass_user_total\")\n",
    "m2_user = mysql.read_table(spark, \"labs\", \"m2_user\")"
   ]
  },
  {
   "cell_type": "code",
   "execution_count": 55,
   "metadata": {},
   "outputs": [
    {
     "name": "stdout",
     "output_type": "stream",
     "text": [
      "+-----+--------+--------------------------+\n",
      "|group|count(1)|count(DISTINCT account_id)|\n",
      "+-----+--------+--------------------------+\n",
      "|P-1  |147774  |147774                    |\n",
      "|P-3  |277093  |277093                    |\n",
      "|P-2  |56730   |56730                     |\n",
      "+-----+--------+--------------------------+\n",
      "\n"
     ]
    }
   ],
   "source": [
    "p_user.groupBy(\"group\").agg(count(\"*\"), countDistinct(\"account_id\")).show(truncate=False)"
   ]
  },
  {
   "cell_type": "code",
   "execution_count": 26,
   "metadata": {},
   "outputs": [
    {
     "data": {
      "text/plain": [
       "DataFrame[AccountId: string]"
      ]
     },
     "execution_count": 26,
     "metadata": {},
     "output_type": "execute_result"
    }
   ],
   "source": [
    "free_pass_user"
   ]
  },
  {
   "cell_type": "code",
   "execution_count": 27,
   "metadata": {},
   "outputs": [
    {
     "data": {
      "text/plain": [
       "DataFrame[AccountId: string]"
      ]
     },
     "execution_count": 27,
     "metadata": {},
     "output_type": "execute_result"
    }
   ],
   "source": [
    "event_loot_cache_user"
   ]
  },
  {
   "cell_type": "code",
   "execution_count": 54,
   "metadata": {},
   "outputs": [],
   "source": [
    "m1_user_tmp = free_pass_user.withColumn(\"history\", lit(\"free_pass\")).unionByName(event_loot_cache_user.withColumn(\"history\", lit(\"event_loot_cache\")))"
   ]
  },
  {
   "cell_type": "code",
   "execution_count": 30,
   "metadata": {},
   "outputs": [
    {
     "name": "stdout",
     "output_type": "stream",
     "text": [
      "+--------+-------------------------+\n",
      "|count(1)|count(DISTINCT AccountId)|\n",
      "+--------+-------------------------+\n",
      "|5116143 |3750342                  |\n",
      "+--------+-------------------------+\n",
      "\n"
     ]
    }
   ],
   "source": [
    "m1_user_tmp.select(count(\"*\"), countDistinct(\"AccountId\")).show(truncate=False)"
   ]
  },
  {
   "cell_type": "code",
   "execution_count": 57,
   "metadata": {},
   "outputs": [],
   "source": [
    "m1_user = m1_user_tmp.withColumnRenamed(\"AccountId\", \"account_id\").join(p_user, \"account_id\", \"leftanti\") \\\n",
    "    .join(m2_user, \"account_id\", \"leftanti\")"
   ]
  },
  {
   "cell_type": "code",
   "execution_count": 59,
   "metadata": {},
   "outputs": [
    {
     "name": "stdout",
     "output_type": "stream",
     "text": [
      "+--------+--------------------------+\n",
      "|count(1)|count(DISTINCT account_id)|\n",
      "+--------+--------------------------+\n",
      "|4433658 |3167117                   |\n",
      "+--------+--------------------------+\n",
      "\n"
     ]
    }
   ],
   "source": [
    "m1_user.select(count(\"*\"), countDistinct(\"account_id\")).show(truncate=False)"
   ]
  },
  {
   "cell_type": "code",
   "execution_count": 61,
   "metadata": {},
   "outputs": [],
   "source": [
    "m1_user = m1_user.withColumn(\"group\", lit(\"M-1\"))\n",
    "mysql.drop_table(\"labs\", \"m1_user\")\n",
    "mysql.insert_table(m1_user, \"labs\", \"m1_user\")"
   ]
  },
  {
   "cell_type": "code",
   "execution_count": null,
   "metadata": {},
   "outputs": [],
   "source": []
  }
 ],
 "metadata": {
  "kernelspec": {
   "display_name": "Python 3",
   "language": "python",
   "name": "python3"
  },
  "language_info": {
   "codemirror_mode": {
    "name": "ipython",
    "version": 3
   },
   "file_extension": ".py",
   "mimetype": "text/x-python",
   "name": "python",
   "nbconvert_exporter": "python",
   "pygments_lexer": "ipython3",
   "version": "3.6.7"
  }
 },
 "nbformat": 4,
 "nbformat_minor": 4
}
