{
 "cells": [
  {
   "cell_type": "code",
   "execution_count": 1,
   "metadata": {},
   "outputs": [
    {
     "name": "stdout",
     "output_type": "stream",
     "text": [
      "Spark cluster not assigned. creating a new one...\n",
      "Node spec: 4 executors with 48G RAM each\n",
      "Job Port 4048 is assigned for requested cluster\n",
      "Waiting for Spark master to be available...\n",
      "Spark master launched!\n",
      "Creating new Spark session, name: west0_ws...\n",
      "Waiting for all executors ready...\n",
      "All executors connected!\n",
      "Complete! elapsed time: 00:00:23\n"
     ]
    }
   ],
   "source": [
    "from pubg_util import mysql, load_schema, notifier\n",
    "from sphynx import sphynx, NODE_SMALL, NODE_MEDIUM, NODE_LARGE\n",
    "from pyspark.sql.functions import *\n",
    "import pandas as pd\n",
    "import pickle\n",
    "\n",
    "spark = sphynx.get_spark(executor_count=4, app_name='west0_ws', node_spec=NODE_LARGE)"
   ]
  },
  {
   "cell_type": "code",
   "execution_count": 211,
   "metadata": {},
   "outputs": [],
   "source": [
    "sphynx.stop()"
   ]
  },
  {
   "cell_type": "code",
   "execution_count": 2,
   "metadata": {},
   "outputs": [],
   "source": [
    "# Ingame BP 획득\n",
    "target_date = \"2022-07-20\"\n",
    "mapdata = load_schema.ingame(spark, \"pc\", \"live\", \"LogMatchEnd\", target_date, target_date)"
   ]
  },
  {
   "cell_type": "code",
   "execution_count": 3,
   "metadata": {},
   "outputs": [],
   "source": [
    "start_date = \"2022-07-13\"\n",
    "end_date = \"2022-07-19\"\n",
    "all_gcoin = load_data_mart('pc', start_date, end_date, \"gcoin_use\")\n",
    "gcoin = load_data_mart('pc', start_date, end_date, \"gcoin_use\").where(col(\"event_name\").like(\"%workshop%\"))"
   ]
  },
  {
   "cell_type": "code",
   "execution_count": 4,
   "metadata": {},
   "outputs": [],
   "source": [
    "gcoin_master = load_data_mart('pc', end_date, end_date, \"gcoin_master\")"
   ]
  },
  {
   "cell_type": "code",
   "execution_count": 5,
   "metadata": {},
   "outputs": [],
   "source": [
    "gcoin = gcoin.join(gcoin_master.select(\"account_id\", \"first_use_date\"), \"account_id\", \"left\")"
   ]
  },
  {
   "cell_type": "code",
   "execution_count": null,
   "metadata": {},
   "outputs": [],
   "source": []
  },
  {
   "cell_type": "code",
   "execution_count": 166,
   "metadata": {},
   "outputs": [],
   "source": [
    "from pyspark.sql.types import * \n",
    "\n",
    "def classify_country(country_os, country_ip):\n",
    "    if country_os != 'CN':\n",
    "        return country_ip\n",
    "    else:\n",
    "        return country_os\n",
    "\n",
    "country_type_udf = udf(classify_country, StringType())\n",
    "\n",
    "meta_region = mysql.read_table(spark, 'metainfo', 'meta_bi_regions')\n",
    "\n",
    "user = load_data_mart('pc', end_date, end_date, \"user_master\")\n",
    "user = user.withColumn(\"country_new\", country_type_udf(\"country_os\", \"country_ip\"))\n",
    "user = user.join(meta_region, user.country_new == meta_region.country_code_iso2, \"left\")"
   ]
  },
  {
   "cell_type": "code",
   "execution_count": 167,
   "metadata": {},
   "outputs": [],
   "source": [
    "user = user.withColumnRenamed(\"accountid\", \"account_id\")"
   ]
  },
  {
   "cell_type": "code",
   "execution_count": 168,
   "metadata": {},
   "outputs": [],
   "source": [
    "gcoin = gcoin.join(user.select(\"account_id\", \"pubg_region\"), \"account_id\", \"left\")"
   ]
  },
  {
   "cell_type": "code",
   "execution_count": 8,
   "metadata": {},
   "outputs": [
    {
     "name": "stdout",
     "output_type": "stream",
     "text": [
      "+-------+\n",
      "|au     |\n",
      "+-------+\n",
      "|4671695|\n",
      "+-------+\n",
      "\n"
     ]
    }
   ],
   "source": [
    "user.select(countDistinct(\"accountid\").alias(\"au\")).show(truncate=False)"
   ]
  },
  {
   "cell_type": "code",
   "execution_count": 13,
   "metadata": {},
   "outputs": [
    {
     "name": "stdout",
     "output_type": "stream",
     "text": [
      "+--------+-------+---------+----------+\n",
      "|total_pu|paid_pu| paid_use| total_use|\n",
      "+--------+-------+---------+----------+\n",
      "|  317870| 144304|906826030|1112161360|\n",
      "+--------+-------+---------+----------+\n",
      "\n"
     ]
    }
   ],
   "source": [
    "gcoin.withColumn(\"paid_pu\", when(col(\"paid_use\")>0, col(\"account_id\")).otherwise(lit(None))) \\\n",
    "    .select(countDistinct(\"account_id\").alias(\"total_pu\"), countDistinct(\"paid_pu\").alias(\"paid_pu\"), sum(\"paid_use\").alias(\"paid_use\"), sum(col(\"paid_use\") + col(\"free_use\")).alias(\"total_use\")).show()"
   ]
  },
  {
   "cell_type": "code",
   "execution_count": 111,
   "metadata": {},
   "outputs": [
    {
     "name": "stdout",
     "output_type": "stream",
     "text": [
      "+--------------------------+\n",
      "|count(DISTINCT account_id)|\n",
      "+--------------------------+\n",
      "|                     39086|\n",
      "+--------------------------+\n",
      "\n"
     ]
    }
   ],
   "source": [
    "gcoin.where(col(\"date\") == col(\"first_use_date\")).select(countDistinct(\"account_id\")).show()"
   ]
  },
  {
   "cell_type": "code",
   "execution_count": 13,
   "metadata": {},
   "outputs": [],
   "source": [
    "npu = gcoin.where(col(\"first_use_date\")== col(\"date\")).select(\"account_id\").distinct()"
   ]
  },
  {
   "cell_type": "code",
   "execution_count": 7,
   "metadata": {},
   "outputs": [
    {
     "name": "stdout",
     "output_type": "stream",
     "text": [
      "+--------+---------+-------+\n",
      "|paid_use|total_use|paid_pu|\n",
      "+--------+---------+-------+\n",
      "|6882690 |30076570 |1745   |\n",
      "+--------+---------+-------+\n",
      "\n"
     ]
    }
   ],
   "source": [
    "gcoin.where(col(\"date\") == col(\"first_use_date\")).withColumn(\"paid_account_id\", when(col(\"paid_use\") > 0, col(\"account_id\")).otherwise(lit(None))) \\\n",
    "    .select(sum(\"paid_use\").alias(\"paid_use\"), sum(col(\"paid_use\") + col(\"free_use\")).alias(\"total_use\"), countDistinct(\"paid_account_id\").alias(\"paid_pu\")).show(truncate=False)"
   ]
  },
  {
   "cell_type": "code",
   "execution_count": 14,
   "metadata": {},
   "outputs": [
    {
     "name": "stdout",
     "output_type": "stream",
     "text": [
      "+--------+---------+\n",
      "|paid_use|total_use|\n",
      "+--------+---------+\n",
      "|10637360|35688250 |\n",
      "+--------+---------+\n",
      "\n"
     ]
    }
   ],
   "source": [
    "gcoin.join(npu, \"account_id\") \\\n",
    "    .select(sum(\"paid_use\").alias(\"paid_use\"), sum(col(\"paid_use\") + col(\"free_use\")).alias(\"total_use\")).show(truncate=False)"
   ]
  },
  {
   "cell_type": "code",
   "execution_count": 15,
   "metadata": {},
   "outputs": [
    {
     "data": {
      "text/plain": [
       "3.2089093618573474"
      ]
     },
     "execution_count": 15,
     "metadata": {},
     "output_type": "execute_result"
    }
   ],
   "source": [
    "# 전체 total gcoin중 npu의 total gcoin 차지율\n",
    "35688250/1112161360*100"
   ]
  },
  {
   "cell_type": "code",
   "execution_count": 16,
   "metadata": {},
   "outputs": [
    {
     "data": {
      "text/plain": [
       "1.1730320533476526"
      ]
     },
     "execution_count": 16,
     "metadata": {},
     "output_type": "execute_result"
    }
   ],
   "source": [
    "# 전체 paid gcoin중 npu의 paid gcoin 차지율\n",
    "10637360/906826030*100"
   ]
  },
  {
   "cell_type": "code",
   "execution_count": 12,
   "metadata": {},
   "outputs": [
    {
     "data": {
      "text/plain": [
       "22.883892677921718"
      ]
     },
     "execution_count": 12,
     "metadata": {},
     "output_type": "execute_result"
    }
   ],
   "source": [
    "6882690/30076570*100"
   ]
  },
  {
   "cell_type": "code",
   "execution_count": 8,
   "metadata": {},
   "outputs": [
    {
     "data": {
      "text/plain": [
       "22.883892677921718"
      ]
     },
     "execution_count": 8,
     "metadata": {},
     "output_type": "execute_result"
    }
   ],
   "source": [
    "6882690/30076570*100"
   ]
  },
  {
   "cell_type": "code",
   "execution_count": 11,
   "metadata": {},
   "outputs": [
    {
     "data": {
      "text/plain": [
       "4.46451414828839"
      ]
     },
     "execution_count": 11,
     "metadata": {},
     "output_type": "execute_result"
    }
   ],
   "source": [
    "1745/39086*100"
   ]
  },
  {
   "cell_type": "code",
   "execution_count": 214,
   "metadata": {},
   "outputs": [
    {
     "data": {
      "text/html": [
       "<div>\n",
       "<style scoped>\n",
       "    .dataframe tbody tr th:only-of-type {\n",
       "        vertical-align: middle;\n",
       "    }\n",
       "\n",
       "    .dataframe tbody tr th {\n",
       "        vertical-align: top;\n",
       "    }\n",
       "\n",
       "    .dataframe thead th {\n",
       "        text-align: right;\n",
       "    }\n",
       "</style>\n",
       "<table border=\"1\" class=\"dataframe\">\n",
       "  <thead>\n",
       "    <tr style=\"text-align: right;\">\n",
       "      <th></th>\n",
       "      <th>product_name</th>\n",
       "      <th>total_pu</th>\n",
       "      <th>paid_pu</th>\n",
       "      <th>paid_use</th>\n",
       "      <th>free_use</th>\n",
       "    </tr>\n",
       "  </thead>\n",
       "  <tbody>\n",
       "    <tr>\n",
       "      <th>0</th>\n",
       "      <td>ARCHIVIST'S CHEST BUNDLE (x10)</td>\n",
       "      <td>59606</td>\n",
       "      <td>58470</td>\n",
       "      <td>598093120</td>\n",
       "      <td>38595680</td>\n",
       "    </tr>\n",
       "    <tr>\n",
       "      <th>1</th>\n",
       "      <td>ARCHIVIST'S CHEST</td>\n",
       "      <td>38460</td>\n",
       "      <td>16722</td>\n",
       "      <td>4196005</td>\n",
       "      <td>6918815</td>\n",
       "    </tr>\n",
       "    <tr>\n",
       "      <th>2</th>\n",
       "      <td>HUNTER'S CHEST PACK (x1)</td>\n",
       "      <td>50107</td>\n",
       "      <td>22391</td>\n",
       "      <td>11453960</td>\n",
       "      <td>13144200</td>\n",
       "    </tr>\n",
       "    <tr>\n",
       "      <th>3</th>\n",
       "      <td>HUNTER'S CHEST</td>\n",
       "      <td>56172</td>\n",
       "      <td>18903</td>\n",
       "      <td>2973745</td>\n",
       "      <td>6284015</td>\n",
       "    </tr>\n",
       "    <tr>\n",
       "      <th>4</th>\n",
       "      <td>HUNTER'S CHEST PACK (x5)</td>\n",
       "      <td>26172</td>\n",
       "      <td>22106</td>\n",
       "      <td>169382285</td>\n",
       "      <td>20796315</td>\n",
       "    </tr>\n",
       "    <tr>\n",
       "      <th>5</th>\n",
       "      <td>ARCHIVIST'S CHEST BUNDLE (x1)</td>\n",
       "      <td>136371</td>\n",
       "      <td>63389</td>\n",
       "      <td>35153640</td>\n",
       "      <td>50686680</td>\n",
       "    </tr>\n",
       "    <tr>\n",
       "      <th>6</th>\n",
       "      <td>ARCHIVIST'S CHEST BUNDLE (x5)</td>\n",
       "      <td>47886</td>\n",
       "      <td>34989</td>\n",
       "      <td>50409710</td>\n",
       "      <td>35281090</td>\n",
       "    </tr>\n",
       "    <tr>\n",
       "      <th>7</th>\n",
       "      <td>KEY</td>\n",
       "      <td>151662</td>\n",
       "      <td>67777</td>\n",
       "      <td>35163565</td>\n",
       "      <td>33628535</td>\n",
       "    </tr>\n",
       "  </tbody>\n",
       "</table>\n",
       "</div>"
      ],
      "text/plain": [
       "                     product_name  total_pu  paid_pu   paid_use  free_use\n",
       "0  ARCHIVIST'S CHEST BUNDLE (x10)     59606    58470  598093120  38595680\n",
       "1               ARCHIVIST'S CHEST     38460    16722    4196005   6918815\n",
       "2        HUNTER'S CHEST PACK (x1)     50107    22391   11453960  13144200\n",
       "3                  HUNTER'S CHEST     56172    18903    2973745   6284015\n",
       "4        HUNTER'S CHEST PACK (x5)     26172    22106  169382285  20796315\n",
       "5   ARCHIVIST'S CHEST BUNDLE (x1)    136371    63389   35153640  50686680\n",
       "6   ARCHIVIST'S CHEST BUNDLE (x5)     47886    34989   50409710  35281090\n",
       "7                             KEY    151662    67777   35163565  33628535"
      ]
     },
     "execution_count": 214,
     "metadata": {},
     "output_type": "execute_result"
    }
   ],
   "source": [
    "gcoin.withColumn(\"paid_pu\", when(col(\"paid_use\") > 0, col(\"account_id\")).otherwise(lit(None))) \\\n",
    "    .groupBy(\"product_name\").agg(countDistinct(\"account_id\").alias(\"total_pu\"), countDistinct(\"paid_pu\").alias(\"paid_pu\"), sum(\"paid_use\").alias(\"paid_use\"), sum(\"free_use\").alias('free_use')).toPandas()"
   ]
  },
  {
   "cell_type": "code",
   "execution_count": null,
   "metadata": {},
   "outputs": [],
   "source": []
  },
  {
   "cell_type": "code",
   "execution_count": 12,
   "metadata": {},
   "outputs": [
    {
     "data": {
      "text/html": [
       "<div>\n",
       "<style scoped>\n",
       "    .dataframe tbody tr th:only-of-type {\n",
       "        vertical-align: middle;\n",
       "    }\n",
       "\n",
       "    .dataframe tbody tr th {\n",
       "        vertical-align: top;\n",
       "    }\n",
       "\n",
       "    .dataframe thead th {\n",
       "        text-align: right;\n",
       "    }\n",
       "</style>\n",
       "<table border=\"1\" class=\"dataframe\">\n",
       "  <thead>\n",
       "    <tr style=\"text-align: right;\">\n",
       "      <th></th>\n",
       "      <th>pubg_region</th>\n",
       "      <th>count(DISTINCT account_id)</th>\n",
       "    </tr>\n",
       "  </thead>\n",
       "  <tbody>\n",
       "    <tr>\n",
       "      <th>0</th>\n",
       "      <td>CN</td>\n",
       "      <td>2782808</td>\n",
       "    </tr>\n",
       "    <tr>\n",
       "      <th>1</th>\n",
       "      <td>NA</td>\n",
       "      <td>157589</td>\n",
       "    </tr>\n",
       "    <tr>\n",
       "      <th>2</th>\n",
       "      <td>SA</td>\n",
       "      <td>119825</td>\n",
       "    </tr>\n",
       "    <tr>\n",
       "      <th>3</th>\n",
       "      <td>KR</td>\n",
       "      <td>625235</td>\n",
       "    </tr>\n",
       "    <tr>\n",
       "      <th>4</th>\n",
       "      <td>SEA</td>\n",
       "      <td>225167</td>\n",
       "    </tr>\n",
       "    <tr>\n",
       "      <th>5</th>\n",
       "      <td>Undefined</td>\n",
       "      <td>242</td>\n",
       "    </tr>\n",
       "    <tr>\n",
       "      <th>6</th>\n",
       "      <td>JP</td>\n",
       "      <td>21326</td>\n",
       "    </tr>\n",
       "    <tr>\n",
       "      <th>7</th>\n",
       "      <td>TW/HK</td>\n",
       "      <td>33197</td>\n",
       "    </tr>\n",
       "    <tr>\n",
       "      <th>8</th>\n",
       "      <td>CIS</td>\n",
       "      <td>306999</td>\n",
       "    </tr>\n",
       "    <tr>\n",
       "      <th>9</th>\n",
       "      <td>EMEA</td>\n",
       "      <td>375760</td>\n",
       "    </tr>\n",
       "    <tr>\n",
       "      <th>10</th>\n",
       "      <td>OC</td>\n",
       "      <td>23547</td>\n",
       "    </tr>\n",
       "  </tbody>\n",
       "</table>\n",
       "</div>"
      ],
      "text/plain": [
       "   pubg_region  count(DISTINCT account_id)\n",
       "0           CN                     2782808\n",
       "1           NA                      157589\n",
       "2           SA                      119825\n",
       "3           KR                      625235\n",
       "4          SEA                      225167\n",
       "5    Undefined                         242\n",
       "6           JP                       21326\n",
       "7        TW/HK                       33197\n",
       "8          CIS                      306999\n",
       "9         EMEA                      375760\n",
       "10          OC                       23547"
      ]
     },
     "execution_count": 12,
     "metadata": {},
     "output_type": "execute_result"
    }
   ],
   "source": [
    "user.groupBy(\"pubg_region\").agg(countDistinct(\"account_id\")).toPandas()"
   ]
  },
  {
   "cell_type": "code",
   "execution_count": 13,
   "metadata": {},
   "outputs": [
    {
     "data": {
      "text/html": [
       "<div>\n",
       "<style scoped>\n",
       "    .dataframe tbody tr th:only-of-type {\n",
       "        vertical-align: middle;\n",
       "    }\n",
       "\n",
       "    .dataframe tbody tr th {\n",
       "        vertical-align: top;\n",
       "    }\n",
       "\n",
       "    .dataframe thead th {\n",
       "        text-align: right;\n",
       "    }\n",
       "</style>\n",
       "<table border=\"1\" class=\"dataframe\">\n",
       "  <thead>\n",
       "    <tr style=\"text-align: right;\">\n",
       "      <th></th>\n",
       "      <th>pubg_region</th>\n",
       "      <th>paid_use</th>\n",
       "      <th>total_use</th>\n",
       "    </tr>\n",
       "  </thead>\n",
       "  <tbody>\n",
       "    <tr>\n",
       "      <th>0</th>\n",
       "      <td>CN</td>\n",
       "      <td>758296570</td>\n",
       "      <td>910113330</td>\n",
       "    </tr>\n",
       "    <tr>\n",
       "      <th>1</th>\n",
       "      <td>NA</td>\n",
       "      <td>12770530</td>\n",
       "      <td>17718620</td>\n",
       "    </tr>\n",
       "    <tr>\n",
       "      <th>2</th>\n",
       "      <td>SA</td>\n",
       "      <td>2368470</td>\n",
       "      <td>5420090</td>\n",
       "    </tr>\n",
       "    <tr>\n",
       "      <th>3</th>\n",
       "      <td>KR</td>\n",
       "      <td>88419990</td>\n",
       "      <td>110549060</td>\n",
       "    </tr>\n",
       "    <tr>\n",
       "      <th>4</th>\n",
       "      <td>SEA</td>\n",
       "      <td>8313790</td>\n",
       "      <td>12022330</td>\n",
       "    </tr>\n",
       "    <tr>\n",
       "      <th>5</th>\n",
       "      <td>Undefined</td>\n",
       "      <td>0</td>\n",
       "      <td>380</td>\n",
       "    </tr>\n",
       "    <tr>\n",
       "      <th>6</th>\n",
       "      <td>JP</td>\n",
       "      <td>1421600</td>\n",
       "      <td>1870970</td>\n",
       "    </tr>\n",
       "    <tr>\n",
       "      <th>7</th>\n",
       "      <td>TW/HK</td>\n",
       "      <td>4598970</td>\n",
       "      <td>5672780</td>\n",
       "    </tr>\n",
       "    <tr>\n",
       "      <th>8</th>\n",
       "      <td>CIS</td>\n",
       "      <td>8041090</td>\n",
       "      <td>14774940</td>\n",
       "    </tr>\n",
       "    <tr>\n",
       "      <th>9</th>\n",
       "      <td>EMEA</td>\n",
       "      <td>19267540</td>\n",
       "      <td>29703350</td>\n",
       "    </tr>\n",
       "    <tr>\n",
       "      <th>10</th>\n",
       "      <td>OC</td>\n",
       "      <td>3327480</td>\n",
       "      <td>4315510</td>\n",
       "    </tr>\n",
       "  </tbody>\n",
       "</table>\n",
       "</div>"
      ],
      "text/plain": [
       "   pubg_region   paid_use  total_use\n",
       "0           CN  758296570  910113330\n",
       "1           NA   12770530   17718620\n",
       "2           SA    2368470    5420090\n",
       "3           KR   88419990  110549060\n",
       "4          SEA    8313790   12022330\n",
       "5    Undefined          0        380\n",
       "6           JP    1421600    1870970\n",
       "7        TW/HK    4598970    5672780\n",
       "8          CIS    8041090   14774940\n",
       "9         EMEA   19267540   29703350\n",
       "10          OC    3327480    4315510"
      ]
     },
     "execution_count": 13,
     "metadata": {},
     "output_type": "execute_result"
    }
   ],
   "source": [
    "gcoin.groupBy(\"pubg_region\").agg(sum(\"paid_use\").alias(\"paid_use\"), sum(col(\"paid_use\") + col(\"free_use\")).alias(\"total_use\")).toPandas()"
   ]
  },
  {
   "cell_type": "code",
   "execution_count": 15,
   "metadata": {},
   "outputs": [
    {
     "data": {
      "text/html": [
       "<div>\n",
       "<style scoped>\n",
       "    .dataframe tbody tr th:only-of-type {\n",
       "        vertical-align: middle;\n",
       "    }\n",
       "\n",
       "    .dataframe tbody tr th {\n",
       "        vertical-align: top;\n",
       "    }\n",
       "\n",
       "    .dataframe thead th {\n",
       "        text-align: right;\n",
       "    }\n",
       "</style>\n",
       "<table border=\"1\" class=\"dataframe\">\n",
       "  <thead>\n",
       "    <tr style=\"text-align: right;\">\n",
       "      <th></th>\n",
       "      <th>pubg_region</th>\n",
       "      <th>total_pu</th>\n",
       "    </tr>\n",
       "  </thead>\n",
       "  <tbody>\n",
       "    <tr>\n",
       "      <th>0</th>\n",
       "      <td>CN</td>\n",
       "      <td>210842</td>\n",
       "    </tr>\n",
       "    <tr>\n",
       "      <th>1</th>\n",
       "      <td>NA</td>\n",
       "      <td>9062</td>\n",
       "    </tr>\n",
       "    <tr>\n",
       "      <th>2</th>\n",
       "      <td>SA</td>\n",
       "      <td>7259</td>\n",
       "    </tr>\n",
       "    <tr>\n",
       "      <th>3</th>\n",
       "      <td>KR</td>\n",
       "      <td>35390</td>\n",
       "    </tr>\n",
       "    <tr>\n",
       "      <th>4</th>\n",
       "      <td>SEA</td>\n",
       "      <td>9320</td>\n",
       "    </tr>\n",
       "    <tr>\n",
       "      <th>5</th>\n",
       "      <td>Undefined</td>\n",
       "      <td>2</td>\n",
       "    </tr>\n",
       "    <tr>\n",
       "      <th>6</th>\n",
       "      <td>JP</td>\n",
       "      <td>797</td>\n",
       "    </tr>\n",
       "    <tr>\n",
       "      <th>7</th>\n",
       "      <td>TW/HK</td>\n",
       "      <td>1552</td>\n",
       "    </tr>\n",
       "    <tr>\n",
       "      <th>8</th>\n",
       "      <td>CIS</td>\n",
       "      <td>18240</td>\n",
       "    </tr>\n",
       "    <tr>\n",
       "      <th>9</th>\n",
       "      <td>EMEA</td>\n",
       "      <td>23537</td>\n",
       "    </tr>\n",
       "    <tr>\n",
       "      <th>10</th>\n",
       "      <td>OC</td>\n",
       "      <td>1869</td>\n",
       "    </tr>\n",
       "  </tbody>\n",
       "</table>\n",
       "</div>"
      ],
      "text/plain": [
       "   pubg_region  total_pu\n",
       "0           CN    210842\n",
       "1           NA      9062\n",
       "2           SA      7259\n",
       "3           KR     35390\n",
       "4          SEA      9320\n",
       "5    Undefined         2\n",
       "6           JP       797\n",
       "7        TW/HK      1552\n",
       "8          CIS     18240\n",
       "9         EMEA     23537\n",
       "10          OC      1869"
      ]
     },
     "execution_count": 15,
     "metadata": {},
     "output_type": "execute_result"
    }
   ],
   "source": [
    "gcoin.groupBy(\"pubg_region\").agg(countDistinct(\"account_id\").alias(\"total_pu\")).toPandas()"
   ]
  },
  {
   "cell_type": "code",
   "execution_count": 16,
   "metadata": {},
   "outputs": [
    {
     "data": {
      "text/html": [
       "<div>\n",
       "<style scoped>\n",
       "    .dataframe tbody tr th:only-of-type {\n",
       "        vertical-align: middle;\n",
       "    }\n",
       "\n",
       "    .dataframe tbody tr th {\n",
       "        vertical-align: top;\n",
       "    }\n",
       "\n",
       "    .dataframe thead th {\n",
       "        text-align: right;\n",
       "    }\n",
       "</style>\n",
       "<table border=\"1\" class=\"dataframe\">\n",
       "  <thead>\n",
       "    <tr style=\"text-align: right;\">\n",
       "      <th></th>\n",
       "      <th>pubg_region</th>\n",
       "      <th>paid_pu</th>\n",
       "    </tr>\n",
       "  </thead>\n",
       "  <tbody>\n",
       "    <tr>\n",
       "      <th>0</th>\n",
       "      <td>CN</td>\n",
       "      <td>103192</td>\n",
       "    </tr>\n",
       "    <tr>\n",
       "      <th>1</th>\n",
       "      <td>NA</td>\n",
       "      <td>3528</td>\n",
       "    </tr>\n",
       "    <tr>\n",
       "      <th>2</th>\n",
       "      <td>SA</td>\n",
       "      <td>1847</td>\n",
       "    </tr>\n",
       "    <tr>\n",
       "      <th>3</th>\n",
       "      <td>KR</td>\n",
       "      <td>17928</td>\n",
       "    </tr>\n",
       "    <tr>\n",
       "      <th>4</th>\n",
       "      <td>SEA</td>\n",
       "      <td>2990</td>\n",
       "    </tr>\n",
       "    <tr>\n",
       "      <th>5</th>\n",
       "      <td>JP</td>\n",
       "      <td>305</td>\n",
       "    </tr>\n",
       "    <tr>\n",
       "      <th>6</th>\n",
       "      <td>TW/HK</td>\n",
       "      <td>750</td>\n",
       "    </tr>\n",
       "    <tr>\n",
       "      <th>7</th>\n",
       "      <td>CIS</td>\n",
       "      <td>4995</td>\n",
       "    </tr>\n",
       "    <tr>\n",
       "      <th>8</th>\n",
       "      <td>EMEA</td>\n",
       "      <td>7849</td>\n",
       "    </tr>\n",
       "    <tr>\n",
       "      <th>9</th>\n",
       "      <td>OC</td>\n",
       "      <td>920</td>\n",
       "    </tr>\n",
       "  </tbody>\n",
       "</table>\n",
       "</div>"
      ],
      "text/plain": [
       "  pubg_region  paid_pu\n",
       "0          CN   103192\n",
       "1          NA     3528\n",
       "2          SA     1847\n",
       "3          KR    17928\n",
       "4         SEA     2990\n",
       "5          JP      305\n",
       "6       TW/HK      750\n",
       "7         CIS     4995\n",
       "8        EMEA     7849\n",
       "9          OC      920"
      ]
     },
     "execution_count": 16,
     "metadata": {},
     "output_type": "execute_result"
    }
   ],
   "source": [
    "gcoin.where(col(\"paid_use\") > 0).groupBy(\"pubg_region\").agg(countDistinct(\"account_id\").alias(\"paid_pu\")).toPandas()"
   ]
  },
  {
   "cell_type": "code",
   "execution_count": 112,
   "metadata": {},
   "outputs": [
    {
     "data": {
      "text/html": [
       "<div>\n",
       "<style scoped>\n",
       "    .dataframe tbody tr th:only-of-type {\n",
       "        vertical-align: middle;\n",
       "    }\n",
       "\n",
       "    .dataframe tbody tr th {\n",
       "        vertical-align: top;\n",
       "    }\n",
       "\n",
       "    .dataframe thead th {\n",
       "        text-align: right;\n",
       "    }\n",
       "</style>\n",
       "<table border=\"1\" class=\"dataframe\">\n",
       "  <thead>\n",
       "    <tr style=\"text-align: right;\">\n",
       "      <th></th>\n",
       "      <th>pubg_region</th>\n",
       "      <th>npu</th>\n",
       "    </tr>\n",
       "  </thead>\n",
       "  <tbody>\n",
       "    <tr>\n",
       "      <th>0</th>\n",
       "      <td>CN</td>\n",
       "      <td>21589</td>\n",
       "    </tr>\n",
       "    <tr>\n",
       "      <th>1</th>\n",
       "      <td>NA</td>\n",
       "      <td>2410</td>\n",
       "    </tr>\n",
       "    <tr>\n",
       "      <th>2</th>\n",
       "      <td>SA</td>\n",
       "      <td>1133</td>\n",
       "    </tr>\n",
       "    <tr>\n",
       "      <th>3</th>\n",
       "      <td>KR</td>\n",
       "      <td>3263</td>\n",
       "    </tr>\n",
       "    <tr>\n",
       "      <th>4</th>\n",
       "      <td>SEA</td>\n",
       "      <td>1318</td>\n",
       "    </tr>\n",
       "    <tr>\n",
       "      <th>5</th>\n",
       "      <td>Undefined</td>\n",
       "      <td>2</td>\n",
       "    </tr>\n",
       "    <tr>\n",
       "      <th>6</th>\n",
       "      <td>JP</td>\n",
       "      <td>197</td>\n",
       "    </tr>\n",
       "    <tr>\n",
       "      <th>7</th>\n",
       "      <td>TW/HK</td>\n",
       "      <td>184</td>\n",
       "    </tr>\n",
       "    <tr>\n",
       "      <th>8</th>\n",
       "      <td>CIS</td>\n",
       "      <td>4444</td>\n",
       "    </tr>\n",
       "    <tr>\n",
       "      <th>9</th>\n",
       "      <td>EMEA</td>\n",
       "      <td>4236</td>\n",
       "    </tr>\n",
       "    <tr>\n",
       "      <th>10</th>\n",
       "      <td>OC</td>\n",
       "      <td>310</td>\n",
       "    </tr>\n",
       "  </tbody>\n",
       "</table>\n",
       "</div>"
      ],
      "text/plain": [
       "   pubg_region    npu\n",
       "0           CN  21589\n",
       "1           NA   2410\n",
       "2           SA   1133\n",
       "3           KR   3263\n",
       "4          SEA   1318\n",
       "5    Undefined      2\n",
       "6           JP    197\n",
       "7        TW/HK    184\n",
       "8          CIS   4444\n",
       "9         EMEA   4236\n",
       "10          OC    310"
      ]
     },
     "execution_count": 112,
     "metadata": {},
     "output_type": "execute_result"
    }
   ],
   "source": [
    "gcoin.where(col(\"date\") == col(\"first_use_date\")).groupBy(\"pubg_region\").agg(countDistinct(\"account_id\").alias(\"npu\")).toPandas()"
   ]
  },
  {
   "cell_type": "code",
   "execution_count": null,
   "metadata": {},
   "outputs": [],
   "source": []
  },
  {
   "cell_type": "code",
   "execution_count": 54,
   "metadata": {},
   "outputs": [],
   "source": [
    "by_region_product = gcoin.withColumn(\"paid_pu\", when(col(\"paid_use\") > 0, col(\"account_id\")).otherwise(lit(None))) \\\n",
    "    .groupBy(\"pubg_region\", \"product_name\") \\\n",
    "    .agg(countDistinct(\"account_id\").alias(\"pu\"), countDistinct(\"paid_pu\").alias(\"paid_pu\"), sum(\"qty\").alias(\"unit_sold\"), sum(\"paid_use\").alias(\"paid_use\"), sum(col(\"paid_use\") + col(\"free_use\")).alias(\"total_use\")).toPandas()"
   ]
  },
  {
   "cell_type": "code",
   "execution_count": 55,
   "metadata": {},
   "outputs": [],
   "source": [
    "by_region_product.to_csv(\"./by_region_product.csv\", index=False)"
   ]
  },
  {
   "cell_type": "code",
   "execution_count": 23,
   "metadata": {},
   "outputs": [
    {
     "data": {
      "text/html": [
       "<div>\n",
       "<style scoped>\n",
       "    .dataframe tbody tr th:only-of-type {\n",
       "        vertical-align: middle;\n",
       "    }\n",
       "\n",
       "    .dataframe tbody tr th {\n",
       "        vertical-align: top;\n",
       "    }\n",
       "\n",
       "    .dataframe thead th {\n",
       "        text-align: right;\n",
       "    }\n",
       "</style>\n",
       "<table border=\"1\" class=\"dataframe\">\n",
       "  <thead>\n",
       "    <tr style=\"text-align: right;\">\n",
       "      <th></th>\n",
       "      <th>platform</th>\n",
       "      <th>au</th>\n",
       "    </tr>\n",
       "  </thead>\n",
       "  <tbody>\n",
       "    <tr>\n",
       "      <th>0</th>\n",
       "      <td>KAKAO</td>\n",
       "      <td>283838</td>\n",
       "    </tr>\n",
       "    <tr>\n",
       "      <th>1</th>\n",
       "      <td>STEAM</td>\n",
       "      <td>4387857</td>\n",
       "    </tr>\n",
       "  </tbody>\n",
       "</table>\n",
       "</div>"
      ],
      "text/plain": [
       "  platform       au\n",
       "0    KAKAO   283838\n",
       "1    STEAM  4387857"
      ]
     },
     "execution_count": 23,
     "metadata": {},
     "output_type": "execute_result"
    }
   ],
   "source": [
    "user.groupBy(\"platform\").agg(countDistinct(\"account_id\").alias(\"au\")).toPandas()"
   ]
  },
  {
   "cell_type": "code",
   "execution_count": 20,
   "metadata": {},
   "outputs": [
    {
     "data": {
      "text/html": [
       "<div>\n",
       "<style scoped>\n",
       "    .dataframe tbody tr th:only-of-type {\n",
       "        vertical-align: middle;\n",
       "    }\n",
       "\n",
       "    .dataframe tbody tr th {\n",
       "        vertical-align: top;\n",
       "    }\n",
       "\n",
       "    .dataframe thead th {\n",
       "        text-align: right;\n",
       "    }\n",
       "</style>\n",
       "<table border=\"1\" class=\"dataframe\">\n",
       "  <thead>\n",
       "    <tr style=\"text-align: right;\">\n",
       "      <th></th>\n",
       "      <th>platform</th>\n",
       "      <th>pu</th>\n",
       "    </tr>\n",
       "  </thead>\n",
       "  <tbody>\n",
       "    <tr>\n",
       "      <th>0</th>\n",
       "      <td>KAKAO</td>\n",
       "      <td>15800</td>\n",
       "    </tr>\n",
       "    <tr>\n",
       "      <th>1</th>\n",
       "      <td>STEAM</td>\n",
       "      <td>302070</td>\n",
       "    </tr>\n",
       "  </tbody>\n",
       "</table>\n",
       "</div>"
      ],
      "text/plain": [
       "  platform      pu\n",
       "0    KAKAO   15800\n",
       "1    STEAM  302070"
      ]
     },
     "execution_count": 20,
     "metadata": {},
     "output_type": "execute_result"
    }
   ],
   "source": [
    "gcoin.groupBy(\"platform\").agg(countDistinct(\"account_id\").alias(\"pu\")).toPandas()"
   ]
  },
  {
   "cell_type": "code",
   "execution_count": 21,
   "metadata": {},
   "outputs": [
    {
     "data": {
      "text/html": [
       "<div>\n",
       "<style scoped>\n",
       "    .dataframe tbody tr th:only-of-type {\n",
       "        vertical-align: middle;\n",
       "    }\n",
       "\n",
       "    .dataframe tbody tr th {\n",
       "        vertical-align: top;\n",
       "    }\n",
       "\n",
       "    .dataframe thead th {\n",
       "        text-align: right;\n",
       "    }\n",
       "</style>\n",
       "<table border=\"1\" class=\"dataframe\">\n",
       "  <thead>\n",
       "    <tr style=\"text-align: right;\">\n",
       "      <th></th>\n",
       "      <th>platform</th>\n",
       "      <th>pu</th>\n",
       "    </tr>\n",
       "  </thead>\n",
       "  <tbody>\n",
       "    <tr>\n",
       "      <th>0</th>\n",
       "      <td>KAKAO</td>\n",
       "      <td>7900</td>\n",
       "    </tr>\n",
       "    <tr>\n",
       "      <th>1</th>\n",
       "      <td>STEAM</td>\n",
       "      <td>136404</td>\n",
       "    </tr>\n",
       "  </tbody>\n",
       "</table>\n",
       "</div>"
      ],
      "text/plain": [
       "  platform      pu\n",
       "0    KAKAO    7900\n",
       "1    STEAM  136404"
      ]
     },
     "execution_count": 21,
     "metadata": {},
     "output_type": "execute_result"
    }
   ],
   "source": [
    "gcoin.where(col(\"paid_use\") > 0).groupBy(\"platform\").agg(countDistinct(\"account_id\").alias(\"pu\")).toPandas()"
   ]
  },
  {
   "cell_type": "code",
   "execution_count": 22,
   "metadata": {},
   "outputs": [
    {
     "data": {
      "text/html": [
       "<div>\n",
       "<style scoped>\n",
       "    .dataframe tbody tr th:only-of-type {\n",
       "        vertical-align: middle;\n",
       "    }\n",
       "\n",
       "    .dataframe tbody tr th {\n",
       "        vertical-align: top;\n",
       "    }\n",
       "\n",
       "    .dataframe thead th {\n",
       "        text-align: right;\n",
       "    }\n",
       "</style>\n",
       "<table border=\"1\" class=\"dataframe\">\n",
       "  <thead>\n",
       "    <tr style=\"text-align: right;\">\n",
       "      <th></th>\n",
       "      <th>platform</th>\n",
       "      <th>paid_use</th>\n",
       "      <th>total_use</th>\n",
       "    </tr>\n",
       "  </thead>\n",
       "  <tbody>\n",
       "    <tr>\n",
       "      <th>0</th>\n",
       "      <td>KAKAO</td>\n",
       "      <td>39942470</td>\n",
       "      <td>50057260</td>\n",
       "    </tr>\n",
       "    <tr>\n",
       "      <th>1</th>\n",
       "      <td>STEAM</td>\n",
       "      <td>866883560</td>\n",
       "      <td>1062104100</td>\n",
       "    </tr>\n",
       "  </tbody>\n",
       "</table>\n",
       "</div>"
      ],
      "text/plain": [
       "  platform   paid_use   total_use\n",
       "0    KAKAO   39942470    50057260\n",
       "1    STEAM  866883560  1062104100"
      ]
     },
     "execution_count": 22,
     "metadata": {},
     "output_type": "execute_result"
    }
   ],
   "source": [
    "gcoin.groupBy(\"platform\").agg(sum(\"paid_use\").alias(\"paid_use\"), sum(col(\"paid_use\") + col(\"free_use\")).alias(\"total_use\")).toPandas()"
   ]
  },
  {
   "cell_type": "code",
   "execution_count": 169,
   "metadata": {},
   "outputs": [],
   "source": [
    "purchase = load_schema.lobby(spark, \"pc\", \"live\", \"PurchaseResult\", start_date, end_date)"
   ]
  },
  {
   "cell_type": "code",
   "execution_count": null,
   "metadata": {},
   "outputs": [],
   "source": []
  },
  {
   "cell_type": "code",
   "execution_count": 101,
   "metadata": {},
   "outputs": [],
   "source": [
    "# 18.1 update 후 일주일\n",
    "pre_start_date = \"2022-06-08\"\n",
    "pre_end_date = \"2022-06-14\"\n",
    "pre_purchase = load_schema.lobby(spark, \"pc\", \"live\", \"PurchaseResult\", pre_start_date, pre_end_date).where(col('Currency').like(\"%bp%\"))"
   ]
  },
  {
   "cell_type": "code",
   "execution_count": 102,
   "metadata": {},
   "outputs": [],
   "source": [
    "pre_bp_purchase = pre_purchase.groupBy(\"AnalyticEventType\", \"ProductId\").agg(countDistinct(\"AccountId\").alias(\"pu\"), sum(\"LocalPrice\").alias(\"amount\")).toPandas()\n",
    "pre_bp_purchase.to_csv(\"./pre_bp_purchase.csv\", index=False)"
   ]
  },
  {
   "cell_type": "code",
   "execution_count": 103,
   "metadata": {},
   "outputs": [
    {
     "data": {
      "text/html": [
       "<div>\n",
       "<style scoped>\n",
       "    .dataframe tbody tr th:only-of-type {\n",
       "        vertical-align: middle;\n",
       "    }\n",
       "\n",
       "    .dataframe tbody tr th {\n",
       "        vertical-align: top;\n",
       "    }\n",
       "\n",
       "    .dataframe thead th {\n",
       "        text-align: right;\n",
       "    }\n",
       "</style>\n",
       "<table border=\"1\" class=\"dataframe\">\n",
       "  <thead>\n",
       "    <tr style=\"text-align: right;\">\n",
       "      <th></th>\n",
       "      <th>AnalyticEventType</th>\n",
       "      <th>pu</th>\n",
       "      <th>amount</th>\n",
       "    </tr>\n",
       "  </thead>\n",
       "  <tbody>\n",
       "    <tr>\n",
       "      <th>0</th>\n",
       "      <td>other</td>\n",
       "      <td>7904</td>\n",
       "      <td>251615000</td>\n",
       "    </tr>\n",
       "    <tr>\n",
       "      <th>1</th>\n",
       "      <td>wsus</td>\n",
       "      <td>1558560</td>\n",
       "      <td>2169178400</td>\n",
       "    </tr>\n",
       "    <tr>\n",
       "      <th>2</th>\n",
       "      <td>other</td>\n",
       "      <td>732612</td>\n",
       "      <td>3449759100</td>\n",
       "    </tr>\n",
       "    <tr>\n",
       "      <th>3</th>\n",
       "      <td>brand</td>\n",
       "      <td>10109</td>\n",
       "      <td>109015000</td>\n",
       "    </tr>\n",
       "    <tr>\n",
       "      <th>4</th>\n",
       "      <td>holiday</td>\n",
       "      <td>4534</td>\n",
       "      <td>25535000</td>\n",
       "    </tr>\n",
       "  </tbody>\n",
       "</table>\n",
       "</div>"
      ],
      "text/plain": [
       "  AnalyticEventType       pu      amount\n",
       "0            other      7904   251615000\n",
       "1              wsus  1558560  2169178400\n",
       "2             other   732612  3449759100\n",
       "3             brand    10109   109015000\n",
       "4           holiday     4534    25535000"
      ]
     },
     "execution_count": 103,
     "metadata": {},
     "output_type": "execute_result"
    }
   ],
   "source": [
    "pre_purchase.groupBy(\"AnalyticEventType\").agg(countDistinct(\"AccountId\").alias(\"pu\"), sum(\"LocalPrice\").alias(\"amount\")).toPandas()"
   ]
  },
  {
   "cell_type": "code",
   "execution_count": 132,
   "metadata": {},
   "outputs": [
    {
     "data": {
      "text/html": [
       "<div>\n",
       "<style scoped>\n",
       "    .dataframe tbody tr th:only-of-type {\n",
       "        vertical-align: middle;\n",
       "    }\n",
       "\n",
       "    .dataframe tbody tr th {\n",
       "        vertical-align: top;\n",
       "    }\n",
       "\n",
       "    .dataframe thead th {\n",
       "        text-align: right;\n",
       "    }\n",
       "</style>\n",
       "<table border=\"1\" class=\"dataframe\">\n",
       "  <thead>\n",
       "    <tr style=\"text-align: right;\">\n",
       "      <th></th>\n",
       "      <th>EventType</th>\n",
       "      <th>pu</th>\n",
       "      <th>amount</th>\n",
       "    </tr>\n",
       "  </thead>\n",
       "  <tbody>\n",
       "    <tr>\n",
       "      <th>0</th>\n",
       "      <td>wsus</td>\n",
       "      <td>1558560</td>\n",
       "      <td>2169178400</td>\n",
       "    </tr>\n",
       "    <tr>\n",
       "      <th>1</th>\n",
       "      <td>other</td>\n",
       "      <td>736395</td>\n",
       "      <td>3701374100</td>\n",
       "    </tr>\n",
       "    <tr>\n",
       "      <th>2</th>\n",
       "      <td>brand</td>\n",
       "      <td>10109</td>\n",
       "      <td>109015000</td>\n",
       "    </tr>\n",
       "    <tr>\n",
       "      <th>3</th>\n",
       "      <td>holiday</td>\n",
       "      <td>4534</td>\n",
       "      <td>25535000</td>\n",
       "    </tr>\n",
       "  </tbody>\n",
       "</table>\n",
       "</div>"
      ],
      "text/plain": [
       "  EventType       pu      amount\n",
       "0      wsus  1558560  2169178400\n",
       "1     other   736395  3701374100\n",
       "2     brand    10109   109015000\n",
       "3   holiday     4534    25535000"
      ]
     },
     "execution_count": 132,
     "metadata": {},
     "output_type": "execute_result"
    }
   ],
   "source": [
    "pre_purchase.withColumn(\"EventType\", when(col(\"AnalyticEventType\").like(\"%other%\"), lit(\"other\")).otherwise(col(\"AnalyticEventType\"))) \\\n",
    "    .groupBy(\"EventType\").agg(countDistinct(\"AccountId\").alias(\"pu\"), sum(\"LocalPrice\").alias(\"amount\")).toPandas()"
   ]
  },
  {
   "cell_type": "code",
   "execution_count": 58,
   "metadata": {},
   "outputs": [
    {
     "name": "stdout",
     "output_type": "stream",
     "text": [
      "+-----------+-------------------------+\n",
      "|product_cnt|count(DISTINCT AccountId)|\n",
      "+-----------+-------------------------+\n",
      "|          1|                   327191|\n",
      "|          2|                   591621|\n",
      "+-----------+-------------------------+\n",
      "\n"
     ]
    }
   ],
   "source": [
    "purchase.where((col('Currency').like(\"%bp%\")) & (col(\"AnalyticEventType\") == \"workshop\")) \\\n",
    "    .groupBy(\"AccountId\").agg(countDistinct(\"ProductId\").alias(\"product_cnt\")) \\\n",
    "    .groupBy(\"product_cnt\").agg(countDistinct(\"AccountId\")).show()"
   ]
  },
  {
   "cell_type": "code",
   "execution_count": 135,
   "metadata": {},
   "outputs": [],
   "source": [
    "bp_purchase = purchase.where(col('Currency').like(\"%bp%\")).groupBy(\"AnalyticEventType\", \"ProductId\").agg(countDistinct(\"AccountId\").alias(\"pu\"), sum(\"LocalPrice\").alias(\"amount\")).toPandas()"
   ]
  },
  {
   "cell_type": "code",
   "execution_count": 139,
   "metadata": {},
   "outputs": [],
   "source": [
    "bp_purchase.to_csv(\"./bp_purchase.csv\", index=False)"
   ]
  },
  {
   "cell_type": "code",
   "execution_count": 137,
   "metadata": {},
   "outputs": [
    {
     "data": {
      "text/html": [
       "<div>\n",
       "<style scoped>\n",
       "    .dataframe tbody tr th:only-of-type {\n",
       "        vertical-align: middle;\n",
       "    }\n",
       "\n",
       "    .dataframe tbody tr th {\n",
       "        vertical-align: top;\n",
       "    }\n",
       "\n",
       "    .dataframe thead th {\n",
       "        text-align: right;\n",
       "    }\n",
       "</style>\n",
       "<table border=\"1\" class=\"dataframe\">\n",
       "  <thead>\n",
       "    <tr style=\"text-align: right;\">\n",
       "      <th></th>\n",
       "      <th>AnalyticEventType</th>\n",
       "      <th>ProductId</th>\n",
       "      <th>pu</th>\n",
       "      <th>amount</th>\n",
       "    </tr>\n",
       "  </thead>\n",
       "  <tbody>\n",
       "    <tr>\n",
       "      <th>17</th>\n",
       "      <td>workshop</td>\n",
       "      <td>itemdesc.14300001</td>\n",
       "      <td>756877</td>\n",
       "      <td>7064690000</td>\n",
       "    </tr>\n",
       "    <tr>\n",
       "      <th>25</th>\n",
       "      <td>workshop</td>\n",
       "      <td>currencydesc.chestkey</td>\n",
       "      <td>753556</td>\n",
       "      <td>5517012000</td>\n",
       "    </tr>\n",
       "  </tbody>\n",
       "</table>\n",
       "</div>"
      ],
      "text/plain": [
       "   AnalyticEventType              ProductId      pu      amount\n",
       "17          workshop      itemdesc.14300001  756877  7064690000\n",
       "25          workshop  currencydesc.chestkey  753556  5517012000"
      ]
     },
     "execution_count": 137,
     "metadata": {},
     "output_type": "execute_result"
    }
   ],
   "source": [
    "bp_purchase[bp_purchase.AnalyticEventType == \"workshop\"]"
   ]
  },
  {
   "cell_type": "code",
   "execution_count": 38,
   "metadata": {},
   "outputs": [
    {
     "data": {
      "text/html": [
       "<div>\n",
       "<style scoped>\n",
       "    .dataframe tbody tr th:only-of-type {\n",
       "        vertical-align: middle;\n",
       "    }\n",
       "\n",
       "    .dataframe tbody tr th {\n",
       "        vertical-align: top;\n",
       "    }\n",
       "\n",
       "    .dataframe thead th {\n",
       "        text-align: right;\n",
       "    }\n",
       "</style>\n",
       "<table border=\"1\" class=\"dataframe\">\n",
       "  <thead>\n",
       "    <tr style=\"text-align: right;\">\n",
       "      <th></th>\n",
       "      <th>AnalyticEventType</th>\n",
       "      <th>pu</th>\n",
       "      <th>amount</th>\n",
       "    </tr>\n",
       "  </thead>\n",
       "  <tbody>\n",
       "    <tr>\n",
       "      <th>0</th>\n",
       "      <td>other</td>\n",
       "      <td>4320</td>\n",
       "      <td>143405000</td>\n",
       "    </tr>\n",
       "    <tr>\n",
       "      <th>1</th>\n",
       "      <td>wsus</td>\n",
       "      <td>1282922</td>\n",
       "      <td>1730712000</td>\n",
       "    </tr>\n",
       "    <tr>\n",
       "      <th>2</th>\n",
       "      <td>other</td>\n",
       "      <td>15899</td>\n",
       "      <td>123524300</td>\n",
       "    </tr>\n",
       "    <tr>\n",
       "      <th>3</th>\n",
       "      <td>brand</td>\n",
       "      <td>5652</td>\n",
       "      <td>57484000</td>\n",
       "    </tr>\n",
       "    <tr>\n",
       "      <th>4</th>\n",
       "      <td>workshop</td>\n",
       "      <td>918812</td>\n",
       "      <td>12581702000</td>\n",
       "    </tr>\n",
       "    <tr>\n",
       "      <th>5</th>\n",
       "      <td>holiday</td>\n",
       "      <td>2726</td>\n",
       "      <td>14840000</td>\n",
       "    </tr>\n",
       "  </tbody>\n",
       "</table>\n",
       "</div>"
      ],
      "text/plain": [
       "  AnalyticEventType       pu       amount\n",
       "0            other      4320    143405000\n",
       "1              wsus  1282922   1730712000\n",
       "2             other    15899    123524300\n",
       "3             brand     5652     57484000\n",
       "4          workshop   918812  12581702000\n",
       "5           holiday     2726     14840000"
      ]
     },
     "execution_count": 38,
     "metadata": {},
     "output_type": "execute_result"
    }
   ],
   "source": [
    "purchase.where(col('Currency').like(\"%bp%\")).groupBy(\"AnalyticEventType\").agg(countDistinct(\"AccountId\").alias(\"pu\"), sum(\"LocalPrice\").alias(\"amount\")).toPandas()"
   ]
  },
  {
   "cell_type": "code",
   "execution_count": 133,
   "metadata": {},
   "outputs": [
    {
     "data": {
      "text/html": [
       "<div>\n",
       "<style scoped>\n",
       "    .dataframe tbody tr th:only-of-type {\n",
       "        vertical-align: middle;\n",
       "    }\n",
       "\n",
       "    .dataframe tbody tr th {\n",
       "        vertical-align: top;\n",
       "    }\n",
       "\n",
       "    .dataframe thead th {\n",
       "        text-align: right;\n",
       "    }\n",
       "</style>\n",
       "<table border=\"1\" class=\"dataframe\">\n",
       "  <thead>\n",
       "    <tr style=\"text-align: right;\">\n",
       "      <th></th>\n",
       "      <th>EventType</th>\n",
       "      <th>pu</th>\n",
       "      <th>amount</th>\n",
       "    </tr>\n",
       "  </thead>\n",
       "  <tbody>\n",
       "    <tr>\n",
       "      <th>0</th>\n",
       "      <td>wsus</td>\n",
       "      <td>1282922</td>\n",
       "      <td>1730712000</td>\n",
       "    </tr>\n",
       "    <tr>\n",
       "      <th>1</th>\n",
       "      <td>other</td>\n",
       "      <td>19880</td>\n",
       "      <td>266929300</td>\n",
       "    </tr>\n",
       "    <tr>\n",
       "      <th>2</th>\n",
       "      <td>brand</td>\n",
       "      <td>5652</td>\n",
       "      <td>57484000</td>\n",
       "    </tr>\n",
       "    <tr>\n",
       "      <th>3</th>\n",
       "      <td>workshop</td>\n",
       "      <td>918812</td>\n",
       "      <td>12581702000</td>\n",
       "    </tr>\n",
       "    <tr>\n",
       "      <th>4</th>\n",
       "      <td>holiday</td>\n",
       "      <td>2726</td>\n",
       "      <td>14840000</td>\n",
       "    </tr>\n",
       "  </tbody>\n",
       "</table>\n",
       "</div>"
      ],
      "text/plain": [
       "  EventType       pu       amount\n",
       "0      wsus  1282922   1730712000\n",
       "1     other    19880    266929300\n",
       "2     brand     5652     57484000\n",
       "3  workshop   918812  12581702000\n",
       "4   holiday     2726     14840000"
      ]
     },
     "execution_count": 133,
     "metadata": {},
     "output_type": "execute_result"
    }
   ],
   "source": [
    "purchase.where(col('Currency').like(\"%bp%\")).withColumn(\"EventType\", when(col(\"AnalyticEventType\").like(\"%other%\"), lit(\"other\")).otherwise(col(\"AnalyticEventType\"))) \\\n",
    "    .groupBy(\"EventType\").agg(countDistinct(\"AccountId\").alias(\"pu\"), sum(\"LocalPrice\").alias(\"amount\")).toPandas()"
   ]
  },
  {
   "cell_type": "code",
   "execution_count": null,
   "metadata": {},
   "outputs": [],
   "source": []
  },
  {
   "cell_type": "code",
   "execution_count": 45,
   "metadata": {
    "collapsed": true,
    "jupyter": {
     "outputs_hidden": true
    }
   },
   "outputs": [
    {
     "name": "stderr",
     "output_type": "stream",
     "text": [
      "ERROR:py4j.java_gateway:An error occurred while trying to connect to the Java server (127.0.0.1:38377)\n",
      "Traceback (most recent call last):\n",
      "  File \"/usr/local/spark/python/lib/py4j-0.10.7-src.zip/py4j/java_gateway.py\", line 929, in _get_connection\n",
      "    connection = self.deque.pop()\n",
      "IndexError: pop from an empty deque\n",
      "\n",
      "During handling of the above exception, another exception occurred:\n",
      "\n",
      "Traceback (most recent call last):\n",
      "  File \"/usr/local/spark/python/lib/py4j-0.10.7-src.zip/py4j/java_gateway.py\", line 1067, in start\n",
      "    self.socket.connect((self.address, self.port))\n",
      "ConnectionRefusedError: [Errno 111] Connection refused\n",
      "ERROR:py4j.java_gateway:An error occurred while trying to connect to the Java server (127.0.0.1:38377)\n",
      "Traceback (most recent call last):\n",
      "  File \"/usr/local/spark/python/lib/py4j-0.10.7-src.zip/py4j/java_gateway.py\", line 929, in _get_connection\n",
      "    connection = self.deque.pop()\n",
      "IndexError: pop from an empty deque\n",
      "\n",
      "During handling of the above exception, another exception occurred:\n",
      "\n",
      "Traceback (most recent call last):\n",
      "  File \"/usr/local/spark/python/lib/py4j-0.10.7-src.zip/py4j/java_gateway.py\", line 1067, in start\n",
      "    self.socket.connect((self.address, self.port))\n",
      "ConnectionRefusedError: [Errno 111] Connection refused\n",
      "ERROR:py4j.java_gateway:An error occurred while trying to connect to the Java server (127.0.0.1:38377)\n",
      "Traceback (most recent call last):\n",
      "  File \"/usr/local/spark/python/lib/py4j-0.10.7-src.zip/py4j/java_gateway.py\", line 929, in _get_connection\n",
      "    connection = self.deque.pop()\n",
      "IndexError: pop from an empty deque\n",
      "\n",
      "During handling of the above exception, another exception occurred:\n",
      "\n",
      "Traceback (most recent call last):\n",
      "  File \"/usr/local/spark/python/lib/py4j-0.10.7-src.zip/py4j/java_gateway.py\", line 1067, in start\n",
      "    self.socket.connect((self.address, self.port))\n",
      "ConnectionRefusedError: [Errno 111] Connection refused\n",
      "ERROR:py4j.java_gateway:An error occurred while trying to connect to the Java server (127.0.0.1:38377)\n",
      "Traceback (most recent call last):\n",
      "  File \"/usr/local/spark/python/lib/py4j-0.10.7-src.zip/py4j/java_gateway.py\", line 929, in _get_connection\n",
      "    connection = self.deque.pop()\n",
      "IndexError: pop from an empty deque\n",
      "\n",
      "During handling of the above exception, another exception occurred:\n",
      "\n",
      "Traceback (most recent call last):\n",
      "  File \"/usr/local/spark/python/lib/py4j-0.10.7-src.zip/py4j/java_gateway.py\", line 1067, in start\n",
      "    self.socket.connect((self.address, self.port))\n",
      "ConnectionRefusedError: [Errno 111] Connection refused\n",
      "ERROR:py4j.java_gateway:An error occurred while trying to connect to the Java server (127.0.0.1:38377)\n",
      "Traceback (most recent call last):\n",
      "  File \"/usr/local/spark/python/lib/py4j-0.10.7-src.zip/py4j/java_gateway.py\", line 929, in _get_connection\n",
      "    connection = self.deque.pop()\n",
      "IndexError: pop from an empty deque\n",
      "\n",
      "During handling of the above exception, another exception occurred:\n",
      "\n",
      "Traceback (most recent call last):\n",
      "  File \"/usr/local/spark/python/lib/py4j-0.10.7-src.zip/py4j/java_gateway.py\", line 1067, in start\n",
      "    self.socket.connect((self.address, self.port))\n",
      "ConnectionRefusedError: [Errno 111] Connection refused\n",
      "ERROR:py4j.java_gateway:An error occurred while trying to connect to the Java server (127.0.0.1:38377)\n",
      "Traceback (most recent call last):\n",
      "  File \"/usr/local/spark/python/lib/py4j-0.10.7-src.zip/py4j/java_gateway.py\", line 929, in _get_connection\n",
      "    connection = self.deque.pop()\n",
      "IndexError: pop from an empty deque\n",
      "\n",
      "During handling of the above exception, another exception occurred:\n",
      "\n",
      "Traceback (most recent call last):\n",
      "  File \"/usr/local/spark/python/lib/py4j-0.10.7-src.zip/py4j/java_gateway.py\", line 1067, in start\n",
      "    self.socket.connect((self.address, self.port))\n",
      "ConnectionRefusedError: [Errno 111] Connection refused\n",
      "ERROR:py4j.java_gateway:An error occurred while trying to connect to the Java server (127.0.0.1:38377)\n",
      "Traceback (most recent call last):\n",
      "  File \"/usr/local/spark/python/lib/py4j-0.10.7-src.zip/py4j/java_gateway.py\", line 929, in _get_connection\n",
      "    connection = self.deque.pop()\n",
      "IndexError: pop from an empty deque\n",
      "\n",
      "During handling of the above exception, another exception occurred:\n",
      "\n",
      "Traceback (most recent call last):\n",
      "  File \"/usr/local/spark/python/lib/py4j-0.10.7-src.zip/py4j/java_gateway.py\", line 1067, in start\n",
      "    self.socket.connect((self.address, self.port))\n",
      "ConnectionRefusedError: [Errno 111] Connection refused\n",
      "ERROR:py4j.java_gateway:An error occurred while trying to connect to the Java server (127.0.0.1:38377)\n",
      "Traceback (most recent call last):\n",
      "  File \"/usr/local/spark/python/lib/py4j-0.10.7-src.zip/py4j/java_gateway.py\", line 929, in _get_connection\n",
      "    connection = self.deque.pop()\n",
      "IndexError: pop from an empty deque\n",
      "\n",
      "During handling of the above exception, another exception occurred:\n",
      "\n",
      "Traceback (most recent call last):\n",
      "  File \"/usr/local/spark/python/lib/py4j-0.10.7-src.zip/py4j/java_gateway.py\", line 1067, in start\n",
      "    self.socket.connect((self.address, self.port))\n",
      "ConnectionRefusedError: [Errno 111] Connection refused\n"
     ]
    }
   ],
   "source": [
    "workshop_bp_account_id = purchase.where((col(\"Currency\").like(\"%bp%\")) & (col(\"AnalyticEventType\") == \"workshop\")).select(col(\"AccountId\")).distinct().toPandas()[\"AccountId\"]"
   ]
  },
  {
   "cell_type": "code",
   "execution_count": 40,
   "metadata": {},
   "outputs": [
    {
     "name": "stderr",
     "output_type": "stream",
     "text": [
      "/opt/conda/lib/python3.6/site-packages/ipykernel_launcher.py:1: FutureWarning: The signature of `Series.to_csv` was aligned to that of `DataFrame.to_csv`, and argument 'header' will change its default value from False to True: please pass an explicit value to suppress this warning.\n",
      "  \"\"\"Entry point for launching an IPython kernel.\n"
     ]
    }
   ],
   "source": [
    "# workshop_bp_account_id.to_csv(\"./workshop_bp_account_id.csv\", index=False)\n",
    "workshop_bp_account_id = pd.read_csv(\"./workshop_bp_account_id.csv\")"
   ]
  },
  {
   "cell_type": "code",
   "execution_count": 43,
   "metadata": {},
   "outputs": [
    {
     "data": {
      "text/plain": [
       "918812"
      ]
     },
     "execution_count": 43,
     "metadata": {},
     "output_type": "execute_result"
    }
   ],
   "source": [
    "len(workshop_bp_account_id)"
   ]
  },
  {
   "cell_type": "code",
   "execution_count": 45,
   "metadata": {},
   "outputs": [
    {
     "name": "stdout",
     "output_type": "stream",
     "text": [
      "+--------------------------+\n",
      "|count(DISTINCT account_id)|\n",
      "+--------------------------+\n",
      "|                    233536|\n",
      "+--------------------------+\n",
      "\n"
     ]
    }
   ],
   "source": [
    "gcoin.where(col(\"account_id\").isin(workshop_bp_account_id.to_list())).select(countDistinct(\"account_id\")).show()"
   ]
  },
  {
   "cell_type": "code",
   "execution_count": 62,
   "metadata": {},
   "outputs": [
    {
     "name": "stdout",
     "output_type": "stream",
     "text": [
      "+--------------------------+\n",
      "|count(DISTINCT account_id)|\n",
      "+--------------------------+\n",
      "|                    119482|\n",
      "+--------------------------+\n",
      "\n"
     ]
    }
   ],
   "source": [
    "gcoin.where((col(\"paid_use\") > 0) & (col(\"account_id\").isin(workshop_bp_account_id.to_list()))).select(countDistinct(\"account_id\")).show()"
   ]
  },
  {
   "cell_type": "code",
   "execution_count": 109,
   "metadata": {},
   "outputs": [
    {
     "name": "stdout",
     "output_type": "stream",
     "text": [
      "+--------------------------+\n",
      "|count(DISTINCT account_id)|\n",
      "+--------------------------+\n",
      "|                     21557|\n",
      "+--------------------------+\n",
      "\n"
     ]
    }
   ],
   "source": [
    "gcoin.where((col(\"account_id\").isin(workshop_bp_account_id.to_list())) & (col(\"date\") == col(\"first_use_date\"))).select(countDistinct(\"account_id\")).show()"
   ]
  },
  {
   "cell_type": "code",
   "execution_count": 59,
   "metadata": {},
   "outputs": [],
   "source": [
    "bp_workshop_first_use = purchase.where((col(\"Currency\").like(\"%bp%\")) & (col(\"AnalyticEventType\") == \"workshop\")).groupBy(\"AccountId\").agg(min(\"Time\").alias(\"first_date\"))\n",
    "gcoin_npu = gcoin.where(col(\"date\") == col(\"first_use_date\")).groupBy(\"account_id\").agg(min(\"time\").alias(\"gcoin_first_date\"))\n",
    "gcoin_after_bp = bp_workshop_first_use.join(gcoin_npu, (bp_workshop_first_use.AccountId == gcoin_npu.account_id) & (bp_workshop_first_use.first_date <= gcoin_npu.gcoin_first_date))"
   ]
  },
  {
   "cell_type": "code",
   "execution_count": 115,
   "metadata": {},
   "outputs": [
    {
     "data": {
      "text/plain": [
       "18595"
      ]
     },
     "execution_count": 115,
     "metadata": {},
     "output_type": "execute_result"
    }
   ],
   "source": [
    "# bp 로 workshop 상품 구매 후 gcoin으로 처음 상품 구매\n",
    "gcoin_after_bp.count()"
   ]
  },
  {
   "cell_type": "code",
   "execution_count": 62,
   "metadata": {},
   "outputs": [
    {
     "data": {
      "text/html": [
       "<div>\n",
       "<style scoped>\n",
       "    .dataframe tbody tr th:only-of-type {\n",
       "        vertical-align: middle;\n",
       "    }\n",
       "\n",
       "    .dataframe tbody tr th {\n",
       "        vertical-align: top;\n",
       "    }\n",
       "\n",
       "    .dataframe thead th {\n",
       "        text-align: right;\n",
       "    }\n",
       "</style>\n",
       "<table border=\"1\" class=\"dataframe\">\n",
       "  <thead>\n",
       "    <tr style=\"text-align: right;\">\n",
       "      <th></th>\n",
       "      <th>product_name</th>\n",
       "      <th>pu</th>\n",
       "      <th>free_use</th>\n",
       "      <th>paid_use</th>\n",
       "    </tr>\n",
       "  </thead>\n",
       "  <tbody>\n",
       "    <tr>\n",
       "      <th>0</th>\n",
       "      <td>ARCHIVIST'S CHEST BUNDLE (x10)</td>\n",
       "      <td>397</td>\n",
       "      <td>558450</td>\n",
       "      <td>1555950</td>\n",
       "    </tr>\n",
       "    <tr>\n",
       "      <th>1</th>\n",
       "      <td>ARCHIVIST'S CHEST</td>\n",
       "      <td>1147</td>\n",
       "      <td>335650</td>\n",
       "      <td>13010</td>\n",
       "    </tr>\n",
       "    <tr>\n",
       "      <th>2</th>\n",
       "      <td>HUNTER'S CHEST PACK (x1)</td>\n",
       "      <td>2066</td>\n",
       "      <td>637970</td>\n",
       "      <td>49260</td>\n",
       "    </tr>\n",
       "    <tr>\n",
       "      <th>3</th>\n",
       "      <td>HUNTER'S CHEST</td>\n",
       "      <td>1289</td>\n",
       "      <td>229340</td>\n",
       "      <td>10900</td>\n",
       "    </tr>\n",
       "    <tr>\n",
       "      <th>4</th>\n",
       "      <td>HUNTER'S CHEST PACK (x5)</td>\n",
       "      <td>466</td>\n",
       "      <td>462900</td>\n",
       "      <td>436750</td>\n",
       "    </tr>\n",
       "    <tr>\n",
       "      <th>5</th>\n",
       "      <td>ARCHIVIST'S CHEST BUNDLE (x1)</td>\n",
       "      <td>5094</td>\n",
       "      <td>2365540</td>\n",
       "      <td>212060</td>\n",
       "    </tr>\n",
       "    <tr>\n",
       "      <th>6</th>\n",
       "      <td>ARCHIVIST'S CHEST BUNDLE (x5)</td>\n",
       "      <td>1929</td>\n",
       "      <td>2274500</td>\n",
       "      <td>240700</td>\n",
       "    </tr>\n",
       "    <tr>\n",
       "      <th>7</th>\n",
       "      <td>KEY</td>\n",
       "      <td>5523</td>\n",
       "      <td>1060360</td>\n",
       "      <td>115440</td>\n",
       "    </tr>\n",
       "  </tbody>\n",
       "</table>\n",
       "</div>"
      ],
      "text/plain": [
       "                     product_name    pu  free_use  paid_use\n",
       "0  ARCHIVIST'S CHEST BUNDLE (x10)   397    558450   1555950\n",
       "1               ARCHIVIST'S CHEST  1147    335650     13010\n",
       "2        HUNTER'S CHEST PACK (x1)  2066    637970     49260\n",
       "3                  HUNTER'S CHEST  1289    229340     10900\n",
       "4        HUNTER'S CHEST PACK (x5)   466    462900    436750\n",
       "5   ARCHIVIST'S CHEST BUNDLE (x1)  5094   2365540    212060\n",
       "6   ARCHIVIST'S CHEST BUNDLE (x5)  1929   2274500    240700\n",
       "7                             KEY  5523   1060360    115440"
      ]
     },
     "execution_count": 62,
     "metadata": {},
     "output_type": "execute_result"
    }
   ],
   "source": [
    "gcoin_after_bp_user = gcoin_after_bp.toPandas()[\"AccountId\"].to_list()\n",
    "gcoin.where(col(\"account_id\").isin(gcoin_after_bp_user)).groupBy(\"product_name\").agg(countDistinct(\"account_id\").alias(\"pu\"), sum(\"free_use\").alias(\"free_use\"), sum(\"paid_use\").alias(\"paid_use\")).toPandas()"
   ]
  },
  {
   "cell_type": "code",
   "execution_count": null,
   "metadata": {},
   "outputs": [],
   "source": []
  },
  {
   "cell_type": "code",
   "execution_count": 64,
   "metadata": {},
   "outputs": [
    {
     "data": {
      "text/html": [
       "<div>\n",
       "<style scoped>\n",
       "    .dataframe tbody tr th:only-of-type {\n",
       "        vertical-align: middle;\n",
       "    }\n",
       "\n",
       "    .dataframe tbody tr th {\n",
       "        vertical-align: top;\n",
       "    }\n",
       "\n",
       "    .dataframe thead th {\n",
       "        text-align: right;\n",
       "    }\n",
       "</style>\n",
       "<table border=\"1\" class=\"dataframe\">\n",
       "  <thead>\n",
       "    <tr style=\"text-align: right;\">\n",
       "      <th></th>\n",
       "      <th>product_name</th>\n",
       "      <th>pu</th>\n",
       "      <th>qty</th>\n",
       "      <th>free_use</th>\n",
       "      <th>paid_use</th>\n",
       "    </tr>\n",
       "  </thead>\n",
       "  <tbody>\n",
       "    <tr>\n",
       "      <th>0</th>\n",
       "      <td>ARCHIVIST'S CHEST BUNDLE (x10)</td>\n",
       "      <td>52556</td>\n",
       "      <td>242336</td>\n",
       "      <td>34137030</td>\n",
       "      <td>547469370</td>\n",
       "    </tr>\n",
       "    <tr>\n",
       "      <th>1</th>\n",
       "      <td>ARCHIVIST'S CHEST</td>\n",
       "      <td>32325</td>\n",
       "      <td>54266</td>\n",
       "      <td>5911150</td>\n",
       "      <td>3856730</td>\n",
       "    </tr>\n",
       "    <tr>\n",
       "      <th>2</th>\n",
       "      <td>None</td>\n",
       "      <td>123258</td>\n",
       "      <td>630235</td>\n",
       "      <td>29904745</td>\n",
       "      <td>33118755</td>\n",
       "    </tr>\n",
       "    <tr>\n",
       "      <th>3</th>\n",
       "      <td>HUNTER'S CHEST PACK (x1)</td>\n",
       "      <td>37388</td>\n",
       "      <td>110783</td>\n",
       "      <td>10428180</td>\n",
       "      <td>10620590</td>\n",
       "    </tr>\n",
       "    <tr>\n",
       "      <th>4</th>\n",
       "      <td>HUNTER'S CHEST</td>\n",
       "      <td>42784</td>\n",
       "      <td>62128</td>\n",
       "      <td>4838495</td>\n",
       "      <td>2616865</td>\n",
       "    </tr>\n",
       "    <tr>\n",
       "      <th>5</th>\n",
       "      <td>HUNTER'S CHEST PACK (x5)</td>\n",
       "      <td>23348</td>\n",
       "      <td>189194</td>\n",
       "      <td>18580830</td>\n",
       "      <td>161153470</td>\n",
       "    </tr>\n",
       "    <tr>\n",
       "      <th>6</th>\n",
       "      <td>ARCHIVIST'S CHEST BUNDLE (x1)</td>\n",
       "      <td>102217</td>\n",
       "      <td>296161</td>\n",
       "      <td>39557470</td>\n",
       "      <td>31521170</td>\n",
       "    </tr>\n",
       "    <tr>\n",
       "      <th>7</th>\n",
       "      <td>ARCHIVIST'S CHEST BUNDLE (x5)</td>\n",
       "      <td>39749</td>\n",
       "      <td>61931</td>\n",
       "      <td>28180750</td>\n",
       "      <td>46136450</td>\n",
       "    </tr>\n",
       "  </tbody>\n",
       "</table>\n",
       "</div>"
      ],
      "text/plain": [
       "                     product_name      pu     qty  free_use   paid_use\n",
       "0  ARCHIVIST'S CHEST BUNDLE (x10)   52556  242336  34137030  547469370\n",
       "1               ARCHIVIST'S CHEST   32325   54266   5911150    3856730\n",
       "2                            None  123258  630235  29904745   33118755\n",
       "3        HUNTER'S CHEST PACK (x1)   37388  110783  10428180   10620590\n",
       "4                  HUNTER'S CHEST   42784   62128   4838495    2616865\n",
       "5        HUNTER'S CHEST PACK (x5)   23348  189194  18580830  161153470\n",
       "6   ARCHIVIST'S CHEST BUNDLE (x1)  102217  296161  39557470   31521170\n",
       "7   ARCHIVIST'S CHEST BUNDLE (x5)   39749   61931  28180750   46136450"
      ]
     },
     "execution_count": 64,
     "metadata": {},
     "output_type": "execute_result"
    }
   ],
   "source": [
    "gcoin.where((col(\"account_id\").isin(workshop_bp_account_id.to_list()))).groupBy(\"product_name\") \\\n",
    "    .agg(countDistinct(\"account_id\").alias(\"pu\"), sum(\"qty\").alias(\"qty\"), sum(\"free_use\").alias(\"free_use\"), sum(\"paid_use\").alias(\"paid_use\")).toPandas()"
   ]
  },
  {
   "cell_type": "code",
   "execution_count": 65,
   "metadata": {},
   "outputs": [
    {
     "data": {
      "text/html": [
       "<div>\n",
       "<style scoped>\n",
       "    .dataframe tbody tr th:only-of-type {\n",
       "        vertical-align: middle;\n",
       "    }\n",
       "\n",
       "    .dataframe tbody tr th {\n",
       "        vertical-align: top;\n",
       "    }\n",
       "\n",
       "    .dataframe thead th {\n",
       "        text-align: right;\n",
       "    }\n",
       "</style>\n",
       "<table border=\"1\" class=\"dataframe\">\n",
       "  <thead>\n",
       "    <tr style=\"text-align: right;\">\n",
       "      <th></th>\n",
       "      <th>product_name</th>\n",
       "      <th>pu</th>\n",
       "      <th>qty</th>\n",
       "      <th>free_use</th>\n",
       "      <th>paid_use</th>\n",
       "    </tr>\n",
       "  </thead>\n",
       "  <tbody>\n",
       "    <tr>\n",
       "      <th>0</th>\n",
       "      <td>ARCHIVIST'S CHEST BUNDLE (x10)</td>\n",
       "      <td>51637</td>\n",
       "      <td>240081</td>\n",
       "      <td>28725030</td>\n",
       "      <td>547469370</td>\n",
       "    </tr>\n",
       "    <tr>\n",
       "      <th>1</th>\n",
       "      <td>ARCHIVIST'S CHEST</td>\n",
       "      <td>14943</td>\n",
       "      <td>27276</td>\n",
       "      <td>1052950</td>\n",
       "      <td>3856730</td>\n",
       "    </tr>\n",
       "    <tr>\n",
       "      <th>2</th>\n",
       "      <td>None</td>\n",
       "      <td>59856</td>\n",
       "      <td>405417</td>\n",
       "      <td>7422945</td>\n",
       "      <td>33118755</td>\n",
       "    </tr>\n",
       "    <tr>\n",
       "      <th>3</th>\n",
       "      <td>HUNTER'S CHEST PACK (x1)</td>\n",
       "      <td>19191</td>\n",
       "      <td>70708</td>\n",
       "      <td>2813930</td>\n",
       "      <td>10620590</td>\n",
       "    </tr>\n",
       "    <tr>\n",
       "      <th>4</th>\n",
       "      <td>HUNTER'S CHEST</td>\n",
       "      <td>15585</td>\n",
       "      <td>27317</td>\n",
       "      <td>661175</td>\n",
       "      <td>2616865</td>\n",
       "    </tr>\n",
       "    <tr>\n",
       "      <th>5</th>\n",
       "      <td>HUNTER'S CHEST PACK (x5)</td>\n",
       "      <td>20339</td>\n",
       "      <td>181973</td>\n",
       "      <td>11720880</td>\n",
       "      <td>161153470</td>\n",
       "    </tr>\n",
       "    <tr>\n",
       "      <th>6</th>\n",
       "      <td>ARCHIVIST'S CHEST BUNDLE (x1)</td>\n",
       "      <td>53561</td>\n",
       "      <td>168793</td>\n",
       "      <td>8989150</td>\n",
       "      <td>31521170</td>\n",
       "    </tr>\n",
       "    <tr>\n",
       "      <th>7</th>\n",
       "      <td>ARCHIVIST'S CHEST BUNDLE (x5)</td>\n",
       "      <td>31124</td>\n",
       "      <td>51243</td>\n",
       "      <td>15355150</td>\n",
       "      <td>46136450</td>\n",
       "    </tr>\n",
       "  </tbody>\n",
       "</table>\n",
       "</div>"
      ],
      "text/plain": [
       "                     product_name     pu     qty  free_use   paid_use\n",
       "0  ARCHIVIST'S CHEST BUNDLE (x10)  51637  240081  28725030  547469370\n",
       "1               ARCHIVIST'S CHEST  14943   27276   1052950    3856730\n",
       "2                            None  59856  405417   7422945   33118755\n",
       "3        HUNTER'S CHEST PACK (x1)  19191   70708   2813930   10620590\n",
       "4                  HUNTER'S CHEST  15585   27317    661175    2616865\n",
       "5        HUNTER'S CHEST PACK (x5)  20339  181973  11720880  161153470\n",
       "6   ARCHIVIST'S CHEST BUNDLE (x1)  53561  168793   8989150   31521170\n",
       "7   ARCHIVIST'S CHEST BUNDLE (x5)  31124   51243  15355150   46136450"
      ]
     },
     "execution_count": 65,
     "metadata": {},
     "output_type": "execute_result"
    }
   ],
   "source": [
    "gcoin.where((col(\"account_id\").isin(workshop_bp_account_id.to_list())) & (col(\"paid_use\") > 0)).groupBy(\"product_name\") \\\n",
    "    .agg(countDistinct(\"account_id\").alias(\"pu\"), sum(\"qty\").alias(\"qty\"), sum(\"free_use\").alias(\"free_use\"), sum(\"paid_use\").alias(\"paid_use\")).toPandas()"
   ]
  },
  {
   "cell_type": "code",
   "execution_count": 66,
   "metadata": {},
   "outputs": [
    {
     "data": {
      "text/html": [
       "<div>\n",
       "<style scoped>\n",
       "    .dataframe tbody tr th:only-of-type {\n",
       "        vertical-align: middle;\n",
       "    }\n",
       "\n",
       "    .dataframe tbody tr th {\n",
       "        vertical-align: top;\n",
       "    }\n",
       "\n",
       "    .dataframe thead th {\n",
       "        text-align: right;\n",
       "    }\n",
       "</style>\n",
       "<table border=\"1\" class=\"dataframe\">\n",
       "  <thead>\n",
       "    <tr style=\"text-align: right;\">\n",
       "      <th></th>\n",
       "      <th>product_name</th>\n",
       "      <th>pu</th>\n",
       "      <th>qty</th>\n",
       "      <th>free_use</th>\n",
       "      <th>paid_use</th>\n",
       "    </tr>\n",
       "  </thead>\n",
       "  <tbody>\n",
       "    <tr>\n",
       "      <th>0</th>\n",
       "      <td>ARCHIVIST'S CHEST BUNDLE (x10)</td>\n",
       "      <td>39770</td>\n",
       "      <td>87759</td>\n",
       "      <td>34137030</td>\n",
       "      <td>176484570</td>\n",
       "    </tr>\n",
       "    <tr>\n",
       "      <th>1</th>\n",
       "      <td>ARCHIVIST'S CHEST</td>\n",
       "      <td>27463</td>\n",
       "      <td>42123</td>\n",
       "      <td>5911150</td>\n",
       "      <td>1670990</td>\n",
       "    </tr>\n",
       "    <tr>\n",
       "      <th>2</th>\n",
       "      <td>None</td>\n",
       "      <td>108771</td>\n",
       "      <td>413191</td>\n",
       "      <td>29904745</td>\n",
       "      <td>11414355</td>\n",
       "    </tr>\n",
       "    <tr>\n",
       "      <th>3</th>\n",
       "      <td>HUNTER'S CHEST PACK (x1)</td>\n",
       "      <td>32864</td>\n",
       "      <td>84427</td>\n",
       "      <td>10428180</td>\n",
       "      <td>5612950</td>\n",
       "    </tr>\n",
       "    <tr>\n",
       "      <th>4</th>\n",
       "      <td>HUNTER'S CHEST</td>\n",
       "      <td>37970</td>\n",
       "      <td>49689</td>\n",
       "      <td>4838495</td>\n",
       "      <td>1124185</td>\n",
       "    </tr>\n",
       "    <tr>\n",
       "      <th>5</th>\n",
       "      <td>HUNTER'S CHEST PACK (x5)</td>\n",
       "      <td>18260</td>\n",
       "      <td>92059</td>\n",
       "      <td>18580830</td>\n",
       "      <td>68875220</td>\n",
       "    </tr>\n",
       "    <tr>\n",
       "      <th>6</th>\n",
       "      <td>ARCHIVIST'S CHEST BUNDLE (x1)</td>\n",
       "      <td>91478</td>\n",
       "      <td>217996</td>\n",
       "      <td>39557470</td>\n",
       "      <td>12761570</td>\n",
       "    </tr>\n",
       "    <tr>\n",
       "      <th>7</th>\n",
       "      <td>ARCHIVIST'S CHEST BUNDLE (x5)</td>\n",
       "      <td>33096</td>\n",
       "      <td>42720</td>\n",
       "      <td>28180750</td>\n",
       "      <td>23083250</td>\n",
       "    </tr>\n",
       "  </tbody>\n",
       "</table>\n",
       "</div>"
      ],
      "text/plain": [
       "                     product_name      pu     qty  free_use   paid_use\n",
       "0  ARCHIVIST'S CHEST BUNDLE (x10)   39770   87759  34137030  176484570\n",
       "1               ARCHIVIST'S CHEST   27463   42123   5911150    1670990\n",
       "2                            None  108771  413191  29904745   11414355\n",
       "3        HUNTER'S CHEST PACK (x1)   32864   84427  10428180    5612950\n",
       "4                  HUNTER'S CHEST   37970   49689   4838495    1124185\n",
       "5        HUNTER'S CHEST PACK (x5)   18260   92059  18580830   68875220\n",
       "6   ARCHIVIST'S CHEST BUNDLE (x1)   91478  217996  39557470   12761570\n",
       "7   ARCHIVIST'S CHEST BUNDLE (x5)   33096   42720  28180750   23083250"
      ]
     },
     "execution_count": 66,
     "metadata": {},
     "output_type": "execute_result"
    }
   ],
   "source": [
    "gcoin.where((col(\"account_id\").isin(workshop_bp_account_id.to_list())) & (col(\"free_use\") > 0)).groupBy(\"product_name\") \\\n",
    "    .agg(countDistinct(\"account_id\").alias(\"pu\"), sum(\"qty\").alias(\"qty\"), sum(\"free_use\").alias(\"free_use\"), sum(\"paid_use\").alias(\"paid_use\")).toPandas()"
   ]
  },
  {
   "cell_type": "code",
   "execution_count": null,
   "metadata": {},
   "outputs": [],
   "source": []
  },
  {
   "cell_type": "code",
   "execution_count": 170,
   "metadata": {},
   "outputs": [],
   "source": [
    "open_crate = load_schema.lobby(spark, \"pc\", \"live\", \"WorkshopCrateOpened\", start_date, end_date)"
   ]
  },
  {
   "cell_type": "code",
   "execution_count": 171,
   "metadata": {},
   "outputs": [],
   "source": [
    "craft = load_schema.lobby(spark, \"pc\", \"live\", \"WorkshopCrafted\", start_date, end_date)"
   ]
  },
  {
   "cell_type": "code",
   "execution_count": 172,
   "metadata": {},
   "outputs": [],
   "source": [
    "disassemble = load_schema.lobby(spark, \"pc\", \"live\", \"WorkshopDisassembled\", start_date, end_date)"
   ]
  },
  {
   "cell_type": "code",
   "execution_count": 173,
   "metadata": {},
   "outputs": [],
   "source": [
    "repurpose = load_schema.lobby(spark, \"pc\", \"live\", \"WorkshopRepurposed\", start_date, end_date)"
   ]
  },
  {
   "cell_type": "code",
   "execution_count": 174,
   "metadata": {},
   "outputs": [],
   "source": [
    "special_craft = load_schema.lobby(spark, \"pc\", \"live\", \"PurchaseResult\", start_date, end_date).where(col(\"Currency\") == \"artisanstoken\")"
   ]
  },
  {
   "cell_type": "code",
   "execution_count": 175,
   "metadata": {},
   "outputs": [],
   "source": [
    "open_crate = open_crate.join(user.withColumnRenamed(\"account_id\", \"AccountId\"), \"AccountId\")\n",
    "craft = craft.join(user.withColumnRenamed(\"account_id\", \"AccountId\"), \"AccountId\")\n",
    "disassemble = disassemble.join(user.withColumnRenamed(\"account_id\", \"AccountId\"), \"AccountId\")\n",
    "repurpose = repurpose.join(user.withColumnRenamed(\"account_id\", \"AccountId\"), \"AccountId\")\n",
    "special_craft = special_craft.join(user.withColumnRenamed(\"account_id\", \"AccountId\"), \"AccountId\")\n",
    "bp_workshop = purchase.where((col(\"Currency\").like(\"%bp%\")) & (col(\"AnalyticEventType\") == \"workshop\")).join(user.withColumnRenamed(\"account_id\", \"AccountId\"), \"AccountId\")"
   ]
  },
  {
   "cell_type": "code",
   "execution_count": 176,
   "metadata": {},
   "outputs": [],
   "source": [
    "# workshop_user = (open_crate.groupBy(\"pubg_region\", \"AccountId\").agg(sum(\"OpenAmount\").alias(\"amount\")).withColumn(\"action\", lit(\"open\"))) \\\n",
    "#     .unionByName(craft.groupBy(\"pubg_region\", \"AccountId\").agg(count(\"*\").alias(\"amount\")).withColumn(\"action\", lit(\"craft\"))) \\\n",
    "#     .unionByName(disassemble.groupBy(\"pubg_region\", \"AccountId\").agg(count(\"*\").alias(\"amount\")).withColumn(\"action\", lit(\"disassemble\"))) \\\n",
    "#     .unionByName(repurpose.groupBy(\"pubg_region\", \"AccountId\").agg(count(\"*\").alias(\"amount\")).withColumn(\"action\", lit(\"repurpose\"))) \\\n",
    "#     .unionByName(special_craft.groupBy(\"pubg_region\", \"AccountId\").agg(sum(\"Amount\").alias(\"amount\")).withColumn(\"action\", lit(\"special_craft\"))) \\\n",
    "#     .unionByName(gcoin.groupBy(\"pubg_region\", \"account_id\").agg(sum(\"qty\").alias(\"amount\")).withColumnRenamed(\"account_id\", \"AccountId\").withColumn(\"action\", lit(\"gcoin\"))) \\\n",
    "#     .unionByName(bp_workshop.groupBy(\"pubg_region\", \"AccountId\").agg(count(\"*\").alias(\"amount\")).withColumn(\"action\", lit(\"bp_workshop\")))\n",
    "workshop_user = (open_crate.groupBy(\"AccountId\").agg(sum(\"OpenAmount\").alias(\"amount\")).withColumn(\"action\", lit(\"open\"))) \\\n",
    "    .unionByName(craft.groupBy(\"AccountId\").agg(count(\"*\").alias(\"amount\")).withColumn(\"action\", lit(\"craft\"))) \\\n",
    "    .unionByName(disassemble.groupBy(\"AccountId\").agg(count(\"*\").alias(\"amount\")).withColumn(\"action\", lit(\"disassemble\"))) \\\n",
    "    .unionByName(repurpose.groupBy(\"AccountId\").agg(count(\"*\").alias(\"amount\")).withColumn(\"action\", lit(\"repurpose\"))) \\\n",
    "    .unionByName(special_craft.groupBy(\"AccountId\").agg(sum(\"Amount\").alias(\"amount\")).withColumn(\"action\", lit(\"special_craft\"))) \\\n",
    "    .unionByName(gcoin.groupBy(\"account_id\").agg(sum(\"qty\").alias(\"amount\")).withColumnRenamed(\"account_id\", \"AccountId\").withColumn(\"action\", lit(\"gcoin\"))) \\\n",
    "    .unionByName(bp_workshop.groupBy(\"AccountId\").agg(count(\"*\").alias(\"amount\")).withColumn(\"action\", lit(\"bp_workshop\")))"
   ]
  },
  {
   "cell_type": "code",
   "execution_count": 177,
   "metadata": {},
   "outputs": [],
   "source": [
    "workshop_user_list = workshop_user.select(\"AccountId\").distinct()"
   ]
  },
  {
   "cell_type": "code",
   "execution_count": 195,
   "metadata": {},
   "outputs": [],
   "source": [
    "# yes_workshop_user_gcoin = all_gcoin.join(workshop_user_list.withColumnRenamed(\"AccountId\", \"account_id\"), \"account_id\")"
   ]
  },
  {
   "cell_type": "code",
   "execution_count": 199,
   "metadata": {},
   "outputs": [],
   "source": [
    "all_gcoin = all_gcoin.withColumn(\"type\", when(~col(\"event_type\").isin([\"workshop\", \"wsus\", \"survivorpass\"]), lit(\"other\")).otherwise(col(\"event_type\"))) \\\n",
    "    .groupBy(\"account_id\", \"type\").agg(count(\"*\").alias(\"cnt\"))\n",
    "all_gcoin_df = all_gcoin \\\n",
    "    .withColumn(\"workshop\", when(col(\"type\") == \"workshop\", lit(1)).otherwise(lit(0))) \\\n",
    "    .withColumn(\"wsus\", when(col(\"type\") == \"wsus\", lit(1)).otherwise(lit(0))) \\\n",
    "    .withColumn(\"survivorpass\", when(col(\"type\") == \"survivorpass\", lit(1)).otherwise(lit(0))) \\\n",
    "    .withColumn(\"store\", when(col(\"type\") == \"other\", lit(1)).otherwise(lit(0)))"
   ]
  },
  {
   "cell_type": "code",
   "execution_count": 200,
   "metadata": {},
   "outputs": [],
   "source": [
    "all_gcoin_df = all_gcoin_df.groupBy(\"account_id\").agg( \\\n",
    "                             sum(\"workshop\").alias(\"workshop\"), sum(\"wsus\").alias(\"wsus\"), sum(\"survivorpass\").alias(\"survivorpass\"), sum(\"store\").alias(\"store\"))\n",
    "\n",
    "all_gcoin_df = all_gcoin_df.withColumn(\"group\", concat(col(\"workshop\"), lit(\",\"), col(\"wsus\"), lit(\",\"), col(\"survivorpass\"), lit(\",\"), col(\"store\")))"
   ]
  },
  {
   "cell_type": "code",
   "execution_count": 208,
   "metadata": {},
   "outputs": [
    {
     "name": "stdout",
     "output_type": "stream",
     "text": [
      "+--------------------------+\n",
      "|count(DISTINCT account_id)|\n",
      "+--------------------------+\n",
      "|                    587316|\n",
      "+--------------------------+\n",
      "\n"
     ]
    }
   ],
   "source": [
    "all_gcoin.select(countDistinct(\"account_id\")).show()"
   ]
  },
  {
   "cell_type": "code",
   "execution_count": 201,
   "metadata": {},
   "outputs": [
    {
     "data": {
      "text/html": [
       "<div>\n",
       "<style scoped>\n",
       "    .dataframe tbody tr th:only-of-type {\n",
       "        vertical-align: middle;\n",
       "    }\n",
       "\n",
       "    .dataframe tbody tr th {\n",
       "        vertical-align: top;\n",
       "    }\n",
       "\n",
       "    .dataframe thead th {\n",
       "        text-align: right;\n",
       "    }\n",
       "</style>\n",
       "<table border=\"1\" class=\"dataframe\">\n",
       "  <thead>\n",
       "    <tr style=\"text-align: right;\">\n",
       "      <th></th>\n",
       "      <th>group</th>\n",
       "      <th>user_cnt</th>\n",
       "    </tr>\n",
       "  </thead>\n",
       "  <tbody>\n",
       "    <tr>\n",
       "      <th>0</th>\n",
       "      <td>1,1,0,1</td>\n",
       "      <td>3425</td>\n",
       "    </tr>\n",
       "    <tr>\n",
       "      <th>1</th>\n",
       "      <td>1,0,0,0</td>\n",
       "      <td>190147</td>\n",
       "    </tr>\n",
       "    <tr>\n",
       "      <th>2</th>\n",
       "      <td>1,1,1,0</td>\n",
       "      <td>12754</td>\n",
       "    </tr>\n",
       "    <tr>\n",
       "      <th>3</th>\n",
       "      <td>1,0,0,1</td>\n",
       "      <td>13531</td>\n",
       "    </tr>\n",
       "    <tr>\n",
       "      <th>4</th>\n",
       "      <td>0,1,0,0</td>\n",
       "      <td>93712</td>\n",
       "    </tr>\n",
       "    <tr>\n",
       "      <th>5</th>\n",
       "      <td>0,0,1,1</td>\n",
       "      <td>6344</td>\n",
       "    </tr>\n",
       "    <tr>\n",
       "      <th>6</th>\n",
       "      <td>0,1,0,1</td>\n",
       "      <td>8831</td>\n",
       "    </tr>\n",
       "    <tr>\n",
       "      <th>7</th>\n",
       "      <td>0,0,0,0</td>\n",
       "      <td>9902</td>\n",
       "    </tr>\n",
       "    <tr>\n",
       "      <th>8</th>\n",
       "      <td>1,0,1,0</td>\n",
       "      <td>52658</td>\n",
       "    </tr>\n",
       "    <tr>\n",
       "      <th>9</th>\n",
       "      <td>0,1,1,1</td>\n",
       "      <td>1658</td>\n",
       "    </tr>\n",
       "    <tr>\n",
       "      <th>10</th>\n",
       "      <td>1,0,1,1</td>\n",
       "      <td>5280</td>\n",
       "    </tr>\n",
       "    <tr>\n",
       "      <th>11</th>\n",
       "      <td>1,1,1,1</td>\n",
       "      <td>2717</td>\n",
       "    </tr>\n",
       "    <tr>\n",
       "      <th>12</th>\n",
       "      <td>1,1,0,0</td>\n",
       "      <td>21558</td>\n",
       "    </tr>\n",
       "    <tr>\n",
       "      <th>13</th>\n",
       "      <td>0,0,0,1</td>\n",
       "      <td>67663</td>\n",
       "    </tr>\n",
       "    <tr>\n",
       "      <th>14</th>\n",
       "      <td>0,1,1,0</td>\n",
       "      <td>9864</td>\n",
       "    </tr>\n",
       "    <tr>\n",
       "      <th>15</th>\n",
       "      <td>0,0,1,0</td>\n",
       "      <td>87272</td>\n",
       "    </tr>\n",
       "  </tbody>\n",
       "</table>\n",
       "</div>"
      ],
      "text/plain": [
       "      group  user_cnt\n",
       "0   1,1,0,1      3425\n",
       "1   1,0,0,0    190147\n",
       "2   1,1,1,0     12754\n",
       "3   1,0,0,1     13531\n",
       "4   0,1,0,0     93712\n",
       "5   0,0,1,1      6344\n",
       "6   0,1,0,1      8831\n",
       "7   0,0,0,0      9902\n",
       "8   1,0,1,0     52658\n",
       "9   0,1,1,1      1658\n",
       "10  1,0,1,1      5280\n",
       "11  1,1,1,1      2717\n",
       "12  1,1,0,0     21558\n",
       "13  0,0,0,1     67663\n",
       "14  0,1,1,0      9864\n",
       "15  0,0,1,0     87272"
      ]
     },
     "execution_count": 201,
     "metadata": {},
     "output_type": "execute_result"
    }
   ],
   "source": [
    "all_gcoin_df.groupBy(\"group\").agg(countDistinct(\"account_id\").alias(\"user_cnt\")).toPandas()"
   ]
  },
  {
   "cell_type": "code",
   "execution_count": 202,
   "metadata": {},
   "outputs": [],
   "source": [
    "no_workshop_user_gcoin = all_gcoin.join(workshop_user_list.withColumnRenamed(\"AccountId\", \"account_id\"), \"account_id\", \"leftanti\")"
   ]
  },
  {
   "cell_type": "code",
   "execution_count": 203,
   "metadata": {
    "collapsed": true,
    "jupyter": {
     "outputs_hidden": true
    }
   },
   "outputs": [
    {
     "ename": "AnalysisException",
     "evalue": "\"cannot resolve '`event_name`' given input columns: [account_id, type, cnt];;\\n'Aggregate ['event_name, 'event_type], ['event_name, 'event_type, count(distinct account_id#2) AS pu#4133L, sum('paid_use) AS paid_use#4135, sum('free_use) AS free_use#4137]\\n+- Project [account_id#2, type#3972, cnt#4045L]\\n   +- Join LeftAnti, (account_id#2 = account_id#4124)\\n      :- Aggregate [account_id#2, type#3972], [account_id#2, type#3972, count(1) AS cnt#4045L]\\n      :  +- Project [date#0, platform#1, account_id#2, product_id#3, free_use#5L, free_balance#6L, paid_use#7L, paid_balance#8L, price#9L, qty#10L, reason#11, time#12, transaction_id#13, gcoin_by_expiry#14, CASE WHEN NOT event_type#42 IN (workshop,wsus,survivorpass) THEN other ELSE event_type#42 END AS type#3972, is_salesid_exist#135, sales_id_#153, device#32, currency#34, sales_id#35, exchange_id#37, product_name#38, product_type#39, category#40, ... 11 more fields]\\n      :     +- Project [date#0, platform#1, account_id#2, product_id#3, free_use#5L, free_balance#6L, paid_use#7L, paid_balance#8L, price#9L, qty#10L, reason#11, time#12, transaction_id#13, gcoin_by_expiry#14, type#15, is_salesid_exist#135, sales_id_#153, device#32, currency#34, sales_id#35, exchange_id#37, product_name#38, product_type#39, category#40, ... 11 more fields]\\n      :        +- Join LeftOuter, (((is_salesid_exist#135 = 1) && ((platform#1 = platform_#72) && (sales_id_#153 = sales_id#35))) || ((((is_salesid_exist#135 = 0) && (platform#1 = platform_#72)) && (product_id#3 = product_id_#93)) && ((((time#12 >= start_time#48) && (time#12 < next_start_time#259)) && (duplications#210L >= cast(2 as bigint))) || (duplications#210L = cast(1 as bigint)))))\\n      :           :- Project [date#0, platform#1, account_id#2, product_id#3, free_use#5L, free_balance#6L, paid_use#7L, paid_balance#8L, price#9L, qty#10L, reason#11, time#12, transaction_id#13, gcoin_by_expiry#14, type#15, is_salesid_exist#135, sales_id_#153]\\n      :           :  +- Project [date#0, platform#1, account_id#2, product_id#3, sales_id#4, free_use#5L, free_balance#6L, paid_use#7L, paid_balance#8L, price#9L, qty#10L, reason#11, time#12, transaction_id#13, gcoin_by_expiry#14, type#15, is_salesid_exist#135, CASE WHEN StartsWith(sales_id#4, salesitemdesc) THEN split(sales_id#4, desc.)[1] ELSE sales_id#4 END AS sales_id_#153]\\n      :           :     +- Project [date#0, platform#1, account_id#2, product_id#3, sales_id#4, free_use#5L, free_balance#6L, paid_use#7L, paid_balance#8L, price#9L, qty#10L, reason#11, time#12, transaction_id#13, gcoin_by_expiry#14, type#15, CASE WHEN isnull(sales_id#4) THEN 0 ELSE 1 END AS is_salesid_exist#135]\\n      :           :        +- Relation[date#0,platform#1,account_id#2,product_id#3,sales_id#4,free_use#5L,free_balance#6L,paid_use#7L,paid_balance#8L,price#9L,qty#10L,reason#11,time#12,transaction_id#13,gcoin_by_expiry#14,type#15] parquet\\n      :           +- Project [product_id_#93, platform_#72, device#32, currency#34, sales_id#35, exchange_id#37, product_name#38, product_type#39, category#40, sub_category#41, event_type#42, event_name#43, tags#44, part#45, tier#46, price_#114, start_time#48, end_time#49, catalog_version#50, update_time#51, duplications#210L, next_start_time#259]\\n      :              +- Project [product_id_#93, platform_#72, device#32, currency#34, sales_id#35, exchange_id#37, product_name#38, product_type#39, category#40, sub_category#41, event_type#42, event_name#43, tags#44, part#45, tier#46, price_#114, start_time#48, end_time#49, catalog_version#50, update_time#51, duplications#210L, _we0#260, coalesce(_we0#260, 2038-01-19 00:00:00) AS next_start_time#259]\\n      :                 +- Window [lead(start_time#48, 1, null) windowspecdefinition(platform_#72, product_id_#93, start_time#48 ASC NULLS FIRST, specifiedwindowframe(RowFrame, 1, 1)) AS _we0#260], [platform_#72, product_id_#93], [start_time#48 ASC NULLS FIRST]\\n      :                    +- Project [product_id_#93, platform_#72, device#32, currency#34, sales_id#35, exchange_id#37, product_name#38, product_type#39, category#40, sub_category#41, event_type#42, event_name#43, tags#44, part#45, tier#46, price_#114, start_time#48, end_time#49, catalog_version#50, update_time#51, duplications#210L]\\n      :                       +- Project [product_id_#93, platform_#72, device#32, currency#34, sales_id#35, exchange_id#37, product_name#38, product_type#39, category#40, sub_category#41, event_type#42, event_name#43, tags#44, part#45, tier#46, price_#114, start_time#48, end_time#49, catalog_version#50, update_time#51, duplications#210L]\\n      :                          +- Project [product_id_#93, platform_#72, device#32, currency#34, sales_id#35, exchange_id#37, product_name#38, product_type#39, category#40, sub_category#41, event_type#42, event_name#43, tags#44, part#45, tier#46, price_#114, start_time#48, end_time#49, catalog_version#50, update_time#51, duplications#210L]\\n      :                             +- Join LeftOuter, ((product_id_#93 = product_id_#214) && (platform_#72 = platform_#216))\\n      :                                :- SubqueryAlias `meta_raw`\\n      :                                :  +- Filter (currency#34 = gcoin)\\n      :                                :     +- Project [device#32, platform_#72, currency#34, sales_id#35, product_id_#93, exchange_id#37, product_name#38, product_type#39, category#40, sub_category#41, event_type#42, event_name#43, tags#44, part#45, tier#46, price#47 AS price_#114, start_time#48, end_time#49, catalog_version#50, update_time#51]\\n      :                                :        +- Project [device#32, platform_#72, currency#34, sales_id#35, product_id#36 AS product_id_#93, exchange_id#37, product_name#38, product_type#39, category#40, sub_category#41, event_type#42, event_name#43, tags#44, part#45, tier#46, price#47, start_time#48, end_time#49, catalog_version#50, update_time#51]\\n      :                                :           +- Project [device#32, platform#33 AS platform_#72, currency#34, sales_id#35, product_id#36, exchange_id#37, product_name#38, product_type#39, category#40, sub_category#41, event_type#42, event_name#43, tags#44, part#45, tier#46, price#47, start_time#48, end_time#49, catalog_version#50, update_time#51]\\n      :                                :              +- Relation[device#32,platform#33,currency#34,sales_id#35,product_id#36,exchange_id#37,product_name#38,product_type#39,category#40,sub_category#41,event_type#42,event_name#43,tags#44,part#45,tier#46,price#47,start_time#48,end_time#49,catalog_version#50,update_time#51] JDBCRelation(meta_vc_sales_items) [numPartitions=1]\\n      :                                +- SubqueryAlias `meta_duplicate_count`\\n      :                                   +- Aggregate [product_id_#214, platform_#216], [product_id_#214, platform_#216, count(1) AS duplications#210L]\\n      :                                      +- Filter (currency#34 = gcoin)\\n      :                                         +- Project [device#32, platform_#216, currency#34, sales_id#35, product_id_#214, exchange_id#37, product_name#38, product_type#39, category#40, sub_category#41, event_type#42, event_name#43, tags#44, part#45, tier#46, price#47 AS price_#114, start_time#48, end_time#49, catalog_version#50, update_time#51]\\n      :                                            +- Project [device#32, platform_#216, currency#34, sales_id#35, product_id#36 AS product_id_#214, exchange_id#37, product_name#38, product_type#39, category#40, sub_category#41, event_type#42, event_name#43, tags#44, part#45, tier#46, price#47, start_time#48, end_time#49, catalog_version#50, update_time#51]\\n      :                                               +- Project [device#32, platform#33 AS platform_#216, currency#34, sales_id#35, product_id#36, exchange_id#37, product_name#38, product_type#39, category#40, sub_category#41, event_type#42, event_name#43, tags#44, part#45, tier#46, price#47, start_time#48, end_time#49, catalog_version#50, update_time#51]\\n      :                                                  +- Relation[device#32,platform#33,currency#34,sales_id#35,product_id#36,exchange_id#37,product_name#38,product_type#39,category#40,sub_category#41,event_type#42,event_name#43,tags#44,part#45,tier#46,price#47,start_time#48,end_time#49,catalog_version#50,update_time#51] JDBCRelation(meta_vc_sales_items) [numPartitions=1]\\n      +- Project [AccountId#1238 AS account_id#4124]\\n         +- Deduplicate [AccountId#1238]\\n            +- Project [AccountId#1238]\\n               +- Union\\n                  :- Project [AccountId#1238, amount#1968L, open AS action#1971]\\n                  :  +- Aggregate [AccountId#1238], [AccountId#1238, sum(OpenAmount#1243L) AS amount#1968L]\\n                  :     +- Project [AccountId#1238, date#1189, CurrencyObtained#1239, EventName#1240, ItemDescId#1241, ItemsObtained#1242, OpenAmount#1243L, Provider#1244, Time#1245, TransactionId#1246, Type#1247, date#884, country_os#885, country_ip#886, daily_country_os#887, daily_country_ip#888, platform#889, server_type#890, device#891, usertype#892, netid#894, firstlogindate#895, lastlogindate#896, total_logincount#897, ... 11 more fields]\\n                  :        +- Join Inner, (AccountId#1238 = AccountId#1563)\\n                  :           :- Project [date#1189, props#1233.AccountId AS AccountId#1238, props#1233.CurrencyObtained AS CurrencyObtained#1239, props#1233.EventName AS EventName#1240, props#1233.ItemDescId AS ItemDescId#1241, props#1233.ItemsObtained AS ItemsObtained#1242, props#1233.OpenAmount AS OpenAmount#1243L, props#1233.Provider AS Provider#1244, props#1233.Time AS Time#1245, props#1233.TransactionId AS TransactionId#1246, props#1233.Type AS Type#1247]\\n                  :           :  +- Project [_value#1180, _original_file#1181, date#1189, jsontostructs(StructField(AccountId,StringType,true), StructField(CurrencyObtained,StructType(StructField(currencydesc.artisanstoken,LongType,true), StructField(currencydesc.credit,LongType,true)),true), StructField(EventName,StringType,true), StructField(ItemDescId,StringType,true), StructField(ItemsObtained,StringType,true), StructField(OpenAmount,LongType,true), StructField(Provider,StringType,true), StructField(Time,StringType,true), StructField(TransactionId,StringType,true), StructField(Type,StringType,true), _value#1180, Some(GMT)) AS props#1233]\\n                  :           :     +- Project [_value#1180, _original_file#1181, date#1189]\\n                  :           :        +- Project [_value#1180, _original_file#1181, file_name#1184, get_date_from_path(file_name#1184) AS date#1189]\\n                  :           :           +- Project [_value#1180, _original_file#1181, input_file_name() AS file_name#1184]\\n                  :           :              +- Relation[_value#1180,_original_file#1181] parquet\\n                  :           +- Project [date#884, country_os#885, country_ip#886, daily_country_os#887, daily_country_ip#888, platform#889, server_type#890, device#891, usertype#892, account_id#1013 AS AccountId#1563, netid#894, firstlogindate#895, lastlogindate#896, total_logincount#897, recent_continous_login#898, days_since_lastlogin#899, total_play#900, country_new#919, country_name#870, country_code_iso2#871, continent#872, business_region#873, pubg_region#874, server#875, pubg_region2#876]\\n                  :              +- Project [date#884, country_os#885, country_ip#886, daily_country_os#887, daily_country_ip#888, platform#889, server_type#890, device#891, usertype#892, accountid#893 AS account_id#1013, netid#894, firstlogindate#895, lastlogindate#896, total_logincount#897, recent_continous_login#898, days_since_lastlogin#899, total_play#900, country_new#919, country_name#870, country_code_iso2#871, continent#872, business_region#873, pubg_region#874, server#875, pubg_region2#876]\\n                  :                 +- Join LeftOuter, (country_new#919 = country_code_iso2#871)\\n                  :                    :- Project [date#884, country_os#885, country_ip#886, daily_country_os#887, daily_country_ip#888, platform#889, server_type#890, device#891, usertype#892, accountid#893, netid#894, firstlogindate#895, lastlogindate#896, total_logincount#897, recent_continous_login#898, days_since_lastlogin#899, total_play#900, classify_country(country_os#885, country_ip#886) AS country_new#919]\\n                  :                    :  +- Relation[date#884,country_os#885,country_ip#886,daily_country_os#887,daily_country_ip#888,platform#889,server_type#890,device#891,usertype#892,accountid#893,netid#894,firstlogindate#895,lastlogindate#896,total_logincount#897,recent_continous_login#898,days_since_lastlogin#899,total_play#900] parquet\\n                  :                    +- Relation[country_name#870,country_code_iso2#871,continent#872,business_region#873,pubg_region#874,server#875,pubg_region2#876] JDBCRelation(meta_bi_regions) [numPartitions=1]\\n                  :- Project [AccountId#1311, amount#2009L, action#2012]\\n                  :  +- Project [AccountId#1311, amount#2009L, craft AS action#2012]\\n                  :     +- Aggregate [AccountId#1311], [AccountId#1311, count(1) AS amount#2009L]\\n                  :        +- Project [AccountId#1311, date#1268, CreditAmounts#1312L, ItemDescId#1313, ItemsObtained#1314, Time#1315, TransactionId#1316, Type#1317, date#884, country_os#885, country_ip#886, daily_country_os#887, daily_country_ip#888, platform#889, server_type#890, device#891, usertype#892, netid#894, firstlogindate#895, lastlogindate#896, total_logincount#897, recent_continous_login#898, days_since_lastlogin#899, total_play#900, ... 8 more fields]\\n                  :           +- Join Inner, (AccountId#1311 = AccountId#1624)\\n                  :              :- Project [date#1268, props#1306.AccountId AS AccountId#1311, props#1306.CreditAmounts AS CreditAmounts#1312L, props#1306.ItemDescId AS ItemDescId#1313, props#1306.ItemsObtained AS ItemsObtained#1314, props#1306.Time AS Time#1315, props#1306.TransactionId AS TransactionId#1316, props#1306.Type AS Type#1317]\\n                  :              :  +- Project [_value#1259, _original_file#1260, date#1268, jsontostructs(StructField(AccountId,StringType,true), StructField(CreditAmounts,LongType,true), StructField(ItemDescId,StringType,true), StructField(ItemsObtained,StringType,true), StructField(Time,StringType,true), StructField(TransactionId,StringType,true), StructField(Type,StringType,true), _value#1259, Some(GMT)) AS props#1306]\\n                  :              :     +- Project [_value#1259, _original_file#1260, date#1268]\\n                  :              :        +- Project [_value#1259, _original_file#1260, file_name#1263, get_date_from_path(file_name#1263) AS date#1268]\\n                  :              :           +- Project [_value#1259, _original_file#1260, input_file_name() AS file_name#1263]\\n                  :              :              +- Relation[_value#1259,_original_file#1260] parquet\\n                  :              +- Project [date#884, country_os#885, country_ip#886, daily_country_os#887, daily_country_ip#888, platform#889, server_type#890, device#891, usertype#892, account_id#1013 AS AccountId#1624, netid#894, firstlogindate#895, lastlogindate#896, total_logincount#897, recent_continous_login#898, days_since_lastlogin#899, total_play#900, country_new#919, country_name#870, country_code_iso2#871, continent#872, business_region#873, pubg_region#874, server#875, pubg_region2#876]\\n                  :                 +- Project [date#884, country_os#885, country_ip#886, daily_country_os#887, daily_country_ip#888, platform#889, server_type#890, device#891, usertype#892, accountid#893 AS account_id#1013, netid#894, firstlogindate#895, lastlogindate#896, total_logincount#897, recent_continous_login#898, days_since_lastlogin#899, total_play#900, country_new#919, country_name#870, country_code_iso2#871, continent#872, business_region#873, pubg_region#874, server#875, pubg_region2#876]\\n                  :                    +- Join LeftOuter, (country_new#919 = country_code_iso2#871)\\n                  :                       :- Project [date#884, country_os#885, country_ip#886, daily_country_os#887, daily_country_ip#888, platform#889, server_type#890, device#891, usertype#892, accountid#893, netid#894, firstlogindate#895, lastlogindate#896, total_logincount#897, recent_continous_login#898, days_since_lastlogin#899, total_play#900, classify_country(country_os#885, country_ip#886) AS country_new#919]\\n                  :                       :  +- Relation[date#884,country_os#885,country_ip#886,daily_country_os#887,daily_country_ip#888,platform#889,server_type#890,device#891,usertype#892,accountid#893,netid#894,firstlogindate#895,lastlogindate#896,total_logincount#897,recent_continous_login#898,days_since_lastlogin#899,total_play#900] parquet\\n                  :                       +- Relation[country_name#870,country_code_iso2#871,continent#872,business_region#873,pubg_region#874,server#875,pubg_region2#876] JDBCRelation(meta_bi_regions) [numPartitions=1]\\n                  :- Project [AccountId#1376, amount#2052L, action#2055]\\n                  :  +- Project [AccountId#1376, amount#2052L, disassemble AS action#2055]\\n                  :     +- Aggregate [AccountId#1376], [AccountId#1376, count(1) AS amount#2052L]\\n                  :        +- Project [AccountId#1376, date#1335, CreditObtained#1377L, DisassembledItems#1378, Time#1379, TransactionId#1380, Type#1381, date#884, country_os#885, country_ip#886, daily_country_os#887, daily_country_ip#888, platform#889, server_type#890, device#891, usertype#892, netid#894, firstlogindate#895, lastlogindate#896, total_logincount#897, recent_continous_login#898, days_since_lastlogin#899, total_play#900, country_new#919, ... 7 more fields]\\n                  :           +- Join Inner, (AccountId#1376 = AccountId#1682)\\n                  :              :- Project [date#1335, props#1371.AccountId AS AccountId#1376, props#1371.CreditObtained AS CreditObtained#1377L, props#1371.DisassembledItems AS DisassembledItems#1378, props#1371.Time AS Time#1379, props#1371.TransactionId AS TransactionId#1380, props#1371.Type AS Type#1381]\\n                  :              :  +- Project [_value#1326, _original_file#1327, date#1335, jsontostructs(StructField(AccountId,StringType,true), StructField(CreditObtained,LongType,true), StructField(DisassembledItems,StringType,true), StructField(Time,StringType,true), StructField(TransactionId,StringType,true), StructField(Type,StringType,true), _value#1326, Some(GMT)) AS props#1371]\\n                  :              :     +- Project [_value#1326, _original_file#1327, date#1335]\\n                  :              :        +- Project [_value#1326, _original_file#1327, file_name#1330, get_date_from_path(file_name#1330) AS date#1335]\\n                  :              :           +- Project [_value#1326, _original_file#1327, input_file_name() AS file_name#1330]\\n                  :              :              +- Relation[_value#1326,_original_file#1327] parquet\\n                  :              +- Project [date#884, country_os#885, country_ip#886, daily_country_os#887, daily_country_ip#888, platform#889, server_type#890, device#891, usertype#892, account_id#1013 AS AccountId#1682, netid#894, firstlogindate#895, lastlogindate#896, total_logincount#897, recent_continous_login#898, days_since_lastlogin#899, total_play#900, country_new#919, country_name#870, country_code_iso2#871, continent#872, business_region#873, pubg_region#874, server#875, pubg_region2#876]\\n                  :                 +- Project [date#884, country_os#885, country_ip#886, daily_country_os#887, daily_country_ip#888, platform#889, server_type#890, device#891, usertype#892, accountid#893 AS account_id#1013, netid#894, firstlogindate#895, lastlogindate#896, total_logincount#897, recent_continous_login#898, days_since_lastlogin#899, total_play#900, country_new#919, country_name#870, country_code_iso2#871, continent#872, business_region#873, pubg_region#874, server#875, pubg_region2#876]\\n                  :                    +- Join LeftOuter, (country_new#919 = country_code_iso2#871)\\n                  :                       :- Project [date#884, country_os#885, country_ip#886, daily_country_os#887, daily_country_ip#888, platform#889, server_type#890, device#891, usertype#892, accountid#893, netid#894, firstlogindate#895, lastlogindate#896, total_logincount#897, recent_continous_login#898, days_since_lastlogin#899, total_play#900, classify_country(country_os#885, country_ip#886) AS country_new#919]\\n                  :                       :  +- Relation[date#884,country_os#885,country_ip#886,daily_country_os#887,daily_country_ip#888,platform#889,server_type#890,device#891,usertype#892,accountid#893,netid#894,firstlogindate#895,lastlogindate#896,total_logincount#897,recent_continous_login#898,days_since_lastlogin#899,total_play#900] parquet\\n                  :                       +- Relation[country_name#870,country_code_iso2#871,continent#872,business_region#873,pubg_region#874,server#875,pubg_region2#876] JDBCRelation(meta_bi_regions) [numPartitions=1]\\n                  :- Project [AccountId#1443, amount#2097L, action#2100]\\n                  :  +- Project [AccountId#1443, amount#2097L, repurpose AS action#2100]\\n                  :     +- Aggregate [AccountId#1443], [AccountId#1443, count(1) AS amount#2097L]\\n                  :        +- Project [AccountId#1443, date#1398, CreditObtained#1444L, ItemObtained#1445, RepurposedItems#1446, Tier#1447, Time#1448, TransactionId#1449, Type#1450, date#884, country_os#885, country_ip#886, daily_country_os#887, daily_country_ip#888, platform#889, server_type#890, device#891, usertype#892, netid#894, firstlogindate#895, lastlogindate#896, total_logincount#897, recent_continous_login#898, days_since_lastlogin#899, ... 9 more fields]\\n                  :           +- Join Inner, (AccountId#1443 = AccountId#1739)\\n                  :              :- Project [date#1398, props#1438.AccountId AS AccountId#1443, props#1438.CreditObtained AS CreditObtained#1444L, props#1438.ItemObtained AS ItemObtained#1445, props#1438.RepurposedItems AS RepurposedItems#1446, props#1438.Tier AS Tier#1447, props#1438.Time AS Time#1448, props#1438.TransactionId AS TransactionId#1449, props#1438.Type AS Type#1450]\\n                  :              :  +- Project [_value#1389, _original_file#1390, date#1398, jsontostructs(StructField(AccountId,StringType,true), StructField(CreditObtained,LongType,true), StructField(ItemObtained,StringType,true), StructField(RepurposedItems,StringType,true), StructField(Tier,StringType,true), StructField(Time,StringType,true), StructField(TransactionId,StringType,true), StructField(Type,StringType,true), _value#1389, Some(GMT)) AS props#1438]\\n                  :              :     +- Project [_value#1389, _original_file#1390, date#1398]\\n                  :              :        +- Project [_value#1389, _original_file#1390, file_name#1393, get_date_from_path(file_name#1393) AS date#1398]\\n                  :              :           +- Project [_value#1389, _original_file#1390, input_file_name() AS file_name#1393]\\n                  :              :              +- Relation[_value#1389,_original_file#1390] parquet\\n                  :              +- Project [date#884, country_os#885, country_ip#886, daily_country_os#887, daily_country_ip#888, platform#889, server_type#890, device#891, usertype#892, account_id#1013 AS AccountId#1739, netid#894, firstlogindate#895, lastlogindate#896, total_logincount#897, recent_continous_login#898, days_since_lastlogin#899, total_play#900, country_new#919, country_name#870, country_code_iso2#871, continent#872, business_region#873, pubg_region#874, server#875, pubg_region2#876]\\n                  :                 +- Project [date#884, country_os#885, country_ip#886, daily_country_os#887, daily_country_ip#888, platform#889, server_type#890, device#891, usertype#892, accountid#893 AS account_id#1013, netid#894, firstlogindate#895, lastlogindate#896, total_logincount#897, recent_continous_login#898, days_since_lastlogin#899, total_play#900, country_new#919, country_name#870, country_code_iso2#871, continent#872, business_region#873, pubg_region#874, server#875, pubg_region2#876]\\n                  :                    +- Join LeftOuter, (country_new#919 = country_code_iso2#871)\\n                  :                       :- Project [date#884, country_os#885, country_ip#886, daily_country_os#887, daily_country_ip#888, platform#889, server_type#890, device#891, usertype#892, accountid#893, netid#894, firstlogindate#895, lastlogindate#896, total_logincount#897, recent_continous_login#898, days_since_lastlogin#899, total_play#900, classify_country(country_os#885, country_ip#886) AS country_new#919]\\n                  :                       :  +- Relation[date#884,country_os#885,country_ip#886,daily_country_os#887,daily_country_ip#888,platform#889,server_type#890,device#891,usertype#892,accountid#893,netid#894,firstlogindate#895,lastlogindate#896,total_logincount#897,recent_continous_login#898,days_since_lastlogin#899,total_play#900] parquet\\n                  :                       +- Relation[country_name#870,country_code_iso2#871,continent#872,business_region#873,pubg_region#874,server#875,pubg_region2#876] JDBCRelation(meta_bi_regions) [numPartitions=1]\\n                  :- Project [AccountId#1530, amount#2149L, action#2152]\\n                  :  +- Project [AccountId#1530, amount#2149L, special_craft AS action#2152]\\n                  :     +- Aggregate [AccountId#1530], [AccountId#1530, sum(Amount#1531L) AS amount#2149L]\\n                  :        +- Project [AccountId#1530, date#1469, Amount#1531L, AnalyticEventName#1532, AnalyticEventType#1533, Currency#1534, IsOption#1535, ItemId#1536, LocalPrice#1537L, OptionSalesIds#1538, PlatformProvider#1539, ProductId#1540, Remain#1541L, SalesId#1542, Time#1543, TransactionId#1544, Type#1545, date#884, country_os#885, country_ip#886, daily_country_os#887, daily_country_ip#888, platform#889, server_type#890, ... 17 more fields]\\n                  :           +- Join Inner, (AccountId#1530 = AccountId#1798)\\n                  :              :- Filter (Currency#1534 = artisanstoken)\\n                  :              :  +- Project [date#1469, props#1525.AccountId AS AccountId#1530, props#1525.Amount AS Amount#1531L, props#1525.AnalyticEventName AS AnalyticEventName#1532, props#1525.AnalyticEventType AS AnalyticEventType#1533, props#1525.Currency AS Currency#1534, props#1525.IsOption AS IsOption#1535, props#1525.ItemId AS ItemId#1536, props#1525.LocalPrice AS LocalPrice#1537L, props#1525.OptionSalesIds AS OptionSalesIds#1538, props#1525.PlatformProvider AS PlatformProvider#1539, props#1525.ProductId AS ProductId#1540, props#1525.Remain AS Remain#1541L, props#1525.SalesId AS SalesId#1542, props#1525.Time AS Time#1543, props#1525.TransactionId AS TransactionId#1544, props#1525.Type AS Type#1545]\\n                  :              :     +- Project [_value#1460, _original_file#1461, date#1469, jsontostructs(StructField(AccountId,StringType,true), StructField(Amount,LongType,true), StructField(AnalyticEventName,StringType,true), StructField(AnalyticEventType,StringType,true), StructField(Currency,StringType,true), StructField(IsOption,BooleanType,true), StructField(ItemId,StringType,true), StructField(LocalPrice,LongType,true), StructField(OptionSalesIds,ArrayType(StringType,true),true), StructField(PlatformProvider,StringType,true), StructField(ProductId,StringType,true), StructField(Remain,LongType,true), StructField(SalesId,StringType,true), StructField(Time,StringType,true), StructField(TransactionId,StringType,true), StructField(Type,StringType,true), _value#1460, Some(GMT)) AS props#1525]\\n                  :              :        +- Project [_value#1460, _original_file#1461, date#1469]\\n                  :              :           +- Project [_value#1460, _original_file#1461, file_name#1464, get_date_from_path(file_name#1464) AS date#1469]\\n                  :              :              +- Project [_value#1460, _original_file#1461, input_file_name() AS file_name#1464]\\n                  :              :                 +- Relation[_value#1460,_original_file#1461] parquet\\n                  :              +- Project [date#884, country_os#885, country_ip#886, daily_country_os#887, daily_country_ip#888, platform#889, server_type#890, device#891, usertype#892, account_id#1013 AS AccountId#1798, netid#894, firstlogindate#895, lastlogindate#896, total_logincount#897, recent_continous_login#898, days_since_lastlogin#899, total_play#900, country_new#919, country_name#870, country_code_iso2#871, continent#872, business_region#873, pubg_region#874, server#875, pubg_region2#876]\\n                  :                 +- Project [date#884, country_os#885, country_ip#886, daily_country_os#887, daily_country_ip#888, platform#889, server_type#890, device#891, usertype#892, accountid#893 AS account_id#1013, netid#894, firstlogindate#895, lastlogindate#896, total_logincount#897, recent_continous_login#898, days_since_lastlogin#899, total_play#900, country_new#919, country_name#870, country_code_iso2#871, continent#872, business_region#873, pubg_region#874, server#875, pubg_region2#876]\\n                  :                    +- Join LeftOuter, (country_new#919 = country_code_iso2#871)\\n                  :                       :- Project [date#884, country_os#885, country_ip#886, daily_country_os#887, daily_country_ip#888, platform#889, server_type#890, device#891, usertype#892, accountid#893, netid#894, firstlogindate#895, lastlogindate#896, total_logincount#897, recent_continous_login#898, days_since_lastlogin#899, total_play#900, classify_country(country_os#885, country_ip#886) AS country_new#919]\\n                  :                       :  +- Relation[date#884,country_os#885,country_ip#886,daily_country_os#887,daily_country_ip#888,platform#889,server_type#890,device#891,usertype#892,accountid#893,netid#894,firstlogindate#895,lastlogindate#896,total_logincount#897,recent_continous_login#898,days_since_lastlogin#899,total_play#900] parquet\\n                  :                       +- Relation[country_name#870,country_code_iso2#871,continent#872,business_region#873,pubg_region#874,server#875,pubg_region2#876] JDBCRelation(meta_bi_regions) [numPartitions=1]\\n                  :- Project [AccountId#2199, amount#2196L, action#2202]\\n                  :  +- Project [AccountId#2199, amount#2196L, gcoin AS action#2202]\\n                  :     +- Project [account_id#437 AS AccountId#2199, amount#2196L]\\n                  :        +- Aggregate [account_id#437], [account_id#437, sum(qty#445L) AS amount#2196L]\\n                  :           +- Project [account_id#437, date#435, platform#436, product_id#438, free_use#440L, free_balance#441L, paid_use#442L, paid_balance#443L, price#444L, qty#445L, reason#446, time#447, transaction_id#448, gcoin_by_expiry#449, type#450, is_salesid_exist#570, sales_id_#588, device#467, currency#469, sales_id#470, exchange_id#472, product_name#473, product_type#474, category#475, ... 12 more fields]\\n                  :              +- Join LeftOuter, (account_id#437 = account_id#1013)\\n                  :                 :- Filter event_name#478 LIKE %workshop%\\n                  :                 :  +- Project [date#435, platform#436, account_id#437, product_id#438, free_use#440L, free_balance#441L, paid_use#442L, paid_balance#443L, price#444L, qty#445L, reason#446, time#447, transaction_id#448, gcoin_by_expiry#449, type#450, is_salesid_exist#570, sales_id_#588, device#467, currency#469, sales_id#470, exchange_id#472, product_name#473, product_type#474, category#475, ... 11 more fields]\\n                  :                 :     +- Join LeftOuter, (((is_salesid_exist#570 = 1) && ((platform#436 = platform_#507) && (sales_id_#588 = sales_id#470))) || ((((is_salesid_exist#570 = 0) && (platform#436 = platform_#507)) && (product_id#438 = product_id_#528)) && ((((time#447 >= start_time#483) && (time#447 < next_start_time#694)) && (duplications#645L >= cast(2 as bigint))) || (duplications#645L = cast(1 as bigint)))))\\n                  :                 :        :- Project [date#435, platform#436, account_id#437, product_id#438, free_use#440L, free_balance#441L, paid_use#442L, paid_balance#443L, price#444L, qty#445L, reason#446, time#447, transaction_id#448, gcoin_by_expiry#449, type#450, is_salesid_exist#570, sales_id_#588]\\n                  :                 :        :  +- Project [date#435, platform#436, account_id#437, product_id#438, sales_id#439, free_use#440L, free_balance#441L, paid_use#442L, paid_balance#443L, price#444L, qty#445L, reason#446, time#447, transaction_id#448, gcoin_by_expiry#449, type#450, is_salesid_exist#570, CASE WHEN StartsWith(sales_id#439, salesitemdesc) THEN split(sales_id#439, desc.)[1] ELSE sales_id#439 END AS sales_id_#588]\\n                  :                 :        :     +- Project [date#435, platform#436, account_id#437, product_id#438, sales_id#439, free_use#440L, free_balance#441L, paid_use#442L, paid_balance#443L, price#444L, qty#445L, reason#446, time#447, transaction_id#448, gcoin_by_expiry#449, type#450, CASE WHEN isnull(sales_id#439) THEN 0 ELSE 1 END AS is_salesid_exist#570]\\n                  :                 :        :        +- Relation[date#435,platform#436,account_id#437,product_id#438,sales_id#439,free_use#440L,free_balance#441L,paid_use#442L,paid_balance#443L,price#444L,qty#445L,reason#446,time#447,transaction_id#448,gcoin_by_expiry#449,type#450] parquet\\n                  :                 :        +- Project [product_id_#528, platform_#507, device#467, currency#469, sales_id#470, exchange_id#472, product_name#473, product_type#474, category#475, sub_category#476, event_type#477, event_name#478, tags#479, part#480, tier#481, price_#549, start_time#483, end_time#484, catalog_version#485, update_time#486, duplications#645L, next_start_time#694]\\n                  :                 :           +- Project [product_id_#528, platform_#507, device#467, currency#469, sales_id#470, exchange_id#472, product_name#473, product_type#474, category#475, sub_category#476, event_type#477, event_name#478, tags#479, part#480, tier#481, price_#549, start_time#483, end_time#484, catalog_version#485, update_time#486, duplications#645L, _we0#695, coalesce(_we0#695, 2038-01-19 00:00:00) AS next_start_time#694]\\n                  :                 :              +- Window [lead(start_time#483, 1, null) windowspecdefinition(platform_#507, product_id_#528, start_time#483 ASC NULLS FIRST, specifiedwindowframe(RowFrame, 1, 1)) AS _we0#695], [platform_#507, product_id_#528], [start_time#483 ASC NULLS FIRST]\\n                  :                 :                 +- Project [product_id_#528, platform_#507, device#467, currency#469, sales_id#470, exchange_id#472, product_name#473, product_type#474, category#475, sub_category#476, event_type#477, event_name#478, tags#479, part#480, tier#481, price_#549, start_time#483, end_time#484, catalog_version#485, update_time#486, duplications#645L]\\n                  :                 :                    +- Project [product_id_#528, platform_#507, device#467, currency#469, sales_id#470, exchange_id#472, product_name#473, product_type#474, category#475, sub_category#476, event_type#477, event_name#478, tags#479, part#480, tier#481, price_#549, start_time#483, end_time#484, catalog_version#485, update_time#486, duplications#645L]\\n                  :                 :                       +- Project [product_id_#528, platform_#507, device#467, currency#469, sales_id#470, exchange_id#472, product_name#473, product_type#474, category#475, sub_category#476, event_type#477, event_name#478, tags#479, part#480, tier#481, price_#549, start_time#483, end_time#484, catalog_version#485, update_time#486, duplications#645L]\\n                  :                 :                          +- Join LeftOuter, ((product_id_#528 = product_id_#649) && (platform_#507 = platform_#651))\\n                  :                 :                             :- SubqueryAlias `meta_raw`\\n                  :                 :                             :  +- Filter (currency#469 = gcoin)\\n                  :                 :                             :     +- Project [device#467, platform_#507, currency#469, sales_id#470, product_id_#528, exchange_id#472, product_name#473, product_type#474, category#475, sub_category#476, event_type#477, event_name#478, tags#479, part#480, tier#481, price#482 AS price_#549, start_time#483, end_time#484, catalog_version#485, update_time#486]\\n                  :                 :                             :        +- Project [device#467, platform_#507, currency#469, sales_id#470, product_id#471 AS product_id_#528, exchange_id#472, product_name#473, product_type#474, category#475, sub_category#476, event_type#477, event_name#478, tags#479, part#480, tier#481, price#482, start_time#483, end_time#484, catalog_version#485, update_time#486]\\n                  :                 :                             :           +- Project [device#467, platform#468 AS platform_#507, currency#469, sales_id#470, product_id#471, exchange_id#472, product_name#473, product_type#474, category#475, sub_category#476, event_type#477, event_name#478, tags#479, part#480, tier#481, price#482, start_time#483, end_time#484, catalog_version#485, update_time#486]\\n                  :                 :                             :              +- Relation[device#467,platform#468,currency#469,sales_id#470,product_id#471,exchange_id#472,product_name#473,product_type#474,category#475,sub_category#476,event_type#477,event_name#478,tags#479,part#480,tier#481,price#482,start_time#483,end_time#484,catalog_version#485,update_time#486] JDBCRelation(meta_vc_sales_items) [numPartitions=1]\\n                  :                 :                             +- SubqueryAlias `meta_duplicate_count`\\n                  :                 :                                +- Aggregate [product_id_#649, platform_#651], [product_id_#649, platform_#651, count(1) AS duplications#645L]\\n                  :                 :                                   +- Filter (currency#469 = gcoin)\\n                  :                 :                                      +- Project [device#467, platform_#651, currency#469, sales_id#470, product_id_#649, exchange_id#472, product_name#473, product_type#474, category#475, sub_category#476, event_type#477, event_name#478, tags#479, part#480, tier#481, price#482 AS price_#549, start_time#483, end_time#484, catalog_version#485, update_time#486]\\n                  :                 :                                         +- Project [device#467, platform_#651, currency#469, sales_id#470, product_id#471 AS product_id_#649, exchange_id#472, product_name#473, product_type#474, category#475, sub_category#476, event_type#477, event_name#478, tags#479, part#480, tier#481, price#482, start_time#483, end_time#484, catalog_version#485, update_time#486]\\n                  :                 :                                            +- Project [device#467, platform#468 AS platform_#651, currency#469, sales_id#470, product_id#471, exchange_id#472, product_name#473, product_type#474, category#475, sub_category#476, event_type#477, event_name#478, tags#479, part#480, tier#481, price#482, start_time#483, end_time#484, catalog_version#485, update_time#486]\\n                  :                 :                                               +- Relation[device#467,platform#468,currency#469,sales_id#470,product_id#471,exchange_id#472,product_name#473,product_type#474,category#475,sub_category#476,event_type#477,event_name#478,tags#479,part#480,tier#481,price#482,start_time#483,end_time#484,catalog_version#485,update_time#486] JDBCRelation(meta_vc_sales_items) [numPartitions=1]\\n                  :                 +- Project [account_id#1013, pubg_region#874]\\n                  :                    +- Project [date#884, country_os#885, country_ip#886, daily_country_os#887, daily_country_ip#888, platform#889, server_type#890, device#891, usertype#892, accountid#893 AS account_id#1013, netid#894, firstlogindate#895, lastlogindate#896, total_logincount#897, recent_continous_login#898, days_since_lastlogin#899, total_play#900, country_new#919, country_name#870, country_code_iso2#871, continent#872, business_region#873, pubg_region#874, server#875, pubg_region2#876]\\n                  :                       +- Join LeftOuter, (country_new#919 = country_code_iso2#871)\\n                  :                          :- Project [date#884, country_os#885, country_ip#886, daily_country_os#887, daily_country_ip#888, platform#889, server_type#890, device#891, usertype#892, accountid#893, netid#894, firstlogindate#895, lastlogindate#896, total_logincount#897, recent_continous_login#898, days_since_lastlogin#899, total_play#900, classify_country(country_os#885, country_ip#886) AS country_new#919]\\n                  :                          :  +- Relation[date#884,country_os#885,country_ip#886,daily_country_os#887,daily_country_ip#888,platform#889,server_type#890,device#891,usertype#892,accountid#893,netid#894,firstlogindate#895,lastlogindate#896,total_logincount#897,recent_continous_login#898,days_since_lastlogin#899,total_play#900] parquet\\n                  :                          +- Relation[country_name#870,country_code_iso2#871,continent#872,business_region#873,pubg_region#874,server#875,pubg_region2#876] JDBCRelation(meta_bi_regions) [numPartitions=1]\\n                  +- Project [AccountId#1147, amount#2252L, action#2255]\\n                     +- Project [AccountId#1147, amount#2252L, bp_workshop AS action#2255]\\n                        +- Aggregate [AccountId#1147], [AccountId#1147, count(1) AS amount#2252L]\\n                           +- Project [AccountId#1147, date#1086, Amount#1148L, AnalyticEventName#1149, AnalyticEventType#1150, Currency#1151, IsOption#1152, ItemId#1153, LocalPrice#1154L, OptionSalesIds#1155, PlatformProvider#1156, ProductId#1157, Remain#1158L, SalesId#1159, Time#1160, TransactionId#1161, Type#1162, date#884, country_os#885, country_ip#886, daily_country_os#887, daily_country_ip#888, platform#889, server_type#890, ... 17 more fields]\\n                              +- Join Inner, (AccountId#1147 = AccountId#1865)\\n                                 :- Filter (Currency#1151 LIKE %bp% && (AnalyticEventType#1150 = workshop))\\n                                 :  +- Project [date#1086, props#1142.AccountId AS AccountId#1147, props#1142.Amount AS Amount#1148L, props#1142.AnalyticEventName AS AnalyticEventName#1149, props#1142.AnalyticEventType AS AnalyticEventType#1150, props#1142.Currency AS Currency#1151, props#1142.IsOption AS IsOption#1152, props#1142.ItemId AS ItemId#1153, props#1142.LocalPrice AS LocalPrice#1154L, props#1142.OptionSalesIds AS OptionSalesIds#1155, props#1142.PlatformProvider AS PlatformProvider#1156, props#1142.ProductId AS ProductId#1157, props#1142.Remain AS Remain#1158L, props#1142.SalesId AS SalesId#1159, props#1142.Time AS Time#1160, props#1142.TransactionId AS TransactionId#1161, props#1142.Type AS Type#1162]\\n                                 :     +- Project [_value#1077, _original_file#1078, date#1086, jsontostructs(StructField(AccountId,StringType,true), StructField(Amount,LongType,true), StructField(AnalyticEventName,StringType,true), StructField(AnalyticEventType,StringType,true), StructField(Currency,StringType,true), StructField(IsOption,BooleanType,true), StructField(ItemId,StringType,true), StructField(LocalPrice,LongType,true), StructField(OptionSalesIds,ArrayType(StringType,true),true), StructField(PlatformProvider,StringType,true), StructField(ProductId,StringType,true), StructField(Remain,LongType,true), StructField(SalesId,StringType,true), StructField(Time,StringType,true), StructField(TransactionId,StringType,true), StructField(Type,StringType,true), _value#1077, Some(GMT)) AS props#1142]\\n                                 :        +- Project [_value#1077, _original_file#1078, date#1086]\\n                                 :           +- Project [_value#1077, _original_file#1078, file_name#1081, get_date_from_path(file_name#1081) AS date#1086]\\n                                 :              +- Project [_value#1077, _original_file#1078, input_file_name() AS file_name#1081]\\n                                 :                 +- Relation[_value#1077,_original_file#1078] parquet\\n                                 +- Project [date#884, country_os#885, country_ip#886, daily_country_os#887, daily_country_ip#888, platform#889, server_type#890, device#891, usertype#892, account_id#1013 AS AccountId#1865, netid#894, firstlogindate#895, lastlogindate#896, total_logincount#897, recent_continous_login#898, days_since_lastlogin#899, total_play#900, country_new#919, country_name#870, country_code_iso2#871, continent#872, business_region#873, pubg_region#874, server#875, pubg_region2#876]\\n                                    +- Project [date#884, country_os#885, country_ip#886, daily_country_os#887, daily_country_ip#888, platform#889, server_type#890, device#891, usertype#892, accountid#893 AS account_id#1013, netid#894, firstlogindate#895, lastlogindate#896, total_logincount#897, recent_continous_login#898, days_since_lastlogin#899, total_play#900, country_new#919, country_name#870, country_code_iso2#871, continent#872, business_region#873, pubg_region#874, server#875, pubg_region2#876]\\n                                       +- Join LeftOuter, (country_new#919 = country_code_iso2#871)\\n                                          :- Project [date#884, country_os#885, country_ip#886, daily_country_os#887, daily_country_ip#888, platform#889, server_type#890, device#891, usertype#892, accountid#893, netid#894, firstlogindate#895, lastlogindate#896, total_logincount#897, recent_continous_login#898, days_since_lastlogin#899, total_play#900, classify_country(country_os#885, country_ip#886) AS country_new#919]\\n                                          :  +- Relation[date#884,country_os#885,country_ip#886,daily_country_os#887,daily_country_ip#888,platform#889,server_type#890,device#891,usertype#892,accountid#893,netid#894,firstlogindate#895,lastlogindate#896,total_logincount#897,recent_continous_login#898,days_since_lastlogin#899,total_play#900] parquet\\n                                          +- Relation[country_name#870,country_code_iso2#871,continent#872,business_region#873,pubg_region#874,server#875,pubg_region2#876] JDBCRelation(meta_bi_regions) [numPartitions=1]\\n\"",
     "output_type": "error",
     "traceback": [
      "\u001b[0;31m---------------------------------------------------------------------------\u001b[0m",
      "\u001b[0;31mPy4JJavaError\u001b[0m                             Traceback (most recent call last)",
      "\u001b[0;32m/usr/local/spark/python/pyspark/sql/utils.py\u001b[0m in \u001b[0;36mdeco\u001b[0;34m(*a, **kw)\u001b[0m\n\u001b[1;32m     62\u001b[0m         \u001b[0;32mtry\u001b[0m\u001b[0;34m:\u001b[0m\u001b[0;34m\u001b[0m\u001b[0;34m\u001b[0m\u001b[0m\n\u001b[0;32m---> 63\u001b[0;31m             \u001b[0;32mreturn\u001b[0m \u001b[0mf\u001b[0m\u001b[0;34m(\u001b[0m\u001b[0;34m*\u001b[0m\u001b[0ma\u001b[0m\u001b[0;34m,\u001b[0m \u001b[0;34m**\u001b[0m\u001b[0mkw\u001b[0m\u001b[0;34m)\u001b[0m\u001b[0;34m\u001b[0m\u001b[0;34m\u001b[0m\u001b[0m\n\u001b[0m\u001b[1;32m     64\u001b[0m         \u001b[0;32mexcept\u001b[0m \u001b[0mpy4j\u001b[0m\u001b[0;34m.\u001b[0m\u001b[0mprotocol\u001b[0m\u001b[0;34m.\u001b[0m\u001b[0mPy4JJavaError\u001b[0m \u001b[0;32mas\u001b[0m \u001b[0me\u001b[0m\u001b[0;34m:\u001b[0m\u001b[0;34m\u001b[0m\u001b[0;34m\u001b[0m\u001b[0m\n",
      "\u001b[0;32m/usr/local/spark/python/lib/py4j-0.10.7-src.zip/py4j/protocol.py\u001b[0m in \u001b[0;36mget_return_value\u001b[0;34m(answer, gateway_client, target_id, name)\u001b[0m\n\u001b[1;32m    327\u001b[0m                     \u001b[0;34m\"An error occurred while calling {0}{1}{2}.\\n\"\u001b[0m\u001b[0;34m.\u001b[0m\u001b[0;34m\u001b[0m\u001b[0;34m\u001b[0m\u001b[0m\n\u001b[0;32m--> 328\u001b[0;31m                     format(target_id, \".\", name), value)\n\u001b[0m\u001b[1;32m    329\u001b[0m             \u001b[0;32melse\u001b[0m\u001b[0;34m:\u001b[0m\u001b[0;34m\u001b[0m\u001b[0;34m\u001b[0m\u001b[0m\n",
      "\u001b[0;31mPy4JJavaError\u001b[0m: An error occurred while calling o2717.agg.\n: org.apache.spark.sql.AnalysisException: cannot resolve '`event_name`' given input columns: [account_id, type, cnt];;\n'Aggregate ['event_name, 'event_type], ['event_name, 'event_type, count(distinct account_id#2) AS pu#4133L, sum('paid_use) AS paid_use#4135, sum('free_use) AS free_use#4137]\n+- Project [account_id#2, type#3972, cnt#4045L]\n   +- Join LeftAnti, (account_id#2 = account_id#4124)\n      :- Aggregate [account_id#2, type#3972], [account_id#2, type#3972, count(1) AS cnt#4045L]\n      :  +- Project [date#0, platform#1, account_id#2, product_id#3, free_use#5L, free_balance#6L, paid_use#7L, paid_balance#8L, price#9L, qty#10L, reason#11, time#12, transaction_id#13, gcoin_by_expiry#14, CASE WHEN NOT event_type#42 IN (workshop,wsus,survivorpass) THEN other ELSE event_type#42 END AS type#3972, is_salesid_exist#135, sales_id_#153, device#32, currency#34, sales_id#35, exchange_id#37, product_name#38, product_type#39, category#40, ... 11 more fields]\n      :     +- Project [date#0, platform#1, account_id#2, product_id#3, free_use#5L, free_balance#6L, paid_use#7L, paid_balance#8L, price#9L, qty#10L, reason#11, time#12, transaction_id#13, gcoin_by_expiry#14, type#15, is_salesid_exist#135, sales_id_#153, device#32, currency#34, sales_id#35, exchange_id#37, product_name#38, product_type#39, category#40, ... 11 more fields]\n      :        +- Join LeftOuter, (((is_salesid_exist#135 = 1) && ((platform#1 = platform_#72) && (sales_id_#153 = sales_id#35))) || ((((is_salesid_exist#135 = 0) && (platform#1 = platform_#72)) && (product_id#3 = product_id_#93)) && ((((time#12 >= start_time#48) && (time#12 < next_start_time#259)) && (duplications#210L >= cast(2 as bigint))) || (duplications#210L = cast(1 as bigint)))))\n      :           :- Project [date#0, platform#1, account_id#2, product_id#3, free_use#5L, free_balance#6L, paid_use#7L, paid_balance#8L, price#9L, qty#10L, reason#11, time#12, transaction_id#13, gcoin_by_expiry#14, type#15, is_salesid_exist#135, sales_id_#153]\n      :           :  +- Project [date#0, platform#1, account_id#2, product_id#3, sales_id#4, free_use#5L, free_balance#6L, paid_use#7L, paid_balance#8L, price#9L, qty#10L, reason#11, time#12, transaction_id#13, gcoin_by_expiry#14, type#15, is_salesid_exist#135, CASE WHEN StartsWith(sales_id#4, salesitemdesc) THEN split(sales_id#4, desc.)[1] ELSE sales_id#4 END AS sales_id_#153]\n      :           :     +- Project [date#0, platform#1, account_id#2, product_id#3, sales_id#4, free_use#5L, free_balance#6L, paid_use#7L, paid_balance#8L, price#9L, qty#10L, reason#11, time#12, transaction_id#13, gcoin_by_expiry#14, type#15, CASE WHEN isnull(sales_id#4) THEN 0 ELSE 1 END AS is_salesid_exist#135]\n      :           :        +- Relation[date#0,platform#1,account_id#2,product_id#3,sales_id#4,free_use#5L,free_balance#6L,paid_use#7L,paid_balance#8L,price#9L,qty#10L,reason#11,time#12,transaction_id#13,gcoin_by_expiry#14,type#15] parquet\n      :           +- Project [product_id_#93, platform_#72, device#32, currency#34, sales_id#35, exchange_id#37, product_name#38, product_type#39, category#40, sub_category#41, event_type#42, event_name#43, tags#44, part#45, tier#46, price_#114, start_time#48, end_time#49, catalog_version#50, update_time#51, duplications#210L, next_start_time#259]\n      :              +- Project [product_id_#93, platform_#72, device#32, currency#34, sales_id#35, exchange_id#37, product_name#38, product_type#39, category#40, sub_category#41, event_type#42, event_name#43, tags#44, part#45, tier#46, price_#114, start_time#48, end_time#49, catalog_version#50, update_time#51, duplications#210L, _we0#260, coalesce(_we0#260, 2038-01-19 00:00:00) AS next_start_time#259]\n      :                 +- Window [lead(start_time#48, 1, null) windowspecdefinition(platform_#72, product_id_#93, start_time#48 ASC NULLS FIRST, specifiedwindowframe(RowFrame, 1, 1)) AS _we0#260], [platform_#72, product_id_#93], [start_time#48 ASC NULLS FIRST]\n      :                    +- Project [product_id_#93, platform_#72, device#32, currency#34, sales_id#35, exchange_id#37, product_name#38, product_type#39, category#40, sub_category#41, event_type#42, event_name#43, tags#44, part#45, tier#46, price_#114, start_time#48, end_time#49, catalog_version#50, update_time#51, duplications#210L]\n      :                       +- Project [product_id_#93, platform_#72, device#32, currency#34, sales_id#35, exchange_id#37, product_name#38, product_type#39, category#40, sub_category#41, event_type#42, event_name#43, tags#44, part#45, tier#46, price_#114, start_time#48, end_time#49, catalog_version#50, update_time#51, duplications#210L]\n      :                          +- Project [product_id_#93, platform_#72, device#32, currency#34, sales_id#35, exchange_id#37, product_name#38, product_type#39, category#40, sub_category#41, event_type#42, event_name#43, tags#44, part#45, tier#46, price_#114, start_time#48, end_time#49, catalog_version#50, update_time#51, duplications#210L]\n      :                             +- Join LeftOuter, ((product_id_#93 = product_id_#214) && (platform_#72 = platform_#216))\n      :                                :- SubqueryAlias `meta_raw`\n      :                                :  +- Filter (currency#34 = gcoin)\n      :                                :     +- Project [device#32, platform_#72, currency#34, sales_id#35, product_id_#93, exchange_id#37, product_name#38, product_type#39, category#40, sub_category#41, event_type#42, event_name#43, tags#44, part#45, tier#46, price#47 AS price_#114, start_time#48, end_time#49, catalog_version#50, update_time#51]\n      :                                :        +- Project [device#32, platform_#72, currency#34, sales_id#35, product_id#36 AS product_id_#93, exchange_id#37, product_name#38, product_type#39, category#40, sub_category#41, event_type#42, event_name#43, tags#44, part#45, tier#46, price#47, start_time#48, end_time#49, catalog_version#50, update_time#51]\n      :                                :           +- Project [device#32, platform#33 AS platform_#72, currency#34, sales_id#35, product_id#36, exchange_id#37, product_name#38, product_type#39, category#40, sub_category#41, event_type#42, event_name#43, tags#44, part#45, tier#46, price#47, start_time#48, end_time#49, catalog_version#50, update_time#51]\n      :                                :              +- Relation[device#32,platform#33,currency#34,sales_id#35,product_id#36,exchange_id#37,product_name#38,product_type#39,category#40,sub_category#41,event_type#42,event_name#43,tags#44,part#45,tier#46,price#47,start_time#48,end_time#49,catalog_version#50,update_time#51] JDBCRelation(meta_vc_sales_items) [numPartitions=1]\n      :                                +- SubqueryAlias `meta_duplicate_count`\n      :                                   +- Aggregate [product_id_#214, platform_#216], [product_id_#214, platform_#216, count(1) AS duplications#210L]\n      :                                      +- Filter (currency#34 = gcoin)\n      :                                         +- Project [device#32, platform_#216, currency#34, sales_id#35, product_id_#214, exchange_id#37, product_name#38, product_type#39, category#40, sub_category#41, event_type#42, event_name#43, tags#44, part#45, tier#46, price#47 AS price_#114, start_time#48, end_time#49, catalog_version#50, update_time#51]\n      :                                            +- Project [device#32, platform_#216, currency#34, sales_id#35, product_id#36 AS product_id_#214, exchange_id#37, product_name#38, product_type#39, category#40, sub_category#41, event_type#42, event_name#43, tags#44, part#45, tier#46, price#47, start_time#48, end_time#49, catalog_version#50, update_time#51]\n      :                                               +- Project [device#32, platform#33 AS platform_#216, currency#34, sales_id#35, product_id#36, exchange_id#37, product_name#38, product_type#39, category#40, sub_category#41, event_type#42, event_name#43, tags#44, part#45, tier#46, price#47, start_time#48, end_time#49, catalog_version#50, update_time#51]\n      :                                                  +- Relation[device#32,platform#33,currency#34,sales_id#35,product_id#36,exchange_id#37,product_name#38,product_type#39,category#40,sub_category#41,event_type#42,event_name#43,tags#44,part#45,tier#46,price#47,start_time#48,end_time#49,catalog_version#50,update_time#51] JDBCRelation(meta_vc_sales_items) [numPartitions=1]\n      +- Project [AccountId#1238 AS account_id#4124]\n         +- Deduplicate [AccountId#1238]\n            +- Project [AccountId#1238]\n               +- Union\n                  :- Project [AccountId#1238, amount#1968L, open AS action#1971]\n                  :  +- Aggregate [AccountId#1238], [AccountId#1238, sum(OpenAmount#1243L) AS amount#1968L]\n                  :     +- Project [AccountId#1238, date#1189, CurrencyObtained#1239, EventName#1240, ItemDescId#1241, ItemsObtained#1242, OpenAmount#1243L, Provider#1244, Time#1245, TransactionId#1246, Type#1247, date#884, country_os#885, country_ip#886, daily_country_os#887, daily_country_ip#888, platform#889, server_type#890, device#891, usertype#892, netid#894, firstlogindate#895, lastlogindate#896, total_logincount#897, ... 11 more fields]\n                  :        +- Join Inner, (AccountId#1238 = AccountId#1563)\n                  :           :- Project [date#1189, props#1233.AccountId AS AccountId#1238, props#1233.CurrencyObtained AS CurrencyObtained#1239, props#1233.EventName AS EventName#1240, props#1233.ItemDescId AS ItemDescId#1241, props#1233.ItemsObtained AS ItemsObtained#1242, props#1233.OpenAmount AS OpenAmount#1243L, props#1233.Provider AS Provider#1244, props#1233.Time AS Time#1245, props#1233.TransactionId AS TransactionId#1246, props#1233.Type AS Type#1247]\n                  :           :  +- Project [_value#1180, _original_file#1181, date#1189, jsontostructs(StructField(AccountId,StringType,true), StructField(CurrencyObtained,StructType(StructField(currencydesc.artisanstoken,LongType,true), StructField(currencydesc.credit,LongType,true)),true), StructField(EventName,StringType,true), StructField(ItemDescId,StringType,true), StructField(ItemsObtained,StringType,true), StructField(OpenAmount,LongType,true), StructField(Provider,StringType,true), StructField(Time,StringType,true), StructField(TransactionId,StringType,true), StructField(Type,StringType,true), _value#1180, Some(GMT)) AS props#1233]\n                  :           :     +- Project [_value#1180, _original_file#1181, date#1189]\n                  :           :        +- Project [_value#1180, _original_file#1181, file_name#1184, get_date_from_path(file_name#1184) AS date#1189]\n                  :           :           +- Project [_value#1180, _original_file#1181, input_file_name() AS file_name#1184]\n                  :           :              +- Relation[_value#1180,_original_file#1181] parquet\n                  :           +- Project [date#884, country_os#885, country_ip#886, daily_country_os#887, daily_country_ip#888, platform#889, server_type#890, device#891, usertype#892, account_id#1013 AS AccountId#1563, netid#894, firstlogindate#895, lastlogindate#896, total_logincount#897, recent_continous_login#898, days_since_lastlogin#899, total_play#900, country_new#919, country_name#870, country_code_iso2#871, continent#872, business_region#873, pubg_region#874, server#875, pubg_region2#876]\n                  :              +- Project [date#884, country_os#885, country_ip#886, daily_country_os#887, daily_country_ip#888, platform#889, server_type#890, device#891, usertype#892, accountid#893 AS account_id#1013, netid#894, firstlogindate#895, lastlogindate#896, total_logincount#897, recent_continous_login#898, days_since_lastlogin#899, total_play#900, country_new#919, country_name#870, country_code_iso2#871, continent#872, business_region#873, pubg_region#874, server#875, pubg_region2#876]\n                  :                 +- Join LeftOuter, (country_new#919 = country_code_iso2#871)\n                  :                    :- Project [date#884, country_os#885, country_ip#886, daily_country_os#887, daily_country_ip#888, platform#889, server_type#890, device#891, usertype#892, accountid#893, netid#894, firstlogindate#895, lastlogindate#896, total_logincount#897, recent_continous_login#898, days_since_lastlogin#899, total_play#900, classify_country(country_os#885, country_ip#886) AS country_new#919]\n                  :                    :  +- Relation[date#884,country_os#885,country_ip#886,daily_country_os#887,daily_country_ip#888,platform#889,server_type#890,device#891,usertype#892,accountid#893,netid#894,firstlogindate#895,lastlogindate#896,total_logincount#897,recent_continous_login#898,days_since_lastlogin#899,total_play#900] parquet\n                  :                    +- Relation[country_name#870,country_code_iso2#871,continent#872,business_region#873,pubg_region#874,server#875,pubg_region2#876] JDBCRelation(meta_bi_regions) [numPartitions=1]\n                  :- Project [AccountId#1311, amount#2009L, action#2012]\n                  :  +- Project [AccountId#1311, amount#2009L, craft AS action#2012]\n                  :     +- Aggregate [AccountId#1311], [AccountId#1311, count(1) AS amount#2009L]\n                  :        +- Project [AccountId#1311, date#1268, CreditAmounts#1312L, ItemDescId#1313, ItemsObtained#1314, Time#1315, TransactionId#1316, Type#1317, date#884, country_os#885, country_ip#886, daily_country_os#887, daily_country_ip#888, platform#889, server_type#890, device#891, usertype#892, netid#894, firstlogindate#895, lastlogindate#896, total_logincount#897, recent_continous_login#898, days_since_lastlogin#899, total_play#900, ... 8 more fields]\n                  :           +- Join Inner, (AccountId#1311 = AccountId#1624)\n                  :              :- Project [date#1268, props#1306.AccountId AS AccountId#1311, props#1306.CreditAmounts AS CreditAmounts#1312L, props#1306.ItemDescId AS ItemDescId#1313, props#1306.ItemsObtained AS ItemsObtained#1314, props#1306.Time AS Time#1315, props#1306.TransactionId AS TransactionId#1316, props#1306.Type AS Type#1317]\n                  :              :  +- Project [_value#1259, _original_file#1260, date#1268, jsontostructs(StructField(AccountId,StringType,true), StructField(CreditAmounts,LongType,true), StructField(ItemDescId,StringType,true), StructField(ItemsObtained,StringType,true), StructField(Time,StringType,true), StructField(TransactionId,StringType,true), StructField(Type,StringType,true), _value#1259, Some(GMT)) AS props#1306]\n                  :              :     +- Project [_value#1259, _original_file#1260, date#1268]\n                  :              :        +- Project [_value#1259, _original_file#1260, file_name#1263, get_date_from_path(file_name#1263) AS date#1268]\n                  :              :           +- Project [_value#1259, _original_file#1260, input_file_name() AS file_name#1263]\n                  :              :              +- Relation[_value#1259,_original_file#1260] parquet\n                  :              +- Project [date#884, country_os#885, country_ip#886, daily_country_os#887, daily_country_ip#888, platform#889, server_type#890, device#891, usertype#892, account_id#1013 AS AccountId#1624, netid#894, firstlogindate#895, lastlogindate#896, total_logincount#897, recent_continous_login#898, days_since_lastlogin#899, total_play#900, country_new#919, country_name#870, country_code_iso2#871, continent#872, business_region#873, pubg_region#874, server#875, pubg_region2#876]\n                  :                 +- Project [date#884, country_os#885, country_ip#886, daily_country_os#887, daily_country_ip#888, platform#889, server_type#890, device#891, usertype#892, accountid#893 AS account_id#1013, netid#894, firstlogindate#895, lastlogindate#896, total_logincount#897, recent_continous_login#898, days_since_lastlogin#899, total_play#900, country_new#919, country_name#870, country_code_iso2#871, continent#872, business_region#873, pubg_region#874, server#875, pubg_region2#876]\n                  :                    +- Join LeftOuter, (country_new#919 = country_code_iso2#871)\n                  :                       :- Project [date#884, country_os#885, country_ip#886, daily_country_os#887, daily_country_ip#888, platform#889, server_type#890, device#891, usertype#892, accountid#893, netid#894, firstlogindate#895, lastlogindate#896, total_logincount#897, recent_continous_login#898, days_since_lastlogin#899, total_play#900, classify_country(country_os#885, country_ip#886) AS country_new#919]\n                  :                       :  +- Relation[date#884,country_os#885,country_ip#886,daily_country_os#887,daily_country_ip#888,platform#889,server_type#890,device#891,usertype#892,accountid#893,netid#894,firstlogindate#895,lastlogindate#896,total_logincount#897,recent_continous_login#898,days_since_lastlogin#899,total_play#900] parquet\n                  :                       +- Relation[country_name#870,country_code_iso2#871,continent#872,business_region#873,pubg_region#874,server#875,pubg_region2#876] JDBCRelation(meta_bi_regions) [numPartitions=1]\n                  :- Project [AccountId#1376, amount#2052L, action#2055]\n                  :  +- Project [AccountId#1376, amount#2052L, disassemble AS action#2055]\n                  :     +- Aggregate [AccountId#1376], [AccountId#1376, count(1) AS amount#2052L]\n                  :        +- Project [AccountId#1376, date#1335, CreditObtained#1377L, DisassembledItems#1378, Time#1379, TransactionId#1380, Type#1381, date#884, country_os#885, country_ip#886, daily_country_os#887, daily_country_ip#888, platform#889, server_type#890, device#891, usertype#892, netid#894, firstlogindate#895, lastlogindate#896, total_logincount#897, recent_continous_login#898, days_since_lastlogin#899, total_play#900, country_new#919, ... 7 more fields]\n                  :           +- Join Inner, (AccountId#1376 = AccountId#1682)\n                  :              :- Project [date#1335, props#1371.AccountId AS AccountId#1376, props#1371.CreditObtained AS CreditObtained#1377L, props#1371.DisassembledItems AS DisassembledItems#1378, props#1371.Time AS Time#1379, props#1371.TransactionId AS TransactionId#1380, props#1371.Type AS Type#1381]\n                  :              :  +- Project [_value#1326, _original_file#1327, date#1335, jsontostructs(StructField(AccountId,StringType,true), StructField(CreditObtained,LongType,true), StructField(DisassembledItems,StringType,true), StructField(Time,StringType,true), StructField(TransactionId,StringType,true), StructField(Type,StringType,true), _value#1326, Some(GMT)) AS props#1371]\n                  :              :     +- Project [_value#1326, _original_file#1327, date#1335]\n                  :              :        +- Project [_value#1326, _original_file#1327, file_name#1330, get_date_from_path(file_name#1330) AS date#1335]\n                  :              :           +- Project [_value#1326, _original_file#1327, input_file_name() AS file_name#1330]\n                  :              :              +- Relation[_value#1326,_original_file#1327] parquet\n                  :              +- Project [date#884, country_os#885, country_ip#886, daily_country_os#887, daily_country_ip#888, platform#889, server_type#890, device#891, usertype#892, account_id#1013 AS AccountId#1682, netid#894, firstlogindate#895, lastlogindate#896, total_logincount#897, recent_continous_login#898, days_since_lastlogin#899, total_play#900, country_new#919, country_name#870, country_code_iso2#871, continent#872, business_region#873, pubg_region#874, server#875, pubg_region2#876]\n                  :                 +- Project [date#884, country_os#885, country_ip#886, daily_country_os#887, daily_country_ip#888, platform#889, server_type#890, device#891, usertype#892, accountid#893 AS account_id#1013, netid#894, firstlogindate#895, lastlogindate#896, total_logincount#897, recent_continous_login#898, days_since_lastlogin#899, total_play#900, country_new#919, country_name#870, country_code_iso2#871, continent#872, business_region#873, pubg_region#874, server#875, pubg_region2#876]\n                  :                    +- Join LeftOuter, (country_new#919 = country_code_iso2#871)\n                  :                       :- Project [date#884, country_os#885, country_ip#886, daily_country_os#887, daily_country_ip#888, platform#889, server_type#890, device#891, usertype#892, accountid#893, netid#894, firstlogindate#895, lastlogindate#896, total_logincount#897, recent_continous_login#898, days_since_lastlogin#899, total_play#900, classify_country(country_os#885, country_ip#886) AS country_new#919]\n                  :                       :  +- Relation[date#884,country_os#885,country_ip#886,daily_country_os#887,daily_country_ip#888,platform#889,server_type#890,device#891,usertype#892,accountid#893,netid#894,firstlogindate#895,lastlogindate#896,total_logincount#897,recent_continous_login#898,days_since_lastlogin#899,total_play#900] parquet\n                  :                       +- Relation[country_name#870,country_code_iso2#871,continent#872,business_region#873,pubg_region#874,server#875,pubg_region2#876] JDBCRelation(meta_bi_regions) [numPartitions=1]\n                  :- Project [AccountId#1443, amount#2097L, action#2100]\n                  :  +- Project [AccountId#1443, amount#2097L, repurpose AS action#2100]\n                  :     +- Aggregate [AccountId#1443], [AccountId#1443, count(1) AS amount#2097L]\n                  :        +- Project [AccountId#1443, date#1398, CreditObtained#1444L, ItemObtained#1445, RepurposedItems#1446, Tier#1447, Time#1448, TransactionId#1449, Type#1450, date#884, country_os#885, country_ip#886, daily_country_os#887, daily_country_ip#888, platform#889, server_type#890, device#891, usertype#892, netid#894, firstlogindate#895, lastlogindate#896, total_logincount#897, recent_continous_login#898, days_since_lastlogin#899, ... 9 more fields]\n                  :           +- Join Inner, (AccountId#1443 = AccountId#1739)\n                  :              :- Project [date#1398, props#1438.AccountId AS AccountId#1443, props#1438.CreditObtained AS CreditObtained#1444L, props#1438.ItemObtained AS ItemObtained#1445, props#1438.RepurposedItems AS RepurposedItems#1446, props#1438.Tier AS Tier#1447, props#1438.Time AS Time#1448, props#1438.TransactionId AS TransactionId#1449, props#1438.Type AS Type#1450]\n                  :              :  +- Project [_value#1389, _original_file#1390, date#1398, jsontostructs(StructField(AccountId,StringType,true), StructField(CreditObtained,LongType,true), StructField(ItemObtained,StringType,true), StructField(RepurposedItems,StringType,true), StructField(Tier,StringType,true), StructField(Time,StringType,true), StructField(TransactionId,StringType,true), StructField(Type,StringType,true), _value#1389, Some(GMT)) AS props#1438]\n                  :              :     +- Project [_value#1389, _original_file#1390, date#1398]\n                  :              :        +- Project [_value#1389, _original_file#1390, file_name#1393, get_date_from_path(file_name#1393) AS date#1398]\n                  :              :           +- Project [_value#1389, _original_file#1390, input_file_name() AS file_name#1393]\n                  :              :              +- Relation[_value#1389,_original_file#1390] parquet\n                  :              +- Project [date#884, country_os#885, country_ip#886, daily_country_os#887, daily_country_ip#888, platform#889, server_type#890, device#891, usertype#892, account_id#1013 AS AccountId#1739, netid#894, firstlogindate#895, lastlogindate#896, total_logincount#897, recent_continous_login#898, days_since_lastlogin#899, total_play#900, country_new#919, country_name#870, country_code_iso2#871, continent#872, business_region#873, pubg_region#874, server#875, pubg_region2#876]\n                  :                 +- Project [date#884, country_os#885, country_ip#886, daily_country_os#887, daily_country_ip#888, platform#889, server_type#890, device#891, usertype#892, accountid#893 AS account_id#1013, netid#894, firstlogindate#895, lastlogindate#896, total_logincount#897, recent_continous_login#898, days_since_lastlogin#899, total_play#900, country_new#919, country_name#870, country_code_iso2#871, continent#872, business_region#873, pubg_region#874, server#875, pubg_region2#876]\n                  :                    +- Join LeftOuter, (country_new#919 = country_code_iso2#871)\n                  :                       :- Project [date#884, country_os#885, country_ip#886, daily_country_os#887, daily_country_ip#888, platform#889, server_type#890, device#891, usertype#892, accountid#893, netid#894, firstlogindate#895, lastlogindate#896, total_logincount#897, recent_continous_login#898, days_since_lastlogin#899, total_play#900, classify_country(country_os#885, country_ip#886) AS country_new#919]\n                  :                       :  +- Relation[date#884,country_os#885,country_ip#886,daily_country_os#887,daily_country_ip#888,platform#889,server_type#890,device#891,usertype#892,accountid#893,netid#894,firstlogindate#895,lastlogindate#896,total_logincount#897,recent_continous_login#898,days_since_lastlogin#899,total_play#900] parquet\n                  :                       +- Relation[country_name#870,country_code_iso2#871,continent#872,business_region#873,pubg_region#874,server#875,pubg_region2#876] JDBCRelation(meta_bi_regions) [numPartitions=1]\n                  :- Project [AccountId#1530, amount#2149L, action#2152]\n                  :  +- Project [AccountId#1530, amount#2149L, special_craft AS action#2152]\n                  :     +- Aggregate [AccountId#1530], [AccountId#1530, sum(Amount#1531L) AS amount#2149L]\n                  :        +- Project [AccountId#1530, date#1469, Amount#1531L, AnalyticEventName#1532, AnalyticEventType#1533, Currency#1534, IsOption#1535, ItemId#1536, LocalPrice#1537L, OptionSalesIds#1538, PlatformProvider#1539, ProductId#1540, Remain#1541L, SalesId#1542, Time#1543, TransactionId#1544, Type#1545, date#884, country_os#885, country_ip#886, daily_country_os#887, daily_country_ip#888, platform#889, server_type#890, ... 17 more fields]\n                  :           +- Join Inner, (AccountId#1530 = AccountId#1798)\n                  :              :- Filter (Currency#1534 = artisanstoken)\n                  :              :  +- Project [date#1469, props#1525.AccountId AS AccountId#1530, props#1525.Amount AS Amount#1531L, props#1525.AnalyticEventName AS AnalyticEventName#1532, props#1525.AnalyticEventType AS AnalyticEventType#1533, props#1525.Currency AS Currency#1534, props#1525.IsOption AS IsOption#1535, props#1525.ItemId AS ItemId#1536, props#1525.LocalPrice AS LocalPrice#1537L, props#1525.OptionSalesIds AS OptionSalesIds#1538, props#1525.PlatformProvider AS PlatformProvider#1539, props#1525.ProductId AS ProductId#1540, props#1525.Remain AS Remain#1541L, props#1525.SalesId AS SalesId#1542, props#1525.Time AS Time#1543, props#1525.TransactionId AS TransactionId#1544, props#1525.Type AS Type#1545]\n                  :              :     +- Project [_value#1460, _original_file#1461, date#1469, jsontostructs(StructField(AccountId,StringType,true), StructField(Amount,LongType,true), StructField(AnalyticEventName,StringType,true), StructField(AnalyticEventType,StringType,true), StructField(Currency,StringType,true), StructField(IsOption,BooleanType,true), StructField(ItemId,StringType,true), StructField(LocalPrice,LongType,true), StructField(OptionSalesIds,ArrayType(StringType,true),true), StructField(PlatformProvider,StringType,true), StructField(ProductId,StringType,true), StructField(Remain,LongType,true), StructField(SalesId,StringType,true), StructField(Time,StringType,true), StructField(TransactionId,StringType,true), StructField(Type,StringType,true), _value#1460, Some(GMT)) AS props#1525]\n                  :              :        +- Project [_value#1460, _original_file#1461, date#1469]\n                  :              :           +- Project [_value#1460, _original_file#1461, file_name#1464, get_date_from_path(file_name#1464) AS date#1469]\n                  :              :              +- Project [_value#1460, _original_file#1461, input_file_name() AS file_name#1464]\n                  :              :                 +- Relation[_value#1460,_original_file#1461] parquet\n                  :              +- Project [date#884, country_os#885, country_ip#886, daily_country_os#887, daily_country_ip#888, platform#889, server_type#890, device#891, usertype#892, account_id#1013 AS AccountId#1798, netid#894, firstlogindate#895, lastlogindate#896, total_logincount#897, recent_continous_login#898, days_since_lastlogin#899, total_play#900, country_new#919, country_name#870, country_code_iso2#871, continent#872, business_region#873, pubg_region#874, server#875, pubg_region2#876]\n                  :                 +- Project [date#884, country_os#885, country_ip#886, daily_country_os#887, daily_country_ip#888, platform#889, server_type#890, device#891, usertype#892, accountid#893 AS account_id#1013, netid#894, firstlogindate#895, lastlogindate#896, total_logincount#897, recent_continous_login#898, days_since_lastlogin#899, total_play#900, country_new#919, country_name#870, country_code_iso2#871, continent#872, business_region#873, pubg_region#874, server#875, pubg_region2#876]\n                  :                    +- Join LeftOuter, (country_new#919 = country_code_iso2#871)\n                  :                       :- Project [date#884, country_os#885, country_ip#886, daily_country_os#887, daily_country_ip#888, platform#889, server_type#890, device#891, usertype#892, accountid#893, netid#894, firstlogindate#895, lastlogindate#896, total_logincount#897, recent_continous_login#898, days_since_lastlogin#899, total_play#900, classify_country(country_os#885, country_ip#886) AS country_new#919]\n                  :                       :  +- Relation[date#884,country_os#885,country_ip#886,daily_country_os#887,daily_country_ip#888,platform#889,server_type#890,device#891,usertype#892,accountid#893,netid#894,firstlogindate#895,lastlogindate#896,total_logincount#897,recent_continous_login#898,days_since_lastlogin#899,total_play#900] parquet\n                  :                       +- Relation[country_name#870,country_code_iso2#871,continent#872,business_region#873,pubg_region#874,server#875,pubg_region2#876] JDBCRelation(meta_bi_regions) [numPartitions=1]\n                  :- Project [AccountId#2199, amount#2196L, action#2202]\n                  :  +- Project [AccountId#2199, amount#2196L, gcoin AS action#2202]\n                  :     +- Project [account_id#437 AS AccountId#2199, amount#2196L]\n                  :        +- Aggregate [account_id#437], [account_id#437, sum(qty#445L) AS amount#2196L]\n                  :           +- Project [account_id#437, date#435, platform#436, product_id#438, free_use#440L, free_balance#441L, paid_use#442L, paid_balance#443L, price#444L, qty#445L, reason#446, time#447, transaction_id#448, gcoin_by_expiry#449, type#450, is_salesid_exist#570, sales_id_#588, device#467, currency#469, sales_id#470, exchange_id#472, product_name#473, product_type#474, category#475, ... 12 more fields]\n                  :              +- Join LeftOuter, (account_id#437 = account_id#1013)\n                  :                 :- Filter event_name#478 LIKE %workshop%\n                  :                 :  +- Project [date#435, platform#436, account_id#437, product_id#438, free_use#440L, free_balance#441L, paid_use#442L, paid_balance#443L, price#444L, qty#445L, reason#446, time#447, transaction_id#448, gcoin_by_expiry#449, type#450, is_salesid_exist#570, sales_id_#588, device#467, currency#469, sales_id#470, exchange_id#472, product_name#473, product_type#474, category#475, ... 11 more fields]\n                  :                 :     +- Join LeftOuter, (((is_salesid_exist#570 = 1) && ((platform#436 = platform_#507) && (sales_id_#588 = sales_id#470))) || ((((is_salesid_exist#570 = 0) && (platform#436 = platform_#507)) && (product_id#438 = product_id_#528)) && ((((time#447 >= start_time#483) && (time#447 < next_start_time#694)) && (duplications#645L >= cast(2 as bigint))) || (duplications#645L = cast(1 as bigint)))))\n                  :                 :        :- Project [date#435, platform#436, account_id#437, product_id#438, free_use#440L, free_balance#441L, paid_use#442L, paid_balance#443L, price#444L, qty#445L, reason#446, time#447, transaction_id#448, gcoin_by_expiry#449, type#450, is_salesid_exist#570, sales_id_#588]\n                  :                 :        :  +- Project [date#435, platform#436, account_id#437, product_id#438, sales_id#439, free_use#440L, free_balance#441L, paid_use#442L, paid_balance#443L, price#444L, qty#445L, reason#446, time#447, transaction_id#448, gcoin_by_expiry#449, type#450, is_salesid_exist#570, CASE WHEN StartsWith(sales_id#439, salesitemdesc) THEN split(sales_id#439, desc.)[1] ELSE sales_id#439 END AS sales_id_#588]\n                  :                 :        :     +- Project [date#435, platform#436, account_id#437, product_id#438, sales_id#439, free_use#440L, free_balance#441L, paid_use#442L, paid_balance#443L, price#444L, qty#445L, reason#446, time#447, transaction_id#448, gcoin_by_expiry#449, type#450, CASE WHEN isnull(sales_id#439) THEN 0 ELSE 1 END AS is_salesid_exist#570]\n                  :                 :        :        +- Relation[date#435,platform#436,account_id#437,product_id#438,sales_id#439,free_use#440L,free_balance#441L,paid_use#442L,paid_balance#443L,price#444L,qty#445L,reason#446,time#447,transaction_id#448,gcoin_by_expiry#449,type#450] parquet\n                  :                 :        +- Project [product_id_#528, platform_#507, device#467, currency#469, sales_id#470, exchange_id#472, product_name#473, product_type#474, category#475, sub_category#476, event_type#477, event_name#478, tags#479, part#480, tier#481, price_#549, start_time#483, end_time#484, catalog_version#485, update_time#486, duplications#645L, next_start_time#694]\n                  :                 :           +- Project [product_id_#528, platform_#507, device#467, currency#469, sales_id#470, exchange_id#472, product_name#473, product_type#474, category#475, sub_category#476, event_type#477, event_name#478, tags#479, part#480, tier#481, price_#549, start_time#483, end_time#484, catalog_version#485, update_time#486, duplications#645L, _we0#695, coalesce(_we0#695, 2038-01-19 00:00:00) AS next_start_time#694]\n                  :                 :              +- Window [lead(start_time#483, 1, null) windowspecdefinition(platform_#507, product_id_#528, start_time#483 ASC NULLS FIRST, specifiedwindowframe(RowFrame, 1, 1)) AS _we0#695], [platform_#507, product_id_#528], [start_time#483 ASC NULLS FIRST]\n                  :                 :                 +- Project [product_id_#528, platform_#507, device#467, currency#469, sales_id#470, exchange_id#472, product_name#473, product_type#474, category#475, sub_category#476, event_type#477, event_name#478, tags#479, part#480, tier#481, price_#549, start_time#483, end_time#484, catalog_version#485, update_time#486, duplications#645L]\n                  :                 :                    +- Project [product_id_#528, platform_#507, device#467, currency#469, sales_id#470, exchange_id#472, product_name#473, product_type#474, category#475, sub_category#476, event_type#477, event_name#478, tags#479, part#480, tier#481, price_#549, start_time#483, end_time#484, catalog_version#485, update_time#486, duplications#645L]\n                  :                 :                       +- Project [product_id_#528, platform_#507, device#467, currency#469, sales_id#470, exchange_id#472, product_name#473, product_type#474, category#475, sub_category#476, event_type#477, event_name#478, tags#479, part#480, tier#481, price_#549, start_time#483, end_time#484, catalog_version#485, update_time#486, duplications#645L]\n                  :                 :                          +- Join LeftOuter, ((product_id_#528 = product_id_#649) && (platform_#507 = platform_#651))\n                  :                 :                             :- SubqueryAlias `meta_raw`\n                  :                 :                             :  +- Filter (currency#469 = gcoin)\n                  :                 :                             :     +- Project [device#467, platform_#507, currency#469, sales_id#470, product_id_#528, exchange_id#472, product_name#473, product_type#474, category#475, sub_category#476, event_type#477, event_name#478, tags#479, part#480, tier#481, price#482 AS price_#549, start_time#483, end_time#484, catalog_version#485, update_time#486]\n                  :                 :                             :        +- Project [device#467, platform_#507, currency#469, sales_id#470, product_id#471 AS product_id_#528, exchange_id#472, product_name#473, product_type#474, category#475, sub_category#476, event_type#477, event_name#478, tags#479, part#480, tier#481, price#482, start_time#483, end_time#484, catalog_version#485, update_time#486]\n                  :                 :                             :           +- Project [device#467, platform#468 AS platform_#507, currency#469, sales_id#470, product_id#471, exchange_id#472, product_name#473, product_type#474, category#475, sub_category#476, event_type#477, event_name#478, tags#479, part#480, tier#481, price#482, start_time#483, end_time#484, catalog_version#485, update_time#486]\n                  :                 :                             :              +- Relation[device#467,platform#468,currency#469,sales_id#470,product_id#471,exchange_id#472,product_name#473,product_type#474,category#475,sub_category#476,event_type#477,event_name#478,tags#479,part#480,tier#481,price#482,start_time#483,end_time#484,catalog_version#485,update_time#486] JDBCRelation(meta_vc_sales_items) [numPartitions=1]\n                  :                 :                             +- SubqueryAlias `meta_duplicate_count`\n                  :                 :                                +- Aggregate [product_id_#649, platform_#651], [product_id_#649, platform_#651, count(1) AS duplications#645L]\n                  :                 :                                   +- Filter (currency#469 = gcoin)\n                  :                 :                                      +- Project [device#467, platform_#651, currency#469, sales_id#470, product_id_#649, exchange_id#472, product_name#473, product_type#474, category#475, sub_category#476, event_type#477, event_name#478, tags#479, part#480, tier#481, price#482 AS price_#549, start_time#483, end_time#484, catalog_version#485, update_time#486]\n                  :                 :                                         +- Project [device#467, platform_#651, currency#469, sales_id#470, product_id#471 AS product_id_#649, exchange_id#472, product_name#473, product_type#474, category#475, sub_category#476, event_type#477, event_name#478, tags#479, part#480, tier#481, price#482, start_time#483, end_time#484, catalog_version#485, update_time#486]\n                  :                 :                                            +- Project [device#467, platform#468 AS platform_#651, currency#469, sales_id#470, product_id#471, exchange_id#472, product_name#473, product_type#474, category#475, sub_category#476, event_type#477, event_name#478, tags#479, part#480, tier#481, price#482, start_time#483, end_time#484, catalog_version#485, update_time#486]\n                  :                 :                                               +- Relation[device#467,platform#468,currency#469,sales_id#470,product_id#471,exchange_id#472,product_name#473,product_type#474,category#475,sub_category#476,event_type#477,event_name#478,tags#479,part#480,tier#481,price#482,start_time#483,end_time#484,catalog_version#485,update_time#486] JDBCRelation(meta_vc_sales_items) [numPartitions=1]\n                  :                 +- Project [account_id#1013, pubg_region#874]\n                  :                    +- Project [date#884, country_os#885, country_ip#886, daily_country_os#887, daily_country_ip#888, platform#889, server_type#890, device#891, usertype#892, accountid#893 AS account_id#1013, netid#894, firstlogindate#895, lastlogindate#896, total_logincount#897, recent_continous_login#898, days_since_lastlogin#899, total_play#900, country_new#919, country_name#870, country_code_iso2#871, continent#872, business_region#873, pubg_region#874, server#875, pubg_region2#876]\n                  :                       +- Join LeftOuter, (country_new#919 = country_code_iso2#871)\n                  :                          :- Project [date#884, country_os#885, country_ip#886, daily_country_os#887, daily_country_ip#888, platform#889, server_type#890, device#891, usertype#892, accountid#893, netid#894, firstlogindate#895, lastlogindate#896, total_logincount#897, recent_continous_login#898, days_since_lastlogin#899, total_play#900, classify_country(country_os#885, country_ip#886) AS country_new#919]\n                  :                          :  +- Relation[date#884,country_os#885,country_ip#886,daily_country_os#887,daily_country_ip#888,platform#889,server_type#890,device#891,usertype#892,accountid#893,netid#894,firstlogindate#895,lastlogindate#896,total_logincount#897,recent_continous_login#898,days_since_lastlogin#899,total_play#900] parquet\n                  :                          +- Relation[country_name#870,country_code_iso2#871,continent#872,business_region#873,pubg_region#874,server#875,pubg_region2#876] JDBCRelation(meta_bi_regions) [numPartitions=1]\n                  +- Project [AccountId#1147, amount#2252L, action#2255]\n                     +- Project [AccountId#1147, amount#2252L, bp_workshop AS action#2255]\n                        +- Aggregate [AccountId#1147], [AccountId#1147, count(1) AS amount#2252L]\n                           +- Project [AccountId#1147, date#1086, Amount#1148L, AnalyticEventName#1149, AnalyticEventType#1150, Currency#1151, IsOption#1152, ItemId#1153, LocalPrice#1154L, OptionSalesIds#1155, PlatformProvider#1156, ProductId#1157, Remain#1158L, SalesId#1159, Time#1160, TransactionId#1161, Type#1162, date#884, country_os#885, country_ip#886, daily_country_os#887, daily_country_ip#888, platform#889, server_type#890, ... 17 more fields]\n                              +- Join Inner, (AccountId#1147 = AccountId#1865)\n                                 :- Filter (Currency#1151 LIKE %bp% && (AnalyticEventType#1150 = workshop))\n                                 :  +- Project [date#1086, props#1142.AccountId AS AccountId#1147, props#1142.Amount AS Amount#1148L, props#1142.AnalyticEventName AS AnalyticEventName#1149, props#1142.AnalyticEventType AS AnalyticEventType#1150, props#1142.Currency AS Currency#1151, props#1142.IsOption AS IsOption#1152, props#1142.ItemId AS ItemId#1153, props#1142.LocalPrice AS LocalPrice#1154L, props#1142.OptionSalesIds AS OptionSalesIds#1155, props#1142.PlatformProvider AS PlatformProvider#1156, props#1142.ProductId AS ProductId#1157, props#1142.Remain AS Remain#1158L, props#1142.SalesId AS SalesId#1159, props#1142.Time AS Time#1160, props#1142.TransactionId AS TransactionId#1161, props#1142.Type AS Type#1162]\n                                 :     +- Project [_value#1077, _original_file#1078, date#1086, jsontostructs(StructField(AccountId,StringType,true), StructField(Amount,LongType,true), StructField(AnalyticEventName,StringType,true), StructField(AnalyticEventType,StringType,true), StructField(Currency,StringType,true), StructField(IsOption,BooleanType,true), StructField(ItemId,StringType,true), StructField(LocalPrice,LongType,true), StructField(OptionSalesIds,ArrayType(StringType,true),true), StructField(PlatformProvider,StringType,true), StructField(ProductId,StringType,true), StructField(Remain,LongType,true), StructField(SalesId,StringType,true), StructField(Time,StringType,true), StructField(TransactionId,StringType,true), StructField(Type,StringType,true), _value#1077, Some(GMT)) AS props#1142]\n                                 :        +- Project [_value#1077, _original_file#1078, date#1086]\n                                 :           +- Project [_value#1077, _original_file#1078, file_name#1081, get_date_from_path(file_name#1081) AS date#1086]\n                                 :              +- Project [_value#1077, _original_file#1078, input_file_name() AS file_name#1081]\n                                 :                 +- Relation[_value#1077,_original_file#1078] parquet\n                                 +- Project [date#884, country_os#885, country_ip#886, daily_country_os#887, daily_country_ip#888, platform#889, server_type#890, device#891, usertype#892, account_id#1013 AS AccountId#1865, netid#894, firstlogindate#895, lastlogindate#896, total_logincount#897, recent_continous_login#898, days_since_lastlogin#899, total_play#900, country_new#919, country_name#870, country_code_iso2#871, continent#872, business_region#873, pubg_region#874, server#875, pubg_region2#876]\n                                    +- Project [date#884, country_os#885, country_ip#886, daily_country_os#887, daily_country_ip#888, platform#889, server_type#890, device#891, usertype#892, accountid#893 AS account_id#1013, netid#894, firstlogindate#895, lastlogindate#896, total_logincount#897, recent_continous_login#898, days_since_lastlogin#899, total_play#900, country_new#919, country_name#870, country_code_iso2#871, continent#872, business_region#873, pubg_region#874, server#875, pubg_region2#876]\n                                       +- Join LeftOuter, (country_new#919 = country_code_iso2#871)\n                                          :- Project [date#884, country_os#885, country_ip#886, daily_country_os#887, daily_country_ip#888, platform#889, server_type#890, device#891, usertype#892, accountid#893, netid#894, firstlogindate#895, lastlogindate#896, total_logincount#897, recent_continous_login#898, days_since_lastlogin#899, total_play#900, classify_country(country_os#885, country_ip#886) AS country_new#919]\n                                          :  +- Relation[date#884,country_os#885,country_ip#886,daily_country_os#887,daily_country_ip#888,platform#889,server_type#890,device#891,usertype#892,accountid#893,netid#894,firstlogindate#895,lastlogindate#896,total_logincount#897,recent_continous_login#898,days_since_lastlogin#899,total_play#900] parquet\n                                          +- Relation[country_name#870,country_code_iso2#871,continent#872,business_region#873,pubg_region#874,server#875,pubg_region2#876] JDBCRelation(meta_bi_regions) [numPartitions=1]\n\n\tat org.apache.spark.sql.catalyst.analysis.package$AnalysisErrorAt.failAnalysis(package.scala:42)\n\tat org.apache.spark.sql.catalyst.analysis.CheckAnalysis$$anonfun$checkAnalysis$1$$anonfun$apply$3.applyOrElse(CheckAnalysis.scala:110)\n\tat org.apache.spark.sql.catalyst.analysis.CheckAnalysis$$anonfun$checkAnalysis$1$$anonfun$apply$3.applyOrElse(CheckAnalysis.scala:107)\n\tat org.apache.spark.sql.catalyst.trees.TreeNode$$anonfun$transformUp$1.apply(TreeNode.scala:278)\n\tat org.apache.spark.sql.catalyst.trees.TreeNode$$anonfun$transformUp$1.apply(TreeNode.scala:278)\n\tat org.apache.spark.sql.catalyst.trees.CurrentOrigin$.withOrigin(TreeNode.scala:70)\n\tat org.apache.spark.sql.catalyst.trees.TreeNode.transformUp(TreeNode.scala:277)\n\tat org.apache.spark.sql.catalyst.plans.QueryPlan$$anonfun$transformExpressionsUp$1.apply(QueryPlan.scala:93)\n\tat org.apache.spark.sql.catalyst.plans.QueryPlan$$anonfun$transformExpressionsUp$1.apply(QueryPlan.scala:93)\n\tat org.apache.spark.sql.catalyst.plans.QueryPlan$$anonfun$1.apply(QueryPlan.scala:105)\n\tat org.apache.spark.sql.catalyst.plans.QueryPlan$$anonfun$1.apply(QueryPlan.scala:105)\n\tat org.apache.spark.sql.catalyst.trees.CurrentOrigin$.withOrigin(TreeNode.scala:70)\n\tat org.apache.spark.sql.catalyst.plans.QueryPlan.transformExpression$1(QueryPlan.scala:104)\n\tat org.apache.spark.sql.catalyst.plans.QueryPlan.org$apache$spark$sql$catalyst$plans$QueryPlan$$recursiveTransform$1(QueryPlan.scala:116)\n\tat org.apache.spark.sql.catalyst.plans.QueryPlan$$anonfun$org$apache$spark$sql$catalyst$plans$QueryPlan$$recursiveTransform$1$2.apply(QueryPlan.scala:121)\n\tat scala.collection.TraversableLike$$anonfun$map$1.apply(TraversableLike.scala:234)\n\tat scala.collection.TraversableLike$$anonfun$map$1.apply(TraversableLike.scala:234)\n\tat scala.collection.mutable.ResizableArray$class.foreach(ResizableArray.scala:59)\n\tat scala.collection.mutable.ArrayBuffer.foreach(ArrayBuffer.scala:48)\n\tat scala.collection.TraversableLike$class.map(TraversableLike.scala:234)\n\tat scala.collection.AbstractTraversable.map(Traversable.scala:104)\n\tat org.apache.spark.sql.catalyst.plans.QueryPlan.org$apache$spark$sql$catalyst$plans$QueryPlan$$recursiveTransform$1(QueryPlan.scala:121)\n\tat org.apache.spark.sql.catalyst.plans.QueryPlan$$anonfun$2.apply(QueryPlan.scala:126)\n\tat org.apache.spark.sql.catalyst.trees.TreeNode.mapProductIterator(TreeNode.scala:187)\n\tat org.apache.spark.sql.catalyst.plans.QueryPlan.mapExpressions(QueryPlan.scala:126)\n\tat org.apache.spark.sql.catalyst.plans.QueryPlan.transformExpressionsUp(QueryPlan.scala:93)\n\tat org.apache.spark.sql.catalyst.analysis.CheckAnalysis$$anonfun$checkAnalysis$1.apply(CheckAnalysis.scala:107)\n\tat org.apache.spark.sql.catalyst.analysis.CheckAnalysis$$anonfun$checkAnalysis$1.apply(CheckAnalysis.scala:85)\n\tat org.apache.spark.sql.catalyst.trees.TreeNode.foreachUp(TreeNode.scala:127)\n\tat org.apache.spark.sql.catalyst.analysis.CheckAnalysis$class.checkAnalysis(CheckAnalysis.scala:85)\n\tat org.apache.spark.sql.catalyst.analysis.Analyzer.checkAnalysis(Analyzer.scala:95)\n\tat org.apache.spark.sql.catalyst.analysis.Analyzer$$anonfun$executeAndCheck$1.apply(Analyzer.scala:108)\n\tat org.apache.spark.sql.catalyst.analysis.Analyzer$$anonfun$executeAndCheck$1.apply(Analyzer.scala:105)\n\tat org.apache.spark.sql.catalyst.plans.logical.AnalysisHelper$.markInAnalyzer(AnalysisHelper.scala:201)\n\tat org.apache.spark.sql.catalyst.analysis.Analyzer.executeAndCheck(Analyzer.scala:105)\n\tat org.apache.spark.sql.execution.QueryExecution.analyzed$lzycompute(QueryExecution.scala:57)\n\tat org.apache.spark.sql.execution.QueryExecution.analyzed(QueryExecution.scala:55)\n\tat org.apache.spark.sql.execution.QueryExecution.assertAnalyzed(QueryExecution.scala:47)\n\tat org.apache.spark.sql.Dataset$.ofRows(Dataset.scala:78)\n\tat org.apache.spark.sql.RelationalGroupedDataset.toDF(RelationalGroupedDataset.scala:65)\n\tat org.apache.spark.sql.RelationalGroupedDataset.agg(RelationalGroupedDataset.scala:224)\n\tat sun.reflect.GeneratedMethodAccessor88.invoke(Unknown Source)\n\tat sun.reflect.DelegatingMethodAccessorImpl.invoke(DelegatingMethodAccessorImpl.java:43)\n\tat java.lang.reflect.Method.invoke(Method.java:498)\n\tat py4j.reflection.MethodInvoker.invoke(MethodInvoker.java:244)\n\tat py4j.reflection.ReflectionEngine.invoke(ReflectionEngine.java:357)\n\tat py4j.Gateway.invoke(Gateway.java:282)\n\tat py4j.commands.AbstractCommand.invokeMethod(AbstractCommand.java:132)\n\tat py4j.commands.CallCommand.execute(CallCommand.java:79)\n\tat py4j.GatewayConnection.run(GatewayConnection.java:238)\n\tat java.lang.Thread.run(Thread.java:748)\n",
      "\nDuring handling of the above exception, another exception occurred:\n",
      "\u001b[0;31mAnalysisException\u001b[0m                         Traceback (most recent call last)",
      "\u001b[0;32m<ipython-input-203-43b00eb1acd4>\u001b[0m in \u001b[0;36m<module>\u001b[0;34m\u001b[0m\n\u001b[0;32m----> 1\u001b[0;31m \u001b[0mno_workshop_user_gcoin\u001b[0m\u001b[0;34m.\u001b[0m\u001b[0mgroupBy\u001b[0m\u001b[0;34m(\u001b[0m\u001b[0;34m\"event_name\"\u001b[0m\u001b[0;34m,\u001b[0m \u001b[0;34m\"event_type\"\u001b[0m\u001b[0;34m)\u001b[0m\u001b[0;34m.\u001b[0m\u001b[0magg\u001b[0m\u001b[0;34m(\u001b[0m\u001b[0mcountDistinct\u001b[0m\u001b[0;34m(\u001b[0m\u001b[0;34m\"account_id\"\u001b[0m\u001b[0;34m)\u001b[0m\u001b[0;34m.\u001b[0m\u001b[0malias\u001b[0m\u001b[0;34m(\u001b[0m\u001b[0;34m\"pu\"\u001b[0m\u001b[0;34m)\u001b[0m\u001b[0;34m,\u001b[0m \u001b[0msum\u001b[0m\u001b[0;34m(\u001b[0m\u001b[0;34m\"paid_use\"\u001b[0m\u001b[0;34m)\u001b[0m\u001b[0;34m.\u001b[0m\u001b[0malias\u001b[0m\u001b[0;34m(\u001b[0m\u001b[0;34m\"paid_use\"\u001b[0m\u001b[0;34m)\u001b[0m\u001b[0;34m,\u001b[0m \u001b[0msum\u001b[0m\u001b[0;34m(\u001b[0m\u001b[0;34m\"free_use\"\u001b[0m\u001b[0;34m)\u001b[0m\u001b[0;34m.\u001b[0m\u001b[0malias\u001b[0m\u001b[0;34m(\u001b[0m\u001b[0;34m\"free_use\"\u001b[0m\u001b[0;34m)\u001b[0m\u001b[0;34m)\u001b[0m\u001b[0;34m.\u001b[0m\u001b[0morderBy\u001b[0m\u001b[0;34m(\u001b[0m\u001b[0;34m\"pu\"\u001b[0m\u001b[0;34m,\u001b[0m \u001b[0mascending\u001b[0m\u001b[0;34m=\u001b[0m\u001b[0;32mFalse\u001b[0m\u001b[0;34m)\u001b[0m\u001b[0;34m.\u001b[0m\u001b[0mtoPandas\u001b[0m\u001b[0;34m(\u001b[0m\u001b[0;34m)\u001b[0m\u001b[0;34m\u001b[0m\u001b[0;34m\u001b[0m\u001b[0m\n\u001b[0m",
      "\u001b[0;32m/usr/local/spark/python/pyspark/sql/group.py\u001b[0m in \u001b[0;36magg\u001b[0;34m(self, *exprs)\u001b[0m\n\u001b[1;32m    113\u001b[0m             \u001b[0;32massert\u001b[0m \u001b[0mall\u001b[0m\u001b[0;34m(\u001b[0m\u001b[0misinstance\u001b[0m\u001b[0;34m(\u001b[0m\u001b[0mc\u001b[0m\u001b[0;34m,\u001b[0m \u001b[0mColumn\u001b[0m\u001b[0;34m)\u001b[0m \u001b[0;32mfor\u001b[0m \u001b[0mc\u001b[0m \u001b[0;32min\u001b[0m \u001b[0mexprs\u001b[0m\u001b[0;34m)\u001b[0m\u001b[0;34m,\u001b[0m \u001b[0;34m\"all exprs should be Column\"\u001b[0m\u001b[0;34m\u001b[0m\u001b[0;34m\u001b[0m\u001b[0m\n\u001b[1;32m    114\u001b[0m             jdf = self._jgd.agg(exprs[0]._jc,\n\u001b[0;32m--> 115\u001b[0;31m                                 _to_seq(self.sql_ctx._sc, [c._jc for c in exprs[1:]]))\n\u001b[0m\u001b[1;32m    116\u001b[0m         \u001b[0;32mreturn\u001b[0m \u001b[0mDataFrame\u001b[0m\u001b[0;34m(\u001b[0m\u001b[0mjdf\u001b[0m\u001b[0;34m,\u001b[0m \u001b[0mself\u001b[0m\u001b[0;34m.\u001b[0m\u001b[0msql_ctx\u001b[0m\u001b[0;34m)\u001b[0m\u001b[0;34m\u001b[0m\u001b[0;34m\u001b[0m\u001b[0m\n\u001b[1;32m    117\u001b[0m \u001b[0;34m\u001b[0m\u001b[0m\n",
      "\u001b[0;32m/usr/local/spark/python/lib/py4j-0.10.7-src.zip/py4j/java_gateway.py\u001b[0m in \u001b[0;36m__call__\u001b[0;34m(self, *args)\u001b[0m\n\u001b[1;32m   1255\u001b[0m         \u001b[0manswer\u001b[0m \u001b[0;34m=\u001b[0m \u001b[0mself\u001b[0m\u001b[0;34m.\u001b[0m\u001b[0mgateway_client\u001b[0m\u001b[0;34m.\u001b[0m\u001b[0msend_command\u001b[0m\u001b[0;34m(\u001b[0m\u001b[0mcommand\u001b[0m\u001b[0;34m)\u001b[0m\u001b[0;34m\u001b[0m\u001b[0;34m\u001b[0m\u001b[0m\n\u001b[1;32m   1256\u001b[0m         return_value = get_return_value(\n\u001b[0;32m-> 1257\u001b[0;31m             answer, self.gateway_client, self.target_id, self.name)\n\u001b[0m\u001b[1;32m   1258\u001b[0m \u001b[0;34m\u001b[0m\u001b[0m\n\u001b[1;32m   1259\u001b[0m         \u001b[0;32mfor\u001b[0m \u001b[0mtemp_arg\u001b[0m \u001b[0;32min\u001b[0m \u001b[0mtemp_args\u001b[0m\u001b[0;34m:\u001b[0m\u001b[0;34m\u001b[0m\u001b[0;34m\u001b[0m\u001b[0m\n",
      "\u001b[0;32m/usr/local/spark/python/pyspark/sql/utils.py\u001b[0m in \u001b[0;36mdeco\u001b[0;34m(*a, **kw)\u001b[0m\n\u001b[1;32m     67\u001b[0m                                              e.java_exception.getStackTrace()))\n\u001b[1;32m     68\u001b[0m             \u001b[0;32mif\u001b[0m \u001b[0ms\u001b[0m\u001b[0;34m.\u001b[0m\u001b[0mstartswith\u001b[0m\u001b[0;34m(\u001b[0m\u001b[0;34m'org.apache.spark.sql.AnalysisException: '\u001b[0m\u001b[0;34m)\u001b[0m\u001b[0;34m:\u001b[0m\u001b[0;34m\u001b[0m\u001b[0;34m\u001b[0m\u001b[0m\n\u001b[0;32m---> 69\u001b[0;31m                 \u001b[0;32mraise\u001b[0m \u001b[0mAnalysisException\u001b[0m\u001b[0;34m(\u001b[0m\u001b[0ms\u001b[0m\u001b[0;34m.\u001b[0m\u001b[0msplit\u001b[0m\u001b[0;34m(\u001b[0m\u001b[0;34m': '\u001b[0m\u001b[0;34m,\u001b[0m \u001b[0;36m1\u001b[0m\u001b[0;34m)\u001b[0m\u001b[0;34m[\u001b[0m\u001b[0;36m1\u001b[0m\u001b[0;34m]\u001b[0m\u001b[0;34m,\u001b[0m \u001b[0mstackTrace\u001b[0m\u001b[0;34m)\u001b[0m\u001b[0;34m\u001b[0m\u001b[0;34m\u001b[0m\u001b[0m\n\u001b[0m\u001b[1;32m     70\u001b[0m             \u001b[0;32mif\u001b[0m \u001b[0ms\u001b[0m\u001b[0;34m.\u001b[0m\u001b[0mstartswith\u001b[0m\u001b[0;34m(\u001b[0m\u001b[0;34m'org.apache.spark.sql.catalyst.analysis'\u001b[0m\u001b[0;34m)\u001b[0m\u001b[0;34m:\u001b[0m\u001b[0;34m\u001b[0m\u001b[0;34m\u001b[0m\u001b[0m\n\u001b[1;32m     71\u001b[0m                 \u001b[0;32mraise\u001b[0m \u001b[0mAnalysisException\u001b[0m\u001b[0;34m(\u001b[0m\u001b[0ms\u001b[0m\u001b[0;34m.\u001b[0m\u001b[0msplit\u001b[0m\u001b[0;34m(\u001b[0m\u001b[0;34m': '\u001b[0m\u001b[0;34m,\u001b[0m \u001b[0;36m1\u001b[0m\u001b[0;34m)\u001b[0m\u001b[0;34m[\u001b[0m\u001b[0;36m1\u001b[0m\u001b[0;34m]\u001b[0m\u001b[0;34m,\u001b[0m \u001b[0mstackTrace\u001b[0m\u001b[0;34m)\u001b[0m\u001b[0;34m\u001b[0m\u001b[0;34m\u001b[0m\u001b[0m\n",
      "\u001b[0;31mAnalysisException\u001b[0m: \"cannot resolve '`event_name`' given input columns: [account_id, type, cnt];;\\n'Aggregate ['event_name, 'event_type], ['event_name, 'event_type, count(distinct account_id#2) AS pu#4133L, sum('paid_use) AS paid_use#4135, sum('free_use) AS free_use#4137]\\n+- Project [account_id#2, type#3972, cnt#4045L]\\n   +- Join LeftAnti, (account_id#2 = account_id#4124)\\n      :- Aggregate [account_id#2, type#3972], [account_id#2, type#3972, count(1) AS cnt#4045L]\\n      :  +- Project [date#0, platform#1, account_id#2, product_id#3, free_use#5L, free_balance#6L, paid_use#7L, paid_balance#8L, price#9L, qty#10L, reason#11, time#12, transaction_id#13, gcoin_by_expiry#14, CASE WHEN NOT event_type#42 IN (workshop,wsus,survivorpass) THEN other ELSE event_type#42 END AS type#3972, is_salesid_exist#135, sales_id_#153, device#32, currency#34, sales_id#35, exchange_id#37, product_name#38, product_type#39, category#40, ... 11 more fields]\\n      :     +- Project [date#0, platform#1, account_id#2, product_id#3, free_use#5L, free_balance#6L, paid_use#7L, paid_balance#8L, price#9L, qty#10L, reason#11, time#12, transaction_id#13, gcoin_by_expiry#14, type#15, is_salesid_exist#135, sales_id_#153, device#32, currency#34, sales_id#35, exchange_id#37, product_name#38, product_type#39, category#40, ... 11 more fields]\\n      :        +- Join LeftOuter, (((is_salesid_exist#135 = 1) && ((platform#1 = platform_#72) && (sales_id_#153 = sales_id#35))) || ((((is_salesid_exist#135 = 0) && (platform#1 = platform_#72)) && (product_id#3 = product_id_#93)) && ((((time#12 >= start_time#48) && (time#12 < next_start_time#259)) && (duplications#210L >= cast(2 as bigint))) || (duplications#210L = cast(1 as bigint)))))\\n      :           :- Project [date#0, platform#1, account_id#2, product_id#3, free_use#5L, free_balance#6L, paid_use#7L, paid_balance#8L, price#9L, qty#10L, reason#11, time#12, transaction_id#13, gcoin_by_expiry#14, type#15, is_salesid_exist#135, sales_id_#153]\\n      :           :  +- Project [date#0, platform#1, account_id#2, product_id#3, sales_id#4, free_use#5L, free_balance#6L, paid_use#7L, paid_balance#8L, price#9L, qty#10L, reason#11, time#12, transaction_id#13, gcoin_by_expiry#14, type#15, is_salesid_exist#135, CASE WHEN StartsWith(sales_id#4, salesitemdesc) THEN split(sales_id#4, desc.)[1] ELSE sales_id#4 END AS sales_id_#153]\\n      :           :     +- Project [date#0, platform#1, account_id#2, product_id#3, sales_id#4, free_use#5L, free_balance#6L, paid_use#7L, paid_balance#8L, price#9L, qty#10L, reason#11, time#12, transaction_id#13, gcoin_by_expiry#14, type#15, CASE WHEN isnull(sales_id#4) THEN 0 ELSE 1 END AS is_salesid_exist#135]\\n      :           :        +- Relation[date#0,platform#1,account_id#2,product_id#3,sales_id#4,free_use#5L,free_balance#6L,paid_use#7L,paid_balance#8L,price#9L,qty#10L,reason#11,time#12,transaction_id#13,gcoin_by_expiry#14,type#15] parquet\\n      :           +- Project [product_id_#93, platform_#72, device#32, currency#34, sales_id#35, exchange_id#37, product_name#38, product_type#39, category#40, sub_category#41, event_type#42, event_name#43, tags#44, part#45, tier#46, price_#114, start_time#48, end_time#49, catalog_version#50, update_time#51, duplications#210L, next_start_time#259]\\n      :              +- Project [product_id_#93, platform_#72, device#32, currency#34, sales_id#35, exchange_id#37, product_name#38, product_type#39, category#40, sub_category#41, event_type#42, event_name#43, tags#44, part#45, tier#46, price_#114, start_time#48, end_time#49, catalog_version#50, update_time#51, duplications#210L, _we0#260, coalesce(_we0#260, 2038-01-19 00:00:00) AS next_start_time#259]\\n      :                 +- Window [lead(start_time#48, 1, null) windowspecdefinition(platform_#72, product_id_#93, start_time#48 ASC NULLS FIRST, specifiedwindowframe(RowFrame, 1, 1)) AS _we0#260], [platform_#72, product_id_#93], [start_time#48 ASC NULLS FIRST]\\n      :                    +- Project [product_id_#93, platform_#72, device#32, currency#34, sales_id#35, exchange_id#37, product_name#38, product_type#39, category#40, sub_category#41, event_type#42, event_name#43, tags#44, part#45, tier#46, price_#114, start_time#48, end_time#49, catalog_version#50, update_time#51, duplications#210L]\\n      :                       +- Project [product_id_#93, platform_#72, device#32, currency#34, sales_id#35, exchange_id#37, product_name#38, product_type#39, category#40, sub_category#41, event_type#42, event_name#43, tags#44, part#45, tier#46, price_#114, start_time#48, end_time#49, catalog_version#50, update_time#51, duplications#210L]\\n      :                          +- Project [product_id_#93, platform_#72, device#32, currency#34, sales_id#35, exchange_id#37, product_name#38, product_type#39, category#40, sub_category#41, event_type#42, event_name#43, tags#44, part#45, tier#46, price_#114, start_time#48, end_time#49, catalog_version#50, update_time#51, duplications#210L]\\n      :                             +- Join LeftOuter, ((product_id_#93 = product_id_#214) && (platform_#72 = platform_#216))\\n      :                                :- SubqueryAlias `meta_raw`\\n      :                                :  +- Filter (currency#34 = gcoin)\\n      :                                :     +- Project [device#32, platform_#72, currency#34, sales_id#35, product_id_#93, exchange_id#37, product_name#38, product_type#39, category#40, sub_category#41, event_type#42, event_name#43, tags#44, part#45, tier#46, price#47 AS price_#114, start_time#48, end_time#49, catalog_version#50, update_time#51]\\n      :                                :        +- Project [device#32, platform_#72, currency#34, sales_id#35, product_id#36 AS product_id_#93, exchange_id#37, product_name#38, product_type#39, category#40, sub_category#41, event_type#42, event_name#43, tags#44, part#45, tier#46, price#47, start_time#48, end_time#49, catalog_version#50, update_time#51]\\n      :                                :           +- Project [device#32, platform#33 AS platform_#72, currency#34, sales_id#35, product_id#36, exchange_id#37, product_name#38, product_type#39, category#40, sub_category#41, event_type#42, event_name#43, tags#44, part#45, tier#46, price#47, start_time#48, end_time#49, catalog_version#50, update_time#51]\\n      :                                :              +- Relation[device#32,platform#33,currency#34,sales_id#35,product_id#36,exchange_id#37,product_name#38,product_type#39,category#40,sub_category#41,event_type#42,event_name#43,tags#44,part#45,tier#46,price#47,start_time#48,end_time#49,catalog_version#50,update_time#51] JDBCRelation(meta_vc_sales_items) [numPartitions=1]\\n      :                                +- SubqueryAlias `meta_duplicate_count`\\n      :                                   +- Aggregate [product_id_#214, platform_#216], [product_id_#214, platform_#216, count(1) AS duplications#210L]\\n      :                                      +- Filter (currency#34 = gcoin)\\n      :                                         +- Project [device#32, platform_#216, currency#34, sales_id#35, product_id_#214, exchange_id#37, product_name#38, product_type#39, category#40, sub_category#41, event_type#42, event_name#43, tags#44, part#45, tier#46, price#47 AS price_#114, start_time#48, end_time#49, catalog_version#50, update_time#51]\\n      :                                            +- Project [device#32, platform_#216, currency#34, sales_id#35, product_id#36 AS product_id_#214, exchange_id#37, product_name#38, product_type#39, category#40, sub_category#41, event_type#42, event_name#43, tags#44, part#45, tier#46, price#47, start_time#48, end_time#49, catalog_version#50, update_time#51]\\n      :                                               +- Project [device#32, platform#33 AS platform_#216, currency#34, sales_id#35, product_id#36, exchange_id#37, product_name#38, product_type#39, category#40, sub_category#41, event_type#42, event_name#43, tags#44, part#45, tier#46, price#47, start_time#48, end_time#49, catalog_version#50, update_time#51]\\n      :                                                  +- Relation[device#32,platform#33,currency#34,sales_id#35,product_id#36,exchange_id#37,product_name#38,product_type#39,category#40,sub_category#41,event_type#42,event_name#43,tags#44,part#45,tier#46,price#47,start_time#48,end_time#49,catalog_version#50,update_time#51] JDBCRelation(meta_vc_sales_items) [numPartitions=1]\\n      +- Project [AccountId#1238 AS account_id#4124]\\n         +- Deduplicate [AccountId#1238]\\n            +- Project [AccountId#1238]\\n               +- Union\\n                  :- Project [AccountId#1238, amount#1968L, open AS action#1971]\\n                  :  +- Aggregate [AccountId#1238], [AccountId#1238, sum(OpenAmount#1243L) AS amount#1968L]\\n                  :     +- Project [AccountId#1238, date#1189, CurrencyObtained#1239, EventName#1240, ItemDescId#1241, ItemsObtained#1242, OpenAmount#1243L, Provider#1244, Time#1245, TransactionId#1246, Type#1247, date#884, country_os#885, country_ip#886, daily_country_os#887, daily_country_ip#888, platform#889, server_type#890, device#891, usertype#892, netid#894, firstlogindate#895, lastlogindate#896, total_logincount#897, ... 11 more fields]\\n                  :        +- Join Inner, (AccountId#1238 = AccountId#1563)\\n                  :           :- Project [date#1189, props#1233.AccountId AS AccountId#1238, props#1233.CurrencyObtained AS CurrencyObtained#1239, props#1233.EventName AS EventName#1240, props#1233.ItemDescId AS ItemDescId#1241, props#1233.ItemsObtained AS ItemsObtained#1242, props#1233.OpenAmount AS OpenAmount#1243L, props#1233.Provider AS Provider#1244, props#1233.Time AS Time#1245, props#1233.TransactionId AS TransactionId#1246, props#1233.Type AS Type#1247]\\n                  :           :  +- Project [_value#1180, _original_file#1181, date#1189, jsontostructs(StructField(AccountId,StringType,true), StructField(CurrencyObtained,StructType(StructField(currencydesc.artisanstoken,LongType,true), StructField(currencydesc.credit,LongType,true)),true), StructField(EventName,StringType,true), StructField(ItemDescId,StringType,true), StructField(ItemsObtained,StringType,true), StructField(OpenAmount,LongType,true), StructField(Provider,StringType,true), StructField(Time,StringType,true), StructField(TransactionId,StringType,true), StructField(Type,StringType,true), _value#1180, Some(GMT)) AS props#1233]\\n                  :           :     +- Project [_value#1180, _original_file#1181, date#1189]\\n                  :           :        +- Project [_value#1180, _original_file#1181, file_name#1184, get_date_from_path(file_name#1184) AS date#1189]\\n                  :           :           +- Project [_value#1180, _original_file#1181, input_file_name() AS file_name#1184]\\n                  :           :              +- Relation[_value#1180,_original_file#1181] parquet\\n                  :           +- Project [date#884, country_os#885, country_ip#886, daily_country_os#887, daily_country_ip#888, platform#889, server_type#890, device#891, usertype#892, account_id#1013 AS AccountId#1563, netid#894, firstlogindate#895, lastlogindate#896, total_logincount#897, recent_continous_login#898, days_since_lastlogin#899, total_play#900, country_new#919, country_name#870, country_code_iso2#871, continent#872, business_region#873, pubg_region#874, server#875, pubg_region2#876]\\n                  :              +- Project [date#884, country_os#885, country_ip#886, daily_country_os#887, daily_country_ip#888, platform#889, server_type#890, device#891, usertype#892, accountid#893 AS account_id#1013, netid#894, firstlogindate#895, lastlogindate#896, total_logincount#897, recent_continous_login#898, days_since_lastlogin#899, total_play#900, country_new#919, country_name#870, country_code_iso2#871, continent#872, business_region#873, pubg_region#874, server#875, pubg_region2#876]\\n                  :                 +- Join LeftOuter, (country_new#919 = country_code_iso2#871)\\n                  :                    :- Project [date#884, country_os#885, country_ip#886, daily_country_os#887, daily_country_ip#888, platform#889, server_type#890, device#891, usertype#892, accountid#893, netid#894, firstlogindate#895, lastlogindate#896, total_logincount#897, recent_continous_login#898, days_since_lastlogin#899, total_play#900, classify_country(country_os#885, country_ip#886) AS country_new#919]\\n                  :                    :  +- Relation[date#884,country_os#885,country_ip#886,daily_country_os#887,daily_country_ip#888,platform#889,server_type#890,device#891,usertype#892,accountid#893,netid#894,firstlogindate#895,lastlogindate#896,total_logincount#897,recent_continous_login#898,days_since_lastlogin#899,total_play#900] parquet\\n                  :                    +- Relation[country_name#870,country_code_iso2#871,continent#872,business_region#873,pubg_region#874,server#875,pubg_region2#876] JDBCRelation(meta_bi_regions) [numPartitions=1]\\n                  :- Project [AccountId#1311, amount#2009L, action#2012]\\n                  :  +- Project [AccountId#1311, amount#2009L, craft AS action#2012]\\n                  :     +- Aggregate [AccountId#1311], [AccountId#1311, count(1) AS amount#2009L]\\n                  :        +- Project [AccountId#1311, date#1268, CreditAmounts#1312L, ItemDescId#1313, ItemsObtained#1314, Time#1315, TransactionId#1316, Type#1317, date#884, country_os#885, country_ip#886, daily_country_os#887, daily_country_ip#888, platform#889, server_type#890, device#891, usertype#892, netid#894, firstlogindate#895, lastlogindate#896, total_logincount#897, recent_continous_login#898, days_since_lastlogin#899, total_play#900, ... 8 more fields]\\n                  :           +- Join Inner, (AccountId#1311 = AccountId#1624)\\n                  :              :- Project [date#1268, props#1306.AccountId AS AccountId#1311, props#1306.CreditAmounts AS CreditAmounts#1312L, props#1306.ItemDescId AS ItemDescId#1313, props#1306.ItemsObtained AS ItemsObtained#1314, props#1306.Time AS Time#1315, props#1306.TransactionId AS TransactionId#1316, props#1306.Type AS Type#1317]\\n                  :              :  +- Project [_value#1259, _original_file#1260, date#1268, jsontostructs(StructField(AccountId,StringType,true), StructField(CreditAmounts,LongType,true), StructField(ItemDescId,StringType,true), StructField(ItemsObtained,StringType,true), StructField(Time,StringType,true), StructField(TransactionId,StringType,true), StructField(Type,StringType,true), _value#1259, Some(GMT)) AS props#1306]\\n                  :              :     +- Project [_value#1259, _original_file#1260, date#1268]\\n                  :              :        +- Project [_value#1259, _original_file#1260, file_name#1263, get_date_from_path(file_name#1263) AS date#1268]\\n                  :              :           +- Project [_value#1259, _original_file#1260, input_file_name() AS file_name#1263]\\n                  :              :              +- Relation[_value#1259,_original_file#1260] parquet\\n                  :              +- Project [date#884, country_os#885, country_ip#886, daily_country_os#887, daily_country_ip#888, platform#889, server_type#890, device#891, usertype#892, account_id#1013 AS AccountId#1624, netid#894, firstlogindate#895, lastlogindate#896, total_logincount#897, recent_continous_login#898, days_since_lastlogin#899, total_play#900, country_new#919, country_name#870, country_code_iso2#871, continent#872, business_region#873, pubg_region#874, server#875, pubg_region2#876]\\n                  :                 +- Project [date#884, country_os#885, country_ip#886, daily_country_os#887, daily_country_ip#888, platform#889, server_type#890, device#891, usertype#892, accountid#893 AS account_id#1013, netid#894, firstlogindate#895, lastlogindate#896, total_logincount#897, recent_continous_login#898, days_since_lastlogin#899, total_play#900, country_new#919, country_name#870, country_code_iso2#871, continent#872, business_region#873, pubg_region#874, server#875, pubg_region2#876]\\n                  :                    +- Join LeftOuter, (country_new#919 = country_code_iso2#871)\\n                  :                       :- Project [date#884, country_os#885, country_ip#886, daily_country_os#887, daily_country_ip#888, platform#889, server_type#890, device#891, usertype#892, accountid#893, netid#894, firstlogindate#895, lastlogindate#896, total_logincount#897, recent_continous_login#898, days_since_lastlogin#899, total_play#900, classify_country(country_os#885, country_ip#886) AS country_new#919]\\n                  :                       :  +- Relation[date#884,country_os#885,country_ip#886,daily_country_os#887,daily_country_ip#888,platform#889,server_type#890,device#891,usertype#892,accountid#893,netid#894,firstlogindate#895,lastlogindate#896,total_logincount#897,recent_continous_login#898,days_since_lastlogin#899,total_play#900] parquet\\n                  :                       +- Relation[country_name#870,country_code_iso2#871,continent#872,business_region#873,pubg_region#874,server#875,pubg_region2#876] JDBCRelation(meta_bi_regions) [numPartitions=1]\\n                  :- Project [AccountId#1376, amount#2052L, action#2055]\\n                  :  +- Project [AccountId#1376, amount#2052L, disassemble AS action#2055]\\n                  :     +- Aggregate [AccountId#1376], [AccountId#1376, count(1) AS amount#2052L]\\n                  :        +- Project [AccountId#1376, date#1335, CreditObtained#1377L, DisassembledItems#1378, Time#1379, TransactionId#1380, Type#1381, date#884, country_os#885, country_ip#886, daily_country_os#887, daily_country_ip#888, platform#889, server_type#890, device#891, usertype#892, netid#894, firstlogindate#895, lastlogindate#896, total_logincount#897, recent_continous_login#898, days_since_lastlogin#899, total_play#900, country_new#919, ... 7 more fields]\\n                  :           +- Join Inner, (AccountId#1376 = AccountId#1682)\\n                  :              :- Project [date#1335, props#1371.AccountId AS AccountId#1376, props#1371.CreditObtained AS CreditObtained#1377L, props#1371.DisassembledItems AS DisassembledItems#1378, props#1371.Time AS Time#1379, props#1371.TransactionId AS TransactionId#1380, props#1371.Type AS Type#1381]\\n                  :              :  +- Project [_value#1326, _original_file#1327, date#1335, jsontostructs(StructField(AccountId,StringType,true), StructField(CreditObtained,LongType,true), StructField(DisassembledItems,StringType,true), StructField(Time,StringType,true), StructField(TransactionId,StringType,true), StructField(Type,StringType,true), _value#1326, Some(GMT)) AS props#1371]\\n                  :              :     +- Project [_value#1326, _original_file#1327, date#1335]\\n                  :              :        +- Project [_value#1326, _original_file#1327, file_name#1330, get_date_from_path(file_name#1330) AS date#1335]\\n                  :              :           +- Project [_value#1326, _original_file#1327, input_file_name() AS file_name#1330]\\n                  :              :              +- Relation[_value#1326,_original_file#1327] parquet\\n                  :              +- Project [date#884, country_os#885, country_ip#886, daily_country_os#887, daily_country_ip#888, platform#889, server_type#890, device#891, usertype#892, account_id#1013 AS AccountId#1682, netid#894, firstlogindate#895, lastlogindate#896, total_logincount#897, recent_continous_login#898, days_since_lastlogin#899, total_play#900, country_new#919, country_name#870, country_code_iso2#871, continent#872, business_region#873, pubg_region#874, server#875, pubg_region2#876]\\n                  :                 +- Project [date#884, country_os#885, country_ip#886, daily_country_os#887, daily_country_ip#888, platform#889, server_type#890, device#891, usertype#892, accountid#893 AS account_id#1013, netid#894, firstlogindate#895, lastlogindate#896, total_logincount#897, recent_continous_login#898, days_since_lastlogin#899, total_play#900, country_new#919, country_name#870, country_code_iso2#871, continent#872, business_region#873, pubg_region#874, server#875, pubg_region2#876]\\n                  :                    +- Join LeftOuter, (country_new#919 = country_code_iso2#871)\\n                  :                       :- Project [date#884, country_os#885, country_ip#886, daily_country_os#887, daily_country_ip#888, platform#889, server_type#890, device#891, usertype#892, accountid#893, netid#894, firstlogindate#895, lastlogindate#896, total_logincount#897, recent_continous_login#898, days_since_lastlogin#899, total_play#900, classify_country(country_os#885, country_ip#886) AS country_new#919]\\n                  :                       :  +- Relation[date#884,country_os#885,country_ip#886,daily_country_os#887,daily_country_ip#888,platform#889,server_type#890,device#891,usertype#892,accountid#893,netid#894,firstlogindate#895,lastlogindate#896,total_logincount#897,recent_continous_login#898,days_since_lastlogin#899,total_play#900] parquet\\n                  :                       +- Relation[country_name#870,country_code_iso2#871,continent#872,business_region#873,pubg_region#874,server#875,pubg_region2#876] JDBCRelation(meta_bi_regions) [numPartitions=1]\\n                  :- Project [AccountId#1443, amount#2097L, action#2100]\\n                  :  +- Project [AccountId#1443, amount#2097L, repurpose AS action#2100]\\n                  :     +- Aggregate [AccountId#1443], [AccountId#1443, count(1) AS amount#2097L]\\n                  :        +- Project [AccountId#1443, date#1398, CreditObtained#1444L, ItemObtained#1445, RepurposedItems#1446, Tier#1447, Time#1448, TransactionId#1449, Type#1450, date#884, country_os#885, country_ip#886, daily_country_os#887, daily_country_ip#888, platform#889, server_type#890, device#891, usertype#892, netid#894, firstlogindate#895, lastlogindate#896, total_logincount#897, recent_continous_login#898, days_since_lastlogin#899, ... 9 more fields]\\n                  :           +- Join Inner, (AccountId#1443 = AccountId#1739)\\n                  :              :- Project [date#1398, props#1438.AccountId AS AccountId#1443, props#1438.CreditObtained AS CreditObtained#1444L, props#1438.ItemObtained AS ItemObtained#1445, props#1438.RepurposedItems AS RepurposedItems#1446, props#1438.Tier AS Tier#1447, props#1438.Time AS Time#1448, props#1438.TransactionId AS TransactionId#1449, props#1438.Type AS Type#1450]\\n                  :              :  +- Project [_value#1389, _original_file#1390, date#1398, jsontostructs(StructField(AccountId,StringType,true), StructField(CreditObtained,LongType,true), StructField(ItemObtained,StringType,true), StructField(RepurposedItems,StringType,true), StructField(Tier,StringType,true), StructField(Time,StringType,true), StructField(TransactionId,StringType,true), StructField(Type,StringType,true), _value#1389, Some(GMT)) AS props#1438]\\n                  :              :     +- Project [_value#1389, _original_file#1390, date#1398]\\n                  :              :        +- Project [_value#1389, _original_file#1390, file_name#1393, get_date_from_path(file_name#1393) AS date#1398]\\n                  :              :           +- Project [_value#1389, _original_file#1390, input_file_name() AS file_name#1393]\\n                  :              :              +- Relation[_value#1389,_original_file#1390] parquet\\n                  :              +- Project [date#884, country_os#885, country_ip#886, daily_country_os#887, daily_country_ip#888, platform#889, server_type#890, device#891, usertype#892, account_id#1013 AS AccountId#1739, netid#894, firstlogindate#895, lastlogindate#896, total_logincount#897, recent_continous_login#898, days_since_lastlogin#899, total_play#900, country_new#919, country_name#870, country_code_iso2#871, continent#872, business_region#873, pubg_region#874, server#875, pubg_region2#876]\\n                  :                 +- Project [date#884, country_os#885, country_ip#886, daily_country_os#887, daily_country_ip#888, platform#889, server_type#890, device#891, usertype#892, accountid#893 AS account_id#1013, netid#894, firstlogindate#895, lastlogindate#896, total_logincount#897, recent_continous_login#898, days_since_lastlogin#899, total_play#900, country_new#919, country_name#870, country_code_iso2#871, continent#872, business_region#873, pubg_region#874, server#875, pubg_region2#876]\\n                  :                    +- Join LeftOuter, (country_new#919 = country_code_iso2#871)\\n                  :                       :- Project [date#884, country_os#885, country_ip#886, daily_country_os#887, daily_country_ip#888, platform#889, server_type#890, device#891, usertype#892, accountid#893, netid#894, firstlogindate#895, lastlogindate#896, total_logincount#897, recent_continous_login#898, days_since_lastlogin#899, total_play#900, classify_country(country_os#885, country_ip#886) AS country_new#919]\\n                  :                       :  +- Relation[date#884,country_os#885,country_ip#886,daily_country_os#887,daily_country_ip#888,platform#889,server_type#890,device#891,usertype#892,accountid#893,netid#894,firstlogindate#895,lastlogindate#896,total_logincount#897,recent_continous_login#898,days_since_lastlogin#899,total_play#900] parquet\\n                  :                       +- Relation[country_name#870,country_code_iso2#871,continent#872,business_region#873,pubg_region#874,server#875,pubg_region2#876] JDBCRelation(meta_bi_regions) [numPartitions=1]\\n                  :- Project [AccountId#1530, amount#2149L, action#2152]\\n                  :  +- Project [AccountId#1530, amount#2149L, special_craft AS action#2152]\\n                  :     +- Aggregate [AccountId#1530], [AccountId#1530, sum(Amount#1531L) AS amount#2149L]\\n                  :        +- Project [AccountId#1530, date#1469, Amount#1531L, AnalyticEventName#1532, AnalyticEventType#1533, Currency#1534, IsOption#1535, ItemId#1536, LocalPrice#1537L, OptionSalesIds#1538, PlatformProvider#1539, ProductId#1540, Remain#1541L, SalesId#1542, Time#1543, TransactionId#1544, Type#1545, date#884, country_os#885, country_ip#886, daily_country_os#887, daily_country_ip#888, platform#889, server_type#890, ... 17 more fields]\\n                  :           +- Join Inner, (AccountId#1530 = AccountId#1798)\\n                  :              :- Filter (Currency#1534 = artisanstoken)\\n                  :              :  +- Project [date#1469, props#1525.AccountId AS AccountId#1530, props#1525.Amount AS Amount#1531L, props#1525.AnalyticEventName AS AnalyticEventName#1532, props#1525.AnalyticEventType AS AnalyticEventType#1533, props#1525.Currency AS Currency#1534, props#1525.IsOption AS IsOption#1535, props#1525.ItemId AS ItemId#1536, props#1525.LocalPrice AS LocalPrice#1537L, props#1525.OptionSalesIds AS OptionSalesIds#1538, props#1525.PlatformProvider AS PlatformProvider#1539, props#1525.ProductId AS ProductId#1540, props#1525.Remain AS Remain#1541L, props#1525.SalesId AS SalesId#1542, props#1525.Time AS Time#1543, props#1525.TransactionId AS TransactionId#1544, props#1525.Type AS Type#1545]\\n                  :              :     +- Project [_value#1460, _original_file#1461, date#1469, jsontostructs(StructField(AccountId,StringType,true), StructField(Amount,LongType,true), StructField(AnalyticEventName,StringType,true), StructField(AnalyticEventType,StringType,true), StructField(Currency,StringType,true), StructField(IsOption,BooleanType,true), StructField(ItemId,StringType,true), StructField(LocalPrice,LongType,true), StructField(OptionSalesIds,ArrayType(StringType,true),true), StructField(PlatformProvider,StringType,true), StructField(ProductId,StringType,true), StructField(Remain,LongType,true), StructField(SalesId,StringType,true), StructField(Time,StringType,true), StructField(TransactionId,StringType,true), StructField(Type,StringType,true), _value#1460, Some(GMT)) AS props#1525]\\n                  :              :        +- Project [_value#1460, _original_file#1461, date#1469]\\n                  :              :           +- Project [_value#1460, _original_file#1461, file_name#1464, get_date_from_path(file_name#1464) AS date#1469]\\n                  :              :              +- Project [_value#1460, _original_file#1461, input_file_name() AS file_name#1464]\\n                  :              :                 +- Relation[_value#1460,_original_file#1461] parquet\\n                  :              +- Project [date#884, country_os#885, country_ip#886, daily_country_os#887, daily_country_ip#888, platform#889, server_type#890, device#891, usertype#892, account_id#1013 AS AccountId#1798, netid#894, firstlogindate#895, lastlogindate#896, total_logincount#897, recent_continous_login#898, days_since_lastlogin#899, total_play#900, country_new#919, country_name#870, country_code_iso2#871, continent#872, business_region#873, pubg_region#874, server#875, pubg_region2#876]\\n                  :                 +- Project [date#884, country_os#885, country_ip#886, daily_country_os#887, daily_country_ip#888, platform#889, server_type#890, device#891, usertype#892, accountid#893 AS account_id#1013, netid#894, firstlogindate#895, lastlogindate#896, total_logincount#897, recent_continous_login#898, days_since_lastlogin#899, total_play#900, country_new#919, country_name#870, country_code_iso2#871, continent#872, business_region#873, pubg_region#874, server#875, pubg_region2#876]\\n                  :                    +- Join LeftOuter, (country_new#919 = country_code_iso2#871)\\n                  :                       :- Project [date#884, country_os#885, country_ip#886, daily_country_os#887, daily_country_ip#888, platform#889, server_type#890, device#891, usertype#892, accountid#893, netid#894, firstlogindate#895, lastlogindate#896, total_logincount#897, recent_continous_login#898, days_since_lastlogin#899, total_play#900, classify_country(country_os#885, country_ip#886) AS country_new#919]\\n                  :                       :  +- Relation[date#884,country_os#885,country_ip#886,daily_country_os#887,daily_country_ip#888,platform#889,server_type#890,device#891,usertype#892,accountid#893,netid#894,firstlogindate#895,lastlogindate#896,total_logincount#897,recent_continous_login#898,days_since_lastlogin#899,total_play#900] parquet\\n                  :                       +- Relation[country_name#870,country_code_iso2#871,continent#872,business_region#873,pubg_region#874,server#875,pubg_region2#876] JDBCRelation(meta_bi_regions) [numPartitions=1]\\n                  :- Project [AccountId#2199, amount#2196L, action#2202]\\n                  :  +- Project [AccountId#2199, amount#2196L, gcoin AS action#2202]\\n                  :     +- Project [account_id#437 AS AccountId#2199, amount#2196L]\\n                  :        +- Aggregate [account_id#437], [account_id#437, sum(qty#445L) AS amount#2196L]\\n                  :           +- Project [account_id#437, date#435, platform#436, product_id#438, free_use#440L, free_balance#441L, paid_use#442L, paid_balance#443L, price#444L, qty#445L, reason#446, time#447, transaction_id#448, gcoin_by_expiry#449, type#450, is_salesid_exist#570, sales_id_#588, device#467, currency#469, sales_id#470, exchange_id#472, product_name#473, product_type#474, category#475, ... 12 more fields]\\n                  :              +- Join LeftOuter, (account_id#437 = account_id#1013)\\n                  :                 :- Filter event_name#478 LIKE %workshop%\\n                  :                 :  +- Project [date#435, platform#436, account_id#437, product_id#438, free_use#440L, free_balance#441L, paid_use#442L, paid_balance#443L, price#444L, qty#445L, reason#446, time#447, transaction_id#448, gcoin_by_expiry#449, type#450, is_salesid_exist#570, sales_id_#588, device#467, currency#469, sales_id#470, exchange_id#472, product_name#473, product_type#474, category#475, ... 11 more fields]\\n                  :                 :     +- Join LeftOuter, (((is_salesid_exist#570 = 1) && ((platform#436 = platform_#507) && (sales_id_#588 = sales_id#470))) || ((((is_salesid_exist#570 = 0) && (platform#436 = platform_#507)) && (product_id#438 = product_id_#528)) && ((((time#447 >= start_time#483) && (time#447 < next_start_time#694)) && (duplications#645L >= cast(2 as bigint))) || (duplications#645L = cast(1 as bigint)))))\\n                  :                 :        :- Project [date#435, platform#436, account_id#437, product_id#438, free_use#440L, free_balance#441L, paid_use#442L, paid_balance#443L, price#444L, qty#445L, reason#446, time#447, transaction_id#448, gcoin_by_expiry#449, type#450, is_salesid_exist#570, sales_id_#588]\\n                  :                 :        :  +- Project [date#435, platform#436, account_id#437, product_id#438, sales_id#439, free_use#440L, free_balance#441L, paid_use#442L, paid_balance#443L, price#444L, qty#445L, reason#446, time#447, transaction_id#448, gcoin_by_expiry#449, type#450, is_salesid_exist#570, CASE WHEN StartsWith(sales_id#439, salesitemdesc) THEN split(sales_id#439, desc.)[1] ELSE sales_id#439 END AS sales_id_#588]\\n                  :                 :        :     +- Project [date#435, platform#436, account_id#437, product_id#438, sales_id#439, free_use#440L, free_balance#441L, paid_use#442L, paid_balance#443L, price#444L, qty#445L, reason#446, time#447, transaction_id#448, gcoin_by_expiry#449, type#450, CASE WHEN isnull(sales_id#439) THEN 0 ELSE 1 END AS is_salesid_exist#570]\\n                  :                 :        :        +- Relation[date#435,platform#436,account_id#437,product_id#438,sales_id#439,free_use#440L,free_balance#441L,paid_use#442L,paid_balance#443L,price#444L,qty#445L,reason#446,time#447,transaction_id#448,gcoin_by_expiry#449,type#450] parquet\\n                  :                 :        +- Project [product_id_#528, platform_#507, device#467, currency#469, sales_id#470, exchange_id#472, product_name#473, product_type#474, category#475, sub_category#476, event_type#477, event_name#478, tags#479, part#480, tier#481, price_#549, start_time#483, end_time#484, catalog_version#485, update_time#486, duplications#645L, next_start_time#694]\\n                  :                 :           +- Project [product_id_#528, platform_#507, device#467, currency#469, sales_id#470, exchange_id#472, product_name#473, product_type#474, category#475, sub_category#476, event_type#477, event_name#478, tags#479, part#480, tier#481, price_#549, start_time#483, end_time#484, catalog_version#485, update_time#486, duplications#645L, _we0#695, coalesce(_we0#695, 2038-01-19 00:00:00) AS next_start_time#694]\\n                  :                 :              +- Window [lead(start_time#483, 1, null) windowspecdefinition(platform_#507, product_id_#528, start_time#483 ASC NULLS FIRST, specifiedwindowframe(RowFrame, 1, 1)) AS _we0#695], [platform_#507, product_id_#528], [start_time#483 ASC NULLS FIRST]\\n                  :                 :                 +- Project [product_id_#528, platform_#507, device#467, currency#469, sales_id#470, exchange_id#472, product_name#473, product_type#474, category#475, sub_category#476, event_type#477, event_name#478, tags#479, part#480, tier#481, price_#549, start_time#483, end_time#484, catalog_version#485, update_time#486, duplications#645L]\\n                  :                 :                    +- Project [product_id_#528, platform_#507, device#467, currency#469, sales_id#470, exchange_id#472, product_name#473, product_type#474, category#475, sub_category#476, event_type#477, event_name#478, tags#479, part#480, tier#481, price_#549, start_time#483, end_time#484, catalog_version#485, update_time#486, duplications#645L]\\n                  :                 :                       +- Project [product_id_#528, platform_#507, device#467, currency#469, sales_id#470, exchange_id#472, product_name#473, product_type#474, category#475, sub_category#476, event_type#477, event_name#478, tags#479, part#480, tier#481, price_#549, start_time#483, end_time#484, catalog_version#485, update_time#486, duplications#645L]\\n                  :                 :                          +- Join LeftOuter, ((product_id_#528 = product_id_#649) && (platform_#507 = platform_#651))\\n                  :                 :                             :- SubqueryAlias `meta_raw`\\n                  :                 :                             :  +- Filter (currency#469 = gcoin)\\n                  :                 :                             :     +- Project [device#467, platform_#507, currency#469, sales_id#470, product_id_#528, exchange_id#472, product_name#473, product_type#474, category#475, sub_category#476, event_type#477, event_name#478, tags#479, part#480, tier#481, price#482 AS price_#549, start_time#483, end_time#484, catalog_version#485, update_time#486]\\n                  :                 :                             :        +- Project [device#467, platform_#507, currency#469, sales_id#470, product_id#471 AS product_id_#528, exchange_id#472, product_name#473, product_type#474, category#475, sub_category#476, event_type#477, event_name#478, tags#479, part#480, tier#481, price#482, start_time#483, end_time#484, catalog_version#485, update_time#486]\\n                  :                 :                             :           +- Project [device#467, platform#468 AS platform_#507, currency#469, sales_id#470, product_id#471, exchange_id#472, product_name#473, product_type#474, category#475, sub_category#476, event_type#477, event_name#478, tags#479, part#480, tier#481, price#482, start_time#483, end_time#484, catalog_version#485, update_time#486]\\n                  :                 :                             :              +- Relation[device#467,platform#468,currency#469,sales_id#470,product_id#471,exchange_id#472,product_name#473,product_type#474,category#475,sub_category#476,event_type#477,event_name#478,tags#479,part#480,tier#481,price#482,start_time#483,end_time#484,catalog_version#485,update_time#486] JDBCRelation(meta_vc_sales_items) [numPartitions=1]\\n                  :                 :                             +- SubqueryAlias `meta_duplicate_count`\\n                  :                 :                                +- Aggregate [product_id_#649, platform_#651], [product_id_#649, platform_#651, count(1) AS duplications#645L]\\n                  :                 :                                   +- Filter (currency#469 = gcoin)\\n                  :                 :                                      +- Project [device#467, platform_#651, currency#469, sales_id#470, product_id_#649, exchange_id#472, product_name#473, product_type#474, category#475, sub_category#476, event_type#477, event_name#478, tags#479, part#480, tier#481, price#482 AS price_#549, start_time#483, end_time#484, catalog_version#485, update_time#486]\\n                  :                 :                                         +- Project [device#467, platform_#651, currency#469, sales_id#470, product_id#471 AS product_id_#649, exchange_id#472, product_name#473, product_type#474, category#475, sub_category#476, event_type#477, event_name#478, tags#479, part#480, tier#481, price#482, start_time#483, end_time#484, catalog_version#485, update_time#486]\\n                  :                 :                                            +- Project [device#467, platform#468 AS platform_#651, currency#469, sales_id#470, product_id#471, exchange_id#472, product_name#473, product_type#474, category#475, sub_category#476, event_type#477, event_name#478, tags#479, part#480, tier#481, price#482, start_time#483, end_time#484, catalog_version#485, update_time#486]\\n                  :                 :                                               +- Relation[device#467,platform#468,currency#469,sales_id#470,product_id#471,exchange_id#472,product_name#473,product_type#474,category#475,sub_category#476,event_type#477,event_name#478,tags#479,part#480,tier#481,price#482,start_time#483,end_time#484,catalog_version#485,update_time#486] JDBCRelation(meta_vc_sales_items) [numPartitions=1]\\n                  :                 +- Project [account_id#1013, pubg_region#874]\\n                  :                    +- Project [date#884, country_os#885, country_ip#886, daily_country_os#887, daily_country_ip#888, platform#889, server_type#890, device#891, usertype#892, accountid#893 AS account_id#1013, netid#894, firstlogindate#895, lastlogindate#896, total_logincount#897, recent_continous_login#898, days_since_lastlogin#899, total_play#900, country_new#919, country_name#870, country_code_iso2#871, continent#872, business_region#873, pubg_region#874, server#875, pubg_region2#876]\\n                  :                       +- Join LeftOuter, (country_new#919 = country_code_iso2#871)\\n                  :                          :- Project [date#884, country_os#885, country_ip#886, daily_country_os#887, daily_country_ip#888, platform#889, server_type#890, device#891, usertype#892, accountid#893, netid#894, firstlogindate#895, lastlogindate#896, total_logincount#897, recent_continous_login#898, days_since_lastlogin#899, total_play#900, classify_country(country_os#885, country_ip#886) AS country_new#919]\\n                  :                          :  +- Relation[date#884,country_os#885,country_ip#886,daily_country_os#887,daily_country_ip#888,platform#889,server_type#890,device#891,usertype#892,accountid#893,netid#894,firstlogindate#895,lastlogindate#896,total_logincount#897,recent_continous_login#898,days_since_lastlogin#899,total_play#900] parquet\\n                  :                          +- Relation[country_name#870,country_code_iso2#871,continent#872,business_region#873,pubg_region#874,server#875,pubg_region2#876] JDBCRelation(meta_bi_regions) [numPartitions=1]\\n                  +- Project [AccountId#1147, amount#2252L, action#2255]\\n                     +- Project [AccountId#1147, amount#2252L, bp_workshop AS action#2255]\\n                        +- Aggregate [AccountId#1147], [AccountId#1147, count(1) AS amount#2252L]\\n                           +- Project [AccountId#1147, date#1086, Amount#1148L, AnalyticEventName#1149, AnalyticEventType#1150, Currency#1151, IsOption#1152, ItemId#1153, LocalPrice#1154L, OptionSalesIds#1155, PlatformProvider#1156, ProductId#1157, Remain#1158L, SalesId#1159, Time#1160, TransactionId#1161, Type#1162, date#884, country_os#885, country_ip#886, daily_country_os#887, daily_country_ip#888, platform#889, server_type#890, ... 17 more fields]\\n                              +- Join Inner, (AccountId#1147 = AccountId#1865)\\n                                 :- Filter (Currency#1151 LIKE %bp% && (AnalyticEventType#1150 = workshop))\\n                                 :  +- Project [date#1086, props#1142.AccountId AS AccountId#1147, props#1142.Amount AS Amount#1148L, props#1142.AnalyticEventName AS AnalyticEventName#1149, props#1142.AnalyticEventType AS AnalyticEventType#1150, props#1142.Currency AS Currency#1151, props#1142.IsOption AS IsOption#1152, props#1142.ItemId AS ItemId#1153, props#1142.LocalPrice AS LocalPrice#1154L, props#1142.OptionSalesIds AS OptionSalesIds#1155, props#1142.PlatformProvider AS PlatformProvider#1156, props#1142.ProductId AS ProductId#1157, props#1142.Remain AS Remain#1158L, props#1142.SalesId AS SalesId#1159, props#1142.Time AS Time#1160, props#1142.TransactionId AS TransactionId#1161, props#1142.Type AS Type#1162]\\n                                 :     +- Project [_value#1077, _original_file#1078, date#1086, jsontostructs(StructField(AccountId,StringType,true), StructField(Amount,LongType,true), StructField(AnalyticEventName,StringType,true), StructField(AnalyticEventType,StringType,true), StructField(Currency,StringType,true), StructField(IsOption,BooleanType,true), StructField(ItemId,StringType,true), StructField(LocalPrice,LongType,true), StructField(OptionSalesIds,ArrayType(StringType,true),true), StructField(PlatformProvider,StringType,true), StructField(ProductId,StringType,true), StructField(Remain,LongType,true), StructField(SalesId,StringType,true), StructField(Time,StringType,true), StructField(TransactionId,StringType,true), StructField(Type,StringType,true), _value#1077, Some(GMT)) AS props#1142]\\n                                 :        +- Project [_value#1077, _original_file#1078, date#1086]\\n                                 :           +- Project [_value#1077, _original_file#1078, file_name#1081, get_date_from_path(file_name#1081) AS date#1086]\\n                                 :              +- Project [_value#1077, _original_file#1078, input_file_name() AS file_name#1081]\\n                                 :                 +- Relation[_value#1077,_original_file#1078] parquet\\n                                 +- Project [date#884, country_os#885, country_ip#886, daily_country_os#887, daily_country_ip#888, platform#889, server_type#890, device#891, usertype#892, account_id#1013 AS AccountId#1865, netid#894, firstlogindate#895, lastlogindate#896, total_logincount#897, recent_continous_login#898, days_since_lastlogin#899, total_play#900, country_new#919, country_name#870, country_code_iso2#871, continent#872, business_region#873, pubg_region#874, server#875, pubg_region2#876]\\n                                    +- Project [date#884, country_os#885, country_ip#886, daily_country_os#887, daily_country_ip#888, platform#889, server_type#890, device#891, usertype#892, accountid#893 AS account_id#1013, netid#894, firstlogindate#895, lastlogindate#896, total_logincount#897, recent_continous_login#898, days_since_lastlogin#899, total_play#900, country_new#919, country_name#870, country_code_iso2#871, continent#872, business_region#873, pubg_region#874, server#875, pubg_region2#876]\\n                                       +- Join LeftOuter, (country_new#919 = country_code_iso2#871)\\n                                          :- Project [date#884, country_os#885, country_ip#886, daily_country_os#887, daily_country_ip#888, platform#889, server_type#890, device#891, usertype#892, accountid#893, netid#894, firstlogindate#895, lastlogindate#896, total_logincount#897, recent_continous_login#898, days_since_lastlogin#899, total_play#900, classify_country(country_os#885, country_ip#886) AS country_new#919]\\n                                          :  +- Relation[date#884,country_os#885,country_ip#886,daily_country_os#887,daily_country_ip#888,platform#889,server_type#890,device#891,usertype#892,accountid#893,netid#894,firstlogindate#895,lastlogindate#896,total_logincount#897,recent_continous_login#898,days_since_lastlogin#899,total_play#900] parquet\\n                                          +- Relation[country_name#870,country_code_iso2#871,continent#872,business_region#873,pubg_region#874,server#875,pubg_region2#876] JDBCRelation(meta_bi_regions) [numPartitions=1]\\n\""
     ]
    }
   ],
   "source": [
    "no_workshop_user_gcoin.groupBy(\"event_name\", \"event_type\").agg(countDistinct(\"account_id\").alias(\"pu\"), sum(\"paid_use\").alias(\"paid_use\"), sum(\"free_use\").alias(\"free_use\")).orderBy(\"pu\", ascending=False).toPandas()"
   ]
  },
  {
   "cell_type": "code",
   "execution_count": null,
   "metadata": {},
   "outputs": [],
   "source": [
    "no_workshop_user_gcoin.withColumn(\"type\", when(col(\"event_type\").like(\"%other%\"), lit(\"other\")).otherwise(col(\"event_type\"))) \\\n",
    "    .groupBy(\"type\").agg(countDistinct(\"account_id\").alias(\"pu\"), sum(\"paid_use\").alias(\"paid_use\"), sum(\"free_use\").alias(\"free_use\")).orderBy(\"pu\", ascending=False).toPandas()"
   ]
  },
  {
   "cell_type": "code",
   "execution_count": 156,
   "metadata": {},
   "outputs": [
    {
     "name": "stdout",
     "output_type": "stream",
     "text": [
      "+-------------------------------------+\n",
      "|no workshop user but gcoin user count|\n",
      "+-------------------------------------+\n",
      "|                                92962|\n",
      "+-------------------------------------+\n",
      "\n"
     ]
    }
   ],
   "source": [
    "no_workshop_user_gcoin.select(countDistinct(\"account_id\").alias(\"no workshop user but gcoin user count\")).show()"
   ]
  },
  {
   "cell_type": "code",
   "execution_count": 81,
   "metadata": {},
   "outputs": [],
   "source": [
    "# workshop_user = (open_crate.withColumn(\"action\", lit(\"open\")).select(\"AccountId\", \"action\", \"pubg_region\").distinct()) \\\n",
    "#     .union((craft.withColumn(\"action\", lit(\"craft\")).select(\"AccountId\", \"action\", \"pubg_region\").distinct())) \\\n",
    "#     .union((disassemble.withColumn(\"action\", lit(\"disassemble\")).select(\"AccountId\", \"action\", \"pubg_region\").distinct())) \\\n",
    "#     .union((repurpose.withColumn(\"action\", lit(\"repurpose\")).select(\"AccountId\", \"action\", \"pubg_region\").distinct())) \\\n",
    "#     .union((special_craft.withColumn(\"action\", lit(\"special_craft\")).select(\"AccountId\", \"action\", \"pubg_region\").distinct())) \\\n",
    "#     .union((gcoin.withColumn(\"action\", lit(\"purchase\")).withColumnRenamed(\"account_id\", \"AccountId\").select(\"AccountId\", \"action\", \"pubg_region\").distinct()))"
   ]
  },
  {
   "cell_type": "code",
   "execution_count": 46,
   "metadata": {},
   "outputs": [
    {
     "name": "stdout",
     "output_type": "stream",
     "text": [
      "+-------------------------+\n",
      "|count(DISTINCT AccountId)|\n",
      "+-------------------------+\n",
      "|                  1441549|\n",
      "+-------------------------+\n",
      "\n"
     ]
    }
   ],
   "source": [
    "# gcoin purchase, open, craft, disassemble, repurpose, special_craft\n",
    "workshop_user.select(countDistinct(\"AccountId\")).show()"
   ]
  },
  {
   "cell_type": "code",
   "execution_count": 155,
   "metadata": {},
   "outputs": [
    {
     "name": "stdout",
     "output_type": "stream",
     "text": [
      "+-------------------------+\n",
      "|count(DISTINCT AccountId)|\n",
      "+-------------------------+\n",
      "|                  1547059|\n",
      "+-------------------------+\n",
      "\n"
     ]
    }
   ],
   "source": [
    "# gcoin purchase, open, craft, disassemble, repurpose, special_craft, bp workshop purchase\n",
    "workshop_user.select(countDistinct(\"AccountId\")).show()"
   ]
  },
  {
   "cell_type": "code",
   "execution_count": 93,
   "metadata": {},
   "outputs": [
    {
     "data": {
      "text/html": [
       "<div>\n",
       "<style scoped>\n",
       "    .dataframe tbody tr th:only-of-type {\n",
       "        vertical-align: middle;\n",
       "    }\n",
       "\n",
       "    .dataframe tbody tr th {\n",
       "        vertical-align: top;\n",
       "    }\n",
       "\n",
       "    .dataframe thead th {\n",
       "        text-align: right;\n",
       "    }\n",
       "</style>\n",
       "<table border=\"1\" class=\"dataframe\">\n",
       "  <thead>\n",
       "    <tr style=\"text-align: right;\">\n",
       "      <th></th>\n",
       "      <th>action</th>\n",
       "      <th>user_cnt</th>\n",
       "      <th>amount</th>\n",
       "    </tr>\n",
       "  </thead>\n",
       "  <tbody>\n",
       "    <tr>\n",
       "      <th>0</th>\n",
       "      <td>disassemble</td>\n",
       "      <td>449640</td>\n",
       "      <td>1461980</td>\n",
       "    </tr>\n",
       "    <tr>\n",
       "      <th>1</th>\n",
       "      <td>repurpose</td>\n",
       "      <td>80945</td>\n",
       "      <td>505132</td>\n",
       "    </tr>\n",
       "    <tr>\n",
       "      <th>2</th>\n",
       "      <td>craft</td>\n",
       "      <td>478364</td>\n",
       "      <td>1800017</td>\n",
       "    </tr>\n",
       "    <tr>\n",
       "      <th>3</th>\n",
       "      <td>gcoin</td>\n",
       "      <td>317870</td>\n",
       "      <td>1850834</td>\n",
       "    </tr>\n",
       "    <tr>\n",
       "      <th>4</th>\n",
       "      <td>special_craft</td>\n",
       "      <td>87161</td>\n",
       "      <td>415065</td>\n",
       "    </tr>\n",
       "    <tr>\n",
       "      <th>5</th>\n",
       "      <td>open</td>\n",
       "      <td>1423939</td>\n",
       "      <td>10120769</td>\n",
       "    </tr>\n",
       "  </tbody>\n",
       "</table>\n",
       "</div>"
      ],
      "text/plain": [
       "          action  user_cnt    amount\n",
       "0    disassemble    449640   1461980\n",
       "1      repurpose     80945    505132\n",
       "2          craft    478364   1800017\n",
       "3          gcoin    317870   1850834\n",
       "4  special_craft     87161    415065\n",
       "5           open   1423939  10120769"
      ]
     },
     "execution_count": 93,
     "metadata": {},
     "output_type": "execute_result"
    }
   ],
   "source": [
    "workshop_user.groupBy(\"action\").agg(countDistinct(\"AccountId\").alias(\"user_cnt\"), sum(\"amount\").alias(\"amount\")).toPandas()"
   ]
  },
  {
   "cell_type": "code",
   "execution_count": 156,
   "metadata": {},
   "outputs": [
    {
     "data": {
      "text/html": [
       "<div>\n",
       "<style scoped>\n",
       "    .dataframe tbody tr th:only-of-type {\n",
       "        vertical-align: middle;\n",
       "    }\n",
       "\n",
       "    .dataframe tbody tr th {\n",
       "        vertical-align: top;\n",
       "    }\n",
       "\n",
       "    .dataframe thead th {\n",
       "        text-align: right;\n",
       "    }\n",
       "</style>\n",
       "<table border=\"1\" class=\"dataframe\">\n",
       "  <thead>\n",
       "    <tr style=\"text-align: right;\">\n",
       "      <th></th>\n",
       "      <th>action</th>\n",
       "      <th>user_cnt</th>\n",
       "      <th>amount</th>\n",
       "    </tr>\n",
       "  </thead>\n",
       "  <tbody>\n",
       "    <tr>\n",
       "      <th>0</th>\n",
       "      <td>disassemble</td>\n",
       "      <td>449640</td>\n",
       "      <td>1461980</td>\n",
       "    </tr>\n",
       "    <tr>\n",
       "      <th>1</th>\n",
       "      <td>repurpose</td>\n",
       "      <td>80945</td>\n",
       "      <td>505132</td>\n",
       "    </tr>\n",
       "    <tr>\n",
       "      <th>2</th>\n",
       "      <td>bp_workshop</td>\n",
       "      <td>918812</td>\n",
       "      <td>2792191</td>\n",
       "    </tr>\n",
       "    <tr>\n",
       "      <th>3</th>\n",
       "      <td>craft</td>\n",
       "      <td>478364</td>\n",
       "      <td>1800017</td>\n",
       "    </tr>\n",
       "    <tr>\n",
       "      <th>4</th>\n",
       "      <td>gcoin</td>\n",
       "      <td>317870</td>\n",
       "      <td>1850834</td>\n",
       "    </tr>\n",
       "    <tr>\n",
       "      <th>5</th>\n",
       "      <td>special_craft</td>\n",
       "      <td>87161</td>\n",
       "      <td>415065</td>\n",
       "    </tr>\n",
       "    <tr>\n",
       "      <th>6</th>\n",
       "      <td>open</td>\n",
       "      <td>1423939</td>\n",
       "      <td>10120769</td>\n",
       "    </tr>\n",
       "  </tbody>\n",
       "</table>\n",
       "</div>"
      ],
      "text/plain": [
       "          action  user_cnt    amount\n",
       "0    disassemble    449640   1461980\n",
       "1      repurpose     80945    505132\n",
       "2    bp_workshop    918812   2792191\n",
       "3          craft    478364   1800017\n",
       "4          gcoin    317870   1850834\n",
       "5  special_craft     87161    415065\n",
       "6           open   1423939  10120769"
      ]
     },
     "execution_count": 156,
     "metadata": {},
     "output_type": "execute_result"
    },
    {
     "name": "stderr",
     "output_type": "stream",
     "text": [
      "----------------------------------------\n",
      "Exception happened during processing of request from ('127.0.0.1', 58000)\n",
      "Traceback (most recent call last):\n",
      "  File \"/opt/conda/lib/python3.6/socketserver.py\", line 317, in _handle_request_noblock\n",
      "    self.process_request(request, client_address)\n",
      "  File \"/opt/conda/lib/python3.6/socketserver.py\", line 348, in process_request\n",
      "    self.finish_request(request, client_address)\n",
      "  File \"/opt/conda/lib/python3.6/socketserver.py\", line 361, in finish_request\n",
      "    self.RequestHandlerClass(request, client_address, self)\n",
      "  File \"/opt/conda/lib/python3.6/socketserver.py\", line 721, in __init__\n",
      "    self.handle()\n",
      "  File \"/usr/local/spark/python/pyspark/accumulators.py\", line 269, in handle\n",
      "    poll(accum_updates)\n",
      "  File \"/usr/local/spark/python/pyspark/accumulators.py\", line 241, in poll\n",
      "    if func():\n",
      "  File \"/usr/local/spark/python/pyspark/accumulators.py\", line 245, in accum_updates\n",
      "    num_updates = read_int(self.rfile)\n",
      "  File \"/usr/local/spark/python/pyspark/serializers.py\", line 717, in read_int\n",
      "    raise EOFError\n",
      "EOFError\n",
      "----------------------------------------\n"
     ]
    }
   ],
   "source": [
    "workshop_user.groupBy(\"action\").agg(countDistinct(\"AccountId\").alias(\"user_cnt\"), sum(\"amount\").alias(\"amount\")).toPandas()"
   ]
  },
  {
   "cell_type": "code",
   "execution_count": 120,
   "metadata": {},
   "outputs": [],
   "source": [
    "workshop_action_by_region = workshop_user.groupBy(\"action\", \"pubg_region\").agg(countDistinct(\"AccountId\").alias(\"user_cnt\"), sum(\"amount\").alias(\"amount\"))\n",
    "workshop_user_by_region = workshop_user.groupBy(\"pubg_region\").agg(countDistinct(\"AccountId\").alias(\"all_user_cnt\"))\n",
    "workshop_by_region = workshop_action_by_region.join(workshop_user_by_region, \"pubg_region\", \"left\").toPandas()\n",
    "workshop_by_region.to_csv(\"./workshop_by_region.csv\", index=False)"
   ]
  },
  {
   "cell_type": "code",
   "execution_count": 124,
   "metadata": {},
   "outputs": [
    {
     "data": {
      "text/html": [
       "<div>\n",
       "<style scoped>\n",
       "    .dataframe tbody tr th:only-of-type {\n",
       "        vertical-align: middle;\n",
       "    }\n",
       "\n",
       "    .dataframe tbody tr th {\n",
       "        vertical-align: top;\n",
       "    }\n",
       "\n",
       "    .dataframe thead th {\n",
       "        text-align: right;\n",
       "    }\n",
       "</style>\n",
       "<table border=\"1\" class=\"dataframe\">\n",
       "  <thead>\n",
       "    <tr style=\"text-align: right;\">\n",
       "      <th></th>\n",
       "      <th>pubg_region</th>\n",
       "      <th>all_user_cnt</th>\n",
       "    </tr>\n",
       "  </thead>\n",
       "  <tbody>\n",
       "    <tr>\n",
       "      <th>0</th>\n",
       "      <td>CIS</td>\n",
       "      <td>101295</td>\n",
       "    </tr>\n",
       "    <tr>\n",
       "      <th>1</th>\n",
       "      <td>CN</td>\n",
       "      <td>959179</td>\n",
       "    </tr>\n",
       "    <tr>\n",
       "      <th>2</th>\n",
       "      <td>EMEA</td>\n",
       "      <td>115296</td>\n",
       "    </tr>\n",
       "    <tr>\n",
       "      <th>3</th>\n",
       "      <td>JP</td>\n",
       "      <td>4601</td>\n",
       "    </tr>\n",
       "    <tr>\n",
       "      <th>4</th>\n",
       "      <td>KR</td>\n",
       "      <td>202823</td>\n",
       "    </tr>\n",
       "    <tr>\n",
       "      <th>5</th>\n",
       "      <td>NA</td>\n",
       "      <td>36017</td>\n",
       "    </tr>\n",
       "    <tr>\n",
       "      <th>6</th>\n",
       "      <td>OC</td>\n",
       "      <td>7979</td>\n",
       "    </tr>\n",
       "    <tr>\n",
       "      <th>7</th>\n",
       "      <td>SA</td>\n",
       "      <td>37555</td>\n",
       "    </tr>\n",
       "    <tr>\n",
       "      <th>8</th>\n",
       "      <td>SEA</td>\n",
       "      <td>71627</td>\n",
       "    </tr>\n",
       "    <tr>\n",
       "      <th>9</th>\n",
       "      <td>TW/HK</td>\n",
       "      <td>10682</td>\n",
       "    </tr>\n",
       "    <tr>\n",
       "      <th>10</th>\n",
       "      <td>Undefined</td>\n",
       "      <td>5</td>\n",
       "    </tr>\n",
       "  </tbody>\n",
       "</table>\n",
       "</div>"
      ],
      "text/plain": [
       "   pubg_region  all_user_cnt\n",
       "0          CIS        101295\n",
       "1           CN        959179\n",
       "2         EMEA        115296\n",
       "3           JP          4601\n",
       "4           KR        202823\n",
       "5           NA         36017\n",
       "6           OC          7979\n",
       "7           SA         37555\n",
       "8          SEA         71627\n",
       "9        TW/HK         10682\n",
       "10   Undefined             5"
      ]
     },
     "execution_count": 124,
     "metadata": {},
     "output_type": "execute_result"
    }
   ],
   "source": [
    "workshop_by_region.groupby('pubg_region', as_index=False)['all_user_cnt'].mean()"
   ]
  },
  {
   "cell_type": "code",
   "execution_count": null,
   "metadata": {},
   "outputs": [],
   "source": [
    "workshop_user_df = workshop_user.withColumn(\"gcoin\", when(col(\"action\") == \"gcoin\", lit(1)).otherwise(lit(0))) \\\n",
    "    .withColumn(\"open\", when(col(\"action\") == \"open\", lit(1)).otherwise(lit(0))) \\\n",
    "    .withColumn(\"disassemble\", when(col(\"action\") == \"disassemble\", lit(1)).otherwise(lit(0))) \\\n",
    "    .withColumn(\"repurpose\", when(col(\"action\") == \"repurpose\", lit(1)).otherwise(lit(0))) \\\n",
    "    .withColumn(\"craft\", when(col(\"action\") == \"craft\", lit(1)).otherwise(lit(0))) \\\n",
    "    .withColumn(\"special_craft\", when(col(\"action\") == \"special_craft\", lit(1)).otherwise(lit(0))) \\\n",
    "    .withColumn(\"bp_workshop\", when(col(\"action\") == \"bp_workshop\", lit(1)).otherwise(lit(0)))\n",
    "\n",
    "workshop_user_df = workshop_user_df.groupBy(\"AccountId\").agg(sum(\"gcoin\").alias(\"gcoin\"), \\\n",
    "                                          sum(\"open\").alias(\"open\"), \\\n",
    "                                          sum(\"disassemble\").alias(\"disassemble\"), \\\n",
    "                                          sum(\"repurpose\").alias(\"repurpose\"), \\\n",
    "                                          sum(\"craft\").alias(\"craft\"), \\\n",
    "                                          sum(\"special_craft\").alias(\"special_craft\"), \\\n",
    "                                          sum(\"bp_workshop\").alias(\"bp_workshop\"))\n",
    "\n",
    "workshop_user_df = workshop_user_df.withColumn(\"group\", concat(col(\"bp_workshop\"), col(\"gcoin\"), col(\"open\"), col(\"disassemble\"), col(\"repurpose\"), col(\"craft\"), col(\"special_craft\")))"
   ]
  },
  {
   "cell_type": "code",
   "execution_count": 53,
   "metadata": {},
   "outputs": [],
   "source": [
    "workshop_user_df = workshop_user.withColumn(\"gcoin\", when(col(\"action\") == \"gcoin\", lit(1)).otherwise(lit(0))) \\\n",
    "    .withColumn(\"open\", when(col(\"action\") == \"open\", lit(1)).otherwise(lit(0))) \\\n",
    "    .withColumn(\"disassemble\", when(col(\"action\") == \"disassemble\", lit(1)).otherwise(lit(0))) \\\n",
    "    .withColumn(\"repurpose\", when(col(\"action\") == \"repurpose\", lit(1)).otherwise(lit(0))) \\\n",
    "    .withColumn(\"craft\", when(col(\"action\") == \"craft\", lit(1)).otherwise(lit(0))) \\\n",
    "    .withColumn(\"special_craft\", when(col(\"action\") == \"special_craft\", lit(1)).otherwise(lit(0))) \\\n",
    "    .withColumn(\"bp_workshop\", when(col(\"action\") == \"bp_workshop\", lit(1)).otherwise(lit(0)))"
   ]
  },
  {
   "cell_type": "code",
   "execution_count": 54,
   "metadata": {},
   "outputs": [],
   "source": [
    "workshop_user_df = workshop_user_df.groupBy(\"AccountId\").agg(sum(\"gcoin\").alias(\"gcoin\"), \\\n",
    "                                          sum(\"open\").alias(\"open\"), \\\n",
    "                                          sum(\"disassemble\").alias(\"disassemble\"), \\\n",
    "                                          sum(\"repurpose\").alias(\"repurpose\"), \\\n",
    "                                          sum(\"craft\").alias(\"craft\"), \\\n",
    "                                          sum(\"special_craft\").alias(\"special_craft\"), \\\n",
    "                                          sum(\"bp_workshop\").alias(\"bp_workshop\"))"
   ]
  },
  {
   "cell_type": "code",
   "execution_count": 55,
   "metadata": {},
   "outputs": [],
   "source": [
    "workshop_user_df = workshop_user_df.withColumn(\"group\", concat(col(\"bp_workshop\"), col(\"gcoin\"), col(\"open\"), col(\"disassemble\"), col(\"repurpose\"), col(\"craft\"), col(\"special_craft\")))"
   ]
  },
  {
   "cell_type": "code",
   "execution_count": 56,
   "metadata": {
    "collapsed": true,
    "jupyter": {
     "outputs_hidden": true
    }
   },
   "outputs": [
    {
     "name": "stderr",
     "output_type": "stream",
     "text": [
      "ERROR:py4j.java_gateway:An error occurred while trying to connect to the Java server (127.0.0.1:38377)\n",
      "Traceback (most recent call last):\n",
      "  File \"/usr/local/spark/python/lib/py4j-0.10.7-src.zip/py4j/java_gateway.py\", line 929, in _get_connection\n",
      "    connection = self.deque.pop()\n",
      "IndexError: pop from an empty deque\n",
      "\n",
      "During handling of the above exception, another exception occurred:\n",
      "\n",
      "Traceback (most recent call last):\n",
      "  File \"/usr/local/spark/python/lib/py4j-0.10.7-src.zip/py4j/java_gateway.py\", line 1067, in start\n",
      "    self.socket.connect((self.address, self.port))\n",
      "ConnectionRefusedError: [Errno 111] Connection refused\n",
      "ERROR:py4j.java_gateway:An error occurred while trying to connect to the Java server (127.0.0.1:38377)\n",
      "Traceback (most recent call last):\n",
      "  File \"/usr/local/spark/python/lib/py4j-0.10.7-src.zip/py4j/java_gateway.py\", line 929, in _get_connection\n",
      "    connection = self.deque.pop()\n",
      "IndexError: pop from an empty deque\n",
      "\n",
      "During handling of the above exception, another exception occurred:\n",
      "\n",
      "Traceback (most recent call last):\n",
      "  File \"/usr/local/spark/python/lib/py4j-0.10.7-src.zip/py4j/java_gateway.py\", line 1067, in start\n",
      "    self.socket.connect((self.address, self.port))\n",
      "ConnectionRefusedError: [Errno 111] Connection refused\n",
      "ERROR:py4j.java_gateway:An error occurred while trying to connect to the Java server (127.0.0.1:38377)\n",
      "Traceback (most recent call last):\n",
      "  File \"/usr/local/spark/python/lib/py4j-0.10.7-src.zip/py4j/java_gateway.py\", line 929, in _get_connection\n",
      "    connection = self.deque.pop()\n",
      "IndexError: pop from an empty deque\n",
      "\n",
      "During handling of the above exception, another exception occurred:\n",
      "\n",
      "Traceback (most recent call last):\n",
      "  File \"/usr/local/spark/python/lib/py4j-0.10.7-src.zip/py4j/java_gateway.py\", line 1067, in start\n",
      "    self.socket.connect((self.address, self.port))\n",
      "ConnectionRefusedError: [Errno 111] Connection refused\n",
      "ERROR:py4j.java_gateway:An error occurred while trying to connect to the Java server (127.0.0.1:38377)\n",
      "Traceback (most recent call last):\n",
      "  File \"/usr/local/spark/python/lib/py4j-0.10.7-src.zip/py4j/java_gateway.py\", line 929, in _get_connection\n",
      "    connection = self.deque.pop()\n",
      "IndexError: pop from an empty deque\n",
      "\n",
      "During handling of the above exception, another exception occurred:\n",
      "\n",
      "Traceback (most recent call last):\n",
      "  File \"/usr/local/spark/python/lib/py4j-0.10.7-src.zip/py4j/java_gateway.py\", line 1067, in start\n",
      "    self.socket.connect((self.address, self.port))\n",
      "ConnectionRefusedError: [Errno 111] Connection refused\n",
      "ERROR:py4j.java_gateway:An error occurred while trying to connect to the Java server (127.0.0.1:38377)\n",
      "Traceback (most recent call last):\n",
      "  File \"/usr/local/spark/python/lib/py4j-0.10.7-src.zip/py4j/java_gateway.py\", line 929, in _get_connection\n",
      "    connection = self.deque.pop()\n",
      "IndexError: pop from an empty deque\n",
      "\n",
      "During handling of the above exception, another exception occurred:\n",
      "\n",
      "Traceback (most recent call last):\n",
      "  File \"/usr/local/spark/python/lib/py4j-0.10.7-src.zip/py4j/java_gateway.py\", line 1067, in start\n",
      "    self.socket.connect((self.address, self.port))\n",
      "ConnectionRefusedError: [Errno 111] Connection refused\n",
      "ERROR:py4j.java_gateway:An error occurred while trying to connect to the Java server (127.0.0.1:38377)\n",
      "Traceback (most recent call last):\n",
      "  File \"/usr/local/spark/python/lib/py4j-0.10.7-src.zip/py4j/java_gateway.py\", line 929, in _get_connection\n",
      "    connection = self.deque.pop()\n",
      "IndexError: pop from an empty deque\n",
      "\n",
      "During handling of the above exception, another exception occurred:\n",
      "\n",
      "Traceback (most recent call last):\n",
      "  File \"/usr/local/spark/python/lib/py4j-0.10.7-src.zip/py4j/java_gateway.py\", line 1067, in start\n",
      "    self.socket.connect((self.address, self.port))\n",
      "ConnectionRefusedError: [Errno 111] Connection refused\n",
      "ERROR:py4j.java_gateway:An error occurred while trying to connect to the Java server (127.0.0.1:38377)\n",
      "Traceback (most recent call last):\n",
      "  File \"/usr/local/spark/python/lib/py4j-0.10.7-src.zip/py4j/java_gateway.py\", line 929, in _get_connection\n",
      "    connection = self.deque.pop()\n",
      "IndexError: pop from an empty deque\n",
      "\n",
      "During handling of the above exception, another exception occurred:\n",
      "\n",
      "Traceback (most recent call last):\n",
      "  File \"/usr/local/spark/python/lib/py4j-0.10.7-src.zip/py4j/java_gateway.py\", line 1067, in start\n",
      "    self.socket.connect((self.address, self.port))\n",
      "ConnectionRefusedError: [Errno 111] Connection refused\n"
     ]
    },
    {
     "name": "stdout",
     "output_type": "stream",
     "text": [
      "+---------------------------+-----------+\n",
      "|Reason                     |sum(Amount)|\n",
      "+---------------------------+-----------+\n",
      "|buy-cash-item              |9          |\n",
      "|battlepass-mission-reward  |12805      |\n",
      "|outgameevent-mission-reward|755488     |\n",
      "|open-crate-bonus           |46291      |\n",
      "|battlepass-level-reward    |20288      |\n",
      "|open-crate                 |-663263    |\n",
      "+---------------------------+-----------+\n",
      "\n"
     ]
    }
   ],
   "source": [
    "only_open_user = workshop_user_df.where(col(\"group\") == \"0010000\").select(\"AccountId\").toPandas()[\"AccountId\"]\n",
    "workshop_crate_increased = load_schema.lobby(spark, \"pc\", \"live\", \"WorkshopCrateIncreased\", start_date, end_date)\n",
    "workshop_crate_increased.where(col(\"AccountId\").isin(only_open_user.to_list())).groupBy(\"Reason\").agg(sum(\"Amount\")).show(truncate=False)"
   ]
  },
  {
   "cell_type": "code",
   "execution_count": 30,
   "metadata": {},
   "outputs": [
    {
     "data": {
      "text/html": [
       "<div>\n",
       "<style scoped>\n",
       "    .dataframe tbody tr th:only-of-type {\n",
       "        vertical-align: middle;\n",
       "    }\n",
       "\n",
       "    .dataframe tbody tr th {\n",
       "        vertical-align: top;\n",
       "    }\n",
       "\n",
       "    .dataframe thead th {\n",
       "        text-align: right;\n",
       "    }\n",
       "</style>\n",
       "<table border=\"1\" class=\"dataframe\">\n",
       "  <thead>\n",
       "    <tr style=\"text-align: right;\">\n",
       "      <th></th>\n",
       "      <th>group</th>\n",
       "      <th>user_cnt</th>\n",
       "    </tr>\n",
       "  </thead>\n",
       "  <tbody>\n",
       "    <tr>\n",
       "      <th>0</th>\n",
       "      <td>0010000</td>\n",
       "      <td>419373</td>\n",
       "    </tr>\n",
       "    <tr>\n",
       "      <th>1</th>\n",
       "      <td>1010000</td>\n",
       "      <td>287617</td>\n",
       "    </tr>\n",
       "    <tr>\n",
       "      <th>2</th>\n",
       "      <td>1000000</td>\n",
       "      <td>105510</td>\n",
       "    </tr>\n",
       "    <tr>\n",
       "      <th>3</th>\n",
       "      <td>1011010</td>\n",
       "      <td>103127</td>\n",
       "    </tr>\n",
       "    <tr>\n",
       "      <th>4</th>\n",
       "      <td>1010010</td>\n",
       "      <td>82690</td>\n",
       "    </tr>\n",
       "    <tr>\n",
       "      <th>5</th>\n",
       "      <td>1011000</td>\n",
       "      <td>75197</td>\n",
       "    </tr>\n",
       "    <tr>\n",
       "      <th>6</th>\n",
       "      <td>1111010</td>\n",
       "      <td>73489</td>\n",
       "    </tr>\n",
       "    <tr>\n",
       "      <th>7</th>\n",
       "      <td>0010010</td>\n",
       "      <td>64719</td>\n",
       "    </tr>\n",
       "    <tr>\n",
       "      <th>8</th>\n",
       "      <td>0011000</td>\n",
       "      <td>45959</td>\n",
       "    </tr>\n",
       "    <tr>\n",
       "      <th>9</th>\n",
       "      <td>0110000</td>\n",
       "      <td>36266</td>\n",
       "    </tr>\n",
       "    <tr>\n",
       "      <th>10</th>\n",
       "      <td>1111111</td>\n",
       "      <td>35389</td>\n",
       "    </tr>\n",
       "    <tr>\n",
       "      <th>11</th>\n",
       "      <td>1110000</td>\n",
       "      <td>32587</td>\n",
       "    </tr>\n",
       "    <tr>\n",
       "      <th>12</th>\n",
       "      <td>1111011</td>\n",
       "      <td>22764</td>\n",
       "    </tr>\n",
       "    <tr>\n",
       "      <th>13</th>\n",
       "      <td>1111000</td>\n",
       "      <td>19225</td>\n",
       "    </tr>\n",
       "    <tr>\n",
       "      <th>14</th>\n",
       "      <td>1110010</td>\n",
       "      <td>17817</td>\n",
       "    </tr>\n",
       "    <tr>\n",
       "      <th>15</th>\n",
       "      <td>1111110</td>\n",
       "      <td>16052</td>\n",
       "    </tr>\n",
       "    <tr>\n",
       "      <th>16</th>\n",
       "      <td>0100000</td>\n",
       "      <td>11465</td>\n",
       "    </tr>\n",
       "    <tr>\n",
       "      <th>17</th>\n",
       "      <td>0011010</td>\n",
       "      <td>10544</td>\n",
       "    </tr>\n",
       "    <tr>\n",
       "      <th>18</th>\n",
       "      <td>0110010</td>\n",
       "      <td>10173</td>\n",
       "    </tr>\n",
       "    <tr>\n",
       "      <th>19</th>\n",
       "      <td>0111010</td>\n",
       "      <td>10005</td>\n",
       "    </tr>\n",
       "    <tr>\n",
       "      <th>20</th>\n",
       "      <td>1011011</td>\n",
       "      <td>8575</td>\n",
       "    </tr>\n",
       "    <tr>\n",
       "      <th>21</th>\n",
       "      <td>0111000</td>\n",
       "      <td>8317</td>\n",
       "    </tr>\n",
       "    <tr>\n",
       "      <th>22</th>\n",
       "      <td>1100000</td>\n",
       "      <td>6089</td>\n",
       "    </tr>\n",
       "    <tr>\n",
       "      <th>23</th>\n",
       "      <td>1011110</td>\n",
       "      <td>5412</td>\n",
       "    </tr>\n",
       "    <tr>\n",
       "      <th>24</th>\n",
       "      <td>1010100</td>\n",
       "      <td>4968</td>\n",
       "    </tr>\n",
       "    <tr>\n",
       "      <th>25</th>\n",
       "      <td>1010110</td>\n",
       "      <td>2663</td>\n",
       "    </tr>\n",
       "    <tr>\n",
       "      <th>26</th>\n",
       "      <td>0111111</td>\n",
       "      <td>2357</td>\n",
       "    </tr>\n",
       "    <tr>\n",
       "      <th>27</th>\n",
       "      <td>1110100</td>\n",
       "      <td>2284</td>\n",
       "    </tr>\n",
       "    <tr>\n",
       "      <th>28</th>\n",
       "      <td>1110110</td>\n",
       "      <td>2172</td>\n",
       "    </tr>\n",
       "    <tr>\n",
       "      <th>29</th>\n",
       "      <td>0111011</td>\n",
       "      <td>2162</td>\n",
       "    </tr>\n",
       "    <tr>\n",
       "      <th>...</th>\n",
       "      <td>...</td>\n",
       "      <td>...</td>\n",
       "    </tr>\n",
       "    <tr>\n",
       "      <th>38</th>\n",
       "      <td>1011111</td>\n",
       "      <td>1052</td>\n",
       "    </tr>\n",
       "    <tr>\n",
       "      <th>39</th>\n",
       "      <td>1111001</td>\n",
       "      <td>917</td>\n",
       "    </tr>\n",
       "    <tr>\n",
       "      <th>40</th>\n",
       "      <td>1110111</td>\n",
       "      <td>761</td>\n",
       "    </tr>\n",
       "    <tr>\n",
       "      <th>41</th>\n",
       "      <td>1110001</td>\n",
       "      <td>680</td>\n",
       "    </tr>\n",
       "    <tr>\n",
       "      <th>42</th>\n",
       "      <td>0011001</td>\n",
       "      <td>617</td>\n",
       "    </tr>\n",
       "    <tr>\n",
       "      <th>43</th>\n",
       "      <td>0010011</td>\n",
       "      <td>605</td>\n",
       "    </tr>\n",
       "    <tr>\n",
       "      <th>44</th>\n",
       "      <td>0011011</td>\n",
       "      <td>548</td>\n",
       "    </tr>\n",
       "    <tr>\n",
       "      <th>45</th>\n",
       "      <td>0110100</td>\n",
       "      <td>464</td>\n",
       "    </tr>\n",
       "    <tr>\n",
       "      <th>46</th>\n",
       "      <td>0110001</td>\n",
       "      <td>356</td>\n",
       "    </tr>\n",
       "    <tr>\n",
       "      <th>47</th>\n",
       "      <td>0110110</td>\n",
       "      <td>352</td>\n",
       "    </tr>\n",
       "    <tr>\n",
       "      <th>48</th>\n",
       "      <td>1111101</td>\n",
       "      <td>346</td>\n",
       "    </tr>\n",
       "    <tr>\n",
       "      <th>49</th>\n",
       "      <td>0110011</td>\n",
       "      <td>323</td>\n",
       "    </tr>\n",
       "    <tr>\n",
       "      <th>50</th>\n",
       "      <td>1010101</td>\n",
       "      <td>309</td>\n",
       "    </tr>\n",
       "    <tr>\n",
       "      <th>51</th>\n",
       "      <td>1110101</td>\n",
       "      <td>300</td>\n",
       "    </tr>\n",
       "    <tr>\n",
       "      <th>52</th>\n",
       "      <td>0111001</td>\n",
       "      <td>264</td>\n",
       "    </tr>\n",
       "    <tr>\n",
       "      <th>53</th>\n",
       "      <td>1010111</td>\n",
       "      <td>259</td>\n",
       "    </tr>\n",
       "    <tr>\n",
       "      <th>54</th>\n",
       "      <td>0111100</td>\n",
       "      <td>219</td>\n",
       "    </tr>\n",
       "    <tr>\n",
       "      <th>55</th>\n",
       "      <td>1011101</td>\n",
       "      <td>207</td>\n",
       "    </tr>\n",
       "    <tr>\n",
       "      <th>56</th>\n",
       "      <td>0010100</td>\n",
       "      <td>129</td>\n",
       "    </tr>\n",
       "    <tr>\n",
       "      <th>57</th>\n",
       "      <td>0110111</td>\n",
       "      <td>126</td>\n",
       "    </tr>\n",
       "    <tr>\n",
       "      <th>58</th>\n",
       "      <td>0111101</td>\n",
       "      <td>48</td>\n",
       "    </tr>\n",
       "    <tr>\n",
       "      <th>59</th>\n",
       "      <td>0110101</td>\n",
       "      <td>39</td>\n",
       "    </tr>\n",
       "    <tr>\n",
       "      <th>60</th>\n",
       "      <td>1100001</td>\n",
       "      <td>29</td>\n",
       "    </tr>\n",
       "    <tr>\n",
       "      <th>61</th>\n",
       "      <td>0100001</td>\n",
       "      <td>27</td>\n",
       "    </tr>\n",
       "    <tr>\n",
       "      <th>62</th>\n",
       "      <td>0010101</td>\n",
       "      <td>19</td>\n",
       "    </tr>\n",
       "    <tr>\n",
       "      <th>63</th>\n",
       "      <td>0010110</td>\n",
       "      <td>14</td>\n",
       "    </tr>\n",
       "    <tr>\n",
       "      <th>64</th>\n",
       "      <td>0011100</td>\n",
       "      <td>4</td>\n",
       "    </tr>\n",
       "    <tr>\n",
       "      <th>65</th>\n",
       "      <td>0011110</td>\n",
       "      <td>2</td>\n",
       "    </tr>\n",
       "    <tr>\n",
       "      <th>66</th>\n",
       "      <td>0011111</td>\n",
       "      <td>2</td>\n",
       "    </tr>\n",
       "    <tr>\n",
       "      <th>67</th>\n",
       "      <td>0010111</td>\n",
       "      <td>2</td>\n",
       "    </tr>\n",
       "  </tbody>\n",
       "</table>\n",
       "<p>68 rows × 2 columns</p>\n",
       "</div>"
      ],
      "text/plain": [
       "      group  user_cnt\n",
       "0   0010000    419373\n",
       "1   1010000    287617\n",
       "2   1000000    105510\n",
       "3   1011010    103127\n",
       "4   1010010     82690\n",
       "5   1011000     75197\n",
       "6   1111010     73489\n",
       "7   0010010     64719\n",
       "8   0011000     45959\n",
       "9   0110000     36266\n",
       "10  1111111     35389\n",
       "11  1110000     32587\n",
       "12  1111011     22764\n",
       "13  1111000     19225\n",
       "14  1110010     17817\n",
       "15  1111110     16052\n",
       "16  0100000     11465\n",
       "17  0011010     10544\n",
       "18  0110010     10173\n",
       "19  0111010     10005\n",
       "20  1011011      8575\n",
       "21  0111000      8317\n",
       "22  1100000      6089\n",
       "23  1011110      5412\n",
       "24  1010100      4968\n",
       "25  1010110      2663\n",
       "26  0111111      2357\n",
       "27  1110100      2284\n",
       "28  1110110      2172\n",
       "29  0111011      2162\n",
       "..      ...       ...\n",
       "38  1011111      1052\n",
       "39  1111001       917\n",
       "40  1110111       761\n",
       "41  1110001       680\n",
       "42  0011001       617\n",
       "43  0010011       605\n",
       "44  0011011       548\n",
       "45  0110100       464\n",
       "46  0110001       356\n",
       "47  0110110       352\n",
       "48  1111101       346\n",
       "49  0110011       323\n",
       "50  1010101       309\n",
       "51  1110101       300\n",
       "52  0111001       264\n",
       "53  1010111       259\n",
       "54  0111100       219\n",
       "55  1011101       207\n",
       "56  0010100       129\n",
       "57  0110111       126\n",
       "58  0111101        48\n",
       "59  0110101        39\n",
       "60  1100001        29\n",
       "61  0100001        27\n",
       "62  0010101        19\n",
       "63  0010110        14\n",
       "64  0011100         4\n",
       "65  0011110         2\n",
       "66  0011111         2\n",
       "67  0010111         2\n",
       "\n",
       "[68 rows x 2 columns]"
      ]
     },
     "execution_count": 30,
     "metadata": {},
     "output_type": "execute_result"
    }
   ],
   "source": [
    "workshop_user_df.groupBy(\"group\").agg(countDistinct(\"AccountId\").alias(\"user_cnt\")).orderBy(\"user_cnt\", ascending=False).toPandas()"
   ]
  },
  {
   "cell_type": "code",
   "execution_count": 47,
   "metadata": {},
   "outputs": [
    {
     "data": {
      "text/html": [
       "<div>\n",
       "<style scoped>\n",
       "    .dataframe tbody tr th:only-of-type {\n",
       "        vertical-align: middle;\n",
       "    }\n",
       "\n",
       "    .dataframe tbody tr th {\n",
       "        vertical-align: top;\n",
       "    }\n",
       "\n",
       "    .dataframe thead th {\n",
       "        text-align: right;\n",
       "    }\n",
       "</style>\n",
       "<table border=\"1\" class=\"dataframe\">\n",
       "  <thead>\n",
       "    <tr style=\"text-align: right;\">\n",
       "      <th></th>\n",
       "      <th>action_cnt</th>\n",
       "      <th>user_cnt</th>\n",
       "    </tr>\n",
       "  </thead>\n",
       "  <tbody>\n",
       "    <tr>\n",
       "      <th>0</th>\n",
       "      <td>6</td>\n",
       "      <td>37746</td>\n",
       "    </tr>\n",
       "    <tr>\n",
       "      <th>1</th>\n",
       "      <td>5</td>\n",
       "      <td>44684</td>\n",
       "    </tr>\n",
       "    <tr>\n",
       "      <th>2</th>\n",
       "      <td>1</td>\n",
       "      <td>724544</td>\n",
       "    </tr>\n",
       "    <tr>\n",
       "      <th>3</th>\n",
       "      <td>3</td>\n",
       "      <td>182889</td>\n",
       "    </tr>\n",
       "    <tr>\n",
       "      <th>4</th>\n",
       "      <td>2</td>\n",
       "      <td>345966</td>\n",
       "    </tr>\n",
       "    <tr>\n",
       "      <th>5</th>\n",
       "      <td>4</td>\n",
       "      <td>105720</td>\n",
       "    </tr>\n",
       "  </tbody>\n",
       "</table>\n",
       "</div>"
      ],
      "text/plain": [
       "   action_cnt  user_cnt\n",
       "0           6     37746\n",
       "1           5     44684\n",
       "2           1    724544\n",
       "3           3    182889\n",
       "4           2    345966\n",
       "5           4    105720"
      ]
     },
     "execution_count": 47,
     "metadata": {},
     "output_type": "execute_result"
    }
   ],
   "source": [
    "# gcoin purchase, open, craft, disassemble, repurpose, special_craft\n",
    "workshop_user.groupBy(\"AccountId\").agg(countDistinct(\"action\").alias(\"action_cnt\")).groupBy(\"action_cnt\").agg(countDistinct(\"AccountId\").alias(\"user_cnt\")).toPandas()"
   ]
  },
  {
   "cell_type": "code",
   "execution_count": 207,
   "metadata": {},
   "outputs": [
    {
     "data": {
      "text/html": [
       "<div>\n",
       "<style scoped>\n",
       "    .dataframe tbody tr th:only-of-type {\n",
       "        vertical-align: middle;\n",
       "    }\n",
       "\n",
       "    .dataframe tbody tr th {\n",
       "        vertical-align: top;\n",
       "    }\n",
       "\n",
       "    .dataframe thead th {\n",
       "        text-align: right;\n",
       "    }\n",
       "</style>\n",
       "<table border=\"1\" class=\"dataframe\">\n",
       "  <thead>\n",
       "    <tr style=\"text-align: right;\">\n",
       "      <th></th>\n",
       "      <th>action_cnt</th>\n",
       "      <th>user_cnt</th>\n",
       "    </tr>\n",
       "  </thead>\n",
       "  <tbody>\n",
       "    <tr>\n",
       "      <th>0</th>\n",
       "      <td>7</td>\n",
       "      <td>35389</td>\n",
       "    </tr>\n",
       "    <tr>\n",
       "      <th>1</th>\n",
       "      <td>6</td>\n",
       "      <td>43332</td>\n",
       "    </tr>\n",
       "    <tr>\n",
       "      <th>2</th>\n",
       "      <td>5</td>\n",
       "      <td>97675</td>\n",
       "    </tr>\n",
       "    <tr>\n",
       "      <th>3</th>\n",
       "      <td>1</td>\n",
       "      <td>536348</td>\n",
       "    </tr>\n",
       "    <tr>\n",
       "      <th>4</th>\n",
       "      <td>3</td>\n",
       "      <td>228603</td>\n",
       "    </tr>\n",
       "    <tr>\n",
       "      <th>5</th>\n",
       "      <td>2</td>\n",
       "      <td>442182</td>\n",
       "    </tr>\n",
       "    <tr>\n",
       "      <th>6</th>\n",
       "      <td>4</td>\n",
       "      <td>163530</td>\n",
       "    </tr>\n",
       "  </tbody>\n",
       "</table>\n",
       "</div>"
      ],
      "text/plain": [
       "   action_cnt  user_cnt\n",
       "0           7     35389\n",
       "1           6     43332\n",
       "2           5     97675\n",
       "3           1    536348\n",
       "4           3    228603\n",
       "5           2    442182\n",
       "6           4    163530"
      ]
     },
     "execution_count": 207,
     "metadata": {},
     "output_type": "execute_result"
    }
   ],
   "source": [
    "# bp purchase, gcoin purchase, open, craft, disassemble, repurpose, special_craft\n",
    "workshop_user.groupBy(\"AccountId\").agg(countDistinct(\"action\").alias(\"action_cnt\")).groupBy(\"action_cnt\").agg(countDistinct(\"AccountId\").alias(\"user_cnt\")).toPandas()"
   ]
  },
  {
   "cell_type": "code",
   "execution_count": 31,
   "metadata": {},
   "outputs": [],
   "source": [
    "action_1_user = workshop_user.groupBy(\"AccountId\").agg(countDistinct(\"action\").alias(\"action_cnt\")).where(col(\"action_cnt\") == 1)\n",
    "action_2_user = workshop_user.groupBy(\"AccountId\").agg(countDistinct(\"action\").alias(\"action_cnt\")).where(col(\"action_cnt\") == 2)\n",
    "action_3_user = workshop_user.groupBy(\"AccountId\").agg(countDistinct(\"action\").alias(\"action_cnt\")).where(col(\"action_cnt\") == 3)\n",
    "action_4_user = workshop_user.groupBy(\"AccountId\").agg(countDistinct(\"action\").alias(\"action_cnt\")).where(col(\"action_cnt\") == 4)\n",
    "action_5_user = workshop_user.groupBy(\"AccountId\").agg(countDistinct(\"action\").alias(\"action_cnt\")).where(col(\"action_cnt\") == 5)"
   ]
  },
  {
   "cell_type": "code",
   "execution_count": 209,
   "metadata": {},
   "outputs": [
    {
     "name": "stdout",
     "output_type": "stream",
     "text": [
      "+-----------+-------------------------+\n",
      "|     action|count(DISTINCT AccountId)|\n",
      "+-----------+-------------------------+\n",
      "|bp_workshop|                   105510|\n",
      "|      gcoin|                    11465|\n",
      "|       open|                   419373|\n",
      "+-----------+-------------------------+\n",
      "\n"
     ]
    }
   ],
   "source": [
    "workshop_user.join(action_1_user, \"AccountId\").groupBy(\"action\").agg(countDistinct(\"AccountId\")).show()"
   ]
  },
  {
   "cell_type": "code",
   "execution_count": 32,
   "metadata": {},
   "outputs": [
    {
     "name": "stdout",
     "output_type": "stream",
     "text": [
      "+-------------+-------------------------+\n",
      "|       action|count(DISTINCT AccountId)|\n",
      "+-------------+-------------------------+\n",
      "|  disassemble|                    45959|\n",
      "|    repurpose|                      129|\n",
      "|  bp_workshop|                   293706|\n",
      "|        craft|                    64719|\n",
      "|        gcoin|                    42382|\n",
      "|special_craft|                     1403|\n",
      "|         open|                   436066|\n",
      "+-------------+-------------------------+\n",
      "\n"
     ]
    }
   ],
   "source": [
    "workshop_user.join(action_2_user, \"AccountId\").groupBy(\"action\").agg(countDistinct(\"AccountId\")).show()"
   ]
  },
  {
   "cell_type": "code",
   "execution_count": 33,
   "metadata": {},
   "outputs": [
    {
     "name": "stdout",
     "output_type": "stream",
     "text": [
      "+-------------+-------------------------+\n",
      "|       action|count(DISTINCT AccountId)|\n",
      "+-------------+-------------------------+\n",
      "|  disassemble|                    94679|\n",
      "|    repurpose|                     5469|\n",
      "|  bp_workshop|                   197490|\n",
      "|        craft|                   104026|\n",
      "|        gcoin|                    51926|\n",
      "|special_craft|                     3645|\n",
      "|         open|                   228574|\n",
      "+-------------+-------------------------+\n",
      "\n"
     ]
    }
   ],
   "source": [
    "workshop_user.join(action_3_user, \"AccountId\").groupBy(\"action\").agg(countDistinct(\"AccountId\")).show()"
   ]
  },
  {
   "cell_type": "code",
   "execution_count": null,
   "metadata": {},
   "outputs": [],
   "source": []
  },
  {
   "cell_type": "code",
   "execution_count": 20,
   "metadata": {},
   "outputs": [
    {
     "name": "stdout",
     "output_type": "stream",
     "text": [
      "+-------------------------+\n",
      "|count(DISTINCT AccountId)|\n",
      "+-------------------------+\n",
      "|                  1423995|\n",
      "+-------------------------+\n",
      "\n"
     ]
    }
   ],
   "source": [
    "# open, craft, disassemble, repurpose, special_craft\n",
    "workshop_user.select(countDistinct(\"AccountId\")).show()"
   ]
  },
  {
   "cell_type": "markdown",
   "metadata": {},
   "source": [
    "workshop action 몇가지를 했는지"
   ]
  },
  {
   "cell_type": "code",
   "execution_count": 32,
   "metadata": {},
   "outputs": [
    {
     "data": {
      "text/html": [
       "<div>\n",
       "<style scoped>\n",
       "    .dataframe tbody tr th:only-of-type {\n",
       "        vertical-align: middle;\n",
       "    }\n",
       "\n",
       "    .dataframe tbody tr th {\n",
       "        vertical-align: top;\n",
       "    }\n",
       "\n",
       "    .dataframe thead th {\n",
       "        text-align: right;\n",
       "    }\n",
       "</style>\n",
       "<table border=\"1\" class=\"dataframe\">\n",
       "  <thead>\n",
       "    <tr style=\"text-align: right;\">\n",
       "      <th></th>\n",
       "      <th>action_cnt</th>\n",
       "      <th>user_cnt</th>\n",
       "    </tr>\n",
       "  </thead>\n",
       "  <tbody>\n",
       "    <tr>\n",
       "      <th>0</th>\n",
       "      <td>5</td>\n",
       "      <td>38800</td>\n",
       "    </tr>\n",
       "    <tr>\n",
       "      <th>1</th>\n",
       "      <td>1</td>\n",
       "      <td>775899</td>\n",
       "    </tr>\n",
       "    <tr>\n",
       "      <th>2</th>\n",
       "      <td>3</td>\n",
       "      <td>214288</td>\n",
       "    </tr>\n",
       "    <tr>\n",
       "      <th>3</th>\n",
       "      <td>2</td>\n",
       "      <td>336373</td>\n",
       "    </tr>\n",
       "    <tr>\n",
       "      <th>4</th>\n",
       "      <td>4</td>\n",
       "      <td>58635</td>\n",
       "    </tr>\n",
       "  </tbody>\n",
       "</table>\n",
       "</div>"
      ],
      "text/plain": [
       "   action_cnt  user_cnt\n",
       "0           5     38800\n",
       "1           1    775899\n",
       "2           3    214288\n",
       "3           2    336373\n",
       "4           4     58635"
      ]
     },
     "execution_count": 32,
     "metadata": {},
     "output_type": "execute_result"
    }
   ],
   "source": [
    "# open, craft, disassemble, repurpose, special_craft\n",
    "workshop_user.groupBy(\"AccountId\").agg(countDistinct(\"action\").alias(\"action_cnt\")).groupBy(\"action_cnt\").agg(countDistinct(\"AccountId\").alias(\"user_cnt\")).toPandas()"
   ]
  },
  {
   "cell_type": "code",
   "execution_count": 37,
   "metadata": {},
   "outputs": [],
   "source": [
    "# open외에 다른 행동은 무엇을 하는가\n",
    "action_2_user = workshop_user.groupBy(\"AccountId\").agg(countDistinct(\"action\").alias(\"action_cnt\")).where(col(\"action_cnt\") == 2)\n",
    "action_3_user = workshop_user.groupBy(\"AccountId\").agg(countDistinct(\"action\").alias(\"action_cnt\")).where(col(\"action_cnt\") == 3)\n",
    "action_4_user = workshop_user.groupBy(\"AccountId\").agg(countDistinct(\"action\").alias(\"action_cnt\")).where(col(\"action_cnt\") == 4)"
   ]
  },
  {
   "cell_type": "code",
   "execution_count": 38,
   "metadata": {},
   "outputs": [
    {
     "name": "stdout",
     "output_type": "stream",
     "text": [
      "+-------------+-------------------------+\n",
      "|       action|count(DISTINCT AccountId)|\n",
      "+-------------+-------------------------+\n",
      "|  disassemble|                   148698|\n",
      "|    repurpose|                     7845|\n",
      "|        craft|                   175399|\n",
      "|special_craft|                     4431|\n",
      "|         open|                   336373|\n",
      "+-------------+-------------------------+\n",
      "\n"
     ]
    }
   ],
   "source": [
    "workshop_user.join(action_2_user.select(\"AccountId\").distinct(), \"AccountId\").groupBy(\"action\").agg(countDistinct(\"AccountId\")).show()"
   ]
  },
  {
   "cell_type": "code",
   "execution_count": null,
   "metadata": {},
   "outputs": [],
   "source": []
  },
  {
   "cell_type": "code",
   "execution_count": null,
   "metadata": {},
   "outputs": [],
   "source": []
  },
  {
   "cell_type": "code",
   "execution_count": 30,
   "metadata": {},
   "outputs": [],
   "source": [
    "not_open_crate = workshop_user.join(open_crate.select(\"AccountId\").distinct(), \"AccountId\", \"leftanti\")"
   ]
  },
  {
   "cell_type": "code",
   "execution_count": 34,
   "metadata": {
    "collapsed": true,
    "jupyter": {
     "outputs_hidden": true
    }
   },
   "outputs": [
    {
     "name": "stdout",
     "output_type": "stream",
     "text": [
      "+----------------------------------------+-------------+\n",
      "|AccountId                               |action       |\n",
      "+----------------------------------------+-------------+\n",
      "|account.7b5c5abfe2fb41dd85072090febdb7dd|special_craft|\n",
      "|account.07fb4d320074457694025466ae693ec3|special_craft|\n",
      "|account.42b2cc2f2a5545c8938453be7e60a76b|special_craft|\n",
      "|account.ff54ee01588d4f0a8ef42feaad97317d|special_craft|\n",
      "|account.0952eab5dfd14eedb1217a162ec8e4cf|special_craft|\n",
      "|account.403d0680d51d4babbdeff3eb2e952f58|special_craft|\n",
      "|account.c7a2c3144cad4f22976c117cb721a8d4|special_craft|\n",
      "|account.a53b7d5fd58742a082f1707c08896d96|special_craft|\n",
      "|account.6bb2026b2aa14d9d91c45893e3ee68d4|special_craft|\n",
      "|account.ccba98b6186a4a03a7ab5e1ce90408d3|special_craft|\n",
      "|account.7c018e74571047b993d1527a7502ce0d|special_craft|\n",
      "|account.2baf70c782d24b389c60adc396186afc|special_craft|\n",
      "|account.ecd5658049ca41acb8b804a6081f6657|special_craft|\n",
      "|account.147525f755db47a39f68939be71045c4|special_craft|\n",
      "|account.8e72f2fcd7414d3d91937fc8ce1977b8|special_craft|\n",
      "|account.ef629192901a4a92852f1e39345bae4e|special_craft|\n",
      "|account.f7fdb428912f44358236c418cb18021e|special_craft|\n",
      "|account.4eeb684a574447fda8a19c7f61105ee8|special_craft|\n",
      "|account.dc520fadaff244279c2af7df706989a5|special_craft|\n",
      "|account.30648abcff2541febb4a184791853c74|special_craft|\n",
      "|account.b236ff560e194de58c39250b89e7d2bf|special_craft|\n",
      "|account.d0566e7350f64456b515197dd947b36a|special_craft|\n",
      "|account.4c9eebd244884300918c9650841cc64b|special_craft|\n",
      "|account.87e2925b1d58498a88fe6b87e1e049f4|special_craft|\n",
      "|account.86078652e42e4615b9ef020ac23498cb|special_craft|\n",
      "|account.cc70dd0176ea4df7837b37aec0d931ad|special_craft|\n",
      "|account.9601db6cb452478191af4687737fa74d|special_craft|\n",
      "|account.093cd84364e74ac79c29f8244d1b2fea|special_craft|\n",
      "|account.5ee89bc430c44dffa2f639c1c9e63b03|special_craft|\n",
      "|account.e9e60ec50827455c89c20cd4e2c47b45|special_craft|\n",
      "|account.8d5c3e427784439b838bf5330aec1876|special_craft|\n",
      "|account.8c4d300b74244086895e98e608483833|special_craft|\n",
      "|account.3a0c618abda14478887cb7cfa3200558|special_craft|\n",
      "|account.14f2a706bf90477988adebaccbaf2fe5|special_craft|\n",
      "|account.04cdb4090d7f4ad68ccd83092463e74c|special_craft|\n",
      "|account.0317ed8bfb494d31bdd56a0bb20c9000|special_craft|\n",
      "|account.f58d762cc277482c99bb278e435c252b|special_craft|\n",
      "|account.86f96c43ae654036807fd0024ae2d0e1|special_craft|\n",
      "|account.ab740ea501ae475ab013039826ee4194|special_craft|\n",
      "|account.b3114887af7f40a49017af97d259bfbf|special_craft|\n",
      "|account.b61abacb43214606a64a871583dd8808|special_craft|\n",
      "|account.24b9f48d9b3d454096f3616d260b6c2e|special_craft|\n",
      "|account.df3a1771c9204df0a933feee9b62c250|special_craft|\n",
      "|account.d58070c872ff4ce1990663400fce59d1|special_craft|\n",
      "|account.3442a30536994da289d683a7076eb85f|special_craft|\n",
      "|account.2e9c09b8ddd24751b9a37fd4a3b9f858|special_craft|\n",
      "|account.ac54be059b5e4054be2b52ada82b332e|special_craft|\n",
      "|account.3bbc9717b56f41b1b34ea7e5ebc480e8|special_craft|\n",
      "|account.f28c3b1ace604d66a1c4c981d1a140f7|special_craft|\n",
      "|account.03aae19359a6491a891bfeacdc6f14c9|special_craft|\n",
      "|account.06dd8bf6df8d4e748423717c87e78af2|special_craft|\n",
      "|account.d5f3ecc4542a4816b15df934c6a79cb9|special_craft|\n",
      "|account.ba9bc7814870497991e3192de2b749a3|special_craft|\n",
      "|account.65d1285ee8274b339986c4804ad5ee20|special_craft|\n",
      "|account.6d41b95ce29b4e2eb645d7d08cc3fe60|special_craft|\n",
      "|account.f4817f3d489c4cb08ecf1eeffb10c15c|special_craft|\n",
      "+----------------------------------------+-------------+\n",
      "\n"
     ]
    }
   ],
   "source": [
    "not_open_crate.show(60, truncate=False)"
   ]
  },
  {
   "cell_type": "code",
   "execution_count": 35,
   "metadata": {},
   "outputs": [],
   "source": [
    "no_open_crate_action = workshop_user.join(not_open_crate.select(\"AccountId\").distinct(), \"AccountId\")"
   ]
  },
  {
   "cell_type": "code",
   "execution_count": 36,
   "metadata": {},
   "outputs": [
    {
     "data": {
      "text/html": [
       "<div>\n",
       "<style scoped>\n",
       "    .dataframe tbody tr th:only-of-type {\n",
       "        vertical-align: middle;\n",
       "    }\n",
       "\n",
       "    .dataframe tbody tr th {\n",
       "        vertical-align: top;\n",
       "    }\n",
       "\n",
       "    .dataframe thead th {\n",
       "        text-align: right;\n",
       "    }\n",
       "</style>\n",
       "<table border=\"1\" class=\"dataframe\">\n",
       "  <thead>\n",
       "    <tr style=\"text-align: right;\">\n",
       "      <th></th>\n",
       "      <th>action_cnt</th>\n",
       "      <th>user_cnt</th>\n",
       "    </tr>\n",
       "  </thead>\n",
       "  <tbody>\n",
       "    <tr>\n",
       "      <th>0</th>\n",
       "      <td>1</td>\n",
       "      <td>56</td>\n",
       "    </tr>\n",
       "  </tbody>\n",
       "</table>\n",
       "</div>"
      ],
      "text/plain": [
       "   action_cnt  user_cnt\n",
       "0           1        56"
      ]
     },
     "execution_count": 36,
     "metadata": {},
     "output_type": "execute_result"
    }
   ],
   "source": [
    "no_open_crate_action.groupBy(\"AccountId\").agg(countDistinct(\"action\").alias(\"action_cnt\")).groupBy(\"action_cnt\").agg(countDistinct(\"AccountId\").alias(\"user_cnt\")).toPandas()"
   ]
  },
  {
   "cell_type": "code",
   "execution_count": 40,
   "metadata": {},
   "outputs": [
    {
     "data": {
      "text/html": [
       "<div>\n",
       "<style scoped>\n",
       "    .dataframe tbody tr th:only-of-type {\n",
       "        vertical-align: middle;\n",
       "    }\n",
       "\n",
       "    .dataframe tbody tr th {\n",
       "        vertical-align: top;\n",
       "    }\n",
       "\n",
       "    .dataframe thead th {\n",
       "        text-align: right;\n",
       "    }\n",
       "</style>\n",
       "<table border=\"1\" class=\"dataframe\">\n",
       "  <thead>\n",
       "    <tr style=\"text-align: right;\">\n",
       "      <th></th>\n",
       "      <th>product_name</th>\n",
       "      <th>pu</th>\n",
       "      <th>paid_use</th>\n",
       "      <th>total_use</th>\n",
       "      <th>qty</th>\n",
       "    </tr>\n",
       "  </thead>\n",
       "  <tbody>\n",
       "    <tr>\n",
       "      <th>0</th>\n",
       "      <td>ARCHIVIST'S CHEST BUNDLE (x10)</td>\n",
       "      <td>52</td>\n",
       "      <td>165510</td>\n",
       "      <td>180000</td>\n",
       "      <td>75</td>\n",
       "    </tr>\n",
       "    <tr>\n",
       "      <th>1</th>\n",
       "      <td>ARCHIVIST'S CHEST</td>\n",
       "      <td>11</td>\n",
       "      <td>2830</td>\n",
       "      <td>3600</td>\n",
       "      <td>20</td>\n",
       "    </tr>\n",
       "    <tr>\n",
       "      <th>2</th>\n",
       "      <td>None</td>\n",
       "      <td>17</td>\n",
       "      <td>3800</td>\n",
       "      <td>5500</td>\n",
       "      <td>55</td>\n",
       "    </tr>\n",
       "    <tr>\n",
       "      <th>3</th>\n",
       "      <td>HUNTER'S CHEST PACK (x1)</td>\n",
       "      <td>5</td>\n",
       "      <td>330</td>\n",
       "      <td>1140</td>\n",
       "      <td>6</td>\n",
       "    </tr>\n",
       "    <tr>\n",
       "      <th>4</th>\n",
       "      <td>HUNTER'S CHEST</td>\n",
       "      <td>13</td>\n",
       "      <td>2080</td>\n",
       "      <td>3120</td>\n",
       "      <td>26</td>\n",
       "    </tr>\n",
       "    <tr>\n",
       "      <th>5</th>\n",
       "      <td>HUNTER'S CHEST PACK (x5)</td>\n",
       "      <td>5</td>\n",
       "      <td>5010</td>\n",
       "      <td>5700</td>\n",
       "      <td>6</td>\n",
       "    </tr>\n",
       "    <tr>\n",
       "      <th>6</th>\n",
       "      <td>ARCHIVIST'S CHEST BUNDLE (x1)</td>\n",
       "      <td>17</td>\n",
       "      <td>6070</td>\n",
       "      <td>11040</td>\n",
       "      <td>46</td>\n",
       "    </tr>\n",
       "    <tr>\n",
       "      <th>7</th>\n",
       "      <td>ARCHIVIST'S CHEST BUNDLE (x5)</td>\n",
       "      <td>4</td>\n",
       "      <td>4860</td>\n",
       "      <td>6000</td>\n",
       "      <td>5</td>\n",
       "    </tr>\n",
       "  </tbody>\n",
       "</table>\n",
       "</div>"
      ],
      "text/plain": [
       "                     product_name  pu  paid_use  total_use  qty\n",
       "0  ARCHIVIST'S CHEST BUNDLE (x10)  52    165510     180000   75\n",
       "1               ARCHIVIST'S CHEST  11      2830       3600   20\n",
       "2                            None  17      3800       5500   55\n",
       "3        HUNTER'S CHEST PACK (x1)   5       330       1140    6\n",
       "4                  HUNTER'S CHEST  13      2080       3120   26\n",
       "5        HUNTER'S CHEST PACK (x5)   5      5010       5700    6\n",
       "6   ARCHIVIST'S CHEST BUNDLE (x1)  17      6070      11040   46\n",
       "7   ARCHIVIST'S CHEST BUNDLE (x5)   4      4860       6000    5"
      ]
     },
     "execution_count": 40,
     "metadata": {},
     "output_type": "execute_result"
    }
   ],
   "source": [
    "gcoin.join(no_open_crate_action.withColumnRenamed(\"AccountId\", \"account_id\"), \"account_id\") \\\n",
    "    .groupBy(\"product_name\").agg(countDistinct(\"account_id\").alias(\"pu\"), sum(\"paid_use\").alias(\"paid_use\"), sum(col(\"paid_use\") + col(\"free_use\")).alias(\"total_use\"), sum(\"qty\").alias(\"qty\")).toPandas()"
   ]
  },
  {
   "cell_type": "code",
   "execution_count": 42,
   "metadata": {},
   "outputs": [
    {
     "data": {
      "text/html": [
       "<div>\n",
       "<style scoped>\n",
       "    .dataframe tbody tr th:only-of-type {\n",
       "        vertical-align: middle;\n",
       "    }\n",
       "\n",
       "    .dataframe tbody tr th {\n",
       "        vertical-align: top;\n",
       "    }\n",
       "\n",
       "    .dataframe thead th {\n",
       "        text-align: right;\n",
       "    }\n",
       "</style>\n",
       "<table border=\"1\" class=\"dataframe\">\n",
       "  <thead>\n",
       "    <tr style=\"text-align: right;\">\n",
       "      <th></th>\n",
       "      <th>ProductId</th>\n",
       "      <th>token_used</th>\n",
       "      <th>pu</th>\n",
       "      <th>amount</th>\n",
       "    </tr>\n",
       "  </thead>\n",
       "  <tbody>\n",
       "    <tr>\n",
       "      <th>0</th>\n",
       "      <td>itemdesc.13000579</td>\n",
       "      <td>610</td>\n",
       "      <td>54</td>\n",
       "      <td>61</td>\n",
       "    </tr>\n",
       "    <tr>\n",
       "      <th>1</th>\n",
       "      <td>itemdesc.13000612</td>\n",
       "      <td>100</td>\n",
       "      <td>1</td>\n",
       "      <td>1</td>\n",
       "    </tr>\n",
       "    <tr>\n",
       "      <th>2</th>\n",
       "      <td>itemdesc.13000611</td>\n",
       "      <td>100</td>\n",
       "      <td>1</td>\n",
       "      <td>1</td>\n",
       "    </tr>\n",
       "  </tbody>\n",
       "</table>\n",
       "</div>"
      ],
      "text/plain": [
       "           ProductId  token_used  pu  amount\n",
       "0  itemdesc.13000579         610  54      61\n",
       "1  itemdesc.13000612         100   1       1\n",
       "2  itemdesc.13000611         100   1       1"
      ]
     },
     "execution_count": 42,
     "metadata": {},
     "output_type": "execute_result"
    }
   ],
   "source": [
    "special_craft.join(not_open_crate.select(\"AccountId\").distinct(), \"AccountId\").groupBy(\"ProductId\")\\\n",
    "    .agg(sum(\"LocalPrice\").alias(\"token_used\"), countDistinct(\"AccountId\").alias(\"pu\"), sum(\"Amount\").alias(\"amount\")).toPandas()"
   ]
  },
  {
   "cell_type": "code",
   "execution_count": null,
   "metadata": {},
   "outputs": [],
   "source": []
  }
 ],
 "metadata": {
  "kernelspec": {
   "display_name": "Python 3",
   "language": "python",
   "name": "python3"
  },
  "language_info": {
   "codemirror_mode": {
    "name": "ipython",
    "version": 3
   },
   "file_extension": ".py",
   "mimetype": "text/x-python",
   "name": "python",
   "nbconvert_exporter": "python",
   "pygments_lexer": "ipython3",
   "version": "3.6.7"
  }
 },
 "nbformat": 4,
 "nbformat_minor": 4
}
