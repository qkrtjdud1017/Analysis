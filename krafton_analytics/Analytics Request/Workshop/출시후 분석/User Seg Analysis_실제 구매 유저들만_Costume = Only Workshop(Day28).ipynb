{
 "cells": [
  {
   "cell_type": "code",
   "execution_count": 1,
   "metadata": {},
   "outputs": [
    {
     "name": "stdout",
     "output_type": "stream",
     "text": [
      "Spark cluster not assigned. creating a new one...\n",
      "Node spec: 8 executors with 48G RAM each\n",
      "Job Port 4047 is assigned for requested cluster\n",
      "Waiting for Spark master to be available...\n",
      "Spark master launched!\n",
      "Creating new Spark session, name: west0_ws_seg3...\n",
      "Waiting for all executors ready...\n",
      "All executors connected!\n",
      "Complete! elapsed time: 00:00:23\n"
     ]
    }
   ],
   "source": [
    "from pubg_util import mysql, load_schema, notifier\n",
    "from sphynx import sphynx, NODE_SMALL, NODE_MEDIUM, NODE_LARGE\n",
    "from pyspark.sql.functions import *\n",
    "import pandas as pd\n",
    "import pickle\n",
    "\n",
    "spark = sphynx.get_spark(executor_count=8, app_name='west0_ws_seg3', node_spec=NODE_LARGE)"
   ]
  },
  {
   "cell_type": "code",
   "execution_count": 23,
   "metadata": {},
   "outputs": [
    {
     "name": "stdout",
     "output_type": "stream",
     "text": [
      "Stopping Spark session...\n",
      "Destroying Spark cluster...\n",
      "Done!\n",
      "You can safely ignore the warning message if there is any.\n"
     ]
    }
   ],
   "source": [
    "sphynx.stop()"
   ]
  },
  {
   "cell_type": "code",
   "execution_count": 3,
   "metadata": {},
   "outputs": [],
   "source": [
    "# 각 day 28\n",
    "start_date = \"2022-06-08\"\n",
    "end_date = \"2022-07-05\"\n",
    "\n",
    "ws_start_date = \"2022-07-13\"\n",
    "ws_day_28 = \"2022-08-09\""
   ]
  },
  {
   "cell_type": "code",
   "execution_count": 4,
   "metadata": {},
   "outputs": [],
   "source": [
    "gcoin = load_data_mart(\"pc\", ws_start_date, ws_day_28, \"gcoin_use\")\n",
    "wsus_gcoin = gcoin.where(col(\"event_name\").like(\"%wsus%\"))\n",
    "wsus_user = wsus_gcoin.select(\"account_id\").distinct()\n",
    "costume = gcoin.where(col(\"event_name\").like(\"%workshop%\"))\n",
    "costume_user = costume.select(\"account_id\").distinct()"
   ]
  },
  {
   "cell_type": "code",
   "execution_count": 5,
   "metadata": {},
   "outputs": [],
   "source": [
    "only_costume_gcoin = costume.join(wsus_user, \"account_id\", \"leftanti\")\n",
    "only_wsus_gcoin= wsus_gcoin.join(costume_user, \"account_id\", \"leftanti\")"
   ]
  },
  {
   "cell_type": "code",
   "execution_count": 6,
   "metadata": {},
   "outputs": [],
   "source": [
    "costume_and_wsus_gcoin_user = wsus_gcoin.join(costume_user, \"account_id\").select(\"account_id\").distinct()"
   ]
  },
  {
   "cell_type": "code",
   "execution_count": 7,
   "metadata": {},
   "outputs": [],
   "source": [
    "costume_and_wsus_gcoin = costume.select(\"account_id\", \"product_id\", \"paid_use\", \"free_use\", \"sub_category\", \"event_type\", \"event_name\", \"price\") \\\n",
    "    .unionByName(wsus_gcoin.select(\"account_id\", \"product_id\", \"paid_use\", \"free_use\", \"sub_category\", \"event_type\", \"event_name\", \"price\")) \\\n",
    "    .join(costume_and_wsus_gcoin_user, \"account_id\")"
   ]
  },
  {
   "cell_type": "markdown",
   "metadata": {},
   "source": [
    "## a"
   ]
  },
  {
   "cell_type": "code",
   "execution_count": 8,
   "metadata": {},
   "outputs": [],
   "source": [
    "from pyspark.sql.types import * \n",
    "\n",
    "def chest_cnt(product_id):\n",
    "    if product_id in [\"itemdesc.14300001\", \"itemdesc.14300002\", \"itemdesc.13000577\", \"itemdesc.13000580\"]:\n",
    "        return 1\n",
    "    elif product_id in [\"itemdesc.13000578\", \"itemdesc.13000581\"]:\n",
    "        return 5\n",
    "    elif product_id == \"itemdesc.13000582\":\n",
    "        return 10\n",
    "    else:\n",
    "        return 0\n",
    "\n",
    "assign_chest_cnt = udf(chest_cnt, IntegerType())\n",
    "only_costume_gcoin = only_costume_gcoin.withColumn(\"chest_cnt\", assign_chest_cnt(\"product_id\"))"
   ]
  },
  {
   "cell_type": "code",
   "execution_count": 9,
   "metadata": {},
   "outputs": [],
   "source": [
    "only_costume_gcoin_by_user = only_costume_gcoin.groupBy(\"account_id\") \\\n",
    "    .agg(sum(col(\"free_use\") + col(\"paid_use\")).alias(\"total_gcoin\"), sum(\"paid_use\").alias(\"paid_use\"), sum(\"chest_cnt\").alias(\"chest_cnt\"))"
   ]
  },
  {
   "cell_type": "code",
   "execution_count": 10,
   "metadata": {},
   "outputs": [
    {
     "data": {
      "text/html": [
       "<div>\n",
       "<style scoped>\n",
       "    .dataframe tbody tr th:only-of-type {\n",
       "        vertical-align: middle;\n",
       "    }\n",
       "\n",
       "    .dataframe tbody tr th {\n",
       "        vertical-align: top;\n",
       "    }\n",
       "\n",
       "    .dataframe thead th {\n",
       "        text-align: right;\n",
       "    }\n",
       "</style>\n",
       "<table border=\"1\" class=\"dataframe\">\n",
       "  <thead>\n",
       "    <tr style=\"text-align: right;\">\n",
       "      <th></th>\n",
       "      <th>group</th>\n",
       "      <th>user_cnt</th>\n",
       "      <th>total_gcoin</th>\n",
       "      <th>paid_use</th>\n",
       "      <th>chest_cnt</th>\n",
       "    </tr>\n",
       "  </thead>\n",
       "  <tbody>\n",
       "    <tr>\n",
       "      <th>0</th>\n",
       "      <td>A</td>\n",
       "      <td>389679</td>\n",
       "      <td>119843140</td>\n",
       "      <td>20753695</td>\n",
       "      <td>445366</td>\n",
       "    </tr>\n",
       "    <tr>\n",
       "      <th>1</th>\n",
       "      <td>B</td>\n",
       "      <td>111044</td>\n",
       "      <td>232457230</td>\n",
       "      <td>121828170</td>\n",
       "      <td>881454</td>\n",
       "    </tr>\n",
       "    <tr>\n",
       "      <th>2</th>\n",
       "      <td>C</td>\n",
       "      <td>21808</td>\n",
       "      <td>152104690</td>\n",
       "      <td>126634285</td>\n",
       "      <td>569479</td>\n",
       "    </tr>\n",
       "    <tr>\n",
       "      <th>3</th>\n",
       "      <td>D</td>\n",
       "      <td>21504</td>\n",
       "      <td>363651570</td>\n",
       "      <td>319809125</td>\n",
       "      <td>1236826</td>\n",
       "    </tr>\n",
       "    <tr>\n",
       "      <th>4</th>\n",
       "      <td>E</td>\n",
       "      <td>8757</td>\n",
       "      <td>527643200</td>\n",
       "      <td>471453105</td>\n",
       "      <td>1365874</td>\n",
       "    </tr>\n",
       "  </tbody>\n",
       "</table>\n",
       "</div>"
      ],
      "text/plain": [
       "  group  user_cnt  total_gcoin   paid_use  chest_cnt\n",
       "0     A    389679    119843140   20753695     445366\n",
       "1     B    111044    232457230  121828170     881454\n",
       "2     C     21808    152104690  126634285     569479\n",
       "3     D     21504    363651570  319809125    1236826\n",
       "4     E      8757    527643200  471453105    1365874"
      ]
     },
     "execution_count": 10,
     "metadata": {},
     "output_type": "execute_result"
    }
   ],
   "source": [
    "only_costume_gcoin_by_user = only_costume_gcoin_by_user.withColumn(\"group\", \\\n",
    "                                         when(col(\"total_gcoin\") <= 1000, \"A\") \\\n",
    "                                        .when((col(\"total_gcoin\") > 1000) & (col(\"total_gcoin\") <= 5000), \"B\") \\\n",
    "                                        .when((col(\"total_gcoin\") > 5000) & (col(\"total_gcoin\") <= 10000), \"C\") \\\n",
    "                                        .when((col(\"total_gcoin\") > 10000) & (col(\"total_gcoin\") <= 30000), \"D\") \\\n",
    "                                        .when((col(\"total_gcoin\") > 30000), \"E\") \\\n",
    "                                     )\n",
    "only_costume_gcoin_by_user.groupBy(\"group\").agg(countDistinct(\"account_id\").alias(\"user_cnt\"), sum(\"total_gcoin\").alias(\"total_gcoin\"), sum(\"paid_use\").alias(\"paid_use\"), sum(\"chest_cnt\").alias(\"chest_cnt\")).orderBy(\"group\").toPandas()"
   ]
  },
  {
   "cell_type": "code",
   "execution_count": 11,
   "metadata": {},
   "outputs": [
    {
     "data": {
      "text/html": [
       "<div>\n",
       "<style scoped>\n",
       "    .dataframe tbody tr th:only-of-type {\n",
       "        vertical-align: middle;\n",
       "    }\n",
       "\n",
       "    .dataframe tbody tr th {\n",
       "        vertical-align: top;\n",
       "    }\n",
       "\n",
       "    .dataframe thead th {\n",
       "        text-align: right;\n",
       "    }\n",
       "</style>\n",
       "<table border=\"1\" class=\"dataframe\">\n",
       "  <thead>\n",
       "    <tr style=\"text-align: right;\">\n",
       "      <th></th>\n",
       "      <th>group</th>\n",
       "      <th>type</th>\n",
       "      <th>user_cnt</th>\n",
       "      <th>total_use</th>\n",
       "      <th>paid_use</th>\n",
       "      <th>chest_cnt</th>\n",
       "    </tr>\n",
       "  </thead>\n",
       "  <tbody>\n",
       "    <tr>\n",
       "      <th>0</th>\n",
       "      <td>A</td>\n",
       "      <td>workshop</td>\n",
       "      <td>389679</td>\n",
       "      <td>119843140</td>\n",
       "      <td>20753695</td>\n",
       "      <td>445366</td>\n",
       "    </tr>\n",
       "    <tr>\n",
       "      <th>1</th>\n",
       "      <td>B</td>\n",
       "      <td>workshop</td>\n",
       "      <td>111044</td>\n",
       "      <td>232457230</td>\n",
       "      <td>121828170</td>\n",
       "      <td>881454</td>\n",
       "    </tr>\n",
       "    <tr>\n",
       "      <th>2</th>\n",
       "      <td>C</td>\n",
       "      <td>workshop</td>\n",
       "      <td>21808</td>\n",
       "      <td>152104690</td>\n",
       "      <td>126634285</td>\n",
       "      <td>569479</td>\n",
       "    </tr>\n",
       "    <tr>\n",
       "      <th>3</th>\n",
       "      <td>D</td>\n",
       "      <td>workshop</td>\n",
       "      <td>21504</td>\n",
       "      <td>363651570</td>\n",
       "      <td>319809125</td>\n",
       "      <td>1236826</td>\n",
       "    </tr>\n",
       "    <tr>\n",
       "      <th>4</th>\n",
       "      <td>E</td>\n",
       "      <td>workshop</td>\n",
       "      <td>8757</td>\n",
       "      <td>527643200</td>\n",
       "      <td>471453105</td>\n",
       "      <td>1365874</td>\n",
       "    </tr>\n",
       "  </tbody>\n",
       "</table>\n",
       "</div>"
      ],
      "text/plain": [
       "  group      type  user_cnt  total_use   paid_use  chest_cnt\n",
       "0     A  workshop    389679  119843140   20753695     445366\n",
       "1     B  workshop    111044  232457230  121828170     881454\n",
       "2     C  workshop     21808  152104690  126634285     569479\n",
       "3     D  workshop     21504  363651570  319809125    1236826\n",
       "4     E  workshop      8757  527643200  471453105    1365874"
      ]
     },
     "execution_count": 11,
     "metadata": {},
     "output_type": "execute_result"
    }
   ],
   "source": [
    "only_costume_gcoin.join(only_costume_gcoin_by_user.select(\"account_id\", \"group\"), \"account_id\") \\\n",
    "    .withColumn(\"type\", when(col(\"event_name\").like(\"%workshop%\"), \"workshop\").otherwise(lit(\"costume\"))) \\\n",
    "    .groupBy(\"group\", \"type\").agg(countDistinct(\"account_id\").alias(\"user_cnt\"), sum(col(\"paid_use\") + col(\"free_use\")).alias(\"total_use\"), sum(\"paid_use\").alias(\"paid_use\"), sum(\"chest_cnt\").alias(\"chest_cnt\")) \\\n",
    "    .orderBy(\"group\", \"type\").toPandas()"
   ]
  },
  {
   "cell_type": "code",
   "execution_count": 12,
   "metadata": {},
   "outputs": [],
   "source": [
    "only_costume_gcoin_by_user = only_costume_gcoin.join(only_costume_gcoin_by_user.select(\"account_id\", \"group\"), \"account_id\") \\\n",
    "    .withColumn(\"type\", when(col(\"event_name\").like(\"%workshop%\"), \"workshop\").otherwise(lit(\"costume\"))) \\\n",
    "    .groupBy(\"type\", \"account_id\", \"group\").agg(sum(\"paid_use\").alias(\"paid_use\"), sum(col(\"paid_use\")+col(\"free_use\")).alias(\"total_use\"), sum(\"chest_cnt\").alias(\"chest_cnt\")).toPandas()\n",
    "only_costume_gcoin_by_user.to_csv(\"./only_costume_gcoin_by_user3_day28.csv\", index=False)"
   ]
  },
  {
   "cell_type": "code",
   "execution_count": null,
   "metadata": {},
   "outputs": [],
   "source": []
  },
  {
   "cell_type": "markdown",
   "metadata": {},
   "source": [
    "## b"
   ]
  },
  {
   "cell_type": "code",
   "execution_count": 13,
   "metadata": {},
   "outputs": [],
   "source": [
    "def wsus_cnt(price):\n",
    "    if price == 1800:\n",
    "        return 10\n",
    "    elif price == 200:\n",
    "        return 1\n",
    "    else:\n",
    "        return 0\n",
    "    \n",
    "assign_wsus_cnt = udf(wsus_cnt, IntegerType())\n",
    "costume_and_wsus_gcoin = costume_and_wsus_gcoin.withColumn(\"wsus_cnt\", assign_wsus_cnt(\"price\"))"
   ]
  },
  {
   "cell_type": "code",
   "execution_count": 14,
   "metadata": {},
   "outputs": [],
   "source": [
    "assign_chest_cnt = udf(chest_cnt, IntegerType())\n",
    "costume_and_wsus_gcoin = costume_and_wsus_gcoin.withColumn(\"chest_cnt\", assign_chest_cnt(\"product_id\"))"
   ]
  },
  {
   "cell_type": "code",
   "execution_count": 15,
   "metadata": {},
   "outputs": [],
   "source": [
    "costume_and_wsus_gcoin_by_user = costume_and_wsus_gcoin.groupBy(\"account_id\") \\\n",
    "    .agg(sum(\"wsus_cnt\").alias(\"wsus_cnt\"), sum(\"chest_cnt\").alias(\"chest_cnt\"), sum(\"paid_use\").alias(\"paid_use\"), sum(col(\"paid_use\") + col(\"free_use\")).alias(\"total_use\"))"
   ]
  },
  {
   "cell_type": "code",
   "execution_count": 16,
   "metadata": {},
   "outputs": [
    {
     "data": {
      "text/html": [
       "<div>\n",
       "<style scoped>\n",
       "    .dataframe tbody tr th:only-of-type {\n",
       "        vertical-align: middle;\n",
       "    }\n",
       "\n",
       "    .dataframe tbody tr th {\n",
       "        vertical-align: top;\n",
       "    }\n",
       "\n",
       "    .dataframe thead th {\n",
       "        text-align: right;\n",
       "    }\n",
       "</style>\n",
       "<table border=\"1\" class=\"dataframe\">\n",
       "  <thead>\n",
       "    <tr style=\"text-align: right;\">\n",
       "      <th></th>\n",
       "      <th>group</th>\n",
       "      <th>user_cnt</th>\n",
       "      <th>total_use</th>\n",
       "      <th>paid_use</th>\n",
       "      <th>wsus_cnt</th>\n",
       "      <th>chest_cnt</th>\n",
       "    </tr>\n",
       "  </thead>\n",
       "  <tbody>\n",
       "    <tr>\n",
       "      <th>0</th>\n",
       "      <td>A</td>\n",
       "      <td>63025</td>\n",
       "      <td>170277570</td>\n",
       "      <td>121538375</td>\n",
       "      <td>97884</td>\n",
       "      <td>505217</td>\n",
       "    </tr>\n",
       "    <tr>\n",
       "      <th>1</th>\n",
       "      <td>B</td>\n",
       "      <td>29563</td>\n",
       "      <td>229687250</td>\n",
       "      <td>182206960</td>\n",
       "      <td>250054</td>\n",
       "      <td>584399</td>\n",
       "    </tr>\n",
       "    <tr>\n",
       "      <th>2</th>\n",
       "      <td>C</td>\n",
       "      <td>10711</td>\n",
       "      <td>178131830</td>\n",
       "      <td>154328580</td>\n",
       "      <td>246352</td>\n",
       "      <td>406496</td>\n",
       "    </tr>\n",
       "    <tr>\n",
       "      <th>3</th>\n",
       "      <td>D</td>\n",
       "      <td>18773</td>\n",
       "      <td>674328360</td>\n",
       "      <td>597459870</td>\n",
       "      <td>1597999</td>\n",
       "      <td>1087851</td>\n",
       "    </tr>\n",
       "    <tr>\n",
       "      <th>4</th>\n",
       "      <td>E</td>\n",
       "      <td>2450</td>\n",
       "      <td>302897860</td>\n",
       "      <td>271053010</td>\n",
       "      <td>1148176</td>\n",
       "      <td>229509</td>\n",
       "    </tr>\n",
       "  </tbody>\n",
       "</table>\n",
       "</div>"
      ],
      "text/plain": [
       "  group  user_cnt  total_use   paid_use  wsus_cnt  chest_cnt\n",
       "0     A     63025  170277570  121538375     97884     505217\n",
       "1     B     29563  229687250  182206960    250054     584399\n",
       "2     C     10711  178131830  154328580    246352     406496\n",
       "3     D     18773  674328360  597459870   1597999    1087851\n",
       "4     E      2450  302897860  271053010   1148176     229509"
      ]
     },
     "execution_count": 16,
     "metadata": {},
     "output_type": "execute_result"
    }
   ],
   "source": [
    "costume_and_wsus_gcoin_by_user = costume_and_wsus_gcoin_by_user.withColumn(\"group\", \\\n",
    "                                                                when(col(\"wsus_cnt\") <=3, \"A\") \\\n",
    "                                                                .when((col(\"wsus_cnt\") >= 4) & (col(\"wsus_cnt\") <= 15), \"B\") \\\n",
    "                                                                .when((col(\"wsus_cnt\") >= 16) & (col(\"wsus_cnt\") <= 30), \"C\") \\\n",
    "                                                                .when((col(\"wsus_cnt\") >= 31) & (col(\"wsus_cnt\") <= 240), \"D\") \\\n",
    "                                                                .when((col(\"wsus_cnt\") >= 241), \"E\") \\\n",
    "                                                                          )\n",
    "costume_and_wsus_gcoin_by_user.groupBy(\"group\").agg(countDistinct(\"account_id\").alias(\"user_cnt\"), sum(\"total_use\").alias(\"total_use\"), sum(\"paid_use\").alias(\"paid_use\"), sum(\"wsus_cnt\").alias(\"wsus_cnt\"), sum(\"chest_cnt\").alias(\"chest_cnt\")).orderBy(\"group\").toPandas()"
   ]
  },
  {
   "cell_type": "code",
   "execution_count": 17,
   "metadata": {},
   "outputs": [
    {
     "data": {
      "text/html": [
       "<div>\n",
       "<style scoped>\n",
       "    .dataframe tbody tr th:only-of-type {\n",
       "        vertical-align: middle;\n",
       "    }\n",
       "\n",
       "    .dataframe tbody tr th {\n",
       "        vertical-align: top;\n",
       "    }\n",
       "\n",
       "    .dataframe thead th {\n",
       "        text-align: right;\n",
       "    }\n",
       "</style>\n",
       "<table border=\"1\" class=\"dataframe\">\n",
       "  <thead>\n",
       "    <tr style=\"text-align: right;\">\n",
       "      <th></th>\n",
       "      <th>group</th>\n",
       "      <th>type</th>\n",
       "      <th>user_cnt</th>\n",
       "      <th>total_use</th>\n",
       "      <th>paid_use</th>\n",
       "      <th>wsus_cnt</th>\n",
       "      <th>chest_cnt</th>\n",
       "    </tr>\n",
       "  </thead>\n",
       "  <tbody>\n",
       "    <tr>\n",
       "      <th>0</th>\n",
       "      <td>A</td>\n",
       "      <td>workshop</td>\n",
       "      <td>63025</td>\n",
       "      <td>150700770</td>\n",
       "      <td>118176390</td>\n",
       "      <td>0</td>\n",
       "      <td>505217</td>\n",
       "    </tr>\n",
       "    <tr>\n",
       "      <th>1</th>\n",
       "      <td>A</td>\n",
       "      <td>wsus</td>\n",
       "      <td>63025</td>\n",
       "      <td>19576800</td>\n",
       "      <td>3361985</td>\n",
       "      <td>97884</td>\n",
       "      <td>0</td>\n",
       "    </tr>\n",
       "    <tr>\n",
       "      <th>2</th>\n",
       "      <td>B</td>\n",
       "      <td>workshop</td>\n",
       "      <td>29563</td>\n",
       "      <td>182467450</td>\n",
       "      <td>157164050</td>\n",
       "      <td>0</td>\n",
       "      <td>584399</td>\n",
       "    </tr>\n",
       "    <tr>\n",
       "      <th>3</th>\n",
       "      <td>B</td>\n",
       "      <td>wsus</td>\n",
       "      <td>29563</td>\n",
       "      <td>47219800</td>\n",
       "      <td>25042910</td>\n",
       "      <td>250054</td>\n",
       "      <td>0</td>\n",
       "    </tr>\n",
       "    <tr>\n",
       "      <th>4</th>\n",
       "      <td>C</td>\n",
       "      <td>workshop</td>\n",
       "      <td>10711</td>\n",
       "      <td>132934230</td>\n",
       "      <td>116752785</td>\n",
       "      <td>0</td>\n",
       "      <td>406496</td>\n",
       "    </tr>\n",
       "    <tr>\n",
       "      <th>5</th>\n",
       "      <td>C</td>\n",
       "      <td>wsus</td>\n",
       "      <td>10711</td>\n",
       "      <td>45197600</td>\n",
       "      <td>37575795</td>\n",
       "      <td>246352</td>\n",
       "      <td>0</td>\n",
       "    </tr>\n",
       "    <tr>\n",
       "      <th>6</th>\n",
       "      <td>D</td>\n",
       "      <td>workshop</td>\n",
       "      <td>18773</td>\n",
       "      <td>384190160</td>\n",
       "      <td>338452020</td>\n",
       "      <td>0</td>\n",
       "      <td>1087851</td>\n",
       "    </tr>\n",
       "    <tr>\n",
       "      <th>7</th>\n",
       "      <td>D</td>\n",
       "      <td>wsus</td>\n",
       "      <td>18773</td>\n",
       "      <td>290138200</td>\n",
       "      <td>259007850</td>\n",
       "      <td>1597999</td>\n",
       "      <td>0</td>\n",
       "    </tr>\n",
       "    <tr>\n",
       "      <th>8</th>\n",
       "      <td>E</td>\n",
       "      <td>workshop</td>\n",
       "      <td>2450</td>\n",
       "      <td>95613260</td>\n",
       "      <td>83815050</td>\n",
       "      <td>0</td>\n",
       "      <td>229509</td>\n",
       "    </tr>\n",
       "    <tr>\n",
       "      <th>9</th>\n",
       "      <td>E</td>\n",
       "      <td>wsus</td>\n",
       "      <td>2450</td>\n",
       "      <td>207284600</td>\n",
       "      <td>187237960</td>\n",
       "      <td>1148176</td>\n",
       "      <td>0</td>\n",
       "    </tr>\n",
       "  </tbody>\n",
       "</table>\n",
       "</div>"
      ],
      "text/plain": [
       "  group      type  user_cnt  total_use   paid_use  wsus_cnt  chest_cnt\n",
       "0     A  workshop     63025  150700770  118176390         0     505217\n",
       "1     A      wsus     63025   19576800    3361985     97884          0\n",
       "2     B  workshop     29563  182467450  157164050         0     584399\n",
       "3     B      wsus     29563   47219800   25042910    250054          0\n",
       "4     C  workshop     10711  132934230  116752785         0     406496\n",
       "5     C      wsus     10711   45197600   37575795    246352          0\n",
       "6     D  workshop     18773  384190160  338452020         0    1087851\n",
       "7     D      wsus     18773  290138200  259007850   1597999          0\n",
       "8     E  workshop      2450   95613260   83815050         0     229509\n",
       "9     E      wsus      2450  207284600  187237960   1148176          0"
      ]
     },
     "execution_count": 17,
     "metadata": {},
     "output_type": "execute_result"
    }
   ],
   "source": [
    "costume_and_wsus_gcoin.join(costume_and_wsus_gcoin_by_user.select(\"account_id\", \"group\"), \"account_id\") \\\n",
    "    .withColumn(\"type\", when(col(\"event_name\").like(\"%workshop%\"), \"workshop\").when(col(\"event_name\").like(\"%wsus%\"), \"wsus\").otherwise(lit(\"costume\"))) \\\n",
    "    .groupBy(\"group\", \"type\").agg(countDistinct(\"account_id\").alias(\"user_cnt\"), sum(col(\"paid_use\") + col(\"free_use\")).alias(\"total_use\"), sum(\"paid_use\").alias(\"paid_use\"), sum(\"wsus_cnt\").alias(\"wsus_cnt\"), sum(\"chest_cnt\").alias(\"chest_cnt\")) \\\n",
    "    .orderBy(\"group\", \"type\").toPandas()"
   ]
  },
  {
   "cell_type": "code",
   "execution_count": 18,
   "metadata": {},
   "outputs": [],
   "source": [
    "costume_and_wsus_gcoin_by_user2 = costume_and_wsus_gcoin.join(costume_and_wsus_gcoin_by_user.select(\"account_id\", \"group\"), \"account_id\") \\\n",
    "    .withColumn(\"type\", when(col(\"event_name\").like(\"%workshop%\"), \"workshop\").when(col(\"event_name\").like(\"%wsus%\"), \"wsus\").otherwise(lit(\"costume\"))) \\\n",
    "    .groupBy(\"type\", \"account_id\", \"group\").agg(sum(\"paid_use\").alias(\"paid_use\"), sum(col(\"paid_use\")+col(\"free_use\")).alias(\"total_use\"), sum(\"wsus_cnt\").alias(\"wsus_cnt\"), sum(\"chest_cnt\").alias(\"chest_cnt\")).toPandas()\n",
    "costume_and_wsus_gcoin_by_user2.to_csv(\"./costume_and_wsus_gcoin_by_user3_day28.csv\", index=False)"
   ]
  },
  {
   "cell_type": "code",
   "execution_count": null,
   "metadata": {},
   "outputs": [],
   "source": []
  },
  {
   "cell_type": "markdown",
   "metadata": {},
   "source": [
    "## c"
   ]
  },
  {
   "cell_type": "code",
   "execution_count": 19,
   "metadata": {},
   "outputs": [],
   "source": [
    "only_wsus_gcoin = only_wsus_gcoin.withColumn(\"wsus_cnt\", assign_wsus_cnt(\"price\"))"
   ]
  },
  {
   "cell_type": "code",
   "execution_count": 20,
   "metadata": {},
   "outputs": [],
   "source": [
    "only_wsus_gcoin_by_user = only_wsus_gcoin.groupBy(\"account_id\") \\\n",
    "    .agg(sum(\"wsus_cnt\").alias(\"wsus_cnt\"), sum(\"paid_use\").alias(\"paid_use\"), sum(col(\"paid_use\") + col(\"free_use\")).alias(\"total_use\"))"
   ]
  },
  {
   "cell_type": "code",
   "execution_count": 21,
   "metadata": {},
   "outputs": [
    {
     "data": {
      "text/html": [
       "<div>\n",
       "<style scoped>\n",
       "    .dataframe tbody tr th:only-of-type {\n",
       "        vertical-align: middle;\n",
       "    }\n",
       "\n",
       "    .dataframe tbody tr th {\n",
       "        vertical-align: top;\n",
       "    }\n",
       "\n",
       "    .dataframe thead th {\n",
       "        text-align: right;\n",
       "    }\n",
       "</style>\n",
       "<table border=\"1\" class=\"dataframe\">\n",
       "  <thead>\n",
       "    <tr style=\"text-align: right;\">\n",
       "      <th></th>\n",
       "      <th>group</th>\n",
       "      <th>user_cnt</th>\n",
       "      <th>total_use</th>\n",
       "      <th>paid_use</th>\n",
       "      <th>wsus_cnt</th>\n",
       "    </tr>\n",
       "  </thead>\n",
       "  <tbody>\n",
       "    <tr>\n",
       "      <th>0</th>\n",
       "      <td>A</td>\n",
       "      <td>286793</td>\n",
       "      <td>183725800</td>\n",
       "      <td>13841320</td>\n",
       "      <td>955974</td>\n",
       "    </tr>\n",
       "    <tr>\n",
       "      <th>1</th>\n",
       "      <td>B</td>\n",
       "      <td>16465</td>\n",
       "      <td>65373200</td>\n",
       "      <td>48192640</td>\n",
       "      <td>355905</td>\n",
       "    </tr>\n",
       "    <tr>\n",
       "      <th>2</th>\n",
       "      <td>C</td>\n",
       "      <td>2998</td>\n",
       "      <td>38094000</td>\n",
       "      <td>33293205</td>\n",
       "      <td>210074</td>\n",
       "    </tr>\n",
       "    <tr>\n",
       "      <th>3</th>\n",
       "      <td>D</td>\n",
       "      <td>2328</td>\n",
       "      <td>86607800</td>\n",
       "      <td>77313675</td>\n",
       "      <td>479363</td>\n",
       "    </tr>\n",
       "    <tr>\n",
       "      <th>4</th>\n",
       "      <td>E</td>\n",
       "      <td>59</td>\n",
       "      <td>11034800</td>\n",
       "      <td>9865030</td>\n",
       "      <td>61249</td>\n",
       "    </tr>\n",
       "  </tbody>\n",
       "</table>\n",
       "</div>"
      ],
      "text/plain": [
       "  group  user_cnt  total_use  paid_use  wsus_cnt\n",
       "0     A    286793  183725800  13841320    955974\n",
       "1     B     16465   65373200  48192640    355905\n",
       "2     C      2998   38094000  33293205    210074\n",
       "3     D      2328   86607800  77313675    479363\n",
       "4     E        59   11034800   9865030     61249"
      ]
     },
     "execution_count": 21,
     "metadata": {},
     "output_type": "execute_result"
    }
   ],
   "source": [
    "only_wsus_gcoin_by_user = only_wsus_gcoin_by_user.withColumn(\"group\", \\\n",
    "                                                when(col(\"wsus_cnt\") <=10, \"A\") \\\n",
    "                                                .when((col(\"wsus_cnt\") >= 11) & (col(\"wsus_cnt\") <= 50), \"B\") \\\n",
    "                                                .when((col(\"wsus_cnt\") >= 51) & (col(\"wsus_cnt\") <= 100), \"C\") \\\n",
    "                                                .when((col(\"wsus_cnt\") >= 101) & (col(\"wsus_cnt\") <= 800), \"D\") \\\n",
    "                                                .when((col(\"wsus_cnt\") >= 801), \"E\") \\\n",
    "                                                          )\n",
    "only_wsus_gcoin_by_user.groupBy(\"group\").agg(countDistinct(\"account_id\").alias(\"user_cnt\"), sum(\"total_use\").alias(\"total_use\"), sum(\"paid_use\").alias(\"paid_use\"), sum(\"wsus_cnt\").alias(\"wsus_cnt\")).orderBy(\"group\").toPandas()"
   ]
  },
  {
   "cell_type": "code",
   "execution_count": 22,
   "metadata": {},
   "outputs": [],
   "source": [
    "only_wsus_gcoin_by_user.toPandas().to_csv(\"./only_wsus_gcoin_by_user3_day28.csv\", index=False)"
   ]
  },
  {
   "cell_type": "code",
   "execution_count": null,
   "metadata": {},
   "outputs": [],
   "source": []
  }
 ],
 "metadata": {
  "kernelspec": {
   "display_name": "Python 3",
   "language": "python",
   "name": "python3"
  },
  "language_info": {
   "codemirror_mode": {
    "name": "ipython",
    "version": 3
   },
   "file_extension": ".py",
   "mimetype": "text/x-python",
   "name": "python",
   "nbconvert_exporter": "python",
   "pygments_lexer": "ipython3",
   "version": "3.6.7"
  }
 },
 "nbformat": 4,
 "nbformat_minor": 4
}
