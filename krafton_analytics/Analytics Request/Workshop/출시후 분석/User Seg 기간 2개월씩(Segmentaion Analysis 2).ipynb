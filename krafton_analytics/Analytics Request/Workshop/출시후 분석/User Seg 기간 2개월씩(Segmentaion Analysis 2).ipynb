{
 "cells": [
  {
   "cell_type": "code",
   "execution_count": 37,
   "metadata": {
    "collapsed": true,
    "jupyter": {
     "outputs_hidden": true
    }
   },
   "outputs": [
    {
     "name": "stdout",
     "output_type": "stream",
     "text": [
      "Spark cluster not assigned. creating a new one...\n",
      "Node spec: 8 executors with 48G RAM each\n",
      "Job Port 4049 is assigned for requested cluster\n",
      "Waiting for Spark master to be available...\n"
     ]
    },
    {
     "name": "stderr",
     "output_type": "stream",
     "text": [
      "ERROR:root:Exception while sending command.\n",
      "Traceback (most recent call last):\n",
      "  File \"/usr/local/spark/python/lib/py4j-0.10.7-src.zip/py4j/java_gateway.py\", line 1159, in send_command\n",
      "    raise Py4JNetworkError(\"Answer from Java side is empty\")\n",
      "py4j.protocol.Py4JNetworkError: Answer from Java side is empty\n",
      "\n",
      "During handling of the above exception, another exception occurred:\n",
      "\n",
      "Traceback (most recent call last):\n",
      "  File \"/usr/local/spark/python/lib/py4j-0.10.7-src.zip/py4j/java_gateway.py\", line 985, in send_command\n",
      "    response = connection.send_command(command)\n",
      "  File \"/usr/local/spark/python/lib/py4j-0.10.7-src.zip/py4j/java_gateway.py\", line 1164, in send_command\n",
      "    \"Error while receiving\", e, proto.ERROR_ON_RECEIVE)\n",
      "py4j.protocol.Py4JNetworkError: Error while receiving\n",
      "ERROR:py4j.java_gateway:An error occurred while trying to connect to the Java server (127.0.0.1:43319)\n",
      "Traceback (most recent call last):\n",
      "  File \"/usr/local/spark/python/lib/py4j-0.10.7-src.zip/py4j/java_gateway.py\", line 929, in _get_connection\n",
      "    connection = self.deque.pop()\n",
      "IndexError: pop from an empty deque\n",
      "\n",
      "During handling of the above exception, another exception occurred:\n",
      "\n",
      "Traceback (most recent call last):\n",
      "  File \"/usr/local/spark/python/lib/py4j-0.10.7-src.zip/py4j/java_gateway.py\", line 1067, in start\n",
      "    self.socket.connect((self.address, self.port))\n",
      "ConnectionRefusedError: [Errno 111] Connection refused\n",
      "ERROR:py4j.java_gateway:An error occurred while trying to connect to the Java server (127.0.0.1:43319)\n",
      "Traceback (most recent call last):\n",
      "  File \"/usr/local/spark/python/lib/py4j-0.10.7-src.zip/py4j/java_gateway.py\", line 929, in _get_connection\n",
      "    connection = self.deque.pop()\n",
      "IndexError: pop from an empty deque\n",
      "\n",
      "During handling of the above exception, another exception occurred:\n",
      "\n",
      "Traceback (most recent call last):\n",
      "  File \"/usr/local/spark/python/lib/py4j-0.10.7-src.zip/py4j/java_gateway.py\", line 1067, in start\n",
      "    self.socket.connect((self.address, self.port))\n",
      "ConnectionRefusedError: [Errno 111] Connection refused\n",
      "ERROR:py4j.java_gateway:An error occurred while trying to connect to the Java server (127.0.0.1:43319)\n",
      "Traceback (most recent call last):\n",
      "  File \"/usr/local/spark/python/lib/py4j-0.10.7-src.zip/py4j/java_gateway.py\", line 929, in _get_connection\n",
      "    connection = self.deque.pop()\n",
      "IndexError: pop from an empty deque\n",
      "\n",
      "During handling of the above exception, another exception occurred:\n",
      "\n",
      "Traceback (most recent call last):\n",
      "  File \"/usr/local/spark/python/lib/py4j-0.10.7-src.zip/py4j/java_gateway.py\", line 1067, in start\n",
      "    self.socket.connect((self.address, self.port))\n",
      "ConnectionRefusedError: [Errno 111] Connection refused\n",
      "ERROR:py4j.java_gateway:An error occurred while trying to connect to the Java server (127.0.0.1:43319)\n",
      "Traceback (most recent call last):\n",
      "  File \"/usr/local/spark/python/lib/py4j-0.10.7-src.zip/py4j/java_gateway.py\", line 929, in _get_connection\n",
      "    connection = self.deque.pop()\n",
      "IndexError: pop from an empty deque\n",
      "\n",
      "During handling of the above exception, another exception occurred:\n",
      "\n",
      "Traceback (most recent call last):\n",
      "  File \"/usr/local/spark/python/lib/py4j-0.10.7-src.zip/py4j/java_gateway.py\", line 1067, in start\n",
      "    self.socket.connect((self.address, self.port))\n",
      "ConnectionRefusedError: [Errno 111] Connection refused\n",
      "ERROR:py4j.java_gateway:An error occurred while trying to connect to the Java server (127.0.0.1:43319)\n",
      "Traceback (most recent call last):\n",
      "  File \"/usr/local/spark/python/lib/py4j-0.10.7-src.zip/py4j/java_gateway.py\", line 929, in _get_connection\n",
      "    connection = self.deque.pop()\n",
      "IndexError: pop from an empty deque\n",
      "\n",
      "During handling of the above exception, another exception occurred:\n",
      "\n",
      "Traceback (most recent call last):\n",
      "  File \"/usr/local/spark/python/lib/py4j-0.10.7-src.zip/py4j/java_gateway.py\", line 1067, in start\n",
      "    self.socket.connect((self.address, self.port))\n",
      "ConnectionRefusedError: [Errno 111] Connection refused\n",
      "ERROR:py4j.java_gateway:An error occurred while trying to connect to the Java server (127.0.0.1:43319)\n",
      "Traceback (most recent call last):\n",
      "  File \"/usr/local/spark/python/lib/py4j-0.10.7-src.zip/py4j/java_gateway.py\", line 929, in _get_connection\n",
      "    connection = self.deque.pop()\n",
      "IndexError: pop from an empty deque\n",
      "\n",
      "During handling of the above exception, another exception occurred:\n",
      "\n",
      "Traceback (most recent call last):\n",
      "  File \"/usr/local/spark/python/lib/py4j-0.10.7-src.zip/py4j/java_gateway.py\", line 1067, in start\n",
      "    self.socket.connect((self.address, self.port))\n",
      "ConnectionRefusedError: [Errno 111] Connection refused\n",
      "ERROR:py4j.java_gateway:An error occurred while trying to connect to the Java server (127.0.0.1:43319)\n",
      "Traceback (most recent call last):\n",
      "  File \"/usr/local/spark/python/lib/py4j-0.10.7-src.zip/py4j/java_gateway.py\", line 929, in _get_connection\n",
      "    connection = self.deque.pop()\n",
      "IndexError: pop from an empty deque\n",
      "\n",
      "During handling of the above exception, another exception occurred:\n",
      "\n",
      "Traceback (most recent call last):\n",
      "  File \"/usr/local/spark/python/lib/py4j-0.10.7-src.zip/py4j/java_gateway.py\", line 1067, in start\n",
      "    self.socket.connect((self.address, self.port))\n",
      "ConnectionRefusedError: [Errno 111] Connection refused\n",
      "ERROR:py4j.java_gateway:An error occurred while trying to connect to the Java server (127.0.0.1:43319)\n",
      "Traceback (most recent call last):\n",
      "  File \"/usr/local/spark/python/lib/py4j-0.10.7-src.zip/py4j/java_gateway.py\", line 929, in _get_connection\n",
      "    connection = self.deque.pop()\n",
      "IndexError: pop from an empty deque\n",
      "\n",
      "During handling of the above exception, another exception occurred:\n",
      "\n",
      "Traceback (most recent call last):\n",
      "  File \"/usr/local/spark/python/lib/py4j-0.10.7-src.zip/py4j/java_gateway.py\", line 1067, in start\n",
      "    self.socket.connect((self.address, self.port))\n",
      "ConnectionRefusedError: [Errno 111] Connection refused\n",
      "ERROR:py4j.java_gateway:An error occurred while trying to connect to the Java server (127.0.0.1:43319)\n",
      "Traceback (most recent call last):\n",
      "  File \"/usr/local/spark/python/lib/py4j-0.10.7-src.zip/py4j/java_gateway.py\", line 929, in _get_connection\n",
      "    connection = self.deque.pop()\n",
      "IndexError: pop from an empty deque\n",
      "\n",
      "During handling of the above exception, another exception occurred:\n",
      "\n",
      "Traceback (most recent call last):\n",
      "  File \"/usr/local/spark/python/lib/py4j-0.10.7-src.zip/py4j/java_gateway.py\", line 1067, in start\n",
      "    self.socket.connect((self.address, self.port))\n",
      "ConnectionRefusedError: [Errno 111] Connection refused\n",
      "ERROR:py4j.java_gateway:An error occurred while trying to connect to the Java server (127.0.0.1:43319)\n",
      "Traceback (most recent call last):\n",
      "  File \"/usr/local/spark/python/lib/py4j-0.10.7-src.zip/py4j/java_gateway.py\", line 929, in _get_connection\n",
      "    connection = self.deque.pop()\n",
      "IndexError: pop from an empty deque\n",
      "\n",
      "During handling of the above exception, another exception occurred:\n",
      "\n",
      "Traceback (most recent call last):\n",
      "  File \"/usr/local/spark/python/lib/py4j-0.10.7-src.zip/py4j/java_gateway.py\", line 1067, in start\n",
      "    self.socket.connect((self.address, self.port))\n",
      "ConnectionRefusedError: [Errno 111] Connection refused\n",
      "ERROR:py4j.java_gateway:An error occurred while trying to connect to the Java server (127.0.0.1:43319)\n",
      "Traceback (most recent call last):\n",
      "  File \"/usr/local/spark/python/lib/py4j-0.10.7-src.zip/py4j/java_gateway.py\", line 929, in _get_connection\n",
      "    connection = self.deque.pop()\n",
      "IndexError: pop from an empty deque\n",
      "\n",
      "During handling of the above exception, another exception occurred:\n",
      "\n",
      "Traceback (most recent call last):\n",
      "  File \"/usr/local/spark/python/lib/py4j-0.10.7-src.zip/py4j/java_gateway.py\", line 1067, in start\n",
      "    self.socket.connect((self.address, self.port))\n",
      "ConnectionRefusedError: [Errno 111] Connection refused\n",
      "ERROR:py4j.java_gateway:An error occurred while trying to connect to the Java server (127.0.0.1:43319)\n",
      "Traceback (most recent call last):\n",
      "  File \"/usr/local/spark/python/lib/py4j-0.10.7-src.zip/py4j/java_gateway.py\", line 929, in _get_connection\n",
      "    connection = self.deque.pop()\n",
      "IndexError: pop from an empty deque\n",
      "\n",
      "During handling of the above exception, another exception occurred:\n",
      "\n",
      "Traceback (most recent call last):\n",
      "  File \"/usr/local/spark/python/lib/py4j-0.10.7-src.zip/py4j/java_gateway.py\", line 1067, in start\n",
      "    self.socket.connect((self.address, self.port))\n",
      "ConnectionRefusedError: [Errno 111] Connection refused\n",
      "ERROR:py4j.java_gateway:An error occurred while trying to connect to the Java server (127.0.0.1:43319)\n",
      "Traceback (most recent call last):\n",
      "  File \"/usr/local/spark/python/lib/py4j-0.10.7-src.zip/py4j/java_gateway.py\", line 929, in _get_connection\n",
      "    connection = self.deque.pop()\n",
      "IndexError: pop from an empty deque\n",
      "\n",
      "During handling of the above exception, another exception occurred:\n",
      "\n",
      "Traceback (most recent call last):\n",
      "  File \"/usr/local/spark/python/lib/py4j-0.10.7-src.zip/py4j/java_gateway.py\", line 1067, in start\n",
      "    self.socket.connect((self.address, self.port))\n",
      "ConnectionRefusedError: [Errno 111] Connection refused\n",
      "ERROR:py4j.java_gateway:An error occurred while trying to connect to the Java server (127.0.0.1:43319)\n",
      "Traceback (most recent call last):\n",
      "  File \"/usr/local/spark/python/lib/py4j-0.10.7-src.zip/py4j/java_gateway.py\", line 929, in _get_connection\n",
      "    connection = self.deque.pop()\n",
      "IndexError: pop from an empty deque\n",
      "\n",
      "During handling of the above exception, another exception occurred:\n",
      "\n",
      "Traceback (most recent call last):\n",
      "  File \"/usr/local/spark/python/lib/py4j-0.10.7-src.zip/py4j/java_gateway.py\", line 1067, in start\n",
      "    self.socket.connect((self.address, self.port))\n",
      "ConnectionRefusedError: [Errno 111] Connection refused\n",
      "ERROR:py4j.java_gateway:An error occurred while trying to connect to the Java server (127.0.0.1:43319)\n",
      "Traceback (most recent call last):\n",
      "  File \"/usr/local/spark/python/lib/py4j-0.10.7-src.zip/py4j/java_gateway.py\", line 929, in _get_connection\n",
      "    connection = self.deque.pop()\n",
      "IndexError: pop from an empty deque\n",
      "\n",
      "During handling of the above exception, another exception occurred:\n",
      "\n",
      "Traceback (most recent call last):\n",
      "  File \"/usr/local/spark/python/lib/py4j-0.10.7-src.zip/py4j/java_gateway.py\", line 1067, in start\n",
      "    self.socket.connect((self.address, self.port))\n",
      "ConnectionRefusedError: [Errno 111] Connection refused\n"
     ]
    },
    {
     "name": "stdout",
     "output_type": "stream",
     "text": [
      "Spark master launched!\n",
      "Creating new Spark session, name: west0_userseg...\n",
      "Waiting for all executors ready...\n",
      "All executors connected!\n",
      "Complete! elapsed time: 00:00:40\n"
     ]
    }
   ],
   "source": [
    "from pubg_util import mysql, load_schema, notifier\n",
    "from sphynx import sphynx, NODE_SMALL, NODE_MEDIUM, NODE_LARGE\n",
    "from pyspark.sql.functions import *\n",
    "import pandas as pd\n",
    "import pickle\n",
    "\n",
    "spark = sphynx.get_spark(executor_count=8, app_name='west0_userseg', node_spec=NODE_LARGE)"
   ]
  },
  {
   "cell_type": "code",
   "execution_count": 36,
   "metadata": {},
   "outputs": [],
   "source": [
    "sphynx.stop()"
   ]
  },
  {
   "cell_type": "code",
   "execution_count": 7,
   "metadata": {},
   "outputs": [],
   "source": [
    "# 각 2month \n",
    "pre_start_date = \"2022-05-11\"\n",
    "pre_end_date = \"2022-07-12\"\n",
    "\n",
    "post_start_date = \"2022-07-13\"\n",
    "post_end_date = \"2022-09-06\""
   ]
  },
  {
   "cell_type": "markdown",
   "metadata": {},
   "source": [
    "## PRE"
   ]
  },
  {
   "cell_type": "code",
   "execution_count": 143,
   "metadata": {},
   "outputs": [],
   "source": [
    "pre_gcoin = load_data_mart(\"pc\", pre_start_date, pre_end_date, \"gcoin_use\")"
   ]
  },
  {
   "cell_type": "code",
   "execution_count": 144,
   "metadata": {},
   "outputs": [],
   "source": [
    "pre_wsus_gcoin = pre_gcoin.where(col(\"event_name\").like(\"%wsus%\"))\n",
    "pre_wsus_user = pre_wsus_gcoin.select(\"account_id\").distinct()"
   ]
  },
  {
   "cell_type": "code",
   "execution_count": 145,
   "metadata": {},
   "outputs": [],
   "source": [
    "pre_costume = pre_gcoin.where((~col(\"event_name\").like(\"%wsus%\")) & (~col(\"event_name\").like(\"%survivorpass%\")) & (~col(\"event_name\").like(\"%yourshop%\"))) \\\n",
    "    .where((col(\"sub_category\").isin([\"costume\", \"gear\", \"vehicle\"])) | ((col(\"sub_category\") == \"crate\") ))\n",
    "pre_costume_user = pre_costume.select(\"account_id\").distinct()"
   ]
  },
  {
   "cell_type": "code",
   "execution_count": 54,
   "metadata": {},
   "outputs": [
    {
     "name": "stdout",
     "output_type": "stream",
     "text": [
      "+-------------+------------+--------+\n",
      "|event_type   |sub_category|count(1)|\n",
      "+-------------+------------+--------+\n",
      "|other        |costume     |332827  |\n",
      "|other        |crate       |25669   |\n",
      "|streamer     |crate       |177325  |\n",
      "|streamer     |costume     |97236   |\n",
      "|collaboration|crate       |249867  |\n",
      "|collaboration|costume     |686     |\n",
      "|other        |vehicle     |2799    |\n",
      "|other        |costume     |68179   |\n",
      "|other        |gear        |134724  |\n",
      "|esports      |crate       |32154   |\n",
      "|other        |crate       |214454  |\n",
      "+-------------+------------+--------+\n",
      "\n"
     ]
    }
   ],
   "source": [
    "pre_costume.groupBy(\"event_type\", \"sub_category\").agg(count(\"*\")).show(truncate=False)"
   ]
  },
  {
   "cell_type": "code",
   "execution_count": 56,
   "metadata": {},
   "outputs": [
    {
     "name": "stdout",
     "output_type": "stream",
     "text": [
      "+-------------+------------+-----------------------------+--------+\n",
      "|event_type   |sub_category|product_name                 |count(1)|\n",
      "+-------------+------------+-----------------------------+--------+\n",
      "|streamer     |crate       |RASH BEIXI'S LION COSTUME SET|19417   |\n",
      "|other        |crate       |BOOKSTACK BACKPACK PACK      |2721    |\n",
      "|collaboration|crate       |COMMANDO SWEATSHIRT          |854     |\n",
      "|other        |crate       |SPRING EVENING OUTFIT SET    |5975    |\n",
      "|collaboration|crate       |FRESH HOODS CREW CROPPED PACK|4094    |\n",
      "|other        |crate       |SPRING WALK OUTFIT SET       |6469    |\n",
      "|collaboration|crate       |CAUTION HOODIE               |2685    |\n",
      "|other        |crate       |DESPERADO COSTUME SET        |6642    |\n",
      "|collaboration|crate       |SKYDIVER HOODIE              |1120    |\n",
      "|collaboration|crate       |STEALTH SWEATPANTS           |2331    |\n",
      "|collaboration|crate       |GORILLA FRESH NECK SLEEVE    |2301    |\n",
      "|other        |crate       |BUNNY EXPRESS UNIFORM SET    |10054   |\n",
      "|streamer     |crate       |EZQELUSIA BUNDLE             |3719    |\n",
      "|other        |crate       |SIDESHOW BEAR COSTUME SET    |4       |\n",
      "|streamer     |crate       |SANYANG SET                  |4826    |\n",
      "|collaboration|crate       |B.DUCK COSTUME & SPRAY BUNDLE|82285   |\n",
      "|collaboration|crate       |COMMANDO NECK SLEEVE         |1290    |\n",
      "|collaboration|crate       |FRESH HOODS COMMANDO PACK    |2103    |\n",
      "|other        |crate       |BUNNY EXPRESS DELIVERY SET   |16475   |\n",
      "|collaboration|crate       |PURE HOODIE                  |2266    |\n",
      "+-------------+------------+-----------------------------+--------+\n",
      "only showing top 20 rows\n",
      "\n"
     ]
    }
   ],
   "source": [
    "pre_costume.where(col(\"sub_category\")==\"crate\").groupBy(\"event_type\", \"sub_category\", \"product_name\").agg(count(\"*\")).show(truncate=False)"
   ]
  },
  {
   "cell_type": "code",
   "execution_count": 146,
   "metadata": {},
   "outputs": [],
   "source": [
    "pre_costume = pre_costume.withColumn(\"patch\", when(col(\"date\") < \"2022-06-08\", lit(\"17.2\")).otherwise(lit(\"18.1\")))\n",
    "pre_wsus_gcoin = pre_wsus_gcoin.withColumn(\"patch\", when(col(\"date\") < \"2022-06-08\", lit(\"17.2\")).otherwise(lit(\"18.1\")))"
   ]
  },
  {
   "cell_type": "code",
   "execution_count": 147,
   "metadata": {},
   "outputs": [],
   "source": [
    "pre_only_costume_gcoin = pre_costume.join(pre_wsus_user, \"account_id\", \"leftanti\")\n",
    "pre_costume_and_wsus_gcoin = pre_wsus_gcoin.join(pre_costume_user, \"account_id\")\n",
    "pre_only_wsus_gcoin= pre_wsus_gcoin.join(pre_costume_user, \"account_id\", \"leftanti\")"
   ]
  },
  {
   "cell_type": "code",
   "execution_count": 148,
   "metadata": {},
   "outputs": [],
   "source": [
    "from pyspark.sql.types import * \n",
    "\n",
    "def wsus_cnt(price):\n",
    "    if price == 1800:\n",
    "        return 10\n",
    "    elif price == 200:\n",
    "        return 1\n",
    "    else:\n",
    "        return 0\n",
    "    \n",
    "assign_wsus_cnt = udf(wsus_cnt, IntegerType())"
   ]
  },
  {
   "cell_type": "code",
   "execution_count": 149,
   "metadata": {},
   "outputs": [],
   "source": [
    "pre_only_costume_gcoin = pre_only_costume_gcoin.withColumn(\"group\", lit(\"a\"))\n",
    "pre_costume_and_wsus_gcoin = pre_costume_and_wsus_gcoin.withColumn(\"group\", lit(\"b\")).withColumn(\"wsus_cnt\", assign_wsus_cnt(\"price\"))\n",
    "pre_only_wsus_gcoin = pre_only_wsus_gcoin.withColumn(\"group\", lit(\"c\")).withColumn(\"wsus_cnt\", assign_wsus_cnt(\"price\"))"
   ]
  },
  {
   "cell_type": "code",
   "execution_count": 150,
   "metadata": {},
   "outputs": [],
   "source": [
    "pre_only_costume_gcoin_by_user = pre_only_costume_gcoin.groupBy(\"group\", \"account_id\") \\\n",
    "    .agg((sum(col(\"free_use\") + col(\"paid_use\"))/2).alias(\"avg_total_use\"), (sum(\"paid_use\")/2).alias(\"avg_paid_use\"))"
   ]
  },
  {
   "cell_type": "code",
   "execution_count": 151,
   "metadata": {},
   "outputs": [],
   "source": [
    "pre_costume_and_wsus_gcoin_by_user = pre_costume_and_wsus_gcoin.groupBy(\"group\", \"account_id\") \\\n",
    "    .agg((sum(col(\"free_use\") + col(\"paid_use\"))/2).alias(\"avg_total_use\"), (sum(\"paid_use\")/2).alias(\"avg_paid_use\"), (sum(\"wsus_cnt\")/2).alias(\"avg_wsus_cnt\"))"
   ]
  },
  {
   "cell_type": "code",
   "execution_count": 152,
   "metadata": {},
   "outputs": [],
   "source": [
    "pre_only_wsus_gcoin_by_user = pre_only_wsus_gcoin.groupBy(\"group\", \"account_id\") \\\n",
    "    .agg((sum(col(\"free_use\") + col(\"paid_use\"))/2).alias(\"avg_total_use\"), (sum(\"paid_use\")/2).alias(\"avg_paid_use\"), (sum(\"wsus_cnt\")/2).alias(\"avg_wsus_cnt\"))"
   ]
  },
  {
   "cell_type": "code",
   "execution_count": 15,
   "metadata": {},
   "outputs": [
    {
     "name": "stdout",
     "output_type": "stream",
     "text": [
      "+-----+----------------------------------------+-------------+------------+\n",
      "|group|account_id                              |avg_total_use|avg_paid_use|\n",
      "+-----+----------------------------------------+-------------+------------+\n",
      "|a    |account.001a4cdf858c4694bf2c8b0a2ea051a7|1390.0       |0.0         |\n",
      "|a    |account.001a84b7c1f44ad6896aacd5f0e68589|300.0        |0.0         |\n",
      "|a    |account.003b956ea1a842188a565d944c174454|300.0        |0.0         |\n",
      "|a    |account.00593012c1c44c319d59b13a0e870ee0|1000.0       |0.0         |\n",
      "|a    |account.008ec13cece342a190daa06556d0493a|990.0        |0.0         |\n",
      "|a    |account.008ec284a54e4117a4ae663c80b68532|200.0        |0.0         |\n",
      "|a    |account.008fa524a65a4d0fb89c518d54a55de4|1000.0       |50.0        |\n",
      "|a    |account.00bb345b36ec405a99bf6c938cf16874|200.0        |0.0         |\n",
      "|a    |account.00c090cc3e7f4a279e255f55da161255|990.0        |0.0         |\n",
      "|a    |account.00d1973f6a6d4ccaa8614db57402d9b2|500.0        |0.0         |\n",
      "|a    |account.00f8b92afe094565afeccdc1d17e3f37|300.0        |140.0       |\n",
      "|a    |account.010ae755601c4303870d445b7f8727ac|1250.0       |0.0         |\n",
      "|a    |account.01334db81f1f486aa4693af7d7f77efc|990.0        |0.0         |\n",
      "|a    |account.0167429f87604580b922e0dd5138f08f|700.0        |0.0         |\n",
      "|a    |account.016f5e208ae0403da7dd05e9db1bd745|500.0        |0.0         |\n",
      "|a    |account.0173a01819cf488282df2b63f16a0b93|200.0        |0.0         |\n",
      "|a    |account.017cb72b871142cabfca50a75b93f617|500.0        |0.0         |\n",
      "|a    |account.017db0be06d64a0eb31da209b2700f88|1350.0       |0.0         |\n",
      "|a    |account.01d3736648a94c11bb049a22d10368da|500.0        |0.0         |\n",
      "|a    |account.01d54b96d1414506b76ee4183d8cb5ba|1000.0       |0.0         |\n",
      "+-----+----------------------------------------+-------------+------------+\n",
      "only showing top 20 rows\n",
      "\n"
     ]
    }
   ],
   "source": [
    "pre_only_costume_gcoin_by_user.show(truncate=False)"
   ]
  },
  {
   "cell_type": "code",
   "execution_count": 60,
   "metadata": {},
   "outputs": [],
   "source": [
    "# pre_only_costume_gcoin_by_user = pre_only_costume_gcoin.groupBy(\"account_id\", \"group\").agg(sum(\"free_use\").alias(\"pre_free_use\"), sum(\"paid_use\").alias(\"pre_paid_use\"))\n",
    "# pre_costume_and_wsus_gcoin_by_user = pre_costume_and_wsus_gcoin.groupBy(\"account_id\", \"group\").agg(sum(\"free_use\").alias(\"pre_free_use\"), sum(\"paid_use\").alias(\"pre_paid_use\"))\n",
    "# pre_only_wsus_gcoin_by_user = pre_only_wsus_gcoin.groupBy(\"account_id\", \"group\").agg(sum(\"free_use\").alias(\"pre_free_use\"), sum(\"paid_use\").alias(\"pre_paid_use\"))"
   ]
  },
  {
   "cell_type": "markdown",
   "metadata": {},
   "source": [
    "### a (ONLY COSTUME)"
   ]
  },
  {
   "cell_type": "code",
   "execution_count": 153,
   "metadata": {},
   "outputs": [],
   "source": [
    "pre_only_costume_gcoin_by_user = pre_only_costume_gcoin_by_user.withColumn(\"seg\", \\\n",
    "                                         when(col(\"avg_total_use\") <= 1000, \"A\") \\\n",
    "                                        .when((col(\"avg_total_use\") > 1000) & (col(\"avg_total_use\") <= 5000), \"B\") \\\n",
    "                                        .when((col(\"avg_total_use\") > 5000) & (col(\"avg_total_use\") <= 10000), \"C\") \\\n",
    "                                        .when((col(\"avg_total_use\") > 10000) & (col(\"avg_total_use\") <= 30000), \"D\") \\\n",
    "                                        .when((col(\"avg_total_use\") > 30000), \"E\") \\\n",
    "                                     )"
   ]
  },
  {
   "cell_type": "code",
   "execution_count": 154,
   "metadata": {},
   "outputs": [],
   "source": [
    "pre_only_costume_gcoin_by_user = pre_only_costume_gcoin_by_user.withColumn(\"avg_wsus_cnt\", lit(0))"
   ]
  },
  {
   "cell_type": "markdown",
   "metadata": {},
   "source": [
    "### b (COSTUME + WSUS)"
   ]
  },
  {
   "cell_type": "code",
   "execution_count": 155,
   "metadata": {},
   "outputs": [],
   "source": [
    "pre_costume_and_wsus_gcoin_by_user = pre_costume_and_wsus_gcoin_by_user.withColumn(\"seg\", \\\n",
    "                                    when(col(\"avg_wsus_cnt\") <=3, \"A\") \\\n",
    "                                    .when((col(\"avg_wsus_cnt\") > 3) & (col(\"avg_wsus_cnt\") <= 15), \"B\") \\\n",
    "                                    .when((col(\"avg_wsus_cnt\") > 15) & (col(\"avg_wsus_cnt\") <= 30), \"C\") \\\n",
    "                                    .when((col(\"avg_wsus_cnt\") > 30) & (col(\"avg_wsus_cnt\") <= 240), \"D\") \\\n",
    "                                    .when((col(\"avg_wsus_cnt\") > 240), \"E\") \\\n",
    "                                              )"
   ]
  },
  {
   "cell_type": "markdown",
   "metadata": {},
   "source": [
    "### c (ONLY WSUS)"
   ]
  },
  {
   "cell_type": "code",
   "execution_count": 156,
   "metadata": {},
   "outputs": [],
   "source": [
    "pre_only_wsus_gcoin_by_user = pre_only_wsus_gcoin_by_user.withColumn(\"seg\", \\\n",
    "                                                when(col(\"avg_wsus_cnt\") <=10, \"A\") \\\n",
    "                                                .when((col(\"avg_wsus_cnt\") > 10) & (col(\"avg_wsus_cnt\") <= 50), \"B\") \\\n",
    "                                                .when((col(\"avg_wsus_cnt\") > 50) & (col(\"avg_wsus_cnt\") <= 100), \"C\") \\\n",
    "                                                .when((col(\"avg_wsus_cnt\") > 100) & (col(\"avg_wsus_cnt\") <= 800), \"D\") \\\n",
    "                                                .when((col(\"avg_wsus_cnt\") > 800), \"E\") \\\n",
    "                                                          )"
   ]
  },
  {
   "cell_type": "markdown",
   "metadata": {},
   "source": [
    "### total pre"
   ]
  },
  {
   "cell_type": "code",
   "execution_count": 157,
   "metadata": {},
   "outputs": [],
   "source": [
    "pre_df = pre_only_costume_gcoin_by_user.unionByName(pre_costume_and_wsus_gcoin_by_user).unionByName(pre_only_wsus_gcoin_by_user)"
   ]
  },
  {
   "cell_type": "code",
   "execution_count": 158,
   "metadata": {},
   "outputs": [],
   "source": [
    "pre_df = pre_df.withColumnRenamed(\"group\", \"pre_group\").withColumnRenamed(\"seg\", \"pre_seg\")"
   ]
  },
  {
   "cell_type": "code",
   "execution_count": 159,
   "metadata": {},
   "outputs": [
    {
     "name": "stdout",
     "output_type": "stream",
     "text": [
      "+---------+-------+--------+\n",
      "|pre_group|pre_seg|count(1)|\n",
      "+---------+-------+--------+\n",
      "|c        |E      |12      |\n",
      "|b        |B      |49071   |\n",
      "|a        |B      |53120   |\n",
      "|c        |B      |36897   |\n",
      "|b        |A      |152433  |\n",
      "|b        |E      |3963    |\n",
      "|a        |C      |519     |\n",
      "|c        |D      |4032    |\n",
      "|b        |D      |30158   |\n",
      "|c        |A      |880880  |\n",
      "|a        |D      |11      |\n",
      "|a        |A      |540246  |\n",
      "|b        |C      |16045   |\n",
      "|c        |C      |6879    |\n",
      "+---------+-------+--------+\n",
      "\n"
     ]
    }
   ],
   "source": [
    "pre_df.groupBy(\"pre_group\", \"pre_seg\").agg(count(\"*\")).show(truncate=False)"
   ]
  },
  {
   "cell_type": "code",
   "execution_count": 37,
   "metadata": {},
   "outputs": [
    {
     "name": "stdout",
     "output_type": "stream",
     "text": [
      "root\n",
      " |-- pre_group: string (nullable = false)\n",
      " |-- account_id: string (nullable = true)\n",
      " |-- avg_total_use: double (nullable = true)\n",
      " |-- avg_paid_use: double (nullable = true)\n",
      " |-- pre_seg: string (nullable = true)\n",
      " |-- avg_wsus_cnt: double (nullable = true)\n",
      "\n"
     ]
    }
   ],
   "source": [
    "pre_df.printSchema()"
   ]
  },
  {
   "cell_type": "code",
   "execution_count": 110,
   "metadata": {},
   "outputs": [
    {
     "data": {
      "text/plain": [
       "1774266"
      ]
     },
     "execution_count": 110,
     "metadata": {},
     "output_type": "execute_result"
    }
   ],
   "source": [
    "pre_df.count()"
   ]
  },
  {
   "cell_type": "code",
   "execution_count": 160,
   "metadata": {},
   "outputs": [],
   "source": [
    "mysql.drop_table(\"labs\", \"workshop_user_pre_seg_tmp\")\n",
    "mysql.insert_table(pre_df, \"labs\", \"workshop_user_pre_seg_tmp\")"
   ]
  },
  {
   "cell_type": "markdown",
   "metadata": {},
   "source": [
    "## POST"
   ]
  },
  {
   "cell_type": "code",
   "execution_count": 9,
   "metadata": {},
   "outputs": [],
   "source": [
    "post_gcoin = load_data_mart(\"pc\", post_start_date, post_end_date, \"gcoin_use\")"
   ]
  },
  {
   "cell_type": "code",
   "execution_count": 162,
   "metadata": {},
   "outputs": [],
   "source": [
    "post_wsus_gcoin = post_gcoin.where(col(\"event_name\").like(\"%wsus%\"))\n",
    "post_wsus_user = post_wsus_gcoin.select(\"account_id\").distinct()"
   ]
  },
  {
   "cell_type": "code",
   "execution_count": 163,
   "metadata": {},
   "outputs": [],
   "source": [
    "post_costume = post_gcoin.where((~col(\"event_name\").like(\"%wsus%\")) & (~col(\"event_name\").like(\"%survivorpass%\")) & (~col(\"event_name\").like(\"%yourshop%\"))) \\\n",
    "    .where((col(\"sub_category\").isin([\"costume\", \"gear\", \"vehicle\"])) | ((col(\"sub_category\") == \"crate\") ) | col(\"event_name\").like(\"%workshop%\"))\n",
    "post_costume_user = post_costume.select(\"account_id\").distinct()"
   ]
  },
  {
   "cell_type": "code",
   "execution_count": 164,
   "metadata": {},
   "outputs": [],
   "source": [
    "post_costume = post_costume.withColumn(\"patch\", when(col(\"date\") < \"2022-08-10\", lit(\"18.2\")).otherwise(lit(\"19.1\")))\n",
    "post_wsus_gcoin = post_wsus_gcoin.withColumn(\"patch\", when(col(\"date\") < \"2022-08-10\", lit(\"18.2\")).otherwise(lit(\"19.1\")))"
   ]
  },
  {
   "cell_type": "code",
   "execution_count": 165,
   "metadata": {},
   "outputs": [],
   "source": [
    "post_only_costume_gcoin = post_costume.join(post_wsus_user, \"account_id\", \"leftanti\")\n",
    "post_costume_and_wsus_gcoin = post_wsus_gcoin.join(post_costume_user, \"account_id\")\n",
    "post_only_wsus_gcoin= post_wsus_gcoin.join(post_costume_user, \"account_id\", \"leftanti\")"
   ]
  },
  {
   "cell_type": "code",
   "execution_count": 166,
   "metadata": {},
   "outputs": [],
   "source": [
    "def chest_cnt(product_id):\n",
    "    if product_id in [\"itemdesc.14300001\", \"itemdesc.14300002\", \"itemdesc.13000577\", \"itemdesc.13000580\"]:\n",
    "        return 1\n",
    "    elif product_id in [\"itemdesc.13000578\", \"itemdesc.13000581\"]:\n",
    "        return 5\n",
    "    elif product_id == \"itemdesc.13000582\":\n",
    "        return 10\n",
    "    else:\n",
    "        return 0\n",
    "\n",
    "assign_chest_cnt = udf(chest_cnt, IntegerType())"
   ]
  },
  {
   "cell_type": "markdown",
   "metadata": {},
   "source": [
    "### a (ONLY COSTUME)"
   ]
  },
  {
   "cell_type": "code",
   "execution_count": 167,
   "metadata": {},
   "outputs": [],
   "source": [
    "post_only_costume_gcoin = post_only_costume_gcoin.withColumn(\"group\", lit(\"a\")) \\\n",
    "    .withColumn(\"costume_type\", when(col(\"event_name\").like(\"%workshop%\"), lit(\"workshop\")).otherwise(lit(\"store\"))) \\\n",
    "    .withColumn(\"chest_cnt\", when(col(\"event_name\").like(\"%workshop%\"), assign_chest_cnt(col(\"product_id\"))).otherwise(lit(0))) \\\n",
    "    .withColumn(\"wsus_cnt\", lit(0))"
   ]
  },
  {
   "cell_type": "code",
   "execution_count": 168,
   "metadata": {},
   "outputs": [],
   "source": [
    "post_only_costume_gcoin_by_user = post_only_costume_gcoin.groupBy(\"group\", \"account_id\", \"costume_type\") \\\n",
    "    .agg((sum(col(\"free_use\") + col(\"paid_use\"))/2).alias(\"avg_total_use\"), (sum(\"paid_use\")/2).alias(\"avg_paid_use\"), (sum(\"chest_cnt\")/2).alias(\"avg_chest_cnt\"), (sum(\"wsus_cnt\")/2).alias(\"avg_wsus_cnt\")) "
   ]
  },
  {
   "cell_type": "code",
   "execution_count": 169,
   "metadata": {},
   "outputs": [],
   "source": [
    "post_only_costume_gcoin_by_user_for_seg = post_only_costume_gcoin.groupBy(\"account_id\") \\\n",
    "    .agg((sum(col(\"free_use\") + col(\"paid_use\"))/2).alias(\"avg_all_costume_total_use\")) \\\n",
    "    .withColumn(\"seg\", \\\n",
    "     when(col(\"avg_all_costume_total_use\") <= 1000, \"A\") \\\n",
    "    .when((col(\"avg_all_costume_total_use\") > 1000) & (col(\"avg_all_costume_total_use\") <= 5000), \"B\") \\\n",
    "    .when((col(\"avg_all_costume_total_use\") > 5000) & (col(\"avg_all_costume_total_use\") <= 10000), \"C\") \\\n",
    "    .when((col(\"avg_all_costume_total_use\") > 10000) & (col(\"avg_all_costume_total_use\") <= 30000), \"D\") \\\n",
    "    .when((col(\"avg_all_costume_total_use\") > 30000), \"E\") \\\n",
    " )\n",
    "post_only_costume_gcoin_by_user = post_only_costume_gcoin_by_user.join(post_only_costume_gcoin_by_user_for_seg, \"account_id\")"
   ]
  },
  {
   "cell_type": "code",
   "execution_count": 58,
   "metadata": {},
   "outputs": [
    {
     "name": "stdout",
     "output_type": "stream",
     "text": [
      "root\n",
      " |-- account_id: string (nullable = true)\n",
      " |-- group: string (nullable = false)\n",
      " |-- costume_type: string (nullable = false)\n",
      " |-- avg_total_use: double (nullable = true)\n",
      " |-- avg_paid_use: double (nullable = true)\n",
      " |-- avg_chest_cnt: double (nullable = true)\n",
      " |-- avg_wsus_cnt: double (nullable = true)\n",
      " |-- avg_all_costume_total_use: double (nullable = true)\n",
      " |-- seg: string (nullable = true)\n",
      "\n"
     ]
    }
   ],
   "source": [
    "post_only_costume_gcoin_by_user.printSchema()"
   ]
  },
  {
   "cell_type": "markdown",
   "metadata": {},
   "source": [
    "### b (WSUS + COSTUME)"
   ]
  },
  {
   "cell_type": "code",
   "execution_count": 198,
   "metadata": {},
   "outputs": [],
   "source": [
    "post_costume_and_wsus_gcoin_user = post_costume_and_wsus_gcoin.select(\"account_id\").distinct()\n",
    "\n",
    "post_costume_and_wsus_gcoin_a = post_costume.join(post_costume_and_wsus_gcoin_user, \"account_id\") \\\n",
    "    .withColumn(\"costume_type\", when(col(\"event_name\").like(\"%workshop%\"), lit(\"workshop\")).otherwise(lit(\"store\"))) \\\n",
    "    .withColumn(\"chest_cnt\", when(col(\"event_name\").like(\"%workshop%\"), assign_chest_cnt(col(\"product_id\"))).otherwise(lit(0)))\n",
    "\n",
    "# 우선 workshop만\n",
    "post_costume_and_wsus_gcoin_a_by_user = post_costume_and_wsus_gcoin_a.where(col(\"costume_type\") == \"workshop\").groupBy(\"account_id\", \"costume_type\") \\\n",
    "    .agg((sum(col(\"free_use\") + col(\"paid_use\"))/2).alias(\"avg_total_use\"), (sum(\"paid_use\")/2).alias(\"avg_paid_use\"), (sum(\"chest_cnt\")/2).alias(\"avg_chest_cnt\")) "
   ]
  },
  {
   "cell_type": "code",
   "execution_count": 51,
   "metadata": {},
   "outputs": [
    {
     "name": "stdout",
     "output_type": "stream",
     "text": [
      "root\n",
      " |-- account_id: string (nullable = true)\n",
      " |-- costume_type: string (nullable = false)\n",
      " |-- avg_total_use: double (nullable = true)\n",
      " |-- avg_paid_use: double (nullable = true)\n",
      " |-- avg_chest_cnt: double (nullable = true)\n",
      "\n"
     ]
    }
   ],
   "source": [
    "post_costume_and_wsus_gcoin_a_by_user.printSchema()"
   ]
  },
  {
   "cell_type": "code",
   "execution_count": 171,
   "metadata": {},
   "outputs": [],
   "source": [
    "post_costume_and_wsus_gcoin_b = post_costume_and_wsus_gcoin.withColumn(\"wsus_cnt\", assign_wsus_cnt(col(\"price\")))\n",
    "\n",
    "post_costume_and_wsus_gcoin_b_by_user = post_costume_and_wsus_gcoin_b.groupBy(\"account_id\") \\\n",
    "    .agg((sum(col(\"free_use\") + col(\"paid_use\"))/2).alias(\"avg_wsus_total_use\"), (sum(\"paid_use\")/2).alias(\"avg_wsus_paid_use\"), (sum(\"wsus_cnt\")/2).alias(\"avg_wsus_cnt\"))"
   ]
  },
  {
   "cell_type": "code",
   "execution_count": 199,
   "metadata": {},
   "outputs": [
    {
     "name": "stdout",
     "output_type": "stream",
     "text": [
      "+--------+--------------------------+\n",
      "|count(1)|count(DISTINCT account_id)|\n",
      "+--------+--------------------------+\n",
      "|245305  |245305                    |\n",
      "+--------+--------------------------+\n",
      "\n"
     ]
    }
   ],
   "source": [
    "post_costume_and_wsus_gcoin_a_by_user.select(count(\"*\"), countDistinct(\"account_id\")).show(truncate=False)"
   ]
  },
  {
   "cell_type": "code",
   "execution_count": 190,
   "metadata": {},
   "outputs": [
    {
     "name": "stdout",
     "output_type": "stream",
     "text": [
      "+-----------------------+\n",
      "|sum(avg_wsus_total_use)|\n",
      "+-----------------------+\n",
      "|1.1351873E9            |\n",
      "+-----------------------+\n",
      "\n"
     ]
    }
   ],
   "source": [
    "post_costume_and_wsus_gcoin_b_by_user.select(sum(\"avg_wsus_total_use\")).show(truncate=False)"
   ]
  },
  {
   "cell_type": "code",
   "execution_count": 194,
   "metadata": {},
   "outputs": [
    {
     "name": "stdout",
     "output_type": "stream",
     "text": [
      "+--------+--------------------------+\n",
      "|count(1)|count(DISTINCT account_id)|\n",
      "+--------+--------------------------+\n",
      "|309914  |309914                    |\n",
      "+--------+--------------------------+\n",
      "\n"
     ]
    }
   ],
   "source": [
    "post_costume_and_wsus_gcoin_b_by_user.select(count(\"*\"), countDistinct(\"account_id\")).show(truncate=False)"
   ]
  },
  {
   "cell_type": "code",
   "execution_count": 60,
   "metadata": {},
   "outputs": [
    {
     "name": "stdout",
     "output_type": "stream",
     "text": [
      "root\n",
      " |-- account_id: string (nullable = true)\n",
      " |-- avg_wsus_total_use: double (nullable = true)\n",
      " |-- avg_wsus_paid_use: double (nullable = true)\n",
      " |-- avg_wsus_cnt: double (nullable = true)\n",
      "\n"
     ]
    }
   ],
   "source": [
    "post_costume_and_wsus_gcoin_b_by_user.printSchema()"
   ]
  },
  {
   "cell_type": "code",
   "execution_count": 200,
   "metadata": {},
   "outputs": [],
   "source": [
    "# post_costume_and_wsus_gcoin_a_by_user: workshop 사용\n",
    "# post_costume_and_wsus_gcoin_b_by_user: wsus 사용\n",
    "post_costume_and_wsus_gcoin_by_user = post_costume_and_wsus_gcoin_a_by_user.join(post_costume_and_wsus_gcoin_b_by_user, \"account_id\", \"right\")      "
   ]
  },
  {
   "cell_type": "code",
   "execution_count": 201,
   "metadata": {},
   "outputs": [
    {
     "name": "stdout",
     "output_type": "stream",
     "text": [
      "+--------+--------------------------+\n",
      "|count(1)|count(DISTINCT account_id)|\n",
      "+--------+--------------------------+\n",
      "|309914  |309914                    |\n",
      "+--------+--------------------------+\n",
      "\n"
     ]
    }
   ],
   "source": [
    "post_costume_and_wsus_gcoin_by_user.select(count(\"*\"), countDistinct(\"account_id\")).show(truncate=False)"
   ]
  },
  {
   "cell_type": "code",
   "execution_count": 172,
   "metadata": {},
   "outputs": [],
   "source": [
    "# post_costume_and_wsus_gcoin_by_user = post_costume_and_wsus_gcoin_a_by_user.join(post_costume_and_wsus_gcoin_b_by_user, \"account_id\")"
   ]
  },
  {
   "cell_type": "code",
   "execution_count": 202,
   "metadata": {},
   "outputs": [],
   "source": [
    "post_costume_and_wsus_gcoin_a_tmp = post_costume_and_wsus_gcoin_a.groupBy(\"account_id\") \\\n",
    "    .agg((sum(col(\"free_use\") + col(\"paid_use\"))/2).alias(\"avg_all_costume_total_use\"))"
   ]
  },
  {
   "cell_type": "code",
   "execution_count": 203,
   "metadata": {},
   "outputs": [],
   "source": [
    "post_costume_and_wsus_gcoin_by_user = post_costume_and_wsus_gcoin_by_user.withColumn(\"seg\", \\\n",
    "    when(col(\"avg_wsus_cnt\") <= 3, \"A\") \\\n",
    "    .when((col(\"avg_wsus_cnt\") > 3) & (col(\"avg_wsus_cnt\") <= 15), \"B\") \\\n",
    "    .when((col(\"avg_wsus_cnt\") > 15) & (col(\"avg_wsus_cnt\") <= 30), \"C\") \\\n",
    "    .when((col(\"avg_wsus_cnt\") > 30) & (col(\"avg_wsus_cnt\") <= 240), \"D\") \\\n",
    "    .when((col(\"avg_wsus_cnt\") > 240), \"E\") \\\n",
    ")"
   ]
  },
  {
   "cell_type": "code",
   "execution_count": 204,
   "metadata": {},
   "outputs": [],
   "source": [
    "post_costume_and_wsus_gcoin_by_user = post_costume_and_wsus_gcoin_by_user.join(post_costume_and_wsus_gcoin_a_tmp, \"account_id\") \\\n",
    "    .withColumn(\"group\", lit(\"b\"))"
   ]
  },
  {
   "cell_type": "code",
   "execution_count": 205,
   "metadata": {},
   "outputs": [
    {
     "name": "stdout",
     "output_type": "stream",
     "text": [
      "+--------+--------------------------+\n",
      "|count(1)|count(DISTINCT account_id)|\n",
      "+--------+--------------------------+\n",
      "|309914  |309914                    |\n",
      "+--------+--------------------------+\n",
      "\n"
     ]
    }
   ],
   "source": [
    "post_costume_and_wsus_gcoin_by_user.select(count(\"*\"), countDistinct(\"account_id\")).show(truncate=False)"
   ]
  },
  {
   "cell_type": "code",
   "execution_count": 206,
   "metadata": {},
   "outputs": [
    {
     "name": "stdout",
     "output_type": "stream",
     "text": [
      "+-----------------------+\n",
      "|sum(avg_wsus_total_use)|\n",
      "+-----------------------+\n",
      "|1.1351873E9            |\n",
      "+-----------------------+\n",
      "\n"
     ]
    }
   ],
   "source": [
    "post_costume_and_wsus_gcoin_by_user.select(sum(\"avg_wsus_total_use\")).show(truncate=False)"
   ]
  },
  {
   "cell_type": "code",
   "execution_count": 68,
   "metadata": {},
   "outputs": [
    {
     "name": "stdout",
     "output_type": "stream",
     "text": [
      "root\n",
      " |-- account_id: string (nullable = true)\n",
      " |-- costume_type: string (nullable = false)\n",
      " |-- avg_total_use: double (nullable = true)\n",
      " |-- avg_paid_use: double (nullable = true)\n",
      " |-- avg_chest_cnt: double (nullable = true)\n",
      " |-- avg_wsus_total_use: double (nullable = true)\n",
      " |-- avg_wsus_paid_use: double (nullable = true)\n",
      " |-- avg_wsus_cnt: double (nullable = true)\n",
      " |-- seg: string (nullable = true)\n",
      " |-- avg_all_costume_total_use: double (nullable = true)\n",
      " |-- group: string (nullable = false)\n",
      "\n"
     ]
    }
   ],
   "source": [
    "post_costume_and_wsus_gcoin_by_user.printSchema()"
   ]
  },
  {
   "cell_type": "markdown",
   "metadata": {},
   "source": [
    "### c (ONLY WSUS)"
   ]
  },
  {
   "cell_type": "code",
   "execution_count": 176,
   "metadata": {},
   "outputs": [],
   "source": [
    "post_only_wsus_gcoin_by_user = post_only_wsus_gcoin.withColumn(\"wsus_cnt\", assign_wsus_cnt(col(\"price\"))) \\\n",
    "    .groupBy(\"account_id\") \\\n",
    "    .agg((sum(col(\"free_use\") + col(\"paid_use\"))/2).alias(\"avg_wsus_total_use\"), (sum(\"paid_use\")/2).alias(\"avg_wsus_paid_use\"), (sum(\"wsus_cnt\")/2).alias(\"avg_wsus_cnt\"))"
   ]
  },
  {
   "cell_type": "code",
   "execution_count": 177,
   "metadata": {},
   "outputs": [],
   "source": [
    "post_only_wsus_gcoin_by_user = post_only_wsus_gcoin_by_user.withColumn(\"seg\", \\\n",
    "            when(col(\"avg_wsus_cnt\") <=10, \"A\") \\\n",
    "            .when((col(\"avg_wsus_cnt\") > 10) & (col(\"avg_wsus_cnt\") <= 50), \"B\") \\\n",
    "            .when((col(\"avg_wsus_cnt\") > 50) & (col(\"avg_wsus_cnt\") <= 100), \"C\") \\\n",
    "            .when((col(\"avg_wsus_cnt\") > 100) & (col(\"avg_wsus_cnt\") <= 800), \"D\") \\\n",
    "            .when((col(\"avg_wsus_cnt\") > 800), \"E\") \\\n",
    ").withColumn(\"group\", lit(\"c\"))"
   ]
  },
  {
   "cell_type": "code",
   "execution_count": 178,
   "metadata": {},
   "outputs": [],
   "source": [
    "post_only_wsus_gcoin_by_user = post_only_wsus_gcoin_by_user.withColumn(\"group\", lit(\"c\"))"
   ]
  },
  {
   "cell_type": "code",
   "execution_count": 72,
   "metadata": {},
   "outputs": [
    {
     "name": "stdout",
     "output_type": "stream",
     "text": [
      "root\n",
      " |-- account_id: string (nullable = true)\n",
      " |-- avg_wsus_total_use: double (nullable = true)\n",
      " |-- avg_wsus_paid_use: double (nullable = true)\n",
      " |-- avg_wsus_cnt: double (nullable = true)\n",
      " |-- seg: string (nullable = true)\n",
      "\n"
     ]
    }
   ],
   "source": [
    "post_only_wsus_gcoin_by_user.printSchema()"
   ]
  },
  {
   "cell_type": "code",
   "execution_count": 191,
   "metadata": {},
   "outputs": [
    {
     "name": "stdout",
     "output_type": "stream",
     "text": [
      "+-----------------------+\n",
      "|sum(avg_wsus_total_use)|\n",
      "+-----------------------+\n",
      "|2.851415E8             |\n",
      "+-----------------------+\n",
      "\n"
     ]
    }
   ],
   "source": [
    "post_only_wsus_gcoin_by_user.select(sum(\"avg_wsus_total_use\")).show(truncate=False)"
   ]
  },
  {
   "cell_type": "markdown",
   "metadata": {},
   "source": [
    "### total"
   ]
  },
  {
   "cell_type": "code",
   "execution_count": 74,
   "metadata": {},
   "outputs": [
    {
     "name": "stdout",
     "output_type": "stream",
     "text": [
      "root\n",
      " |-- account_id: string (nullable = true)\n",
      " |-- group: string (nullable = false)\n",
      " |-- costume_type: string (nullable = false)\n",
      " |-- avg_total_use: double (nullable = true)\n",
      " |-- avg_paid_use: double (nullable = true)\n",
      " |-- avg_chest_cnt: double (nullable = true)\n",
      " |-- avg_wsus_cnt: double (nullable = true)\n",
      " |-- avg_all_costume_total_use: double (nullable = true)\n",
      " |-- seg: string (nullable = true)\n",
      "\n"
     ]
    }
   ],
   "source": [
    "post_only_costume_gcoin_by_user.printSchema()"
   ]
  },
  {
   "cell_type": "code",
   "execution_count": 75,
   "metadata": {},
   "outputs": [
    {
     "name": "stdout",
     "output_type": "stream",
     "text": [
      "root\n",
      " |-- account_id: string (nullable = true)\n",
      " |-- costume_type: string (nullable = false)\n",
      " |-- avg_total_use: double (nullable = true)\n",
      " |-- avg_paid_use: double (nullable = true)\n",
      " |-- avg_chest_cnt: double (nullable = true)\n",
      " |-- avg_wsus_total_use: double (nullable = true)\n",
      " |-- avg_wsus_paid_use: double (nullable = true)\n",
      " |-- avg_wsus_cnt: double (nullable = true)\n",
      " |-- seg: string (nullable = true)\n",
      " |-- avg_all_costume_total_use: double (nullable = true)\n",
      " |-- group: string (nullable = false)\n",
      "\n"
     ]
    }
   ],
   "source": [
    "post_costume_and_wsus_gcoin_by_user.printSchema()"
   ]
  },
  {
   "cell_type": "code",
   "execution_count": 76,
   "metadata": {},
   "outputs": [
    {
     "name": "stdout",
     "output_type": "stream",
     "text": [
      "root\n",
      " |-- account_id: string (nullable = true)\n",
      " |-- avg_wsus_total_use: double (nullable = true)\n",
      " |-- avg_wsus_paid_use: double (nullable = true)\n",
      " |-- avg_wsus_cnt: double (nullable = true)\n",
      " |-- seg: string (nullable = true)\n",
      " |-- group: string (nullable = false)\n",
      "\n"
     ]
    }
   ],
   "source": [
    "post_only_wsus_gcoin_by_user.printSchema()"
   ]
  },
  {
   "cell_type": "code",
   "execution_count": 207,
   "metadata": {},
   "outputs": [],
   "source": [
    "post_df = post_only_costume_gcoin_by_user.withColumn(\"avg_wsus_total_use\", lit(0)).withColumn(\"avg_wsus_paid_use\", lit(0)) \\\n",
    "    .unionByName(post_costume_and_wsus_gcoin_by_user) \\\n",
    "    .unionByName(post_only_wsus_gcoin_by_user.withColumn(\"costume_type\", lit(\"wsus\")).withColumn(\"avg_total_use\", lit(0)).withColumn(\"avg_paid_use\", lit(0)).withColumn(\"avg_all_costume_total_use\", lit(0)).withColumn(\"avg_chest_cnt\", lit(0)))"
   ]
  },
  {
   "cell_type": "code",
   "execution_count": 208,
   "metadata": {},
   "outputs": [],
   "source": [
    "post_df = post_df.withColumnRenamed(\"group\", \"post_group\").withColumnRenamed(\"seg\", \"post_seg\")"
   ]
  },
  {
   "cell_type": "code",
   "execution_count": 181,
   "metadata": {},
   "outputs": [
    {
     "name": "stdout",
     "output_type": "stream",
     "text": [
      "+----------+--------+--------+\n",
      "|post_group|post_seg|count(1)|\n",
      "+----------+--------+--------+\n",
      "|c         |E       |5       |\n",
      "|b         |B       |89706   |\n",
      "|a         |B       |191938  |\n",
      "|c         |B       |11783   |\n",
      "|b         |A       |207652  |\n",
      "|b         |E       |8458    |\n",
      "|a         |C       |30724   |\n",
      "|c         |D       |1011    |\n",
      "|b         |D       |60620   |\n",
      "|c         |A       |489264  |\n",
      "|a         |D       |20212   |\n",
      "|a         |A       |954415  |\n",
      "|b         |C       |30083   |\n",
      "|c         |C       |1838    |\n",
      "|a         |E       |3701    |\n",
      "+----------+--------+--------+\n",
      "\n"
     ]
    }
   ],
   "source": [
    "post_df.groupBy(\"post_group\", \"post_seg\").agg(count(\"*\")).show(truncate=False)"
   ]
  },
  {
   "cell_type": "code",
   "execution_count": 84,
   "metadata": {},
   "outputs": [
    {
     "name": "stdout",
     "output_type": "stream",
     "text": [
      "root\n",
      " |-- account_id: string (nullable = true)\n",
      " |-- post_group: string (nullable = false)\n",
      " |-- costume_type: string (nullable = false)\n",
      " |-- avg_total_use: double (nullable = true)\n",
      " |-- avg_paid_use: double (nullable = true)\n",
      " |-- avg_chest_cnt: double (nullable = true)\n",
      " |-- avg_wsus_cnt: double (nullable = true)\n",
      " |-- avg_all_costume_total_use: double (nullable = true)\n",
      " |-- post_seg: string (nullable = true)\n",
      " |-- avg_wsus_total_use: double (nullable = true)\n",
      " |-- avg_wsus_paid_use: double (nullable = true)\n",
      "\n"
     ]
    }
   ],
   "source": [
    "post_df.printSchema()"
   ]
  },
  {
   "cell_type": "code",
   "execution_count": 209,
   "metadata": {},
   "outputs": [],
   "source": [
    "mysql.drop_table(\"labs\", \"workshop_user_post_seg_tmp\")\n",
    "mysql.insert_table(post_df, \"labs\", \"workshop_user_post_seg_tmp\")"
   ]
  },
  {
   "cell_type": "code",
   "execution_count": 86,
   "metadata": {},
   "outputs": [
    {
     "name": "stdout",
     "output_type": "stream",
     "text": [
      "root\n",
      " |-- pre_group: string (nullable = false)\n",
      " |-- account_id: string (nullable = true)\n",
      " |-- avg_total_use: double (nullable = true)\n",
      " |-- avg_paid_use: double (nullable = true)\n",
      " |-- pre_seg: string (nullable = true)\n",
      " |-- avg_wsus_cnt: double (nullable = true)\n",
      "\n"
     ]
    }
   ],
   "source": [
    "pre_df.printSchema()"
   ]
  },
  {
   "cell_type": "code",
   "execution_count": 3,
   "metadata": {},
   "outputs": [],
   "source": [
    "pre_df = mysql.read_table(spark, \"labs\", \"workshop_user_pre_seg_tmp\")\n",
    "post_df = mysql.read_table(spark, \"labs\", \"workshop_user_post_seg_tmp\")"
   ]
  },
  {
   "cell_type": "code",
   "execution_count": 4,
   "metadata": {},
   "outputs": [],
   "source": [
    "pre_df = pre_df.withColumnRenamed(\"avg_total_use\", \"pre_avg_total_use\") \\\n",
    "    .withColumnRenamed(\"avg_paid_use\", \"pre_avg_paid_use\") \\\n",
    "    .withColumnRenamed(\"avg_wsus_cnt\", \"pre_avg_wsus_cnt\")"
   ]
  },
  {
   "cell_type": "code",
   "execution_count": 6,
   "metadata": {},
   "outputs": [],
   "source": [
    "df = pre_df.join(post_df, \"account_id\", \"full_outer\")"
   ]
  },
  {
   "cell_type": "code",
   "execution_count": 14,
   "metadata": {},
   "outputs": [],
   "source": [
    "df = df.withColumn(\"pre_group\", when(col(\"pre_group\") == \"a\", \"Costume\").when(col(\"pre_group\") == \"b\", \"WC\").when(col(\"pre_group\") == \"c\", \"W\").otherwise(lit(None))) \\\n",
    "    .withColumn(\"post_group\", when(col(\"post_group\") == \"a\", \"Costume\").when(col(\"post_group\") == \"b\", \"WC\").when(col(\"post_group\") == \"c\", \"W\").otherwise(lit(None)))"
   ]
  },
  {
   "cell_type": "code",
   "execution_count": 15,
   "metadata": {},
   "outputs": [],
   "source": [
    "mysql.drop_table(\"labs\", \"workshop_user_segmentation\")\n",
    "mysql.insert_table(df, \"labs\", \"workshop_user_segmentation\")"
   ]
  },
  {
   "cell_type": "code",
   "execution_count": 8,
   "metadata": {},
   "outputs": [
    {
     "name": "stdout",
     "output_type": "stream",
     "text": [
      "root\n",
      " |-- account_id: string (nullable = true)\n",
      " |-- pre_group: string (nullable = true)\n",
      " |-- pre_avg_total_use: double (nullable = true)\n",
      " |-- pre_avg_paid_use: double (nullable = true)\n",
      " |-- pre_seg: string (nullable = true)\n",
      " |-- pre_avg_wsus_cnt: double (nullable = true)\n",
      " |-- post_group: string (nullable = true)\n",
      " |-- costume_type: string (nullable = true)\n",
      " |-- avg_total_use: double (nullable = true)\n",
      " |-- avg_paid_use: double (nullable = true)\n",
      " |-- avg_chest_cnt: double (nullable = true)\n",
      " |-- avg_wsus_cnt: double (nullable = true)\n",
      " |-- avg_all_costume_total_use: double (nullable = true)\n",
      " |-- post_seg: string (nullable = true)\n",
      " |-- avg_wsus_total_use: double (nullable = true)\n",
      " |-- avg_wsus_paid_use: double (nullable = true)\n",
      "\n"
     ]
    }
   ],
   "source": [
    "df.printSchema()"
   ]
  },
  {
   "cell_type": "code",
   "execution_count": 9,
   "metadata": {},
   "outputs": [
    {
     "name": "stdout",
     "output_type": "stream",
     "text": [
      "+------------------------+\n",
      "|(sum(avg_total_use) * 2)|\n",
      "+------------------------+\n",
      "|3.42876256E9            |\n",
      "+------------------------+\n",
      "\n"
     ]
    }
   ],
   "source": [
    "df.where(col(\"costume_type\") == \"workshop\").select(sum(\"avg_total_use\") * 2).show(truncate=False)"
   ]
  },
  {
   "cell_type": "code",
   "execution_count": 13,
   "metadata": {},
   "outputs": [
    {
     "name": "stdout",
     "output_type": "stream",
     "text": [
      "+------------------------+\n",
      "|(sum(avg_total_use) * 2)|\n",
      "+------------------------+\n",
      "|3.42876256E9            |\n",
      "+------------------------+\n",
      "\n"
     ]
    }
   ],
   "source": [
    "df.where(col(\"costume_type\") == \"workshop\").select(sum(\"avg_total_use\") * 2).show(truncate=False)"
   ]
  },
  {
   "cell_type": "code",
   "execution_count": 186,
   "metadata": {},
   "outputs": [
    {
     "name": "stdout",
     "output_type": "stream",
     "text": [
      "+-------------+--------------------------+\n",
      "|sum(paid_use)|sum((paid_use + free_use))|\n",
      "+-------------+--------------------------+\n",
      "|2697671661   |3428762560                |\n",
      "+-------------+--------------------------+\n",
      "\n"
     ]
    }
   ],
   "source": [
    "post_gcoin.where(col(\"event_name\").like(\"%workshop%\")).select(sum(\"paid_use\"), sum(col(\"paid_use\") + col(\"free_use\"))).show(truncate=False)"
   ]
  },
  {
   "cell_type": "code",
   "execution_count": 81,
   "metadata": {},
   "outputs": [
    {
     "name": "stdout",
     "output_type": "stream",
     "text": [
      "+------+\n",
      "|pu    |\n",
      "+------+\n",
      "|997514|\n",
      "+------+\n",
      "\n"
     ]
    }
   ],
   "source": [
    "post_gcoin.where(col(\"event_name\").like(\"%workshop%\")).select(countDistinct(\"account_id\").alias(\"pu\")).show(truncate=False)"
   ]
  },
  {
   "cell_type": "code",
   "execution_count": 187,
   "metadata": {},
   "outputs": [
    {
     "name": "stdout",
     "output_type": "stream",
     "text": [
      "+-------------+--------------------------+\n",
      "|sum(paid_use)|sum((paid_use + free_use))|\n",
      "+-------------+--------------------------+\n",
      "|2173488315   |2840657600                |\n",
      "+-------------+--------------------------+\n",
      "\n"
     ]
    }
   ],
   "source": [
    "post_gcoin.where(col(\"event_name\").like(\"%wsus%\")).select(sum(\"paid_use\"), sum(col(\"paid_use\") + col(\"free_use\"))).show(truncate=False)"
   ]
  },
  {
   "cell_type": "code",
   "execution_count": 213,
   "metadata": {},
   "outputs": [
    {
     "name": "stdout",
     "output_type": "stream",
     "text": [
      "+--------+\n",
      "|au      |\n",
      "+--------+\n",
      "|14164852|\n",
      "+--------+\n",
      "\n"
     ]
    }
   ],
   "source": [
    "load_data_mart(\"pc\", post_end_date, post_end_date, \"user_master\").where(col(\"lastlogindate\") >= post_start_date).select(countDistinct(\"accountid\").alias(\"au\")).show(truncate=False)"
   ]
  },
  {
   "cell_type": "markdown",
   "metadata": {},
   "source": [
    "### Costume유저들의 workshop chest *1 찍먹 유저"
   ]
  },
  {
   "cell_type": "code",
   "execution_count": 35,
   "metadata": {},
   "outputs": [],
   "source": [
    "workshop_gcoin = post_gcoin.where(col(\"event_name\").like(\"%workshop%\"))"
   ]
  },
  {
   "cell_type": "code",
   "execution_count": 37,
   "metadata": {},
   "outputs": [
    {
     "name": "stdout",
     "output_type": "stream",
     "text": [
      "+---------------------+------------------------------+\n",
      "|product_id           |product_name                  |\n",
      "+---------------------+------------------------------+\n",
      "|itemdesc.14300002    |ARCHIVIST'S CHEST             |\n",
      "|itemdesc.13000582    |ARCHIVIST'S CHEST BUNDLE (x10)|\n",
      "|itemdesc.13000577    |HUNTER'S CHEST PACK (x1)      |\n",
      "|itemdesc.13000581    |ARCHIVIST'S CHEST BUNDLE (x5) |\n",
      "|itemdesc.13000580    |ARCHIVIST'S CHEST BUNDLE (x1) |\n",
      "|itemdesc.13000578    |HUNTER'S CHEST PACK (x5)      |\n",
      "|currencydesc.chestkey|KEY                           |\n",
      "|itemdesc.14300001    |HUNTER'S CHEST                |\n",
      "+---------------------+------------------------------+\n",
      "\n"
     ]
    }
   ],
   "source": [
    "workshop_gcoin.select(\"product_id\", \"product_name\").distinct().show(truncate=False)"
   ]
  },
  {
   "cell_type": "code",
   "execution_count": 69,
   "metadata": {},
   "outputs": [],
   "source": [
    "costume_user = post_df.where((col(\"costume_type\") == \"workshop\") & (col(\"post_group\") == \"a\")).select(\"account_id\").distinct()"
   ]
  },
  {
   "cell_type": "code",
   "execution_count": 70,
   "metadata": {},
   "outputs": [],
   "source": [
    "one_item_buyer = workshop_gcoin.join(costume_user, \"account_id\").groupBy(\"account_id\").agg(sum(\"qty\").alias(\"qty\")).where(col(\"qty\") == 1)"
   ]
  },
  {
   "cell_type": "code",
   "execution_count": 71,
   "metadata": {},
   "outputs": [
    {
     "data": {
      "text/html": [
       "<div>\n",
       "<style scoped>\n",
       "    .dataframe tbody tr th:only-of-type {\n",
       "        vertical-align: middle;\n",
       "    }\n",
       "\n",
       "    .dataframe tbody tr th {\n",
       "        vertical-align: top;\n",
       "    }\n",
       "\n",
       "    .dataframe thead th {\n",
       "        text-align: right;\n",
       "    }\n",
       "</style>\n",
       "<table border=\"1\" class=\"dataframe\">\n",
       "  <thead>\n",
       "    <tr style=\"text-align: right;\">\n",
       "      <th></th>\n",
       "      <th>product_id</th>\n",
       "      <th>product_name</th>\n",
       "      <th>pu</th>\n",
       "    </tr>\n",
       "  </thead>\n",
       "  <tbody>\n",
       "    <tr>\n",
       "      <th>0</th>\n",
       "      <td>itemdesc.13000580</td>\n",
       "      <td>ARCHIVIST'S CHEST BUNDLE (x1)</td>\n",
       "      <td>89530</td>\n",
       "    </tr>\n",
       "    <tr>\n",
       "      <th>1</th>\n",
       "      <td>currencydesc.chestkey</td>\n",
       "      <td>KEY</td>\n",
       "      <td>82088</td>\n",
       "    </tr>\n",
       "    <tr>\n",
       "      <th>2</th>\n",
       "      <td>itemdesc.14300001</td>\n",
       "      <td>HUNTER'S CHEST</td>\n",
       "      <td>57543</td>\n",
       "    </tr>\n",
       "    <tr>\n",
       "      <th>3</th>\n",
       "      <td>itemdesc.13000577</td>\n",
       "      <td>HUNTER'S CHEST PACK (x1)</td>\n",
       "      <td>32247</td>\n",
       "    </tr>\n",
       "    <tr>\n",
       "      <th>4</th>\n",
       "      <td>itemdesc.13000581</td>\n",
       "      <td>ARCHIVIST'S CHEST BUNDLE (x5)</td>\n",
       "      <td>28980</td>\n",
       "    </tr>\n",
       "    <tr>\n",
       "      <th>5</th>\n",
       "      <td>itemdesc.14300002</td>\n",
       "      <td>ARCHIVIST'S CHEST</td>\n",
       "      <td>27510</td>\n",
       "    </tr>\n",
       "    <tr>\n",
       "      <th>6</th>\n",
       "      <td>itemdesc.13000582</td>\n",
       "      <td>ARCHIVIST'S CHEST BUNDLE (x10)</td>\n",
       "      <td>5130</td>\n",
       "    </tr>\n",
       "    <tr>\n",
       "      <th>7</th>\n",
       "      <td>itemdesc.13000578</td>\n",
       "      <td>HUNTER'S CHEST PACK (x5)</td>\n",
       "      <td>2719</td>\n",
       "    </tr>\n",
       "  </tbody>\n",
       "</table>\n",
       "</div>"
      ],
      "text/plain": [
       "              product_id                    product_name     pu\n",
       "0      itemdesc.13000580   ARCHIVIST'S CHEST BUNDLE (x1)  89530\n",
       "1  currencydesc.chestkey                             KEY  82088\n",
       "2      itemdesc.14300001                  HUNTER'S CHEST  57543\n",
       "3      itemdesc.13000577        HUNTER'S CHEST PACK (x1)  32247\n",
       "4      itemdesc.13000581   ARCHIVIST'S CHEST BUNDLE (x5)  28980\n",
       "5      itemdesc.14300002               ARCHIVIST'S CHEST  27510\n",
       "6      itemdesc.13000582  ARCHIVIST'S CHEST BUNDLE (x10)   5130\n",
       "7      itemdesc.13000578        HUNTER'S CHEST PACK (x5)   2719"
      ]
     },
     "execution_count": 71,
     "metadata": {},
     "output_type": "execute_result"
    }
   ],
   "source": [
    "workshop_gcoin.join(one_item_buyer, \"account_id\").groupBy(\"product_id\", \"product_name\").agg(countDistinct(\"account_id\").alias(\"pu\")).orderBy(\"pu\", ascending=False).toPandas()"
   ]
  },
  {
   "cell_type": "markdown",
   "metadata": {},
   "source": [
    "### WC유저들의 workshop chest *1 찍먹 유저"
   ]
  },
  {
   "cell_type": "code",
   "execution_count": 72,
   "metadata": {},
   "outputs": [],
   "source": [
    "wc_user = post_df.where((col(\"costume_type\") == \"workshop\") & (col(\"post_group\") == \"b\")).select(\"account_id\").distinct()"
   ]
  },
  {
   "cell_type": "code",
   "execution_count": 73,
   "metadata": {},
   "outputs": [],
   "source": [
    "wc_one_item_buyer = workshop_gcoin.join(wc_user, \"account_id\").groupBy(\"account_id\").agg(sum(\"qty\").alias(\"qty\")).where(col(\"qty\") == 1)"
   ]
  },
  {
   "cell_type": "code",
   "execution_count": 74,
   "metadata": {},
   "outputs": [
    {
     "data": {
      "text/html": [
       "<div>\n",
       "<style scoped>\n",
       "    .dataframe tbody tr th:only-of-type {\n",
       "        vertical-align: middle;\n",
       "    }\n",
       "\n",
       "    .dataframe tbody tr th {\n",
       "        vertical-align: top;\n",
       "    }\n",
       "\n",
       "    .dataframe thead th {\n",
       "        text-align: right;\n",
       "    }\n",
       "</style>\n",
       "<table border=\"1\" class=\"dataframe\">\n",
       "  <thead>\n",
       "    <tr style=\"text-align: right;\">\n",
       "      <th></th>\n",
       "      <th>product_id</th>\n",
       "      <th>product_name</th>\n",
       "      <th>pu</th>\n",
       "    </tr>\n",
       "  </thead>\n",
       "  <tbody>\n",
       "    <tr>\n",
       "      <th>0</th>\n",
       "      <td>currencydesc.chestkey</td>\n",
       "      <td>KEY</td>\n",
       "      <td>28008</td>\n",
       "    </tr>\n",
       "    <tr>\n",
       "      <th>1</th>\n",
       "      <td>itemdesc.13000580</td>\n",
       "      <td>ARCHIVIST'S CHEST BUNDLE (x1)</td>\n",
       "      <td>24031</td>\n",
       "    </tr>\n",
       "    <tr>\n",
       "      <th>2</th>\n",
       "      <td>itemdesc.14300001</td>\n",
       "      <td>HUNTER'S CHEST</td>\n",
       "      <td>12614</td>\n",
       "    </tr>\n",
       "    <tr>\n",
       "      <th>3</th>\n",
       "      <td>itemdesc.13000581</td>\n",
       "      <td>ARCHIVIST'S CHEST BUNDLE (x5)</td>\n",
       "      <td>6538</td>\n",
       "    </tr>\n",
       "    <tr>\n",
       "      <th>4</th>\n",
       "      <td>itemdesc.13000577</td>\n",
       "      <td>HUNTER'S CHEST PACK (x1)</td>\n",
       "      <td>5466</td>\n",
       "    </tr>\n",
       "    <tr>\n",
       "      <th>5</th>\n",
       "      <td>itemdesc.14300002</td>\n",
       "      <td>ARCHIVIST'S CHEST</td>\n",
       "      <td>4784</td>\n",
       "    </tr>\n",
       "    <tr>\n",
       "      <th>6</th>\n",
       "      <td>itemdesc.13000582</td>\n",
       "      <td>ARCHIVIST'S CHEST BUNDLE (x10)</td>\n",
       "      <td>3544</td>\n",
       "    </tr>\n",
       "    <tr>\n",
       "      <th>7</th>\n",
       "      <td>itemdesc.13000578</td>\n",
       "      <td>HUNTER'S CHEST PACK (x5)</td>\n",
       "      <td>885</td>\n",
       "    </tr>\n",
       "  </tbody>\n",
       "</table>\n",
       "</div>"
      ],
      "text/plain": [
       "              product_id                    product_name     pu\n",
       "0  currencydesc.chestkey                             KEY  28008\n",
       "1      itemdesc.13000580   ARCHIVIST'S CHEST BUNDLE (x1)  24031\n",
       "2      itemdesc.14300001                  HUNTER'S CHEST  12614\n",
       "3      itemdesc.13000581   ARCHIVIST'S CHEST BUNDLE (x5)   6538\n",
       "4      itemdesc.13000577        HUNTER'S CHEST PACK (x1)   5466\n",
       "5      itemdesc.14300002               ARCHIVIST'S CHEST   4784\n",
       "6      itemdesc.13000582  ARCHIVIST'S CHEST BUNDLE (x10)   3544\n",
       "7      itemdesc.13000578        HUNTER'S CHEST PACK (x5)    885"
      ]
     },
     "execution_count": 74,
     "metadata": {},
     "output_type": "execute_result"
    },
    {
     "name": "stderr",
     "output_type": "stream",
     "text": [
      "----------------------------------------\n",
      "Exception happened during processing of request from ('127.0.0.1', 48990)\n",
      "Traceback (most recent call last):\n",
      "  File \"/opt/conda/lib/python3.6/socketserver.py\", line 317, in _handle_request_noblock\n",
      "    self.process_request(request, client_address)\n",
      "  File \"/opt/conda/lib/python3.6/socketserver.py\", line 348, in process_request\n",
      "    self.finish_request(request, client_address)\n",
      "  File \"/opt/conda/lib/python3.6/socketserver.py\", line 361, in finish_request\n",
      "    self.RequestHandlerClass(request, client_address, self)\n",
      "  File \"/opt/conda/lib/python3.6/socketserver.py\", line 721, in __init__\n",
      "    self.handle()\n",
      "  File \"/usr/local/spark/python/pyspark/accumulators.py\", line 269, in handle\n",
      "    poll(accum_updates)\n",
      "  File \"/usr/local/spark/python/pyspark/accumulators.py\", line 241, in poll\n",
      "    if func():\n",
      "  File \"/usr/local/spark/python/pyspark/accumulators.py\", line 245, in accum_updates\n",
      "    num_updates = read_int(self.rfile)\n",
      "  File \"/usr/local/spark/python/pyspark/serializers.py\", line 717, in read_int\n",
      "    raise EOFError\n",
      "EOFError\n",
      "----------------------------------------\n"
     ]
    }
   ],
   "source": [
    "workshop_gcoin.join(wc_one_item_buyer, \"account_id\").groupBy(\"product_id\", \"product_name\").agg(countDistinct(\"account_id\").alias(\"pu\")).orderBy(\"pu\", ascending=False).toPandas()"
   ]
  },
  {
   "cell_type": "markdown",
   "metadata": {},
   "source": [
    "## 이전 유저 세분화 day28 분석과 비교"
   ]
  },
  {
   "cell_type": "code",
   "execution_count": 19,
   "metadata": {},
   "outputs": [],
   "source": [
    "before = mysql.read_table(spark, \"labs\", \"workshop_user_seg_df_day28\")\n",
    "before = before.where(~col(\"post_seg\").isNull()) \\\n",
    "    .withColumnRenamed(\"account_id\", \"before_account_id\").withColumnRenamed(\"seg_group2\", \"before_post_group\").withColumnRenamed(\"group2\", \"before_post_seg\") \\\n",
    "    .select(\"before_account_id\", \"before_post_group\", \"before_post_seg\").distinct()"
   ]
  },
  {
   "cell_type": "code",
   "execution_count": 20,
   "metadata": {},
   "outputs": [],
   "source": [
    "after = mysql.read_table(spark, \"labs\", \"workshop_user_segmentation\")\n",
    "after = after.where(~col(\"post_group\").isNull()) \\\n",
    "    .select(\"account_id\", \"post_group\", \"post_seg\").distinct()"
   ]
  },
  {
   "cell_type": "code",
   "execution_count": 21,
   "metadata": {},
   "outputs": [],
   "source": [
    "compare_df = before.join(after, before.before_account_id == after.account_id, \"full_outer\")"
   ]
  },
  {
   "cell_type": "code",
   "execution_count": 23,
   "metadata": {},
   "outputs": [],
   "source": [
    "mysql.insert_table(compare_df, \"labs\", \"workshop_compare_df\")"
   ]
  },
  {
   "cell_type": "code",
   "execution_count": 22,
   "metadata": {},
   "outputs": [
    {
     "data": {
      "text/html": [
       "<div>\n",
       "<style scoped>\n",
       "    .dataframe tbody tr th:only-of-type {\n",
       "        vertical-align: middle;\n",
       "    }\n",
       "\n",
       "    .dataframe tbody tr th {\n",
       "        vertical-align: top;\n",
       "    }\n",
       "\n",
       "    .dataframe thead th {\n",
       "        text-align: right;\n",
       "    }\n",
       "</style>\n",
       "<table border=\"1\" class=\"dataframe\">\n",
       "  <thead>\n",
       "    <tr style=\"text-align: right;\">\n",
       "      <th></th>\n",
       "      <th>before_post_group</th>\n",
       "      <th>before_post_seg</th>\n",
       "      <th>post_group</th>\n",
       "      <th>post_seg</th>\n",
       "      <th>user_cnt</th>\n",
       "    </tr>\n",
       "  </thead>\n",
       "  <tbody>\n",
       "    <tr>\n",
       "      <th>0</th>\n",
       "      <td>None</td>\n",
       "      <td>None</td>\n",
       "      <td>Costume</td>\n",
       "      <td>B</td>\n",
       "      <td>39608</td>\n",
       "    </tr>\n",
       "    <tr>\n",
       "      <th>1</th>\n",
       "      <td>None</td>\n",
       "      <td>None</td>\n",
       "      <td>Costume</td>\n",
       "      <td>C</td>\n",
       "      <td>1921</td>\n",
       "    </tr>\n",
       "    <tr>\n",
       "      <th>2</th>\n",
       "      <td>a</td>\n",
       "      <td>B</td>\n",
       "      <td>WC</td>\n",
       "      <td>A</td>\n",
       "      <td>8423</td>\n",
       "    </tr>\n",
       "    <tr>\n",
       "      <th>3</th>\n",
       "      <td>None</td>\n",
       "      <td>None</td>\n",
       "      <td>Costume</td>\n",
       "      <td>D</td>\n",
       "      <td>817</td>\n",
       "    </tr>\n",
       "    <tr>\n",
       "      <th>4</th>\n",
       "      <td>b</td>\n",
       "      <td>A</td>\n",
       "      <td>WC</td>\n",
       "      <td>C</td>\n",
       "      <td>1106</td>\n",
       "    </tr>\n",
       "    <tr>\n",
       "      <th>5</th>\n",
       "      <td>a</td>\n",
       "      <td>A</td>\n",
       "      <td>W</td>\n",
       "      <td>C</td>\n",
       "      <td>71</td>\n",
       "    </tr>\n",
       "    <tr>\n",
       "      <th>6</th>\n",
       "      <td>a</td>\n",
       "      <td>B</td>\n",
       "      <td>W</td>\n",
       "      <td>B</td>\n",
       "      <td>109</td>\n",
       "    </tr>\n",
       "    <tr>\n",
       "      <th>7</th>\n",
       "      <td>a</td>\n",
       "      <td>D</td>\n",
       "      <td>WC</td>\n",
       "      <td>E</td>\n",
       "      <td>176</td>\n",
       "    </tr>\n",
       "    <tr>\n",
       "      <th>8</th>\n",
       "      <td>None</td>\n",
       "      <td>None</td>\n",
       "      <td>W</td>\n",
       "      <td>B</td>\n",
       "      <td>4840</td>\n",
       "    </tr>\n",
       "    <tr>\n",
       "      <th>9</th>\n",
       "      <td>c</td>\n",
       "      <td>A</td>\n",
       "      <td>WC</td>\n",
       "      <td>B</td>\n",
       "      <td>3192</td>\n",
       "    </tr>\n",
       "    <tr>\n",
       "      <th>10</th>\n",
       "      <td>a</td>\n",
       "      <td>C</td>\n",
       "      <td>Costume</td>\n",
       "      <td>C</td>\n",
       "      <td>4733</td>\n",
       "    </tr>\n",
       "    <tr>\n",
       "      <th>11</th>\n",
       "      <td>c</td>\n",
       "      <td>A</td>\n",
       "      <td>WC</td>\n",
       "      <td>D</td>\n",
       "      <td>454</td>\n",
       "    </tr>\n",
       "    <tr>\n",
       "      <th>12</th>\n",
       "      <td>c</td>\n",
       "      <td>C</td>\n",
       "      <td>W</td>\n",
       "      <td>B</td>\n",
       "      <td>1042</td>\n",
       "    </tr>\n",
       "    <tr>\n",
       "      <th>13</th>\n",
       "      <td>b</td>\n",
       "      <td>B</td>\n",
       "      <td>W</td>\n",
       "      <td>B</td>\n",
       "      <td>181</td>\n",
       "    </tr>\n",
       "    <tr>\n",
       "      <th>14</th>\n",
       "      <td>None</td>\n",
       "      <td>None</td>\n",
       "      <td>W</td>\n",
       "      <td>E</td>\n",
       "      <td>5</td>\n",
       "    </tr>\n",
       "    <tr>\n",
       "      <th>15</th>\n",
       "      <td>c</td>\n",
       "      <td>C</td>\n",
       "      <td>WC</td>\n",
       "      <td>D</td>\n",
       "      <td>506</td>\n",
       "    </tr>\n",
       "    <tr>\n",
       "      <th>16</th>\n",
       "      <td>c</td>\n",
       "      <td>B</td>\n",
       "      <td>W</td>\n",
       "      <td>D</td>\n",
       "      <td>34</td>\n",
       "    </tr>\n",
       "    <tr>\n",
       "      <th>17</th>\n",
       "      <td>a</td>\n",
       "      <td>B</td>\n",
       "      <td>Costume</td>\n",
       "      <td>A</td>\n",
       "      <td>136513</td>\n",
       "    </tr>\n",
       "    <tr>\n",
       "      <th>18</th>\n",
       "      <td>c</td>\n",
       "      <td>B</td>\n",
       "      <td>W</td>\n",
       "      <td>A</td>\n",
       "      <td>4982</td>\n",
       "    </tr>\n",
       "    <tr>\n",
       "      <th>19</th>\n",
       "      <td>a</td>\n",
       "      <td>E</td>\n",
       "      <td>WC</td>\n",
       "      <td>A</td>\n",
       "      <td>439</td>\n",
       "    </tr>\n",
       "    <tr>\n",
       "      <th>20</th>\n",
       "      <td>None</td>\n",
       "      <td>None</td>\n",
       "      <td>W</td>\n",
       "      <td>A</td>\n",
       "      <td>230969</td>\n",
       "    </tr>\n",
       "    <tr>\n",
       "      <th>21</th>\n",
       "      <td>b</td>\n",
       "      <td>C</td>\n",
       "      <td>WC</td>\n",
       "      <td>E</td>\n",
       "      <td>135</td>\n",
       "    </tr>\n",
       "    <tr>\n",
       "      <th>22</th>\n",
       "      <td>a</td>\n",
       "      <td>A</td>\n",
       "      <td>Costume</td>\n",
       "      <td>D</td>\n",
       "      <td>274</td>\n",
       "    </tr>\n",
       "    <tr>\n",
       "      <th>23</th>\n",
       "      <td>a</td>\n",
       "      <td>C</td>\n",
       "      <td>Costume</td>\n",
       "      <td>A</td>\n",
       "      <td>22</td>\n",
       "    </tr>\n",
       "    <tr>\n",
       "      <th>24</th>\n",
       "      <td>a</td>\n",
       "      <td>A</td>\n",
       "      <td>W</td>\n",
       "      <td>A</td>\n",
       "      <td>5695</td>\n",
       "    </tr>\n",
       "    <tr>\n",
       "      <th>25</th>\n",
       "      <td>None</td>\n",
       "      <td>None</td>\n",
       "      <td>WC</td>\n",
       "      <td>B</td>\n",
       "      <td>15448</td>\n",
       "    </tr>\n",
       "    <tr>\n",
       "      <th>26</th>\n",
       "      <td>None</td>\n",
       "      <td>None</td>\n",
       "      <td>Costume</td>\n",
       "      <td>E</td>\n",
       "      <td>105</td>\n",
       "    </tr>\n",
       "    <tr>\n",
       "      <th>27</th>\n",
       "      <td>a</td>\n",
       "      <td>D</td>\n",
       "      <td>Costume</td>\n",
       "      <td>C</td>\n",
       "      <td>9265</td>\n",
       "    </tr>\n",
       "    <tr>\n",
       "      <th>28</th>\n",
       "      <td>b</td>\n",
       "      <td>A</td>\n",
       "      <td>WC</td>\n",
       "      <td>D</td>\n",
       "      <td>1400</td>\n",
       "    </tr>\n",
       "    <tr>\n",
       "      <th>29</th>\n",
       "      <td>c</td>\n",
       "      <td>C</td>\n",
       "      <td>W</td>\n",
       "      <td>C</td>\n",
       "      <td>162</td>\n",
       "    </tr>\n",
       "    <tr>\n",
       "      <th>...</th>\n",
       "      <td>...</td>\n",
       "      <td>...</td>\n",
       "      <td>...</td>\n",
       "      <td>...</td>\n",
       "      <td>...</td>\n",
       "    </tr>\n",
       "    <tr>\n",
       "      <th>107</th>\n",
       "      <td>b</td>\n",
       "      <td>C</td>\n",
       "      <td>WC</td>\n",
       "      <td>B</td>\n",
       "      <td>7761</td>\n",
       "    </tr>\n",
       "    <tr>\n",
       "      <th>108</th>\n",
       "      <td>a</td>\n",
       "      <td>B</td>\n",
       "      <td>WC</td>\n",
       "      <td>B</td>\n",
       "      <td>5541</td>\n",
       "    </tr>\n",
       "    <tr>\n",
       "      <th>109</th>\n",
       "      <td>c</td>\n",
       "      <td>A</td>\n",
       "      <td>W</td>\n",
       "      <td>A</td>\n",
       "      <td>223915</td>\n",
       "    </tr>\n",
       "    <tr>\n",
       "      <th>110</th>\n",
       "      <td>a</td>\n",
       "      <td>E</td>\n",
       "      <td>WC</td>\n",
       "      <td>D</td>\n",
       "      <td>1556</td>\n",
       "    </tr>\n",
       "    <tr>\n",
       "      <th>111</th>\n",
       "      <td>a</td>\n",
       "      <td>C</td>\n",
       "      <td>WC</td>\n",
       "      <td>B</td>\n",
       "      <td>1898</td>\n",
       "    </tr>\n",
       "    <tr>\n",
       "      <th>112</th>\n",
       "      <td>b</td>\n",
       "      <td>D</td>\n",
       "      <td>WC</td>\n",
       "      <td>E</td>\n",
       "      <td>872</td>\n",
       "    </tr>\n",
       "    <tr>\n",
       "      <th>113</th>\n",
       "      <td>a</td>\n",
       "      <td>D</td>\n",
       "      <td>WC</td>\n",
       "      <td>A</td>\n",
       "      <td>1253</td>\n",
       "    </tr>\n",
       "    <tr>\n",
       "      <th>114</th>\n",
       "      <td>c</td>\n",
       "      <td>B</td>\n",
       "      <td>WC</td>\n",
       "      <td>C</td>\n",
       "      <td>646</td>\n",
       "    </tr>\n",
       "    <tr>\n",
       "      <th>115</th>\n",
       "      <td>c</td>\n",
       "      <td>A</td>\n",
       "      <td>W</td>\n",
       "      <td>C</td>\n",
       "      <td>85</td>\n",
       "    </tr>\n",
       "    <tr>\n",
       "      <th>116</th>\n",
       "      <td>c</td>\n",
       "      <td>B</td>\n",
       "      <td>W</td>\n",
       "      <td>B</td>\n",
       "      <td>3462</td>\n",
       "    </tr>\n",
       "    <tr>\n",
       "      <th>117</th>\n",
       "      <td>b</td>\n",
       "      <td>E</td>\n",
       "      <td>WC</td>\n",
       "      <td>E</td>\n",
       "      <td>1402</td>\n",
       "    </tr>\n",
       "    <tr>\n",
       "      <th>118</th>\n",
       "      <td>a</td>\n",
       "      <td>C</td>\n",
       "      <td>WC</td>\n",
       "      <td>A</td>\n",
       "      <td>1252</td>\n",
       "    </tr>\n",
       "    <tr>\n",
       "      <th>119</th>\n",
       "      <td>a</td>\n",
       "      <td>B</td>\n",
       "      <td>WC</td>\n",
       "      <td>E</td>\n",
       "      <td>180</td>\n",
       "    </tr>\n",
       "    <tr>\n",
       "      <th>120</th>\n",
       "      <td>b</td>\n",
       "      <td>C</td>\n",
       "      <td>W</td>\n",
       "      <td>A</td>\n",
       "      <td>294</td>\n",
       "    </tr>\n",
       "    <tr>\n",
       "      <th>121</th>\n",
       "      <td>b</td>\n",
       "      <td>D</td>\n",
       "      <td>WC</td>\n",
       "      <td>C</td>\n",
       "      <td>5589</td>\n",
       "    </tr>\n",
       "    <tr>\n",
       "      <th>122</th>\n",
       "      <td>b</td>\n",
       "      <td>E</td>\n",
       "      <td>W</td>\n",
       "      <td>D</td>\n",
       "      <td>56</td>\n",
       "    </tr>\n",
       "    <tr>\n",
       "      <th>123</th>\n",
       "      <td>c</td>\n",
       "      <td>C</td>\n",
       "      <td>WC</td>\n",
       "      <td>C</td>\n",
       "      <td>77</td>\n",
       "    </tr>\n",
       "    <tr>\n",
       "      <th>124</th>\n",
       "      <td>b</td>\n",
       "      <td>B</td>\n",
       "      <td>WC</td>\n",
       "      <td>E</td>\n",
       "      <td>147</td>\n",
       "    </tr>\n",
       "    <tr>\n",
       "      <th>125</th>\n",
       "      <td>a</td>\n",
       "      <td>B</td>\n",
       "      <td>W</td>\n",
       "      <td>A</td>\n",
       "      <td>1155</td>\n",
       "    </tr>\n",
       "    <tr>\n",
       "      <th>126</th>\n",
       "      <td>b</td>\n",
       "      <td>C</td>\n",
       "      <td>W</td>\n",
       "      <td>B</td>\n",
       "      <td>409</td>\n",
       "    </tr>\n",
       "    <tr>\n",
       "      <th>127</th>\n",
       "      <td>a</td>\n",
       "      <td>D</td>\n",
       "      <td>WC</td>\n",
       "      <td>D</td>\n",
       "      <td>1652</td>\n",
       "    </tr>\n",
       "    <tr>\n",
       "      <th>128</th>\n",
       "      <td>b</td>\n",
       "      <td>D</td>\n",
       "      <td>W</td>\n",
       "      <td>D</td>\n",
       "      <td>54</td>\n",
       "    </tr>\n",
       "    <tr>\n",
       "      <th>129</th>\n",
       "      <td>b</td>\n",
       "      <td>B</td>\n",
       "      <td>W</td>\n",
       "      <td>D</td>\n",
       "      <td>9</td>\n",
       "    </tr>\n",
       "    <tr>\n",
       "      <th>130</th>\n",
       "      <td>None</td>\n",
       "      <td>None</td>\n",
       "      <td>WC</td>\n",
       "      <td>A</td>\n",
       "      <td>54821</td>\n",
       "    </tr>\n",
       "    <tr>\n",
       "      <th>131</th>\n",
       "      <td>c</td>\n",
       "      <td>C</td>\n",
       "      <td>WC</td>\n",
       "      <td>E</td>\n",
       "      <td>9</td>\n",
       "    </tr>\n",
       "    <tr>\n",
       "      <th>132</th>\n",
       "      <td>b</td>\n",
       "      <td>B</td>\n",
       "      <td>WC</td>\n",
       "      <td>D</td>\n",
       "      <td>2369</td>\n",
       "    </tr>\n",
       "    <tr>\n",
       "      <th>133</th>\n",
       "      <td>c</td>\n",
       "      <td>D</td>\n",
       "      <td>W</td>\n",
       "      <td>D</td>\n",
       "      <td>278</td>\n",
       "    </tr>\n",
       "    <tr>\n",
       "      <th>134</th>\n",
       "      <td>b</td>\n",
       "      <td>A</td>\n",
       "      <td>W</td>\n",
       "      <td>C</td>\n",
       "      <td>17</td>\n",
       "    </tr>\n",
       "    <tr>\n",
       "      <th>135</th>\n",
       "      <td>b</td>\n",
       "      <td>A</td>\n",
       "      <td>WC</td>\n",
       "      <td>A</td>\n",
       "      <td>75061</td>\n",
       "    </tr>\n",
       "    <tr>\n",
       "      <th>136</th>\n",
       "      <td>b</td>\n",
       "      <td>B</td>\n",
       "      <td>WC</td>\n",
       "      <td>B</td>\n",
       "      <td>20401</td>\n",
       "    </tr>\n",
       "  </tbody>\n",
       "</table>\n",
       "<p>137 rows × 5 columns</p>\n",
       "</div>"
      ],
      "text/plain": [
       "    before_post_group before_post_seg post_group post_seg  user_cnt\n",
       "0                None            None    Costume        B     39608\n",
       "1                None            None    Costume        C      1921\n",
       "2                   a               B         WC        A      8423\n",
       "3                None            None    Costume        D       817\n",
       "4                   b               A         WC        C      1106\n",
       "5                   a               A          W        C        71\n",
       "6                   a               B          W        B       109\n",
       "7                   a               D         WC        E       176\n",
       "8                None            None          W        B      4840\n",
       "9                   c               A         WC        B      3192\n",
       "10                  a               C    Costume        C      4733\n",
       "11                  c               A         WC        D       454\n",
       "12                  c               C          W        B      1042\n",
       "13                  b               B          W        B       181\n",
       "14               None            None          W        E         5\n",
       "15                  c               C         WC        D       506\n",
       "16                  c               B          W        D        34\n",
       "17                  a               B    Costume        A    136513\n",
       "18                  c               B          W        A      4982\n",
       "19                  a               E         WC        A       439\n",
       "20               None            None          W        A    230969\n",
       "21                  b               C         WC        E       135\n",
       "22                  a               A    Costume        D       274\n",
       "23                  a               C    Costume        A        22\n",
       "24                  a               A          W        A      5695\n",
       "25               None            None         WC        B     15448\n",
       "26               None            None    Costume        E       105\n",
       "27                  a               D    Costume        C      9265\n",
       "28                  b               A         WC        D      1400\n",
       "29                  c               C          W        C       162\n",
       "..                ...             ...        ...      ...       ...\n",
       "107                 b               C         WC        B      7761\n",
       "108                 a               B         WC        B      5541\n",
       "109                 c               A          W        A    223915\n",
       "110                 a               E         WC        D      1556\n",
       "111                 a               C         WC        B      1898\n",
       "112                 b               D         WC        E       872\n",
       "113                 a               D         WC        A      1253\n",
       "114                 c               B         WC        C       646\n",
       "115                 c               A          W        C        85\n",
       "116                 c               B          W        B      3462\n",
       "117                 b               E         WC        E      1402\n",
       "118                 a               C         WC        A      1252\n",
       "119                 a               B         WC        E       180\n",
       "120                 b               C          W        A       294\n",
       "121                 b               D         WC        C      5589\n",
       "122                 b               E          W        D        56\n",
       "123                 c               C         WC        C        77\n",
       "124                 b               B         WC        E       147\n",
       "125                 a               B          W        A      1155\n",
       "126                 b               C          W        B       409\n",
       "127                 a               D         WC        D      1652\n",
       "128                 b               D          W        D        54\n",
       "129                 b               B          W        D         9\n",
       "130              None            None         WC        A     54821\n",
       "131                 c               C         WC        E         9\n",
       "132                 b               B         WC        D      2369\n",
       "133                 c               D          W        D       278\n",
       "134                 b               A          W        C        17\n",
       "135                 b               A         WC        A     75061\n",
       "136                 b               B         WC        B     20401\n",
       "\n",
       "[137 rows x 5 columns]"
      ]
     },
     "execution_count": 22,
     "metadata": {},
     "output_type": "execute_result"
    }
   ],
   "source": [
    "compare_df.groupBy(\"before_post_group\", \"before_post_seg\", \"post_group\", \"post_seg\").agg(countDistinct(\"account_id\").alias(\"user_cnt\")).toPandas()"
   ]
  },
  {
   "cell_type": "markdown",
   "metadata": {},
   "source": [
    "SELECT pre_post_group, pre_post_seg, post_group, post_seg, count(distinct account_id)\n",
    "FROM (\n",
    "SELECT *\n",
    "FROM (SELECT account_id as pre_account_id, seg_group2 as pre_post_group, group2 as pre_post_seg\n",
    "\tFROM labs.workshop_user_seg_df_day28\n",
    "\tWHERE post_seg is not null\n",
    "\tGROUP BY 1, 2, 3) a\n",
    "FULL OUTER JOIN (SELECT account_id, post_group, post_seg\n",
    "\tFROM labs.workshop_user_segmentation\n",
    "\tWHERE post_group is not null\n",
    "\tGROUP BY 1, 2, 3) b ON a.pre_account_id = b.account_id\n",
    ") tmp"
   ]
  },
  {
   "cell_type": "markdown",
   "metadata": {},
   "source": [
    "### 잘팔린 다른상품과 2패치 기간 pur 비교"
   ]
  },
  {
   "cell_type": "code",
   "execution_count": 83,
   "metadata": {},
   "outputs": [
    {
     "name": "stdout",
     "output_type": "stream",
     "text": [
      "+-------+\n",
      "|pu     |\n",
      "+-------+\n",
      "|3006594|\n",
      "+-------+\n",
      "\n"
     ]
    }
   ],
   "source": [
    "wsus01 = load_data_mart(\"pc\", \"2022-01-11\", \"2022-03-15\", \"gcoin_use\").where(col(\"event_name\") == \"202201_wsus\")\n",
    "wsus01.select(countDistinct(\"account_id\").alias('pu')).show(truncate=False)"
   ]
  },
  {
   "cell_type": "code",
   "execution_count": 90,
   "metadata": {},
   "outputs": [
    {
     "name": "stdout",
     "output_type": "stream",
     "text": [
      "+----------+----------+\n",
      "|paid_use  |total_use |\n",
      "+----------+----------+\n",
      "|1072812415|4288861600|\n",
      "+----------+----------+\n",
      "\n"
     ]
    }
   ],
   "source": [
    "wsus01.select(sum('paid_use').alias(\"paid_use\"), sum(col(\"paid_use\") + col(\"free_use\")).alias(\"total_use\")).show(truncate=False)"
   ]
  },
  {
   "cell_type": "code",
   "execution_count": 84,
   "metadata": {},
   "outputs": [
    {
     "name": "stdout",
     "output_type": "stream",
     "text": [
      "+--------+\n",
      "|ai      |\n",
      "+--------+\n",
      "|23803102|\n",
      "+--------+\n",
      "\n"
     ]
    }
   ],
   "source": [
    "wsus01_au = load_data_mart('pc', \"2022-03-15\", \"2022-03-15\", \"user_master\").where(col(\"lastlogindate\") >= \"2022-01-11\")\n",
    "wsus01_au.select(countDistinct(\"accountid\").alias(\"au\")).show(truncate=False)"
   ]
  },
  {
   "cell_type": "code",
   "execution_count": 85,
   "metadata": {},
   "outputs": [
    {
     "name": "stdout",
     "output_type": "stream",
     "text": [
      "+-------+\n",
      "|pu     |\n",
      "+-------+\n",
      "|1115926|\n",
      "+-------+\n",
      "\n"
     ]
    }
   ],
   "source": [
    "wsus02 = load_data_mart(\"pc\", \"2022-02-16\", \"2022-04-12\", \"gcoin_use\").where(col(\"event_name\") == \"202202_wsus_progressive\")\n",
    "wsus02.select(countDistinct(\"account_id\").alias('pu')).show(truncate=False)"
   ]
  },
  {
   "cell_type": "code",
   "execution_count": null,
   "metadata": {},
   "outputs": [],
   "source": []
  },
  {
   "cell_type": "code",
   "execution_count": 92,
   "metadata": {},
   "outputs": [
    {
     "name": "stdout",
     "output_type": "stream",
     "text": [
      "+----------+----------+\n",
      "|paid_use  |total_use |\n",
      "+----------+----------+\n",
      "|1326468091|2161443400|\n",
      "+----------+----------+\n",
      "\n"
     ]
    }
   ],
   "source": [
    "wsus02.select(sum('paid_use').alias(\"paid_use\"), sum(col(\"paid_use\") + col(\"free_use\")).alias(\"total_use\")).show(truncate=False)"
   ]
  },
  {
   "cell_type": "code",
   "execution_count": 40,
   "metadata": {},
   "outputs": [],
   "source": [
    "from datetime import date, timedelta\n",
    "\n",
    "start_date= date(2022, 2, 16)\n",
    "end_date = date(2022, 4, 12)\n",
    "\n",
    "l = pd.date_range(start_date, end_date,freq='d').tolist()\n",
    "date_list = [datetime.strftime(i, \"%Y-%m-%d\") for i in l]"
   ]
  },
  {
   "cell_type": "code",
   "execution_count": 42,
   "metadata": {},
   "outputs": [],
   "source": [
    "cum_pu_list = []\n",
    "for date in date_list:\n",
    "    cum_pu = wsus02.where(col(\"date\") <= date).select(countDistinct(\"account_id\")).collect()[0][0]\n",
    "    cum_pu_list.append(cum_pu)"
   ]
  },
  {
   "cell_type": "code",
   "execution_count": 43,
   "metadata": {},
   "outputs": [],
   "source": [
    "cum_pu_df = {\n",
    "    \"date\": date_list,\n",
    "    \"cum_pu\": cum_pu_list\n",
    "}\n",
    "cum_pu_pd = pd.DataFrame.from_dict(cum_pu_df)\n",
    "cum_pu_pd.to_csv(\"./cum_wsus_pu_pd.csv\")"
   ]
  },
  {
   "cell_type": "code",
   "execution_count": 86,
   "metadata": {},
   "outputs": [
    {
     "name": "stdout",
     "output_type": "stream",
     "text": [
      "+--------+\n",
      "|ai      |\n",
      "+--------+\n",
      "|17112011|\n",
      "+--------+\n",
      "\n"
     ]
    }
   ],
   "source": [
    "wsus02_au = load_data_mart('pc', \"2022-04-12\", \"2022-04-12\", \"user_master\").where(col(\"lastlogindate\") >= \"2022-02-16\")\n",
    "wsus02_au.select(countDistinct(\"accountid\").alias(\"au\")).show(truncate=False)"
   ]
  },
  {
   "cell_type": "code",
   "execution_count": 87,
   "metadata": {
    "collapsed": true,
    "jupyter": {
     "outputs_hidden": true
    }
   },
   "outputs": [
    {
     "name": "stderr",
     "output_type": "stream",
     "text": [
      "ERROR:py4j.java_gateway:An error occurred while trying to connect to the Java server (127.0.0.1:39451)\n",
      "Traceback (most recent call last):\n",
      "  File \"/usr/local/spark/python/lib/py4j-0.10.7-src.zip/py4j/java_gateway.py\", line 929, in _get_connection\n",
      "    connection = self.deque.pop()\n",
      "IndexError: pop from an empty deque\n",
      "\n",
      "During handling of the above exception, another exception occurred:\n",
      "\n",
      "Traceback (most recent call last):\n",
      "  File \"/usr/local/spark/python/lib/py4j-0.10.7-src.zip/py4j/java_gateway.py\", line 1067, in start\n",
      "    self.socket.connect((self.address, self.port))\n",
      "ConnectionRefusedError: [Errno 111] Connection refused\n",
      "ERROR:py4j.java_gateway:An error occurred while trying to connect to the Java server (127.0.0.1:39451)\n",
      "Traceback (most recent call last):\n",
      "  File \"/usr/local/spark/python/lib/py4j-0.10.7-src.zip/py4j/java_gateway.py\", line 929, in _get_connection\n",
      "    connection = self.deque.pop()\n",
      "IndexError: pop from an empty deque\n",
      "\n",
      "During handling of the above exception, another exception occurred:\n",
      "\n",
      "Traceback (most recent call last):\n",
      "  File \"/usr/local/spark/python/lib/py4j-0.10.7-src.zip/py4j/java_gateway.py\", line 1067, in start\n",
      "    self.socket.connect((self.address, self.port))\n",
      "ConnectionRefusedError: [Errno 111] Connection refused\n",
      "ERROR:py4j.java_gateway:An error occurred while trying to connect to the Java server (127.0.0.1:34755)\n",
      "Traceback (most recent call last):\n",
      "  File \"/usr/local/spark/python/lib/py4j-0.10.7-src.zip/py4j/java_gateway.py\", line 929, in _get_connection\n",
      "    connection = self.deque.pop()\n",
      "IndexError: pop from an empty deque\n",
      "\n",
      "During handling of the above exception, another exception occurred:\n",
      "\n",
      "Traceback (most recent call last):\n",
      "  File \"/usr/local/spark/python/lib/py4j-0.10.7-src.zip/py4j/java_gateway.py\", line 1067, in start\n",
      "    self.socket.connect((self.address, self.port))\n",
      "ConnectionRefusedError: [Errno 111] Connection refused\n",
      "ERROR:py4j.java_gateway:An error occurred while trying to connect to the Java server (127.0.0.1:34755)\n",
      "Traceback (most recent call last):\n",
      "  File \"/usr/local/spark/python/lib/py4j-0.10.7-src.zip/py4j/java_gateway.py\", line 929, in _get_connection\n",
      "    connection = self.deque.pop()\n",
      "IndexError: pop from an empty deque\n",
      "\n",
      "During handling of the above exception, another exception occurred:\n",
      "\n",
      "Traceback (most recent call last):\n",
      "  File \"/usr/local/spark/python/lib/py4j-0.10.7-src.zip/py4j/java_gateway.py\", line 1067, in start\n",
      "    self.socket.connect((self.address, self.port))\n",
      "ConnectionRefusedError: [Errno 111] Connection refused\n",
      "ERROR:py4j.java_gateway:An error occurred while trying to connect to the Java server (127.0.0.1:34755)\n",
      "Traceback (most recent call last):\n",
      "  File \"/usr/local/spark/python/lib/py4j-0.10.7-src.zip/py4j/java_gateway.py\", line 929, in _get_connection\n",
      "    connection = self.deque.pop()\n",
      "IndexError: pop from an empty deque\n",
      "\n",
      "During handling of the above exception, another exception occurred:\n",
      "\n",
      "Traceback (most recent call last):\n",
      "  File \"/usr/local/spark/python/lib/py4j-0.10.7-src.zip/py4j/java_gateway.py\", line 1067, in start\n",
      "    self.socket.connect((self.address, self.port))\n",
      "ConnectionRefusedError: [Errno 111] Connection refused\n",
      "ERROR:py4j.java_gateway:An error occurred while trying to connect to the Java server (127.0.0.1:34755)\n",
      "Traceback (most recent call last):\n",
      "  File \"/usr/local/spark/python/lib/py4j-0.10.7-src.zip/py4j/java_gateway.py\", line 929, in _get_connection\n",
      "    connection = self.deque.pop()\n",
      "IndexError: pop from an empty deque\n",
      "\n",
      "During handling of the above exception, another exception occurred:\n",
      "\n",
      "Traceback (most recent call last):\n",
      "  File \"/usr/local/spark/python/lib/py4j-0.10.7-src.zip/py4j/java_gateway.py\", line 1067, in start\n",
      "    self.socket.connect((self.address, self.port))\n",
      "ConnectionRefusedError: [Errno 111] Connection refused\n",
      "ERROR:py4j.java_gateway:An error occurred while trying to connect to the Java server (127.0.0.1:34755)\n",
      "Traceback (most recent call last):\n",
      "  File \"/usr/local/spark/python/lib/py4j-0.10.7-src.zip/py4j/java_gateway.py\", line 929, in _get_connection\n",
      "    connection = self.deque.pop()\n",
      "IndexError: pop from an empty deque\n",
      "\n",
      "During handling of the above exception, another exception occurred:\n",
      "\n",
      "Traceback (most recent call last):\n",
      "  File \"/usr/local/spark/python/lib/py4j-0.10.7-src.zip/py4j/java_gateway.py\", line 1067, in start\n",
      "    self.socket.connect((self.address, self.port))\n",
      "ConnectionRefusedError: [Errno 111] Connection refused\n",
      "ERROR:py4j.java_gateway:An error occurred while trying to connect to the Java server (127.0.0.1:34755)\n",
      "Traceback (most recent call last):\n",
      "  File \"/usr/local/spark/python/lib/py4j-0.10.7-src.zip/py4j/java_gateway.py\", line 929, in _get_connection\n",
      "    connection = self.deque.pop()\n",
      "IndexError: pop from an empty deque\n",
      "\n",
      "During handling of the above exception, another exception occurred:\n",
      "\n",
      "Traceback (most recent call last):\n",
      "  File \"/usr/local/spark/python/lib/py4j-0.10.7-src.zip/py4j/java_gateway.py\", line 1067, in start\n",
      "    self.socket.connect((self.address, self.port))\n",
      "ConnectionRefusedError: [Errno 111] Connection refused\n",
      "ERROR:py4j.java_gateway:An error occurred while trying to connect to the Java server (127.0.0.1:34755)\n",
      "Traceback (most recent call last):\n",
      "  File \"/usr/local/spark/python/lib/py4j-0.10.7-src.zip/py4j/java_gateway.py\", line 929, in _get_connection\n",
      "    connection = self.deque.pop()\n",
      "IndexError: pop from an empty deque\n",
      "\n",
      "During handling of the above exception, another exception occurred:\n",
      "\n",
      "Traceback (most recent call last):\n",
      "  File \"/usr/local/spark/python/lib/py4j-0.10.7-src.zip/py4j/java_gateway.py\", line 1067, in start\n",
      "    self.socket.connect((self.address, self.port))\n",
      "ConnectionRefusedError: [Errno 111] Connection refused\n",
      "ERROR:py4j.java_gateway:An error occurred while trying to connect to the Java server (127.0.0.1:34755)\n",
      "Traceback (most recent call last):\n",
      "  File \"/usr/local/spark/python/lib/py4j-0.10.7-src.zip/py4j/java_gateway.py\", line 929, in _get_connection\n",
      "    connection = self.deque.pop()\n",
      "IndexError: pop from an empty deque\n",
      "\n",
      "During handling of the above exception, another exception occurred:\n",
      "\n",
      "Traceback (most recent call last):\n",
      "  File \"/usr/local/spark/python/lib/py4j-0.10.7-src.zip/py4j/java_gateway.py\", line 1067, in start\n",
      "    self.socket.connect((self.address, self.port))\n",
      "ConnectionRefusedError: [Errno 111] Connection refused\n",
      "ERROR:py4j.java_gateway:An error occurred while trying to connect to the Java server (127.0.0.1:34755)\n",
      "Traceback (most recent call last):\n",
      "  File \"/usr/local/spark/python/lib/py4j-0.10.7-src.zip/py4j/java_gateway.py\", line 929, in _get_connection\n",
      "    connection = self.deque.pop()\n",
      "IndexError: pop from an empty deque\n",
      "\n",
      "During handling of the above exception, another exception occurred:\n",
      "\n",
      "Traceback (most recent call last):\n",
      "  File \"/usr/local/spark/python/lib/py4j-0.10.7-src.zip/py4j/java_gateway.py\", line 1067, in start\n",
      "    self.socket.connect((self.address, self.port))\n",
      "ConnectionRefusedError: [Errno 111] Connection refused\n",
      "ERROR:py4j.java_gateway:An error occurred while trying to connect to the Java server (127.0.0.1:34755)\n",
      "Traceback (most recent call last):\n",
      "  File \"/usr/local/spark/python/lib/py4j-0.10.7-src.zip/py4j/java_gateway.py\", line 929, in _get_connection\n",
      "    connection = self.deque.pop()\n",
      "IndexError: pop from an empty deque\n",
      "\n",
      "During handling of the above exception, another exception occurred:\n",
      "\n",
      "Traceback (most recent call last):\n",
      "  File \"/usr/local/spark/python/lib/py4j-0.10.7-src.zip/py4j/java_gateway.py\", line 1067, in start\n",
      "    self.socket.connect((self.address, self.port))\n",
      "ConnectionRefusedError: [Errno 111] Connection refused\n",
      "ERROR:py4j.java_gateway:An error occurred while trying to connect to the Java server (127.0.0.1:34755)\n",
      "Traceback (most recent call last):\n",
      "  File \"/usr/local/spark/python/lib/py4j-0.10.7-src.zip/py4j/java_gateway.py\", line 929, in _get_connection\n",
      "    connection = self.deque.pop()\n",
      "IndexError: pop from an empty deque\n",
      "\n",
      "During handling of the above exception, another exception occurred:\n",
      "\n",
      "Traceback (most recent call last):\n",
      "  File \"/usr/local/spark/python/lib/py4j-0.10.7-src.zip/py4j/java_gateway.py\", line 1067, in start\n",
      "    self.socket.connect((self.address, self.port))\n",
      "ConnectionRefusedError: [Errno 111] Connection refused\n",
      "ERROR:py4j.java_gateway:An error occurred while trying to connect to the Java server (127.0.0.1:34755)\n",
      "Traceback (most recent call last):\n",
      "  File \"/usr/local/spark/python/lib/py4j-0.10.7-src.zip/py4j/java_gateway.py\", line 929, in _get_connection\n",
      "    connection = self.deque.pop()\n",
      "IndexError: pop from an empty deque\n",
      "\n",
      "During handling of the above exception, another exception occurred:\n",
      "\n",
      "Traceback (most recent call last):\n",
      "  File \"/usr/local/spark/python/lib/py4j-0.10.7-src.zip/py4j/java_gateway.py\", line 1067, in start\n",
      "    self.socket.connect((self.address, self.port))\n",
      "ConnectionRefusedError: [Errno 111] Connection refused\n",
      "ERROR:py4j.java_gateway:An error occurred while trying to connect to the Java server (127.0.0.1:34755)\n",
      "Traceback (most recent call last):\n",
      "  File \"/usr/local/spark/python/lib/py4j-0.10.7-src.zip/py4j/java_gateway.py\", line 929, in _get_connection\n",
      "    connection = self.deque.pop()\n",
      "IndexError: pop from an empty deque\n",
      "\n",
      "During handling of the above exception, another exception occurred:\n",
      "\n",
      "Traceback (most recent call last):\n",
      "  File \"/usr/local/spark/python/lib/py4j-0.10.7-src.zip/py4j/java_gateway.py\", line 1067, in start\n",
      "    self.socket.connect((self.address, self.port))\n",
      "ConnectionRefusedError: [Errno 111] Connection refused\n",
      "ERROR:py4j.java_gateway:An error occurred while trying to connect to the Java server (127.0.0.1:34755)\n",
      "Traceback (most recent call last):\n",
      "  File \"/usr/local/spark/python/lib/py4j-0.10.7-src.zip/py4j/java_gateway.py\", line 929, in _get_connection\n",
      "    connection = self.deque.pop()\n",
      "IndexError: pop from an empty deque\n",
      "\n",
      "During handling of the above exception, another exception occurred:\n",
      "\n",
      "Traceback (most recent call last):\n",
      "  File \"/usr/local/spark/python/lib/py4j-0.10.7-src.zip/py4j/java_gateway.py\", line 1067, in start\n",
      "    self.socket.connect((self.address, self.port))\n",
      "ConnectionRefusedError: [Errno 111] Connection refused\n",
      "ERROR:py4j.java_gateway:An error occurred while trying to connect to the Java server (127.0.0.1:34755)\n",
      "Traceback (most recent call last):\n",
      "  File \"/usr/local/spark/python/lib/py4j-0.10.7-src.zip/py4j/java_gateway.py\", line 929, in _get_connection\n",
      "    connection = self.deque.pop()\n",
      "IndexError: pop from an empty deque\n",
      "\n",
      "During handling of the above exception, another exception occurred:\n",
      "\n",
      "Traceback (most recent call last):\n",
      "  File \"/usr/local/spark/python/lib/py4j-0.10.7-src.zip/py4j/java_gateway.py\", line 1067, in start\n",
      "    self.socket.connect((self.address, self.port))\n",
      "ConnectionRefusedError: [Errno 111] Connection refused\n",
      "ERROR:py4j.java_gateway:An error occurred while trying to connect to the Java server (127.0.0.1:34755)\n",
      "Traceback (most recent call last):\n",
      "  File \"/usr/local/spark/python/lib/py4j-0.10.7-src.zip/py4j/java_gateway.py\", line 929, in _get_connection\n",
      "    connection = self.deque.pop()\n",
      "IndexError: pop from an empty deque\n",
      "\n",
      "During handling of the above exception, another exception occurred:\n",
      "\n",
      "Traceback (most recent call last):\n",
      "  File \"/usr/local/spark/python/lib/py4j-0.10.7-src.zip/py4j/java_gateway.py\", line 1067, in start\n",
      "    self.socket.connect((self.address, self.port))\n",
      "ConnectionRefusedError: [Errno 111] Connection refused\n",
      "ERROR:py4j.java_gateway:An error occurred while trying to connect to the Java server (127.0.0.1:34755)\n",
      "Traceback (most recent call last):\n",
      "  File \"/usr/local/spark/python/lib/py4j-0.10.7-src.zip/py4j/java_gateway.py\", line 929, in _get_connection\n",
      "    connection = self.deque.pop()\n",
      "IndexError: pop from an empty deque\n",
      "\n",
      "During handling of the above exception, another exception occurred:\n",
      "\n",
      "Traceback (most recent call last):\n",
      "  File \"/usr/local/spark/python/lib/py4j-0.10.7-src.zip/py4j/java_gateway.py\", line 1067, in start\n",
      "    self.socket.connect((self.address, self.port))\n",
      "ConnectionRefusedError: [Errno 111] Connection refused\n",
      "ERROR:py4j.java_gateway:An error occurred while trying to connect to the Java server (127.0.0.1:34755)\n",
      "Traceback (most recent call last):\n",
      "  File \"/usr/local/spark/python/lib/py4j-0.10.7-src.zip/py4j/java_gateway.py\", line 929, in _get_connection\n",
      "    connection = self.deque.pop()\n",
      "IndexError: pop from an empty deque\n",
      "\n",
      "During handling of the above exception, another exception occurred:\n",
      "\n",
      "Traceback (most recent call last):\n",
      "  File \"/usr/local/spark/python/lib/py4j-0.10.7-src.zip/py4j/java_gateway.py\", line 1067, in start\n",
      "    self.socket.connect((self.address, self.port))\n",
      "ConnectionRefusedError: [Errno 111] Connection refused\n"
     ]
    },
    {
     "name": "stdout",
     "output_type": "stream",
     "text": [
      "+------+\n",
      "|pu    |\n",
      "+------+\n",
      "|710643|\n",
      "+------+\n",
      "\n"
     ]
    }
   ],
   "source": [
    "wsus06 = load_data_mart(\"pc\", \"2022-06-08\", \"2022-08-09\", \"gcoin_use\").where(col(\"event_name\") == \"202206_wsus_progressive\")\n",
    "wsus06.select(countDistinct(\"account_id\").alias('pu')).show(truncate=False)"
   ]
  },
  {
   "cell_type": "code",
   "execution_count": 93,
   "metadata": {},
   "outputs": [
    {
     "name": "stdout",
     "output_type": "stream",
     "text": [
      "+----------+----------+\n",
      "|paid_use  |total_use |\n",
      "+----------+----------+\n",
      "|1423976225|1942570200|\n",
      "+----------+----------+\n",
      "\n"
     ]
    }
   ],
   "source": [
    "wsus06.select(sum('paid_use').alias(\"paid_use\"), sum(col(\"paid_use\") + col(\"free_use\")).alias(\"total_use\")).show(truncate=False)"
   ]
  },
  {
   "cell_type": "code",
   "execution_count": 88,
   "metadata": {},
   "outputs": [
    {
     "name": "stdout",
     "output_type": "stream",
     "text": [
      "+--------+\n",
      "|au      |\n",
      "+--------+\n",
      "|15390439|\n",
      "+--------+\n",
      "\n"
     ]
    }
   ],
   "source": [
    "wsus06_au = load_data_mart('pc', \"2022-08-09\", \"2022-08-09\", \"user_master\").where(col(\"lastlogindate\") >= \"2022-06-08\")\n",
    "wsus06_au.select(countDistinct(\"accountid\").alias(\"au\")).show(truncate=False)"
   ]
  },
  {
   "cell_type": "code",
   "execution_count": 89,
   "metadata": {},
   "outputs": [
    {
     "name": "stdout",
     "output_type": "stream",
     "text": [
      "+------+\n",
      "|pu    |\n",
      "+------+\n",
      "|345473|\n",
      "+------+\n",
      "\n"
     ]
    }
   ],
   "source": [
    "post_gcoin.where(col(\"event_name\") == \"202207_wsus\").select(countDistinct(\"account_id\").alias(\"pu\")).show(truncate=False)"
   ]
  },
  {
   "cell_type": "code",
   "execution_count": 94,
   "metadata": {},
   "outputs": [
    {
     "name": "stdout",
     "output_type": "stream",
     "text": [
      "+---------+---------+\n",
      "|paid_use |total_use|\n",
      "+---------+---------+\n",
      "|425851880|623266400|\n",
      "+---------+---------+\n",
      "\n"
     ]
    }
   ],
   "source": [
    "post_gcoin.where(col(\"event_name\") == \"202207_wsus\").select(sum('paid_use').alias(\"paid_use\"), sum(col(\"paid_use\") + col(\"free_use\")).alias(\"total_use\")).show(truncate=False)"
   ]
  },
  {
   "cell_type": "code",
   "execution_count": 95,
   "metadata": {},
   "outputs": [
    {
     "name": "stdout",
     "output_type": "stream",
     "text": [
      "+----------+----------+\n",
      "|paid_use  |total_use |\n",
      "+----------+----------+\n",
      "|2697671661|3428762560|\n",
      "+----------+----------+\n",
      "\n"
     ]
    }
   ],
   "source": [
    "post_gcoin.where(col(\"event_name\") == \"202207_workshop\").select(sum('paid_use').alias(\"paid_use\"), sum(col(\"paid_use\") + col(\"free_use\")).alias(\"total_use\")).show(truncate=False)"
   ]
  },
  {
   "cell_type": "code",
   "execution_count": 12,
   "metadata": {},
   "outputs": [],
   "source": [
    "from datetime import date, timedelta\n",
    "\n",
    "start_date= date(2022, 7, 13)\n",
    "end_date = date(2022, 9, 6)\n",
    "\n",
    "l = pd.date_range(start_date, end_date,freq='d').tolist()\n",
    "date_list = [datetime.strftime(i, \"%Y-%m-%d\") for i in l]"
   ]
  },
  {
   "cell_type": "code",
   "execution_count": 19,
   "metadata": {
    "collapsed": true,
    "jupyter": {
     "outputs_hidden": true
    }
   },
   "outputs": [
    {
     "name": "stdout",
     "output_type": "stream",
     "text": [
      "2022-07-13 83321\n",
      "2022-07-14 146317\n",
      "2022-07-15 190777\n",
      "2022-07-16 232117\n",
      "2022-07-17 267676\n",
      "2022-07-18 293632\n",
      "2022-07-19 317870\n",
      "2022-07-20 341720\n",
      "2022-07-21 364153\n",
      "2022-07-22 384922\n",
      "2022-07-23 407068\n",
      "2022-07-24 428207\n",
      "2022-07-25 445269\n",
      "2022-07-26 460930\n",
      "2022-07-27 483618\n",
      "2022-07-28 502247\n",
      "2022-07-29 519027\n",
      "2022-07-30 536474\n",
      "2022-07-31 553533\n",
      "2022-08-01 567983\n",
      "2022-08-02 581062\n",
      "2022-08-03 595099\n",
      "2022-08-04 608290\n",
      "2022-08-05 622158\n",
      "2022-08-06 636991\n",
      "2022-08-07 651894\n",
      "2022-08-08 664454\n",
      "2022-08-09 677314\n",
      "2022-08-10 689554\n",
      "2022-08-11 703276\n",
      "2022-08-12 716773\n",
      "2022-08-13 730786\n",
      "2022-08-14 744638\n",
      "2022-08-15 756614\n",
      "2022-08-16 767665\n",
      "2022-08-17 779397\n",
      "2022-08-18 791030\n",
      "2022-08-19 802360\n",
      "2022-08-20 815205\n",
      "2022-08-21 827965\n",
      "2022-08-22 838342\n",
      "2022-08-23 848414\n",
      "2022-08-24 858499\n",
      "2022-08-25 868172\n",
      "2022-08-26 880867\n",
      "2022-08-27 893554\n",
      "2022-08-28 906108\n",
      "2022-08-29 916870\n",
      "2022-08-30 927246\n",
      "2022-08-31 937277\n",
      "2022-09-01 946859\n",
      "2022-09-02 956584\n",
      "2022-09-03 968207\n",
      "2022-09-04 979129\n",
      "2022-09-05 988551\n",
      "2022-09-06 997514\n"
     ]
    }
   ],
   "source": [
    "cum_pu_list = []\n",
    "workshop_gcoin = post_gcoin.where(col(\"event_name\") == \"202207_workshop\")\n",
    "for date in date_list:\n",
    "    cum_pu = workshop_gcoin.where(col(\"date\") <= date).select(countDistinct(\"account_id\")).collect()[0][0]\n",
    "    print(date, cum_pu)\n",
    "    cum_pu_list.append(cum_pu)"
   ]
  },
  {
   "cell_type": "code",
   "execution_count": 20,
   "metadata": {},
   "outputs": [],
   "source": [
    "cum_pu_df = {\n",
    "    \"date\": date_list,\n",
    "    \"cum_pu\": cum_pu_list\n",
    "}\n",
    "cum_pu_pd = pd.DataFrame.from_dict(cum_pu_df)\n",
    "cum_pu_pd.to_csv(\"./cum_pu_pd.csv\")"
   ]
  },
  {
   "cell_type": "code",
   "execution_count": null,
   "metadata": {},
   "outputs": [],
   "source": []
  },
  {
   "cell_type": "code",
   "execution_count": null,
   "metadata": {},
   "outputs": [],
   "source": []
  },
  {
   "cell_type": "code",
   "execution_count": 25,
   "metadata": {
    "collapsed": true,
    "jupyter": {
     "outputs_hidden": true
    }
   },
   "outputs": [
    {
     "name": "stderr",
     "output_type": "stream",
     "text": [
      "ERROR:root:Exception while sending command.\n",
      "Traceback (most recent call last):\n",
      "  File \"/usr/local/spark/python/lib/py4j-0.10.7-src.zip/py4j/java_gateway.py\", line 1159, in send_command\n",
      "    raise Py4JNetworkError(\"Answer from Java side is empty\")\n",
      "py4j.protocol.Py4JNetworkError: Answer from Java side is empty\n",
      "\n",
      "During handling of the above exception, another exception occurred:\n",
      "\n",
      "Traceback (most recent call last):\n",
      "  File \"/usr/local/spark/python/lib/py4j-0.10.7-src.zip/py4j/java_gateway.py\", line 985, in send_command\n",
      "    response = connection.send_command(command)\n",
      "  File \"/usr/local/spark/python/lib/py4j-0.10.7-src.zip/py4j/java_gateway.py\", line 1164, in send_command\n",
      "    \"Error while receiving\", e, proto.ERROR_ON_RECEIVE)\n",
      "py4j.protocol.Py4JNetworkError: Error while receiving\n"
     ]
    },
    {
     "ename": "Py4JError",
     "evalue": "An error occurred while calling o84.sessionState",
     "output_type": "error",
     "traceback": [
      "\u001b[0;31m---------------------------------------------------------------------------\u001b[0m",
      "\u001b[0;31mPy4JError\u001b[0m                                 Traceback (most recent call last)",
      "\u001b[0;32m<ipython-input-25-1fafea850031>\u001b[0m in \u001b[0;36m<module>\u001b[0;34m\u001b[0m\n\u001b[1;32m      3\u001b[0m mySchema = StructType([ StructField(\"date\", StringType(), True)\\\n\u001b[1;32m      4\u001b[0m                        ,StructField(\"cum_pu\", IntegerType(), True)])\n\u001b[0;32m----> 5\u001b[0;31m \u001b[0mcum_pu_df\u001b[0m \u001b[0;34m=\u001b[0m \u001b[0mspark\u001b[0m\u001b[0;34m.\u001b[0m\u001b[0mcreateDataFrame\u001b[0m\u001b[0;34m(\u001b[0m\u001b[0mcum_pu_pd\u001b[0m\u001b[0;34m,\u001b[0m \u001b[0mschema\u001b[0m \u001b[0;34m=\u001b[0m \u001b[0mmySchema\u001b[0m\u001b[0;34m)\u001b[0m\u001b[0;34m\u001b[0m\u001b[0;34m\u001b[0m\u001b[0m\n\u001b[0m",
      "\u001b[0;32m/usr/local/spark/python/pyspark/sql/session.py\u001b[0m in \u001b[0;36mcreateDataFrame\u001b[0;34m(self, data, schema, samplingRatio, verifySchema)\u001b[0m\n\u001b[1;32m    687\u001b[0m             \u001b[0mrequire_minimum_pandas_version\u001b[0m\u001b[0;34m(\u001b[0m\u001b[0;34m)\u001b[0m\u001b[0;34m\u001b[0m\u001b[0;34m\u001b[0m\u001b[0m\n\u001b[1;32m    688\u001b[0m \u001b[0;34m\u001b[0m\u001b[0m\n\u001b[0;32m--> 689\u001b[0;31m             \u001b[0;32mif\u001b[0m \u001b[0mself\u001b[0m\u001b[0;34m.\u001b[0m\u001b[0m_wrapped\u001b[0m\u001b[0;34m.\u001b[0m\u001b[0m_conf\u001b[0m\u001b[0;34m.\u001b[0m\u001b[0mpandasRespectSessionTimeZone\u001b[0m\u001b[0;34m(\u001b[0m\u001b[0;34m)\u001b[0m\u001b[0;34m:\u001b[0m\u001b[0;34m\u001b[0m\u001b[0;34m\u001b[0m\u001b[0m\n\u001b[0m\u001b[1;32m    690\u001b[0m                 \u001b[0mtimezone\u001b[0m \u001b[0;34m=\u001b[0m \u001b[0mself\u001b[0m\u001b[0;34m.\u001b[0m\u001b[0m_wrapped\u001b[0m\u001b[0;34m.\u001b[0m\u001b[0m_conf\u001b[0m\u001b[0;34m.\u001b[0m\u001b[0msessionLocalTimeZone\u001b[0m\u001b[0;34m(\u001b[0m\u001b[0;34m)\u001b[0m\u001b[0;34m\u001b[0m\u001b[0;34m\u001b[0m\u001b[0m\n\u001b[1;32m    691\u001b[0m             \u001b[0;32melse\u001b[0m\u001b[0;34m:\u001b[0m\u001b[0;34m\u001b[0m\u001b[0;34m\u001b[0m\u001b[0m\n",
      "\u001b[0;32m/usr/local/spark/python/pyspark/sql/context.py\u001b[0m in \u001b[0;36m_conf\u001b[0;34m(self)\u001b[0m\n\u001b[1;32m     97\u001b[0m     \u001b[0;32mdef\u001b[0m \u001b[0m_conf\u001b[0m\u001b[0;34m(\u001b[0m\u001b[0mself\u001b[0m\u001b[0;34m)\u001b[0m\u001b[0;34m:\u001b[0m\u001b[0;34m\u001b[0m\u001b[0;34m\u001b[0m\u001b[0m\n\u001b[1;32m     98\u001b[0m         \u001b[0;34m\"\"\"Accessor for the JVM SQL-specific configurations\"\"\"\u001b[0m\u001b[0;34m\u001b[0m\u001b[0;34m\u001b[0m\u001b[0m\n\u001b[0;32m---> 99\u001b[0;31m         \u001b[0;32mreturn\u001b[0m \u001b[0mself\u001b[0m\u001b[0;34m.\u001b[0m\u001b[0msparkSession\u001b[0m\u001b[0;34m.\u001b[0m\u001b[0m_jsparkSession\u001b[0m\u001b[0;34m.\u001b[0m\u001b[0msessionState\u001b[0m\u001b[0;34m(\u001b[0m\u001b[0;34m)\u001b[0m\u001b[0;34m.\u001b[0m\u001b[0mconf\u001b[0m\u001b[0;34m(\u001b[0m\u001b[0;34m)\u001b[0m\u001b[0;34m\u001b[0m\u001b[0;34m\u001b[0m\u001b[0m\n\u001b[0m\u001b[1;32m    100\u001b[0m \u001b[0;34m\u001b[0m\u001b[0m\n\u001b[1;32m    101\u001b[0m     \u001b[0;34m@\u001b[0m\u001b[0mclassmethod\u001b[0m\u001b[0;34m\u001b[0m\u001b[0;34m\u001b[0m\u001b[0m\n",
      "\u001b[0;32m/usr/local/spark/python/lib/py4j-0.10.7-src.zip/py4j/java_gateway.py\u001b[0m in \u001b[0;36m__call__\u001b[0;34m(self, *args)\u001b[0m\n\u001b[1;32m   1255\u001b[0m         \u001b[0manswer\u001b[0m \u001b[0;34m=\u001b[0m \u001b[0mself\u001b[0m\u001b[0;34m.\u001b[0m\u001b[0mgateway_client\u001b[0m\u001b[0;34m.\u001b[0m\u001b[0msend_command\u001b[0m\u001b[0;34m(\u001b[0m\u001b[0mcommand\u001b[0m\u001b[0;34m)\u001b[0m\u001b[0;34m\u001b[0m\u001b[0;34m\u001b[0m\u001b[0m\n\u001b[1;32m   1256\u001b[0m         return_value = get_return_value(\n\u001b[0;32m-> 1257\u001b[0;31m             answer, self.gateway_client, self.target_id, self.name)\n\u001b[0m\u001b[1;32m   1258\u001b[0m \u001b[0;34m\u001b[0m\u001b[0m\n\u001b[1;32m   1259\u001b[0m         \u001b[0;32mfor\u001b[0m \u001b[0mtemp_arg\u001b[0m \u001b[0;32min\u001b[0m \u001b[0mtemp_args\u001b[0m\u001b[0;34m:\u001b[0m\u001b[0;34m\u001b[0m\u001b[0;34m\u001b[0m\u001b[0m\n",
      "\u001b[0;32m/usr/local/spark/python/pyspark/sql/utils.py\u001b[0m in \u001b[0;36mdeco\u001b[0;34m(*a, **kw)\u001b[0m\n\u001b[1;32m     61\u001b[0m     \u001b[0;32mdef\u001b[0m \u001b[0mdeco\u001b[0m\u001b[0;34m(\u001b[0m\u001b[0;34m*\u001b[0m\u001b[0ma\u001b[0m\u001b[0;34m,\u001b[0m \u001b[0;34m**\u001b[0m\u001b[0mkw\u001b[0m\u001b[0;34m)\u001b[0m\u001b[0;34m:\u001b[0m\u001b[0;34m\u001b[0m\u001b[0;34m\u001b[0m\u001b[0m\n\u001b[1;32m     62\u001b[0m         \u001b[0;32mtry\u001b[0m\u001b[0;34m:\u001b[0m\u001b[0;34m\u001b[0m\u001b[0;34m\u001b[0m\u001b[0m\n\u001b[0;32m---> 63\u001b[0;31m             \u001b[0;32mreturn\u001b[0m \u001b[0mf\u001b[0m\u001b[0;34m(\u001b[0m\u001b[0;34m*\u001b[0m\u001b[0ma\u001b[0m\u001b[0;34m,\u001b[0m \u001b[0;34m**\u001b[0m\u001b[0mkw\u001b[0m\u001b[0;34m)\u001b[0m\u001b[0;34m\u001b[0m\u001b[0;34m\u001b[0m\u001b[0m\n\u001b[0m\u001b[1;32m     64\u001b[0m         \u001b[0;32mexcept\u001b[0m \u001b[0mpy4j\u001b[0m\u001b[0;34m.\u001b[0m\u001b[0mprotocol\u001b[0m\u001b[0;34m.\u001b[0m\u001b[0mPy4JJavaError\u001b[0m \u001b[0;32mas\u001b[0m \u001b[0me\u001b[0m\u001b[0;34m:\u001b[0m\u001b[0;34m\u001b[0m\u001b[0;34m\u001b[0m\u001b[0m\n\u001b[1;32m     65\u001b[0m             \u001b[0ms\u001b[0m \u001b[0;34m=\u001b[0m \u001b[0me\u001b[0m\u001b[0;34m.\u001b[0m\u001b[0mjava_exception\u001b[0m\u001b[0;34m.\u001b[0m\u001b[0mtoString\u001b[0m\u001b[0;34m(\u001b[0m\u001b[0;34m)\u001b[0m\u001b[0;34m\u001b[0m\u001b[0;34m\u001b[0m\u001b[0m\n",
      "\u001b[0;32m/usr/local/spark/python/lib/py4j-0.10.7-src.zip/py4j/protocol.py\u001b[0m in \u001b[0;36mget_return_value\u001b[0;34m(answer, gateway_client, target_id, name)\u001b[0m\n\u001b[1;32m    334\u001b[0m             raise Py4JError(\n\u001b[1;32m    335\u001b[0m                 \u001b[0;34m\"An error occurred while calling {0}{1}{2}\"\u001b[0m\u001b[0;34m.\u001b[0m\u001b[0;34m\u001b[0m\u001b[0;34m\u001b[0m\u001b[0m\n\u001b[0;32m--> 336\u001b[0;31m                 format(target_id, \".\", name))\n\u001b[0m\u001b[1;32m    337\u001b[0m     \u001b[0;32melse\u001b[0m\u001b[0;34m:\u001b[0m\u001b[0;34m\u001b[0m\u001b[0;34m\u001b[0m\u001b[0m\n\u001b[1;32m    338\u001b[0m         \u001b[0mtype\u001b[0m \u001b[0;34m=\u001b[0m \u001b[0manswer\u001b[0m\u001b[0;34m[\u001b[0m\u001b[0;36m1\u001b[0m\u001b[0;34m]\u001b[0m\u001b[0;34m\u001b[0m\u001b[0;34m\u001b[0m\u001b[0m\n",
      "\u001b[0;31mPy4JError\u001b[0m: An error occurred while calling o84.sessionState"
     ]
    }
   ],
   "source": [
    "from pyspark.sql.types import StructType,StructField, StringType, IntegerType\n",
    "\n",
    "mySchema = StructType([ StructField(\"date\", StringType(), True)\\\n",
    "                       ,StructField(\"cum_pu\", IntegerType(), True)])\n",
    "cum_pu_df = spark.createDataFrame(cum_pu_pd, schema = mySchema) "
   ]
  },
  {
   "cell_type": "code",
   "execution_count": 10,
   "metadata": {},
   "outputs": [],
   "source": [
    "from pyspark.sql.window import Window\n",
    "workshop_distinct_user_by_date = post_gcoin.where(col(\"event_name\") == \"202207_workshop\").select(\"date\", \"account_id\").distinct()\n",
    "\n",
    "cum_count = size(\n",
    "    collect_set(col('account_id'))\n",
    "    .over(Window.orderBy(\"date\")\n",
    "             .rangeBetween(Window.unboundedPreceding, 0))\n",
    ").alias('cum_count')\n",
    "tmp_result = workshop_distinct_user_by_date.select(\"date\", cum_count)"
   ]
  },
  {
   "cell_type": "code",
   "execution_count": null,
   "metadata": {},
   "outputs": [],
   "source": []
  }
 ],
 "metadata": {
  "kernelspec": {
   "display_name": "Python 3",
   "language": "python",
   "name": "python3"
  },
  "language_info": {
   "codemirror_mode": {
    "name": "ipython",
    "version": 3
   },
   "file_extension": ".py",
   "mimetype": "text/x-python",
   "name": "python",
   "nbconvert_exporter": "python",
   "pygments_lexer": "ipython3",
   "version": "3.6.7"
  }
 },
 "nbformat": 4,
 "nbformat_minor": 4
}
