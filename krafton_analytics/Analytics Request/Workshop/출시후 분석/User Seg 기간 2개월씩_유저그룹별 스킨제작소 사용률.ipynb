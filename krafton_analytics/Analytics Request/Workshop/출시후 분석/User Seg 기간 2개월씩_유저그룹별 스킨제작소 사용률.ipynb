{
 "cells": [
  {
   "cell_type": "code",
   "execution_count": 1,
   "metadata": {},
   "outputs": [
    {
     "name": "stdout",
     "output_type": "stream",
     "text": [
      "Spark cluster not assigned. creating a new one...\n",
      "Node spec: 16 executors with 48G RAM each\n",
      "Job Port 4049 is assigned for requested cluster\n",
      "Waiting for Spark master to be available...\n",
      "Spark master launched!\n",
      "Creating new Spark session, name: west0_userseg...\n",
      "Waiting for all executors ready...\n",
      "All executors connected!\n",
      "Complete! elapsed time: 00:00:25\n"
     ]
    }
   ],
   "source": [
    "from pubg_util import mysql, load_schema, notifier\n",
    "from sphynx import sphynx, NODE_SMALL, NODE_MEDIUM, NODE_LARGE\n",
    "from pyspark.sql.functions import *\n",
    "import pandas as pd\n",
    "import pickle\n",
    "\n",
    "spark = sphynx.get_spark(executor_count=16, app_name='west0_userseg', node_spec=NODE_LARGE)"
   ]
  },
  {
   "cell_type": "code",
   "execution_count": 2,
   "metadata": {},
   "outputs": [],
   "source": [
    "post_df = mysql.read_table(spark, \"labs\", \"workshop_user_post_seg_tmp\")"
   ]
  },
  {
   "cell_type": "code",
   "execution_count": 3,
   "metadata": {},
   "outputs": [],
   "source": [
    "post_start_date = \"2022-07-13\"\n",
    "post_end_date = \"2022-09-06\""
   ]
  },
  {
   "cell_type": "code",
   "execution_count": 7,
   "metadata": {},
   "outputs": [],
   "source": [
    "def get_workshop_rate(start_date, end_date):\n",
    "    bp_purchase = load_schema.lobby(spark, \"pc\", \"live\", \"PurchaseResult\", start_date, end_date).where((col(\"Currency\").like(\"%bp%\")) & (col(\"AnalyticEventType\") == \"workshop\"))\n",
    "    gcoin = load_data_mart(\"pc\", start_date, end_date, \"gcoin_use\").where(col(\"event_name\").like(\"%workshop%\")).withColumnRenamed(\"account_id\", \"AccountId\")\n",
    "    open_crate = load_schema.lobby(spark, \"pc\", \"live\", \"WorkshopCrateOpened\", start_date, end_date)\n",
    "    craft = load_schema.lobby(spark, \"pc\", \"live\", \"WorkshopCrafted\", start_date, end_date)\n",
    "    disassemble = load_schema.lobby(spark, \"pc\", \"live\", \"WorkshopDisassembled\", start_date, end_date)\n",
    "    repurpose = load_schema.lobby(spark, \"pc\", \"live\", \"WorkshopRepurposed\", start_date, end_date)\n",
    "    special_craft = load_schema.lobby(spark, \"pc\", \"live\", \"PurchaseResult\", start_date, end_date).where(col(\"Currency\") == \"artisanstoken\")\n",
    "    \n",
    "    workshop_user = (open_crate.groupBy(\"AccountId\").agg(sum(\"OpenAmount\").alias(\"amount\")).withColumn(\"action\", lit(\"open\"))) \\\n",
    "        .unionByName(craft.groupBy(\"AccountId\").agg(count(\"*\").alias(\"amount\")).withColumn(\"action\", lit(\"craft\"))) \\\n",
    "        .unionByName(disassemble.groupBy(\"AccountId\").agg(count(\"*\").alias(\"amount\")).withColumn(\"action\", lit(\"disassemble\"))) \\\n",
    "        .unionByName(repurpose.groupBy(\"AccountId\").agg(count(\"*\").alias(\"amount\")).withColumn(\"action\", lit(\"repurpose\"))) \\\n",
    "        .unionByName(special_craft.groupBy(\"AccountId\").agg(sum(\"Amount\").alias(\"amount\")).withColumn(\"action\", lit(\"special_craft\"))) \\\n",
    "        .unionByName(gcoin.groupBy(\"AccountId\").agg(sum(\"qty\").alias(\"amount\")).withColumn(\"action\", lit(\"gcoin\"))) \\\n",
    "        .unionByName(bp_purchase.groupBy(\"AccountId\").agg(count(\"*\").alias(\"amount\")).withColumn(\"action\", lit(\"bp_workshop\")))\n",
    "    \n",
    "    return workshop_user"
   ]
  },
  {
   "cell_type": "code",
   "execution_count": 8,
   "metadata": {},
   "outputs": [],
   "source": [
    "workshop_use = get_workshop_rate(post_start_date, post_end_date)"
   ]
  },
  {
   "cell_type": "code",
   "execution_count": 9,
   "metadata": {},
   "outputs": [],
   "source": [
    "post_df_user = post_df.withColumnRenamed(\"account_id\", \"AccountId\").select(\"AccountId\", \"post_seg\", \"post_group\")\n",
    "post_user_workshop_use = workshop_use.join(post_df_user, \"AccountId\", \"right\")"
   ]
  },
  {
   "cell_type": "code",
   "execution_count": 11,
   "metadata": {},
   "outputs": [],
   "source": [
    "mysql.insert_table(post_user_workshop_use, \"labs\", \"post_user_workshop_use\")"
   ]
  },
  {
   "cell_type": "code",
   "execution_count": null,
   "metadata": {},
   "outputs": [],
   "source": []
  }
 ],
 "metadata": {
  "kernelspec": {
   "display_name": "Python 3",
   "language": "python",
   "name": "python3"
  },
  "language_info": {
   "codemirror_mode": {
    "name": "ipython",
    "version": 3
   },
   "file_extension": ".py",
   "mimetype": "text/x-python",
   "name": "python",
   "nbconvert_exporter": "python",
   "pygments_lexer": "ipython3",
   "version": "3.6.7"
  }
 },
 "nbformat": 4,
 "nbformat_minor": 4
}
