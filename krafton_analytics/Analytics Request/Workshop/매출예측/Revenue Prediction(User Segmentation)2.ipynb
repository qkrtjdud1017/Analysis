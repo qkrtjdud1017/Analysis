{
 "cells": [
  {
   "cell_type": "code",
   "execution_count": 1,
   "metadata": {},
   "outputs": [
    {
     "name": "stdout",
     "output_type": "stream",
     "text": [
      "Spark cluster not assigned. creating a new one...\n",
      "Node spec: 16 executors with 48G RAM each\n",
      "Job Port 4049 is assigned for requested cluster\n",
      "Waiting for Spark master to be available...\n",
      "Spark master launched!\n",
      "Creating new Spark session, name: workshop...\n",
      "Waiting for all executors ready...\n",
      "All executors connected!\n",
      "Complete! elapsed time: 00:00:31\n"
     ]
    }
   ],
   "source": [
    "from pubg_util import mysql, load_schema, notifier\n",
    "from sphynx import sphynx, NODE_SMALL, NODE_MEDIUM, NODE_LARGE\n",
    "from pyspark.sql.functions import *\n",
    "import pandas as pd\n",
    "import pickle\n",
    "\n",
    "spark = sphynx.get_spark(executor_count=16, app_name='workshop', node_spec=NODE_LARGE)"
   ]
  },
  {
   "cell_type": "code",
   "execution_count": 6,
   "metadata": {},
   "outputs": [
    {
     "name": "stdout",
     "output_type": "stream",
     "text": [
      "+-----------+-------------------+--------+\n",
      "|category   |sub_category       |count(1)|\n",
      "+-----------+-------------------+--------+\n",
      "|other      |battlestat_swap_kit|2243    |\n",
      "|null       |null               |111588  |\n",
      "|other      |nickname_change    |60537   |\n",
      "|crates&keys|key                |130884  |\n",
      "|skin       |weapon             |473742  |\n",
      "|skin       |battlestat         |43931   |\n",
      "|other      |emotes             |872539  |\n",
      "|other      |presetslot         |6081    |\n",
      "|skin       |gear               |221364  |\n",
      "|crates&keys|crate              |5388264 |\n",
      "|skin       |vehicle            |28884   |\n",
      "|skin       |costume            |892429  |\n",
      "+-----------+-------------------+--------+\n",
      "\n"
     ]
    }
   ],
   "source": [
    "gcoin_2.groupBy(\"category\", \"sub_category\").agg(count(\"*\")).show(truncate=False)"
   ]
  },
  {
   "cell_type": "code",
   "execution_count": 14,
   "metadata": {},
   "outputs": [
    {
     "name": "stdout",
     "output_type": "stream",
     "text": [
      "+-----+--------+\n",
      "|price|count(1)|\n",
      "+-----+--------+\n",
      "|40   |2839    |\n",
      "|60   |19137   |\n",
      "|70   |7337    |\n",
      "|80   |14752   |\n",
      "|90   |9572    |\n",
      "|100  |12717   |\n",
      "|120  |18884   |\n",
      "|140  |12899   |\n",
      "|150  |72553   |\n",
      "|170  |4455    |\n",
      "|180  |5520    |\n",
      "|200  |310029  |\n",
      "|210  |6653    |\n",
      "|240  |9908    |\n",
      "|250  |31334   |\n",
      "|280  |10309   |\n",
      "|290  |6935    |\n",
      "|300  |149548  |\n",
      "|320  |8376    |\n",
      "|350  |50604   |\n",
      "+-----+--------+\n",
      "only showing top 20 rows\n",
      "\n"
     ]
    }
   ],
   "source": [
    "gcoin_2.where(col(\"sub_category\").isin([\"costume\", \"gear\", \"vehicle\"])).groupBy(\"price\").agg(count(\"*\")).orderBy(\"price\").show(truncate=False)"
   ]
  },
  {
   "cell_type": "code",
   "execution_count": 27,
   "metadata": {},
   "outputs": [
    {
     "name": "stdout",
     "output_type": "stream",
     "text": [
      "+-----+--------+\n",
      "|price|count(1)|\n",
      "+-----+--------+\n",
      "|1490 |10482   |\n",
      "|1190 |817     |\n",
      "|1090 |691     |\n",
      "|1040 |1097    |\n",
      "|1000 |3646    |\n",
      "|990  |37252   |\n",
      "|900  |354     |\n",
      "|890  |981     |\n",
      "|800  |4566    |\n",
      "|740  |1371    |\n",
      "|700  |46856   |\n",
      "|690  |3293    |\n",
      "|600  |12454   |\n",
      "|590  |10167   |\n",
      "|560  |980     |\n",
      "|500  |170629  |\n",
      "|490  |13129   |\n",
      "|480  |2494    |\n",
      "|440  |1193    |\n",
      "|420  |4110    |\n",
      "+-----+--------+\n",
      "only showing top 20 rows\n",
      "\n"
     ]
    }
   ],
   "source": [
    "gcoin_2.where(col(\"sub_category\").isin([\"costume\", \"gear\", \"vehicle\"])).groupBy(\"price\").agg(count(\"*\")).orderBy(\"price\", ascending=False).show(truncate=False)"
   ]
  },
  {
   "cell_type": "code",
   "execution_count": 16,
   "metadata": {},
   "outputs": [
    {
     "name": "stdout",
     "output_type": "stream",
     "text": [
      "+------------------------+-----+\n",
      "|product_name            |price|\n",
      "+------------------------+-----+\n",
      "|GodV's Onesie           |1000 |\n",
      "|Vigilante Bodysuit      |1490 |\n",
      "|\"Snake Hunter\" BRDM-2   |990  |\n",
      "|Mermaid Outfit          |1490 |\n",
      "|Wild Cat Hoodie         |990  |\n",
      "|Blood Hound Jacket      |990  |\n",
      "|Queen of Hearts Dress   |1490 |\n",
      "|\"Ocean Fantasy\" Aquarail|990  |\n",
      "|Plaid Sugarplum Skirt   |990  |\n",
      "|Season's Greetings Dress|990  |\n",
      "|Ringmaster's Jacket     |990  |\n",
      "|Festive Fur Coat        |990  |\n",
      "|\"Hippie Soul\" Aquarail  |990  |\n",
      "|Divemaster Suit         |1040 |\n",
      "|Jeremy Lin Jacket       |990  |\n",
      "|\"Range Shredder\" Zima   |990  |\n",
      "|Lobster Costume         |1090 |\n",
      "|Vigilante Bodysuit      |1040 |\n",
      "|Circus Star Uniform     |1190 |\n",
      "|Proper Pink Outfit      |1490 |\n",
      "+------------------------+-----+\n",
      "only showing top 20 rows\n",
      "\n"
     ]
    }
   ],
   "source": [
    "gcoin_2.where((col(\"sub_category\").isin([\"costume\", \"gear\", \"vehicle\"])) & (col(\"price\") > 900)).select(\"product_name\", \"price\").distinct().show(truncate=False)"
   ]
  },
  {
   "cell_type": "code",
   "execution_count": 209,
   "metadata": {},
   "outputs": [
    {
     "data": {
      "text/html": [
       "<div>\n",
       "<style scoped>\n",
       "    .dataframe tbody tr th:only-of-type {\n",
       "        vertical-align: middle;\n",
       "    }\n",
       "\n",
       "    .dataframe tbody tr th {\n",
       "        vertical-align: top;\n",
       "    }\n",
       "\n",
       "    .dataframe thead th {\n",
       "        text-align: right;\n",
       "    }\n",
       "</style>\n",
       "<table border=\"1\" class=\"dataframe\">\n",
       "  <thead>\n",
       "    <tr style=\"text-align: right;\">\n",
       "      <th></th>\n",
       "      <th>price</th>\n",
       "      <th>product_name</th>\n",
       "      <th>account_id</th>\n",
       "    </tr>\n",
       "  </thead>\n",
       "  <tbody>\n",
       "    <tr>\n",
       "      <th>0</th>\n",
       "      <td>800</td>\n",
       "      <td>Polar Bear Suit</td>\n",
       "      <td>1783</td>\n",
       "    </tr>\n",
       "    <tr>\n",
       "      <th>1</th>\n",
       "      <td>800</td>\n",
       "      <td>Sideshow Bear Costume</td>\n",
       "      <td>2783</td>\n",
       "    </tr>\n",
       "    <tr>\n",
       "      <th>2</th>\n",
       "      <td>890</td>\n",
       "      <td>Vigilante Bodysuit</td>\n",
       "      <td>981</td>\n",
       "    </tr>\n",
       "    <tr>\n",
       "      <th>3</th>\n",
       "      <td>900</td>\n",
       "      <td>Groovy Gown</td>\n",
       "      <td>354</td>\n",
       "    </tr>\n",
       "    <tr>\n",
       "      <th>16</th>\n",
       "      <td>990</td>\n",
       "      <td>Wild Cat Hoodie</td>\n",
       "      <td>5155</td>\n",
       "    </tr>\n",
       "    <tr>\n",
       "      <th>15</th>\n",
       "      <td>990</td>\n",
       "      <td>Vigilante Jacket</td>\n",
       "      <td>5260</td>\n",
       "    </tr>\n",
       "    <tr>\n",
       "      <th>14</th>\n",
       "      <td>990</td>\n",
       "      <td>Season's Greetings Dress</td>\n",
       "      <td>2591</td>\n",
       "    </tr>\n",
       "    <tr>\n",
       "      <th>13</th>\n",
       "      <td>990</td>\n",
       "      <td>Ringmaster's Jacket</td>\n",
       "      <td>3560</td>\n",
       "    </tr>\n",
       "    <tr>\n",
       "      <th>11</th>\n",
       "      <td>990</td>\n",
       "      <td>Jeremy Lin Jacket</td>\n",
       "      <td>9149</td>\n",
       "    </tr>\n",
       "    <tr>\n",
       "      <th>10</th>\n",
       "      <td>990</td>\n",
       "      <td>Festive Fur Coat</td>\n",
       "      <td>1157</td>\n",
       "    </tr>\n",
       "    <tr>\n",
       "      <th>12</th>\n",
       "      <td>990</td>\n",
       "      <td>Plaid Sugarplum Skirt</td>\n",
       "      <td>2462</td>\n",
       "    </tr>\n",
       "    <tr>\n",
       "      <th>8</th>\n",
       "      <td>990</td>\n",
       "      <td>\"Snake Hunter\" BRDM-2</td>\n",
       "      <td>1220</td>\n",
       "    </tr>\n",
       "    <tr>\n",
       "      <th>7</th>\n",
       "      <td>990</td>\n",
       "      <td>\"Range Shredder\" Zima</td>\n",
       "      <td>2176</td>\n",
       "    </tr>\n",
       "    <tr>\n",
       "      <th>6</th>\n",
       "      <td>990</td>\n",
       "      <td>\"Ocean Fantasy\" Aquarail</td>\n",
       "      <td>281</td>\n",
       "    </tr>\n",
       "    <tr>\n",
       "      <th>5</th>\n",
       "      <td>990</td>\n",
       "      <td>\"Hippie Soul\" Aquarail</td>\n",
       "      <td>72</td>\n",
       "    </tr>\n",
       "    <tr>\n",
       "      <th>4</th>\n",
       "      <td>990</td>\n",
       "      <td>\"High Flyin'\" Motor Glider</td>\n",
       "      <td>1324</td>\n",
       "    </tr>\n",
       "    <tr>\n",
       "      <th>9</th>\n",
       "      <td>990</td>\n",
       "      <td>Blood Hound Jacket</td>\n",
       "      <td>2845</td>\n",
       "    </tr>\n",
       "    <tr>\n",
       "      <th>17</th>\n",
       "      <td>1000</td>\n",
       "      <td>GodV's Onesie</td>\n",
       "      <td>3646</td>\n",
       "    </tr>\n",
       "    <tr>\n",
       "      <th>18</th>\n",
       "      <td>1040</td>\n",
       "      <td>Divemaster Suit</td>\n",
       "      <td>541</td>\n",
       "    </tr>\n",
       "    <tr>\n",
       "      <th>19</th>\n",
       "      <td>1040</td>\n",
       "      <td>Vigilante Bodysuit</td>\n",
       "      <td>556</td>\n",
       "    </tr>\n",
       "    <tr>\n",
       "      <th>20</th>\n",
       "      <td>1090</td>\n",
       "      <td>Lobster Costume</td>\n",
       "      <td>691</td>\n",
       "    </tr>\n",
       "    <tr>\n",
       "      <th>21</th>\n",
       "      <td>1190</td>\n",
       "      <td>Circus Star Uniform</td>\n",
       "      <td>817</td>\n",
       "    </tr>\n",
       "    <tr>\n",
       "      <th>24</th>\n",
       "      <td>1490</td>\n",
       "      <td>Queen of Hearts Dress</td>\n",
       "      <td>978</td>\n",
       "    </tr>\n",
       "    <tr>\n",
       "      <th>22</th>\n",
       "      <td>1490</td>\n",
       "      <td>Mermaid Outfit</td>\n",
       "      <td>1232</td>\n",
       "    </tr>\n",
       "    <tr>\n",
       "      <th>23</th>\n",
       "      <td>1490</td>\n",
       "      <td>Proper Pink Outfit</td>\n",
       "      <td>2113</td>\n",
       "    </tr>\n",
       "    <tr>\n",
       "      <th>25</th>\n",
       "      <td>1490</td>\n",
       "      <td>Vigilante Bodysuit</td>\n",
       "      <td>6159</td>\n",
       "    </tr>\n",
       "  </tbody>\n",
       "</table>\n",
       "</div>"
      ],
      "text/plain": [
       "    price                product_name  account_id\n",
       "0     800             Polar Bear Suit        1783\n",
       "1     800       Sideshow Bear Costume        2783\n",
       "2     890          Vigilante Bodysuit         981\n",
       "3     900                 Groovy Gown         354\n",
       "16    990             Wild Cat Hoodie        5155\n",
       "15    990            Vigilante Jacket        5260\n",
       "14    990    Season's Greetings Dress        2591\n",
       "13    990         Ringmaster's Jacket        3560\n",
       "11    990           Jeremy Lin Jacket        9149\n",
       "10    990            Festive Fur Coat        1157\n",
       "12    990       Plaid Sugarplum Skirt        2462\n",
       "8     990       \"Snake Hunter\" BRDM-2        1220\n",
       "7     990       \"Range Shredder\" Zima        2176\n",
       "6     990    \"Ocean Fantasy\" Aquarail         281\n",
       "5     990      \"Hippie Soul\" Aquarail          72\n",
       "4     990  \"High Flyin'\" Motor Glider        1324\n",
       "9     990          Blood Hound Jacket        2845\n",
       "17   1000               GodV's Onesie        3646\n",
       "18   1040             Divemaster Suit         541\n",
       "19   1040          Vigilante Bodysuit         556\n",
       "20   1090             Lobster Costume         691\n",
       "21   1190         Circus Star Uniform         817\n",
       "24   1490       Queen of Hearts Dress         978\n",
       "22   1490              Mermaid Outfit        1232\n",
       "23   1490          Proper Pink Outfit        2113\n",
       "25   1490          Vigilante Bodysuit        6159"
      ]
     },
     "execution_count": 209,
     "metadata": {},
     "output_type": "execute_result"
    }
   ],
   "source": [
    "gcoin_skin_df_2[gcoin_skin_df_2.price >= 800].groupby([\"price\", \"product_name\"])[\"account_id\"].count().reset_index().sort_values(\"price\")"
   ]
  },
  {
   "cell_type": "code",
   "execution_count": 202,
   "metadata": {
    "collapsed": true,
    "jupyter": {
     "outputs_hidden": true
    }
   },
   "outputs": [
    {
     "data": {
      "text/html": [
       "<div>\n",
       "<style scoped>\n",
       "    .dataframe tbody tr th:only-of-type {\n",
       "        vertical-align: middle;\n",
       "    }\n",
       "\n",
       "    .dataframe tbody tr th {\n",
       "        vertical-align: top;\n",
       "    }\n",
       "\n",
       "    .dataframe thead th {\n",
       "        text-align: right;\n",
       "    }\n",
       "</style>\n",
       "<table border=\"1\" class=\"dataframe\">\n",
       "  <thead>\n",
       "    <tr style=\"text-align: right;\">\n",
       "      <th></th>\n",
       "      <th>price</th>\n",
       "      <th>0</th>\n",
       "    </tr>\n",
       "  </thead>\n",
       "  <tbody>\n",
       "    <tr>\n",
       "      <th>0</th>\n",
       "      <td>40</td>\n",
       "      <td>2839</td>\n",
       "    </tr>\n",
       "    <tr>\n",
       "      <th>1</th>\n",
       "      <td>60</td>\n",
       "      <td>19137</td>\n",
       "    </tr>\n",
       "    <tr>\n",
       "      <th>2</th>\n",
       "      <td>70</td>\n",
       "      <td>7337</td>\n",
       "    </tr>\n",
       "    <tr>\n",
       "      <th>3</th>\n",
       "      <td>80</td>\n",
       "      <td>14752</td>\n",
       "    </tr>\n",
       "    <tr>\n",
       "      <th>4</th>\n",
       "      <td>90</td>\n",
       "      <td>9572</td>\n",
       "    </tr>\n",
       "    <tr>\n",
       "      <th>5</th>\n",
       "      <td>100</td>\n",
       "      <td>12717</td>\n",
       "    </tr>\n",
       "    <tr>\n",
       "      <th>6</th>\n",
       "      <td>120</td>\n",
       "      <td>18884</td>\n",
       "    </tr>\n",
       "    <tr>\n",
       "      <th>7</th>\n",
       "      <td>140</td>\n",
       "      <td>12899</td>\n",
       "    </tr>\n",
       "    <tr>\n",
       "      <th>8</th>\n",
       "      <td>150</td>\n",
       "      <td>72553</td>\n",
       "    </tr>\n",
       "    <tr>\n",
       "      <th>9</th>\n",
       "      <td>170</td>\n",
       "      <td>4455</td>\n",
       "    </tr>\n",
       "    <tr>\n",
       "      <th>10</th>\n",
       "      <td>180</td>\n",
       "      <td>5520</td>\n",
       "    </tr>\n",
       "    <tr>\n",
       "      <th>11</th>\n",
       "      <td>200</td>\n",
       "      <td>310029</td>\n",
       "    </tr>\n",
       "    <tr>\n",
       "      <th>12</th>\n",
       "      <td>210</td>\n",
       "      <td>6653</td>\n",
       "    </tr>\n",
       "    <tr>\n",
       "      <th>13</th>\n",
       "      <td>240</td>\n",
       "      <td>9908</td>\n",
       "    </tr>\n",
       "    <tr>\n",
       "      <th>14</th>\n",
       "      <td>250</td>\n",
       "      <td>31334</td>\n",
       "    </tr>\n",
       "    <tr>\n",
       "      <th>15</th>\n",
       "      <td>280</td>\n",
       "      <td>10309</td>\n",
       "    </tr>\n",
       "    <tr>\n",
       "      <th>16</th>\n",
       "      <td>290</td>\n",
       "      <td>6935</td>\n",
       "    </tr>\n",
       "    <tr>\n",
       "      <th>17</th>\n",
       "      <td>300</td>\n",
       "      <td>149548</td>\n",
       "    </tr>\n",
       "    <tr>\n",
       "      <th>18</th>\n",
       "      <td>320</td>\n",
       "      <td>8376</td>\n",
       "    </tr>\n",
       "    <tr>\n",
       "      <th>19</th>\n",
       "      <td>350</td>\n",
       "      <td>50604</td>\n",
       "    </tr>\n",
       "    <tr>\n",
       "      <th>20</th>\n",
       "      <td>360</td>\n",
       "      <td>1772</td>\n",
       "    </tr>\n",
       "    <tr>\n",
       "      <th>21</th>\n",
       "      <td>390</td>\n",
       "      <td>30835</td>\n",
       "    </tr>\n",
       "    <tr>\n",
       "      <th>22</th>\n",
       "      <td>400</td>\n",
       "      <td>19147</td>\n",
       "    </tr>\n",
       "    <tr>\n",
       "      <th>23</th>\n",
       "      <td>420</td>\n",
       "      <td>4110</td>\n",
       "    </tr>\n",
       "    <tr>\n",
       "      <th>24</th>\n",
       "      <td>440</td>\n",
       "      <td>1193</td>\n",
       "    </tr>\n",
       "    <tr>\n",
       "      <th>25</th>\n",
       "      <td>480</td>\n",
       "      <td>2494</td>\n",
       "    </tr>\n",
       "    <tr>\n",
       "      <th>26</th>\n",
       "      <td>490</td>\n",
       "      <td>13129</td>\n",
       "    </tr>\n",
       "    <tr>\n",
       "      <th>27</th>\n",
       "      <td>500</td>\n",
       "      <td>170629</td>\n",
       "    </tr>\n",
       "    <tr>\n",
       "      <th>28</th>\n",
       "      <td>560</td>\n",
       "      <td>980</td>\n",
       "    </tr>\n",
       "    <tr>\n",
       "      <th>29</th>\n",
       "      <td>590</td>\n",
       "      <td>10167</td>\n",
       "    </tr>\n",
       "    <tr>\n",
       "      <th>30</th>\n",
       "      <td>600</td>\n",
       "      <td>12454</td>\n",
       "    </tr>\n",
       "    <tr>\n",
       "      <th>31</th>\n",
       "      <td>690</td>\n",
       "      <td>3293</td>\n",
       "    </tr>\n",
       "    <tr>\n",
       "      <th>32</th>\n",
       "      <td>700</td>\n",
       "      <td>46856</td>\n",
       "    </tr>\n",
       "    <tr>\n",
       "      <th>33</th>\n",
       "      <td>740</td>\n",
       "      <td>1371</td>\n",
       "    </tr>\n",
       "    <tr>\n",
       "      <th>34</th>\n",
       "      <td>800</td>\n",
       "      <td>4566</td>\n",
       "    </tr>\n",
       "    <tr>\n",
       "      <th>35</th>\n",
       "      <td>890</td>\n",
       "      <td>981</td>\n",
       "    </tr>\n",
       "    <tr>\n",
       "      <th>36</th>\n",
       "      <td>900</td>\n",
       "      <td>354</td>\n",
       "    </tr>\n",
       "    <tr>\n",
       "      <th>37</th>\n",
       "      <td>990</td>\n",
       "      <td>37252</td>\n",
       "    </tr>\n",
       "    <tr>\n",
       "      <th>38</th>\n",
       "      <td>1000</td>\n",
       "      <td>3646</td>\n",
       "    </tr>\n",
       "    <tr>\n",
       "      <th>39</th>\n",
       "      <td>1040</td>\n",
       "      <td>1097</td>\n",
       "    </tr>\n",
       "    <tr>\n",
       "      <th>40</th>\n",
       "      <td>1090</td>\n",
       "      <td>691</td>\n",
       "    </tr>\n",
       "    <tr>\n",
       "      <th>41</th>\n",
       "      <td>1190</td>\n",
       "      <td>817</td>\n",
       "    </tr>\n",
       "    <tr>\n",
       "      <th>42</th>\n",
       "      <td>1490</td>\n",
       "      <td>10482</td>\n",
       "    </tr>\n",
       "  </tbody>\n",
       "</table>\n",
       "</div>"
      ],
      "text/plain": [
       "    price       0\n",
       "0      40    2839\n",
       "1      60   19137\n",
       "2      70    7337\n",
       "3      80   14752\n",
       "4      90    9572\n",
       "5     100   12717\n",
       "6     120   18884\n",
       "7     140   12899\n",
       "8     150   72553\n",
       "9     170    4455\n",
       "10    180    5520\n",
       "11    200  310029\n",
       "12    210    6653\n",
       "13    240    9908\n",
       "14    250   31334\n",
       "15    280   10309\n",
       "16    290    6935\n",
       "17    300  149548\n",
       "18    320    8376\n",
       "19    350   50604\n",
       "20    360    1772\n",
       "21    390   30835\n",
       "22    400   19147\n",
       "23    420    4110\n",
       "24    440    1193\n",
       "25    480    2494\n",
       "26    490   13129\n",
       "27    500  170629\n",
       "28    560     980\n",
       "29    590   10167\n",
       "30    600   12454\n",
       "31    690    3293\n",
       "32    700   46856\n",
       "33    740    1371\n",
       "34    800    4566\n",
       "35    890     981\n",
       "36    900     354\n",
       "37    990   37252\n",
       "38   1000    3646\n",
       "39   1040    1097\n",
       "40   1090     691\n",
       "41   1190     817\n",
       "42   1490   10482"
      ]
     },
     "execution_count": 202,
     "metadata": {},
     "output_type": "execute_result"
    }
   ],
   "source": [
    "gcoin_skin_df_2.groupby(\"price\").apply(lambda x: len(x)).reset_index()"
   ]
  },
  {
   "cell_type": "code",
   "execution_count": 204,
   "metadata": {},
   "outputs": [
    {
     "data": {
      "text/plain": [
       "<matplotlib.axes._subplots.AxesSubplot at 0x7f4f00ff0748>"
      ]
     },
     "execution_count": 204,
     "metadata": {},
     "output_type": "execute_result"
    },
    {
     "data": {
      "image/png": "[encoded data removed]",
      "text/plain": [
       "<Figure size 1440x720 with 1 Axes>"
      ]
     },
     "metadata": {
      "needs_background": "light"
     },
     "output_type": "display_data"
    }
   ],
   "source": [
    "gcoin_skin_df_2[\"price\"].hist(figsize=(20,10))"
   ]
  },
  {
   "cell_type": "code",
   "execution_count": 103,
   "metadata": {},
   "outputs": [],
   "source": [
    "# 1\n",
    "def get_group_a_seg_1(df, wsus_user):\n",
    "    df.price_ = df.price_.astype(int)\n",
    "    df = df[~df.account_id.isin(wsus_user)].groupby(\"account_id\", as_index=False)[\"price_\"].sum()\n",
    "    print(df[df.price_ <= 500].account_id.nunique())\n",
    "    print(df[(df.price_ > 500) & (df.price_ <= 1500)].account_id.nunique())\n",
    "    print(df[(df.price_ > 1500) & (df.price_ <= 2500)].account_id.nunique())\n",
    "    print(df[(df.price_ > 2500) & (df.price_ <= 20000)].account_id.nunique())\n",
    "    print(df[(df.price_ > 20000)].account_id.nunique())"
   ]
  },
  {
   "cell_type": "code",
   "execution_count": 128,
   "metadata": {},
   "outputs": [],
   "source": [
    "# 2\n",
    "def get_group_a_seg_2(df, wsus_user):\n",
    "    df.price_ = df.price_.astype(int)\n",
    "    df = df[~df.account_id.isin(wsus_user)].groupby(\"account_id\", as_index=False)[\"price_\"].sum()\n",
    "    print(df[df.price_ <= 500].account_id.nunique())\n",
    "    print(df[(df.price_ > 500) & (df.price_ <= 2500)].account_id.nunique())\n",
    "    print(df[(df.price_ > 2500) & (df.price_ <= 5000)].account_id.nunique())\n",
    "    print(df[(df.price_ > 5000) & (df.price_ <= 30000)].account_id.nunique())\n",
    "    print(df[(df.price_ > 30000)].account_id.nunique())"
   ]
  },
  {
   "cell_type": "code",
   "execution_count": 120,
   "metadata": {},
   "outputs": [],
   "source": [
    "# 3\n",
    "def get_group_a_seg_3(df, wsus_user):\n",
    "    df.price_ = df.price_.astype(int)\n",
    "    df = df[~df.account_id.isin(wsus_user)].groupby(\"account_id\", as_index=False)[\"price_\"].sum()\n",
    "    print(df[df.price_ <= 1000].account_id.nunique())\n",
    "    print(df[(df.price_ > 1000) & (df.price_ <= 5000)].account_id.nunique())\n",
    "    print(df[(df.price_ > 5000) & (df.price_ <= 10000)].account_id.nunique())\n",
    "    print(df[(df.price_ > 10000) & (df.price_ <= 30000)].account_id.nunique())\n",
    "    print(df[(df.price_ > 30000)].account_id.nunique())"
   ]
  },
  {
   "cell_type": "markdown",
   "metadata": {},
   "source": [
    "## 2022 - Feb"
   ]
  },
  {
   "cell_type": "code",
   "execution_count": 5,
   "metadata": {},
   "outputs": [],
   "source": [
    "gcoin_2 = load_data_mart(\"pc\", \"2022-02-01\", \"2022-02-28\", \"gcoin_use\")"
   ]
  },
  {
   "cell_type": "code",
   "execution_count": 18,
   "metadata": {},
   "outputs": [],
   "source": [
    "wsus_pu_list_2 = gcoin_2.where(col(\"event_name\").like(\"%wsus%\")).select(\"account_id\").distinct().toPandas()[\"account_id\"].tolist()"
   ]
  },
  {
   "cell_type": "code",
   "execution_count": 22,
   "metadata": {},
   "outputs": [],
   "source": [
    "import pickle\n",
    "with open(\"../Data/wsus_pu_list_2.txt\", \"wb\") as f:\n",
    "    pickle.dump(wsus_pu_list_2, f)"
   ]
  },
  {
   "cell_type": "code",
   "execution_count": 11,
   "metadata": {},
   "outputs": [],
   "source": [
    "gcoin_skin_2 = gcoin_2.where((col(\"sub_category\").isin([\"costume\", \"gear\", \"vehicle\"])))"
   ]
  },
  {
   "cell_type": "code",
   "execution_count": 14,
   "metadata": {},
   "outputs": [],
   "source": [
    "gcoin_crate_2 = gcoin_2.where((col(\"sub_category\") == \"crate\") & (~lower(col(\"event_name\")).like(\"%wsus%\")))"
   ]
  },
  {
   "cell_type": "code",
   "execution_count": 16,
   "metadata": {},
   "outputs": [],
   "source": [
    "gcoin_skin_df_2 = gcoin_skin_2.toPandas()\n",
    "gcoin_skin_df_2.to_csv(\"../Data/gcoin_skin_df_2.csv\", index=False)\n",
    "gcoin_crate_df_2 = gcoin_crate_2.toPandas()\n",
    "gcoin_crate_df_2.to_csv(\"../Data/gcoin_crate_df_2.csv\", index=False)"
   ]
  },
  {
   "cell_type": "code",
   "execution_count": null,
   "metadata": {},
   "outputs": [],
   "source": []
  },
  {
   "cell_type": "code",
   "execution_count": 28,
   "metadata": {
    "collapsed": true,
    "jupyter": {
     "outputs_hidden": true
    }
   },
   "outputs": [
    {
     "data": {
      "text/plain": [
       "0         False\n",
       "1         False\n",
       "2         False\n",
       "3         False\n",
       "4         False\n",
       "5         False\n",
       "6          True\n",
       "7         False\n",
       "8         False\n",
       "9         False\n",
       "10        False\n",
       "11        False\n",
       "12        False\n",
       "13        False\n",
       "14        False\n",
       "15        False\n",
       "16        False\n",
       "17        False\n",
       "18        False\n",
       "19        False\n",
       "20        False\n",
       "21        False\n",
       "22        False\n",
       "23        False\n",
       "24        False\n",
       "25        False\n",
       "26        False\n",
       "27        False\n",
       "28        False\n",
       "29        False\n",
       "          ...  \n",
       "986900     True\n",
       "986901    False\n",
       "986902    False\n",
       "986903    False\n",
       "986904    False\n",
       "986905    False\n",
       "986906    False\n",
       "986907    False\n",
       "986908    False\n",
       "986909    False\n",
       "986910    False\n",
       "986911    False\n",
       "986912    False\n",
       "986913    False\n",
       "986914    False\n",
       "986915    False\n",
       "986916    False\n",
       "986917    False\n",
       "986918    False\n",
       "986919    False\n",
       "986920    False\n",
       "986921    False\n",
       "986922    False\n",
       "986923    False\n",
       "986924    False\n",
       "986925    False\n",
       "986926    False\n",
       "986927    False\n",
       "986928     True\n",
       "986929    False\n",
       "Name: product_name, Length: 986930, dtype: bool"
      ]
     },
     "execution_count": 28,
     "metadata": {},
     "output_type": "execute_result"
    }
   ],
   "source": [
    "import re\n",
    "gcoin_crate_df_2.product_name.str.contains(\"weapon\", flags=re.IGNORECASE)"
   ]
  },
  {
   "cell_type": "code",
   "execution_count": 30,
   "metadata": {},
   "outputs": [],
   "source": [
    "gcoin_skin_df_2 = pd.read_csv(\"../Data/gcoin_skin_df_2.csv\")\n",
    "gcoin_skin_df_2 = pd.concat([gcoin_skin_df_2, gcoin_crate_df_2])"
   ]
  },
  {
   "cell_type": "code",
   "execution_count": 28,
   "metadata": {},
   "outputs": [],
   "source": [
    "gcoin_wsus_df_2 = gcoin_2.where((col(\"event_name\").like(\"%wsus%\"))).toPandas()\n",
    "gcoin_wsus_df_2.to_csv(\"../Data/gcoin_wsus_df_2.csv\", index=False)"
   ]
  },
  {
   "cell_type": "code",
   "execution_count": 37,
   "metadata": {},
   "outputs": [],
   "source": [
    "gcoin_wsus_df_2 = pd.read_csv(\"../Data/gcoin_wsus_df_2.csv\")\n",
    "wsus_pu_list_2 = gcoin_wsus_df_2[\"account_id\"].unique().tolist()"
   ]
  },
  {
   "cell_type": "markdown",
   "metadata": {},
   "source": [
    "New Gatcha (NO Wsus PU)"
   ]
  },
  {
   "cell_type": "code",
   "execution_count": 29,
   "metadata": {},
   "outputs": [],
   "source": [
    "no_wsus_df = gcoin_skin_df_2[(~gcoin_skin_df_2.account_id.isin(wsus_pu_list_2))]"
   ]
  },
  {
   "cell_type": "code",
   "execution_count": 120,
   "metadata": {},
   "outputs": [],
   "source": [
    "set_pu = no_wsus_df[no_wsus_df.price >= 800].account_id.unique().tolist()"
   ]
  },
  {
   "cell_type": "code",
   "execution_count": 99,
   "metadata": {},
   "outputs": [],
   "source": [
    "user_set_buy_cnt = no_wsus_df[(no_wsus_df.account_id.isin(set_pu)) & (no_wsus_df.price >= 800)]\\\n",
    "    .groupby(\"account_id\", as_index=False)[\"product_name\"].count()\n",
    "user_set_buy_cnt.columns = [\"account_id\", \"buy_cnt\"]"
   ]
  },
  {
   "cell_type": "code",
   "execution_count": 100,
   "metadata": {},
   "outputs": [
    {
     "data": {
      "text/plain": [
       "buy_cnt\n",
       "1    41991\n",
       "2      582\n",
       "3       38\n",
       "4        4\n",
       "5        5\n",
       "6        3\n",
       "Name: account_id, dtype: int64"
      ]
     },
     "execution_count": 100,
     "metadata": {},
     "output_type": "execute_result"
    }
   ],
   "source": [
    "user_set_buy_cnt.groupby(\"buy_cnt\")[\"account_id\"].count()"
   ]
  },
  {
   "cell_type": "code",
   "execution_count": 126,
   "metadata": {},
   "outputs": [
    {
     "data": {
      "text/html": [
       "<div>\n",
       "<style scoped>\n",
       "    .dataframe tbody tr th:only-of-type {\n",
       "        vertical-align: middle;\n",
       "    }\n",
       "\n",
       "    .dataframe tbody tr th {\n",
       "        vertical-align: top;\n",
       "    }\n",
       "\n",
       "    .dataframe thead th {\n",
       "        text-align: right;\n",
       "    }\n",
       "</style>\n",
       "<table border=\"1\" class=\"dataframe\">\n",
       "  <thead>\n",
       "    <tr style=\"text-align: right;\">\n",
       "      <th></th>\n",
       "      <th>account_id</th>\n",
       "      <th>buy_cnt</th>\n",
       "    </tr>\n",
       "  </thead>\n",
       "  <tbody>\n",
       "    <tr>\n",
       "      <th>7546</th>\n",
       "      <td>account.2dcc0fe315b24c08bc894f46fea82973</td>\n",
       "      <td>6</td>\n",
       "    </tr>\n",
       "    <tr>\n",
       "      <th>9226</th>\n",
       "      <td>account.37df8c26aac4400f9ac2864f809591c4</td>\n",
       "      <td>6</td>\n",
       "    </tr>\n",
       "    <tr>\n",
       "      <th>16188</th>\n",
       "      <td>account.623741919a9e4362918eee923b6721ab</td>\n",
       "      <td>6</td>\n",
       "    </tr>\n",
       "  </tbody>\n",
       "</table>\n",
       "</div>"
      ],
      "text/plain": [
       "                                     account_id  buy_cnt\n",
       "7546   account.2dcc0fe315b24c08bc894f46fea82973        6\n",
       "9226   account.37df8c26aac4400f9ac2864f809591c4        6\n",
       "16188  account.623741919a9e4362918eee923b6721ab        6"
      ]
     },
     "execution_count": 126,
     "metadata": {},
     "output_type": "execute_result"
    }
   ],
   "source": [
    "user_set_buy_cnt[user_set_buy_cnt.buy_cnt >= 6]"
   ]
  },
  {
   "cell_type": "code",
   "execution_count": 107,
   "metadata": {},
   "outputs": [],
   "source": [
    "no_set_user_buy_cnt = no_wsus_df[(~no_wsus_df.account_id.isin(set_pu)) & (no_wsus_df.price < 800)]\\\n",
    "    .groupby(\"account_id\", as_index=False)[\"product_name\"].count()\n",
    "no_set_user_buy_cnt.columns = [\"account_id\", \"buy_cnt\"]"
   ]
  },
  {
   "cell_type": "code",
   "execution_count": 109,
   "metadata": {},
   "outputs": [
    {
     "data": {
      "text/html": [
       "<div>\n",
       "<style scoped>\n",
       "    .dataframe tbody tr th:only-of-type {\n",
       "        vertical-align: middle;\n",
       "    }\n",
       "\n",
       "    .dataframe tbody tr th {\n",
       "        vertical-align: top;\n",
       "    }\n",
       "\n",
       "    .dataframe thead th {\n",
       "        text-align: right;\n",
       "    }\n",
       "</style>\n",
       "<table border=\"1\" class=\"dataframe\">\n",
       "  <thead>\n",
       "    <tr style=\"text-align: right;\">\n",
       "      <th></th>\n",
       "      <th>buy_cnt</th>\n",
       "      <th>account_id</th>\n",
       "    </tr>\n",
       "  </thead>\n",
       "  <tbody>\n",
       "    <tr>\n",
       "      <th>0</th>\n",
       "      <td>1</td>\n",
       "      <td>441646</td>\n",
       "    </tr>\n",
       "    <tr>\n",
       "      <th>1</th>\n",
       "      <td>2</td>\n",
       "      <td>117969</td>\n",
       "    </tr>\n",
       "    <tr>\n",
       "      <th>2</th>\n",
       "      <td>3</td>\n",
       "      <td>24779</td>\n",
       "    </tr>\n",
       "    <tr>\n",
       "      <th>3</th>\n",
       "      <td>4</td>\n",
       "      <td>6750</td>\n",
       "    </tr>\n",
       "    <tr>\n",
       "      <th>4</th>\n",
       "      <td>5</td>\n",
       "      <td>1776</td>\n",
       "    </tr>\n",
       "    <tr>\n",
       "      <th>5</th>\n",
       "      <td>6</td>\n",
       "      <td>463</td>\n",
       "    </tr>\n",
       "    <tr>\n",
       "      <th>6</th>\n",
       "      <td>7</td>\n",
       "      <td>143</td>\n",
       "    </tr>\n",
       "    <tr>\n",
       "      <th>7</th>\n",
       "      <td>8</td>\n",
       "      <td>45</td>\n",
       "    </tr>\n",
       "    <tr>\n",
       "      <th>8</th>\n",
       "      <td>9</td>\n",
       "      <td>16</td>\n",
       "    </tr>\n",
       "    <tr>\n",
       "      <th>9</th>\n",
       "      <td>10</td>\n",
       "      <td>10</td>\n",
       "    </tr>\n",
       "    <tr>\n",
       "      <th>10</th>\n",
       "      <td>11</td>\n",
       "      <td>6</td>\n",
       "    </tr>\n",
       "    <tr>\n",
       "      <th>11</th>\n",
       "      <td>12</td>\n",
       "      <td>3</td>\n",
       "    </tr>\n",
       "    <tr>\n",
       "      <th>12</th>\n",
       "      <td>13</td>\n",
       "      <td>1</td>\n",
       "    </tr>\n",
       "  </tbody>\n",
       "</table>\n",
       "</div>"
      ],
      "text/plain": [
       "    buy_cnt  account_id\n",
       "0         1      441646\n",
       "1         2      117969\n",
       "2         3       24779\n",
       "3         4        6750\n",
       "4         5        1776\n",
       "5         6         463\n",
       "6         7         143\n",
       "7         8          45\n",
       "8         9          16\n",
       "9        10          10\n",
       "10       11           6\n",
       "11       12           3\n",
       "12       13           1"
      ]
     },
     "execution_count": 109,
     "metadata": {},
     "output_type": "execute_result"
    }
   ],
   "source": [
    "no_set_user_buy_cnt.groupby(\"buy_cnt\")[\"account_id\"].count().reset_index()"
   ]
  },
  {
   "cell_type": "code",
   "execution_count": 95,
   "metadata": {},
   "outputs": [
    {
     "name": "stdout",
     "output_type": "stream",
     "text": [
      "413609\n",
      "416465\n",
      "196926\n",
      "79707\n",
      "8\n"
     ]
    }
   ],
   "source": [
    "# 1\n",
    "get_group_a_seg_1(gcoin_skin_df_2, wsus_pu_list_2)"
   ]
  },
  {
   "cell_type": "code",
   "execution_count": 129,
   "metadata": {},
   "outputs": [
    {
     "name": "stdout",
     "output_type": "stream",
     "text": [
      "413609\n",
      "613391\n",
      "76175\n",
      "3538\n",
      "2\n"
     ]
    }
   ],
   "source": [
    "# 2\n",
    "get_group_a_seg_2(gcoin_skin_df_2, wsus_pu_list_2)"
   ]
  },
  {
   "cell_type": "code",
   "execution_count": 130,
   "metadata": {},
   "outputs": [
    {
     "name": "stdout",
     "output_type": "stream",
     "text": [
      "223668\n",
      "590012\n",
      "67575\n",
      "16318\n",
      "2\n"
     ]
    }
   ],
   "source": [
    "# 2\n",
    "get_group_a_seg_2(gcoin_skin_df_3, wsus_pu_list_3)"
   ]
  },
  {
   "cell_type": "code",
   "execution_count": 131,
   "metadata": {},
   "outputs": [
    {
     "name": "stdout",
     "output_type": "stream",
     "text": [
      "194202\n",
      "499456\n",
      "101573\n",
      "53188\n",
      "5\n"
     ]
    }
   ],
   "source": [
    "# 2\n",
    "get_group_a_seg_2(gcoin_skin_df_4, wsus_pu_list_4)"
   ]
  },
  {
   "cell_type": "code",
   "execution_count": 121,
   "metadata": {},
   "outputs": [
    {
     "name": "stdout",
     "output_type": "stream",
     "text": [
      "587314\n",
      "515861\n",
      "3379\n",
      "159\n",
      "2\n"
     ]
    }
   ],
   "source": [
    "# 3\n",
    "get_group_a_seg_3(gcoin_skin_df_2, wsus_pu_list_2)"
   ]
  },
  {
   "cell_type": "code",
   "execution_count": 122,
   "metadata": {},
   "outputs": [
    {
     "name": "stdout",
     "output_type": "stream",
     "text": [
      "521734\n",
      "359521\n",
      "14613\n",
      "1705\n",
      "2\n"
     ]
    }
   ],
   "source": [
    "# 3\n",
    "get_group_a_seg_3(gcoin_skin_df_3, wsus_pu_list_3)"
   ]
  },
  {
   "cell_type": "code",
   "execution_count": 123,
   "metadata": {},
   "outputs": [
    {
     "name": "stdout",
     "output_type": "stream",
     "text": [
      "378981\n",
      "416250\n",
      "48150\n",
      "5038\n",
      "5\n"
     ]
    }
   ],
   "source": [
    "# 3\n",
    "get_group_a_seg_3(gcoin_skin_df_4, wsus_pu_list_4)"
   ]
  },
  {
   "cell_type": "code",
   "execution_count": 113,
   "metadata": {},
   "outputs": [
    {
     "name": "stdout",
     "output_type": "stream",
     "text": [
      "587314\n",
      "478343\n",
      "40897\n",
      "159\n",
      "2\n"
     ]
    }
   ],
   "source": [
    "# 4\n",
    "get_group_a_seg_4(gcoin_skin_df_2, wsus_pu_list_2)"
   ]
  },
  {
   "cell_type": "markdown",
   "metadata": {},
   "source": [
    "Gatcha (WSUS PU)"
   ]
  },
  {
   "cell_type": "code",
   "execution_count": 38,
   "metadata": {},
   "outputs": [],
   "source": [
    "wsus_skin_df = gcoin_skin_df_2[(gcoin_skin_df_2.account_id.isin(wsus_pu_list_2))]"
   ]
  },
  {
   "cell_type": "code",
   "execution_count": 39,
   "metadata": {},
   "outputs": [],
   "source": [
    "wsus_cnt = gcoin_wsus_df_2.price.apply(lambda x: 10 if x == 1800 else 1)\n",
    "gcoin_wsus_df_2[\"wsus_cnt\"] = wsus_cnt"
   ]
  },
  {
   "cell_type": "code",
   "execution_count": 40,
   "metadata": {},
   "outputs": [],
   "source": [
    "wsus_user_skin_use = wsus_skin_df.groupby(\"account_id\", as_index=False)[\"price\"].sum()\n",
    "wsus_user_wsus_use = gcoin_wsus_df_2.groupby(\"account_id\", as_index=False)[[\"price\", \"wsus_cnt\"]].sum()\n",
    "wsus_user_skin_use.columns=[\"account_id\", \"skin_use\"]\n",
    "wsus_user_wsus_use.columns = [\"account_id\", \"wsus_use\", \"wsus_cnt\"]\n",
    "wsus_user_use = pd.merge(wsus_user_skin_use, wsus_user_wsus_use, on=\"account_id\", how=\"outer\")"
   ]
  },
  {
   "cell_type": "code",
   "execution_count": 41,
   "metadata": {},
   "outputs": [],
   "source": [
    "wsus_user_use[\"rate\"] = (wsus_user_use.wsus_use/wsus_user_use.skin_use)"
   ]
  },
  {
   "cell_type": "code",
   "execution_count": 42,
   "metadata": {},
   "outputs": [
    {
     "data": {
      "text/plain": [
       "992939"
      ]
     },
     "execution_count": 42,
     "metadata": {},
     "output_type": "execute_result"
    }
   ],
   "source": [
    "# wsus 구매하지만 costume은 사지않는 유저\n",
    "wsus_user_use[wsus_user_use.rate.isna()].account_id.nunique()"
   ]
  },
  {
   "cell_type": "code",
   "execution_count": 43,
   "metadata": {},
   "outputs": [
    {
     "data": {
      "text/plain": [
       "323431"
      ]
     },
     "execution_count": 43,
     "metadata": {},
     "output_type": "execute_result"
    }
   ],
   "source": [
    "# wsus, costume 둘다 구매하는 유저\n",
    "wsus_user_use[~wsus_user_use.rate.isna()].account_id.nunique()"
   ]
  },
  {
   "cell_type": "code",
   "execution_count": 45,
   "metadata": {},
   "outputs": [
    {
     "data": {
      "text/plain": [
       "3.0700180254830243"
      ]
     },
     "execution_count": 45,
     "metadata": {},
     "output_type": "execute_result"
    }
   ],
   "source": [
    "992939/323431"
   ]
  },
  {
   "cell_type": "code",
   "execution_count": 44,
   "metadata": {},
   "outputs": [
    {
     "data": {
      "text/html": [
       "<div>\n",
       "<style scoped>\n",
       "    .dataframe tbody tr th:only-of-type {\n",
       "        vertical-align: middle;\n",
       "    }\n",
       "\n",
       "    .dataframe tbody tr th {\n",
       "        vertical-align: top;\n",
       "    }\n",
       "\n",
       "    .dataframe thead th {\n",
       "        text-align: right;\n",
       "    }\n",
       "</style>\n",
       "<table border=\"1\" class=\"dataframe\">\n",
       "  <thead>\n",
       "    <tr style=\"text-align: right;\">\n",
       "      <th></th>\n",
       "      <th>skin_use</th>\n",
       "      <th>wsus_use</th>\n",
       "      <th>wsus_cnt</th>\n",
       "      <th>rate</th>\n",
       "    </tr>\n",
       "  </thead>\n",
       "  <tbody>\n",
       "    <tr>\n",
       "      <th>count</th>\n",
       "      <td>323431.000000</td>\n",
       "      <td>323431.000000</td>\n",
       "      <td>323431.000000</td>\n",
       "      <td>323431.000000</td>\n",
       "    </tr>\n",
       "    <tr>\n",
       "      <th>mean</th>\n",
       "      <td>1012.817046</td>\n",
       "      <td>3231.318581</td>\n",
       "      <td>17.632537</td>\n",
       "      <td>4.571701</td>\n",
       "    </tr>\n",
       "    <tr>\n",
       "      <th>std</th>\n",
       "      <td>1213.182221</td>\n",
       "      <td>12908.559034</td>\n",
       "      <td>71.550183</td>\n",
       "      <td>25.577803</td>\n",
       "    </tr>\n",
       "    <tr>\n",
       "      <th>min</th>\n",
       "      <td>40.000000</td>\n",
       "      <td>200.000000</td>\n",
       "      <td>1.000000</td>\n",
       "      <td>0.010828</td>\n",
       "    </tr>\n",
       "    <tr>\n",
       "      <th>25%</th>\n",
       "      <td>390.000000</td>\n",
       "      <td>200.000000</td>\n",
       "      <td>1.000000</td>\n",
       "      <td>0.310078</td>\n",
       "    </tr>\n",
       "    <tr>\n",
       "      <th>50%</th>\n",
       "      <td>750.000000</td>\n",
       "      <td>400.000000</td>\n",
       "      <td>2.000000</td>\n",
       "      <td>0.800000</td>\n",
       "    </tr>\n",
       "    <tr>\n",
       "      <th>75%</th>\n",
       "      <td>1290.000000</td>\n",
       "      <td>1200.000000</td>\n",
       "      <td>6.000000</td>\n",
       "      <td>2.400000</td>\n",
       "    </tr>\n",
       "    <tr>\n",
       "      <th>max</th>\n",
       "      <td>56080.000000</td>\n",
       "      <td>491400.000000</td>\n",
       "      <td>2730.000000</td>\n",
       "      <td>3722.857143</td>\n",
       "    </tr>\n",
       "  </tbody>\n",
       "</table>\n",
       "</div>"
      ],
      "text/plain": [
       "            skin_use       wsus_use       wsus_cnt           rate\n",
       "count  323431.000000  323431.000000  323431.000000  323431.000000\n",
       "mean     1012.817046    3231.318581      17.632537       4.571701\n",
       "std      1213.182221   12908.559034      71.550183      25.577803\n",
       "min        40.000000     200.000000       1.000000       0.010828\n",
       "25%       390.000000     200.000000       1.000000       0.310078\n",
       "50%       750.000000     400.000000       2.000000       0.800000\n",
       "75%      1290.000000    1200.000000       6.000000       2.400000\n",
       "max     56080.000000  491400.000000    2730.000000    3722.857143"
      ]
     },
     "execution_count": 44,
     "metadata": {},
     "output_type": "execute_result"
    }
   ],
   "source": [
    "wsus_user_use[~wsus_user_use.rate.isna()].describe()"
   ]
  },
  {
   "cell_type": "code",
   "execution_count": 176,
   "metadata": {},
   "outputs": [
    {
     "data": {
      "text/plain": [
       "<matplotlib.axes._subplots.AxesSubplot at 0x7f4f00101898>"
      ]
     },
     "execution_count": 176,
     "metadata": {},
     "output_type": "execute_result"
    },
    {
     "data": {
      "image/png": "[encoded data removed]",
      "text/plain": [
       "<Figure size 432x288 with 1 Axes>"
      ]
     },
     "metadata": {
      "needs_background": "light"
     },
     "output_type": "display_data"
    }
   ],
   "source": [
    "wsus_user_use[~wsus_user_use.rate.isna()].groupby(\"wsus_cnt\")[\"account_id\"].count().reset_index().boxplot(\"wsus_cnt\")"
   ]
  },
  {
   "cell_type": "code",
   "execution_count": 72,
   "metadata": {},
   "outputs": [
    {
     "name": "stderr",
     "output_type": "stream",
     "text": [
      "/opt/conda/lib/python3.6/site-packages/ipykernel_launcher.py:19: SettingWithCopyWarning: \n",
      "A value is trying to be set on a copy of a slice from a DataFrame.\n",
      "Try using .loc[row_indexer,col_indexer] = value instead\n",
      "\n",
      "See the caveats in the documentation: http://pandas.pydata.org/pandas-docs/stable/indexing.html#indexing-view-versus-copy\n"
     ]
    }
   ],
   "source": [
    "import numpy as np\n",
    "costume_wsus = wsus_user_use[~wsus_user_use.rate.isna()]\n",
    "costume_user_group = np.where(\n",
    "    costume_wsus[\"wsus_cnt\"].between(1, 3), 1,\n",
    "    np.where(\n",
    "        costume_wsus[\"wsus_cnt\"].between(4, 15), 3,\n",
    "        np.where(\n",
    "            costume_wsus[\"wsus_cnt\"].between(16, 30), 7,\n",
    "            np.where(\n",
    "                costume_wsus[\"wsus_cnt\"].between(31, 240), 45,\n",
    "                np.where(\n",
    "                    costume_wsus[\"wsus_cnt\"] >= 241, 100, 0\n",
    "                )\n",
    "            )\n",
    "        )\n",
    "    )\n",
    ")\n",
    "\n",
    "costume_wsus[\"group\"] = costume_user_group"
   ]
  },
  {
   "cell_type": "code",
   "execution_count": 73,
   "metadata": {},
   "outputs": [
    {
     "data": {
      "text/html": [
       "<div>\n",
       "<style scoped>\n",
       "    .dataframe tbody tr th:only-of-type {\n",
       "        vertical-align: middle;\n",
       "    }\n",
       "\n",
       "    .dataframe tbody tr th {\n",
       "        vertical-align: top;\n",
       "    }\n",
       "\n",
       "    .dataframe thead th {\n",
       "        text-align: right;\n",
       "    }\n",
       "</style>\n",
       "<table border=\"1\" class=\"dataframe\">\n",
       "  <thead>\n",
       "    <tr style=\"text-align: right;\">\n",
       "      <th></th>\n",
       "      <th>group</th>\n",
       "      <th>account_id</th>\n",
       "    </tr>\n",
       "  </thead>\n",
       "  <tbody>\n",
       "    <tr>\n",
       "      <th>0</th>\n",
       "      <td>1</td>\n",
       "      <td>205405</td>\n",
       "    </tr>\n",
       "    <tr>\n",
       "      <th>1</th>\n",
       "      <td>3</td>\n",
       "      <td>74621</td>\n",
       "    </tr>\n",
       "    <tr>\n",
       "      <th>2</th>\n",
       "      <td>7</td>\n",
       "      <td>13994</td>\n",
       "    </tr>\n",
       "    <tr>\n",
       "      <th>3</th>\n",
       "      <td>45</td>\n",
       "      <td>24307</td>\n",
       "    </tr>\n",
       "    <tr>\n",
       "      <th>4</th>\n",
       "      <td>100</td>\n",
       "      <td>5104</td>\n",
       "    </tr>\n",
       "  </tbody>\n",
       "</table>\n",
       "</div>"
      ],
      "text/plain": [
       "   group  account_id\n",
       "0      1      205405\n",
       "1      3       74621\n",
       "2      7       13994\n",
       "3     45       24307\n",
       "4    100        5104"
      ]
     },
     "execution_count": 73,
     "metadata": {},
     "output_type": "execute_result"
    }
   ],
   "source": [
    "costume_wsus.groupby(\"group\", as_index=False)[\"account_id\"].count()"
   ]
  },
  {
   "cell_type": "code",
   "execution_count": 141,
   "metadata": {},
   "outputs": [
    {
     "data": {
      "text/html": [
       "<div>\n",
       "<style scoped>\n",
       "    .dataframe tbody tr th:only-of-type {\n",
       "        vertical-align: middle;\n",
       "    }\n",
       "\n",
       "    .dataframe tbody tr th {\n",
       "        vertical-align: top;\n",
       "    }\n",
       "\n",
       "    .dataframe thead th {\n",
       "        text-align: right;\n",
       "    }\n",
       "</style>\n",
       "<table border=\"1\" class=\"dataframe\">\n",
       "  <thead>\n",
       "    <tr style=\"text-align: right;\">\n",
       "      <th></th>\n",
       "      <th>skin_use</th>\n",
       "      <th>wsus_use</th>\n",
       "      <th>wsus_cnt</th>\n",
       "      <th>rate</th>\n",
       "    </tr>\n",
       "  </thead>\n",
       "  <tbody>\n",
       "    <tr>\n",
       "      <th>count</th>\n",
       "      <td>0.0</td>\n",
       "      <td>1.122319e+06</td>\n",
       "      <td>1.122319e+06</td>\n",
       "      <td>0.0</td>\n",
       "    </tr>\n",
       "    <tr>\n",
       "      <th>mean</th>\n",
       "      <td>NaN</td>\n",
       "      <td>1.726857e+03</td>\n",
       "      <td>9.319467e+00</td>\n",
       "      <td>NaN</td>\n",
       "    </tr>\n",
       "    <tr>\n",
       "      <th>std</th>\n",
       "      <td>NaN</td>\n",
       "      <td>6.956938e+03</td>\n",
       "      <td>3.854830e+01</td>\n",
       "      <td>NaN</td>\n",
       "    </tr>\n",
       "    <tr>\n",
       "      <th>min</th>\n",
       "      <td>NaN</td>\n",
       "      <td>2.000000e+02</td>\n",
       "      <td>1.000000e+00</td>\n",
       "      <td>NaN</td>\n",
       "    </tr>\n",
       "    <tr>\n",
       "      <th>25%</th>\n",
       "      <td>NaN</td>\n",
       "      <td>2.000000e+02</td>\n",
       "      <td>1.000000e+00</td>\n",
       "      <td>NaN</td>\n",
       "    </tr>\n",
       "    <tr>\n",
       "      <th>50%</th>\n",
       "      <td>NaN</td>\n",
       "      <td>4.000000e+02</td>\n",
       "      <td>2.000000e+00</td>\n",
       "      <td>NaN</td>\n",
       "    </tr>\n",
       "    <tr>\n",
       "      <th>75%</th>\n",
       "      <td>NaN</td>\n",
       "      <td>1.800000e+03</td>\n",
       "      <td>1.000000e+01</td>\n",
       "      <td>NaN</td>\n",
       "    </tr>\n",
       "    <tr>\n",
       "      <th>max</th>\n",
       "      <td>NaN</td>\n",
       "      <td>7.374000e+05</td>\n",
       "      <td>4.096000e+03</td>\n",
       "      <td>NaN</td>\n",
       "    </tr>\n",
       "  </tbody>\n",
       "</table>\n",
       "</div>"
      ],
      "text/plain": [
       "       skin_use      wsus_use      wsus_cnt  rate\n",
       "count       0.0  1.122319e+06  1.122319e+06   0.0\n",
       "mean        NaN  1.726857e+03  9.319467e+00   NaN\n",
       "std         NaN  6.956938e+03  3.854830e+01   NaN\n",
       "min         NaN  2.000000e+02  1.000000e+00   NaN\n",
       "25%         NaN  2.000000e+02  1.000000e+00   NaN\n",
       "50%         NaN  4.000000e+02  2.000000e+00   NaN\n",
       "75%         NaN  1.800000e+03  1.000000e+01   NaN\n",
       "max         NaN  7.374000e+05  4.096000e+03   NaN"
      ]
     },
     "execution_count": 141,
     "metadata": {},
     "output_type": "execute_result"
    }
   ],
   "source": [
    "wsus_user_use[wsus_user_use.rate.isna()].describe()"
   ]
  },
  {
   "cell_type": "code",
   "execution_count": 177,
   "metadata": {},
   "outputs": [
    {
     "data": {
      "text/plain": [
       "<matplotlib.axes._subplots.AxesSubplot at 0x7f4f00645ba8>"
      ]
     },
     "execution_count": 177,
     "metadata": {},
     "output_type": "execute_result"
    },
    {
     "data": {
      "image/png": "[encoded data removed]",
      "text/plain": [
       "<Figure size 432x288 with 1 Axes>"
      ]
     },
     "metadata": {
      "needs_background": "light"
     },
     "output_type": "display_data"
    }
   ],
   "source": [
    "wsus_user_use[wsus_user_use.rate.isna()].groupby(\"wsus_cnt\")[\"account_id\"].count().reset_index().boxplot(\"wsus_cnt\")"
   ]
  },
  {
   "cell_type": "code",
   "execution_count": 74,
   "metadata": {},
   "outputs": [
    {
     "name": "stderr",
     "output_type": "stream",
     "text": [
      "/opt/conda/lib/python3.6/site-packages/ipykernel_launcher.py:18: SettingWithCopyWarning: \n",
      "A value is trying to be set on a copy of a slice from a DataFrame.\n",
      "Try using .loc[row_indexer,col_indexer] = value instead\n",
      "\n",
      "See the caveats in the documentation: http://pandas.pydata.org/pandas-docs/stable/indexing.html#indexing-view-versus-copy\n"
     ]
    }
   ],
   "source": [
    "no_costume_wsus = wsus_user_use[wsus_user_use.rate.isna()]\n",
    "no_costume_user_group = np.where(\n",
    "    no_costume_wsus[\"wsus_cnt\"].between(1, 10), 1,\n",
    "    np.where(\n",
    "        no_costume_wsus[\"wsus_cnt\"].between(11, 50), 3,\n",
    "        np.where(\n",
    "            no_costume_wsus[\"wsus_cnt\"].between(51, 100), 7,\n",
    "            np.where(\n",
    "                no_costume_wsus[\"wsus_cnt\"].between(101, 800), 45,\n",
    "                np.where(\n",
    "                    no_costume_wsus[\"wsus_cnt\"] >= 801, 100, 0\n",
    "                )\n",
    "            )\n",
    "        )\n",
    "    )\n",
    ")\n",
    "\n",
    "no_costume_wsus[\"group\"] = no_costume_user_group"
   ]
  },
  {
   "cell_type": "code",
   "execution_count": 75,
   "metadata": {},
   "outputs": [
    {
     "data": {
      "text/html": [
       "<div>\n",
       "<style scoped>\n",
       "    .dataframe tbody tr th:only-of-type {\n",
       "        vertical-align: middle;\n",
       "    }\n",
       "\n",
       "    .dataframe tbody tr th {\n",
       "        vertical-align: top;\n",
       "    }\n",
       "\n",
       "    .dataframe thead th {\n",
       "        text-align: right;\n",
       "    }\n",
       "</style>\n",
       "<table border=\"1\" class=\"dataframe\">\n",
       "  <thead>\n",
       "    <tr style=\"text-align: right;\">\n",
       "      <th></th>\n",
       "      <th>group</th>\n",
       "      <th>account_id</th>\n",
       "    </tr>\n",
       "  </thead>\n",
       "  <tbody>\n",
       "    <tr>\n",
       "      <th>0</th>\n",
       "      <td>1</td>\n",
       "      <td>905357</td>\n",
       "    </tr>\n",
       "    <tr>\n",
       "      <th>1</th>\n",
       "      <td>3</td>\n",
       "      <td>65960</td>\n",
       "    </tr>\n",
       "    <tr>\n",
       "      <th>2</th>\n",
       "      <td>7</td>\n",
       "      <td>11653</td>\n",
       "    </tr>\n",
       "    <tr>\n",
       "      <th>3</th>\n",
       "      <td>45</td>\n",
       "      <td>9716</td>\n",
       "    </tr>\n",
       "    <tr>\n",
       "      <th>4</th>\n",
       "      <td>100</td>\n",
       "      <td>253</td>\n",
       "    </tr>\n",
       "  </tbody>\n",
       "</table>\n",
       "</div>"
      ],
      "text/plain": [
       "   group  account_id\n",
       "0      1      905357\n",
       "1      3       65960\n",
       "2      7       11653\n",
       "3     45        9716\n",
       "4    100         253"
      ]
     },
     "execution_count": 75,
     "metadata": {},
     "output_type": "execute_result"
    }
   ],
   "source": [
    "no_costume_wsus.groupby(\"group\", as_index=False)[\"account_id\"].count()"
   ]
  },
  {
   "cell_type": "code",
   "execution_count": 214,
   "metadata": {},
   "outputs": [
    {
     "name": "stderr",
     "output_type": "stream",
     "text": [
      "/opt/conda/lib/python3.6/site-packages/ipykernel_launcher.py:18: SettingWithCopyWarning: \n",
      "A value is trying to be set on a copy of a slice from a DataFrame.\n",
      "Try using .loc[row_indexer,col_indexer] = value instead\n",
      "\n",
      "See the caveats in the documentation: http://pandas.pydata.org/pandas-docs/stable/indexing.html#indexing-view-versus-copy\n"
     ]
    }
   ],
   "source": [
    "no_costume_wsus = wsus_user_use[wsus_user_use.rate.isna()]\n",
    "no_costume_user_group = np.where(\n",
    "    no_costume_wsus[\"wsus_cnt\"].between(1, 20), 1,\n",
    "    np.where(\n",
    "        no_costume_wsus[\"wsus_cnt\"].between(21, 100), 3,\n",
    "        np.where(\n",
    "            no_costume_wsus[\"wsus_cnt\"].between(101, 200), 7,\n",
    "            np.where(\n",
    "                no_costume_wsus[\"wsus_cnt\"].between(201, 1599), 45,\n",
    "                np.where(\n",
    "                    no_costume_wsus[\"wsus_cnt\"] >= 1601, 100, 0\n",
    "                )\n",
    "            )\n",
    "        )\n",
    "    )\n",
    ")\n",
    "\n",
    "no_costume_wsus[\"group\"] = no_costume_user_group"
   ]
  },
  {
   "cell_type": "code",
   "execution_count": 215,
   "metadata": {},
   "outputs": [
    {
     "data": {
      "text/html": [
       "<div>\n",
       "<style scoped>\n",
       "    .dataframe tbody tr th:only-of-type {\n",
       "        vertical-align: middle;\n",
       "    }\n",
       "\n",
       "    .dataframe tbody tr th {\n",
       "        vertical-align: top;\n",
       "    }\n",
       "\n",
       "    .dataframe thead th {\n",
       "        text-align: right;\n",
       "    }\n",
       "</style>\n",
       "<table border=\"1\" class=\"dataframe\">\n",
       "  <thead>\n",
       "    <tr style=\"text-align: right;\">\n",
       "      <th></th>\n",
       "      <th>group</th>\n",
       "      <th>account_id</th>\n",
       "    </tr>\n",
       "  </thead>\n",
       "  <tbody>\n",
       "    <tr>\n",
       "      <th>0</th>\n",
       "      <td>1</td>\n",
       "      <td>1063849</td>\n",
       "    </tr>\n",
       "    <tr>\n",
       "      <th>1</th>\n",
       "      <td>3</td>\n",
       "      <td>43935</td>\n",
       "    </tr>\n",
       "    <tr>\n",
       "      <th>2</th>\n",
       "      <td>7</td>\n",
       "      <td>8628</td>\n",
       "    </tr>\n",
       "    <tr>\n",
       "      <th>3</th>\n",
       "      <td>45</td>\n",
       "      <td>5877</td>\n",
       "    </tr>\n",
       "    <tr>\n",
       "      <th>4</th>\n",
       "      <td>100</td>\n",
       "      <td>30</td>\n",
       "    </tr>\n",
       "  </tbody>\n",
       "</table>\n",
       "</div>"
      ],
      "text/plain": [
       "   group  account_id\n",
       "0      1     1063849\n",
       "1      3       43935\n",
       "2      7        8628\n",
       "3     45        5877\n",
       "4    100          30"
      ]
     },
     "execution_count": 215,
     "metadata": {},
     "output_type": "execute_result"
    }
   ],
   "source": [
    "no_costume_wsus.groupby(\"group\", as_index=False)[\"account_id\"].count()"
   ]
  },
  {
   "cell_type": "code",
   "execution_count": null,
   "metadata": {},
   "outputs": [],
   "source": []
  },
  {
   "cell_type": "markdown",
   "metadata": {},
   "source": [
    "## 2022-March"
   ]
  },
  {
   "cell_type": "code",
   "execution_count": 47,
   "metadata": {},
   "outputs": [],
   "source": [
    "gcoin_3 = load_data_mart(\"pc\", \"2022-03-01\", \"2022-03-31\", \"gcoin_use\")"
   ]
  },
  {
   "cell_type": "code",
   "execution_count": 94,
   "metadata": {},
   "outputs": [],
   "source": [
    "gcoin_skin_3 = gcoin_3.where((col(\"sub_category\").isin([\"costume\", \"gear\", \"vehicle\"])))"
   ]
  },
  {
   "cell_type": "code",
   "execution_count": 96,
   "metadata": {},
   "outputs": [],
   "source": [
    "gcoin_skin_df_3 = gcoin_skin_3.toPandas()\n",
    "gcoin_skin_df_3.to_csv(\"../Data/gcoin_skin_df_3.csv\", index=False)"
   ]
  },
  {
   "cell_type": "code",
   "execution_count": 48,
   "metadata": {},
   "outputs": [],
   "source": [
    "gcoin_crate_3 = gcoin_3.where((col(\"sub_category\") == \"crate\") & (~lower(col(\"event_name\")).like(\"%wsus%\")))\n",
    "gcoin_crate_df_3 = gcoin_crate_3.toPandas()\n",
    "gcoin_crate_df_3.to_csv(\"../Data/gcoin_crate_df_3.csv\", index=False)"
   ]
  },
  {
   "cell_type": "code",
   "execution_count": 50,
   "metadata": {},
   "outputs": [
    {
     "name": "stderr",
     "output_type": "stream",
     "text": [
      "/opt/conda/lib/python3.6/site-packages/IPython/core/interactiveshell.py:3058: DtypeWarning: Columns (16,19,33) have mixed types. Specify dtype option on import or set low_memory=False.\n",
      "  interactivity=interactivity, compiler=compiler, result=result)\n"
     ]
    }
   ],
   "source": [
    "gcoin_skin_df_3 = pd.read_csv(\"../Data/gcoin_skin_df_3.csv\")\n",
    "gcoin_skin_df_3 = pd.concat([gcoin_skin_df_3, gcoin_crate_df_3])"
   ]
  },
  {
   "cell_type": "code",
   "execution_count": 97,
   "metadata": {},
   "outputs": [],
   "source": [
    "# gcoin_wsus_df_3 = gcoin_3.where((col(\"event_name\").like(\"%wsus%\"))).toPandas()\n",
    "# gcoin_wsus_df_3.to_csv(\"../Data/gcoin_wsus_df_3.csv\", index=False)"
   ]
  },
  {
   "cell_type": "code",
   "execution_count": 49,
   "metadata": {},
   "outputs": [],
   "source": [
    "gcoin_wsus_df_3 = pd.read_csv(\"../Data/gcoin_wsus_df_3.csv\")\n",
    "wsus_pu_list_3 = gcoin_wsus_df_3.account_id.unique().tolist()"
   ]
  },
  {
   "cell_type": "markdown",
   "metadata": {},
   "source": [
    "NEW GATCHA"
   ]
  },
  {
   "cell_type": "code",
   "execution_count": 111,
   "metadata": {},
   "outputs": [],
   "source": [
    "no_wsus_df3 = gcoin_skin_df_3[(~gcoin_skin_df_3.account_id.isin(wsus_pu_list_3))]"
   ]
  },
  {
   "cell_type": "code",
   "execution_count": 113,
   "metadata": {},
   "outputs": [],
   "source": [
    "set_pu3 = no_wsus_df3[no_wsus_df3.price >= 800].account_id.unique().tolist()"
   ]
  },
  {
   "cell_type": "code",
   "execution_count": 114,
   "metadata": {},
   "outputs": [],
   "source": [
    "user_set_buy_cnt3 = no_wsus_df3[(no_wsus_df3.account_id.isin(set_pu3)) & (no_wsus_df3.price >= 800)]\\\n",
    "    .groupby(\"account_id\", as_index=False)[\"product_name\"].count()\n",
    "user_set_buy_cnt3.columns = [\"account_id\", \"buy_cnt\"]"
   ]
  },
  {
   "cell_type": "code",
   "execution_count": 115,
   "metadata": {},
   "outputs": [
    {
     "data": {
      "text/plain": [
       "buy_cnt\n",
       "1    31015\n",
       "2      430\n",
       "3       23\n",
       "4        5\n",
       "5        2\n",
       "Name: account_id, dtype: int64"
      ]
     },
     "execution_count": 115,
     "metadata": {},
     "output_type": "execute_result"
    }
   ],
   "source": [
    "user_set_buy_cnt3.groupby(\"buy_cnt\")[\"account_id\"].count()"
   ]
  },
  {
   "cell_type": "code",
   "execution_count": 116,
   "metadata": {},
   "outputs": [],
   "source": [
    "no_set_user_buy_cnt3 = no_wsus_df3[(~no_wsus_df3.account_id.isin(set_pu3)) & (no_wsus_df3.price < 800)]\\\n",
    "    .groupby(\"account_id\", as_index=False)[\"product_name\"].count()\n",
    "no_set_user_buy_cnt3.columns = [\"account_id\", \"buy_cnt\"]"
   ]
  },
  {
   "cell_type": "code",
   "execution_count": 117,
   "metadata": {},
   "outputs": [
    {
     "data": {
      "text/html": [
       "<div>\n",
       "<style scoped>\n",
       "    .dataframe tbody tr th:only-of-type {\n",
       "        vertical-align: middle;\n",
       "    }\n",
       "\n",
       "    .dataframe tbody tr th {\n",
       "        vertical-align: top;\n",
       "    }\n",
       "\n",
       "    .dataframe thead th {\n",
       "        text-align: right;\n",
       "    }\n",
       "</style>\n",
       "<table border=\"1\" class=\"dataframe\">\n",
       "  <thead>\n",
       "    <tr style=\"text-align: right;\">\n",
       "      <th></th>\n",
       "      <th>buy_cnt</th>\n",
       "      <th>account_id</th>\n",
       "    </tr>\n",
       "  </thead>\n",
       "  <tbody>\n",
       "    <tr>\n",
       "      <th>0</th>\n",
       "      <td>1</td>\n",
       "      <td>250977</td>\n",
       "    </tr>\n",
       "    <tr>\n",
       "      <th>1</th>\n",
       "      <td>2</td>\n",
       "      <td>64385</td>\n",
       "    </tr>\n",
       "    <tr>\n",
       "      <th>2</th>\n",
       "      <td>3</td>\n",
       "      <td>12620</td>\n",
       "    </tr>\n",
       "    <tr>\n",
       "      <th>3</th>\n",
       "      <td>4</td>\n",
       "      <td>3739</td>\n",
       "    </tr>\n",
       "    <tr>\n",
       "      <th>4</th>\n",
       "      <td>5</td>\n",
       "      <td>1028</td>\n",
       "    </tr>\n",
       "    <tr>\n",
       "      <th>5</th>\n",
       "      <td>6</td>\n",
       "      <td>269</td>\n",
       "    </tr>\n",
       "    <tr>\n",
       "      <th>6</th>\n",
       "      <td>7</td>\n",
       "      <td>91</td>\n",
       "    </tr>\n",
       "    <tr>\n",
       "      <th>7</th>\n",
       "      <td>8</td>\n",
       "      <td>33</td>\n",
       "    </tr>\n",
       "    <tr>\n",
       "      <th>8</th>\n",
       "      <td>9</td>\n",
       "      <td>17</td>\n",
       "    </tr>\n",
       "    <tr>\n",
       "      <th>9</th>\n",
       "      <td>10</td>\n",
       "      <td>4</td>\n",
       "    </tr>\n",
       "    <tr>\n",
       "      <th>10</th>\n",
       "      <td>11</td>\n",
       "      <td>6</td>\n",
       "    </tr>\n",
       "    <tr>\n",
       "      <th>11</th>\n",
       "      <td>12</td>\n",
       "      <td>1</td>\n",
       "    </tr>\n",
       "    <tr>\n",
       "      <th>12</th>\n",
       "      <td>13</td>\n",
       "      <td>3</td>\n",
       "    </tr>\n",
       "    <tr>\n",
       "      <th>13</th>\n",
       "      <td>14</td>\n",
       "      <td>1</td>\n",
       "    </tr>\n",
       "  </tbody>\n",
       "</table>\n",
       "</div>"
      ],
      "text/plain": [
       "    buy_cnt  account_id\n",
       "0         1      250977\n",
       "1         2       64385\n",
       "2         3       12620\n",
       "3         4        3739\n",
       "4         5        1028\n",
       "5         6         269\n",
       "6         7          91\n",
       "7         8          33\n",
       "8         9          17\n",
       "9        10           4\n",
       "10       11           6\n",
       "11       12           1\n",
       "12       13           3\n",
       "13       14           1"
      ]
     },
     "execution_count": 117,
     "metadata": {},
     "output_type": "execute_result"
    }
   ],
   "source": [
    "no_set_user_buy_cnt3.groupby(\"buy_cnt\")[\"account_id\"].count().reset_index()"
   ]
  },
  {
   "cell_type": "code",
   "execution_count": null,
   "metadata": {},
   "outputs": [],
   "source": []
  },
  {
   "cell_type": "code",
   "execution_count": 96,
   "metadata": {},
   "outputs": [
    {
     "name": "stdout",
     "output_type": "stream",
     "text": [
      "223668\n",
      "465901\n",
      "124111\n",
      "83848\n",
      "47\n"
     ]
    }
   ],
   "source": [
    "get_group_a_seg(gcoin_skin_df_3, wsus_pu_list_3)"
   ]
  },
  {
   "cell_type": "markdown",
   "metadata": {},
   "source": [
    "Gatcha (WSUS PU)"
   ]
  },
  {
   "cell_type": "code",
   "execution_count": 51,
   "metadata": {},
   "outputs": [],
   "source": [
    "wsus_skin_df3 = gcoin_skin_df_3[(gcoin_skin_df_3.account_id.isin(wsus_pu_list_3))]"
   ]
  },
  {
   "cell_type": "code",
   "execution_count": 52,
   "metadata": {},
   "outputs": [],
   "source": [
    "wsus_cnt = gcoin_wsus_df_3.price.apply(lambda x: 10 if x == 1800 else 1)\n",
    "gcoin_wsus_df_3[\"wsus_cnt\"] = wsus_cnt"
   ]
  },
  {
   "cell_type": "code",
   "execution_count": 53,
   "metadata": {},
   "outputs": [],
   "source": [
    "wsus_user_skin_use3 = wsus_skin_df3.groupby(\"account_id\", as_index=False)[\"price\"].sum()\n",
    "wsus_user_wsus_use3 = gcoin_wsus_df_3.groupby(\"account_id\", as_index=False)[[\"price\", \"wsus_cnt\"]].sum()\n",
    "wsus_user_skin_use3.columns=[\"account_id\", \"skin_use\"]\n",
    "wsus_user_wsus_use3.columns = [\"account_id\", \"wsus_use\", \"wsus_cnt\"]\n",
    "wsus_user_use3 = pd.merge(wsus_user_skin_use3, wsus_user_wsus_use3, on=\"account_id\", how=\"outer\")"
   ]
  },
  {
   "cell_type": "code",
   "execution_count": 54,
   "metadata": {},
   "outputs": [],
   "source": [
    "wsus_user_use3[\"rate\"] = (wsus_user_use3.wsus_use/wsus_user_use3.skin_use)"
   ]
  },
  {
   "cell_type": "code",
   "execution_count": 55,
   "metadata": {},
   "outputs": [
    {
     "data": {
      "text/plain": [
       "661361"
      ]
     },
     "execution_count": 55,
     "metadata": {},
     "output_type": "execute_result"
    }
   ],
   "source": [
    "# wsus 구매하지만 costume은 사지않는 유저\n",
    "wsus_user_use3[wsus_user_use3.rate.isna()].account_id.nunique()"
   ]
  },
  {
   "cell_type": "code",
   "execution_count": 56,
   "metadata": {},
   "outputs": [
    {
     "data": {
      "text/plain": [
       "315446"
      ]
     },
     "execution_count": 56,
     "metadata": {},
     "output_type": "execute_result"
    }
   ],
   "source": [
    "# wsus, costume 둘다 구매하는 유저\n",
    "wsus_user_use3[~wsus_user_use3.rate.isna()].account_id.nunique()"
   ]
  },
  {
   "cell_type": "code",
   "execution_count": 58,
   "metadata": {},
   "outputs": [
    {
     "data": {
      "text/plain": [
       "2.096590224634327"
      ]
     },
     "execution_count": 58,
     "metadata": {},
     "output_type": "execute_result"
    }
   ],
   "source": [
    "661361/315446"
   ]
  },
  {
   "cell_type": "code",
   "execution_count": 57,
   "metadata": {},
   "outputs": [
    {
     "data": {
      "text/html": [
       "<div>\n",
       "<style scoped>\n",
       "    .dataframe tbody tr th:only-of-type {\n",
       "        vertical-align: middle;\n",
       "    }\n",
       "\n",
       "    .dataframe tbody tr th {\n",
       "        vertical-align: top;\n",
       "    }\n",
       "\n",
       "    .dataframe thead th {\n",
       "        text-align: right;\n",
       "    }\n",
       "</style>\n",
       "<table border=\"1\" class=\"dataframe\">\n",
       "  <thead>\n",
       "    <tr style=\"text-align: right;\">\n",
       "      <th></th>\n",
       "      <th>skin_use</th>\n",
       "      <th>wsus_use</th>\n",
       "      <th>wsus_cnt</th>\n",
       "      <th>rate</th>\n",
       "    </tr>\n",
       "  </thead>\n",
       "  <tbody>\n",
       "    <tr>\n",
       "      <th>count</th>\n",
       "      <td>315446.000000</td>\n",
       "      <td>315446.000000</td>\n",
       "      <td>315446.000000</td>\n",
       "      <td>315446.000000</td>\n",
       "    </tr>\n",
       "    <tr>\n",
       "      <th>mean</th>\n",
       "      <td>1850.408121</td>\n",
       "      <td>3870.135618</td>\n",
       "      <td>21.129531</td>\n",
       "      <td>2.394795</td>\n",
       "    </tr>\n",
       "    <tr>\n",
       "      <th>std</th>\n",
       "      <td>2118.568334</td>\n",
       "      <td>12534.809355</td>\n",
       "      <td>69.444956</td>\n",
       "      <td>11.169382</td>\n",
       "    </tr>\n",
       "    <tr>\n",
       "      <th>min</th>\n",
       "      <td>40.000000</td>\n",
       "      <td>200.000000</td>\n",
       "      <td>1.000000</td>\n",
       "      <td>0.007678</td>\n",
       "    </tr>\n",
       "    <tr>\n",
       "      <th>25%</th>\n",
       "      <td>990.000000</td>\n",
       "      <td>200.000000</td>\n",
       "      <td>1.000000</td>\n",
       "      <td>0.202020</td>\n",
       "    </tr>\n",
       "    <tr>\n",
       "      <th>50%</th>\n",
       "      <td>1000.000000</td>\n",
       "      <td>600.000000</td>\n",
       "      <td>3.000000</td>\n",
       "      <td>0.606061</td>\n",
       "    </tr>\n",
       "    <tr>\n",
       "      <th>75%</th>\n",
       "      <td>1990.000000</td>\n",
       "      <td>2000.000000</td>\n",
       "      <td>11.000000</td>\n",
       "      <td>1.750000</td>\n",
       "    </tr>\n",
       "    <tr>\n",
       "      <th>max</th>\n",
       "      <td>53120.000000</td>\n",
       "      <td>649600.000000</td>\n",
       "      <td>3608.000000</td>\n",
       "      <td>1563.333333</td>\n",
       "    </tr>\n",
       "  </tbody>\n",
       "</table>\n",
       "</div>"
      ],
      "text/plain": [
       "            skin_use       wsus_use       wsus_cnt           rate\n",
       "count  315446.000000  315446.000000  315446.000000  315446.000000\n",
       "mean     1850.408121    3870.135618      21.129531       2.394795\n",
       "std      2118.568334   12534.809355      69.444956      11.169382\n",
       "min        40.000000     200.000000       1.000000       0.007678\n",
       "25%       990.000000     200.000000       1.000000       0.202020\n",
       "50%      1000.000000     600.000000       3.000000       0.606061\n",
       "75%      1990.000000    2000.000000      11.000000       1.750000\n",
       "max     53120.000000  649600.000000    3608.000000    1563.333333"
      ]
     },
     "execution_count": 57,
     "metadata": {},
     "output_type": "execute_result"
    }
   ],
   "source": [
    "wsus_user_use3[~wsus_user_use3.rate.isna()].describe()"
   ]
  },
  {
   "cell_type": "code",
   "execution_count": 76,
   "metadata": {},
   "outputs": [
    {
     "name": "stderr",
     "output_type": "stream",
     "text": [
      "/opt/conda/lib/python3.6/site-packages/ipykernel_launcher.py:18: SettingWithCopyWarning: \n",
      "A value is trying to be set on a copy of a slice from a DataFrame.\n",
      "Try using .loc[row_indexer,col_indexer] = value instead\n",
      "\n",
      "See the caveats in the documentation: http://pandas.pydata.org/pandas-docs/stable/indexing.html#indexing-view-versus-copy\n"
     ]
    }
   ],
   "source": [
    "costume_wsus3 = wsus_user_use3[~wsus_user_use3.rate.isna()]\n",
    "costume_user_group3 = np.where(\n",
    "    costume_wsus3[\"wsus_cnt\"].between(1, 3), 1,\n",
    "    np.where(\n",
    "        costume_wsus3[\"wsus_cnt\"].between(4, 15), 3,\n",
    "        np.where(\n",
    "            costume_wsus3[\"wsus_cnt\"].between(16, 30), 7,\n",
    "            np.where(\n",
    "                costume_wsus3[\"wsus_cnt\"].between(31, 240), 45,\n",
    "                np.where(\n",
    "                    costume_wsus3[\"wsus_cnt\"] >= 241, 100, 0\n",
    "                )\n",
    "            )\n",
    "        )\n",
    "    )\n",
    ")\n",
    "\n",
    "costume_wsus3[\"group\"] = costume_user_group3"
   ]
  },
  {
   "cell_type": "code",
   "execution_count": 77,
   "metadata": {},
   "outputs": [
    {
     "data": {
      "text/html": [
       "<div>\n",
       "<style scoped>\n",
       "    .dataframe tbody tr th:only-of-type {\n",
       "        vertical-align: middle;\n",
       "    }\n",
       "\n",
       "    .dataframe tbody tr th {\n",
       "        vertical-align: top;\n",
       "    }\n",
       "\n",
       "    .dataframe thead th {\n",
       "        text-align: right;\n",
       "    }\n",
       "</style>\n",
       "<table border=\"1\" class=\"dataframe\">\n",
       "  <thead>\n",
       "    <tr style=\"text-align: right;\">\n",
       "      <th></th>\n",
       "      <th>group</th>\n",
       "      <th>account_id</th>\n",
       "    </tr>\n",
       "  </thead>\n",
       "  <tbody>\n",
       "    <tr>\n",
       "      <th>0</th>\n",
       "      <td>1</td>\n",
       "      <td>168020</td>\n",
       "    </tr>\n",
       "    <tr>\n",
       "      <th>1</th>\n",
       "      <td>3</td>\n",
       "      <td>83467</td>\n",
       "    </tr>\n",
       "    <tr>\n",
       "      <th>2</th>\n",
       "      <td>7</td>\n",
       "      <td>21863</td>\n",
       "    </tr>\n",
       "    <tr>\n",
       "      <th>3</th>\n",
       "      <td>45</td>\n",
       "      <td>37127</td>\n",
       "    </tr>\n",
       "    <tr>\n",
       "      <th>4</th>\n",
       "      <td>100</td>\n",
       "      <td>4969</td>\n",
       "    </tr>\n",
       "  </tbody>\n",
       "</table>\n",
       "</div>"
      ],
      "text/plain": [
       "   group  account_id\n",
       "0      1      168020\n",
       "1      3       83467\n",
       "2      7       21863\n",
       "3     45       37127\n",
       "4    100        4969"
      ]
     },
     "execution_count": 77,
     "metadata": {},
     "output_type": "execute_result"
    }
   ],
   "source": [
    "costume_wsus3.groupby(\"group\", as_index=False)[\"account_id\"].count()"
   ]
  },
  {
   "cell_type": "code",
   "execution_count": 154,
   "metadata": {},
   "outputs": [
    {
     "data": {
      "text/html": [
       "<div>\n",
       "<style scoped>\n",
       "    .dataframe tbody tr th:only-of-type {\n",
       "        vertical-align: middle;\n",
       "    }\n",
       "\n",
       "    .dataframe tbody tr th {\n",
       "        vertical-align: top;\n",
       "    }\n",
       "\n",
       "    .dataframe thead th {\n",
       "        text-align: right;\n",
       "    }\n",
       "</style>\n",
       "<table border=\"1\" class=\"dataframe\">\n",
       "  <thead>\n",
       "    <tr style=\"text-align: right;\">\n",
       "      <th></th>\n",
       "      <th>skin_use</th>\n",
       "      <th>wsus_use</th>\n",
       "      <th>wsus_cnt</th>\n",
       "      <th>rate</th>\n",
       "    </tr>\n",
       "  </thead>\n",
       "  <tbody>\n",
       "    <tr>\n",
       "      <th>count</th>\n",
       "      <td>0.0</td>\n",
       "      <td>859397.000000</td>\n",
       "      <td>859397.000000</td>\n",
       "      <td>0.0</td>\n",
       "    </tr>\n",
       "    <tr>\n",
       "      <th>mean</th>\n",
       "      <td>NaN</td>\n",
       "      <td>1642.679460</td>\n",
       "      <td>8.843404</td>\n",
       "      <td>NaN</td>\n",
       "    </tr>\n",
       "    <tr>\n",
       "      <th>std</th>\n",
       "      <td>NaN</td>\n",
       "      <td>6125.428944</td>\n",
       "      <td>33.926307</td>\n",
       "      <td>NaN</td>\n",
       "    </tr>\n",
       "    <tr>\n",
       "      <th>min</th>\n",
       "      <td>NaN</td>\n",
       "      <td>200.000000</td>\n",
       "      <td>1.000000</td>\n",
       "      <td>NaN</td>\n",
       "    </tr>\n",
       "    <tr>\n",
       "      <th>25%</th>\n",
       "      <td>NaN</td>\n",
       "      <td>200.000000</td>\n",
       "      <td>1.000000</td>\n",
       "      <td>NaN</td>\n",
       "    </tr>\n",
       "    <tr>\n",
       "      <th>50%</th>\n",
       "      <td>NaN</td>\n",
       "      <td>400.000000</td>\n",
       "      <td>2.000000</td>\n",
       "      <td>NaN</td>\n",
       "    </tr>\n",
       "    <tr>\n",
       "      <th>75%</th>\n",
       "      <td>NaN</td>\n",
       "      <td>1800.000000</td>\n",
       "      <td>9.000000</td>\n",
       "      <td>NaN</td>\n",
       "    </tr>\n",
       "    <tr>\n",
       "      <th>max</th>\n",
       "      <td>NaN</td>\n",
       "      <td>560600.000000</td>\n",
       "      <td>3114.000000</td>\n",
       "      <td>NaN</td>\n",
       "    </tr>\n",
       "  </tbody>\n",
       "</table>\n",
       "</div>"
      ],
      "text/plain": [
       "       skin_use       wsus_use       wsus_cnt  rate\n",
       "count       0.0  859397.000000  859397.000000   0.0\n",
       "mean        NaN    1642.679460       8.843404   NaN\n",
       "std         NaN    6125.428944      33.926307   NaN\n",
       "min         NaN     200.000000       1.000000   NaN\n",
       "25%         NaN     200.000000       1.000000   NaN\n",
       "50%         NaN     400.000000       2.000000   NaN\n",
       "75%         NaN    1800.000000       9.000000   NaN\n",
       "max         NaN  560600.000000    3114.000000   NaN"
      ]
     },
     "execution_count": 154,
     "metadata": {},
     "output_type": "execute_result"
    }
   ],
   "source": [
    "wsus_user_use3[wsus_user_use3.rate.isna()].describe()"
   ]
  },
  {
   "cell_type": "code",
   "execution_count": 78,
   "metadata": {},
   "outputs": [
    {
     "name": "stderr",
     "output_type": "stream",
     "text": [
      "/opt/conda/lib/python3.6/site-packages/ipykernel_launcher.py:18: SettingWithCopyWarning: \n",
      "A value is trying to be set on a copy of a slice from a DataFrame.\n",
      "Try using .loc[row_indexer,col_indexer] = value instead\n",
      "\n",
      "See the caveats in the documentation: http://pandas.pydata.org/pandas-docs/stable/indexing.html#indexing-view-versus-copy\n"
     ]
    }
   ],
   "source": [
    "no_costume_wsus3 = wsus_user_use3[wsus_user_use3.rate.isna()]\n",
    "no_costume_user_group3 = np.where(\n",
    "    no_costume_wsus3[\"wsus_cnt\"].between(1, 10), 1,\n",
    "    np.where(\n",
    "        no_costume_wsus3[\"wsus_cnt\"].between(11, 50), 3,\n",
    "        np.where(\n",
    "            no_costume_wsus3[\"wsus_cnt\"].between(51, 100), 7,\n",
    "            np.where(\n",
    "                no_costume_wsus3[\"wsus_cnt\"].between(101, 800), 45,\n",
    "                np.where(\n",
    "                    no_costume_wsus3[\"wsus_cnt\"] >= 801, 100, 0\n",
    "                )\n",
    "            )\n",
    "        )\n",
    "    )\n",
    ")\n",
    "\n",
    "no_costume_wsus3[\"group\"] = no_costume_user_group3"
   ]
  },
  {
   "cell_type": "code",
   "execution_count": 79,
   "metadata": {},
   "outputs": [
    {
     "data": {
      "text/html": [
       "<div>\n",
       "<style scoped>\n",
       "    .dataframe tbody tr th:only-of-type {\n",
       "        vertical-align: middle;\n",
       "    }\n",
       "\n",
       "    .dataframe tbody tr th {\n",
       "        vertical-align: top;\n",
       "    }\n",
       "\n",
       "    .dataframe thead th {\n",
       "        text-align: right;\n",
       "    }\n",
       "</style>\n",
       "<table border=\"1\" class=\"dataframe\">\n",
       "  <thead>\n",
       "    <tr style=\"text-align: right;\">\n",
       "      <th></th>\n",
       "      <th>group</th>\n",
       "      <th>account_id</th>\n",
       "    </tr>\n",
       "  </thead>\n",
       "  <tbody>\n",
       "    <tr>\n",
       "      <th>0</th>\n",
       "      <td>1</td>\n",
       "      <td>625601</td>\n",
       "    </tr>\n",
       "    <tr>\n",
       "      <th>1</th>\n",
       "      <td>3</td>\n",
       "      <td>29331</td>\n",
       "    </tr>\n",
       "    <tr>\n",
       "      <th>2</th>\n",
       "      <td>7</td>\n",
       "      <td>3973</td>\n",
       "    </tr>\n",
       "    <tr>\n",
       "      <th>3</th>\n",
       "      <td>45</td>\n",
       "      <td>2431</td>\n",
       "    </tr>\n",
       "    <tr>\n",
       "      <th>4</th>\n",
       "      <td>100</td>\n",
       "      <td>25</td>\n",
       "    </tr>\n",
       "  </tbody>\n",
       "</table>\n",
       "</div>"
      ],
      "text/plain": [
       "   group  account_id\n",
       "0      1      625601\n",
       "1      3       29331\n",
       "2      7        3973\n",
       "3     45        2431\n",
       "4    100          25"
      ]
     },
     "execution_count": 79,
     "metadata": {},
     "output_type": "execute_result"
    }
   ],
   "source": [
    "no_costume_wsus3.groupby(\"group\", as_index=False)[\"account_id\"].count()"
   ]
  },
  {
   "cell_type": "code",
   "execution_count": 216,
   "metadata": {},
   "outputs": [
    {
     "name": "stderr",
     "output_type": "stream",
     "text": [
      "/opt/conda/lib/python3.6/site-packages/ipykernel_launcher.py:18: SettingWithCopyWarning: \n",
      "A value is trying to be set on a copy of a slice from a DataFrame.\n",
      "Try using .loc[row_indexer,col_indexer] = value instead\n",
      "\n",
      "See the caveats in the documentation: http://pandas.pydata.org/pandas-docs/stable/indexing.html#indexing-view-versus-copy\n"
     ]
    }
   ],
   "source": [
    "no_costume_wsus3 = wsus_user_use3[wsus_user_use3.rate.isna()]\n",
    "no_costume_user_group3 = np.where(\n",
    "    no_costume_wsus3[\"wsus_cnt\"].between(1, 20), 1,\n",
    "    np.where(\n",
    "        no_costume_wsus3[\"wsus_cnt\"].between(21, 100), 3,\n",
    "        np.where(\n",
    "            no_costume_wsus3[\"wsus_cnt\"].between(101, 200), 7,\n",
    "            np.where(\n",
    "                no_costume_wsus3[\"wsus_cnt\"].between(201, 1599), 45,\n",
    "                np.where(\n",
    "                    no_costume_wsus3[\"wsus_cnt\"] >= 1600, 100, 0\n",
    "                )\n",
    "            )\n",
    "        )\n",
    "    )\n",
    ")\n",
    "\n",
    "no_costume_wsus3[\"group\"] = no_costume_user_group3"
   ]
  },
  {
   "cell_type": "code",
   "execution_count": 217,
   "metadata": {},
   "outputs": [
    {
     "data": {
      "text/html": [
       "<div>\n",
       "<style scoped>\n",
       "    .dataframe tbody tr th:only-of-type {\n",
       "        vertical-align: middle;\n",
       "    }\n",
       "\n",
       "    .dataframe tbody tr th {\n",
       "        vertical-align: top;\n",
       "    }\n",
       "\n",
       "    .dataframe thead th {\n",
       "        text-align: right;\n",
       "    }\n",
       "</style>\n",
       "<table border=\"1\" class=\"dataframe\">\n",
       "  <thead>\n",
       "    <tr style=\"text-align: right;\">\n",
       "      <th></th>\n",
       "      <th>group</th>\n",
       "      <th>account_id</th>\n",
       "    </tr>\n",
       "  </thead>\n",
       "  <tbody>\n",
       "    <tr>\n",
       "      <th>0</th>\n",
       "      <td>1</td>\n",
       "      <td>811733</td>\n",
       "    </tr>\n",
       "    <tr>\n",
       "      <th>1</th>\n",
       "      <td>3</td>\n",
       "      <td>36972</td>\n",
       "    </tr>\n",
       "    <tr>\n",
       "      <th>2</th>\n",
       "      <td>7</td>\n",
       "      <td>6795</td>\n",
       "    </tr>\n",
       "    <tr>\n",
       "      <th>3</th>\n",
       "      <td>45</td>\n",
       "      <td>3879</td>\n",
       "    </tr>\n",
       "    <tr>\n",
       "      <th>4</th>\n",
       "      <td>100</td>\n",
       "      <td>18</td>\n",
       "    </tr>\n",
       "  </tbody>\n",
       "</table>\n",
       "</div>"
      ],
      "text/plain": [
       "   group  account_id\n",
       "0      1      811733\n",
       "1      3       36972\n",
       "2      7        6795\n",
       "3     45        3879\n",
       "4    100          18"
      ]
     },
     "execution_count": 217,
     "metadata": {},
     "output_type": "execute_result"
    }
   ],
   "source": [
    "no_costume_wsus3.groupby(\"group\", as_index=False)[\"account_id\"].count()"
   ]
  },
  {
   "cell_type": "markdown",
   "metadata": {},
   "source": [
    "## 2022-Apr"
   ]
  },
  {
   "cell_type": "code",
   "execution_count": 59,
   "metadata": {},
   "outputs": [],
   "source": [
    "gcoin_4 = load_data_mart(\"pc\", \"2022-04-01\", \"2022-04-30\", \"gcoin_use\")"
   ]
  },
  {
   "cell_type": "code",
   "execution_count": 104,
   "metadata": {},
   "outputs": [],
   "source": [
    "gcoin_skin_4 = gcoin_4.where((col(\"sub_category\").isin([\"costume\", \"gear\", \"vehicle\"])))"
   ]
  },
  {
   "cell_type": "code",
   "execution_count": 105,
   "metadata": {},
   "outputs": [],
   "source": [
    "gcoin_skin_df_4 = gcoin_skin_4.toPandas()\n",
    "gcoin_skin_df_4.to_csv(\"../Data/gcoin_skin_df_4.csv\", index=False)"
   ]
  },
  {
   "cell_type": "code",
   "execution_count": 60,
   "metadata": {},
   "outputs": [],
   "source": [
    "gcoin_crate_4 = gcoin_4.where((col(\"sub_category\") == \"crate\") & (~lower(col(\"event_name\")).like(\"%wsus%\")))\n",
    "gcoin_crate_df_4 = gcoin_crate_4.toPandas()\n",
    "gcoin_crate_df_4.to_csv(\"../Data/gcoin_crate_df_4.csv\", index=False)"
   ]
  },
  {
   "cell_type": "code",
   "execution_count": 61,
   "metadata": {},
   "outputs": [],
   "source": [
    "gcoin_skin_df_4 = pd.read_csv(\"../Data/gcoin_skin_df_4.csv\")\n",
    "gcoin_skin_df_4 = pd.concat([gcoin_skin_df_4, gcoin_crate_df_4])"
   ]
  },
  {
   "cell_type": "code",
   "execution_count": 106,
   "metadata": {},
   "outputs": [],
   "source": [
    "gcoin_wsus_df_4 = gcoin_4.where((col(\"event_name\").like(\"%wsus%\"))).toPandas()\n",
    "gcoin_wsus_df_4.to_csv(\"../Data/gcoin_wsus_df_4.csv\", index=False)"
   ]
  },
  {
   "cell_type": "code",
   "execution_count": 63,
   "metadata": {},
   "outputs": [],
   "source": [
    "gcoin_wsus_df_4 = pd.read_csv(\"../Data/gcoin_wsus_df_4.csv\")\n",
    "wsus_pu_list_4 = gcoin_wsus_df_4.account_id.unique().tolist()"
   ]
  },
  {
   "cell_type": "markdown",
   "metadata": {},
   "source": [
    "NEW GATCHA"
   ]
  },
  {
   "cell_type": "code",
   "execution_count": 156,
   "metadata": {},
   "outputs": [],
   "source": [
    "no_wsus_df4 = gcoin_skin_df_4[(~gcoin_skin_df_4.account_id.isin(wsus_pu_list_4))]"
   ]
  },
  {
   "cell_type": "code",
   "execution_count": 157,
   "metadata": {},
   "outputs": [],
   "source": [
    "set_pu4 = no_wsus_df4[no_wsus_df4.price >= 800].account_id.unique().tolist()"
   ]
  },
  {
   "cell_type": "code",
   "execution_count": 158,
   "metadata": {},
   "outputs": [],
   "source": [
    "user_set_buy_cnt4 = no_wsus_df4[(no_wsus_df4.account_id.isin(set_pu4)) & (no_wsus_df4.price >= 800)]\\\n",
    "    .groupby(\"account_id\", as_index=False)[\"product_name\"].count()\n",
    "user_set_buy_cnt4.columns = [\"account_id\", \"buy_cnt\"]"
   ]
  },
  {
   "cell_type": "code",
   "execution_count": 159,
   "metadata": {},
   "outputs": [
    {
     "data": {
      "text/plain": [
       "buy_cnt\n",
       "1    16406\n",
       "2      197\n",
       "3       17\n",
       "4        5\n",
       "5        2\n",
       "Name: account_id, dtype: int64"
      ]
     },
     "execution_count": 159,
     "metadata": {},
     "output_type": "execute_result"
    }
   ],
   "source": [
    "user_set_buy_cnt4.groupby(\"buy_cnt\")[\"account_id\"].count()"
   ]
  },
  {
   "cell_type": "code",
   "execution_count": 160,
   "metadata": {},
   "outputs": [],
   "source": [
    "no_set_user_buy_cnt4 = no_wsus_df4[(~no_wsus_df4.account_id.isin(set_pu4)) & (no_wsus_df4.price < 800)]\\\n",
    "    .groupby(\"account_id\", as_index=False)[\"product_name\"].count()\n",
    "no_set_user_buy_cnt4.columns = [\"account_id\", \"buy_cnt\"]"
   ]
  },
  {
   "cell_type": "code",
   "execution_count": 161,
   "metadata": {},
   "outputs": [
    {
     "data": {
      "text/html": [
       "<div>\n",
       "<style scoped>\n",
       "    .dataframe tbody tr th:only-of-type {\n",
       "        vertical-align: middle;\n",
       "    }\n",
       "\n",
       "    .dataframe tbody tr th {\n",
       "        vertical-align: top;\n",
       "    }\n",
       "\n",
       "    .dataframe thead th {\n",
       "        text-align: right;\n",
       "    }\n",
       "</style>\n",
       "<table border=\"1\" class=\"dataframe\">\n",
       "  <thead>\n",
       "    <tr style=\"text-align: right;\">\n",
       "      <th></th>\n",
       "      <th>buy_cnt</th>\n",
       "      <th>account_id</th>\n",
       "    </tr>\n",
       "  </thead>\n",
       "  <tbody>\n",
       "    <tr>\n",
       "      <th>0</th>\n",
       "      <td>1</td>\n",
       "      <td>289387</td>\n",
       "    </tr>\n",
       "    <tr>\n",
       "      <th>1</th>\n",
       "      <td>2</td>\n",
       "      <td>63395</td>\n",
       "    </tr>\n",
       "    <tr>\n",
       "      <th>2</th>\n",
       "      <td>3</td>\n",
       "      <td>12200</td>\n",
       "    </tr>\n",
       "    <tr>\n",
       "      <th>3</th>\n",
       "      <td>4</td>\n",
       "      <td>3083</td>\n",
       "    </tr>\n",
       "    <tr>\n",
       "      <th>4</th>\n",
       "      <td>5</td>\n",
       "      <td>797</td>\n",
       "    </tr>\n",
       "    <tr>\n",
       "      <th>5</th>\n",
       "      <td>6</td>\n",
       "      <td>265</td>\n",
       "    </tr>\n",
       "    <tr>\n",
       "      <th>6</th>\n",
       "      <td>7</td>\n",
       "      <td>76</td>\n",
       "    </tr>\n",
       "    <tr>\n",
       "      <th>7</th>\n",
       "      <td>8</td>\n",
       "      <td>22</td>\n",
       "    </tr>\n",
       "    <tr>\n",
       "      <th>8</th>\n",
       "      <td>9</td>\n",
       "      <td>11</td>\n",
       "    </tr>\n",
       "    <tr>\n",
       "      <th>9</th>\n",
       "      <td>10</td>\n",
       "      <td>5</td>\n",
       "    </tr>\n",
       "    <tr>\n",
       "      <th>10</th>\n",
       "      <td>11</td>\n",
       "      <td>2</td>\n",
       "    </tr>\n",
       "    <tr>\n",
       "      <th>11</th>\n",
       "      <td>12</td>\n",
       "      <td>1</td>\n",
       "    </tr>\n",
       "    <tr>\n",
       "      <th>12</th>\n",
       "      <td>13</td>\n",
       "      <td>1</td>\n",
       "    </tr>\n",
       "  </tbody>\n",
       "</table>\n",
       "</div>"
      ],
      "text/plain": [
       "    buy_cnt  account_id\n",
       "0         1      289387\n",
       "1         2       63395\n",
       "2         3       12200\n",
       "3         4        3083\n",
       "4         5         797\n",
       "5         6         265\n",
       "6         7          76\n",
       "7         8          22\n",
       "8         9          11\n",
       "9        10           5\n",
       "10       11           2\n",
       "11       12           1\n",
       "12       13           1"
      ]
     },
     "execution_count": 161,
     "metadata": {},
     "output_type": "execute_result"
    }
   ],
   "source": [
    "no_set_user_buy_cnt4.groupby(\"buy_cnt\")[\"account_id\"].count().reset_index()"
   ]
  },
  {
   "cell_type": "code",
   "execution_count": null,
   "metadata": {},
   "outputs": [],
   "source": []
  },
  {
   "cell_type": "code",
   "execution_count": 97,
   "metadata": {},
   "outputs": [
    {
     "name": "stdout",
     "output_type": "stream",
     "text": [
      "194202\n",
      "329656\n",
      "169800\n",
      "154675\n",
      "91\n"
     ]
    }
   ],
   "source": [
    "get_group_a_seg(gcoin_skin_df_4, wsus_pu_list_4)"
   ]
  },
  {
   "cell_type": "markdown",
   "metadata": {},
   "source": [
    "Gatcha (WSUS PU)"
   ]
  },
  {
   "cell_type": "code",
   "execution_count": 64,
   "metadata": {},
   "outputs": [],
   "source": [
    "wsus_skin_df4 = gcoin_skin_df_4[(gcoin_skin_df_4.account_id.isin(wsus_pu_list_4))]"
   ]
  },
  {
   "cell_type": "code",
   "execution_count": 65,
   "metadata": {},
   "outputs": [],
   "source": [
    "wsus_cnt = gcoin_wsus_df_4.price.apply(lambda x: 10 if x == 1800 else 1)\n",
    "gcoin_wsus_df_4[\"wsus_cnt\"] = wsus_cnt"
   ]
  },
  {
   "cell_type": "code",
   "execution_count": 66,
   "metadata": {},
   "outputs": [],
   "source": [
    "wsus_user_skin_use4 = wsus_skin_df4.groupby(\"account_id\", as_index=False)[\"price\"].sum()\n",
    "wsus_user_wsus_use4 = gcoin_wsus_df_4.groupby(\"account_id\", as_index=False)[[\"price\", \"wsus_cnt\"]].sum()\n",
    "wsus_user_skin_use4.columns=[\"account_id\", \"skin_use\"]\n",
    "wsus_user_wsus_use4.columns = [\"account_id\", \"wsus_use\", \"wsus_cnt\"]\n",
    "wsus_user_use4 = pd.merge(wsus_user_skin_use4, wsus_user_wsus_use4, on=\"account_id\", how=\"outer\")"
   ]
  },
  {
   "cell_type": "code",
   "execution_count": 67,
   "metadata": {},
   "outputs": [],
   "source": [
    "wsus_user_use4[\"rate\"] = (wsus_user_use4.wsus_use/wsus_user_use4.skin_use)"
   ]
  },
  {
   "cell_type": "code",
   "execution_count": 68,
   "metadata": {},
   "outputs": [
    {
     "data": {
      "text/plain": [
       "455278"
      ]
     },
     "execution_count": 68,
     "metadata": {},
     "output_type": "execute_result"
    }
   ],
   "source": [
    "# wsus 구매하지만 costume은 사지않는 유저\n",
    "wsus_user_use4[wsus_user_use4.rate.isna()].account_id.nunique()"
   ]
  },
  {
   "cell_type": "code",
   "execution_count": 69,
   "metadata": {},
   "outputs": [
    {
     "data": {
      "text/plain": [
       "285677"
      ]
     },
     "execution_count": 69,
     "metadata": {},
     "output_type": "execute_result"
    }
   ],
   "source": [
    "# wsus, costume 둘다 구매하는 유저\n",
    "wsus_user_use4[~wsus_user_use4.rate.isna()].account_id.nunique()"
   ]
  },
  {
   "cell_type": "code",
   "execution_count": 70,
   "metadata": {},
   "outputs": [
    {
     "data": {
      "text/plain": [
       "1.5936809753672854"
      ]
     },
     "execution_count": 70,
     "metadata": {},
     "output_type": "execute_result"
    }
   ],
   "source": [
    "455278/285677"
   ]
  },
  {
   "cell_type": "code",
   "execution_count": 71,
   "metadata": {},
   "outputs": [
    {
     "data": {
      "text/html": [
       "<div>\n",
       "<style scoped>\n",
       "    .dataframe tbody tr th:only-of-type {\n",
       "        vertical-align: middle;\n",
       "    }\n",
       "\n",
       "    .dataframe tbody tr th {\n",
       "        vertical-align: top;\n",
       "    }\n",
       "\n",
       "    .dataframe thead th {\n",
       "        text-align: right;\n",
       "    }\n",
       "</style>\n",
       "<table border=\"1\" class=\"dataframe\">\n",
       "  <thead>\n",
       "    <tr style=\"text-align: right;\">\n",
       "      <th></th>\n",
       "      <th>skin_use</th>\n",
       "      <th>wsus_use</th>\n",
       "      <th>wsus_cnt</th>\n",
       "      <th>rate</th>\n",
       "    </tr>\n",
       "  </thead>\n",
       "  <tbody>\n",
       "    <tr>\n",
       "      <th>count</th>\n",
       "      <td>285677.000000</td>\n",
       "      <td>285677.000000</td>\n",
       "      <td>285677.000000</td>\n",
       "      <td>285677.000000</td>\n",
       "    </tr>\n",
       "    <tr>\n",
       "      <th>mean</th>\n",
       "      <td>2476.537243</td>\n",
       "      <td>4443.980439</td>\n",
       "      <td>24.306745</td>\n",
       "      <td>2.536030</td>\n",
       "    </tr>\n",
       "    <tr>\n",
       "      <th>std</th>\n",
       "      <td>2929.285613</td>\n",
       "      <td>14068.585108</td>\n",
       "      <td>77.940978</td>\n",
       "      <td>14.236768</td>\n",
       "    </tr>\n",
       "    <tr>\n",
       "      <th>min</th>\n",
       "      <td>40.000000</td>\n",
       "      <td>200.000000</td>\n",
       "      <td>1.000000</td>\n",
       "      <td>0.008730</td>\n",
       "    </tr>\n",
       "    <tr>\n",
       "      <th>25%</th>\n",
       "      <td>800.000000</td>\n",
       "      <td>200.000000</td>\n",
       "      <td>1.000000</td>\n",
       "      <td>0.202020</td>\n",
       "    </tr>\n",
       "    <tr>\n",
       "      <th>50%</th>\n",
       "      <td>1290.000000</td>\n",
       "      <td>600.000000</td>\n",
       "      <td>3.000000</td>\n",
       "      <td>0.611621</td>\n",
       "    </tr>\n",
       "    <tr>\n",
       "      <th>75%</th>\n",
       "      <td>3270.000000</td>\n",
       "      <td>2400.000000</td>\n",
       "      <td>12.000000</td>\n",
       "      <td>1.680672</td>\n",
       "    </tr>\n",
       "    <tr>\n",
       "      <th>max</th>\n",
       "      <td>71500.000000</td>\n",
       "      <td>549800.000000</td>\n",
       "      <td>3052.000000</td>\n",
       "      <td>2765.000000</td>\n",
       "    </tr>\n",
       "  </tbody>\n",
       "</table>\n",
       "</div>"
      ],
      "text/plain": [
       "            skin_use       wsus_use       wsus_cnt           rate\n",
       "count  285677.000000  285677.000000  285677.000000  285677.000000\n",
       "mean     2476.537243    4443.980439      24.306745       2.536030\n",
       "std      2929.285613   14068.585108      77.940978      14.236768\n",
       "min        40.000000     200.000000       1.000000       0.008730\n",
       "25%       800.000000     200.000000       1.000000       0.202020\n",
       "50%      1290.000000     600.000000       3.000000       0.611621\n",
       "75%      3270.000000    2400.000000      12.000000       1.680672\n",
       "max     71500.000000  549800.000000    3052.000000    2765.000000"
      ]
     },
     "execution_count": 71,
     "metadata": {},
     "output_type": "execute_result"
    }
   ],
   "source": [
    "wsus_user_use4[~wsus_user_use4.rate.isna()].describe()"
   ]
  },
  {
   "cell_type": "code",
   "execution_count": 80,
   "metadata": {},
   "outputs": [
    {
     "name": "stderr",
     "output_type": "stream",
     "text": [
      "/opt/conda/lib/python3.6/site-packages/ipykernel_launcher.py:18: SettingWithCopyWarning: \n",
      "A value is trying to be set on a copy of a slice from a DataFrame.\n",
      "Try using .loc[row_indexer,col_indexer] = value instead\n",
      "\n",
      "See the caveats in the documentation: http://pandas.pydata.org/pandas-docs/stable/indexing.html#indexing-view-versus-copy\n"
     ]
    }
   ],
   "source": [
    "costume_wsus4 = wsus_user_use4[~wsus_user_use4.rate.isna()]\n",
    "costume_user_group4 = np.where(\n",
    "    costume_wsus4[\"wsus_cnt\"].between(1, 3), 1,\n",
    "    np.where(\n",
    "        costume_wsus4[\"wsus_cnt\"].between(4, 15), 3,\n",
    "        np.where(\n",
    "            costume_wsus4[\"wsus_cnt\"].between(16, 30), 7,\n",
    "            np.where(\n",
    "                costume_wsus4[\"wsus_cnt\"].between(31, 240), 45,\n",
    "                np.where(\n",
    "                    costume_wsus4[\"wsus_cnt\"] >= 241, 100, 0\n",
    "                )\n",
    "            )\n",
    "        )\n",
    "    )\n",
    ")\n",
    "\n",
    "costume_wsus4[\"group\"] = costume_user_group4"
   ]
  },
  {
   "cell_type": "code",
   "execution_count": 81,
   "metadata": {},
   "outputs": [
    {
     "data": {
      "text/html": [
       "<div>\n",
       "<style scoped>\n",
       "    .dataframe tbody tr th:only-of-type {\n",
       "        vertical-align: middle;\n",
       "    }\n",
       "\n",
       "    .dataframe tbody tr th {\n",
       "        vertical-align: top;\n",
       "    }\n",
       "\n",
       "    .dataframe thead th {\n",
       "        text-align: right;\n",
       "    }\n",
       "</style>\n",
       "<table border=\"1\" class=\"dataframe\">\n",
       "  <thead>\n",
       "    <tr style=\"text-align: right;\">\n",
       "      <th></th>\n",
       "      <th>group</th>\n",
       "      <th>account_id</th>\n",
       "    </tr>\n",
       "  </thead>\n",
       "  <tbody>\n",
       "    <tr>\n",
       "      <th>0</th>\n",
       "      <td>1</td>\n",
       "      <td>150703</td>\n",
       "    </tr>\n",
       "    <tr>\n",
       "      <th>1</th>\n",
       "      <td>3</td>\n",
       "      <td>69987</td>\n",
       "    </tr>\n",
       "    <tr>\n",
       "      <th>2</th>\n",
       "      <td>7</td>\n",
       "      <td>21138</td>\n",
       "    </tr>\n",
       "    <tr>\n",
       "      <th>3</th>\n",
       "      <td>45</td>\n",
       "      <td>38578</td>\n",
       "    </tr>\n",
       "    <tr>\n",
       "      <th>4</th>\n",
       "      <td>100</td>\n",
       "      <td>5271</td>\n",
       "    </tr>\n",
       "  </tbody>\n",
       "</table>\n",
       "</div>"
      ],
      "text/plain": [
       "   group  account_id\n",
       "0      1      150703\n",
       "1      3       69987\n",
       "2      7       21138\n",
       "3     45       38578\n",
       "4    100        5271"
      ]
     },
     "execution_count": 81,
     "metadata": {},
     "output_type": "execute_result"
    }
   ],
   "source": [
    "costume_wsus4.groupby(\"group\", as_index=False)[\"account_id\"].count()"
   ]
  },
  {
   "cell_type": "code",
   "execution_count": 82,
   "metadata": {},
   "outputs": [
    {
     "name": "stderr",
     "output_type": "stream",
     "text": [
      "/opt/conda/lib/python3.6/site-packages/ipykernel_launcher.py:18: SettingWithCopyWarning: \n",
      "A value is trying to be set on a copy of a slice from a DataFrame.\n",
      "Try using .loc[row_indexer,col_indexer] = value instead\n",
      "\n",
      "See the caveats in the documentation: http://pandas.pydata.org/pandas-docs/stable/indexing.html#indexing-view-versus-copy\n"
     ]
    }
   ],
   "source": [
    "no_costume_wsus4 = wsus_user_use4[wsus_user_use4.rate.isna()]\n",
    "no_costume_user_group4 = np.where(\n",
    "    no_costume_wsus4[\"wsus_cnt\"].between(1, 10), 1,\n",
    "    np.where(\n",
    "        no_costume_wsus4[\"wsus_cnt\"].between(11, 50), 3,\n",
    "        np.where(\n",
    "            no_costume_wsus4[\"wsus_cnt\"].between(51, 100), 7,\n",
    "            np.where(\n",
    "                no_costume_wsus4[\"wsus_cnt\"].between(101, 800), 45,\n",
    "                np.where(\n",
    "                    no_costume_wsus4[\"wsus_cnt\"] >= 801, 100, 0\n",
    "                )\n",
    "            )\n",
    "        )\n",
    "    )\n",
    ")\n",
    "\n",
    "no_costume_wsus4[\"group\"] = no_costume_user_group4"
   ]
  },
  {
   "cell_type": "code",
   "execution_count": 83,
   "metadata": {},
   "outputs": [
    {
     "data": {
      "text/html": [
       "<div>\n",
       "<style scoped>\n",
       "    .dataframe tbody tr th:only-of-type {\n",
       "        vertical-align: middle;\n",
       "    }\n",
       "\n",
       "    .dataframe tbody tr th {\n",
       "        vertical-align: top;\n",
       "    }\n",
       "\n",
       "    .dataframe thead th {\n",
       "        text-align: right;\n",
       "    }\n",
       "</style>\n",
       "<table border=\"1\" class=\"dataframe\">\n",
       "  <thead>\n",
       "    <tr style=\"text-align: right;\">\n",
       "      <th></th>\n",
       "      <th>group</th>\n",
       "      <th>account_id</th>\n",
       "    </tr>\n",
       "  </thead>\n",
       "  <tbody>\n",
       "    <tr>\n",
       "      <th>0</th>\n",
       "      <td>1</td>\n",
       "      <td>418357</td>\n",
       "    </tr>\n",
       "    <tr>\n",
       "      <th>1</th>\n",
       "      <td>3</td>\n",
       "      <td>28501</td>\n",
       "    </tr>\n",
       "    <tr>\n",
       "      <th>2</th>\n",
       "      <td>7</td>\n",
       "      <td>5132</td>\n",
       "    </tr>\n",
       "    <tr>\n",
       "      <th>3</th>\n",
       "      <td>45</td>\n",
       "      <td>3251</td>\n",
       "    </tr>\n",
       "    <tr>\n",
       "      <th>4</th>\n",
       "      <td>100</td>\n",
       "      <td>37</td>\n",
       "    </tr>\n",
       "  </tbody>\n",
       "</table>\n",
       "</div>"
      ],
      "text/plain": [
       "   group  account_id\n",
       "0      1      418357\n",
       "1      3       28501\n",
       "2      7        5132\n",
       "3     45        3251\n",
       "4    100          37"
      ]
     },
     "execution_count": 83,
     "metadata": {},
     "output_type": "execute_result"
    }
   ],
   "source": [
    "no_costume_wsus4.groupby(\"group\", as_index=False)[\"account_id\"].count()"
   ]
  },
  {
   "cell_type": "code",
   "execution_count": 218,
   "metadata": {},
   "outputs": [
    {
     "name": "stderr",
     "output_type": "stream",
     "text": [
      "/opt/conda/lib/python3.6/site-packages/ipykernel_launcher.py:18: SettingWithCopyWarning: \n",
      "A value is trying to be set on a copy of a slice from a DataFrame.\n",
      "Try using .loc[row_indexer,col_indexer] = value instead\n",
      "\n",
      "See the caveats in the documentation: http://pandas.pydata.org/pandas-docs/stable/indexing.html#indexing-view-versus-copy\n"
     ]
    }
   ],
   "source": [
    "no_costume_wsus4 = wsus_user_use4[wsus_user_use4.rate.isna()]\n",
    "no_costume_user_group4 = np.where(\n",
    "    no_costume_wsus4[\"wsus_cnt\"].between(1, 20), 1,\n",
    "    np.where(\n",
    "        no_costume_wsus4[\"wsus_cnt\"].between(21, 100), 3,\n",
    "        np.where(\n",
    "            no_costume_wsus4[\"wsus_cnt\"].between(101, 200), 7,\n",
    "            np.where(\n",
    "                no_costume_wsus4[\"wsus_cnt\"].between(201, 1599), 45,\n",
    "                np.where(\n",
    "                    no_costume_wsus4[\"wsus_cnt\"] >= 1600, 100, 0\n",
    "                )\n",
    "            )\n",
    "        )\n",
    "    )\n",
    ")\n",
    "\n",
    "no_costume_wsus4[\"group\"] = no_costume_user_group4"
   ]
  },
  {
   "cell_type": "code",
   "execution_count": 219,
   "metadata": {},
   "outputs": [
    {
     "data": {
      "text/html": [
       "<div>\n",
       "<style scoped>\n",
       "    .dataframe tbody tr th:only-of-type {\n",
       "        vertical-align: middle;\n",
       "    }\n",
       "\n",
       "    .dataframe tbody tr th {\n",
       "        vertical-align: top;\n",
       "    }\n",
       "\n",
       "    .dataframe thead th {\n",
       "        text-align: right;\n",
       "    }\n",
       "</style>\n",
       "<table border=\"1\" class=\"dataframe\">\n",
       "  <thead>\n",
       "    <tr style=\"text-align: right;\">\n",
       "      <th></th>\n",
       "      <th>group</th>\n",
       "      <th>account_id</th>\n",
       "    </tr>\n",
       "  </thead>\n",
       "  <tbody>\n",
       "    <tr>\n",
       "      <th>0</th>\n",
       "      <td>1</td>\n",
       "      <td>567482</td>\n",
       "    </tr>\n",
       "    <tr>\n",
       "      <th>1</th>\n",
       "      <td>3</td>\n",
       "      <td>39318</td>\n",
       "    </tr>\n",
       "    <tr>\n",
       "      <th>2</th>\n",
       "      <td>7</td>\n",
       "      <td>7999</td>\n",
       "    </tr>\n",
       "    <tr>\n",
       "      <th>3</th>\n",
       "      <td>45</td>\n",
       "      <td>4532</td>\n",
       "    </tr>\n",
       "    <tr>\n",
       "      <th>4</th>\n",
       "      <td>100</td>\n",
       "      <td>27</td>\n",
       "    </tr>\n",
       "  </tbody>\n",
       "</table>\n",
       "</div>"
      ],
      "text/plain": [
       "   group  account_id\n",
       "0      1      567482\n",
       "1      3       39318\n",
       "2      7        7999\n",
       "3     45        4532\n",
       "4    100          27"
      ]
     },
     "execution_count": 219,
     "metadata": {},
     "output_type": "execute_result"
    }
   ],
   "source": [
    "no_costume_wsus4.groupby(\"group\", as_index=False)[\"account_id\"].count()"
   ]
  }
 ],
 "metadata": {
  "kernelspec": {
   "display_name": "Python 3",
   "language": "python",
   "name": "python3"
  },
  "language_info": {
   "codemirror_mode": {
    "name": "ipython",
    "version": 3
   },
   "file_extension": ".py",
   "mimetype": "text/x-python",
   "name": "python",
   "nbconvert_exporter": "python",
   "pygments_lexer": "ipython3",
   "version": "3.6.7"
  }
 },
 "nbformat": 4,
 "nbformat_minor": 4
}
