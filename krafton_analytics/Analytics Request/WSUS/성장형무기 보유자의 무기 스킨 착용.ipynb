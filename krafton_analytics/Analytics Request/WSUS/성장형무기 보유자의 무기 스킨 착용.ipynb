{
 "cells": [
  {
   "cell_type": "code",
   "execution_count": 266,
   "metadata": {},
   "outputs": [
    {
     "name": "stdout",
     "output_type": "stream",
     "text": [
      "Spark cluster not assigned. creating a new one...\n",
      "Node spec: 4 executors with 48G RAM each\n",
      "Job Port 4049 is assigned for requested cluster\n",
      "Waiting for Spark master to be available...\n",
      "Spark master launched!\n",
      "Creating new Spark session, name: pdu_syp...\n",
      "Waiting for all executors ready...\n",
      "All executors connected!\n",
      "Complete! elapsed time: 00:00:28\n"
     ]
    }
   ],
   "source": [
    "from pubg_util import mysql, load_schema, notifier\n",
    "from sphynx import sphynx, NODE_SMALL, NODE_MEDIUM, NODE_LARGE\n",
    "from pyspark.sql.functions import *\n",
    "import pandas as pd\n",
    "import pickle\n",
    "\n",
    "spark = sphynx.get_spark(executor_count=4, app_name='pdu_syp', node_spec=NODE_LARGE)"
   ]
  },
  {
   "cell_type": "code",
   "execution_count": 265,
   "metadata": {},
   "outputs": [
    {
     "name": "stdout",
     "output_type": "stream",
     "text": [
      "Stopping Spark session...\n",
      "Destroying Spark cluster...\n",
      "Done!\n",
      "You can safely ignore the warning message if there is any.\n"
     ]
    }
   ],
   "source": [
    "sphynx.stop()"
   ]
  },
  {
   "cell_type": "code",
   "execution_count": 19,
   "metadata": {},
   "outputs": [],
   "source": [
    "june_user = load_data_mart(start_date=\"2021-06-02\", end_date=\"2021-10-02\", device=\"pc\", table_name=\"user_master\").where(col(\"lastlogindate\") >= col(\"date\"))"
   ]
  },
  {
   "cell_type": "code",
   "execution_count": 20,
   "metadata": {},
   "outputs": [],
   "source": [
    "june_user_pd = june_user.groupBy(\"date\").agg(countDistinct(\"accountid\").alias(\"au\")).toPandas()"
   ]
  },
  {
   "cell_type": "code",
   "execution_count": 22,
   "metadata": {},
   "outputs": [],
   "source": [
    "june_user_pd.to_csv(\"./data/user1.csv\", index=False)"
   ]
  },
  {
   "cell_type": "code",
   "execution_count": 24,
   "metadata": {},
   "outputs": [],
   "source": [
    "user2 = load_data_mart(start_date=\"2021-10-03\", end_date=\"2021-12-11\", device=\"pc\", table_name=\"user_master\").where(col(\"lastlogindate\") >= col(\"date\"))"
   ]
  },
  {
   "cell_type": "code",
   "execution_count": 25,
   "metadata": {},
   "outputs": [],
   "source": [
    "user2_pd = user2.groupBy(\"date\").agg(countDistinct(\"accountid\").alias(\"au\")).toPandas()"
   ]
  },
  {
   "cell_type": "code",
   "execution_count": 26,
   "metadata": {},
   "outputs": [],
   "source": [
    "user2_pd.to_csv(\"./data/user2.csv\", index=False)"
   ]
  },
  {
   "cell_type": "code",
   "execution_count": 27,
   "metadata": {},
   "outputs": [],
   "source": [
    "user = pd.concat([june_user_pd, user2_pd])"
   ]
  },
  {
   "cell_type": "code",
   "execution_count": 31,
   "metadata": {},
   "outputs": [],
   "source": [
    "user = user.sort_values(\"date\")"
   ]
  },
  {
   "cell_type": "code",
   "execution_count": 33,
   "metadata": {},
   "outputs": [],
   "source": [
    "user.to_csv(\"./data/au.csv\", index=False)"
   ]
  },
  {
   "cell_type": "code",
   "execution_count": 84,
   "metadata": {},
   "outputs": [
    {
     "data": {
      "text/html": [
       "<div>\n",
       "<style scoped>\n",
       "    .dataframe tbody tr th:only-of-type {\n",
       "        vertical-align: middle;\n",
       "    }\n",
       "\n",
       "    .dataframe tbody tr th {\n",
       "        vertical-align: top;\n",
       "    }\n",
       "\n",
       "    .dataframe thead th {\n",
       "        text-align: right;\n",
       "    }\n",
       "</style>\n",
       "<table border=\"1\" class=\"dataframe\">\n",
       "  <thead>\n",
       "    <tr style=\"text-align: right;\">\n",
       "      <th></th>\n",
       "      <th>date</th>\n",
       "      <th>au</th>\n",
       "    </tr>\n",
       "  </thead>\n",
       "  <tbody>\n",
       "    <tr>\n",
       "      <th>44</th>\n",
       "      <td>2021-06-02</td>\n",
       "      <td>1229436</td>\n",
       "    </tr>\n",
       "    <tr>\n",
       "      <th>115</th>\n",
       "      <td>2021-06-03</td>\n",
       "      <td>1548998</td>\n",
       "    </tr>\n",
       "    <tr>\n",
       "      <th>13</th>\n",
       "      <td>2021-06-04</td>\n",
       "      <td>1593057</td>\n",
       "    </tr>\n",
       "    <tr>\n",
       "      <th>104</th>\n",
       "      <td>2021-06-05</td>\n",
       "      <td>1715203</td>\n",
       "    </tr>\n",
       "    <tr>\n",
       "      <th>83</th>\n",
       "      <td>2021-06-06</td>\n",
       "      <td>1726872</td>\n",
       "    </tr>\n",
       "  </tbody>\n",
       "</table>\n",
       "</div>"
      ],
      "text/plain": [
       "           date       au\n",
       "44   2021-06-02  1229436\n",
       "115  2021-06-03  1548998\n",
       "13   2021-06-04  1593057\n",
       "104  2021-06-05  1715203\n",
       "83   2021-06-06  1726872"
      ]
     },
     "execution_count": 84,
     "metadata": {},
     "output_type": "execute_result"
    }
   ],
   "source": [
    "user.head()"
   ]
  },
  {
   "cell_type": "code",
   "execution_count": 151,
   "metadata": {},
   "outputs": [],
   "source": [
    "# user pandas dataframe to spark dataframe\n",
    "user_ = spark.createDataFrame(user)"
   ]
  },
  {
   "cell_type": "markdown",
   "metadata": {},
   "source": [
    "- 2021-06-02 ~ 2021-10-02\n",
    "- 2021-08-11 ~ 2021-12-11\n",
    "- 2021-10-06 ~ 2021-12-06"
   ]
  },
  {
   "cell_type": "code",
   "execution_count": 287,
   "metadata": {},
   "outputs": [],
   "source": [
    "device = 'pc' \n",
    "env = 'live' \n",
    "log_name = 'ItemEquipped'\n",
    "start_date = '2021-06-02'\n",
    "end_date = '2021-12-06' \n",
    "item_equipped = load_schema.lobby(spark, device, env, log_name, start_date, end_date)"
   ]
  },
  {
   "cell_type": "code",
   "execution_count": 288,
   "metadata": {},
   "outputs": [],
   "source": [
    "with open(\"./data/partId_list.pickle\", \"rb\") as f:\n",
    "    partId_list = pickle.load(f)"
   ]
  },
  {
   "cell_type": "code",
   "execution_count": 289,
   "metadata": {},
   "outputs": [],
   "source": [
    "item_equipped = item_equipped.where(col(\"PartId\").isin(partId_list)).select(\"date\", \"AccountId\", \"ItemId\", \"PartId\").distinct()"
   ]
  },
  {
   "cell_type": "code",
   "execution_count": 126,
   "metadata": {},
   "outputs": [
    {
     "name": "stdout",
     "output_type": "stream",
     "text": [
      "root\n",
      " |-- date: string (nullable = true)\n",
      " |-- AccountId: string (nullable = true)\n",
      " |-- ItemId: string (nullable = true)\n",
      " |-- PartId: string (nullable = true)\n",
      "\n"
     ]
    }
   ],
   "source": [
    "item_equipped.printSchema()"
   ]
  },
  {
   "cell_type": "code",
   "execution_count": 73,
   "metadata": {},
   "outputs": [],
   "source": [
    "mysql.insert_table(item_equipped, \"labs\", \"daily_item_equipped\")"
   ]
  },
  {
   "cell_type": "code",
   "execution_count": null,
   "metadata": {},
   "outputs": [],
   "source": []
  },
  {
   "cell_type": "code",
   "execution_count": 74,
   "metadata": {},
   "outputs": [],
   "source": [
    "wsus_id_list = [\"itemdesc.12012001\", \"itemdesc.12012002\", \"itemdesc.12012003\"]"
   ]
  },
  {
   "cell_type": "code",
   "execution_count": 75,
   "metadata": {},
   "outputs": [],
   "source": [
    "wsus_equipped = item_equipped.where(col(\"ItemId\").isin(wsus_id_list)).groupBy(\"date\", \"ItemId\").agg(countDistinct(\"AccountId\").alias(\"equipped_cnt\")).toPandas()"
   ]
  },
  {
   "cell_type": "code",
   "execution_count": null,
   "metadata": {},
   "outputs": [],
   "source": []
  },
  {
   "cell_type": "code",
   "execution_count": 147,
   "metadata": {},
   "outputs": [],
   "source": [
    "wsus6_user_list = item_equipped.where((col(\"ItemId\").isin(\"itemdesc.12012001\"))).select(\"AccountId\").distinct().toPandas()[\"AccountId\"].tolist()"
   ]
  },
  {
   "cell_type": "code",
   "execution_count": 148,
   "metadata": {},
   "outputs": [],
   "source": [
    "wsus8_user_list = item_equipped.where((col(\"ItemId\").isin(\"itemdesc.12012002\"))).select(\"AccountId\").distinct().toPandas()[\"AccountId\"].tolist()"
   ]
  },
  {
   "cell_type": "code",
   "execution_count": 149,
   "metadata": {},
   "outputs": [],
   "source": [
    "wsus10_user_list = item_equipped.where((col(\"ItemId\").isin(\"itemdesc.12012003\"))).select(\"AccountId\").distinct().toPandas()[\"AccountId\"].tolist()"
   ]
  },
  {
   "cell_type": "code",
   "execution_count": null,
   "metadata": {},
   "outputs": [],
   "source": []
  },
  {
   "cell_type": "code",
   "execution_count": 155,
   "metadata": {},
   "outputs": [],
   "source": [
    "user_ = user_.select(col(\"date\").alias(\"date_\"), col(\"au\"))"
   ]
  },
  {
   "cell_type": "code",
   "execution_count": 157,
   "metadata": {},
   "outputs": [],
   "source": [
    "item_equipped = item_equipped.join(user_, item_equipped.date == user_.date_, how=\"left\")"
   ]
  },
  {
   "cell_type": "code",
   "execution_count": 160,
   "metadata": {},
   "outputs": [
    {
     "name": "stdout",
     "output_type": "stream",
     "text": [
      "root\n",
      " |-- date: string (nullable = true)\n",
      " |-- AccountId: string (nullable = true)\n",
      " |-- ItemId: string (nullable = true)\n",
      " |-- PartId: string (nullable = true)\n",
      " |-- date_: string (nullable = true)\n",
      " |-- au: long (nullable = true)\n",
      "\n"
     ]
    }
   ],
   "source": [
    "item_equipped.printSchema()"
   ]
  },
  {
   "cell_type": "code",
   "execution_count": 184,
   "metadata": {},
   "outputs": [],
   "source": [
    "items = mysql.read_table(spark, \"metainfo\", \"item_meta_sales\").groupBy(\"product_id\", \"product_name\").agg(count(\"*\")).select(\"product_id\", \"product_name\")\n",
    "item_equipped = item_equipped.join(items, item_equipped.ItemId == items.product_id, how=\"left\")"
   ]
  },
  {
   "cell_type": "code",
   "execution_count": null,
   "metadata": {},
   "outputs": [],
   "source": []
  },
  {
   "cell_type": "code",
   "execution_count": 290,
   "metadata": {},
   "outputs": [],
   "source": [
    "wsus6_user = item_equipped.where(col(\"ItemId\") == \"itemdesc.12012001\").groupBy(\"AccountId\").agg(min(col(\"date\")).alias(\"min_date\")).select(col(\"AccountId\").alias(\"account_id\"), col(\"min_date\"))\n",
    "wsus8_user = item_equipped.where(col(\"ItemId\") == \"itemdesc.12012002\").groupBy(\"AccountId\").agg(min(col(\"date\")).alias(\"min_date\")).select(col(\"AccountId\").alias(\"account_id\"), col(\"min_date\"))\n",
    "wsus10_user = item_equipped.where(col(\"ItemId\") == \"itemdesc.12012003\").groupBy(\"AccountId\").agg(min(col(\"date\")).alias(\"min_date\")).select(col(\"AccountId\").alias(\"account_id\"), col(\"min_date\"))"
   ]
  },
  {
   "cell_type": "code",
   "execution_count": 186,
   "metadata": {},
   "outputs": [],
   "source": [
    "wsus6_item_equipped = item_equipped.join(wsus6_user, (item_equipped.AccountId == wsus6_user.account_id) & (item_equipped.date >= wsus6_user.min_date))\n",
    "wsus8_item_equipped = item_equipped.join(wsus8_user, (item_equipped.AccountId == wsus8_user.account_id) & (item_equipped.date >= wsus8_user.min_date))\n",
    "wsus10_item_equipped = item_equipped.join(wsus10_user, (item_equipped.AccountId == wsus10_user.account_id) & (item_equipped.date >= wsus10_user.min_date))"
   ]
  },
  {
   "cell_type": "code",
   "execution_count": null,
   "metadata": {},
   "outputs": [],
   "source": []
  },
  {
   "cell_type": "code",
   "execution_count": 158,
   "metadata": {},
   "outputs": [],
   "source": [
    "# wsus6_item_equipped = item_equipped.where(col(\"AccountId\").isin(wsus6_user_list))\n",
    "# wsus8_item_equipped = item_equipped.where((col(\"AccountId\").isin(wsus8_user_list)) & (col(\"date\") >= \"2021-08-11\"))\n",
    "# wsus10_item_equipped = item_equipped.where((col(\"AccountId\").isin(wsus10_user_list)) & (col(\"date\") >= \"2021-10-06\"))"
   ]
  },
  {
   "cell_type": "code",
   "execution_count": 188,
   "metadata": {},
   "outputs": [],
   "source": [
    "# mysql.drop_table(\"labs\", \"wsus6_item_equipped\")\n",
    "# mysql.drop_table(\"labs\", \"wsus8_item_equipped\")\n",
    "# mysql.drop_table(\"labs\", \"wsus10_item_equipped\")"
   ]
  },
  {
   "cell_type": "code",
   "execution_count": 189,
   "metadata": {},
   "outputs": [],
   "source": [
    "mysql.insert_table(wsus6_item_equipped, \"labs\", \"wsus6_item_equipped\")\n",
    "mysql.insert_table(wsus8_item_equipped, \"labs\", \"wsus8_item_equipped\")\n",
    "mysql.insert_table(wsus10_item_equipped, \"labs\", \"wsus10_item_equipped\")"
   ]
  },
  {
   "cell_type": "code",
   "execution_count": null,
   "metadata": {},
   "outputs": [],
   "source": []
  },
  {
   "cell_type": "code",
   "execution_count": 200,
   "metadata": {},
   "outputs": [
    {
     "name": "stdout",
     "output_type": "stream",
     "text": [
      "+----------+----------------------------------------+-----------------+-------------+----------+-------+----------+------------+\n",
      "|date      |AccountId                               |ItemId           |PartId       |date_     |au     |product_id|product_name|\n",
      "+----------+----------------------------------------+-----------------+-------------+----------+-------+----------+------------+\n",
      "|2021-11-04|account.f6230738af894bbb87eba342abaf38a1|itemdesc.12010509|partdesc.m762|2021-11-04|1164014|null      |null        |\n",
      "|2021-11-04|account.c7e928523bb44ccb8c6676281ce1d2a3|itemdesc.12010509|partdesc.m762|2021-11-04|1164014|null      |null        |\n",
      "+----------+----------------------------------------+-----------------+-------------+----------+-------+----------+------------+\n",
      "\n"
     ]
    }
   ],
   "source": [
    "item_equipped.where((col(\"date\") == \"2021-11-04\") & (col(\"ItemId\") == \"itemdesc.12010509\")).show(truncate=False)"
   ]
  },
  {
   "cell_type": "code",
   "execution_count": 191,
   "metadata": {},
   "outputs": [
    {
     "name": "stdout",
     "output_type": "stream",
     "text": [
      "root\n",
      " |-- date: string (nullable = true)\n",
      " |-- AccountId: string (nullable = true)\n",
      " |-- ItemId: string (nullable = true)\n",
      " |-- PartId: string (nullable = true)\n",
      " |-- date_: string (nullable = true)\n",
      " |-- au: long (nullable = true)\n",
      " |-- product_id: string (nullable = true)\n",
      " |-- product_name: string (nullable = true)\n",
      " |-- account_id: string (nullable = true)\n",
      " |-- min_date: string (nullable = true)\n",
      "\n"
     ]
    }
   ],
   "source": [
    "wsus6_item_equipped.printSchema()"
   ]
  },
  {
   "cell_type": "code",
   "execution_count": 194,
   "metadata": {},
   "outputs": [],
   "source": [
    "wsus6_tmp = wsus6_item_equipped.groupBy(\"date\", \"ItemId\").agg(countDistinct(\"AccountId\").alias(\"user_cnt\"), avg(\"au\").alias(\"au\")).withColumn(\"eur\", col(\"user_cnt\")/col(\"au\")).toPandas()\n",
    "wsus8_tmp = wsus8_item_equipped.groupBy(\"date\", f\"ItemId\").agg(countDistinct(\"AccountId\").alias(\"user_cnt\"), avg(\"au\").alias(\"au\")).withColumn(\"eur\", col(\"user_cnt\")/col(\"au\")).toPandas()\n",
    "wsus10_tmp = wsus10_item_equipped.groupBy(\"date\", \"ItemId\").agg(countDistinct(\"AccountId\").alias(\"user_cnt\"), avg(\"au\").alias(\"au\")).withColumn(\"eur\", col(\"user_cnt\")/col(\"au\")).toPandas()"
   ]
  },
  {
   "cell_type": "code",
   "execution_count": 312,
   "metadata": {},
   "outputs": [],
   "source": [
    "items = mysql.read_table(spark, \"metainfo\", \"meta_vc_sales_items\").groupBy(\"product_id\", \"product_name\").agg(count(\"*\")).select(\"product_id\", \"product_name\").toPandas()"
   ]
  },
  {
   "cell_type": "code",
   "execution_count": 323,
   "metadata": {},
   "outputs": [],
   "source": [
    "pd.merge(wsus6_tmp, items, left_on=\"ItemId\", right_on=\"product_id\", how=\"left\").to_csv(\"./data/wsus6_tmp.csv\", index=False)\n",
    "pd.merge(wsus8_tmp, items, left_on=\"ItemId\", right_on=\"product_id\", how=\"left\").to_csv(\"./data/wsus8_tmp.csv\", index=False)\n",
    "pd.merge(wsus10_tmp, items, left_on=\"ItemId\", right_on=\"product_id\", how=\"left\").to_csv(\"./data/wsus10_tmp.csv\", index=False)"
   ]
  },
  {
   "cell_type": "code",
   "execution_count": 76,
   "metadata": {},
   "outputs": [],
   "source": [
    "wsus_equipped.to_csv(\"./data/wsus_equipped.csv\", index=False)"
   ]
  },
  {
   "cell_type": "code",
   "execution_count": 81,
   "metadata": {},
   "outputs": [
    {
     "data": {
      "text/plain": [
       "date            object\n",
       "ItemId          object\n",
       "equipped_cnt     int64\n",
       "dtype: object"
      ]
     },
     "execution_count": 81,
     "metadata": {},
     "output_type": "execute_result"
    }
   ],
   "source": [
    "wsus_equipped.dtypes"
   ]
  },
  {
   "cell_type": "code",
   "execution_count": 87,
   "metadata": {},
   "outputs": [],
   "source": [
    "user.date = user.date.astype(str)\n",
    "wsus_equipped.date = wsus_equipped.date.astype(str)"
   ]
  },
  {
   "cell_type": "code",
   "execution_count": 90,
   "metadata": {},
   "outputs": [],
   "source": [
    "pd.merge(wsus_equipped, user, on=\"date\", how=\"left\").to_csv(\"./data/wsus_rate.csv\", index=False)"
   ]
  },
  {
   "cell_type": "code",
   "execution_count": null,
   "metadata": {},
   "outputs": [],
   "source": []
  },
  {
   "cell_type": "code",
   "execution_count": 98,
   "metadata": {},
   "outputs": [],
   "source": [
    "item_equipped = mysql.read_table(spark, \"labs\", \"daily_item_equipped\")"
   ]
  },
  {
   "cell_type": "code",
   "execution_count": 99,
   "metadata": {},
   "outputs": [
    {
     "name": "stdout",
     "output_type": "stream",
     "text": [
      "root\n",
      " |-- date: string (nullable = true)\n",
      " |-- AccountId: string (nullable = true)\n",
      " |-- ItemId: string (nullable = true)\n",
      " |-- PartId: string (nullable = true)\n",
      "\n"
     ]
    }
   ],
   "source": [
    "item_equipped.printSchema()"
   ]
  },
  {
   "cell_type": "code",
   "execution_count": 128,
   "metadata": {},
   "outputs": [],
   "source": [
    "# mysql.drop_table(\"labs\", \"daily_wsus_item_equipped\")"
   ]
  },
  {
   "cell_type": "markdown",
   "metadata": {},
   "source": [
    "당일 성장형 무기를 사용한 사람들의 사용 무기"
   ]
  },
  {
   "cell_type": "code",
   "execution_count": 129,
   "metadata": {},
   "outputs": [],
   "source": [
    "wsus_item_equipped = item_equipped.where(col(\"ItemId\").isin(wsus_id_list)).select(\"date\", \"AccountId\").distinct()\n",
    "mysql.insert_table(wsus_item_equipped, \"labs\", \"daily_wsus_item_equipped_user\")"
   ]
  },
  {
   "cell_type": "code",
   "execution_count": 135,
   "metadata": {},
   "outputs": [],
   "source": [
    "wsus_item_equipped2 = wsus_item_equipped.select(col(\"date\").alias(\"date2\"), col(\"AccountId\").alias(\"AccountId2\"))"
   ]
  },
  {
   "cell_type": "code",
   "execution_count": 136,
   "metadata": {},
   "outputs": [],
   "source": [
    "wsus_df = item_equipped.join(wsus_item_equipped2, (item_equipped.date == wsus_item_equipped2.date2) & (item_equipped.AccountId == wsus_item_equipped2.AccountId2))"
   ]
  },
  {
   "cell_type": "code",
   "execution_count": 137,
   "metadata": {},
   "outputs": [
    {
     "name": "stdout",
     "output_type": "stream",
     "text": [
      "root\n",
      " |-- date: string (nullable = true)\n",
      " |-- AccountId: string (nullable = true)\n",
      " |-- ItemId: string (nullable = true)\n",
      " |-- PartId: string (nullable = true)\n",
      " |-- date2: string (nullable = true)\n",
      " |-- AccountId2: string (nullable = true)\n",
      "\n"
     ]
    }
   ],
   "source": [
    "wsus_df.printSchema()"
   ]
  },
  {
   "cell_type": "code",
   "execution_count": 138,
   "metadata": {},
   "outputs": [],
   "source": [
    "wsus_pd = wsus_df.toPandas()"
   ]
  },
  {
   "cell_type": "code",
   "execution_count": 139,
   "metadata": {},
   "outputs": [],
   "source": [
    "wsus_pd.to_csv(\"./data/wsus_pd.csv\", index=False)"
   ]
  },
  {
   "cell_type": "code",
   "execution_count": null,
   "metadata": {},
   "outputs": [],
   "source": []
  },
  {
   "cell_type": "code",
   "execution_count": 101,
   "metadata": {},
   "outputs": [],
   "source": [
    "equipped = item_equipped.groupby(\"date\", \"ItemId\").agg(countDistinct(\"AccountId\").alias(\"user_cnt\")).toPandas()"
   ]
  },
  {
   "cell_type": "code",
   "execution_count": 103,
   "metadata": {},
   "outputs": [],
   "source": [
    "equipped.to_csv(\"./data/equipped.csv\", index=False)"
   ]
  },
  {
   "cell_type": "code",
   "execution_count": null,
   "metadata": {},
   "outputs": [],
   "source": []
  },
  {
   "cell_type": "code",
   "execution_count": 107,
   "metadata": {},
   "outputs": [],
   "source": [
    "pd.merge(equipped, user, on=\"date\", how=\"left\").to_csv(\"./data/equipped_rate.csv\", index=False)"
   ]
  },
  {
   "cell_type": "code",
   "execution_count": null,
   "metadata": {},
   "outputs": [],
   "source": []
  },
  {
   "cell_type": "code",
   "execution_count": 111,
   "metadata": {},
   "outputs": [],
   "source": [
    "items = items.toPandas()"
   ]
  },
  {
   "cell_type": "code",
   "execution_count": 113,
   "metadata": {},
   "outputs": [],
   "source": [
    "tmp = pd.merge(equipped, user, on=\"date\", how=\"left\")\n",
    "equipped = pd.merge(tmp, items, left_on=\"ItemId\", right_on=\"product_id\", how=\"left\")\n",
    "equipped.to_csv(\"./data/equipped_rate_with_name.csv\", index=False)"
   ]
  },
  {
   "cell_type": "code",
   "execution_count": 116,
   "metadata": {},
   "outputs": [
    {
     "data": {
      "text/html": [
       "<div>\n",
       "<style scoped>\n",
       "    .dataframe tbody tr th:only-of-type {\n",
       "        vertical-align: middle;\n",
       "    }\n",
       "\n",
       "    .dataframe tbody tr th {\n",
       "        vertical-align: top;\n",
       "    }\n",
       "\n",
       "    .dataframe thead th {\n",
       "        text-align: right;\n",
       "    }\n",
       "</style>\n",
       "<table border=\"1\" class=\"dataframe\">\n",
       "  <thead>\n",
       "    <tr style=\"text-align: right;\">\n",
       "      <th></th>\n",
       "      <th>date</th>\n",
       "      <th>ItemId</th>\n",
       "      <th>user_cnt</th>\n",
       "      <th>au</th>\n",
       "      <th>product_id</th>\n",
       "      <th>product_name</th>\n",
       "    </tr>\n",
       "  </thead>\n",
       "  <tbody>\n",
       "    <tr>\n",
       "      <th>64287</th>\n",
       "      <td>2021-09-08</td>\n",
       "      <td>itemdesc.12010481</td>\n",
       "      <td>126589</td>\n",
       "      <td>1219804</td>\n",
       "      <td>NaN</td>\n",
       "      <td>NaN</td>\n",
       "    </tr>\n",
       "    <tr>\n",
       "      <th>42552</th>\n",
       "      <td>2021-09-08</td>\n",
       "      <td>itemdesc.12010471</td>\n",
       "      <td>103857</td>\n",
       "      <td>1219804</td>\n",
       "      <td>NaN</td>\n",
       "      <td>NaN</td>\n",
       "    </tr>\n",
       "    <tr>\n",
       "      <th>16968</th>\n",
       "      <td>2021-07-07</td>\n",
       "      <td>itemdesc.12010447</td>\n",
       "      <td>84282</td>\n",
       "      <td>1372117</td>\n",
       "      <td>NaN</td>\n",
       "      <td>NaN</td>\n",
       "    </tr>\n",
       "    <tr>\n",
       "      <th>6217</th>\n",
       "      <td>2021-11-12</td>\n",
       "      <td>itemdesc.12010509</td>\n",
       "      <td>67652</td>\n",
       "      <td>1243962</td>\n",
       "      <td>NaN</td>\n",
       "      <td>NaN</td>\n",
       "    </tr>\n",
       "    <tr>\n",
       "      <th>84748</th>\n",
       "      <td>2021-11-12</td>\n",
       "      <td>itemdesc.12010508</td>\n",
       "      <td>56913</td>\n",
       "      <td>1243962</td>\n",
       "      <td>NaN</td>\n",
       "      <td>NaN</td>\n",
       "    </tr>\n",
       "    <tr>\n",
       "      <th>41196</th>\n",
       "      <td>2021-09-17</td>\n",
       "      <td>itemdesc.12010475</td>\n",
       "      <td>44289</td>\n",
       "      <td>1447139</td>\n",
       "      <td>itemdesc.12010475</td>\n",
       "      <td>White Rabbit - Pan</td>\n",
       "    </tr>\n",
       "    <tr>\n",
       "      <th>80337</th>\n",
       "      <td>2021-06-23</td>\n",
       "      <td>itemdesc.12010439</td>\n",
       "      <td>42016</td>\n",
       "      <td>1432555</td>\n",
       "      <td>itemdesc.12010439</td>\n",
       "      <td>CNH's SLR</td>\n",
       "    </tr>\n",
       "    <tr>\n",
       "      <th>37538</th>\n",
       "      <td>2021-07-08</td>\n",
       "      <td>itemdesc.12010447</td>\n",
       "      <td>40488</td>\n",
       "      <td>1652825</td>\n",
       "      <td>NaN</td>\n",
       "      <td>NaN</td>\n",
       "    </tr>\n",
       "    <tr>\n",
       "      <th>38424</th>\n",
       "      <td>2021-07-09</td>\n",
       "      <td>itemdesc.12010442</td>\n",
       "      <td>33820</td>\n",
       "      <td>1688244</td>\n",
       "      <td>NaN</td>\n",
       "      <td>NaN</td>\n",
       "    </tr>\n",
       "    <tr>\n",
       "      <th>75837</th>\n",
       "      <td>2021-09-17</td>\n",
       "      <td>itemdesc.12010477</td>\n",
       "      <td>33383</td>\n",
       "      <td>1447139</td>\n",
       "      <td>itemdesc.12010477</td>\n",
       "      <td>Bunny Aeronautics - M416</td>\n",
       "    </tr>\n",
       "  </tbody>\n",
       "</table>\n",
       "</div>"
      ],
      "text/plain": [
       "             date             ItemId  user_cnt       au         product_id  \\\n",
       "64287  2021-09-08  itemdesc.12010481    126589  1219804                NaN   \n",
       "42552  2021-09-08  itemdesc.12010471    103857  1219804                NaN   \n",
       "16968  2021-07-07  itemdesc.12010447     84282  1372117                NaN   \n",
       "6217   2021-11-12  itemdesc.12010509     67652  1243962                NaN   \n",
       "84748  2021-11-12  itemdesc.12010508     56913  1243962                NaN   \n",
       "41196  2021-09-17  itemdesc.12010475     44289  1447139  itemdesc.12010475   \n",
       "80337  2021-06-23  itemdesc.12010439     42016  1432555  itemdesc.12010439   \n",
       "37538  2021-07-08  itemdesc.12010447     40488  1652825                NaN   \n",
       "38424  2021-07-09  itemdesc.12010442     33820  1688244                NaN   \n",
       "75837  2021-09-17  itemdesc.12010477     33383  1447139  itemdesc.12010477   \n",
       "\n",
       "                   product_name  \n",
       "64287                       NaN  \n",
       "42552                       NaN  \n",
       "16968                       NaN  \n",
       "6217                        NaN  \n",
       "84748                       NaN  \n",
       "41196        White Rabbit - Pan  \n",
       "80337                 CNH's SLR  \n",
       "37538                       NaN  \n",
       "38424                       NaN  \n",
       "75837  Bunny Aeronautics - M416  "
      ]
     },
     "execution_count": 116,
     "metadata": {},
     "output_type": "execute_result"
    }
   ],
   "source": [
    "equipped.sort_values(\"user_cnt\", ascending=False).head(10)"
   ]
  },
  {
   "cell_type": "code",
   "execution_count": null,
   "metadata": {},
   "outputs": [],
   "source": []
  },
  {
   "cell_type": "markdown",
   "metadata": {},
   "source": [
    "- 12010468: PCS5 Beryl\n",
    "- 12010467: PCS5 SLR\n"
   ]
  },
  {
   "cell_type": "code",
   "execution_count": 291,
   "metadata": {},
   "outputs": [],
   "source": [
    "au = load_data_mart(start_date=\"2021-09-08\", end_date=\"2021-09-21\", device=\"pc\", table_name=\"user_master\").where(col(\"lastlogindate\") >= col(\"date\")).select(\"date\", \"accountid\")"
   ]
  },
  {
   "cell_type": "code",
   "execution_count": 292,
   "metadata": {},
   "outputs": [],
   "source": [
    "\n",
    "wsus6_active = au.join(wsus6_user, (au.date >= wsus6_user.min_date) & (au.accountid == wsus6_user.account_id), how=\"left\")"
   ]
  },
  {
   "cell_type": "code",
   "execution_count": 293,
   "metadata": {},
   "outputs": [],
   "source": [
    "wsus8_active = au.join(wsus8_user, (au.date >= wsus8_user.min_date) & (au.accountid == wsus8_user.account_id), how=\"left\")"
   ]
  },
  {
   "cell_type": "code",
   "execution_count": 243,
   "metadata": {},
   "outputs": [
    {
     "name": "stdout",
     "output_type": "stream",
     "text": [
      "root\n",
      " |-- date: string (nullable = true)\n",
      " |-- AccountId: string (nullable = true)\n",
      " |-- ItemId: string (nullable = true)\n",
      " |-- PartId: string (nullable = true)\n",
      " |-- date_: string (nullable = true)\n",
      " |-- au: long (nullable = true)\n",
      " |-- product_id: string (nullable = true)\n",
      " |-- product_name: string (nullable = true)\n",
      "\n"
     ]
    }
   ],
   "source": [
    "item_equipped.printSchema()"
   ]
  },
  {
   "cell_type": "code",
   "execution_count": 233,
   "metadata": {},
   "outputs": [
    {
     "name": "stdout",
     "output_type": "stream",
     "text": [
      "root\n",
      " |-- date: date (nullable = true)\n",
      " |-- accountid: string (nullable = true)\n",
      " |-- account_id: string (nullable = true)\n",
      " |-- min_date: string (nullable = true)\n",
      "\n"
     ]
    }
   ],
   "source": [
    "wsus6_active.printSchema()\n",
    "# account_id가 null이면 성장형 무기 사용 x"
   ]
  },
  {
   "cell_type": "code",
   "execution_count": 247,
   "metadata": {},
   "outputs": [],
   "source": [
    "wsus6_active_cnt = wsus6_active.withColumn(\"is_wsus\", when(col(\"account_id\").isNull(), 0).otherwise(1)).groupBy(\"date\", \"is_wsus\").agg(count(\"*\").alias(\"user_cnt\")).toPandas()"
   ]
  },
  {
   "cell_type": "code",
   "execution_count": 251,
   "metadata": {},
   "outputs": [],
   "source": [
    "wsus8_active_cnt = wsus8_active.withColumn(\"is_wsus\", when(col(\"account_id\").isNull(), 0).otherwise(1)).groupBy(\"date\", \"is_wsus\").agg(count(\"*\").alias(\"user_cnt\")).toPandas()"
   ]
  },
  {
   "cell_type": "code",
   "execution_count": 252,
   "metadata": {},
   "outputs": [],
   "source": [
    "# wsus6_active_cnt.to_csv(\"./data/wsus6_active_cnt.csv\", index=False)\n",
    "# wsus8_active_cnt.to_csv(\"./data/wsus8_active_cnt.csv\", index=False)"
   ]
  },
  {
   "cell_type": "code",
   "execution_count": 302,
   "metadata": {},
   "outputs": [],
   "source": [
    "a = wsus6_active.select(col(\"date\").alias(\"date_a\"), col(\"accountid\").alias(\"AccountId_active\"), col(\"account_id\"))\n",
    "b = item_equipped.where((col(\"date\") >= \"2021-09-08\") & (col(\"date\") <= \"2021-09-21\") & (col(\"ItemId\").isin([\"itemdesc.12010467\", \"itemdesc.12010468\"]))).select(\"date\", \"AccountId\", \"ItemId\")\n",
    "wsus6_active_equip = b.join(a, (b.AccountId == a.AccountId_active) & (b.date == a.date_a), how=\"right\")"
   ]
  },
  {
   "cell_type": "code",
   "execution_count": 305,
   "metadata": {},
   "outputs": [],
   "source": [
    "a = wsus8_active.select(col(\"date\").alias(\"date_a\"), col(\"accountid\").alias(\"AccountId_active\"), col(\"account_id\"))\n",
    "b = item_equipped.where((col(\"date\") >= \"2021-09-08\") & (col(\"date\") <= \"2021-09-21\") & (col(\"ItemId\").isin([\"itemdesc.12010467\", \"itemdesc.12010468\"]))).select(\"date\", \"AccountId\", \"ItemId\")\n",
    "wsus8_active_equip = b.join(a, (b.AccountId == a.AccountId_active) & (b.date == a.date_a), how=\"right\")"
   ]
  },
  {
   "cell_type": "code",
   "execution_count": 303,
   "metadata": {},
   "outputs": [],
   "source": [
    "pcs_wsus6 = wsus6_active_equip.withColumn(\"group\", when((col(\"account_id\").isNull()) & (col(\"AccountId\").isNotNull()), 'no_wsus').when((col(\"account_id\").isNotNull()) & (col(\"AccountId\").isNotNull()), 'wsus').otherwise(\"none\")).groupBy(\"date\", \"ItemId\", \"group\").agg(count(\"*\").alias(\"user_cnt\")).toPandas()\n"
   ]
  },
  {
   "cell_type": "code",
   "execution_count": 306,
   "metadata": {},
   "outputs": [],
   "source": [
    "pcs_wsus8 = wsus8_active_equip.withColumn(\"group\", when((col(\"account_id\").isNull()) & (col(\"AccountId\").isNotNull()), 'no_wsus').when((col(\"account_id\").isNotNull()) & (col(\"AccountId\").isNotNull()), 'wsus').otherwise(\"none\")).groupBy(\"date\", \"ItemId\", \"group\").agg(count(\"*\").alias(\"user_cnt\")).toPandas()\n"
   ]
  },
  {
   "cell_type": "code",
   "execution_count": 308,
   "metadata": {},
   "outputs": [],
   "source": [
    "pcs_wsus6.to_csv(\"./data/pcs_wsus6.csv\", index=False)\n",
    "pcs_wsus8.to_csv(\"./data/pcs_wsus8.csv\", index=False)"
   ]
  },
  {
   "cell_type": "code",
   "execution_count": 333,
   "metadata": {},
   "outputs": [
    {
     "data": {
      "text/html": [
       "<div>\n",
       "<style scoped>\n",
       "    .dataframe tbody tr th:only-of-type {\n",
       "        vertical-align: middle;\n",
       "    }\n",
       "\n",
       "    .dataframe tbody tr th {\n",
       "        vertical-align: top;\n",
       "    }\n",
       "\n",
       "    .dataframe thead th {\n",
       "        text-align: right;\n",
       "    }\n",
       "</style>\n",
       "<table border=\"1\" class=\"dataframe\">\n",
       "  <thead>\n",
       "    <tr style=\"text-align: right;\">\n",
       "      <th></th>\n",
       "      <th>date</th>\n",
       "      <th>ItemId</th>\n",
       "      <th>group</th>\n",
       "      <th>user_cnt</th>\n",
       "    </tr>\n",
       "  </thead>\n",
       "  <tbody>\n",
       "    <tr>\n",
       "      <th>0</th>\n",
       "      <td>2021-09-19</td>\n",
       "      <td>itemdesc.12010468</td>\n",
       "      <td>wsus</td>\n",
       "      <td>612</td>\n",
       "    </tr>\n",
       "    <tr>\n",
       "      <th>1</th>\n",
       "      <td>2021-09-08</td>\n",
       "      <td>itemdesc.12010467</td>\n",
       "      <td>no_wsus</td>\n",
       "      <td>21134</td>\n",
       "    </tr>\n",
       "    <tr>\n",
       "      <th>2</th>\n",
       "      <td>2021-09-20</td>\n",
       "      <td>itemdesc.12010467</td>\n",
       "      <td>wsus</td>\n",
       "      <td>391</td>\n",
       "    </tr>\n",
       "    <tr>\n",
       "      <th>3</th>\n",
       "      <td>2021-09-15</td>\n",
       "      <td>itemdesc.12010468</td>\n",
       "      <td>no_wsus</td>\n",
       "      <td>3559</td>\n",
       "    </tr>\n",
       "    <tr>\n",
       "      <th>4</th>\n",
       "      <td>2021-09-15</td>\n",
       "      <td>itemdesc.12010468</td>\n",
       "      <td>wsus</td>\n",
       "      <td>664</td>\n",
       "    </tr>\n",
       "  </tbody>\n",
       "</table>\n",
       "</div>"
      ],
      "text/plain": [
       "         date             ItemId    group  user_cnt\n",
       "0  2021-09-19  itemdesc.12010468     wsus       612\n",
       "1  2021-09-08  itemdesc.12010467  no_wsus     21134\n",
       "2  2021-09-20  itemdesc.12010467     wsus       391\n",
       "3  2021-09-15  itemdesc.12010468  no_wsus      3559\n",
       "4  2021-09-15  itemdesc.12010468     wsus       664"
      ]
     },
     "execution_count": 333,
     "metadata": {},
     "output_type": "execute_result"
    }
   ],
   "source": [
    "pcs_wsus6.head()"
   ]
  },
  {
   "cell_type": "code",
   "execution_count": 334,
   "metadata": {},
   "outputs": [],
   "source": [
    "wsus6_active_cnt.loc[wsus6_active_cnt[wsus6_active_cnt.is_wsus == 1].index, \"is_wsus\"] = \"wsus\""
   ]
  },
  {
   "cell_type": "code",
   "execution_count": 336,
   "metadata": {},
   "outputs": [],
   "source": [
    "wsus6_active_cnt.loc[wsus6_active_cnt[wsus6_active_cnt.is_wsus == 0].index, \"is_wsus\"] = \"no_wsus\""
   ]
  },
  {
   "cell_type": "code",
   "execution_count": 348,
   "metadata": {},
   "outputs": [],
   "source": [
    "wsus8_active_cnt.loc[wsus8_active_cnt[wsus8_active_cnt.is_wsus == 1].index, \"is_wsus\"] = \"wsus\"\n",
    "wsus8_active_cnt.loc[wsus8_active_cnt[wsus8_active_cnt.is_wsus == 0].index, \"is_wsus\"] = \"no_wsus\""
   ]
  },
  {
   "cell_type": "code",
   "execution_count": 345,
   "metadata": {},
   "outputs": [],
   "source": [
    "# wsus6_active_cnt.date = wsus6_active_cnt.date.astype(str)\n",
    "# pcs_wsus6.date = pcs_wsus6.date.astype(str)\n",
    "# wsus8_active_cnt.date = wsus8_active_cnt.date.astype(str)\n",
    "# pcs_wsus8.date = pcs_wsus8.date.astype(str)"
   ]
  },
  {
   "cell_type": "code",
   "execution_count": 350,
   "metadata": {},
   "outputs": [],
   "source": [
    "pcs_wsus6_df = pd.merge(pcs_wsus6, wsus6_active_cnt, left_on=[\"date\", \"group\"], right_on=[\"date\", \"is_wsus\"])\n",
    "pcs_wsus8_df = pd.merge(pcs_wsus8, wsus8_active_cnt, left_on=[\"date\", \"group\"], right_on=[\"date\", \"is_wsus\"])"
   ]
  },
  {
   "cell_type": "code",
   "execution_count": 352,
   "metadata": {},
   "outputs": [],
   "source": [
    "pcs_wsus6_df[\"rate\"] = pcs_wsus6_df.user_cnt_x/pcs_wsus6_df.user_cnt_y\n",
    "pcs_wsus8_df[\"rate\"] = pcs_wsus8_df.user_cnt_x/pcs_wsus8_df.user_cnt_y"
   ]
  },
  {
   "cell_type": "code",
   "execution_count": 355,
   "metadata": {},
   "outputs": [],
   "source": [
    "pd.merge(pcs_wsus6_df, items, left_on=\"ItemId\", right_on=\"product_id\").to_csv(\"./data/pcs_wsus6_df.csv\", index=False)\n",
    "pd.merge(pcs_wsus8_df, items, left_on=\"ItemId\", right_on=\"product_id\").to_csv(\"./data/pcs_wsus8_df.csv\", index=False)"
   ]
  },
  {
   "cell_type": "code",
   "execution_count": null,
   "metadata": {},
   "outputs": [],
   "source": []
  },
  {
   "cell_type": "code",
   "execution_count": 356,
   "metadata": {},
   "outputs": [],
   "source": [
    "pcs_wsus6_df = pd.read_csv(\"./data/pcs_wsus6_df.csv\")\n",
    "pcs_wsus8_df = pd.read_csv(\"./data/pcs_wsus8_df.csv\")"
   ]
  },
  {
   "cell_type": "code",
   "execution_count": 363,
   "metadata": {},
   "outputs": [
    {
     "data": {
      "text/html": [
       "<div>\n",
       "<style scoped>\n",
       "    .dataframe tbody tr th:only-of-type {\n",
       "        vertical-align: middle;\n",
       "    }\n",
       "\n",
       "    .dataframe tbody tr th {\n",
       "        vertical-align: top;\n",
       "    }\n",
       "\n",
       "    .dataframe thead th {\n",
       "        text-align: right;\n",
       "    }\n",
       "</style>\n",
       "<table border=\"1\" class=\"dataframe\">\n",
       "  <thead>\n",
       "    <tr style=\"text-align: right;\">\n",
       "      <th></th>\n",
       "      <th>group</th>\n",
       "      <th>product_name</th>\n",
       "      <th>rate</th>\n",
       "    </tr>\n",
       "  </thead>\n",
       "  <tbody>\n",
       "    <tr>\n",
       "      <th>0</th>\n",
       "      <td>no_wsus</td>\n",
       "      <td>PCS5 Shrapnel Scrawl - Beryl M762</td>\n",
       "      <td>0.004676</td>\n",
       "    </tr>\n",
       "    <tr>\n",
       "      <th>1</th>\n",
       "      <td>no_wsus</td>\n",
       "      <td>PCS5 Shrapnel Scrawl - SLR</td>\n",
       "      <td>0.003731</td>\n",
       "    </tr>\n",
       "    <tr>\n",
       "      <th>2</th>\n",
       "      <td>wsus</td>\n",
       "      <td>PCS5 Shrapnel Scrawl - Beryl M762</td>\n",
       "      <td>0.014535</td>\n",
       "    </tr>\n",
       "    <tr>\n",
       "      <th>3</th>\n",
       "      <td>wsus</td>\n",
       "      <td>PCS5 Shrapnel Scrawl - SLR</td>\n",
       "      <td>0.014127</td>\n",
       "    </tr>\n",
       "  </tbody>\n",
       "</table>\n",
       "</div>"
      ],
      "text/plain": [
       "     group                       product_name      rate\n",
       "0  no_wsus  PCS5 Shrapnel Scrawl - Beryl M762  0.004676\n",
       "1  no_wsus         PCS5 Shrapnel Scrawl - SLR  0.003731\n",
       "2     wsus  PCS5 Shrapnel Scrawl - Beryl M762  0.014535\n",
       "3     wsus         PCS5 Shrapnel Scrawl - SLR  0.014127"
      ]
     },
     "execution_count": 363,
     "metadata": {},
     "output_type": "execute_result"
    }
   ],
   "source": [
    "pcs_wsus6_df.groupby([\"group\", \"product_name\"], as_index=False)[\"rate\"].mean().sort_values(\"group\")"
   ]
  },
  {
   "cell_type": "code",
   "execution_count": 364,
   "metadata": {},
   "outputs": [
    {
     "data": {
      "text/html": [
       "<div>\n",
       "<style scoped>\n",
       "    .dataframe tbody tr th:only-of-type {\n",
       "        vertical-align: middle;\n",
       "    }\n",
       "\n",
       "    .dataframe tbody tr th {\n",
       "        vertical-align: top;\n",
       "    }\n",
       "\n",
       "    .dataframe thead th {\n",
       "        text-align: right;\n",
       "    }\n",
       "</style>\n",
       "<table border=\"1\" class=\"dataframe\">\n",
       "  <thead>\n",
       "    <tr style=\"text-align: right;\">\n",
       "      <th></th>\n",
       "      <th>group</th>\n",
       "      <th>product_name</th>\n",
       "      <th>rate</th>\n",
       "    </tr>\n",
       "  </thead>\n",
       "  <tbody>\n",
       "    <tr>\n",
       "      <th>0</th>\n",
       "      <td>no_wsus</td>\n",
       "      <td>PCS5 Shrapnel Scrawl - Beryl M762</td>\n",
       "      <td>0.004826</td>\n",
       "    </tr>\n",
       "    <tr>\n",
       "      <th>1</th>\n",
       "      <td>no_wsus</td>\n",
       "      <td>PCS5 Shrapnel Scrawl - SLR</td>\n",
       "      <td>0.004051</td>\n",
       "    </tr>\n",
       "    <tr>\n",
       "      <th>2</th>\n",
       "      <td>wsus</td>\n",
       "      <td>PCS5 Shrapnel Scrawl - Beryl M762</td>\n",
       "      <td>0.015075</td>\n",
       "    </tr>\n",
       "    <tr>\n",
       "      <th>3</th>\n",
       "      <td>wsus</td>\n",
       "      <td>PCS5 Shrapnel Scrawl - SLR</td>\n",
       "      <td>0.010951</td>\n",
       "    </tr>\n",
       "  </tbody>\n",
       "</table>\n",
       "</div>"
      ],
      "text/plain": [
       "     group                       product_name      rate\n",
       "0  no_wsus  PCS5 Shrapnel Scrawl - Beryl M762  0.004826\n",
       "1  no_wsus         PCS5 Shrapnel Scrawl - SLR  0.004051\n",
       "2     wsus  PCS5 Shrapnel Scrawl - Beryl M762  0.015075\n",
       "3     wsus         PCS5 Shrapnel Scrawl - SLR  0.010951"
      ]
     },
     "execution_count": 364,
     "metadata": {},
     "output_type": "execute_result"
    }
   ],
   "source": [
    "pcs_wsus8_df.groupby([\"group\", \"product_name\"], as_index=False)[\"rate\"].mean().sort_values(\"group\")"
   ]
  },
  {
   "cell_type": "code",
   "execution_count": null,
   "metadata": {},
   "outputs": [],
   "source": []
  }
 ],
 "metadata": {
  "kernelspec": {
   "display_name": "Python 3",
   "language": "python",
   "name": "python3"
  },
  "language_info": {
   "codemirror_mode": {
    "name": "ipython",
    "version": 3
   },
   "file_extension": ".py",
   "mimetype": "text/x-python",
   "name": "python",
   "nbconvert_exporter": "python",
   "pygments_lexer": "ipython3",
   "version": "3.6.7"
  }
 },
 "nbformat": 4,
 "nbformat_minor": 4
}
